{
 "cells": [
  {
   "cell_type": "code",
   "execution_count": 13,
   "metadata": {
    "collapsed": true
   },
   "outputs": [],
   "source": [
    "import pandas as pd\n",
    "from sklearn.metrics import zero_one_loss, accuracy_score\n",
    "from sklearn.model_selection import train_test_split, TimeSeriesSplit\n",
    "\n",
    "idle_time_data = pd.read_csv('../data/final_df_18_21_class.csv')"
   ]
  },
  {
   "cell_type": "code",
   "execution_count": 14,
   "outputs": [
    {
     "data": {
      "text/plain": "         bike_id        lat        lng    dt_start      dt_end  \\\n0           3694  51.323619  12.335887  1514764029  1514764799   \n1           2508  51.323619  12.335887  1514764035  1514764799   \n2          41851  51.332415  12.395158  1514764638  1514764799   \n3           3694  51.323619  12.335887  1514764800  1514814103   \n4           2508  51.323619  12.335887  1514764800  1514851199   \n...          ...        ...        ...         ...         ...   \n2375898    72058  51.317569  12.382730  1640897593  1640904368   \n2375899    71949  51.334711  12.356763  1640897835  1640899343   \n2375900    97785  51.367276  12.369792  1640898086  1640900985   \n2375901    41738  51.366942  12.370322  1640900918  1640903516   \n2375902    72028  51.332844  12.404319  1640903200  1640905163   \n\n                  hex_id  in_zone                   zone_name  \\\n0        881f1a8d91fffff        1  Pinke Zone Leipzig West 1€   \n1        881f1a8d91fffff        1  Pinke Zone Leipzig West 1€   \n2        881f1a1659fffff        1   Pinke Zone Leipzig Ost 1€   \n3        881f1a8d91fffff        1  Pinke Zone Leipzig West 1€   \n4        881f1a8d91fffff        1  Pinke Zone Leipzig West 1€   \n...                  ...      ...                         ...   \n2375898  881f1a1609fffff        1   Blaue Zone Leipzig Ost 0€   \n2375899  881f1a1649fffff        1   Pinke Zone Leipzig Ost 1€   \n2375900  881f1a8c8bfffff        1   Blaue Zone Leipzig Ost 0€   \n2375901  881f1a8c8bfffff        1   Pinke Zone Leipzig Ost 1€   \n2375902  881f1a165bfffff        1   Blaue Zone Leipzig Ost 0€   \n\n         end_station_number   temp  ...  month  day  start_min  over_night  \\\n0                      4094  10.80  ...     12    6       1427           1   \n1                      4094  10.80  ...     12    6       1427           1   \n2                         0  10.80  ...     12    6       1437           1   \n3                      4094  10.86  ...      1    0          0           0   \n4                      4094  10.86  ...      1    0          0           1   \n...                     ...    ...  ...    ...  ...        ...         ...   \n2375898                   0  13.19  ...     12    3       1253           0   \n2375899                   0  13.19  ...     12    3       1257           0   \n2375900                   0  13.05  ...     12    3       1261           0   \n2375901                   0  13.05  ...     12    3       1309           0   \n2375902                   0  13.11  ...     12    3       1347           0   \n\n         idle_time_next_day  idle_time  idle_time_class  on_station  hex_enc  \\\n0                       821         12                1           1      320   \n1                      1439         12                1           1      320   \n2                      1439          2                1           0      133   \n3                         0        821                4           1      320   \n4                       878       1439                4           1      320   \n...                     ...        ...              ...         ...      ...   \n2375898                   0        112                2           0       98   \n2375899                   0         25                1           0      126   \n2375900                   0         48                1           0      261   \n2375901                   0         43                1           0      261   \n2375902                   0         32                1           0      134   \n\n         zone_name_enc  \n0                    4  \n1                    4  \n2                    3  \n3                    4  \n4                    4  \n...                ...  \n2375898              1  \n2375899              3  \n2375900              1  \n2375901              3  \n2375902              1  \n\n[2375903 rows x 25 columns]",
      "text/html": "<div>\n<style scoped>\n    .dataframe tbody tr th:only-of-type {\n        vertical-align: middle;\n    }\n\n    .dataframe tbody tr th {\n        vertical-align: top;\n    }\n\n    .dataframe thead th {\n        text-align: right;\n    }\n</style>\n<table border=\"1\" class=\"dataframe\">\n  <thead>\n    <tr style=\"text-align: right;\">\n      <th></th>\n      <th>bike_id</th>\n      <th>lat</th>\n      <th>lng</th>\n      <th>dt_start</th>\n      <th>dt_end</th>\n      <th>hex_id</th>\n      <th>in_zone</th>\n      <th>zone_name</th>\n      <th>end_station_number</th>\n      <th>temp</th>\n      <th>...</th>\n      <th>month</th>\n      <th>day</th>\n      <th>start_min</th>\n      <th>over_night</th>\n      <th>idle_time_next_day</th>\n      <th>idle_time</th>\n      <th>idle_time_class</th>\n      <th>on_station</th>\n      <th>hex_enc</th>\n      <th>zone_name_enc</th>\n    </tr>\n  </thead>\n  <tbody>\n    <tr>\n      <th>0</th>\n      <td>3694</td>\n      <td>51.323619</td>\n      <td>12.335887</td>\n      <td>1514764029</td>\n      <td>1514764799</td>\n      <td>881f1a8d91fffff</td>\n      <td>1</td>\n      <td>Pinke Zone Leipzig West 1€</td>\n      <td>4094</td>\n      <td>10.80</td>\n      <td>...</td>\n      <td>12</td>\n      <td>6</td>\n      <td>1427</td>\n      <td>1</td>\n      <td>821</td>\n      <td>12</td>\n      <td>1</td>\n      <td>1</td>\n      <td>320</td>\n      <td>4</td>\n    </tr>\n    <tr>\n      <th>1</th>\n      <td>2508</td>\n      <td>51.323619</td>\n      <td>12.335887</td>\n      <td>1514764035</td>\n      <td>1514764799</td>\n      <td>881f1a8d91fffff</td>\n      <td>1</td>\n      <td>Pinke Zone Leipzig West 1€</td>\n      <td>4094</td>\n      <td>10.80</td>\n      <td>...</td>\n      <td>12</td>\n      <td>6</td>\n      <td>1427</td>\n      <td>1</td>\n      <td>1439</td>\n      <td>12</td>\n      <td>1</td>\n      <td>1</td>\n      <td>320</td>\n      <td>4</td>\n    </tr>\n    <tr>\n      <th>2</th>\n      <td>41851</td>\n      <td>51.332415</td>\n      <td>12.395158</td>\n      <td>1514764638</td>\n      <td>1514764799</td>\n      <td>881f1a1659fffff</td>\n      <td>1</td>\n      <td>Pinke Zone Leipzig Ost 1€</td>\n      <td>0</td>\n      <td>10.80</td>\n      <td>...</td>\n      <td>12</td>\n      <td>6</td>\n      <td>1437</td>\n      <td>1</td>\n      <td>1439</td>\n      <td>2</td>\n      <td>1</td>\n      <td>0</td>\n      <td>133</td>\n      <td>3</td>\n    </tr>\n    <tr>\n      <th>3</th>\n      <td>3694</td>\n      <td>51.323619</td>\n      <td>12.335887</td>\n      <td>1514764800</td>\n      <td>1514814103</td>\n      <td>881f1a8d91fffff</td>\n      <td>1</td>\n      <td>Pinke Zone Leipzig West 1€</td>\n      <td>4094</td>\n      <td>10.86</td>\n      <td>...</td>\n      <td>1</td>\n      <td>0</td>\n      <td>0</td>\n      <td>0</td>\n      <td>0</td>\n      <td>821</td>\n      <td>4</td>\n      <td>1</td>\n      <td>320</td>\n      <td>4</td>\n    </tr>\n    <tr>\n      <th>4</th>\n      <td>2508</td>\n      <td>51.323619</td>\n      <td>12.335887</td>\n      <td>1514764800</td>\n      <td>1514851199</td>\n      <td>881f1a8d91fffff</td>\n      <td>1</td>\n      <td>Pinke Zone Leipzig West 1€</td>\n      <td>4094</td>\n      <td>10.86</td>\n      <td>...</td>\n      <td>1</td>\n      <td>0</td>\n      <td>0</td>\n      <td>1</td>\n      <td>878</td>\n      <td>1439</td>\n      <td>4</td>\n      <td>1</td>\n      <td>320</td>\n      <td>4</td>\n    </tr>\n    <tr>\n      <th>...</th>\n      <td>...</td>\n      <td>...</td>\n      <td>...</td>\n      <td>...</td>\n      <td>...</td>\n      <td>...</td>\n      <td>...</td>\n      <td>...</td>\n      <td>...</td>\n      <td>...</td>\n      <td>...</td>\n      <td>...</td>\n      <td>...</td>\n      <td>...</td>\n      <td>...</td>\n      <td>...</td>\n      <td>...</td>\n      <td>...</td>\n      <td>...</td>\n      <td>...</td>\n      <td>...</td>\n    </tr>\n    <tr>\n      <th>2375898</th>\n      <td>72058</td>\n      <td>51.317569</td>\n      <td>12.382730</td>\n      <td>1640897593</td>\n      <td>1640904368</td>\n      <td>881f1a1609fffff</td>\n      <td>1</td>\n      <td>Blaue Zone Leipzig Ost 0€</td>\n      <td>0</td>\n      <td>13.19</td>\n      <td>...</td>\n      <td>12</td>\n      <td>3</td>\n      <td>1253</td>\n      <td>0</td>\n      <td>0</td>\n      <td>112</td>\n      <td>2</td>\n      <td>0</td>\n      <td>98</td>\n      <td>1</td>\n    </tr>\n    <tr>\n      <th>2375899</th>\n      <td>71949</td>\n      <td>51.334711</td>\n      <td>12.356763</td>\n      <td>1640897835</td>\n      <td>1640899343</td>\n      <td>881f1a1649fffff</td>\n      <td>1</td>\n      <td>Pinke Zone Leipzig Ost 1€</td>\n      <td>0</td>\n      <td>13.19</td>\n      <td>...</td>\n      <td>12</td>\n      <td>3</td>\n      <td>1257</td>\n      <td>0</td>\n      <td>0</td>\n      <td>25</td>\n      <td>1</td>\n      <td>0</td>\n      <td>126</td>\n      <td>3</td>\n    </tr>\n    <tr>\n      <th>2375900</th>\n      <td>97785</td>\n      <td>51.367276</td>\n      <td>12.369792</td>\n      <td>1640898086</td>\n      <td>1640900985</td>\n      <td>881f1a8c8bfffff</td>\n      <td>1</td>\n      <td>Blaue Zone Leipzig Ost 0€</td>\n      <td>0</td>\n      <td>13.05</td>\n      <td>...</td>\n      <td>12</td>\n      <td>3</td>\n      <td>1261</td>\n      <td>0</td>\n      <td>0</td>\n      <td>48</td>\n      <td>1</td>\n      <td>0</td>\n      <td>261</td>\n      <td>1</td>\n    </tr>\n    <tr>\n      <th>2375901</th>\n      <td>41738</td>\n      <td>51.366942</td>\n      <td>12.370322</td>\n      <td>1640900918</td>\n      <td>1640903516</td>\n      <td>881f1a8c8bfffff</td>\n      <td>1</td>\n      <td>Pinke Zone Leipzig Ost 1€</td>\n      <td>0</td>\n      <td>13.05</td>\n      <td>...</td>\n      <td>12</td>\n      <td>3</td>\n      <td>1309</td>\n      <td>0</td>\n      <td>0</td>\n      <td>43</td>\n      <td>1</td>\n      <td>0</td>\n      <td>261</td>\n      <td>3</td>\n    </tr>\n    <tr>\n      <th>2375902</th>\n      <td>72028</td>\n      <td>51.332844</td>\n      <td>12.404319</td>\n      <td>1640903200</td>\n      <td>1640905163</td>\n      <td>881f1a165bfffff</td>\n      <td>1</td>\n      <td>Blaue Zone Leipzig Ost 0€</td>\n      <td>0</td>\n      <td>13.11</td>\n      <td>...</td>\n      <td>12</td>\n      <td>3</td>\n      <td>1347</td>\n      <td>0</td>\n      <td>0</td>\n      <td>32</td>\n      <td>1</td>\n      <td>0</td>\n      <td>134</td>\n      <td>1</td>\n    </tr>\n  </tbody>\n</table>\n<p>2375903 rows × 25 columns</p>\n</div>"
     },
     "execution_count": 14,
     "metadata": {},
     "output_type": "execute_result"
    }
   ],
   "source": [
    "idle_time_data"
   ],
   "metadata": {
    "collapsed": false,
    "pycharm": {
     "name": "#%%\n"
    }
   }
  },
  {
   "cell_type": "code",
   "execution_count": 15,
   "outputs": [],
   "source": [
    "TargetVariable = ['idle_time_class']\n",
    "Predictors = ['bike_id', 'lat', 'lng', 'temp', 'rain', 'snow', 'wind_speed', 'humidity', 'dt_start', 'hex_enc', 'start_min', 'year', 'month', 'day', 'on_station', 'in_zone', 'zone_name_enc']"
   ],
   "metadata": {
    "collapsed": false,
    "pycharm": {
     "name": "#%%\n"
    }
   }
  },
  {
   "cell_type": "code",
   "execution_count": 7,
   "outputs": [],
   "source": [
    "X = idle_time_data[Predictors]\n",
    "y = idle_time_data[TargetVariable]"
   ],
   "metadata": {
    "collapsed": false,
    "pycharm": {
     "name": "#%%\n"
    }
   }
  },
  {
   "cell_type": "code",
   "execution_count": 8,
   "outputs": [],
   "source": [
    "X_train, X_test, y_train, y_test = train_test_split(X, y, train_size=0.8, shuffle=False)"
   ],
   "metadata": {
    "collapsed": false,
    "pycharm": {
     "name": "#%%\n"
    }
   }
  },
  {
   "cell_type": "code",
   "execution_count": 9,
   "outputs": [],
   "source": [
    "from sklearn.neighbors import KNeighborsClassifier\n",
    "\n",
    "knn = KNeighborsClassifier()\n",
    "knn.fit(X_train,y_train.values.ravel())\n",
    "y_pred = knn.predict(X_test)"
   ],
   "metadata": {
    "collapsed": false,
    "pycharm": {
     "name": "#%%\n"
    }
   }
  },
  {
   "cell_type": "code",
   "execution_count": 10,
   "outputs": [
    {
     "name": "stdout",
     "output_type": "stream",
     "text": [
      "0.28072039917420943\n"
     ]
    },
    {
     "data": {
      "text/plain": "array([[59421, 86230,    81,    31],\n       [57615, 73729,   103,    16],\n       [50798, 58958,    98,    17],\n       [42482, 45352,   105,   145]])"
     },
     "execution_count": 10,
     "metadata": {},
     "output_type": "execute_result"
    }
   ],
   "source": [
    "from sklearn.metrics import confusion_matrix\n",
    "print(accuracy_score(y_test,y_pred))\n",
    "confusion_matrix(y_test, y_pred)"
   ],
   "metadata": {
    "collapsed": false,
    "pycharm": {
     "name": "#%%\n"
    }
   }
  },
  {
   "cell_type": "code",
   "execution_count": null,
   "outputs": [],
   "source": [],
   "metadata": {
    "collapsed": false,
    "pycharm": {
     "name": "#%%\n"
    }
   }
  }
 ],
 "metadata": {
  "kernelspec": {
   "display_name": "Python 3",
   "language": "python",
   "name": "python3"
  },
  "language_info": {
   "codemirror_mode": {
    "name": "ipython",
    "version": 2
   },
   "file_extension": ".py",
   "mimetype": "text/x-python",
   "name": "python",
   "nbconvert_exporter": "python",
   "pygments_lexer": "ipython2",
   "version": "2.7.6"
  }
 },
 "nbformat": 4,
 "nbformat_minor": 0
}