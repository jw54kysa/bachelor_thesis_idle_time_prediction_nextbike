{
 "cells": [
  {
   "cell_type": "markdown",
   "id": "b3ed9e1a",
   "metadata": {},
   "source": [
    "# df_points with UNIX Timestamp #\n",
    "## Creates df_points.csv with all points and idletimes #\n",
    "## Checks the valid geo location\n",
    "## deletes the invalid points: \n",
    "\n",
    "\n",
    "2019 - invalides: 52523 from 550865 that is 9.534640973741297 % - 04:38:48\n",
    "\n",
    "2020 - invalides: 18082 from 662365 that is 2.729914775086244 %\n",
    "\n",
    "2021 - ca.\n",
    "\n",
    "### ca 1h for 1 year"
   ]
  },
  {
   "cell_type": "code",
   "execution_count": 370,
   "id": "a791a421",
   "metadata": {},
   "outputs": [],
   "source": [
    "def importdata(source):\n",
    "    df = pd.read_csv(source)\n",
    "    df = df[['bike_id', 'start_time', 'end_time', 'start_lat', 'start_lng', 'end_lat', 'end_lng']]\n",
    "    return df"
   ]
  },
  {
   "cell_type": "code",
   "execution_count": 371,
   "id": "82359632",
   "metadata": {},
   "outputs": [],
   "source": [
    "def dicOutOfDf(df01):\n",
    "    import pandas as pd\n",
    "    from tqdm import tqdm\n",
    "    # Dict out of DataFrames of Trips per Bike\n",
    "\n",
    "    # init DFs for every bike\n",
    "    myDFs = {}\n",
    "\n",
    "    for ind in tqdm(df01.index):\n",
    "        if df01['bike_id'][ind] not in myDFs:\n",
    "            myDFs[df01['bike_id'][ind]] = pd.DataFrame(\n",
    "                columns=['bike_id', 'start_time', 'end_time', 'start_lat', 'start_lng', 'end_lat', 'end_lng'])\n",
    "    return myDFs"
   ]
  },
  {
   "cell_type": "code",
   "execution_count": 372,
   "id": "941271a6",
   "metadata": {},
   "outputs": [],
   "source": [
    "def addRentalsToDf(df01,myDFs):\n",
    "    from tqdm import tqdm\n",
    "    # Add all rentals to their bike_id DF\n",
    "    for ind in tqdm(df01.index):\n",
    "        if df01['bike_id'][ind] in myDFs:\n",
    "            myDFs[df01['bike_id'][ind]].loc[df01.index[ind]] = df01.iloc[ind]\n",
    "    return myDFs"
   ]
  },
  {
   "cell_type": "code",
   "execution_count": 373,
   "id": "3502fb99",
   "metadata": {},
   "outputs": [],
   "source": [
    "def sortDFs(myDFs):\n",
    "    # sort every DF\n",
    "    for df in myDFs.values():\n",
    "        df[['bike_id', 'start_time','end_time']] = df[['bike_id', 'start_time','end_time']].astype(int)\n",
    "        df[['start_lat','start_lng', 'end_lat', 'end_lng']] = df[['start_lat','start_lng', 'end_lat', 'end_lng']].astype(float)\n",
    "        df.sort_values(by=['start_time'], inplace=True)\n",
    "        df.reset_index(drop=True, inplace=True)\n",
    "    return myDFs"
   ]
  },
  {
   "cell_type": "code",
   "execution_count": 374,
   "id": "2b82d201",
   "metadata": {},
   "outputs": [],
   "source": [
    "def dfPoints(myDFs,radius):\n",
    "    # DF of all points with stoodtime\n",
    "    inval = 0\n",
    "    val = 0 \n",
    "    \n",
    "    df_points = pd.DataFrame(columns=['bike_id', 'lat', 'lng', 'idle_time', 'time_start', 'time_end'])\n",
    "    df_points[['bike_id', 'idle_time', 'time_start', 'time_end']] = df_points[['bike_id', 'idle_time', 'time_start', 'time_end']].astype(int)\n",
    "    df_points[['lng', 'lat']] = df_points[['lng', 'lat']].astype(float)\n",
    "    \n",
    "    for df in tqdm(myDFs.values()):\n",
    "        for ind in df.index[1:]:\n",
    "            #in SECOUNDS\n",
    "            _idle_time = (df['start_time'][ind] - df['end_time'][ind - 1]).astype(int)\n",
    "            distance = qick_distance(df['end_lat'][ind-1], df['end_lng'][ind-1], df['start_lat'][ind], df['start_lng'][ind])\n",
    "            if distance > radius:\n",
    "                inval +=1\n",
    "                continue\n",
    "            val +=1\n",
    "            dict = {'bike_id': df['bike_id'][ind], 'lng': df['start_lng'][ind], 'lat': df['start_lat'][ind],\n",
    "                    'idle_time': _idle_time, 'time_start': df['end_time'][ind - 1], 'time_end': df['start_time'][ind]}\n",
    "            df_points = df_points.append(dict, ignore_index=True)\n",
    "    print(f\"invalides: {inval} from {val} that is {inval/val * 100} %\")\n",
    "    return df_points"
   ]
  },
  {
   "cell_type": "code",
   "execution_count": 375,
   "id": "9e34af27",
   "metadata": {},
   "outputs": [],
   "source": [
    "# returns distance in meter\n",
    "# source: https://www.it-swarm.com.de/de/python/wie-kann-ich-die-entfernung-zwischen-zwei-punkten-breitengrad-laengengrad-schnell-schaetzen/1072488907/\n",
    "def qick_distance(Lat1, Long1, Lat2, Long2):\n",
    "    x = Lat2 - Lat1\n",
    "    y = (Long2 - Long1)*cos((Lat2 + Lat1)*0.00872664626)  \n",
    "    return 111.138*sqrt(x*x+y*y)*1000"
   ]
  },
  {
   "cell_type": "code",
   "execution_count": 376,
   "id": "edc119ca",
   "metadata": {},
   "outputs": [],
   "source": [
    "def keplerMap(df_points):\n",
    "    heatmap = KeplerGl()\n",
    "    heatmap.add_data(data=df_points, name='points')\n",
    "    heatmap.save_to_html(file_name='heatmap_test.html')"
   ]
  },
  {
   "cell_type": "markdown",
   "id": "2b4cd011",
   "metadata": {},
   "source": [
    "# Main \n",
    "## Create map"
   ]
  },
  {
   "cell_type": "code",
   "execution_count": 377,
   "id": "2e341a0e",
   "metadata": {},
   "outputs": [
    {
     "name": "stderr",
     "output_type": "stream",
     "text": [
      "100%|██████████| 182199/182199 [00:03<00:00, 54009.15it/s] \n",
      "100%|██████████| 182199/182199 [04:50<00:00, 627.04it/s]\n"
     ]
    }
   ],
   "source": [
    "from keplergl import KeplerGl\n",
    "import pandas as pd\n",
    "pd.options.mode.chained_assignment = None\n",
    "import time\n",
    "\n",
    "ts1 = time.time()\n",
    "source = '../data/raw_lendings/lendings_2018.csv'\n",
    "\n",
    "df = importdata(source)\n",
    "myDfs = dicOutOfDf(df)\n",
    "myDfs = addRentalsToDf(df, myDfs)\n",
    "myDfs = sortDFs(myDfs)\n"
   ]
  },
  {
   "cell_type": "code",
   "execution_count": 378,
   "outputs": [
    {
     "data": {
      "text/plain": "        bike_id  start_time    end_time  start_lat  start_lng    end_lat  \\\n182194    71992  1546208583  1546209004  51.326871  12.374732  51.310257   \n182195    71959  1546208955  1546209970  51.318458  12.377889  51.324615   \n182196    41664  1546209503  1546210152  51.339337  12.379609  51.323619   \n182197    72307  1546210213  1546210548  51.332060  12.371469  51.331342   \n182198    72271  1546210428  1546210616  51.325764  12.344957  51.319218   \n\n          end_lng  \n182194  12.373241  \n182195  12.336922  \n182196  12.335887  \n182197  12.358439  \n182198  12.344979  ",
      "text/html": "<div>\n<style scoped>\n    .dataframe tbody tr th:only-of-type {\n        vertical-align: middle;\n    }\n\n    .dataframe tbody tr th {\n        vertical-align: top;\n    }\n\n    .dataframe thead th {\n        text-align: right;\n    }\n</style>\n<table border=\"1\" class=\"dataframe\">\n  <thead>\n    <tr style=\"text-align: right;\">\n      <th></th>\n      <th>bike_id</th>\n      <th>start_time</th>\n      <th>end_time</th>\n      <th>start_lat</th>\n      <th>start_lng</th>\n      <th>end_lat</th>\n      <th>end_lng</th>\n    </tr>\n  </thead>\n  <tbody>\n    <tr>\n      <th>182194</th>\n      <td>71992</td>\n      <td>1546208583</td>\n      <td>1546209004</td>\n      <td>51.326871</td>\n      <td>12.374732</td>\n      <td>51.310257</td>\n      <td>12.373241</td>\n    </tr>\n    <tr>\n      <th>182195</th>\n      <td>71959</td>\n      <td>1546208955</td>\n      <td>1546209970</td>\n      <td>51.318458</td>\n      <td>12.377889</td>\n      <td>51.324615</td>\n      <td>12.336922</td>\n    </tr>\n    <tr>\n      <th>182196</th>\n      <td>41664</td>\n      <td>1546209503</td>\n      <td>1546210152</td>\n      <td>51.339337</td>\n      <td>12.379609</td>\n      <td>51.323619</td>\n      <td>12.335887</td>\n    </tr>\n    <tr>\n      <th>182197</th>\n      <td>72307</td>\n      <td>1546210213</td>\n      <td>1546210548</td>\n      <td>51.332060</td>\n      <td>12.371469</td>\n      <td>51.331342</td>\n      <td>12.358439</td>\n    </tr>\n    <tr>\n      <th>182198</th>\n      <td>72271</td>\n      <td>1546210428</td>\n      <td>1546210616</td>\n      <td>51.325764</td>\n      <td>12.344957</td>\n      <td>51.319218</td>\n      <td>12.344979</td>\n    </tr>\n  </tbody>\n</table>\n</div>"
     },
     "execution_count": 378,
     "metadata": {},
     "output_type": "execute_result"
    }
   ],
   "source": [
    "df.tail()"
   ],
   "metadata": {
    "collapsed": false,
    "pycharm": {
     "name": "#%%\n"
    }
   }
  },
  {
   "cell_type": "markdown",
   "id": "16b3a096",
   "metadata": {},
   "source": [
    "# Create DF_points\n",
    "## without invalid points"
   ]
  },
  {
   "cell_type": "code",
   "execution_count": 379,
   "id": "9fae31aa",
   "metadata": {},
   "outputs": [
    {
     "name": "stderr",
     "output_type": "stream",
     "text": [
      "100%|██████████| 1300/1300 [05:50<00:00,  3.70it/s]"
     ]
    },
    {
     "name": "stdout",
     "output_type": "stream",
     "text": [
      "invalides: 41733 from 139166 that is 29.98792808588305 %\n"
     ]
    },
    {
     "name": "stderr",
     "output_type": "stream",
     "text": [
      "\n"
     ]
    }
   ],
   "source": [
    "from math import cos, sqrt\n",
    "import pandas as pd\n",
    "pd.options.mode.chained_assignment = None\n",
    "\n",
    "radius = 20\n",
    "df_points = dfPoints(myDfs,radius)"
   ]
  },
  {
   "cell_type": "code",
   "execution_count": 380,
   "outputs": [
    {
     "data": {
      "text/plain": "        bike_id        lat        lng  idle_time    time_start      time_end\n139161  75861.0  51.338658  12.403918    11748.0  1.545331e+09  1.545343e+09\n139162  75861.0  51.346151  12.396602    31244.0  1.545343e+09  1.545374e+09\n139163  75861.0  51.340920  12.371810   138107.0  1.545375e+09  1.545513e+09\n139164  75861.0  51.321733  12.342554   418348.0  1.545514e+09  1.545932e+09\n139165  75861.0   0.000000   0.000000    87510.0  1.545934e+09  1.546021e+09",
      "text/html": "<div>\n<style scoped>\n    .dataframe tbody tr th:only-of-type {\n        vertical-align: middle;\n    }\n\n    .dataframe tbody tr th {\n        vertical-align: top;\n    }\n\n    .dataframe thead th {\n        text-align: right;\n    }\n</style>\n<table border=\"1\" class=\"dataframe\">\n  <thead>\n    <tr style=\"text-align: right;\">\n      <th></th>\n      <th>bike_id</th>\n      <th>lat</th>\n      <th>lng</th>\n      <th>idle_time</th>\n      <th>time_start</th>\n      <th>time_end</th>\n    </tr>\n  </thead>\n  <tbody>\n    <tr>\n      <th>139161</th>\n      <td>75861.0</td>\n      <td>51.338658</td>\n      <td>12.403918</td>\n      <td>11748.0</td>\n      <td>1.545331e+09</td>\n      <td>1.545343e+09</td>\n    </tr>\n    <tr>\n      <th>139162</th>\n      <td>75861.0</td>\n      <td>51.346151</td>\n      <td>12.396602</td>\n      <td>31244.0</td>\n      <td>1.545343e+09</td>\n      <td>1.545374e+09</td>\n    </tr>\n    <tr>\n      <th>139163</th>\n      <td>75861.0</td>\n      <td>51.340920</td>\n      <td>12.371810</td>\n      <td>138107.0</td>\n      <td>1.545375e+09</td>\n      <td>1.545513e+09</td>\n    </tr>\n    <tr>\n      <th>139164</th>\n      <td>75861.0</td>\n      <td>51.321733</td>\n      <td>12.342554</td>\n      <td>418348.0</td>\n      <td>1.545514e+09</td>\n      <td>1.545932e+09</td>\n    </tr>\n    <tr>\n      <th>139165</th>\n      <td>75861.0</td>\n      <td>0.000000</td>\n      <td>0.000000</td>\n      <td>87510.0</td>\n      <td>1.545934e+09</td>\n      <td>1.546021e+09</td>\n    </tr>\n  </tbody>\n</table>\n</div>"
     },
     "execution_count": 380,
     "metadata": {},
     "output_type": "execute_result"
    }
   ],
   "source": [
    "df_points.tail()"
   ],
   "metadata": {
    "collapsed": false,
    "pycharm": {
     "name": "#%%\n"
    }
   }
  },
  {
   "cell_type": "markdown",
   "id": "50748b61",
   "metadata": {},
   "source": [
    "# Split Points at midnight\n",
    "\n",
    "## save feature idle_time_next_day"
   ]
  },
  {
   "cell_type": "code",
   "execution_count": 381,
   "id": "0a6fc960",
   "metadata": {},
   "outputs": [],
   "source": [
    "df_points['idle_time'] = pd.to_timedelta(df_points['idle_time'],unit='s')\n",
    "df_points['time_start'] = pd.to_datetime(df_points['time_start'],unit='s')\n",
    "df_points['time_end'] = pd.to_datetime(df_points['time_end'],unit='s')"
   ]
  },
  {
   "cell_type": "code",
   "execution_count": 382,
   "id": "8395e5e9",
   "metadata": {},
   "outputs": [
    {
     "name": "stderr",
     "output_type": "stream",
     "text": [
      "100%|██████████| 139166/139166 [13:17<00:00, 174.57it/s]\n",
      "100%|██████████| 184764/184764 [04:07<00:00, 746.77it/s]  \n",
      "100%|██████████| 196834/196834 [02:11<00:00, 1492.91it/s] \n",
      "100%|██████████| 202909/202909 [01:26<00:00, 2332.83it/s] \n",
      "100%|██████████| 206482/206482 [00:57<00:00, 3618.06it/s] \n",
      "100%|██████████| 208752/208752 [00:43<00:00, 4810.69it/s] \n",
      "100%|██████████| 210277/210277 [00:34<00:00, 6174.80it/s] \n",
      "100%|██████████| 211330/211330 [00:25<00:00, 8195.90it/s] \n",
      "100%|██████████| 212103/212103 [00:22<00:00, 9318.20it/s] \n",
      "100%|██████████| 212698/212698 [00:19<00:00, 10868.34it/s]\n",
      "100%|██████████| 213160/213160 [00:17<00:00, 11888.67it/s]\n",
      "100%|██████████| 213515/213515 [00:15<00:00, 13524.59it/s]\n",
      "100%|██████████| 213792/213792 [00:14<00:00, 14385.21it/s]\n",
      "100%|██████████| 214011/214011 [00:13<00:00, 15622.21it/s]\n",
      "100%|██████████| 214192/214192 [00:14<00:00, 14330.35it/s]\n",
      "100%|██████████| 214343/214343 [00:12<00:00, 16614.43it/s]\n",
      "100%|██████████| 214475/214475 [00:13<00:00, 15405.08it/s]\n",
      "100%|██████████| 214585/214585 [00:12<00:00, 17808.19it/s]\n",
      "100%|██████████| 214686/214686 [00:12<00:00, 17862.37it/s]\n",
      "100%|██████████| 214773/214773 [00:12<00:00, 16713.66it/s]\n",
      "100%|██████████| 214849/214849 [00:10<00:00, 19663.50it/s]\n",
      "100%|██████████| 214907/214907 [00:11<00:00, 17954.07it/s]\n",
      "100%|██████████| 214959/214959 [00:11<00:00, 19309.76it/s]\n",
      "100%|██████████| 215005/215005 [00:10<00:00, 20213.86it/s]\n",
      "100%|██████████| 215044/215044 [00:10<00:00, 20788.99it/s]\n",
      "100%|██████████| 215079/215079 [00:10<00:00, 20041.99it/s]\n",
      "100%|██████████| 215112/215112 [00:12<00:00, 17811.51it/s]\n",
      "100%|██████████| 215141/215141 [00:10<00:00, 20730.14it/s]\n",
      "100%|██████████| 215165/215165 [00:10<00:00, 21251.84it/s]\n",
      "100%|██████████| 215187/215187 [00:10<00:00, 20184.41it/s]\n",
      "100%|██████████| 215206/215206 [00:10<00:00, 19766.97it/s]\n",
      "100%|██████████| 215223/215223 [00:11<00:00, 18696.43it/s]\n",
      "100%|██████████| 215238/215238 [00:10<00:00, 20602.20it/s]\n",
      "100%|██████████| 215251/215251 [00:10<00:00, 19972.80it/s]\n",
      "100%|██████████| 215262/215262 [00:09<00:00, 21741.65it/s]\n",
      "100%|██████████| 215272/215272 [00:09<00:00, 21765.48it/s]\n",
      "100%|██████████| 215282/215282 [00:11<00:00, 19290.82it/s]\n",
      "100%|██████████| 215290/215290 [00:10<00:00, 20196.97it/s]\n",
      "100%|██████████| 215298/215298 [00:10<00:00, 21456.94it/s]\n",
      "100%|██████████| 215306/215306 [00:09<00:00, 21908.52it/s]\n",
      "100%|██████████| 215311/215311 [00:10<00:00, 21257.64it/s]\n",
      "100%|██████████| 215316/215316 [00:10<00:00, 20170.62it/s]\n",
      "100%|██████████| 215321/215321 [00:09<00:00, 21961.99it/s]\n",
      "100%|██████████| 215326/215326 [00:09<00:00, 21672.61it/s]\n",
      "100%|██████████| 215331/215331 [00:10<00:00, 20221.55it/s]\n",
      "100%|██████████| 215336/215336 [00:09<00:00, 22131.78it/s]\n",
      "100%|██████████| 215341/215341 [00:10<00:00, 20734.47it/s]\n",
      "100%|██████████| 215345/215345 [00:10<00:00, 19899.56it/s]\n",
      "100%|██████████| 215349/215349 [00:11<00:00, 19038.80it/s]\n",
      "100%|██████████| 215353/215353 [00:09<00:00, 21573.10it/s]\n",
      "100%|██████████| 215357/215357 [00:11<00:00, 19124.61it/s]\n",
      "100%|██████████| 215361/215361 [00:10<00:00, 21018.99it/s]\n",
      "100%|██████████| 215365/215365 [00:10<00:00, 21367.70it/s]\n",
      "100%|██████████| 215369/215369 [00:11<00:00, 19376.13it/s]\n",
      "100%|██████████| 215373/215373 [00:10<00:00, 20730.52it/s]\n",
      "100%|██████████| 215377/215377 [00:10<00:00, 21326.01it/s]\n",
      "100%|██████████| 215381/215381 [00:10<00:00, 20167.95it/s]\n",
      "100%|██████████| 215385/215385 [00:09<00:00, 22055.46it/s]\n",
      "100%|██████████| 215389/215389 [00:09<00:00, 21725.69it/s]\n",
      "100%|██████████| 215393/215393 [00:10<00:00, 19665.91it/s]\n",
      "100%|██████████| 215396/215396 [00:10<00:00, 20746.29it/s]\n",
      "100%|██████████| 215399/215399 [00:09<00:00, 21705.94it/s]\n",
      "100%|██████████| 215402/215402 [00:13<00:00, 16117.34it/s]\n",
      "100%|██████████| 215404/215404 [00:12<00:00, 17597.62it/s]\n",
      "100%|██████████| 215406/215406 [00:10<00:00, 20873.76it/s]\n",
      "100%|██████████| 215408/215408 [00:10<00:00, 21487.11it/s]\n",
      "100%|██████████| 215410/215410 [00:09<00:00, 21880.40it/s]\n",
      "100%|██████████| 215412/215412 [00:10<00:00, 20593.28it/s]\n",
      "100%|██████████| 215414/215414 [00:10<00:00, 20248.33it/s]\n",
      "100%|██████████| 215416/215416 [00:10<00:00, 21376.63it/s]\n",
      "100%|██████████| 215418/215418 [00:10<00:00, 20368.54it/s]\n",
      "100%|██████████| 215420/215420 [00:10<00:00, 21519.44it/s]\n",
      "100%|██████████| 215422/215422 [00:09<00:00, 21937.65it/s]\n",
      "100%|██████████| 215424/215424 [00:10<00:00, 21252.22it/s]\n",
      "100%|██████████| 215426/215426 [00:10<00:00, 20294.04it/s]\n",
      "100%|██████████| 215428/215428 [00:09<00:00, 21649.97it/s]\n",
      "100%|██████████| 215430/215430 [00:09<00:00, 21780.79it/s]\n",
      "100%|██████████| 215432/215432 [00:10<00:00, 19890.46it/s]\n",
      "100%|██████████| 215434/215434 [00:11<00:00, 19544.23it/s]\n",
      "100%|██████████| 215436/215436 [00:10<00:00, 21533.82it/s]\n",
      "100%|██████████| 215438/215438 [00:11<00:00, 19300.84it/s]\n",
      "100%|██████████| 215440/215440 [00:10<00:00, 21334.41it/s]\n",
      "100%|██████████| 215442/215442 [00:10<00:00, 21318.07it/s]\n",
      "100%|██████████| 215444/215444 [00:11<00:00, 18843.59it/s]\n",
      "100%|██████████| 215446/215446 [00:10<00:00, 21127.22it/s]\n",
      "100%|██████████| 215448/215448 [00:10<00:00, 21334.53it/s]\n",
      "100%|██████████| 215450/215450 [00:10<00:00, 20221.14it/s]\n",
      "100%|██████████| 215452/215452 [00:09<00:00, 21981.46it/s]\n",
      "100%|██████████| 215454/215454 [00:09<00:00, 21683.40it/s]\n",
      "100%|██████████| 215456/215456 [00:11<00:00, 18786.11it/s]\n",
      "100%|██████████| 215458/215458 [00:09<00:00, 21562.64it/s]\n",
      "100%|██████████| 215460/215460 [00:10<00:00, 20678.33it/s]\n",
      "100%|██████████| 215462/215462 [00:11<00:00, 18315.28it/s]\n",
      "100%|██████████| 215464/215464 [00:10<00:00, 19884.13it/s]\n",
      "100%|██████████| 215466/215466 [00:10<00:00, 21019.44it/s]\n",
      "100%|██████████| 215468/215468 [00:10<00:00, 20740.65it/s]\n",
      "100%|██████████| 215470/215470 [00:09<00:00, 21938.44it/s]\n",
      "100%|██████████| 215472/215472 [00:10<00:00, 21064.96it/s]\n",
      "100%|██████████| 215474/215474 [00:11<00:00, 19535.46it/s]\n",
      "100%|██████████| 215475/215475 [00:10<00:00, 21502.41it/s]\n",
      "100%|██████████| 215476/215476 [00:10<00:00, 21282.83it/s]\n",
      "100%|██████████| 215477/215477 [00:10<00:00, 20796.70it/s]\n",
      "100%|██████████| 215478/215478 [00:09<00:00, 22053.25it/s]\n",
      "100%|██████████| 215479/215479 [00:10<00:00, 21412.10it/s]\n",
      "100%|██████████| 215480/215480 [00:10<00:00, 20401.80it/s]\n",
      "100%|██████████| 215481/215481 [00:09<00:00, 22106.92it/s]\n",
      "100%|██████████| 215482/215482 [00:10<00:00, 20485.56it/s]\n",
      "100%|██████████| 215483/215483 [00:11<00:00, 19029.99it/s]\n",
      "100%|██████████| 215484/215484 [00:10<00:00, 19652.72it/s]\n",
      "100%|██████████| 215485/215485 [00:10<00:00, 21357.53it/s]\n",
      "100%|██████████| 215486/215486 [00:11<00:00, 19136.48it/s]\n",
      "100%|██████████| 215487/215487 [00:09<00:00, 22174.98it/s]\n",
      "100%|██████████| 215488/215488 [00:10<00:00, 21193.15it/s]\n",
      "100%|██████████| 215489/215489 [00:11<00:00, 19282.70it/s]\n",
      "100%|██████████| 215490/215490 [00:10<00:00, 21480.19it/s]\n",
      "100%|██████████| 215491/215491 [00:10<00:00, 21527.53it/s]\n",
      "100%|██████████| 215492/215492 [00:10<00:00, 20412.21it/s]\n",
      "100%|██████████| 215493/215493 [00:09<00:00, 22077.42it/s]"
     ]
    },
    {
     "name": "stdout",
     "output_type": "stream",
     "text": [
      "118\n"
     ]
    },
    {
     "name": "stderr",
     "output_type": "stream",
     "text": [
      "\n"
     ]
    }
   ],
   "source": [
    "from tqdm import tqdm\n",
    "from datetime import timedelta\n",
    "import numpy as np\n",
    "\n",
    "changed = 1\n",
    "iterations = 0\n",
    "\n",
    "df_points['idle_time_next_day'] = np.nan\n",
    "df_points['over_night'] = 0\n",
    "\n",
    "while changed:\n",
    "    iterations += 1\n",
    "    changed = 0\n",
    "    for ind in tqdm(df_points.index):\n",
    "        ts = df_points['time_start'][ind]\n",
    "        te = df_points['time_end'][ind]\n",
    "        t0 = ts.replace(hour=23, minute=59, second=59)\n",
    "        \n",
    "        # is timestood greater than same date 23:59:59\n",
    "        #   -> over midnight\n",
    "        if ts + df_points['idle_time'][ind] > t0:\n",
    "            changed = 1\n",
    "            \n",
    "            underhang = t0 - ts\n",
    "            overhang = te - t0\n",
    "            \n",
    "            # fix current day\n",
    "            df_points['time_end'][ind] = ts.replace(hour=23, minute=59, second=59)\n",
    "            df_points['idle_time'][ind] = underhang\n",
    "            df_points['over_night'][ind] = 1\n",
    "            df_points['idle_time_next_day'][ind] = overhang\n",
    "            \n",
    "            # add new row for the next day\n",
    "            time_start = ts.replace(hour=0, minute=0, second=0)\n",
    "            time_start += timedelta(days=1)\n",
    "            flag = 0\n",
    "            #if time_start + overhang > time_start.replace(hour=23, minute=59, second=59):\n",
    "            #    flag = 1\n",
    "            \n",
    "            dict = {'bike_id': df_points['bike_id'][ind], 'lng': df_points['lng'][ind], 'lat': df_points['lat'][ind],\n",
    "                    'idle_time': overhang, 'time_start': time_start, 'time_end': te,'over_night': flag, 'idle_time_next_day': np.nan}\n",
    "            df_points = df_points.append(dict, ignore_index=True)\n",
    "\n",
    "print(iterations)"
   ]
  },
  {
   "cell_type": "code",
   "execution_count": 383,
   "outputs": [
    {
     "data": {
      "text/plain": "bike_id                       float64\nlat                           float64\nlng                           float64\nidle_time             timedelta64[ns]\ntime_start             datetime64[ns]\ntime_end               datetime64[ns]\nidle_time_next_day             object\nover_night                      int64\ndtype: object"
     },
     "execution_count": 383,
     "metadata": {},
     "output_type": "execute_result"
    }
   ],
   "source": [
    "df_points.dtypes"
   ],
   "metadata": {
    "collapsed": false,
    "pycharm": {
     "name": "#%%\n"
    }
   }
  },
  {
   "cell_type": "markdown",
   "source": [
    "idle time in min"
   ],
   "metadata": {
    "collapsed": false
   }
  },
  {
   "cell_type": "code",
   "execution_count": 384,
   "outputs": [],
   "source": [
    "def idle_time_to_min(row):\n",
    "    return row['idle_time'].seconds / 60\n",
    "\n",
    "df_points['idle_time'] = df_points.apply(idle_time_to_min, axis=1)"
   ],
   "metadata": {
    "collapsed": false,
    "pycharm": {
     "name": "#%%\n"
    }
   }
  },
  {
   "cell_type": "markdown",
   "source": [
    "add idle_time_next_day feature"
   ],
   "metadata": {
    "collapsed": false
   }
  },
  {
   "cell_type": "code",
   "execution_count": 385,
   "id": "5aee7e90",
   "metadata": {},
   "outputs": [],
   "source": [
    "df_points['idle_time_next_day'] = pd.to_timedelta(df_points['idle_time_next_day'])\n",
    "\n",
    "def idle_time_next_day_to_min(row):\n",
    "    if row['over_night'] == 1:\n",
    "        t = row['idle_time_next_day'].total_seconds() / 60\n",
    "        if t < 1439:\n",
    "            return t\n",
    "        else: return 1439\n",
    "    else:\n",
    "        return 0\n",
    "\n",
    "df_points['idle_time_next_day'] = df_points.apply(idle_time_next_day_to_min, axis=1)\n"
   ]
  },
  {
   "cell_type": "code",
   "execution_count": 386,
   "outputs": [
    {
     "data": {
      "text/plain": "        bike_id        lat        lng    idle_time          time_start  \\\n0        3694.0  51.323619  12.335887    12.833333 2017-12-31 23:47:09   \n1        3694.0  51.343813  12.381495   608.883333 2018-01-01 13:51:06   \n2        3694.0  51.343076  12.365177    35.850000 2018-01-02 14:55:53   \n3        3694.0  51.332874  12.373261    66.233333 2018-01-02 22:53:45   \n4        3694.0  51.297564  12.293015   424.933333 2018-01-03 16:55:03   \n...         ...        ...        ...          ...                 ...   \n215488  64012.0  51.324559  12.338043  1439.983333 2018-08-30 00:00:00   \n215489  64012.0  51.324559  12.338043  1439.983333 2018-08-31 00:00:00   \n215490  64012.0  51.324559  12.338043  1439.983333 2018-09-01 00:00:00   \n215491  64012.0  51.324559  12.338043  1439.983333 2018-09-02 00:00:00   \n215492  64012.0  51.324559  12.338043   493.750000 2018-09-03 00:00:00   \n\n                  time_end  idle_time_next_day  over_night  \n0      2017-12-31 23:59:59          821.733333           1  \n1      2018-01-01 23:59:59          877.033333           1  \n2      2018-01-02 15:31:44            0.000000           0  \n3      2018-01-02 23:59:59          999.333333           1  \n4      2018-01-03 23:59:59         1439.000000           1  \n...                    ...                 ...         ...  \n215488 2018-08-30 23:59:59         1439.000000           1  \n215489 2018-08-31 23:59:59         1439.000000           1  \n215490 2018-09-01 23:59:59         1439.000000           1  \n215491 2018-09-02 23:59:59          493.750000           1  \n215492 2018-09-03 08:13:44            0.000000           0  \n\n[215493 rows x 8 columns]",
      "text/html": "<div>\n<style scoped>\n    .dataframe tbody tr th:only-of-type {\n        vertical-align: middle;\n    }\n\n    .dataframe tbody tr th {\n        vertical-align: top;\n    }\n\n    .dataframe thead th {\n        text-align: right;\n    }\n</style>\n<table border=\"1\" class=\"dataframe\">\n  <thead>\n    <tr style=\"text-align: right;\">\n      <th></th>\n      <th>bike_id</th>\n      <th>lat</th>\n      <th>lng</th>\n      <th>idle_time</th>\n      <th>time_start</th>\n      <th>time_end</th>\n      <th>idle_time_next_day</th>\n      <th>over_night</th>\n    </tr>\n  </thead>\n  <tbody>\n    <tr>\n      <th>0</th>\n      <td>3694.0</td>\n      <td>51.323619</td>\n      <td>12.335887</td>\n      <td>12.833333</td>\n      <td>2017-12-31 23:47:09</td>\n      <td>2017-12-31 23:59:59</td>\n      <td>821.733333</td>\n      <td>1</td>\n    </tr>\n    <tr>\n      <th>1</th>\n      <td>3694.0</td>\n      <td>51.343813</td>\n      <td>12.381495</td>\n      <td>608.883333</td>\n      <td>2018-01-01 13:51:06</td>\n      <td>2018-01-01 23:59:59</td>\n      <td>877.033333</td>\n      <td>1</td>\n    </tr>\n    <tr>\n      <th>2</th>\n      <td>3694.0</td>\n      <td>51.343076</td>\n      <td>12.365177</td>\n      <td>35.850000</td>\n      <td>2018-01-02 14:55:53</td>\n      <td>2018-01-02 15:31:44</td>\n      <td>0.000000</td>\n      <td>0</td>\n    </tr>\n    <tr>\n      <th>3</th>\n      <td>3694.0</td>\n      <td>51.332874</td>\n      <td>12.373261</td>\n      <td>66.233333</td>\n      <td>2018-01-02 22:53:45</td>\n      <td>2018-01-02 23:59:59</td>\n      <td>999.333333</td>\n      <td>1</td>\n    </tr>\n    <tr>\n      <th>4</th>\n      <td>3694.0</td>\n      <td>51.297564</td>\n      <td>12.293015</td>\n      <td>424.933333</td>\n      <td>2018-01-03 16:55:03</td>\n      <td>2018-01-03 23:59:59</td>\n      <td>1439.000000</td>\n      <td>1</td>\n    </tr>\n    <tr>\n      <th>...</th>\n      <td>...</td>\n      <td>...</td>\n      <td>...</td>\n      <td>...</td>\n      <td>...</td>\n      <td>...</td>\n      <td>...</td>\n      <td>...</td>\n    </tr>\n    <tr>\n      <th>215488</th>\n      <td>64012.0</td>\n      <td>51.324559</td>\n      <td>12.338043</td>\n      <td>1439.983333</td>\n      <td>2018-08-30 00:00:00</td>\n      <td>2018-08-30 23:59:59</td>\n      <td>1439.000000</td>\n      <td>1</td>\n    </tr>\n    <tr>\n      <th>215489</th>\n      <td>64012.0</td>\n      <td>51.324559</td>\n      <td>12.338043</td>\n      <td>1439.983333</td>\n      <td>2018-08-31 00:00:00</td>\n      <td>2018-08-31 23:59:59</td>\n      <td>1439.000000</td>\n      <td>1</td>\n    </tr>\n    <tr>\n      <th>215490</th>\n      <td>64012.0</td>\n      <td>51.324559</td>\n      <td>12.338043</td>\n      <td>1439.983333</td>\n      <td>2018-09-01 00:00:00</td>\n      <td>2018-09-01 23:59:59</td>\n      <td>1439.000000</td>\n      <td>1</td>\n    </tr>\n    <tr>\n      <th>215491</th>\n      <td>64012.0</td>\n      <td>51.324559</td>\n      <td>12.338043</td>\n      <td>1439.983333</td>\n      <td>2018-09-02 00:00:00</td>\n      <td>2018-09-02 23:59:59</td>\n      <td>493.750000</td>\n      <td>1</td>\n    </tr>\n    <tr>\n      <th>215492</th>\n      <td>64012.0</td>\n      <td>51.324559</td>\n      <td>12.338043</td>\n      <td>493.750000</td>\n      <td>2018-09-03 00:00:00</td>\n      <td>2018-09-03 08:13:44</td>\n      <td>0.000000</td>\n      <td>0</td>\n    </tr>\n  </tbody>\n</table>\n<p>215493 rows × 8 columns</p>\n</div>"
     },
     "execution_count": 386,
     "metadata": {},
     "output_type": "execute_result"
    }
   ],
   "source": [
    "df_points"
   ],
   "metadata": {
    "collapsed": false,
    "pycharm": {
     "name": "#%%\n"
    }
   }
  },
  {
   "cell_type": "markdown",
   "source": [
    "change type to int"
   ],
   "metadata": {
    "collapsed": false
   }
  },
  {
   "cell_type": "code",
   "execution_count": 387,
   "id": "3bf78e2f",
   "metadata": {},
   "outputs": [
    {
     "data": {
      "text/plain": "        bike_id        lat        lng  idle_time          time_start  \\\n0        3694.0  51.323619  12.335887         12 2017-12-31 23:47:09   \n1        3694.0  51.343813  12.381495        608 2018-01-01 13:51:06   \n2        3694.0  51.343076  12.365177         35 2018-01-02 14:55:53   \n3        3694.0  51.332874  12.373261         66 2018-01-02 22:53:45   \n4        3694.0  51.297564  12.293015        424 2018-01-03 16:55:03   \n...         ...        ...        ...        ...                 ...   \n215488  64012.0  51.324559  12.338043       1439 2018-08-30 00:00:00   \n215489  64012.0  51.324559  12.338043       1439 2018-08-31 00:00:00   \n215490  64012.0  51.324559  12.338043       1439 2018-09-01 00:00:00   \n215491  64012.0  51.324559  12.338043       1439 2018-09-02 00:00:00   \n215492  64012.0  51.324559  12.338043        493 2018-09-03 00:00:00   \n\n                  time_end  idle_time_next_day  over_night  \n0      2017-12-31 23:59:59                 821           1  \n1      2018-01-01 23:59:59                 877           1  \n2      2018-01-02 15:31:44                   0           0  \n3      2018-01-02 23:59:59                 999           1  \n4      2018-01-03 23:59:59                1439           1  \n...                    ...                 ...         ...  \n215488 2018-08-30 23:59:59                1439           1  \n215489 2018-08-31 23:59:59                1439           1  \n215490 2018-09-01 23:59:59                1439           1  \n215491 2018-09-02 23:59:59                 493           1  \n215492 2018-09-03 08:13:44                   0           0  \n\n[215493 rows x 8 columns]",
      "text/html": "<div>\n<style scoped>\n    .dataframe tbody tr th:only-of-type {\n        vertical-align: middle;\n    }\n\n    .dataframe tbody tr th {\n        vertical-align: top;\n    }\n\n    .dataframe thead th {\n        text-align: right;\n    }\n</style>\n<table border=\"1\" class=\"dataframe\">\n  <thead>\n    <tr style=\"text-align: right;\">\n      <th></th>\n      <th>bike_id</th>\n      <th>lat</th>\n      <th>lng</th>\n      <th>idle_time</th>\n      <th>time_start</th>\n      <th>time_end</th>\n      <th>idle_time_next_day</th>\n      <th>over_night</th>\n    </tr>\n  </thead>\n  <tbody>\n    <tr>\n      <th>0</th>\n      <td>3694.0</td>\n      <td>51.323619</td>\n      <td>12.335887</td>\n      <td>12</td>\n      <td>2017-12-31 23:47:09</td>\n      <td>2017-12-31 23:59:59</td>\n      <td>821</td>\n      <td>1</td>\n    </tr>\n    <tr>\n      <th>1</th>\n      <td>3694.0</td>\n      <td>51.343813</td>\n      <td>12.381495</td>\n      <td>608</td>\n      <td>2018-01-01 13:51:06</td>\n      <td>2018-01-01 23:59:59</td>\n      <td>877</td>\n      <td>1</td>\n    </tr>\n    <tr>\n      <th>2</th>\n      <td>3694.0</td>\n      <td>51.343076</td>\n      <td>12.365177</td>\n      <td>35</td>\n      <td>2018-01-02 14:55:53</td>\n      <td>2018-01-02 15:31:44</td>\n      <td>0</td>\n      <td>0</td>\n    </tr>\n    <tr>\n      <th>3</th>\n      <td>3694.0</td>\n      <td>51.332874</td>\n      <td>12.373261</td>\n      <td>66</td>\n      <td>2018-01-02 22:53:45</td>\n      <td>2018-01-02 23:59:59</td>\n      <td>999</td>\n      <td>1</td>\n    </tr>\n    <tr>\n      <th>4</th>\n      <td>3694.0</td>\n      <td>51.297564</td>\n      <td>12.293015</td>\n      <td>424</td>\n      <td>2018-01-03 16:55:03</td>\n      <td>2018-01-03 23:59:59</td>\n      <td>1439</td>\n      <td>1</td>\n    </tr>\n    <tr>\n      <th>...</th>\n      <td>...</td>\n      <td>...</td>\n      <td>...</td>\n      <td>...</td>\n      <td>...</td>\n      <td>...</td>\n      <td>...</td>\n      <td>...</td>\n    </tr>\n    <tr>\n      <th>215488</th>\n      <td>64012.0</td>\n      <td>51.324559</td>\n      <td>12.338043</td>\n      <td>1439</td>\n      <td>2018-08-30 00:00:00</td>\n      <td>2018-08-30 23:59:59</td>\n      <td>1439</td>\n      <td>1</td>\n    </tr>\n    <tr>\n      <th>215489</th>\n      <td>64012.0</td>\n      <td>51.324559</td>\n      <td>12.338043</td>\n      <td>1439</td>\n      <td>2018-08-31 00:00:00</td>\n      <td>2018-08-31 23:59:59</td>\n      <td>1439</td>\n      <td>1</td>\n    </tr>\n    <tr>\n      <th>215490</th>\n      <td>64012.0</td>\n      <td>51.324559</td>\n      <td>12.338043</td>\n      <td>1439</td>\n      <td>2018-09-01 00:00:00</td>\n      <td>2018-09-01 23:59:59</td>\n      <td>1439</td>\n      <td>1</td>\n    </tr>\n    <tr>\n      <th>215491</th>\n      <td>64012.0</td>\n      <td>51.324559</td>\n      <td>12.338043</td>\n      <td>1439</td>\n      <td>2018-09-02 00:00:00</td>\n      <td>2018-09-02 23:59:59</td>\n      <td>493</td>\n      <td>1</td>\n    </tr>\n    <tr>\n      <th>215492</th>\n      <td>64012.0</td>\n      <td>51.324559</td>\n      <td>12.338043</td>\n      <td>493</td>\n      <td>2018-09-03 00:00:00</td>\n      <td>2018-09-03 08:13:44</td>\n      <td>0</td>\n      <td>0</td>\n    </tr>\n  </tbody>\n</table>\n<p>215493 rows × 8 columns</p>\n</div>"
     },
     "execution_count": 387,
     "metadata": {},
     "output_type": "execute_result"
    }
   ],
   "source": [
    "df_points['idle_time'] = df_points['idle_time'].astype(int)\n",
    "df_points['idle_time_next_day'] = df_points['idle_time_next_day'].astype(int)\n",
    "df_points"
   ]
  },
  {
   "cell_type": "markdown",
   "id": "3a3c97d2",
   "metadata": {},
   "source": [
    "# Save V2 df_points split"
   ]
  },
  {
   "cell_type": "code",
   "execution_count": 388,
   "id": "8d901a75",
   "metadata": {},
   "outputs": [
    {
     "data": {
      "text/plain": "1439"
     },
     "execution_count": 388,
     "metadata": {},
     "output_type": "execute_result"
    }
   ],
   "source": [
    "df_points['idle_time'].max()"
   ]
  },
  {
   "cell_type": "code",
   "execution_count": 389,
   "id": "991143a4",
   "metadata": {},
   "outputs": [
    {
     "data": {
      "text/plain": "   bike_id        lat        lng  idle_time          time_start  \\\n0   3694.0  51.323619  12.335887         12 2017-12-31 23:47:09   \n1   3694.0  51.343813  12.381495        608 2018-01-01 13:51:06   \n2   3694.0  51.343076  12.365177         35 2018-01-02 14:55:53   \n3   3694.0  51.332874  12.373261         66 2018-01-02 22:53:45   \n4   3694.0  51.297564  12.293015        424 2018-01-03 16:55:03   \n\n             time_end  idle_time_next_day  over_night  \n0 2017-12-31 23:59:59                 821           1  \n1 2018-01-01 23:59:59                 877           1  \n2 2018-01-02 15:31:44                   0           0  \n3 2018-01-02 23:59:59                 999           1  \n4 2018-01-03 23:59:59                1439           1  ",
      "text/html": "<div>\n<style scoped>\n    .dataframe tbody tr th:only-of-type {\n        vertical-align: middle;\n    }\n\n    .dataframe tbody tr th {\n        vertical-align: top;\n    }\n\n    .dataframe thead th {\n        text-align: right;\n    }\n</style>\n<table border=\"1\" class=\"dataframe\">\n  <thead>\n    <tr style=\"text-align: right;\">\n      <th></th>\n      <th>bike_id</th>\n      <th>lat</th>\n      <th>lng</th>\n      <th>idle_time</th>\n      <th>time_start</th>\n      <th>time_end</th>\n      <th>idle_time_next_day</th>\n      <th>over_night</th>\n    </tr>\n  </thead>\n  <tbody>\n    <tr>\n      <th>0</th>\n      <td>3694.0</td>\n      <td>51.323619</td>\n      <td>12.335887</td>\n      <td>12</td>\n      <td>2017-12-31 23:47:09</td>\n      <td>2017-12-31 23:59:59</td>\n      <td>821</td>\n      <td>1</td>\n    </tr>\n    <tr>\n      <th>1</th>\n      <td>3694.0</td>\n      <td>51.343813</td>\n      <td>12.381495</td>\n      <td>608</td>\n      <td>2018-01-01 13:51:06</td>\n      <td>2018-01-01 23:59:59</td>\n      <td>877</td>\n      <td>1</td>\n    </tr>\n    <tr>\n      <th>2</th>\n      <td>3694.0</td>\n      <td>51.343076</td>\n      <td>12.365177</td>\n      <td>35</td>\n      <td>2018-01-02 14:55:53</td>\n      <td>2018-01-02 15:31:44</td>\n      <td>0</td>\n      <td>0</td>\n    </tr>\n    <tr>\n      <th>3</th>\n      <td>3694.0</td>\n      <td>51.332874</td>\n      <td>12.373261</td>\n      <td>66</td>\n      <td>2018-01-02 22:53:45</td>\n      <td>2018-01-02 23:59:59</td>\n      <td>999</td>\n      <td>1</td>\n    </tr>\n    <tr>\n      <th>4</th>\n      <td>3694.0</td>\n      <td>51.297564</td>\n      <td>12.293015</td>\n      <td>424</td>\n      <td>2018-01-03 16:55:03</td>\n      <td>2018-01-03 23:59:59</td>\n      <td>1439</td>\n      <td>1</td>\n    </tr>\n  </tbody>\n</table>\n</div>"
     },
     "execution_count": 389,
     "metadata": {},
     "output_type": "execute_result"
    }
   ],
   "source": [
    "df_points.head()"
   ]
  },
  {
   "cell_type": "markdown",
   "id": "8ac57725",
   "metadata": {},
   "source": [
    "## Add H3 Index"
   ]
  },
  {
   "cell_type": "code",
   "execution_count": 390,
   "id": "3d822988",
   "metadata": {},
   "outputs": [
    {
     "name": "stderr",
     "output_type": "stream",
     "text": [
      "100%|██████████| 215493/215493 [00:05<00:00, 42968.98it/s]\n"
     ]
    },
    {
     "data": {
      "text/plain": "   bike_id        lat        lng  idle_time          time_start  \\\n0   3694.0  51.323619  12.335887         12 2017-12-31 23:47:09   \n1   3694.0  51.343813  12.381495        608 2018-01-01 13:51:06   \n2   3694.0  51.343076  12.365177         35 2018-01-02 14:55:53   \n3   3694.0  51.332874  12.373261         66 2018-01-02 22:53:45   \n4   3694.0  51.297564  12.293015        424 2018-01-03 16:55:03   \n\n             time_end  idle_time_next_day  over_night           hex_id  \n0 2017-12-31 23:59:59                 821           1  881f1a8d91fffff  \n1 2018-01-01 23:59:59                 877           1  881f1a8cb1fffff  \n2 2018-01-02 15:31:44                   0           0  881f1a8cbdfffff  \n3 2018-01-02 23:59:59                 999           1  881f1a164bfffff  \n4 2018-01-03 23:59:59                1439           1  881f1a8da3fffff  ",
      "text/html": "<div>\n<style scoped>\n    .dataframe tbody tr th:only-of-type {\n        vertical-align: middle;\n    }\n\n    .dataframe tbody tr th {\n        vertical-align: top;\n    }\n\n    .dataframe thead th {\n        text-align: right;\n    }\n</style>\n<table border=\"1\" class=\"dataframe\">\n  <thead>\n    <tr style=\"text-align: right;\">\n      <th></th>\n      <th>bike_id</th>\n      <th>lat</th>\n      <th>lng</th>\n      <th>idle_time</th>\n      <th>time_start</th>\n      <th>time_end</th>\n      <th>idle_time_next_day</th>\n      <th>over_night</th>\n      <th>hex_id</th>\n    </tr>\n  </thead>\n  <tbody>\n    <tr>\n      <th>0</th>\n      <td>3694.0</td>\n      <td>51.323619</td>\n      <td>12.335887</td>\n      <td>12</td>\n      <td>2017-12-31 23:47:09</td>\n      <td>2017-12-31 23:59:59</td>\n      <td>821</td>\n      <td>1</td>\n      <td>881f1a8d91fffff</td>\n    </tr>\n    <tr>\n      <th>1</th>\n      <td>3694.0</td>\n      <td>51.343813</td>\n      <td>12.381495</td>\n      <td>608</td>\n      <td>2018-01-01 13:51:06</td>\n      <td>2018-01-01 23:59:59</td>\n      <td>877</td>\n      <td>1</td>\n      <td>881f1a8cb1fffff</td>\n    </tr>\n    <tr>\n      <th>2</th>\n      <td>3694.0</td>\n      <td>51.343076</td>\n      <td>12.365177</td>\n      <td>35</td>\n      <td>2018-01-02 14:55:53</td>\n      <td>2018-01-02 15:31:44</td>\n      <td>0</td>\n      <td>0</td>\n      <td>881f1a8cbdfffff</td>\n    </tr>\n    <tr>\n      <th>3</th>\n      <td>3694.0</td>\n      <td>51.332874</td>\n      <td>12.373261</td>\n      <td>66</td>\n      <td>2018-01-02 22:53:45</td>\n      <td>2018-01-02 23:59:59</td>\n      <td>999</td>\n      <td>1</td>\n      <td>881f1a164bfffff</td>\n    </tr>\n    <tr>\n      <th>4</th>\n      <td>3694.0</td>\n      <td>51.297564</td>\n      <td>12.293015</td>\n      <td>424</td>\n      <td>2018-01-03 16:55:03</td>\n      <td>2018-01-03 23:59:59</td>\n      <td>1439</td>\n      <td>1</td>\n      <td>881f1a8da3fffff</td>\n    </tr>\n  </tbody>\n</table>\n</div>"
     },
     "execution_count": 390,
     "metadata": {},
     "output_type": "execute_result"
    }
   ],
   "source": [
    "import h3\n",
    "\n",
    "df_points['hex_id'] = 0\n",
    "\n",
    "for ind in tqdm(df_points.index):\n",
    "    df_points['hex_id'][ind] = h3.geo_to_h3(df_points['lat'][ind], df_points['lng'][ind], 8)\n",
    "df_points.head()"
   ]
  },
  {
   "cell_type": "markdown",
   "id": "83a28483",
   "metadata": {},
   "source": [
    "# Add weather Data"
   ]
  },
  {
   "cell_type": "code",
   "execution_count": 391,
   "outputs": [
    {
     "name": "stderr",
     "output_type": "stream",
     "text": [
      "100%|██████████| 215493/215493 [03:33<00:00, 1009.96it/s]\n"
     ]
    },
    {
     "data": {
      "text/plain": "        bike_id        lat        lng  idle_time          time_start  \\\n0        3694.0  51.323619  12.335887         12 2017-12-31 23:47:09   \n1        3694.0  51.343813  12.381495        608 2018-01-01 13:51:06   \n2        3694.0  51.343076  12.365177         35 2018-01-02 14:55:53   \n3        3694.0  51.332874  12.373261         66 2018-01-02 22:53:45   \n4        3694.0  51.297564  12.293015        424 2018-01-03 16:55:03   \n...         ...        ...        ...        ...                 ...   \n215488  64012.0  51.324559  12.338043       1439 2018-08-30 00:00:00   \n215489  64012.0  51.324559  12.338043       1439 2018-08-31 00:00:00   \n215490  64012.0  51.324559  12.338043       1439 2018-09-01 00:00:00   \n215491  64012.0  51.324559  12.338043       1439 2018-09-02 00:00:00   \n215492  64012.0  51.324559  12.338043        493 2018-09-03 00:00:00   \n\n                  time_end  idle_time_next_day  over_night           hex_id  \\\n0      2017-12-31 23:59:59                 821           1  881f1a8d91fffff   \n1      2018-01-01 23:59:59                 877           1  881f1a8cb1fffff   \n2      2018-01-02 15:31:44                   0           0  881f1a8cbdfffff   \n3      2018-01-02 23:59:59                 999           1  881f1a164bfffff   \n4      2018-01-03 23:59:59                1439           1  881f1a8da3fffff   \n...                    ...                 ...         ...              ...   \n215488 2018-08-30 23:59:59                1439           1  881f1a8d93fffff   \n215489 2018-08-31 23:59:59                1439           1  881f1a8d93fffff   \n215490 2018-09-01 23:59:59                1439           1  881f1a8d93fffff   \n215491 2018-09-02 23:59:59                 493           1  881f1a8d93fffff   \n215492 2018-09-03 08:13:44                   0           0  881f1a8d93fffff   \n\n         temp  rain  snow  \n0       10.80   NaN   NaN  \n1        8.52   NaN   NaN  \n2        6.11   NaN   NaN  \n3        2.96   NaN   NaN  \n4        7.11  0.14   NaN  \n...       ...   ...   ...  \n215488  21.11   NaN   NaN  \n215489  14.11   NaN   NaN  \n215490  12.11   NaN   NaN  \n215491  16.11   NaN   NaN  \n215492  16.11  0.40   NaN  \n\n[215493 rows x 12 columns]",
      "text/html": "<div>\n<style scoped>\n    .dataframe tbody tr th:only-of-type {\n        vertical-align: middle;\n    }\n\n    .dataframe tbody tr th {\n        vertical-align: top;\n    }\n\n    .dataframe thead th {\n        text-align: right;\n    }\n</style>\n<table border=\"1\" class=\"dataframe\">\n  <thead>\n    <tr style=\"text-align: right;\">\n      <th></th>\n      <th>bike_id</th>\n      <th>lat</th>\n      <th>lng</th>\n      <th>idle_time</th>\n      <th>time_start</th>\n      <th>time_end</th>\n      <th>idle_time_next_day</th>\n      <th>over_night</th>\n      <th>hex_id</th>\n      <th>temp</th>\n      <th>rain</th>\n      <th>snow</th>\n    </tr>\n  </thead>\n  <tbody>\n    <tr>\n      <th>0</th>\n      <td>3694.0</td>\n      <td>51.323619</td>\n      <td>12.335887</td>\n      <td>12</td>\n      <td>2017-12-31 23:47:09</td>\n      <td>2017-12-31 23:59:59</td>\n      <td>821</td>\n      <td>1</td>\n      <td>881f1a8d91fffff</td>\n      <td>10.80</td>\n      <td>NaN</td>\n      <td>NaN</td>\n    </tr>\n    <tr>\n      <th>1</th>\n      <td>3694.0</td>\n      <td>51.343813</td>\n      <td>12.381495</td>\n      <td>608</td>\n      <td>2018-01-01 13:51:06</td>\n      <td>2018-01-01 23:59:59</td>\n      <td>877</td>\n      <td>1</td>\n      <td>881f1a8cb1fffff</td>\n      <td>8.52</td>\n      <td>NaN</td>\n      <td>NaN</td>\n    </tr>\n    <tr>\n      <th>2</th>\n      <td>3694.0</td>\n      <td>51.343076</td>\n      <td>12.365177</td>\n      <td>35</td>\n      <td>2018-01-02 14:55:53</td>\n      <td>2018-01-02 15:31:44</td>\n      <td>0</td>\n      <td>0</td>\n      <td>881f1a8cbdfffff</td>\n      <td>6.11</td>\n      <td>NaN</td>\n      <td>NaN</td>\n    </tr>\n    <tr>\n      <th>3</th>\n      <td>3694.0</td>\n      <td>51.332874</td>\n      <td>12.373261</td>\n      <td>66</td>\n      <td>2018-01-02 22:53:45</td>\n      <td>2018-01-02 23:59:59</td>\n      <td>999</td>\n      <td>1</td>\n      <td>881f1a164bfffff</td>\n      <td>2.96</td>\n      <td>NaN</td>\n      <td>NaN</td>\n    </tr>\n    <tr>\n      <th>4</th>\n      <td>3694.0</td>\n      <td>51.297564</td>\n      <td>12.293015</td>\n      <td>424</td>\n      <td>2018-01-03 16:55:03</td>\n      <td>2018-01-03 23:59:59</td>\n      <td>1439</td>\n      <td>1</td>\n      <td>881f1a8da3fffff</td>\n      <td>7.11</td>\n      <td>0.14</td>\n      <td>NaN</td>\n    </tr>\n    <tr>\n      <th>...</th>\n      <td>...</td>\n      <td>...</td>\n      <td>...</td>\n      <td>...</td>\n      <td>...</td>\n      <td>...</td>\n      <td>...</td>\n      <td>...</td>\n      <td>...</td>\n      <td>...</td>\n      <td>...</td>\n      <td>...</td>\n    </tr>\n    <tr>\n      <th>215488</th>\n      <td>64012.0</td>\n      <td>51.324559</td>\n      <td>12.338043</td>\n      <td>1439</td>\n      <td>2018-08-30 00:00:00</td>\n      <td>2018-08-30 23:59:59</td>\n      <td>1439</td>\n      <td>1</td>\n      <td>881f1a8d93fffff</td>\n      <td>21.11</td>\n      <td>NaN</td>\n      <td>NaN</td>\n    </tr>\n    <tr>\n      <th>215489</th>\n      <td>64012.0</td>\n      <td>51.324559</td>\n      <td>12.338043</td>\n      <td>1439</td>\n      <td>2018-08-31 00:00:00</td>\n      <td>2018-08-31 23:59:59</td>\n      <td>1439</td>\n      <td>1</td>\n      <td>881f1a8d93fffff</td>\n      <td>14.11</td>\n      <td>NaN</td>\n      <td>NaN</td>\n    </tr>\n    <tr>\n      <th>215490</th>\n      <td>64012.0</td>\n      <td>51.324559</td>\n      <td>12.338043</td>\n      <td>1439</td>\n      <td>2018-09-01 00:00:00</td>\n      <td>2018-09-01 23:59:59</td>\n      <td>1439</td>\n      <td>1</td>\n      <td>881f1a8d93fffff</td>\n      <td>12.11</td>\n      <td>NaN</td>\n      <td>NaN</td>\n    </tr>\n    <tr>\n      <th>215491</th>\n      <td>64012.0</td>\n      <td>51.324559</td>\n      <td>12.338043</td>\n      <td>1439</td>\n      <td>2018-09-02 00:00:00</td>\n      <td>2018-09-02 23:59:59</td>\n      <td>493</td>\n      <td>1</td>\n      <td>881f1a8d93fffff</td>\n      <td>16.11</td>\n      <td>NaN</td>\n      <td>NaN</td>\n    </tr>\n    <tr>\n      <th>215492</th>\n      <td>64012.0</td>\n      <td>51.324559</td>\n      <td>12.338043</td>\n      <td>493</td>\n      <td>2018-09-03 00:00:00</td>\n      <td>2018-09-03 08:13:44</td>\n      <td>0</td>\n      <td>0</td>\n      <td>881f1a8d93fffff</td>\n      <td>16.11</td>\n      <td>0.40</td>\n      <td>NaN</td>\n    </tr>\n  </tbody>\n</table>\n<p>215493 rows × 12 columns</p>\n</div>"
     },
     "execution_count": 391,
     "metadata": {},
     "output_type": "execute_result"
    }
   ],
   "source": [
    "dfw = pd.read_csv('../data/weather_data.csv')\n",
    "dfw['datetime'] = pd.to_datetime(dfw['dt'], unit='s')\n",
    "dfw = dfw.set_index(['datetime'])\n",
    "dfw.head()\n",
    "\n",
    "df_points['temp'] = np.nan\n",
    "df_points['rain'] = np.nan\n",
    "df_points['snow'] = np.nan\n",
    "\n",
    "from tqdm import tqdm\n",
    "pd.options.mode.chained_assignment = None\n",
    "\n",
    "for ind in tqdm(df_points.index):\n",
    "    wint = df_points['time_start'][ind].replace(minute=0,second=0)\n",
    "    df_points['temp'][ind] = dfw['temp'][wint].copy()\n",
    "    df_points['rain'][ind] = dfw['rain_1h'][wint].copy()\n",
    "    df_points['snow'][ind] = dfw['snow_1h'][wint].copy()\n",
    "\n",
    "df_points"
   ],
   "metadata": {
    "collapsed": false,
    "pycharm": {
     "name": "#%%\n"
    }
   }
  },
  {
   "cell_type": "markdown",
   "source": [
    "add unix timestamps"
   ],
   "metadata": {
    "collapsed": false
   }
  },
  {
   "cell_type": "code",
   "execution_count": 392,
   "outputs": [],
   "source": [
    "df_points['dt_start'] = pd.to_datetime(df_points['time_start']).map(pd.Timestamp.timestamp).astype(int)\n",
    "df_points['dt_end'] = pd.to_datetime(df_points['time_end']).map(pd.Timestamp.timestamp).astype(int)\n",
    "df_points['bike_id'] = df_points['bike_id'].astype(int)"
   ],
   "metadata": {
    "collapsed": false,
    "pycharm": {
     "name": "#%%\n"
    }
   }
  },
  {
   "cell_type": "markdown",
   "source": [
    "# Add start time Feature"
   ],
   "metadata": {
    "collapsed": false
   }
  },
  {
   "cell_type": "code",
   "execution_count": 393,
   "outputs": [],
   "source": [
    "def add_start_min_feature(row):\n",
    "    return ((row['dt_start'] % 86400) / 60).__round__(0)\n",
    "\n",
    "df_points['start_min'] = df_points.apply(add_start_min_feature,axis=1)\n",
    "df_points['start_min'] = df_points['start_min'].astype(int)"
   ],
   "metadata": {
    "collapsed": false,
    "pycharm": {
     "name": "#%%\n"
    }
   }
  },
  {
   "cell_type": "code",
   "execution_count": 394,
   "outputs": [
    {
     "data": {
      "text/plain": "        bike_id        lat        lng  idle_time          time_start  \\\n0          3694  51.323619  12.335887         12 2017-12-31 23:47:09   \n1          3694  51.343813  12.381495        608 2018-01-01 13:51:06   \n2          3694  51.343076  12.365177         35 2018-01-02 14:55:53   \n3          3694  51.332874  12.373261         66 2018-01-02 22:53:45   \n4          3694  51.297564  12.293015        424 2018-01-03 16:55:03   \n...         ...        ...        ...        ...                 ...   \n215488    64012  51.324559  12.338043       1439 2018-08-30 00:00:00   \n215489    64012  51.324559  12.338043       1439 2018-08-31 00:00:00   \n215490    64012  51.324559  12.338043       1439 2018-09-01 00:00:00   \n215491    64012  51.324559  12.338043       1439 2018-09-02 00:00:00   \n215492    64012  51.324559  12.338043        493 2018-09-03 00:00:00   \n\n                  time_end  idle_time_next_day  over_night           hex_id  \\\n0      2017-12-31 23:59:59                 821           1  881f1a8d91fffff   \n1      2018-01-01 23:59:59                 877           1  881f1a8cb1fffff   \n2      2018-01-02 15:31:44                   0           0  881f1a8cbdfffff   \n3      2018-01-02 23:59:59                 999           1  881f1a164bfffff   \n4      2018-01-03 23:59:59                1439           1  881f1a8da3fffff   \n...                    ...                 ...         ...              ...   \n215488 2018-08-30 23:59:59                1439           1  881f1a8d93fffff   \n215489 2018-08-31 23:59:59                1439           1  881f1a8d93fffff   \n215490 2018-09-01 23:59:59                1439           1  881f1a8d93fffff   \n215491 2018-09-02 23:59:59                 493           1  881f1a8d93fffff   \n215492 2018-09-03 08:13:44                   0           0  881f1a8d93fffff   \n\n         temp  rain  snow    dt_start      dt_end  start_min  \n0       10.80   NaN   NaN  1514764029  1514764799       1427  \n1        8.52   NaN   NaN  1514814666  1514851199        831  \n2        6.11   NaN   NaN  1514904953  1514907104        896  \n3        2.96   NaN   NaN  1514933625  1514937599       1374  \n4        7.11  0.14   NaN  1514998503  1515023999       1015  \n...       ...   ...   ...         ...         ...        ...  \n215488  21.11   NaN   NaN  1535587200  1535673599          0  \n215489  14.11   NaN   NaN  1535673600  1535759999          0  \n215490  12.11   NaN   NaN  1535760000  1535846399          0  \n215491  16.11   NaN   NaN  1535846400  1535932799          0  \n215492  16.11  0.40   NaN  1535932800  1535962424          0  \n\n[215493 rows x 15 columns]",
      "text/html": "<div>\n<style scoped>\n    .dataframe tbody tr th:only-of-type {\n        vertical-align: middle;\n    }\n\n    .dataframe tbody tr th {\n        vertical-align: top;\n    }\n\n    .dataframe thead th {\n        text-align: right;\n    }\n</style>\n<table border=\"1\" class=\"dataframe\">\n  <thead>\n    <tr style=\"text-align: right;\">\n      <th></th>\n      <th>bike_id</th>\n      <th>lat</th>\n      <th>lng</th>\n      <th>idle_time</th>\n      <th>time_start</th>\n      <th>time_end</th>\n      <th>idle_time_next_day</th>\n      <th>over_night</th>\n      <th>hex_id</th>\n      <th>temp</th>\n      <th>rain</th>\n      <th>snow</th>\n      <th>dt_start</th>\n      <th>dt_end</th>\n      <th>start_min</th>\n    </tr>\n  </thead>\n  <tbody>\n    <tr>\n      <th>0</th>\n      <td>3694</td>\n      <td>51.323619</td>\n      <td>12.335887</td>\n      <td>12</td>\n      <td>2017-12-31 23:47:09</td>\n      <td>2017-12-31 23:59:59</td>\n      <td>821</td>\n      <td>1</td>\n      <td>881f1a8d91fffff</td>\n      <td>10.80</td>\n      <td>NaN</td>\n      <td>NaN</td>\n      <td>1514764029</td>\n      <td>1514764799</td>\n      <td>1427</td>\n    </tr>\n    <tr>\n      <th>1</th>\n      <td>3694</td>\n      <td>51.343813</td>\n      <td>12.381495</td>\n      <td>608</td>\n      <td>2018-01-01 13:51:06</td>\n      <td>2018-01-01 23:59:59</td>\n      <td>877</td>\n      <td>1</td>\n      <td>881f1a8cb1fffff</td>\n      <td>8.52</td>\n      <td>NaN</td>\n      <td>NaN</td>\n      <td>1514814666</td>\n      <td>1514851199</td>\n      <td>831</td>\n    </tr>\n    <tr>\n      <th>2</th>\n      <td>3694</td>\n      <td>51.343076</td>\n      <td>12.365177</td>\n      <td>35</td>\n      <td>2018-01-02 14:55:53</td>\n      <td>2018-01-02 15:31:44</td>\n      <td>0</td>\n      <td>0</td>\n      <td>881f1a8cbdfffff</td>\n      <td>6.11</td>\n      <td>NaN</td>\n      <td>NaN</td>\n      <td>1514904953</td>\n      <td>1514907104</td>\n      <td>896</td>\n    </tr>\n    <tr>\n      <th>3</th>\n      <td>3694</td>\n      <td>51.332874</td>\n      <td>12.373261</td>\n      <td>66</td>\n      <td>2018-01-02 22:53:45</td>\n      <td>2018-01-02 23:59:59</td>\n      <td>999</td>\n      <td>1</td>\n      <td>881f1a164bfffff</td>\n      <td>2.96</td>\n      <td>NaN</td>\n      <td>NaN</td>\n      <td>1514933625</td>\n      <td>1514937599</td>\n      <td>1374</td>\n    </tr>\n    <tr>\n      <th>4</th>\n      <td>3694</td>\n      <td>51.297564</td>\n      <td>12.293015</td>\n      <td>424</td>\n      <td>2018-01-03 16:55:03</td>\n      <td>2018-01-03 23:59:59</td>\n      <td>1439</td>\n      <td>1</td>\n      <td>881f1a8da3fffff</td>\n      <td>7.11</td>\n      <td>0.14</td>\n      <td>NaN</td>\n      <td>1514998503</td>\n      <td>1515023999</td>\n      <td>1015</td>\n    </tr>\n    <tr>\n      <th>...</th>\n      <td>...</td>\n      <td>...</td>\n      <td>...</td>\n      <td>...</td>\n      <td>...</td>\n      <td>...</td>\n      <td>...</td>\n      <td>...</td>\n      <td>...</td>\n      <td>...</td>\n      <td>...</td>\n      <td>...</td>\n      <td>...</td>\n      <td>...</td>\n      <td>...</td>\n    </tr>\n    <tr>\n      <th>215488</th>\n      <td>64012</td>\n      <td>51.324559</td>\n      <td>12.338043</td>\n      <td>1439</td>\n      <td>2018-08-30 00:00:00</td>\n      <td>2018-08-30 23:59:59</td>\n      <td>1439</td>\n      <td>1</td>\n      <td>881f1a8d93fffff</td>\n      <td>21.11</td>\n      <td>NaN</td>\n      <td>NaN</td>\n      <td>1535587200</td>\n      <td>1535673599</td>\n      <td>0</td>\n    </tr>\n    <tr>\n      <th>215489</th>\n      <td>64012</td>\n      <td>51.324559</td>\n      <td>12.338043</td>\n      <td>1439</td>\n      <td>2018-08-31 00:00:00</td>\n      <td>2018-08-31 23:59:59</td>\n      <td>1439</td>\n      <td>1</td>\n      <td>881f1a8d93fffff</td>\n      <td>14.11</td>\n      <td>NaN</td>\n      <td>NaN</td>\n      <td>1535673600</td>\n      <td>1535759999</td>\n      <td>0</td>\n    </tr>\n    <tr>\n      <th>215490</th>\n      <td>64012</td>\n      <td>51.324559</td>\n      <td>12.338043</td>\n      <td>1439</td>\n      <td>2018-09-01 00:00:00</td>\n      <td>2018-09-01 23:59:59</td>\n      <td>1439</td>\n      <td>1</td>\n      <td>881f1a8d93fffff</td>\n      <td>12.11</td>\n      <td>NaN</td>\n      <td>NaN</td>\n      <td>1535760000</td>\n      <td>1535846399</td>\n      <td>0</td>\n    </tr>\n    <tr>\n      <th>215491</th>\n      <td>64012</td>\n      <td>51.324559</td>\n      <td>12.338043</td>\n      <td>1439</td>\n      <td>2018-09-02 00:00:00</td>\n      <td>2018-09-02 23:59:59</td>\n      <td>493</td>\n      <td>1</td>\n      <td>881f1a8d93fffff</td>\n      <td>16.11</td>\n      <td>NaN</td>\n      <td>NaN</td>\n      <td>1535846400</td>\n      <td>1535932799</td>\n      <td>0</td>\n    </tr>\n    <tr>\n      <th>215492</th>\n      <td>64012</td>\n      <td>51.324559</td>\n      <td>12.338043</td>\n      <td>493</td>\n      <td>2018-09-03 00:00:00</td>\n      <td>2018-09-03 08:13:44</td>\n      <td>0</td>\n      <td>0</td>\n      <td>881f1a8d93fffff</td>\n      <td>16.11</td>\n      <td>0.40</td>\n      <td>NaN</td>\n      <td>1535932800</td>\n      <td>1535962424</td>\n      <td>0</td>\n    </tr>\n  </tbody>\n</table>\n<p>215493 rows × 15 columns</p>\n</div>"
     },
     "execution_count": 394,
     "metadata": {},
     "output_type": "execute_result"
    }
   ],
   "source": [
    "df_points"
   ],
   "metadata": {
    "collapsed": false,
    "pycharm": {
     "name": "#%%\n"
    }
   }
  },
  {
   "cell_type": "markdown",
   "source": [
    "# Add day Feature"
   ],
   "metadata": {
    "collapsed": false,
    "pycharm": {
     "name": "#%% md\n"
    }
   }
  },
  {
   "cell_type": "code",
   "execution_count": 395,
   "outputs": [
    {
     "data": {
      "text/plain": "bike_id                        int64\nlat                          float64\nlng                          float64\nidle_time                      int64\ntime_start            datetime64[ns]\ntime_end              datetime64[ns]\nidle_time_next_day             int64\nover_night                     int64\nhex_id                        object\ntemp                         float64\nrain                         float64\nsnow                         float64\ndt_start                       int64\ndt_end                         int64\nstart_min                      int64\ndtype: object"
     },
     "execution_count": 395,
     "metadata": {},
     "output_type": "execute_result"
    }
   ],
   "source": [
    "df_points.dtypes"
   ],
   "metadata": {
    "collapsed": false,
    "pycharm": {
     "name": "#%%\n"
    }
   }
  },
  {
   "cell_type": "code",
   "execution_count": 396,
   "outputs": [],
   "source": [
    "def add_day_feature(row):\n",
    "    return row['time_start'].dayofweek\n",
    "\n",
    "df_points['day'] = df_points.apply(add_day_feature,axis=1)"
   ],
   "metadata": {
    "collapsed": false,
    "pycharm": {
     "name": "#%%\n"
    }
   }
  },
  {
   "cell_type": "code",
   "execution_count": 397,
   "outputs": [
    {
     "data": {
      "text/plain": "        bike_id        lat        lng  idle_time          time_start  \\\n0          3694  51.323619  12.335887         12 2017-12-31 23:47:09   \n1          3694  51.343813  12.381495        608 2018-01-01 13:51:06   \n2          3694  51.343076  12.365177         35 2018-01-02 14:55:53   \n3          3694  51.332874  12.373261         66 2018-01-02 22:53:45   \n4          3694  51.297564  12.293015        424 2018-01-03 16:55:03   \n...         ...        ...        ...        ...                 ...   \n215488    64012  51.324559  12.338043       1439 2018-08-30 00:00:00   \n215489    64012  51.324559  12.338043       1439 2018-08-31 00:00:00   \n215490    64012  51.324559  12.338043       1439 2018-09-01 00:00:00   \n215491    64012  51.324559  12.338043       1439 2018-09-02 00:00:00   \n215492    64012  51.324559  12.338043        493 2018-09-03 00:00:00   \n\n                  time_end  idle_time_next_day  over_night           hex_id  \\\n0      2017-12-31 23:59:59                 821           1  881f1a8d91fffff   \n1      2018-01-01 23:59:59                 877           1  881f1a8cb1fffff   \n2      2018-01-02 15:31:44                   0           0  881f1a8cbdfffff   \n3      2018-01-02 23:59:59                 999           1  881f1a164bfffff   \n4      2018-01-03 23:59:59                1439           1  881f1a8da3fffff   \n...                    ...                 ...         ...              ...   \n215488 2018-08-30 23:59:59                1439           1  881f1a8d93fffff   \n215489 2018-08-31 23:59:59                1439           1  881f1a8d93fffff   \n215490 2018-09-01 23:59:59                1439           1  881f1a8d93fffff   \n215491 2018-09-02 23:59:59                 493           1  881f1a8d93fffff   \n215492 2018-09-03 08:13:44                   0           0  881f1a8d93fffff   \n\n         temp  rain  snow    dt_start      dt_end  start_min  day  \n0       10.80   NaN   NaN  1514764029  1514764799       1427    6  \n1        8.52   NaN   NaN  1514814666  1514851199        831    0  \n2        6.11   NaN   NaN  1514904953  1514907104        896    1  \n3        2.96   NaN   NaN  1514933625  1514937599       1374    1  \n4        7.11  0.14   NaN  1514998503  1515023999       1015    2  \n...       ...   ...   ...         ...         ...        ...  ...  \n215488  21.11   NaN   NaN  1535587200  1535673599          0    3  \n215489  14.11   NaN   NaN  1535673600  1535759999          0    4  \n215490  12.11   NaN   NaN  1535760000  1535846399          0    5  \n215491  16.11   NaN   NaN  1535846400  1535932799          0    6  \n215492  16.11  0.40   NaN  1535932800  1535962424          0    0  \n\n[215493 rows x 16 columns]",
      "text/html": "<div>\n<style scoped>\n    .dataframe tbody tr th:only-of-type {\n        vertical-align: middle;\n    }\n\n    .dataframe tbody tr th {\n        vertical-align: top;\n    }\n\n    .dataframe thead th {\n        text-align: right;\n    }\n</style>\n<table border=\"1\" class=\"dataframe\">\n  <thead>\n    <tr style=\"text-align: right;\">\n      <th></th>\n      <th>bike_id</th>\n      <th>lat</th>\n      <th>lng</th>\n      <th>idle_time</th>\n      <th>time_start</th>\n      <th>time_end</th>\n      <th>idle_time_next_day</th>\n      <th>over_night</th>\n      <th>hex_id</th>\n      <th>temp</th>\n      <th>rain</th>\n      <th>snow</th>\n      <th>dt_start</th>\n      <th>dt_end</th>\n      <th>start_min</th>\n      <th>day</th>\n    </tr>\n  </thead>\n  <tbody>\n    <tr>\n      <th>0</th>\n      <td>3694</td>\n      <td>51.323619</td>\n      <td>12.335887</td>\n      <td>12</td>\n      <td>2017-12-31 23:47:09</td>\n      <td>2017-12-31 23:59:59</td>\n      <td>821</td>\n      <td>1</td>\n      <td>881f1a8d91fffff</td>\n      <td>10.80</td>\n      <td>NaN</td>\n      <td>NaN</td>\n      <td>1514764029</td>\n      <td>1514764799</td>\n      <td>1427</td>\n      <td>6</td>\n    </tr>\n    <tr>\n      <th>1</th>\n      <td>3694</td>\n      <td>51.343813</td>\n      <td>12.381495</td>\n      <td>608</td>\n      <td>2018-01-01 13:51:06</td>\n      <td>2018-01-01 23:59:59</td>\n      <td>877</td>\n      <td>1</td>\n      <td>881f1a8cb1fffff</td>\n      <td>8.52</td>\n      <td>NaN</td>\n      <td>NaN</td>\n      <td>1514814666</td>\n      <td>1514851199</td>\n      <td>831</td>\n      <td>0</td>\n    </tr>\n    <tr>\n      <th>2</th>\n      <td>3694</td>\n      <td>51.343076</td>\n      <td>12.365177</td>\n      <td>35</td>\n      <td>2018-01-02 14:55:53</td>\n      <td>2018-01-02 15:31:44</td>\n      <td>0</td>\n      <td>0</td>\n      <td>881f1a8cbdfffff</td>\n      <td>6.11</td>\n      <td>NaN</td>\n      <td>NaN</td>\n      <td>1514904953</td>\n      <td>1514907104</td>\n      <td>896</td>\n      <td>1</td>\n    </tr>\n    <tr>\n      <th>3</th>\n      <td>3694</td>\n      <td>51.332874</td>\n      <td>12.373261</td>\n      <td>66</td>\n      <td>2018-01-02 22:53:45</td>\n      <td>2018-01-02 23:59:59</td>\n      <td>999</td>\n      <td>1</td>\n      <td>881f1a164bfffff</td>\n      <td>2.96</td>\n      <td>NaN</td>\n      <td>NaN</td>\n      <td>1514933625</td>\n      <td>1514937599</td>\n      <td>1374</td>\n      <td>1</td>\n    </tr>\n    <tr>\n      <th>4</th>\n      <td>3694</td>\n      <td>51.297564</td>\n      <td>12.293015</td>\n      <td>424</td>\n      <td>2018-01-03 16:55:03</td>\n      <td>2018-01-03 23:59:59</td>\n      <td>1439</td>\n      <td>1</td>\n      <td>881f1a8da3fffff</td>\n      <td>7.11</td>\n      <td>0.14</td>\n      <td>NaN</td>\n      <td>1514998503</td>\n      <td>1515023999</td>\n      <td>1015</td>\n      <td>2</td>\n    </tr>\n    <tr>\n      <th>...</th>\n      <td>...</td>\n      <td>...</td>\n      <td>...</td>\n      <td>...</td>\n      <td>...</td>\n      <td>...</td>\n      <td>...</td>\n      <td>...</td>\n      <td>...</td>\n      <td>...</td>\n      <td>...</td>\n      <td>...</td>\n      <td>...</td>\n      <td>...</td>\n      <td>...</td>\n      <td>...</td>\n    </tr>\n    <tr>\n      <th>215488</th>\n      <td>64012</td>\n      <td>51.324559</td>\n      <td>12.338043</td>\n      <td>1439</td>\n      <td>2018-08-30 00:00:00</td>\n      <td>2018-08-30 23:59:59</td>\n      <td>1439</td>\n      <td>1</td>\n      <td>881f1a8d93fffff</td>\n      <td>21.11</td>\n      <td>NaN</td>\n      <td>NaN</td>\n      <td>1535587200</td>\n      <td>1535673599</td>\n      <td>0</td>\n      <td>3</td>\n    </tr>\n    <tr>\n      <th>215489</th>\n      <td>64012</td>\n      <td>51.324559</td>\n      <td>12.338043</td>\n      <td>1439</td>\n      <td>2018-08-31 00:00:00</td>\n      <td>2018-08-31 23:59:59</td>\n      <td>1439</td>\n      <td>1</td>\n      <td>881f1a8d93fffff</td>\n      <td>14.11</td>\n      <td>NaN</td>\n      <td>NaN</td>\n      <td>1535673600</td>\n      <td>1535759999</td>\n      <td>0</td>\n      <td>4</td>\n    </tr>\n    <tr>\n      <th>215490</th>\n      <td>64012</td>\n      <td>51.324559</td>\n      <td>12.338043</td>\n      <td>1439</td>\n      <td>2018-09-01 00:00:00</td>\n      <td>2018-09-01 23:59:59</td>\n      <td>1439</td>\n      <td>1</td>\n      <td>881f1a8d93fffff</td>\n      <td>12.11</td>\n      <td>NaN</td>\n      <td>NaN</td>\n      <td>1535760000</td>\n      <td>1535846399</td>\n      <td>0</td>\n      <td>5</td>\n    </tr>\n    <tr>\n      <th>215491</th>\n      <td>64012</td>\n      <td>51.324559</td>\n      <td>12.338043</td>\n      <td>1439</td>\n      <td>2018-09-02 00:00:00</td>\n      <td>2018-09-02 23:59:59</td>\n      <td>493</td>\n      <td>1</td>\n      <td>881f1a8d93fffff</td>\n      <td>16.11</td>\n      <td>NaN</td>\n      <td>NaN</td>\n      <td>1535846400</td>\n      <td>1535932799</td>\n      <td>0</td>\n      <td>6</td>\n    </tr>\n    <tr>\n      <th>215492</th>\n      <td>64012</td>\n      <td>51.324559</td>\n      <td>12.338043</td>\n      <td>493</td>\n      <td>2018-09-03 00:00:00</td>\n      <td>2018-09-03 08:13:44</td>\n      <td>0</td>\n      <td>0</td>\n      <td>881f1a8d93fffff</td>\n      <td>16.11</td>\n      <td>0.40</td>\n      <td>NaN</td>\n      <td>1535932800</td>\n      <td>1535962424</td>\n      <td>0</td>\n      <td>0</td>\n    </tr>\n  </tbody>\n</table>\n<p>215493 rows × 16 columns</p>\n</div>"
     },
     "execution_count": 397,
     "metadata": {},
     "output_type": "execute_result"
    }
   ],
   "source": [
    "df_points"
   ],
   "metadata": {
    "collapsed": false,
    "pycharm": {
     "name": "#%%\n"
    }
   }
  },
  {
   "cell_type": "markdown",
   "source": [
    "# Add month feature"
   ],
   "metadata": {
    "collapsed": false
   }
  },
  {
   "cell_type": "code",
   "execution_count": 398,
   "outputs": [],
   "source": [
    "def add_month_feature(row):\n",
    "    return row['time_start'].strftime(\"%m\")\n",
    "\n",
    "df_points['month'] = df_points.apply(add_month_feature,axis=1)"
   ],
   "metadata": {
    "collapsed": false,
    "pycharm": {
     "name": "#%%\n"
    }
   }
  },
  {
   "cell_type": "code",
   "execution_count": 399,
   "outputs": [],
   "source": [
    "#del df_points['time_start']\n",
    "#del df_points['time_end']"
   ],
   "metadata": {
    "collapsed": false,
    "pycharm": {
     "name": "#%%\n"
    }
   }
  },
  {
   "cell_type": "markdown",
   "source": [
    "Encode Hex_id"
   ],
   "metadata": {
    "collapsed": false
   }
  },
  {
   "cell_type": "code",
   "execution_count": 400,
   "outputs": [],
   "source": [
    "from sklearn import preprocessing\n",
    "\n",
    "label_encoder = preprocessing.LabelEncoder()\n",
    "df_points['hex_enc']= label_encoder.fit_transform(df_points['hex_id'])"
   ],
   "metadata": {
    "collapsed": false,
    "pycharm": {
     "name": "#%%\n"
    }
   }
  },
  {
   "cell_type": "markdown",
   "source": [
    "Sort DF"
   ],
   "metadata": {
    "collapsed": false
   }
  },
  {
   "cell_type": "code",
   "execution_count": 401,
   "outputs": [
    {
     "data": {
      "text/plain": "        bike_id        lat        lng    dt_start      dt_end  \\\n0          3694  51.323619  12.335887  1514764029  1514764799   \n71         2508  51.323619  12.335887  1514764035  1514764799   \n163       41851  51.332415  12.395158  1514764638  1514764799   \n139208     2508  51.323619  12.335887  1514764800  1514851199   \n139166     3694  51.323619  12.335887  1514764800  1514814103   \n...         ...        ...        ...         ...         ...   \n68370     41663  51.324645  12.311425  1546201232  1546204706   \n133049    73851  51.343613  12.365640  1546202537  1546208319   \n95332     72152  51.351505  12.407074  1546204570  1546205630   \n120442    72048  51.322000  12.373316  1546207062  1546207748   \n99938     72271  51.325764  12.344957  1546207989  1546210428   \n\n                 hex_id  hex_enc   temp  rain  snow month  day  start_min  \\\n0       881f1a8d91fffff      195  10.80   0.0   0.0    12    6       1427   \n71      881f1a8d91fffff      195  10.80   0.0   0.0    12    6       1427   \n163     881f1a1659fffff       81  10.80   0.0   0.0    12    6       1437   \n139208  881f1a8d91fffff      195  10.86   0.0   0.0    01    0          0   \n139166  881f1a8d91fffff      195  10.86   0.0   0.0    01    0          0   \n...                 ...      ...    ...   ...   ...   ...  ...        ...   \n68370   881f1a8d9dfffff      201   6.93   0.0   0.0    12    6       1221   \n133049  881f1a8cbdfffff      170   6.93   0.0   0.0    12    6       1242   \n95332   881f1ab96dfffff      268   6.36   0.0   0.0    12    6       1276   \n120442  881f1a1643fffff       71   6.36   0.0   0.0    12    6       1318   \n99938   881f1a8d93fffff      196   5.89   0.0   0.0    12    6       1333   \n\n        over_night  idle_time_next_day  idle_time  \n0                1                 821         12  \n71               1                1439         12  \n163              1                1439          2  \n139208           1                 878       1439  \n139166           0                   0        821  \n...            ...                 ...        ...  \n68370            0                   0         57  \n133049           0                   0         96  \n95332            0                   0         17  \n120442           0                   0         11  \n99938            0                   0         40  \n\n[215493 rows x 16 columns]",
      "text/html": "<div>\n<style scoped>\n    .dataframe tbody tr th:only-of-type {\n        vertical-align: middle;\n    }\n\n    .dataframe tbody tr th {\n        vertical-align: top;\n    }\n\n    .dataframe thead th {\n        text-align: right;\n    }\n</style>\n<table border=\"1\" class=\"dataframe\">\n  <thead>\n    <tr style=\"text-align: right;\">\n      <th></th>\n      <th>bike_id</th>\n      <th>lat</th>\n      <th>lng</th>\n      <th>dt_start</th>\n      <th>dt_end</th>\n      <th>hex_id</th>\n      <th>hex_enc</th>\n      <th>temp</th>\n      <th>rain</th>\n      <th>snow</th>\n      <th>month</th>\n      <th>day</th>\n      <th>start_min</th>\n      <th>over_night</th>\n      <th>idle_time_next_day</th>\n      <th>idle_time</th>\n    </tr>\n  </thead>\n  <tbody>\n    <tr>\n      <th>0</th>\n      <td>3694</td>\n      <td>51.323619</td>\n      <td>12.335887</td>\n      <td>1514764029</td>\n      <td>1514764799</td>\n      <td>881f1a8d91fffff</td>\n      <td>195</td>\n      <td>10.80</td>\n      <td>0.0</td>\n      <td>0.0</td>\n      <td>12</td>\n      <td>6</td>\n      <td>1427</td>\n      <td>1</td>\n      <td>821</td>\n      <td>12</td>\n    </tr>\n    <tr>\n      <th>71</th>\n      <td>2508</td>\n      <td>51.323619</td>\n      <td>12.335887</td>\n      <td>1514764035</td>\n      <td>1514764799</td>\n      <td>881f1a8d91fffff</td>\n      <td>195</td>\n      <td>10.80</td>\n      <td>0.0</td>\n      <td>0.0</td>\n      <td>12</td>\n      <td>6</td>\n      <td>1427</td>\n      <td>1</td>\n      <td>1439</td>\n      <td>12</td>\n    </tr>\n    <tr>\n      <th>163</th>\n      <td>41851</td>\n      <td>51.332415</td>\n      <td>12.395158</td>\n      <td>1514764638</td>\n      <td>1514764799</td>\n      <td>881f1a1659fffff</td>\n      <td>81</td>\n      <td>10.80</td>\n      <td>0.0</td>\n      <td>0.0</td>\n      <td>12</td>\n      <td>6</td>\n      <td>1437</td>\n      <td>1</td>\n      <td>1439</td>\n      <td>2</td>\n    </tr>\n    <tr>\n      <th>139208</th>\n      <td>2508</td>\n      <td>51.323619</td>\n      <td>12.335887</td>\n      <td>1514764800</td>\n      <td>1514851199</td>\n      <td>881f1a8d91fffff</td>\n      <td>195</td>\n      <td>10.86</td>\n      <td>0.0</td>\n      <td>0.0</td>\n      <td>01</td>\n      <td>0</td>\n      <td>0</td>\n      <td>1</td>\n      <td>878</td>\n      <td>1439</td>\n    </tr>\n    <tr>\n      <th>139166</th>\n      <td>3694</td>\n      <td>51.323619</td>\n      <td>12.335887</td>\n      <td>1514764800</td>\n      <td>1514814103</td>\n      <td>881f1a8d91fffff</td>\n      <td>195</td>\n      <td>10.86</td>\n      <td>0.0</td>\n      <td>0.0</td>\n      <td>01</td>\n      <td>0</td>\n      <td>0</td>\n      <td>0</td>\n      <td>0</td>\n      <td>821</td>\n    </tr>\n    <tr>\n      <th>...</th>\n      <td>...</td>\n      <td>...</td>\n      <td>...</td>\n      <td>...</td>\n      <td>...</td>\n      <td>...</td>\n      <td>...</td>\n      <td>...</td>\n      <td>...</td>\n      <td>...</td>\n      <td>...</td>\n      <td>...</td>\n      <td>...</td>\n      <td>...</td>\n      <td>...</td>\n      <td>...</td>\n    </tr>\n    <tr>\n      <th>68370</th>\n      <td>41663</td>\n      <td>51.324645</td>\n      <td>12.311425</td>\n      <td>1546201232</td>\n      <td>1546204706</td>\n      <td>881f1a8d9dfffff</td>\n      <td>201</td>\n      <td>6.93</td>\n      <td>0.0</td>\n      <td>0.0</td>\n      <td>12</td>\n      <td>6</td>\n      <td>1221</td>\n      <td>0</td>\n      <td>0</td>\n      <td>57</td>\n    </tr>\n    <tr>\n      <th>133049</th>\n      <td>73851</td>\n      <td>51.343613</td>\n      <td>12.365640</td>\n      <td>1546202537</td>\n      <td>1546208319</td>\n      <td>881f1a8cbdfffff</td>\n      <td>170</td>\n      <td>6.93</td>\n      <td>0.0</td>\n      <td>0.0</td>\n      <td>12</td>\n      <td>6</td>\n      <td>1242</td>\n      <td>0</td>\n      <td>0</td>\n      <td>96</td>\n    </tr>\n    <tr>\n      <th>95332</th>\n      <td>72152</td>\n      <td>51.351505</td>\n      <td>12.407074</td>\n      <td>1546204570</td>\n      <td>1546205630</td>\n      <td>881f1ab96dfffff</td>\n      <td>268</td>\n      <td>6.36</td>\n      <td>0.0</td>\n      <td>0.0</td>\n      <td>12</td>\n      <td>6</td>\n      <td>1276</td>\n      <td>0</td>\n      <td>0</td>\n      <td>17</td>\n    </tr>\n    <tr>\n      <th>120442</th>\n      <td>72048</td>\n      <td>51.322000</td>\n      <td>12.373316</td>\n      <td>1546207062</td>\n      <td>1546207748</td>\n      <td>881f1a1643fffff</td>\n      <td>71</td>\n      <td>6.36</td>\n      <td>0.0</td>\n      <td>0.0</td>\n      <td>12</td>\n      <td>6</td>\n      <td>1318</td>\n      <td>0</td>\n      <td>0</td>\n      <td>11</td>\n    </tr>\n    <tr>\n      <th>99938</th>\n      <td>72271</td>\n      <td>51.325764</td>\n      <td>12.344957</td>\n      <td>1546207989</td>\n      <td>1546210428</td>\n      <td>881f1a8d93fffff</td>\n      <td>196</td>\n      <td>5.89</td>\n      <td>0.0</td>\n      <td>0.0</td>\n      <td>12</td>\n      <td>6</td>\n      <td>1333</td>\n      <td>0</td>\n      <td>0</td>\n      <td>40</td>\n    </tr>\n  </tbody>\n</table>\n<p>215493 rows × 16 columns</p>\n</div>"
     },
     "execution_count": 401,
     "metadata": {},
     "output_type": "execute_result"
    }
   ],
   "source": [
    "df_points = df_points.reindex(columns=['bike_id', 'lat', 'lng', 'dt_start', 'dt_end', 'hex_id', 'hex_enc', 'temp', 'rain', 'snow', 'month', 'day', 'start_min', 'over_night', 'idle_time_next_day', 'idle_time'])\n",
    "df_points['rain'] = df_points['rain'].fillna(0)\n",
    "df_points['snow'] = df_points['snow'].fillna(0)\n",
    "\n",
    "df_points.sort_values(by=['dt_start'])"
   ],
   "metadata": {
    "collapsed": false,
    "pycharm": {
     "name": "#%%\n"
    }
   }
  },
  {
   "cell_type": "code",
   "execution_count": 402,
   "outputs": [
    {
     "data": {
      "text/plain": "        bike_id        lat        lng    dt_start      dt_end  \\\n0          3694  51.323619  12.335887  1514764029  1514764799   \n1          3694  51.343813  12.381495  1514814666  1514851199   \n2          3694  51.343076  12.365177  1514904953  1514907104   \n3          3694  51.332874  12.373261  1514933625  1514937599   \n4          3694  51.297564  12.293015  1514998503  1515023999   \n...         ...        ...        ...         ...         ...   \n215488    64012  51.324559  12.338043  1535587200  1535673599   \n215489    64012  51.324559  12.338043  1535673600  1535759999   \n215490    64012  51.324559  12.338043  1535760000  1535846399   \n215491    64012  51.324559  12.338043  1535846400  1535932799   \n215492    64012  51.324559  12.338043  1535932800  1535962424   \n\n                 hex_id  hex_enc   temp  rain  snow month  day  start_min  \\\n0       881f1a8d91fffff      195  10.80  0.00   0.0    12    6       1427   \n1       881f1a8cb1fffff      164   8.52  0.00   0.0    01    0        831   \n2       881f1a8cbdfffff      170   6.11  0.00   0.0    01    1        896   \n3       881f1a164bfffff       75   2.96  0.00   0.0    01    1       1374   \n4       881f1a8da3fffff      202   7.11  0.14   0.0    01    2       1015   \n...                 ...      ...    ...   ...   ...   ...  ...        ...   \n215488  881f1a8d93fffff      196  21.11  0.00   0.0    08    3          0   \n215489  881f1a8d93fffff      196  14.11  0.00   0.0    08    4          0   \n215490  881f1a8d93fffff      196  12.11  0.00   0.0    09    5          0   \n215491  881f1a8d93fffff      196  16.11  0.00   0.0    09    6          0   \n215492  881f1a8d93fffff      196  16.11  0.40   0.0    09    0          0   \n\n        over_night  idle_time_next_day  idle_time  \n0                1                 821         12  \n1                1                 877        608  \n2                0                   0         35  \n3                1                 999         66  \n4                1                1439        424  \n...            ...                 ...        ...  \n215488           1                1439       1439  \n215489           1                1439       1439  \n215490           1                1439       1439  \n215491           1                 493       1439  \n215492           0                   0        493  \n\n[215493 rows x 16 columns]",
      "text/html": "<div>\n<style scoped>\n    .dataframe tbody tr th:only-of-type {\n        vertical-align: middle;\n    }\n\n    .dataframe tbody tr th {\n        vertical-align: top;\n    }\n\n    .dataframe thead th {\n        text-align: right;\n    }\n</style>\n<table border=\"1\" class=\"dataframe\">\n  <thead>\n    <tr style=\"text-align: right;\">\n      <th></th>\n      <th>bike_id</th>\n      <th>lat</th>\n      <th>lng</th>\n      <th>dt_start</th>\n      <th>dt_end</th>\n      <th>hex_id</th>\n      <th>hex_enc</th>\n      <th>temp</th>\n      <th>rain</th>\n      <th>snow</th>\n      <th>month</th>\n      <th>day</th>\n      <th>start_min</th>\n      <th>over_night</th>\n      <th>idle_time_next_day</th>\n      <th>idle_time</th>\n    </tr>\n  </thead>\n  <tbody>\n    <tr>\n      <th>0</th>\n      <td>3694</td>\n      <td>51.323619</td>\n      <td>12.335887</td>\n      <td>1514764029</td>\n      <td>1514764799</td>\n      <td>881f1a8d91fffff</td>\n      <td>195</td>\n      <td>10.80</td>\n      <td>0.00</td>\n      <td>0.0</td>\n      <td>12</td>\n      <td>6</td>\n      <td>1427</td>\n      <td>1</td>\n      <td>821</td>\n      <td>12</td>\n    </tr>\n    <tr>\n      <th>1</th>\n      <td>3694</td>\n      <td>51.343813</td>\n      <td>12.381495</td>\n      <td>1514814666</td>\n      <td>1514851199</td>\n      <td>881f1a8cb1fffff</td>\n      <td>164</td>\n      <td>8.52</td>\n      <td>0.00</td>\n      <td>0.0</td>\n      <td>01</td>\n      <td>0</td>\n      <td>831</td>\n      <td>1</td>\n      <td>877</td>\n      <td>608</td>\n    </tr>\n    <tr>\n      <th>2</th>\n      <td>3694</td>\n      <td>51.343076</td>\n      <td>12.365177</td>\n      <td>1514904953</td>\n      <td>1514907104</td>\n      <td>881f1a8cbdfffff</td>\n      <td>170</td>\n      <td>6.11</td>\n      <td>0.00</td>\n      <td>0.0</td>\n      <td>01</td>\n      <td>1</td>\n      <td>896</td>\n      <td>0</td>\n      <td>0</td>\n      <td>35</td>\n    </tr>\n    <tr>\n      <th>3</th>\n      <td>3694</td>\n      <td>51.332874</td>\n      <td>12.373261</td>\n      <td>1514933625</td>\n      <td>1514937599</td>\n      <td>881f1a164bfffff</td>\n      <td>75</td>\n      <td>2.96</td>\n      <td>0.00</td>\n      <td>0.0</td>\n      <td>01</td>\n      <td>1</td>\n      <td>1374</td>\n      <td>1</td>\n      <td>999</td>\n      <td>66</td>\n    </tr>\n    <tr>\n      <th>4</th>\n      <td>3694</td>\n      <td>51.297564</td>\n      <td>12.293015</td>\n      <td>1514998503</td>\n      <td>1515023999</td>\n      <td>881f1a8da3fffff</td>\n      <td>202</td>\n      <td>7.11</td>\n      <td>0.14</td>\n      <td>0.0</td>\n      <td>01</td>\n      <td>2</td>\n      <td>1015</td>\n      <td>1</td>\n      <td>1439</td>\n      <td>424</td>\n    </tr>\n    <tr>\n      <th>...</th>\n      <td>...</td>\n      <td>...</td>\n      <td>...</td>\n      <td>...</td>\n      <td>...</td>\n      <td>...</td>\n      <td>...</td>\n      <td>...</td>\n      <td>...</td>\n      <td>...</td>\n      <td>...</td>\n      <td>...</td>\n      <td>...</td>\n      <td>...</td>\n      <td>...</td>\n      <td>...</td>\n    </tr>\n    <tr>\n      <th>215488</th>\n      <td>64012</td>\n      <td>51.324559</td>\n      <td>12.338043</td>\n      <td>1535587200</td>\n      <td>1535673599</td>\n      <td>881f1a8d93fffff</td>\n      <td>196</td>\n      <td>21.11</td>\n      <td>0.00</td>\n      <td>0.0</td>\n      <td>08</td>\n      <td>3</td>\n      <td>0</td>\n      <td>1</td>\n      <td>1439</td>\n      <td>1439</td>\n    </tr>\n    <tr>\n      <th>215489</th>\n      <td>64012</td>\n      <td>51.324559</td>\n      <td>12.338043</td>\n      <td>1535673600</td>\n      <td>1535759999</td>\n      <td>881f1a8d93fffff</td>\n      <td>196</td>\n      <td>14.11</td>\n      <td>0.00</td>\n      <td>0.0</td>\n      <td>08</td>\n      <td>4</td>\n      <td>0</td>\n      <td>1</td>\n      <td>1439</td>\n      <td>1439</td>\n    </tr>\n    <tr>\n      <th>215490</th>\n      <td>64012</td>\n      <td>51.324559</td>\n      <td>12.338043</td>\n      <td>1535760000</td>\n      <td>1535846399</td>\n      <td>881f1a8d93fffff</td>\n      <td>196</td>\n      <td>12.11</td>\n      <td>0.00</td>\n      <td>0.0</td>\n      <td>09</td>\n      <td>5</td>\n      <td>0</td>\n      <td>1</td>\n      <td>1439</td>\n      <td>1439</td>\n    </tr>\n    <tr>\n      <th>215491</th>\n      <td>64012</td>\n      <td>51.324559</td>\n      <td>12.338043</td>\n      <td>1535846400</td>\n      <td>1535932799</td>\n      <td>881f1a8d93fffff</td>\n      <td>196</td>\n      <td>16.11</td>\n      <td>0.00</td>\n      <td>0.0</td>\n      <td>09</td>\n      <td>6</td>\n      <td>0</td>\n      <td>1</td>\n      <td>493</td>\n      <td>1439</td>\n    </tr>\n    <tr>\n      <th>215492</th>\n      <td>64012</td>\n      <td>51.324559</td>\n      <td>12.338043</td>\n      <td>1535932800</td>\n      <td>1535962424</td>\n      <td>881f1a8d93fffff</td>\n      <td>196</td>\n      <td>16.11</td>\n      <td>0.40</td>\n      <td>0.0</td>\n      <td>09</td>\n      <td>0</td>\n      <td>0</td>\n      <td>0</td>\n      <td>0</td>\n      <td>493</td>\n    </tr>\n  </tbody>\n</table>\n<p>215493 rows × 16 columns</p>\n</div>"
     },
     "execution_count": 402,
     "metadata": {},
     "output_type": "execute_result"
    }
   ],
   "source": [
    "df_points"
   ],
   "metadata": {
    "collapsed": false,
    "pycharm": {
     "name": "#%%\n"
    }
   }
  },
  {
   "cell_type": "code",
   "execution_count": 403,
   "outputs": [
    {
     "name": "stdout",
     "output_type": "stream",
     "text": [
      "3527.729553937912\n"
     ]
    }
   ],
   "source": [
    "dur = time.time() - ts1\n",
    "print(dur)"
   ],
   "metadata": {
    "collapsed": false,
    "pycharm": {
     "name": "#%%\n"
    }
   }
  },
  {
   "cell_type": "code",
   "execution_count": 404,
   "outputs": [
    {
     "name": "stdout",
     "output_type": "stream",
     "text": [
      "00:58:47\n"
     ]
    }
   ],
   "source": [
    "ty_res = time.gmtime(dur)\n",
    "res = time.strftime(\"%H:%M:%S\",ty_res)\n",
    "print(res)"
   ],
   "metadata": {
    "collapsed": false,
    "pycharm": {
     "name": "#%%\n"
    }
   }
  },
  {
   "cell_type": "markdown",
   "source": [
    "# Save"
   ],
   "metadata": {
    "collapsed": false
   }
  },
  {
   "cell_type": "code",
   "execution_count": 405,
   "id": "209f3e6e",
   "metadata": {},
   "outputs": [],
   "source": [
    "df_points.to_csv('../data/df_points/df_points_2018.csv', index=False)"
   ]
  },
  {
   "cell_type": "code",
   "execution_count": 320,
   "id": "fec05924",
   "metadata": {},
   "outputs": [
    {
     "data": {
      "text/plain": "        bike_id        lat        lng    dt_start      dt_end  \\\n0         93513  51.317649  12.373610  1577833774  1577836799   \n1         93513  51.338133  12.385462  1577924396  1577961083   \n2         93513  51.344889  12.373907  1577961466  1577968319   \n3         93513  51.343658  12.378786  1577968433  1577978806   \n4         93513  51.323373  12.335402  1577979896  1577990703   \n...         ...        ...        ...         ...         ...   \n883287    93544  51.321160  12.269497  1595289600  1595375999   \n883288    93544  51.321160  12.269497  1595376000  1595462399   \n883289    93544  51.321160  12.269497  1595462400  1595548799   \n883290    93544  51.321160  12.269497  1595548800  1595635199   \n883291    93544  51.321160  12.269497  1595635200  1595716907   \n\n                 hex_id  hex_enc   temp  rain  snow month  day  start_min  \\\n0       881f1a1647fffff       79   2.13   0.0   0.0    12    1       1390   \n1       881f1a8cb7fffff      197  -1.11   0.0   0.0    01    3         20   \n2       881f1a8cb1fffff      194   2.87   0.0   0.0    01    3        638   \n3       881f1a8cb1fffff      194   6.54   0.0   0.0    01    3        754   \n4       881f1a8d91fffff      229   4.29   0.0   0.0    01    3        945   \n...                 ...      ...    ...   ...   ...   ...  ...        ...   \n883287  881f1a8debfffff      264  15.89   0.0   0.0    07    1          0   \n883288  881f1a8debfffff      264  13.39   0.0   0.0    07    2          0   \n883289  881f1a8debfffff      264  15.08   0.0   0.0    07    3          0   \n883290  881f1a8debfffff      264  15.34   0.0   0.0    07    4          0   \n883291  881f1a8debfffff      264  16.47   0.0   0.0    07    5          0   \n\n        over_night  idle_time_next_day  idle_time  \n0                1                1439         50  \n1                0                   0        611  \n2                0                   0        114  \n3                0                   0        172  \n4                0                   0        180  \n...            ...                 ...        ...  \n883287           1                1439       1439  \n883288           1                1439       1439  \n883289           1                1439       1439  \n883290           1                1361       1439  \n883291           0                   0       1361  \n\n[883292 rows x 16 columns]",
      "text/html": "<div>\n<style scoped>\n    .dataframe tbody tr th:only-of-type {\n        vertical-align: middle;\n    }\n\n    .dataframe tbody tr th {\n        vertical-align: top;\n    }\n\n    .dataframe thead th {\n        text-align: right;\n    }\n</style>\n<table border=\"1\" class=\"dataframe\">\n  <thead>\n    <tr style=\"text-align: right;\">\n      <th></th>\n      <th>bike_id</th>\n      <th>lat</th>\n      <th>lng</th>\n      <th>dt_start</th>\n      <th>dt_end</th>\n      <th>hex_id</th>\n      <th>hex_enc</th>\n      <th>temp</th>\n      <th>rain</th>\n      <th>snow</th>\n      <th>month</th>\n      <th>day</th>\n      <th>start_min</th>\n      <th>over_night</th>\n      <th>idle_time_next_day</th>\n      <th>idle_time</th>\n    </tr>\n  </thead>\n  <tbody>\n    <tr>\n      <th>0</th>\n      <td>93513</td>\n      <td>51.317649</td>\n      <td>12.373610</td>\n      <td>1577833774</td>\n      <td>1577836799</td>\n      <td>881f1a1647fffff</td>\n      <td>79</td>\n      <td>2.13</td>\n      <td>0.0</td>\n      <td>0.0</td>\n      <td>12</td>\n      <td>1</td>\n      <td>1390</td>\n      <td>1</td>\n      <td>1439</td>\n      <td>50</td>\n    </tr>\n    <tr>\n      <th>1</th>\n      <td>93513</td>\n      <td>51.338133</td>\n      <td>12.385462</td>\n      <td>1577924396</td>\n      <td>1577961083</td>\n      <td>881f1a8cb7fffff</td>\n      <td>197</td>\n      <td>-1.11</td>\n      <td>0.0</td>\n      <td>0.0</td>\n      <td>01</td>\n      <td>3</td>\n      <td>20</td>\n      <td>0</td>\n      <td>0</td>\n      <td>611</td>\n    </tr>\n    <tr>\n      <th>2</th>\n      <td>93513</td>\n      <td>51.344889</td>\n      <td>12.373907</td>\n      <td>1577961466</td>\n      <td>1577968319</td>\n      <td>881f1a8cb1fffff</td>\n      <td>194</td>\n      <td>2.87</td>\n      <td>0.0</td>\n      <td>0.0</td>\n      <td>01</td>\n      <td>3</td>\n      <td>638</td>\n      <td>0</td>\n      <td>0</td>\n      <td>114</td>\n    </tr>\n    <tr>\n      <th>3</th>\n      <td>93513</td>\n      <td>51.343658</td>\n      <td>12.378786</td>\n      <td>1577968433</td>\n      <td>1577978806</td>\n      <td>881f1a8cb1fffff</td>\n      <td>194</td>\n      <td>6.54</td>\n      <td>0.0</td>\n      <td>0.0</td>\n      <td>01</td>\n      <td>3</td>\n      <td>754</td>\n      <td>0</td>\n      <td>0</td>\n      <td>172</td>\n    </tr>\n    <tr>\n      <th>4</th>\n      <td>93513</td>\n      <td>51.323373</td>\n      <td>12.335402</td>\n      <td>1577979896</td>\n      <td>1577990703</td>\n      <td>881f1a8d91fffff</td>\n      <td>229</td>\n      <td>4.29</td>\n      <td>0.0</td>\n      <td>0.0</td>\n      <td>01</td>\n      <td>3</td>\n      <td>945</td>\n      <td>0</td>\n      <td>0</td>\n      <td>180</td>\n    </tr>\n    <tr>\n      <th>...</th>\n      <td>...</td>\n      <td>...</td>\n      <td>...</td>\n      <td>...</td>\n      <td>...</td>\n      <td>...</td>\n      <td>...</td>\n      <td>...</td>\n      <td>...</td>\n      <td>...</td>\n      <td>...</td>\n      <td>...</td>\n      <td>...</td>\n      <td>...</td>\n      <td>...</td>\n      <td>...</td>\n    </tr>\n    <tr>\n      <th>883287</th>\n      <td>93544</td>\n      <td>51.321160</td>\n      <td>12.269497</td>\n      <td>1595289600</td>\n      <td>1595375999</td>\n      <td>881f1a8debfffff</td>\n      <td>264</td>\n      <td>15.89</td>\n      <td>0.0</td>\n      <td>0.0</td>\n      <td>07</td>\n      <td>1</td>\n      <td>0</td>\n      <td>1</td>\n      <td>1439</td>\n      <td>1439</td>\n    </tr>\n    <tr>\n      <th>883288</th>\n      <td>93544</td>\n      <td>51.321160</td>\n      <td>12.269497</td>\n      <td>1595376000</td>\n      <td>1595462399</td>\n      <td>881f1a8debfffff</td>\n      <td>264</td>\n      <td>13.39</td>\n      <td>0.0</td>\n      <td>0.0</td>\n      <td>07</td>\n      <td>2</td>\n      <td>0</td>\n      <td>1</td>\n      <td>1439</td>\n      <td>1439</td>\n    </tr>\n    <tr>\n      <th>883289</th>\n      <td>93544</td>\n      <td>51.321160</td>\n      <td>12.269497</td>\n      <td>1595462400</td>\n      <td>1595548799</td>\n      <td>881f1a8debfffff</td>\n      <td>264</td>\n      <td>15.08</td>\n      <td>0.0</td>\n      <td>0.0</td>\n      <td>07</td>\n      <td>3</td>\n      <td>0</td>\n      <td>1</td>\n      <td>1439</td>\n      <td>1439</td>\n    </tr>\n    <tr>\n      <th>883290</th>\n      <td>93544</td>\n      <td>51.321160</td>\n      <td>12.269497</td>\n      <td>1595548800</td>\n      <td>1595635199</td>\n      <td>881f1a8debfffff</td>\n      <td>264</td>\n      <td>15.34</td>\n      <td>0.0</td>\n      <td>0.0</td>\n      <td>07</td>\n      <td>4</td>\n      <td>0</td>\n      <td>1</td>\n      <td>1361</td>\n      <td>1439</td>\n    </tr>\n    <tr>\n      <th>883291</th>\n      <td>93544</td>\n      <td>51.321160</td>\n      <td>12.269497</td>\n      <td>1595635200</td>\n      <td>1595716907</td>\n      <td>881f1a8debfffff</td>\n      <td>264</td>\n      <td>16.47</td>\n      <td>0.0</td>\n      <td>0.0</td>\n      <td>07</td>\n      <td>5</td>\n      <td>0</td>\n      <td>0</td>\n      <td>0</td>\n      <td>1361</td>\n    </tr>\n  </tbody>\n</table>\n<p>883292 rows × 16 columns</p>\n</div>"
     },
     "execution_count": 320,
     "metadata": {},
     "output_type": "execute_result"
    }
   ],
   "source": [
    "df_points"
   ]
  },
  {
   "cell_type": "code",
   "execution_count": 4,
   "outputs": [],
   "source": [
    "import pandas as pd\n",
    "df = pd.read_csv('../data/df_points/final_df_points_18_21.csv')\n",
    "df = df.sort_values(by=['dt_start'])"
   ],
   "metadata": {
    "collapsed": false,
    "pycharm": {
     "name": "#%%\n"
    }
   }
  },
  {
   "cell_type": "code",
   "execution_count": null,
   "outputs": [],
   "source": [],
   "metadata": {
    "collapsed": false,
    "pycharm": {
     "name": "#%%\n"
    }
   }
  }
 ],
 "metadata": {
  "kernelspec": {
   "display_name": "Python 3 (ipykernel)",
   "language": "python",
   "name": "python3"
  },
  "language_info": {
   "codemirror_mode": {
    "name": "ipython",
    "version": 3
   },
   "file_extension": ".py",
   "mimetype": "text/x-python",
   "name": "python",
   "nbconvert_exporter": "python",
   "pygments_lexer": "ipython3",
   "version": "3.9.7"
  }
 },
 "nbformat": 4,
 "nbformat_minor": 5
}