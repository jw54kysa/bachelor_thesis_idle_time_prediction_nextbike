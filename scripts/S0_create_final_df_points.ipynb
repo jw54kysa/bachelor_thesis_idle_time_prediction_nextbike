{
 "cells": [
  {
   "cell_type": "markdown",
   "id": "b3ed9e1a",
   "metadata": {},
   "source": [
    "# df_points with UNIX Timestamp #\n",
    "## Creates df_points.csv with all points and idletimes #\n",
    "## Checks the valid geo location\n",
    "## deletes the invalid points: \n",
    "2019 - ca. 9.5%\n",
    "\n",
    "2020 - ca. 2.7%\n",
    "\n",
    "### ca 1h for 1 year"
   ]
  },
  {
   "cell_type": "code",
   "execution_count": 17,
   "id": "a791a421",
   "metadata": {},
   "outputs": [],
   "source": [
    "def importdata():\n",
    "\n",
    "    # show all rows\n",
    "    pd.set_option('display.max_rows', None)\n",
    "    pd.set_option('display.max_columns', None)\n",
    "\n",
    "    # import Data\n",
    "    df01 = pd.read_csv('/Users/jonweske/devment/BA_nextbike/data/lendings_2018.csv')\n",
    "\n",
    "\n",
    "    df01 = df01[['bike_id', 'start_time', 'end_time', 'start_lat', 'start_lng', 'end_lat', 'end_lng']]\n",
    "\n",
    "    # cut\n",
    "    #df01 = df01.truncate(after=10000)\n",
    "    return df01"
   ]
  },
  {
   "cell_type": "code",
   "execution_count": 18,
   "id": "82359632",
   "metadata": {},
   "outputs": [],
   "source": [
    "def dicOutOfDf(df01):\n",
    "    import pandas as pd\n",
    "    from tqdm import tqdm\n",
    "    # Dict out of DataFrames of Trips per Bike\n",
    "\n",
    "    # init DFs for every bike\n",
    "    myDFs = {}\n",
    "\n",
    "    for ind in tqdm(df01.index):\n",
    "        if df01['bike_id'][ind] not in myDFs:\n",
    "            myDFs[df01['bike_id'][ind]] = pd.DataFrame(\n",
    "                columns=['bike_id', 'start_time', 'end_time', 'start_lat', 'start_lng', 'end_lat', 'end_lng'])\n",
    "\n",
    "    return myDFs"
   ]
  },
  {
   "cell_type": "code",
   "execution_count": 19,
   "id": "941271a6",
   "metadata": {},
   "outputs": [],
   "source": [
    "def addRentalsToDf(df01,myDFs):\n",
    "    from tqdm import tqdm\n",
    "    # Add all rentals to their bike_id DF\n",
    "    for ind in tqdm(df01.index):\n",
    "        if df01['bike_id'][ind] in myDFs:\n",
    "            myDFs[df01['bike_id'][ind]].loc[df01.index[ind]] = df01.iloc[ind]\n",
    "    return myDFs"
   ]
  },
  {
   "cell_type": "code",
   "execution_count": 20,
   "id": "3502fb99",
   "metadata": {},
   "outputs": [],
   "source": [
    "def sortDFs(myDFs):\n",
    "    # sort every DF\n",
    "    for df in myDFs.values():\n",
    "        df[['bike_id', 'start_time','end_time']] = df[['bike_id', 'start_time','end_time']].astype(int)\n",
    "        df[['start_lat','start_lng', 'end_lat', 'end_lng']] = df[['start_lat','start_lng', 'end_lat', 'end_lng']].astype(float)\n",
    "        df.sort_values(by=['start_time'], inplace=True)\n",
    "        df.reset_index(drop=True, inplace=True)\n",
    "    return myDFs"
   ]
  },
  {
   "cell_type": "code",
   "execution_count": 21,
   "id": "2b82d201",
   "metadata": {},
   "outputs": [],
   "source": [
    "def dfPoints(myDFs,radius):\n",
    "    # DF of all points with stoodtime\n",
    "    inval = 0\n",
    "    val = 0 \n",
    "    \n",
    "    df_points = pd.DataFrame(columns=['bike_id', 'lat', 'lng', 'timestood', 'time_start', 'time_end'])\n",
    "    df_points[['bike_id', 'timestood', 'time_start', 'time_end']] = df_points[['bike_id', 'timestood', 'time_start', 'time_end']].astype(int)\n",
    "    df_points[['lng', 'lat']] = df_points[['lng', 'lat']].astype(float)\n",
    "    \n",
    "    for df in tqdm(myDFs.values()):\n",
    "        for ind in df.index[1:]:\n",
    "            #in SECOUNDS\n",
    "            timestood = (df['start_time'][ind] - df['end_time'][ind - 1]).astype(int)\n",
    "            distance = qick_distance(df['end_lat'][ind-1], df['end_lng'][ind-1], df['start_lat'][ind], df['start_lng'][ind])\n",
    "            if distance > radius:\n",
    "                inval +=1\n",
    "                continue\n",
    "            val +=1\n",
    "            dict = {'bike_id': df['bike_id'][ind], 'lng': df['start_lng'][ind], 'lat': df['start_lat'][ind],\n",
    "                    'timestood': timestood, 'time_start': df['end_time'][ind - 1], 'time_end': df['start_time'][ind]}\n",
    "            df_points = df_points.append(dict, ignore_index=True)\n",
    "    print(f\"invalides: {inval} from {val} thats {inval/val * 100} %\")\n",
    "    return df_points"
   ]
  },
  {
   "cell_type": "code",
   "execution_count": 22,
   "id": "1e650789",
   "metadata": {},
   "outputs": [],
   "source": [
    "#old\n",
    "def diff(Elat, Elng, Slat, Slng):\n",
    "    xdiff = abs(round(Elat,8)-round(Slat,8)) * 100000\n",
    "    ydiff = abs(round(Elng,8)-round(Slng,8)) * 100000\n",
    "    #print(f\"{xdiff} und {ydiff}\")\n",
    "    return xdiff,ydiff"
   ]
  },
  {
   "cell_type": "code",
   "execution_count": 23,
   "id": "9e34af27",
   "metadata": {},
   "outputs": [],
   "source": [
    "# returns distance in meter\n",
    "# source: https://www.it-swarm.com.de/de/python/wie-kann-ich-die-entfernung-zwischen-zwei-punkten-breitengrad-laengengrad-schnell-schaetzen/1072488907/\n",
    "def qick_distance(Lat1, Long1, Lat2, Long2):\n",
    "    x = Lat2 - Lat1\n",
    "    y = (Long2 - Long1)*cos((Lat2 + Lat1)*0.00872664626)  \n",
    "    return 111.138*sqrt(x*x+y*y)*1000"
   ]
  },
  {
   "cell_type": "code",
   "execution_count": 24,
   "id": "edc119ca",
   "metadata": {},
   "outputs": [],
   "source": [
    "def keplerMap(df_points):\n",
    "    heatmap = KeplerGl()\n",
    "    heatmap.add_data(data=df_points, name='points')\n",
    "    heatmap.save_to_html(file_name='heatmap_test.html')"
   ]
  },
  {
   "cell_type": "markdown",
   "id": "2b4cd011",
   "metadata": {},
   "source": [
    "# Main \n",
    "## Create MyDfs Map"
   ]
  },
  {
   "cell_type": "code",
   "execution_count": 25,
   "id": "2e341a0e",
   "metadata": {},
   "outputs": [
    {
     "name": "stderr",
     "output_type": "stream",
     "text": [
      "100%|████████████████████████████████| 182199/182199 [00:02<00:00, 89959.18it/s]\n",
      "100%|██████████████████████████████████| 182199/182199 [03:52<00:00, 785.15it/s]\n"
     ]
    }
   ],
   "source": [
    "from keplergl import KeplerGl\n",
    "import pandas as pd\n",
    "pd.options.mode.chained_assignment = None\n",
    "from tqdm import tqdm\n",
    "from geopy.distance import geodesic\n",
    "import h3\n",
    "\n",
    "df = pd.DataFrame()\n",
    "\n",
    "df = importdata()\n",
    "myDfs = dicOutOfDf(df)\n",
    "myDfs = addRentalsToDf(df, myDfs)\n",
    "myDfs = sortDFs(myDfs)\n"
   ]
  },
  {
   "cell_type": "markdown",
   "id": "b8e6afa9",
   "metadata": {},
   "source": [
    "## Save MyDfs Map to file "
   ]
  },
  {
   "cell_type": "markdown",
   "id": "2bc02e73",
   "metadata": {},
   "source": [
    "import pickle\n",
    "with open('saved_myDfs_2019.pkl', 'wb') as f:\n",
    "    pickle.dump(myDfs, f)"
   ]
  },
  {
   "cell_type": "markdown",
   "id": "16b3a096",
   "metadata": {},
   "source": [
    "## Create DF_points \n",
    "### without ~9.573 % invalid points\n",
    "52523 from 550865"
   ]
  },
  {
   "cell_type": "markdown",
   "id": "3440ce0d",
   "metadata": {},
   "source": [
    "def importMyDFsDic():\n",
    "    with open('../data/saved_myDfs.pkl', 'rb') as f:\n",
    "        myDfs = pickle.load(f)\n",
    "    return myDfs"
   ]
  },
  {
   "cell_type": "markdown",
   "id": "4b2c1891",
   "metadata": {},
   "source": [
    "# ggf Map from file importieren\n",
    "import pickle\n",
    "myDf_imported = importMyDFsDic()"
   ]
  },
  {
   "cell_type": "code",
   "execution_count": 26,
   "id": "9fae31aa",
   "metadata": {},
   "outputs": [
    {
     "name": "stderr",
     "output_type": "stream",
     "text": [
      "100%|███████████████████████████████████████| 1300/1300 [04:34<00:00,  4.73it/s]"
     ]
    },
    {
     "name": "stdout",
     "output_type": "stream",
     "text": [
      "invalides: 41733 from 139166 thats 29.98792808588305 %\n"
     ]
    },
    {
     "name": "stderr",
     "output_type": "stream",
     "text": [
      "\n"
     ]
    }
   ],
   "source": [
    "# create DF_POints\n",
    "from math import radians, cos, sin, asin, sqrt\n",
    "import pandas as pd\n",
    "pd.options.mode.chained_assignment = None\n",
    "from tqdm import tqdm\n",
    "\n",
    "radius = 20\n",
    "df_points = dfPoints(myDfs,radius)"
   ]
  },
  {
   "cell_type": "markdown",
   "id": "7f1724f5",
   "metadata": {},
   "source": [
    "## Save df_points_valid_geov01.csv"
   ]
  },
  {
   "cell_type": "code",
   "execution_count": 27,
   "id": "77f5a990",
   "metadata": {},
   "outputs": [],
   "source": [
    "df_points.to_csv(\"../data/df_points_2019_v1.csv\",index=False)"
   ]
  },
  {
   "cell_type": "markdown",
   "id": "6929a2c5",
   "metadata": {},
   "source": [
    "df_points.head()"
   ]
  },
  {
   "cell_type": "markdown",
   "id": "50748b61",
   "metadata": {},
   "source": [
    "# Split Points at midnight"
   ]
  },
  {
   "cell_type": "code",
   "execution_count": 28,
   "id": "0a6fc960",
   "metadata": {},
   "outputs": [],
   "source": [
    "df_points['timestood'] = pd.to_timedelta(df_points['timestood'],unit='s')\n",
    "df_points['time_start'] = pd.to_datetime(df_points['time_start'],unit='s')\n",
    "df_points['time_end'] = pd.to_datetime(df_points['time_end'],unit='s')"
   ]
  },
  {
   "cell_type": "code",
   "execution_count": 29,
   "id": "8395e5e9",
   "metadata": {},
   "outputs": [
    {
     "name": "stderr",
     "output_type": "stream",
     "text": [
      "100%|██████████████████████████████████| 139166/139166 [06:59<00:00, 331.67it/s]\n",
      "100%|█████████████████████████████████| 184764/184764 [02:02<00:00, 1507.48it/s]\n",
      "100%|█████████████████████████████████| 196834/196834 [01:06<00:00, 2970.82it/s]\n",
      "100%|█████████████████████████████████| 202909/202909 [00:43<00:00, 4702.15it/s]\n",
      "100%|█████████████████████████████████| 206482/206482 [00:30<00:00, 6818.07it/s]\n",
      "100%|█████████████████████████████████| 208752/208752 [00:23<00:00, 8793.05it/s]\n",
      "100%|████████████████████████████████| 210277/210277 [00:18<00:00, 11095.63it/s]\n",
      "100%|████████████████████████████████| 211330/211330 [00:16<00:00, 13089.74it/s]\n",
      "100%|████████████████████████████████| 212103/212103 [00:14<00:00, 14788.61it/s]\n",
      "100%|████████████████████████████████| 212698/212698 [00:13<00:00, 16356.38it/s]\n",
      "100%|████████████████████████████████| 213160/213160 [00:11<00:00, 17859.91it/s]\n",
      "100%|████████████████████████████████| 213515/213515 [00:11<00:00, 19008.71it/s]\n",
      "100%|████████████████████████████████| 213792/213792 [00:10<00:00, 20112.67it/s]\n",
      "100%|████████████████████████████████| 214011/214011 [00:10<00:00, 20987.49it/s]\n",
      "100%|████████████████████████████████| 214192/214192 [00:09<00:00, 21528.89it/s]\n",
      "100%|████████████████████████████████| 214343/214343 [00:09<00:00, 21733.16it/s]\n",
      "100%|████████████████████████████████| 214475/214475 [00:09<00:00, 22313.04it/s]\n",
      "100%|████████████████████████████████| 214585/214585 [00:09<00:00, 22677.76it/s]\n",
      "100%|████████████████████████████████| 214686/214686 [00:09<00:00, 23038.29it/s]\n",
      "100%|████████████████████████████████| 214773/214773 [00:09<00:00, 23197.48it/s]\n",
      "100%|████████████████████████████████| 214849/214849 [00:09<00:00, 23821.17it/s]\n",
      "100%|████████████████████████████████| 214907/214907 [00:09<00:00, 23867.54it/s]\n",
      "100%|████████████████████████████████| 214959/214959 [00:09<00:00, 23555.93it/s]\n",
      "100%|████████████████████████████████| 215005/215005 [00:08<00:00, 24395.66it/s]\n",
      "100%|████████████████████████████████| 215044/215044 [00:08<00:00, 24213.01it/s]\n",
      "100%|████████████████████████████████| 215079/215079 [00:08<00:00, 24477.85it/s]\n",
      "100%|████████████████████████████████| 215112/215112 [00:08<00:00, 24554.27it/s]\n",
      "100%|████████████████████████████████| 215141/215141 [00:08<00:00, 24699.65it/s]\n",
      "100%|████████████████████████████████| 215165/215165 [00:08<00:00, 24477.81it/s]\n",
      "100%|████████████████████████████████| 215187/215187 [00:08<00:00, 24779.65it/s]\n",
      "100%|████████████████████████████████| 215206/215206 [00:08<00:00, 24865.16it/s]\n",
      "100%|████████████████████████████████| 215223/215223 [00:08<00:00, 24812.19it/s]\n",
      "100%|████████████████████████████████| 215238/215238 [00:08<00:00, 24964.48it/s]\n",
      "100%|████████████████████████████████| 215251/215251 [00:08<00:00, 25001.46it/s]\n",
      "100%|████████████████████████████████| 215262/215262 [00:08<00:00, 24832.37it/s]\n",
      "100%|████████████████████████████████| 215272/215272 [00:08<00:00, 25003.55it/s]\n",
      "100%|████████████████████████████████| 215282/215282 [00:08<00:00, 24713.99it/s]\n",
      "100%|████████████████████████████████| 215290/215290 [00:08<00:00, 25034.20it/s]\n",
      "100%|████████████████████████████████| 215298/215298 [00:08<00:00, 24678.71it/s]\n",
      "100%|████████████████████████████████| 215306/215306 [00:08<00:00, 25166.51it/s]\n",
      "100%|████████████████████████████████| 215311/215311 [00:08<00:00, 25182.95it/s]\n",
      "100%|████████████████████████████████| 215316/215316 [00:08<00:00, 24887.34it/s]\n",
      "100%|████████████████████████████████| 215321/215321 [00:08<00:00, 24978.55it/s]\n",
      "100%|████████████████████████████████| 215326/215326 [00:08<00:00, 24997.55it/s]\n",
      "100%|████████████████████████████████| 215331/215331 [00:08<00:00, 24859.48it/s]\n",
      "100%|████████████████████████████████| 215336/215336 [00:08<00:00, 24677.68it/s]\n",
      "100%|████████████████████████████████| 215341/215341 [00:08<00:00, 25174.06it/s]\n",
      "100%|████████████████████████████████| 215345/215345 [00:08<00:00, 24224.82it/s]\n",
      "100%|████████████████████████████████| 215349/215349 [00:09<00:00, 23895.98it/s]\n",
      "100%|████████████████████████████████| 215353/215353 [00:08<00:00, 25068.22it/s]\n",
      "100%|████████████████████████████████| 215357/215357 [00:08<00:00, 24533.65it/s]\n",
      "100%|████████████████████████████████| 215361/215361 [00:08<00:00, 25023.49it/s]\n",
      "100%|████████████████████████████████| 215365/215365 [00:08<00:00, 25235.98it/s]\n",
      "100%|████████████████████████████████| 215369/215369 [00:08<00:00, 25211.18it/s]\n",
      "100%|████████████████████████████████| 215373/215373 [00:08<00:00, 25153.84it/s]\n",
      "100%|████████████████████████████████| 215377/215377 [00:08<00:00, 25042.25it/s]\n",
      "100%|████████████████████████████████| 215381/215381 [00:08<00:00, 24929.81it/s]\n",
      "100%|████████████████████████████████| 215385/215385 [00:08<00:00, 24943.53it/s]\n",
      "100%|████████████████████████████████| 215389/215389 [00:08<00:00, 24628.82it/s]\n",
      "100%|████████████████████████████████| 215393/215393 [00:08<00:00, 24960.39it/s]\n",
      "100%|████████████████████████████████| 215396/215396 [00:08<00:00, 24954.11it/s]\n",
      "100%|████████████████████████████████| 215399/215399 [00:08<00:00, 24957.61it/s]\n",
      "100%|████████████████████████████████| 215402/215402 [00:08<00:00, 24859.23it/s]\n",
      "100%|████████████████████████████████| 215404/215404 [00:08<00:00, 24896.29it/s]\n",
      "100%|████████████████████████████████| 215406/215406 [00:08<00:00, 24434.70it/s]\n",
      "100%|████████████████████████████████| 215408/215408 [00:08<00:00, 24792.00it/s]\n",
      "100%|████████████████████████████████| 215410/215410 [00:08<00:00, 24667.08it/s]\n",
      "100%|████████████████████████████████| 215412/215412 [00:08<00:00, 24563.96it/s]\n",
      "100%|████████████████████████████████| 215414/215414 [00:08<00:00, 24655.04it/s]\n",
      "100%|████████████████████████████████| 215416/215416 [00:08<00:00, 24578.33it/s]\n",
      "100%|████████████████████████████████| 215418/215418 [00:08<00:00, 24563.02it/s]\n",
      "100%|████████████████████████████████| 215420/215420 [00:08<00:00, 24547.35it/s]\n",
      "100%|████████████████████████████████| 215422/215422 [00:08<00:00, 24571.24it/s]\n",
      "100%|████████████████████████████████| 215424/215424 [00:08<00:00, 24609.38it/s]\n",
      "100%|████████████████████████████████| 215426/215426 [00:08<00:00, 24621.35it/s]\n",
      "100%|████████████████████████████████| 215428/215428 [00:08<00:00, 24510.92it/s]\n",
      "100%|████████████████████████████████| 215430/215430 [00:08<00:00, 24582.44it/s]\n",
      "100%|████████████████████████████████| 215432/215432 [00:08<00:00, 24337.30it/s]\n",
      "100%|████████████████████████████████| 215434/215434 [00:08<00:00, 24492.04it/s]\n",
      "100%|████████████████████████████████| 215436/215436 [00:08<00:00, 24319.41it/s]\n",
      "100%|████████████████████████████████| 215438/215438 [00:08<00:00, 24637.89it/s]\n",
      "100%|████████████████████████████████| 215440/215440 [00:09<00:00, 23701.96it/s]\n",
      "100%|████████████████████████████████| 215442/215442 [00:08<00:00, 24583.82it/s]\n",
      "100%|████████████████████████████████| 215444/215444 [00:08<00:00, 24502.19it/s]\n",
      "100%|████████████████████████████████| 215446/215446 [00:08<00:00, 24178.70it/s]\n",
      "100%|████████████████████████████████| 215448/215448 [00:09<00:00, 23605.46it/s]\n",
      "100%|████████████████████████████████| 215450/215450 [00:08<00:00, 24104.53it/s]\n",
      "100%|████████████████████████████████| 215452/215452 [00:08<00:00, 24749.27it/s]\n",
      "100%|████████████████████████████████| 215454/215454 [00:08<00:00, 24580.25it/s]\n",
      "100%|████████████████████████████████| 215456/215456 [00:08<00:00, 24659.94it/s]\n",
      "100%|████████████████████████████████| 215458/215458 [00:08<00:00, 24638.54it/s]\n",
      "100%|████████████████████████████████| 215460/215460 [00:08<00:00, 24553.27it/s]\n",
      "100%|████████████████████████████████| 215462/215462 [00:08<00:00, 24640.74it/s]\n",
      "100%|████████████████████████████████| 215464/215464 [00:08<00:00, 24494.13it/s]\n",
      "100%|████████████████████████████████| 215466/215466 [00:08<00:00, 24515.80it/s]\n",
      "100%|████████████████████████████████| 215468/215468 [00:08<00:00, 24501.41it/s]\n",
      "100%|████████████████████████████████| 215470/215470 [00:08<00:00, 24612.90it/s]\n",
      "100%|████████████████████████████████| 215472/215472 [00:08<00:00, 24265.77it/s]\n",
      "100%|████████████████████████████████| 215474/215474 [00:08<00:00, 24327.37it/s]\n",
      "100%|████████████████████████████████| 215475/215475 [00:08<00:00, 24372.81it/s]\n",
      "100%|████████████████████████████████| 215476/215476 [00:09<00:00, 23654.04it/s]\n"
     ]
    },
    {
     "name": "stderr",
     "output_type": "stream",
     "text": [
      "100%|████████████████████████████████| 215477/215477 [00:08<00:00, 25994.94it/s]\n",
      "100%|████████████████████████████████| 215478/215478 [00:08<00:00, 26181.24it/s]\n",
      "100%|████████████████████████████████| 215479/215479 [00:08<00:00, 26016.94it/s]\n",
      "100%|████████████████████████████████| 215480/215480 [00:08<00:00, 26051.70it/s]\n",
      "100%|████████████████████████████████| 215481/215481 [00:08<00:00, 26169.31it/s]\n",
      "100%|████████████████████████████████| 215482/215482 [00:08<00:00, 26183.22it/s]\n",
      "100%|████████████████████████████████| 215483/215483 [00:08<00:00, 26175.68it/s]\n",
      "100%|████████████████████████████████| 215484/215484 [00:08<00:00, 26196.96it/s]\n",
      "100%|████████████████████████████████| 215485/215485 [00:08<00:00, 26179.81it/s]\n",
      "100%|████████████████████████████████| 215486/215486 [00:08<00:00, 26210.18it/s]\n",
      "100%|████████████████████████████████| 215487/215487 [00:08<00:00, 26142.50it/s]\n",
      "100%|████████████████████████████████| 215488/215488 [00:08<00:00, 26183.23it/s]\n",
      "100%|████████████████████████████████| 215489/215489 [00:08<00:00, 26187.89it/s]\n",
      "100%|████████████████████████████████| 215490/215490 [00:08<00:00, 26154.61it/s]\n",
      "100%|████████████████████████████████| 215491/215491 [00:08<00:00, 26210.46it/s]\n",
      "100%|████████████████████████████████| 215492/215492 [00:08<00:00, 26310.49it/s]\n",
      "100%|████████████████████████████████| 215493/215493 [00:08<00:00, 25953.40it/s]"
     ]
    },
    {
     "name": "stdout",
     "output_type": "stream",
     "text": [
      "118\n"
     ]
    },
    {
     "name": "stderr",
     "output_type": "stream",
     "text": [
      "\n"
     ]
    }
   ],
   "source": [
    "from tqdm import tqdm\n",
    "from datetime import timedelta, datetime, date\n",
    "\n",
    "changed = 1\n",
    "iterations = 0\n",
    "\n",
    "while changed:\n",
    "    iterations += 1\n",
    "    changed = 0\n",
    "    for ind in tqdm(df_points.index):\n",
    "        ts = df_points['time_start'][ind]\n",
    "        te = df_points['time_end'][ind]\n",
    "        t0 = ts.replace(hour=23, minute=59, second=59)\n",
    "        \n",
    "        # is timestood greater than same date 23:59:59\n",
    "        #   -> over midnight\n",
    "        if ts + df_points['timestood'][ind] > t0:\n",
    "            changed = 1\n",
    "            \n",
    "            underhang = t0 - ts\n",
    "            overhang = te - t0\n",
    "            \n",
    "            # fix current day\n",
    "            df_points['time_end'][ind] = ts.replace(hour=23, minute=59, second=59)\n",
    "            df_points['timestood'][ind] = underhang\n",
    "            \n",
    "            # add new row\n",
    "            time_start = ts.replace(hour=0, minute=0, second=0)\n",
    "            time_start += timedelta(days=1)\n",
    "            \n",
    "            flag = 0\n",
    "            if time_start + overhang > time_start.replace(hour=23, minute=59, second=59):\n",
    "                flag = 1\n",
    "            \n",
    "            dict = {'bike_id': df_points['bike_id'][ind], 'lng': df_points['lng'][ind], 'lat': df_points['lat'][ind],\n",
    "                    'timestood': overhang, 'time_start': time_start, 'time_end': te, 'flag' : flag}\n",
    "            df_points = df_points.append(dict, ignore_index=True)\n",
    "print(iterations)"
   ]
  },
  {
   "cell_type": "code",
   "execution_count": 30,
   "id": "5aee7e90",
   "metadata": {},
   "outputs": [
    {
     "name": "stderr",
     "output_type": "stream",
     "text": [
      "100%|██████████████████████████████████| 215493/215493 [04:38<00:00, 774.80it/s]\n"
     ]
    }
   ],
   "source": [
    "for ind in tqdm(df_points.index):\n",
    "    df_points['timestood'][ind] = df_points['timestood'][ind].seconds / 60"
   ]
  },
  {
   "cell_type": "code",
   "execution_count": 31,
   "id": "3bf78e2f",
   "metadata": {},
   "outputs": [],
   "source": [
    "df_points[['timestood']] = df_points[['timestood']].astype(int)"
   ]
  },
  {
   "cell_type": "markdown",
   "id": "3a3c97d2",
   "metadata": {},
   "source": [
    "# Save V2 df_points split"
   ]
  },
  {
   "cell_type": "code",
   "execution_count": 32,
   "id": "9db2a577",
   "metadata": {},
   "outputs": [],
   "source": [
    "df_points.to_csv(\"../data/df_points_2019_v2.csv\",index=False)"
   ]
  },
  {
   "cell_type": "code",
   "execution_count": 33,
   "id": "8d901a75",
   "metadata": {},
   "outputs": [
    {
     "data": {
      "text/plain": [
       "1439"
      ]
     },
     "execution_count": 33,
     "metadata": {},
     "output_type": "execute_result"
    }
   ],
   "source": [
    "df_points['timestood'].max()"
   ]
  },
  {
   "cell_type": "markdown",
   "id": "8ac57725",
   "metadata": {},
   "source": [
    "## Add H3 Index"
   ]
  },
  {
   "cell_type": "code",
   "execution_count": 35,
   "id": "3d822988",
   "metadata": {},
   "outputs": [
    {
     "name": "stderr",
     "output_type": "stream",
     "text": [
      "100%|████████████████████████████████| 215493/215493 [00:03<00:00, 55375.55it/s]\n"
     ]
    },
    {
     "data": {
      "text/html": [
       "<div>\n",
       "<style scoped>\n",
       "    .dataframe tbody tr th:only-of-type {\n",
       "        vertical-align: middle;\n",
       "    }\n",
       "\n",
       "    .dataframe tbody tr th {\n",
       "        vertical-align: top;\n",
       "    }\n",
       "\n",
       "    .dataframe thead th {\n",
       "        text-align: right;\n",
       "    }\n",
       "</style>\n",
       "<table border=\"1\" class=\"dataframe\">\n",
       "  <thead>\n",
       "    <tr style=\"text-align: right;\">\n",
       "      <th></th>\n",
       "      <th>bike_id</th>\n",
       "      <th>lat</th>\n",
       "      <th>lng</th>\n",
       "      <th>timestood</th>\n",
       "      <th>time_start</th>\n",
       "      <th>time_end</th>\n",
       "      <th>flag</th>\n",
       "      <th>hex_id</th>\n",
       "    </tr>\n",
       "  </thead>\n",
       "  <tbody>\n",
       "    <tr>\n",
       "      <th>0</th>\n",
       "      <td>3694.0</td>\n",
       "      <td>51.323619</td>\n",
       "      <td>12.335887</td>\n",
       "      <td>12</td>\n",
       "      <td>2017-12-31 23:47:09</td>\n",
       "      <td>2017-12-31 23:59:59</td>\n",
       "      <td>NaN</td>\n",
       "      <td>881f1a8d91fffff</td>\n",
       "    </tr>\n",
       "    <tr>\n",
       "      <th>1</th>\n",
       "      <td>3694.0</td>\n",
       "      <td>51.343813</td>\n",
       "      <td>12.381495</td>\n",
       "      <td>608</td>\n",
       "      <td>2018-01-01 13:51:06</td>\n",
       "      <td>2018-01-01 23:59:59</td>\n",
       "      <td>NaN</td>\n",
       "      <td>881f1a8cb1fffff</td>\n",
       "    </tr>\n",
       "    <tr>\n",
       "      <th>2</th>\n",
       "      <td>3694.0</td>\n",
       "      <td>51.343076</td>\n",
       "      <td>12.365177</td>\n",
       "      <td>35</td>\n",
       "      <td>2018-01-02 14:55:53</td>\n",
       "      <td>2018-01-02 15:31:44</td>\n",
       "      <td>NaN</td>\n",
       "      <td>881f1a8cbdfffff</td>\n",
       "    </tr>\n",
       "    <tr>\n",
       "      <th>3</th>\n",
       "      <td>3694.0</td>\n",
       "      <td>51.332874</td>\n",
       "      <td>12.373261</td>\n",
       "      <td>66</td>\n",
       "      <td>2018-01-02 22:53:45</td>\n",
       "      <td>2018-01-02 23:59:59</td>\n",
       "      <td>NaN</td>\n",
       "      <td>881f1a164bfffff</td>\n",
       "    </tr>\n",
       "    <tr>\n",
       "      <th>4</th>\n",
       "      <td>3694.0</td>\n",
       "      <td>51.297564</td>\n",
       "      <td>12.293015</td>\n",
       "      <td>424</td>\n",
       "      <td>2018-01-03 16:55:03</td>\n",
       "      <td>2018-01-03 23:59:59</td>\n",
       "      <td>NaN</td>\n",
       "      <td>881f1a8da3fffff</td>\n",
       "    </tr>\n",
       "  </tbody>\n",
       "</table>\n",
       "</div>"
      ],
      "text/plain": [
       "   bike_id        lat        lng  timestood          time_start  \\\n",
       "0   3694.0  51.323619  12.335887         12 2017-12-31 23:47:09   \n",
       "1   3694.0  51.343813  12.381495        608 2018-01-01 13:51:06   \n",
       "2   3694.0  51.343076  12.365177         35 2018-01-02 14:55:53   \n",
       "3   3694.0  51.332874  12.373261         66 2018-01-02 22:53:45   \n",
       "4   3694.0  51.297564  12.293015        424 2018-01-03 16:55:03   \n",
       "\n",
       "             time_end  flag           hex_id  \n",
       "0 2017-12-31 23:59:59   NaN  881f1a8d91fffff  \n",
       "1 2018-01-01 23:59:59   NaN  881f1a8cb1fffff  \n",
       "2 2018-01-02 15:31:44   NaN  881f1a8cbdfffff  \n",
       "3 2018-01-02 23:59:59   NaN  881f1a164bfffff  \n",
       "4 2018-01-03 23:59:59   NaN  881f1a8da3fffff  "
      ]
     },
     "execution_count": 35,
     "metadata": {},
     "output_type": "execute_result"
    }
   ],
   "source": [
    "import h3\n",
    "\n",
    "#dfh3 = pd.read_csv('../data/df_points_2020_v2.csv')\n",
    "#dfh3['hex_id'] = 0\n",
    "#dfh3.head()\n",
    "\n",
    "#df_points['hex_id'] = 0\n",
    "\n",
    "for ind in tqdm(df_points.index):\n",
    "    df_points['hex_id'][ind] = h3.geo_to_h3(df_points['lat'][ind], df_points['lng'][ind], 8)\n",
    "df_points.head()"
   ]
  },
  {
   "cell_type": "code",
   "execution_count": 38,
   "id": "ff57ff78",
   "metadata": {},
   "outputs": [
    {
     "data": {
      "text/html": [
       "<div>\n",
       "<style scoped>\n",
       "    .dataframe tbody tr th:only-of-type {\n",
       "        vertical-align: middle;\n",
       "    }\n",
       "\n",
       "    .dataframe tbody tr th {\n",
       "        vertical-align: top;\n",
       "    }\n",
       "\n",
       "    .dataframe thead th {\n",
       "        text-align: right;\n",
       "    }\n",
       "</style>\n",
       "<table border=\"1\" class=\"dataframe\">\n",
       "  <thead>\n",
       "    <tr style=\"text-align: right;\">\n",
       "      <th></th>\n",
       "      <th>bike_id</th>\n",
       "      <th>lat</th>\n",
       "      <th>lng</th>\n",
       "      <th>timestood</th>\n",
       "      <th>time_start</th>\n",
       "      <th>time_end</th>\n",
       "      <th>hex_id</th>\n",
       "    </tr>\n",
       "  </thead>\n",
       "  <tbody>\n",
       "    <tr>\n",
       "      <th>0</th>\n",
       "      <td>3694.0</td>\n",
       "      <td>51.323619</td>\n",
       "      <td>12.335887</td>\n",
       "      <td>12</td>\n",
       "      <td>2017-12-31 23:47:09</td>\n",
       "      <td>2017-12-31 23:59:59</td>\n",
       "      <td>881f1a8d91fffff</td>\n",
       "    </tr>\n",
       "    <tr>\n",
       "      <th>1</th>\n",
       "      <td>3694.0</td>\n",
       "      <td>51.343813</td>\n",
       "      <td>12.381495</td>\n",
       "      <td>608</td>\n",
       "      <td>2018-01-01 13:51:06</td>\n",
       "      <td>2018-01-01 23:59:59</td>\n",
       "      <td>881f1a8cb1fffff</td>\n",
       "    </tr>\n",
       "    <tr>\n",
       "      <th>2</th>\n",
       "      <td>3694.0</td>\n",
       "      <td>51.343076</td>\n",
       "      <td>12.365177</td>\n",
       "      <td>35</td>\n",
       "      <td>2018-01-02 14:55:53</td>\n",
       "      <td>2018-01-02 15:31:44</td>\n",
       "      <td>881f1a8cbdfffff</td>\n",
       "    </tr>\n",
       "    <tr>\n",
       "      <th>3</th>\n",
       "      <td>3694.0</td>\n",
       "      <td>51.332874</td>\n",
       "      <td>12.373261</td>\n",
       "      <td>66</td>\n",
       "      <td>2018-01-02 22:53:45</td>\n",
       "      <td>2018-01-02 23:59:59</td>\n",
       "      <td>881f1a164bfffff</td>\n",
       "    </tr>\n",
       "    <tr>\n",
       "      <th>4</th>\n",
       "      <td>3694.0</td>\n",
       "      <td>51.297564</td>\n",
       "      <td>12.293015</td>\n",
       "      <td>424</td>\n",
       "      <td>2018-01-03 16:55:03</td>\n",
       "      <td>2018-01-03 23:59:59</td>\n",
       "      <td>881f1a8da3fffff</td>\n",
       "    </tr>\n",
       "  </tbody>\n",
       "</table>\n",
       "</div>"
      ],
      "text/plain": [
       "   bike_id        lat        lng  timestood          time_start  \\\n",
       "0   3694.0  51.323619  12.335887         12 2017-12-31 23:47:09   \n",
       "1   3694.0  51.343813  12.381495        608 2018-01-01 13:51:06   \n",
       "2   3694.0  51.343076  12.365177         35 2018-01-02 14:55:53   \n",
       "3   3694.0  51.332874  12.373261         66 2018-01-02 22:53:45   \n",
       "4   3694.0  51.297564  12.293015        424 2018-01-03 16:55:03   \n",
       "\n",
       "             time_end           hex_id  \n",
       "0 2017-12-31 23:59:59  881f1a8d91fffff  \n",
       "1 2018-01-01 23:59:59  881f1a8cb1fffff  \n",
       "2 2018-01-02 15:31:44  881f1a8cbdfffff  \n",
       "3 2018-01-02 23:59:59  881f1a164bfffff  \n",
       "4 2018-01-03 23:59:59  881f1a8da3fffff  "
      ]
     },
     "execution_count": 38,
     "metadata": {},
     "output_type": "execute_result"
    }
   ],
   "source": [
    "#del df_points['flag']\n",
    "df_points.head()"
   ]
  },
  {
   "cell_type": "markdown",
   "id": "83a28483",
   "metadata": {},
   "source": [
    "# Save V3 df_points H3"
   ]
  },
  {
   "cell_type": "code",
   "execution_count": 39,
   "id": "209f3e6e",
   "metadata": {},
   "outputs": [],
   "source": [
    "df_points.to_csv('../data/df_points_2019_final.csv', index=False)"
   ]
  },
  {
   "cell_type": "code",
   "execution_count": null,
   "id": "fec05924",
   "metadata": {},
   "outputs": [],
   "source": []
  }
 ],
 "metadata": {
  "kernelspec": {
   "display_name": "Python 3 (ipykernel)",
   "language": "python",
   "name": "python3"
  },
  "language_info": {
   "codemirror_mode": {
    "name": "ipython",
    "version": 3
   },
   "file_extension": ".py",
   "mimetype": "text/x-python",
   "name": "python",
   "nbconvert_exporter": "python",
   "pygments_lexer": "ipython3",
   "version": "3.9.7"
  }
 },
 "nbformat": 4,
 "nbformat_minor": 5
}
