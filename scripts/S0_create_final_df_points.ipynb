{
 "cells": [
  {
   "cell_type": "markdown",
   "id": "b3ed9e1a",
   "metadata": {},
   "source": [
    "# df_points with UNIX Timestamp #\n",
    "## Creates df_points.csv with all points and idletimes #\n",
    "## Checks the valid geo location\n",
    "## deletes the invalid points: \n",
    "2019 - ca. 9.5%\n",
    "\n",
    "2020 - ca. 2.7%\n",
    "\n",
    "### ca 1h for 1 year"
   ]
  },
  {
   "cell_type": "code",
   "execution_count": 12,
   "id": "a791a421",
   "metadata": {},
   "outputs": [],
   "source": [
    "def importdata():\n",
    "\n",
    "    # show all rows\n",
    "    pd.set_option('display.max_rows', None)\n",
    "    #pd.set_option('display.max_columns', None)\n",
    "    # import Data\n",
    "    df01 = pd.read_csv('/Users/jonweske/devment/BA_nextbike/data/lendings_2021_bis_10_31.csv')\n",
    "    df01 = df01[['bike_id', 'start_time', 'end_time', 'start_lat', 'start_lng', 'end_lat', 'end_lng']]\n",
    "    #df01 = df01.truncate(after=10000)\n",
    "    return df01"
   ]
  },
  {
   "cell_type": "code",
   "execution_count": 13,
   "id": "82359632",
   "metadata": {},
   "outputs": [],
   "source": [
    "def dicOutOfDf(df01):\n",
    "    import pandas as pd\n",
    "    from tqdm import tqdm\n",
    "    # Dict out of DataFrames of Trips per Bike\n",
    "\n",
    "    # init DFs for every bike\n",
    "    myDFs = {}\n",
    "\n",
    "    for ind in tqdm(df01.index):\n",
    "        if df01['bike_id'][ind] not in myDFs:\n",
    "            myDFs[df01['bike_id'][ind]] = pd.DataFrame(\n",
    "                columns=['bike_id', 'start_time', 'end_time', 'start_lat', 'start_lng', 'end_lat', 'end_lng'])\n",
    "\n",
    "    return myDFs"
   ]
  },
  {
   "cell_type": "code",
   "execution_count": 14,
   "id": "941271a6",
   "metadata": {},
   "outputs": [],
   "source": [
    "def addRentalsToDf(df01,myDFs):\n",
    "    from tqdm import tqdm\n",
    "    # Add all rentals to their bike_id DF\n",
    "    for ind in tqdm(df01.index):\n",
    "        if df01['bike_id'][ind] in myDFs:\n",
    "            myDFs[df01['bike_id'][ind]].loc[df01.index[ind]] = df01.iloc[ind]\n",
    "    return myDFs"
   ]
  },
  {
   "cell_type": "code",
   "execution_count": 15,
   "id": "3502fb99",
   "metadata": {},
   "outputs": [],
   "source": [
    "def sortDFs(myDFs):\n",
    "    # sort every DF\n",
    "    for df in myDFs.values():\n",
    "        df[['bike_id', 'start_time','end_time']] = df[['bike_id', 'start_time','end_time']].astype(int)\n",
    "        df[['start_lat','start_lng', 'end_lat', 'end_lng']] = df[['start_lat','start_lng', 'end_lat', 'end_lng']].astype(float)\n",
    "        df.sort_values(by=['start_time'], inplace=True)\n",
    "        df.reset_index(drop=True, inplace=True)\n",
    "    return myDFs"
   ]
  },
  {
   "cell_type": "code",
   "execution_count": 16,
   "id": "2b82d201",
   "metadata": {},
   "outputs": [],
   "source": [
    "def dfPoints(myDFs,radius):\n",
    "    # DF of all points with stoodtime\n",
    "    inval = 0\n",
    "    val = 0 \n",
    "    \n",
    "    df_points = pd.DataFrame(columns=['bike_id', 'lat', 'lng', 'timestood', 'time_start', 'time_end'])\n",
    "    df_points[['bike_id', 'timestood', 'time_start', 'time_end']] = df_points[['bike_id', 'timestood', 'time_start', 'time_end']].astype(int)\n",
    "    df_points[['lng', 'lat']] = df_points[['lng', 'lat']].astype(float)\n",
    "    \n",
    "    for df in tqdm(myDFs.values()):\n",
    "        for ind in df.index[1:]:\n",
    "            #in SECOUNDS\n",
    "            timestood = (df['start_time'][ind] - df['end_time'][ind - 1]).astype(int)\n",
    "            distance = qick_distance(df['end_lat'][ind-1], df['end_lng'][ind-1], df['start_lat'][ind], df['start_lng'][ind])\n",
    "            if distance > radius:\n",
    "                inval +=1\n",
    "                continue\n",
    "            val +=1\n",
    "            dict = {'bike_id': df['bike_id'][ind], 'lng': df['start_lng'][ind], 'lat': df['start_lat'][ind],\n",
    "                    'timestood': timestood, 'time_start': df['end_time'][ind - 1], 'time_end': df['start_time'][ind]}\n",
    "            df_points = df_points.append(dict, ignore_index=True)\n",
    "    print(f\"invalides: {inval} from {val} thats {inval/val * 100} %\")\n",
    "    return df_points"
   ]
  },
  {
   "cell_type": "code",
   "execution_count": 17,
   "id": "1e650789",
   "metadata": {},
   "outputs": [],
   "source": [
    "#old\n",
    "def diff(Elat, Elng, Slat, Slng):\n",
    "    xdiff = abs(round(Elat,8)-round(Slat,8)) * 100000\n",
    "    ydiff = abs(round(Elng,8)-round(Slng,8)) * 100000\n",
    "    #print(f\"{xdiff} und {ydiff}\")\n",
    "    return xdiff,ydiff"
   ]
  },
  {
   "cell_type": "code",
   "execution_count": 18,
   "id": "9e34af27",
   "metadata": {},
   "outputs": [],
   "source": [
    "# returns distance in meter\n",
    "# source: https://www.it-swarm.com.de/de/python/wie-kann-ich-die-entfernung-zwischen-zwei-punkten-breitengrad-laengengrad-schnell-schaetzen/1072488907/\n",
    "def qick_distance(Lat1, Long1, Lat2, Long2):\n",
    "    x = Lat2 - Lat1\n",
    "    y = (Long2 - Long1)*cos((Lat2 + Lat1)*0.00872664626)  \n",
    "    return 111.138*sqrt(x*x+y*y)*1000"
   ]
  },
  {
   "cell_type": "code",
   "execution_count": 19,
   "id": "edc119ca",
   "metadata": {},
   "outputs": [],
   "source": [
    "def keplerMap(df_points):\n",
    "    heatmap = KeplerGl()\n",
    "    heatmap.add_data(data=df_points, name='points')\n",
    "    heatmap.save_to_html(file_name='heatmap_test.html')"
   ]
  },
  {
   "cell_type": "markdown",
   "id": "2b4cd011",
   "metadata": {},
   "source": [
    "# Main \n",
    "## Create MyDfs Map"
   ]
  },
  {
   "cell_type": "code",
   "execution_count": 20,
   "id": "2e341a0e",
   "metadata": {},
   "outputs": [
    {
     "name": "stderr",
     "output_type": "stream",
     "text": [
      "100%|███████████████████████████████| 488718/488718 [00:03<00:00, 153104.49it/s]\n",
      "100%|██████████████████████████████████| 488718/488718 [10:25<00:00, 780.73it/s]\n"
     ]
    }
   ],
   "source": [
    "from keplergl import KeplerGl\n",
    "import pandas as pd\n",
    "pd.options.mode.chained_assignment = None\n",
    "from tqdm import tqdm\n",
    "from geopy.distance import geodesic\n",
    "import h3\n",
    "\n",
    "df = pd.DataFrame()\n",
    "\n",
    "df = importdata()\n",
    "myDfs = dicOutOfDf(df)\n",
    "myDfs = addRentalsToDf(df, myDfs)\n",
    "myDfs = sortDFs(myDfs)\n"
   ]
  },
  {
   "cell_type": "markdown",
   "id": "b8e6afa9",
   "metadata": {},
   "source": [
    "## Save MyDfs Map to file "
   ]
  },
  {
   "cell_type": "markdown",
   "id": "2bc02e73",
   "metadata": {},
   "source": [
    "import pickle\n",
    "with open('saved_myDfs_2019.pkl', 'wb') as f:\n",
    "    pickle.dump(myDfs, f)"
   ]
  },
  {
   "cell_type": "markdown",
   "id": "16b3a096",
   "metadata": {},
   "source": [
    "## Create DF_points \n",
    "### without ~9.573 % invalid points\n",
    "52523 from 550865"
   ]
  },
  {
   "cell_type": "markdown",
   "id": "3440ce0d",
   "metadata": {},
   "source": [
    "def importMyDFsDic():\n",
    "    with open('../data/saved_myDfs.pkl', 'rb') as f:\n",
    "        myDfs = pickle.load(f)\n",
    "    return myDfs"
   ]
  },
  {
   "cell_type": "markdown",
   "id": "4b2c1891",
   "metadata": {},
   "source": [
    "# ggf Map from file importieren\n",
    "import pickle\n",
    "myDf_imported = importMyDFsDic()"
   ]
  },
  {
   "cell_type": "code",
   "execution_count": 21,
   "id": "9fae31aa",
   "metadata": {},
   "outputs": [
    {
     "name": "stderr",
     "output_type": "stream",
     "text": [
      "100%|███████████████████████████████████████| 1199/1199 [31:06<00:00,  1.56s/it]"
     ]
    },
    {
     "name": "stdout",
     "output_type": "stream",
     "text": [
      "invalides: 16724 from 470795 thats 3.55228921292707 %\n"
     ]
    },
    {
     "name": "stderr",
     "output_type": "stream",
     "text": [
      "\n"
     ]
    }
   ],
   "source": [
    "# create DF_POints\n",
    "from math import radians, cos, sin, asin, sqrt\n",
    "import pandas as pd\n",
    "pd.options.mode.chained_assignment = None\n",
    "from tqdm import tqdm\n",
    "\n",
    "radius = 20\n",
    "df_points = dfPoints(myDfs,radius)"
   ]
  },
  {
   "cell_type": "markdown",
   "id": "7f1724f5",
   "metadata": {},
   "source": [
    "## Save df_points_valid_geov01.csv"
   ]
  },
  {
   "cell_type": "markdown",
   "id": "ada7aabe",
   "metadata": {},
   "source": [
    "df_points.to_csv(\"../data/df_points_2019_v1.csv\",index=False)"
   ]
  },
  {
   "cell_type": "markdown",
   "id": "6929a2c5",
   "metadata": {},
   "source": [
    "df_points.head()"
   ]
  },
  {
   "cell_type": "markdown",
   "id": "50748b61",
   "metadata": {},
   "source": [
    "# Split Points at midnight"
   ]
  },
  {
   "cell_type": "code",
   "execution_count": 22,
   "id": "0a6fc960",
   "metadata": {},
   "outputs": [],
   "source": [
    "df_points['timestood'] = pd.to_timedelta(df_points['timestood'],unit='s')\n",
    "df_points['time_start'] = pd.to_datetime(df_points['time_start'],unit='s')\n",
    "df_points['time_end'] = pd.to_datetime(df_points['time_end'],unit='s')"
   ]
  },
  {
   "cell_type": "code",
   "execution_count": 23,
   "id": "8395e5e9",
   "metadata": {},
   "outputs": [
    {
     "name": "stderr",
     "output_type": "stream",
     "text": [
      "100%|██████████████████████████████████| 470795/470795 [48:11<00:00, 162.83it/s]\n",
      "100%|██████████████████████████████████| 585350/585350 [09:54<00:00, 984.14it/s]\n",
      "100%|█████████████████████████████████| 606050/606050 [04:41<00:00, 2153.52it/s]\n",
      "100%|█████████████████████████████████| 615244/615244 [02:47<00:00, 3683.68it/s]\n",
      "100%|█████████████████████████████████| 620298/620298 [01:53<00:00, 5487.33it/s]\n",
      "100%|█████████████████████████████████| 623441/623441 [01:24<00:00, 7391.38it/s]\n",
      "100%|█████████████████████████████████| 625540/625540 [01:07<00:00, 9245.57it/s]\n",
      "100%|████████████████████████████████| 627035/627035 [00:56<00:00, 11000.89it/s]\n",
      "100%|████████████████████████████████| 628152/628152 [00:49<00:00, 12602.90it/s]\n",
      "100%|████████████████████████████████| 629012/629012 [00:44<00:00, 14103.21it/s]\n",
      "100%|████████████████████████████████| 629678/629678 [00:42<00:00, 14855.75it/s]\n",
      "100%|████████████████████████████████| 630196/630196 [00:38<00:00, 16569.13it/s]\n",
      "100%|████████████████████████████████| 630610/630610 [00:37<00:00, 16881.84it/s]\n",
      "100%|████████████████████████████████| 630934/630934 [00:33<00:00, 18951.83it/s]\n",
      "100%|████████████████████████████████| 631210/631210 [00:31<00:00, 20164.21it/s]\n",
      "100%|████████████████████████████████| 631437/631437 [00:32<00:00, 19351.44it/s]\n",
      "100%|████████████████████████████████| 631619/631619 [00:31<00:00, 20204.92it/s]\n",
      "100%|████████████████████████████████| 631772/631772 [00:29<00:00, 21240.36it/s]\n",
      "100%|████████████████████████████████| 631898/631898 [00:26<00:00, 23438.46it/s]\n",
      "100%|████████████████████████████████| 631998/631998 [00:26<00:00, 23922.81it/s]\n",
      "100%|████████████████████████████████| 632083/632083 [00:25<00:00, 24767.06it/s]\n",
      "100%|████████████████████████████████| 632146/632146 [00:26<00:00, 24240.62it/s]\n",
      "100%|████████████████████████████████| 632201/632201 [00:25<00:00, 25162.75it/s]\n",
      "100%|████████████████████████████████| 632252/632252 [00:25<00:00, 25273.10it/s]\n",
      "100%|████████████████████████████████| 632295/632295 [00:24<00:00, 25521.18it/s]\n",
      "100%|████████████████████████████████| 632332/632332 [00:25<00:00, 24832.23it/s]\n",
      "100%|████████████████████████████████| 632363/632363 [00:29<00:00, 21803.02it/s]\n",
      "100%|████████████████████████████████| 632393/632393 [00:27<00:00, 22923.66it/s]\n",
      "100%|████████████████████████████████| 632422/632422 [00:25<00:00, 24827.59it/s]\n",
      "100%|████████████████████████████████| 632448/632448 [00:24<00:00, 26299.26it/s]\n",
      "100%|████████████████████████████████| 632474/632474 [00:29<00:00, 21537.52it/s]\n",
      "100%|████████████████████████████████| 632500/632500 [00:27<00:00, 23197.14it/s]\n",
      "100%|████████████████████████████████| 632526/632526 [00:25<00:00, 24330.21it/s]\n",
      "100%|████████████████████████████████| 632550/632550 [00:25<00:00, 24640.82it/s]\n",
      "100%|████████████████████████████████| 632574/632574 [00:26<00:00, 23569.66it/s]\n",
      "100%|████████████████████████████████| 632595/632595 [00:29<00:00, 21402.15it/s]\n",
      "100%|████████████████████████████████| 632614/632614 [00:24<00:00, 25604.85it/s]\n",
      "100%|████████████████████████████████| 632632/632632 [00:24<00:00, 25427.73it/s]\n",
      "100%|████████████████████████████████| 632649/632649 [00:24<00:00, 25904.20it/s]\n",
      "100%|████████████████████████████████| 632666/632666 [00:24<00:00, 26085.14it/s]\n",
      "100%|████████████████████████████████| 632681/632681 [00:24<00:00, 25397.88it/s]\n",
      "100%|████████████████████████████████| 632695/632695 [00:24<00:00, 25539.46it/s]\n",
      "100%|████████████████████████████████| 632709/632709 [00:24<00:00, 25435.02it/s]\n",
      "100%|████████████████████████████████| 632722/632722 [00:24<00:00, 25683.98it/s]\n",
      "100%|████████████████████████████████| 632735/632735 [00:24<00:00, 25958.74it/s]\n",
      "100%|████████████████████████████████| 632748/632748 [00:24<00:00, 26045.18it/s]\n",
      "100%|████████████████████████████████| 632760/632760 [00:24<00:00, 26187.54it/s]\n",
      "100%|████████████████████████████████| 632772/632772 [00:24<00:00, 26008.50it/s]\n",
      "100%|████████████████████████████████| 632783/632783 [00:24<00:00, 26138.35it/s]\n",
      "100%|████████████████████████████████| 632793/632793 [00:24<00:00, 26232.89it/s]\n",
      "100%|████████████████████████████████| 632801/632801 [00:24<00:00, 26143.98it/s]\n",
      "100%|████████████████████████████████| 632808/632808 [00:24<00:00, 25752.48it/s]\n",
      "100%|████████████████████████████████| 632815/632815 [00:24<00:00, 26073.42it/s]\n",
      "100%|████████████████████████████████| 632821/632821 [00:24<00:00, 26177.17it/s]\n",
      "100%|████████████████████████████████| 632827/632827 [00:24<00:00, 25960.93it/s]\n",
      "100%|████████████████████████████████| 632833/632833 [00:24<00:00, 26059.67it/s]\n",
      "100%|████████████████████████████████| 632839/632839 [00:24<00:00, 26133.81it/s]\n",
      "100%|████████████████████████████████| 632845/632845 [00:24<00:00, 26057.94it/s]\n",
      "100%|████████████████████████████████| 632850/632850 [00:24<00:00, 26265.72it/s]\n",
      "100%|████████████████████████████████| 632855/632855 [00:24<00:00, 26117.41it/s]\n",
      "100%|████████████████████████████████| 632860/632860 [00:24<00:00, 26246.89it/s]\n",
      "100%|████████████████████████████████| 632865/632865 [00:24<00:00, 26268.45it/s]\n",
      "100%|████████████████████████████████| 632869/632869 [00:24<00:00, 26191.27it/s]\n",
      "100%|████████████████████████████████| 632872/632872 [00:24<00:00, 25393.75it/s]\n",
      "100%|████████████████████████████████| 632875/632875 [00:23<00:00, 26400.98it/s]\n",
      "100%|████████████████████████████████| 632878/632878 [00:24<00:00, 26227.46it/s]\n",
      "100%|████████████████████████████████| 632881/632881 [00:24<00:00, 25883.01it/s]\n",
      "100%|████████████████████████████████| 632884/632884 [00:24<00:00, 26306.54it/s]\n",
      "100%|████████████████████████████████| 632886/632886 [00:24<00:00, 26360.66it/s]\n",
      "100%|████████████████████████████████| 632888/632888 [00:24<00:00, 25705.73it/s]\n",
      "100%|████████████████████████████████| 632890/632890 [00:24<00:00, 26308.80it/s]\n",
      "100%|████████████████████████████████| 632892/632892 [00:24<00:00, 26335.45it/s]\n",
      "100%|████████████████████████████████| 632894/632894 [00:24<00:00, 26183.39it/s]\n",
      "100%|████████████████████████████████| 632896/632896 [00:24<00:00, 26275.10it/s]\n",
      "100%|████████████████████████████████| 632898/632898 [00:24<00:00, 26200.64it/s]\n",
      "100%|████████████████████████████████| 632900/632900 [00:24<00:00, 25640.32it/s]\n",
      "100%|████████████████████████████████| 632902/632902 [00:24<00:00, 25510.28it/s]\n",
      "100%|████████████████████████████████| 632904/632904 [00:24<00:00, 26059.32it/s]\n",
      "100%|████████████████████████████████| 632906/632906 [00:24<00:00, 25458.47it/s]\n",
      "100%|████████████████████████████████| 632907/632907 [00:24<00:00, 26287.32it/s]\n",
      "100%|████████████████████████████████| 632908/632908 [00:24<00:00, 26110.88it/s]\n",
      "100%|████████████████████████████████| 632909/632909 [00:24<00:00, 26193.69it/s]\n",
      "100%|████████████████████████████████| 632910/632910 [00:24<00:00, 26161.48it/s]\n",
      "100%|████████████████████████████████| 632911/632911 [00:24<00:00, 25963.79it/s]\n",
      "100%|████████████████████████████████| 632912/632912 [00:24<00:00, 26254.58it/s]\n",
      "100%|████████████████████████████████| 632913/632913 [00:24<00:00, 26163.88it/s]\n",
      "100%|████████████████████████████████| 632914/632914 [00:24<00:00, 26271.58it/s]\n",
      "100%|████████████████████████████████| 632915/632915 [00:24<00:00, 26068.31it/s]\n",
      "100%|████████████████████████████████| 632916/632916 [00:24<00:00, 26197.32it/s]\n",
      "100%|████████████████████████████████| 632917/632917 [00:24<00:00, 26049.35it/s]\n",
      "100%|████████████████████████████████| 632918/632918 [00:24<00:00, 26170.82it/s]\n",
      "100%|████████████████████████████████| 632919/632919 [00:24<00:00, 26108.45it/s]\n",
      "100%|████████████████████████████████| 632920/632920 [00:24<00:00, 26157.24it/s]\n",
      "100%|████████████████████████████████| 632921/632921 [00:24<00:00, 26210.30it/s]\n",
      "100%|████████████████████████████████| 632922/632922 [00:24<00:00, 26280.84it/s]\n",
      "100%|████████████████████████████████| 632923/632923 [00:24<00:00, 26176.56it/s]\n",
      "100%|████████████████████████████████| 632924/632924 [00:24<00:00, 25973.73it/s]\n",
      "100%|████████████████████████████████| 632925/632925 [00:25<00:00, 25283.56it/s]\n",
      "100%|████████████████████████████████| 632926/632926 [00:24<00:00, 25901.99it/s]\n",
      "100%|████████████████████████████████| 632927/632927 [00:24<00:00, 26187.27it/s]\n",
      "100%|████████████████████████████████| 632928/632928 [00:24<00:00, 26138.15it/s]\n"
     ]
    },
    {
     "name": "stderr",
     "output_type": "stream",
     "text": [
      "100%|████████████████████████████████| 632929/632929 [00:23<00:00, 26642.34it/s]\n",
      "100%|████████████████████████████████| 632930/632930 [00:23<00:00, 26725.33it/s]\n",
      "100%|████████████████████████████████| 632931/632931 [00:24<00:00, 26157.50it/s]\n",
      "100%|████████████████████████████████| 632932/632932 [00:24<00:00, 25909.38it/s]\n",
      "100%|████████████████████████████████| 632933/632933 [00:24<00:00, 25805.57it/s]\n",
      "100%|████████████████████████████████| 632934/632934 [00:23<00:00, 26626.93it/s]\n",
      "100%|████████████████████████████████| 632935/632935 [00:23<00:00, 26551.49it/s]\n",
      "100%|████████████████████████████████| 632936/632936 [00:23<00:00, 26520.75it/s]\n",
      "100%|████████████████████████████████| 632937/632937 [00:24<00:00, 26284.13it/s]\n",
      "100%|████████████████████████████████| 632938/632938 [00:23<00:00, 26580.92it/s]\n",
      "100%|████████████████████████████████| 632939/632939 [00:23<00:00, 26579.31it/s]\n",
      "100%|████████████████████████████████| 632940/632940 [00:23<00:00, 26653.67it/s]"
     ]
    },
    {
     "name": "stdout",
     "output_type": "stream",
     "text": [
      "113\n"
     ]
    },
    {
     "name": "stderr",
     "output_type": "stream",
     "text": [
      "\n"
     ]
    }
   ],
   "source": [
    "from tqdm import tqdm\n",
    "from datetime import timedelta, datetime, date\n",
    "\n",
    "changed = 1\n",
    "iterations = 0\n",
    "\n",
    "while changed:\n",
    "    iterations += 1\n",
    "    changed = 0\n",
    "    for ind in tqdm(df_points.index):\n",
    "        ts = df_points['time_start'][ind]\n",
    "        te = df_points['time_end'][ind]\n",
    "        t0 = ts.replace(hour=23, minute=59, second=59)\n",
    "        \n",
    "        # is timestood greater than same date 23:59:59\n",
    "        #   -> over midnight\n",
    "        if ts + df_points['timestood'][ind] > t0:\n",
    "            changed = 1\n",
    "            \n",
    "            underhang = t0 - ts\n",
    "            overhang = te - t0\n",
    "            \n",
    "            # fix current day\n",
    "            df_points['time_end'][ind] = ts.replace(hour=23, minute=59, second=59)\n",
    "            df_points['timestood'][ind] = underhang\n",
    "            \n",
    "            # add new row\n",
    "            time_start = ts.replace(hour=0, minute=0, second=0)\n",
    "            time_start += timedelta(days=1)\n",
    "            \n",
    "            flag = 0\n",
    "            if time_start + overhang > time_start.replace(hour=23, minute=59, second=59):\n",
    "                flag = 1\n",
    "            \n",
    "            dict = {'bike_id': df_points['bike_id'][ind], 'lng': df_points['lng'][ind], 'lat': df_points['lat'][ind],\n",
    "                    'timestood': overhang, 'time_start': time_start, 'time_end': te, 'flag' : flag}\n",
    "            df_points = df_points.append(dict, ignore_index=True)\n",
    "print(iterations)"
   ]
  },
  {
   "cell_type": "code",
   "execution_count": 24,
   "id": "5aee7e90",
   "metadata": {},
   "outputs": [
    {
     "name": "stderr",
     "output_type": "stream",
     "text": [
      "100%|██████████████████████████████████| 632940/632940 [47:16<00:00, 223.17it/s]\n"
     ]
    }
   ],
   "source": [
    "for ind in tqdm(df_points.index):\n",
    "    df_points['timestood'][ind] = df_points['timestood'][ind].seconds / 60"
   ]
  },
  {
   "cell_type": "code",
   "execution_count": 25,
   "id": "3bf78e2f",
   "metadata": {},
   "outputs": [],
   "source": [
    "df_points[['timestood']] = df_points[['timestood']].astype(int)"
   ]
  },
  {
   "cell_type": "markdown",
   "id": "3a3c97d2",
   "metadata": {},
   "source": [
    "# Save V2 df_points split"
   ]
  },
  {
   "cell_type": "markdown",
   "id": "10b29983",
   "metadata": {},
   "source": [
    "df_points.to_csv(\"../data/df_points_2019_v2.csv\",index=False)"
   ]
  },
  {
   "cell_type": "code",
   "execution_count": 26,
   "id": "8d901a75",
   "metadata": {},
   "outputs": [
    {
     "data": {
      "text/plain": [
       "1439"
      ]
     },
     "execution_count": 26,
     "metadata": {},
     "output_type": "execute_result"
    }
   ],
   "source": [
    "df_points['timestood'].max()"
   ]
  },
  {
   "cell_type": "code",
   "execution_count": 28,
   "id": "991143a4",
   "metadata": {},
   "outputs": [
    {
     "data": {
      "text/html": [
       "<div>\n",
       "<style scoped>\n",
       "    .dataframe tbody tr th:only-of-type {\n",
       "        vertical-align: middle;\n",
       "    }\n",
       "\n",
       "    .dataframe tbody tr th {\n",
       "        vertical-align: top;\n",
       "    }\n",
       "\n",
       "    .dataframe thead th {\n",
       "        text-align: right;\n",
       "    }\n",
       "</style>\n",
       "<table border=\"1\" class=\"dataframe\">\n",
       "  <thead>\n",
       "    <tr style=\"text-align: right;\">\n",
       "      <th></th>\n",
       "      <th>bike_id</th>\n",
       "      <th>lat</th>\n",
       "      <th>lng</th>\n",
       "      <th>timestood</th>\n",
       "      <th>time_start</th>\n",
       "      <th>time_end</th>\n",
       "      <th>flag</th>\n",
       "    </tr>\n",
       "  </thead>\n",
       "  <tbody>\n",
       "    <tr>\n",
       "      <th>0</th>\n",
       "      <td>75838.0</td>\n",
       "      <td>51.331022</td>\n",
       "      <td>12.316226</td>\n",
       "      <td>37</td>\n",
       "      <td>2020-12-31 23:22:04</td>\n",
       "      <td>2020-12-31 23:59:59</td>\n",
       "      <td>NaN</td>\n",
       "    </tr>\n",
       "    <tr>\n",
       "      <th>1</th>\n",
       "      <td>75838.0</td>\n",
       "      <td>51.326178</td>\n",
       "      <td>12.334760</td>\n",
       "      <td>272</td>\n",
       "      <td>2021-01-04 19:27:48</td>\n",
       "      <td>2021-01-04 23:59:59</td>\n",
       "      <td>NaN</td>\n",
       "    </tr>\n",
       "    <tr>\n",
       "      <th>2</th>\n",
       "      <td>75838.0</td>\n",
       "      <td>51.332178</td>\n",
       "      <td>12.343082</td>\n",
       "      <td>454</td>\n",
       "      <td>2021-01-05 05:34:11</td>\n",
       "      <td>2021-01-05 13:08:40</td>\n",
       "      <td>NaN</td>\n",
       "    </tr>\n",
       "    <tr>\n",
       "      <th>3</th>\n",
       "      <td>75838.0</td>\n",
       "      <td>51.324615</td>\n",
       "      <td>12.336922</td>\n",
       "      <td>294</td>\n",
       "      <td>2021-01-05 13:13:36</td>\n",
       "      <td>2021-01-05 18:08:29</td>\n",
       "      <td>NaN</td>\n",
       "    </tr>\n",
       "    <tr>\n",
       "      <th>4</th>\n",
       "      <td>75838.0</td>\n",
       "      <td>51.330267</td>\n",
       "      <td>12.336166</td>\n",
       "      <td>347</td>\n",
       "      <td>2021-01-05 18:12:29</td>\n",
       "      <td>2021-01-05 23:59:59</td>\n",
       "      <td>NaN</td>\n",
       "    </tr>\n",
       "  </tbody>\n",
       "</table>\n",
       "</div>"
      ],
      "text/plain": [
       "   bike_id        lat        lng  timestood          time_start  \\\n",
       "0  75838.0  51.331022  12.316226         37 2020-12-31 23:22:04   \n",
       "1  75838.0  51.326178  12.334760        272 2021-01-04 19:27:48   \n",
       "2  75838.0  51.332178  12.343082        454 2021-01-05 05:34:11   \n",
       "3  75838.0  51.324615  12.336922        294 2021-01-05 13:13:36   \n",
       "4  75838.0  51.330267  12.336166        347 2021-01-05 18:12:29   \n",
       "\n",
       "             time_end  flag  \n",
       "0 2020-12-31 23:59:59   NaN  \n",
       "1 2021-01-04 23:59:59   NaN  \n",
       "2 2021-01-05 13:08:40   NaN  \n",
       "3 2021-01-05 18:08:29   NaN  \n",
       "4 2021-01-05 23:59:59   NaN  "
      ]
     },
     "execution_count": 28,
     "metadata": {},
     "output_type": "execute_result"
    }
   ],
   "source": [
    "df_points.head()"
   ]
  },
  {
   "cell_type": "markdown",
   "id": "8ac57725",
   "metadata": {},
   "source": [
    "## Add H3 Index"
   ]
  },
  {
   "cell_type": "code",
   "execution_count": 29,
   "id": "3d822988",
   "metadata": {},
   "outputs": [
    {
     "name": "stderr",
     "output_type": "stream",
     "text": [
      "100%|████████████████████████████████| 632940/632940 [00:11<00:00, 56341.01it/s]\n"
     ]
    },
    {
     "data": {
      "text/html": [
       "<div>\n",
       "<style scoped>\n",
       "    .dataframe tbody tr th:only-of-type {\n",
       "        vertical-align: middle;\n",
       "    }\n",
       "\n",
       "    .dataframe tbody tr th {\n",
       "        vertical-align: top;\n",
       "    }\n",
       "\n",
       "    .dataframe thead th {\n",
       "        text-align: right;\n",
       "    }\n",
       "</style>\n",
       "<table border=\"1\" class=\"dataframe\">\n",
       "  <thead>\n",
       "    <tr style=\"text-align: right;\">\n",
       "      <th></th>\n",
       "      <th>bike_id</th>\n",
       "      <th>lat</th>\n",
       "      <th>lng</th>\n",
       "      <th>timestood</th>\n",
       "      <th>time_start</th>\n",
       "      <th>time_end</th>\n",
       "      <th>flag</th>\n",
       "      <th>hex_id</th>\n",
       "    </tr>\n",
       "  </thead>\n",
       "  <tbody>\n",
       "    <tr>\n",
       "      <th>0</th>\n",
       "      <td>75838.0</td>\n",
       "      <td>51.331022</td>\n",
       "      <td>12.316226</td>\n",
       "      <td>37</td>\n",
       "      <td>2020-12-31 23:22:04</td>\n",
       "      <td>2020-12-31 23:59:59</td>\n",
       "      <td>NaN</td>\n",
       "      <td>881f1a8dd7fffff</td>\n",
       "    </tr>\n",
       "    <tr>\n",
       "      <th>1</th>\n",
       "      <td>75838.0</td>\n",
       "      <td>51.326178</td>\n",
       "      <td>12.334760</td>\n",
       "      <td>272</td>\n",
       "      <td>2021-01-04 19:27:48</td>\n",
       "      <td>2021-01-04 23:59:59</td>\n",
       "      <td>NaN</td>\n",
       "      <td>881f1a8d91fffff</td>\n",
       "    </tr>\n",
       "    <tr>\n",
       "      <th>2</th>\n",
       "      <td>75838.0</td>\n",
       "      <td>51.332178</td>\n",
       "      <td>12.343082</td>\n",
       "      <td>454</td>\n",
       "      <td>2021-01-05 05:34:11</td>\n",
       "      <td>2021-01-05 13:08:40</td>\n",
       "      <td>NaN</td>\n",
       "      <td>881f1a8d9bfffff</td>\n",
       "    </tr>\n",
       "    <tr>\n",
       "      <th>3</th>\n",
       "      <td>75838.0</td>\n",
       "      <td>51.324615</td>\n",
       "      <td>12.336922</td>\n",
       "      <td>294</td>\n",
       "      <td>2021-01-05 13:13:36</td>\n",
       "      <td>2021-01-05 18:08:29</td>\n",
       "      <td>NaN</td>\n",
       "      <td>881f1a8d91fffff</td>\n",
       "    </tr>\n",
       "    <tr>\n",
       "      <th>4</th>\n",
       "      <td>75838.0</td>\n",
       "      <td>51.330267</td>\n",
       "      <td>12.336166</td>\n",
       "      <td>347</td>\n",
       "      <td>2021-01-05 18:12:29</td>\n",
       "      <td>2021-01-05 23:59:59</td>\n",
       "      <td>NaN</td>\n",
       "      <td>881f1a8d9bfffff</td>\n",
       "    </tr>\n",
       "  </tbody>\n",
       "</table>\n",
       "</div>"
      ],
      "text/plain": [
       "   bike_id        lat        lng  timestood          time_start  \\\n",
       "0  75838.0  51.331022  12.316226         37 2020-12-31 23:22:04   \n",
       "1  75838.0  51.326178  12.334760        272 2021-01-04 19:27:48   \n",
       "2  75838.0  51.332178  12.343082        454 2021-01-05 05:34:11   \n",
       "3  75838.0  51.324615  12.336922        294 2021-01-05 13:13:36   \n",
       "4  75838.0  51.330267  12.336166        347 2021-01-05 18:12:29   \n",
       "\n",
       "             time_end  flag           hex_id  \n",
       "0 2020-12-31 23:59:59   NaN  881f1a8dd7fffff  \n",
       "1 2021-01-04 23:59:59   NaN  881f1a8d91fffff  \n",
       "2 2021-01-05 13:08:40   NaN  881f1a8d9bfffff  \n",
       "3 2021-01-05 18:08:29   NaN  881f1a8d91fffff  \n",
       "4 2021-01-05 23:59:59   NaN  881f1a8d9bfffff  "
      ]
     },
     "execution_count": 29,
     "metadata": {},
     "output_type": "execute_result"
    }
   ],
   "source": [
    "import h3\n",
    "\n",
    "#dfh3 = pd.read_csv('../data/df_points_2020_v2.csv')\n",
    "#dfh3['hex_id'] = 0\n",
    "#dfh3.head()\n",
    "\n",
    "df_points['hex_id'] = 0\n",
    "\n",
    "for ind in tqdm(df_points.index):\n",
    "    df_points['hex_id'][ind] = h3.geo_to_h3(df_points['lat'][ind], df_points['lng'][ind], 8)\n",
    "df_points.head()"
   ]
  },
  {
   "cell_type": "code",
   "execution_count": 30,
   "id": "7d59c019",
   "metadata": {},
   "outputs": [],
   "source": [
    "del df_points['flag']"
   ]
  },
  {
   "cell_type": "code",
   "execution_count": 31,
   "id": "ff57ff78",
   "metadata": {},
   "outputs": [
    {
     "data": {
      "text/html": [
       "<div>\n",
       "<style scoped>\n",
       "    .dataframe tbody tr th:only-of-type {\n",
       "        vertical-align: middle;\n",
       "    }\n",
       "\n",
       "    .dataframe tbody tr th {\n",
       "        vertical-align: top;\n",
       "    }\n",
       "\n",
       "    .dataframe thead th {\n",
       "        text-align: right;\n",
       "    }\n",
       "</style>\n",
       "<table border=\"1\" class=\"dataframe\">\n",
       "  <thead>\n",
       "    <tr style=\"text-align: right;\">\n",
       "      <th></th>\n",
       "      <th>bike_id</th>\n",
       "      <th>lat</th>\n",
       "      <th>lng</th>\n",
       "      <th>timestood</th>\n",
       "      <th>time_start</th>\n",
       "      <th>time_end</th>\n",
       "      <th>hex_id</th>\n",
       "    </tr>\n",
       "  </thead>\n",
       "  <tbody>\n",
       "    <tr>\n",
       "      <th>0</th>\n",
       "      <td>75838.0</td>\n",
       "      <td>51.331022</td>\n",
       "      <td>12.316226</td>\n",
       "      <td>37</td>\n",
       "      <td>2020-12-31 23:22:04</td>\n",
       "      <td>2020-12-31 23:59:59</td>\n",
       "      <td>881f1a8dd7fffff</td>\n",
       "    </tr>\n",
       "    <tr>\n",
       "      <th>1</th>\n",
       "      <td>75838.0</td>\n",
       "      <td>51.326178</td>\n",
       "      <td>12.334760</td>\n",
       "      <td>272</td>\n",
       "      <td>2021-01-04 19:27:48</td>\n",
       "      <td>2021-01-04 23:59:59</td>\n",
       "      <td>881f1a8d91fffff</td>\n",
       "    </tr>\n",
       "    <tr>\n",
       "      <th>2</th>\n",
       "      <td>75838.0</td>\n",
       "      <td>51.332178</td>\n",
       "      <td>12.343082</td>\n",
       "      <td>454</td>\n",
       "      <td>2021-01-05 05:34:11</td>\n",
       "      <td>2021-01-05 13:08:40</td>\n",
       "      <td>881f1a8d9bfffff</td>\n",
       "    </tr>\n",
       "    <tr>\n",
       "      <th>3</th>\n",
       "      <td>75838.0</td>\n",
       "      <td>51.324615</td>\n",
       "      <td>12.336922</td>\n",
       "      <td>294</td>\n",
       "      <td>2021-01-05 13:13:36</td>\n",
       "      <td>2021-01-05 18:08:29</td>\n",
       "      <td>881f1a8d91fffff</td>\n",
       "    </tr>\n",
       "    <tr>\n",
       "      <th>4</th>\n",
       "      <td>75838.0</td>\n",
       "      <td>51.330267</td>\n",
       "      <td>12.336166</td>\n",
       "      <td>347</td>\n",
       "      <td>2021-01-05 18:12:29</td>\n",
       "      <td>2021-01-05 23:59:59</td>\n",
       "      <td>881f1a8d9bfffff</td>\n",
       "    </tr>\n",
       "  </tbody>\n",
       "</table>\n",
       "</div>"
      ],
      "text/plain": [
       "   bike_id        lat        lng  timestood          time_start  \\\n",
       "0  75838.0  51.331022  12.316226         37 2020-12-31 23:22:04   \n",
       "1  75838.0  51.326178  12.334760        272 2021-01-04 19:27:48   \n",
       "2  75838.0  51.332178  12.343082        454 2021-01-05 05:34:11   \n",
       "3  75838.0  51.324615  12.336922        294 2021-01-05 13:13:36   \n",
       "4  75838.0  51.330267  12.336166        347 2021-01-05 18:12:29   \n",
       "\n",
       "             time_end           hex_id  \n",
       "0 2020-12-31 23:59:59  881f1a8dd7fffff  \n",
       "1 2021-01-04 23:59:59  881f1a8d91fffff  \n",
       "2 2021-01-05 13:08:40  881f1a8d9bfffff  \n",
       "3 2021-01-05 18:08:29  881f1a8d91fffff  \n",
       "4 2021-01-05 23:59:59  881f1a8d9bfffff  "
      ]
     },
     "execution_count": 31,
     "metadata": {},
     "output_type": "execute_result"
    }
   ],
   "source": [
    "#del df_points['flag']\n",
    "df_points.head()"
   ]
  },
  {
   "cell_type": "markdown",
   "id": "83a28483",
   "metadata": {},
   "source": [
    "# Save V3 df_points H3"
   ]
  },
  {
   "cell_type": "code",
   "execution_count": 32,
   "id": "209f3e6e",
   "metadata": {},
   "outputs": [],
   "source": [
    "df_points.to_csv('../data/df_points_2021_v1_final.csv', index=False)"
   ]
  },
  {
   "cell_type": "code",
   "execution_count": null,
   "id": "fec05924",
   "metadata": {},
   "outputs": [],
   "source": []
  }
 ],
 "metadata": {
  "kernelspec": {
   "display_name": "Python 3 (ipykernel)",
   "language": "python",
   "name": "python3"
  },
  "language_info": {
   "codemirror_mode": {
    "name": "ipython",
    "version": 3
   },
   "file_extension": ".py",
   "mimetype": "text/x-python",
   "name": "python",
   "nbconvert_exporter": "python",
   "pygments_lexer": "ipython3",
   "version": "3.9.7"
  }
 },
 "nbformat": 4,
 "nbformat_minor": 5
}
