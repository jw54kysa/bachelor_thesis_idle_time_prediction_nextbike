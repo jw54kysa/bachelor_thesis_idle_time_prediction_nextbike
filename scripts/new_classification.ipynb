{
 "cells": [
  {
   "cell_type": "code",
   "execution_count": 12,
   "metadata": {
    "collapsed": true
   },
   "outputs": [],
   "source": [
    "import pandas as pd\n",
    "\n",
    "df_points = pd.read_csv('../data/final_nosplit_df_points_18_21_class.csv')"
   ]
  },
  {
   "cell_type": "code",
   "execution_count": 13,
   "outputs": [],
   "source": [
    "df_points = df_points[(df_points['lat'] != 0)]"
   ],
   "metadata": {
    "collapsed": false,
    "pycharm": {
     "name": "#%%\n"
    }
   }
  },
  {
   "cell_type": "code",
   "execution_count": 10,
   "outputs": [
    {
     "data": {
      "text/plain": "         bike_id        lat        lng    dt_start  dt_end           hex_id  \\\n16          2487  51.324645  12.311425  1514777237       1  881f1a8d9dfffff   \n44          2156  51.345123  12.357350  1514815777       1  881f1a8cabfffff   \n76         41845  51.343076  12.365177  1514875109       1  881f1a8cbdfffff   \n99         10689  51.340438  12.366765  1514898810       1  881f1a8cb5fffff   \n129        42199  51.340895  12.385023  1514912446       1  881f1a8cb7fffff   \n...          ...        ...        ...         ...     ...              ...   \n1781272    72334  51.318182  12.373519  1640883581       1  881f1a1647fffff   \n1781284    97566  51.344778  12.322033  1640884198       1  881f1a8ddbfffff   \n1781315    75851  51.341089  12.367643  1640887381       1  881f1a8cb5fffff   \n1781327    93653  51.336653  12.335744  1640888495       1  881f1a8ca5fffff   \n1781363    97692  51.363573  12.360134  1640895719       1  881f1a8c81fffff   \n\n         hex_enc  in_zone                   zone_name  zone_name_enc  ...  \\\n16           326        0                           0              0  ...   \n44           275        1   Pinke Zone Leipzig Ost 1€              3  ...   \n76           283        1   Pinke Zone Leipzig Ost 1€              3  ...   \n99           279        1   Pinke Zone Leipzig Ost 1€              3  ...   \n129          280        1   Pinke Zone Leipzig Ost 1€              3  ...   \n...          ...      ...                         ...            ...  ...   \n1781272      125        1   Blaue Zone Leipzig Ost 0€              1  ...   \n1781284      352        1  Blaue Zone Leipzig West 0€              2  ...   \n1781315      279        1   Pinke Zone Leipzig Ost 1€              3  ...   \n1781327      272        1  Blaue Zone Leipzig West 0€              2  ...   \n1781363      256        1   Pinke Zone Leipzig Ost 1€              3  ...   \n\n         wind_speed  humidity  year  month  day  start_min  over_night  \\\n16             4.60      76.0  2018      1    0        207         NaN   \n44             9.30      65.0  2018      1    0        850         NaN   \n76             7.20      93.0  2018      1    1        398         NaN   \n99             8.20      86.0  2018      1    1        794         NaN   \n129            7.20      86.0  2018      1    1       1021         NaN   \n...             ...       ...   ...    ...  ...        ...         ...   \n1781272        5.81      87.0  2021     12    3       1020         NaN   \n1781284        0.89      84.0  2021     12    3       1030         NaN   \n1781315        9.39      85.0  2021     12    3       1083         NaN   \n1781327        9.39      85.0  2021     12    3       1102         NaN   \n1781363        8.94      83.0  2021     12    3       1222         NaN   \n\n         idle_time_next_day  idle_time  idle_time_class  \n16                      NaN          3                1  \n44                      NaN          2                1  \n76                      NaN          7                1  \n99                      NaN          2                1  \n129                     NaN          9                1  \n...                     ...        ...              ...  \n1781272                 NaN          5                1  \n1781284                 NaN          6                1  \n1781315                 NaN          2                1  \n1781327                 NaN          1                1  \n1781363                 NaN          6                1  \n\n[120834 rows x 25 columns]",
      "text/html": "<div>\n<style scoped>\n    .dataframe tbody tr th:only-of-type {\n        vertical-align: middle;\n    }\n\n    .dataframe tbody tr th {\n        vertical-align: top;\n    }\n\n    .dataframe thead th {\n        text-align: right;\n    }\n</style>\n<table border=\"1\" class=\"dataframe\">\n  <thead>\n    <tr style=\"text-align: right;\">\n      <th></th>\n      <th>bike_id</th>\n      <th>lat</th>\n      <th>lng</th>\n      <th>dt_start</th>\n      <th>dt_end</th>\n      <th>hex_id</th>\n      <th>hex_enc</th>\n      <th>in_zone</th>\n      <th>zone_name</th>\n      <th>zone_name_enc</th>\n      <th>...</th>\n      <th>wind_speed</th>\n      <th>humidity</th>\n      <th>year</th>\n      <th>month</th>\n      <th>day</th>\n      <th>start_min</th>\n      <th>over_night</th>\n      <th>idle_time_next_day</th>\n      <th>idle_time</th>\n      <th>idle_time_class</th>\n    </tr>\n  </thead>\n  <tbody>\n    <tr>\n      <th>16</th>\n      <td>2487</td>\n      <td>51.324645</td>\n      <td>12.311425</td>\n      <td>1514777237</td>\n      <td>1</td>\n      <td>881f1a8d9dfffff</td>\n      <td>326</td>\n      <td>0</td>\n      <td>0</td>\n      <td>0</td>\n      <td>...</td>\n      <td>4.60</td>\n      <td>76.0</td>\n      <td>2018</td>\n      <td>1</td>\n      <td>0</td>\n      <td>207</td>\n      <td>NaN</td>\n      <td>NaN</td>\n      <td>3</td>\n      <td>1</td>\n    </tr>\n    <tr>\n      <th>44</th>\n      <td>2156</td>\n      <td>51.345123</td>\n      <td>12.357350</td>\n      <td>1514815777</td>\n      <td>1</td>\n      <td>881f1a8cabfffff</td>\n      <td>275</td>\n      <td>1</td>\n      <td>Pinke Zone Leipzig Ost 1€</td>\n      <td>3</td>\n      <td>...</td>\n      <td>9.30</td>\n      <td>65.0</td>\n      <td>2018</td>\n      <td>1</td>\n      <td>0</td>\n      <td>850</td>\n      <td>NaN</td>\n      <td>NaN</td>\n      <td>2</td>\n      <td>1</td>\n    </tr>\n    <tr>\n      <th>76</th>\n      <td>41845</td>\n      <td>51.343076</td>\n      <td>12.365177</td>\n      <td>1514875109</td>\n      <td>1</td>\n      <td>881f1a8cbdfffff</td>\n      <td>283</td>\n      <td>1</td>\n      <td>Pinke Zone Leipzig Ost 1€</td>\n      <td>3</td>\n      <td>...</td>\n      <td>7.20</td>\n      <td>93.0</td>\n      <td>2018</td>\n      <td>1</td>\n      <td>1</td>\n      <td>398</td>\n      <td>NaN</td>\n      <td>NaN</td>\n      <td>7</td>\n      <td>1</td>\n    </tr>\n    <tr>\n      <th>99</th>\n      <td>10689</td>\n      <td>51.340438</td>\n      <td>12.366765</td>\n      <td>1514898810</td>\n      <td>1</td>\n      <td>881f1a8cb5fffff</td>\n      <td>279</td>\n      <td>1</td>\n      <td>Pinke Zone Leipzig Ost 1€</td>\n      <td>3</td>\n      <td>...</td>\n      <td>8.20</td>\n      <td>86.0</td>\n      <td>2018</td>\n      <td>1</td>\n      <td>1</td>\n      <td>794</td>\n      <td>NaN</td>\n      <td>NaN</td>\n      <td>2</td>\n      <td>1</td>\n    </tr>\n    <tr>\n      <th>129</th>\n      <td>42199</td>\n      <td>51.340895</td>\n      <td>12.385023</td>\n      <td>1514912446</td>\n      <td>1</td>\n      <td>881f1a8cb7fffff</td>\n      <td>280</td>\n      <td>1</td>\n      <td>Pinke Zone Leipzig Ost 1€</td>\n      <td>3</td>\n      <td>...</td>\n      <td>7.20</td>\n      <td>86.0</td>\n      <td>2018</td>\n      <td>1</td>\n      <td>1</td>\n      <td>1021</td>\n      <td>NaN</td>\n      <td>NaN</td>\n      <td>9</td>\n      <td>1</td>\n    </tr>\n    <tr>\n      <th>...</th>\n      <td>...</td>\n      <td>...</td>\n      <td>...</td>\n      <td>...</td>\n      <td>...</td>\n      <td>...</td>\n      <td>...</td>\n      <td>...</td>\n      <td>...</td>\n      <td>...</td>\n      <td>...</td>\n      <td>...</td>\n      <td>...</td>\n      <td>...</td>\n      <td>...</td>\n      <td>...</td>\n      <td>...</td>\n      <td>...</td>\n      <td>...</td>\n      <td>...</td>\n      <td>...</td>\n    </tr>\n    <tr>\n      <th>1781272</th>\n      <td>72334</td>\n      <td>51.318182</td>\n      <td>12.373519</td>\n      <td>1640883581</td>\n      <td>1</td>\n      <td>881f1a1647fffff</td>\n      <td>125</td>\n      <td>1</td>\n      <td>Blaue Zone Leipzig Ost 0€</td>\n      <td>1</td>\n      <td>...</td>\n      <td>5.81</td>\n      <td>87.0</td>\n      <td>2021</td>\n      <td>12</td>\n      <td>3</td>\n      <td>1020</td>\n      <td>NaN</td>\n      <td>NaN</td>\n      <td>5</td>\n      <td>1</td>\n    </tr>\n    <tr>\n      <th>1781284</th>\n      <td>97566</td>\n      <td>51.344778</td>\n      <td>12.322033</td>\n      <td>1640884198</td>\n      <td>1</td>\n      <td>881f1a8ddbfffff</td>\n      <td>352</td>\n      <td>1</td>\n      <td>Blaue Zone Leipzig West 0€</td>\n      <td>2</td>\n      <td>...</td>\n      <td>0.89</td>\n      <td>84.0</td>\n      <td>2021</td>\n      <td>12</td>\n      <td>3</td>\n      <td>1030</td>\n      <td>NaN</td>\n      <td>NaN</td>\n      <td>6</td>\n      <td>1</td>\n    </tr>\n    <tr>\n      <th>1781315</th>\n      <td>75851</td>\n      <td>51.341089</td>\n      <td>12.367643</td>\n      <td>1640887381</td>\n      <td>1</td>\n      <td>881f1a8cb5fffff</td>\n      <td>279</td>\n      <td>1</td>\n      <td>Pinke Zone Leipzig Ost 1€</td>\n      <td>3</td>\n      <td>...</td>\n      <td>9.39</td>\n      <td>85.0</td>\n      <td>2021</td>\n      <td>12</td>\n      <td>3</td>\n      <td>1083</td>\n      <td>NaN</td>\n      <td>NaN</td>\n      <td>2</td>\n      <td>1</td>\n    </tr>\n    <tr>\n      <th>1781327</th>\n      <td>93653</td>\n      <td>51.336653</td>\n      <td>12.335744</td>\n      <td>1640888495</td>\n      <td>1</td>\n      <td>881f1a8ca5fffff</td>\n      <td>272</td>\n      <td>1</td>\n      <td>Blaue Zone Leipzig West 0€</td>\n      <td>2</td>\n      <td>...</td>\n      <td>9.39</td>\n      <td>85.0</td>\n      <td>2021</td>\n      <td>12</td>\n      <td>3</td>\n      <td>1102</td>\n      <td>NaN</td>\n      <td>NaN</td>\n      <td>1</td>\n      <td>1</td>\n    </tr>\n    <tr>\n      <th>1781363</th>\n      <td>97692</td>\n      <td>51.363573</td>\n      <td>12.360134</td>\n      <td>1640895719</td>\n      <td>1</td>\n      <td>881f1a8c81fffff</td>\n      <td>256</td>\n      <td>1</td>\n      <td>Pinke Zone Leipzig Ost 1€</td>\n      <td>3</td>\n      <td>...</td>\n      <td>8.94</td>\n      <td>83.0</td>\n      <td>2021</td>\n      <td>12</td>\n      <td>3</td>\n      <td>1222</td>\n      <td>NaN</td>\n      <td>NaN</td>\n      <td>6</td>\n      <td>1</td>\n    </tr>\n  </tbody>\n</table>\n<p>120834 rows × 25 columns</p>\n</div>"
     },
     "execution_count": 10,
     "metadata": {},
     "output_type": "execute_result"
    }
   ],
   "source": [
    "df_points = df_points[(df_points['idle_time'] > 10)]"
   ],
   "metadata": {
    "collapsed": false,
    "pycharm": {
     "name": "#%%\n"
    }
   }
  },
  {
   "cell_type": "code",
   "execution_count": 14,
   "outputs": [],
   "source": [
    "def f(row):\n",
    "    if row['idle_time'] < 1440:\n",
    "        val = '1day'\n",
    "    elif row['idle_time'] < 2880:\n",
    "        val = '2day'\n",
    "    elif row['idle_time'] < 10080:\n",
    "        val = '1week'\n",
    "    else:\n",
    "        val = 'longer'\n",
    "    return val\n",
    "\n",
    "df_points['idle_time_class'] = df_points.apply(f, axis=1)"
   ],
   "metadata": {
    "collapsed": false,
    "pycharm": {
     "name": "#%%\n"
    }
   }
  },
  {
   "cell_type": "code",
   "execution_count": 31,
   "outputs": [
    {
     "data": {
      "text/plain": "array([1662549,   69092,   39032,    3979])"
     },
     "execution_count": 31,
     "metadata": {},
     "output_type": "execute_result"
    },
    {
     "data": {
      "text/plain": "<Figure size 432x288 with 1 Axes>",
      "image/png": "[encoded data removed]"
     },
     "metadata": {
      "needs_background": "light"
     },
     "output_type": "display_data"
    }
   ],
   "source": [
    "from matplotlib import pyplot as plt\n",
    "\n",
    "fig = plt.plot(df_points.value_counts(['idle_time_class']).values)\n",
    "df_points.value_counts(['idle_time_class']).values"
   ],
   "metadata": {
    "collapsed": false,
    "pycharm": {
     "name": "#%%\n"
    }
   }
  },
  {
   "cell_type": "code",
   "execution_count": 32,
   "outputs": [],
   "source": [
    "from sklearn.metrics import accuracy_score, precision_score, recall_score\n",
    "from sklearn.ensemble import RandomForestClassifier\n",
    "from sklearn.model_selection import train_test_split\n",
    "import wandb\n",
    "\n",
    "#idle_time_data = pd.read_csv('../data/final_nosplit_df_points_18_21_class.csv')\n",
    "\n",
    "idle_time_data = df_points\n",
    "\n",
    "TargetVariable = ['idle_time_class']\n",
    "Predictors = ['bike_id', 'lat', 'lng', 'temp', 'rain', 'snow', 'wind_speed', 'humidity', 'dt_start',\n",
    "              'hex_enc', 'start_min', 'year', 'month', 'day', 'on_station', 'in_zone', 'zone_name_enc']\n",
    "\n",
    "X = idle_time_data[Predictors].values\n",
    "y = idle_time_data[TargetVariable].values\n",
    "\n",
    "X_train, X_test, y_train, y_test = train_test_split(X, y, train_size=0.8, shuffle=False)"
   ],
   "metadata": {
    "collapsed": false,
    "pycharm": {
     "name": "#%%\n"
    }
   }
  },
  {
   "cell_type": "code",
   "execution_count": 34,
   "outputs": [],
   "source": [
    "model = RandomForestClassifier(n_jobs=2,n_estimators=128)"
   ],
   "metadata": {
    "collapsed": false,
    "pycharm": {
     "name": "#%%\n"
    }
   }
  },
  {
   "cell_type": "code",
   "execution_count": 35,
   "outputs": [],
   "source": [
    "model.fit(X_train, y_train.ravel())\n",
    "y_pred = model.predict(X_test)"
   ],
   "metadata": {
    "collapsed": false,
    "pycharm": {
     "name": "#%%\n"
    }
   }
  },
  {
   "cell_type": "code",
   "execution_count": 36,
   "outputs": [],
   "source": [
    "from sklearn.metrics import f1_score\n",
    "\n",
    "\n",
    "def eval_classification(y_test,y_pred,labels):\n",
    "    # Metrics\n",
    "    # Accuracy, precision, recall\n",
    "    acc = accuracy_score(y_test, y_pred.ravel())\n",
    "    macro_precision = precision_score(y_test.ravel(), y_pred.ravel(), average='macro', labels=labels)\n",
    "    micro_precision = precision_score(y_test.ravel(), y_pred.ravel(), average='micro', labels=labels)\n",
    "    macro_recall = recall_score(y_test.ravel(), y_pred.ravel(), average='macro', labels=labels)\n",
    "    micro_recall = recall_score(y_test.ravel(), y_pred.ravel(), average='micro', labels=labels)\n",
    "\n",
    "    macro_f1 = f1_score(y_test.ravel(), y_pred.ravel(), average='macro', labels=labels)\n",
    "    micro_f1 = f1_score(y_test.ravel(), y_pred.ravel(), average='micro', labels=labels)\n",
    "\n",
    "    print(acc)\n",
    "    print(macro_precision, micro_precision)\n",
    "    print(macro_recall,micro_recall)\n",
    "    print(macro_f1,micro_f1)"
   ],
   "metadata": {
    "collapsed": false,
    "pycharm": {
     "name": "#%%\n"
    }
   }
  },
  {
   "cell_type": "code",
   "execution_count": 37,
   "outputs": [
    {
     "name": "stdout",
     "output_type": "stream",
     "text": [
      "[[341114     61     41      2]\n",
      " [  4422     15      6      3]\n",
      " [  8879     17      9      1]\n",
      " [   358      3      0      0]]\n"
     ]
    },
    {
     "name": "stderr",
     "output_type": "stream",
     "text": [
      "/usr/local/Caskroom/miniconda/base/envs/geobike/lib/python3.9/site-packages/numpy/lib/arraysetops.py:604: FutureWarning: elementwise comparison failed; returning scalar instead, but in the future will perform elementwise comparison\n",
      "  mask &= (ar1 != a)\n",
      "/usr/local/Caskroom/miniconda/base/envs/geobike/lib/python3.9/site-packages/sklearn/metrics/_classification.py:1308: UndefinedMetricWarning: Precision is ill-defined and being set to 0.0 in labels with no predicted samples. Use `zero_division` parameter to control this behavior.\n",
      "  _warn_prf(average, modifier, msg_start, len(result))\n",
      "/usr/local/Caskroom/miniconda/base/envs/geobike/lib/python3.9/site-packages/numpy/lib/arraysetops.py:604: FutureWarning: elementwise comparison failed; returning scalar instead, but in the future will perform elementwise comparison\n",
      "  mask &= (ar1 != a)\n",
      "/usr/local/Caskroom/miniconda/base/envs/geobike/lib/python3.9/site-packages/sklearn/metrics/_classification.py:1308: UndefinedMetricWarning: Precision is ill-defined and being set to 0.0 due to no predicted samples. Use `zero_division` parameter to control this behavior.\n",
      "  _warn_prf(average, modifier, msg_start, len(result))\n",
      "/usr/local/Caskroom/miniconda/base/envs/geobike/lib/python3.9/site-packages/numpy/lib/arraysetops.py:604: FutureWarning: elementwise comparison failed; returning scalar instead, but in the future will perform elementwise comparison\n",
      "  mask &= (ar1 != a)\n",
      "/usr/local/Caskroom/miniconda/base/envs/geobike/lib/python3.9/site-packages/sklearn/metrics/_classification.py:1308: UndefinedMetricWarning: Recall is ill-defined and being set to 0.0 in labels with no true samples. Use `zero_division` parameter to control this behavior.\n",
      "  _warn_prf(average, modifier, msg_start, len(result))\n",
      "/usr/local/Caskroom/miniconda/base/envs/geobike/lib/python3.9/site-packages/numpy/lib/arraysetops.py:604: FutureWarning: elementwise comparison failed; returning scalar instead, but in the future will perform elementwise comparison\n",
      "  mask &= (ar1 != a)\n",
      "/usr/local/Caskroom/miniconda/base/envs/geobike/lib/python3.9/site-packages/sklearn/metrics/_classification.py:1308: UndefinedMetricWarning: Recall is ill-defined and being set to 0.0 due to no true samples. Use `zero_division` parameter to control this behavior.\n",
      "  _warn_prf(average, modifier, msg_start, len(result))\n",
      "/usr/local/Caskroom/miniconda/base/envs/geobike/lib/python3.9/site-packages/numpy/lib/arraysetops.py:604: FutureWarning: elementwise comparison failed; returning scalar instead, but in the future will perform elementwise comparison\n",
      "  mask &= (ar1 != a)\n",
      "/usr/local/Caskroom/miniconda/base/envs/geobike/lib/python3.9/site-packages/sklearn/metrics/_classification.py:1570: UndefinedMetricWarning: F-score is ill-defined and being set to 0.0 in labels with no true nor predicted samples. Use `zero_division` parameter to control this behavior.\n",
      "  _warn_prf(average, \"true nor predicted\", \"F-score is\", len(true_sum))\n",
      "/usr/local/Caskroom/miniconda/base/envs/geobike/lib/python3.9/site-packages/numpy/lib/arraysetops.py:604: FutureWarning: elementwise comparison failed; returning scalar instead, but in the future will perform elementwise comparison\n",
      "  mask &= (ar1 != a)\n",
      "/usr/local/Caskroom/miniconda/base/envs/geobike/lib/python3.9/site-packages/sklearn/metrics/_classification.py:1570: UndefinedMetricWarning: F-score is ill-defined and being set to 0.0 due to no true nor predicted samples. Use `zero_division` parameter to control this behavior.\n",
      "  _warn_prf(average, \"true nor predicted\", \"F-score is\", len(true_sum))\n"
     ]
    },
    {
     "name": "stdout",
     "output_type": "stream",
     "text": [
      "0.9611389255939887\n",
      "0.0 0.0\n",
      "0.0 0.0\n",
      "0.0 0.0\n",
      "              precision    recall  f1-score   support\n",
      "\n",
      "        1day       0.96      1.00      0.98    341218\n",
      "       1week       0.16      0.00      0.01      4446\n",
      "        2day       0.16      0.00      0.00      8906\n",
      "      longer       0.00      0.00      0.00       361\n",
      "\n",
      "    accuracy                           0.96    354931\n",
      "   macro avg       0.32      0.25      0.25    354931\n",
      "weighted avg       0.93      0.96      0.94    354931\n",
      "\n"
     ]
    }
   ],
   "source": [
    "from sklearn.metrics import confusion_matrix, classification_report\n",
    "\n",
    "print(confusion_matrix(y_test, y_pred))\n",
    "accuracy_score(y_test,y_pred)\n",
    "\n",
    "eval_classification(y_test,y_pred,[1,2,3,4])\n",
    "\n",
    "print(classification_report(y_test,y_pred))"
   ],
   "metadata": {
    "collapsed": false,
    "pycharm": {
     "name": "#%%\n"
    }
   }
  },
  {
   "cell_type": "code",
   "execution_count": null,
   "outputs": [],
   "source": [],
   "metadata": {
    "collapsed": false,
    "pycharm": {
     "name": "#%%\n"
    }
   }
  }
 ],
 "metadata": {
  "kernelspec": {
   "display_name": "Python 3",
   "language": "python",
   "name": "python3"
  },
  "language_info": {
   "codemirror_mode": {
    "name": "ipython",
    "version": 2
   },
   "file_extension": ".py",
   "mimetype": "text/x-python",
   "name": "python",
   "nbconvert_exporter": "python",
   "pygments_lexer": "ipython2",
   "version": "2.7.6"
  }
 },
 "nbformat": 4,
 "nbformat_minor": 0
}