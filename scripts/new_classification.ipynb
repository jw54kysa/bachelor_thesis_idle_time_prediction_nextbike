{
 "cells": [
  {
   "cell_type": "code",
   "execution_count": 28,
   "metadata": {
    "collapsed": true,
    "pycharm": {
     "name": "#%%\n"
    }
   },
   "outputs": [],
   "source": [
    "import pandas as pd\n",
    "\n",
    "df_points = pd.read_csv('../data/final_df_points_18_21_class.csv')"
   ]
  },
  {
   "cell_type": "code",
   "execution_count": 29,
   "outputs": [
    {
     "data": {
      "text/plain": "1439"
     },
     "execution_count": 29,
     "metadata": {},
     "output_type": "execute_result"
    }
   ],
   "source": [
    "df_points['idle_time'].max()"
   ],
   "metadata": {
    "collapsed": false,
    "pycharm": {
     "name": "#%%\n"
    }
   }
  },
  {
   "cell_type": "code",
   "execution_count": 33,
   "outputs": [
    {
     "data": {
      "text/plain": "         bike_id        lat        lng    dt_start      dt_end  \\\n284        42203  51.324484  12.338183  1514985878  1514985938   \n460        27092  51.339963  12.382677  1515059780  1515059807   \n789         3085  51.345230  12.392187  1515196800  1515196861   \n1347       41840  51.321498  12.381345  1515400990  1515401016   \n1378       41840  51.324518  12.338348  1515425538  1515425558   \n...          ...        ...        ...         ...         ...   \n2543579    72112  51.311556  12.373522  1640873690  1640873806   \n2543629    41730  51.337991  12.333180  1640876746  1640876773   \n2543699   100169  51.357587  12.368360  1640881486  1640881572   \n2543718    97823  51.317804  12.378506  1640882974  1640882994   \n2543782    93653  51.336653  12.335744  1640888495  1640888567   \n\n                  hex_id  hex_enc  in_zone                   zone_name  \\\n284      881f1a8d93fffff      325        0                           0   \n460      881f1a8cb7fffff      284        1   Blaue Zone Leipzig Ost 0€   \n789      881f1a8cb3fffff      282        1   Blaue Zone Leipzig Ost 0€   \n1347     881f1a1643fffff      127        1   Pinke Zone Leipzig Ost 1€   \n1378     881f1a8d93fffff      325        0                           0   \n...                  ...      ...      ...                         ...   \n2543579  881f1a160dfffff      104        1   Blaue Zone Leipzig Ost 0€   \n2543629  881f1a8ca5fffff      276        1  Blaue Zone Leipzig West 0€   \n2543699  881f1a8c83fffff      261        1   Pinke Zone Leipzig Ost 1€   \n2543718  881f1a1609fffff      102        1   Pinke Zone Leipzig Ost 1€   \n2543782  881f1a8ca5fffff      276        1  Blaue Zone Leipzig West 0€   \n\n         zone_name_enc  ...  wind_speed  humidity  year  month  day  \\\n284                  0  ...        8.20      75.0  2018      1    2   \n460                  1  ...        7.20      75.0  2018      1    3   \n789                  1  ...        7.20      81.0  2018      1    5   \n1347                 3  ...        6.70      92.0  2018      1    0   \n1378                 0  ...        7.20      86.0  2018      1    0   \n...                ...  ...         ...       ...   ...    ...  ...   \n2543579              1  ...        1.79      83.0  2021     12    3   \n2543629              2  ...        1.34      87.0  2021     12    3   \n2543699              3  ...        5.81      87.0  2021     12    3   \n2543718              3  ...        5.81      87.0  2021     12    3   \n2543782              2  ...        9.39      85.0  2021     12    3   \n\n         start_min  over_night  idle_time_next_day  idle_time  idle_time_class  \n284            805           0                   0          1                1  \n460            596           0                   0          0                1  \n789              0           0                   0          1                1  \n1347           523           0                   0          0                1  \n1378           932           0                   0          0                1  \n...            ...         ...                 ...        ...              ...  \n2543579        855           0                   0          1                1  \n2543629        906           0                   0          0                1  \n2543699        985           0                   0          1                1  \n2543718       1010           0                   0          0                1  \n2543782       1102           0                   0          1                1  \n\n[21184 rows x 25 columns]",
      "text/html": "<div>\n<style scoped>\n    .dataframe tbody tr th:only-of-type {\n        vertical-align: middle;\n    }\n\n    .dataframe tbody tr th {\n        vertical-align: top;\n    }\n\n    .dataframe thead th {\n        text-align: right;\n    }\n</style>\n<table border=\"1\" class=\"dataframe\">\n  <thead>\n    <tr style=\"text-align: right;\">\n      <th></th>\n      <th>bike_id</th>\n      <th>lat</th>\n      <th>lng</th>\n      <th>dt_start</th>\n      <th>dt_end</th>\n      <th>hex_id</th>\n      <th>hex_enc</th>\n      <th>in_zone</th>\n      <th>zone_name</th>\n      <th>zone_name_enc</th>\n      <th>...</th>\n      <th>wind_speed</th>\n      <th>humidity</th>\n      <th>year</th>\n      <th>month</th>\n      <th>day</th>\n      <th>start_min</th>\n      <th>over_night</th>\n      <th>idle_time_next_day</th>\n      <th>idle_time</th>\n      <th>idle_time_class</th>\n    </tr>\n  </thead>\n  <tbody>\n    <tr>\n      <th>284</th>\n      <td>42203</td>\n      <td>51.324484</td>\n      <td>12.338183</td>\n      <td>1514985878</td>\n      <td>1514985938</td>\n      <td>881f1a8d93fffff</td>\n      <td>325</td>\n      <td>0</td>\n      <td>0</td>\n      <td>0</td>\n      <td>...</td>\n      <td>8.20</td>\n      <td>75.0</td>\n      <td>2018</td>\n      <td>1</td>\n      <td>2</td>\n      <td>805</td>\n      <td>0</td>\n      <td>0</td>\n      <td>1</td>\n      <td>1</td>\n    </tr>\n    <tr>\n      <th>460</th>\n      <td>27092</td>\n      <td>51.339963</td>\n      <td>12.382677</td>\n      <td>1515059780</td>\n      <td>1515059807</td>\n      <td>881f1a8cb7fffff</td>\n      <td>284</td>\n      <td>1</td>\n      <td>Blaue Zone Leipzig Ost 0€</td>\n      <td>1</td>\n      <td>...</td>\n      <td>7.20</td>\n      <td>75.0</td>\n      <td>2018</td>\n      <td>1</td>\n      <td>3</td>\n      <td>596</td>\n      <td>0</td>\n      <td>0</td>\n      <td>0</td>\n      <td>1</td>\n    </tr>\n    <tr>\n      <th>789</th>\n      <td>3085</td>\n      <td>51.345230</td>\n      <td>12.392187</td>\n      <td>1515196800</td>\n      <td>1515196861</td>\n      <td>881f1a8cb3fffff</td>\n      <td>282</td>\n      <td>1</td>\n      <td>Blaue Zone Leipzig Ost 0€</td>\n      <td>1</td>\n      <td>...</td>\n      <td>7.20</td>\n      <td>81.0</td>\n      <td>2018</td>\n      <td>1</td>\n      <td>5</td>\n      <td>0</td>\n      <td>0</td>\n      <td>0</td>\n      <td>1</td>\n      <td>1</td>\n    </tr>\n    <tr>\n      <th>1347</th>\n      <td>41840</td>\n      <td>51.321498</td>\n      <td>12.381345</td>\n      <td>1515400990</td>\n      <td>1515401016</td>\n      <td>881f1a1643fffff</td>\n      <td>127</td>\n      <td>1</td>\n      <td>Pinke Zone Leipzig Ost 1€</td>\n      <td>3</td>\n      <td>...</td>\n      <td>6.70</td>\n      <td>92.0</td>\n      <td>2018</td>\n      <td>1</td>\n      <td>0</td>\n      <td>523</td>\n      <td>0</td>\n      <td>0</td>\n      <td>0</td>\n      <td>1</td>\n    </tr>\n    <tr>\n      <th>1378</th>\n      <td>41840</td>\n      <td>51.324518</td>\n      <td>12.338348</td>\n      <td>1515425538</td>\n      <td>1515425558</td>\n      <td>881f1a8d93fffff</td>\n      <td>325</td>\n      <td>0</td>\n      <td>0</td>\n      <td>0</td>\n      <td>...</td>\n      <td>7.20</td>\n      <td>86.0</td>\n      <td>2018</td>\n      <td>1</td>\n      <td>0</td>\n      <td>932</td>\n      <td>0</td>\n      <td>0</td>\n      <td>0</td>\n      <td>1</td>\n    </tr>\n    <tr>\n      <th>...</th>\n      <td>...</td>\n      <td>...</td>\n      <td>...</td>\n      <td>...</td>\n      <td>...</td>\n      <td>...</td>\n      <td>...</td>\n      <td>...</td>\n      <td>...</td>\n      <td>...</td>\n      <td>...</td>\n      <td>...</td>\n      <td>...</td>\n      <td>...</td>\n      <td>...</td>\n      <td>...</td>\n      <td>...</td>\n      <td>...</td>\n      <td>...</td>\n      <td>...</td>\n      <td>...</td>\n    </tr>\n    <tr>\n      <th>2543579</th>\n      <td>72112</td>\n      <td>51.311556</td>\n      <td>12.373522</td>\n      <td>1640873690</td>\n      <td>1640873806</td>\n      <td>881f1a160dfffff</td>\n      <td>104</td>\n      <td>1</td>\n      <td>Blaue Zone Leipzig Ost 0€</td>\n      <td>1</td>\n      <td>...</td>\n      <td>1.79</td>\n      <td>83.0</td>\n      <td>2021</td>\n      <td>12</td>\n      <td>3</td>\n      <td>855</td>\n      <td>0</td>\n      <td>0</td>\n      <td>1</td>\n      <td>1</td>\n    </tr>\n    <tr>\n      <th>2543629</th>\n      <td>41730</td>\n      <td>51.337991</td>\n      <td>12.333180</td>\n      <td>1640876746</td>\n      <td>1640876773</td>\n      <td>881f1a8ca5fffff</td>\n      <td>276</td>\n      <td>1</td>\n      <td>Blaue Zone Leipzig West 0€</td>\n      <td>2</td>\n      <td>...</td>\n      <td>1.34</td>\n      <td>87.0</td>\n      <td>2021</td>\n      <td>12</td>\n      <td>3</td>\n      <td>906</td>\n      <td>0</td>\n      <td>0</td>\n      <td>0</td>\n      <td>1</td>\n    </tr>\n    <tr>\n      <th>2543699</th>\n      <td>100169</td>\n      <td>51.357587</td>\n      <td>12.368360</td>\n      <td>1640881486</td>\n      <td>1640881572</td>\n      <td>881f1a8c83fffff</td>\n      <td>261</td>\n      <td>1</td>\n      <td>Pinke Zone Leipzig Ost 1€</td>\n      <td>3</td>\n      <td>...</td>\n      <td>5.81</td>\n      <td>87.0</td>\n      <td>2021</td>\n      <td>12</td>\n      <td>3</td>\n      <td>985</td>\n      <td>0</td>\n      <td>0</td>\n      <td>1</td>\n      <td>1</td>\n    </tr>\n    <tr>\n      <th>2543718</th>\n      <td>97823</td>\n      <td>51.317804</td>\n      <td>12.378506</td>\n      <td>1640882974</td>\n      <td>1640882994</td>\n      <td>881f1a1609fffff</td>\n      <td>102</td>\n      <td>1</td>\n      <td>Pinke Zone Leipzig Ost 1€</td>\n      <td>3</td>\n      <td>...</td>\n      <td>5.81</td>\n      <td>87.0</td>\n      <td>2021</td>\n      <td>12</td>\n      <td>3</td>\n      <td>1010</td>\n      <td>0</td>\n      <td>0</td>\n      <td>0</td>\n      <td>1</td>\n    </tr>\n    <tr>\n      <th>2543782</th>\n      <td>93653</td>\n      <td>51.336653</td>\n      <td>12.335744</td>\n      <td>1640888495</td>\n      <td>1640888567</td>\n      <td>881f1a8ca5fffff</td>\n      <td>276</td>\n      <td>1</td>\n      <td>Blaue Zone Leipzig West 0€</td>\n      <td>2</td>\n      <td>...</td>\n      <td>9.39</td>\n      <td>85.0</td>\n      <td>2021</td>\n      <td>12</td>\n      <td>3</td>\n      <td>1102</td>\n      <td>0</td>\n      <td>0</td>\n      <td>1</td>\n      <td>1</td>\n    </tr>\n  </tbody>\n</table>\n<p>21184 rows × 25 columns</p>\n</div>"
     },
     "execution_count": 33,
     "metadata": {},
     "output_type": "execute_result"
    }
   ],
   "source": [
    "df_points = df_points[(df_points['idle_time'] > 2)]\n",
    "df_points"
   ],
   "metadata": {
    "collapsed": false,
    "pycharm": {
     "name": "#%%\n"
    }
   }
  },
  {
   "cell_type": "code",
   "execution_count": 21,
   "outputs": [],
   "source": [
    "def f(row):\n",
    "    if row['idle_time'] < 1439:\n",
    "        val = '1day'\n",
    "    else:\n",
    "        val = 'longer'\n",
    "    return val\n",
    "\n",
    "df_points['idle_time_class'] = df_points.apply(f, axis=1)"
   ],
   "metadata": {
    "collapsed": false,
    "pycharm": {
     "name": "#%%\n"
    }
   }
  },
  {
   "cell_type": "code",
   "execution_count": 22,
   "outputs": [
    {
     "data": {
      "text/plain": "array([2210419,  179115])"
     },
     "execution_count": 22,
     "metadata": {},
     "output_type": "execute_result"
    },
    {
     "data": {
      "text/plain": "<Figure size 432x288 with 1 Axes>",
      "image/png": "[encoded data removed]"
     },
     "metadata": {
      "needs_background": "light"
     },
     "output_type": "display_data"
    }
   ],
   "source": [
    "from matplotlib import pyplot as plt\n",
    "\n",
    "fig = plt.plot(df_points.value_counts(['idle_time_class']).values)\n",
    "df_points.value_counts(['idle_time_class']).values"
   ],
   "metadata": {
    "collapsed": false,
    "pycharm": {
     "name": "#%%\n"
    }
   }
  },
  {
   "cell_type": "code",
   "execution_count": 23,
   "outputs": [],
   "source": [
    "from sklearn.metrics import accuracy_score, precision_score, recall_score\n",
    "from sklearn.ensemble import RandomForestClassifier\n",
    "from sklearn.model_selection import train_test_split\n",
    "import wandb\n",
    "\n",
    "#idle_time_data = pd.read_csv('../data/final_nosplit_df_points_18_21_class.csv')\n",
    "\n",
    "idle_time_data = df_points\n",
    "\n",
    "TargetVariable = ['idle_time_class']\n",
    "Predictors = ['bike_id', 'lat', 'lng', 'temp', 'rain', 'snow', 'wind_speed', 'humidity', 'dt_start',\n",
    "              'hex_enc', 'start_min', 'year', 'month', 'day', 'on_station', 'in_zone', 'zone_name_enc']\n",
    "\n",
    "X = idle_time_data[Predictors].values\n",
    "y = idle_time_data[TargetVariable].values\n",
    "\n",
    "X_train, X_test, y_train, y_test = train_test_split(X, y, train_size=0.8, shuffle=False)"
   ],
   "metadata": {
    "collapsed": false,
    "pycharm": {
     "name": "#%%\n"
    }
   }
  },
  {
   "cell_type": "code",
   "execution_count": 24,
   "outputs": [],
   "source": [
    "from sklearn.metrics import f1_score\n",
    "\n",
    "\n",
    "def eval_classification(y_test,y_pred,labels):\n",
    "    # Metrics\n",
    "    # Accuracy, precision, recall\n",
    "    acc = accuracy_score(y_test, y_pred.ravel())\n",
    "    macro_precision = precision_score(y_test.ravel(), y_pred.ravel(), average='macro', labels=labels)\n",
    "    micro_precision = precision_score(y_test.ravel(), y_pred.ravel(), average='micro', labels=labels)\n",
    "    macro_recall = recall_score(y_test.ravel(), y_pred.ravel(), average='macro', labels=labels)\n",
    "    micro_recall = recall_score(y_test.ravel(), y_pred.ravel(), average='micro', labels=labels)\n",
    "\n",
    "    macro_f1 = f1_score(y_test.ravel(), y_pred.ravel(), average='macro', labels=labels)\n",
    "    micro_f1 = f1_score(y_test.ravel(), y_pred.ravel(), average='micro', labels=labels)\n",
    "\n",
    "    print(acc)\n",
    "    print(macro_precision, micro_precision)\n",
    "    print(macro_recall,micro_recall)\n",
    "    print(macro_f1,micro_f1)"
   ],
   "metadata": {
    "collapsed": false,
    "pycharm": {
     "name": "#%%\n"
    }
   }
  },
  {
   "cell_type": "code",
   "execution_count": 25,
   "outputs": [],
   "source": [
    "model = RandomForestClassifier(n_jobs=2,n_estimators=128)"
   ],
   "metadata": {
    "collapsed": false,
    "pycharm": {
     "name": "#%%\n"
    }
   }
  },
  {
   "cell_type": "code",
   "execution_count": 26,
   "outputs": [],
   "source": [
    "model.fit(X_train, y_train.ravel())\n",
    "y_pred = model.predict(X_test)"
   ],
   "metadata": {
    "collapsed": false,
    "pycharm": {
     "name": "#%%\n"
    }
   }
  },
  {
   "cell_type": "code",
   "execution_count": 27,
   "outputs": [
    {
     "name": "stdout",
     "output_type": "stream",
     "text": [
      "[[451501   2097]\n",
      " [ 20660   3649]]\n",
      "0.9523819487891996\n",
      "0.7956471043931237 0.9523819487891996\n",
      "0.5727429884329691 0.9523819487891996\n",
      "0.609119751143173 0.9523819487891996\n",
      "              precision    recall  f1-score   support\n",
      "\n",
      "        1day       0.96      1.00      0.98    453598\n",
      "      longer       0.64      0.15      0.24     24309\n",
      "\n",
      "    accuracy                           0.95    477907\n",
      "   macro avg       0.80      0.57      0.61    477907\n",
      "weighted avg       0.94      0.95      0.94    477907\n",
      "\n"
     ]
    }
   ],
   "source": [
    "from sklearn.metrics import confusion_matrix, classification_report\n",
    "\n",
    "print(confusion_matrix(y_test, y_pred))\n",
    "accuracy_score(y_test,y_pred)\n",
    "\n",
    "eval_classification(y_test,y_pred,['1day','longer'])\n",
    "\n",
    "print(classification_report(y_test,y_pred))"
   ],
   "metadata": {
    "collapsed": false,
    "pycharm": {
     "name": "#%%\n"
    }
   }
  },
  {
   "cell_type": "code",
   "execution_count": 13,
   "outputs": [
    {
     "name": "stdout",
     "output_type": "stream",
     "text": [
      "[[313251    862]\n",
      " [ 13476    429]]\n",
      "0.9562889841411142\n",
      "0.645527549385864 0.9562889841411142\n",
      "0.5140539880399715 0.9562889841411142\n",
      "0.5170442337305411 0.9562889841411142\n",
      "              precision    recall  f1-score   support\n",
      "\n",
      "        1day       0.96      1.00      0.98    314113\n",
      "      longer       0.33      0.03      0.06     13905\n",
      "\n",
      "    accuracy                           0.96    328018\n",
      "   macro avg       0.65      0.51      0.52    328018\n",
      "weighted avg       0.93      0.96      0.94    328018\n",
      "\n"
     ]
    }
   ],
   "source": [
    "from sklearn.metrics import confusion_matrix, classification_report\n",
    "\n",
    "print(confusion_matrix(y_test, y_pred))\n",
    "accuracy_score(y_test,y_pred)\n",
    "\n",
    "eval_classification(y_test,y_pred,['1day','longer'])\n",
    "\n",
    "print(classification_report(y_test,y_pred))"
   ],
   "metadata": {
    "collapsed": false,
    "pycharm": {
     "name": "#%%\n"
    }
   }
  },
  {
   "cell_type": "code",
   "execution_count": 38,
   "outputs": [],
   "source": [],
   "metadata": {
    "collapsed": false,
    "pycharm": {
     "name": "#%%\n"
    }
   }
  },
  {
   "cell_type": "code",
   "execution_count": 38,
   "outputs": [],
   "source": [],
   "metadata": {
    "collapsed": false,
    "pycharm": {
     "name": "#%%\n"
    }
   }
  },
  {
   "cell_type": "code",
   "execution_count": 57,
   "outputs": [],
   "source": [
    "from math import sqrt\n",
    "\n",
    "import pandas as pd\n",
    "from sklearn.preprocessing import StandardScaler\n",
    "from sklearn.metrics import r2_score, mean_squared_error, mean_absolute_error\n",
    "from sklearn.neural_network import MLPRegressor\n",
    "from sklearn.model_selection import train_test_split\n",
    "import wandb\n",
    "import random\n",
    "\n",
    "idle_time_data = pd.read_csv('../data/final_df_points_18_21_class.csv')\n",
    "\n",
    "TargetVariable = ['idle_time']\n",
    "Predictors = ['bike_id', 'lat', 'lng', 'temp', 'rain', 'snow', 'wind_speed', 'humidity', 'dt_start',\n",
    "              'hex_enc', 'start_min', 'year', 'month', 'day', 'on_station', 'in_zone', 'zone_name_enc']\n",
    "\n",
    "X = idle_time_data[Predictors].values\n",
    "y = idle_time_data[TargetVariable].values\n",
    "\n",
    "#PredictorScaler = StandardScaler()\n",
    "#PredictorScalerFit = PredictorScaler.fit(X)\n",
    "#X = PredictorScalerFit.transform(X)\n",
    "\n",
    "#TargetScaler = StandardScaler()\n",
    "#TargetScalerFit = TargetScaler.fit(y)\n",
    "#y = TargetScalerFit.transform(y)\n",
    "\n",
    "X_train, X_test, y_train, y_test = train_test_split(X, y, train_size=0.9, shuffle=False)\n",
    "\n",
    "\n",
    "def eval_regression(y_test,y_pred):\n",
    "    # Metrics\n",
    "    # r2, mae, mse, rmse\n",
    "    r2 = r2_score(y_test, y_pred.ravel())\n",
    "    mae = mean_absolute_error(y_test, y_pred.ravel())\n",
    "    mse = mean_squared_error(y_test, y_pred.ravel())\n",
    "    rmse = sqrt(mse)\n",
    "\n",
    "    print('r2: %f' % r2)\n",
    "    print('mae: %f' % mae)\n",
    "    print('mse: %f' % mse)\n",
    "    print('rmse: %f' % rmse)\n",
    "\n",
    "    return r2, mse, rmse, mae"
   ],
   "metadata": {
    "collapsed": false,
    "pycharm": {
     "name": "#%%\n"
    }
   }
  },
  {
   "cell_type": "code",
   "execution_count": 58,
   "outputs": [],
   "source": [
    "\n",
    "\n",
    "model = MLPRegressor()\n",
    "\n",
    "model.fit(X_train, y_train.ravel())\n",
    "y_pred = model.predict(X_test)\n"
   ],
   "metadata": {
    "collapsed": false,
    "pycharm": {
     "name": "#%%\n"
    }
   }
  },
  {
   "cell_type": "code",
   "execution_count": 48,
   "outputs": [],
   "source": [
    "#y_pred_trans = TargetScalerFit.inverse_transform(y_pred.reshape(-1, 1))"
   ],
   "metadata": {
    "collapsed": false,
    "pycharm": {
     "name": "#%%\n"
    }
   }
  },
  {
   "cell_type": "code",
   "execution_count": 49,
   "outputs": [],
   "source": [
    "#y_test_trans = TargetScalerFit.inverse_transform(y_test.reshape(-1, 1))"
   ],
   "metadata": {
    "collapsed": false,
    "pycharm": {
     "name": "#%%\n"
    }
   }
  },
  {
   "cell_type": "code",
   "execution_count": 50,
   "outputs": [
    {
     "name": "stdout",
     "output_type": "stream",
     "text": [
      "r2: 0.275360\n",
      "mae: 224.179251\n",
      "mse: 104029.004863\n",
      "rmse: 322.535277\n"
     ]
    }
   ],
   "source": [
    "# trans scaled\n",
    "r2, mse, rmse, mae = eval_regression(y_test_trans, y_pred_trans)"
   ],
   "metadata": {
    "collapsed": false,
    "pycharm": {
     "name": "#%%\n"
    }
   }
  },
  {
   "cell_type": "code",
   "execution_count": 53,
   "outputs": [
    {
     "name": "stdout",
     "output_type": "stream",
     "text": [
      "r2: 0.354811\n",
      "mae: 0.524526\n",
      "mse: 0.566589\n",
      "rmse: 0.752721\n"
     ]
    }
   ],
   "source": [
    "# not backscaled\n",
    "r2, mse, rmse, mae = eval_regression(y_test, y_pred)"
   ],
   "metadata": {
    "collapsed": false,
    "pycharm": {
     "name": "#%%\n"
    }
   }
  },
  {
   "cell_type": "code",
   "execution_count": 56,
   "outputs": [
    {
     "name": "stdout",
     "output_type": "stream",
     "text": [
      "r2: 0.469226\n",
      "mae: 201.076594\n",
      "mse: 76197.737297\n",
      "rmse: 276.039376\n"
     ]
    }
   ],
   "source": [
    "# not scaled y\n",
    "r2, mse, rmse, mae = eval_regression(y_test, y_pred)"
   ],
   "metadata": {
    "collapsed": false,
    "pycharm": {
     "name": "#%%\n"
    }
   }
  },
  {
   "cell_type": "code",
   "execution_count": 59,
   "outputs": [
    {
     "name": "stdout",
     "output_type": "stream",
     "text": [
      "r2: -0.256116\n",
      "mae: 261.690225\n",
      "mse: 180327.400447\n",
      "rmse: 424.649739\n"
     ]
    }
   ],
   "source": [
    "# not scaled everything\n",
    "r2, mse, rmse, mae = eval_regression(y_test, y_pred)"
   ],
   "metadata": {
    "collapsed": false,
    "pycharm": {
     "name": "#%%\n"
    }
   }
  },
  {
   "cell_type": "code",
   "execution_count": null,
   "outputs": [],
   "source": [],
   "metadata": {
    "collapsed": false,
    "pycharm": {
     "name": "#%%\n"
    }
   }
  }
 ],
 "metadata": {
  "kernelspec": {
   "display_name": "Python 3",
   "language": "python",
   "name": "python3"
  },
  "language_info": {
   "codemirror_mode": {
    "name": "ipython",
    "version": 2
   },
   "file_extension": ".py",
   "mimetype": "text/x-python",
   "name": "python",
   "nbconvert_exporter": "python",
   "pygments_lexer": "ipython2",
   "version": "2.7.6"
  }
 },
 "nbformat": 4,
 "nbformat_minor": 0
}