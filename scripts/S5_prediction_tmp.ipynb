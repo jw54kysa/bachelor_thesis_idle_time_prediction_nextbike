{
 "cells": [
  {
   "cell_type": "code",
   "execution_count": 5,
   "id": "1e8942c5",
   "metadata": {},
   "outputs": [],
   "source": [
    "import pandas as pd\n",
    "import numpy as np"
   ]
  },
  {
   "cell_type": "code",
   "execution_count": 6,
   "id": "f9f70d21",
   "metadata": {},
   "outputs": [],
   "source": [
    "def importdata():\n",
    "    dataframe = pd.read_csv('../data/df_points_2018_2020_h8.csv')\n",
    "    dataframe = df[['bike_id','lat','lng','timestood','time_start','time_end','hex_id']]\n",
    "    return dataframe"
   ]
  },
  {
   "cell_type": "markdown",
   "id": "532d541a",
   "metadata": {},
   "source": [
    "# Main"
   ]
  },
  {
   "cell_type": "code",
   "execution_count": 7,
   "id": "897c777c",
   "metadata": {},
   "outputs": [
    {
     "data": {
      "text/plain": "         bike_id       lat        lng  timestood           time_start  \\\n1802494  93544.0  51.32116  12.269497       1439  2020-07-21 00:00:00   \n1802495  93544.0  51.32116  12.269497       1439  2020-07-22 00:00:00   \n1802496  93544.0  51.32116  12.269497       1439  2020-07-23 00:00:00   \n1802497  93544.0  51.32116  12.269497       1439  2020-07-24 00:00:00   \n1802498  93544.0  51.32116  12.269497       1361  2020-07-25 00:00:00   \n\n                    time_end           hex_id  \n1802494  2020-07-21 23:59:59  881f1a8debfffff  \n1802495  2020-07-22 23:59:59  881f1a8debfffff  \n1802496  2020-07-23 23:59:59  881f1a8debfffff  \n1802497  2020-07-24 23:59:59  881f1a8debfffff  \n1802498  2020-07-25 22:41:47  881f1a8debfffff  ",
      "text/html": "<div>\n<style scoped>\n    .dataframe tbody tr th:only-of-type {\n        vertical-align: middle;\n    }\n\n    .dataframe tbody tr th {\n        vertical-align: top;\n    }\n\n    .dataframe thead th {\n        text-align: right;\n    }\n</style>\n<table border=\"1\" class=\"dataframe\">\n  <thead>\n    <tr style=\"text-align: right;\">\n      <th></th>\n      <th>bike_id</th>\n      <th>lat</th>\n      <th>lng</th>\n      <th>timestood</th>\n      <th>time_start</th>\n      <th>time_end</th>\n      <th>hex_id</th>\n    </tr>\n  </thead>\n  <tbody>\n    <tr>\n      <th>1802494</th>\n      <td>93544.0</td>\n      <td>51.32116</td>\n      <td>12.269497</td>\n      <td>1439</td>\n      <td>2020-07-21 00:00:00</td>\n      <td>2020-07-21 23:59:59</td>\n      <td>881f1a8debfffff</td>\n    </tr>\n    <tr>\n      <th>1802495</th>\n      <td>93544.0</td>\n      <td>51.32116</td>\n      <td>12.269497</td>\n      <td>1439</td>\n      <td>2020-07-22 00:00:00</td>\n      <td>2020-07-22 23:59:59</td>\n      <td>881f1a8debfffff</td>\n    </tr>\n    <tr>\n      <th>1802496</th>\n      <td>93544.0</td>\n      <td>51.32116</td>\n      <td>12.269497</td>\n      <td>1439</td>\n      <td>2020-07-23 00:00:00</td>\n      <td>2020-07-23 23:59:59</td>\n      <td>881f1a8debfffff</td>\n    </tr>\n    <tr>\n      <th>1802497</th>\n      <td>93544.0</td>\n      <td>51.32116</td>\n      <td>12.269497</td>\n      <td>1439</td>\n      <td>2020-07-24 00:00:00</td>\n      <td>2020-07-24 23:59:59</td>\n      <td>881f1a8debfffff</td>\n    </tr>\n    <tr>\n      <th>1802498</th>\n      <td>93544.0</td>\n      <td>51.32116</td>\n      <td>12.269497</td>\n      <td>1361</td>\n      <td>2020-07-25 00:00:00</td>\n      <td>2020-07-25 22:41:47</td>\n      <td>881f1a8debfffff</td>\n    </tr>\n  </tbody>\n</table>\n</div>"
     },
     "execution_count": 7,
     "metadata": {},
     "output_type": "execute_result"
    }
   ],
   "source": [
    "df = importdata()\n",
    "df.tail()"
   ]
  },
  {
   "cell_type": "code",
   "execution_count": null,
   "id": "a40a4966",
   "metadata": {},
   "outputs": [],
   "source": []
  }
 ],
 "metadata": {
  "kernelspec": {
   "display_name": "Python 3 (ipykernel)",
   "language": "python",
   "name": "python3"
  },
  "language_info": {
   "codemirror_mode": {
    "name": "ipython",
    "version": 3
   },
   "file_extension": ".py",
   "mimetype": "text/x-python",
   "name": "python",
   "nbconvert_exporter": "python",
   "pygments_lexer": "ipython3",
   "version": "3.9.7"
  }
 },
 "nbformat": 4,
 "nbformat_minor": 5
}