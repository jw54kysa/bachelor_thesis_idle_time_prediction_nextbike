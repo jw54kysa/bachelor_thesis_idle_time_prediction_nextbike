{
 "cells": [
  {
   "cell_type": "code",
   "execution_count": 65,
   "id": "1e8942c5",
   "metadata": {},
   "outputs": [],
   "source": [
    "import datetime\n",
    "\n",
    "import pandas as pd\n",
    "import numpy as np"
   ]
  },
  {
   "cell_type": "code",
   "execution_count": 66,
   "id": "f9f70d21",
   "metadata": {},
   "outputs": [],
   "source": [
    "def importdata():\n",
    "    dataframe = pd.read_csv('../data/df_points_18-19-20-21_v1_weather_final.csv')\n",
    "    return dataframe.sort_values(by=['dt_start'])"
   ]
  },
  {
   "cell_type": "markdown",
   "id": "532d541a",
   "metadata": {},
   "source": [
    "# Main"
   ]
  },
  {
   "cell_type": "code",
   "execution_count": 67,
   "id": "897c777c",
   "metadata": {},
   "outputs": [
    {
     "data": {
      "text/plain": "         bike_id        lat        lng  timestood           time_start  \\\n2435434    41605  51.338516  12.341863         39  2021-10-30 21:03:29   \n2435435    75857  51.338516  12.341764         38  2021-10-30 21:03:57   \n2435436    93472  51.337836  12.328287         22  2021-10-30 21:05:55   \n2435437    97746  51.325991  12.388202          9  2021-10-30 21:22:07   \n2435438    41627  51.348080  12.351772         27  2021-10-30 21:22:46   \n\n                    time_end           hex_id   temp  rain  snow    dt_start  \\\n2435434  2021-10-30 21:42:31  881f1a8ca5fffff  11.03   NaN   NaN  1635627809   \n2435435  2021-10-30 21:42:38  881f1a8ca5fffff  11.03   NaN   NaN  1635627837   \n2435436  2021-10-30 21:28:00  881f1a8dd3fffff  11.03   NaN   NaN  1635627955   \n2435437  2021-10-30 21:32:02  881f1a1655fffff  11.03   NaN   NaN  1635628927   \n2435438  2021-10-30 21:50:43  881f1a8cabfffff  11.03   NaN   NaN  1635628966   \n\n             dt_end  \n2435434  1635630151  \n2435435  1635630158  \n2435436  1635629280  \n2435437  1635629522  \n2435438  1635630643  ",
      "text/html": "<div>\n<style scoped>\n    .dataframe tbody tr th:only-of-type {\n        vertical-align: middle;\n    }\n\n    .dataframe tbody tr th {\n        vertical-align: top;\n    }\n\n    .dataframe thead th {\n        text-align: right;\n    }\n</style>\n<table border=\"1\" class=\"dataframe\">\n  <thead>\n    <tr style=\"text-align: right;\">\n      <th></th>\n      <th>bike_id</th>\n      <th>lat</th>\n      <th>lng</th>\n      <th>timestood</th>\n      <th>time_start</th>\n      <th>time_end</th>\n      <th>hex_id</th>\n      <th>temp</th>\n      <th>rain</th>\n      <th>snow</th>\n      <th>dt_start</th>\n      <th>dt_end</th>\n    </tr>\n  </thead>\n  <tbody>\n    <tr>\n      <th>2435434</th>\n      <td>41605</td>\n      <td>51.338516</td>\n      <td>12.341863</td>\n      <td>39</td>\n      <td>2021-10-30 21:03:29</td>\n      <td>2021-10-30 21:42:31</td>\n      <td>881f1a8ca5fffff</td>\n      <td>11.03</td>\n      <td>NaN</td>\n      <td>NaN</td>\n      <td>1635627809</td>\n      <td>1635630151</td>\n    </tr>\n    <tr>\n      <th>2435435</th>\n      <td>75857</td>\n      <td>51.338516</td>\n      <td>12.341764</td>\n      <td>38</td>\n      <td>2021-10-30 21:03:57</td>\n      <td>2021-10-30 21:42:38</td>\n      <td>881f1a8ca5fffff</td>\n      <td>11.03</td>\n      <td>NaN</td>\n      <td>NaN</td>\n      <td>1635627837</td>\n      <td>1635630158</td>\n    </tr>\n    <tr>\n      <th>2435436</th>\n      <td>93472</td>\n      <td>51.337836</td>\n      <td>12.328287</td>\n      <td>22</td>\n      <td>2021-10-30 21:05:55</td>\n      <td>2021-10-30 21:28:00</td>\n      <td>881f1a8dd3fffff</td>\n      <td>11.03</td>\n      <td>NaN</td>\n      <td>NaN</td>\n      <td>1635627955</td>\n      <td>1635629280</td>\n    </tr>\n    <tr>\n      <th>2435437</th>\n      <td>97746</td>\n      <td>51.325991</td>\n      <td>12.388202</td>\n      <td>9</td>\n      <td>2021-10-30 21:22:07</td>\n      <td>2021-10-30 21:32:02</td>\n      <td>881f1a1655fffff</td>\n      <td>11.03</td>\n      <td>NaN</td>\n      <td>NaN</td>\n      <td>1635628927</td>\n      <td>1635629522</td>\n    </tr>\n    <tr>\n      <th>2435438</th>\n      <td>41627</td>\n      <td>51.348080</td>\n      <td>12.351772</td>\n      <td>27</td>\n      <td>2021-10-30 21:22:46</td>\n      <td>2021-10-30 21:50:43</td>\n      <td>881f1a8cabfffff</td>\n      <td>11.03</td>\n      <td>NaN</td>\n      <td>NaN</td>\n      <td>1635628966</td>\n      <td>1635630643</td>\n    </tr>\n  </tbody>\n</table>\n</div>"
     },
     "execution_count": 67,
     "metadata": {},
     "output_type": "execute_result"
    }
   ],
   "source": [
    "df = importdata()\n",
    "df = df.reset_index(drop=True)\n",
    "df.tail()"
   ]
  },
  {
   "cell_type": "code",
   "execution_count": 68,
   "id": "a40a4966",
   "metadata": {},
   "outputs": [],
   "source": [
    "import sklearn.metrics as metrics\n",
    "pd.options.mode.chained_assignment = None\n",
    "\n",
    "\n",
    "def regression_results(y_true, y_pred):\n",
    "    # Regression metrics\n",
    "    explained_variance=metrics.explained_variance_score(y_true, y_pred)\n",
    "    mean_absolute_error=metrics.mean_absolute_error(y_true, y_pred)\n",
    "    mse=metrics.mean_squared_error(y_true, y_pred)\n",
    "    mean_squared_log_error=metrics.mean_squared_log_error(y_true, y_pred)\n",
    "    median_absolute_error=metrics.median_absolute_error(y_true, y_pred)\n",
    "    r2=metrics.r2_score(y_true, y_pred)\n",
    "    print('explained_variance: ', round(explained_variance,4))\n",
    "    print('mean_squared_log_error: ', round(mean_squared_log_error,4))\n",
    "    print('r2: ', round(r2,4))\n",
    "    print('MAE: ', round(mean_absolute_error,4))\n",
    "    print('MSE: ', round(mse,4))\n",
    "    print('RMSE: ', round(np.sqrt(mse),4))"
   ]
  },
  {
   "cell_type": "code",
   "execution_count": 69,
   "outputs": [],
   "source": [
    "# Split into Train and Testset\n",
    "\n",
    "spliting_date = pd.Timestamp(2018,1,1)\n",
    "splitting_ind = df.index[pd.to_datetime(df['time_start'])>spliting_date].tolist()[0]\n",
    "\n",
    "X_train = df.loc[:splitting_ind].drop(['timestood'], axis = 1)\n",
    "y_train = df.loc[:splitting_ind, 'timestood']\n",
    "X_test = df.loc[splitting_ind:].drop(['timestood'], axis = 1)\n",
    "y_test = df.loc[:splitting_ind, 'timestood']"
   ],
   "metadata": {
    "collapsed": false,
    "pycharm": {
     "name": "#%%\n"
    }
   }
  },
  {
   "cell_type": "code",
   "execution_count": 70,
   "outputs": [
    {
     "name": "stdout",
     "output_type": "stream",
     "text": [
      "LR: nan (nan)\n",
      "NN: nan (nan)\n",
      "KNN: nan (nan)\n",
      "RF: nan (nan)\n",
      "SVR: nan (nan)\n"
     ]
    },
    {
     "name": "stderr",
     "output_type": "stream",
     "text": [
      "/usr/local/Caskroom/miniconda/base/envs/geobike/lib/python3.9/site-packages/sklearn/model_selection/_validation.py:372: FitFailedWarning: \n",
      "2 fits failed out of a total of 2.\n",
      "The score on these train-test partitions for these parameters will be set to nan.\n",
      "If these failures are not expected, you can try to debug them by setting error_score='raise'.\n",
      "\n",
      "Below are more details about the failures:\n",
      "--------------------------------------------------------------------------------\n",
      "2 fits failed with the following error:\n",
      "Traceback (most recent call last):\n",
      "  File \"/usr/local/Caskroom/miniconda/base/envs/geobike/lib/python3.9/site-packages/sklearn/model_selection/_validation.py\", line 681, in _fit_and_score\n",
      "    estimator.fit(X_train, y_train, **fit_params)\n",
      "  File \"/usr/local/Caskroom/miniconda/base/envs/geobike/lib/python3.9/site-packages/sklearn/linear_model/_base.py\", line 662, in fit\n",
      "    X, y = self._validate_data(\n",
      "  File \"/usr/local/Caskroom/miniconda/base/envs/geobike/lib/python3.9/site-packages/sklearn/base.py\", line 576, in _validate_data\n",
      "    X, y = check_X_y(X, y, **check_params)\n",
      "  File \"/usr/local/Caskroom/miniconda/base/envs/geobike/lib/python3.9/site-packages/sklearn/utils/validation.py\", line 956, in check_X_y\n",
      "    X = check_array(\n",
      "  File \"/usr/local/Caskroom/miniconda/base/envs/geobike/lib/python3.9/site-packages/sklearn/utils/validation.py\", line 738, in check_array\n",
      "    array = np.asarray(array, order=order, dtype=dtype)\n",
      "  File \"/usr/local/Caskroom/miniconda/base/envs/geobike/lib/python3.9/site-packages/pandas/core/generic.py\", line 1993, in __array__\n",
      "    return np.asarray(self._values, dtype=dtype)\n",
      "ValueError: could not convert string to float: '2017-12-31 23:47:09'\n",
      "\n",
      "  warnings.warn(some_fits_failed_message, FitFailedWarning)\n",
      "/usr/local/Caskroom/miniconda/base/envs/geobike/lib/python3.9/site-packages/sklearn/model_selection/_validation.py:372: FitFailedWarning: \n",
      "2 fits failed out of a total of 2.\n",
      "The score on these train-test partitions for these parameters will be set to nan.\n",
      "If these failures are not expected, you can try to debug them by setting error_score='raise'.\n",
      "\n",
      "Below are more details about the failures:\n",
      "--------------------------------------------------------------------------------\n",
      "2 fits failed with the following error:\n",
      "Traceback (most recent call last):\n",
      "  File \"/usr/local/Caskroom/miniconda/base/envs/geobike/lib/python3.9/site-packages/sklearn/model_selection/_validation.py\", line 681, in _fit_and_score\n",
      "    estimator.fit(X_train, y_train, **fit_params)\n",
      "  File \"/usr/local/Caskroom/miniconda/base/envs/geobike/lib/python3.9/site-packages/sklearn/neural_network/_multilayer_perceptron.py\", line 752, in fit\n",
      "    return self._fit(X, y, incremental=False)\n",
      "  File \"/usr/local/Caskroom/miniconda/base/envs/geobike/lib/python3.9/site-packages/sklearn/neural_network/_multilayer_perceptron.py\", line 393, in _fit\n",
      "    X, y = self._validate_input(X, y, incremental, reset=first_pass)\n",
      "  File \"/usr/local/Caskroom/miniconda/base/envs/geobike/lib/python3.9/site-packages/sklearn/neural_network/_multilayer_perceptron.py\", line 1589, in _validate_input\n",
      "    X, y = self._validate_data(\n",
      "  File \"/usr/local/Caskroom/miniconda/base/envs/geobike/lib/python3.9/site-packages/sklearn/base.py\", line 576, in _validate_data\n",
      "    X, y = check_X_y(X, y, **check_params)\n",
      "  File \"/usr/local/Caskroom/miniconda/base/envs/geobike/lib/python3.9/site-packages/sklearn/utils/validation.py\", line 956, in check_X_y\n",
      "    X = check_array(\n",
      "  File \"/usr/local/Caskroom/miniconda/base/envs/geobike/lib/python3.9/site-packages/sklearn/utils/validation.py\", line 738, in check_array\n",
      "    array = np.asarray(array, order=order, dtype=dtype)\n",
      "  File \"/usr/local/Caskroom/miniconda/base/envs/geobike/lib/python3.9/site-packages/pandas/core/generic.py\", line 1993, in __array__\n",
      "    return np.asarray(self._values, dtype=dtype)\n",
      "ValueError: could not convert string to float: '2017-12-31 23:47:09'\n",
      "\n",
      "  warnings.warn(some_fits_failed_message, FitFailedWarning)\n",
      "/usr/local/Caskroom/miniconda/base/envs/geobike/lib/python3.9/site-packages/sklearn/model_selection/_validation.py:372: FitFailedWarning: \n",
      "2 fits failed out of a total of 2.\n",
      "The score on these train-test partitions for these parameters will be set to nan.\n",
      "If these failures are not expected, you can try to debug them by setting error_score='raise'.\n",
      "\n",
      "Below are more details about the failures:\n",
      "--------------------------------------------------------------------------------\n",
      "2 fits failed with the following error:\n",
      "Traceback (most recent call last):\n",
      "  File \"/usr/local/Caskroom/miniconda/base/envs/geobike/lib/python3.9/site-packages/sklearn/model_selection/_validation.py\", line 681, in _fit_and_score\n",
      "    estimator.fit(X_train, y_train, **fit_params)\n",
      "  File \"/usr/local/Caskroom/miniconda/base/envs/geobike/lib/python3.9/site-packages/sklearn/neighbors/_regression.py\", line 213, in fit\n",
      "    return self._fit(X, y)\n",
      "  File \"/usr/local/Caskroom/miniconda/base/envs/geobike/lib/python3.9/site-packages/sklearn/neighbors/_base.py\", line 400, in _fit\n",
      "    X, y = self._validate_data(X, y, accept_sparse=\"csr\", multi_output=True)\n",
      "  File \"/usr/local/Caskroom/miniconda/base/envs/geobike/lib/python3.9/site-packages/sklearn/base.py\", line 576, in _validate_data\n",
      "    X, y = check_X_y(X, y, **check_params)\n",
      "  File \"/usr/local/Caskroom/miniconda/base/envs/geobike/lib/python3.9/site-packages/sklearn/utils/validation.py\", line 956, in check_X_y\n",
      "    X = check_array(\n",
      "  File \"/usr/local/Caskroom/miniconda/base/envs/geobike/lib/python3.9/site-packages/sklearn/utils/validation.py\", line 738, in check_array\n",
      "    array = np.asarray(array, order=order, dtype=dtype)\n",
      "  File \"/usr/local/Caskroom/miniconda/base/envs/geobike/lib/python3.9/site-packages/pandas/core/generic.py\", line 1993, in __array__\n",
      "    return np.asarray(self._values, dtype=dtype)\n",
      "ValueError: could not convert string to float: '2017-12-31 23:47:09'\n",
      "\n",
      "  warnings.warn(some_fits_failed_message, FitFailedWarning)\n",
      "/usr/local/Caskroom/miniconda/base/envs/geobike/lib/python3.9/site-packages/sklearn/model_selection/_validation.py:372: FitFailedWarning: \n",
      "2 fits failed out of a total of 2.\n",
      "The score on these train-test partitions for these parameters will be set to nan.\n",
      "If these failures are not expected, you can try to debug them by setting error_score='raise'.\n",
      "\n",
      "Below are more details about the failures:\n",
      "--------------------------------------------------------------------------------\n",
      "2 fits failed with the following error:\n",
      "Traceback (most recent call last):\n",
      "  File \"/usr/local/Caskroom/miniconda/base/envs/geobike/lib/python3.9/site-packages/sklearn/model_selection/_validation.py\", line 681, in _fit_and_score\n",
      "    estimator.fit(X_train, y_train, **fit_params)\n",
      "  File \"/usr/local/Caskroom/miniconda/base/envs/geobike/lib/python3.9/site-packages/sklearn/ensemble/_forest.py\", line 327, in fit\n",
      "    X, y = self._validate_data(\n",
      "  File \"/usr/local/Caskroom/miniconda/base/envs/geobike/lib/python3.9/site-packages/sklearn/base.py\", line 576, in _validate_data\n",
      "    X, y = check_X_y(X, y, **check_params)\n",
      "  File \"/usr/local/Caskroom/miniconda/base/envs/geobike/lib/python3.9/site-packages/sklearn/utils/validation.py\", line 956, in check_X_y\n",
      "    X = check_array(\n",
      "  File \"/usr/local/Caskroom/miniconda/base/envs/geobike/lib/python3.9/site-packages/sklearn/utils/validation.py\", line 738, in check_array\n",
      "    array = np.asarray(array, order=order, dtype=dtype)\n",
      "  File \"/usr/local/Caskroom/miniconda/base/envs/geobike/lib/python3.9/site-packages/pandas/core/generic.py\", line 1993, in __array__\n",
      "    return np.asarray(self._values, dtype=dtype)\n",
      "ValueError: could not convert string to float: '2017-12-31 23:47:09'\n",
      "\n",
      "  warnings.warn(some_fits_failed_message, FitFailedWarning)\n",
      "/usr/local/Caskroom/miniconda/base/envs/geobike/lib/python3.9/site-packages/sklearn/model_selection/_validation.py:372: FitFailedWarning: \n",
      "2 fits failed out of a total of 2.\n",
      "The score on these train-test partitions for these parameters will be set to nan.\n",
      "If these failures are not expected, you can try to debug them by setting error_score='raise'.\n",
      "\n",
      "Below are more details about the failures:\n",
      "--------------------------------------------------------------------------------\n",
      "2 fits failed with the following error:\n",
      "Traceback (most recent call last):\n",
      "  File \"/usr/local/Caskroom/miniconda/base/envs/geobike/lib/python3.9/site-packages/sklearn/model_selection/_validation.py\", line 681, in _fit_and_score\n",
      "    estimator.fit(X_train, y_train, **fit_params)\n",
      "  File \"/usr/local/Caskroom/miniconda/base/envs/geobike/lib/python3.9/site-packages/sklearn/svm/_base.py\", line 190, in fit\n",
      "    X, y = self._validate_data(\n",
      "  File \"/usr/local/Caskroom/miniconda/base/envs/geobike/lib/python3.9/site-packages/sklearn/base.py\", line 576, in _validate_data\n",
      "    X, y = check_X_y(X, y, **check_params)\n",
      "  File \"/usr/local/Caskroom/miniconda/base/envs/geobike/lib/python3.9/site-packages/sklearn/utils/validation.py\", line 956, in check_X_y\n",
      "    X = check_array(\n",
      "  File \"/usr/local/Caskroom/miniconda/base/envs/geobike/lib/python3.9/site-packages/sklearn/utils/validation.py\", line 738, in check_array\n",
      "    array = np.asarray(array, order=order, dtype=dtype)\n",
      "  File \"/usr/local/Caskroom/miniconda/base/envs/geobike/lib/python3.9/site-packages/pandas/core/generic.py\", line 1993, in __array__\n",
      "    return np.asarray(self._values, dtype=dtype)\n",
      "ValueError: could not convert string to float: '2017-12-31 23:47:09'\n",
      "\n",
      "  warnings.warn(some_fits_failed_message, FitFailedWarning)\n"
     ]
    },
    {
     "data": {
      "text/plain": "<Figure size 432x288 with 1 Axes>",
      "image/png": "[encoded data removed]"
     },
     "metadata": {
      "needs_background": "light"
     },
     "output_type": "display_data"
    }
   ],
   "source": [
    "from sklearn.model_selection import TimeSeriesSplit\n",
    "from sklearn.linear_model import LinearRegression\n",
    "from sklearn.neural_network import MLPRegressor\n",
    "from sklearn.neighbors import KNeighborsRegressor\n",
    "from sklearn.ensemble import RandomForestRegressor\n",
    "from sklearn.svm import SVR\n",
    "from sklearn.model_selection import cross_val_score\n",
    "import sklearn\n",
    "\n",
    "import warnings\n",
    "import matplotlib.pyplot as plt\n",
    "from sklearn.exceptions import ConvergenceWarning\n",
    "\n",
    "\n",
    "# Spot Check Algorithms\n",
    "models = []\n",
    "models.append(('LR', LinearRegression()))\n",
    "models.append(('NN', MLPRegressor(solver = 'lbfgs')))  #neural network\n",
    "models.append(('KNN', KNeighborsRegressor()))\n",
    "models.append(('RF', RandomForestRegressor(n_estimators = 10))) # Ensemble method - collection of many decision trees\n",
    "models.append(('SVR', SVR(gamma='auto'))) # kernel = linear\n",
    "# Evaluate each model in turn\n",
    "results = []\n",
    "names = []\n",
    "for name, model in models:\n",
    "    # TimeSeries Cross validation\n",
    "    tscv = TimeSeriesSplit(n_splits=2)\n",
    "\n",
    "    with warnings.catch_warnings():\n",
    "        warnings.simplefilter(\"ignore\", category=ConvergenceWarning)\n",
    "        cv_results = cross_val_score(model, X_train, y_train, cv=tscv, scoring='r2')\n",
    "\n",
    "    results.append(cv_results)\n",
    "    names.append(name)\n",
    "    print('%s: %f (%f)' % (name, cv_results.mean(), cv_results.std()))\n",
    "\n",
    "# Compare Algorithms\n",
    "plt.boxplot(results, labels=names)\n",
    "plt.title('Algorithm Comparison')\n",
    "plt.show()"
   ],
   "metadata": {
    "collapsed": false,
    "pycharm": {
     "name": "#%%\n"
    }
   }
  },
  {
   "cell_type": "code",
   "execution_count": 47,
   "outputs": [
    {
     "data": {
      "text/plain": "['accuracy',\n 'adjusted_mutual_info_score',\n 'adjusted_rand_score',\n 'average_precision',\n 'balanced_accuracy',\n 'completeness_score',\n 'explained_variance',\n 'f1',\n 'f1_macro',\n 'f1_micro',\n 'f1_samples',\n 'f1_weighted',\n 'fowlkes_mallows_score',\n 'homogeneity_score',\n 'jaccard',\n 'jaccard_macro',\n 'jaccard_micro',\n 'jaccard_samples',\n 'jaccard_weighted',\n 'max_error',\n 'mutual_info_score',\n 'neg_brier_score',\n 'neg_log_loss',\n 'neg_mean_absolute_error',\n 'neg_mean_absolute_percentage_error',\n 'neg_mean_gamma_deviance',\n 'neg_mean_poisson_deviance',\n 'neg_mean_squared_error',\n 'neg_mean_squared_log_error',\n 'neg_median_absolute_error',\n 'neg_root_mean_squared_error',\n 'normalized_mutual_info_score',\n 'precision',\n 'precision_macro',\n 'precision_micro',\n 'precision_samples',\n 'precision_weighted',\n 'r2',\n 'rand_score',\n 'recall',\n 'recall_macro',\n 'recall_micro',\n 'recall_samples',\n 'recall_weighted',\n 'roc_auc',\n 'roc_auc_ovo',\n 'roc_auc_ovo_weighted',\n 'roc_auc_ovr',\n 'roc_auc_ovr_weighted',\n 'top_k_accuracy',\n 'v_measure_score']"
     },
     "execution_count": 47,
     "metadata": {},
     "output_type": "execute_result"
    }
   ],
   "source": [
    "sorted(sklearn.metrics.SCORERS.keys())"
   ],
   "metadata": {
    "collapsed": false,
    "pycharm": {
     "name": "#%%\n"
    }
   }
  },
  {
   "cell_type": "code",
   "execution_count": null,
   "outputs": [],
   "source": [],
   "metadata": {
    "collapsed": false,
    "pycharm": {
     "name": "#%%\n"
    }
   }
  },
  {
   "cell_type": "markdown",
   "source": [],
   "metadata": {
    "collapsed": false
   }
  }
 ],
 "metadata": {
  "kernelspec": {
   "display_name": "Python 3 (ipykernel)",
   "language": "python",
   "name": "python3"
  },
  "language_info": {
   "codemirror_mode": {
    "name": "ipython",
    "version": 3
   },
   "file_extension": ".py",
   "mimetype": "text/x-python",
   "name": "python",
   "nbconvert_exporter": "python",
   "pygments_lexer": "ipython3",
   "version": "3.9.7"
  }
 },
 "nbformat": 4,
 "nbformat_minor": 5
}