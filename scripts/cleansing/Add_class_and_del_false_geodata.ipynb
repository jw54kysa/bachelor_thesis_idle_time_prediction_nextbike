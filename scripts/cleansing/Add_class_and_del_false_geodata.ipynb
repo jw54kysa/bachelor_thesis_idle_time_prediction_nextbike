{
 "cells": [
  {
   "cell_type": "code",
   "execution_count": 36,
   "metadata": {
    "collapsed": true,
    "pycharm": {
     "name": "#%%\n"
    }
   },
   "outputs": [
    {
     "data": {
      "text/plain": "         bike_id        lat        lng    dt_start      dt_end  \\\n2543825    72058  51.317569  12.382730  1640897593  1640904368   \n2543826    71949  51.334711  12.356763  1640897835  1640899343   \n2543827    97785  51.367276  12.369792  1640898086  1640900985   \n2543828    41738  51.366942  12.370322  1640900918  1640903516   \n2543829    72028  51.332844  12.404319  1640903200  1640905163   \n\n                  hex_id  in_zone                  zone_name  \\\n2543825  881f1a1609fffff        1  Blaue Zone Leipzig Ost 0€   \n2543826  881f1a1649fffff        1  Pinke Zone Leipzig Ost 1€   \n2543827  881f1a8c8bfffff        1  Blaue Zone Leipzig Ost 0€   \n2543828  881f1a8c8bfffff        1  Pinke Zone Leipzig Ost 1€   \n2543829  881f1a165bfffff        1  Blaue Zone Leipzig Ost 0€   \n\n         end_station_number   temp  ...  snow  wind_speed  humidity  year  \\\n2543825                   0  13.19  ...   0.0        8.94      83.0  2021   \n2543826                   0  13.19  ...   0.0        8.94      83.0  2021   \n2543827                   0  13.05  ...   0.0        8.05      84.0  2021   \n2543828                   0  13.05  ...   0.0        8.05      84.0  2021   \n2543829                   0  13.11  ...   0.0        8.05      81.0  2021   \n\n         month  day  start_min  over_night  idle_time_next_day  idle_time  \n2543825     12    3       1253           0                   0        112  \n2543826     12    3       1257           0                   0         25  \n2543827     12    3       1261           0                   0         48  \n2543828     12    3       1309           0                   0         43  \n2543829     12    3       1347           0                   0         32  \n\n[5 rows x 21 columns]",
      "text/html": "<div>\n<style scoped>\n    .dataframe tbody tr th:only-of-type {\n        vertical-align: middle;\n    }\n\n    .dataframe tbody tr th {\n        vertical-align: top;\n    }\n\n    .dataframe thead th {\n        text-align: right;\n    }\n</style>\n<table border=\"1\" class=\"dataframe\">\n  <thead>\n    <tr style=\"text-align: right;\">\n      <th></th>\n      <th>bike_id</th>\n      <th>lat</th>\n      <th>lng</th>\n      <th>dt_start</th>\n      <th>dt_end</th>\n      <th>hex_id</th>\n      <th>in_zone</th>\n      <th>zone_name</th>\n      <th>end_station_number</th>\n      <th>temp</th>\n      <th>...</th>\n      <th>snow</th>\n      <th>wind_speed</th>\n      <th>humidity</th>\n      <th>year</th>\n      <th>month</th>\n      <th>day</th>\n      <th>start_min</th>\n      <th>over_night</th>\n      <th>idle_time_next_day</th>\n      <th>idle_time</th>\n    </tr>\n  </thead>\n  <tbody>\n    <tr>\n      <th>2543825</th>\n      <td>72058</td>\n      <td>51.317569</td>\n      <td>12.382730</td>\n      <td>1640897593</td>\n      <td>1640904368</td>\n      <td>881f1a1609fffff</td>\n      <td>1</td>\n      <td>Blaue Zone Leipzig Ost 0€</td>\n      <td>0</td>\n      <td>13.19</td>\n      <td>...</td>\n      <td>0.0</td>\n      <td>8.94</td>\n      <td>83.0</td>\n      <td>2021</td>\n      <td>12</td>\n      <td>3</td>\n      <td>1253</td>\n      <td>0</td>\n      <td>0</td>\n      <td>112</td>\n    </tr>\n    <tr>\n      <th>2543826</th>\n      <td>71949</td>\n      <td>51.334711</td>\n      <td>12.356763</td>\n      <td>1640897835</td>\n      <td>1640899343</td>\n      <td>881f1a1649fffff</td>\n      <td>1</td>\n      <td>Pinke Zone Leipzig Ost 1€</td>\n      <td>0</td>\n      <td>13.19</td>\n      <td>...</td>\n      <td>0.0</td>\n      <td>8.94</td>\n      <td>83.0</td>\n      <td>2021</td>\n      <td>12</td>\n      <td>3</td>\n      <td>1257</td>\n      <td>0</td>\n      <td>0</td>\n      <td>25</td>\n    </tr>\n    <tr>\n      <th>2543827</th>\n      <td>97785</td>\n      <td>51.367276</td>\n      <td>12.369792</td>\n      <td>1640898086</td>\n      <td>1640900985</td>\n      <td>881f1a8c8bfffff</td>\n      <td>1</td>\n      <td>Blaue Zone Leipzig Ost 0€</td>\n      <td>0</td>\n      <td>13.05</td>\n      <td>...</td>\n      <td>0.0</td>\n      <td>8.05</td>\n      <td>84.0</td>\n      <td>2021</td>\n      <td>12</td>\n      <td>3</td>\n      <td>1261</td>\n      <td>0</td>\n      <td>0</td>\n      <td>48</td>\n    </tr>\n    <tr>\n      <th>2543828</th>\n      <td>41738</td>\n      <td>51.366942</td>\n      <td>12.370322</td>\n      <td>1640900918</td>\n      <td>1640903516</td>\n      <td>881f1a8c8bfffff</td>\n      <td>1</td>\n      <td>Pinke Zone Leipzig Ost 1€</td>\n      <td>0</td>\n      <td>13.05</td>\n      <td>...</td>\n      <td>0.0</td>\n      <td>8.05</td>\n      <td>84.0</td>\n      <td>2021</td>\n      <td>12</td>\n      <td>3</td>\n      <td>1309</td>\n      <td>0</td>\n      <td>0</td>\n      <td>43</td>\n    </tr>\n    <tr>\n      <th>2543829</th>\n      <td>72028</td>\n      <td>51.332844</td>\n      <td>12.404319</td>\n      <td>1640903200</td>\n      <td>1640905163</td>\n      <td>881f1a165bfffff</td>\n      <td>1</td>\n      <td>Blaue Zone Leipzig Ost 0€</td>\n      <td>0</td>\n      <td>13.11</td>\n      <td>...</td>\n      <td>0.0</td>\n      <td>8.05</td>\n      <td>81.0</td>\n      <td>2021</td>\n      <td>12</td>\n      <td>3</td>\n      <td>1347</td>\n      <td>0</td>\n      <td>0</td>\n      <td>32</td>\n    </tr>\n  </tbody>\n</table>\n<p>5 rows × 21 columns</p>\n</div>"
     },
     "execution_count": 36,
     "metadata": {},
     "output_type": "execute_result"
    }
   ],
   "source": [
    "import pandas as pd\n",
    "df = pd.read_csv('../data/final_df_points_18_21.csv')\n",
    "df.tail()"
   ]
  },
  {
   "cell_type": "code",
   "execution_count": 37,
   "outputs": [
    {
     "data": {
      "text/plain": "0.25      56.0\n0.50     196.0\n0.75     489.0\n1.00    1439.0\nName: idle_time, dtype: float64"
     },
     "execution_count": 37,
     "metadata": {},
     "output_type": "execute_result"
    },
    {
     "data": {
      "text/plain": "<Figure size 432x288 with 1 Axes>",
      "image/png": "[encoded data removed]"
     },
     "metadata": {
      "needs_background": "light"
     },
     "output_type": "display_data"
    }
   ],
   "source": [
    "boxplot = df.boxplot(column=['idle_time'])\n",
    "df['idle_time'].quantile([.25, .5,.75,1])"
   ],
   "metadata": {
    "collapsed": false,
    "pycharm": {
     "name": "#%%\n"
    }
   }
  },
  {
   "cell_type": "code",
   "execution_count": 38,
   "outputs": [
    {
     "name": "stdout",
     "output_type": "stream",
     "text": [
      "0.25      56.0\n",
      "0.50     196.0\n",
      "0.75     489.0\n",
      "1.00    1439.0\n",
      "Name: idle_time, dtype: float64\n"
     ]
    }
   ],
   "source": [
    "print(df['idle_time'].quantile([.25, .5,.75,1]))"
   ],
   "metadata": {
    "collapsed": false,
    "pycharm": {
     "name": "#%%\n"
    }
   }
  },
  {
   "cell_type": "code",
   "execution_count": 39,
   "outputs": [],
   "source": [
    "def f(row):\n",
    "    if row['idle_time'] < 56:\n",
    "        val = 1\n",
    "    elif row['idle_time'] < 195:\n",
    "        val = 2\n",
    "    elif row['idle_time'] < 489:\n",
    "        val = 3\n",
    "    else:\n",
    "        val = 4\n",
    "    return val\n",
    "\n",
    "df['idle_time_class'] = df.apply(f, axis=1)"
   ],
   "metadata": {
    "collapsed": false,
    "pycharm": {
     "name": "#%%\n"
    }
   }
  },
  {
   "cell_type": "code",
   "execution_count": 40,
   "outputs": [
    {
     "data": {
      "text/plain": "         bike_id        lat        lng    dt_start      dt_end  \\\n2543825    72058  51.317569  12.382730  1640897593  1640904368   \n2543826    71949  51.334711  12.356763  1640897835  1640899343   \n2543827    97785  51.367276  12.369792  1640898086  1640900985   \n2543828    41738  51.366942  12.370322  1640900918  1640903516   \n2543829    72028  51.332844  12.404319  1640903200  1640905163   \n\n                  hex_id  in_zone                  zone_name  \\\n2543825  881f1a1609fffff        1  Blaue Zone Leipzig Ost 0€   \n2543826  881f1a1649fffff        1  Pinke Zone Leipzig Ost 1€   \n2543827  881f1a8c8bfffff        1  Blaue Zone Leipzig Ost 0€   \n2543828  881f1a8c8bfffff        1  Pinke Zone Leipzig Ost 1€   \n2543829  881f1a165bfffff        1  Blaue Zone Leipzig Ost 0€   \n\n         end_station_number   temp  ...  wind_speed  humidity  year  month  \\\n2543825                   0  13.19  ...        8.94      83.0  2021     12   \n2543826                   0  13.19  ...        8.94      83.0  2021     12   \n2543827                   0  13.05  ...        8.05      84.0  2021     12   \n2543828                   0  13.05  ...        8.05      84.0  2021     12   \n2543829                   0  13.11  ...        8.05      81.0  2021     12   \n\n         day  start_min  over_night  idle_time_next_day  idle_time  \\\n2543825    3       1253           0                   0        112   \n2543826    3       1257           0                   0         25   \n2543827    3       1261           0                   0         48   \n2543828    3       1309           0                   0         43   \n2543829    3       1347           0                   0         32   \n\n         idle_time_class  \n2543825                2  \n2543826                1  \n2543827                1  \n2543828                1  \n2543829                1  \n\n[5 rows x 22 columns]",
      "text/html": "<div>\n<style scoped>\n    .dataframe tbody tr th:only-of-type {\n        vertical-align: middle;\n    }\n\n    .dataframe tbody tr th {\n        vertical-align: top;\n    }\n\n    .dataframe thead th {\n        text-align: right;\n    }\n</style>\n<table border=\"1\" class=\"dataframe\">\n  <thead>\n    <tr style=\"text-align: right;\">\n      <th></th>\n      <th>bike_id</th>\n      <th>lat</th>\n      <th>lng</th>\n      <th>dt_start</th>\n      <th>dt_end</th>\n      <th>hex_id</th>\n      <th>in_zone</th>\n      <th>zone_name</th>\n      <th>end_station_number</th>\n      <th>temp</th>\n      <th>...</th>\n      <th>wind_speed</th>\n      <th>humidity</th>\n      <th>year</th>\n      <th>month</th>\n      <th>day</th>\n      <th>start_min</th>\n      <th>over_night</th>\n      <th>idle_time_next_day</th>\n      <th>idle_time</th>\n      <th>idle_time_class</th>\n    </tr>\n  </thead>\n  <tbody>\n    <tr>\n      <th>2543825</th>\n      <td>72058</td>\n      <td>51.317569</td>\n      <td>12.382730</td>\n      <td>1640897593</td>\n      <td>1640904368</td>\n      <td>881f1a1609fffff</td>\n      <td>1</td>\n      <td>Blaue Zone Leipzig Ost 0€</td>\n      <td>0</td>\n      <td>13.19</td>\n      <td>...</td>\n      <td>8.94</td>\n      <td>83.0</td>\n      <td>2021</td>\n      <td>12</td>\n      <td>3</td>\n      <td>1253</td>\n      <td>0</td>\n      <td>0</td>\n      <td>112</td>\n      <td>2</td>\n    </tr>\n    <tr>\n      <th>2543826</th>\n      <td>71949</td>\n      <td>51.334711</td>\n      <td>12.356763</td>\n      <td>1640897835</td>\n      <td>1640899343</td>\n      <td>881f1a1649fffff</td>\n      <td>1</td>\n      <td>Pinke Zone Leipzig Ost 1€</td>\n      <td>0</td>\n      <td>13.19</td>\n      <td>...</td>\n      <td>8.94</td>\n      <td>83.0</td>\n      <td>2021</td>\n      <td>12</td>\n      <td>3</td>\n      <td>1257</td>\n      <td>0</td>\n      <td>0</td>\n      <td>25</td>\n      <td>1</td>\n    </tr>\n    <tr>\n      <th>2543827</th>\n      <td>97785</td>\n      <td>51.367276</td>\n      <td>12.369792</td>\n      <td>1640898086</td>\n      <td>1640900985</td>\n      <td>881f1a8c8bfffff</td>\n      <td>1</td>\n      <td>Blaue Zone Leipzig Ost 0€</td>\n      <td>0</td>\n      <td>13.05</td>\n      <td>...</td>\n      <td>8.05</td>\n      <td>84.0</td>\n      <td>2021</td>\n      <td>12</td>\n      <td>3</td>\n      <td>1261</td>\n      <td>0</td>\n      <td>0</td>\n      <td>48</td>\n      <td>1</td>\n    </tr>\n    <tr>\n      <th>2543828</th>\n      <td>41738</td>\n      <td>51.366942</td>\n      <td>12.370322</td>\n      <td>1640900918</td>\n      <td>1640903516</td>\n      <td>881f1a8c8bfffff</td>\n      <td>1</td>\n      <td>Pinke Zone Leipzig Ost 1€</td>\n      <td>0</td>\n      <td>13.05</td>\n      <td>...</td>\n      <td>8.05</td>\n      <td>84.0</td>\n      <td>2021</td>\n      <td>12</td>\n      <td>3</td>\n      <td>1309</td>\n      <td>0</td>\n      <td>0</td>\n      <td>43</td>\n      <td>1</td>\n    </tr>\n    <tr>\n      <th>2543829</th>\n      <td>72028</td>\n      <td>51.332844</td>\n      <td>12.404319</td>\n      <td>1640903200</td>\n      <td>1640905163</td>\n      <td>881f1a165bfffff</td>\n      <td>1</td>\n      <td>Blaue Zone Leipzig Ost 0€</td>\n      <td>0</td>\n      <td>13.11</td>\n      <td>...</td>\n      <td>8.05</td>\n      <td>81.0</td>\n      <td>2021</td>\n      <td>12</td>\n      <td>3</td>\n      <td>1347</td>\n      <td>0</td>\n      <td>0</td>\n      <td>32</td>\n      <td>1</td>\n    </tr>\n  </tbody>\n</table>\n<p>5 rows × 22 columns</p>\n</div>"
     },
     "execution_count": 40,
     "metadata": {},
     "output_type": "execute_result"
    }
   ],
   "source": [
    "df.tail()"
   ],
   "metadata": {
    "collapsed": false,
    "pycharm": {
     "name": "#%%\n"
    }
   }
  },
  {
   "cell_type": "code",
   "execution_count": 41,
   "outputs": [],
   "source": [
    "### SAVE\n",
    "df.to_csv(\"../data/final_df_points_18_21_class.csv\",index=False)"
   ],
   "metadata": {
    "collapsed": false,
    "pycharm": {
     "name": "#%%\n"
    }
   }
  },
  {
   "cell_type": "code",
   "execution_count": 42,
   "outputs": [
    {
     "data": {
      "text/plain": "Empty DataFrame\nColumns: [bike_id, lat, lng, dt_start, dt_end, hex_id, in_zone, zone_name, end_station_number, temp, rain, snow, wind_speed, humidity, year, month, day, start_min, over_night, idle_time_next_day, idle_time, idle_time_class]\nIndex: []\n\n[0 rows x 22 columns]",
      "text/html": "<div>\n<style scoped>\n    .dataframe tbody tr th:only-of-type {\n        vertical-align: middle;\n    }\n\n    .dataframe tbody tr th {\n        vertical-align: top;\n    }\n\n    .dataframe thead th {\n        text-align: right;\n    }\n</style>\n<table border=\"1\" class=\"dataframe\">\n  <thead>\n    <tr style=\"text-align: right;\">\n      <th></th>\n      <th>bike_id</th>\n      <th>lat</th>\n      <th>lng</th>\n      <th>dt_start</th>\n      <th>dt_end</th>\n      <th>hex_id</th>\n      <th>in_zone</th>\n      <th>zone_name</th>\n      <th>end_station_number</th>\n      <th>temp</th>\n      <th>...</th>\n      <th>wind_speed</th>\n      <th>humidity</th>\n      <th>year</th>\n      <th>month</th>\n      <th>day</th>\n      <th>start_min</th>\n      <th>over_night</th>\n      <th>idle_time_next_day</th>\n      <th>idle_time</th>\n      <th>idle_time_class</th>\n    </tr>\n  </thead>\n  <tbody>\n  </tbody>\n</table>\n<p>0 rows × 22 columns</p>\n</div>"
     },
     "execution_count": 42,
     "metadata": {},
     "output_type": "execute_result"
    }
   ],
   "source": [
    "df[(df['lat'] == 0)]"
   ],
   "metadata": {
    "collapsed": false,
    "pycharm": {
     "name": "#%%\n"
    }
   }
  },
  {
   "cell_type": "code",
   "execution_count": null,
   "outputs": [],
   "source": [],
   "metadata": {
    "collapsed": false,
    "pycharm": {
     "name": "#%%\n"
    }
   }
  }
 ],
 "metadata": {
  "kernelspec": {
   "display_name": "Python 3",
   "language": "python",
   "name": "python3"
  },
  "language_info": {
   "codemirror_mode": {
    "name": "ipython",
    "version": 2
   },
   "file_extension": ".py",
   "mimetype": "text/x-python",
   "name": "python",
   "nbconvert_exporter": "python",
   "pygments_lexer": "ipython2",
   "version": "2.7.6"
  }
 },
 "nbformat": 4,
 "nbformat_minor": 0
}