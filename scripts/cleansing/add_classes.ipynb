{
 "cells": [
  {
   "cell_type": "markdown",
   "source": [
    "# Add Classes for new Classification\n",
    "### in 1day / 2day / 1week / longer"
   ],
   "metadata": {
    "collapsed": false
   }
  },
  {
   "cell_type": "code",
   "execution_count": 8,
   "metadata": {
    "collapsed": true
   },
   "outputs": [],
   "source": [
    "import pandas as pd\n",
    "\n",
    "df_points = pd.read_csv('../data/final_df_points_18_21.csv')"
   ]
  },
  {
   "cell_type": "code",
   "execution_count": null,
   "outputs": [],
   "source": [
    "# eventually get quantile of idle time\n",
    "boxplot = df_points.boxplot(column=['idle_time'])\n",
    "df_points['idle_time'].quantile([.25, .5,.75,1])"
   ],
   "metadata": {
    "collapsed": false,
    "pycharm": {
     "name": "#%%\n"
    }
   }
  },
  {
   "cell_type": "code",
   "execution_count": 56,
   "outputs": [],
   "source": [
    "#add classification target\n",
    "def f(row):\n",
    "    if row['idle_time'] < 1440:\n",
    "        val = '1day'\n",
    "    elif row['idle_time'] < 2880:\n",
    "        val = '2day'\n",
    "    elif row['idle_time'] < 10080:\n",
    "        val = '1week'\n",
    "    else:\n",
    "        val = 'longer'\n",
    "    return val\n",
    "\n",
    "df_points['idle_time_class'] = df_points.apply(f, axis=1)"
   ],
   "metadata": {
    "collapsed": false,
    "pycharm": {
     "name": "#%%\n"
    }
   }
  },
  {
   "cell_type": "code",
   "execution_count": 60,
   "outputs": [
    {
     "data": {
      "text/plain": "idle_time_class\n1day               1669080\n2day                 69195\n1week                39102\nlonger                3998\ndtype: int64"
     },
     "execution_count": 60,
     "metadata": {},
     "output_type": "execute_result"
    }
   ],
   "source": [
    "df_points.value_counts(['idle_time_class'])"
   ],
   "metadata": {
    "collapsed": false,
    "pycharm": {
     "name": "#%%\n"
    }
   }
  },
  {
   "cell_type": "markdown",
   "source": [
    "# Del false Geodata"
   ],
   "metadata": {
    "collapsed": false
   }
  },
  {
   "cell_type": "code",
   "execution_count": null,
   "outputs": [],
   "source": [
    "df[(df['lat'] == 0)]"
   ],
   "metadata": {
    "collapsed": false,
    "pycharm": {
     "name": "#%%\n"
    }
   }
  },
  {
   "cell_type": "code",
   "execution_count": 58,
   "outputs": [],
   "source": [
    "df_points.to_csv('../data/final_df_points_18_21_class.csv', index=False)"
   ],
   "metadata": {
    "collapsed": false,
    "pycharm": {
     "name": "#%%\n"
    }
   }
  }
 ],
 "metadata": {
  "kernelspec": {
   "display_name": "Python 3",
   "language": "python",
   "name": "python3"
  },
  "language_info": {
   "codemirror_mode": {
    "name": "ipython",
    "version": 2
   },
   "file_extension": ".py",
   "mimetype": "text/x-python",
   "name": "python",
   "nbconvert_exporter": "python",
   "pygments_lexer": "ipython2",
   "version": "2.7.6"
  }
 },
 "nbformat": 4,
 "nbformat_minor": 0
}