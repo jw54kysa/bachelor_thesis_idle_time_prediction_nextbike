{
 "cells": [
  {
   "cell_type": "markdown",
   "id": "b3ed9e1a",
   "metadata": {},
   "source": [
    "# df_points with UNIX Timestamp #\n",
    "## Creates df_points.csv with all points and idletimes #\n",
    "## Checks the valid geo location\n",
    "## deletes the invalid points: \n",
    "\n",
    "2018 - invalides: 41743 from 139171 that is 29.994036113845556 %\n",
    "\n",
    "2019 - invalides: 52523 from 550887 that is 9.534260202183024 % - 05:40:19\n",
    "\n",
    "2020 - invalides: 24163 from 539064 that is 4.482399121440126 % - 05:40:06\n",
    "\n",
    "2021 - invalides: 21382 from 552253 that is 3.8717761605640897 % - 05:51:53\n",
    "\n",
    "### ca 1h for 1 year"
   ]
  },
  {
   "cell_type": "code",
   "execution_count": 96,
   "id": "a791a421",
   "metadata": {},
   "outputs": [],
   "source": [
    "def import_data(source):\n",
    "    return pd.read_csv(source)"
   ]
  },
  {
   "cell_type": "code",
   "execution_count": 97,
   "id": "82359632",
   "metadata": {},
   "outputs": [],
   "source": [
    "def dic_out_of_df(df01):\n",
    "    import pandas as pd\n",
    "    from tqdm import tqdm\n",
    "    # Dict out of DataFrames of Trips per Bike\n",
    "\n",
    "    # init DFs for every bike\n",
    "    myDFs = {}\n",
    "\n",
    "    for ind in tqdm(df01.index):\n",
    "        if df01['bike_id'][ind] not in myDFs:\n",
    "            myDFs[df01['bike_id'][ind]] = pd.DataFrame(\n",
    "                columns=['bike_id',\n",
    "                         'start_time',\n",
    "                         'end_time',\n",
    "                         'start_lat',\n",
    "                         'start_lng',\n",
    "                         'end_lat',\n",
    "                         'end_lng',\n",
    "                         'end_station_number'])\n",
    "    return myDFs"
   ]
  },
  {
   "cell_type": "code",
   "execution_count": 98,
   "id": "941271a6",
   "metadata": {},
   "outputs": [],
   "source": [
    "def add_rentals_to_df(df01,myDFs):\n",
    "    from tqdm import tqdm\n",
    "    # Add all rentals to their bike_id DF\n",
    "    for ind in tqdm(df01.index):\n",
    "        if df01['bike_id'][ind] in myDFs:\n",
    "            myDFs[df01['bike_id'][ind]].loc[df01.index[ind]] = df01.iloc[ind]\n",
    "    return myDFs"
   ]
  },
  {
   "cell_type": "code",
   "execution_count": 99,
   "id": "3502fb99",
   "metadata": {},
   "outputs": [],
   "source": [
    "def sort_dfs(myDFs):\n",
    "    # sort every DF\n",
    "    for df in myDFs.values():\n",
    "        df[['bike_id', 'start_time','end_time']] = df[['bike_id', 'start_time','end_time']].astype(int)\n",
    "        df[['start_lat','start_lng', 'end_lat', 'end_lng']] = df[['start_lat','start_lng', 'end_lat', 'end_lng']].astype(float)\n",
    "        df.sort_values(by=['start_time'], inplace=True)\n",
    "        df.reset_index(drop=True, inplace=True)\n",
    "    return myDFs"
   ]
  },
  {
   "cell_type": "code",
   "execution_count": 100,
   "outputs": [],
   "source": [
    "# returns distance in meter\n",
    "# source: https://www.it-swarm.com.de/de/python/wie-kann-ich-die-entfernung-zwischen-zwei-punkten-breitengrad-laengengrad-schnell-schaetzen/1072488907/\n",
    "def get_distance(Lat1, Long1, Lat2, Long2):\n",
    "    x = Lat2 - Lat1\n",
    "    y = (Long2 - Long1)*cos((Lat2 + Lat1)*0.00872664626)\n",
    "    return 111.138*sqrt(x*x+y*y)*1000"
   ],
   "metadata": {
    "collapsed": false,
    "pycharm": {
     "name": "#%%\n"
    }
   }
  },
  {
   "cell_type": "code",
   "execution_count": 101,
   "id": "2b82d201",
   "metadata": {},
   "outputs": [],
   "source": [
    "def create_df_points(myDFs,radius):\n",
    "    # DF of all points with stoodtime\n",
    "    in_val = 0\n",
    "    val = 0 \n",
    "    \n",
    "    df_points = pd.DataFrame(columns=['bike_id', 'lat', 'lng', 'idle_time', 'time_start', 'time_end', 'end_station_number'])\n",
    "    #df_points[['bike_id', 'idle_time', 'time_start', 'time_end']] = df_points[['bike_id', 'idle_time', 'time_start', 'time_end']].astype(int)\n",
    "    #df_points[['lng', 'lat']] = df_points[['lng', 'lat']].astype(float)\n",
    "    \n",
    "    for df in tqdm(myDFs.values()):\n",
    "        for ind in df.index[1:]:\n",
    "            #in SECOUNDS\n",
    "            _idle_time = (df['start_time'][ind] - df['end_time'][ind - 1]).astype(int)\n",
    "            distance = get_distance(df['end_lat'][ind - 1], df['end_lng'][ind - 1], df['start_lat'][ind], df['start_lng'][ind])\n",
    "            if distance > radius:\n",
    "                in_val +=1\n",
    "                continue\n",
    "            val +=1\n",
    "            dict = {'bike_id': df['bike_id'][ind], 'lng': df['start_lng'][ind], 'lat': df['start_lat'][ind],\n",
    "                    'idle_time': _idle_time, 'time_start': df['end_time'][ind - 1], 'time_end': df['start_time'][ind], 'end_station_number': df['end_station_number'][ind-1]}\n",
    "            df_points = df_points.append(dict, ignore_index=True)\n",
    "    print(f\"invalides: {in_val} from {val} that is {in_val/val * 100} %\")\n",
    "    return df_points"
   ]
  },
  {
   "cell_type": "code",
   "execution_count": 102,
   "id": "edc119ca",
   "metadata": {},
   "outputs": [],
   "source": [
    "def keplerMap(df_points):\n",
    "    heatmap = KeplerGl()\n",
    "    heatmap.add_data(data=df_points, name='points')\n",
    "    heatmap.save_to_html(file_name='heatmap_test.html')"
   ]
  },
  {
   "cell_type": "markdown",
   "id": "2b4cd011",
   "metadata": {},
   "source": [
    "# Main \n",
    "## Create map"
   ]
  },
  {
   "cell_type": "code",
   "execution_count": 103,
   "id": "2e341a0e",
   "metadata": {},
   "outputs": [
    {
     "name": "stderr",
     "output_type": "stream",
     "text": [
      "100%|██████████| 574838/574838 [00:04<00:00, 136404.07it/s]\n",
      "100%|██████████| 574838/574838 [12:32<00:00, 764.08it/s]\n"
     ]
    }
   ],
   "source": [
    "from keplergl import KeplerGl\n",
    "import pandas as pd\n",
    "pd.options.mode.chained_assignment = None\n",
    "import time\n",
    "\n",
    "ts1 = time.time()\n",
    "\n",
    "source = '../data/raw_lendings/raw_lendings_2021.csv'\n",
    "\n",
    "df = import_data(source)\n",
    "myDfs = dic_out_of_df(df)\n",
    "myDfs = add_rentals_to_df(df, myDfs)\n",
    "myDfs = sort_dfs(myDfs)\n"
   ]
  },
  {
   "cell_type": "markdown",
   "id": "16b3a096",
   "metadata": {},
   "source": [
    "# Create DF_points\n",
    "## without invalid points"
   ]
  },
  {
   "cell_type": "code",
   "execution_count": 104,
   "id": "9fae31aa",
   "metadata": {},
   "outputs": [
    {
     "name": "stderr",
     "output_type": "stream",
     "text": [
      "100%|██████████| 1203/1203 [47:32<00:00,  2.37s/it]"
     ]
    },
    {
     "name": "stdout",
     "output_type": "stream",
     "text": [
      "invalides: 21382 from 552253 that is 3.8717761605640897 %\n"
     ]
    },
    {
     "name": "stderr",
     "output_type": "stream",
     "text": [
      "\n"
     ]
    }
   ],
   "source": [
    "from math import cos, sqrt\n",
    "from tqdm import tqdm\n",
    "\n",
    "radius = 20\n",
    "df_points = create_df_points(myDfs,radius)"
   ]
  },
  {
   "cell_type": "code",
   "execution_count": 105,
   "outputs": [
    {
     "data": {
      "text/plain": "   bike_id        lat        lng  idle_time    time_start      time_end  \\\n0  93487.0  51.326737  12.358117     1989.0  1.609663e+09  1.609665e+09   \n1  93487.0  51.318782  12.368816   189824.0  1.609666e+09  1.609855e+09   \n2  93487.0  51.328800  12.371326   107787.0  1.609856e+09  1.609963e+09   \n3  93487.0  51.329124  12.371294    80432.0  1.610026e+09  1.610106e+09   \n4  93487.0  51.335262  12.339411    79873.0  1.610146e+09  1.610226e+09   \n\n   end_station_number  \n0              4034.0  \n1                 NaN  \n2                 NaN  \n3                 NaN  \n4                 NaN  ",
      "text/html": "<div>\n<style scoped>\n    .dataframe tbody tr th:only-of-type {\n        vertical-align: middle;\n    }\n\n    .dataframe tbody tr th {\n        vertical-align: top;\n    }\n\n    .dataframe thead th {\n        text-align: right;\n    }\n</style>\n<table border=\"1\" class=\"dataframe\">\n  <thead>\n    <tr style=\"text-align: right;\">\n      <th></th>\n      <th>bike_id</th>\n      <th>lat</th>\n      <th>lng</th>\n      <th>idle_time</th>\n      <th>time_start</th>\n      <th>time_end</th>\n      <th>end_station_number</th>\n    </tr>\n  </thead>\n  <tbody>\n    <tr>\n      <th>0</th>\n      <td>93487.0</td>\n      <td>51.326737</td>\n      <td>12.358117</td>\n      <td>1989.0</td>\n      <td>1.609663e+09</td>\n      <td>1.609665e+09</td>\n      <td>4034.0</td>\n    </tr>\n    <tr>\n      <th>1</th>\n      <td>93487.0</td>\n      <td>51.318782</td>\n      <td>12.368816</td>\n      <td>189824.0</td>\n      <td>1.609666e+09</td>\n      <td>1.609855e+09</td>\n      <td>NaN</td>\n    </tr>\n    <tr>\n      <th>2</th>\n      <td>93487.0</td>\n      <td>51.328800</td>\n      <td>12.371326</td>\n      <td>107787.0</td>\n      <td>1.609856e+09</td>\n      <td>1.609963e+09</td>\n      <td>NaN</td>\n    </tr>\n    <tr>\n      <th>3</th>\n      <td>93487.0</td>\n      <td>51.329124</td>\n      <td>12.371294</td>\n      <td>80432.0</td>\n      <td>1.610026e+09</td>\n      <td>1.610106e+09</td>\n      <td>NaN</td>\n    </tr>\n    <tr>\n      <th>4</th>\n      <td>93487.0</td>\n      <td>51.335262</td>\n      <td>12.339411</td>\n      <td>79873.0</td>\n      <td>1.610146e+09</td>\n      <td>1.610226e+09</td>\n      <td>NaN</td>\n    </tr>\n  </tbody>\n</table>\n</div>"
     },
     "execution_count": 105,
     "metadata": {},
     "output_type": "execute_result"
    }
   ],
   "source": [
    "df_points.head()"
   ],
   "metadata": {
    "collapsed": false,
    "pycharm": {
     "name": "#%%\n"
    }
   }
  },
  {
   "cell_type": "markdown",
   "id": "50748b61",
   "metadata": {},
   "source": [
    "# Split Points at midnight\n",
    "\n",
    "## save feature idle_time_next_day"
   ]
  },
  {
   "cell_type": "markdown",
   "id": "0a6fc960",
   "metadata": {
    "pycharm": {
     "name": "#%% md\n"
    }
   },
   "source": [
    "df_points['idle_time'] = pd.to_timedelta(df_points['idle_time'],unit='s')\n",
    "df_points['time_start'] = pd.to_datetime(df_points['time_start'],unit='s')\n",
    "df_points['time_end'] = pd.to_datetime(df_points['time_end'],unit='s')"
   ]
  },
  {
   "cell_type": "markdown",
   "id": "8395e5e9",
   "metadata": {
    "pycharm": {
     "name": "#%% md\n"
    }
   },
   "source": [
    "from tqdm import tqdm\n",
    "from datetime import timedelta\n",
    "import numpy as np\n",
    "\n",
    "changed = 1\n",
    "iterations = 0\n",
    "\n",
    "df_points['idle_time_next_day'] = np.nan\n",
    "df_points['over_night'] = 0\n",
    "\n",
    "while changed:\n",
    "    iterations += 1\n",
    "    changed = 0\n",
    "    for ind in tqdm(df_points.index):\n",
    "        ts = df_points['time_start'][ind]\n",
    "        te = df_points['time_end'][ind]\n",
    "        t0 = ts.replace(hour=23, minute=59, second=59)\n",
    "        \n",
    "        # is timestood greater than same date 23:59:59\n",
    "        #   -> over midnight\n",
    "        if ts + df_points['idle_time'][ind] > t0:\n",
    "            changed = 1\n",
    "            \n",
    "            underhang = t0 - ts\n",
    "            overhang = te - t0\n",
    "            \n",
    "            # fix current day\n",
    "            df_points['time_end'][ind] = ts.replace(hour=23, minute=59, second=59)\n",
    "            df_points['idle_time'][ind] = underhang\n",
    "            df_points['over_night'][ind] = 1\n",
    "            df_points['idle_time_next_day'][ind] = overhang\n",
    "            \n",
    "            # add new row for the next day\n",
    "            time_start = ts.replace(hour=0, minute=0, second=0)\n",
    "            time_start += timedelta(days=1)\n",
    "            flag = 0\n",
    "            #if time_start + overhang > time_start.replace(hour=23, minute=59, second=59):\n",
    "            #    flag = 1\n",
    "            \n",
    "            dict = {'bike_id': df_points['bike_id'][ind], 'lng': df_points['lng'][ind], 'lat': df_points['lat'][ind],\n",
    "                    'idle_time': overhang, 'time_start': time_start, 'time_end': te,'over_night': flag, 'idle_time_next_day': np.nan, 'end_station_number': df_points['end_station_number'][ind]}\n",
    "            df_points = df_points.append(dict, ignore_index=True)\n",
    "\n",
    "print(iterations)"
   ]
  },
  {
   "cell_type": "markdown",
   "source": [
    "df_points"
   ],
   "metadata": {
    "collapsed": false,
    "pycharm": {
     "name": "#%% md\n"
    }
   }
  },
  {
   "cell_type": "markdown",
   "source": [
    "idle time in min"
   ],
   "metadata": {
    "collapsed": false
   }
  },
  {
   "cell_type": "code",
   "execution_count": 106,
   "outputs": [],
   "source": [
    "def idle_time_to_min(row):\n",
    "    return row['idle_time'] / 60\n",
    "\n",
    "df_points['idle_time'] = df_points.apply(idle_time_to_min, axis=1)"
   ],
   "metadata": {
    "collapsed": false,
    "pycharm": {
     "name": "#%%\n"
    }
   }
  },
  {
   "cell_type": "markdown",
   "source": [
    "add idle_time_next_day feature"
   ],
   "metadata": {
    "collapsed": false
   }
  },
  {
   "cell_type": "markdown",
   "id": "5aee7e90",
   "metadata": {
    "pycharm": {
     "name": "#%% md\n"
    }
   },
   "source": [
    "df_points['idle_time_next_day'] = pd.to_timedelta(df_points['idle_time_next_day'])\n",
    "\n",
    "def idle_time_next_day_to_min(row):\n",
    "    if row['over_night'] == 1:\n",
    "        t = row['idle_time_next_day'].total_seconds() / 60\n",
    "        if t < 1439:\n",
    "            return t\n",
    "        else: return 1439\n",
    "    else:\n",
    "        return 0\n",
    "\n",
    "df_points['idle_time_next_day'] = df_points.apply(idle_time_next_day_to_min, axis=1)\n"
   ]
  },
  {
   "cell_type": "code",
   "execution_count": 107,
   "outputs": [
    {
     "data": {
      "text/plain": "   bike_id        lat        lng    idle_time    time_start      time_end  \\\n0  93487.0  51.326737  12.358117    33.150000  1.609663e+09  1.609665e+09   \n1  93487.0  51.318782  12.368816  3163.733333  1.609666e+09  1.609855e+09   \n2  93487.0  51.328800  12.371326  1796.450000  1.609856e+09  1.609963e+09   \n3  93487.0  51.329124  12.371294  1340.533333  1.610026e+09  1.610106e+09   \n4  93487.0  51.335262  12.339411  1331.216667  1.610146e+09  1.610226e+09   \n\n   end_station_number  \n0              4034.0  \n1                 NaN  \n2                 NaN  \n3                 NaN  \n4                 NaN  ",
      "text/html": "<div>\n<style scoped>\n    .dataframe tbody tr th:only-of-type {\n        vertical-align: middle;\n    }\n\n    .dataframe tbody tr th {\n        vertical-align: top;\n    }\n\n    .dataframe thead th {\n        text-align: right;\n    }\n</style>\n<table border=\"1\" class=\"dataframe\">\n  <thead>\n    <tr style=\"text-align: right;\">\n      <th></th>\n      <th>bike_id</th>\n      <th>lat</th>\n      <th>lng</th>\n      <th>idle_time</th>\n      <th>time_start</th>\n      <th>time_end</th>\n      <th>end_station_number</th>\n    </tr>\n  </thead>\n  <tbody>\n    <tr>\n      <th>0</th>\n      <td>93487.0</td>\n      <td>51.326737</td>\n      <td>12.358117</td>\n      <td>33.150000</td>\n      <td>1.609663e+09</td>\n      <td>1.609665e+09</td>\n      <td>4034.0</td>\n    </tr>\n    <tr>\n      <th>1</th>\n      <td>93487.0</td>\n      <td>51.318782</td>\n      <td>12.368816</td>\n      <td>3163.733333</td>\n      <td>1.609666e+09</td>\n      <td>1.609855e+09</td>\n      <td>NaN</td>\n    </tr>\n    <tr>\n      <th>2</th>\n      <td>93487.0</td>\n      <td>51.328800</td>\n      <td>12.371326</td>\n      <td>1796.450000</td>\n      <td>1.609856e+09</td>\n      <td>1.609963e+09</td>\n      <td>NaN</td>\n    </tr>\n    <tr>\n      <th>3</th>\n      <td>93487.0</td>\n      <td>51.329124</td>\n      <td>12.371294</td>\n      <td>1340.533333</td>\n      <td>1.610026e+09</td>\n      <td>1.610106e+09</td>\n      <td>NaN</td>\n    </tr>\n    <tr>\n      <th>4</th>\n      <td>93487.0</td>\n      <td>51.335262</td>\n      <td>12.339411</td>\n      <td>1331.216667</td>\n      <td>1.610146e+09</td>\n      <td>1.610226e+09</td>\n      <td>NaN</td>\n    </tr>\n  </tbody>\n</table>\n</div>"
     },
     "execution_count": 107,
     "metadata": {},
     "output_type": "execute_result"
    }
   ],
   "source": [
    "df_points.head()"
   ],
   "metadata": {
    "collapsed": false,
    "pycharm": {
     "name": "#%%\n"
    }
   }
  },
  {
   "cell_type": "markdown",
   "source": [
    "change type to int"
   ],
   "metadata": {
    "collapsed": false
   }
  },
  {
   "cell_type": "code",
   "execution_count": 108,
   "id": "3bf78e2f",
   "metadata": {},
   "outputs": [
    {
     "data": {
      "text/plain": "   bike_id        lat        lng  idle_time    time_start      time_end  \\\n0  93487.0  51.326737  12.358117         33  1.609663e+09  1.609665e+09   \n1  93487.0  51.318782  12.368816       3163  1.609666e+09  1.609855e+09   \n2  93487.0  51.328800  12.371326       1796  1.609856e+09  1.609963e+09   \n3  93487.0  51.329124  12.371294       1340  1.610026e+09  1.610106e+09   \n4  93487.0  51.335262  12.339411       1331  1.610146e+09  1.610226e+09   \n\n   end_station_number  \n0              4034.0  \n1                 NaN  \n2                 NaN  \n3                 NaN  \n4                 NaN  ",
      "text/html": "<div>\n<style scoped>\n    .dataframe tbody tr th:only-of-type {\n        vertical-align: middle;\n    }\n\n    .dataframe tbody tr th {\n        vertical-align: top;\n    }\n\n    .dataframe thead th {\n        text-align: right;\n    }\n</style>\n<table border=\"1\" class=\"dataframe\">\n  <thead>\n    <tr style=\"text-align: right;\">\n      <th></th>\n      <th>bike_id</th>\n      <th>lat</th>\n      <th>lng</th>\n      <th>idle_time</th>\n      <th>time_start</th>\n      <th>time_end</th>\n      <th>end_station_number</th>\n    </tr>\n  </thead>\n  <tbody>\n    <tr>\n      <th>0</th>\n      <td>93487.0</td>\n      <td>51.326737</td>\n      <td>12.358117</td>\n      <td>33</td>\n      <td>1.609663e+09</td>\n      <td>1.609665e+09</td>\n      <td>4034.0</td>\n    </tr>\n    <tr>\n      <th>1</th>\n      <td>93487.0</td>\n      <td>51.318782</td>\n      <td>12.368816</td>\n      <td>3163</td>\n      <td>1.609666e+09</td>\n      <td>1.609855e+09</td>\n      <td>NaN</td>\n    </tr>\n    <tr>\n      <th>2</th>\n      <td>93487.0</td>\n      <td>51.328800</td>\n      <td>12.371326</td>\n      <td>1796</td>\n      <td>1.609856e+09</td>\n      <td>1.609963e+09</td>\n      <td>NaN</td>\n    </tr>\n    <tr>\n      <th>3</th>\n      <td>93487.0</td>\n      <td>51.329124</td>\n      <td>12.371294</td>\n      <td>1340</td>\n      <td>1.610026e+09</td>\n      <td>1.610106e+09</td>\n      <td>NaN</td>\n    </tr>\n    <tr>\n      <th>4</th>\n      <td>93487.0</td>\n      <td>51.335262</td>\n      <td>12.339411</td>\n      <td>1331</td>\n      <td>1.610146e+09</td>\n      <td>1.610226e+09</td>\n      <td>NaN</td>\n    </tr>\n  </tbody>\n</table>\n</div>"
     },
     "execution_count": 108,
     "metadata": {},
     "output_type": "execute_result"
    }
   ],
   "source": [
    "df_points['idle_time'] = df_points['idle_time'].astype(int)\n",
    "#df_points['idle_time_next_day'] = df_points['idle_time_next_day'].astype(int)\n",
    "df_points.head()"
   ]
  },
  {
   "cell_type": "markdown",
   "id": "3a3c97d2",
   "metadata": {},
   "source": [
    "# Save V2 df_points split"
   ]
  },
  {
   "cell_type": "code",
   "execution_count": 109,
   "id": "8d901a75",
   "metadata": {},
   "outputs": [
    {
     "data": {
      "text/plain": "161964"
     },
     "execution_count": 109,
     "metadata": {},
     "output_type": "execute_result"
    }
   ],
   "source": [
    "df_points['idle_time'].max()"
   ]
  },
  {
   "cell_type": "code",
   "execution_count": 110,
   "id": "991143a4",
   "metadata": {},
   "outputs": [
    {
     "data": {
      "text/plain": "   bike_id        lat        lng  idle_time    time_start      time_end  \\\n0  93487.0  51.326737  12.358117         33  1.609663e+09  1.609665e+09   \n1  93487.0  51.318782  12.368816       3163  1.609666e+09  1.609855e+09   \n2  93487.0  51.328800  12.371326       1796  1.609856e+09  1.609963e+09   \n3  93487.0  51.329124  12.371294       1340  1.610026e+09  1.610106e+09   \n4  93487.0  51.335262  12.339411       1331  1.610146e+09  1.610226e+09   \n\n   end_station_number  \n0              4034.0  \n1                 NaN  \n2                 NaN  \n3                 NaN  \n4                 NaN  ",
      "text/html": "<div>\n<style scoped>\n    .dataframe tbody tr th:only-of-type {\n        vertical-align: middle;\n    }\n\n    .dataframe tbody tr th {\n        vertical-align: top;\n    }\n\n    .dataframe thead th {\n        text-align: right;\n    }\n</style>\n<table border=\"1\" class=\"dataframe\">\n  <thead>\n    <tr style=\"text-align: right;\">\n      <th></th>\n      <th>bike_id</th>\n      <th>lat</th>\n      <th>lng</th>\n      <th>idle_time</th>\n      <th>time_start</th>\n      <th>time_end</th>\n      <th>end_station_number</th>\n    </tr>\n  </thead>\n  <tbody>\n    <tr>\n      <th>0</th>\n      <td>93487.0</td>\n      <td>51.326737</td>\n      <td>12.358117</td>\n      <td>33</td>\n      <td>1.609663e+09</td>\n      <td>1.609665e+09</td>\n      <td>4034.0</td>\n    </tr>\n    <tr>\n      <th>1</th>\n      <td>93487.0</td>\n      <td>51.318782</td>\n      <td>12.368816</td>\n      <td>3163</td>\n      <td>1.609666e+09</td>\n      <td>1.609855e+09</td>\n      <td>NaN</td>\n    </tr>\n    <tr>\n      <th>2</th>\n      <td>93487.0</td>\n      <td>51.328800</td>\n      <td>12.371326</td>\n      <td>1796</td>\n      <td>1.609856e+09</td>\n      <td>1.609963e+09</td>\n      <td>NaN</td>\n    </tr>\n    <tr>\n      <th>3</th>\n      <td>93487.0</td>\n      <td>51.329124</td>\n      <td>12.371294</td>\n      <td>1340</td>\n      <td>1.610026e+09</td>\n      <td>1.610106e+09</td>\n      <td>NaN</td>\n    </tr>\n    <tr>\n      <th>4</th>\n      <td>93487.0</td>\n      <td>51.335262</td>\n      <td>12.339411</td>\n      <td>1331</td>\n      <td>1.610146e+09</td>\n      <td>1.610226e+09</td>\n      <td>NaN</td>\n    </tr>\n  </tbody>\n</table>\n</div>"
     },
     "execution_count": 110,
     "metadata": {},
     "output_type": "execute_result"
    }
   ],
   "source": [
    "df_points.head()"
   ]
  },
  {
   "cell_type": "markdown",
   "id": "8ac57725",
   "metadata": {},
   "source": [
    "## Add H3 Index"
   ]
  },
  {
   "cell_type": "code",
   "execution_count": 111,
   "id": "3d822988",
   "metadata": {},
   "outputs": [
    {
     "name": "stderr",
     "output_type": "stream",
     "text": [
      "100%|██████████| 552253/552253 [00:10<00:00, 54696.66it/s]\n"
     ]
    },
    {
     "data": {
      "text/plain": "   bike_id        lat        lng  idle_time    time_start      time_end  \\\n0  93487.0  51.326737  12.358117         33  1.609663e+09  1.609665e+09   \n1  93487.0  51.318782  12.368816       3163  1.609666e+09  1.609855e+09   \n2  93487.0  51.328800  12.371326       1796  1.609856e+09  1.609963e+09   \n3  93487.0  51.329124  12.371294       1340  1.610026e+09  1.610106e+09   \n4  93487.0  51.335262  12.339411       1331  1.610146e+09  1.610226e+09   \n\n   end_station_number           hex_id  \n0              4034.0  881f1a164dfffff  \n1                 NaN  881f1a1647fffff  \n2                 NaN  881f1a164bfffff  \n3                 NaN  881f1a164bfffff  \n4                 NaN  881f1a8ca5fffff  ",
      "text/html": "<div>\n<style scoped>\n    .dataframe tbody tr th:only-of-type {\n        vertical-align: middle;\n    }\n\n    .dataframe tbody tr th {\n        vertical-align: top;\n    }\n\n    .dataframe thead th {\n        text-align: right;\n    }\n</style>\n<table border=\"1\" class=\"dataframe\">\n  <thead>\n    <tr style=\"text-align: right;\">\n      <th></th>\n      <th>bike_id</th>\n      <th>lat</th>\n      <th>lng</th>\n      <th>idle_time</th>\n      <th>time_start</th>\n      <th>time_end</th>\n      <th>end_station_number</th>\n      <th>hex_id</th>\n    </tr>\n  </thead>\n  <tbody>\n    <tr>\n      <th>0</th>\n      <td>93487.0</td>\n      <td>51.326737</td>\n      <td>12.358117</td>\n      <td>33</td>\n      <td>1.609663e+09</td>\n      <td>1.609665e+09</td>\n      <td>4034.0</td>\n      <td>881f1a164dfffff</td>\n    </tr>\n    <tr>\n      <th>1</th>\n      <td>93487.0</td>\n      <td>51.318782</td>\n      <td>12.368816</td>\n      <td>3163</td>\n      <td>1.609666e+09</td>\n      <td>1.609855e+09</td>\n      <td>NaN</td>\n      <td>881f1a1647fffff</td>\n    </tr>\n    <tr>\n      <th>2</th>\n      <td>93487.0</td>\n      <td>51.328800</td>\n      <td>12.371326</td>\n      <td>1796</td>\n      <td>1.609856e+09</td>\n      <td>1.609963e+09</td>\n      <td>NaN</td>\n      <td>881f1a164bfffff</td>\n    </tr>\n    <tr>\n      <th>3</th>\n      <td>93487.0</td>\n      <td>51.329124</td>\n      <td>12.371294</td>\n      <td>1340</td>\n      <td>1.610026e+09</td>\n      <td>1.610106e+09</td>\n      <td>NaN</td>\n      <td>881f1a164bfffff</td>\n    </tr>\n    <tr>\n      <th>4</th>\n      <td>93487.0</td>\n      <td>51.335262</td>\n      <td>12.339411</td>\n      <td>1331</td>\n      <td>1.610146e+09</td>\n      <td>1.610226e+09</td>\n      <td>NaN</td>\n      <td>881f1a8ca5fffff</td>\n    </tr>\n  </tbody>\n</table>\n</div>"
     },
     "execution_count": 111,
     "metadata": {},
     "output_type": "execute_result"
    }
   ],
   "source": [
    "import h3\n",
    "\n",
    "df_points['hex_id'] = 0\n",
    "\n",
    "for ind in tqdm(df_points.index):\n",
    "    df_points['hex_id'][ind] = h3.geo_to_h3(df_points['lat'][ind], df_points['lng'][ind], 8)\n",
    "df_points.head()"
   ]
  },
  {
   "cell_type": "markdown",
   "id": "83a28483",
   "metadata": {},
   "source": [
    "# Add weather Data"
   ]
  },
  {
   "cell_type": "code",
   "execution_count": 112,
   "outputs": [
    {
     "name": "stderr",
     "output_type": "stream",
     "text": [
      "100%|██████████| 552253/552253 [12:28<00:00, 738.22it/s]\n"
     ]
    },
    {
     "data": {
      "text/plain": "         bike_id        lat        lng  idle_time          time_start  \\\n0        93487.0  51.326737  12.358117         33 2021-01-03 08:38:21   \n1        93487.0  51.318782  12.368816       3163 2021-01-03 09:18:53   \n2        93487.0  51.328800  12.371326       1796 2021-01-05 14:06:40   \n3        93487.0  51.329124  12.371294       1340 2021-01-07 13:26:19   \n4        93487.0  51.335262  12.339411       1331 2021-01-08 22:48:14   \n...          ...        ...        ...        ...                 ...   \n552248  102511.0  51.346111  12.357207       2018 2021-12-27 14:11:02   \n552249  102511.0  51.346120  12.357187       1226 2021-12-28 23:56:55   \n552250  102511.0  51.355333  12.370821        483 2021-12-29 20:29:23   \n552251  102511.0  51.340578  12.366774        654 2021-12-30 04:41:39   \n552252  102511.0  51.337324  12.358628        378 2021-12-30 15:40:33   \n\n            time_end  end_station_number           hex_id   temp   rain  snow  \\\n0       1.609665e+09              4034.0  881f1a164dfffff   0.22    NaN  0.51   \n1       1.609855e+09                 NaN  881f1a1647fffff   0.38   0.51   NaN   \n2       1.609963e+09                 NaN  881f1a164bfffff   0.55    NaN  0.25   \n3       1.610106e+09                 NaN  881f1a164bfffff   1.91    NaN   NaN   \n4       1.610226e+09                 NaN  881f1a8ca5fffff   0.42    NaN  0.16   \n...              ...                 ...              ...    ...    ...   ...   \n552248  1.640735e+09                 NaN  881f1a8cabfffff   2.90    NaN   NaN   \n552249  1.640809e+09                 NaN  881f1a8cabfffff   6.50   1.02   NaN   \n552250  1.640839e+09                 NaN  881f1a8c87fffff   6.99   8.38   NaN   \n552251  1.640879e+09                 NaN  881f1a8cb5fffff   8.84  34.04   NaN   \n552252  1.640902e+09                 NaN  881f1a8ca3fffff  14.35   1.02   NaN   \n\n        wind_speed  humidity  \n0             5.81      94.0  \n1             0.89      95.0  \n2             3.13      76.0  \n3             7.15      77.0  \n4             0.45      92.0  \n...            ...       ...  \n552248        4.47      82.0  \n552249        5.81      86.0  \n552250        5.81      86.0  \n552251        5.81      90.0  \n552252        1.34      87.0  \n\n[552253 rows x 13 columns]",
      "text/html": "<div>\n<style scoped>\n    .dataframe tbody tr th:only-of-type {\n        vertical-align: middle;\n    }\n\n    .dataframe tbody tr th {\n        vertical-align: top;\n    }\n\n    .dataframe thead th {\n        text-align: right;\n    }\n</style>\n<table border=\"1\" class=\"dataframe\">\n  <thead>\n    <tr style=\"text-align: right;\">\n      <th></th>\n      <th>bike_id</th>\n      <th>lat</th>\n      <th>lng</th>\n      <th>idle_time</th>\n      <th>time_start</th>\n      <th>time_end</th>\n      <th>end_station_number</th>\n      <th>hex_id</th>\n      <th>temp</th>\n      <th>rain</th>\n      <th>snow</th>\n      <th>wind_speed</th>\n      <th>humidity</th>\n    </tr>\n  </thead>\n  <tbody>\n    <tr>\n      <th>0</th>\n      <td>93487.0</td>\n      <td>51.326737</td>\n      <td>12.358117</td>\n      <td>33</td>\n      <td>2021-01-03 08:38:21</td>\n      <td>1.609665e+09</td>\n      <td>4034.0</td>\n      <td>881f1a164dfffff</td>\n      <td>0.22</td>\n      <td>NaN</td>\n      <td>0.51</td>\n      <td>5.81</td>\n      <td>94.0</td>\n    </tr>\n    <tr>\n      <th>1</th>\n      <td>93487.0</td>\n      <td>51.318782</td>\n      <td>12.368816</td>\n      <td>3163</td>\n      <td>2021-01-03 09:18:53</td>\n      <td>1.609855e+09</td>\n      <td>NaN</td>\n      <td>881f1a1647fffff</td>\n      <td>0.38</td>\n      <td>0.51</td>\n      <td>NaN</td>\n      <td>0.89</td>\n      <td>95.0</td>\n    </tr>\n    <tr>\n      <th>2</th>\n      <td>93487.0</td>\n      <td>51.328800</td>\n      <td>12.371326</td>\n      <td>1796</td>\n      <td>2021-01-05 14:06:40</td>\n      <td>1.609963e+09</td>\n      <td>NaN</td>\n      <td>881f1a164bfffff</td>\n      <td>0.55</td>\n      <td>NaN</td>\n      <td>0.25</td>\n      <td>3.13</td>\n      <td>76.0</td>\n    </tr>\n    <tr>\n      <th>3</th>\n      <td>93487.0</td>\n      <td>51.329124</td>\n      <td>12.371294</td>\n      <td>1340</td>\n      <td>2021-01-07 13:26:19</td>\n      <td>1.610106e+09</td>\n      <td>NaN</td>\n      <td>881f1a164bfffff</td>\n      <td>1.91</td>\n      <td>NaN</td>\n      <td>NaN</td>\n      <td>7.15</td>\n      <td>77.0</td>\n    </tr>\n    <tr>\n      <th>4</th>\n      <td>93487.0</td>\n      <td>51.335262</td>\n      <td>12.339411</td>\n      <td>1331</td>\n      <td>2021-01-08 22:48:14</td>\n      <td>1.610226e+09</td>\n      <td>NaN</td>\n      <td>881f1a8ca5fffff</td>\n      <td>0.42</td>\n      <td>NaN</td>\n      <td>0.16</td>\n      <td>0.45</td>\n      <td>92.0</td>\n    </tr>\n    <tr>\n      <th>...</th>\n      <td>...</td>\n      <td>...</td>\n      <td>...</td>\n      <td>...</td>\n      <td>...</td>\n      <td>...</td>\n      <td>...</td>\n      <td>...</td>\n      <td>...</td>\n      <td>...</td>\n      <td>...</td>\n      <td>...</td>\n      <td>...</td>\n    </tr>\n    <tr>\n      <th>552248</th>\n      <td>102511.0</td>\n      <td>51.346111</td>\n      <td>12.357207</td>\n      <td>2018</td>\n      <td>2021-12-27 14:11:02</td>\n      <td>1.640735e+09</td>\n      <td>NaN</td>\n      <td>881f1a8cabfffff</td>\n      <td>2.90</td>\n      <td>NaN</td>\n      <td>NaN</td>\n      <td>4.47</td>\n      <td>82.0</td>\n    </tr>\n    <tr>\n      <th>552249</th>\n      <td>102511.0</td>\n      <td>51.346120</td>\n      <td>12.357187</td>\n      <td>1226</td>\n      <td>2021-12-28 23:56:55</td>\n      <td>1.640809e+09</td>\n      <td>NaN</td>\n      <td>881f1a8cabfffff</td>\n      <td>6.50</td>\n      <td>1.02</td>\n      <td>NaN</td>\n      <td>5.81</td>\n      <td>86.0</td>\n    </tr>\n    <tr>\n      <th>552250</th>\n      <td>102511.0</td>\n      <td>51.355333</td>\n      <td>12.370821</td>\n      <td>483</td>\n      <td>2021-12-29 20:29:23</td>\n      <td>1.640839e+09</td>\n      <td>NaN</td>\n      <td>881f1a8c87fffff</td>\n      <td>6.99</td>\n      <td>8.38</td>\n      <td>NaN</td>\n      <td>5.81</td>\n      <td>86.0</td>\n    </tr>\n    <tr>\n      <th>552251</th>\n      <td>102511.0</td>\n      <td>51.340578</td>\n      <td>12.366774</td>\n      <td>654</td>\n      <td>2021-12-30 04:41:39</td>\n      <td>1.640879e+09</td>\n      <td>NaN</td>\n      <td>881f1a8cb5fffff</td>\n      <td>8.84</td>\n      <td>34.04</td>\n      <td>NaN</td>\n      <td>5.81</td>\n      <td>90.0</td>\n    </tr>\n    <tr>\n      <th>552252</th>\n      <td>102511.0</td>\n      <td>51.337324</td>\n      <td>12.358628</td>\n      <td>378</td>\n      <td>2021-12-30 15:40:33</td>\n      <td>1.640902e+09</td>\n      <td>NaN</td>\n      <td>881f1a8ca3fffff</td>\n      <td>14.35</td>\n      <td>1.02</td>\n      <td>NaN</td>\n      <td>1.34</td>\n      <td>87.0</td>\n    </tr>\n  </tbody>\n</table>\n<p>552253 rows × 13 columns</p>\n</div>"
     },
     "execution_count": 112,
     "metadata": {},
     "output_type": "execute_result"
    }
   ],
   "source": [
    "import numpy as np\n",
    "df_points['time_start'] = pd.to_datetime(df_points['time_start'],unit='s')\n",
    "df_points['time_end'] = pd.to_datetime(df_points['dt_end'],unit='s')\n",
    "\n",
    "dfw = pd.read_csv('../data/weather_data.csv')\n",
    "dfw['datetime'] = pd.to_datetime(dfw['dt'], unit='s')\n",
    "dfw = dfw.set_index(['datetime'])\n",
    "dfw.head()\n",
    "\n",
    "df_points['temp'] = np.nan\n",
    "df_points['rain'] = np.nan\n",
    "df_points['snow'] = np.nan\n",
    "df_points['wind_speed'] = np.nan\n",
    "df_points['humidity'] = np.nan\n",
    "\n",
    "from tqdm import tqdm\n",
    "pd.options.mode.chained_assignment = None\n",
    "\n",
    "for ind in tqdm(df_points.index):\n",
    "    wint = df_points['time_start'][ind].replace(minute=0,second=0)\n",
    "    df_points['temp'][ind] = dfw['temp'][wint].copy()\n",
    "    df_points['rain'][ind] = dfw['rain_1h'][wint].copy()\n",
    "    df_points['snow'][ind] = dfw['snow_1h'][wint].copy()\n",
    "    df_points['wind_speed'][ind] = dfw['wind_speed'][wint].copy()\n",
    "    df_points['humidity'][ind] = dfw['humidity'][wint].copy()\n",
    "\n",
    "df_points"
   ],
   "metadata": {
    "collapsed": false,
    "pycharm": {
     "name": "#%%\n"
    }
   }
  },
  {
   "cell_type": "markdown",
   "source": [
    "# Fill NaNS"
   ],
   "metadata": {
    "collapsed": false
   }
  },
  {
   "cell_type": "code",
   "execution_count": 113,
   "outputs": [],
   "source": [
    "df_points['rain'] = df_points['rain'].fillna(0)\n",
    "df_points['snow'] = df_points['snow'].fillna(0)\n",
    "df_points['end_station_number'] = df_points['end_station_number'].fillna(0)\n",
    "\n",
    "df_points['wind_speed'] = df_points['wind_speed'].fillna(df_points['wind_speed'].mean())\n",
    "df_points['humidity'] = df_points['humidity'].fillna(df_points['humidity'].mean())\n",
    "df_points = df_points.sort_values(by=['time_start']).reset_index(drop=True)"
   ],
   "metadata": {
    "collapsed": false,
    "pycharm": {
     "name": "#%%\n"
    }
   }
  },
  {
   "cell_type": "markdown",
   "source": [
    "add unix timestamps"
   ],
   "metadata": {
    "collapsed": false
   }
  },
  {
   "cell_type": "code",
   "execution_count": 114,
   "outputs": [],
   "source": [
    "df_points['dt_start'] = pd.to_datetime(df_points['time_start']).map(pd.Timestamp.timestamp).astype(int)\n",
    "df_points['dt_end'] = pd.to_datetime(df_points['time_end']).map(pd.Timestamp.timestamp).astype(int)\n",
    "df_points['bike_id'] = df_points['bike_id'].astype(int)\n",
    "df_points['end_station_number'] = df_points['end_station_number'].astype(int)"
   ],
   "metadata": {
    "collapsed": false,
    "pycharm": {
     "name": "#%%\n"
    }
   }
  },
  {
   "cell_type": "code",
   "execution_count": 115,
   "outputs": [
    {
     "data": {
      "text/plain": "        bike_id        lat        lng  idle_time          time_start  \\\n0         72165  51.351547  12.382658       1529 2020-12-31 23:21:34   \n1         75838  51.331022  12.316226       5519 2020-12-31 23:22:04   \n2         74466  51.355200  12.370664         86 2020-12-31 23:23:09   \n3         73806  51.328693  12.346637        886 2020-12-31 23:25:41   \n4         75854  51.331707  12.371241        262 2020-12-31 23:37:01   \n...         ...        ...        ...        ...                 ...   \n552248    72058  51.317569  12.382730        112 2021-12-30 20:53:13   \n552249    71949  51.334711  12.356763         25 2021-12-30 20:57:15   \n552250    97785  51.367276  12.369792         48 2021-12-30 21:01:26   \n552251    41738  51.366942  12.370322         43 2021-12-30 21:48:38   \n552252    72028  51.332844  12.404319         32 2021-12-30 22:26:40   \n\n            time_end  end_station_number           hex_id   temp  rain  snow  \\\n0       1.609549e+09                   0  881f1a8cb9fffff   2.72  0.00   0.0   \n1       1.609788e+09                   0  881f1a8dd7fffff   2.72  0.00   0.0   \n2       1.609462e+09                   0  881f1a8c87fffff   2.72  0.00   0.0   \n3       1.609510e+09                   0  881f1a164dfffff   2.72  0.00   0.0   \n4       1.609474e+09                   0  881f1a164bfffff   2.72  0.00   0.0   \n...              ...                 ...              ...    ...   ...   ...   \n552248  1.640904e+09                   0  881f1a1609fffff  13.19  7.62   0.0   \n552249  1.640899e+09                   0  881f1a1649fffff  13.19  7.62   0.0   \n552250  1.640901e+09                   0  881f1a8c8bfffff  13.05  2.03   0.0   \n552251  1.640904e+09                   0  881f1a8c8bfffff  13.05  2.03   0.0   \n552252  1.640905e+09                   0  881f1a165bfffff  13.11  1.14   0.0   \n\n        wind_speed  humidity    dt_start  dt_end  \n0             4.02      72.0  1609456894       1  \n1             4.02      72.0  1609456924       1  \n2             4.02      72.0  1609456989       1  \n3             4.02      72.0  1609457141       1  \n4             4.02      72.0  1609457821       1  \n...            ...       ...         ...     ...  \n552248        8.94      83.0  1640897593       1  \n552249        8.94      83.0  1640897835       1  \n552250        8.05      84.0  1640898086       1  \n552251        8.05      84.0  1640900918       1  \n552252        8.05      81.0  1640903200       1  \n\n[552253 rows x 15 columns]",
      "text/html": "<div>\n<style scoped>\n    .dataframe tbody tr th:only-of-type {\n        vertical-align: middle;\n    }\n\n    .dataframe tbody tr th {\n        vertical-align: top;\n    }\n\n    .dataframe thead th {\n        text-align: right;\n    }\n</style>\n<table border=\"1\" class=\"dataframe\">\n  <thead>\n    <tr style=\"text-align: right;\">\n      <th></th>\n      <th>bike_id</th>\n      <th>lat</th>\n      <th>lng</th>\n      <th>idle_time</th>\n      <th>time_start</th>\n      <th>time_end</th>\n      <th>end_station_number</th>\n      <th>hex_id</th>\n      <th>temp</th>\n      <th>rain</th>\n      <th>snow</th>\n      <th>wind_speed</th>\n      <th>humidity</th>\n      <th>dt_start</th>\n      <th>dt_end</th>\n    </tr>\n  </thead>\n  <tbody>\n    <tr>\n      <th>0</th>\n      <td>72165</td>\n      <td>51.351547</td>\n      <td>12.382658</td>\n      <td>1529</td>\n      <td>2020-12-31 23:21:34</td>\n      <td>1.609549e+09</td>\n      <td>0</td>\n      <td>881f1a8cb9fffff</td>\n      <td>2.72</td>\n      <td>0.00</td>\n      <td>0.0</td>\n      <td>4.02</td>\n      <td>72.0</td>\n      <td>1609456894</td>\n      <td>1</td>\n    </tr>\n    <tr>\n      <th>1</th>\n      <td>75838</td>\n      <td>51.331022</td>\n      <td>12.316226</td>\n      <td>5519</td>\n      <td>2020-12-31 23:22:04</td>\n      <td>1.609788e+09</td>\n      <td>0</td>\n      <td>881f1a8dd7fffff</td>\n      <td>2.72</td>\n      <td>0.00</td>\n      <td>0.0</td>\n      <td>4.02</td>\n      <td>72.0</td>\n      <td>1609456924</td>\n      <td>1</td>\n    </tr>\n    <tr>\n      <th>2</th>\n      <td>74466</td>\n      <td>51.355200</td>\n      <td>12.370664</td>\n      <td>86</td>\n      <td>2020-12-31 23:23:09</td>\n      <td>1.609462e+09</td>\n      <td>0</td>\n      <td>881f1a8c87fffff</td>\n      <td>2.72</td>\n      <td>0.00</td>\n      <td>0.0</td>\n      <td>4.02</td>\n      <td>72.0</td>\n      <td>1609456989</td>\n      <td>1</td>\n    </tr>\n    <tr>\n      <th>3</th>\n      <td>73806</td>\n      <td>51.328693</td>\n      <td>12.346637</td>\n      <td>886</td>\n      <td>2020-12-31 23:25:41</td>\n      <td>1.609510e+09</td>\n      <td>0</td>\n      <td>881f1a164dfffff</td>\n      <td>2.72</td>\n      <td>0.00</td>\n      <td>0.0</td>\n      <td>4.02</td>\n      <td>72.0</td>\n      <td>1609457141</td>\n      <td>1</td>\n    </tr>\n    <tr>\n      <th>4</th>\n      <td>75854</td>\n      <td>51.331707</td>\n      <td>12.371241</td>\n      <td>262</td>\n      <td>2020-12-31 23:37:01</td>\n      <td>1.609474e+09</td>\n      <td>0</td>\n      <td>881f1a164bfffff</td>\n      <td>2.72</td>\n      <td>0.00</td>\n      <td>0.0</td>\n      <td>4.02</td>\n      <td>72.0</td>\n      <td>1609457821</td>\n      <td>1</td>\n    </tr>\n    <tr>\n      <th>...</th>\n      <td>...</td>\n      <td>...</td>\n      <td>...</td>\n      <td>...</td>\n      <td>...</td>\n      <td>...</td>\n      <td>...</td>\n      <td>...</td>\n      <td>...</td>\n      <td>...</td>\n      <td>...</td>\n      <td>...</td>\n      <td>...</td>\n      <td>...</td>\n      <td>...</td>\n    </tr>\n    <tr>\n      <th>552248</th>\n      <td>72058</td>\n      <td>51.317569</td>\n      <td>12.382730</td>\n      <td>112</td>\n      <td>2021-12-30 20:53:13</td>\n      <td>1.640904e+09</td>\n      <td>0</td>\n      <td>881f1a1609fffff</td>\n      <td>13.19</td>\n      <td>7.62</td>\n      <td>0.0</td>\n      <td>8.94</td>\n      <td>83.0</td>\n      <td>1640897593</td>\n      <td>1</td>\n    </tr>\n    <tr>\n      <th>552249</th>\n      <td>71949</td>\n      <td>51.334711</td>\n      <td>12.356763</td>\n      <td>25</td>\n      <td>2021-12-30 20:57:15</td>\n      <td>1.640899e+09</td>\n      <td>0</td>\n      <td>881f1a1649fffff</td>\n      <td>13.19</td>\n      <td>7.62</td>\n      <td>0.0</td>\n      <td>8.94</td>\n      <td>83.0</td>\n      <td>1640897835</td>\n      <td>1</td>\n    </tr>\n    <tr>\n      <th>552250</th>\n      <td>97785</td>\n      <td>51.367276</td>\n      <td>12.369792</td>\n      <td>48</td>\n      <td>2021-12-30 21:01:26</td>\n      <td>1.640901e+09</td>\n      <td>0</td>\n      <td>881f1a8c8bfffff</td>\n      <td>13.05</td>\n      <td>2.03</td>\n      <td>0.0</td>\n      <td>8.05</td>\n      <td>84.0</td>\n      <td>1640898086</td>\n      <td>1</td>\n    </tr>\n    <tr>\n      <th>552251</th>\n      <td>41738</td>\n      <td>51.366942</td>\n      <td>12.370322</td>\n      <td>43</td>\n      <td>2021-12-30 21:48:38</td>\n      <td>1.640904e+09</td>\n      <td>0</td>\n      <td>881f1a8c8bfffff</td>\n      <td>13.05</td>\n      <td>2.03</td>\n      <td>0.0</td>\n      <td>8.05</td>\n      <td>84.0</td>\n      <td>1640900918</td>\n      <td>1</td>\n    </tr>\n    <tr>\n      <th>552252</th>\n      <td>72028</td>\n      <td>51.332844</td>\n      <td>12.404319</td>\n      <td>32</td>\n      <td>2021-12-30 22:26:40</td>\n      <td>1.640905e+09</td>\n      <td>0</td>\n      <td>881f1a165bfffff</td>\n      <td>13.11</td>\n      <td>1.14</td>\n      <td>0.0</td>\n      <td>8.05</td>\n      <td>81.0</td>\n      <td>1640903200</td>\n      <td>1</td>\n    </tr>\n  </tbody>\n</table>\n<p>552253 rows × 15 columns</p>\n</div>"
     },
     "execution_count": 115,
     "metadata": {},
     "output_type": "execute_result"
    }
   ],
   "source": [
    "df_points\n"
   ],
   "metadata": {
    "collapsed": false,
    "pycharm": {
     "name": "#%%\n"
    }
   }
  },
  {
   "cell_type": "markdown",
   "source": [
    "# Add start time Feature"
   ],
   "metadata": {
    "collapsed": false
   }
  },
  {
   "cell_type": "code",
   "execution_count": 116,
   "outputs": [],
   "source": [
    "def add_start_min_feature(row):\n",
    "    return ((row['dt_start'] % 86400) / 60).__round__(0)\n",
    "\n",
    "df_points['start_min'] = df_points.apply(add_start_min_feature,axis=1)\n",
    "df_points['start_min'] = df_points['start_min'].astype(int)"
   ],
   "metadata": {
    "collapsed": false,
    "pycharm": {
     "name": "#%%\n"
    }
   }
  },
  {
   "cell_type": "code",
   "execution_count": 117,
   "outputs": [
    {
     "data": {
      "text/plain": "        bike_id        lat        lng  idle_time          time_start  \\\n0         72165  51.351547  12.382658       1529 2020-12-31 23:21:34   \n1         75838  51.331022  12.316226       5519 2020-12-31 23:22:04   \n2         74466  51.355200  12.370664         86 2020-12-31 23:23:09   \n3         73806  51.328693  12.346637        886 2020-12-31 23:25:41   \n4         75854  51.331707  12.371241        262 2020-12-31 23:37:01   \n...         ...        ...        ...        ...                 ...   \n552248    72058  51.317569  12.382730        112 2021-12-30 20:53:13   \n552249    71949  51.334711  12.356763         25 2021-12-30 20:57:15   \n552250    97785  51.367276  12.369792         48 2021-12-30 21:01:26   \n552251    41738  51.366942  12.370322         43 2021-12-30 21:48:38   \n552252    72028  51.332844  12.404319         32 2021-12-30 22:26:40   \n\n            time_end  end_station_number           hex_id   temp  rain  snow  \\\n0       1.609549e+09                   0  881f1a8cb9fffff   2.72  0.00   0.0   \n1       1.609788e+09                   0  881f1a8dd7fffff   2.72  0.00   0.0   \n2       1.609462e+09                   0  881f1a8c87fffff   2.72  0.00   0.0   \n3       1.609510e+09                   0  881f1a164dfffff   2.72  0.00   0.0   \n4       1.609474e+09                   0  881f1a164bfffff   2.72  0.00   0.0   \n...              ...                 ...              ...    ...   ...   ...   \n552248  1.640904e+09                   0  881f1a1609fffff  13.19  7.62   0.0   \n552249  1.640899e+09                   0  881f1a1649fffff  13.19  7.62   0.0   \n552250  1.640901e+09                   0  881f1a8c8bfffff  13.05  2.03   0.0   \n552251  1.640904e+09                   0  881f1a8c8bfffff  13.05  2.03   0.0   \n552252  1.640905e+09                   0  881f1a165bfffff  13.11  1.14   0.0   \n\n        wind_speed  humidity    dt_start  dt_end  start_min  \n0             4.02      72.0  1609456894       1       1402  \n1             4.02      72.0  1609456924       1       1402  \n2             4.02      72.0  1609456989       1       1403  \n3             4.02      72.0  1609457141       1       1406  \n4             4.02      72.0  1609457821       1       1417  \n...            ...       ...         ...     ...        ...  \n552248        8.94      83.0  1640897593       1       1253  \n552249        8.94      83.0  1640897835       1       1257  \n552250        8.05      84.0  1640898086       1       1261  \n552251        8.05      84.0  1640900918       1       1309  \n552252        8.05      81.0  1640903200       1       1347  \n\n[552253 rows x 16 columns]",
      "text/html": "<div>\n<style scoped>\n    .dataframe tbody tr th:only-of-type {\n        vertical-align: middle;\n    }\n\n    .dataframe tbody tr th {\n        vertical-align: top;\n    }\n\n    .dataframe thead th {\n        text-align: right;\n    }\n</style>\n<table border=\"1\" class=\"dataframe\">\n  <thead>\n    <tr style=\"text-align: right;\">\n      <th></th>\n      <th>bike_id</th>\n      <th>lat</th>\n      <th>lng</th>\n      <th>idle_time</th>\n      <th>time_start</th>\n      <th>time_end</th>\n      <th>end_station_number</th>\n      <th>hex_id</th>\n      <th>temp</th>\n      <th>rain</th>\n      <th>snow</th>\n      <th>wind_speed</th>\n      <th>humidity</th>\n      <th>dt_start</th>\n      <th>dt_end</th>\n      <th>start_min</th>\n    </tr>\n  </thead>\n  <tbody>\n    <tr>\n      <th>0</th>\n      <td>72165</td>\n      <td>51.351547</td>\n      <td>12.382658</td>\n      <td>1529</td>\n      <td>2020-12-31 23:21:34</td>\n      <td>1.609549e+09</td>\n      <td>0</td>\n      <td>881f1a8cb9fffff</td>\n      <td>2.72</td>\n      <td>0.00</td>\n      <td>0.0</td>\n      <td>4.02</td>\n      <td>72.0</td>\n      <td>1609456894</td>\n      <td>1</td>\n      <td>1402</td>\n    </tr>\n    <tr>\n      <th>1</th>\n      <td>75838</td>\n      <td>51.331022</td>\n      <td>12.316226</td>\n      <td>5519</td>\n      <td>2020-12-31 23:22:04</td>\n      <td>1.609788e+09</td>\n      <td>0</td>\n      <td>881f1a8dd7fffff</td>\n      <td>2.72</td>\n      <td>0.00</td>\n      <td>0.0</td>\n      <td>4.02</td>\n      <td>72.0</td>\n      <td>1609456924</td>\n      <td>1</td>\n      <td>1402</td>\n    </tr>\n    <tr>\n      <th>2</th>\n      <td>74466</td>\n      <td>51.355200</td>\n      <td>12.370664</td>\n      <td>86</td>\n      <td>2020-12-31 23:23:09</td>\n      <td>1.609462e+09</td>\n      <td>0</td>\n      <td>881f1a8c87fffff</td>\n      <td>2.72</td>\n      <td>0.00</td>\n      <td>0.0</td>\n      <td>4.02</td>\n      <td>72.0</td>\n      <td>1609456989</td>\n      <td>1</td>\n      <td>1403</td>\n    </tr>\n    <tr>\n      <th>3</th>\n      <td>73806</td>\n      <td>51.328693</td>\n      <td>12.346637</td>\n      <td>886</td>\n      <td>2020-12-31 23:25:41</td>\n      <td>1.609510e+09</td>\n      <td>0</td>\n      <td>881f1a164dfffff</td>\n      <td>2.72</td>\n      <td>0.00</td>\n      <td>0.0</td>\n      <td>4.02</td>\n      <td>72.0</td>\n      <td>1609457141</td>\n      <td>1</td>\n      <td>1406</td>\n    </tr>\n    <tr>\n      <th>4</th>\n      <td>75854</td>\n      <td>51.331707</td>\n      <td>12.371241</td>\n      <td>262</td>\n      <td>2020-12-31 23:37:01</td>\n      <td>1.609474e+09</td>\n      <td>0</td>\n      <td>881f1a164bfffff</td>\n      <td>2.72</td>\n      <td>0.00</td>\n      <td>0.0</td>\n      <td>4.02</td>\n      <td>72.0</td>\n      <td>1609457821</td>\n      <td>1</td>\n      <td>1417</td>\n    </tr>\n    <tr>\n      <th>...</th>\n      <td>...</td>\n      <td>...</td>\n      <td>...</td>\n      <td>...</td>\n      <td>...</td>\n      <td>...</td>\n      <td>...</td>\n      <td>...</td>\n      <td>...</td>\n      <td>...</td>\n      <td>...</td>\n      <td>...</td>\n      <td>...</td>\n      <td>...</td>\n      <td>...</td>\n      <td>...</td>\n    </tr>\n    <tr>\n      <th>552248</th>\n      <td>72058</td>\n      <td>51.317569</td>\n      <td>12.382730</td>\n      <td>112</td>\n      <td>2021-12-30 20:53:13</td>\n      <td>1.640904e+09</td>\n      <td>0</td>\n      <td>881f1a1609fffff</td>\n      <td>13.19</td>\n      <td>7.62</td>\n      <td>0.0</td>\n      <td>8.94</td>\n      <td>83.0</td>\n      <td>1640897593</td>\n      <td>1</td>\n      <td>1253</td>\n    </tr>\n    <tr>\n      <th>552249</th>\n      <td>71949</td>\n      <td>51.334711</td>\n      <td>12.356763</td>\n      <td>25</td>\n      <td>2021-12-30 20:57:15</td>\n      <td>1.640899e+09</td>\n      <td>0</td>\n      <td>881f1a1649fffff</td>\n      <td>13.19</td>\n      <td>7.62</td>\n      <td>0.0</td>\n      <td>8.94</td>\n      <td>83.0</td>\n      <td>1640897835</td>\n      <td>1</td>\n      <td>1257</td>\n    </tr>\n    <tr>\n      <th>552250</th>\n      <td>97785</td>\n      <td>51.367276</td>\n      <td>12.369792</td>\n      <td>48</td>\n      <td>2021-12-30 21:01:26</td>\n      <td>1.640901e+09</td>\n      <td>0</td>\n      <td>881f1a8c8bfffff</td>\n      <td>13.05</td>\n      <td>2.03</td>\n      <td>0.0</td>\n      <td>8.05</td>\n      <td>84.0</td>\n      <td>1640898086</td>\n      <td>1</td>\n      <td>1261</td>\n    </tr>\n    <tr>\n      <th>552251</th>\n      <td>41738</td>\n      <td>51.366942</td>\n      <td>12.370322</td>\n      <td>43</td>\n      <td>2021-12-30 21:48:38</td>\n      <td>1.640904e+09</td>\n      <td>0</td>\n      <td>881f1a8c8bfffff</td>\n      <td>13.05</td>\n      <td>2.03</td>\n      <td>0.0</td>\n      <td>8.05</td>\n      <td>84.0</td>\n      <td>1640900918</td>\n      <td>1</td>\n      <td>1309</td>\n    </tr>\n    <tr>\n      <th>552252</th>\n      <td>72028</td>\n      <td>51.332844</td>\n      <td>12.404319</td>\n      <td>32</td>\n      <td>2021-12-30 22:26:40</td>\n      <td>1.640905e+09</td>\n      <td>0</td>\n      <td>881f1a165bfffff</td>\n      <td>13.11</td>\n      <td>1.14</td>\n      <td>0.0</td>\n      <td>8.05</td>\n      <td>81.0</td>\n      <td>1640903200</td>\n      <td>1</td>\n      <td>1347</td>\n    </tr>\n  </tbody>\n</table>\n<p>552253 rows × 16 columns</p>\n</div>"
     },
     "execution_count": 117,
     "metadata": {},
     "output_type": "execute_result"
    }
   ],
   "source": [
    "df_points"
   ],
   "metadata": {
    "collapsed": false,
    "pycharm": {
     "name": "#%%\n"
    }
   }
  },
  {
   "cell_type": "markdown",
   "source": [
    "# Add day Feature"
   ],
   "metadata": {
    "collapsed": false,
    "pycharm": {
     "name": "#%% md\n"
    }
   }
  },
  {
   "cell_type": "code",
   "execution_count": 118,
   "outputs": [
    {
     "data": {
      "text/plain": "bike_id                        int64\nlat                          float64\nlng                          float64\nidle_time                      int64\ntime_start            datetime64[ns]\ntime_end                     float64\nend_station_number             int64\nhex_id                        object\ntemp                         float64\nrain                         float64\nsnow                         float64\nwind_speed                   float64\nhumidity                     float64\ndt_start                       int64\ndt_end                         int64\nstart_min                      int64\ndtype: object"
     },
     "execution_count": 118,
     "metadata": {},
     "output_type": "execute_result"
    }
   ],
   "source": [
    "df_points.dtypes"
   ],
   "metadata": {
    "collapsed": false,
    "pycharm": {
     "name": "#%%\n"
    }
   }
  },
  {
   "cell_type": "code",
   "execution_count": 119,
   "outputs": [],
   "source": [
    "def add_day_feature(row):\n",
    "    return row['time_start'].dayofweek\n",
    "\n",
    "df_points['day'] = df_points.apply(add_day_feature,axis=1)"
   ],
   "metadata": {
    "collapsed": false,
    "pycharm": {
     "name": "#%%\n"
    }
   }
  },
  {
   "cell_type": "code",
   "execution_count": 120,
   "outputs": [
    {
     "data": {
      "text/plain": "        bike_id        lat        lng  idle_time          time_start  \\\n0         72165  51.351547  12.382658       1529 2020-12-31 23:21:34   \n1         75838  51.331022  12.316226       5519 2020-12-31 23:22:04   \n2         74466  51.355200  12.370664         86 2020-12-31 23:23:09   \n3         73806  51.328693  12.346637        886 2020-12-31 23:25:41   \n4         75854  51.331707  12.371241        262 2020-12-31 23:37:01   \n...         ...        ...        ...        ...                 ...   \n552248    72058  51.317569  12.382730        112 2021-12-30 20:53:13   \n552249    71949  51.334711  12.356763         25 2021-12-30 20:57:15   \n552250    97785  51.367276  12.369792         48 2021-12-30 21:01:26   \n552251    41738  51.366942  12.370322         43 2021-12-30 21:48:38   \n552252    72028  51.332844  12.404319         32 2021-12-30 22:26:40   \n\n            time_end  end_station_number           hex_id   temp  rain  snow  \\\n0       1.609549e+09                   0  881f1a8cb9fffff   2.72  0.00   0.0   \n1       1.609788e+09                   0  881f1a8dd7fffff   2.72  0.00   0.0   \n2       1.609462e+09                   0  881f1a8c87fffff   2.72  0.00   0.0   \n3       1.609510e+09                   0  881f1a164dfffff   2.72  0.00   0.0   \n4       1.609474e+09                   0  881f1a164bfffff   2.72  0.00   0.0   \n...              ...                 ...              ...    ...   ...   ...   \n552248  1.640904e+09                   0  881f1a1609fffff  13.19  7.62   0.0   \n552249  1.640899e+09                   0  881f1a1649fffff  13.19  7.62   0.0   \n552250  1.640901e+09                   0  881f1a8c8bfffff  13.05  2.03   0.0   \n552251  1.640904e+09                   0  881f1a8c8bfffff  13.05  2.03   0.0   \n552252  1.640905e+09                   0  881f1a165bfffff  13.11  1.14   0.0   \n\n        wind_speed  humidity    dt_start  dt_end  start_min  day  \n0             4.02      72.0  1609456894       1       1402    3  \n1             4.02      72.0  1609456924       1       1402    3  \n2             4.02      72.0  1609456989       1       1403    3  \n3             4.02      72.0  1609457141       1       1406    3  \n4             4.02      72.0  1609457821       1       1417    3  \n...            ...       ...         ...     ...        ...  ...  \n552248        8.94      83.0  1640897593       1       1253    3  \n552249        8.94      83.0  1640897835       1       1257    3  \n552250        8.05      84.0  1640898086       1       1261    3  \n552251        8.05      84.0  1640900918       1       1309    3  \n552252        8.05      81.0  1640903200       1       1347    3  \n\n[552253 rows x 17 columns]",
      "text/html": "<div>\n<style scoped>\n    .dataframe tbody tr th:only-of-type {\n        vertical-align: middle;\n    }\n\n    .dataframe tbody tr th {\n        vertical-align: top;\n    }\n\n    .dataframe thead th {\n        text-align: right;\n    }\n</style>\n<table border=\"1\" class=\"dataframe\">\n  <thead>\n    <tr style=\"text-align: right;\">\n      <th></th>\n      <th>bike_id</th>\n      <th>lat</th>\n      <th>lng</th>\n      <th>idle_time</th>\n      <th>time_start</th>\n      <th>time_end</th>\n      <th>end_station_number</th>\n      <th>hex_id</th>\n      <th>temp</th>\n      <th>rain</th>\n      <th>snow</th>\n      <th>wind_speed</th>\n      <th>humidity</th>\n      <th>dt_start</th>\n      <th>dt_end</th>\n      <th>start_min</th>\n      <th>day</th>\n    </tr>\n  </thead>\n  <tbody>\n    <tr>\n      <th>0</th>\n      <td>72165</td>\n      <td>51.351547</td>\n      <td>12.382658</td>\n      <td>1529</td>\n      <td>2020-12-31 23:21:34</td>\n      <td>1.609549e+09</td>\n      <td>0</td>\n      <td>881f1a8cb9fffff</td>\n      <td>2.72</td>\n      <td>0.00</td>\n      <td>0.0</td>\n      <td>4.02</td>\n      <td>72.0</td>\n      <td>1609456894</td>\n      <td>1</td>\n      <td>1402</td>\n      <td>3</td>\n    </tr>\n    <tr>\n      <th>1</th>\n      <td>75838</td>\n      <td>51.331022</td>\n      <td>12.316226</td>\n      <td>5519</td>\n      <td>2020-12-31 23:22:04</td>\n      <td>1.609788e+09</td>\n      <td>0</td>\n      <td>881f1a8dd7fffff</td>\n      <td>2.72</td>\n      <td>0.00</td>\n      <td>0.0</td>\n      <td>4.02</td>\n      <td>72.0</td>\n      <td>1609456924</td>\n      <td>1</td>\n      <td>1402</td>\n      <td>3</td>\n    </tr>\n    <tr>\n      <th>2</th>\n      <td>74466</td>\n      <td>51.355200</td>\n      <td>12.370664</td>\n      <td>86</td>\n      <td>2020-12-31 23:23:09</td>\n      <td>1.609462e+09</td>\n      <td>0</td>\n      <td>881f1a8c87fffff</td>\n      <td>2.72</td>\n      <td>0.00</td>\n      <td>0.0</td>\n      <td>4.02</td>\n      <td>72.0</td>\n      <td>1609456989</td>\n      <td>1</td>\n      <td>1403</td>\n      <td>3</td>\n    </tr>\n    <tr>\n      <th>3</th>\n      <td>73806</td>\n      <td>51.328693</td>\n      <td>12.346637</td>\n      <td>886</td>\n      <td>2020-12-31 23:25:41</td>\n      <td>1.609510e+09</td>\n      <td>0</td>\n      <td>881f1a164dfffff</td>\n      <td>2.72</td>\n      <td>0.00</td>\n      <td>0.0</td>\n      <td>4.02</td>\n      <td>72.0</td>\n      <td>1609457141</td>\n      <td>1</td>\n      <td>1406</td>\n      <td>3</td>\n    </tr>\n    <tr>\n      <th>4</th>\n      <td>75854</td>\n      <td>51.331707</td>\n      <td>12.371241</td>\n      <td>262</td>\n      <td>2020-12-31 23:37:01</td>\n      <td>1.609474e+09</td>\n      <td>0</td>\n      <td>881f1a164bfffff</td>\n      <td>2.72</td>\n      <td>0.00</td>\n      <td>0.0</td>\n      <td>4.02</td>\n      <td>72.0</td>\n      <td>1609457821</td>\n      <td>1</td>\n      <td>1417</td>\n      <td>3</td>\n    </tr>\n    <tr>\n      <th>...</th>\n      <td>...</td>\n      <td>...</td>\n      <td>...</td>\n      <td>...</td>\n      <td>...</td>\n      <td>...</td>\n      <td>...</td>\n      <td>...</td>\n      <td>...</td>\n      <td>...</td>\n      <td>...</td>\n      <td>...</td>\n      <td>...</td>\n      <td>...</td>\n      <td>...</td>\n      <td>...</td>\n      <td>...</td>\n    </tr>\n    <tr>\n      <th>552248</th>\n      <td>72058</td>\n      <td>51.317569</td>\n      <td>12.382730</td>\n      <td>112</td>\n      <td>2021-12-30 20:53:13</td>\n      <td>1.640904e+09</td>\n      <td>0</td>\n      <td>881f1a1609fffff</td>\n      <td>13.19</td>\n      <td>7.62</td>\n      <td>0.0</td>\n      <td>8.94</td>\n      <td>83.0</td>\n      <td>1640897593</td>\n      <td>1</td>\n      <td>1253</td>\n      <td>3</td>\n    </tr>\n    <tr>\n      <th>552249</th>\n      <td>71949</td>\n      <td>51.334711</td>\n      <td>12.356763</td>\n      <td>25</td>\n      <td>2021-12-30 20:57:15</td>\n      <td>1.640899e+09</td>\n      <td>0</td>\n      <td>881f1a1649fffff</td>\n      <td>13.19</td>\n      <td>7.62</td>\n      <td>0.0</td>\n      <td>8.94</td>\n      <td>83.0</td>\n      <td>1640897835</td>\n      <td>1</td>\n      <td>1257</td>\n      <td>3</td>\n    </tr>\n    <tr>\n      <th>552250</th>\n      <td>97785</td>\n      <td>51.367276</td>\n      <td>12.369792</td>\n      <td>48</td>\n      <td>2021-12-30 21:01:26</td>\n      <td>1.640901e+09</td>\n      <td>0</td>\n      <td>881f1a8c8bfffff</td>\n      <td>13.05</td>\n      <td>2.03</td>\n      <td>0.0</td>\n      <td>8.05</td>\n      <td>84.0</td>\n      <td>1640898086</td>\n      <td>1</td>\n      <td>1261</td>\n      <td>3</td>\n    </tr>\n    <tr>\n      <th>552251</th>\n      <td>41738</td>\n      <td>51.366942</td>\n      <td>12.370322</td>\n      <td>43</td>\n      <td>2021-12-30 21:48:38</td>\n      <td>1.640904e+09</td>\n      <td>0</td>\n      <td>881f1a8c8bfffff</td>\n      <td>13.05</td>\n      <td>2.03</td>\n      <td>0.0</td>\n      <td>8.05</td>\n      <td>84.0</td>\n      <td>1640900918</td>\n      <td>1</td>\n      <td>1309</td>\n      <td>3</td>\n    </tr>\n    <tr>\n      <th>552252</th>\n      <td>72028</td>\n      <td>51.332844</td>\n      <td>12.404319</td>\n      <td>32</td>\n      <td>2021-12-30 22:26:40</td>\n      <td>1.640905e+09</td>\n      <td>0</td>\n      <td>881f1a165bfffff</td>\n      <td>13.11</td>\n      <td>1.14</td>\n      <td>0.0</td>\n      <td>8.05</td>\n      <td>81.0</td>\n      <td>1640903200</td>\n      <td>1</td>\n      <td>1347</td>\n      <td>3</td>\n    </tr>\n  </tbody>\n</table>\n<p>552253 rows × 17 columns</p>\n</div>"
     },
     "execution_count": 120,
     "metadata": {},
     "output_type": "execute_result"
    }
   ],
   "source": [
    "df_points"
   ],
   "metadata": {
    "collapsed": false,
    "pycharm": {
     "name": "#%%\n"
    }
   }
  },
  {
   "cell_type": "markdown",
   "source": [
    "# Add month feature"
   ],
   "metadata": {
    "collapsed": false
   }
  },
  {
   "cell_type": "code",
   "execution_count": 121,
   "outputs": [],
   "source": [
    "def add_month_feature(row):\n",
    "    return row['time_start'].strftime(\"%m\")\n",
    "\n",
    "df_points['month'] = df_points.apply(add_month_feature,axis=1)"
   ],
   "metadata": {
    "collapsed": false,
    "pycharm": {
     "name": "#%%\n"
    }
   }
  },
  {
   "cell_type": "code",
   "execution_count": 122,
   "outputs": [],
   "source": [
    "#del df_points['time_start']\n",
    "#del df_points['time_end']"
   ],
   "metadata": {
    "collapsed": false,
    "pycharm": {
     "name": "#%%\n"
    }
   }
  },
  {
   "cell_type": "markdown",
   "source": [
    "Encode Hex_id"
   ],
   "metadata": {
    "collapsed": false
   }
  },
  {
   "cell_type": "markdown",
   "source": [
    "from sklearn import preprocessing\n",
    "\n",
    "label_encoder = preprocessing.LabelEncoder()\n",
    "df_points['hex_enc']= label_encoder.fit_transform(df_points['hex_id'])"
   ],
   "metadata": {
    "collapsed": false,
    "pycharm": {
     "name": "#%% md\n"
    }
   }
  },
  {
   "cell_type": "markdown",
   "source": [
    "Sort DF"
   ],
   "metadata": {
    "collapsed": false
   }
  },
  {
   "cell_type": "code",
   "execution_count": 123,
   "outputs": [
    {
     "data": {
      "text/plain": "        bike_id        lat        lng  idle_time          time_start  \\\n0         72165  51.351547  12.382658       1529 2020-12-31 23:21:34   \n1         75838  51.331022  12.316226       5519 2020-12-31 23:22:04   \n2         74466  51.355200  12.370664         86 2020-12-31 23:23:09   \n3         73806  51.328693  12.346637        886 2020-12-31 23:25:41   \n4         75854  51.331707  12.371241        262 2020-12-31 23:37:01   \n...         ...        ...        ...        ...                 ...   \n552248    72058  51.317569  12.382730        112 2021-12-30 20:53:13   \n552249    71949  51.334711  12.356763         25 2021-12-30 20:57:15   \n552250    97785  51.367276  12.369792         48 2021-12-30 21:01:26   \n552251    41738  51.366942  12.370322         43 2021-12-30 21:48:38   \n552252    72028  51.332844  12.404319         32 2021-12-30 22:26:40   \n\n            time_end  end_station_number           hex_id   temp  rain  snow  \\\n0       1.609549e+09                   0  881f1a8cb9fffff   2.72  0.00   0.0   \n1       1.609788e+09                   0  881f1a8dd7fffff   2.72  0.00   0.0   \n2       1.609462e+09                   0  881f1a8c87fffff   2.72  0.00   0.0   \n3       1.609510e+09                   0  881f1a164dfffff   2.72  0.00   0.0   \n4       1.609474e+09                   0  881f1a164bfffff   2.72  0.00   0.0   \n...              ...                 ...              ...    ...   ...   ...   \n552248  1.640904e+09                   0  881f1a1609fffff  13.19  7.62   0.0   \n552249  1.640899e+09                   0  881f1a1649fffff  13.19  7.62   0.0   \n552250  1.640901e+09                   0  881f1a8c8bfffff  13.05  2.03   0.0   \n552251  1.640904e+09                   0  881f1a8c8bfffff  13.05  2.03   0.0   \n552252  1.640905e+09                   0  881f1a165bfffff  13.11  1.14   0.0   \n\n        wind_speed  humidity    dt_start  dt_end  start_min  day month  \n0             4.02      72.0  1609456894       1       1402    3    12  \n1             4.02      72.0  1609456924       1       1402    3    12  \n2             4.02      72.0  1609456989       1       1403    3    12  \n3             4.02      72.0  1609457141       1       1406    3    12  \n4             4.02      72.0  1609457821       1       1417    3    12  \n...            ...       ...         ...     ...        ...  ...   ...  \n552248        8.94      83.0  1640897593       1       1253    3    12  \n552249        8.94      83.0  1640897835       1       1257    3    12  \n552250        8.05      84.0  1640898086       1       1261    3    12  \n552251        8.05      84.0  1640900918       1       1309    3    12  \n552252        8.05      81.0  1640903200       1       1347    3    12  \n\n[552253 rows x 18 columns]",
      "text/html": "<div>\n<style scoped>\n    .dataframe tbody tr th:only-of-type {\n        vertical-align: middle;\n    }\n\n    .dataframe tbody tr th {\n        vertical-align: top;\n    }\n\n    .dataframe thead th {\n        text-align: right;\n    }\n</style>\n<table border=\"1\" class=\"dataframe\">\n  <thead>\n    <tr style=\"text-align: right;\">\n      <th></th>\n      <th>bike_id</th>\n      <th>lat</th>\n      <th>lng</th>\n      <th>idle_time</th>\n      <th>time_start</th>\n      <th>time_end</th>\n      <th>end_station_number</th>\n      <th>hex_id</th>\n      <th>temp</th>\n      <th>rain</th>\n      <th>snow</th>\n      <th>wind_speed</th>\n      <th>humidity</th>\n      <th>dt_start</th>\n      <th>dt_end</th>\n      <th>start_min</th>\n      <th>day</th>\n      <th>month</th>\n    </tr>\n  </thead>\n  <tbody>\n    <tr>\n      <th>0</th>\n      <td>72165</td>\n      <td>51.351547</td>\n      <td>12.382658</td>\n      <td>1529</td>\n      <td>2020-12-31 23:21:34</td>\n      <td>1.609549e+09</td>\n      <td>0</td>\n      <td>881f1a8cb9fffff</td>\n      <td>2.72</td>\n      <td>0.00</td>\n      <td>0.0</td>\n      <td>4.02</td>\n      <td>72.0</td>\n      <td>1609456894</td>\n      <td>1</td>\n      <td>1402</td>\n      <td>3</td>\n      <td>12</td>\n    </tr>\n    <tr>\n      <th>1</th>\n      <td>75838</td>\n      <td>51.331022</td>\n      <td>12.316226</td>\n      <td>5519</td>\n      <td>2020-12-31 23:22:04</td>\n      <td>1.609788e+09</td>\n      <td>0</td>\n      <td>881f1a8dd7fffff</td>\n      <td>2.72</td>\n      <td>0.00</td>\n      <td>0.0</td>\n      <td>4.02</td>\n      <td>72.0</td>\n      <td>1609456924</td>\n      <td>1</td>\n      <td>1402</td>\n      <td>3</td>\n      <td>12</td>\n    </tr>\n    <tr>\n      <th>2</th>\n      <td>74466</td>\n      <td>51.355200</td>\n      <td>12.370664</td>\n      <td>86</td>\n      <td>2020-12-31 23:23:09</td>\n      <td>1.609462e+09</td>\n      <td>0</td>\n      <td>881f1a8c87fffff</td>\n      <td>2.72</td>\n      <td>0.00</td>\n      <td>0.0</td>\n      <td>4.02</td>\n      <td>72.0</td>\n      <td>1609456989</td>\n      <td>1</td>\n      <td>1403</td>\n      <td>3</td>\n      <td>12</td>\n    </tr>\n    <tr>\n      <th>3</th>\n      <td>73806</td>\n      <td>51.328693</td>\n      <td>12.346637</td>\n      <td>886</td>\n      <td>2020-12-31 23:25:41</td>\n      <td>1.609510e+09</td>\n      <td>0</td>\n      <td>881f1a164dfffff</td>\n      <td>2.72</td>\n      <td>0.00</td>\n      <td>0.0</td>\n      <td>4.02</td>\n      <td>72.0</td>\n      <td>1609457141</td>\n      <td>1</td>\n      <td>1406</td>\n      <td>3</td>\n      <td>12</td>\n    </tr>\n    <tr>\n      <th>4</th>\n      <td>75854</td>\n      <td>51.331707</td>\n      <td>12.371241</td>\n      <td>262</td>\n      <td>2020-12-31 23:37:01</td>\n      <td>1.609474e+09</td>\n      <td>0</td>\n      <td>881f1a164bfffff</td>\n      <td>2.72</td>\n      <td>0.00</td>\n      <td>0.0</td>\n      <td>4.02</td>\n      <td>72.0</td>\n      <td>1609457821</td>\n      <td>1</td>\n      <td>1417</td>\n      <td>3</td>\n      <td>12</td>\n    </tr>\n    <tr>\n      <th>...</th>\n      <td>...</td>\n      <td>...</td>\n      <td>...</td>\n      <td>...</td>\n      <td>...</td>\n      <td>...</td>\n      <td>...</td>\n      <td>...</td>\n      <td>...</td>\n      <td>...</td>\n      <td>...</td>\n      <td>...</td>\n      <td>...</td>\n      <td>...</td>\n      <td>...</td>\n      <td>...</td>\n      <td>...</td>\n      <td>...</td>\n    </tr>\n    <tr>\n      <th>552248</th>\n      <td>72058</td>\n      <td>51.317569</td>\n      <td>12.382730</td>\n      <td>112</td>\n      <td>2021-12-30 20:53:13</td>\n      <td>1.640904e+09</td>\n      <td>0</td>\n      <td>881f1a1609fffff</td>\n      <td>13.19</td>\n      <td>7.62</td>\n      <td>0.0</td>\n      <td>8.94</td>\n      <td>83.0</td>\n      <td>1640897593</td>\n      <td>1</td>\n      <td>1253</td>\n      <td>3</td>\n      <td>12</td>\n    </tr>\n    <tr>\n      <th>552249</th>\n      <td>71949</td>\n      <td>51.334711</td>\n      <td>12.356763</td>\n      <td>25</td>\n      <td>2021-12-30 20:57:15</td>\n      <td>1.640899e+09</td>\n      <td>0</td>\n      <td>881f1a1649fffff</td>\n      <td>13.19</td>\n      <td>7.62</td>\n      <td>0.0</td>\n      <td>8.94</td>\n      <td>83.0</td>\n      <td>1640897835</td>\n      <td>1</td>\n      <td>1257</td>\n      <td>3</td>\n      <td>12</td>\n    </tr>\n    <tr>\n      <th>552250</th>\n      <td>97785</td>\n      <td>51.367276</td>\n      <td>12.369792</td>\n      <td>48</td>\n      <td>2021-12-30 21:01:26</td>\n      <td>1.640901e+09</td>\n      <td>0</td>\n      <td>881f1a8c8bfffff</td>\n      <td>13.05</td>\n      <td>2.03</td>\n      <td>0.0</td>\n      <td>8.05</td>\n      <td>84.0</td>\n      <td>1640898086</td>\n      <td>1</td>\n      <td>1261</td>\n      <td>3</td>\n      <td>12</td>\n    </tr>\n    <tr>\n      <th>552251</th>\n      <td>41738</td>\n      <td>51.366942</td>\n      <td>12.370322</td>\n      <td>43</td>\n      <td>2021-12-30 21:48:38</td>\n      <td>1.640904e+09</td>\n      <td>0</td>\n      <td>881f1a8c8bfffff</td>\n      <td>13.05</td>\n      <td>2.03</td>\n      <td>0.0</td>\n      <td>8.05</td>\n      <td>84.0</td>\n      <td>1640900918</td>\n      <td>1</td>\n      <td>1309</td>\n      <td>3</td>\n      <td>12</td>\n    </tr>\n    <tr>\n      <th>552252</th>\n      <td>72028</td>\n      <td>51.332844</td>\n      <td>12.404319</td>\n      <td>32</td>\n      <td>2021-12-30 22:26:40</td>\n      <td>1.640905e+09</td>\n      <td>0</td>\n      <td>881f1a165bfffff</td>\n      <td>13.11</td>\n      <td>1.14</td>\n      <td>0.0</td>\n      <td>8.05</td>\n      <td>81.0</td>\n      <td>1640903200</td>\n      <td>1</td>\n      <td>1347</td>\n      <td>3</td>\n      <td>12</td>\n    </tr>\n  </tbody>\n</table>\n<p>552253 rows × 18 columns</p>\n</div>"
     },
     "execution_count": 123,
     "metadata": {},
     "output_type": "execute_result"
    }
   ],
   "source": [
    "df_points"
   ],
   "metadata": {
    "collapsed": false,
    "pycharm": {
     "name": "#%%\n"
    }
   }
  },
  {
   "cell_type": "markdown",
   "source": [
    "df_points = df_points.reindex(columns=['bike_id', 'lat', 'lng', 'dt_start', 'dt_end', 'hex_id', 'temp', 'rain', 'snow', 'wind_speed', 'humidity', 'month', 'day', 'start_min', 'over_night', 'idle_time_next_day', 'idle_time'])\n",
    "\n",
    "\n",
    "df_points.sort_values(by=['dt_start'])"
   ],
   "metadata": {
    "collapsed": false,
    "pycharm": {
     "name": "#%% md\n"
    }
   }
  },
  {
   "cell_type": "code",
   "execution_count": 124,
   "outputs": [
    {
     "data": {
      "text/plain": "        bike_id        lat        lng  idle_time          time_start  \\\n0         72165  51.351547  12.382658       1529 2020-12-31 23:21:34   \n1         75838  51.331022  12.316226       5519 2020-12-31 23:22:04   \n2         74466  51.355200  12.370664         86 2020-12-31 23:23:09   \n3         73806  51.328693  12.346637        886 2020-12-31 23:25:41   \n4         75854  51.331707  12.371241        262 2020-12-31 23:37:01   \n...         ...        ...        ...        ...                 ...   \n552248    72058  51.317569  12.382730        112 2021-12-30 20:53:13   \n552249    71949  51.334711  12.356763         25 2021-12-30 20:57:15   \n552250    97785  51.367276  12.369792         48 2021-12-30 21:01:26   \n552251    41738  51.366942  12.370322         43 2021-12-30 21:48:38   \n552252    72028  51.332844  12.404319         32 2021-12-30 22:26:40   \n\n            time_end  end_station_number           hex_id   temp  rain  snow  \\\n0       1.609549e+09                   0  881f1a8cb9fffff   2.72  0.00   0.0   \n1       1.609788e+09                   0  881f1a8dd7fffff   2.72  0.00   0.0   \n2       1.609462e+09                   0  881f1a8c87fffff   2.72  0.00   0.0   \n3       1.609510e+09                   0  881f1a164dfffff   2.72  0.00   0.0   \n4       1.609474e+09                   0  881f1a164bfffff   2.72  0.00   0.0   \n...              ...                 ...              ...    ...   ...   ...   \n552248  1.640904e+09                   0  881f1a1609fffff  13.19  7.62   0.0   \n552249  1.640899e+09                   0  881f1a1649fffff  13.19  7.62   0.0   \n552250  1.640901e+09                   0  881f1a8c8bfffff  13.05  2.03   0.0   \n552251  1.640904e+09                   0  881f1a8c8bfffff  13.05  2.03   0.0   \n552252  1.640905e+09                   0  881f1a165bfffff  13.11  1.14   0.0   \n\n        wind_speed  humidity    dt_start  dt_end  start_min  day month  \n0             4.02      72.0  1609456894       1       1402    3    12  \n1             4.02      72.0  1609456924       1       1402    3    12  \n2             4.02      72.0  1609456989       1       1403    3    12  \n3             4.02      72.0  1609457141       1       1406    3    12  \n4             4.02      72.0  1609457821       1       1417    3    12  \n...            ...       ...         ...     ...        ...  ...   ...  \n552248        8.94      83.0  1640897593       1       1253    3    12  \n552249        8.94      83.0  1640897835       1       1257    3    12  \n552250        8.05      84.0  1640898086       1       1261    3    12  \n552251        8.05      84.0  1640900918       1       1309    3    12  \n552252        8.05      81.0  1640903200       1       1347    3    12  \n\n[552253 rows x 18 columns]",
      "text/html": "<div>\n<style scoped>\n    .dataframe tbody tr th:only-of-type {\n        vertical-align: middle;\n    }\n\n    .dataframe tbody tr th {\n        vertical-align: top;\n    }\n\n    .dataframe thead th {\n        text-align: right;\n    }\n</style>\n<table border=\"1\" class=\"dataframe\">\n  <thead>\n    <tr style=\"text-align: right;\">\n      <th></th>\n      <th>bike_id</th>\n      <th>lat</th>\n      <th>lng</th>\n      <th>idle_time</th>\n      <th>time_start</th>\n      <th>time_end</th>\n      <th>end_station_number</th>\n      <th>hex_id</th>\n      <th>temp</th>\n      <th>rain</th>\n      <th>snow</th>\n      <th>wind_speed</th>\n      <th>humidity</th>\n      <th>dt_start</th>\n      <th>dt_end</th>\n      <th>start_min</th>\n      <th>day</th>\n      <th>month</th>\n    </tr>\n  </thead>\n  <tbody>\n    <tr>\n      <th>0</th>\n      <td>72165</td>\n      <td>51.351547</td>\n      <td>12.382658</td>\n      <td>1529</td>\n      <td>2020-12-31 23:21:34</td>\n      <td>1.609549e+09</td>\n      <td>0</td>\n      <td>881f1a8cb9fffff</td>\n      <td>2.72</td>\n      <td>0.00</td>\n      <td>0.0</td>\n      <td>4.02</td>\n      <td>72.0</td>\n      <td>1609456894</td>\n      <td>1</td>\n      <td>1402</td>\n      <td>3</td>\n      <td>12</td>\n    </tr>\n    <tr>\n      <th>1</th>\n      <td>75838</td>\n      <td>51.331022</td>\n      <td>12.316226</td>\n      <td>5519</td>\n      <td>2020-12-31 23:22:04</td>\n      <td>1.609788e+09</td>\n      <td>0</td>\n      <td>881f1a8dd7fffff</td>\n      <td>2.72</td>\n      <td>0.00</td>\n      <td>0.0</td>\n      <td>4.02</td>\n      <td>72.0</td>\n      <td>1609456924</td>\n      <td>1</td>\n      <td>1402</td>\n      <td>3</td>\n      <td>12</td>\n    </tr>\n    <tr>\n      <th>2</th>\n      <td>74466</td>\n      <td>51.355200</td>\n      <td>12.370664</td>\n      <td>86</td>\n      <td>2020-12-31 23:23:09</td>\n      <td>1.609462e+09</td>\n      <td>0</td>\n      <td>881f1a8c87fffff</td>\n      <td>2.72</td>\n      <td>0.00</td>\n      <td>0.0</td>\n      <td>4.02</td>\n      <td>72.0</td>\n      <td>1609456989</td>\n      <td>1</td>\n      <td>1403</td>\n      <td>3</td>\n      <td>12</td>\n    </tr>\n    <tr>\n      <th>3</th>\n      <td>73806</td>\n      <td>51.328693</td>\n      <td>12.346637</td>\n      <td>886</td>\n      <td>2020-12-31 23:25:41</td>\n      <td>1.609510e+09</td>\n      <td>0</td>\n      <td>881f1a164dfffff</td>\n      <td>2.72</td>\n      <td>0.00</td>\n      <td>0.0</td>\n      <td>4.02</td>\n      <td>72.0</td>\n      <td>1609457141</td>\n      <td>1</td>\n      <td>1406</td>\n      <td>3</td>\n      <td>12</td>\n    </tr>\n    <tr>\n      <th>4</th>\n      <td>75854</td>\n      <td>51.331707</td>\n      <td>12.371241</td>\n      <td>262</td>\n      <td>2020-12-31 23:37:01</td>\n      <td>1.609474e+09</td>\n      <td>0</td>\n      <td>881f1a164bfffff</td>\n      <td>2.72</td>\n      <td>0.00</td>\n      <td>0.0</td>\n      <td>4.02</td>\n      <td>72.0</td>\n      <td>1609457821</td>\n      <td>1</td>\n      <td>1417</td>\n      <td>3</td>\n      <td>12</td>\n    </tr>\n    <tr>\n      <th>...</th>\n      <td>...</td>\n      <td>...</td>\n      <td>...</td>\n      <td>...</td>\n      <td>...</td>\n      <td>...</td>\n      <td>...</td>\n      <td>...</td>\n      <td>...</td>\n      <td>...</td>\n      <td>...</td>\n      <td>...</td>\n      <td>...</td>\n      <td>...</td>\n      <td>...</td>\n      <td>...</td>\n      <td>...</td>\n      <td>...</td>\n    </tr>\n    <tr>\n      <th>552248</th>\n      <td>72058</td>\n      <td>51.317569</td>\n      <td>12.382730</td>\n      <td>112</td>\n      <td>2021-12-30 20:53:13</td>\n      <td>1.640904e+09</td>\n      <td>0</td>\n      <td>881f1a1609fffff</td>\n      <td>13.19</td>\n      <td>7.62</td>\n      <td>0.0</td>\n      <td>8.94</td>\n      <td>83.0</td>\n      <td>1640897593</td>\n      <td>1</td>\n      <td>1253</td>\n      <td>3</td>\n      <td>12</td>\n    </tr>\n    <tr>\n      <th>552249</th>\n      <td>71949</td>\n      <td>51.334711</td>\n      <td>12.356763</td>\n      <td>25</td>\n      <td>2021-12-30 20:57:15</td>\n      <td>1.640899e+09</td>\n      <td>0</td>\n      <td>881f1a1649fffff</td>\n      <td>13.19</td>\n      <td>7.62</td>\n      <td>0.0</td>\n      <td>8.94</td>\n      <td>83.0</td>\n      <td>1640897835</td>\n      <td>1</td>\n      <td>1257</td>\n      <td>3</td>\n      <td>12</td>\n    </tr>\n    <tr>\n      <th>552250</th>\n      <td>97785</td>\n      <td>51.367276</td>\n      <td>12.369792</td>\n      <td>48</td>\n      <td>2021-12-30 21:01:26</td>\n      <td>1.640901e+09</td>\n      <td>0</td>\n      <td>881f1a8c8bfffff</td>\n      <td>13.05</td>\n      <td>2.03</td>\n      <td>0.0</td>\n      <td>8.05</td>\n      <td>84.0</td>\n      <td>1640898086</td>\n      <td>1</td>\n      <td>1261</td>\n      <td>3</td>\n      <td>12</td>\n    </tr>\n    <tr>\n      <th>552251</th>\n      <td>41738</td>\n      <td>51.366942</td>\n      <td>12.370322</td>\n      <td>43</td>\n      <td>2021-12-30 21:48:38</td>\n      <td>1.640904e+09</td>\n      <td>0</td>\n      <td>881f1a8c8bfffff</td>\n      <td>13.05</td>\n      <td>2.03</td>\n      <td>0.0</td>\n      <td>8.05</td>\n      <td>84.0</td>\n      <td>1640900918</td>\n      <td>1</td>\n      <td>1309</td>\n      <td>3</td>\n      <td>12</td>\n    </tr>\n    <tr>\n      <th>552252</th>\n      <td>72028</td>\n      <td>51.332844</td>\n      <td>12.404319</td>\n      <td>32</td>\n      <td>2021-12-30 22:26:40</td>\n      <td>1.640905e+09</td>\n      <td>0</td>\n      <td>881f1a165bfffff</td>\n      <td>13.11</td>\n      <td>1.14</td>\n      <td>0.0</td>\n      <td>8.05</td>\n      <td>81.0</td>\n      <td>1640903200</td>\n      <td>1</td>\n      <td>1347</td>\n      <td>3</td>\n      <td>12</td>\n    </tr>\n  </tbody>\n</table>\n<p>552253 rows × 18 columns</p>\n</div>"
     },
     "execution_count": 124,
     "metadata": {},
     "output_type": "execute_result"
    }
   ],
   "source": [
    "df_points"
   ],
   "metadata": {
    "collapsed": false,
    "pycharm": {
     "name": "#%%\n"
    }
   }
  },
  {
   "cell_type": "markdown",
   "source": [
    "# Save"
   ],
   "metadata": {
    "collapsed": false
   }
  },
  {
   "cell_type": "markdown",
   "id": "209f3e6e",
   "metadata": {
    "pycharm": {
     "name": "#%% md\n"
    }
   },
   "source": [
    "df_points.to_csv('../data/df_points/df_points_2018.csv', index=False)"
   ]
  },
  {
   "cell_type": "markdown",
   "source": [
    "import pandas as pd\n",
    "df = pd.read_csv('../data/df_points/final_df_points_18_21.csv')\n",
    "df = df.sort_values(by=['dt_start'])"
   ],
   "metadata": {
    "collapsed": false,
    "pycharm": {
     "name": "#%% md\n"
    }
   }
  },
  {
   "cell_type": "markdown",
   "source": [
    "# Add year Feature"
   ],
   "metadata": {
    "collapsed": false
   }
  },
  {
   "cell_type": "code",
   "execution_count": 125,
   "outputs": [],
   "source": [
    "def add_year_feature(row):\n",
    "    return row['time_start'].year\n",
    "\n",
    "df_points['year'] = df_points.apply(add_year_feature,axis=1)"
   ],
   "metadata": {
    "collapsed": false,
    "pycharm": {
     "name": "#%%\n"
    }
   }
  },
  {
   "cell_type": "markdown",
   "source": [
    "# Add In_zone Feature"
   ],
   "metadata": {
    "collapsed": false
   }
  },
  {
   "cell_type": "code",
   "execution_count": 126,
   "outputs": [],
   "source": [
    "import os\n",
    "import json\n",
    "from shapely.geometry import shape, Point\n",
    "\n",
    "flexzones_0 = []\n",
    "flexzones_1 = []\n",
    "\n",
    "def save_flexzones():\n",
    "    # Flexzone 0 Euro\n",
    "    directory_name_0 = f'../flexzones/0/'\n",
    "    for file_name in os.listdir(directory_name_0):\n",
    "        path = os.path.join(directory_name_0, file_name)\n",
    "        if os.path.isfile(path):\n",
    "           with open(path) as f:\n",
    "                js = json.load(f)\n",
    "                for feature in js['features']:\n",
    "                    flexzones_0.append(feature)\n",
    "    # Flexzone 1 Euro\n",
    "    directory_name_1 = f'../flexzones/1/'\n",
    "    for file_name in os.listdir(directory_name_1):\n",
    "        path = os.path.join(directory_name_1, file_name)\n",
    "        if os.path.isfile(path):\n",
    "           with open(path) as f:\n",
    "                js = json.load(f)\n",
    "                for feature in js['features']:\n",
    "                    flexzones_1.append(feature)\n",
    "\n",
    "\n",
    "def point_in_polygons(row):\n",
    "    y = row['lat']  # y = 51.331305\n",
    "    x = row['lng']  # x = 12.344334\n",
    "\n",
    "    # switch x and y-axis bc. scapely woks on x plane\n",
    "    point = Point(x,y)\n",
    "\n",
    "    for feature0 in flexzones_0:\n",
    "        polygon = shape(feature0['geometry'])\n",
    "        if polygon.contains(point):\n",
    "            return feature0['properties']['name']\n",
    "\n",
    "    for feature1 in flexzones_1:\n",
    "        polygon = shape(feature1['geometry'])\n",
    "        if polygon.contains(point):\n",
    "            return feature1['properties']['name']\n",
    "    else: return 0"
   ],
   "metadata": {
    "collapsed": false,
    "pycharm": {
     "name": "#%%\n"
    }
   }
  },
  {
   "cell_type": "code",
   "execution_count": 127,
   "outputs": [],
   "source": [
    "save_flexzones()"
   ],
   "metadata": {
    "collapsed": false,
    "pycharm": {
     "name": "#%%\n"
    }
   }
  },
  {
   "cell_type": "code",
   "execution_count": 128,
   "outputs": [],
   "source": [
    "df_points['zone_name'] = df_points.apply(point_in_polygons,axis=1)"
   ],
   "metadata": {
    "collapsed": false,
    "pycharm": {
     "name": "#%%\n"
    }
   }
  },
  {
   "cell_type": "code",
   "execution_count": 129,
   "outputs": [
    {
     "data": {
      "text/plain": "        bike_id        lat        lng  idle_time          time_start  \\\n0         72165  51.351547  12.382658       1529 2020-12-31 23:21:34   \n1         75838  51.331022  12.316226       5519 2020-12-31 23:22:04   \n2         74466  51.355200  12.370664         86 2020-12-31 23:23:09   \n3         73806  51.328693  12.346637        886 2020-12-31 23:25:41   \n4         75854  51.331707  12.371241        262 2020-12-31 23:37:01   \n...         ...        ...        ...        ...                 ...   \n552248    72058  51.317569  12.382730        112 2021-12-30 20:53:13   \n552249    71949  51.334711  12.356763         25 2021-12-30 20:57:15   \n552250    97785  51.367276  12.369792         48 2021-12-30 21:01:26   \n552251    41738  51.366942  12.370322         43 2021-12-30 21:48:38   \n552252    72028  51.332844  12.404319         32 2021-12-30 22:26:40   \n\n            time_end  end_station_number           hex_id   temp  rain  snow  \\\n0       1.609549e+09                   0  881f1a8cb9fffff   2.72  0.00   0.0   \n1       1.609788e+09                   0  881f1a8dd7fffff   2.72  0.00   0.0   \n2       1.609462e+09                   0  881f1a8c87fffff   2.72  0.00   0.0   \n3       1.609510e+09                   0  881f1a164dfffff   2.72  0.00   0.0   \n4       1.609474e+09                   0  881f1a164bfffff   2.72  0.00   0.0   \n...              ...                 ...              ...    ...   ...   ...   \n552248  1.640904e+09                   0  881f1a1609fffff  13.19  7.62   0.0   \n552249  1.640899e+09                   0  881f1a1649fffff  13.19  7.62   0.0   \n552250  1.640901e+09                   0  881f1a8c8bfffff  13.05  2.03   0.0   \n552251  1.640904e+09                   0  881f1a8c8bfffff  13.05  2.03   0.0   \n552252  1.640905e+09                   0  881f1a165bfffff  13.11  1.14   0.0   \n\n        wind_speed  humidity    dt_start  dt_end  start_min  day month  year  \\\n0             4.02      72.0  1609456894       1       1402    3    12  2020   \n1             4.02      72.0  1609456924       1       1402    3    12  2020   \n2             4.02      72.0  1609456989       1       1403    3    12  2020   \n3             4.02      72.0  1609457141       1       1406    3    12  2020   \n4             4.02      72.0  1609457821       1       1417    3    12  2020   \n...            ...       ...         ...     ...        ...  ...   ...   ...   \n552248        8.94      83.0  1640897593       1       1253    3    12  2021   \n552249        8.94      83.0  1640897835       1       1257    3    12  2021   \n552250        8.05      84.0  1640898086       1       1261    3    12  2021   \n552251        8.05      84.0  1640900918       1       1309    3    12  2021   \n552252        8.05      81.0  1640903200       1       1347    3    12  2021   \n\n                         zone_name  \n0                                0  \n1       Pinke Zone Leipzig West 1€  \n2        Pinke Zone Leipzig Ost 1€  \n3                                0  \n4        Blaue Zone Leipzig Ost 0€  \n...                            ...  \n552248   Blaue Zone Leipzig Ost 0€  \n552249   Pinke Zone Leipzig Ost 1€  \n552250   Blaue Zone Leipzig Ost 0€  \n552251   Pinke Zone Leipzig Ost 1€  \n552252   Blaue Zone Leipzig Ost 0€  \n\n[552253 rows x 20 columns]",
      "text/html": "<div>\n<style scoped>\n    .dataframe tbody tr th:only-of-type {\n        vertical-align: middle;\n    }\n\n    .dataframe tbody tr th {\n        vertical-align: top;\n    }\n\n    .dataframe thead th {\n        text-align: right;\n    }\n</style>\n<table border=\"1\" class=\"dataframe\">\n  <thead>\n    <tr style=\"text-align: right;\">\n      <th></th>\n      <th>bike_id</th>\n      <th>lat</th>\n      <th>lng</th>\n      <th>idle_time</th>\n      <th>time_start</th>\n      <th>time_end</th>\n      <th>end_station_number</th>\n      <th>hex_id</th>\n      <th>temp</th>\n      <th>rain</th>\n      <th>snow</th>\n      <th>wind_speed</th>\n      <th>humidity</th>\n      <th>dt_start</th>\n      <th>dt_end</th>\n      <th>start_min</th>\n      <th>day</th>\n      <th>month</th>\n      <th>year</th>\n      <th>zone_name</th>\n    </tr>\n  </thead>\n  <tbody>\n    <tr>\n      <th>0</th>\n      <td>72165</td>\n      <td>51.351547</td>\n      <td>12.382658</td>\n      <td>1529</td>\n      <td>2020-12-31 23:21:34</td>\n      <td>1.609549e+09</td>\n      <td>0</td>\n      <td>881f1a8cb9fffff</td>\n      <td>2.72</td>\n      <td>0.00</td>\n      <td>0.0</td>\n      <td>4.02</td>\n      <td>72.0</td>\n      <td>1609456894</td>\n      <td>1</td>\n      <td>1402</td>\n      <td>3</td>\n      <td>12</td>\n      <td>2020</td>\n      <td>0</td>\n    </tr>\n    <tr>\n      <th>1</th>\n      <td>75838</td>\n      <td>51.331022</td>\n      <td>12.316226</td>\n      <td>5519</td>\n      <td>2020-12-31 23:22:04</td>\n      <td>1.609788e+09</td>\n      <td>0</td>\n      <td>881f1a8dd7fffff</td>\n      <td>2.72</td>\n      <td>0.00</td>\n      <td>0.0</td>\n      <td>4.02</td>\n      <td>72.0</td>\n      <td>1609456924</td>\n      <td>1</td>\n      <td>1402</td>\n      <td>3</td>\n      <td>12</td>\n      <td>2020</td>\n      <td>Pinke Zone Leipzig West 1€</td>\n    </tr>\n    <tr>\n      <th>2</th>\n      <td>74466</td>\n      <td>51.355200</td>\n      <td>12.370664</td>\n      <td>86</td>\n      <td>2020-12-31 23:23:09</td>\n      <td>1.609462e+09</td>\n      <td>0</td>\n      <td>881f1a8c87fffff</td>\n      <td>2.72</td>\n      <td>0.00</td>\n      <td>0.0</td>\n      <td>4.02</td>\n      <td>72.0</td>\n      <td>1609456989</td>\n      <td>1</td>\n      <td>1403</td>\n      <td>3</td>\n      <td>12</td>\n      <td>2020</td>\n      <td>Pinke Zone Leipzig Ost 1€</td>\n    </tr>\n    <tr>\n      <th>3</th>\n      <td>73806</td>\n      <td>51.328693</td>\n      <td>12.346637</td>\n      <td>886</td>\n      <td>2020-12-31 23:25:41</td>\n      <td>1.609510e+09</td>\n      <td>0</td>\n      <td>881f1a164dfffff</td>\n      <td>2.72</td>\n      <td>0.00</td>\n      <td>0.0</td>\n      <td>4.02</td>\n      <td>72.0</td>\n      <td>1609457141</td>\n      <td>1</td>\n      <td>1406</td>\n      <td>3</td>\n      <td>12</td>\n      <td>2020</td>\n      <td>0</td>\n    </tr>\n    <tr>\n      <th>4</th>\n      <td>75854</td>\n      <td>51.331707</td>\n      <td>12.371241</td>\n      <td>262</td>\n      <td>2020-12-31 23:37:01</td>\n      <td>1.609474e+09</td>\n      <td>0</td>\n      <td>881f1a164bfffff</td>\n      <td>2.72</td>\n      <td>0.00</td>\n      <td>0.0</td>\n      <td>4.02</td>\n      <td>72.0</td>\n      <td>1609457821</td>\n      <td>1</td>\n      <td>1417</td>\n      <td>3</td>\n      <td>12</td>\n      <td>2020</td>\n      <td>Blaue Zone Leipzig Ost 0€</td>\n    </tr>\n    <tr>\n      <th>...</th>\n      <td>...</td>\n      <td>...</td>\n      <td>...</td>\n      <td>...</td>\n      <td>...</td>\n      <td>...</td>\n      <td>...</td>\n      <td>...</td>\n      <td>...</td>\n      <td>...</td>\n      <td>...</td>\n      <td>...</td>\n      <td>...</td>\n      <td>...</td>\n      <td>...</td>\n      <td>...</td>\n      <td>...</td>\n      <td>...</td>\n      <td>...</td>\n      <td>...</td>\n    </tr>\n    <tr>\n      <th>552248</th>\n      <td>72058</td>\n      <td>51.317569</td>\n      <td>12.382730</td>\n      <td>112</td>\n      <td>2021-12-30 20:53:13</td>\n      <td>1.640904e+09</td>\n      <td>0</td>\n      <td>881f1a1609fffff</td>\n      <td>13.19</td>\n      <td>7.62</td>\n      <td>0.0</td>\n      <td>8.94</td>\n      <td>83.0</td>\n      <td>1640897593</td>\n      <td>1</td>\n      <td>1253</td>\n      <td>3</td>\n      <td>12</td>\n      <td>2021</td>\n      <td>Blaue Zone Leipzig Ost 0€</td>\n    </tr>\n    <tr>\n      <th>552249</th>\n      <td>71949</td>\n      <td>51.334711</td>\n      <td>12.356763</td>\n      <td>25</td>\n      <td>2021-12-30 20:57:15</td>\n      <td>1.640899e+09</td>\n      <td>0</td>\n      <td>881f1a1649fffff</td>\n      <td>13.19</td>\n      <td>7.62</td>\n      <td>0.0</td>\n      <td>8.94</td>\n      <td>83.0</td>\n      <td>1640897835</td>\n      <td>1</td>\n      <td>1257</td>\n      <td>3</td>\n      <td>12</td>\n      <td>2021</td>\n      <td>Pinke Zone Leipzig Ost 1€</td>\n    </tr>\n    <tr>\n      <th>552250</th>\n      <td>97785</td>\n      <td>51.367276</td>\n      <td>12.369792</td>\n      <td>48</td>\n      <td>2021-12-30 21:01:26</td>\n      <td>1.640901e+09</td>\n      <td>0</td>\n      <td>881f1a8c8bfffff</td>\n      <td>13.05</td>\n      <td>2.03</td>\n      <td>0.0</td>\n      <td>8.05</td>\n      <td>84.0</td>\n      <td>1640898086</td>\n      <td>1</td>\n      <td>1261</td>\n      <td>3</td>\n      <td>12</td>\n      <td>2021</td>\n      <td>Blaue Zone Leipzig Ost 0€</td>\n    </tr>\n    <tr>\n      <th>552251</th>\n      <td>41738</td>\n      <td>51.366942</td>\n      <td>12.370322</td>\n      <td>43</td>\n      <td>2021-12-30 21:48:38</td>\n      <td>1.640904e+09</td>\n      <td>0</td>\n      <td>881f1a8c8bfffff</td>\n      <td>13.05</td>\n      <td>2.03</td>\n      <td>0.0</td>\n      <td>8.05</td>\n      <td>84.0</td>\n      <td>1640900918</td>\n      <td>1</td>\n      <td>1309</td>\n      <td>3</td>\n      <td>12</td>\n      <td>2021</td>\n      <td>Pinke Zone Leipzig Ost 1€</td>\n    </tr>\n    <tr>\n      <th>552252</th>\n      <td>72028</td>\n      <td>51.332844</td>\n      <td>12.404319</td>\n      <td>32</td>\n      <td>2021-12-30 22:26:40</td>\n      <td>1.640905e+09</td>\n      <td>0</td>\n      <td>881f1a165bfffff</td>\n      <td>13.11</td>\n      <td>1.14</td>\n      <td>0.0</td>\n      <td>8.05</td>\n      <td>81.0</td>\n      <td>1640903200</td>\n      <td>1</td>\n      <td>1347</td>\n      <td>3</td>\n      <td>12</td>\n      <td>2021</td>\n      <td>Blaue Zone Leipzig Ost 0€</td>\n    </tr>\n  </tbody>\n</table>\n<p>552253 rows × 20 columns</p>\n</div>"
     },
     "execution_count": 129,
     "metadata": {},
     "output_type": "execute_result"
    }
   ],
   "source": [
    "df_points"
   ],
   "metadata": {
    "collapsed": false,
    "pycharm": {
     "name": "#%%\n"
    }
   }
  },
  {
   "cell_type": "code",
   "execution_count": 130,
   "outputs": [],
   "source": [
    "def in_zone(row):\n",
    "    if row['zone_name'] != 0:\n",
    "        return 1\n",
    "    else: return 0\n",
    "\n",
    "df_points['in_zone'] = df_points.apply(in_zone,axis=1)"
   ],
   "metadata": {
    "collapsed": false,
    "pycharm": {
     "name": "#%%\n"
    }
   }
  },
  {
   "cell_type": "code",
   "execution_count": 131,
   "outputs": [
    {
     "data": {
      "text/plain": "        bike_id        lat        lng  idle_time          time_start  \\\n0         72165  51.351547  12.382658       1529 2020-12-31 23:21:34   \n1         75838  51.331022  12.316226       5519 2020-12-31 23:22:04   \n2         74466  51.355200  12.370664         86 2020-12-31 23:23:09   \n3         73806  51.328693  12.346637        886 2020-12-31 23:25:41   \n4         75854  51.331707  12.371241        262 2020-12-31 23:37:01   \n...         ...        ...        ...        ...                 ...   \n552248    72058  51.317569  12.382730        112 2021-12-30 20:53:13   \n552249    71949  51.334711  12.356763         25 2021-12-30 20:57:15   \n552250    97785  51.367276  12.369792         48 2021-12-30 21:01:26   \n552251    41738  51.366942  12.370322         43 2021-12-30 21:48:38   \n552252    72028  51.332844  12.404319         32 2021-12-30 22:26:40   \n\n            time_end  end_station_number           hex_id   temp  rain  ...  \\\n0       1.609549e+09                   0  881f1a8cb9fffff   2.72  0.00  ...   \n1       1.609788e+09                   0  881f1a8dd7fffff   2.72  0.00  ...   \n2       1.609462e+09                   0  881f1a8c87fffff   2.72  0.00  ...   \n3       1.609510e+09                   0  881f1a164dfffff   2.72  0.00  ...   \n4       1.609474e+09                   0  881f1a164bfffff   2.72  0.00  ...   \n...              ...                 ...              ...    ...   ...  ...   \n552248  1.640904e+09                   0  881f1a1609fffff  13.19  7.62  ...   \n552249  1.640899e+09                   0  881f1a1649fffff  13.19  7.62  ...   \n552250  1.640901e+09                   0  881f1a8c8bfffff  13.05  2.03  ...   \n552251  1.640904e+09                   0  881f1a8c8bfffff  13.05  2.03  ...   \n552252  1.640905e+09                   0  881f1a165bfffff  13.11  1.14  ...   \n\n        wind_speed  humidity    dt_start  dt_end  start_min  day  month  year  \\\n0             4.02      72.0  1609456894       1       1402    3     12  2020   \n1             4.02      72.0  1609456924       1       1402    3     12  2020   \n2             4.02      72.0  1609456989       1       1403    3     12  2020   \n3             4.02      72.0  1609457141       1       1406    3     12  2020   \n4             4.02      72.0  1609457821       1       1417    3     12  2020   \n...            ...       ...         ...     ...        ...  ...    ...   ...   \n552248        8.94      83.0  1640897593       1       1253    3     12  2021   \n552249        8.94      83.0  1640897835       1       1257    3     12  2021   \n552250        8.05      84.0  1640898086       1       1261    3     12  2021   \n552251        8.05      84.0  1640900918       1       1309    3     12  2021   \n552252        8.05      81.0  1640903200       1       1347    3     12  2021   \n\n                         zone_name in_zone  \n0                                0       0  \n1       Pinke Zone Leipzig West 1€       1  \n2        Pinke Zone Leipzig Ost 1€       1  \n3                                0       0  \n4        Blaue Zone Leipzig Ost 0€       1  \n...                            ...     ...  \n552248   Blaue Zone Leipzig Ost 0€       1  \n552249   Pinke Zone Leipzig Ost 1€       1  \n552250   Blaue Zone Leipzig Ost 0€       1  \n552251   Pinke Zone Leipzig Ost 1€       1  \n552252   Blaue Zone Leipzig Ost 0€       1  \n\n[552253 rows x 21 columns]",
      "text/html": "<div>\n<style scoped>\n    .dataframe tbody tr th:only-of-type {\n        vertical-align: middle;\n    }\n\n    .dataframe tbody tr th {\n        vertical-align: top;\n    }\n\n    .dataframe thead th {\n        text-align: right;\n    }\n</style>\n<table border=\"1\" class=\"dataframe\">\n  <thead>\n    <tr style=\"text-align: right;\">\n      <th></th>\n      <th>bike_id</th>\n      <th>lat</th>\n      <th>lng</th>\n      <th>idle_time</th>\n      <th>time_start</th>\n      <th>time_end</th>\n      <th>end_station_number</th>\n      <th>hex_id</th>\n      <th>temp</th>\n      <th>rain</th>\n      <th>...</th>\n      <th>wind_speed</th>\n      <th>humidity</th>\n      <th>dt_start</th>\n      <th>dt_end</th>\n      <th>start_min</th>\n      <th>day</th>\n      <th>month</th>\n      <th>year</th>\n      <th>zone_name</th>\n      <th>in_zone</th>\n    </tr>\n  </thead>\n  <tbody>\n    <tr>\n      <th>0</th>\n      <td>72165</td>\n      <td>51.351547</td>\n      <td>12.382658</td>\n      <td>1529</td>\n      <td>2020-12-31 23:21:34</td>\n      <td>1.609549e+09</td>\n      <td>0</td>\n      <td>881f1a8cb9fffff</td>\n      <td>2.72</td>\n      <td>0.00</td>\n      <td>...</td>\n      <td>4.02</td>\n      <td>72.0</td>\n      <td>1609456894</td>\n      <td>1</td>\n      <td>1402</td>\n      <td>3</td>\n      <td>12</td>\n      <td>2020</td>\n      <td>0</td>\n      <td>0</td>\n    </tr>\n    <tr>\n      <th>1</th>\n      <td>75838</td>\n      <td>51.331022</td>\n      <td>12.316226</td>\n      <td>5519</td>\n      <td>2020-12-31 23:22:04</td>\n      <td>1.609788e+09</td>\n      <td>0</td>\n      <td>881f1a8dd7fffff</td>\n      <td>2.72</td>\n      <td>0.00</td>\n      <td>...</td>\n      <td>4.02</td>\n      <td>72.0</td>\n      <td>1609456924</td>\n      <td>1</td>\n      <td>1402</td>\n      <td>3</td>\n      <td>12</td>\n      <td>2020</td>\n      <td>Pinke Zone Leipzig West 1€</td>\n      <td>1</td>\n    </tr>\n    <tr>\n      <th>2</th>\n      <td>74466</td>\n      <td>51.355200</td>\n      <td>12.370664</td>\n      <td>86</td>\n      <td>2020-12-31 23:23:09</td>\n      <td>1.609462e+09</td>\n      <td>0</td>\n      <td>881f1a8c87fffff</td>\n      <td>2.72</td>\n      <td>0.00</td>\n      <td>...</td>\n      <td>4.02</td>\n      <td>72.0</td>\n      <td>1609456989</td>\n      <td>1</td>\n      <td>1403</td>\n      <td>3</td>\n      <td>12</td>\n      <td>2020</td>\n      <td>Pinke Zone Leipzig Ost 1€</td>\n      <td>1</td>\n    </tr>\n    <tr>\n      <th>3</th>\n      <td>73806</td>\n      <td>51.328693</td>\n      <td>12.346637</td>\n      <td>886</td>\n      <td>2020-12-31 23:25:41</td>\n      <td>1.609510e+09</td>\n      <td>0</td>\n      <td>881f1a164dfffff</td>\n      <td>2.72</td>\n      <td>0.00</td>\n      <td>...</td>\n      <td>4.02</td>\n      <td>72.0</td>\n      <td>1609457141</td>\n      <td>1</td>\n      <td>1406</td>\n      <td>3</td>\n      <td>12</td>\n      <td>2020</td>\n      <td>0</td>\n      <td>0</td>\n    </tr>\n    <tr>\n      <th>4</th>\n      <td>75854</td>\n      <td>51.331707</td>\n      <td>12.371241</td>\n      <td>262</td>\n      <td>2020-12-31 23:37:01</td>\n      <td>1.609474e+09</td>\n      <td>0</td>\n      <td>881f1a164bfffff</td>\n      <td>2.72</td>\n      <td>0.00</td>\n      <td>...</td>\n      <td>4.02</td>\n      <td>72.0</td>\n      <td>1609457821</td>\n      <td>1</td>\n      <td>1417</td>\n      <td>3</td>\n      <td>12</td>\n      <td>2020</td>\n      <td>Blaue Zone Leipzig Ost 0€</td>\n      <td>1</td>\n    </tr>\n    <tr>\n      <th>...</th>\n      <td>...</td>\n      <td>...</td>\n      <td>...</td>\n      <td>...</td>\n      <td>...</td>\n      <td>...</td>\n      <td>...</td>\n      <td>...</td>\n      <td>...</td>\n      <td>...</td>\n      <td>...</td>\n      <td>...</td>\n      <td>...</td>\n      <td>...</td>\n      <td>...</td>\n      <td>...</td>\n      <td>...</td>\n      <td>...</td>\n      <td>...</td>\n      <td>...</td>\n      <td>...</td>\n    </tr>\n    <tr>\n      <th>552248</th>\n      <td>72058</td>\n      <td>51.317569</td>\n      <td>12.382730</td>\n      <td>112</td>\n      <td>2021-12-30 20:53:13</td>\n      <td>1.640904e+09</td>\n      <td>0</td>\n      <td>881f1a1609fffff</td>\n      <td>13.19</td>\n      <td>7.62</td>\n      <td>...</td>\n      <td>8.94</td>\n      <td>83.0</td>\n      <td>1640897593</td>\n      <td>1</td>\n      <td>1253</td>\n      <td>3</td>\n      <td>12</td>\n      <td>2021</td>\n      <td>Blaue Zone Leipzig Ost 0€</td>\n      <td>1</td>\n    </tr>\n    <tr>\n      <th>552249</th>\n      <td>71949</td>\n      <td>51.334711</td>\n      <td>12.356763</td>\n      <td>25</td>\n      <td>2021-12-30 20:57:15</td>\n      <td>1.640899e+09</td>\n      <td>0</td>\n      <td>881f1a1649fffff</td>\n      <td>13.19</td>\n      <td>7.62</td>\n      <td>...</td>\n      <td>8.94</td>\n      <td>83.0</td>\n      <td>1640897835</td>\n      <td>1</td>\n      <td>1257</td>\n      <td>3</td>\n      <td>12</td>\n      <td>2021</td>\n      <td>Pinke Zone Leipzig Ost 1€</td>\n      <td>1</td>\n    </tr>\n    <tr>\n      <th>552250</th>\n      <td>97785</td>\n      <td>51.367276</td>\n      <td>12.369792</td>\n      <td>48</td>\n      <td>2021-12-30 21:01:26</td>\n      <td>1.640901e+09</td>\n      <td>0</td>\n      <td>881f1a8c8bfffff</td>\n      <td>13.05</td>\n      <td>2.03</td>\n      <td>...</td>\n      <td>8.05</td>\n      <td>84.0</td>\n      <td>1640898086</td>\n      <td>1</td>\n      <td>1261</td>\n      <td>3</td>\n      <td>12</td>\n      <td>2021</td>\n      <td>Blaue Zone Leipzig Ost 0€</td>\n      <td>1</td>\n    </tr>\n    <tr>\n      <th>552251</th>\n      <td>41738</td>\n      <td>51.366942</td>\n      <td>12.370322</td>\n      <td>43</td>\n      <td>2021-12-30 21:48:38</td>\n      <td>1.640904e+09</td>\n      <td>0</td>\n      <td>881f1a8c8bfffff</td>\n      <td>13.05</td>\n      <td>2.03</td>\n      <td>...</td>\n      <td>8.05</td>\n      <td>84.0</td>\n      <td>1640900918</td>\n      <td>1</td>\n      <td>1309</td>\n      <td>3</td>\n      <td>12</td>\n      <td>2021</td>\n      <td>Pinke Zone Leipzig Ost 1€</td>\n      <td>1</td>\n    </tr>\n    <tr>\n      <th>552252</th>\n      <td>72028</td>\n      <td>51.332844</td>\n      <td>12.404319</td>\n      <td>32</td>\n      <td>2021-12-30 22:26:40</td>\n      <td>1.640905e+09</td>\n      <td>0</td>\n      <td>881f1a165bfffff</td>\n      <td>13.11</td>\n      <td>1.14</td>\n      <td>...</td>\n      <td>8.05</td>\n      <td>81.0</td>\n      <td>1640903200</td>\n      <td>1</td>\n      <td>1347</td>\n      <td>3</td>\n      <td>12</td>\n      <td>2021</td>\n      <td>Blaue Zone Leipzig Ost 0€</td>\n      <td>1</td>\n    </tr>\n  </tbody>\n</table>\n<p>552253 rows × 21 columns</p>\n</div>"
     },
     "execution_count": 131,
     "metadata": {},
     "output_type": "execute_result"
    }
   ],
   "source": [
    "df_points"
   ],
   "metadata": {
    "collapsed": false,
    "pycharm": {
     "name": "#%%\n"
    }
   }
  },
  {
   "cell_type": "code",
   "execution_count": 132,
   "outputs": [
    {
     "data": {
      "text/plain": "        bike_id        lat        lng    dt_start  dt_end           hex_id  \\\n0         72165  51.351547  12.382658  1609456894       1  881f1a8cb9fffff   \n1         75838  51.331022  12.316226  1609456924       1  881f1a8dd7fffff   \n2         74466  51.355200  12.370664  1609456989       1  881f1a8c87fffff   \n3         73806  51.328693  12.346637  1609457141       1  881f1a164dfffff   \n4         75854  51.331707  12.371241  1609457821       1  881f1a164bfffff   \n...         ...        ...        ...         ...     ...              ...   \n552248    72058  51.317569  12.382730  1640897593       1  881f1a1609fffff   \n552249    71949  51.334711  12.356763  1640897835       1  881f1a1649fffff   \n552250    97785  51.367276  12.369792  1640898086       1  881f1a8c8bfffff   \n552251    41738  51.366942  12.370322  1640900918       1  881f1a8c8bfffff   \n552252    72028  51.332844  12.404319  1640903200       1  881f1a165bfffff   \n\n        in_zone                   zone_name  end_station_number   temp  rain  \\\n0             0                           0                   0   2.72  0.00   \n1             1  Pinke Zone Leipzig West 1€                   0   2.72  0.00   \n2             1   Pinke Zone Leipzig Ost 1€                   0   2.72  0.00   \n3             0                           0                   0   2.72  0.00   \n4             1   Blaue Zone Leipzig Ost 0€                   0   2.72  0.00   \n...         ...                         ...                 ...    ...   ...   \n552248        1   Blaue Zone Leipzig Ost 0€                   0  13.19  7.62   \n552249        1   Pinke Zone Leipzig Ost 1€                   0  13.19  7.62   \n552250        1   Blaue Zone Leipzig Ost 0€                   0  13.05  2.03   \n552251        1   Pinke Zone Leipzig Ost 1€                   0  13.05  2.03   \n552252        1   Blaue Zone Leipzig Ost 0€                   0  13.11  1.14   \n\n        snow  wind_speed  humidity  year month  day  start_min  idle_time  \n0        0.0        4.02      72.0  2020    12    3       1402       1529  \n1        0.0        4.02      72.0  2020    12    3       1402       5519  \n2        0.0        4.02      72.0  2020    12    3       1403         86  \n3        0.0        4.02      72.0  2020    12    3       1406        886  \n4        0.0        4.02      72.0  2020    12    3       1417        262  \n...      ...         ...       ...   ...   ...  ...        ...        ...  \n552248   0.0        8.94      83.0  2021    12    3       1253        112  \n552249   0.0        8.94      83.0  2021    12    3       1257         25  \n552250   0.0        8.05      84.0  2021    12    3       1261         48  \n552251   0.0        8.05      84.0  2021    12    3       1309         43  \n552252   0.0        8.05      81.0  2021    12    3       1347         32  \n\n[552253 rows x 19 columns]",
      "text/html": "<div>\n<style scoped>\n    .dataframe tbody tr th:only-of-type {\n        vertical-align: middle;\n    }\n\n    .dataframe tbody tr th {\n        vertical-align: top;\n    }\n\n    .dataframe thead th {\n        text-align: right;\n    }\n</style>\n<table border=\"1\" class=\"dataframe\">\n  <thead>\n    <tr style=\"text-align: right;\">\n      <th></th>\n      <th>bike_id</th>\n      <th>lat</th>\n      <th>lng</th>\n      <th>dt_start</th>\n      <th>dt_end</th>\n      <th>hex_id</th>\n      <th>in_zone</th>\n      <th>zone_name</th>\n      <th>end_station_number</th>\n      <th>temp</th>\n      <th>rain</th>\n      <th>snow</th>\n      <th>wind_speed</th>\n      <th>humidity</th>\n      <th>year</th>\n      <th>month</th>\n      <th>day</th>\n      <th>start_min</th>\n      <th>idle_time</th>\n    </tr>\n  </thead>\n  <tbody>\n    <tr>\n      <th>0</th>\n      <td>72165</td>\n      <td>51.351547</td>\n      <td>12.382658</td>\n      <td>1609456894</td>\n      <td>1</td>\n      <td>881f1a8cb9fffff</td>\n      <td>0</td>\n      <td>0</td>\n      <td>0</td>\n      <td>2.72</td>\n      <td>0.00</td>\n      <td>0.0</td>\n      <td>4.02</td>\n      <td>72.0</td>\n      <td>2020</td>\n      <td>12</td>\n      <td>3</td>\n      <td>1402</td>\n      <td>1529</td>\n    </tr>\n    <tr>\n      <th>1</th>\n      <td>75838</td>\n      <td>51.331022</td>\n      <td>12.316226</td>\n      <td>1609456924</td>\n      <td>1</td>\n      <td>881f1a8dd7fffff</td>\n      <td>1</td>\n      <td>Pinke Zone Leipzig West 1€</td>\n      <td>0</td>\n      <td>2.72</td>\n      <td>0.00</td>\n      <td>0.0</td>\n      <td>4.02</td>\n      <td>72.0</td>\n      <td>2020</td>\n      <td>12</td>\n      <td>3</td>\n      <td>1402</td>\n      <td>5519</td>\n    </tr>\n    <tr>\n      <th>2</th>\n      <td>74466</td>\n      <td>51.355200</td>\n      <td>12.370664</td>\n      <td>1609456989</td>\n      <td>1</td>\n      <td>881f1a8c87fffff</td>\n      <td>1</td>\n      <td>Pinke Zone Leipzig Ost 1€</td>\n      <td>0</td>\n      <td>2.72</td>\n      <td>0.00</td>\n      <td>0.0</td>\n      <td>4.02</td>\n      <td>72.0</td>\n      <td>2020</td>\n      <td>12</td>\n      <td>3</td>\n      <td>1403</td>\n      <td>86</td>\n    </tr>\n    <tr>\n      <th>3</th>\n      <td>73806</td>\n      <td>51.328693</td>\n      <td>12.346637</td>\n      <td>1609457141</td>\n      <td>1</td>\n      <td>881f1a164dfffff</td>\n      <td>0</td>\n      <td>0</td>\n      <td>0</td>\n      <td>2.72</td>\n      <td>0.00</td>\n      <td>0.0</td>\n      <td>4.02</td>\n      <td>72.0</td>\n      <td>2020</td>\n      <td>12</td>\n      <td>3</td>\n      <td>1406</td>\n      <td>886</td>\n    </tr>\n    <tr>\n      <th>4</th>\n      <td>75854</td>\n      <td>51.331707</td>\n      <td>12.371241</td>\n      <td>1609457821</td>\n      <td>1</td>\n      <td>881f1a164bfffff</td>\n      <td>1</td>\n      <td>Blaue Zone Leipzig Ost 0€</td>\n      <td>0</td>\n      <td>2.72</td>\n      <td>0.00</td>\n      <td>0.0</td>\n      <td>4.02</td>\n      <td>72.0</td>\n      <td>2020</td>\n      <td>12</td>\n      <td>3</td>\n      <td>1417</td>\n      <td>262</td>\n    </tr>\n    <tr>\n      <th>...</th>\n      <td>...</td>\n      <td>...</td>\n      <td>...</td>\n      <td>...</td>\n      <td>...</td>\n      <td>...</td>\n      <td>...</td>\n      <td>...</td>\n      <td>...</td>\n      <td>...</td>\n      <td>...</td>\n      <td>...</td>\n      <td>...</td>\n      <td>...</td>\n      <td>...</td>\n      <td>...</td>\n      <td>...</td>\n      <td>...</td>\n      <td>...</td>\n    </tr>\n    <tr>\n      <th>552248</th>\n      <td>72058</td>\n      <td>51.317569</td>\n      <td>12.382730</td>\n      <td>1640897593</td>\n      <td>1</td>\n      <td>881f1a1609fffff</td>\n      <td>1</td>\n      <td>Blaue Zone Leipzig Ost 0€</td>\n      <td>0</td>\n      <td>13.19</td>\n      <td>7.62</td>\n      <td>0.0</td>\n      <td>8.94</td>\n      <td>83.0</td>\n      <td>2021</td>\n      <td>12</td>\n      <td>3</td>\n      <td>1253</td>\n      <td>112</td>\n    </tr>\n    <tr>\n      <th>552249</th>\n      <td>71949</td>\n      <td>51.334711</td>\n      <td>12.356763</td>\n      <td>1640897835</td>\n      <td>1</td>\n      <td>881f1a1649fffff</td>\n      <td>1</td>\n      <td>Pinke Zone Leipzig Ost 1€</td>\n      <td>0</td>\n      <td>13.19</td>\n      <td>7.62</td>\n      <td>0.0</td>\n      <td>8.94</td>\n      <td>83.0</td>\n      <td>2021</td>\n      <td>12</td>\n      <td>3</td>\n      <td>1257</td>\n      <td>25</td>\n    </tr>\n    <tr>\n      <th>552250</th>\n      <td>97785</td>\n      <td>51.367276</td>\n      <td>12.369792</td>\n      <td>1640898086</td>\n      <td>1</td>\n      <td>881f1a8c8bfffff</td>\n      <td>1</td>\n      <td>Blaue Zone Leipzig Ost 0€</td>\n      <td>0</td>\n      <td>13.05</td>\n      <td>2.03</td>\n      <td>0.0</td>\n      <td>8.05</td>\n      <td>84.0</td>\n      <td>2021</td>\n      <td>12</td>\n      <td>3</td>\n      <td>1261</td>\n      <td>48</td>\n    </tr>\n    <tr>\n      <th>552251</th>\n      <td>41738</td>\n      <td>51.366942</td>\n      <td>12.370322</td>\n      <td>1640900918</td>\n      <td>1</td>\n      <td>881f1a8c8bfffff</td>\n      <td>1</td>\n      <td>Pinke Zone Leipzig Ost 1€</td>\n      <td>0</td>\n      <td>13.05</td>\n      <td>2.03</td>\n      <td>0.0</td>\n      <td>8.05</td>\n      <td>84.0</td>\n      <td>2021</td>\n      <td>12</td>\n      <td>3</td>\n      <td>1309</td>\n      <td>43</td>\n    </tr>\n    <tr>\n      <th>552252</th>\n      <td>72028</td>\n      <td>51.332844</td>\n      <td>12.404319</td>\n      <td>1640903200</td>\n      <td>1</td>\n      <td>881f1a165bfffff</td>\n      <td>1</td>\n      <td>Blaue Zone Leipzig Ost 0€</td>\n      <td>0</td>\n      <td>13.11</td>\n      <td>1.14</td>\n      <td>0.0</td>\n      <td>8.05</td>\n      <td>81.0</td>\n      <td>2021</td>\n      <td>12</td>\n      <td>3</td>\n      <td>1347</td>\n      <td>32</td>\n    </tr>\n  </tbody>\n</table>\n<p>552253 rows × 19 columns</p>\n</div>"
     },
     "execution_count": 132,
     "metadata": {},
     "output_type": "execute_result"
    }
   ],
   "source": [
    "df_points = df_points.reindex(columns=['bike_id', 'lat', 'lng', 'dt_start', 'dt_end', 'hex_id', 'in_zone', 'zone_name','end_station_number','temp', 'rain', 'snow', 'wind_speed', 'humidity', 'year','month', 'day', 'start_min', 'idle_time'])\n",
    "\n",
    "df_points = df_points.sort_values(by=['dt_start'])\n",
    "df_points"
   ],
   "metadata": {
    "collapsed": false,
    "pycharm": {
     "name": "#%%\n"
    }
   }
  },
  {
   "cell_type": "markdown",
   "source": [
    "# SAVE"
   ],
   "metadata": {
    "collapsed": false
   }
  },
  {
   "cell_type": "code",
   "execution_count": 133,
   "outputs": [],
   "source": [
    "times = ['<30min','<1h','<2h','<3h','<6h','<12h','<1d','<2d','<1w','>1w']\n",
    "numbers = [0,0,0,0,0,0,0,0,0,0]\n",
    "\n",
    "for ind in df_points.index:\n",
    "    idle = df_points['idle_time'][ind]\n",
    "    if (idle < 30):\n",
    "        numbers[0] += 1\n",
    "        continue\n",
    "    elif (idle < 60):\n",
    "        numbers[1] += 1\n",
    "        continue\n",
    "    elif (idle < 120):\n",
    "        numbers[2] += 1\n",
    "        continue\n",
    "    elif (idle < 180):\n",
    "        numbers[3] += 1\n",
    "        continue\n",
    "    elif (idle < 360):\n",
    "        numbers[4] += 1\n",
    "        continue\n",
    "    elif (idle < 720):\n",
    "        numbers[5] += 1\n",
    "        continue\n",
    "    elif (idle < 1440):\n",
    "        numbers[6] += 1\n",
    "        continue\n",
    "    elif (idle < 2880):\n",
    "        numbers[7] += 1\n",
    "        continue\n",
    "    elif (idle < 10080):\n",
    "        numbers[8] += 1\n",
    "        continue\n",
    "    else:\n",
    "        numbers[9] += 1\n",
    "        continue\n"
   ],
   "metadata": {
    "collapsed": false,
    "pycharm": {
     "name": "#%%\n"
    }
   }
  },
  {
   "cell_type": "code",
   "execution_count": 134,
   "outputs": [
    {
     "data": {
      "text/plain": "<Figure size 1080x360 with 1 Axes>",
      "image/png": "[encoded data removed]"
     },
     "metadata": {
      "needs_background": "light"
     },
     "output_type": "display_data"
    }
   ],
   "source": [
    "import matplotlib.pyplot as plt\n",
    "\n",
    "fig = plt.figure(figsize = (15, 5))\n",
    "plt.bar(times, numbers, width=0.4)\n",
    "\n",
    "plt.show()\n"
   ],
   "metadata": {
    "collapsed": false,
    "pycharm": {
     "name": "#%%\n"
    }
   }
  },
  {
   "cell_type": "code",
   "execution_count": 135,
   "outputs": [
    {
     "data": {
      "text/plain": "<AxesSubplot:>"
     },
     "execution_count": 135,
     "metadata": {},
     "output_type": "execute_result"
    },
    {
     "data": {
      "text/plain": "<Figure size 432x288 with 1 Axes>",
      "image/png": "[encoded data removed]"
     },
     "metadata": {
      "needs_background": "light"
     },
     "output_type": "display_data"
    }
   ],
   "source": [
    "dfbox = pd.DataFrame(df_points['idle_time'])\n",
    "dfbox.boxplot()"
   ],
   "metadata": {
    "collapsed": false,
    "pycharm": {
     "name": "#%%\n"
    }
   }
  },
  {
   "cell_type": "code",
   "execution_count": 136,
   "outputs": [
    {
     "data": {
      "text/plain": "      idle_time\n0.25       42.0\n0.50      136.0\n0.75      507.0\n1.00   161964.0",
      "text/html": "<div>\n<style scoped>\n    .dataframe tbody tr th:only-of-type {\n        vertical-align: middle;\n    }\n\n    .dataframe tbody tr th {\n        vertical-align: top;\n    }\n\n    .dataframe thead th {\n        text-align: right;\n    }\n</style>\n<table border=\"1\" class=\"dataframe\">\n  <thead>\n    <tr style=\"text-align: right;\">\n      <th></th>\n      <th>idle_time</th>\n    </tr>\n  </thead>\n  <tbody>\n    <tr>\n      <th>0.25</th>\n      <td>42.0</td>\n    </tr>\n    <tr>\n      <th>0.50</th>\n      <td>136.0</td>\n    </tr>\n    <tr>\n      <th>0.75</th>\n      <td>507.0</td>\n    </tr>\n    <tr>\n      <th>1.00</th>\n      <td>161964.0</td>\n    </tr>\n  </tbody>\n</table>\n</div>"
     },
     "execution_count": 136,
     "metadata": {},
     "output_type": "execute_result"
    }
   ],
   "source": [
    "dfbox.quantile([0.25,0.5,0.75,1])"
   ],
   "metadata": {
    "collapsed": false,
    "pycharm": {
     "name": "#%%\n"
    }
   }
  },
  {
   "cell_type": "code",
   "execution_count": 137,
   "outputs": [],
   "source": [
    "def f(row):\n",
    "    if row['idle_time'] < 42:\n",
    "        val = 1\n",
    "    elif row['idle_time'] < 136:\n",
    "        val = 2\n",
    "    elif row['idle_time'] < 507:\n",
    "        val = 3\n",
    "    else:\n",
    "        val = 4\n",
    "    return val\n",
    "\n",
    "df_points['idle_time_class'] = df_points.apply(f, axis=1)"
   ],
   "metadata": {
    "collapsed": false,
    "pycharm": {
     "name": "#%%\n"
    }
   }
  },
  {
   "cell_type": "code",
   "execution_count": 138,
   "outputs": [],
   "source": [
    "df_points.to_csv('../data/df_points_nosplit/df_points_2021.csv', index=False)"
   ],
   "metadata": {
    "collapsed": false,
    "pycharm": {
     "name": "#%%\n"
    }
   }
  },
  {
   "cell_type": "code",
   "execution_count": 139,
   "outputs": [
    {
     "data": {
      "text/plain": "   bike_id        lat        lng    dt_start  dt_end           hex_id  \\\n0    72165  51.351547  12.382658  1609456894       1  881f1a8cb9fffff   \n1    75838  51.331022  12.316226  1609456924       1  881f1a8dd7fffff   \n2    74466  51.355200  12.370664  1609456989       1  881f1a8c87fffff   \n3    73806  51.328693  12.346637  1609457141       1  881f1a164dfffff   \n4    75854  51.331707  12.371241  1609457821       1  881f1a164bfffff   \n\n   in_zone                   zone_name  end_station_number  temp  rain  snow  \\\n0        0                           0                   0  2.72   0.0   0.0   \n1        1  Pinke Zone Leipzig West 1€                   0  2.72   0.0   0.0   \n2        1   Pinke Zone Leipzig Ost 1€                   0  2.72   0.0   0.0   \n3        0                           0                   0  2.72   0.0   0.0   \n4        1   Blaue Zone Leipzig Ost 0€                   0  2.72   0.0   0.0   \n\n   wind_speed  humidity  year month  day  start_min  idle_time  \\\n0        4.02      72.0  2020    12    3       1402       1529   \n1        4.02      72.0  2020    12    3       1402       5519   \n2        4.02      72.0  2020    12    3       1403         86   \n3        4.02      72.0  2020    12    3       1406        886   \n4        4.02      72.0  2020    12    3       1417        262   \n\n   idle_time_class  \n0                4  \n1                4  \n2                2  \n3                4  \n4                3  ",
      "text/html": "<div>\n<style scoped>\n    .dataframe tbody tr th:only-of-type {\n        vertical-align: middle;\n    }\n\n    .dataframe tbody tr th {\n        vertical-align: top;\n    }\n\n    .dataframe thead th {\n        text-align: right;\n    }\n</style>\n<table border=\"1\" class=\"dataframe\">\n  <thead>\n    <tr style=\"text-align: right;\">\n      <th></th>\n      <th>bike_id</th>\n      <th>lat</th>\n      <th>lng</th>\n      <th>dt_start</th>\n      <th>dt_end</th>\n      <th>hex_id</th>\n      <th>in_zone</th>\n      <th>zone_name</th>\n      <th>end_station_number</th>\n      <th>temp</th>\n      <th>rain</th>\n      <th>snow</th>\n      <th>wind_speed</th>\n      <th>humidity</th>\n      <th>year</th>\n      <th>month</th>\n      <th>day</th>\n      <th>start_min</th>\n      <th>idle_time</th>\n      <th>idle_time_class</th>\n    </tr>\n  </thead>\n  <tbody>\n    <tr>\n      <th>0</th>\n      <td>72165</td>\n      <td>51.351547</td>\n      <td>12.382658</td>\n      <td>1609456894</td>\n      <td>1</td>\n      <td>881f1a8cb9fffff</td>\n      <td>0</td>\n      <td>0</td>\n      <td>0</td>\n      <td>2.72</td>\n      <td>0.0</td>\n      <td>0.0</td>\n      <td>4.02</td>\n      <td>72.0</td>\n      <td>2020</td>\n      <td>12</td>\n      <td>3</td>\n      <td>1402</td>\n      <td>1529</td>\n      <td>4</td>\n    </tr>\n    <tr>\n      <th>1</th>\n      <td>75838</td>\n      <td>51.331022</td>\n      <td>12.316226</td>\n      <td>1609456924</td>\n      <td>1</td>\n      <td>881f1a8dd7fffff</td>\n      <td>1</td>\n      <td>Pinke Zone Leipzig West 1€</td>\n      <td>0</td>\n      <td>2.72</td>\n      <td>0.0</td>\n      <td>0.0</td>\n      <td>4.02</td>\n      <td>72.0</td>\n      <td>2020</td>\n      <td>12</td>\n      <td>3</td>\n      <td>1402</td>\n      <td>5519</td>\n      <td>4</td>\n    </tr>\n    <tr>\n      <th>2</th>\n      <td>74466</td>\n      <td>51.355200</td>\n      <td>12.370664</td>\n      <td>1609456989</td>\n      <td>1</td>\n      <td>881f1a8c87fffff</td>\n      <td>1</td>\n      <td>Pinke Zone Leipzig Ost 1€</td>\n      <td>0</td>\n      <td>2.72</td>\n      <td>0.0</td>\n      <td>0.0</td>\n      <td>4.02</td>\n      <td>72.0</td>\n      <td>2020</td>\n      <td>12</td>\n      <td>3</td>\n      <td>1403</td>\n      <td>86</td>\n      <td>2</td>\n    </tr>\n    <tr>\n      <th>3</th>\n      <td>73806</td>\n      <td>51.328693</td>\n      <td>12.346637</td>\n      <td>1609457141</td>\n      <td>1</td>\n      <td>881f1a164dfffff</td>\n      <td>0</td>\n      <td>0</td>\n      <td>0</td>\n      <td>2.72</td>\n      <td>0.0</td>\n      <td>0.0</td>\n      <td>4.02</td>\n      <td>72.0</td>\n      <td>2020</td>\n      <td>12</td>\n      <td>3</td>\n      <td>1406</td>\n      <td>886</td>\n      <td>4</td>\n    </tr>\n    <tr>\n      <th>4</th>\n      <td>75854</td>\n      <td>51.331707</td>\n      <td>12.371241</td>\n      <td>1609457821</td>\n      <td>1</td>\n      <td>881f1a164bfffff</td>\n      <td>1</td>\n      <td>Blaue Zone Leipzig Ost 0€</td>\n      <td>0</td>\n      <td>2.72</td>\n      <td>0.0</td>\n      <td>0.0</td>\n      <td>4.02</td>\n      <td>72.0</td>\n      <td>2020</td>\n      <td>12</td>\n      <td>3</td>\n      <td>1417</td>\n      <td>262</td>\n      <td>3</td>\n    </tr>\n  </tbody>\n</table>\n</div>"
     },
     "execution_count": 139,
     "metadata": {},
     "output_type": "execute_result"
    }
   ],
   "source": [
    "df_points.head()"
   ],
   "metadata": {
    "collapsed": false,
    "pycharm": {
     "name": "#%%\n"
    }
   }
  },
  {
   "cell_type": "code",
   "execution_count": 139,
   "outputs": [],
   "source": [],
   "metadata": {
    "collapsed": false,
    "pycharm": {
     "name": "#%%\n"
    }
   }
  }
 ],
 "metadata": {
  "kernelspec": {
   "display_name": "Python 3 (ipykernel)",
   "language": "python",
   "name": "python3"
  },
  "language_info": {
   "codemirror_mode": {
    "name": "ipython",
    "version": 3
   },
   "file_extension": ".py",
   "mimetype": "text/x-python",
   "name": "python",
   "nbconvert_exporter": "python",
   "pygments_lexer": "ipython3",
   "version": "3.9.7"
  }
 },
 "nbformat": 4,
 "nbformat_minor": 5
}