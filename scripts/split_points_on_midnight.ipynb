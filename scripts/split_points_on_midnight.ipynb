{
 "cells": [
  {
   "cell_type": "code",
   "execution_count": 43,
   "id": "1de6bab2",
   "metadata": {},
   "outputs": [],
   "source": [
    "def importdata():\n",
    "    \n",
    "    df = pd.read_csv('/Users/jonweske/devment/BA_nextbike/data/df_points_valid_geo_v01.csv')\n",
    "\n",
    "    df = df[['bike_id','lat','lng','timestood','time_start','time_end']]\n",
    "    \n",
    "    #df['date_start'] = df['time_start']\n",
    "    #df['date_end'] = df['time_end']\n",
    "    #df['daytime_start'] = df['time_start']\n",
    "    #df['daytime_end'] = df['time_end']\n",
    "    \n",
    "    df['flag'] = 0\n",
    "    \n",
    "    \n",
    "    \n",
    "    return df"
   ]
  },
  {
   "cell_type": "markdown",
   "id": "1f07514c",
   "metadata": {},
   "source": [
    "# Main"
   ]
  },
  {
   "cell_type": "code",
   "execution_count": 44,
   "id": "8088eab3",
   "metadata": {},
   "outputs": [],
   "source": [
    "from keplergl import KeplerGl\n",
    "import pandas as pd\n",
    "pd.options.mode.chained_assignment = None\n",
    "from tqdm import tqdm\n",
    "import pickle\n",
    "from datetime import timedelta, datetime, date\n",
    "\n",
    "\n",
    "df = importdata()\n",
    "\n",
    "\n",
    "#df\n"
   ]
  },
  {
   "cell_type": "code",
   "execution_count": 45,
   "id": "161072e7",
   "metadata": {},
   "outputs": [
    {
     "data": {
      "text/html": [
       "<div>\n",
       "<style scoped>\n",
       "    .dataframe tbody tr th:only-of-type {\n",
       "        vertical-align: middle;\n",
       "    }\n",
       "\n",
       "    .dataframe tbody tr th {\n",
       "        vertical-align: top;\n",
       "    }\n",
       "\n",
       "    .dataframe thead th {\n",
       "        text-align: right;\n",
       "    }\n",
       "</style>\n",
       "<table border=\"1\" class=\"dataframe\">\n",
       "  <thead>\n",
       "    <tr style=\"text-align: right;\">\n",
       "      <th></th>\n",
       "      <th>bike_id</th>\n",
       "      <th>lat</th>\n",
       "      <th>lng</th>\n",
       "      <th>timestood</th>\n",
       "      <th>time_start</th>\n",
       "      <th>time_end</th>\n",
       "      <th>flag</th>\n",
       "    </tr>\n",
       "  </thead>\n",
       "  <tbody>\n",
       "    <tr>\n",
       "      <th>0</th>\n",
       "      <td>71949.0</td>\n",
       "      <td>51.334071</td>\n",
       "      <td>12.399960</td>\n",
       "      <td>0 days 01:27:18</td>\n",
       "      <td>2018-12-31 23:14:49</td>\n",
       "      <td>2019-01-01 00:42:07</td>\n",
       "      <td>0</td>\n",
       "    </tr>\n",
       "    <tr>\n",
       "      <th>1</th>\n",
       "      <td>71949.0</td>\n",
       "      <td>51.335429</td>\n",
       "      <td>12.324583</td>\n",
       "      <td>0 days 02:02:31</td>\n",
       "      <td>2019-01-01 01:41:33</td>\n",
       "      <td>2019-01-01 03:44:04</td>\n",
       "      <td>0</td>\n",
       "    </tr>\n",
       "    <tr>\n",
       "      <th>2</th>\n",
       "      <td>71949.0</td>\n",
       "      <td>51.343813</td>\n",
       "      <td>12.381495</td>\n",
       "      <td>0 days 09:52:19</td>\n",
       "      <td>2019-01-01 04:14:54</td>\n",
       "      <td>2019-01-01 14:07:13</td>\n",
       "      <td>0</td>\n",
       "    </tr>\n",
       "    <tr>\n",
       "      <th>3</th>\n",
       "      <td>71949.0</td>\n",
       "      <td>51.341518</td>\n",
       "      <td>12.365614</td>\n",
       "      <td>2 days 07:15:12</td>\n",
       "      <td>2019-01-01 14:13:45</td>\n",
       "      <td>2019-01-03 21:28:57</td>\n",
       "      <td>0</td>\n",
       "    </tr>\n",
       "    <tr>\n",
       "      <th>4</th>\n",
       "      <td>71949.0</td>\n",
       "      <td>51.345950</td>\n",
       "      <td>12.356816</td>\n",
       "      <td>0 days 12:40:42</td>\n",
       "      <td>2019-01-03 21:35:13</td>\n",
       "      <td>2019-01-04 10:15:55</td>\n",
       "      <td>0</td>\n",
       "    </tr>\n",
       "    <tr>\n",
       "      <th>...</th>\n",
       "      <td>...</td>\n",
       "      <td>...</td>\n",
       "      <td>...</td>\n",
       "      <td>...</td>\n",
       "      <td>...</td>\n",
       "      <td>...</td>\n",
       "      <td>...</td>\n",
       "    </tr>\n",
       "    <tr>\n",
       "      <th>550665</th>\n",
       "      <td>75870.0</td>\n",
       "      <td>51.329036</td>\n",
       "      <td>12.339146</td>\n",
       "      <td>0 days 00:26:20</td>\n",
       "      <td>2019-12-29 14:42:51</td>\n",
       "      <td>2019-12-29 15:09:11</td>\n",
       "      <td>0</td>\n",
       "    </tr>\n",
       "    <tr>\n",
       "      <th>550666</th>\n",
       "      <td>75870.0</td>\n",
       "      <td>51.320889</td>\n",
       "      <td>12.343077</td>\n",
       "      <td>0 days 16:59:12</td>\n",
       "      <td>2019-12-29 15:13:29</td>\n",
       "      <td>2019-12-30 08:12:41</td>\n",
       "      <td>0</td>\n",
       "    </tr>\n",
       "    <tr>\n",
       "      <th>550667</th>\n",
       "      <td>75870.0</td>\n",
       "      <td>51.332209</td>\n",
       "      <td>12.366046</td>\n",
       "      <td>0 days 08:35:54</td>\n",
       "      <td>2019-12-30 08:23:51</td>\n",
       "      <td>2019-12-30 16:59:45</td>\n",
       "      <td>0</td>\n",
       "    </tr>\n",
       "    <tr>\n",
       "      <th>550668</th>\n",
       "      <td>105465.0</td>\n",
       "      <td>0.000000</td>\n",
       "      <td>0.000000</td>\n",
       "      <td>0 days 17:53:59</td>\n",
       "      <td>2019-12-09 16:49:55</td>\n",
       "      <td>2019-12-10 10:43:54</td>\n",
       "      <td>0</td>\n",
       "    </tr>\n",
       "    <tr>\n",
       "      <th>550669</th>\n",
       "      <td>105465.0</td>\n",
       "      <td>0.000000</td>\n",
       "      <td>0.000000</td>\n",
       "      <td>0 days 00:01:42</td>\n",
       "      <td>2019-12-10 10:44:47</td>\n",
       "      <td>2019-12-10 10:46:29</td>\n",
       "      <td>0</td>\n",
       "    </tr>\n",
       "  </tbody>\n",
       "</table>\n",
       "<p>550670 rows × 7 columns</p>\n",
       "</div>"
      ],
      "text/plain": [
       "         bike_id        lat        lng       timestood          time_start  \\\n",
       "0        71949.0  51.334071  12.399960 0 days 01:27:18 2018-12-31 23:14:49   \n",
       "1        71949.0  51.335429  12.324583 0 days 02:02:31 2019-01-01 01:41:33   \n",
       "2        71949.0  51.343813  12.381495 0 days 09:52:19 2019-01-01 04:14:54   \n",
       "3        71949.0  51.341518  12.365614 2 days 07:15:12 2019-01-01 14:13:45   \n",
       "4        71949.0  51.345950  12.356816 0 days 12:40:42 2019-01-03 21:35:13   \n",
       "...          ...        ...        ...             ...                 ...   \n",
       "550665   75870.0  51.329036  12.339146 0 days 00:26:20 2019-12-29 14:42:51   \n",
       "550666   75870.0  51.320889  12.343077 0 days 16:59:12 2019-12-29 15:13:29   \n",
       "550667   75870.0  51.332209  12.366046 0 days 08:35:54 2019-12-30 08:23:51   \n",
       "550668  105465.0   0.000000   0.000000 0 days 17:53:59 2019-12-09 16:49:55   \n",
       "550669  105465.0   0.000000   0.000000 0 days 00:01:42 2019-12-10 10:44:47   \n",
       "\n",
       "                  time_end  flag  \n",
       "0      2019-01-01 00:42:07     0  \n",
       "1      2019-01-01 03:44:04     0  \n",
       "2      2019-01-01 14:07:13     0  \n",
       "3      2019-01-03 21:28:57     0  \n",
       "4      2019-01-04 10:15:55     0  \n",
       "...                    ...   ...  \n",
       "550665 2019-12-29 15:09:11     0  \n",
       "550666 2019-12-30 08:12:41     0  \n",
       "550667 2019-12-30 16:59:45     0  \n",
       "550668 2019-12-10 10:43:54     0  \n",
       "550669 2019-12-10 10:46:29     0  \n",
       "\n",
       "[550670 rows x 7 columns]"
      ]
     },
     "execution_count": 45,
     "metadata": {},
     "output_type": "execute_result"
    }
   ],
   "source": [
    "df['timestood'] = pd.to_timedelta(df['timestood'],unit='s')\n",
    "df['time_start'] = pd.to_datetime(df['time_start'],unit='s')\n",
    "df['time_end'] = pd.to_datetime(df['time_end'],unit='s')\n",
    "\n",
    "\n",
    "df"
   ]
  },
  {
   "cell_type": "code",
   "execution_count": 46,
   "id": "29573465",
   "metadata": {},
   "outputs": [
    {
     "name": "stderr",
     "output_type": "stream",
     "text": [
      "100%|███████████████████████████████████████████████████████████████████████████████████████████████████████████████████████████████████████████████████████████████████████████████████████████| 550670/550670 [00:50<00:00, 10834.22it/s]\n"
     ]
    }
   ],
   "source": [
    "for ind in tqdm(df.index):\n",
    "    ts = df['time_start'][ind]\n",
    "    te = df['time_end'][ind]\n",
    "    t0 = ts.replace(hour=23, minute=59, second=59)\n",
    "    if ts + df['timestood'][ind] > t0:\n",
    "        df['flag'][ind] = 1"
   ]
  },
  {
   "cell_type": "code",
   "execution_count": 47,
   "id": "42069119",
   "metadata": {},
   "outputs": [
    {
     "name": "stderr",
     "output_type": "stream",
     "text": [
      " 50%|██████████████████████████████████████████████████████████████████████████████████████████████▌                                                                                              | 275528/550670 [28:20<28:17, 162.05it/s]\n"
     ]
    },
    {
     "ename": "KeyboardInterrupt",
     "evalue": "",
     "output_type": "error",
     "traceback": [
      "\u001b[0;31m---------------------------------------------------------------------------\u001b[0m",
      "\u001b[0;31mKeyboardInterrupt\u001b[0m                         Traceback (most recent call last)",
      "\u001b[0;32m/var/folders/5t/28jzvs016nq5vxslb670gs040000gn/T/ipykernel_82874/1970011034.py\u001b[0m in \u001b[0;36m<module>\u001b[0;34m\u001b[0m\n\u001b[1;32m     32\u001b[0m             dict = {'bike_id': df['bike_id'][ind], 'lng': df['lng'][ind], 'lat': df['lat'][ind],\n\u001b[1;32m     33\u001b[0m                     'timestood': overhang2, 'time_start': time_start2, 'time_end': te2, 'flag' : flag}\n\u001b[0;32m---> 34\u001b[0;31m             \u001b[0mdf\u001b[0m \u001b[0;34m=\u001b[0m \u001b[0mdf\u001b[0m\u001b[0;34m.\u001b[0m\u001b[0mappend\u001b[0m\u001b[0;34m(\u001b[0m\u001b[0mdict\u001b[0m\u001b[0;34m,\u001b[0m \u001b[0mignore_index\u001b[0m\u001b[0;34m=\u001b[0m\u001b[0;32mTrue\u001b[0m\u001b[0;34m)\u001b[0m\u001b[0;34m\u001b[0m\u001b[0;34m\u001b[0m\u001b[0m\n\u001b[0m",
      "\u001b[0;31mKeyboardInterrupt\u001b[0m: "
     ]
    }
   ],
   "source": [
    "from tqdm import tqdm\n",
    "\n",
    "changed = 1\n",
    "\n",
    "while changed:\n",
    "    changed = 0\n",
    "    for ind in tqdm(df.index):\n",
    "        ts = df['time_start'][ind]\n",
    "        te = df['time_end'][ind]\n",
    "        t0 = ts.replace(hour=23, minute=59, second=59)\n",
    "        \n",
    "        # is timestood greater than same date 23:59:59\n",
    "        #   -> over midnight\n",
    "        if ts + df['timestood'][ind] > t0:\n",
    "            changed = 1\n",
    "            \n",
    "            underhang = t0 - ts\n",
    "            overhang = te - t0\n",
    "            \n",
    "            # fix current day\n",
    "            df['time_end'][ind] = ts.replace(hour=23, minute=59, second=59)\n",
    "            df['timestood'][ind] = underhang\n",
    "            \n",
    "            # add new row\n",
    "            time_start = ts.replace(hour=0, minute=0, second=0)\n",
    "            time_start += timedelta(days=1)\n",
    "            \n",
    "            flag = 0\n",
    "            if time_start + overhang > time_start.replace(hour=23, minute=59, second=59):\n",
    "                flag = 1\n",
    "            \n",
    "            dict = {'bike_id': df['bike_id'][ind], 'lng': df['lng'][ind], 'lat': df['lat'][ind],\n",
    "                    'timestood': overhang2, 'time_start': time_start2, 'time_end': te2, 'flag' : flag}\n",
    "            df = df.append(dict, ignore_index=True)"
   ]
  },
  {
   "cell_type": "code",
   "execution_count": null,
   "id": "b64c801e",
   "metadata": {},
   "outputs": [],
   "source": [
    "df"
   ]
  },
  {
   "cell_type": "code",
   "execution_count": 28,
   "id": "00db518c",
   "metadata": {},
   "outputs": [],
   "source": [
    "df.to_csv(\"../data/df_points_valid_geo_split_at_midnight_v03.csv\",index=False)"
   ]
  },
  {
   "cell_type": "code",
   "execution_count": 42,
   "id": "089f7c7d",
   "metadata": {},
   "outputs": [
    {
     "data": {
      "text/plain": [
       "Timedelta('249 days 12:01:41')"
      ]
     },
     "execution_count": 42,
     "metadata": {},
     "output_type": "execute_result"
    }
   ],
   "source": [
    "df['timestood'].max()"
   ]
  },
  {
   "cell_type": "markdown",
   "id": "72740c93",
   "metadata": {},
   "source": [
    "0 Loop\n",
    "550670\n",
    "\n",
    "1 Loop\n",
    "667360 209 days 01:14:44\n",
    "\n",
    "2 Loop\n",
    "683917 208 days 01:14:44\n",
    "\n",
    "3 Loop\n",
    "690781 207 days 01:14:44\n",
    "\n",
    "4 Loop\n",
    "694443 206 days 01:14:44"
   ]
  },
  {
   "cell_type": "code",
   "execution_count": null,
   "id": "4cff8b36",
   "metadata": {},
   "outputs": [],
   "source": []
  }
 ],
 "metadata": {
  "kernelspec": {
   "display_name": "Python 3 (ipykernel)",
   "language": "python",
   "name": "python3"
  },
  "language_info": {
   "codemirror_mode": {
    "name": "ipython",
    "version": 3
   },
   "file_extension": ".py",
   "mimetype": "text/x-python",
   "name": "python",
   "nbconvert_exporter": "python",
   "pygments_lexer": "ipython3",
   "version": "3.9.7"
  }
 },
 "nbformat": 4,
 "nbformat_minor": 5
}
