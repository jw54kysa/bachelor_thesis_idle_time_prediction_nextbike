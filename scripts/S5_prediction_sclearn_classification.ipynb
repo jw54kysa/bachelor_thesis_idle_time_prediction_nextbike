{
 "cells": [
  {
   "cell_type": "code",
   "execution_count": 1,
   "id": "1e8942c5",
   "metadata": {},
   "outputs": [],
   "source": [
    "import datetime\n",
    "\n",
    "import pandas as pd\n",
    "import numpy as np\n",
    "from tqdm import tqdm"
   ]
  },
  {
   "cell_type": "code",
   "execution_count": 2,
   "id": "f9f70d21",
   "metadata": {},
   "outputs": [],
   "source": [
    "def importdata():\n",
    "    dataframe = pd.read_csv('../data/df_points_18-19-20-21_v1_weather_final.csv')\n",
    "    return dataframe.sort_values(by=['dt_start'])"
   ]
  },
  {
   "cell_type": "markdown",
   "id": "c7d8ad45",
   "metadata": {},
   "source": [
    "# Main"
   ]
  },
  {
   "cell_type": "code",
   "execution_count": 1,
   "id": "cbd88809",
   "metadata": {},
   "outputs": [],
   "source": [
    "import pandas as pd\n",
    "import numpy as np\n",
    "from tqdm import tqdm\n",
    "\n",
    "# read CSV\n",
    "df = pd.read_csv('../data/df_points_18_21_v1_new_features.csv')"
   ]
  },
  {
   "cell_type": "code",
   "execution_count": 2,
   "id": "27212520",
   "metadata": {},
   "outputs": [
    {
     "data": {
      "text/plain": "   bike_id        lat        lng   temp  rain  snow    dt_start      dt_end  \\\n0     3694  51.323619  12.335887  10.80   0.0   0.0  1514764029  1514764799   \n1     2508  51.323619  12.335887  10.80   0.0   0.0  1514764035  1514764799   \n2    41851  51.332415  12.395158  10.80   0.0   0.0  1514764638  1514764799   \n3     2508  51.323619  12.335887  10.86   0.0   0.0  1514764800  1514851199   \n4     3694  51.323619  12.335887  10.86   0.0   0.0  1514764800  1514814103   \n\n   hex_enc  start_min  idle_time  \n0      324    1427.15         12  \n1      324    1427.25         12  \n2      137    1437.30          2  \n3      324       0.00       1439  \n4      324       0.00        821  ",
      "text/html": "<div>\n<style scoped>\n    .dataframe tbody tr th:only-of-type {\n        vertical-align: middle;\n    }\n\n    .dataframe tbody tr th {\n        vertical-align: top;\n    }\n\n    .dataframe thead th {\n        text-align: right;\n    }\n</style>\n<table border=\"1\" class=\"dataframe\">\n  <thead>\n    <tr style=\"text-align: right;\">\n      <th></th>\n      <th>bike_id</th>\n      <th>lat</th>\n      <th>lng</th>\n      <th>temp</th>\n      <th>rain</th>\n      <th>snow</th>\n      <th>dt_start</th>\n      <th>dt_end</th>\n      <th>hex_enc</th>\n      <th>start_min</th>\n      <th>idle_time</th>\n    </tr>\n  </thead>\n  <tbody>\n    <tr>\n      <th>0</th>\n      <td>3694</td>\n      <td>51.323619</td>\n      <td>12.335887</td>\n      <td>10.80</td>\n      <td>0.0</td>\n      <td>0.0</td>\n      <td>1514764029</td>\n      <td>1514764799</td>\n      <td>324</td>\n      <td>1427.15</td>\n      <td>12</td>\n    </tr>\n    <tr>\n      <th>1</th>\n      <td>2508</td>\n      <td>51.323619</td>\n      <td>12.335887</td>\n      <td>10.80</td>\n      <td>0.0</td>\n      <td>0.0</td>\n      <td>1514764035</td>\n      <td>1514764799</td>\n      <td>324</td>\n      <td>1427.25</td>\n      <td>12</td>\n    </tr>\n    <tr>\n      <th>2</th>\n      <td>41851</td>\n      <td>51.332415</td>\n      <td>12.395158</td>\n      <td>10.80</td>\n      <td>0.0</td>\n      <td>0.0</td>\n      <td>1514764638</td>\n      <td>1514764799</td>\n      <td>137</td>\n      <td>1437.30</td>\n      <td>2</td>\n    </tr>\n    <tr>\n      <th>3</th>\n      <td>2508</td>\n      <td>51.323619</td>\n      <td>12.335887</td>\n      <td>10.86</td>\n      <td>0.0</td>\n      <td>0.0</td>\n      <td>1514764800</td>\n      <td>1514851199</td>\n      <td>324</td>\n      <td>0.00</td>\n      <td>1439</td>\n    </tr>\n    <tr>\n      <th>4</th>\n      <td>3694</td>\n      <td>51.323619</td>\n      <td>12.335887</td>\n      <td>10.86</td>\n      <td>0.0</td>\n      <td>0.0</td>\n      <td>1514764800</td>\n      <td>1514814103</td>\n      <td>324</td>\n      <td>0.00</td>\n      <td>821</td>\n    </tr>\n  </tbody>\n</table>\n</div>"
     },
     "execution_count": 2,
     "metadata": {},
     "output_type": "execute_result"
    }
   ],
   "source": [
    "# event del Index Column\n",
    "del df['Unnamed: 0']\n",
    "df['idle_time'] = df['timestood'].copy()\n",
    "del df['timestood']\n",
    "df = df.sort_values(by='dt_start', ignore_index=True)\n",
    "df.head()"
   ]
  },
  {
   "cell_type": "code",
   "execution_count": 3,
   "outputs": [],
   "source": [
    "#add classification target\n",
    "def f(row):\n",
    "    if row['idle_time'] < 360:\n",
    "        val = 1\n",
    "    elif row['idle_time'] < 720:\n",
    "        val = 2\n",
    "    elif row['idle_time'] < 1080:\n",
    "        val = 3\n",
    "    else:\n",
    "        val = 4\n",
    "    return val\n",
    "\n",
    "df['idle_time_class'] = df.apply(f, axis=1)"
   ],
   "metadata": {
    "collapsed": false,
    "pycharm": {
     "name": "#%%\n"
    }
   }
  },
  {
   "cell_type": "code",
   "execution_count": 4,
   "outputs": [
    {
     "data": {
      "text/plain": "   bike_id        lat        lng   temp  rain  snow    dt_start      dt_end  \\\n0     3694  51.323619  12.335887  10.80   0.0   0.0  1514764029  1514764799   \n1     2508  51.323619  12.335887  10.80   0.0   0.0  1514764035  1514764799   \n2    41851  51.332415  12.395158  10.80   0.0   0.0  1514764638  1514764799   \n3     2508  51.323619  12.335887  10.86   0.0   0.0  1514764800  1514851199   \n4     3694  51.323619  12.335887  10.86   0.0   0.0  1514764800  1514814103   \n\n   hex_enc  start_min  idle_time  idle_time_class  \n0      324    1427.15         12                1  \n1      324    1427.25         12                1  \n2      137    1437.30          2                1  \n3      324       0.00       1439                4  \n4      324       0.00        821                3  ",
      "text/html": "<div>\n<style scoped>\n    .dataframe tbody tr th:only-of-type {\n        vertical-align: middle;\n    }\n\n    .dataframe tbody tr th {\n        vertical-align: top;\n    }\n\n    .dataframe thead th {\n        text-align: right;\n    }\n</style>\n<table border=\"1\" class=\"dataframe\">\n  <thead>\n    <tr style=\"text-align: right;\">\n      <th></th>\n      <th>bike_id</th>\n      <th>lat</th>\n      <th>lng</th>\n      <th>temp</th>\n      <th>rain</th>\n      <th>snow</th>\n      <th>dt_start</th>\n      <th>dt_end</th>\n      <th>hex_enc</th>\n      <th>start_min</th>\n      <th>idle_time</th>\n      <th>idle_time_class</th>\n    </tr>\n  </thead>\n  <tbody>\n    <tr>\n      <th>0</th>\n      <td>3694</td>\n      <td>51.323619</td>\n      <td>12.335887</td>\n      <td>10.80</td>\n      <td>0.0</td>\n      <td>0.0</td>\n      <td>1514764029</td>\n      <td>1514764799</td>\n      <td>324</td>\n      <td>1427.15</td>\n      <td>12</td>\n      <td>1</td>\n    </tr>\n    <tr>\n      <th>1</th>\n      <td>2508</td>\n      <td>51.323619</td>\n      <td>12.335887</td>\n      <td>10.80</td>\n      <td>0.0</td>\n      <td>0.0</td>\n      <td>1514764035</td>\n      <td>1514764799</td>\n      <td>324</td>\n      <td>1427.25</td>\n      <td>12</td>\n      <td>1</td>\n    </tr>\n    <tr>\n      <th>2</th>\n      <td>41851</td>\n      <td>51.332415</td>\n      <td>12.395158</td>\n      <td>10.80</td>\n      <td>0.0</td>\n      <td>0.0</td>\n      <td>1514764638</td>\n      <td>1514764799</td>\n      <td>137</td>\n      <td>1437.30</td>\n      <td>2</td>\n      <td>1</td>\n    </tr>\n    <tr>\n      <th>3</th>\n      <td>2508</td>\n      <td>51.323619</td>\n      <td>12.335887</td>\n      <td>10.86</td>\n      <td>0.0</td>\n      <td>0.0</td>\n      <td>1514764800</td>\n      <td>1514851199</td>\n      <td>324</td>\n      <td>0.00</td>\n      <td>1439</td>\n      <td>4</td>\n    </tr>\n    <tr>\n      <th>4</th>\n      <td>3694</td>\n      <td>51.323619</td>\n      <td>12.335887</td>\n      <td>10.86</td>\n      <td>0.0</td>\n      <td>0.0</td>\n      <td>1514764800</td>\n      <td>1514814103</td>\n      <td>324</td>\n      <td>0.00</td>\n      <td>821</td>\n      <td>3</td>\n    </tr>\n  </tbody>\n</table>\n</div>"
     },
     "execution_count": 4,
     "metadata": {},
     "output_type": "execute_result"
    }
   ],
   "source": [
    "df.head()"
   ],
   "metadata": {
    "collapsed": false,
    "pycharm": {
     "name": "#%%\n"
    }
   }
  },
  {
   "cell_type": "code",
   "execution_count": 36,
   "outputs": [
    {
     "data": {
      "text/plain": "2435439"
     },
     "execution_count": 36,
     "metadata": {},
     "output_type": "execute_result"
    }
   ],
   "source": [
    "df['idle_time_class'].count()"
   ],
   "metadata": {
    "collapsed": false,
    "pycharm": {
     "name": "#%%\n"
    }
   }
  },
  {
   "cell_type": "code",
   "execution_count": 7,
   "outputs": [],
   "source": [
    "df.to_csv('../data/df_points_18_21_v1_new_features.csv',index=False)"
   ],
   "metadata": {
    "collapsed": false,
    "pycharm": {
     "name": "#%%\n"
    }
   }
  },
  {
   "cell_type": "code",
   "execution_count": 5,
   "id": "13467314",
   "metadata": {},
   "outputs": [],
   "source": [
    "TargetVariable=['idle_time_class']\n",
    "Predictors=['bike_id', 'lat', 'lng', 'temp', 'rain', 'snow', 'dt_start','hex_enc','start_min']"
   ]
  },
  {
   "cell_type": "code",
   "execution_count": 11,
   "outputs": [
    {
     "name": "stdout",
     "output_type": "stream",
     "text": [
      "(1948351, 9)\n",
      "(1948351, 1)\n",
      "(487088, 9)\n",
      "(487088, 1)\n"
     ]
    }
   ],
   "source": [
    "X=df[Predictors].values\n",
    "y=df[TargetVariable].values\n",
    "\n",
    "### Sandardization of data ###\n",
    "from sklearn.preprocessing import StandardScaler\n",
    "PredictorScaler=StandardScaler()\n",
    "TargetVarScaler=StandardScaler()\n",
    "\n",
    "# Storing the fit object for later reference\n",
    "PredictorScalerFit=PredictorScaler.fit(X)\n",
    "#TargetVarScalerFit=TargetVarScaler.fit(y)\n",
    "\n",
    "# Generating the standardized values of X and y\n",
    "X=PredictorScalerFit.transform(X)\n",
    "#y=TargetVarScalerFit.transform(y)\n",
    "\n",
    "\n",
    "# Split the data into training and testing set\n",
    "from sklearn.model_selection import train_test_split\n",
    "X_train, X_test, y_train, y_test = train_test_split(X, y, test_size=0.2, random_state=42)\n",
    "\n",
    "# Quick sanity check with the shapes of Training and testing datasets\n",
    "print(X_train.shape)\n",
    "print(y_train.shape)\n",
    "print(X_test.shape)\n",
    "print(y_test.shape)"
   ],
   "metadata": {
    "collapsed": false,
    "pycharm": {
     "name": "#%%\n"
    }
   }
  },
  {
   "cell_type": "markdown",
   "source": [],
   "metadata": {
    "collapsed": false
   }
  },
  {
   "cell_type": "markdown",
   "source": [
    "\n",
    "# MLPClassification"
   ],
   "metadata": {
    "collapsed": false
   }
  },
  {
   "cell_type": "code",
   "execution_count": 38,
   "outputs": [
    {
     "name": "stdout",
     "output_type": "stream",
     "text": [
      "Iteration 1, loss = 0.71823338\n",
      "Validation score: 0.701246\n",
      "Iteration 2, loss = 0.68009923\n",
      "Validation score: 0.701518\n",
      "Iteration 3, loss = 0.67627152\n",
      "Validation score: 0.703304\n",
      "Iteration 4, loss = 0.67448888\n",
      "Validation score: 0.702350\n",
      "Iteration 5, loss = 0.67315684\n",
      "Validation score: 0.702375\n",
      "Iteration 6, loss = 0.67201987\n",
      "Validation score: 0.703335\n",
      "Iteration 7, loss = 0.67130401\n",
      "Validation score: 0.703402\n",
      "Iteration 8, loss = 0.67068876\n",
      "Validation score: 0.704105\n",
      "Iteration 9, loss = 0.67000262\n",
      "Validation score: 0.703099\n",
      "Iteration 10, loss = 0.66940740\n",
      "Validation score: 0.704552\n",
      "Iteration 11, loss = 0.66886497\n",
      "Validation score: 0.704043\n",
      "Iteration 12, loss = 0.66786653\n",
      "Validation score: 0.704813\n",
      "Iteration 13, loss = 0.66616023\n",
      "Validation score: 0.706050\n",
      "Iteration 14, loss = 0.66480086\n",
      "Validation score: 0.703735\n",
      "Iteration 15, loss = 0.66326838\n",
      "Validation score: 0.706738\n",
      "Iteration 16, loss = 0.66093888\n",
      "Validation score: 0.706030\n",
      "Iteration 17, loss = 0.65880519\n",
      "Validation score: 0.709073\n",
      "Iteration 18, loss = 0.65754766\n",
      "Validation score: 0.710690\n",
      "Iteration 19, loss = 0.65666727\n",
      "Validation score: 0.709279\n",
      "Iteration 20, loss = 0.65564698\n",
      "Validation score: 0.709371\n",
      "Iteration 21, loss = 0.65400307\n",
      "Validation score: 0.711203\n",
      "Iteration 22, loss = 0.65273971\n",
      "Validation score: 0.711480\n",
      "Iteration 23, loss = 0.65152030\n",
      "Validation score: 0.712610\n",
      "Iteration 24, loss = 0.65057319\n",
      "Validation score: 0.712394\n",
      "Iteration 25, loss = 0.64990067\n",
      "Validation score: 0.712882\n",
      "Iteration 26, loss = 0.64930232\n",
      "Validation score: 0.712332\n",
      "Iteration 27, loss = 0.64878922\n",
      "Validation score: 0.711460\n",
      "Iteration 28, loss = 0.64819337\n",
      "Validation score: 0.714334\n",
      "Iteration 29, loss = 0.64712486\n",
      "Validation score: 0.713231\n",
      "Iteration 30, loss = 0.64583041\n",
      "Validation score: 0.714262\n",
      "Iteration 31, loss = 0.64488714\n",
      "Validation score: 0.716731\n",
      "Iteration 32, loss = 0.64445038\n",
      "Validation score: 0.716213\n",
      "Iteration 33, loss = 0.64406553\n",
      "Validation score: 0.716649\n",
      "Iteration 34, loss = 0.64365716\n",
      "Validation score: 0.716546\n",
      "Iteration 35, loss = 0.64326176\n",
      "Validation score: 0.715735\n",
      "Iteration 36, loss = 0.64305748\n",
      "Validation score: 0.716469\n",
      "Iteration 37, loss = 0.64266414\n",
      "Validation score: 0.716526\n",
      "Iteration 38, loss = 0.64223543\n",
      "Validation score: 0.718255\n",
      "Iteration 39, loss = 0.64181895\n",
      "Validation score: 0.717942\n",
      "Iteration 40, loss = 0.64149487\n",
      "Validation score: 0.718199\n",
      "Iteration 41, loss = 0.64125426\n",
      "Validation score: 0.718733\n",
      "Iteration 42, loss = 0.64088108\n",
      "Validation score: 0.717711\n",
      "Iteration 43, loss = 0.64055373\n",
      "Validation score: 0.716644\n",
      "Iteration 44, loss = 0.64010522\n",
      "Validation score: 0.718266\n",
      "Iteration 45, loss = 0.63992864\n",
      "Validation score: 0.717388\n",
      "Iteration 46, loss = 0.63959997\n",
      "Validation score: 0.719492\n",
      "Iteration 47, loss = 0.63943429\n",
      "Validation score: 0.719600\n",
      "Iteration 48, loss = 0.63939312\n",
      "Validation score: 0.719426\n",
      "Iteration 49, loss = 0.63919256\n",
      "Validation score: 0.719610\n",
      "Iteration 50, loss = 0.63913145\n",
      "Validation score: 0.718030\n",
      "Iteration 51, loss = 0.63887233\n",
      "Validation score: 0.717917\n",
      "Iteration 52, loss = 0.63889630\n",
      "Validation score: 0.719713\n",
      "Iteration 53, loss = 0.63882710\n",
      "Validation score: 0.718137\n",
      "Iteration 54, loss = 0.63856086\n",
      "Validation score: 0.718456\n",
      "Iteration 55, loss = 0.63857986\n",
      "Validation score: 0.718271\n",
      "Iteration 56, loss = 0.63844209\n",
      "Validation score: 0.718291\n",
      "Iteration 57, loss = 0.63862457\n",
      "Validation score: 0.719446\n",
      "Iteration 58, loss = 0.63833760\n",
      "Validation score: 0.718091\n",
      "Iteration 59, loss = 0.63816985\n",
      "Validation score: 0.719349\n",
      "Iteration 60, loss = 0.63801756\n",
      "Validation score: 0.718635\n",
      "Iteration 61, loss = 0.63791622\n",
      "Validation score: 0.718974\n",
      "Iteration 62, loss = 0.63787627\n",
      "Validation score: 0.718337\n",
      "Iteration 63, loss = 0.63797353\n",
      "Validation score: 0.718199\n",
      "Validation score did not improve more than tol=0.000100 for 10 consecutive epochs. Stopping.\n",
      "0.718707913149164\n"
     ]
    },
    {
     "data": {
      "text/plain": "<Figure size 432x288 with 2 Axes>",
      "image/png": "[encoded data removed]"
     },
     "metadata": {
      "needs_background": "light"
     },
     "output_type": "display_data"
    }
   ],
   "source": [
    "from sklearn.neural_network import MLPClassifier\n",
    "import matplotlib.pyplot as plt\n",
    "from sklearn.metrics import ConfusionMatrixDisplay\n",
    "\n",
    "cls = MLPClassifier(hidden_layer_sizes=(10,15,10), activation='relu', solver='adam', max_iter=1000, verbose=1, early_stopping=True)\n",
    "cls.fit(X_train,y_train.ravel())\n",
    "\n",
    "expected_y = y_test\n",
    "predicted_y = cls.predict(X_test)\n",
    "\n",
    "print(cls.score(X_test, y_test))\n",
    "\n",
    "fig = ConfusionMatrixDisplay.from_predictions(predicted_y,expected_y,cmap=plt.cm.Blues)\n",
    "fig.figure_.suptitle(\"Confusion Matrix\")\n",
    "plt.show()"
   ],
   "metadata": {
    "collapsed": false,
    "pycharm": {
     "name": "#%%\n"
    }
   }
  },
  {
   "cell_type": "code",
   "execution_count": 39,
   "outputs": [
    {
     "name": "stdout",
     "output_type": "stream",
     "text": [
      "explained_variance:  0.3044\n",
      "r2:  0.2976\n",
      "MAE:  0.385\n",
      "MSE:  0.6217\n",
      "RMSE:  0.7885\n"
     ]
    }
   ],
   "source": [
    "def regression_results(y_true, y_pred):\n",
    "    # Regression metrics\n",
    "    explained_variance=metrics.explained_variance_score(y_true, y_pred)\n",
    "    mean_absolute_error=metrics.mean_absolute_error(y_true, y_pred)\n",
    "    mse=metrics.mean_squared_error(y_true, y_pred)\n",
    "    #mean_squared_log_error=metrics.mean_squared_log_error(y_true, y_pred)\n",
    "    median_absolute_error=metrics.median_absolute_error(y_true, y_pred)\n",
    "    r2=metrics.r2_score(y_true, y_pred)\n",
    "    print('explained_variance: ', round(explained_variance,4))\n",
    "    #print('mean_squared_log_error: ', round(mean_squared_log_error,4))\n",
    "    print('r2: ', round(r2,4))\n",
    "    print('MAE: ', round(mean_absolute_error,4))\n",
    "    print('MSE: ', round(mse,4))\n",
    "    print('RMSE: ', round(np.sqrt(mse),4))\n",
    "\n",
    "regression_results(expected_y, predicted_y)"
   ],
   "metadata": {
    "collapsed": false,
    "pycharm": {
     "name": "#%%\n"
    }
   }
  },
  {
   "cell_type": "markdown",
   "source": [
    "# RandomForestClassifier"
   ],
   "metadata": {
    "collapsed": false
   }
  },
  {
   "cell_type": "code",
   "execution_count": 23,
   "outputs": [
    {
     "data": {
      "text/plain": "0.74542177183589"
     },
     "execution_count": 23,
     "metadata": {},
     "output_type": "execute_result"
    }
   ],
   "source": [
    "from sklearn.ensemble import RandomForestClassifier\n",
    "\n",
    "rfc = RandomForestClassifier(n_estimators=100)\n",
    "\n",
    "rfc.fit(X_train,y_train.ravel())\n",
    "\n",
    "rf_y_pred = rfc.predict(X_test)\n",
    "\n",
    "rfc.score(X_test,y_test)\n",
    "\n",
    "fig = ConfusionMatrixDisplay.from_predictions(rf_y_pred,expected_y,cmap=plt.cm.Blues)\n",
    "fig.figure_.suptitle(\"Confusion Matrix RandomForestClassifier\")\n",
    "plt.show()"
   ],
   "metadata": {
    "collapsed": false,
    "pycharm": {
     "name": "#%%\n"
    }
   }
  },
  {
   "cell_type": "code",
   "execution_count": 30,
   "outputs": [
    {
     "data": {
      "text/plain": "start_min    0.285166\nlat          0.141118\nlng          0.138578\ndt_start     0.135651\nbike_id      0.124480\ntemp         0.123004\nhex_enc      0.034443\nrain         0.016844\nsnow         0.000717\ndtype: float64"
     },
     "execution_count": 30,
     "metadata": {},
     "output_type": "execute_result"
    }
   ],
   "source": [
    "import pandas as pd\n",
    "\n",
    "feature_imp = pd.Series(rfc.feature_importances_,index=Predictors).sort_values(ascending=False)\n",
    "feature_imp"
   ],
   "metadata": {
    "collapsed": false,
    "pycharm": {
     "name": "#%%\n"
    }
   }
  },
  {
   "cell_type": "code",
   "execution_count": 31,
   "outputs": [
    {
     "name": "stderr",
     "output_type": "stream",
     "text": [
      "No artists with labels found to put in legend.  Note that artists whose label start with an underscore are ignored when legend() is called with no argument.\n"
     ]
    },
    {
     "data": {
      "text/plain": "<Figure size 432x288 with 1 Axes>",
      "image/png": "[encoded data removed]"
     },
     "metadata": {
      "needs_background": "light"
     },
     "output_type": "display_data"
    }
   ],
   "source": [
    "import matplotlib.pyplot as plt\n",
    "import seaborn as sns\n",
    "%matplotlib inline\n",
    "# Creating a bar plot\n",
    "sns.barplot(x=feature_imp, y=feature_imp.index)\n",
    "# Add labels to your graph\n",
    "plt.xlabel('Feature Importance Score')\n",
    "plt.ylabel('Features')\n",
    "plt.title(\"Visualizing Important Features\")\n",
    "plt.legend()\n",
    "plt.show()"
   ],
   "metadata": {
    "collapsed": false,
    "pycharm": {
     "name": "#%%\n"
    }
   }
  },
  {
   "cell_type": "markdown",
   "source": [
    "# Gridsearch\n",
    "# RandomForestRegressor"
   ],
   "metadata": {
    "collapsed": false
   }
  },
  {
   "cell_type": "code",
   "execution_count": 10,
   "outputs": [],
   "source": [
    "import sklearn.metrics as metrics\n",
    "\n",
    "def regression_results(y_true, y_pred):\n",
    "    # Regression metrics\n",
    "    explained_variance=metrics.explained_variance_score(y_true, y_pred)\n",
    "    mean_absolute_error=metrics.mean_absolute_error(y_true, y_pred)\n",
    "    mse=metrics.mean_squared_error(y_true, y_pred)\n",
    "    #mean_squared_log_error=metrics.mean_squared_log_error(y_true, y_pred)\n",
    "    median_absolute_error=metrics.median_absolute_error(y_true, y_pred)\n",
    "    r2=metrics.r2_score(y_true, y_pred)\n",
    "    print('explained_variance: ', round(explained_variance,4))\n",
    "    #print('mean_squared_log_error: ', round(mean_squared_log_error,4))\n",
    "    print('r2: ', round(r2,4))\n",
    "    print('MAE: ', round(mean_absolute_error,4))\n",
    "    print('MSE: ', round(mse,4))\n",
    "    print('RMSE: ', round(np.sqrt(mse),4))"
   ],
   "metadata": {
    "collapsed": false,
    "pycharm": {
     "name": "#%%\n"
    }
   }
  },
  {
   "cell_type": "code",
   "execution_count": 11,
   "outputs": [],
   "source": [
    "from sklearn.metrics import make_scorer\n",
    "\n",
    "def rmse(actual, predict):\n",
    "    predict = np.array(predict)\n",
    "    actual = np.array(actual)\n",
    "    distance = predict - actual\n",
    "    square_distance = distance ** 2\n",
    "    mean_square_distance = square_distance.mean()\n",
    "    score = np.sqrt(mean_square_distance)\n",
    "    return score\n",
    "\n",
    "rmse_score = make_scorer(rmse, greater_is_better = False)"
   ],
   "metadata": {
    "collapsed": false,
    "pycharm": {
     "name": "#%%\n"
    }
   }
  },
  {
   "cell_type": "code",
   "execution_count": null,
   "outputs": [
    {
     "name": "stderr",
     "output_type": "stream",
     "text": [
      "[Parallel(n_jobs=1)]: Using backend SequentialBackend with 1 concurrent workers.\n",
      "[Parallel(n_jobs=1)]: Done  20 out of  20 | elapsed:    7.1s finished\n",
      "[Parallel(n_jobs=1)]: Using backend SequentialBackend with 1 concurrent workers.\n",
      "[Parallel(n_jobs=1)]: Done  20 out of  20 | elapsed:    0.2s finished\n",
      "[Parallel(n_jobs=1)]: Using backend SequentialBackend with 1 concurrent workers.\n",
      "[Parallel(n_jobs=1)]: Done  20 out of  20 | elapsed:   15.9s finished\n",
      "[Parallel(n_jobs=1)]: Using backend SequentialBackend with 1 concurrent workers.\n",
      "[Parallel(n_jobs=1)]: Done  20 out of  20 | elapsed:    0.1s finished\n",
      "[Parallel(n_jobs=1)]: Using backend SequentialBackend with 1 concurrent workers.\n"
     ]
    }
   ],
   "source": [
    "from sklearn.model_selection import GridSearchCV\n",
    "from sklearn.ensemble import RandomForestRegressor\n",
    "from sklearn.model_selection import TimeSeriesSplit\n",
    "\n",
    "model = RandomForestRegressor()\n",
    "param_search = {\n",
    "    'n_estimators': [20, 50, 100],\n",
    "    'max_features': ['auto', 'sqrt', 'log2'],\n",
    "    'max_depth' : [i for i in range(5,15)],\n",
    "    'verbose' : [1]\n",
    "}\n",
    "tscv = TimeSeriesSplit(n_splits=10)\n",
    "gsearch = GridSearchCV(estimator=model, cv=tscv, param_grid=param_search, scoring = rmse_score)\n",
    "gsearch.fit(X_train, y_train.ravel())\n",
    "best_score = gsearch.best_score_\n",
    "best_model = gsearch.best_estimator_"
   ],
   "metadata": {
    "collapsed": false,
    "pycharm": {
     "name": "#%%\n",
     "is_executing": true
    }
   }
  },
  {
   "cell_type": "code",
   "execution_count": null,
   "outputs": [],
   "source": [
    "y_true = y_test\n",
    "y_pred = best_model.predict(X_test)\n",
    "\n",
    "regression_results(y_true, y_pred)"
   ],
   "metadata": {
    "collapsed": false,
    "pycharm": {
     "name": "#%%\n",
     "is_executing": true
    }
   }
  },
  {
   "cell_type": "code",
   "execution_count": null,
   "outputs": [],
   "source": [
    "imp = best_model.feature_importances_\n",
    "X_train = pd.DataFrame(X_train,columns=Predictors)\n",
    "features = X_train.columns\n",
    "indices = np.argsort(imp)\n",
    "plt.title('Feature Importances')\n",
    "plt.barh(range(len(indices)), imp[indices], color='b', align='center')\n",
    "plt.yticks(range(len(indices)), [features[i] for i in indices])\n",
    "plt.xlabel('Relative Importance')\n",
    "plt.show()"
   ],
   "metadata": {
    "collapsed": false,
    "pycharm": {
     "name": "#%%\n",
     "is_executing": true
    }
   }
  },
  {
   "cell_type": "markdown",
   "source": [
    "# inverse transformation y_test y_pred"
   ],
   "metadata": {
    "collapsed": false
   }
  },
  {
   "cell_type": "code",
   "execution_count": 58,
   "id": "c96aa872",
   "metadata": {
    "pycharm": {
     "name": "#%%\n"
    }
   },
   "outputs": [],
   "source": [
    "# transform back\n",
    "#X_back = PredictorScalerFit.inverse_transform(X)\n",
    "predicted_y = predicted_y.reshape(-1, 1)\n",
    "#y_real_back = TargetVarScalerFit.inverse_transform(y_test)\n",
    "#y_pred_back =  TargetVarScalerFit.inverse_transform(predicted_y)"
   ]
  },
  {
   "cell_type": "code",
   "execution_count": 59,
   "outputs": [],
   "source": [
    "#result_compare = pd.DataFrame(y_real_back,columns=['real'])"
   ],
   "metadata": {
    "collapsed": false,
    "pycharm": {
     "name": "#%%\n"
    }
   }
  },
  {
   "cell_type": "code",
   "execution_count": 61,
   "outputs": [],
   "source": [
    "#result_compare['pred'] = y_pred_back"
   ],
   "metadata": {
    "collapsed": false,
    "pycharm": {
     "name": "#%%\n"
    }
   }
  },
  {
   "cell_type": "code",
   "execution_count": 62,
   "outputs": [
    {
     "data": {
      "text/plain": "          real         pred\n0        648.0  1144.472840\n1         38.0   120.372312\n2       1439.0   865.256972\n3        268.0   865.532030\n4        902.0   300.368490\n...        ...          ...\n487083   498.0   272.307613\n487084    82.0   241.258410\n487085   175.0   348.363753\n487086   306.0   259.579036\n487087   319.0   551.890555\n\n[487088 rows x 2 columns]",
      "text/html": "<div>\n<style scoped>\n    .dataframe tbody tr th:only-of-type {\n        vertical-align: middle;\n    }\n\n    .dataframe tbody tr th {\n        vertical-align: top;\n    }\n\n    .dataframe thead th {\n        text-align: right;\n    }\n</style>\n<table border=\"1\" class=\"dataframe\">\n  <thead>\n    <tr style=\"text-align: right;\">\n      <th></th>\n      <th>real</th>\n      <th>pred</th>\n    </tr>\n  </thead>\n  <tbody>\n    <tr>\n      <th>0</th>\n      <td>648.0</td>\n      <td>1144.472840</td>\n    </tr>\n    <tr>\n      <th>1</th>\n      <td>38.0</td>\n      <td>120.372312</td>\n    </tr>\n    <tr>\n      <th>2</th>\n      <td>1439.0</td>\n      <td>865.256972</td>\n    </tr>\n    <tr>\n      <th>3</th>\n      <td>268.0</td>\n      <td>865.532030</td>\n    </tr>\n    <tr>\n      <th>4</th>\n      <td>902.0</td>\n      <td>300.368490</td>\n    </tr>\n    <tr>\n      <th>...</th>\n      <td>...</td>\n      <td>...</td>\n    </tr>\n    <tr>\n      <th>487083</th>\n      <td>498.0</td>\n      <td>272.307613</td>\n    </tr>\n    <tr>\n      <th>487084</th>\n      <td>82.0</td>\n      <td>241.258410</td>\n    </tr>\n    <tr>\n      <th>487085</th>\n      <td>175.0</td>\n      <td>348.363753</td>\n    </tr>\n    <tr>\n      <th>487086</th>\n      <td>306.0</td>\n      <td>259.579036</td>\n    </tr>\n    <tr>\n      <th>487087</th>\n      <td>319.0</td>\n      <td>551.890555</td>\n    </tr>\n  </tbody>\n</table>\n<p>487088 rows × 2 columns</p>\n</div>"
     },
     "execution_count": 62,
     "metadata": {},
     "output_type": "execute_result"
    }
   ],
   "source": [
    "#result_compare"
   ],
   "metadata": {
    "collapsed": false,
    "pycharm": {
     "name": "#%%\n"
    }
   }
  },
  {
   "cell_type": "code",
   "execution_count": null,
   "outputs": [],
   "source": [],
   "metadata": {
    "collapsed": false,
    "pycharm": {
     "name": "#%%\n"
    }
   }
  }
 ],
 "metadata": {
  "kernelspec": {
   "display_name": "Python 3 (ipykernel)",
   "language": "python",
   "name": "python3"
  },
  "language_info": {
   "codemirror_mode": {
    "name": "ipython",
    "version": 3
   },
   "file_extension": ".py",
   "mimetype": "text/x-python",
   "name": "python",
   "nbconvert_exporter": "python",
   "pygments_lexer": "ipython3",
   "version": "3.9.7"
  }
 },
 "nbformat": 4,
 "nbformat_minor": 5
}