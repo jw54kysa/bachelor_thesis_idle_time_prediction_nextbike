{
 "cells": [
  {
   "cell_type": "code",
   "execution_count": 34,
   "id": "d0955657",
   "metadata": {},
   "outputs": [
    {
     "data": {
      "text/plain": "   bike_id        lat        lng  timestood          time_start  \\\n0   3694.0  51.323619  12.335887         12 2017-12-31 23:47:09   \n1   3694.0  51.343813  12.381495        608 2018-01-01 13:51:06   \n2   3694.0  51.343076  12.365177         35 2018-01-02 14:55:53   \n3   3694.0  51.332874  12.373261         66 2018-01-02 22:53:45   \n4   3694.0  51.297564  12.293015        424 2018-01-03 16:55:03   \n\n             time_end           hex_id  \n0 2017-12-31 23:59:59  881f1a8d91fffff  \n1 2018-01-01 23:59:59  881f1a8cb1fffff  \n2 2018-01-02 15:31:44  881f1a8cbdfffff  \n3 2018-01-02 23:59:59  881f1a164bfffff  \n4 2018-01-03 23:59:59  881f1a8da3fffff  ",
      "text/html": "<div>\n<style scoped>\n    .dataframe tbody tr th:only-of-type {\n        vertical-align: middle;\n    }\n\n    .dataframe tbody tr th {\n        vertical-align: top;\n    }\n\n    .dataframe thead th {\n        text-align: right;\n    }\n</style>\n<table border=\"1\" class=\"dataframe\">\n  <thead>\n    <tr style=\"text-align: right;\">\n      <th></th>\n      <th>bike_id</th>\n      <th>lat</th>\n      <th>lng</th>\n      <th>timestood</th>\n      <th>time_start</th>\n      <th>time_end</th>\n      <th>hex_id</th>\n    </tr>\n  </thead>\n  <tbody>\n    <tr>\n      <th>0</th>\n      <td>3694.0</td>\n      <td>51.323619</td>\n      <td>12.335887</td>\n      <td>12</td>\n      <td>2017-12-31 23:47:09</td>\n      <td>2017-12-31 23:59:59</td>\n      <td>881f1a8d91fffff</td>\n    </tr>\n    <tr>\n      <th>1</th>\n      <td>3694.0</td>\n      <td>51.343813</td>\n      <td>12.381495</td>\n      <td>608</td>\n      <td>2018-01-01 13:51:06</td>\n      <td>2018-01-01 23:59:59</td>\n      <td>881f1a8cb1fffff</td>\n    </tr>\n    <tr>\n      <th>2</th>\n      <td>3694.0</td>\n      <td>51.343076</td>\n      <td>12.365177</td>\n      <td>35</td>\n      <td>2018-01-02 14:55:53</td>\n      <td>2018-01-02 15:31:44</td>\n      <td>881f1a8cbdfffff</td>\n    </tr>\n    <tr>\n      <th>3</th>\n      <td>3694.0</td>\n      <td>51.332874</td>\n      <td>12.373261</td>\n      <td>66</td>\n      <td>2018-01-02 22:53:45</td>\n      <td>2018-01-02 23:59:59</td>\n      <td>881f1a164bfffff</td>\n    </tr>\n    <tr>\n      <th>4</th>\n      <td>3694.0</td>\n      <td>51.297564</td>\n      <td>12.293015</td>\n      <td>424</td>\n      <td>2018-01-03 16:55:03</td>\n      <td>2018-01-03 23:59:59</td>\n      <td>881f1a8da3fffff</td>\n    </tr>\n  </tbody>\n</table>\n</div>"
     },
     "execution_count": 34,
     "metadata": {},
     "output_type": "execute_result"
    }
   ],
   "source": [
    "import pandas as pd\n",
    "import numpy as np\n",
    "\n",
    "df = pd.read_csv('../data/final_df_points_18-19-20-21_v1_h8.csv')\n",
    "df['time_start'] = pd.to_datetime(df['time_start'])\n",
    "df['time_end'] = pd.to_datetime(df['time_end'])\n",
    "#del df['Unnamed: 0']\n",
    "#df = df.truncate(after=10000)\n",
    "df.head()"
   ]
  },
  {
   "cell_type": "code",
   "execution_count": 35,
   "id": "0767987f",
   "metadata": {},
   "outputs": [
    {
     "data": {
      "text/plain": "   bike_id        lat        lng  timestood          time_start  \\\n0   3694.0  51.323619  12.335887         12 2017-12-31 23:47:09   \n1   3694.0  51.343813  12.381495        608 2018-01-01 13:51:06   \n2   3694.0  51.343076  12.365177         35 2018-01-02 14:55:53   \n3   3694.0  51.332874  12.373261         66 2018-01-02 22:53:45   \n4   3694.0  51.297564  12.293015        424 2018-01-03 16:55:03   \n\n             time_end           hex_id  temp  rain  snow  \n0 2017-12-31 23:59:59  881f1a8d91fffff   NaN   NaN   NaN  \n1 2018-01-01 23:59:59  881f1a8cb1fffff   NaN   NaN   NaN  \n2 2018-01-02 15:31:44  881f1a8cbdfffff   NaN   NaN   NaN  \n3 2018-01-02 23:59:59  881f1a164bfffff   NaN   NaN   NaN  \n4 2018-01-03 23:59:59  881f1a8da3fffff   NaN   NaN   NaN  ",
      "text/html": "<div>\n<style scoped>\n    .dataframe tbody tr th:only-of-type {\n        vertical-align: middle;\n    }\n\n    .dataframe tbody tr th {\n        vertical-align: top;\n    }\n\n    .dataframe thead th {\n        text-align: right;\n    }\n</style>\n<table border=\"1\" class=\"dataframe\">\n  <thead>\n    <tr style=\"text-align: right;\">\n      <th></th>\n      <th>bike_id</th>\n      <th>lat</th>\n      <th>lng</th>\n      <th>timestood</th>\n      <th>time_start</th>\n      <th>time_end</th>\n      <th>hex_id</th>\n      <th>temp</th>\n      <th>rain</th>\n      <th>snow</th>\n    </tr>\n  </thead>\n  <tbody>\n    <tr>\n      <th>0</th>\n      <td>3694.0</td>\n      <td>51.323619</td>\n      <td>12.335887</td>\n      <td>12</td>\n      <td>2017-12-31 23:47:09</td>\n      <td>2017-12-31 23:59:59</td>\n      <td>881f1a8d91fffff</td>\n      <td>NaN</td>\n      <td>NaN</td>\n      <td>NaN</td>\n    </tr>\n    <tr>\n      <th>1</th>\n      <td>3694.0</td>\n      <td>51.343813</td>\n      <td>12.381495</td>\n      <td>608</td>\n      <td>2018-01-01 13:51:06</td>\n      <td>2018-01-01 23:59:59</td>\n      <td>881f1a8cb1fffff</td>\n      <td>NaN</td>\n      <td>NaN</td>\n      <td>NaN</td>\n    </tr>\n    <tr>\n      <th>2</th>\n      <td>3694.0</td>\n      <td>51.343076</td>\n      <td>12.365177</td>\n      <td>35</td>\n      <td>2018-01-02 14:55:53</td>\n      <td>2018-01-02 15:31:44</td>\n      <td>881f1a8cbdfffff</td>\n      <td>NaN</td>\n      <td>NaN</td>\n      <td>NaN</td>\n    </tr>\n    <tr>\n      <th>3</th>\n      <td>3694.0</td>\n      <td>51.332874</td>\n      <td>12.373261</td>\n      <td>66</td>\n      <td>2018-01-02 22:53:45</td>\n      <td>2018-01-02 23:59:59</td>\n      <td>881f1a164bfffff</td>\n      <td>NaN</td>\n      <td>NaN</td>\n      <td>NaN</td>\n    </tr>\n    <tr>\n      <th>4</th>\n      <td>3694.0</td>\n      <td>51.297564</td>\n      <td>12.293015</td>\n      <td>424</td>\n      <td>2018-01-03 16:55:03</td>\n      <td>2018-01-03 23:59:59</td>\n      <td>881f1a8da3fffff</td>\n      <td>NaN</td>\n      <td>NaN</td>\n      <td>NaN</td>\n    </tr>\n  </tbody>\n</table>\n</div>"
     },
     "execution_count": 35,
     "metadata": {},
     "output_type": "execute_result"
    }
   ],
   "source": [
    "df['temp'] = np.nan\n",
    "df['rain'] = np.nan\n",
    "df['snow'] = np.nan\n",
    "df.head()"
   ]
  },
  {
   "cell_type": "code",
   "execution_count": 36,
   "id": "629de71f",
   "metadata": {},
   "outputs": [
    {
     "data": {
      "text/plain": "                             dt                         dt_iso  timezone  \\\ndatetime                                                                   \n2017-01-01 00:00:00  1483228800  2017-01-01 00:00:00 +0000 UTC      3600   \n2017-01-01 01:00:00  1483232400  2017-01-01 01:00:00 +0000 UTC      3600   \n2017-01-01 02:00:00  1483236000  2017-01-01 02:00:00 +0000 UTC      3600   \n2017-01-01 03:00:00  1483239600  2017-01-01 03:00:00 +0000 UTC      3600   \n2017-01-01 04:00:00  1483243200  2017-01-01 04:00:00 +0000 UTC      3600   \n\n                    city_name        lat        lon  temp  temp_min  temp_max  \\\ndatetime                                                                        \n2017-01-01 00:00:00   Leipzig  51.339695  12.373075 -1.23     -1.47     -0.84   \n2017-01-01 01:00:00   Leipzig  51.339695  12.373075 -1.59     -1.94     -1.41   \n2017-01-01 02:00:00   Leipzig  51.339695  12.373075 -1.68     -1.94     -1.49   \n2017-01-01 03:00:00   Leipzig  51.339695  12.373075 -1.84     -2.10     -1.60   \n2017-01-01 04:00:00   Leipzig  51.339695  12.373075 -2.07     -2.94     -1.65   \n\n                     humidity  wind_speed  wind_deg  wind_gust  rain_1h  \\\ndatetime                                                                  \n2017-01-01 00:00:00        74         6.2       200        NaN      NaN   \n2017-01-01 01:00:00        73         7.2       210        NaN      NaN   \n2017-01-01 02:00:00        73         6.7       220        NaN      NaN   \n2017-01-01 03:00:00        68         6.2       210        NaN      NaN   \n2017-01-01 04:00:00        73         4.1       190        NaN      NaN   \n\n                     rain_3h  snow_1h  snow_3h  \ndatetime                                        \n2017-01-01 00:00:00      NaN      NaN      NaN  \n2017-01-01 01:00:00      NaN      NaN      NaN  \n2017-01-01 02:00:00      NaN      NaN      NaN  \n2017-01-01 03:00:00      NaN      NaN      NaN  \n2017-01-01 04:00:00      NaN      NaN      NaN  ",
      "text/html": "<div>\n<style scoped>\n    .dataframe tbody tr th:only-of-type {\n        vertical-align: middle;\n    }\n\n    .dataframe tbody tr th {\n        vertical-align: top;\n    }\n\n    .dataframe thead th {\n        text-align: right;\n    }\n</style>\n<table border=\"1\" class=\"dataframe\">\n  <thead>\n    <tr style=\"text-align: right;\">\n      <th></th>\n      <th>dt</th>\n      <th>dt_iso</th>\n      <th>timezone</th>\n      <th>city_name</th>\n      <th>lat</th>\n      <th>lon</th>\n      <th>temp</th>\n      <th>temp_min</th>\n      <th>temp_max</th>\n      <th>humidity</th>\n      <th>wind_speed</th>\n      <th>wind_deg</th>\n      <th>wind_gust</th>\n      <th>rain_1h</th>\n      <th>rain_3h</th>\n      <th>snow_1h</th>\n      <th>snow_3h</th>\n    </tr>\n    <tr>\n      <th>datetime</th>\n      <th></th>\n      <th></th>\n      <th></th>\n      <th></th>\n      <th></th>\n      <th></th>\n      <th></th>\n      <th></th>\n      <th></th>\n      <th></th>\n      <th></th>\n      <th></th>\n      <th></th>\n      <th></th>\n      <th></th>\n      <th></th>\n      <th></th>\n    </tr>\n  </thead>\n  <tbody>\n    <tr>\n      <th>2017-01-01 00:00:00</th>\n      <td>1483228800</td>\n      <td>2017-01-01 00:00:00 +0000 UTC</td>\n      <td>3600</td>\n      <td>Leipzig</td>\n      <td>51.339695</td>\n      <td>12.373075</td>\n      <td>-1.23</td>\n      <td>-1.47</td>\n      <td>-0.84</td>\n      <td>74</td>\n      <td>6.2</td>\n      <td>200</td>\n      <td>NaN</td>\n      <td>NaN</td>\n      <td>NaN</td>\n      <td>NaN</td>\n      <td>NaN</td>\n    </tr>\n    <tr>\n      <th>2017-01-01 01:00:00</th>\n      <td>1483232400</td>\n      <td>2017-01-01 01:00:00 +0000 UTC</td>\n      <td>3600</td>\n      <td>Leipzig</td>\n      <td>51.339695</td>\n      <td>12.373075</td>\n      <td>-1.59</td>\n      <td>-1.94</td>\n      <td>-1.41</td>\n      <td>73</td>\n      <td>7.2</td>\n      <td>210</td>\n      <td>NaN</td>\n      <td>NaN</td>\n      <td>NaN</td>\n      <td>NaN</td>\n      <td>NaN</td>\n    </tr>\n    <tr>\n      <th>2017-01-01 02:00:00</th>\n      <td>1483236000</td>\n      <td>2017-01-01 02:00:00 +0000 UTC</td>\n      <td>3600</td>\n      <td>Leipzig</td>\n      <td>51.339695</td>\n      <td>12.373075</td>\n      <td>-1.68</td>\n      <td>-1.94</td>\n      <td>-1.49</td>\n      <td>73</td>\n      <td>6.7</td>\n      <td>220</td>\n      <td>NaN</td>\n      <td>NaN</td>\n      <td>NaN</td>\n      <td>NaN</td>\n      <td>NaN</td>\n    </tr>\n    <tr>\n      <th>2017-01-01 03:00:00</th>\n      <td>1483239600</td>\n      <td>2017-01-01 03:00:00 +0000 UTC</td>\n      <td>3600</td>\n      <td>Leipzig</td>\n      <td>51.339695</td>\n      <td>12.373075</td>\n      <td>-1.84</td>\n      <td>-2.10</td>\n      <td>-1.60</td>\n      <td>68</td>\n      <td>6.2</td>\n      <td>210</td>\n      <td>NaN</td>\n      <td>NaN</td>\n      <td>NaN</td>\n      <td>NaN</td>\n      <td>NaN</td>\n    </tr>\n    <tr>\n      <th>2017-01-01 04:00:00</th>\n      <td>1483243200</td>\n      <td>2017-01-01 04:00:00 +0000 UTC</td>\n      <td>3600</td>\n      <td>Leipzig</td>\n      <td>51.339695</td>\n      <td>12.373075</td>\n      <td>-2.07</td>\n      <td>-2.94</td>\n      <td>-1.65</td>\n      <td>73</td>\n      <td>4.1</td>\n      <td>190</td>\n      <td>NaN</td>\n      <td>NaN</td>\n      <td>NaN</td>\n      <td>NaN</td>\n      <td>NaN</td>\n    </tr>\n  </tbody>\n</table>\n</div>"
     },
     "execution_count": 36,
     "metadata": {},
     "output_type": "execute_result"
    }
   ],
   "source": [
    "dfw = pd.read_csv('/Users/jonweske/devment/BA_nextbike/data/weather_data.csv')\n",
    "dfw['datetime'] = pd.to_datetime(dfw['dt'], unit='s')\n",
    "dfw = dfw.set_index(['datetime'])\n",
    "dfw.head()"
   ]
  },
  {
   "cell_type": "code",
   "execution_count": 37,
   "id": "e0d04857",
   "metadata": {},
   "outputs": [
    {
     "name": "stderr",
     "output_type": "stream",
     "text": [
      "100%|██████████| 2435439/2435439 [40:11<00:00, 1009.96it/s] \n"
     ]
    },
    {
     "data": {
      "text/plain": "   bike_id        lat        lng  timestood          time_start  \\\n0   3694.0  51.323619  12.335887         12 2017-12-31 23:47:09   \n1   3694.0  51.343813  12.381495        608 2018-01-01 13:51:06   \n2   3694.0  51.343076  12.365177         35 2018-01-02 14:55:53   \n3   3694.0  51.332874  12.373261         66 2018-01-02 22:53:45   \n4   3694.0  51.297564  12.293015        424 2018-01-03 16:55:03   \n\n             time_end           hex_id   temp  rain  snow  \n0 2017-12-31 23:59:59  881f1a8d91fffff  10.80   NaN   NaN  \n1 2018-01-01 23:59:59  881f1a8cb1fffff   8.52   NaN   NaN  \n2 2018-01-02 15:31:44  881f1a8cbdfffff   6.11   NaN   NaN  \n3 2018-01-02 23:59:59  881f1a164bfffff   2.96   NaN   NaN  \n4 2018-01-03 23:59:59  881f1a8da3fffff   7.11  0.14   NaN  ",
      "text/html": "<div>\n<style scoped>\n    .dataframe tbody tr th:only-of-type {\n        vertical-align: middle;\n    }\n\n    .dataframe tbody tr th {\n        vertical-align: top;\n    }\n\n    .dataframe thead th {\n        text-align: right;\n    }\n</style>\n<table border=\"1\" class=\"dataframe\">\n  <thead>\n    <tr style=\"text-align: right;\">\n      <th></th>\n      <th>bike_id</th>\n      <th>lat</th>\n      <th>lng</th>\n      <th>timestood</th>\n      <th>time_start</th>\n      <th>time_end</th>\n      <th>hex_id</th>\n      <th>temp</th>\n      <th>rain</th>\n      <th>snow</th>\n    </tr>\n  </thead>\n  <tbody>\n    <tr>\n      <th>0</th>\n      <td>3694.0</td>\n      <td>51.323619</td>\n      <td>12.335887</td>\n      <td>12</td>\n      <td>2017-12-31 23:47:09</td>\n      <td>2017-12-31 23:59:59</td>\n      <td>881f1a8d91fffff</td>\n      <td>10.80</td>\n      <td>NaN</td>\n      <td>NaN</td>\n    </tr>\n    <tr>\n      <th>1</th>\n      <td>3694.0</td>\n      <td>51.343813</td>\n      <td>12.381495</td>\n      <td>608</td>\n      <td>2018-01-01 13:51:06</td>\n      <td>2018-01-01 23:59:59</td>\n      <td>881f1a8cb1fffff</td>\n      <td>8.52</td>\n      <td>NaN</td>\n      <td>NaN</td>\n    </tr>\n    <tr>\n      <th>2</th>\n      <td>3694.0</td>\n      <td>51.343076</td>\n      <td>12.365177</td>\n      <td>35</td>\n      <td>2018-01-02 14:55:53</td>\n      <td>2018-01-02 15:31:44</td>\n      <td>881f1a8cbdfffff</td>\n      <td>6.11</td>\n      <td>NaN</td>\n      <td>NaN</td>\n    </tr>\n    <tr>\n      <th>3</th>\n      <td>3694.0</td>\n      <td>51.332874</td>\n      <td>12.373261</td>\n      <td>66</td>\n      <td>2018-01-02 22:53:45</td>\n      <td>2018-01-02 23:59:59</td>\n      <td>881f1a164bfffff</td>\n      <td>2.96</td>\n      <td>NaN</td>\n      <td>NaN</td>\n    </tr>\n    <tr>\n      <th>4</th>\n      <td>3694.0</td>\n      <td>51.297564</td>\n      <td>12.293015</td>\n      <td>424</td>\n      <td>2018-01-03 16:55:03</td>\n      <td>2018-01-03 23:59:59</td>\n      <td>881f1a8da3fffff</td>\n      <td>7.11</td>\n      <td>0.14</td>\n      <td>NaN</td>\n    </tr>\n  </tbody>\n</table>\n</div>"
     },
     "execution_count": 37,
     "metadata": {},
     "output_type": "execute_result"
    }
   ],
   "source": [
    "## copy temp / rain / snow to every row\n",
    "## by last hourly data\n",
    "\n",
    "from tqdm import tqdm\n",
    "pd.options.mode.chained_assignment = None\n",
    "\n",
    "for ind in tqdm(df.index):\n",
    "    wint = df['time_start'][ind].replace(minute=0,second=0)\n",
    "    df['temp'][ind] = dfw['temp'][wint].copy()\n",
    "    df['rain'][ind] = dfw['rain_1h'][wint].copy()\n",
    "    df['snow'][ind] = dfw['snow_1h'][wint].copy()\n",
    "\n",
    "df.head()"
   ]
  },
  {
   "cell_type": "code",
   "execution_count": 38,
   "id": "e301feb0",
   "metadata": {},
   "outputs": [
    {
     "data": {
      "text/plain": "   bike_id        lat        lng  timestood          time_start  \\\n0     3694  51.323619  12.335887         12 2017-12-31 23:47:09   \n1     3694  51.343813  12.381495        608 2018-01-01 13:51:06   \n2     3694  51.343076  12.365177         35 2018-01-02 14:55:53   \n3     3694  51.332874  12.373261         66 2018-01-02 22:53:45   \n4     3694  51.297564  12.293015        424 2018-01-03 16:55:03   \n\n             time_end           hex_id   temp  rain  snow    dt_start  \\\n0 2017-12-31 23:59:59  881f1a8d91fffff  10.80   NaN   NaN  1514764029   \n1 2018-01-01 23:59:59  881f1a8cb1fffff   8.52   NaN   NaN  1514814666   \n2 2018-01-02 15:31:44  881f1a8cbdfffff   6.11   NaN   NaN  1514904953   \n3 2018-01-02 23:59:59  881f1a164bfffff   2.96   NaN   NaN  1514933625   \n4 2018-01-03 23:59:59  881f1a8da3fffff   7.11  0.14   NaN  1514998503   \n\n       dt_end  \n0  1514764799  \n1  1514851199  \n2  1514907104  \n3  1514937599  \n4  1515023999  ",
      "text/html": "<div>\n<style scoped>\n    .dataframe tbody tr th:only-of-type {\n        vertical-align: middle;\n    }\n\n    .dataframe tbody tr th {\n        vertical-align: top;\n    }\n\n    .dataframe thead th {\n        text-align: right;\n    }\n</style>\n<table border=\"1\" class=\"dataframe\">\n  <thead>\n    <tr style=\"text-align: right;\">\n      <th></th>\n      <th>bike_id</th>\n      <th>lat</th>\n      <th>lng</th>\n      <th>timestood</th>\n      <th>time_start</th>\n      <th>time_end</th>\n      <th>hex_id</th>\n      <th>temp</th>\n      <th>rain</th>\n      <th>snow</th>\n      <th>dt_start</th>\n      <th>dt_end</th>\n    </tr>\n  </thead>\n  <tbody>\n    <tr>\n      <th>0</th>\n      <td>3694</td>\n      <td>51.323619</td>\n      <td>12.335887</td>\n      <td>12</td>\n      <td>2017-12-31 23:47:09</td>\n      <td>2017-12-31 23:59:59</td>\n      <td>881f1a8d91fffff</td>\n      <td>10.80</td>\n      <td>NaN</td>\n      <td>NaN</td>\n      <td>1514764029</td>\n      <td>1514764799</td>\n    </tr>\n    <tr>\n      <th>1</th>\n      <td>3694</td>\n      <td>51.343813</td>\n      <td>12.381495</td>\n      <td>608</td>\n      <td>2018-01-01 13:51:06</td>\n      <td>2018-01-01 23:59:59</td>\n      <td>881f1a8cb1fffff</td>\n      <td>8.52</td>\n      <td>NaN</td>\n      <td>NaN</td>\n      <td>1514814666</td>\n      <td>1514851199</td>\n    </tr>\n    <tr>\n      <th>2</th>\n      <td>3694</td>\n      <td>51.343076</td>\n      <td>12.365177</td>\n      <td>35</td>\n      <td>2018-01-02 14:55:53</td>\n      <td>2018-01-02 15:31:44</td>\n      <td>881f1a8cbdfffff</td>\n      <td>6.11</td>\n      <td>NaN</td>\n      <td>NaN</td>\n      <td>1514904953</td>\n      <td>1514907104</td>\n    </tr>\n    <tr>\n      <th>3</th>\n      <td>3694</td>\n      <td>51.332874</td>\n      <td>12.373261</td>\n      <td>66</td>\n      <td>2018-01-02 22:53:45</td>\n      <td>2018-01-02 23:59:59</td>\n      <td>881f1a164bfffff</td>\n      <td>2.96</td>\n      <td>NaN</td>\n      <td>NaN</td>\n      <td>1514933625</td>\n      <td>1514937599</td>\n    </tr>\n    <tr>\n      <th>4</th>\n      <td>3694</td>\n      <td>51.297564</td>\n      <td>12.293015</td>\n      <td>424</td>\n      <td>2018-01-03 16:55:03</td>\n      <td>2018-01-03 23:59:59</td>\n      <td>881f1a8da3fffff</td>\n      <td>7.11</td>\n      <td>0.14</td>\n      <td>NaN</td>\n      <td>1514998503</td>\n      <td>1515023999</td>\n    </tr>\n  </tbody>\n</table>\n</div>"
     },
     "execution_count": 38,
     "metadata": {},
     "output_type": "execute_result"
    }
   ],
   "source": [
    "import datetime\n",
    "import time\n",
    "\n",
    "#df['dt_start'] = pd.to_datetime(df['time_start']).astype(int) / 10**9\n",
    "#df['dt_end'] = pd.to_datetime(df['time_end']).astype(int) / 10**9\n",
    "\n",
    "df['dt_start'] = pd.to_datetime(df['time_start']).map(pd.Timestamp.timestamp).astype(int)\n",
    "df['dt_end'] = pd.to_datetime(df['time_end']).map(pd.Timestamp.timestamp).astype(int)\n",
    "df['bike_id'] = df['bike_id'].astype(int)\n",
    "\n",
    "df.head()"
   ]
  },
  {
   "cell_type": "code",
   "execution_count": 39,
   "outputs": [],
   "source": [
    "df.to_csv('../data/df_points_18-19-20-21_v1_weather_final.csv', index=False)"
   ],
   "metadata": {
    "collapsed": false,
    "pycharm": {
     "name": "#%%\n"
    }
   }
  },
  {
   "cell_type": "code",
   "execution_count": null,
   "outputs": [],
   "source": [],
   "metadata": {
    "collapsed": false,
    "pycharm": {
     "name": "#%%\n"
    }
   }
  }
 ],
 "metadata": {
  "kernelspec": {
   "display_name": "Python 3 (ipykernel)",
   "language": "python",
   "name": "python3"
  },
  "language_info": {
   "codemirror_mode": {
    "name": "ipython",
    "version": 3
   },
   "file_extension": ".py",
   "mimetype": "text/x-python",
   "name": "python",
   "nbconvert_exporter": "python",
   "pygments_lexer": "ipython3",
   "version": "3.9.7"
  }
 },
 "nbformat": 4,
 "nbformat_minor": 5
}