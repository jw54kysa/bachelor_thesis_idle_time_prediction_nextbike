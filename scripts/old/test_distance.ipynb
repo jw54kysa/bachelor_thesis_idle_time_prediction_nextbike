{
 "cells": [
  {
   "cell_type": "code",
   "execution_count": 1,
   "id": "a04448e9",
   "metadata": {},
   "outputs": [],
   "source": [
    "Alat = 51.300405\n",
    "Alng = 12.311043\n",
    "Blat = 51.301405\n",
    "Blng = 12.312043"
   ]
  },
  {
   "cell_type": "code",
   "execution_count": 2,
   "id": "6e90c011",
   "metadata": {},
   "outputs": [],
   "source": [
    "# returns distance in meter\n",
    "# source: https://www.it-swarm.com.de/de/python/wie-kann-ich-die-entfernung-zwischen-zwei-punkten-breitengrad-laengengrad-schnell-schaetzen/1072488907/\n",
    "def qick_distance(Lat1, Long1, Lat2, Long2):\n",
    "    x = Lat2 - Lat1\n",
    "    y = (Long2 - Long1)*cos((Lat2 + Lat1)*0.00872664626)  \n",
    "    return 111.138*sqrt(x*x+y*y)*1000"
   ]
  },
  {
   "cell_type": "code",
   "execution_count": 3,
   "id": "e1559eb2",
   "metadata": {},
   "outputs": [
    {
     "name": "stdout",
     "output_type": "stream",
     "text": [
      "131.07279326442534\n"
     ]
    }
   ],
   "source": [
    "from math import radians, cos, sin, asin, sqrt\n",
    "print(qick_distance(Alat,Alng,Blat,Blng))"
   ]
  },
  {
   "cell_type": "code",
   "execution_count": null,
   "id": "baaa90a9",
   "metadata": {},
   "outputs": [],
   "source": []
  }
 ],
 "metadata": {
  "kernelspec": {
   "display_name": "Python 3 (ipykernel)",
   "language": "python",
   "name": "python3"
  },
  "language_info": {
   "codemirror_mode": {
    "name": "ipython",
    "version": 3
   },
   "file_extension": ".py",
   "mimetype": "text/x-python",
   "name": "python",
   "nbconvert_exporter": "python",
   "pygments_lexer": "ipython3",
   "version": "3.9.7"
  }
 },
 "nbformat": 4,
 "nbformat_minor": 5
}
