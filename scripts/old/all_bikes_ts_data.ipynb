{
 "cells": [
  {
   "cell_type": "code",
   "execution_count": 5,
   "id": "2a463dd0",
   "metadata": {},
   "outputs": [],
   "source": [
    "def importdata():\n",
    "    df = pd.read_csv('../data/df_points_2018_2020_h8.csv')\n",
    "    df = df[['bike_id','lat','lng','timestood','time_start','time_end','hex_id']]\n",
    "    \n",
    "    df['time_start'] = pd.to_datetime(df['time_start'])\n",
    "    \n",
    "    return df"
   ]
  },
  {
   "cell_type": "code",
   "execution_count": 6,
   "id": "c0530cdc",
   "metadata": {},
   "outputs": [],
   "source": [
    "def create_tsdata(_year,_days):\n",
    "    rng = pd.date_range(f'{_year}-01-01', periods=_days, freq='D')\n",
    "    tsdata = pd.DataFrame({ 'date': rng, 'idle_time' : np.nan, 'list': np.nan, 'bike_count': np.nan}) \n",
    "    return tsdata.set_index('date')"
   ]
  },
  {
   "cell_type": "code",
   "execution_count": 7,
   "id": "dbfe0138",
   "metadata": {},
   "outputs": [],
   "source": [
    "def plot_details(tsdata,data_7d_rol,data_2m_rol):\n",
    "    fig, ax = plt.subplots(figsize = (20,10))\n",
    "    \n",
    "    # plotting daily data\n",
    "    ax.plot(tsdata['idle_time'], marker='.', markersize=2, color='0.6',linestyle='None', label='Daily')\n",
    "    # plotting 7-day rolling data\n",
    "    ax.plot(data_7d_rol['idle_time'], linewidth=2, label='7-d Rolling Mean')\n",
    "    # plotting 2-Month rolling data -trend-\n",
    "    ax.plot(data_2m_rol['idle_time'], color='0.2', linewidth=3, label='Trend (2M)')\n",
    "    ax.legend()\n",
    "    ax.set_xlabel('day')\n",
    "    ax.set_ylabel('timestood (min)')\n",
    "    ax.set_title(f'Trends in idel time of bikes in hex: --- all leipzig ---')\n",
    "    \n",
    "    ax2 = ax.twinx()\n",
    "    ax2.plot(data_7d_rol['bike_count'],linewidth=1, color='0.5',label='Bike Count 7-d RM')\n",
    "    ax2.set_xlabel('day')\n",
    "    ax2.set_ylabel('bikes in hex per day')\n",
    "    ax2.legend()\n",
    "    \n",
    "    plt.show()"
   ]
  },
  {
   "cell_type": "code",
   "execution_count": 8,
   "id": "8f11d2d4",
   "metadata": {},
   "outputs": [],
   "source": [
    "def all_add_rows_to_days(tsdata,df):\n",
    "    # iteriere über alle Tage\n",
    "    for date in tqdm(tsdata.index):\n",
    "        list = []\n",
    "        # Adde alle Rows in die List wenn Tag = Tag\n",
    "        for ind in df.index:\n",
    "            if date.date() == df['time_start'][ind].date():\n",
    "                list.append(df['timestood'][ind])\n",
    "        # Setze Mittelwert für Tag\n",
    "        if len(list) == 0:\n",
    "            tsdata['bike_count'][date] = 0\n",
    "            continue\n",
    "        else:\n",
    "            tsdata['bike_count'][date] = len(list)\n",
    "            tsdata['idle_time'][date] = statistics.mean(list)\n",
    "    return tsdata"
   ]
  },
  {
   "cell_type": "markdown",
   "id": "9a92b77a",
   "metadata": {},
   "source": [
    "# Main"
   ]
  },
  {
   "cell_type": "code",
   "execution_count": null,
   "id": "ba6e2b5c",
   "metadata": {},
   "outputs": [],
   "source": [
    "df = importdata()\n",
    "alltsdata = create_tsdata()\n",
    "alltsdata = all_add_rows_to_days(alltsdata,df)\n",
    "\n",
    "columns_for_tsdata = ['idle_time','bike_count']\n",
    "all_data_7d_rol = alltsdata[columns_for_tsdata].rolling(window = 7, center = True).mean()\n",
    "all_data_2m_rol = alltsdata[columns_for_tsdata].rolling(window = 60, center = True).mean()\n",
    "\n",
    "plot_details(alltsdata,all_data_7d_rol,all_data_2m_rol)"
   ]
  }
 ],
 "metadata": {
  "kernelspec": {
   "display_name": "Python 3 (ipykernel)",
   "language": "python",
   "name": "python3"
  },
  "language_info": {
   "codemirror_mode": {
    "name": "ipython",
    "version": 3
   },
   "file_extension": ".py",
   "mimetype": "text/x-python",
   "name": "python",
   "nbconvert_exporter": "python",
   "pygments_lexer": "ipython3",
   "version": "3.9.7"
  }
 },
 "nbformat": 4,
 "nbformat_minor": 5
}
