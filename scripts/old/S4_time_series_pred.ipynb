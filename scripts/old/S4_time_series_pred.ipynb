{
 "cells": [
  {
   "cell_type": "code",
   "execution_count": 1,
   "id": "01b26676",
   "metadata": {},
   "outputs": [],
   "source": [
    "def importdata():\n",
    "    df = pd.read_csv('../data/final_df_points_18_21.csv')\n",
    "    #df['time_start'] = pd.to_datetime(df['time_start'])\n",
    "    return df"
   ]
  },
  {
   "cell_type": "code",
   "execution_count": 2,
   "id": "e6560592",
   "metadata": {},
   "outputs": [],
   "source": [
    "def create_onedf_hexid(df,hex_id):\n",
    "    onedfhexid = pd.DataFrame(columns=df.columns)\n",
    "    for ind in tqdm(df.index):\n",
    "        if df['hex_id'][ind] == hex_id:\n",
    "            onedfhexid.loc[df.index[ind]] = df.iloc[ind]\n",
    "            #onedfhexid.append(df[ind], ignore_index = True)\n",
    "    return onedfhexid.reset_index(drop=True)"
   ]
  },
  {
   "cell_type": "code",
   "execution_count": 3,
   "id": "e99c1f77",
   "metadata": {},
   "outputs": [],
   "source": [
    "def create_tsdata(_year,_days):\n",
    "    rng = pd.date_range(f'{_year}-01-01', periods=_days, freq='D')\n",
    "    tsdata = pd.DataFrame({ 'date': rng, 'idle_time' : np.nan, 'list': np.nan, 'bike_count': np.nan}) \n",
    "    return tsdata.set_index('date')"
   ]
  },
  {
   "cell_type": "code",
   "execution_count": 4,
   "id": "04ef7983",
   "metadata": {},
   "outputs": [],
   "source": [
    "def add_rows_to_days(tsdata,onedfhexid):\n",
    "    # iteriere über alle Tage\n",
    "    for date in tqdm(tsdata.index):\n",
    "        list = []\n",
    "        # Adde alle Rows in die List wenn Tag = Tag\n",
    "        for ind in onedfhexid.index:\n",
    "            if date.date() == onedfhexid['dt_start'][ind].date():\n",
    "                list.append(onedfhexid['timestood'][ind])\n",
    "        #print(len(list))        \n",
    "        # Setze Mittelwert für Tage\n",
    "        if len(list) == 0:\n",
    "            tsdata['bike_count'][date] = 1\n",
    "            continue\n",
    "        else:\n",
    "            tsdata['bike_count'][date] = len(list)\n",
    "            tsdata['idle_time'][date] = statistics.mean(list)\n",
    "    return tsdata"
   ]
  },
  {
   "cell_type": "code",
   "execution_count": 5,
   "id": "64eec561",
   "metadata": {},
   "outputs": [],
   "source": [
    "def get_rows_one_day(day,onedfhexid):\n",
    "    list=[]\n",
    "    for ind in onedfhexid.index:\n",
    "        if day == onedfhexid['time_start'][ind].date():\n",
    "            list.append(onedfhexid['timestood'][ind])\n",
    "    print(list)\n",
    "    print(statistics.mean(list))"
   ]
  },
  {
   "cell_type": "code",
   "execution_count": 6,
   "id": "3b468636",
   "metadata": {},
   "outputs": [],
   "source": [
    "def roling_weighted_mean(tsdata,_year,_days):\n",
    "    x = []\n",
    "    rng2 = pd.date_range(f'{_year}-01-01', periods=_days, freq='D')\n",
    "    data_mean2 = pd.DataFrame({ 'date': rng2, 'idle_time' : np.nan})\n",
    "    data_mean2 = data_mean2.set_index('date')\n",
    "    \n",
    "    for window in tsdata.rolling(window = 7 , center = True):\n",
    "        #print(window)\n",
    "        x.append(np.average(window['idle_time'], weights = window['bike_count']))\n",
    "    \n",
    "    data_mean2['idle_time'] = x\n",
    "    return data_mean2"
   ]
  },
  {
   "cell_type": "code",
   "execution_count": 7,
   "id": "dc7a87be",
   "metadata": {},
   "outputs": [],
   "source": [
    "def plot(x):\n",
    "    fig, ax1 = plt.subplots(figsize = (20,10))\n",
    "    \n",
    "    ax1.plot(x['idle_time'], linewidth=2,color='red', label='Idle Time Mean')\n",
    "    ax1.set_xlabel('day')\n",
    "    ax1.set_ylabel('timestood (min)')\n",
    "    ax1.tick_params(axis ='y', labelcolor = 'red') \n",
    "    \n",
    "    ax2 = ax1.twinx()\n",
    "    ax2.plot(x['bike_count'], linewidth=2, label='bike_count')\n",
    "    ax2.set_ylabel('bike_count')\n",
    "    ax2.tick_params(axis ='y', labelcolor = 'blue')\n",
    "    \n",
    "    plt.show()"
   ]
  },
  {
   "cell_type": "code",
   "execution_count": 8,
   "id": "50d92a87",
   "metadata": {},
   "outputs": [],
   "source": [
    "def plot_details(tsdata,data_7d_rol,data_2m_rol,data_7d_mean2,hex_id,total_bike_count):\n",
    "    fig, ax = plt.subplots(figsize = (20,10))\n",
    "    \n",
    "    # plotting daily data\n",
    "    ax.plot(tsdata['idle_time'], marker='.', markersize=2, color='0.6',linestyle='None', label='Daily')\n",
    "    # plotting 7-day rolling data\n",
    "    ax.plot(data_7d_rol['idle_time'],color = 'blue', linewidth=2, label='7-d Rolling Mean')\n",
    "    ax.plot(data_7d_mean2['idle_time'],color = 'green', linewidth=2, label='7-d Rolling Mean')\n",
    "    # plotting 2-Month rolling data -trend-\n",
    "    ax.plot(data_2m_rol['idle_time'], color='0.2', linewidth=3, label='Trend (2M)')\n",
    "    ax.legend()\n",
    "    ax.set_xlabel('day')\n",
    "    ax.set_ylabel('timestood (min)')\n",
    "    ax.set_title(f'Trends in idel time of bikes in hex: {hex_id} with a total of {total_bike_count} rentals')\n",
    "    \n",
    "    ax2 = ax.twinx()\n",
    "    ax2.plot(data_7d_rol['bike_count'],linewidth=1, color='0.5',label='Bike Count 7-d RM')\n",
    "    ax2.set_xlabel('day')\n",
    "    ax2.set_ylabel('bikes in hex per day')\n",
    "    ax2.legend()\n",
    "    \n",
    "    plt.show()"
   ]
  },
  {
   "cell_type": "code",
   "execution_count": 9,
   "id": "3aa5aba5",
   "metadata": {},
   "outputs": [],
   "source": [
    "def fix_missing_values(tsdata):\n",
    "    data_freq = tsdata.asfreq('D')\n",
    "    data_freq = data_freq.ffill()\n",
    "    return data_freq"
   ]
  },
  {
   "cell_type": "markdown",
   "id": "42f1f959",
   "metadata": {},
   "source": [
    "# Main"
   ]
  },
  {
   "cell_type": "code",
   "execution_count": 10,
   "id": "67d54181",
   "metadata": {},
   "outputs": [],
   "source": [
    "import pandas as pd\n",
    "pd.options.mode.chained_assignment = None\n",
    "from tqdm import tqdm\n",
    "from datetime import timedelta, datetime, date\n",
    "pd.set_option('display.max_rows', None)\n",
    "import weightedstats\n",
    "\n",
    "import numpy as np\n",
    "import statistics\n",
    "import matplotlib.pyplot as plt\n",
    "\n",
    "### Define the HEX_id\n",
    "\n",
    "#hex_id = '8a1f1a8d9d97fff'\n",
    "#hex_id = '8a1f1a8cb4cffff'\n",
    "#hex_id = '8a1f1a8cb4dffff'\n",
    "#hex_id = '8a1f1a8cb71ffff'\n",
    "hex_id = '881f1a8cb7fffff'\n",
    "\n",
    "days=1460\n",
    "year=2018\n",
    "data_columns = ['idle_time','bike_count']\n"
   ]
  },
  {
   "cell_type": "code",
   "execution_count": 11,
   "outputs": [],
   "source": [
    "df = importdata()"
   ],
   "metadata": {
    "collapsed": false,
    "pycharm": {
     "name": "#%%\n"
    }
   }
  },
  {
   "cell_type": "code",
   "execution_count": 12,
   "outputs": [
    {
     "data": {
      "text/plain": "   bike_id        lat        lng    dt_start      dt_end           hex_id  \\\n0     3694  51.323619  12.335887  1514764029  1514764799  881f1a8d91fffff   \n1     2508  51.323619  12.335887  1514764035  1514764799  881f1a8d91fffff   \n2    41851  51.332415  12.395158  1514764638  1514764799  881f1a1659fffff   \n3     3694  51.323619  12.335887  1514764800  1514814103  881f1a8d91fffff   \n4     2508  51.323619  12.335887  1514764800  1514851199  881f1a8d91fffff   \n\n   in_zone                   zone_name  end_station_number   temp  ...  snow  \\\n0        1  Pinke Zone Leipzig West 1€                4094  10.80  ...   0.0   \n1        1  Pinke Zone Leipzig West 1€                4094  10.80  ...   0.0   \n2        1   Pinke Zone Leipzig Ost 1€                   0  10.80  ...   0.0   \n3        1  Pinke Zone Leipzig West 1€                4094  10.86  ...   0.0   \n4        1  Pinke Zone Leipzig West 1€                4094  10.86  ...   0.0   \n\n   wind_speed  humidity  year  month  day  start_min  over_night  \\\n0         7.2      76.0  2017     12    6       1427           1   \n1         7.2      76.0  2017     12    6       1427           1   \n2         7.2      76.0  2017     12    6       1437           1   \n3         9.3      76.0  2018      1    0          0           0   \n4         9.3      76.0  2018      1    0          0           1   \n\n   idle_time_next_day  idle_time  \n0                 821         12  \n1                1439         12  \n2                1439          2  \n3                   0        821  \n4                 878       1439  \n\n[5 rows x 21 columns]",
      "text/html": "<div>\n<style scoped>\n    .dataframe tbody tr th:only-of-type {\n        vertical-align: middle;\n    }\n\n    .dataframe tbody tr th {\n        vertical-align: top;\n    }\n\n    .dataframe thead th {\n        text-align: right;\n    }\n</style>\n<table border=\"1\" class=\"dataframe\">\n  <thead>\n    <tr style=\"text-align: right;\">\n      <th></th>\n      <th>bike_id</th>\n      <th>lat</th>\n      <th>lng</th>\n      <th>dt_start</th>\n      <th>dt_end</th>\n      <th>hex_id</th>\n      <th>in_zone</th>\n      <th>zone_name</th>\n      <th>end_station_number</th>\n      <th>temp</th>\n      <th>...</th>\n      <th>snow</th>\n      <th>wind_speed</th>\n      <th>humidity</th>\n      <th>year</th>\n      <th>month</th>\n      <th>day</th>\n      <th>start_min</th>\n      <th>over_night</th>\n      <th>idle_time_next_day</th>\n      <th>idle_time</th>\n    </tr>\n  </thead>\n  <tbody>\n    <tr>\n      <th>0</th>\n      <td>3694</td>\n      <td>51.323619</td>\n      <td>12.335887</td>\n      <td>1514764029</td>\n      <td>1514764799</td>\n      <td>881f1a8d91fffff</td>\n      <td>1</td>\n      <td>Pinke Zone Leipzig West 1€</td>\n      <td>4094</td>\n      <td>10.80</td>\n      <td>...</td>\n      <td>0.0</td>\n      <td>7.2</td>\n      <td>76.0</td>\n      <td>2017</td>\n      <td>12</td>\n      <td>6</td>\n      <td>1427</td>\n      <td>1</td>\n      <td>821</td>\n      <td>12</td>\n    </tr>\n    <tr>\n      <th>1</th>\n      <td>2508</td>\n      <td>51.323619</td>\n      <td>12.335887</td>\n      <td>1514764035</td>\n      <td>1514764799</td>\n      <td>881f1a8d91fffff</td>\n      <td>1</td>\n      <td>Pinke Zone Leipzig West 1€</td>\n      <td>4094</td>\n      <td>10.80</td>\n      <td>...</td>\n      <td>0.0</td>\n      <td>7.2</td>\n      <td>76.0</td>\n      <td>2017</td>\n      <td>12</td>\n      <td>6</td>\n      <td>1427</td>\n      <td>1</td>\n      <td>1439</td>\n      <td>12</td>\n    </tr>\n    <tr>\n      <th>2</th>\n      <td>41851</td>\n      <td>51.332415</td>\n      <td>12.395158</td>\n      <td>1514764638</td>\n      <td>1514764799</td>\n      <td>881f1a1659fffff</td>\n      <td>1</td>\n      <td>Pinke Zone Leipzig Ost 1€</td>\n      <td>0</td>\n      <td>10.80</td>\n      <td>...</td>\n      <td>0.0</td>\n      <td>7.2</td>\n      <td>76.0</td>\n      <td>2017</td>\n      <td>12</td>\n      <td>6</td>\n      <td>1437</td>\n      <td>1</td>\n      <td>1439</td>\n      <td>2</td>\n    </tr>\n    <tr>\n      <th>3</th>\n      <td>3694</td>\n      <td>51.323619</td>\n      <td>12.335887</td>\n      <td>1514764800</td>\n      <td>1514814103</td>\n      <td>881f1a8d91fffff</td>\n      <td>1</td>\n      <td>Pinke Zone Leipzig West 1€</td>\n      <td>4094</td>\n      <td>10.86</td>\n      <td>...</td>\n      <td>0.0</td>\n      <td>9.3</td>\n      <td>76.0</td>\n      <td>2018</td>\n      <td>1</td>\n      <td>0</td>\n      <td>0</td>\n      <td>0</td>\n      <td>0</td>\n      <td>821</td>\n    </tr>\n    <tr>\n      <th>4</th>\n      <td>2508</td>\n      <td>51.323619</td>\n      <td>12.335887</td>\n      <td>1514764800</td>\n      <td>1514851199</td>\n      <td>881f1a8d91fffff</td>\n      <td>1</td>\n      <td>Pinke Zone Leipzig West 1€</td>\n      <td>4094</td>\n      <td>10.86</td>\n      <td>...</td>\n      <td>0.0</td>\n      <td>9.3</td>\n      <td>76.0</td>\n      <td>2018</td>\n      <td>1</td>\n      <td>0</td>\n      <td>0</td>\n      <td>1</td>\n      <td>878</td>\n      <td>1439</td>\n    </tr>\n  </tbody>\n</table>\n<p>5 rows × 21 columns</p>\n</div>"
     },
     "execution_count": 12,
     "metadata": {},
     "output_type": "execute_result"
    }
   ],
   "source": [
    "df.head()"
   ],
   "metadata": {
    "collapsed": false,
    "pycharm": {
     "name": "#%%\n"
    }
   }
  },
  {
   "cell_type": "code",
   "execution_count": 13,
   "outputs": [
    {
     "name": "stderr",
     "output_type": "stream",
     "text": [
      "100%|██████████| 2543830/2543830 [27:38<00:00, 1533.45it/s] \n"
     ]
    }
   ],
   "source": [
    "onedfhexid = create_onedf_hexid(df,hex_id)"
   ],
   "metadata": {
    "collapsed": false,
    "pycharm": {
     "name": "#%%\n"
    }
   }
  },
  {
   "cell_type": "code",
   "execution_count": null,
   "outputs": [],
   "source": [],
   "metadata": {
    "collapsed": false,
    "pycharm": {
     "name": "#%%\n"
    }
   }
  },
  {
   "cell_type": "code",
   "execution_count": 14,
   "outputs": [
    {
     "name": "stderr",
     "output_type": "stream",
     "text": [
      "  0%|          | 0/1460 [00:00<?, ?it/s]\n"
     ]
    },
    {
     "ename": "KeyError",
     "evalue": "'time_start'",
     "output_type": "error",
     "traceback": [
      "\u001B[0;31m---------------------------------------------------------------------------\u001B[0m",
      "\u001B[0;31mKeyError\u001B[0m                                  Traceback (most recent call last)",
      "\u001B[0;32m/usr/local/Caskroom/miniconda/base/envs/geobike/lib/python3.9/site-packages/pandas/core/indexes/base.py\u001B[0m in \u001B[0;36mget_loc\u001B[0;34m(self, key, method, tolerance)\u001B[0m\n\u001B[1;32m   3360\u001B[0m             \u001B[0;32mtry\u001B[0m\u001B[0;34m:\u001B[0m\u001B[0;34m\u001B[0m\u001B[0;34m\u001B[0m\u001B[0m\n\u001B[0;32m-> 3361\u001B[0;31m                 \u001B[0;32mreturn\u001B[0m \u001B[0mself\u001B[0m\u001B[0;34m.\u001B[0m\u001B[0m_engine\u001B[0m\u001B[0;34m.\u001B[0m\u001B[0mget_loc\u001B[0m\u001B[0;34m(\u001B[0m\u001B[0mcasted_key\u001B[0m\u001B[0;34m)\u001B[0m\u001B[0;34m\u001B[0m\u001B[0;34m\u001B[0m\u001B[0m\n\u001B[0m\u001B[1;32m   3362\u001B[0m             \u001B[0;32mexcept\u001B[0m \u001B[0mKeyError\u001B[0m \u001B[0;32mas\u001B[0m \u001B[0merr\u001B[0m\u001B[0;34m:\u001B[0m\u001B[0;34m\u001B[0m\u001B[0;34m\u001B[0m\u001B[0m\n",
      "\u001B[0;32m/usr/local/Caskroom/miniconda/base/envs/geobike/lib/python3.9/site-packages/pandas/_libs/index.pyx\u001B[0m in \u001B[0;36mpandas._libs.index.IndexEngine.get_loc\u001B[0;34m()\u001B[0m\n",
      "\u001B[0;32m/usr/local/Caskroom/miniconda/base/envs/geobike/lib/python3.9/site-packages/pandas/_libs/index.pyx\u001B[0m in \u001B[0;36mpandas._libs.index.IndexEngine.get_loc\u001B[0;34m()\u001B[0m\n",
      "\u001B[0;32mpandas/_libs/hashtable_class_helper.pxi\u001B[0m in \u001B[0;36mpandas._libs.hashtable.PyObjectHashTable.get_item\u001B[0;34m()\u001B[0m\n",
      "\u001B[0;32mpandas/_libs/hashtable_class_helper.pxi\u001B[0m in \u001B[0;36mpandas._libs.hashtable.PyObjectHashTable.get_item\u001B[0;34m()\u001B[0m\n",
      "\u001B[0;31mKeyError\u001B[0m: 'time_start'",
      "\nThe above exception was the direct cause of the following exception:\n",
      "\u001B[0;31mKeyError\u001B[0m                                  Traceback (most recent call last)",
      "\u001B[0;32m/var/folders/5t/28jzvs016nq5vxslb670gs040000gn/T/ipykernel_9569/4229812756.py\u001B[0m in \u001B[0;36m<module>\u001B[0;34m\u001B[0m\n\u001B[1;32m      2\u001B[0m \u001B[0;34m\u001B[0m\u001B[0m\n\u001B[1;32m      3\u001B[0m \u001B[0mtsdata\u001B[0m \u001B[0;34m=\u001B[0m \u001B[0mcreate_tsdata\u001B[0m\u001B[0;34m(\u001B[0m\u001B[0myear\u001B[0m\u001B[0;34m,\u001B[0m\u001B[0mdays\u001B[0m\u001B[0;34m)\u001B[0m\u001B[0;34m\u001B[0m\u001B[0;34m\u001B[0m\u001B[0m\n\u001B[0;32m----> 4\u001B[0;31m \u001B[0mtsdata\u001B[0m \u001B[0;34m=\u001B[0m \u001B[0madd_rows_to_days\u001B[0m\u001B[0;34m(\u001B[0m\u001B[0mtsdata\u001B[0m\u001B[0;34m,\u001B[0m\u001B[0monedfhexid\u001B[0m\u001B[0;34m)\u001B[0m\u001B[0;34m\u001B[0m\u001B[0;34m\u001B[0m\u001B[0m\n\u001B[0m\u001B[1;32m      5\u001B[0m \u001B[0;34m\u001B[0m\u001B[0m\n",
      "\u001B[0;32m/var/folders/5t/28jzvs016nq5vxslb670gs040000gn/T/ipykernel_9569/2647197243.py\u001B[0m in \u001B[0;36madd_rows_to_days\u001B[0;34m(tsdata, onedfhexid)\u001B[0m\n\u001B[1;32m      5\u001B[0m         \u001B[0;31m# Adde alle Rows in die List wenn Tag = Tag\u001B[0m\u001B[0;34m\u001B[0m\u001B[0;34m\u001B[0m\u001B[0m\n\u001B[1;32m      6\u001B[0m         \u001B[0;32mfor\u001B[0m \u001B[0mind\u001B[0m \u001B[0;32min\u001B[0m \u001B[0monedfhexid\u001B[0m\u001B[0;34m.\u001B[0m\u001B[0mindex\u001B[0m\u001B[0;34m:\u001B[0m\u001B[0;34m\u001B[0m\u001B[0;34m\u001B[0m\u001B[0m\n\u001B[0;32m----> 7\u001B[0;31m             \u001B[0;32mif\u001B[0m \u001B[0mdate\u001B[0m\u001B[0;34m.\u001B[0m\u001B[0mdate\u001B[0m\u001B[0;34m(\u001B[0m\u001B[0;34m)\u001B[0m \u001B[0;34m==\u001B[0m \u001B[0monedfhexid\u001B[0m\u001B[0;34m[\u001B[0m\u001B[0;34m'time_start'\u001B[0m\u001B[0;34m]\u001B[0m\u001B[0;34m[\u001B[0m\u001B[0mind\u001B[0m\u001B[0;34m]\u001B[0m\u001B[0;34m.\u001B[0m\u001B[0mdate\u001B[0m\u001B[0;34m(\u001B[0m\u001B[0;34m)\u001B[0m\u001B[0;34m:\u001B[0m\u001B[0;34m\u001B[0m\u001B[0;34m\u001B[0m\u001B[0m\n\u001B[0m\u001B[1;32m      8\u001B[0m                 \u001B[0mlist\u001B[0m\u001B[0;34m.\u001B[0m\u001B[0mappend\u001B[0m\u001B[0;34m(\u001B[0m\u001B[0monedfhexid\u001B[0m\u001B[0;34m[\u001B[0m\u001B[0;34m'timestood'\u001B[0m\u001B[0;34m]\u001B[0m\u001B[0;34m[\u001B[0m\u001B[0mind\u001B[0m\u001B[0;34m]\u001B[0m\u001B[0;34m)\u001B[0m\u001B[0;34m\u001B[0m\u001B[0;34m\u001B[0m\u001B[0m\n\u001B[1;32m      9\u001B[0m         \u001B[0;31m#print(len(list))\u001B[0m\u001B[0;34m\u001B[0m\u001B[0;34m\u001B[0m\u001B[0m\n",
      "\u001B[0;32m/usr/local/Caskroom/miniconda/base/envs/geobike/lib/python3.9/site-packages/pandas/core/frame.py\u001B[0m in \u001B[0;36m__getitem__\u001B[0;34m(self, key)\u001B[0m\n\u001B[1;32m   3456\u001B[0m             \u001B[0;32mif\u001B[0m \u001B[0mself\u001B[0m\u001B[0;34m.\u001B[0m\u001B[0mcolumns\u001B[0m\u001B[0;34m.\u001B[0m\u001B[0mnlevels\u001B[0m \u001B[0;34m>\u001B[0m \u001B[0;36m1\u001B[0m\u001B[0;34m:\u001B[0m\u001B[0;34m\u001B[0m\u001B[0;34m\u001B[0m\u001B[0m\n\u001B[1;32m   3457\u001B[0m                 \u001B[0;32mreturn\u001B[0m \u001B[0mself\u001B[0m\u001B[0;34m.\u001B[0m\u001B[0m_getitem_multilevel\u001B[0m\u001B[0;34m(\u001B[0m\u001B[0mkey\u001B[0m\u001B[0;34m)\u001B[0m\u001B[0;34m\u001B[0m\u001B[0;34m\u001B[0m\u001B[0m\n\u001B[0;32m-> 3458\u001B[0;31m             \u001B[0mindexer\u001B[0m \u001B[0;34m=\u001B[0m \u001B[0mself\u001B[0m\u001B[0;34m.\u001B[0m\u001B[0mcolumns\u001B[0m\u001B[0;34m.\u001B[0m\u001B[0mget_loc\u001B[0m\u001B[0;34m(\u001B[0m\u001B[0mkey\u001B[0m\u001B[0;34m)\u001B[0m\u001B[0;34m\u001B[0m\u001B[0;34m\u001B[0m\u001B[0m\n\u001B[0m\u001B[1;32m   3459\u001B[0m             \u001B[0;32mif\u001B[0m \u001B[0mis_integer\u001B[0m\u001B[0;34m(\u001B[0m\u001B[0mindexer\u001B[0m\u001B[0;34m)\u001B[0m\u001B[0;34m:\u001B[0m\u001B[0;34m\u001B[0m\u001B[0;34m\u001B[0m\u001B[0m\n\u001B[1;32m   3460\u001B[0m                 \u001B[0mindexer\u001B[0m \u001B[0;34m=\u001B[0m \u001B[0;34m[\u001B[0m\u001B[0mindexer\u001B[0m\u001B[0;34m]\u001B[0m\u001B[0;34m\u001B[0m\u001B[0;34m\u001B[0m\u001B[0m\n",
      "\u001B[0;32m/usr/local/Caskroom/miniconda/base/envs/geobike/lib/python3.9/site-packages/pandas/core/indexes/base.py\u001B[0m in \u001B[0;36mget_loc\u001B[0;34m(self, key, method, tolerance)\u001B[0m\n\u001B[1;32m   3361\u001B[0m                 \u001B[0;32mreturn\u001B[0m \u001B[0mself\u001B[0m\u001B[0;34m.\u001B[0m\u001B[0m_engine\u001B[0m\u001B[0;34m.\u001B[0m\u001B[0mget_loc\u001B[0m\u001B[0;34m(\u001B[0m\u001B[0mcasted_key\u001B[0m\u001B[0;34m)\u001B[0m\u001B[0;34m\u001B[0m\u001B[0;34m\u001B[0m\u001B[0m\n\u001B[1;32m   3362\u001B[0m             \u001B[0;32mexcept\u001B[0m \u001B[0mKeyError\u001B[0m \u001B[0;32mas\u001B[0m \u001B[0merr\u001B[0m\u001B[0;34m:\u001B[0m\u001B[0;34m\u001B[0m\u001B[0;34m\u001B[0m\u001B[0m\n\u001B[0;32m-> 3363\u001B[0;31m                 \u001B[0;32mraise\u001B[0m \u001B[0mKeyError\u001B[0m\u001B[0;34m(\u001B[0m\u001B[0mkey\u001B[0m\u001B[0;34m)\u001B[0m \u001B[0;32mfrom\u001B[0m \u001B[0merr\u001B[0m\u001B[0;34m\u001B[0m\u001B[0;34m\u001B[0m\u001B[0m\n\u001B[0m\u001B[1;32m   3364\u001B[0m \u001B[0;34m\u001B[0m\u001B[0m\n\u001B[1;32m   3365\u001B[0m         \u001B[0;32mif\u001B[0m \u001B[0mis_scalar\u001B[0m\u001B[0;34m(\u001B[0m\u001B[0mkey\u001B[0m\u001B[0;34m)\u001B[0m \u001B[0;32mand\u001B[0m \u001B[0misna\u001B[0m\u001B[0;34m(\u001B[0m\u001B[0mkey\u001B[0m\u001B[0;34m)\u001B[0m \u001B[0;32mand\u001B[0m \u001B[0;32mnot\u001B[0m \u001B[0mself\u001B[0m\u001B[0;34m.\u001B[0m\u001B[0mhasnans\u001B[0m\u001B[0;34m:\u001B[0m\u001B[0;34m\u001B[0m\u001B[0;34m\u001B[0m\u001B[0m\n",
      "\u001B[0;31mKeyError\u001B[0m: 'time_start'"
     ]
    }
   ],
   "source": [
    "# create tsdata\n",
    "\n",
    "tsdata = create_tsdata(year,days)\n",
    "tsdata = add_rows_to_days(tsdata,onedfhexid)\n"
   ],
   "metadata": {
    "collapsed": false,
    "pycharm": {
     "name": "#%%\n"
    }
   }
  },
  {
   "cell_type": "code",
   "execution_count": null,
   "outputs": [],
   "source": [
    "tsdata.to_csv('../data/ts_data_hex_881f1a8cb7fffff_3y.csv')"
   ],
   "metadata": {
    "collapsed": false,
    "pycharm": {
     "name": "#%%\n"
    }
   }
  },
  {
   "cell_type": "code",
   "execution_count": null,
   "id": "df56e7b6",
   "metadata": {},
   "outputs": [],
   "source": [
    "# Import tsdata\n",
    "#tsdata = pd.read_csv('../data/ts_data_hex_881f1a8cb7fffff_3y.csv')\n",
    "tsdata.head()"
   ]
  },
  {
   "cell_type": "code",
   "execution_count": null,
   "id": "245f0d04",
   "metadata": {},
   "outputs": [],
   "source": [
    "tsdata = fix_missing_values(tsdata)\n",
    "total_bike_count = int(tsdata['bike_count'].sum())\n",
    "\n",
    "data_7d_rol = tsdata[data_columns].rolling(window = 7, center = True).mean()\n",
    "data_2m_rol = tsdata[data_columns].rolling(window = 60, center = True).mean()\n",
    "data_7d_mean2 = roling_weighted_mean(tsdata,year,days)\n",
    "\n",
    "plot_details(tsdata,data_7d_rol,data_2m_rol,data_7d_mean2,hex_id,total_bike_count)"
   ]
  },
  {
   "cell_type": "markdown",
   "id": "97a0f702",
   "metadata": {},
   "source": [
    "# Begin Predicition"
   ]
  },
  {
   "cell_type": "code",
   "execution_count": 17,
   "id": "fae6fb5d",
   "metadata": {
    "pycharm": {
     "name": "#%%\n"
    }
   },
   "outputs": [
    {
     "name": "stderr",
     "output_type": "stream",
     "text": [
      "100%|██████████| 1364/1364 [00:01<00:00, 1257.53it/s]\n"
     ]
    }
   ],
   "source": [
    "dfw = pd.read_csv('/Users/jonweske/devment/BA_nextbike/data/weather_data.csv')\n",
    "dfw['datetime'] = pd.to_datetime(dfw['dt'], unit='s')\n",
    "dfw = dfw.set_index(['datetime'])\n",
    "dfw.head()\n",
    "\n",
    "tsdata['temp'] = np.nan\n",
    "tsdata['rain'] = np.nan\n",
    "tsdata['snow'] = np.nan\n",
    "\n",
    "\n",
    "for ind in tqdm(tsdata.index):\n",
    "    wint = ind.replace(hour=12,minute=0,second=0)\n",
    "    tsdata['temp'][ind] = dfw['temp'][wint].copy()\n",
    "    tsdata['rain'][ind] = dfw['rain_1h'][wint].copy()\n",
    "    tsdata['snow'][ind] = dfw['snow_1h'][wint].copy()"
   ]
  },
  {
   "cell_type": "code",
   "execution_count": 18,
   "id": "9cf5c9d3",
   "metadata": {
    "pycharm": {
     "name": "#%% md\n"
    }
   },
   "outputs": [
    {
     "data": {
      "text/plain": "             idle_time  list  bike_count   temp  rain  snow\ndate                                                       \n2018-01-01  509.500000   NaN         2.0   8.67   NaN   NaN\n2018-01-02  536.714286   NaN         7.0   5.11   NaN   NaN\n2018-01-03  919.000000   NaN         9.0   6.11   NaN   NaN\n2018-01-04  753.615385   NaN        13.0   8.11   NaN   NaN\n2018-01-05  764.000000   NaN        15.0  10.11   NaN   NaN",
      "text/html": "<div>\n<style scoped>\n    .dataframe tbody tr th:only-of-type {\n        vertical-align: middle;\n    }\n\n    .dataframe tbody tr th {\n        vertical-align: top;\n    }\n\n    .dataframe thead th {\n        text-align: right;\n    }\n</style>\n<table border=\"1\" class=\"dataframe\">\n  <thead>\n    <tr style=\"text-align: right;\">\n      <th></th>\n      <th>idle_time</th>\n      <th>list</th>\n      <th>bike_count</th>\n      <th>temp</th>\n      <th>rain</th>\n      <th>snow</th>\n    </tr>\n    <tr>\n      <th>date</th>\n      <th></th>\n      <th></th>\n      <th></th>\n      <th></th>\n      <th></th>\n      <th></th>\n    </tr>\n  </thead>\n  <tbody>\n    <tr>\n      <th>2018-01-01</th>\n      <td>509.500000</td>\n      <td>NaN</td>\n      <td>2.0</td>\n      <td>8.67</td>\n      <td>NaN</td>\n      <td>NaN</td>\n    </tr>\n    <tr>\n      <th>2018-01-02</th>\n      <td>536.714286</td>\n      <td>NaN</td>\n      <td>7.0</td>\n      <td>5.11</td>\n      <td>NaN</td>\n      <td>NaN</td>\n    </tr>\n    <tr>\n      <th>2018-01-03</th>\n      <td>919.000000</td>\n      <td>NaN</td>\n      <td>9.0</td>\n      <td>6.11</td>\n      <td>NaN</td>\n      <td>NaN</td>\n    </tr>\n    <tr>\n      <th>2018-01-04</th>\n      <td>753.615385</td>\n      <td>NaN</td>\n      <td>13.0</td>\n      <td>8.11</td>\n      <td>NaN</td>\n      <td>NaN</td>\n    </tr>\n    <tr>\n      <th>2018-01-05</th>\n      <td>764.000000</td>\n      <td>NaN</td>\n      <td>15.0</td>\n      <td>10.11</td>\n      <td>NaN</td>\n      <td>NaN</td>\n    </tr>\n  </tbody>\n</table>\n</div>"
     },
     "execution_count": 18,
     "metadata": {},
     "output_type": "execute_result"
    }
   ],
   "source": [
    "#del tsdata['list']\n",
    "tsdata.head()"
   ]
  },
  {
   "cell_type": "code",
   "execution_count": 15,
   "id": "a34f8b1f",
   "metadata": {},
   "outputs": [],
   "source": [
    "import sklearn.metrics as metrics\n",
    "\n",
    "def regression_results(y_true, y_pred):\n",
    "    # Regression metrics\n",
    "    explained_variance=metrics.explained_variance_score(y_true, y_pred)\n",
    "    mean_absolute_error=metrics.mean_absolute_error(y_true, y_pred) \n",
    "    mse=metrics.mean_squared_error(y_true, y_pred) \n",
    "    #mean_squared_log_error=metrics.mean_squared_log_error(y_true, y_pred)\n",
    "    #median_absolute_error=metrics.median_absolute_error(y_true, y_pred)\n",
    "    r2=metrics.r2_score(y_true, y_pred)\n",
    "    print('explained_variance: ', round(explained_variance,4))\n",
    "    print('r2: ', round(r2,4))\n",
    "    print('MAE: ', round(mean_absolute_error,4))\n",
    "    print('MSE: ', round(mse,4))"
   ]
  },
  {
   "cell_type": "raw",
   "id": "13cb93c0",
   "metadata": {},
   "source": [
    "### Feature Engeniering\n",
    "# creating new dataframe from consumption column\n",
    "data_consumption = tsdata[['idle_time']]\n",
    "# inserting new column with yesterday's consumption values\n",
    "data_consumption.loc[:,'Yesterday'] = data_consumption.loc[:,'idle_time'].shift()\n",
    "# inserting another column with difference between yesterday and day before yesterday's consumption values.\n",
    "data_consumption.loc[:,'Yesterday_Diff'] = data_consumption.loc[:,'Yesterday'].diff()\n",
    "# new collum with last weeks\n",
    "data_consumption.loc[:,'Last_Week'] = data_consumption.loc[:,'idle_time'].shift(periods=7)\n",
    "data_consumption.loc[:,'Last_Week_Diff'] = data_consumption.loc[:,'Last_Week'].diff()\n",
    "\n",
    "data_consumption.loc[:,'temp'] = tsdata['temp']\n",
    "data_consumption.loc[:,'rain'] = tsdata['rain']\n",
    "data_consumption.loc[:,'snow'] = tsdata['snow']\n",
    "# dropping NAs\n",
    "data_consumption = data_consumption.dropna()"
   ]
  },
  {
   "cell_type": "code",
   "execution_count": 21,
   "id": "0f62ece9",
   "metadata": {},
   "outputs": [],
   "source": [
    "# Feature Engeniering\n",
    "# inserting new column with yesterday last_week and last_year plus Diffs\n",
    "tsdata['Yesterday'] = tsdata['idle_time'].shift()\n",
    "tsdata['Yesterday_Diff'] = tsdata['Yesterday'].diff()\n",
    "\n",
    "tsdata['Last_Week'] = tsdata['idle_time'].shift(periods=7)\n",
    "tsdata['Last_Week_Diff'] = tsdata['Last_Week'].diff()\n",
    "\n",
    "tsdata['Last_Year'] = tsdata['idle_time'].shift(periods=365)\n",
    "tsdata['Last_Year_Diff'] = tsdata['Last_Year'].diff()\n",
    "\n",
    "# Nan s to 0 \n",
    "tsdata = tsdata.fillna(0)"
   ]
  },
  {
   "cell_type": "code",
   "execution_count": 114,
   "id": "9e115ac6",
   "metadata": {
    "pycharm": {
     "name": "#%% md\n"
    }
   },
   "outputs": [
    {
     "data": {
      "text/plain": [
       "25.4"
      ]
     },
     "execution_count": 114,
     "metadata": {},
     "output_type": "execute_result"
    }
   ],
   "source": [
    "data_consumption['rain'].max()"
   ]
  },
  {
   "cell_type": "code",
   "execution_count": 23,
   "outputs": [
    {
     "data": {
      "text/plain": "             idle_time  list  bike_count   temp  rain  snow   Yesterday  \\\ndate                                                                      \n2018-01-01  509.500000   0.0         2.0   8.67   0.0   0.0    0.000000   \n2018-01-02  536.714286   0.0         7.0   5.11   0.0   0.0  509.500000   \n2018-01-03  919.000000   0.0         9.0   6.11   0.0   0.0  536.714286   \n2018-01-04  753.615385   0.0        13.0   8.11   0.0   0.0  919.000000   \n2018-01-05  764.000000   0.0        15.0  10.11   0.0   0.0  753.615385   \n\n            Yesterday_Diff  Last_Week  Last_Week_Diff  Last_Year  \\\ndate                                                               \n2018-01-01        0.000000        0.0             0.0        0.0   \n2018-01-02        0.000000        0.0             0.0        0.0   \n2018-01-03       27.214286        0.0             0.0        0.0   \n2018-01-04      382.285714        0.0             0.0        0.0   \n2018-01-05     -165.384615        0.0             0.0        0.0   \n\n            Last_Year_Diff  \ndate                        \n2018-01-01             0.0  \n2018-01-02             0.0  \n2018-01-03             0.0  \n2018-01-04             0.0  \n2018-01-05             0.0  ",
      "text/html": "<div>\n<style scoped>\n    .dataframe tbody tr th:only-of-type {\n        vertical-align: middle;\n    }\n\n    .dataframe tbody tr th {\n        vertical-align: top;\n    }\n\n    .dataframe thead th {\n        text-align: right;\n    }\n</style>\n<table border=\"1\" class=\"dataframe\">\n  <thead>\n    <tr style=\"text-align: right;\">\n      <th></th>\n      <th>idle_time</th>\n      <th>list</th>\n      <th>bike_count</th>\n      <th>temp</th>\n      <th>rain</th>\n      <th>snow</th>\n      <th>Yesterday</th>\n      <th>Yesterday_Diff</th>\n      <th>Last_Week</th>\n      <th>Last_Week_Diff</th>\n      <th>Last_Year</th>\n      <th>Last_Year_Diff</th>\n    </tr>\n    <tr>\n      <th>date</th>\n      <th></th>\n      <th></th>\n      <th></th>\n      <th></th>\n      <th></th>\n      <th></th>\n      <th></th>\n      <th></th>\n      <th></th>\n      <th></th>\n      <th></th>\n      <th></th>\n    </tr>\n  </thead>\n  <tbody>\n    <tr>\n      <th>2018-01-01</th>\n      <td>509.500000</td>\n      <td>0.0</td>\n      <td>2.0</td>\n      <td>8.67</td>\n      <td>0.0</td>\n      <td>0.0</td>\n      <td>0.000000</td>\n      <td>0.000000</td>\n      <td>0.0</td>\n      <td>0.0</td>\n      <td>0.0</td>\n      <td>0.0</td>\n    </tr>\n    <tr>\n      <th>2018-01-02</th>\n      <td>536.714286</td>\n      <td>0.0</td>\n      <td>7.0</td>\n      <td>5.11</td>\n      <td>0.0</td>\n      <td>0.0</td>\n      <td>509.500000</td>\n      <td>0.000000</td>\n      <td>0.0</td>\n      <td>0.0</td>\n      <td>0.0</td>\n      <td>0.0</td>\n    </tr>\n    <tr>\n      <th>2018-01-03</th>\n      <td>919.000000</td>\n      <td>0.0</td>\n      <td>9.0</td>\n      <td>6.11</td>\n      <td>0.0</td>\n      <td>0.0</td>\n      <td>536.714286</td>\n      <td>27.214286</td>\n      <td>0.0</td>\n      <td>0.0</td>\n      <td>0.0</td>\n      <td>0.0</td>\n    </tr>\n    <tr>\n      <th>2018-01-04</th>\n      <td>753.615385</td>\n      <td>0.0</td>\n      <td>13.0</td>\n      <td>8.11</td>\n      <td>0.0</td>\n      <td>0.0</td>\n      <td>919.000000</td>\n      <td>382.285714</td>\n      <td>0.0</td>\n      <td>0.0</td>\n      <td>0.0</td>\n      <td>0.0</td>\n    </tr>\n    <tr>\n      <th>2018-01-05</th>\n      <td>764.000000</td>\n      <td>0.0</td>\n      <td>15.0</td>\n      <td>10.11</td>\n      <td>0.0</td>\n      <td>0.0</td>\n      <td>753.615385</td>\n      <td>-165.384615</td>\n      <td>0.0</td>\n      <td>0.0</td>\n      <td>0.0</td>\n      <td>0.0</td>\n    </tr>\n  </tbody>\n</table>\n</div>"
     },
     "execution_count": 23,
     "metadata": {},
     "output_type": "execute_result"
    }
   ],
   "source": [
    "tsdata.head()"
   ],
   "metadata": {
    "collapsed": false,
    "pycharm": {
     "name": "#%%\n"
    }
   }
  },
  {
   "cell_type": "code",
   "execution_count": 25,
   "outputs": [
    {
     "name": "stdout",
     "output_type": "stream",
     "text": [
      "(1091, 10)\n",
      "(1091, 1)\n",
      "(273, 10)\n",
      "(273, 1)\n"
     ]
    }
   ],
   "source": [
    "TargetVariable = ['idle_time']\n",
    "Predictors = ['bike_count', 'temp', 'rain', 'snow', 'Yesterday', 'Yesterday_Diff', 'Last_Week', 'Last_Week_Diff', 'Last_Year', 'Last_Year_Diff']\n",
    "\n",
    "X = tsdata[Predictors].values\n",
    "y = tsdata[TargetVariable].values\n",
    "\n",
    "### Sandardization of data ###\n",
    "from sklearn.preprocessing import StandardScaler\n",
    "\n",
    "PredictorScaler = StandardScaler()\n",
    "TargetVarScaler = StandardScaler()\n",
    "\n",
    "# Storing the fit object for later reference\n",
    "PredictorScalerFit = PredictorScaler.fit(X)\n",
    "TargetVarScalerFit = TargetVarScaler.fit(y)\n",
    "\n",
    "# Generating the standardized values of X and y\n",
    "X = PredictorScalerFit.transform(X)\n",
    "y = TargetVarScalerFit.transform(y)\n",
    "\n",
    "# Split the data into training and testing set\n",
    "from sklearn.model_selection import train_test_split\n",
    "\n",
    "X_train, X_test, y_train, y_test = train_test_split(X, y, test_size=0.2, random_state=42)\n",
    "\n",
    "# Quick sanity check with the shapes of Training and testing datasets\n",
    "print(X_train.shape)\n",
    "print(y_train.shape)\n",
    "print(X_test.shape)\n",
    "print(y_test.shape)"
   ],
   "metadata": {
    "collapsed": false,
    "pycharm": {
     "name": "#%%\n"
    }
   }
  },
  {
   "cell_type": "code",
   "execution_count": 27,
   "id": "19eaed54",
   "metadata": {},
   "outputs": [
    {
     "name": "stdout",
     "output_type": "stream",
     "text": [
      "LR: 0.804851 (0.077520)\n",
      "NN: 0.595037 (0.278094)\n",
      "KNN: 0.734869 (0.096598)\n",
      "RF: 0.786302 (0.078311)\n",
      "SVR: 0.755564 (0.079866)\n"
     ]
    },
    {
     "data": {
      "text/plain": "<Figure size 432x288 with 1 Axes>",
      "image/png": "[encoded data removed]"
     },
     "metadata": {
      "needs_background": "light"
     },
     "output_type": "display_data"
    }
   ],
   "source": [
    "from sklearn.model_selection import TimeSeriesSplit\n",
    "from sklearn.linear_model import LinearRegression\n",
    "from sklearn.neural_network import MLPRegressor\n",
    "from sklearn.neighbors import KNeighborsRegressor\n",
    "from sklearn.ensemble import RandomForestRegressor\n",
    "from sklearn.svm import SVR\n",
    "from sklearn.model_selection import cross_val_score\n",
    "\n",
    "import warnings\n",
    "from sklearn.exceptions import ConvergenceWarning\n",
    "\n",
    "\n",
    "# Spot Check Algorithms\n",
    "models = []\n",
    "models.append(('LR', LinearRegression()))\n",
    "models.append(('NN', MLPRegressor(solver = 'lbfgs')))  #neural network\n",
    "models.append(('KNN', KNeighborsRegressor())) \n",
    "models.append(('RF', RandomForestRegressor(n_estimators = 10))) # Ensemble method - collection of many decision trees\n",
    "models.append(('SVR', SVR(gamma='auto'))) # kernel = linear\n",
    "# Evaluate each model in turn\n",
    "results = []\n",
    "names = []\n",
    "for name, model in models:\n",
    "    # TimeSeries Cross validation\n",
    "    tscv = TimeSeriesSplit(n_splits=10)\n",
    "    \n",
    "    with warnings.catch_warnings():\n",
    "        warnings.simplefilter(\"ignore\", category=ConvergenceWarning)\n",
    "        cv_results = cross_val_score(model, X_train, y_train.ravel(), cv=tscv, scoring='r2')\n",
    "        \n",
    "    results.append(cv_results)\n",
    "    names.append(name)\n",
    "    print('%s: %f (%f)' % (name, cv_results.mean(), cv_results.std()))\n",
    "    \n",
    "# Compare Algorithms\n",
    "plt.boxplot(results, labels=names)\n",
    "plt.title('Algorithm Comparison')\n",
    "plt.show()"
   ]
  },
  {
   "cell_type": "markdown",
   "id": "f856c9a6",
   "metadata": {},
   "source": [
    "# Testing GridSearching"
   ]
  },
  {
   "cell_type": "code",
   "execution_count": 1,
   "id": "cf616f2f",
   "metadata": {},
   "outputs": [],
   "source": [
    "from sklearn.metrics import make_scorer\n",
    "\n",
    "def rmse(actual, predict):\n",
    "    predict = np.array(predict)\n",
    "    actual = np.array(actual)\n",
    "    distance = predict - actual\n",
    "    square_distance = distance ** 2\n",
    "    mean_square_distance = square_distance.mean()\n",
    "    score = np.sqrt(mean_square_distance)\n",
    "    return score\n",
    "\n",
    "rmse_score = make_scorer(rmse, greater_is_better = False)"
   ]
  },
  {
   "cell_type": "code",
   "execution_count": 2,
   "id": "348b8ef0",
   "metadata": {},
   "outputs": [
    {
     "ename": "NameError",
     "evalue": "name 'RandomForestRegressor' is not defined",
     "output_type": "error",
     "traceback": [
      "\u001B[0;31m---------------------------------------------------------------------------\u001B[0m",
      "\u001B[0;31mNameError\u001B[0m                                 Traceback (most recent call last)",
      "\u001B[0;32m/var/folders/5t/28jzvs016nq5vxslb670gs040000gn/T/ipykernel_882/47901956.py\u001B[0m in \u001B[0;36m<module>\u001B[0;34m\u001B[0m\n\u001B[1;32m      1\u001B[0m \u001B[0;32mfrom\u001B[0m \u001B[0msklearn\u001B[0m\u001B[0;34m.\u001B[0m\u001B[0mmodel_selection\u001B[0m \u001B[0;32mimport\u001B[0m \u001B[0mGridSearchCV\u001B[0m\u001B[0;34m\u001B[0m\u001B[0;34m\u001B[0m\u001B[0m\n\u001B[1;32m      2\u001B[0m \u001B[0;34m\u001B[0m\u001B[0m\n\u001B[0;32m----> 3\u001B[0;31m \u001B[0mmodel\u001B[0m \u001B[0;34m=\u001B[0m \u001B[0mRandomForestRegressor\u001B[0m\u001B[0;34m(\u001B[0m\u001B[0;34m)\u001B[0m\u001B[0;34m\u001B[0m\u001B[0;34m\u001B[0m\u001B[0m\n\u001B[0m\u001B[1;32m      4\u001B[0m param_search = { \n\u001B[1;32m      5\u001B[0m     \u001B[0;34m'n_estimators'\u001B[0m\u001B[0;34m:\u001B[0m \u001B[0;34m[\u001B[0m\u001B[0;36m20\u001B[0m\u001B[0;34m,\u001B[0m \u001B[0;36m50\u001B[0m\u001B[0;34m,\u001B[0m \u001B[0;36m100\u001B[0m\u001B[0;34m]\u001B[0m\u001B[0;34m,\u001B[0m\u001B[0;34m\u001B[0m\u001B[0;34m\u001B[0m\u001B[0m\n",
      "\u001B[0;31mNameError\u001B[0m: name 'RandomForestRegressor' is not defined"
     ]
    }
   ],
   "source": [
    "from sklearn.model_selection import GridSearchCV\n",
    "\n",
    "model = RandomForestRegressor()\n",
    "param_search = { \n",
    "    'n_estimators': [20, 50, 100],\n",
    "    'max_features': ['auto', 'sqrt', 'log2'],\n",
    "    'max_depth' : [i for i in range(5,15)]\n",
    "}\n",
    "tscv = TimeSeriesSplit(n_splits=10)\n",
    "gsearch = GridSearchCV(estimator=model, cv=tscv, param_grid=param_search, scoring = rmse_score)\n",
    "gsearch.fit(X_train, y_train.ravel())\n",
    "best_score = gsearch.best_score_\n",
    "best_model = gsearch.best_estimator_"
   ]
  },
  {
   "cell_type": "code",
   "execution_count": 38,
   "id": "826b362f",
   "metadata": {},
   "outputs": [
    {
     "name": "stdout",
     "output_type": "stream",
     "text": [
      "explained_variance:  0.84\n",
      "r2:  0.8388\n",
      "MAE:  0.2628\n",
      "MSE:  0.1924\n",
      "RMSE:  0.4386\n"
     ]
    }
   ],
   "source": [
    "y_true = y_test\n",
    "y_pred = best_model.predict(X_test)\n",
    "\n",
    "regression_results(y_true, y_pred)"
   ]
  },
  {
   "cell_type": "code",
   "execution_count": 36,
   "outputs": [
    {
     "data": {
      "text/plain": "<Figure size 432x288 with 1 Axes>",
      "image/png": "[encoded data removed]"
     },
     "metadata": {
      "needs_background": "light"
     },
     "output_type": "display_data"
    }
   ],
   "source": [
    "imp = best_model.feature_importances_\n",
    "X_train = pd.DataFrame(X_train,columns=['bike_count', 'temp', 'rain', 'snow', 'Yesterday', 'Yesterday_Diff', 'Last_Week', 'Last_Week_Diff', 'Last_Year', 'Last_Year_Diff'])\n",
    "features = X_train.columns\n",
    "indices = np.argsort(imp)\n",
    "plt.title('Feature Importances')\n",
    "plt.barh(range(len(indices)), imp[indices], color='b', align='center')\n",
    "plt.yticks(range(len(indices)), [features[i] for i in indices])\n",
    "plt.xlabel('Relative Importance')\n",
    "plt.show()"
   ],
   "metadata": {
    "collapsed": false,
    "pycharm": {
     "name": "#%%\n"
    }
   }
  },
  {
   "cell_type": "markdown",
   "id": "63c50014",
   "metadata": {},
   "source": [
    "# variable importance plot"
   ]
  },
  {
   "cell_type": "code",
   "execution_count": null,
   "id": "db1ab77b",
   "metadata": {},
   "outputs": [],
   "source": []
  }
 ],
 "metadata": {
  "kernelspec": {
   "display_name": "Python 3 (ipykernel)",
   "language": "python",
   "name": "python3"
  },
  "language_info": {
   "codemirror_mode": {
    "name": "ipython",
    "version": 3
   },
   "file_extension": ".py",
   "mimetype": "text/x-python",
   "name": "python",
   "nbconvert_exporter": "python",
   "pygments_lexer": "ipython3",
   "version": "3.9.7"
  }
 },
 "nbformat": 4,
 "nbformat_minor": 5
}