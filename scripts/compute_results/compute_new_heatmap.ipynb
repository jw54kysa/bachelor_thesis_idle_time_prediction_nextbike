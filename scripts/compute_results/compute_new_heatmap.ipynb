{
 "cells": [
  {
   "cell_type": "markdown",
   "source": [
    "# Create scoped Heatmap + mean of idle time per hex\n",
    "### compare summer / winter (3 month)"
   ],
   "metadata": {
    "collapsed": false
   }
  },
  {
   "cell_type": "code",
   "execution_count": 29,
   "outputs": [],
   "source": [
    "def get_scope(start,end,df,name):\n",
    "    df_tmp = df[start < df['dt_start']]\n",
    "    df_tmp = df_tmp[df_tmp['dt_start'] < end]\n",
    "    df_tmp.to_csv(f'../results/heatmaps/heatmap_{name}.csv')\n",
    "    return df_tmp"
   ],
   "metadata": {
    "collapsed": false,
    "pycharm": {
     "name": "#%%\n"
    }
   }
  },
  {
   "cell_type": "code",
   "execution_count": 30,
   "outputs": [],
   "source": [
    "def get_hex_id_idle_time(df,min_bikes,name):\n",
    "    hex_df = pd.DataFrame(columns=['hex_id','bike_count','idle_time'])\n",
    "    hex_df['hex_id'] = df.hex_id.unique()\n",
    "\n",
    "    for ind in tqdm(hex_df.index):\n",
    "        hex_id = hex_df['hex_id'][ind]\n",
    "        list = []\n",
    "        for index in df.index:\n",
    "            if df['hex_id'][index] == hex_id:\n",
    "                list.append(df['idle_time'][index])\n",
    "        hex_df['bike_count'][ind] = len(list)\n",
    "        hex_df['idle_time'][ind] = statistics.mean(list)\n",
    "\n",
    "    hex_df = hex_df[hex_df['bike_count'] >= min_bikes]\n",
    "    hex_df.to_csv(f'../results/heatmaps/hex_df_{name}.csv')\n",
    "    return hex_df"
   ],
   "metadata": {
    "collapsed": false,
    "pycharm": {
     "name": "#%%\n"
    }
   }
  },
  {
   "cell_type": "markdown",
   "source": [
    "# MAIN"
   ],
   "metadata": {
    "collapsed": false
   }
  },
  {
   "cell_type": "code",
   "execution_count": 31,
   "outputs": [
    {
     "name": "stderr",
     "output_type": "stream",
     "text": [
      "100%|██████████| 301/301 [05:15<00:00,  1.05s/it]\n"
     ]
    }
   ],
   "source": [
    "import pandas as pd\n",
    "from tqdm import tqdm\n",
    "import statistics\n",
    "\n",
    "df_points = pd.read_csv('../data/final_df_points_18_21_class_new_features.csv')\n",
    "\n",
    "# 1. Juni to 31. August\n",
    "# 1622498400 to 1630447200\n",
    "\n",
    "# 1. dez to 28. feb\n",
    "# 1606777200 1614553199\n",
    "start = 1622498400\n",
    "end = 1630447200\n",
    "min_bikes = 7\n",
    "name = 'summer_21'\n",
    "\n",
    "\n",
    "scope = get_scope(start,end,df_points,name)\n",
    "hex_df = get_hex_id_idle_time(scope,min_bikes,name)\n"
   ],
   "metadata": {
    "collapsed": false,
    "pycharm": {
     "name": "#%%\n"
    }
   }
  },
  {
   "cell_type": "code",
   "execution_count": null,
   "outputs": [],
   "source": [
    "hex_df"
   ],
   "metadata": {
    "collapsed": false,
    "pycharm": {
     "name": "#%%\n"
    }
   }
  },
  {
   "cell_type": "code",
   "execution_count": null,
   "outputs": [],
   "source": [],
   "metadata": {
    "collapsed": false,
    "pycharm": {
     "name": "#%%\n"
    }
   }
  }
 ],
 "metadata": {
  "kernelspec": {
   "display_name": "Python 3",
   "language": "python",
   "name": "python3"
  },
  "language_info": {
   "codemirror_mode": {
    "name": "ipython",
    "version": 2
   },
   "file_extension": ".py",
   "mimetype": "text/x-python",
   "name": "python",
   "nbconvert_exporter": "python",
   "pygments_lexer": "ipython2",
   "version": "2.7.6"
  }
 },
 "nbformat": 4,
 "nbformat_minor": 0
}