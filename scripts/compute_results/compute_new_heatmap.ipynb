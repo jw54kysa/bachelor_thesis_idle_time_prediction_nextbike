{
 "cells": [
  {
   "cell_type": "markdown",
   "source": [
    "# Create scoped Heatmap + mean of idle time per hex\n",
    "### compare summer / winter (3 month)"
   ],
   "metadata": {
    "collapsed": false
   }
  },
  {
   "cell_type": "code",
   "execution_count": 10,
   "outputs": [],
   "source": [
    "def get_scope(start, end, df, name):\n",
    "    df_tmp = df[start < df['dt_start']]\n",
    "    df_tmp = df_tmp[df_tmp['dt_start'] < end]\n",
    "    df_tmp.to_csv(f'../../results/heatmaps/heatmap_{name}.csv')\n",
    "    return df_tmp"
   ],
   "metadata": {
    "collapsed": false,
    "pycharm": {
     "name": "#%%\n"
    }
   }
  },
  {
   "cell_type": "code",
   "execution_count": 11,
   "outputs": [],
   "source": [
    "def get_hex_id_idle_time(df, min_bikes, name):\n",
    "    hex_df = pd.DataFrame(columns=['hex_id', 'bike_count', 'idle_time'])\n",
    "    hex_df['hex_id'] = df.hex_id.unique()\n",
    "\n",
    "    for ind in tqdm(hex_df.index):\n",
    "        hex_id = hex_df['hex_id'][ind]\n",
    "        list = []\n",
    "        for index in df.index:\n",
    "            if df['hex_id'][index] == hex_id:\n",
    "                list.append(df['idle_time'][index])\n",
    "        hex_df['bike_count'][ind] = len(list)\n",
    "        hex_df['idle_time'][ind] = statistics.mean(list)\n",
    "\n",
    "    hex_df = hex_df[hex_df['bike_count'] >= min_bikes]\n",
    "    hex_df.to_csv(f'../../results/heatmaps/hex_df_{name}.csv')\n",
    "    return hex_df"
   ],
   "metadata": {
    "collapsed": false,
    "pycharm": {
     "name": "#%%\n"
    }
   }
  },
  {
   "cell_type": "markdown",
   "source": [
    "# MAIN"
   ],
   "metadata": {
    "collapsed": false
   }
  },
  {
   "cell_type": "code",
   "execution_count": 12,
   "outputs": [
    {
     "name": "stderr",
     "output_type": "stream",
     "text": [
      "  4%|▍         | 12/303 [00:20<08:24,  1.73s/it]\n"
     ]
    },
    {
     "ename": "KeyboardInterrupt",
     "evalue": "",
     "output_type": "error",
     "traceback": [
      "\u001B[0;31m---------------------------------------------------------------------------\u001B[0m",
      "\u001B[0;31mKeyboardInterrupt\u001B[0m                         Traceback (most recent call last)",
      "\u001B[0;32m/var/folders/5t/28jzvs016nq5vxslb670gs040000gn/T/ipykernel_26212/2806969197.py\u001B[0m in \u001B[0;36m<module>\u001B[0;34m\u001B[0m\n\u001B[1;32m     25\u001B[0m \u001B[0;34m\u001B[0m\u001B[0m\n\u001B[1;32m     26\u001B[0m \u001B[0mscope\u001B[0m \u001B[0;34m=\u001B[0m \u001B[0mget_scope\u001B[0m\u001B[0;34m(\u001B[0m\u001B[0mstart\u001B[0m\u001B[0;34m,\u001B[0m \u001B[0mend\u001B[0m\u001B[0;34m,\u001B[0m \u001B[0mdf_points\u001B[0m\u001B[0;34m,\u001B[0m \u001B[0mname\u001B[0m\u001B[0;34m)\u001B[0m\u001B[0;34m\u001B[0m\u001B[0;34m\u001B[0m\u001B[0m\n\u001B[0;32m---> 27\u001B[0;31m \u001B[0mhex_df\u001B[0m \u001B[0;34m=\u001B[0m \u001B[0mget_hex_id_idle_time\u001B[0m\u001B[0;34m(\u001B[0m\u001B[0mscope\u001B[0m\u001B[0;34m,\u001B[0m \u001B[0mmin_bikes\u001B[0m\u001B[0;34m,\u001B[0m \u001B[0mname\u001B[0m\u001B[0;34m)\u001B[0m\u001B[0;34m\u001B[0m\u001B[0;34m\u001B[0m\u001B[0m\n\u001B[0m\u001B[1;32m     28\u001B[0m \u001B[0;34m\u001B[0m\u001B[0m\n",
      "\u001B[0;32m/var/folders/5t/28jzvs016nq5vxslb670gs040000gn/T/ipykernel_26212/4193290381.py\u001B[0m in \u001B[0;36mget_hex_id_idle_time\u001B[0;34m(df, min_bikes, name)\u001B[0m\n\u001B[1;32m      7\u001B[0m         \u001B[0mlist\u001B[0m \u001B[0;34m=\u001B[0m \u001B[0;34m[\u001B[0m\u001B[0;34m]\u001B[0m\u001B[0;34m\u001B[0m\u001B[0;34m\u001B[0m\u001B[0m\n\u001B[1;32m      8\u001B[0m         \u001B[0;32mfor\u001B[0m \u001B[0mindex\u001B[0m \u001B[0;32min\u001B[0m \u001B[0mdf\u001B[0m\u001B[0;34m.\u001B[0m\u001B[0mindex\u001B[0m\u001B[0;34m:\u001B[0m\u001B[0;34m\u001B[0m\u001B[0;34m\u001B[0m\u001B[0m\n\u001B[0;32m----> 9\u001B[0;31m             \u001B[0;32mif\u001B[0m \u001B[0mdf\u001B[0m\u001B[0;34m[\u001B[0m\u001B[0;34m'hex_id'\u001B[0m\u001B[0;34m]\u001B[0m\u001B[0;34m[\u001B[0m\u001B[0mindex\u001B[0m\u001B[0;34m]\u001B[0m \u001B[0;34m==\u001B[0m \u001B[0mhex_id\u001B[0m\u001B[0;34m:\u001B[0m\u001B[0;34m\u001B[0m\u001B[0;34m\u001B[0m\u001B[0m\n\u001B[0m\u001B[1;32m     10\u001B[0m                 \u001B[0mlist\u001B[0m\u001B[0;34m.\u001B[0m\u001B[0mappend\u001B[0m\u001B[0;34m(\u001B[0m\u001B[0mdf\u001B[0m\u001B[0;34m[\u001B[0m\u001B[0;34m'idle_time'\u001B[0m\u001B[0;34m]\u001B[0m\u001B[0;34m[\u001B[0m\u001B[0mindex\u001B[0m\u001B[0;34m]\u001B[0m\u001B[0;34m)\u001B[0m\u001B[0;34m\u001B[0m\u001B[0;34m\u001B[0m\u001B[0m\n\u001B[1;32m     11\u001B[0m         \u001B[0mhex_df\u001B[0m\u001B[0;34m[\u001B[0m\u001B[0;34m'bike_count'\u001B[0m\u001B[0;34m]\u001B[0m\u001B[0;34m[\u001B[0m\u001B[0mind\u001B[0m\u001B[0;34m]\u001B[0m \u001B[0;34m=\u001B[0m \u001B[0mlen\u001B[0m\u001B[0;34m(\u001B[0m\u001B[0mlist\u001B[0m\u001B[0;34m)\u001B[0m\u001B[0;34m\u001B[0m\u001B[0;34m\u001B[0m\u001B[0m\n",
      "\u001B[0;32m/usr/local/Caskroom/miniconda/base/envs/geobike/lib/python3.9/site-packages/pandas/core/frame.py\u001B[0m in \u001B[0;36m__getitem__\u001B[0;34m(self, key)\u001B[0m\n\u001B[1;32m   3422\u001B[0m         \u001B[0;32mif\u001B[0m \u001B[0mis_hashable\u001B[0m\u001B[0;34m(\u001B[0m\u001B[0mkey\u001B[0m\u001B[0;34m)\u001B[0m\u001B[0;34m:\u001B[0m\u001B[0;34m\u001B[0m\u001B[0;34m\u001B[0m\u001B[0m\n\u001B[1;32m   3423\u001B[0m             \u001B[0;31m# shortcut if the key is in columns\u001B[0m\u001B[0;34m\u001B[0m\u001B[0;34m\u001B[0m\u001B[0m\n\u001B[0;32m-> 3424\u001B[0;31m             \u001B[0;32mif\u001B[0m \u001B[0mself\u001B[0m\u001B[0;34m.\u001B[0m\u001B[0mcolumns\u001B[0m\u001B[0;34m.\u001B[0m\u001B[0mis_unique\u001B[0m \u001B[0;32mand\u001B[0m \u001B[0mkey\u001B[0m \u001B[0;32min\u001B[0m \u001B[0mself\u001B[0m\u001B[0;34m.\u001B[0m\u001B[0mcolumns\u001B[0m\u001B[0;34m:\u001B[0m\u001B[0;34m\u001B[0m\u001B[0;34m\u001B[0m\u001B[0m\n\u001B[0m\u001B[1;32m   3425\u001B[0m                 \u001B[0;32mif\u001B[0m \u001B[0misinstance\u001B[0m\u001B[0;34m(\u001B[0m\u001B[0mself\u001B[0m\u001B[0;34m.\u001B[0m\u001B[0mcolumns\u001B[0m\u001B[0;34m,\u001B[0m \u001B[0mMultiIndex\u001B[0m\u001B[0;34m)\u001B[0m\u001B[0;34m:\u001B[0m\u001B[0;34m\u001B[0m\u001B[0;34m\u001B[0m\u001B[0m\n\u001B[1;32m   3426\u001B[0m                     \u001B[0;32mreturn\u001B[0m \u001B[0mself\u001B[0m\u001B[0;34m.\u001B[0m\u001B[0m_getitem_multilevel\u001B[0m\u001B[0;34m(\u001B[0m\u001B[0mkey\u001B[0m\u001B[0;34m)\u001B[0m\u001B[0;34m\u001B[0m\u001B[0;34m\u001B[0m\u001B[0m\n",
      "\u001B[0;32m/usr/local/Caskroom/miniconda/base/envs/geobike/lib/python3.9/site-packages/pandas/core/indexes/base.py\u001B[0m in \u001B[0;36m__contains__\u001B[0;34m(self, key)\u001B[0m\n\u001B[1;32m   4535\u001B[0m         \u001B[0;32mreturn\u001B[0m \u001B[0mkind\u001B[0m \u001B[0;34m==\u001B[0m \u001B[0mself\u001B[0m\u001B[0;34m.\u001B[0m\u001B[0minferred_type\u001B[0m\u001B[0;34m\u001B[0m\u001B[0;34m\u001B[0m\u001B[0m\n\u001B[1;32m   4536\u001B[0m \u001B[0;34m\u001B[0m\u001B[0m\n\u001B[0;32m-> 4537\u001B[0;31m     \u001B[0;32mdef\u001B[0m \u001B[0m__contains__\u001B[0m\u001B[0;34m(\u001B[0m\u001B[0mself\u001B[0m\u001B[0;34m,\u001B[0m \u001B[0mkey\u001B[0m\u001B[0;34m:\u001B[0m \u001B[0mAny\u001B[0m\u001B[0;34m)\u001B[0m \u001B[0;34m->\u001B[0m \u001B[0mbool\u001B[0m\u001B[0;34m:\u001B[0m\u001B[0;34m\u001B[0m\u001B[0;34m\u001B[0m\u001B[0m\n\u001B[0m\u001B[1;32m   4538\u001B[0m         \"\"\"\n\u001B[1;32m   4539\u001B[0m         \u001B[0mReturn\u001B[0m \u001B[0ma\u001B[0m \u001B[0mboolean\u001B[0m \u001B[0mindicating\u001B[0m \u001B[0mwhether\u001B[0m \u001B[0mthe\u001B[0m \u001B[0mprovided\u001B[0m \u001B[0mkey\u001B[0m \u001B[0;32mis\u001B[0m \u001B[0;32min\u001B[0m \u001B[0mthe\u001B[0m \u001B[0mindex\u001B[0m\u001B[0;34m.\u001B[0m\u001B[0;34m\u001B[0m\u001B[0;34m\u001B[0m\u001B[0m\n",
      "\u001B[0;31mKeyboardInterrupt\u001B[0m: "
     ]
    }
   ],
   "source": [
    "import pandas as pd\n",
    "from tqdm import tqdm\n",
    "import statistics\n",
    "\n",
    "df_points = pd.read_csv('../../data/final_df_points_18_21_class_new_features.csv')\n",
    "\n",
    "scopes = {'summer_20': [1590962400, 1598738400],\n",
    "          'winter_20_21': [1606777200, 1614553199],\n",
    "          'summer_21': [1622498400, 1630447200],\n",
    "          }\n",
    "\n",
    "# 1. Juni to 31. August 2021\n",
    "# 1622498400 to 1630447200\n",
    "# 1. Juni to 31 August 2020\n",
    "# 1590962400 to 1598738400\n",
    "# 1. dez to 28. feb 2020/2021\n",
    "# 1606777200 1614553199\n",
    "\n",
    "scopeid = 'summer_20'\n",
    "\n",
    "start = scopes[scopeid][0]\n",
    "end = scopes[scopeid][1]\n",
    "min_bikes = 7\n",
    "name = scopeid\n",
    "\n",
    "scope = get_scope(start, end, df_points, name)\n",
    "hex_df = get_hex_id_idle_time(scope, min_bikes, name)\n"
   ],
   "metadata": {
    "collapsed": false,
    "pycharm": {
     "name": "#%%\n"
    }
   }
  },
  {
   "cell_type": "code",
   "execution_count": null,
   "outputs": [],
   "source": [
    "hex_df"
   ],
   "metadata": {
    "collapsed": false,
    "pycharm": {
     "name": "#%%\n"
    }
   }
  },
  {
   "cell_type": "code",
   "execution_count": null,
   "outputs": [],
   "source": [],
   "metadata": {
    "collapsed": false,
    "pycharm": {
     "name": "#%%\n"
    }
   }
  }
 ],
 "metadata": {
  "kernelspec": {
   "display_name": "Python 3",
   "language": "python",
   "name": "python3"
  },
  "language_info": {
   "codemirror_mode": {
    "name": "ipython",
    "version": 2
   },
   "file_extension": ".py",
   "mimetype": "text/x-python",
   "name": "python",
   "nbconvert_exporter": "python",
   "pygments_lexer": "ipython2",
   "version": "2.7.6"
  }
 },
 "nbformat": 4,
 "nbformat_minor": 0
}