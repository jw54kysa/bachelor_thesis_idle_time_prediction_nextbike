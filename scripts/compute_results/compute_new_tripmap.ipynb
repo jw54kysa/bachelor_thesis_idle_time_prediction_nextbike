{
 "cells": [
  {
   "cell_type": "markdown",
   "source": [
    "# Create new Tripmap"
   ],
   "metadata": {
    "collapsed": false
   }
  },
  {
   "cell_type": "code",
   "execution_count": 22,
   "metadata": {
    "collapsed": true
   },
   "outputs": [],
   "source": [
    "def import_data(source):\n",
    "    return pd.read_csv(source)\n",
    "\n",
    "\n",
    "def dic_out_of_df(df01):\n",
    "    import pandas as pd\n",
    "    from tqdm import tqdm\n",
    "    # Dict out of DataFrames of Trips per Bike\n",
    "\n",
    "    # init DFs for every bike\n",
    "    myDFs = {}\n",
    "\n",
    "    for ind in tqdm(df01.index):\n",
    "        if df01['bike_id'][ind] not in myDFs:\n",
    "            myDFs[df01['bike_id'][ind]] = pd.DataFrame(\n",
    "                columns=['bike_id',\n",
    "                         'start_time',\n",
    "                         'end_time',\n",
    "                         'start_lat',\n",
    "                         'start_lng',\n",
    "                         'end_lat',\n",
    "                         'end_lng',\n",
    "                         'end_station_number'])\n",
    "    return myDFs\n",
    "\n",
    "\n",
    "def add_rentals_to_df(df01, myDFs):\n",
    "    from tqdm import tqdm\n",
    "    # Add all rentals to their bike_id DF\n",
    "    for ind in tqdm(df01.index):\n",
    "        if df01['bike_id'][ind] in myDFs:\n",
    "            myDFs[df01['bike_id'][ind]].loc[df01.index[ind]] = df01.iloc[ind]\n",
    "    return myDFs"
   ]
  },
  {
   "cell_type": "code",
   "execution_count": 23,
   "outputs": [],
   "source": [
    "def sort_dfs(myDFs):\n",
    "    # sort every DF\n",
    "    for df in myDFs.values():\n",
    "        df[['bike_id', 'start_time','end_time']] = df[['bike_id', 'start_time','end_time']].astype(int)\n",
    "        df[['start_lat','start_lng', 'end_lat', 'end_lng']] = df[['start_lat','start_lng', 'end_lat', 'end_lng']].astype(float)\n",
    "        df.sort_values(by=['start_time'], inplace=True)\n",
    "        df.reset_index(drop=True, inplace=True)\n",
    "    return myDFs"
   ],
   "metadata": {
    "collapsed": false,
    "pycharm": {
     "name": "#%%\n"
    }
   }
  },
  {
   "cell_type": "markdown",
   "source": [
    "# MAIN"
   ],
   "metadata": {
    "collapsed": false
   }
  },
  {
   "cell_type": "code",
   "execution_count": 24,
   "outputs": [],
   "source": [
    "from keplergl import KeplerGl\n",
    "import pandas as pd\n",
    "pd.options.mode.chained_assignment = None\n",
    "import time\n",
    "\n",
    "ts1 = time.time()\n",
    "\n",
    "source = '../../data/raw_lendings/raw_lendings_2021.csv'\n",
    "\n",
    "df = import_data(source)\n",
    "#df = df.truncate(after=10000)"
   ],
   "metadata": {
    "collapsed": false,
    "pycharm": {
     "name": "#%%\n"
    }
   }
  },
  {
   "cell_type": "code",
   "execution_count": 25,
   "outputs": [
    {
     "name": "stderr",
     "output_type": "stream",
     "text": [
      "100%|██████████| 574838/574838 [00:04<00:00, 134290.53it/s]\n",
      "100%|██████████| 574838/574838 [13:12<00:00, 725.67it/s]\n"
     ]
    }
   ],
   "source": [
    "myDfs = dic_out_of_df(df)\n",
    "myDfs = add_rentals_to_df(df, myDfs)\n",
    "myDfs = sort_dfs(myDfs)"
   ],
   "metadata": {
    "collapsed": false,
    "pycharm": {
     "name": "#%%\n"
    }
   }
  },
  {
   "cell_type": "markdown",
   "source": [
    "### Get bike with most rentals"
   ],
   "metadata": {
    "collapsed": false,
    "pycharm": {
     "name": "#%% md\n"
    }
   }
  },
  {
   "cell_type": "code",
   "execution_count": 40,
   "outputs": [
    {
     "name": "stdout",
     "output_type": "stream",
     "text": [
      "bike id: 74456\n",
      "rentals: 1007\n"
     ]
    }
   ],
   "source": [
    "bike_id = 0\n",
    "a = 0\n",
    "\n",
    "for bike in myDfs:\n",
    "    if len(myDfs[bike]) > a:\n",
    "        a = len(myDfs[bike])\n",
    "        bike_id = bike\n",
    "\n",
    "print(\"bike id: %i\" % bike_id)\n",
    "print(\"rentals: %i\" % a)"
   ],
   "metadata": {
    "collapsed": false,
    "pycharm": {
     "name": "#%%\n"
    }
   }
  },
  {
   "cell_type": "code",
   "execution_count": null,
   "outputs": [],
   "source": [
    "# SAVE\n",
    "myDfs[bike_id].to_csv('../../results/tripmaps/trips.csv')"
   ],
   "metadata": {
    "collapsed": false,
    "pycharm": {
     "name": "#%%\n"
    }
   }
  },
  {
   "cell_type": "markdown",
   "source": [
    "### Compute Idle Points from Trips"
   ],
   "metadata": {
    "collapsed": false,
    "pycharm": {
     "name": "#%% md\n"
    }
   }
  },
  {
   "cell_type": "code",
   "execution_count": 35,
   "outputs": [],
   "source": [
    "from tqdm import tqdm\n",
    "from numpy import cos, sqrt\n",
    "\n",
    "\n",
    "def get_distance(A_lat, A_lng, B_lat, B_lng):\n",
    "    x = B_lat - A_lat\n",
    "    y = (B_lng - A_lng)*cos((B_lat + A_lat)*0.00872664626)\n",
    "    return 111.138*sqrt(x*x+y*y)*1000\n",
    "\n",
    "def create_df_points(myDFs,radius):\n",
    "    # DF of all points with stoodtime\n",
    "    in_val = 0\n",
    "    val = 0\n",
    "\n",
    "    df_points = pd.DataFrame(columns=['bike_id', 'lat', 'lng', 'idle_time', 'time_start', 'time_end', 'end_station_number'])\n",
    "    #df_points[['bike_id', 'idle_time', 'time_start', 'time_end']] = df_points[['bike_id', 'idle_time', 'time_start', 'time_end']].astype(int)\n",
    "    #df_points[['lng', 'lat']] = df_points[['lng', 'lat']].astype(float)\n",
    "\n",
    "    for df in myDFs.values():\n",
    "        for ind in df.index[1:]:\n",
    "            #in SECOUNDS\n",
    "            _idle_time = (df['start_time'][ind] - df['end_time'][ind - 1]).astype(int)\n",
    "            distance = get_distance(df['end_lat'][ind - 1], df['end_lng'][ind - 1], df['start_lat'][ind], df['start_lng'][ind])\n",
    "            if distance > radius:\n",
    "                in_val +=1\n",
    "                continue\n",
    "            val +=1\n",
    "            dict = {'bike_id': df['bike_id'][ind], 'lng': df['start_lng'][ind], 'lat': df['start_lat'][ind],\n",
    "                    'idle_time': _idle_time, 'time_start': df['end_time'][ind - 1], 'time_end': df['start_time'][ind], 'end_station_number': df['end_station_number'][ind-1]}\n",
    "            df_points = df_points.append(dict, ignore_index=True)\n",
    "    print(f\"invalides: {in_val} from {val} that is {in_val/val * 100} %\")\n",
    "    return df_points"
   ],
   "metadata": {
    "collapsed": false,
    "pycharm": {
     "name": "#%%\n"
    }
   }
  },
  {
   "cell_type": "code",
   "execution_count": 36,
   "outputs": [],
   "source": [
    "dic = {bike_id : myDfs[bike_id]}"
   ],
   "metadata": {
    "collapsed": false,
    "pycharm": {
     "name": "#%%\n"
    }
   }
  },
  {
   "cell_type": "code",
   "execution_count": 37,
   "outputs": [
    {
     "name": "stderr",
     "output_type": "stream",
     "text": [
      "100%|██████████| 1/1 [00:01<00:00,  1.55s/it]"
     ]
    },
    {
     "name": "stdout",
     "output_type": "stream",
     "text": [
      "invalides: 0 from 1006 that is 0.0 %\n"
     ]
    },
    {
     "name": "stderr",
     "output_type": "stream",
     "text": [
      "\n"
     ]
    }
   ],
   "source": [
    "df_points = create_df_points(dic, radius=20)"
   ],
   "metadata": {
    "collapsed": false,
    "pycharm": {
     "name": "#%%\n"
    }
   }
  },
  {
   "cell_type": "code",
   "execution_count": 38,
   "outputs": [],
   "source": [
    "# SAVE\n",
    "df_points.to_csv('../../results/tripmaps/points_valid.csv')"
   ],
   "metadata": {
    "collapsed": false,
    "pycharm": {
     "name": "#%%\n"
    }
   }
  }
 ],
 "metadata": {
  "kernelspec": {
   "display_name": "Python 3",
   "language": "python",
   "name": "python3"
  },
  "language_info": {
   "codemirror_mode": {
    "name": "ipython",
    "version": 2
   },
   "file_extension": ".py",
   "mimetype": "text/x-python",
   "name": "python",
   "nbconvert_exporter": "python",
   "pygments_lexer": "ipython2",
   "version": "2.7.6"
  }
 },
 "nbformat": 4,
 "nbformat_minor": 0
}