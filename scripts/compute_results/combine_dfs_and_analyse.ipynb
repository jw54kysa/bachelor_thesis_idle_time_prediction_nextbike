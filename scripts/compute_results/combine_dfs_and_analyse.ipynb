{
 "cells": [
  {
   "cell_type": "markdown",
   "source": [
    "# Combine all df_points to one df\n"
   ],
   "metadata": {
    "collapsed": false,
    "pycharm": {
     "name": "#%% md\n"
    }
   }
  },
  {
   "cell_type": "code",
   "execution_count": 2,
   "id": "7c0ed7fd",
   "metadata": {
    "pycharm": {
     "name": "#%%\n"
    }
   },
   "outputs": [],
   "source": [
    "import pandas as pd"
   ]
  },
  {
   "cell_type": "code",
   "execution_count": 3,
   "id": "06baff0c",
   "metadata": {
    "pycharm": {
     "name": "#%%\n"
    }
   },
   "outputs": [],
   "source": [
    "dfa = pd.read_csv('../data/df_points/df_points_2018.csv')\n",
    "dfb = pd.read_csv('../data/df_points/df_points_2019.csv')\n",
    "dfc = pd.read_csv('../data/df_points/df_points_2020_v2.csv')\n",
    "dfd = pd.read_csv('../data/df_points/df_points_2021.csv')"
   ]
  },
  {
   "cell_type": "code",
   "execution_count": 4,
   "id": "95c2e623",
   "metadata": {
    "pycharm": {
     "name": "#%%\n"
    }
   },
   "outputs": [],
   "source": [
    "combined = pd.concat([dfa, dfb, dfc, dfd], ignore_index=True)"
   ]
  },
  {
   "cell_type": "code",
   "execution_count": 5,
   "id": "6a74f795",
   "metadata": {
    "pycharm": {
     "name": "#%%\n"
    }
   },
   "outputs": [
    {
     "data": {
      "text/plain": "         bike_id  start_time    end_time  start_lat  start_lng    end_lat  \\\n2043433   100190  1636467044  1636637754  51.325443  12.308089  51.325443   \n2043434   100190  1636652112  1636656874  51.325443  12.308089   0.000000   \n2043435    93419  1609630403  1609630876  51.324672  12.311404  51.346662   \n2043436    41646  1629569945  1629572024  51.340655  12.353256  51.327840   \n2043437    41646  1626353327  1626360404  51.324035  12.336220  51.361449   \n\n           end_lng  end_station_number  \n2043433  12.308089             41004.0  \n2043434   0.000000                 NaN  \n2043435  12.372344                 NaN  \n2043436  12.325948                 NaN  \n2043437  12.369214                 NaN  ",
      "text/html": "<div>\n<style scoped>\n    .dataframe tbody tr th:only-of-type {\n        vertical-align: middle;\n    }\n\n    .dataframe tbody tr th {\n        vertical-align: top;\n    }\n\n    .dataframe thead th {\n        text-align: right;\n    }\n</style>\n<table border=\"1\" class=\"dataframe\">\n  <thead>\n    <tr style=\"text-align: right;\">\n      <th></th>\n      <th>bike_id</th>\n      <th>start_time</th>\n      <th>end_time</th>\n      <th>start_lat</th>\n      <th>start_lng</th>\n      <th>end_lat</th>\n      <th>end_lng</th>\n      <th>end_station_number</th>\n    </tr>\n  </thead>\n  <tbody>\n    <tr>\n      <th>2043433</th>\n      <td>100190</td>\n      <td>1636467044</td>\n      <td>1636637754</td>\n      <td>51.325443</td>\n      <td>12.308089</td>\n      <td>51.325443</td>\n      <td>12.308089</td>\n      <td>41004.0</td>\n    </tr>\n    <tr>\n      <th>2043434</th>\n      <td>100190</td>\n      <td>1636652112</td>\n      <td>1636656874</td>\n      <td>51.325443</td>\n      <td>12.308089</td>\n      <td>0.000000</td>\n      <td>0.000000</td>\n      <td>NaN</td>\n    </tr>\n    <tr>\n      <th>2043435</th>\n      <td>93419</td>\n      <td>1609630403</td>\n      <td>1609630876</td>\n      <td>51.324672</td>\n      <td>12.311404</td>\n      <td>51.346662</td>\n      <td>12.372344</td>\n      <td>NaN</td>\n    </tr>\n    <tr>\n      <th>2043436</th>\n      <td>41646</td>\n      <td>1629569945</td>\n      <td>1629572024</td>\n      <td>51.340655</td>\n      <td>12.353256</td>\n      <td>51.327840</td>\n      <td>12.325948</td>\n      <td>NaN</td>\n    </tr>\n    <tr>\n      <th>2043437</th>\n      <td>41646</td>\n      <td>1626353327</td>\n      <td>1626360404</td>\n      <td>51.324035</td>\n      <td>12.336220</td>\n      <td>51.361449</td>\n      <td>12.369214</td>\n      <td>NaN</td>\n    </tr>\n  </tbody>\n</table>\n</div>"
     },
     "execution_count": 5,
     "metadata": {},
     "output_type": "execute_result"
    }
   ],
   "source": [
    "combined.tail()"
   ]
  },
  {
   "cell_type": "code",
   "execution_count": 6,
   "outputs": [],
   "source": [
    "c = combined.sort_values(by=['dt_start'])"
   ],
   "metadata": {
    "collapsed": false,
    "pycharm": {
     "name": "#%%\n"
    }
   }
  },
  {
   "cell_type": "code",
   "execution_count": 7,
   "id": "9071190b",
   "metadata": {
    "pycharm": {
     "name": "#%%\n"
    }
   },
   "outputs": [],
   "source": [
    "c.to_csv('../data/final_df_points_18_21.csv', index=False)"
   ]
  }
 ],
 "metadata": {
  "kernelspec": {
   "display_name": "Python 3 (ipykernel)",
   "language": "python",
   "name": "python3"
  },
  "language_info": {
   "codemirror_mode": {
    "name": "ipython",
    "version": 3
   },
   "file_extension": ".py",
   "mimetype": "text/x-python",
   "name": "python",
   "nbconvert_exporter": "python",
   "pygments_lexer": "ipython3",
   "version": "3.9.7"
  }
 },
 "nbformat": 4,
 "nbformat_minor": 5
}