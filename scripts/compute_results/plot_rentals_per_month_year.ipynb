{
 "cells": [
  {
   "cell_type": "code",
   "execution_count": null,
   "metadata": {
    "collapsed": true,
    "pycharm": {
     "name": "#%%\n",
     "is_executing": true
    }
   },
   "outputs": [],
   "source": [
    "import pandas as pd\n",
    "df = pd.read_csv('../../data/final_df_points_18_21_class.csv')"
   ]
  },
  {
   "cell_type": "code",
   "execution_count": 3,
   "outputs": [],
   "source": [
    "df = df.sort_values('dt_start').reset_index(drop=True)"
   ],
   "metadata": {
    "collapsed": false,
    "pycharm": {
     "name": "#%%\n"
    }
   }
  },
  {
   "cell_type": "code",
   "execution_count": null,
   "outputs": [],
   "source": [
    "import numpy as np\n",
    "\n",
    "years = ['2018','2019','2020','2021']\n",
    "months = ['1','2','3','4','5','6','7','8','9','10','11','12']\n",
    "list = []\n",
    "for year in years:\n",
    "    for month in months:\n",
    "        list.append(f'{year}-{month}')\n",
    "\n",
    "tsdata = pd.DataFrame({ 'date': list, 'bike_count': 0})\n",
    "tsdata = tsdata.set_index('date')\n",
    "tsdata.head()"
   ],
   "metadata": {
    "collapsed": false,
    "pycharm": {
     "name": "#%%\n",
     "is_executing": true
    }
   }
  },
  {
   "cell_type": "code",
   "execution_count": 12,
   "outputs": [],
   "source": [
    "from matplotlib import pyplot as plt\n",
    "import statistics\n",
    "from tqdm import tqdm\n",
    "df['time_start'] = pd.to_datetime(df['dt_start'],unit='s')\n",
    "\n",
    "def count(year):\n",
    "    tmp = df[df['time_start'].dt.year == year]\n",
    "    for ind in tqdm(tmp.index):\n",
    "            i = f\"{year}-{df['time_start'][ind].month}\"\n",
    "            #print(i)\n",
    "            try:\n",
    "                tsdata['bike_count'][i] += 1\n",
    "            except KeyError:\n",
    "                print(i)\n",
    "    return tsdata\n",
    "\n",
    "def plot(year,tsdata):\n",
    "    fig, ax = plt.subplots(figsize=(50,10))\n",
    "    # plotting monthly data\n",
    "    ax.plot(tsdata)\n",
    "    ax.set_xlabel('month')\n",
    "    ax.set_ylabel('rentals')\n",
    "\n",
    "    labels = ['2018','2019','2020','2021']\n",
    "\n",
    "    #plt.xticks(tsdata.index, labels)\n",
    "\n",
    "    # show values\n",
    "    ax.set_title(f'Rentals from years 2018 - 2021')\n",
    "    plt.show()\n"
   ],
   "metadata": {
    "collapsed": false,
    "pycharm": {
     "name": "#%%\n"
    }
   }
  },
  {
   "cell_type": "code",
   "execution_count": null,
   "outputs": [],
   "source": [
    "labels = ['2018','2019','2020','2021']\n",
    "for year in [labels]:\n",
    "    tsdata = count(year)\n",
    "    plot(year,tsdata)\n",
    "    print(tsdata)"
   ],
   "metadata": {
    "collapsed": false,
    "pycharm": {
     "name": "#%%\n",
     "is_executing": true
    }
   }
  }
 ],
 "metadata": {
  "kernelspec": {
   "display_name": "Python 3",
   "language": "python",
   "name": "python3"
  },
  "language_info": {
   "codemirror_mode": {
    "name": "ipython",
    "version": 2
   },
   "file_extension": ".py",
   "mimetype": "text/x-python",
   "name": "python",
   "nbconvert_exporter": "python",
   "pygments_lexer": "ipython2",
   "version": "2.7.6"
  }
 },
 "nbformat": 4,
 "nbformat_minor": 0
}