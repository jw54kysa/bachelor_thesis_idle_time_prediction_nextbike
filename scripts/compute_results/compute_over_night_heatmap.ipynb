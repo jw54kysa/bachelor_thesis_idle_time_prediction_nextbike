{
 "cells": [
  {
   "cell_type": "code",
   "execution_count": 15,
   "outputs": [
    {
     "data": {
      "text/plain": "   bike_id        lat        lng    dt_start      dt_end           hex_id  \\\n0     3694  51.323619  12.335887  1514764029  1514764799  881f1a8d91fffff   \n1     2508  51.323619  12.335887  1514764035  1514764799  881f1a8d91fffff   \n2    41851  51.332415  12.395158  1514764638  1514764799  881f1a1659fffff   \n3     3694  51.323619  12.335887  1514764800  1514814103  881f1a8d91fffff   \n4     2508  51.323619  12.335887  1514764800  1514851199  881f1a8d91fffff   \n\n   hex_enc  in_zone                   zone_name  zone_name_enc  ...  \\\n0      324        1  Pinke Zone Leipzig West 1€              4  ...   \n1      324        1  Pinke Zone Leipzig West 1€              4  ...   \n2      137        1   Pinke Zone Leipzig Ost 1€              3  ...   \n3      324        1  Pinke Zone Leipzig West 1€              4  ...   \n4      324        1  Pinke Zone Leipzig West 1€              4  ...   \n\n   wind_speed  humidity  year  month  day  start_min  over_night  \\\n0         7.2      76.0  2017     12    6       1427           1   \n1         7.2      76.0  2017     12    6       1427           1   \n2         7.2      76.0  2017     12    6       1437           1   \n3         9.3      76.0  2018      1    0          0           0   \n4         9.3      76.0  2018      1    0          0           1   \n\n   idle_time_next_day  idle_time  idle_time_class  \n0                 821         12                1  \n1                1439         12                1  \n2                1439          2                1  \n3                   0        821                4  \n4                 878       1439                4  \n\n[5 rows x 25 columns]",
      "text/html": "<div>\n<style scoped>\n    .dataframe tbody tr th:only-of-type {\n        vertical-align: middle;\n    }\n\n    .dataframe tbody tr th {\n        vertical-align: top;\n    }\n\n    .dataframe thead th {\n        text-align: right;\n    }\n</style>\n<table border=\"1\" class=\"dataframe\">\n  <thead>\n    <tr style=\"text-align: right;\">\n      <th></th>\n      <th>bike_id</th>\n      <th>lat</th>\n      <th>lng</th>\n      <th>dt_start</th>\n      <th>dt_end</th>\n      <th>hex_id</th>\n      <th>hex_enc</th>\n      <th>in_zone</th>\n      <th>zone_name</th>\n      <th>zone_name_enc</th>\n      <th>...</th>\n      <th>wind_speed</th>\n      <th>humidity</th>\n      <th>year</th>\n      <th>month</th>\n      <th>day</th>\n      <th>start_min</th>\n      <th>over_night</th>\n      <th>idle_time_next_day</th>\n      <th>idle_time</th>\n      <th>idle_time_class</th>\n    </tr>\n  </thead>\n  <tbody>\n    <tr>\n      <th>0</th>\n      <td>3694</td>\n      <td>51.323619</td>\n      <td>12.335887</td>\n      <td>1514764029</td>\n      <td>1514764799</td>\n      <td>881f1a8d91fffff</td>\n      <td>324</td>\n      <td>1</td>\n      <td>Pinke Zone Leipzig West 1€</td>\n      <td>4</td>\n      <td>...</td>\n      <td>7.2</td>\n      <td>76.0</td>\n      <td>2017</td>\n      <td>12</td>\n      <td>6</td>\n      <td>1427</td>\n      <td>1</td>\n      <td>821</td>\n      <td>12</td>\n      <td>1</td>\n    </tr>\n    <tr>\n      <th>1</th>\n      <td>2508</td>\n      <td>51.323619</td>\n      <td>12.335887</td>\n      <td>1514764035</td>\n      <td>1514764799</td>\n      <td>881f1a8d91fffff</td>\n      <td>324</td>\n      <td>1</td>\n      <td>Pinke Zone Leipzig West 1€</td>\n      <td>4</td>\n      <td>...</td>\n      <td>7.2</td>\n      <td>76.0</td>\n      <td>2017</td>\n      <td>12</td>\n      <td>6</td>\n      <td>1427</td>\n      <td>1</td>\n      <td>1439</td>\n      <td>12</td>\n      <td>1</td>\n    </tr>\n    <tr>\n      <th>2</th>\n      <td>41851</td>\n      <td>51.332415</td>\n      <td>12.395158</td>\n      <td>1514764638</td>\n      <td>1514764799</td>\n      <td>881f1a1659fffff</td>\n      <td>137</td>\n      <td>1</td>\n      <td>Pinke Zone Leipzig Ost 1€</td>\n      <td>3</td>\n      <td>...</td>\n      <td>7.2</td>\n      <td>76.0</td>\n      <td>2017</td>\n      <td>12</td>\n      <td>6</td>\n      <td>1437</td>\n      <td>1</td>\n      <td>1439</td>\n      <td>2</td>\n      <td>1</td>\n    </tr>\n    <tr>\n      <th>3</th>\n      <td>3694</td>\n      <td>51.323619</td>\n      <td>12.335887</td>\n      <td>1514764800</td>\n      <td>1514814103</td>\n      <td>881f1a8d91fffff</td>\n      <td>324</td>\n      <td>1</td>\n      <td>Pinke Zone Leipzig West 1€</td>\n      <td>4</td>\n      <td>...</td>\n      <td>9.3</td>\n      <td>76.0</td>\n      <td>2018</td>\n      <td>1</td>\n      <td>0</td>\n      <td>0</td>\n      <td>0</td>\n      <td>0</td>\n      <td>821</td>\n      <td>4</td>\n    </tr>\n    <tr>\n      <th>4</th>\n      <td>2508</td>\n      <td>51.323619</td>\n      <td>12.335887</td>\n      <td>1514764800</td>\n      <td>1514851199</td>\n      <td>881f1a8d91fffff</td>\n      <td>324</td>\n      <td>1</td>\n      <td>Pinke Zone Leipzig West 1€</td>\n      <td>4</td>\n      <td>...</td>\n      <td>9.3</td>\n      <td>76.0</td>\n      <td>2018</td>\n      <td>1</td>\n      <td>0</td>\n      <td>0</td>\n      <td>1</td>\n      <td>878</td>\n      <td>1439</td>\n      <td>4</td>\n    </tr>\n  </tbody>\n</table>\n<p>5 rows × 25 columns</p>\n</div>"
     },
     "execution_count": 15,
     "metadata": {},
     "output_type": "execute_result"
    }
   ],
   "source": [
    "import pandas as pd\n",
    "\n",
    "df_points = pd.read_csv('../../data/final_df_points_18_21_class.csv')\n",
    "df_points.head()"
   ],
   "metadata": {
    "collapsed": false,
    "pycharm": {
     "name": "#%%\n"
    }
   }
  },
  {
   "cell_type": "code",
   "execution_count": 16,
   "outputs": [],
   "source": [
    "df_over_night = pd.DataFrame(columns=['hex_id','bike_count','over_nights','over_night_percent'])"
   ],
   "metadata": {
    "collapsed": false,
    "pycharm": {
     "name": "#%%\n"
    }
   }
  },
  {
   "cell_type": "code",
   "execution_count": 17,
   "outputs": [],
   "source": [
    "df_over_night['hex_id'] = df_points['hex_id'].unique()"
   ],
   "metadata": {
    "collapsed": false,
    "pycharm": {
     "name": "#%%\n"
    }
   }
  },
  {
   "cell_type": "code",
   "execution_count": 18,
   "outputs": [],
   "source": [
    "df_over_night = df_over_night.set_index('hex_id')"
   ],
   "metadata": {
    "collapsed": false,
    "pycharm": {
     "name": "#%%\n"
    }
   }
  },
  {
   "cell_type": "code",
   "execution_count": 20,
   "outputs": [
    {
     "name": "stderr",
     "output_type": "stream",
     "text": [
      "100%|██████████| 556/556 [01:36<00:00,  5.77it/s]\n"
     ]
    }
   ],
   "source": [
    "from tqdm import tqdm\n",
    "\n",
    "ind = 0\n",
    "for hexid in tqdm(df_over_night.index):\n",
    "    tmp = df_points[df_points['hex_id'] == hexid]\n",
    "\n",
    "    count = len(tmp)\n",
    "    over_night = len(tmp[tmp['over_night']==1])\n",
    "    percent = over_night / count\n",
    "\n",
    "    df_over_night['bike_count'][hexid] = count\n",
    "    df_over_night['over_nights'][hexid] = over_night\n",
    "    df_over_night['over_night_percent'][hexid] = percent"
   ],
   "metadata": {
    "collapsed": false,
    "pycharm": {
     "name": "#%%\n"
    }
   }
  },
  {
   "cell_type": "code",
   "execution_count": 21,
   "outputs": [
    {
     "data": {
      "text/plain": "                bike_count over_nights over_night_percent\nhex_id                                                   \n881f1a8d91fffff      72705       16072           0.221058\n881f1a1659fffff      61761       12381           0.200466\n881f1a8c83fffff      39538       14568           0.368456\n881f1a160dfffff      44423       11496           0.258785\n881f1a8ddbfffff      31332       13513           0.431284\n...                    ...         ...                ...\n881f1a9aabfffff          2           1                0.5\n881f1a9aa3fffff          2           0                0.0\n881f1a8f51fffff          1           0                0.0\n881f1ab9d5fffff          2           1                0.5\n881f1a98ddfffff         10           9                0.9\n\n[556 rows x 3 columns]",
      "text/html": "<div>\n<style scoped>\n    .dataframe tbody tr th:only-of-type {\n        vertical-align: middle;\n    }\n\n    .dataframe tbody tr th {\n        vertical-align: top;\n    }\n\n    .dataframe thead th {\n        text-align: right;\n    }\n</style>\n<table border=\"1\" class=\"dataframe\">\n  <thead>\n    <tr style=\"text-align: right;\">\n      <th></th>\n      <th>bike_count</th>\n      <th>over_nights</th>\n      <th>over_night_percent</th>\n    </tr>\n    <tr>\n      <th>hex_id</th>\n      <th></th>\n      <th></th>\n      <th></th>\n    </tr>\n  </thead>\n  <tbody>\n    <tr>\n      <th>881f1a8d91fffff</th>\n      <td>72705</td>\n      <td>16072</td>\n      <td>0.221058</td>\n    </tr>\n    <tr>\n      <th>881f1a1659fffff</th>\n      <td>61761</td>\n      <td>12381</td>\n      <td>0.200466</td>\n    </tr>\n    <tr>\n      <th>881f1a8c83fffff</th>\n      <td>39538</td>\n      <td>14568</td>\n      <td>0.368456</td>\n    </tr>\n    <tr>\n      <th>881f1a160dfffff</th>\n      <td>44423</td>\n      <td>11496</td>\n      <td>0.258785</td>\n    </tr>\n    <tr>\n      <th>881f1a8ddbfffff</th>\n      <td>31332</td>\n      <td>13513</td>\n      <td>0.431284</td>\n    </tr>\n    <tr>\n      <th>...</th>\n      <td>...</td>\n      <td>...</td>\n      <td>...</td>\n    </tr>\n    <tr>\n      <th>881f1a9aabfffff</th>\n      <td>2</td>\n      <td>1</td>\n      <td>0.5</td>\n    </tr>\n    <tr>\n      <th>881f1a9aa3fffff</th>\n      <td>2</td>\n      <td>0</td>\n      <td>0.0</td>\n    </tr>\n    <tr>\n      <th>881f1a8f51fffff</th>\n      <td>1</td>\n      <td>0</td>\n      <td>0.0</td>\n    </tr>\n    <tr>\n      <th>881f1ab9d5fffff</th>\n      <td>2</td>\n      <td>1</td>\n      <td>0.5</td>\n    </tr>\n    <tr>\n      <th>881f1a98ddfffff</th>\n      <td>10</td>\n      <td>9</td>\n      <td>0.9</td>\n    </tr>\n  </tbody>\n</table>\n<p>556 rows × 3 columns</p>\n</div>"
     },
     "execution_count": 21,
     "metadata": {},
     "output_type": "execute_result"
    }
   ],
   "source": [
    "df_over_night"
   ],
   "metadata": {
    "collapsed": false,
    "pycharm": {
     "name": "#%%\n"
    }
   }
  },
  {
   "cell_type": "code",
   "execution_count": 24,
   "outputs": [],
   "source": [
    "df_over_night = df_over_night[df_over_night['bike_count'] > 10]"
   ],
   "metadata": {
    "collapsed": false,
    "pycharm": {
     "name": "#%%\n"
    }
   }
  },
  {
   "cell_type": "code",
   "execution_count": 25,
   "outputs": [
    {
     "data": {
      "text/plain": "                bike_count over_nights over_night_percent\nhex_id                                                   \n881f1a8d91fffff      72705       16072           0.221058\n881f1a1659fffff      61761       12381           0.200466\n881f1a8c83fffff      39538       14568           0.368456\n881f1a160dfffff      44423       11496           0.258785\n881f1a8ddbfffff      31332       13513           0.431284\n...                    ...         ...                ...\n881f1a1689fffff         28          22           0.785714\n881f1abb0dfffff         12           7           0.583333\n881f1ab931fffff         12           6                0.5\n881f1abb11fffff         14           6           0.428571\n881f1a1721fffff         21           5           0.238095\n\n[274 rows x 3 columns]",
      "text/html": "<div>\n<style scoped>\n    .dataframe tbody tr th:only-of-type {\n        vertical-align: middle;\n    }\n\n    .dataframe tbody tr th {\n        vertical-align: top;\n    }\n\n    .dataframe thead th {\n        text-align: right;\n    }\n</style>\n<table border=\"1\" class=\"dataframe\">\n  <thead>\n    <tr style=\"text-align: right;\">\n      <th></th>\n      <th>bike_count</th>\n      <th>over_nights</th>\n      <th>over_night_percent</th>\n    </tr>\n    <tr>\n      <th>hex_id</th>\n      <th></th>\n      <th></th>\n      <th></th>\n    </tr>\n  </thead>\n  <tbody>\n    <tr>\n      <th>881f1a8d91fffff</th>\n      <td>72705</td>\n      <td>16072</td>\n      <td>0.221058</td>\n    </tr>\n    <tr>\n      <th>881f1a1659fffff</th>\n      <td>61761</td>\n      <td>12381</td>\n      <td>0.200466</td>\n    </tr>\n    <tr>\n      <th>881f1a8c83fffff</th>\n      <td>39538</td>\n      <td>14568</td>\n      <td>0.368456</td>\n    </tr>\n    <tr>\n      <th>881f1a160dfffff</th>\n      <td>44423</td>\n      <td>11496</td>\n      <td>0.258785</td>\n    </tr>\n    <tr>\n      <th>881f1a8ddbfffff</th>\n      <td>31332</td>\n      <td>13513</td>\n      <td>0.431284</td>\n    </tr>\n    <tr>\n      <th>...</th>\n      <td>...</td>\n      <td>...</td>\n      <td>...</td>\n    </tr>\n    <tr>\n      <th>881f1a1689fffff</th>\n      <td>28</td>\n      <td>22</td>\n      <td>0.785714</td>\n    </tr>\n    <tr>\n      <th>881f1abb0dfffff</th>\n      <td>12</td>\n      <td>7</td>\n      <td>0.583333</td>\n    </tr>\n    <tr>\n      <th>881f1ab931fffff</th>\n      <td>12</td>\n      <td>6</td>\n      <td>0.5</td>\n    </tr>\n    <tr>\n      <th>881f1abb11fffff</th>\n      <td>14</td>\n      <td>6</td>\n      <td>0.428571</td>\n    </tr>\n    <tr>\n      <th>881f1a1721fffff</th>\n      <td>21</td>\n      <td>5</td>\n      <td>0.238095</td>\n    </tr>\n  </tbody>\n</table>\n<p>274 rows × 3 columns</p>\n</div>"
     },
     "execution_count": 25,
     "metadata": {},
     "output_type": "execute_result"
    }
   ],
   "source": [
    "df_over_night"
   ],
   "metadata": {
    "collapsed": false,
    "pycharm": {
     "name": "#%%\n"
    }
   }
  },
  {
   "cell_type": "code",
   "execution_count": 26,
   "outputs": [],
   "source": [
    "df_over_night.to_csv('../../data/df_over_night_heatmap_over_10.csv')"
   ],
   "metadata": {
    "collapsed": false,
    "pycharm": {
     "name": "#%%\n"
    }
   }
  },
  {
   "cell_type": "code",
   "execution_count": null,
   "outputs": [],
   "source": [],
   "metadata": {
    "collapsed": false,
    "pycharm": {
     "name": "#%%\n"
    }
   }
  }
 ],
 "metadata": {
  "kernelspec": {
   "display_name": "Python 3",
   "language": "python",
   "name": "python3"
  },
  "language_info": {
   "codemirror_mode": {
    "name": "ipython",
    "version": 2
   },
   "file_extension": ".py",
   "mimetype": "text/x-python",
   "name": "python",
   "nbconvert_exporter": "python",
   "pygments_lexer": "ipython2",
   "version": "2.7.6"
  }
 },
 "nbformat": 4,
 "nbformat_minor": 0
}