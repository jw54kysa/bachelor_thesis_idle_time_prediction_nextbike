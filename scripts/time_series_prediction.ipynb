{
 "cells": [
  {
   "cell_type": "markdown",
   "source": [
    "# Start Pred"
   ],
   "metadata": {
    "collapsed": false,
    "pycharm": {
     "name": "#%% md\n"
    }
   }
  },
  {
   "cell_type": "code",
   "execution_count": 2,
   "outputs": [],
   "source": [
    "import pandas as pd\n",
    "import numpy as np\n",
    "import statistics\n",
    "import matplotlib.pyplot as plt\n",
    "from tqdm import tqdm\n",
    "\n",
    "tsdata = 'X'"
   ],
   "metadata": {
    "collapsed": false,
    "pycharm": {
     "name": "#%%\n"
    }
   }
  },
  {
   "cell_type": "code",
   "execution_count": null,
   "outputs": [],
   "source": [
    "# ADD Weather Features\n",
    "\n",
    "dfw = pd.read_csv('/Users/jonweske/devment/BA_nextbike/data/weather_data.csv')\n",
    "dfw['datetime'] = pd.to_datetime(dfw['dt'], unit='s')\n",
    "dfw = dfw.set_index(['datetime'])\n",
    "dfw.head()\n",
    "\n",
    "tsdata['temp'] = np.nan\n",
    "tsdata['rain'] = np.nan\n",
    "tsdata['snow'] = np.nan\n",
    "\n",
    "for ind in tqdm(tsdata.index):\n",
    "    wint = ind.replace(hour=12, minute=0, second=0)\n",
    "    tsdata['temp'][ind] = dfw['temp'][wint].copy()\n",
    "    tsdata['rain'][ind] = dfw['rain_1h'][wint].copy()\n",
    "    tsdata['snow'][ind] = dfw['snow_1h'][wint].copy()\n",
    "# Feature Engeniering\n",
    "# inserting new column with yesterday last_week and last_year plus Diffs\n",
    "tsdata['Yesterday'] = tsdata['idle_time'].shift()\n",
    "tsdata['Yesterday_Diff'] = tsdata['Yesterday'].diff()\n",
    "\n",
    "tsdata['Last_Week'] = tsdata['idle_time'].shift(periods=7)\n",
    "tsdata['Last_Week_Diff'] = tsdata['Last_Week'].diff()\n",
    "\n",
    "tsdata['Last_Year'] = tsdata['idle_time'].shift(periods=365)\n",
    "tsdata['Last_Year_Diff'] = tsdata['Last_Year'].diff()\n",
    "\n",
    "# Nan s to 0\n",
    "tsdata = tsdata.fillna(0)"
   ],
   "metadata": {
    "collapsed": false,
    "pycharm": {
     "name": "#%%\n"
    }
   }
  },
  {
   "cell_type": "code",
   "execution_count": null,
   "outputs": [],
   "source": [
    "# Split Dataset\n",
    "\n",
    "from sklearn.model_selection import train_test_split\n",
    "\n",
    "TargetVariable = ['idle_time']\n",
    "Predictors = ['bike_count', 'temp', 'rain', 'snow', 'Yesterday', 'Yesterday_Diff', 'Last_Week', 'Last_Week_Diff', 'Last_Year', 'Last_Year_Diff','bike_count']\n",
    "X = tsdata[Predictors]\n",
    "y = tsdata[TargetVariable]\n",
    "\n",
    "# no shuffle because\n",
    "X_train, X_test, y_train, y_test = train_test_split(X, y, test_size=0.25, shuffle=False)\n",
    "\n",
    "# Quick sanity check with the shapes of Training and testing datasets\n",
    "print(X_train.shape)\n",
    "print(y_train.shape)\n",
    "print(X_test.shape)\n",
    "print(y_test.shape)"
   ],
   "metadata": {
    "collapsed": false,
    "pycharm": {
     "name": "#%%\n"
    }
   }
  },
  {
   "cell_type": "code",
   "execution_count": null,
   "outputs": [],
   "source": [
    "import sklearn.metrics as metrics\n",
    "\n",
    "def regression_results(y_true, y_pred):\n",
    "    #explained_variance=metrics.explained_variance_score(y_true, y_pred)\n",
    "    mae=metrics.mean_absolute_error(y_true, y_pred)\n",
    "    mse=metrics.mean_squared_error(y_true, y_pred)\n",
    "    r2=metrics.r2_score(y_true, y_pred)\n",
    "    #print('explained_variance: ', round(explained_variance,4))\n",
    "    print('r2: ', round(r2,4))\n",
    "    print('MAE: ', round(mae,4))\n",
    "    print('MSE: ', round(mse,4))"
   ],
   "metadata": {
    "collapsed": false,
    "pycharm": {
     "name": "#%%\n"
    }
   }
  },
  {
   "cell_type": "code",
   "execution_count": null,
   "outputs": [],
   "source": [
    "# fit, predict and display model#\n",
    "\n",
    "def start_model(_model,_X_train,_y_train,_X_test,_y_test):\n",
    "    # fit given model\n",
    "    model.fit(_X_train.values,_y_train.values.ravel())\n",
    "\n",
    "    #give Predicted y Dates as index\n",
    "    _y_pred = pd.DataFrame({'date': _X_test.index, 'idle_time': model.predict(_X_test.values)})\n",
    "    _y_pred = _y_pred.set_index('date')\n",
    "\n",
    "    #print Regression Results\n",
    "    print(regression_results(_y_test.values,_y_pred.values))\n",
    "\n",
    "    # plot predicted and real y\n",
    "    plt.subplots(figsize = (30,10))\n",
    "    # plot Training Data ?\n",
    "    #plt.plot(_y_train, color='0.2')\n",
    "\n",
    "    plt.plot(_y_pred, color='blue')\n",
    "    plt.plot(_y_test, color='green')\n",
    "    plt.show()"
   ],
   "metadata": {
    "collapsed": false,
    "pycharm": {
     "name": "#%%\n"
    }
   }
  },
  {
   "cell_type": "code",
   "execution_count": null,
   "outputs": [],
   "source": [
    "from sklearn.ensemble import RandomForestRegressor\n",
    "\n",
    "model = RandomForestRegressor()\n",
    "start_model(model,X_train,y_train,X_test,y_test)"
   ],
   "metadata": {
    "collapsed": false,
    "pycharm": {
     "name": "#%%\n"
    }
   }
  }
 ],
 "metadata": {
  "kernelspec": {
   "display_name": "Python 3",
   "language": "python",
   "name": "python3"
  },
  "language_info": {
   "codemirror_mode": {
    "name": "ipython",
    "version": 2
   },
   "file_extension": ".py",
   "mimetype": "text/x-python",
   "name": "python",
   "nbconvert_exporter": "python",
   "pygments_lexer": "ipython2",
   "version": "2.7.6"
  }
 },
 "nbformat": 4,
 "nbformat_minor": 0
}