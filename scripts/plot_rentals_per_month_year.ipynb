{
 "cells": [
  {
   "cell_type": "code",
   "execution_count": 19,
   "metadata": {
    "collapsed": true
   },
   "outputs": [
    {
     "data": {
      "text/plain": "   bike_id        lat        lng    dt_start      dt_end           hex_id  \\\n0     3694  51.323619  12.335887  1514764029  1514764799  881f1a8d91fffff   \n1     2508  51.323619  12.335887  1514764035  1514764799  881f1a8d91fffff   \n2    41851  51.332415  12.395158  1514764638  1514764799  881f1a1659fffff   \n3     3694  51.323619  12.335887  1514764800  1514814103  881f1a8d91fffff   \n4     2508  51.323619  12.335887  1514764800  1514851199  881f1a8d91fffff   \n\n   in_zone                   zone_name  end_station_number   temp  ...  snow  \\\n0        1  Pinke Zone Leipzig West 1€                4094  10.80  ...   0.0   \n1        1  Pinke Zone Leipzig West 1€                4094  10.80  ...   0.0   \n2        1   Pinke Zone Leipzig Ost 1€                   0  10.80  ...   0.0   \n3        1  Pinke Zone Leipzig West 1€                4094  10.86  ...   0.0   \n4        1  Pinke Zone Leipzig West 1€                4094  10.86  ...   0.0   \n\n   wind_speed  humidity  year  month  day  start_min  over_night  \\\n0         7.2      76.0  2017     12    6       1427           1   \n1         7.2      76.0  2017     12    6       1427           1   \n2         7.2      76.0  2017     12    6       1437           1   \n3         9.3      76.0  2018      1    0          0           0   \n4         9.3      76.0  2018      1    0          0           1   \n\n   idle_time_next_day  idle_time  \n0                 821         12  \n1                1439         12  \n2                1439          2  \n3                   0        821  \n4                 878       1439  \n\n[5 rows x 21 columns]",
      "text/html": "<div>\n<style scoped>\n    .dataframe tbody tr th:only-of-type {\n        vertical-align: middle;\n    }\n\n    .dataframe tbody tr th {\n        vertical-align: top;\n    }\n\n    .dataframe thead th {\n        text-align: right;\n    }\n</style>\n<table border=\"1\" class=\"dataframe\">\n  <thead>\n    <tr style=\"text-align: right;\">\n      <th></th>\n      <th>bike_id</th>\n      <th>lat</th>\n      <th>lng</th>\n      <th>dt_start</th>\n      <th>dt_end</th>\n      <th>hex_id</th>\n      <th>in_zone</th>\n      <th>zone_name</th>\n      <th>end_station_number</th>\n      <th>temp</th>\n      <th>...</th>\n      <th>snow</th>\n      <th>wind_speed</th>\n      <th>humidity</th>\n      <th>year</th>\n      <th>month</th>\n      <th>day</th>\n      <th>start_min</th>\n      <th>over_night</th>\n      <th>idle_time_next_day</th>\n      <th>idle_time</th>\n    </tr>\n  </thead>\n  <tbody>\n    <tr>\n      <th>0</th>\n      <td>3694</td>\n      <td>51.323619</td>\n      <td>12.335887</td>\n      <td>1514764029</td>\n      <td>1514764799</td>\n      <td>881f1a8d91fffff</td>\n      <td>1</td>\n      <td>Pinke Zone Leipzig West 1€</td>\n      <td>4094</td>\n      <td>10.80</td>\n      <td>...</td>\n      <td>0.0</td>\n      <td>7.2</td>\n      <td>76.0</td>\n      <td>2017</td>\n      <td>12</td>\n      <td>6</td>\n      <td>1427</td>\n      <td>1</td>\n      <td>821</td>\n      <td>12</td>\n    </tr>\n    <tr>\n      <th>1</th>\n      <td>2508</td>\n      <td>51.323619</td>\n      <td>12.335887</td>\n      <td>1514764035</td>\n      <td>1514764799</td>\n      <td>881f1a8d91fffff</td>\n      <td>1</td>\n      <td>Pinke Zone Leipzig West 1€</td>\n      <td>4094</td>\n      <td>10.80</td>\n      <td>...</td>\n      <td>0.0</td>\n      <td>7.2</td>\n      <td>76.0</td>\n      <td>2017</td>\n      <td>12</td>\n      <td>6</td>\n      <td>1427</td>\n      <td>1</td>\n      <td>1439</td>\n      <td>12</td>\n    </tr>\n    <tr>\n      <th>2</th>\n      <td>41851</td>\n      <td>51.332415</td>\n      <td>12.395158</td>\n      <td>1514764638</td>\n      <td>1514764799</td>\n      <td>881f1a1659fffff</td>\n      <td>1</td>\n      <td>Pinke Zone Leipzig Ost 1€</td>\n      <td>0</td>\n      <td>10.80</td>\n      <td>...</td>\n      <td>0.0</td>\n      <td>7.2</td>\n      <td>76.0</td>\n      <td>2017</td>\n      <td>12</td>\n      <td>6</td>\n      <td>1437</td>\n      <td>1</td>\n      <td>1439</td>\n      <td>2</td>\n    </tr>\n    <tr>\n      <th>3</th>\n      <td>3694</td>\n      <td>51.323619</td>\n      <td>12.335887</td>\n      <td>1514764800</td>\n      <td>1514814103</td>\n      <td>881f1a8d91fffff</td>\n      <td>1</td>\n      <td>Pinke Zone Leipzig West 1€</td>\n      <td>4094</td>\n      <td>10.86</td>\n      <td>...</td>\n      <td>0.0</td>\n      <td>9.3</td>\n      <td>76.0</td>\n      <td>2018</td>\n      <td>1</td>\n      <td>0</td>\n      <td>0</td>\n      <td>0</td>\n      <td>0</td>\n      <td>821</td>\n    </tr>\n    <tr>\n      <th>4</th>\n      <td>2508</td>\n      <td>51.323619</td>\n      <td>12.335887</td>\n      <td>1514764800</td>\n      <td>1514851199</td>\n      <td>881f1a8d91fffff</td>\n      <td>1</td>\n      <td>Pinke Zone Leipzig West 1€</td>\n      <td>4094</td>\n      <td>10.86</td>\n      <td>...</td>\n      <td>0.0</td>\n      <td>9.3</td>\n      <td>76.0</td>\n      <td>2018</td>\n      <td>1</td>\n      <td>0</td>\n      <td>0</td>\n      <td>1</td>\n      <td>878</td>\n      <td>1439</td>\n    </tr>\n  </tbody>\n</table>\n<p>5 rows × 21 columns</p>\n</div>"
     },
     "execution_count": 19,
     "metadata": {},
     "output_type": "execute_result"
    }
   ],
   "source": [
    "import pandas as pd\n",
    "df = pd.read_csv('../data/final_df_points_18_21.csv')\n",
    "df.head()"
   ]
  },
  {
   "cell_type": "code",
   "execution_count": 20,
   "outputs": [],
   "source": [
    "df = df.sort_values('dt_start').reset_index(drop=True)"
   ],
   "metadata": {
    "collapsed": false,
    "pycharm": {
     "name": "#%%\n"
    }
   }
  },
  {
   "cell_type": "code",
   "execution_count": 21,
   "outputs": [
    {
     "data": {
      "text/plain": "         bike_id        lat        lng    dt_start      dt_end  \\\n2543825    72058  51.317569  12.382730  1640897593  1640904368   \n2543826    71949  51.334711  12.356763  1640897835  1640899343   \n2543827    97785  51.367276  12.369792  1640898086  1640900985   \n2543828    41738  51.366942  12.370322  1640900918  1640903516   \n2543829    72028  51.332844  12.404319  1640903200  1640905163   \n\n                  hex_id  in_zone                  zone_name  \\\n2543825  881f1a1609fffff        1  Blaue Zone Leipzig Ost 0€   \n2543826  881f1a1649fffff        1  Pinke Zone Leipzig Ost 1€   \n2543827  881f1a8c8bfffff        1  Blaue Zone Leipzig Ost 0€   \n2543828  881f1a8c8bfffff        1  Pinke Zone Leipzig Ost 1€   \n2543829  881f1a165bfffff        1  Blaue Zone Leipzig Ost 0€   \n\n         end_station_number   temp  ...  snow  wind_speed  humidity  year  \\\n2543825                   0  13.19  ...   0.0        8.94      83.0  2021   \n2543826                   0  13.19  ...   0.0        8.94      83.0  2021   \n2543827                   0  13.05  ...   0.0        8.05      84.0  2021   \n2543828                   0  13.05  ...   0.0        8.05      84.0  2021   \n2543829                   0  13.11  ...   0.0        8.05      81.0  2021   \n\n         month  day  start_min  over_night  idle_time_next_day  idle_time  \n2543825     12    3       1253           0                   0        112  \n2543826     12    3       1257           0                   0         25  \n2543827     12    3       1261           0                   0         48  \n2543828     12    3       1309           0                   0         43  \n2543829     12    3       1347           0                   0         32  \n\n[5 rows x 21 columns]",
      "text/html": "<div>\n<style scoped>\n    .dataframe tbody tr th:only-of-type {\n        vertical-align: middle;\n    }\n\n    .dataframe tbody tr th {\n        vertical-align: top;\n    }\n\n    .dataframe thead th {\n        text-align: right;\n    }\n</style>\n<table border=\"1\" class=\"dataframe\">\n  <thead>\n    <tr style=\"text-align: right;\">\n      <th></th>\n      <th>bike_id</th>\n      <th>lat</th>\n      <th>lng</th>\n      <th>dt_start</th>\n      <th>dt_end</th>\n      <th>hex_id</th>\n      <th>in_zone</th>\n      <th>zone_name</th>\n      <th>end_station_number</th>\n      <th>temp</th>\n      <th>...</th>\n      <th>snow</th>\n      <th>wind_speed</th>\n      <th>humidity</th>\n      <th>year</th>\n      <th>month</th>\n      <th>day</th>\n      <th>start_min</th>\n      <th>over_night</th>\n      <th>idle_time_next_day</th>\n      <th>idle_time</th>\n    </tr>\n  </thead>\n  <tbody>\n    <tr>\n      <th>2543825</th>\n      <td>72058</td>\n      <td>51.317569</td>\n      <td>12.382730</td>\n      <td>1640897593</td>\n      <td>1640904368</td>\n      <td>881f1a1609fffff</td>\n      <td>1</td>\n      <td>Blaue Zone Leipzig Ost 0€</td>\n      <td>0</td>\n      <td>13.19</td>\n      <td>...</td>\n      <td>0.0</td>\n      <td>8.94</td>\n      <td>83.0</td>\n      <td>2021</td>\n      <td>12</td>\n      <td>3</td>\n      <td>1253</td>\n      <td>0</td>\n      <td>0</td>\n      <td>112</td>\n    </tr>\n    <tr>\n      <th>2543826</th>\n      <td>71949</td>\n      <td>51.334711</td>\n      <td>12.356763</td>\n      <td>1640897835</td>\n      <td>1640899343</td>\n      <td>881f1a1649fffff</td>\n      <td>1</td>\n      <td>Pinke Zone Leipzig Ost 1€</td>\n      <td>0</td>\n      <td>13.19</td>\n      <td>...</td>\n      <td>0.0</td>\n      <td>8.94</td>\n      <td>83.0</td>\n      <td>2021</td>\n      <td>12</td>\n      <td>3</td>\n      <td>1257</td>\n      <td>0</td>\n      <td>0</td>\n      <td>25</td>\n    </tr>\n    <tr>\n      <th>2543827</th>\n      <td>97785</td>\n      <td>51.367276</td>\n      <td>12.369792</td>\n      <td>1640898086</td>\n      <td>1640900985</td>\n      <td>881f1a8c8bfffff</td>\n      <td>1</td>\n      <td>Blaue Zone Leipzig Ost 0€</td>\n      <td>0</td>\n      <td>13.05</td>\n      <td>...</td>\n      <td>0.0</td>\n      <td>8.05</td>\n      <td>84.0</td>\n      <td>2021</td>\n      <td>12</td>\n      <td>3</td>\n      <td>1261</td>\n      <td>0</td>\n      <td>0</td>\n      <td>48</td>\n    </tr>\n    <tr>\n      <th>2543828</th>\n      <td>41738</td>\n      <td>51.366942</td>\n      <td>12.370322</td>\n      <td>1640900918</td>\n      <td>1640903516</td>\n      <td>881f1a8c8bfffff</td>\n      <td>1</td>\n      <td>Pinke Zone Leipzig Ost 1€</td>\n      <td>0</td>\n      <td>13.05</td>\n      <td>...</td>\n      <td>0.0</td>\n      <td>8.05</td>\n      <td>84.0</td>\n      <td>2021</td>\n      <td>12</td>\n      <td>3</td>\n      <td>1309</td>\n      <td>0</td>\n      <td>0</td>\n      <td>43</td>\n    </tr>\n    <tr>\n      <th>2543829</th>\n      <td>72028</td>\n      <td>51.332844</td>\n      <td>12.404319</td>\n      <td>1640903200</td>\n      <td>1640905163</td>\n      <td>881f1a165bfffff</td>\n      <td>1</td>\n      <td>Blaue Zone Leipzig Ost 0€</td>\n      <td>0</td>\n      <td>13.11</td>\n      <td>...</td>\n      <td>0.0</td>\n      <td>8.05</td>\n      <td>81.0</td>\n      <td>2021</td>\n      <td>12</td>\n      <td>3</td>\n      <td>1347</td>\n      <td>0</td>\n      <td>0</td>\n      <td>32</td>\n    </tr>\n  </tbody>\n</table>\n<p>5 rows × 21 columns</p>\n</div>"
     },
     "execution_count": 21,
     "metadata": {},
     "output_type": "execute_result"
    }
   ],
   "source": [
    "df.tail()"
   ],
   "metadata": {
    "collapsed": false,
    "pycharm": {
     "name": "#%%\n"
    }
   }
  },
  {
   "cell_type": "code",
   "execution_count": 28,
   "outputs": [
    {
     "data": {
      "text/plain": "         bike_count\ndate               \n2018-1            0\n2018-2            0\n2018-3            0\n2018-4            0\n2018-5            0\n2018-6            0\n2018-7            0\n2018-8            0\n2018-9            0\n2018-10           0\n2018-11           0\n2018-12           0\n2019-1            0\n2019-2            0\n2019-3            0\n2019-4            0\n2019-5            0\n2019-6            0\n2019-7            0\n2019-8            0\n2019-9            0\n2019-10           0\n2019-11           0\n2019-12           0\n2020-1            0\n2020-2            0\n2020-3            0\n2020-4            0\n2020-5            0\n2020-6            0\n2020-7            0\n2020-8            0\n2020-9            0\n2020-10           0\n2020-11           0\n2020-12           0\n2021-1            0\n2021-2            0\n2021-3            0\n2021-4            0\n2021-5            0\n2021-6            0\n2021-7            0\n2021-8            0\n2021-9            0\n2021-10           0\n2021-11           0\n2021-12           0",
      "text/html": "<div>\n<style scoped>\n    .dataframe tbody tr th:only-of-type {\n        vertical-align: middle;\n    }\n\n    .dataframe tbody tr th {\n        vertical-align: top;\n    }\n\n    .dataframe thead th {\n        text-align: right;\n    }\n</style>\n<table border=\"1\" class=\"dataframe\">\n  <thead>\n    <tr style=\"text-align: right;\">\n      <th></th>\n      <th>bike_count</th>\n    </tr>\n    <tr>\n      <th>date</th>\n      <th></th>\n    </tr>\n  </thead>\n  <tbody>\n    <tr>\n      <th>2018-1</th>\n      <td>0</td>\n    </tr>\n    <tr>\n      <th>2018-2</th>\n      <td>0</td>\n    </tr>\n    <tr>\n      <th>2018-3</th>\n      <td>0</td>\n    </tr>\n    <tr>\n      <th>2018-4</th>\n      <td>0</td>\n    </tr>\n    <tr>\n      <th>2018-5</th>\n      <td>0</td>\n    </tr>\n    <tr>\n      <th>2018-6</th>\n      <td>0</td>\n    </tr>\n    <tr>\n      <th>2018-7</th>\n      <td>0</td>\n    </tr>\n    <tr>\n      <th>2018-8</th>\n      <td>0</td>\n    </tr>\n    <tr>\n      <th>2018-9</th>\n      <td>0</td>\n    </tr>\n    <tr>\n      <th>2018-10</th>\n      <td>0</td>\n    </tr>\n    <tr>\n      <th>2018-11</th>\n      <td>0</td>\n    </tr>\n    <tr>\n      <th>2018-12</th>\n      <td>0</td>\n    </tr>\n    <tr>\n      <th>2019-1</th>\n      <td>0</td>\n    </tr>\n    <tr>\n      <th>2019-2</th>\n      <td>0</td>\n    </tr>\n    <tr>\n      <th>2019-3</th>\n      <td>0</td>\n    </tr>\n    <tr>\n      <th>2019-4</th>\n      <td>0</td>\n    </tr>\n    <tr>\n      <th>2019-5</th>\n      <td>0</td>\n    </tr>\n    <tr>\n      <th>2019-6</th>\n      <td>0</td>\n    </tr>\n    <tr>\n      <th>2019-7</th>\n      <td>0</td>\n    </tr>\n    <tr>\n      <th>2019-8</th>\n      <td>0</td>\n    </tr>\n    <tr>\n      <th>2019-9</th>\n      <td>0</td>\n    </tr>\n    <tr>\n      <th>2019-10</th>\n      <td>0</td>\n    </tr>\n    <tr>\n      <th>2019-11</th>\n      <td>0</td>\n    </tr>\n    <tr>\n      <th>2019-12</th>\n      <td>0</td>\n    </tr>\n    <tr>\n      <th>2020-1</th>\n      <td>0</td>\n    </tr>\n    <tr>\n      <th>2020-2</th>\n      <td>0</td>\n    </tr>\n    <tr>\n      <th>2020-3</th>\n      <td>0</td>\n    </tr>\n    <tr>\n      <th>2020-4</th>\n      <td>0</td>\n    </tr>\n    <tr>\n      <th>2020-5</th>\n      <td>0</td>\n    </tr>\n    <tr>\n      <th>2020-6</th>\n      <td>0</td>\n    </tr>\n    <tr>\n      <th>2020-7</th>\n      <td>0</td>\n    </tr>\n    <tr>\n      <th>2020-8</th>\n      <td>0</td>\n    </tr>\n    <tr>\n      <th>2020-9</th>\n      <td>0</td>\n    </tr>\n    <tr>\n      <th>2020-10</th>\n      <td>0</td>\n    </tr>\n    <tr>\n      <th>2020-11</th>\n      <td>0</td>\n    </tr>\n    <tr>\n      <th>2020-12</th>\n      <td>0</td>\n    </tr>\n    <tr>\n      <th>2021-1</th>\n      <td>0</td>\n    </tr>\n    <tr>\n      <th>2021-2</th>\n      <td>0</td>\n    </tr>\n    <tr>\n      <th>2021-3</th>\n      <td>0</td>\n    </tr>\n    <tr>\n      <th>2021-4</th>\n      <td>0</td>\n    </tr>\n    <tr>\n      <th>2021-5</th>\n      <td>0</td>\n    </tr>\n    <tr>\n      <th>2021-6</th>\n      <td>0</td>\n    </tr>\n    <tr>\n      <th>2021-7</th>\n      <td>0</td>\n    </tr>\n    <tr>\n      <th>2021-8</th>\n      <td>0</td>\n    </tr>\n    <tr>\n      <th>2021-9</th>\n      <td>0</td>\n    </tr>\n    <tr>\n      <th>2021-10</th>\n      <td>0</td>\n    </tr>\n    <tr>\n      <th>2021-11</th>\n      <td>0</td>\n    </tr>\n    <tr>\n      <th>2021-12</th>\n      <td>0</td>\n    </tr>\n  </tbody>\n</table>\n</div>"
     },
     "execution_count": 28,
     "metadata": {},
     "output_type": "execute_result"
    }
   ],
   "source": [
    "import numpy as np\n",
    "\n",
    "years = ['2018','2019','2020','2021']\n",
    "months = ['1','2','3','4','5','6','7','8','9','10','11','12']\n",
    "list = []\n",
    "for year in years:\n",
    "    for month in months:\n",
    "        list.append(f'{year}-{month}')\n",
    "\n",
    "tsdata = pd.DataFrame({ 'date': list, 'bike_count': 0})\n",
    "tsdata = tsdata.set_index('date')\n",
    "tsdata"
   ],
   "metadata": {
    "collapsed": false,
    "pycharm": {
     "name": "#%%\n"
    }
   }
  },
  {
   "cell_type": "code",
   "execution_count": 41,
   "outputs": [],
   "source": [
    "from matplotlib import pyplot as plt\n",
    "import statistics\n",
    "from tqdm import tqdm\n",
    "df['time_start'] = pd.to_datetime(df['dt_start'],unit='s')\n",
    "\n",
    "def count(year):\n",
    "    for ind in tqdm(df.index):\n",
    "        #if df['time_start'][ind].year == year:\n",
    "            i = f\"{df['time_start'][ind].year}-{df['time_start'][ind].month}\"\n",
    "            #print(i)\n",
    "            try:\n",
    "                tsdata['bike_count'][i] += 1\n",
    "            except KeyError:\n",
    "                print(i)\n",
    "    return tsdata\n",
    "\n",
    "def plot(year,tsdata):\n",
    "    fig, ax = plt.subplots(figsize=(50,10))\n",
    "    # plotting monthly data\n",
    "    ax.plot(tsdata)\n",
    "    ax.set_xlabel('month')\n",
    "    ax.set_ylabel('rentals')\n",
    "\n",
    "    labels = ['2018','2019','2020','2021']\n",
    "\n",
    "    plt.xticks(tsdata.index, labels)\n",
    "\n",
    "    # show values\n",
    "    ax.set_title(f'Rentals from years 2018 - 2021')\n",
    "    plt.show()\n"
   ],
   "metadata": {
    "collapsed": false,
    "pycharm": {
     "name": "#%%\n"
    }
   }
  },
  {
   "cell_type": "code",
   "execution_count": 42,
   "outputs": [
    {
     "name": "stderr",
     "output_type": "stream",
     "text": [
      "  0%|          | 1534/2543830 [00:00<05:23, 7846.68it/s]"
     ]
    },
    {
     "name": "stdout",
     "output_type": "stream",
     "text": [
      "2017-12\n",
      "2017-12\n",
      "2017-12\n"
     ]
    },
    {
     "name": "stderr",
     "output_type": "stream",
     "text": [
      "  1%|          | 17011/2543830 [00:02<06:55, 6076.52it/s]\n"
     ]
    },
    {
     "ename": "KeyboardInterrupt",
     "evalue": "",
     "output_type": "error",
     "traceback": [
      "\u001B[0;31m---------------------------------------------------------------------------\u001B[0m",
      "\u001B[0;31mKeyboardInterrupt\u001B[0m                         Traceback (most recent call last)",
      "\u001B[0;32m/var/folders/5t/28jzvs016nq5vxslb670gs040000gn/T/ipykernel_13797/1400299495.py\u001B[0m in \u001B[0;36m<module>\u001B[0;34m\u001B[0m\n\u001B[1;32m      1\u001B[0m \u001B[0;32mfor\u001B[0m \u001B[0myear\u001B[0m \u001B[0;32min\u001B[0m \u001B[0;34m[\u001B[0m\u001B[0;32mTrue\u001B[0m\u001B[0;34m]\u001B[0m\u001B[0;34m:\u001B[0m\u001B[0;34m\u001B[0m\u001B[0;34m\u001B[0m\u001B[0m\n\u001B[0;32m----> 2\u001B[0;31m     \u001B[0mtsdata\u001B[0m \u001B[0;34m=\u001B[0m \u001B[0mcount\u001B[0m\u001B[0;34m(\u001B[0m\u001B[0myear\u001B[0m\u001B[0;34m)\u001B[0m\u001B[0;34m\u001B[0m\u001B[0;34m\u001B[0m\u001B[0m\n\u001B[0m\u001B[1;32m      3\u001B[0m     \u001B[0mplot\u001B[0m\u001B[0;34m(\u001B[0m\u001B[0myear\u001B[0m\u001B[0;34m,\u001B[0m\u001B[0mtsdata\u001B[0m\u001B[0;34m)\u001B[0m\u001B[0;34m\u001B[0m\u001B[0;34m\u001B[0m\u001B[0m\n\u001B[1;32m      4\u001B[0m     \u001B[0mprint\u001B[0m\u001B[0;34m(\u001B[0m\u001B[0mtsdata\u001B[0m\u001B[0;34m)\u001B[0m\u001B[0;34m\u001B[0m\u001B[0;34m\u001B[0m\u001B[0m\n",
      "\u001B[0;32m/var/folders/5t/28jzvs016nq5vxslb670gs040000gn/T/ipykernel_13797/1368921993.py\u001B[0m in \u001B[0;36mcount\u001B[0;34m(year)\u001B[0m\n\u001B[1;32m     10\u001B[0m             \u001B[0;31m#print(i)\u001B[0m\u001B[0;34m\u001B[0m\u001B[0;34m\u001B[0m\u001B[0m\n\u001B[1;32m     11\u001B[0m             \u001B[0;32mtry\u001B[0m\u001B[0;34m:\u001B[0m\u001B[0;34m\u001B[0m\u001B[0;34m\u001B[0m\u001B[0m\n\u001B[0;32m---> 12\u001B[0;31m                 \u001B[0mtsdata\u001B[0m\u001B[0;34m[\u001B[0m\u001B[0;34m'bike_count'\u001B[0m\u001B[0;34m]\u001B[0m\u001B[0;34m[\u001B[0m\u001B[0mi\u001B[0m\u001B[0;34m]\u001B[0m \u001B[0;34m+=\u001B[0m \u001B[0;36m1\u001B[0m\u001B[0;34m\u001B[0m\u001B[0;34m\u001B[0m\u001B[0m\n\u001B[0m\u001B[1;32m     13\u001B[0m             \u001B[0;32mexcept\u001B[0m \u001B[0mKeyError\u001B[0m\u001B[0;34m:\u001B[0m\u001B[0;34m\u001B[0m\u001B[0;34m\u001B[0m\u001B[0m\n\u001B[1;32m     14\u001B[0m                 \u001B[0mprint\u001B[0m\u001B[0;34m(\u001B[0m\u001B[0mi\u001B[0m\u001B[0;34m)\u001B[0m\u001B[0;34m\u001B[0m\u001B[0;34m\u001B[0m\u001B[0m\n",
      "\u001B[0;32m/usr/local/Caskroom/miniconda/base/envs/geobike/lib/python3.9/site-packages/pandas/core/series.py\u001B[0m in \u001B[0;36m__setitem__\u001B[0;34m(self, key, value)\u001B[0m\n\u001B[1;32m   1089\u001B[0m \u001B[0;34m\u001B[0m\u001B[0m\n\u001B[1;32m   1090\u001B[0m         \u001B[0;32mif\u001B[0m \u001B[0mcacher_needs_updating\u001B[0m\u001B[0;34m:\u001B[0m\u001B[0;34m\u001B[0m\u001B[0;34m\u001B[0m\u001B[0m\n\u001B[0;32m-> 1091\u001B[0;31m             \u001B[0mself\u001B[0m\u001B[0;34m.\u001B[0m\u001B[0m_maybe_update_cacher\u001B[0m\u001B[0;34m(\u001B[0m\u001B[0;34m)\u001B[0m\u001B[0;34m\u001B[0m\u001B[0;34m\u001B[0m\u001B[0m\n\u001B[0m\u001B[1;32m   1092\u001B[0m \u001B[0;34m\u001B[0m\u001B[0m\n\u001B[1;32m   1093\u001B[0m     \u001B[0;32mdef\u001B[0m \u001B[0m_set_with_engine\u001B[0m\u001B[0;34m(\u001B[0m\u001B[0mself\u001B[0m\u001B[0;34m,\u001B[0m \u001B[0mkey\u001B[0m\u001B[0;34m,\u001B[0m \u001B[0mvalue\u001B[0m\u001B[0;34m)\u001B[0m \u001B[0;34m->\u001B[0m \u001B[0;32mNone\u001B[0m\u001B[0;34m:\u001B[0m\u001B[0;34m\u001B[0m\u001B[0;34m\u001B[0m\u001B[0m\n",
      "\u001B[0;32m/usr/local/Caskroom/miniconda/base/envs/geobike/lib/python3.9/site-packages/pandas/core/series.py\u001B[0m in \u001B[0;36m_maybe_update_cacher\u001B[0;34m(self, clear, verify_is_copy)\u001B[0m\n\u001B[1;32m   1233\u001B[0m                 \u001B[0;31m# to ensure column still in dataframe\u001B[0m\u001B[0;34m\u001B[0m\u001B[0;34m\u001B[0m\u001B[0m\n\u001B[1;32m   1234\u001B[0m                 \u001B[0;31m# otherwise, either self or ref has swapped in new arrays\u001B[0m\u001B[0;34m\u001B[0m\u001B[0;34m\u001B[0m\u001B[0m\n\u001B[0;32m-> 1235\u001B[0;31m                 \u001B[0mref\u001B[0m\u001B[0;34m.\u001B[0m\u001B[0m_maybe_cache_changed\u001B[0m\u001B[0;34m(\u001B[0m\u001B[0mcacher\u001B[0m\u001B[0;34m[\u001B[0m\u001B[0;36m0\u001B[0m\u001B[0;34m]\u001B[0m\u001B[0;34m,\u001B[0m \u001B[0mself\u001B[0m\u001B[0;34m)\u001B[0m\u001B[0;34m\u001B[0m\u001B[0;34m\u001B[0m\u001B[0m\n\u001B[0m\u001B[1;32m   1236\u001B[0m             \u001B[0;32melse\u001B[0m\u001B[0;34m:\u001B[0m\u001B[0;34m\u001B[0m\u001B[0;34m\u001B[0m\u001B[0m\n\u001B[1;32m   1237\u001B[0m                 \u001B[0;31m# GH#33675 we have swapped in a new array, so parent\u001B[0m\u001B[0;34m\u001B[0m\u001B[0;34m\u001B[0m\u001B[0m\n",
      "\u001B[0;32m/usr/local/Caskroom/miniconda/base/envs/geobike/lib/python3.9/site-packages/pandas/core/frame.py\u001B[0m in \u001B[0;36m_maybe_cache_changed\u001B[0;34m(self, item, value)\u001B[0m\n\u001B[1;32m   3903\u001B[0m         \u001B[0mloc\u001B[0m \u001B[0;34m=\u001B[0m \u001B[0mself\u001B[0m\u001B[0;34m.\u001B[0m\u001B[0m_info_axis\u001B[0m\u001B[0;34m.\u001B[0m\u001B[0mget_loc\u001B[0m\u001B[0;34m(\u001B[0m\u001B[0mitem\u001B[0m\u001B[0;34m)\u001B[0m\u001B[0;34m\u001B[0m\u001B[0;34m\u001B[0m\u001B[0m\n\u001B[1;32m   3904\u001B[0m         \u001B[0marraylike\u001B[0m \u001B[0;34m=\u001B[0m \u001B[0mvalue\u001B[0m\u001B[0;34m.\u001B[0m\u001B[0m_values\u001B[0m\u001B[0;34m\u001B[0m\u001B[0;34m\u001B[0m\u001B[0m\n\u001B[0;32m-> 3905\u001B[0;31m         \u001B[0mself\u001B[0m\u001B[0;34m.\u001B[0m\u001B[0m_mgr\u001B[0m\u001B[0;34m.\u001B[0m\u001B[0miset\u001B[0m\u001B[0;34m(\u001B[0m\u001B[0mloc\u001B[0m\u001B[0;34m,\u001B[0m \u001B[0marraylike\u001B[0m\u001B[0;34m)\u001B[0m\u001B[0;34m\u001B[0m\u001B[0;34m\u001B[0m\u001B[0m\n\u001B[0m\u001B[1;32m   3906\u001B[0m \u001B[0;34m\u001B[0m\u001B[0m\n\u001B[1;32m   3907\u001B[0m     \u001B[0;31m# ----------------------------------------------------------------------\u001B[0m\u001B[0;34m\u001B[0m\u001B[0;34m\u001B[0m\u001B[0m\n",
      "\u001B[0;32m/usr/local/Caskroom/miniconda/base/envs/geobike/lib/python3.9/site-packages/pandas/core/internals/managers.py\u001B[0m in \u001B[0;36miset\u001B[0;34m(self, loc, value)\u001B[0m\n\u001B[1;32m   1055\u001B[0m                 )\n\u001B[1;32m   1056\u001B[0m \u001B[0;34m\u001B[0m\u001B[0m\n\u001B[0;32m-> 1057\u001B[0;31m         \u001B[0;32mif\u001B[0m \u001B[0mlib\u001B[0m\u001B[0;34m.\u001B[0m\u001B[0mis_integer\u001B[0m\u001B[0;34m(\u001B[0m\u001B[0mloc\u001B[0m\u001B[0;34m)\u001B[0m\u001B[0;34m:\u001B[0m\u001B[0;34m\u001B[0m\u001B[0;34m\u001B[0m\u001B[0m\n\u001B[0m\u001B[1;32m   1058\u001B[0m             \u001B[0;31m# We have 6 tests where loc is _not_ an int.\u001B[0m\u001B[0;34m\u001B[0m\u001B[0;34m\u001B[0m\u001B[0m\n\u001B[1;32m   1059\u001B[0m             \u001B[0;31m# In this case, get_blkno_placements will yield only one tuple,\u001B[0m\u001B[0;34m\u001B[0m\u001B[0;34m\u001B[0m\u001B[0m\n",
      "\u001B[0;31mKeyboardInterrupt\u001B[0m: "
     ]
    }
   ],
   "source": [
    "for year in [True]:\n",
    "    tsdata = count(year)\n",
    "    plot(year,tsdata)\n",
    "    print(tsdata)"
   ],
   "metadata": {
    "collapsed": false,
    "pycharm": {
     "name": "#%%\n"
    }
   }
  },
  {
   "cell_type": "code",
   "execution_count": 40,
   "outputs": [
    {
     "ename": "AttributeError",
     "evalue": "'AxesSubplot' object has no attribute 'plot_dates'",
     "output_type": "error",
     "traceback": [
      "\u001B[0;31m---------------------------------------------------------------------------\u001B[0m",
      "\u001B[0;31mAttributeError\u001B[0m                            Traceback (most recent call last)",
      "\u001B[0;32m/var/folders/5t/28jzvs016nq5vxslb670gs040000gn/T/ipykernel_13797/4144135845.py\u001B[0m in \u001B[0;36m<module>\u001B[0;34m\u001B[0m\n\u001B[0;32m----> 1\u001B[0;31m \u001B[0mplot\u001B[0m\u001B[0;34m(\u001B[0m\u001B[0;34m'1'\u001B[0m\u001B[0;34m,\u001B[0m\u001B[0mtsdata\u001B[0m\u001B[0;34m)\u001B[0m\u001B[0;34m\u001B[0m\u001B[0;34m\u001B[0m\u001B[0m\n\u001B[0m",
      "\u001B[0;32m/var/folders/5t/28jzvs016nq5vxslb670gs040000gn/T/ipykernel_13797/3296567325.py\u001B[0m in \u001B[0;36mplot\u001B[0;34m(year, tsdata)\u001B[0m\n\u001B[1;32m     18\u001B[0m     \u001B[0mfig\u001B[0m\u001B[0;34m,\u001B[0m \u001B[0max\u001B[0m \u001B[0;34m=\u001B[0m \u001B[0mplt\u001B[0m\u001B[0;34m.\u001B[0m\u001B[0msubplots\u001B[0m\u001B[0;34m(\u001B[0m\u001B[0mfigsize\u001B[0m\u001B[0;34m=\u001B[0m\u001B[0;34m(\u001B[0m\u001B[0;36m50\u001B[0m\u001B[0;34m,\u001B[0m\u001B[0;36m10\u001B[0m\u001B[0;34m)\u001B[0m\u001B[0;34m)\u001B[0m\u001B[0;34m\u001B[0m\u001B[0;34m\u001B[0m\u001B[0m\n\u001B[1;32m     19\u001B[0m     \u001B[0;31m# plotting monthly data\u001B[0m\u001B[0;34m\u001B[0m\u001B[0;34m\u001B[0m\u001B[0m\n\u001B[0;32m---> 20\u001B[0;31m     \u001B[0max\u001B[0m\u001B[0;34m.\u001B[0m\u001B[0mplot_dates\u001B[0m\u001B[0;34m(\u001B[0m\u001B[0mtsdata\u001B[0m\u001B[0;34m)\u001B[0m\u001B[0;34m\u001B[0m\u001B[0;34m\u001B[0m\u001B[0m\n\u001B[0m\u001B[1;32m     21\u001B[0m     \u001B[0max\u001B[0m\u001B[0;34m.\u001B[0m\u001B[0mset_xlabel\u001B[0m\u001B[0;34m(\u001B[0m\u001B[0;34m'month'\u001B[0m\u001B[0;34m)\u001B[0m\u001B[0;34m\u001B[0m\u001B[0;34m\u001B[0m\u001B[0m\n\u001B[1;32m     22\u001B[0m     \u001B[0max\u001B[0m\u001B[0;34m.\u001B[0m\u001B[0mset_ylabel\u001B[0m\u001B[0;34m(\u001B[0m\u001B[0;34m'rentals'\u001B[0m\u001B[0;34m)\u001B[0m\u001B[0;34m\u001B[0m\u001B[0;34m\u001B[0m\u001B[0m\n",
      "\u001B[0;31mAttributeError\u001B[0m: 'AxesSubplot' object has no attribute 'plot_dates'"
     ]
    },
    {
     "data": {
      "text/plain": "<Figure size 3600x720 with 1 Axes>",
      "image/png": "[encoded data removed]"
     },
     "metadata": {
      "needs_background": "light"
     },
     "output_type": "display_data"
    }
   ],
   "source": [
    "plot('1',tsdata)"
   ],
   "metadata": {
    "collapsed": false,
    "pycharm": {
     "name": "#%%\n"
    }
   }
  },
  {
   "cell_type": "code",
   "execution_count": null,
   "outputs": [],
   "source": [],
   "metadata": {
    "collapsed": false,
    "pycharm": {
     "name": "#%%\n"
    }
   }
  }
 ],
 "metadata": {
  "kernelspec": {
   "display_name": "Python 3",
   "language": "python",
   "name": "python3"
  },
  "language_info": {
   "codemirror_mode": {
    "name": "ipython",
    "version": 2
   },
   "file_extension": ".py",
   "mimetype": "text/x-python",
   "name": "python",
   "nbconvert_exporter": "python",
   "pygments_lexer": "ipython2",
   "version": "2.7.6"
  }
 },
 "nbformat": 4,
 "nbformat_minor": 0
}