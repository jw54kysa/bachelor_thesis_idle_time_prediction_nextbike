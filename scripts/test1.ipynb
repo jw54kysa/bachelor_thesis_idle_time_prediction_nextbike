{
 "cells": [
  {
   "cell_type": "code",
   "execution_count": 1,
   "metadata": {
    "pycharm": {
     "name": "#%%\n"
    }
   },
   "outputs": [],
   "source": [
    "import pandas as pd\n",
    "from sklearn.preprocessing import StandardScaler\n",
    "from sklearn.metrics import zero_one_loss, accuracy_score\n",
    "from sklearn.neural_network import MLPClassifier\n",
    "import wandb\n",
    "import random\n",
    "\n",
    "idle_time_data = pd.read_csv('../data/df_points/df_points_18_21_class.csv')\n",
    "\n",
    "TargetVariable = ['idle_time_class']\n",
    "Predictors = ['bike_id', 'lat', 'lng', 'temp', 'rain', 'snow', 'dt_start', 'hex_enc', 'start_min', 'month', 'day']\n",
    "\n",
    "X = idle_time_data[Predictors].values\n",
    "y = idle_time_data[TargetVariable].values\n",
    "\n",
    "PredictorScaler=StandardScaler()\n",
    "PredictorScalerFit=PredictorScaler.fit(X)\n",
    "X=PredictorScalerFit.transform(X)\n",
    "\n",
    "\n",
    "from sklearn.model_selection import train_test_split\n",
    "X_train, X_test, y_train, y_test = train_test_split(X, y, train_size=0.9, shuffle=False)\n",
    "### shuffle/inorder train and test sets:\n",
    "\n",
    "sweep_configuration = {\n",
    "    \"project\": \"MultiLayerPerceptronClassification\",\n",
    "    \"name\": \"MLPC-sweep-scaled-1\",\n",
    "    \"metric\": {\"name\": \"accuracy\", \"goal\": \"maximize\"},\n",
    "    \"method\": \"random\",\n",
    "    \"parameters\": {\n",
    "        \"activation\": {\n",
    "            \"values\": ['identity', 'logistic', 'tanh', 'relu']\n",
    "        },\n",
    "        \"solver\": {\n",
    "            \"values\": ['lbfgs','sgd','adam']\n",
    "        },\n",
    "        \"alpha\": {\n",
    "            \"values\": [0.0001,0.0005,0.001, 0.005, 0.01, 0.05]\n",
    "        },\n",
    "        \"learning_rate\": {\n",
    "            \"values\": ['constant', 'invscaling', 'adaptive']\n",
    "        },\n",
    "        \"momentum\": {\n",
    "            \"values\": [0.9, 0.8, 0.7, 0.6, 0.5]\n",
    "        }\n",
    "    }\n",
    "}\n"
   ]
  },
  {
   "cell_type": "code",
   "execution_count": 2,
   "metadata": {},
   "outputs": [
    {
     "name": "stdout",
     "output_type": "stream",
     "text": [
      "Create sweep with ID: 8ls9tsqu\n",
      "Sweep URL: https://wandb.ai/jonathanweske/test/sweeps/8ls9tsqu\n"
     ]
    },
    {
     "name": "stderr",
     "output_type": "stream",
     "text": [
      "\u001B[34m\u001B[1mwandb\u001B[0m: Agent Starting Run: jjloxwmk with config:\n",
      "\u001B[34m\u001B[1mwandb\u001B[0m: \tactivation: relu\n",
      "\u001B[34m\u001B[1mwandb\u001B[0m: \talpha: 0.05\n",
      "\u001B[34m\u001B[1mwandb\u001B[0m: \tlearning_rate: invscaling\n",
      "\u001B[34m\u001B[1mwandb\u001B[0m: \tmomentum: 0.5\n",
      "\u001B[34m\u001B[1mwandb\u001B[0m: \tsolver: adam\n",
      "\u001B[34m\u001B[1mwandb\u001B[0m: Currently logged in as: \u001B[33mjonathanweske\u001B[0m (use `wandb login --relogin` to force relogin)\n"
     ]
    },
    {
     "data": {
      "text/plain": "<IPython.core.display.HTML object>",
      "text/html": "wandb version 0.12.12 is available!  To upgrade, please run:\n $ pip install wandb --upgrade"
     },
     "metadata": {},
     "output_type": "display_data"
    },
    {
     "data": {
      "text/plain": "<IPython.core.display.HTML object>",
      "text/html": "Tracking run with wandb version 0.12.11"
     },
     "metadata": {},
     "output_type": "display_data"
    },
    {
     "data": {
      "text/plain": "<IPython.core.display.HTML object>",
      "text/html": "Run data is saved locally in <code>/Users/jonweske/devment/BA_nextbike/scripts/wandb/run-20220407_110328-jjloxwmk</code>"
     },
     "metadata": {},
     "output_type": "display_data"
    },
    {
     "data": {
      "text/plain": "<IPython.core.display.HTML object>",
      "text/html": "Syncing run <strong><a href=\"https://wandb.ai/jonathanweske/test/runs/jjloxwmk\" target=\"_blank\">twilight-sweep-1</a></strong> to <a href=\"https://wandb.ai/jonathanweske/test\" target=\"_blank\">Weights & Biases</a> (<a href=\"https://wandb.me/run\" target=\"_blank\">docs</a>)<br/>Sweep page:  <a href=\"https://wandb.ai/jonathanweske/test/sweeps/8ls9tsqu\" target=\"_blank\">https://wandb.ai/jonathanweske/test/sweeps/8ls9tsqu</a>"
     },
     "metadata": {},
     "output_type": "display_data"
    },
    {
     "name": "stdout",
     "output_type": "stream",
     "text": [
      "\n"
     ]
    },
    {
     "data": {
      "text/plain": "<IPython.core.display.HTML object>",
      "text/html": "Waiting for W&B process to finish... <strong style=\"color:green\">(success).</strong>"
     },
     "metadata": {},
     "output_type": "display_data"
    },
    {
     "data": {
      "text/plain": "VBox(children=(Label(value='0.002 MB of 0.002 MB uploaded (0.000 MB deduped)\\r'), FloatProgress(value=0.759950…",
      "application/vnd.jupyter.widget-view+json": {
       "version_major": 2,
       "version_minor": 0,
       "model_id": "2120a2c15b03480687d09cfb269218cf"
      }
     },
     "metadata": {},
     "output_type": "display_data"
    },
    {
     "data": {
      "text/plain": "<IPython.core.display.HTML object>",
      "text/html": "<style>\n    table.wandb td:nth-child(1) { padding: 0 10px; text-align: right }\n    .wandb-row { display: flex; flex-direction: row; flex-wrap: wrap; width: 100% }\n    .wandb-col { display: flex; flex-direction: column; flex-basis: 100%; flex: 1; padding: 10px; }\n    </style>\n<div class=\"wandb-row\"><div class=\"wandb-col\"><h3>Run history:</h3><br/><table class=\"wandb\"><tr><td>accuracy</td><td>▁</td></tr><tr><td>loss</td><td>▁</td></tr><tr><td>score_training</td><td>▁</td></tr><tr><td>score_validation</td><td>▁</td></tr></table><br/></div><div class=\"wandb-col\"><h3>Run summary:</h3><br/><table class=\"wandb\"><tr><td>accuracy</td><td>0.47609</td></tr><tr><td>loss</td><td>0.52391</td></tr><tr><td>score_training</td><td>0.51728</td></tr><tr><td>score_validation</td><td>0.47609</td></tr></table><br/></div></div>"
     },
     "metadata": {},
     "output_type": "display_data"
    },
    {
     "data": {
      "text/plain": "<IPython.core.display.HTML object>",
      "text/html": "Synced <strong style=\"color:#cdcd00\">twilight-sweep-1</strong>: <a href=\"https://wandb.ai/jonathanweske/test/runs/jjloxwmk\" target=\"_blank\">https://wandb.ai/jonathanweske/test/runs/jjloxwmk</a><br/>Synced 5 W&B file(s), 1 media file(s), 1 artifact file(s) and 0 other file(s)"
     },
     "metadata": {},
     "output_type": "display_data"
    },
    {
     "data": {
      "text/plain": "<IPython.core.display.HTML object>",
      "text/html": "Find logs at: <code>./wandb/run-20220407_110328-jjloxwmk/logs</code>"
     },
     "metadata": {},
     "output_type": "display_data"
    },
    {
     "name": "stderr",
     "output_type": "stream",
     "text": [
      "\u001B[34m\u001B[1mwandb\u001B[0m: Agent Starting Run: u1uwycra with config:\n",
      "\u001B[34m\u001B[1mwandb\u001B[0m: \tactivation: identity\n",
      "\u001B[34m\u001B[1mwandb\u001B[0m: \talpha: 0.01\n",
      "\u001B[34m\u001B[1mwandb\u001B[0m: \tlearning_rate: constant\n",
      "\u001B[34m\u001B[1mwandb\u001B[0m: \tmomentum: 0.8\n",
      "\u001B[34m\u001B[1mwandb\u001B[0m: \tsolver: adam\n"
     ]
    },
    {
     "data": {
      "text/plain": "<IPython.core.display.HTML object>",
      "text/html": "wandb version 0.12.12 is available!  To upgrade, please run:\n $ pip install wandb --upgrade"
     },
     "metadata": {},
     "output_type": "display_data"
    },
    {
     "data": {
      "text/plain": "<IPython.core.display.HTML object>",
      "text/html": "Tracking run with wandb version 0.12.11"
     },
     "metadata": {},
     "output_type": "display_data"
    },
    {
     "data": {
      "text/plain": "<IPython.core.display.HTML object>",
      "text/html": "Run data is saved locally in <code>/Users/jonweske/devment/BA_nextbike/scripts/wandb/run-20220407_111010-u1uwycra</code>"
     },
     "metadata": {},
     "output_type": "display_data"
    },
    {
     "data": {
      "text/plain": "<IPython.core.display.HTML object>",
      "text/html": "Syncing run <strong><a href=\"https://wandb.ai/jonathanweske/test/runs/u1uwycra\" target=\"_blank\">gallant-sweep-2</a></strong> to <a href=\"https://wandb.ai/jonathanweske/test\" target=\"_blank\">Weights & Biases</a> (<a href=\"https://wandb.me/run\" target=\"_blank\">docs</a>)<br/>Sweep page:  <a href=\"https://wandb.ai/jonathanweske/test/sweeps/8ls9tsqu\" target=\"_blank\">https://wandb.ai/jonathanweske/test/sweeps/8ls9tsqu</a>"
     },
     "metadata": {},
     "output_type": "display_data"
    },
    {
     "name": "stderr",
     "output_type": "stream",
     "text": [
      "\u001B[34m\u001B[1mwandb\u001B[0m: \u001B[33mWARNING\u001B[0m A graphql request initiated by the public wandb API timed out (timeout=9 sec). Create a new API with an integer timeout larger than 9, e.g., `api = wandb.Api(timeout=19)` to increase the graphql timeout.\n",
      "wandb: Network error (ReadTimeout), entering retry loop.\n",
      "\u001B[34m\u001B[1mwandb\u001B[0m: \u001B[33mWARNING\u001B[0m A graphql request initiated by the public wandb API timed out (timeout=9 sec). Create a new API with an integer timeout larger than 9, e.g., `api = wandb.Api(timeout=19)` to increase the graphql timeout.\n",
      "\u001B[34m\u001B[1mwandb\u001B[0m: \u001B[32m\u001B[41mERROR\u001B[0m Error while calling W&B API: context deadline exceeded (<Response [500]>)\n",
      "\u001B[34m\u001B[1mwandb\u001B[0m: \u001B[33mWARNING\u001B[0m A graphql request initiated by the public wandb API timed out (timeout=9 sec). Create a new API with an integer timeout larger than 9, e.g., `api = wandb.Api(timeout=19)` to increase the graphql timeout.\n"
     ]
    },
    {
     "name": "stdout",
     "output_type": "stream",
     "text": [
      "\n"
     ]
    },
    {
     "data": {
      "text/plain": "<IPython.core.display.HTML object>",
      "text/html": "Waiting for W&B process to finish... <strong style=\"color:green\">(success).</strong>"
     },
     "metadata": {},
     "output_type": "display_data"
    },
    {
     "data": {
      "text/plain": "VBox(children=(Label(value='0.002 MB of 0.002 MB uploaded (0.000 MB deduped)\\r'), FloatProgress(value=0.760378…",
      "application/vnd.jupyter.widget-view+json": {
       "version_major": 2,
       "version_minor": 0,
       "model_id": "0ee0855d513a42f4a2fef7a00567f7b3"
      }
     },
     "metadata": {},
     "output_type": "display_data"
    },
    {
     "data": {
      "text/plain": "<IPython.core.display.HTML object>",
      "text/html": "<style>\n    table.wandb td:nth-child(1) { padding: 0 10px; text-align: right }\n    .wandb-row { display: flex; flex-direction: row; flex-wrap: wrap; width: 100% }\n    .wandb-col { display: flex; flex-direction: column; flex-basis: 100%; flex: 1; padding: 10px; }\n    </style>\n<div class=\"wandb-row\"><div class=\"wandb-col\"><h3>Run history:</h3><br/><table class=\"wandb\"><tr><td>accuracy</td><td>▁</td></tr><tr><td>loss</td><td>▁</td></tr><tr><td>score_training</td><td>▁</td></tr><tr><td>score_validation</td><td>▁</td></tr></table><br/></div><div class=\"wandb-col\"><h3>Run summary:</h3><br/><table class=\"wandb\"><tr><td>accuracy</td><td>0.42274</td></tr><tr><td>loss</td><td>0.57726</td></tr><tr><td>score_training</td><td>0.44342</td></tr><tr><td>score_validation</td><td>0.42274</td></tr></table><br/></div></div>"
     },
     "metadata": {},
     "output_type": "display_data"
    },
    {
     "data": {
      "text/plain": "<IPython.core.display.HTML object>",
      "text/html": "Synced <strong style=\"color:#cdcd00\">gallant-sweep-2</strong>: <a href=\"https://wandb.ai/jonathanweske/test/runs/u1uwycra\" target=\"_blank\">https://wandb.ai/jonathanweske/test/runs/u1uwycra</a><br/>Synced 6 W&B file(s), 1 media file(s), 1 artifact file(s) and 0 other file(s)"
     },
     "metadata": {},
     "output_type": "display_data"
    },
    {
     "data": {
      "text/plain": "<IPython.core.display.HTML object>",
      "text/html": "Find logs at: <code>./wandb/run-20220407_111010-u1uwycra/logs</code>"
     },
     "metadata": {},
     "output_type": "display_data"
    },
    {
     "name": "stderr",
     "output_type": "stream",
     "text": [
      "\u001B[34m\u001B[1mwandb\u001B[0m: Agent Starting Run: v3kvn3rd with config:\n",
      "\u001B[34m\u001B[1mwandb\u001B[0m: \tactivation: identity\n",
      "\u001B[34m\u001B[1mwandb\u001B[0m: \talpha: 0.05\n",
      "\u001B[34m\u001B[1mwandb\u001B[0m: \tlearning_rate: adaptive\n",
      "\u001B[34m\u001B[1mwandb\u001B[0m: \tmomentum: 0.8\n",
      "\u001B[34m\u001B[1mwandb\u001B[0m: \tsolver: sgd\n"
     ]
    },
    {
     "data": {
      "text/plain": "<IPython.core.display.HTML object>",
      "text/html": "wandb version 0.12.12 is available!  To upgrade, please run:\n $ pip install wandb --upgrade"
     },
     "metadata": {},
     "output_type": "display_data"
    },
    {
     "data": {
      "text/plain": "<IPython.core.display.HTML object>",
      "text/html": "Tracking run with wandb version 0.12.11"
     },
     "metadata": {},
     "output_type": "display_data"
    },
    {
     "data": {
      "text/plain": "<IPython.core.display.HTML object>",
      "text/html": "Run data is saved locally in <code>/Users/jonweske/devment/BA_nextbike/scripts/wandb/run-20220407_111304-v3kvn3rd</code>"
     },
     "metadata": {},
     "output_type": "display_data"
    },
    {
     "data": {
      "text/plain": "<IPython.core.display.HTML object>",
      "text/html": "Syncing run <strong><a href=\"https://wandb.ai/jonathanweske/test/runs/v3kvn3rd\" target=\"_blank\">radiant-sweep-3</a></strong> to <a href=\"https://wandb.ai/jonathanweske/test\" target=\"_blank\">Weights & Biases</a> (<a href=\"https://wandb.me/run\" target=\"_blank\">docs</a>)<br/>Sweep page:  <a href=\"https://wandb.ai/jonathanweske/test/sweeps/8ls9tsqu\" target=\"_blank\">https://wandb.ai/jonathanweske/test/sweeps/8ls9tsqu</a>"
     },
     "metadata": {},
     "output_type": "display_data"
    },
    {
     "name": "stderr",
     "output_type": "stream",
     "text": [
      "\u001B[34m\u001B[1mwandb\u001B[0m: Ctrl + C detected. Stopping sweep.\n"
     ]
    }
   ],
   "source": [
    "def my_train_func():\n",
    "    wandb.init()\n",
    "    \n",
    "    hls = [(10,10,),(20,20,)]\n",
    "    \n",
    "\n",
    "    _hidden_layer_sizes = random.choice(hls)\n",
    "    _activation = wandb.config.activation\n",
    "    _solver = wandb.config.solver\n",
    "    _alpha = wandb.config.alpha\n",
    "    _learning_rate = wandb.config.learning_rate\n",
    "    _momentum = wandb.config.momentum\n",
    "    \n",
    "    wandb.config.hidden_layer_sizes = _hidden_layer_sizes\n",
    "\n",
    "    model = MLPClassifier(hidden_layer_sizes=_hidden_layer_sizes,\n",
    "                          activation=_activation,\n",
    "                          solver=_solver,\n",
    "                          alpha=_alpha,\n",
    "                          learning_rate=_learning_rate,\n",
    "                          momentum=_momentum)\n",
    "\n",
    "    model.fit(X_train,y_train.ravel())\n",
    "    y_pred = model.predict(X_test)\n",
    "\n",
    "    score_training = model.score(X_train, y_train.ravel())\n",
    "    score_validation = model.score(X_test, y_test.ravel())\n",
    "\n",
    "    acc = accuracy_score(y_test.ravel(), y_pred.ravel())\n",
    "    loss = zero_one_loss(y_test.ravel(), y_pred.ravel())\n",
    "\n",
    "    #wandb.sklearn.plot_feature_importances(model, Predictors)\n",
    "\n",
    "    wandb.log({\"accuracy\": acc, \"loss\": loss})\n",
    "    wandb.log({\"conf_matrix\": wandb.plot.confusion_matrix(y_true=y_test.ravel(), preds=y_pred.ravel())})\n",
    "    #wandb.log({\"feature_imp\": wandb.sklearn.plot_feature_importances(model, Predictors)})\n",
    "    wandb.log({\"score_training\":score_training, \"score_validation\":score_validation})\n",
    "\n",
    "# INIT SWEEP\n",
    "sweep_id_rfc = wandb.sweep(sweep_configuration, project=\"test\")\n",
    "# RUN SWEEP\n",
    "wandb.agent(sweep_id_rfc, function=my_train_func)"
   ]
  },
  {
   "cell_type": "code",
   "execution_count": null,
   "metadata": {},
   "outputs": [],
   "source": []
  }
 ],
 "metadata": {
  "kernelspec": {
   "display_name": "Python 3 (ipykernel)",
   "language": "python",
   "name": "python3"
  },
  "language_info": {
   "codemirror_mode": {
    "name": "ipython",
    "version": 3
   },
   "file_extension": ".py",
   "mimetype": "text/x-python",
   "name": "python",
   "nbconvert_exporter": "python",
   "pygments_lexer": "ipython3",
   "version": "3.9.7"
  }
 },
 "nbformat": 4,
 "nbformat_minor": 1
}