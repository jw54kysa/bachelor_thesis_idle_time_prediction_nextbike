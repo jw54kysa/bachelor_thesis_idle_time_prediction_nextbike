{
 "cells": [
  {
   "cell_type": "code",
   "execution_count": 1,
   "metadata": {},
   "outputs": [],
   "source": [
    "from sklearn.preprocessing import StandardScaler\n",
    "import pandas as pd\n",
    "\n",
    "idle_time_data = pd.read_csv('../data/df_points/df_points_18_21_class.csv')\n",
    "TargetVariable = ['idle_time_class']\n",
    "Predictors = ['bike_id', 'lat', 'lng', 'temp', 'rain', 'snow', 'dt_start', 'hex_enc', 'start_min', 'month', 'day']\n",
    "\n",
    "X = idle_time_data[Predictors].values\n",
    "y = idle_time_data[TargetVariable].values\n",
    "\n",
    "PredictorScaler=StandardScaler()\n",
    "PredictorScalerFit=PredictorScaler.fit(X)\n",
    "X=PredictorScalerFit.transform(X)\n",
    "\n",
    "from sklearn.model_selection import train_test_split\n",
    "\n",
    "X_train, X_test, y_train, y_test = train_test_split(X, y, train_size=0.9,)\n",
    "# , random_state=42"
   ]
  },
  {
   "cell_type": "code",
   "execution_count": 2,
   "metadata": {},
   "outputs": [],
   "source": [
    "from sklearn.model_selection import TimeSeriesSplit\n",
    "\n",
    "ts_cv = TimeSeriesSplit(n_splits=4,max_train_size=10000)"
   ]
  },
  {
   "cell_type": "code",
   "execution_count": 3,
   "metadata": {
    "pycharm": {
     "name": "#%%\n"
    }
   },
   "outputs": [
    {
     "name": "stdout",
     "output_type": "stream",
     "text": [
      "Create sweep with ID: pfz1rq9c\n",
      "Sweep URL: https://wandb.ai/jonathanweske/SVC/sweeps/pfz1rq9c\n"
     ]
    },
    {
     "name": "stderr",
     "output_type": "stream",
     "text": [
      "\u001B[34m\u001B[1mwandb\u001B[0m: Agent Starting Run: 0yoni406 with config:\n",
      "\u001B[34m\u001B[1mwandb\u001B[0m: \tC: 0.8\n",
      "\u001B[34m\u001B[1mwandb\u001B[0m: \tdecision_function_shape: ovr\n",
      "\u001B[34m\u001B[1mwandb\u001B[0m: \tdegree: 2\n",
      "\u001B[34m\u001B[1mwandb\u001B[0m: \tgamma: auto\n",
      "\u001B[34m\u001B[1mwandb\u001B[0m: \tkernel: poly\n",
      "\u001B[34m\u001B[1mwandb\u001B[0m: Currently logged in as: \u001B[33mjonathanweske\u001B[0m (use `wandb login --relogin` to force relogin)\n"
     ]
    },
    {
     "data": {
      "text/html": [
       "wandb version 0.12.12 is available!  To upgrade, please run:\n",
       " $ pip install wandb --upgrade"
      ],
      "text/plain": [
       "<IPython.core.display.HTML object>"
      ]
     },
     "metadata": {},
     "output_type": "display_data"
    },
    {
     "data": {
      "text/html": [
       "Tracking run with wandb version 0.12.11"
      ],
      "text/plain": [
       "<IPython.core.display.HTML object>"
      ]
     },
     "metadata": {},
     "output_type": "display_data"
    },
    {
     "data": {
      "text/html": [
       "Run data is saved locally in <code>/Users/jonweske/devment/BA_nextbike/scripts/wandb/run-20220406_082414-0yoni406</code>"
      ],
      "text/plain": [
       "<IPython.core.display.HTML object>"
      ]
     },
     "metadata": {},
     "output_type": "display_data"
    },
    {
     "data": {
      "text/html": [
       "Syncing run <strong><a href=\"https://wandb.ai/jonathanweske/SVC/runs/0yoni406\" target=\"_blank\">deft-sweep-1</a></strong> to <a href=\"https://wandb.ai/jonathanweske/SVC\" target=\"_blank\">Weights & Biases</a> (<a href=\"https://wandb.me/run\" target=\"_blank\">docs</a>)<br/>Sweep page:  <a href=\"https://wandb.ai/jonathanweske/SVC/sweeps/pfz1rq9c\" target=\"_blank\">https://wandb.ai/jonathanweske/SVC/sweeps/pfz1rq9c</a>"
      ],
      "text/plain": [
       "<IPython.core.display.HTML object>"
      ]
     },
     "metadata": {},
     "output_type": "display_data"
    },
    {
     "name": "stdout",
     "output_type": "stream",
     "text": [
      "[LibSVM]...................................................\n",
      "Warning: using -h 0 may be faster\n",
      "*..........................................................................................................................................................................................................................................................................\n",
      "Warning: using -h 0 may be faster\n",
      "*...........................................................................................................................\n",
      "Warning: using -h 0 may be faster\n",
      "*..................................\n",
      "Warning: using -h 0 may be faster\n",
      "*\n",
      "optimization finished, #iter = 472829\n",
      "obj = -4030.560124, rho = -0.999829\n",
      "nSV = 5913, nBSV = 4379\n",
      "Total nSV = 5913\n",
      "[LibSVM]...........\n",
      "Warning: using -h 0 may be faster\n",
      "*..............................................\n",
      "Warning: using -h 0 may be faster\n",
      "*.................\n",
      "Warning: using -h 0 may be faster\n",
      "*\n",
      "optimization finished, #iter = 73380\n",
      "obj = -4071.999180, rho = -0.999905\n",
      "nSV = 6979, nBSV = 4474\n",
      "Total nSV = 6979\n",
      "[LibSVM]...............................................................\n",
      "Warning: using -h 0 may be faster\n",
      "*..............................................................................................................................\n",
      "Warning: using -h 0 may be faster\n",
      "*........................................................................................................................................................................................................................................................................................................................................................................................................................................................\n",
      "Warning: using -h 0 may be faster\n",
      "*...............................................................................................................................................................................................................................................................................................................................................................................................................................................................................................................................................................................................................................................................................................................................................................................................................................................................................................................................................................................................................................................................................................................................................................................................................................................................................................................................................................................................................................................................................................\n",
      "Warning: using -h 0 may be faster\n",
      "*.\n",
      "Warning: using -h 0 may be faster\n",
      "*\n",
      "optimization finished, #iter = 2066425\n",
      "obj = -4009.847509, rho = -0.999975\n",
      "nSV = 6133, nBSV = 4250\n",
      "Total nSV = 6133\n",
      "[LibSVM]......................\n",
      "Warning: using -h 0 may be faster\n",
      "*...........*.......*\n",
      "optimization finished, #iter = 39507\n",
      "obj = -3799.964595, rho = -1.505714\n",
      "nSV = 4792, nBSV = 4744\n",
      "Total nSV = 4792\n",
      "[LibSVM].......................\n",
      "Warning: using -h 0 may be faster\n",
      "*.....................................................................................................................................................................................................................................................................................................................................................................................................................................................................\n",
      "Warning: using -h 0 may be faster\n",
      "*.........................................................................................................................................................................................................................................................................................................................................................................................................................................................................................................................................................................................................................\n",
      "Warning: using -h 0 may be faster\n",
      "*\n",
      "optimization finished, #iter = 1076292\n",
      "obj = -3958.609648, rho = -0.999611\n",
      "nSV = 5179, nBSV = 4788\n",
      "Total nSV = 5179\n",
      "[LibSVM].........\n",
      "Warning: using -h 0 may be faster\n",
      "*...............................................................................................\n",
      "Warning: using -h 0 may be faster\n",
      "*.........................................................................................................................................................................................................................................................................................................................................................................................................................................................................................................................................................................................................................................................................................................................................................................................................................................................................................................................................................................................................\n",
      "Warning: using -h 0 may be faster\n",
      "*......................\n",
      "Warning: using -h 0 may be faster\n",
      "*................................................................................................................................................................................................\n",
      "Warning: using -h 0 may be faster\n",
      "*.....\n",
      "Warning: using -h 0 may be faster\n",
      "*\n",
      "optimization finished, #iter = 1289361\n",
      "obj = -3970.249555, rho = -1.000019\n",
      "nSV = 5809, nBSV = 4254\n",
      "Total nSV = 5809\n",
      "[LibSVM]...................................................................\n",
      "Warning: using -h 0 may be faster\n",
      "*.................................................................................................................................................................................................................................................................................................................................\n",
      "Warning: using -h 0 may be faster\n"
     ]
    },
    {
     "name": "stdout",
     "output_type": "stream",
     "text": [
      "*...........................................................................................................................................................................................................................................................................................................................................................................................................................................................................................................................................................................................................................................................................................................................................................................................................................................................................................................................................................................................................................................................................................................................................................................................................................................................................................................................................................\n",
      "Warning: using -h 0 may be faster\n",
      "*.....................................................................................................\n",
      "Warning: using -h 0 may be faster\n",
      "*\n",
      "optimization finished, #iter = 1795949\n",
      "obj = -4056.187107, rho = -0.999965\n",
      "nSV = 5697, nBSV = 4697\n",
      "Total nSV = 5697\n",
      "[LibSVM]................................*......*......*.*\n",
      "optimization finished, #iter = 43805\n",
      "obj = -3825.786337, rho = -1.458448\n",
      "nSV = 4886, nBSV = 4837\n",
      "Total nSV = 4886\n",
      "[LibSVM]..............................................\n",
      "Warning: using -h 0 may be faster\n",
      "*................................................................................................................................................................................................................................................................................................................\n",
      "Warning: using -h 0 may be faster\n",
      "*...............................................................................................\n",
      "Warning: using -h 0 may be faster\n",
      "*...................\n",
      "Warning: using -h 0 may be faster\n",
      "*\n",
      "optimization finished, #iter = 463794\n",
      "obj = -3976.979940, rho = -0.999825\n",
      "nSV = 5533, nBSV = 4570\n",
      "Total nSV = 5533\n",
      "[LibSVM]......................\n",
      "Warning: using -h 0 may be faster\n",
      "*..............\n",
      "Warning: using -h 0 may be faster\n",
      "*................................................\n",
      "Warning: using -h 0 may be faster\n",
      "*.\n",
      "Warning: using -h 0 may be faster\n",
      "*\n",
      "optimization finished, #iter = 83378\n",
      "obj = -3847.996779, rho = -0.999895\n",
      "nSV = 6753, nBSV = 3867\n",
      "Total nSV = 6753\n",
      "[LibSVM]............................................................................................................................................................................................................................................................................................................................................................................................................................................................................................................................................................................................................................................................................................................................................................................................................................................................................................................................\n",
      "Warning: using -h 0 may be faster\n",
      "*.....................................................................................................................................................................................................................................................................................................................................................................................................................................................................................................................................................................................................................................................................................................................................................................................................................................................................................................................................................................................................................................................................................................................................................................................................................\n",
      "Warning: using -h 0 may be faster\n",
      "*.............................................................................\n",
      "Warning: using -h 0 may be faster\n",
      "*.....................................................................................................................................................................................................................................\n",
      "Warning: using -h 0 may be faster\n",
      "*....\n",
      "Warning: using -h 0 may be faster\n",
      "*\n",
      "optimization finished, #iter = 2375022\n",
      "obj = -3983.255882, rho = -1.000011\n",
      "nSV = 5260, nBSV = 4739\n",
      "Total nSV = 5260\n",
      "[LibSVM]..................................\n",
      "Warning: using -h 0 may be faster\n",
      "*...*.*.\n",
      "Warning: using -h 0 may be faster\n",
      "*\n",
      "optimization finished, #iter = 38751\n",
      "obj = -4007.871647, rho = -1.538972\n",
      "nSV = 5063, nBSV = 5009\n",
      "Total nSV = 5063\n",
      "[LibSVM].....................................................................\n",
      "Warning: using -h 0 may be faster\n",
      "*......................................................................................................................................................................\n",
      "Warning: using -h 0 may be faster\n",
      "*..............................................................\n",
      "Warning: using -h 0 may be faster\n",
      "*...........\n",
      "Warning: using -h 0 may be faster\n",
      "*...................\n",
      "Warning: using -h 0 may be faster\n",
      "*\n",
      "optimization finished, #iter = 325717\n",
      "obj = -3981.030841, rho = -0.998935\n",
      "nSV = 5133, nBSV = 4839\n",
      "Total nSV = 5133\n",
      "[LibSVM].................................................................\n",
      "Warning: using -h 0 may be faster\n",
      "*................................\n",
      "Warning: using -h 0 may be faster\n",
      "*...............\n",
      "Warning: using -h 0 may be faster\n",
      "*........\n",
      "Warning: using -h 0 may be faster\n",
      "*.\n",
      "Warning: using -h 0 may be faster\n",
      "*\n",
      "optimization finished, #iter = 120806\n",
      "obj = -4067.192970, rho = -0.999972\n",
      "nSV = 6851, nBSV = 4028\n",
      "Total nSV = 6851\n",
      "[LibSVM].......................................................\n",
      "Warning: using -h 0 may be faster\n",
      "*.........................................................................................................................................................................................................................................................\n",
      "Warning: using -h 0 may be faster\n",
      "*\n",
      "optimization finished, #iter = 304002\n",
      "obj = -3918.339480, rho = -0.999869\n",
      "nSV = 5941, nBSV = 4167\n",
      "Total nSV = 5941\n",
      "[LibSVM].......................*.\n",
      "Warning: using -h 0 may be faster\n",
      "*\n",
      "optimization finished, #iter = 24056\n",
      "obj = -3747.204492, rho = -1.520175\n",
      "nSV = 4856, nBSV = 4808\n",
      "Total nSV = 4856\n",
      "\n"
     ]
    },
    {
     "data": {
      "text/html": [
       "Waiting for W&B process to finish... <strong style=\"color:green\">(success).</strong>"
      ],
      "text/plain": [
       "<IPython.core.display.HTML object>"
      ]
     },
     "metadata": {},
     "output_type": "display_data"
    },
    {
     "data": {
      "application/vnd.jupyter.widget-view+json": {
       "model_id": "",
       "version_major": 2,
       "version_minor": 0
      },
      "text/plain": [
       "VBox(children=(Label(value='0.001 MB of 0.001 MB uploaded (0.000 MB deduped)\\r'), FloatProgress(value=1.0, max…"
      ]
     },
     "metadata": {},
     "output_type": "display_data"
    },
    {
     "data": {
      "text/html": [
       "<style>\n",
       "    table.wandb td:nth-child(1) { padding: 0 10px; text-align: right }\n",
       "    .wandb-row { display: flex; flex-direction: row; flex-wrap: wrap; width: 100% }\n",
       "    .wandb-col { display: flex; flex-direction: column; flex-basis: 100%; flex: 1; padding: 10px; }\n",
       "    </style>\n",
       "<div class=\"wandb-row\"><div class=\"wandb-col\"><h3>Run history:</h3><br/><table class=\"wandb\"><tr><td>process_time</td><td>▁</td></tr></table><br/></div><div class=\"wandb-col\"><h3>Run summary:</h3><br/><table class=\"wandb\"><tr><td>process_time</td><td>1435.8261</td></tr></table><br/></div></div>"
      ],
      "text/plain": [
       "<IPython.core.display.HTML object>"
      ]
     },
     "metadata": {},
     "output_type": "display_data"
    },
    {
     "data": {
      "text/html": [
       "Synced <strong style=\"color:#cdcd00\">deft-sweep-1</strong>: <a href=\"https://wandb.ai/jonathanweske/SVC/runs/0yoni406\" target=\"_blank\">https://wandb.ai/jonathanweske/SVC/runs/0yoni406</a><br/>Synced 6 W&B file(s), 0 media file(s), 0 artifact file(s) and 0 other file(s)"
      ],
      "text/plain": [
       "<IPython.core.display.HTML object>"
      ]
     },
     "metadata": {},
     "output_type": "display_data"
    },
    {
     "data": {
      "text/html": [
       "Find logs at: <code>./wandb/run-20220406_082414-0yoni406/logs</code>"
      ],
      "text/plain": [
       "<IPython.core.display.HTML object>"
      ]
     },
     "metadata": {},
     "output_type": "display_data"
    },
    {
     "name": "stderr",
     "output_type": "stream",
     "text": [
      "\u001B[34m\u001B[1mwandb\u001B[0m: Agent Starting Run: 2s0mvqi2 with config:\n",
      "\u001B[34m\u001B[1mwandb\u001B[0m: \tC: 1.2\n",
      "\u001B[34m\u001B[1mwandb\u001B[0m: \tdecision_function_shape: ovr\n",
      "\u001B[34m\u001B[1mwandb\u001B[0m: \tdegree: 4\n",
      "\u001B[34m\u001B[1mwandb\u001B[0m: \tgamma: auto\n",
      "\u001B[34m\u001B[1mwandb\u001B[0m: \tkernel: poly\n"
     ]
    },
    {
     "data": {
      "text/html": [
       "wandb version 0.12.12 is available!  To upgrade, please run:\n",
       " $ pip install wandb --upgrade"
      ],
      "text/plain": [
       "<IPython.core.display.HTML object>"
      ]
     },
     "metadata": {},
     "output_type": "display_data"
    },
    {
     "data": {
      "text/html": [
       "Tracking run with wandb version 0.12.11"
      ],
      "text/plain": [
       "<IPython.core.display.HTML object>"
      ]
     },
     "metadata": {},
     "output_type": "display_data"
    },
    {
     "data": {
      "text/html": [
       "Run data is saved locally in <code>/Users/jonweske/devment/BA_nextbike/scripts/wandb/run-20220406_084817-2s0mvqi2</code>"
      ],
      "text/plain": [
       "<IPython.core.display.HTML object>"
      ]
     },
     "metadata": {},
     "output_type": "display_data"
    },
    {
     "data": {
      "text/html": [
       "Syncing run <strong><a href=\"https://wandb.ai/jonathanweske/SVC/runs/2s0mvqi2\" target=\"_blank\">lunar-sweep-2</a></strong> to <a href=\"https://wandb.ai/jonathanweske/SVC\" target=\"_blank\">Weights & Biases</a> (<a href=\"https://wandb.me/run\" target=\"_blank\">docs</a>)<br/>Sweep page:  <a href=\"https://wandb.ai/jonathanweske/SVC/sweeps/pfz1rq9c\" target=\"_blank\">https://wandb.ai/jonathanweske/SVC/sweeps/pfz1rq9c</a>"
      ],
      "text/plain": [
       "<IPython.core.display.HTML object>"
      ]
     },
     "metadata": {},
     "output_type": "display_data"
    },
    {
     "name": "stdout",
     "output_type": "stream",
     "text": [
      "[LibSVM]............................................................................................................\n",
      "Warning: using -h 0 may be faster\n",
      "*..............................................................................................................................................................*...........................................................................................................................*\n",
      "optimization finished, #iter = 388846\n",
      "obj = -5997.470035, rho = -1.001184\n",
      "nSV = 5208, nBSV = 4849\n",
      "Total nSV = 5208\n",
      "[LibSVM].................................................................................................................................................................................................................................................................................................................................................................................................\n",
      "Warning: using -h 0 may be faster\n",
      "*..............................................................................................................................................................................................................................................................................................................................................................................................................................................................................................................................................................................................................\n",
      "Warning: using -h 0 may be faster\n",
      "*..............................................................................................................................................................................................................................\n",
      "Warning: using -h 0 may be faster\n",
      "*\n",
      "optimization finished, #iter = 1196480\n",
      "obj = -6060.546408, rho = -0.999962\n",
      "nSV = 5306, nBSV = 4838\n",
      "Total nSV = 5306\n",
      "[LibSVM]...........................................................................................................................................................................................................................................................................................................................................................\n",
      "Warning: using -h 0 may be faster\n",
      "*.................................................................................................................................................................................................................................................\n",
      "Warning: using -h 0 may be faster\n",
      "*..................................................................................................................................................................................................................................................................................*\n",
      "optimization finished, #iter = 862581\n",
      "obj = -5985.462594, rho = -0.999927\n",
      "nSV = 5250, nBSV = 4769\n",
      "Total nSV = 5250\n",
      "[LibSVM]......................\n",
      "Warning: using -h 0 may be faster\n",
      "*..................*...*\n",
      "optimization finished, #iter = 42861\n",
      "obj = -4835.375780, rho = -1.111791\n",
      "nSV = 4301, nBSV = 4045\n",
      "Total nSV = 4301\n",
      "[LibSVM].............................................................................................................................................................................\n",
      "Warning: using -h 0 may be faster\n",
      "*.............................................................\n",
      "Warning: using -h 0 may be faster\n",
      "*..................................................................................................................................................\n",
      "Warning: using -h 0 may be faster\n",
      "*..........................................................................................\n",
      "Warning: using -h 0 may be faster\n",
      "*\n",
      "optimization finished, #iter = 469145\n",
      "obj = -5907.639817, rho = -1.000373\n",
      "nSV = 5143, nBSV = 4758\n",
      "Total nSV = 5143\n",
      "[LibSVM]........................................................................................................................................\n",
      "Warning: using -h 0 may be faster\n",
      "*................................................................................................................................................................................................................................................................................................................................................................................\n",
      "Warning: using -h 0 may be faster\n",
      "*....................................................................................................................\n",
      "Warning: using -h 0 may be faster\n",
      "*\n",
      "optimization finished, #iter = 619810\n",
      "obj = -5917.301745, rho = -1.000227\n",
      "nSV = 5185, nBSV = 4746\n",
      "Total nSV = 5185\n",
      "[LibSVM].....................................................................................................................................................................................................................................................................................................................................................................................................................................................................................................................................................................................................................................................................................................................................................................................................\n",
      "Warning: using -h 0 may be faster\n",
      "*...............................................................................................................................................................................................................................................................................................................................................................................................................................................................................................................................................................................................................................\n",
      "Warning: using -h 0 may be faster\n",
      "*.................................................................................................................................................................................................................................................................................................................................................................................................................................................................................................................................\n",
      "Warning: using -h 0 may be faster\n",
      "*.....................................\n",
      "Warning: using -h 0 may be faster\n",
      "*\n",
      "optimization finished, #iter = 1929683\n",
      "obj = -6063.191811, rho = -1.000121\n",
      "nSV = 5423, nBSV = 4732\n",
      "Total nSV = 5423\n",
      "[LibSVM]...............................................*\n",
      "optimization finished, #iter = 47275\n",
      "obj = -4904.959590, rho = -1.104569\n",
      "nSV = 4361, nBSV = 4101\n",
      "Total nSV = 4361\n"
     ]
    },
    {
     "name": "stderr",
     "output_type": "stream",
     "text": [
      "\u001B[34m\u001B[1mwandb\u001B[0m: Ctrl + C detected. Stopping sweep.\n"
     ]
    }
   ],
   "source": [
    "from sklearn.multiclass import OneVsRestClassifier\n",
    "from sklearn.metrics import zero_one_loss, accuracy_score, roc_auc_score, f1_score\n",
    "from sklearn.model_selection import cross_validate, cross_val_score, GridSearchCV\n",
    "from sklearn.svm import SVC\n",
    "from time import perf_counter\n",
    "import wandb\n",
    "\n",
    "sweep_configuration_rfc = {\n",
    "    \"project\": \"SVC\",\n",
    "    \"name\": \"SVC-sweep-CV\",\n",
    "    \"metric\": {\"name\": \"accuracy\", \"goal\": \"maximize\"},\n",
    "    \"method\": \"random\",\n",
    "    \"parameters\": {\n",
    "        \"C\": {\n",
    "            \"values\": [0.6, 0.8, 1.0, 1.2, 1.4]\n",
    "        },\n",
    "        \"kernel\": {\n",
    "            \"values\": ['linear','poly','rbf','sigmoid','precomputed']\n",
    "        },\n",
    "        \"degree\": {\n",
    "            \"values\": [2,3,4,5]\n",
    "        },\n",
    "        \"gamma\": {\n",
    "            \"values\": ['scale', 'auto']\n",
    "        },\n",
    "        \"decision_function_shape\": {\n",
    "            \"values\": ['ovr']\n",
    "        }\n",
    "    }\n",
    "}\n",
    "\n",
    "def my_train_func():\n",
    "    t1_start = perf_counter()\n",
    "    wandb.init()\n",
    "\n",
    "    _C = wandb.config.C\n",
    "    _kernel = wandb.config.kernel\n",
    "    _degree = wandb.config.degree\n",
    "    _gamma = wandb.config.gamma\n",
    "    _decision_function_shape=wandb.config.decision_function_shape\n",
    "\n",
    "    model = SVC(C=_C,\n",
    "                kernel=_kernel,\n",
    "                degree=_degree,\n",
    "                gamma=_gamma,\n",
    "                decision_function_shape=_decision_function_shape,\n",
    "                shrinking=True,\n",
    "                verbose=True\n",
    "                )\n",
    "\n",
    "    clsf = OneVsRestClassifier(model)\n",
    "    cv_res = cross_val_score(clsf,X_train,y_train,cv = ts_cv, scoring='accuracy')\n",
    "    wandb.log({\"cv_res\": cv_res})\n",
    "    #clsf.fit(X_train,y_train.ravel())\n",
    "    #y_pred = clsf.predict(X_test)\n",
    "\n",
    "    #score_training = clsf.score(X_train, y_train.ravel())\n",
    "    #score_validation = clsf.score(X_test, y_test.ravel())\n",
    "\n",
    "\n",
    "    #acc = accuracy_score(y_test.ravel(), y_pred.ravel())\n",
    "    #loss = zero_one_loss(y_test.ravel(), y_pred.ravel())\n",
    "\n",
    "    #wandb.sklearn.plot_feature_importances(model, Predictors)\n",
    "\n",
    "    #wandb.log({\"accuracy\": acc})\n",
    "    #wandb.log({\"conf_matrix\": wandb.plot.confusion_matrix(y_true=y_test.ravel(), preds=y_pred.ravel())})\n",
    "    #wandb.log({\"feature_imp\": wandb.sklearn.plot_feature_importances(model, Predictors)})\n",
    "    ##wandb.log({\"loss\": loss})\n",
    "    #wandb.log({\"score_training\":score_training, \"score_validation\":score_validation})\n",
    "    \n",
    "    t1_stop = perf_counter()\n",
    "    wandb.log({\"process_time\": t1_stop-t1_start})\n",
    "\n",
    "# INIT SWEEP\n",
    "sweep_id_svc = wandb.sweep(sweep_configuration_rfc, project=\"SVC\")\n",
    "# RUN SWEEP\n",
    "wandb.agent(sweep_id_svc, function=my_train_func)"
   ]
  },
  {
   "cell_type": "code",
   "execution_count": 4,
   "metadata": {},
   "outputs": [
    {
     "name": "stdout",
     "output_type": "stream",
     "text": [
      "Error in callback <function _WandbInit._resume_backend at 0x7fde2966c8b0> (for pre_run_cell):\n"
     ]
    },
    {
     "ename": "Exception",
     "evalue": "The wandb backend process has shutdown",
     "output_type": "error",
     "traceback": [
      "\u001B[0;31m---------------------------------------------------------------------------\u001B[0m",
      "\u001B[0;31mException\u001B[0m                                 Traceback (most recent call last)",
      "\u001B[0;32m/usr/local/Caskroom/miniconda/base/envs/geobike/lib/python3.9/site-packages/backcall/backcall.py\u001B[0m in \u001B[0;36madapted\u001B[0;34m(*args, **kwargs)\u001B[0m\n\u001B[1;32m    102\u001B[0m                 \u001B[0mkwargs\u001B[0m\u001B[0;34m.\u001B[0m\u001B[0mpop\u001B[0m\u001B[0;34m(\u001B[0m\u001B[0mname\u001B[0m\u001B[0;34m)\u001B[0m\u001B[0;34m\u001B[0m\u001B[0;34m\u001B[0m\u001B[0m\n\u001B[1;32m    103\u001B[0m \u001B[0;31m#            print(args, kwargs, unmatched_pos, cut_positional, unmatched_kw)\u001B[0m\u001B[0;34m\u001B[0m\u001B[0;34m\u001B[0m\u001B[0m\n\u001B[0;32m--> 104\u001B[0;31m             \u001B[0;32mreturn\u001B[0m \u001B[0mcallback\u001B[0m\u001B[0;34m(\u001B[0m\u001B[0;34m*\u001B[0m\u001B[0margs\u001B[0m\u001B[0;34m,\u001B[0m \u001B[0;34m**\u001B[0m\u001B[0mkwargs\u001B[0m\u001B[0;34m)\u001B[0m\u001B[0;34m\u001B[0m\u001B[0;34m\u001B[0m\u001B[0m\n\u001B[0m\u001B[1;32m    105\u001B[0m \u001B[0;34m\u001B[0m\u001B[0m\n\u001B[1;32m    106\u001B[0m         \u001B[0;32mreturn\u001B[0m \u001B[0madapted\u001B[0m\u001B[0;34m\u001B[0m\u001B[0;34m\u001B[0m\u001B[0m\n",
      "\u001B[0;32m/usr/local/Caskroom/miniconda/base/envs/geobike/lib/python3.9/site-packages/wandb/sdk/wandb_init.py\u001B[0m in \u001B[0;36m_resume_backend\u001B[0;34m(self)\u001B[0m\n\u001B[1;32m    326\u001B[0m         \u001B[0;32mif\u001B[0m \u001B[0mself\u001B[0m\u001B[0;34m.\u001B[0m\u001B[0mbackend\u001B[0m \u001B[0;32mis\u001B[0m \u001B[0;32mnot\u001B[0m \u001B[0;32mNone\u001B[0m\u001B[0;34m:\u001B[0m\u001B[0;34m\u001B[0m\u001B[0;34m\u001B[0m\u001B[0m\n\u001B[1;32m    327\u001B[0m             \u001B[0mlogger\u001B[0m\u001B[0;34m.\u001B[0m\u001B[0minfo\u001B[0m\u001B[0;34m(\u001B[0m\u001B[0;34m\"resuming backend\"\u001B[0m\u001B[0;34m)\u001B[0m\u001B[0;34m\u001B[0m\u001B[0;34m\u001B[0m\u001B[0m\n\u001B[0;32m--> 328\u001B[0;31m             \u001B[0mself\u001B[0m\u001B[0;34m.\u001B[0m\u001B[0mbackend\u001B[0m\u001B[0;34m.\u001B[0m\u001B[0minterface\u001B[0m\u001B[0;34m.\u001B[0m\u001B[0mpublish_resume\u001B[0m\u001B[0;34m(\u001B[0m\u001B[0;34m)\u001B[0m\u001B[0;34m\u001B[0m\u001B[0;34m\u001B[0m\u001B[0m\n\u001B[0m\u001B[1;32m    329\u001B[0m \u001B[0;34m\u001B[0m\u001B[0m\n\u001B[1;32m    330\u001B[0m     \u001B[0;32mdef\u001B[0m \u001B[0m_jupyter_teardown\u001B[0m\u001B[0;34m(\u001B[0m\u001B[0mself\u001B[0m\u001B[0;34m)\u001B[0m\u001B[0;34m:\u001B[0m\u001B[0;34m\u001B[0m\u001B[0;34m\u001B[0m\u001B[0m\n",
      "\u001B[0;32m/usr/local/Caskroom/miniconda/base/envs/geobike/lib/python3.9/site-packages/wandb/sdk/interface/interface.py\u001B[0m in \u001B[0;36mpublish_resume\u001B[0;34m(self)\u001B[0m\n\u001B[1;32m    579\u001B[0m     \u001B[0;32mdef\u001B[0m \u001B[0mpublish_resume\u001B[0m\u001B[0;34m(\u001B[0m\u001B[0mself\u001B[0m\u001B[0;34m)\u001B[0m \u001B[0;34m->\u001B[0m \u001B[0;32mNone\u001B[0m\u001B[0;34m:\u001B[0m\u001B[0;34m\u001B[0m\u001B[0;34m\u001B[0m\u001B[0m\n\u001B[1;32m    580\u001B[0m         \u001B[0mresume\u001B[0m \u001B[0;34m=\u001B[0m \u001B[0mpb\u001B[0m\u001B[0;34m.\u001B[0m\u001B[0mResumeRequest\u001B[0m\u001B[0;34m(\u001B[0m\u001B[0;34m)\u001B[0m\u001B[0;34m\u001B[0m\u001B[0;34m\u001B[0m\u001B[0m\n\u001B[0;32m--> 581\u001B[0;31m         \u001B[0mself\u001B[0m\u001B[0;34m.\u001B[0m\u001B[0m_publish_resume\u001B[0m\u001B[0;34m(\u001B[0m\u001B[0mresume\u001B[0m\u001B[0;34m)\u001B[0m\u001B[0;34m\u001B[0m\u001B[0;34m\u001B[0m\u001B[0m\n\u001B[0m\u001B[1;32m    582\u001B[0m \u001B[0;34m\u001B[0m\u001B[0m\n\u001B[1;32m    583\u001B[0m     \u001B[0;34m@\u001B[0m\u001B[0mabstractmethod\u001B[0m\u001B[0;34m\u001B[0m\u001B[0;34m\u001B[0m\u001B[0m\n",
      "\u001B[0;32m/usr/local/Caskroom/miniconda/base/envs/geobike/lib/python3.9/site-packages/wandb/sdk/interface/interface_shared.py\u001B[0m in \u001B[0;36m_publish_resume\u001B[0;34m(self, resume)\u001B[0m\n\u001B[1;32m    277\u001B[0m     \u001B[0;32mdef\u001B[0m \u001B[0m_publish_resume\u001B[0m\u001B[0;34m(\u001B[0m\u001B[0mself\u001B[0m\u001B[0;34m,\u001B[0m \u001B[0mresume\u001B[0m\u001B[0;34m:\u001B[0m \u001B[0mpb\u001B[0m\u001B[0;34m.\u001B[0m\u001B[0mResumeRequest\u001B[0m\u001B[0;34m)\u001B[0m \u001B[0;34m->\u001B[0m \u001B[0;32mNone\u001B[0m\u001B[0;34m:\u001B[0m\u001B[0;34m\u001B[0m\u001B[0;34m\u001B[0m\u001B[0m\n\u001B[1;32m    278\u001B[0m         \u001B[0mrec\u001B[0m \u001B[0;34m=\u001B[0m \u001B[0mself\u001B[0m\u001B[0;34m.\u001B[0m\u001B[0m_make_request\u001B[0m\u001B[0;34m(\u001B[0m\u001B[0mresume\u001B[0m\u001B[0;34m=\u001B[0m\u001B[0mresume\u001B[0m\u001B[0;34m)\u001B[0m\u001B[0;34m\u001B[0m\u001B[0;34m\u001B[0m\u001B[0m\n\u001B[0;32m--> 279\u001B[0;31m         \u001B[0mself\u001B[0m\u001B[0;34m.\u001B[0m\u001B[0m_publish\u001B[0m\u001B[0;34m(\u001B[0m\u001B[0mrec\u001B[0m\u001B[0;34m)\u001B[0m\u001B[0;34m\u001B[0m\u001B[0;34m\u001B[0m\u001B[0m\n\u001B[0m\u001B[1;32m    280\u001B[0m \u001B[0;34m\u001B[0m\u001B[0m\n\u001B[1;32m    281\u001B[0m     \u001B[0;32mdef\u001B[0m \u001B[0m_publish_run\u001B[0m\u001B[0;34m(\u001B[0m\u001B[0mself\u001B[0m\u001B[0;34m,\u001B[0m \u001B[0mrun\u001B[0m\u001B[0;34m:\u001B[0m \u001B[0mpb\u001B[0m\u001B[0;34m.\u001B[0m\u001B[0mRunRecord\u001B[0m\u001B[0;34m)\u001B[0m \u001B[0;34m->\u001B[0m \u001B[0;32mNone\u001B[0m\u001B[0;34m:\u001B[0m\u001B[0;34m\u001B[0m\u001B[0;34m\u001B[0m\u001B[0m\n",
      "\u001B[0;32m/usr/local/Caskroom/miniconda/base/envs/geobike/lib/python3.9/site-packages/wandb/sdk/interface/interface_queue.py\u001B[0m in \u001B[0;36m_publish\u001B[0;34m(self, record, local)\u001B[0m\n\u001B[1;32m     47\u001B[0m     \u001B[0;32mdef\u001B[0m \u001B[0m_publish\u001B[0m\u001B[0;34m(\u001B[0m\u001B[0mself\u001B[0m\u001B[0;34m,\u001B[0m \u001B[0mrecord\u001B[0m\u001B[0;34m:\u001B[0m \u001B[0;34m\"pb.Record\"\u001B[0m\u001B[0;34m,\u001B[0m \u001B[0mlocal\u001B[0m\u001B[0;34m:\u001B[0m \u001B[0mbool\u001B[0m \u001B[0;34m=\u001B[0m \u001B[0;32mNone\u001B[0m\u001B[0;34m)\u001B[0m \u001B[0;34m->\u001B[0m \u001B[0;32mNone\u001B[0m\u001B[0;34m:\u001B[0m\u001B[0;34m\u001B[0m\u001B[0;34m\u001B[0m\u001B[0m\n\u001B[1;32m     48\u001B[0m         \u001B[0;32mif\u001B[0m \u001B[0mself\u001B[0m\u001B[0;34m.\u001B[0m\u001B[0m_process_check\u001B[0m \u001B[0;32mand\u001B[0m \u001B[0mself\u001B[0m\u001B[0;34m.\u001B[0m\u001B[0m_process\u001B[0m \u001B[0;32mand\u001B[0m \u001B[0;32mnot\u001B[0m \u001B[0mself\u001B[0m\u001B[0;34m.\u001B[0m\u001B[0m_process\u001B[0m\u001B[0;34m.\u001B[0m\u001B[0mis_alive\u001B[0m\u001B[0;34m(\u001B[0m\u001B[0;34m)\u001B[0m\u001B[0;34m:\u001B[0m\u001B[0;34m\u001B[0m\u001B[0;34m\u001B[0m\u001B[0m\n\u001B[0;32m---> 49\u001B[0;31m             \u001B[0;32mraise\u001B[0m \u001B[0mException\u001B[0m\u001B[0;34m(\u001B[0m\u001B[0;34m\"The wandb backend process has shutdown\"\u001B[0m\u001B[0;34m)\u001B[0m\u001B[0;34m\u001B[0m\u001B[0;34m\u001B[0m\u001B[0m\n\u001B[0m\u001B[1;32m     50\u001B[0m         \u001B[0;32mif\u001B[0m \u001B[0mlocal\u001B[0m\u001B[0;34m:\u001B[0m\u001B[0;34m\u001B[0m\u001B[0;34m\u001B[0m\u001B[0m\n\u001B[1;32m     51\u001B[0m             \u001B[0mrecord\u001B[0m\u001B[0;34m.\u001B[0m\u001B[0mcontrol\u001B[0m\u001B[0;34m.\u001B[0m\u001B[0mlocal\u001B[0m \u001B[0;34m=\u001B[0m \u001B[0mlocal\u001B[0m\u001B[0;34m\u001B[0m\u001B[0;34m\u001B[0m\u001B[0m\n",
      "\u001B[0;31mException\u001B[0m: The wandb backend process has shutdown"
     ]
    },
    {
     "name": "stdout",
     "output_type": "stream",
     "text": [
      "Error in callback <function _WandbInit._pause_backend at 0x7fde2966cc10> (for post_run_cell):\n"
     ]
    },
    {
     "ename": "Exception",
     "evalue": "The wandb backend process has shutdown",
     "output_type": "error",
     "traceback": [
      "\u001B[0;31m---------------------------------------------------------------------------\u001B[0m",
      "\u001B[0;31mException\u001B[0m                                 Traceback (most recent call last)",
      "\u001B[0;32m/usr/local/Caskroom/miniconda/base/envs/geobike/lib/python3.9/site-packages/backcall/backcall.py\u001B[0m in \u001B[0;36madapted\u001B[0;34m(*args, **kwargs)\u001B[0m\n\u001B[1;32m    102\u001B[0m                 \u001B[0mkwargs\u001B[0m\u001B[0;34m.\u001B[0m\u001B[0mpop\u001B[0m\u001B[0;34m(\u001B[0m\u001B[0mname\u001B[0m\u001B[0;34m)\u001B[0m\u001B[0;34m\u001B[0m\u001B[0;34m\u001B[0m\u001B[0m\n\u001B[1;32m    103\u001B[0m \u001B[0;31m#            print(args, kwargs, unmatched_pos, cut_positional, unmatched_kw)\u001B[0m\u001B[0;34m\u001B[0m\u001B[0;34m\u001B[0m\u001B[0m\n\u001B[0;32m--> 104\u001B[0;31m             \u001B[0;32mreturn\u001B[0m \u001B[0mcallback\u001B[0m\u001B[0;34m(\u001B[0m\u001B[0;34m*\u001B[0m\u001B[0margs\u001B[0m\u001B[0;34m,\u001B[0m \u001B[0;34m**\u001B[0m\u001B[0mkwargs\u001B[0m\u001B[0;34m)\u001B[0m\u001B[0;34m\u001B[0m\u001B[0;34m\u001B[0m\u001B[0m\n\u001B[0m\u001B[1;32m    105\u001B[0m \u001B[0;34m\u001B[0m\u001B[0m\n\u001B[1;32m    106\u001B[0m         \u001B[0;32mreturn\u001B[0m \u001B[0madapted\u001B[0m\u001B[0;34m\u001B[0m\u001B[0;34m\u001B[0m\u001B[0m\n",
      "\u001B[0;32m/usr/local/Caskroom/miniconda/base/envs/geobike/lib/python3.9/site-packages/wandb/sdk/wandb_init.py\u001B[0m in \u001B[0;36m_pause_backend\u001B[0;34m(self)\u001B[0m\n\u001B[1;32m    321\u001B[0m                 \u001B[0mres\u001B[0m \u001B[0;34m=\u001B[0m \u001B[0mself\u001B[0m\u001B[0;34m.\u001B[0m\u001B[0mrun\u001B[0m\u001B[0;34m.\u001B[0m\u001B[0mlog_code\u001B[0m\u001B[0;34m(\u001B[0m\u001B[0mroot\u001B[0m\u001B[0;34m=\u001B[0m\u001B[0;32mNone\u001B[0m\u001B[0;34m)\u001B[0m\u001B[0;34m\u001B[0m\u001B[0;34m\u001B[0m\u001B[0m\n\u001B[1;32m    322\u001B[0m                 \u001B[0mlogger\u001B[0m\u001B[0;34m.\u001B[0m\u001B[0minfo\u001B[0m\u001B[0;34m(\u001B[0m\u001B[0;34m\"saved code: %s\"\u001B[0m\u001B[0;34m,\u001B[0m \u001B[0mres\u001B[0m\u001B[0;34m)\u001B[0m\u001B[0;34m\u001B[0m\u001B[0;34m\u001B[0m\u001B[0m\n\u001B[0;32m--> 323\u001B[0;31m             \u001B[0mself\u001B[0m\u001B[0;34m.\u001B[0m\u001B[0mbackend\u001B[0m\u001B[0;34m.\u001B[0m\u001B[0minterface\u001B[0m\u001B[0;34m.\u001B[0m\u001B[0mpublish_pause\u001B[0m\u001B[0;34m(\u001B[0m\u001B[0;34m)\u001B[0m\u001B[0;34m\u001B[0m\u001B[0;34m\u001B[0m\u001B[0m\n\u001B[0m\u001B[1;32m    324\u001B[0m \u001B[0;34m\u001B[0m\u001B[0m\n\u001B[1;32m    325\u001B[0m     \u001B[0;32mdef\u001B[0m \u001B[0m_resume_backend\u001B[0m\u001B[0;34m(\u001B[0m\u001B[0mself\u001B[0m\u001B[0;34m)\u001B[0m\u001B[0;34m:\u001B[0m\u001B[0;34m\u001B[0m\u001B[0;34m\u001B[0m\u001B[0m\n",
      "\u001B[0;32m/usr/local/Caskroom/miniconda/base/envs/geobike/lib/python3.9/site-packages/wandb/sdk/interface/interface.py\u001B[0m in \u001B[0;36mpublish_pause\u001B[0;34m(self)\u001B[0m\n\u001B[1;32m    571\u001B[0m     \u001B[0;32mdef\u001B[0m \u001B[0mpublish_pause\u001B[0m\u001B[0;34m(\u001B[0m\u001B[0mself\u001B[0m\u001B[0;34m)\u001B[0m \u001B[0;34m->\u001B[0m \u001B[0;32mNone\u001B[0m\u001B[0;34m:\u001B[0m\u001B[0;34m\u001B[0m\u001B[0;34m\u001B[0m\u001B[0m\n\u001B[1;32m    572\u001B[0m         \u001B[0mpause\u001B[0m \u001B[0;34m=\u001B[0m \u001B[0mpb\u001B[0m\u001B[0;34m.\u001B[0m\u001B[0mPauseRequest\u001B[0m\u001B[0;34m(\u001B[0m\u001B[0;34m)\u001B[0m\u001B[0;34m\u001B[0m\u001B[0;34m\u001B[0m\u001B[0m\n\u001B[0;32m--> 573\u001B[0;31m         \u001B[0mself\u001B[0m\u001B[0;34m.\u001B[0m\u001B[0m_publish_pause\u001B[0m\u001B[0;34m(\u001B[0m\u001B[0mpause\u001B[0m\u001B[0;34m)\u001B[0m\u001B[0;34m\u001B[0m\u001B[0;34m\u001B[0m\u001B[0m\n\u001B[0m\u001B[1;32m    574\u001B[0m \u001B[0;34m\u001B[0m\u001B[0m\n\u001B[1;32m    575\u001B[0m     \u001B[0;34m@\u001B[0m\u001B[0mabstractmethod\u001B[0m\u001B[0;34m\u001B[0m\u001B[0;34m\u001B[0m\u001B[0m\n",
      "\u001B[0;32m/usr/local/Caskroom/miniconda/base/envs/geobike/lib/python3.9/site-packages/wandb/sdk/interface/interface_shared.py\u001B[0m in \u001B[0;36m_publish_pause\u001B[0;34m(self, pause)\u001B[0m\n\u001B[1;32m    273\u001B[0m     \u001B[0;32mdef\u001B[0m \u001B[0m_publish_pause\u001B[0m\u001B[0;34m(\u001B[0m\u001B[0mself\u001B[0m\u001B[0;34m,\u001B[0m \u001B[0mpause\u001B[0m\u001B[0;34m:\u001B[0m \u001B[0mpb\u001B[0m\u001B[0;34m.\u001B[0m\u001B[0mPauseRequest\u001B[0m\u001B[0;34m)\u001B[0m \u001B[0;34m->\u001B[0m \u001B[0;32mNone\u001B[0m\u001B[0;34m:\u001B[0m\u001B[0;34m\u001B[0m\u001B[0;34m\u001B[0m\u001B[0m\n\u001B[1;32m    274\u001B[0m         \u001B[0mrec\u001B[0m \u001B[0;34m=\u001B[0m \u001B[0mself\u001B[0m\u001B[0;34m.\u001B[0m\u001B[0m_make_request\u001B[0m\u001B[0;34m(\u001B[0m\u001B[0mpause\u001B[0m\u001B[0;34m=\u001B[0m\u001B[0mpause\u001B[0m\u001B[0;34m)\u001B[0m\u001B[0;34m\u001B[0m\u001B[0;34m\u001B[0m\u001B[0m\n\u001B[0;32m--> 275\u001B[0;31m         \u001B[0mself\u001B[0m\u001B[0;34m.\u001B[0m\u001B[0m_publish\u001B[0m\u001B[0;34m(\u001B[0m\u001B[0mrec\u001B[0m\u001B[0;34m)\u001B[0m\u001B[0;34m\u001B[0m\u001B[0;34m\u001B[0m\u001B[0m\n\u001B[0m\u001B[1;32m    276\u001B[0m \u001B[0;34m\u001B[0m\u001B[0m\n\u001B[1;32m    277\u001B[0m     \u001B[0;32mdef\u001B[0m \u001B[0m_publish_resume\u001B[0m\u001B[0;34m(\u001B[0m\u001B[0mself\u001B[0m\u001B[0;34m,\u001B[0m \u001B[0mresume\u001B[0m\u001B[0;34m:\u001B[0m \u001B[0mpb\u001B[0m\u001B[0;34m.\u001B[0m\u001B[0mResumeRequest\u001B[0m\u001B[0;34m)\u001B[0m \u001B[0;34m->\u001B[0m \u001B[0;32mNone\u001B[0m\u001B[0;34m:\u001B[0m\u001B[0;34m\u001B[0m\u001B[0;34m\u001B[0m\u001B[0m\n",
      "\u001B[0;32m/usr/local/Caskroom/miniconda/base/envs/geobike/lib/python3.9/site-packages/wandb/sdk/interface/interface_queue.py\u001B[0m in \u001B[0;36m_publish\u001B[0;34m(self, record, local)\u001B[0m\n\u001B[1;32m     47\u001B[0m     \u001B[0;32mdef\u001B[0m \u001B[0m_publish\u001B[0m\u001B[0;34m(\u001B[0m\u001B[0mself\u001B[0m\u001B[0;34m,\u001B[0m \u001B[0mrecord\u001B[0m\u001B[0;34m:\u001B[0m \u001B[0;34m\"pb.Record\"\u001B[0m\u001B[0;34m,\u001B[0m \u001B[0mlocal\u001B[0m\u001B[0;34m:\u001B[0m \u001B[0mbool\u001B[0m \u001B[0;34m=\u001B[0m \u001B[0;32mNone\u001B[0m\u001B[0;34m)\u001B[0m \u001B[0;34m->\u001B[0m \u001B[0;32mNone\u001B[0m\u001B[0;34m:\u001B[0m\u001B[0;34m\u001B[0m\u001B[0;34m\u001B[0m\u001B[0m\n\u001B[1;32m     48\u001B[0m         \u001B[0;32mif\u001B[0m \u001B[0mself\u001B[0m\u001B[0;34m.\u001B[0m\u001B[0m_process_check\u001B[0m \u001B[0;32mand\u001B[0m \u001B[0mself\u001B[0m\u001B[0;34m.\u001B[0m\u001B[0m_process\u001B[0m \u001B[0;32mand\u001B[0m \u001B[0;32mnot\u001B[0m \u001B[0mself\u001B[0m\u001B[0;34m.\u001B[0m\u001B[0m_process\u001B[0m\u001B[0;34m.\u001B[0m\u001B[0mis_alive\u001B[0m\u001B[0;34m(\u001B[0m\u001B[0;34m)\u001B[0m\u001B[0;34m:\u001B[0m\u001B[0;34m\u001B[0m\u001B[0;34m\u001B[0m\u001B[0m\n\u001B[0;32m---> 49\u001B[0;31m             \u001B[0;32mraise\u001B[0m \u001B[0mException\u001B[0m\u001B[0;34m(\u001B[0m\u001B[0;34m\"The wandb backend process has shutdown\"\u001B[0m\u001B[0;34m)\u001B[0m\u001B[0;34m\u001B[0m\u001B[0;34m\u001B[0m\u001B[0m\n\u001B[0m\u001B[1;32m     50\u001B[0m         \u001B[0;32mif\u001B[0m \u001B[0mlocal\u001B[0m\u001B[0;34m:\u001B[0m\u001B[0;34m\u001B[0m\u001B[0;34m\u001B[0m\u001B[0m\n\u001B[1;32m     51\u001B[0m             \u001B[0mrecord\u001B[0m\u001B[0;34m.\u001B[0m\u001B[0mcontrol\u001B[0m\u001B[0;34m.\u001B[0m\u001B[0mlocal\u001B[0m \u001B[0;34m=\u001B[0m \u001B[0mlocal\u001B[0m\u001B[0;34m\u001B[0m\u001B[0;34m\u001B[0m\u001B[0m\n",
      "\u001B[0;31mException\u001B[0m: The wandb backend process has shutdown"
     ]
    },
    {
     "name": "stdout",
     "output_type": "stream",
     "text": [
      "."
     ]
    }
   ],
   "source": [
    "wandb.finish()"
   ]
  },
  {
   "cell_type": "markdown",
   "metadata": {
    "pycharm": {
     "name": "#%%\n"
    }
   },
   "source": [
    "from sklearn.multiclass import OneVsRestClassifier\n",
    "from sklearn.metrics import zero_one_loss, accuracy_score, roc_auc_score, f1_score\n",
    "from sklearn.model_selection import cross_validate, cross_val_score, GridSearchCV\n",
    "from sklearn.svm import SVC\n",
    "from time import perf_counter\n",
    "\n",
    "t1_start = perf_counter()\n",
    "\n",
    "model = SVC(verbose=True,decision_function_shape='ovr')\n",
    "\n",
    "clsf = OneVsRestClassifier(model)\n",
    "print('train...')\n",
    "clsf.fit(X_train[:100000],y_train[:100000].ravel())\n",
    "print('predicting...')\n",
    "y_pred = clsf.predict(X_test[:100000])\n",
    "\n",
    "acc = accuracy_score(y_test[:100000].ravel(), y_pred[:100000].ravel())\n",
    "\n",
    "print('acc: ',acc)\n",
    "\n",
    "t1_stop = perf_counter()\n",
    "print('program time: ',t1_stop-t1_start)"
   ]
  },
  {
   "cell_type": "code",
   "execution_count": null,
   "metadata": {},
   "outputs": [],
   "source": []
  }
 ],
 "metadata": {
  "kernelspec": {
   "display_name": "Python 3 (ipykernel)",
   "language": "python",
   "name": "python3"
  },
  "language_info": {
   "codemirror_mode": {
    "name": "ipython",
    "version": 3
   },
   "file_extension": ".py",
   "mimetype": "text/x-python",
   "name": "python",
   "nbconvert_exporter": "python",
   "pygments_lexer": "ipython3",
   "version": "3.9.7"
  }
 },
 "nbformat": 4,
 "nbformat_minor": 1
}