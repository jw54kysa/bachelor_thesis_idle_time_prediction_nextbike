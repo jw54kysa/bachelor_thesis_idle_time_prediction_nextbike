{
 "cells": [
  {
   "cell_type": "code",
   "execution_count": 2,
   "metadata": {
    "collapsed": true
   },
   "outputs": [],
   "source": [
    "from sklearn.preprocessing import StandardScaler\n",
    "import pandas as pd\n",
    "import numpy as np\n",
    "import wandb\n",
    "\n",
    "idle_time_data = pd.read_csv('../data/df_points/df_points_18_21_class.csv')\n",
    "TargetVariable = ['idle_time_class']\n",
    "Predictors = ['bike_id', 'lat', 'lng', 'temp', 'rain', 'snow', 'dt_start', 'hex_enc', 'start_min', 'month', 'day']\n",
    "\n",
    "X = idle_time_data[Predictors].values\n",
    "y = idle_time_data[TargetVariable].values\n",
    "\n",
    "PredictorScaler=StandardScaler()\n",
    "PredictorScalerFit=PredictorScaler.fit(X)\n",
    "X=PredictorScalerFit.transform(X)\n",
    "\n",
    "from sklearn.model_selection import train_test_split\n",
    "\n",
    "X_train, X_test, y_train, y_test = train_test_split(X, y, train_size=0.9)\n",
    "# , random_state=42"
   ]
  },
  {
   "cell_type": "code",
   "execution_count": null,
   "outputs": [
    {
     "name": "stdout",
     "output_type": "stream",
     "text": [
      "Error in callback <function _WandbInit._resume_backend at 0x7f7dd8b1bf70> (for pre_run_cell):\n"
     ]
    },
    {
     "ename": "Exception",
     "evalue": "The wandb backend process has shutdown",
     "output_type": "error",
     "traceback": [
      "\u001B[0;31m---------------------------------------------------------------------------\u001B[0m",
      "\u001B[0;31mException\u001B[0m                                 Traceback (most recent call last)",
      "\u001B[0;32m/usr/local/Caskroom/miniconda/base/envs/geobike/lib/python3.9/site-packages/backcall/backcall.py\u001B[0m in \u001B[0;36madapted\u001B[0;34m(*args, **kwargs)\u001B[0m\n\u001B[1;32m    102\u001B[0m                 \u001B[0mkwargs\u001B[0m\u001B[0;34m.\u001B[0m\u001B[0mpop\u001B[0m\u001B[0;34m(\u001B[0m\u001B[0mname\u001B[0m\u001B[0;34m)\u001B[0m\u001B[0;34m\u001B[0m\u001B[0;34m\u001B[0m\u001B[0m\n\u001B[1;32m    103\u001B[0m \u001B[0;31m#            print(args, kwargs, unmatched_pos, cut_positional, unmatched_kw)\u001B[0m\u001B[0;34m\u001B[0m\u001B[0;34m\u001B[0m\u001B[0m\n\u001B[0;32m--> 104\u001B[0;31m             \u001B[0;32mreturn\u001B[0m \u001B[0mcallback\u001B[0m\u001B[0;34m(\u001B[0m\u001B[0;34m*\u001B[0m\u001B[0margs\u001B[0m\u001B[0;34m,\u001B[0m \u001B[0;34m**\u001B[0m\u001B[0mkwargs\u001B[0m\u001B[0;34m)\u001B[0m\u001B[0;34m\u001B[0m\u001B[0;34m\u001B[0m\u001B[0m\n\u001B[0m\u001B[1;32m    105\u001B[0m \u001B[0;34m\u001B[0m\u001B[0m\n\u001B[1;32m    106\u001B[0m         \u001B[0;32mreturn\u001B[0m \u001B[0madapted\u001B[0m\u001B[0;34m\u001B[0m\u001B[0;34m\u001B[0m\u001B[0m\n",
      "\u001B[0;32m/usr/local/Caskroom/miniconda/base/envs/geobike/lib/python3.9/site-packages/wandb/sdk/wandb_init.py\u001B[0m in \u001B[0;36m_resume_backend\u001B[0;34m(self)\u001B[0m\n\u001B[1;32m    326\u001B[0m         \u001B[0;32mif\u001B[0m \u001B[0mself\u001B[0m\u001B[0;34m.\u001B[0m\u001B[0mbackend\u001B[0m \u001B[0;32mis\u001B[0m \u001B[0;32mnot\u001B[0m \u001B[0;32mNone\u001B[0m\u001B[0;34m:\u001B[0m\u001B[0;34m\u001B[0m\u001B[0;34m\u001B[0m\u001B[0m\n\u001B[1;32m    327\u001B[0m             \u001B[0mlogger\u001B[0m\u001B[0;34m.\u001B[0m\u001B[0minfo\u001B[0m\u001B[0;34m(\u001B[0m\u001B[0;34m\"resuming backend\"\u001B[0m\u001B[0;34m)\u001B[0m\u001B[0;34m\u001B[0m\u001B[0;34m\u001B[0m\u001B[0m\n\u001B[0;32m--> 328\u001B[0;31m             \u001B[0mself\u001B[0m\u001B[0;34m.\u001B[0m\u001B[0mbackend\u001B[0m\u001B[0;34m.\u001B[0m\u001B[0minterface\u001B[0m\u001B[0;34m.\u001B[0m\u001B[0mpublish_resume\u001B[0m\u001B[0;34m(\u001B[0m\u001B[0;34m)\u001B[0m\u001B[0;34m\u001B[0m\u001B[0;34m\u001B[0m\u001B[0m\n\u001B[0m\u001B[1;32m    329\u001B[0m \u001B[0;34m\u001B[0m\u001B[0m\n\u001B[1;32m    330\u001B[0m     \u001B[0;32mdef\u001B[0m \u001B[0m_jupyter_teardown\u001B[0m\u001B[0;34m(\u001B[0m\u001B[0mself\u001B[0m\u001B[0;34m)\u001B[0m\u001B[0;34m:\u001B[0m\u001B[0;34m\u001B[0m\u001B[0;34m\u001B[0m\u001B[0m\n",
      "\u001B[0;32m/usr/local/Caskroom/miniconda/base/envs/geobike/lib/python3.9/site-packages/wandb/sdk/interface/interface.py\u001B[0m in \u001B[0;36mpublish_resume\u001B[0;34m(self)\u001B[0m\n\u001B[1;32m    579\u001B[0m     \u001B[0;32mdef\u001B[0m \u001B[0mpublish_resume\u001B[0m\u001B[0;34m(\u001B[0m\u001B[0mself\u001B[0m\u001B[0;34m)\u001B[0m \u001B[0;34m->\u001B[0m \u001B[0;32mNone\u001B[0m\u001B[0;34m:\u001B[0m\u001B[0;34m\u001B[0m\u001B[0;34m\u001B[0m\u001B[0m\n\u001B[1;32m    580\u001B[0m         \u001B[0mresume\u001B[0m \u001B[0;34m=\u001B[0m \u001B[0mpb\u001B[0m\u001B[0;34m.\u001B[0m\u001B[0mResumeRequest\u001B[0m\u001B[0;34m(\u001B[0m\u001B[0;34m)\u001B[0m\u001B[0;34m\u001B[0m\u001B[0;34m\u001B[0m\u001B[0m\n\u001B[0;32m--> 581\u001B[0;31m         \u001B[0mself\u001B[0m\u001B[0;34m.\u001B[0m\u001B[0m_publish_resume\u001B[0m\u001B[0;34m(\u001B[0m\u001B[0mresume\u001B[0m\u001B[0;34m)\u001B[0m\u001B[0;34m\u001B[0m\u001B[0;34m\u001B[0m\u001B[0m\n\u001B[0m\u001B[1;32m    582\u001B[0m \u001B[0;34m\u001B[0m\u001B[0m\n\u001B[1;32m    583\u001B[0m     \u001B[0;34m@\u001B[0m\u001B[0mabstractmethod\u001B[0m\u001B[0;34m\u001B[0m\u001B[0;34m\u001B[0m\u001B[0m\n",
      "\u001B[0;32m/usr/local/Caskroom/miniconda/base/envs/geobike/lib/python3.9/site-packages/wandb/sdk/interface/interface_shared.py\u001B[0m in \u001B[0;36m_publish_resume\u001B[0;34m(self, resume)\u001B[0m\n\u001B[1;32m    277\u001B[0m     \u001B[0;32mdef\u001B[0m \u001B[0m_publish_resume\u001B[0m\u001B[0;34m(\u001B[0m\u001B[0mself\u001B[0m\u001B[0;34m,\u001B[0m \u001B[0mresume\u001B[0m\u001B[0;34m:\u001B[0m \u001B[0mpb\u001B[0m\u001B[0;34m.\u001B[0m\u001B[0mResumeRequest\u001B[0m\u001B[0;34m)\u001B[0m \u001B[0;34m->\u001B[0m \u001B[0;32mNone\u001B[0m\u001B[0;34m:\u001B[0m\u001B[0;34m\u001B[0m\u001B[0;34m\u001B[0m\u001B[0m\n\u001B[1;32m    278\u001B[0m         \u001B[0mrec\u001B[0m \u001B[0;34m=\u001B[0m \u001B[0mself\u001B[0m\u001B[0;34m.\u001B[0m\u001B[0m_make_request\u001B[0m\u001B[0;34m(\u001B[0m\u001B[0mresume\u001B[0m\u001B[0;34m=\u001B[0m\u001B[0mresume\u001B[0m\u001B[0;34m)\u001B[0m\u001B[0;34m\u001B[0m\u001B[0;34m\u001B[0m\u001B[0m\n\u001B[0;32m--> 279\u001B[0;31m         \u001B[0mself\u001B[0m\u001B[0;34m.\u001B[0m\u001B[0m_publish\u001B[0m\u001B[0;34m(\u001B[0m\u001B[0mrec\u001B[0m\u001B[0;34m)\u001B[0m\u001B[0;34m\u001B[0m\u001B[0;34m\u001B[0m\u001B[0m\n\u001B[0m\u001B[1;32m    280\u001B[0m \u001B[0;34m\u001B[0m\u001B[0m\n\u001B[1;32m    281\u001B[0m     \u001B[0;32mdef\u001B[0m \u001B[0m_publish_run\u001B[0m\u001B[0;34m(\u001B[0m\u001B[0mself\u001B[0m\u001B[0;34m,\u001B[0m \u001B[0mrun\u001B[0m\u001B[0;34m:\u001B[0m \u001B[0mpb\u001B[0m\u001B[0;34m.\u001B[0m\u001B[0mRunRecord\u001B[0m\u001B[0;34m)\u001B[0m \u001B[0;34m->\u001B[0m \u001B[0;32mNone\u001B[0m\u001B[0;34m:\u001B[0m\u001B[0;34m\u001B[0m\u001B[0;34m\u001B[0m\u001B[0m\n",
      "\u001B[0;32m/usr/local/Caskroom/miniconda/base/envs/geobike/lib/python3.9/site-packages/wandb/sdk/interface/interface_queue.py\u001B[0m in \u001B[0;36m_publish\u001B[0;34m(self, record, local)\u001B[0m\n\u001B[1;32m     47\u001B[0m     \u001B[0;32mdef\u001B[0m \u001B[0m_publish\u001B[0m\u001B[0;34m(\u001B[0m\u001B[0mself\u001B[0m\u001B[0;34m,\u001B[0m \u001B[0mrecord\u001B[0m\u001B[0;34m:\u001B[0m \u001B[0;34m\"pb.Record\"\u001B[0m\u001B[0;34m,\u001B[0m \u001B[0mlocal\u001B[0m\u001B[0;34m:\u001B[0m \u001B[0mbool\u001B[0m \u001B[0;34m=\u001B[0m \u001B[0;32mNone\u001B[0m\u001B[0;34m)\u001B[0m \u001B[0;34m->\u001B[0m \u001B[0;32mNone\u001B[0m\u001B[0;34m:\u001B[0m\u001B[0;34m\u001B[0m\u001B[0;34m\u001B[0m\u001B[0m\n\u001B[1;32m     48\u001B[0m         \u001B[0;32mif\u001B[0m \u001B[0mself\u001B[0m\u001B[0;34m.\u001B[0m\u001B[0m_process_check\u001B[0m \u001B[0;32mand\u001B[0m \u001B[0mself\u001B[0m\u001B[0;34m.\u001B[0m\u001B[0m_process\u001B[0m \u001B[0;32mand\u001B[0m \u001B[0;32mnot\u001B[0m \u001B[0mself\u001B[0m\u001B[0;34m.\u001B[0m\u001B[0m_process\u001B[0m\u001B[0;34m.\u001B[0m\u001B[0mis_alive\u001B[0m\u001B[0;34m(\u001B[0m\u001B[0;34m)\u001B[0m\u001B[0;34m:\u001B[0m\u001B[0;34m\u001B[0m\u001B[0;34m\u001B[0m\u001B[0m\n\u001B[0;32m---> 49\u001B[0;31m             \u001B[0;32mraise\u001B[0m \u001B[0mException\u001B[0m\u001B[0;34m(\u001B[0m\u001B[0;34m\"The wandb backend process has shutdown\"\u001B[0m\u001B[0;34m)\u001B[0m\u001B[0;34m\u001B[0m\u001B[0;34m\u001B[0m\u001B[0m\n\u001B[0m\u001B[1;32m     50\u001B[0m         \u001B[0;32mif\u001B[0m \u001B[0mlocal\u001B[0m\u001B[0;34m:\u001B[0m\u001B[0;34m\u001B[0m\u001B[0;34m\u001B[0m\u001B[0m\n\u001B[1;32m     51\u001B[0m             \u001B[0mrecord\u001B[0m\u001B[0;34m.\u001B[0m\u001B[0mcontrol\u001B[0m\u001B[0;34m.\u001B[0m\u001B[0mlocal\u001B[0m \u001B[0;34m=\u001B[0m \u001B[0mlocal\u001B[0m\u001B[0;34m\u001B[0m\u001B[0;34m\u001B[0m\u001B[0m\n",
      "\u001B[0;31mException\u001B[0m: The wandb backend process has shutdown"
     ]
    },
    {
     "name": "stderr",
     "output_type": "stream",
     "text": [
      "\u001B[34m\u001B[1mwandb\u001B[0m: \u001B[33mWARNING\u001B[0m Calling wandb.login() after wandb.init() has no effect.\n"
     ]
    },
    {
     "name": "stdout",
     "output_type": "stream",
     "text": [
      "Create sweep with ID: 3t84qu5g\n",
      "Sweep URL: https://wandb.ai/jonathanweske/SVC/sweeps/3t84qu5g\n"
     ]
    },
    {
     "name": "stderr",
     "output_type": "stream",
     "text": [
      "\u001B[34m\u001B[1mwandb\u001B[0m: Agent Starting Run: 543xfnv4 with config:\n",
      "\u001B[34m\u001B[1mwandb\u001B[0m: \tC: 0.6\n",
      "\u001B[34m\u001B[1mwandb\u001B[0m: \tdecision_function_shape: ovo\n",
      "\u001B[34m\u001B[1mwandb\u001B[0m: \tdegree: 3\n",
      "\u001B[34m\u001B[1mwandb\u001B[0m: \tgamma: auto\n",
      "\u001B[34m\u001B[1mwandb\u001B[0m: \tkernel: sigmoid\n"
     ]
    },
    {
     "data": {
      "text/plain": "<IPython.core.display.HTML object>",
      "text/html": "Tracking run with wandb version 0.12.11"
     },
     "metadata": {},
     "output_type": "display_data"
    },
    {
     "data": {
      "text/plain": "<IPython.core.display.HTML object>",
      "text/html": "Run data is saved locally in <code>/Users/jonweske/devment/BA_nextbike/scripts/wandb/run-20220401_231941-543xfnv4</code>"
     },
     "metadata": {},
     "output_type": "display_data"
    },
    {
     "data": {
      "text/plain": "<IPython.core.display.HTML object>",
      "text/html": "Syncing run <strong><a href=\"https://wandb.ai/jonathanweske/SVC/runs/543xfnv4\" target=\"_blank\">driven-sweep-1</a></strong> to <a href=\"https://wandb.ai/jonathanweske/SVC\" target=\"_blank\">Weights & Biases</a> (<a href=\"https://wandb.me/run\" target=\"_blank\">docs</a>)<br/>Sweep page:  <a href=\"https://wandb.ai/jonathanweske/SVC/sweeps/3t84qu5g\" target=\"_blank\">https://wandb.ai/jonathanweske/SVC/sweeps/3t84qu5g</a>"
     },
     "metadata": {},
     "output_type": "display_data"
    }
   ],
   "source": [
    "from sklearn.metrics import zero_one_loss, accuracy_score, roc_auc_score, f1_score\n",
    "from sklearn.model_selection import cross_validate, cross_val_score, GridSearchCV\n",
    "from sklearn.svm import SVC\n",
    "import wandb\n",
    "import wandb\n",
    "\n",
    "sweep_configuration_rfc = {\n",
    "    \"project\": \"SVC\",\n",
    "    \"name\": \"my-awesome-sweep\",\n",
    "    \"metric\": {\"name\": \"accuracy\", \"goal\": \"maximize\"},\n",
    "    \"method\": \"random\",\n",
    "    \"parameters\": {\n",
    "        \"C\": {\n",
    "            \"values\": [0.6, 0.8, 1.0, 1.2, 1.4]\n",
    "        },\n",
    "        \"kernel\": {\n",
    "            \"values\": ['linear','poly','rbf','sigmoid','precomputed']\n",
    "        },\n",
    "        \"degree\": {\n",
    "            \"values\": [2,3,4,5]\n",
    "        },\n",
    "        \"gamma\": {\n",
    "            \"values\": ['scale', 'auto']\n",
    "        },\n",
    "        \"decision_function_shape\": {\n",
    "            \"values\": ['ovo']\n",
    "        }\n",
    "    }\n",
    "}\n",
    "\n",
    "def my_train_func():\n",
    "    wandb.init()\n",
    "\n",
    "    _C = wandb.config.C\n",
    "    _kernel = wandb.config.kernel\n",
    "    _degree = wandb.config.degree\n",
    "    _gamma = wandb.config.gamma\n",
    "    _decision_function_shape=wandb.config.decision_function_shape\n",
    "\n",
    "    model = SVC(C=_C,\n",
    "                kernel=_kernel,\n",
    "                degree=_degree,\n",
    "                gamma=_gamma,\n",
    "                decision_function_shape=_decision_function_shape\n",
    "                )\n",
    "\n",
    "    model.fit(X_train, y_train.ravel())\n",
    "    y_pred = model.predict(X_test)\n",
    "\n",
    "    print(\"roc_auc_score: \", roc_auc_score(y_test.ravel(), y_pred.ravel()))\n",
    "    print(\"f1 score: \", f1_score(y_test.ravel(), y_pred.ravle()))\n",
    "\n",
    "    acc = zero_one_loss(y_test.ravel(), y_pred.ravel())\n",
    "    loss = accuracy_score(y_test.ravel(), y_pred.ravel())\n",
    "\n",
    "    #wandb.sklearn.plot_feature_importances(model, Predictors)\n",
    "\n",
    "    wandb.log({\"accuracy\": acc})\n",
    "    wandb.log({\"conf_matrix\": wandb.plot.confusion_matrix(y_true=y_test.ravel(), preds=y_pred.ravel())})\n",
    "    wandb.log({\"loss\": loss})\n",
    "\n",
    "\n",
    "# INIT SWEEP\n",
    "sweep_id_svc = wandb.sweep(sweep_configuration_rfc, project=\"SVC\")\n",
    "# RUN SWEEP\n",
    "wandb.agent(sweep_id_svc, function=my_train_func)"
   ],
   "metadata": {
    "collapsed": false,
    "pycharm": {
     "name": "#%%\n",
     "is_executing": true
    }
   }
  },
  {
   "cell_type": "code",
   "execution_count": null,
   "outputs": [],
   "source": [],
   "metadata": {
    "collapsed": false,
    "pycharm": {
     "name": "#%%\n"
    }
   }
  }
 ],
 "metadata": {
  "kernelspec": {
   "display_name": "Python 3",
   "language": "python",
   "name": "python3"
  },
  "language_info": {
   "codemirror_mode": {
    "name": "ipython",
    "version": 2
   },
   "file_extension": ".py",
   "mimetype": "text/x-python",
   "name": "python",
   "nbconvert_exporter": "python",
   "pygments_lexer": "ipython2",
   "version": "2.7.6"
  }
 },
 "nbformat": 4,
 "nbformat_minor": 0
}