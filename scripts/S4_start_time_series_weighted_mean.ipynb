{
 "cells": [
  {
   "cell_type": "code",
   "execution_count": 32,
   "id": "01b26676",
   "metadata": {},
   "outputs": [],
   "source": [
    "def importdata():\n",
    "    df = pd.read_csv('../data/df_points_18-19-20-21_v1_weather_final.csv')\n",
    "    df = df[['bike_id','lat','lng','timestood','time_start','time_end','hex_id']]\n",
    "    df['time_start'] = pd.to_datetime(df['time_start'])\n",
    "    return df"
   ]
  },
  {
   "cell_type": "code",
   "execution_count": 33,
   "id": "e6560592",
   "metadata": {},
   "outputs": [],
   "source": [
    "def create_onedf_hexid(df,hex_id):\n",
    "    onedfhexid = pd.DataFrame(columns= ['bike_id','lat','lng','timestood','time_start','time_end','flag','hex_id'])\n",
    "    for ind in tqdm(df.index):\n",
    "        if df['hex_id'][ind] == hex_id:\n",
    "            onedfhexid.loc[df.index[ind]] = df.iloc[ind]\n",
    "            #onedfhexid.append(df[ind], ignore_index = True)\n",
    "    return onedfhexid.reset_index(drop=True)"
   ]
  },
  {
   "cell_type": "code",
   "execution_count": 34,
   "id": "e99c1f77",
   "metadata": {},
   "outputs": [],
   "source": [
    "def create_tsdata(_year,_days):\n",
    "    rng = pd.date_range(f'{_year}-01-01', periods=_days, freq='D')\n",
    "    tsdata = pd.DataFrame({ 'date': rng, 'idle_time' : np.nan, 'list': np.nan, 'bike_count': np.nan}) \n",
    "    return tsdata.set_index('date')"
   ]
  },
  {
   "cell_type": "code",
   "execution_count": 35,
   "id": "04ef7983",
   "metadata": {},
   "outputs": [],
   "source": [
    "def add_rows_to_days(tsdata,onedfhexid):\n",
    "    # iteriere über alle Tage\n",
    "    for date in tqdm(tsdata.index):\n",
    "        list = []\n",
    "        # Adde alle Rows in die List wenn Tag = Tag\n",
    "        for ind in onedfhexid.index:\n",
    "            if date.date() == onedfhexid['time_start'][ind].date():\n",
    "                list.append(onedfhexid['timestood'][ind])\n",
    "        #print(len(list))        \n",
    "        # Setze Mittelwert für Tage\n",
    "        if len(list) == 0:\n",
    "            tsdata['bike_count'][date] = 1\n",
    "            continue\n",
    "        else:\n",
    "            tsdata['bike_count'][date] = len(list)\n",
    "            tsdata['idle_time'][date] = statistics.mean(list)\n",
    "    return tsdata"
   ]
  },
  {
   "cell_type": "code",
   "execution_count": 36,
   "id": "64eec561",
   "metadata": {},
   "outputs": [],
   "source": [
    "def get_rows_one_day(day,onedfhexid):\n",
    "    list=[]\n",
    "    for ind in onedfhexid.index:\n",
    "        if day == onedfhexid['time_start'][ind].date():\n",
    "            list.append(onedfhexid['timestood'][ind])\n",
    "    print(list)\n",
    "    print(statistics.mean(list))"
   ]
  },
  {
   "cell_type": "code",
   "execution_count": 37,
   "id": "3b468636",
   "metadata": {},
   "outputs": [],
   "source": [
    "def roling_weighted_mean(tsdata,_year,_days):\n",
    "    x = []\n",
    "    rng2 = pd.date_range(f'{_year}-01-01', periods=_days, freq='D')\n",
    "    data_mean2 = pd.DataFrame({ 'date': rng2, 'idle_time' : np.nan})\n",
    "    data_mean2 = data_mean2.set_index('date')\n",
    "    \n",
    "    for window in tsdata.rolling(window = 7 , center = True):\n",
    "        #print(window)\n",
    "        x.append(np.average(window['idle_time'], weights = window['bike_count']))\n",
    "    \n",
    "    data_mean2['idle_time'] = x\n",
    "    return data_mean2"
   ]
  },
  {
   "cell_type": "code",
   "execution_count": 38,
   "id": "dc7a87be",
   "metadata": {},
   "outputs": [],
   "source": [
    "def plot(x):\n",
    "    fig, ax1 = plt.subplots(figsize = (20,10))\n",
    "    \n",
    "    ax1.plot(x['idle_time'], linewidth=2,color='red', label='Idle Time Mean')\n",
    "    ax1.set_xlabel('day')\n",
    "    ax1.set_ylabel('timestood (min)')\n",
    "    ax1.tick_params(axis ='y', labelcolor = 'red') \n",
    "    \n",
    "    ax2 = ax1.twinx()\n",
    "    ax2.plot(x['bike_count'], linewidth=2, label='bike_count')\n",
    "    ax2.set_ylabel('bike_count')\n",
    "    ax2.tick_params(axis ='y', labelcolor = 'blue')\n",
    "    \n",
    "    plt.show()"
   ]
  },
  {
   "cell_type": "code",
   "execution_count": 39,
   "id": "50d92a87",
   "metadata": {},
   "outputs": [],
   "source": [
    "def plot_details(tsdata,data_7d_rol,data_2m_rol,data_7d_mean2,hex_id,total_bike_count):\n",
    "    fig, ax = plt.subplots(figsize = (20,10))\n",
    "    \n",
    "    # plotting daily data\n",
    "    ax.plot(tsdata['idle_time'], marker='.', markersize=2, color='0.6',linestyle='None', label='Daily')\n",
    "    # plotting 7-day rolling data\n",
    "    ax.plot(data_7d_rol['idle_time'],color = 'blue', linewidth=2, label='7-d Rolling Mean')\n",
    "    ax.plot(data_7d_mean2['idle_time'],color = 'green', linewidth=2, label='7-d Rolling Mean')\n",
    "    # plotting 2-Month rolling data -trend-\n",
    "    ax.plot(data_2m_rol['idle_time'], color='0.2', linewidth=3, label='Trend (2M)')\n",
    "    ax.legend()\n",
    "    ax.set_xlabel('day')\n",
    "    ax.set_ylabel('timestood (min)')\n",
    "    ax.set_title(f'Trends in idel time of bikes in hex: {hex_id} with a total of {total_bike_count} rentals')\n",
    "    \n",
    "    ax2 = ax.twinx()\n",
    "    ax2.plot(data_7d_rol['bike_count'],linewidth=1, color='0.5',label='Bike Count 7-d RM')\n",
    "    ax2.set_xlabel('day')\n",
    "    ax2.set_ylabel('bikes in hex per day')\n",
    "    ax2.legend()\n",
    "    \n",
    "    plt.show()"
   ]
  },
  {
   "cell_type": "code",
   "execution_count": 40,
   "id": "3aa5aba5",
   "metadata": {},
   "outputs": [],
   "source": [
    "def fix_missing_values(tsdata):\n",
    "    data_freq = tsdata.asfreq('D')\n",
    "    data_freq = data_freq.ffill()\n",
    "    return data_freq"
   ]
  },
  {
   "cell_type": "markdown",
   "id": "42f1f959",
   "metadata": {},
   "source": [
    "# Main"
   ]
  },
  {
   "cell_type": "code",
   "execution_count": 41,
   "id": "67d54181",
   "metadata": {},
   "outputs": [],
   "source": [
    "import pandas as pd\n",
    "pd.options.mode.chained_assignment = None\n",
    "from tqdm import tqdm\n",
    "from datetime import timedelta, datetime, date\n",
    "pd.set_option('display.max_rows', None)\n",
    "import weightedstats\n",
    "\n",
    "import numpy as np\n",
    "import statistics\n",
    "import matplotlib.pyplot as plt\n",
    "\n",
    "### Define the HEX_id\n",
    "\n",
    "#hex_id = '8a1f1a8d9d97fff'\n",
    "#hex_id = '8a1f1a8cb4cffff'\n",
    "#hex_id = '8a1f1a8cb4dffff'\n",
    "#hex_id = '8a1f1a8cb71ffff'\n",
    "hex_id = '881f1a8cb7fffff'\n",
    "\n",
    "days=1364\n",
    "year=2018\n",
    "data_columns = ['idle_time','bike_count']\n"
   ]
  },
  {
   "cell_type": "code",
   "execution_count": 18,
   "id": "43a6058a",
   "metadata": {},
   "outputs": [
    {
     "name": "stderr",
     "output_type": "stream",
     "text": [
      "100%|███████████████████████████████| 2435439/2435439 [13:37<00:00, 2977.48it/s]\n",
      "  1%|▌                                        | 18/1364 [00:20<25:53,  1.15s/it]\n"
     ]
    },
    {
     "ename": "KeyboardInterrupt",
     "evalue": "",
     "output_type": "error",
     "traceback": [
      "\u001B[0;31m---------------------------------------------------------------------------\u001B[0m",
      "\u001B[0;31mKeyboardInterrupt\u001B[0m                         Traceback (most recent call last)",
      "\u001B[0;32m/var/folders/5t/28jzvs016nq5vxslb670gs040000gn/T/ipykernel_3968/3317837031.py\u001B[0m in \u001B[0;36m<module>\u001B[0;34m\u001B[0m\n\u001B[1;32m      3\u001B[0m \u001B[0monedfhexid\u001B[0m \u001B[0;34m=\u001B[0m \u001B[0mcreate_onedf_hexid\u001B[0m\u001B[0;34m(\u001B[0m\u001B[0mdf\u001B[0m\u001B[0;34m,\u001B[0m\u001B[0mhex_id\u001B[0m\u001B[0;34m)\u001B[0m\u001B[0;34m\u001B[0m\u001B[0;34m\u001B[0m\u001B[0m\n\u001B[1;32m      4\u001B[0m \u001B[0mtsdata\u001B[0m \u001B[0;34m=\u001B[0m \u001B[0mcreate_tsdata\u001B[0m\u001B[0;34m(\u001B[0m\u001B[0myear\u001B[0m\u001B[0;34m,\u001B[0m\u001B[0mdays\u001B[0m\u001B[0;34m)\u001B[0m\u001B[0;34m\u001B[0m\u001B[0;34m\u001B[0m\u001B[0m\n\u001B[0;32m----> 5\u001B[0;31m \u001B[0mtsdata\u001B[0m \u001B[0;34m=\u001B[0m \u001B[0madd_rows_to_days\u001B[0m\u001B[0;34m(\u001B[0m\u001B[0mtsdata\u001B[0m\u001B[0;34m,\u001B[0m\u001B[0monedfhexid\u001B[0m\u001B[0;34m)\u001B[0m\u001B[0;34m\u001B[0m\u001B[0;34m\u001B[0m\u001B[0m\n\u001B[0m",
      "\u001B[0;32m/var/folders/5t/28jzvs016nq5vxslb670gs040000gn/T/ipykernel_3968/1550435662.py\u001B[0m in \u001B[0;36madd_rows_to_days\u001B[0;34m(tsdata, onedfhexid)\u001B[0m\n\u001B[1;32m      5\u001B[0m         \u001B[0;31m# Adde alle Rows in die List wenn Tag = Tag\u001B[0m\u001B[0;34m\u001B[0m\u001B[0;34m\u001B[0m\u001B[0m\n\u001B[1;32m      6\u001B[0m         \u001B[0;32mfor\u001B[0m \u001B[0mind\u001B[0m \u001B[0;32min\u001B[0m \u001B[0monedfhexid\u001B[0m\u001B[0;34m.\u001B[0m\u001B[0mindex\u001B[0m\u001B[0;34m:\u001B[0m\u001B[0;34m\u001B[0m\u001B[0;34m\u001B[0m\u001B[0m\n\u001B[0;32m----> 7\u001B[0;31m             \u001B[0;32mif\u001B[0m \u001B[0mdate\u001B[0m\u001B[0;34m.\u001B[0m\u001B[0mdate\u001B[0m\u001B[0;34m(\u001B[0m\u001B[0;34m)\u001B[0m \u001B[0;34m==\u001B[0m \u001B[0monedfhexid\u001B[0m\u001B[0;34m[\u001B[0m\u001B[0;34m'time_start'\u001B[0m\u001B[0;34m]\u001B[0m\u001B[0;34m[\u001B[0m\u001B[0mind\u001B[0m\u001B[0;34m]\u001B[0m\u001B[0;34m.\u001B[0m\u001B[0mdate\u001B[0m\u001B[0;34m(\u001B[0m\u001B[0;34m)\u001B[0m\u001B[0;34m:\u001B[0m\u001B[0;34m\u001B[0m\u001B[0;34m\u001B[0m\u001B[0m\n\u001B[0m\u001B[1;32m      8\u001B[0m                 \u001B[0mlist\u001B[0m\u001B[0;34m.\u001B[0m\u001B[0mappend\u001B[0m\u001B[0;34m(\u001B[0m\u001B[0monedfhexid\u001B[0m\u001B[0;34m[\u001B[0m\u001B[0;34m'timestood'\u001B[0m\u001B[0;34m]\u001B[0m\u001B[0;34m[\u001B[0m\u001B[0mind\u001B[0m\u001B[0;34m]\u001B[0m\u001B[0;34m)\u001B[0m\u001B[0;34m\u001B[0m\u001B[0;34m\u001B[0m\u001B[0m\n\u001B[1;32m      9\u001B[0m         \u001B[0;31m#print(len(list))\u001B[0m\u001B[0;34m\u001B[0m\u001B[0;34m\u001B[0m\u001B[0m\n",
      "\u001B[0;32m/usr/local/Caskroom/miniconda/base/envs/geobike/lib/python3.9/site-packages/pandas/core/series.py\u001B[0m in \u001B[0;36m__getitem__\u001B[0;34m(self, key)\u001B[0m\n\u001B[1;32m    940\u001B[0m \u001B[0;34m\u001B[0m\u001B[0m\n\u001B[1;32m    941\u001B[0m         \u001B[0;32melif\u001B[0m \u001B[0mkey_is_scalar\u001B[0m\u001B[0;34m:\u001B[0m\u001B[0;34m\u001B[0m\u001B[0;34m\u001B[0m\u001B[0m\n\u001B[0;32m--> 942\u001B[0;31m             \u001B[0;32mreturn\u001B[0m \u001B[0mself\u001B[0m\u001B[0;34m.\u001B[0m\u001B[0m_get_value\u001B[0m\u001B[0;34m(\u001B[0m\u001B[0mkey\u001B[0m\u001B[0;34m)\u001B[0m\u001B[0;34m\u001B[0m\u001B[0;34m\u001B[0m\u001B[0m\n\u001B[0m\u001B[1;32m    943\u001B[0m \u001B[0;34m\u001B[0m\u001B[0m\n\u001B[1;32m    944\u001B[0m         \u001B[0;32mif\u001B[0m \u001B[0mis_hashable\u001B[0m\u001B[0;34m(\u001B[0m\u001B[0mkey\u001B[0m\u001B[0;34m)\u001B[0m\u001B[0;34m:\u001B[0m\u001B[0;34m\u001B[0m\u001B[0;34m\u001B[0m\u001B[0m\n",
      "\u001B[0;32m/usr/local/Caskroom/miniconda/base/envs/geobike/lib/python3.9/site-packages/pandas/core/series.py\u001B[0m in \u001B[0;36m_get_value\u001B[0;34m(self, label, takeable)\u001B[0m\n\u001B[1;32m   1050\u001B[0m         \u001B[0;31m# Similar to Index.get_value, but we do not fall back to positional\u001B[0m\u001B[0;34m\u001B[0m\u001B[0;34m\u001B[0m\u001B[0m\n\u001B[1;32m   1051\u001B[0m         \u001B[0mloc\u001B[0m \u001B[0;34m=\u001B[0m \u001B[0mself\u001B[0m\u001B[0;34m.\u001B[0m\u001B[0mindex\u001B[0m\u001B[0;34m.\u001B[0m\u001B[0mget_loc\u001B[0m\u001B[0;34m(\u001B[0m\u001B[0mlabel\u001B[0m\u001B[0;34m)\u001B[0m\u001B[0;34m\u001B[0m\u001B[0;34m\u001B[0m\u001B[0m\n\u001B[0;32m-> 1052\u001B[0;31m         \u001B[0;32mreturn\u001B[0m \u001B[0mself\u001B[0m\u001B[0;34m.\u001B[0m\u001B[0mindex\u001B[0m\u001B[0;34m.\u001B[0m\u001B[0m_get_values_for_loc\u001B[0m\u001B[0;34m(\u001B[0m\u001B[0mself\u001B[0m\u001B[0;34m,\u001B[0m \u001B[0mloc\u001B[0m\u001B[0;34m,\u001B[0m \u001B[0mlabel\u001B[0m\u001B[0;34m)\u001B[0m\u001B[0;34m\u001B[0m\u001B[0;34m\u001B[0m\u001B[0m\n\u001B[0m\u001B[1;32m   1053\u001B[0m \u001B[0;34m\u001B[0m\u001B[0m\n\u001B[1;32m   1054\u001B[0m     \u001B[0;32mdef\u001B[0m \u001B[0m__setitem__\u001B[0m\u001B[0;34m(\u001B[0m\u001B[0mself\u001B[0m\u001B[0;34m,\u001B[0m \u001B[0mkey\u001B[0m\u001B[0;34m,\u001B[0m \u001B[0mvalue\u001B[0m\u001B[0;34m)\u001B[0m \u001B[0;34m->\u001B[0m \u001B[0;32mNone\u001B[0m\u001B[0;34m:\u001B[0m\u001B[0;34m\u001B[0m\u001B[0;34m\u001B[0m\u001B[0m\n",
      "\u001B[0;32m/usr/local/Caskroom/miniconda/base/envs/geobike/lib/python3.9/site-packages/pandas/core/indexes/base.py\u001B[0m in \u001B[0;36m_get_values_for_loc\u001B[0;34m(self, series, loc, key)\u001B[0m\n\u001B[1;32m   5182\u001B[0m         \"\"\"\n\u001B[1;32m   5183\u001B[0m         \u001B[0;32mif\u001B[0m \u001B[0mis_integer\u001B[0m\u001B[0;34m(\u001B[0m\u001B[0mloc\u001B[0m\u001B[0;34m)\u001B[0m\u001B[0;34m:\u001B[0m\u001B[0;34m\u001B[0m\u001B[0;34m\u001B[0m\u001B[0m\n\u001B[0;32m-> 5184\u001B[0;31m             \u001B[0;32mreturn\u001B[0m \u001B[0mseries\u001B[0m\u001B[0;34m.\u001B[0m\u001B[0m_values\u001B[0m\u001B[0;34m[\u001B[0m\u001B[0mloc\u001B[0m\u001B[0;34m]\u001B[0m\u001B[0;34m\u001B[0m\u001B[0;34m\u001B[0m\u001B[0m\n\u001B[0m\u001B[1;32m   5185\u001B[0m \u001B[0;34m\u001B[0m\u001B[0m\n\u001B[1;32m   5186\u001B[0m         \u001B[0;32mreturn\u001B[0m \u001B[0mseries\u001B[0m\u001B[0;34m.\u001B[0m\u001B[0miloc\u001B[0m\u001B[0;34m[\u001B[0m\u001B[0mloc\u001B[0m\u001B[0;34m]\u001B[0m\u001B[0;34m\u001B[0m\u001B[0;34m\u001B[0m\u001B[0m\n",
      "\u001B[0;32m/usr/local/Caskroom/miniconda/base/envs/geobike/lib/python3.9/site-packages/pandas/core/arrays/datetimelike.py\u001B[0m in \u001B[0;36m__getitem__\u001B[0;34m(self, key)\u001B[0m\n\u001B[1;32m    320\u001B[0m         \u001B[0monly\u001B[0m \u001B[0mhandle\u001B[0m \u001B[0mlist\u001B[0m\u001B[0;34m-\u001B[0m\u001B[0mlikes\u001B[0m\u001B[0;34m,\u001B[0m \u001B[0mslices\u001B[0m\u001B[0;34m,\u001B[0m \u001B[0;32mand\u001B[0m \u001B[0minteger\u001B[0m \u001B[0mscalars\u001B[0m\u001B[0;34m\u001B[0m\u001B[0;34m\u001B[0m\u001B[0m\n\u001B[1;32m    321\u001B[0m         \"\"\"\n\u001B[0;32m--> 322\u001B[0;31m         \u001B[0mresult\u001B[0m \u001B[0;34m=\u001B[0m \u001B[0msuper\u001B[0m\u001B[0;34m(\u001B[0m\u001B[0;34m)\u001B[0m\u001B[0;34m.\u001B[0m\u001B[0m__getitem__\u001B[0m\u001B[0;34m(\u001B[0m\u001B[0mkey\u001B[0m\u001B[0;34m)\u001B[0m\u001B[0;34m\u001B[0m\u001B[0;34m\u001B[0m\u001B[0m\n\u001B[0m\u001B[1;32m    323\u001B[0m         \u001B[0;32mif\u001B[0m \u001B[0mlib\u001B[0m\u001B[0;34m.\u001B[0m\u001B[0mis_scalar\u001B[0m\u001B[0;34m(\u001B[0m\u001B[0mresult\u001B[0m\u001B[0;34m)\u001B[0m\u001B[0;34m:\u001B[0m\u001B[0;34m\u001B[0m\u001B[0;34m\u001B[0m\u001B[0m\n\u001B[1;32m    324\u001B[0m             \u001B[0;32mreturn\u001B[0m \u001B[0mresult\u001B[0m\u001B[0;34m\u001B[0m\u001B[0;34m\u001B[0m\u001B[0m\n",
      "\u001B[0;32m/usr/local/Caskroom/miniconda/base/envs/geobike/lib/python3.9/site-packages/pandas/core/arrays/_mixins.py\u001B[0m in \u001B[0;36m__getitem__\u001B[0;34m(self, key)\u001B[0m\n\u001B[1;32m    194\u001B[0m             \u001B[0mresult\u001B[0m \u001B[0;34m=\u001B[0m \u001B[0mself\u001B[0m\u001B[0;34m.\u001B[0m\u001B[0m_ndarray\u001B[0m\u001B[0;34m[\u001B[0m\u001B[0mkey\u001B[0m\u001B[0;34m]\u001B[0m\u001B[0;34m\u001B[0m\u001B[0;34m\u001B[0m\u001B[0m\n\u001B[1;32m    195\u001B[0m             \u001B[0;32mif\u001B[0m \u001B[0mself\u001B[0m\u001B[0;34m.\u001B[0m\u001B[0mndim\u001B[0m \u001B[0;34m==\u001B[0m \u001B[0;36m1\u001B[0m\u001B[0;34m:\u001B[0m\u001B[0;34m\u001B[0m\u001B[0;34m\u001B[0m\u001B[0m\n\u001B[0;32m--> 196\u001B[0;31m                 \u001B[0;32mreturn\u001B[0m \u001B[0mself\u001B[0m\u001B[0;34m.\u001B[0m\u001B[0m_box_func\u001B[0m\u001B[0;34m(\u001B[0m\u001B[0mresult\u001B[0m\u001B[0;34m)\u001B[0m\u001B[0;34m\u001B[0m\u001B[0;34m\u001B[0m\u001B[0m\n\u001B[0m\u001B[1;32m    197\u001B[0m             \u001B[0;32mreturn\u001B[0m \u001B[0mself\u001B[0m\u001B[0;34m.\u001B[0m\u001B[0m_from_backing_data\u001B[0m\u001B[0;34m(\u001B[0m\u001B[0mresult\u001B[0m\u001B[0;34m)\u001B[0m\u001B[0;34m\u001B[0m\u001B[0;34m\u001B[0m\u001B[0m\n\u001B[1;32m    198\u001B[0m \u001B[0;34m\u001B[0m\u001B[0m\n",
      "\u001B[0;32m/usr/local/Caskroom/miniconda/base/envs/geobike/lib/python3.9/site-packages/pandas/core/arrays/datetimes.py\u001B[0m in \u001B[0;36m_box_func\u001B[0;34m(self, x)\u001B[0m\n\u001B[1;32m    510\u001B[0m \u001B[0;34m\u001B[0m\u001B[0m\n\u001B[1;32m    511\u001B[0m     \u001B[0;32mdef\u001B[0m \u001B[0m_box_func\u001B[0m\u001B[0;34m(\u001B[0m\u001B[0mself\u001B[0m\u001B[0;34m,\u001B[0m \u001B[0mx\u001B[0m\u001B[0;34m)\u001B[0m \u001B[0;34m->\u001B[0m \u001B[0mTimestamp\u001B[0m \u001B[0;34m|\u001B[0m \u001B[0mNaTType\u001B[0m\u001B[0;34m:\u001B[0m\u001B[0;34m\u001B[0m\u001B[0;34m\u001B[0m\u001B[0m\n\u001B[0;32m--> 512\u001B[0;31m         \u001B[0mts\u001B[0m \u001B[0;34m=\u001B[0m \u001B[0mTimestamp\u001B[0m\u001B[0;34m(\u001B[0m\u001B[0mx\u001B[0m\u001B[0;34m,\u001B[0m \u001B[0mtz\u001B[0m\u001B[0;34m=\u001B[0m\u001B[0mself\u001B[0m\u001B[0;34m.\u001B[0m\u001B[0mtz\u001B[0m\u001B[0;34m)\u001B[0m\u001B[0;34m\u001B[0m\u001B[0;34m\u001B[0m\u001B[0m\n\u001B[0m\u001B[1;32m    513\u001B[0m         \u001B[0;31m# Non-overlapping identity check (left operand type: \"Timestamp\",\u001B[0m\u001B[0;34m\u001B[0m\u001B[0;34m\u001B[0m\u001B[0m\n\u001B[1;32m    514\u001B[0m         \u001B[0;31m# right operand type: \"NaTType\")\u001B[0m\u001B[0;34m\u001B[0m\u001B[0;34m\u001B[0m\u001B[0m\n",
      "\u001B[0;31mKeyboardInterrupt\u001B[0m: "
     ]
    }
   ],
   "source": [
    "# create tsdata\n",
    "df = importdata()\n",
    "onedfhexid = create_onedf_hexid(df,hex_id)\n",
    "tsdata = create_tsdata(year,days)\n",
    "tsdata = add_rows_to_days(tsdata,onedfhexid)\n"
   ]
  },
  {
   "cell_type": "code",
   "execution_count": 42,
   "id": "df56e7b6",
   "metadata": {},
   "outputs": [
    {
     "data": {
      "text/html": [
       "<div>\n",
       "<style scoped>\n",
       "    .dataframe tbody tr th:only-of-type {\n",
       "        vertical-align: middle;\n",
       "    }\n",
       "\n",
       "    .dataframe tbody tr th {\n",
       "        vertical-align: top;\n",
       "    }\n",
       "\n",
       "    .dataframe thead th {\n",
       "        text-align: right;\n",
       "    }\n",
       "</style>\n",
       "<table border=\"1\" class=\"dataframe\">\n",
       "  <thead>\n",
       "    <tr style=\"text-align: right;\">\n",
       "      <th></th>\n",
       "      <th>idle_time</th>\n",
       "      <th>bike_count</th>\n",
       "      <th>Yesterday</th>\n",
       "      <th>Yesterday_Diff</th>\n",
       "      <th>temp</th>\n",
       "      <th>rain</th>\n",
       "      <th>snow</th>\n",
       "      <th>Last_Week</th>\n",
       "      <th>Last_Week_Diff</th>\n",
       "      <th>Last_Year</th>\n",
       "      <th>Last_Year_Diff</th>\n",
       "    </tr>\n",
       "  </thead>\n",
       "  <tbody>\n",
       "    <tr>\n",
       "      <th>1359</th>\n",
       "      <td>79.357143</td>\n",
       "      <td>84.0</td>\n",
       "      <td>90.793103</td>\n",
       "      <td>-0.312957</td>\n",
       "      <td>16.03</td>\n",
       "      <td>0.0</td>\n",
       "      <td>0.0</td>\n",
       "      <td>69.884211</td>\n",
       "      <td>-34.541321</td>\n",
       "      <td>110.931677</td>\n",
       "      <td>25.651374</td>\n",
       "    </tr>\n",
       "    <tr>\n",
       "      <th>1360</th>\n",
       "      <td>106.333333</td>\n",
       "      <td>63.0</td>\n",
       "      <td>79.357143</td>\n",
       "      <td>-11.435961</td>\n",
       "      <td>17.38</td>\n",
       "      <td>0.0</td>\n",
       "      <td>0.0</td>\n",
       "      <td>172.236842</td>\n",
       "      <td>102.352632</td>\n",
       "      <td>98.740260</td>\n",
       "      <td>-12.191417</td>\n",
       "    </tr>\n",
       "    <tr>\n",
       "      <th>1361</th>\n",
       "      <td>76.300000</td>\n",
       "      <td>90.0</td>\n",
       "      <td>106.333333</td>\n",
       "      <td>26.976190</td>\n",
       "      <td>21.96</td>\n",
       "      <td>0.0</td>\n",
       "      <td>0.0</td>\n",
       "      <td>92.901099</td>\n",
       "      <td>-79.335743</td>\n",
       "      <td>111.183908</td>\n",
       "      <td>12.443648</td>\n",
       "    </tr>\n",
       "    <tr>\n",
       "      <th>1362</th>\n",
       "      <td>96.343511</td>\n",
       "      <td>131.0</td>\n",
       "      <td>76.300000</td>\n",
       "      <td>-30.033333</td>\n",
       "      <td>17.75</td>\n",
       "      <td>0.0</td>\n",
       "      <td>0.0</td>\n",
       "      <td>66.949367</td>\n",
       "      <td>-25.951732</td>\n",
       "      <td>117.342391</td>\n",
       "      <td>6.158483</td>\n",
       "    </tr>\n",
       "    <tr>\n",
       "      <th>1363</th>\n",
       "      <td>62.956989</td>\n",
       "      <td>93.0</td>\n",
       "      <td>96.343511</td>\n",
       "      <td>20.043511</td>\n",
       "      <td>21.81</td>\n",
       "      <td>0.0</td>\n",
       "      <td>0.0</td>\n",
       "      <td>89.529412</td>\n",
       "      <td>22.580045</td>\n",
       "      <td>151.321839</td>\n",
       "      <td>33.979448</td>\n",
       "    </tr>\n",
       "  </tbody>\n",
       "</table>\n",
       "</div>"
      ],
      "text/plain": [
       "       idle_time  bike_count   Yesterday  Yesterday_Diff   temp  rain  snow  \\\n",
       "1359   79.357143        84.0   90.793103       -0.312957  16.03   0.0   0.0   \n",
       "1360  106.333333        63.0   79.357143      -11.435961  17.38   0.0   0.0   \n",
       "1361   76.300000        90.0  106.333333       26.976190  21.96   0.0   0.0   \n",
       "1362   96.343511       131.0   76.300000      -30.033333  17.75   0.0   0.0   \n",
       "1363   62.956989        93.0   96.343511       20.043511  21.81   0.0   0.0   \n",
       "\n",
       "       Last_Week  Last_Week_Diff   Last_Year  Last_Year_Diff  \n",
       "1359   69.884211      -34.541321  110.931677       25.651374  \n",
       "1360  172.236842      102.352632   98.740260      -12.191417  \n",
       "1361   92.901099      -79.335743  111.183908       12.443648  \n",
       "1362   66.949367      -25.951732  117.342391        6.158483  \n",
       "1363   89.529412       22.580045  151.321839       33.979448  "
      ]
     },
     "execution_count": 42,
     "metadata": {},
     "output_type": "execute_result"
    }
   ],
   "source": [
    "# Import tsdata\n",
    "tsdata = pd.read_csv('../data/ts_data_hex_881f1a8cb7fffff_3y.csv')\n",
    "tsdata.tail()"
   ]
  },
  {
   "cell_type": "code",
   "execution_count": 43,
   "id": "245f0d04",
   "metadata": {},
   "outputs": [
    {
     "ename": "ValueError",
     "evalue": "Length of values (1) does not match length of index (1364)",
     "output_type": "error",
     "traceback": [
      "\u001B[0;31m---------------------------------------------------------------------------\u001B[0m",
      "\u001B[0;31mValueError\u001B[0m                                Traceback (most recent call last)",
      "\u001B[0;32m/var/folders/5t/28jzvs016nq5vxslb670gs040000gn/T/ipykernel_4202/448810634.py\u001B[0m in \u001B[0;36m<module>\u001B[0;34m\u001B[0m\n\u001B[1;32m      4\u001B[0m \u001B[0mdata_7d_rol\u001B[0m \u001B[0;34m=\u001B[0m \u001B[0mtsdata\u001B[0m\u001B[0;34m[\u001B[0m\u001B[0mdata_columns\u001B[0m\u001B[0;34m]\u001B[0m\u001B[0;34m.\u001B[0m\u001B[0mrolling\u001B[0m\u001B[0;34m(\u001B[0m\u001B[0mwindow\u001B[0m \u001B[0;34m=\u001B[0m \u001B[0;36m7\u001B[0m\u001B[0;34m,\u001B[0m \u001B[0mcenter\u001B[0m \u001B[0;34m=\u001B[0m \u001B[0;32mTrue\u001B[0m\u001B[0;34m)\u001B[0m\u001B[0;34m.\u001B[0m\u001B[0mmean\u001B[0m\u001B[0;34m(\u001B[0m\u001B[0;34m)\u001B[0m\u001B[0;34m\u001B[0m\u001B[0;34m\u001B[0m\u001B[0m\n\u001B[1;32m      5\u001B[0m \u001B[0mdata_2m_rol\u001B[0m \u001B[0;34m=\u001B[0m \u001B[0mtsdata\u001B[0m\u001B[0;34m[\u001B[0m\u001B[0mdata_columns\u001B[0m\u001B[0;34m]\u001B[0m\u001B[0;34m.\u001B[0m\u001B[0mrolling\u001B[0m\u001B[0;34m(\u001B[0m\u001B[0mwindow\u001B[0m \u001B[0;34m=\u001B[0m \u001B[0;36m60\u001B[0m\u001B[0;34m,\u001B[0m \u001B[0mcenter\u001B[0m \u001B[0;34m=\u001B[0m \u001B[0;32mTrue\u001B[0m\u001B[0;34m)\u001B[0m\u001B[0;34m.\u001B[0m\u001B[0mmean\u001B[0m\u001B[0;34m(\u001B[0m\u001B[0;34m)\u001B[0m\u001B[0;34m\u001B[0m\u001B[0;34m\u001B[0m\u001B[0m\n\u001B[0;32m----> 6\u001B[0;31m \u001B[0mdata_7d_mean2\u001B[0m \u001B[0;34m=\u001B[0m \u001B[0mroling_weighted_mean\u001B[0m\u001B[0;34m(\u001B[0m\u001B[0mtsdata\u001B[0m\u001B[0;34m,\u001B[0m\u001B[0myear\u001B[0m\u001B[0;34m,\u001B[0m\u001B[0mdays\u001B[0m\u001B[0;34m)\u001B[0m\u001B[0;34m\u001B[0m\u001B[0;34m\u001B[0m\u001B[0m\n\u001B[0m\u001B[1;32m      7\u001B[0m \u001B[0;34m\u001B[0m\u001B[0m\n\u001B[1;32m      8\u001B[0m \u001B[0mplot_details\u001B[0m\u001B[0;34m(\u001B[0m\u001B[0mtsdata\u001B[0m\u001B[0;34m,\u001B[0m\u001B[0mdata_7d_rol\u001B[0m\u001B[0;34m,\u001B[0m\u001B[0mdata_2m_rol\u001B[0m\u001B[0;34m,\u001B[0m\u001B[0mdata_7d_mean2\u001B[0m\u001B[0;34m,\u001B[0m\u001B[0mhex_id\u001B[0m\u001B[0;34m,\u001B[0m\u001B[0mtotal_bike_count\u001B[0m\u001B[0;34m)\u001B[0m\u001B[0;34m\u001B[0m\u001B[0;34m\u001B[0m\u001B[0m\n",
      "\u001B[0;32m/var/folders/5t/28jzvs016nq5vxslb670gs040000gn/T/ipykernel_4202/1976662551.py\u001B[0m in \u001B[0;36mroling_weighted_mean\u001B[0;34m(tsdata, _year, _days)\u001B[0m\n\u001B[1;32m      9\u001B[0m         \u001B[0mx\u001B[0m\u001B[0;34m.\u001B[0m\u001B[0mappend\u001B[0m\u001B[0;34m(\u001B[0m\u001B[0mnp\u001B[0m\u001B[0;34m.\u001B[0m\u001B[0maverage\u001B[0m\u001B[0;34m(\u001B[0m\u001B[0mwindow\u001B[0m\u001B[0;34m[\u001B[0m\u001B[0;34m'idle_time'\u001B[0m\u001B[0;34m]\u001B[0m\u001B[0;34m,\u001B[0m \u001B[0mweights\u001B[0m \u001B[0;34m=\u001B[0m \u001B[0mwindow\u001B[0m\u001B[0;34m[\u001B[0m\u001B[0;34m'bike_count'\u001B[0m\u001B[0;34m]\u001B[0m\u001B[0;34m)\u001B[0m\u001B[0;34m)\u001B[0m\u001B[0;34m\u001B[0m\u001B[0;34m\u001B[0m\u001B[0m\n\u001B[1;32m     10\u001B[0m \u001B[0;34m\u001B[0m\u001B[0m\n\u001B[0;32m---> 11\u001B[0;31m     \u001B[0mdata_mean2\u001B[0m\u001B[0;34m[\u001B[0m\u001B[0;34m'idle_time'\u001B[0m\u001B[0;34m]\u001B[0m \u001B[0;34m=\u001B[0m \u001B[0mx\u001B[0m\u001B[0;34m\u001B[0m\u001B[0;34m\u001B[0m\u001B[0m\n\u001B[0m\u001B[1;32m     12\u001B[0m     \u001B[0;32mreturn\u001B[0m \u001B[0mdata_mean2\u001B[0m\u001B[0;34m\u001B[0m\u001B[0;34m\u001B[0m\u001B[0m\n",
      "\u001B[0;32m/usr/local/Caskroom/miniconda/base/envs/geobike/lib/python3.9/site-packages/pandas/core/frame.py\u001B[0m in \u001B[0;36m__setitem__\u001B[0;34m(self, key, value)\u001B[0m\n\u001B[1;32m   3610\u001B[0m         \u001B[0;32melse\u001B[0m\u001B[0;34m:\u001B[0m\u001B[0;34m\u001B[0m\u001B[0;34m\u001B[0m\u001B[0m\n\u001B[1;32m   3611\u001B[0m             \u001B[0;31m# set column\u001B[0m\u001B[0;34m\u001B[0m\u001B[0;34m\u001B[0m\u001B[0m\n\u001B[0;32m-> 3612\u001B[0;31m             \u001B[0mself\u001B[0m\u001B[0;34m.\u001B[0m\u001B[0m_set_item\u001B[0m\u001B[0;34m(\u001B[0m\u001B[0mkey\u001B[0m\u001B[0;34m,\u001B[0m \u001B[0mvalue\u001B[0m\u001B[0;34m)\u001B[0m\u001B[0;34m\u001B[0m\u001B[0;34m\u001B[0m\u001B[0m\n\u001B[0m\u001B[1;32m   3613\u001B[0m \u001B[0;34m\u001B[0m\u001B[0m\n\u001B[1;32m   3614\u001B[0m     \u001B[0;32mdef\u001B[0m \u001B[0m_setitem_slice\u001B[0m\u001B[0;34m(\u001B[0m\u001B[0mself\u001B[0m\u001B[0;34m,\u001B[0m \u001B[0mkey\u001B[0m\u001B[0;34m:\u001B[0m \u001B[0mslice\u001B[0m\u001B[0;34m,\u001B[0m \u001B[0mvalue\u001B[0m\u001B[0;34m)\u001B[0m\u001B[0;34m:\u001B[0m\u001B[0;34m\u001B[0m\u001B[0;34m\u001B[0m\u001B[0m\n",
      "\u001B[0;32m/usr/local/Caskroom/miniconda/base/envs/geobike/lib/python3.9/site-packages/pandas/core/frame.py\u001B[0m in \u001B[0;36m_set_item\u001B[0;34m(self, key, value)\u001B[0m\n\u001B[1;32m   3782\u001B[0m         \u001B[0mensure\u001B[0m \u001B[0mhomogeneity\u001B[0m\u001B[0;34m.\u001B[0m\u001B[0;34m\u001B[0m\u001B[0;34m\u001B[0m\u001B[0m\n\u001B[1;32m   3783\u001B[0m         \"\"\"\n\u001B[0;32m-> 3784\u001B[0;31m         \u001B[0mvalue\u001B[0m \u001B[0;34m=\u001B[0m \u001B[0mself\u001B[0m\u001B[0;34m.\u001B[0m\u001B[0m_sanitize_column\u001B[0m\u001B[0;34m(\u001B[0m\u001B[0mvalue\u001B[0m\u001B[0;34m)\u001B[0m\u001B[0;34m\u001B[0m\u001B[0;34m\u001B[0m\u001B[0m\n\u001B[0m\u001B[1;32m   3785\u001B[0m \u001B[0;34m\u001B[0m\u001B[0m\n\u001B[1;32m   3786\u001B[0m         if (\n",
      "\u001B[0;32m/usr/local/Caskroom/miniconda/base/envs/geobike/lib/python3.9/site-packages/pandas/core/frame.py\u001B[0m in \u001B[0;36m_sanitize_column\u001B[0;34m(self, value)\u001B[0m\n\u001B[1;32m   4507\u001B[0m \u001B[0;34m\u001B[0m\u001B[0m\n\u001B[1;32m   4508\u001B[0m         \u001B[0;32mif\u001B[0m \u001B[0mis_list_like\u001B[0m\u001B[0;34m(\u001B[0m\u001B[0mvalue\u001B[0m\u001B[0;34m)\u001B[0m\u001B[0;34m:\u001B[0m\u001B[0;34m\u001B[0m\u001B[0;34m\u001B[0m\u001B[0m\n\u001B[0;32m-> 4509\u001B[0;31m             \u001B[0mcom\u001B[0m\u001B[0;34m.\u001B[0m\u001B[0mrequire_length_match\u001B[0m\u001B[0;34m(\u001B[0m\u001B[0mvalue\u001B[0m\u001B[0;34m,\u001B[0m \u001B[0mself\u001B[0m\u001B[0;34m.\u001B[0m\u001B[0mindex\u001B[0m\u001B[0;34m)\u001B[0m\u001B[0;34m\u001B[0m\u001B[0;34m\u001B[0m\u001B[0m\n\u001B[0m\u001B[1;32m   4510\u001B[0m         \u001B[0;32mreturn\u001B[0m \u001B[0msanitize_array\u001B[0m\u001B[0;34m(\u001B[0m\u001B[0mvalue\u001B[0m\u001B[0;34m,\u001B[0m \u001B[0mself\u001B[0m\u001B[0;34m.\u001B[0m\u001B[0mindex\u001B[0m\u001B[0;34m,\u001B[0m \u001B[0mcopy\u001B[0m\u001B[0;34m=\u001B[0m\u001B[0;32mTrue\u001B[0m\u001B[0;34m,\u001B[0m \u001B[0mallow_2d\u001B[0m\u001B[0;34m=\u001B[0m\u001B[0;32mTrue\u001B[0m\u001B[0;34m)\u001B[0m\u001B[0;34m\u001B[0m\u001B[0;34m\u001B[0m\u001B[0m\n\u001B[1;32m   4511\u001B[0m \u001B[0;34m\u001B[0m\u001B[0m\n",
      "\u001B[0;32m/usr/local/Caskroom/miniconda/base/envs/geobike/lib/python3.9/site-packages/pandas/core/common.py\u001B[0m in \u001B[0;36mrequire_length_match\u001B[0;34m(data, index)\u001B[0m\n\u001B[1;32m    529\u001B[0m     \"\"\"\n\u001B[1;32m    530\u001B[0m     \u001B[0;32mif\u001B[0m \u001B[0mlen\u001B[0m\u001B[0;34m(\u001B[0m\u001B[0mdata\u001B[0m\u001B[0;34m)\u001B[0m \u001B[0;34m!=\u001B[0m \u001B[0mlen\u001B[0m\u001B[0;34m(\u001B[0m\u001B[0mindex\u001B[0m\u001B[0;34m)\u001B[0m\u001B[0;34m:\u001B[0m\u001B[0;34m\u001B[0m\u001B[0;34m\u001B[0m\u001B[0m\n\u001B[0;32m--> 531\u001B[0;31m         raise ValueError(\n\u001B[0m\u001B[1;32m    532\u001B[0m             \u001B[0;34m\"Length of values \"\u001B[0m\u001B[0;34m\u001B[0m\u001B[0;34m\u001B[0m\u001B[0m\n\u001B[1;32m    533\u001B[0m             \u001B[0;34mf\"({len(data)}) \"\u001B[0m\u001B[0;34m\u001B[0m\u001B[0;34m\u001B[0m\u001B[0m\n",
      "\u001B[0;31mValueError\u001B[0m: Length of values (1) does not match length of index (1364)"
     ]
    }
   ],
   "source": [
    "tsdata = fix_missing_values(tsdata)\n",
    "total_bike_count = int(tsdata['bike_count'].sum())\n",
    "\n",
    "data_7d_rol = tsdata[data_columns].rolling(window = 7, center = True).mean()\n",
    "data_2m_rol = tsdata[data_columns].rolling(window = 60, center = True).mean()\n",
    "data_7d_mean2 = roling_weighted_mean(tsdata,year,days)\n",
    "\n",
    "plot_details(tsdata,data_7d_rol,data_2m_rol,data_7d_mean2,hex_id,total_bike_count)"
   ]
  },
  {
   "cell_type": "markdown",
   "id": "97a0f702",
   "metadata": {},
   "source": [
    "# Begin Predicition"
   ]
  },
  {
   "cell_type": "code",
   "execution_count": 44,
   "id": "fae6fb5d",
   "metadata": {
    "pycharm": {
     "name": "#%%\n"
    }
   },
   "outputs": [
    {
     "name": "stderr",
     "output_type": "stream",
     "text": [
      "  0%|                                                     | 0/1 [00:00<?, ?it/s]\n"
     ]
    },
    {
     "ename": "KeyError",
     "evalue": "Timestamp('1970-01-01 12:00:00', freq='D')",
     "output_type": "error",
     "traceback": [
      "\u001B[0;31m---------------------------------------------------------------------------\u001B[0m",
      "\u001B[0;31mKeyError\u001B[0m                                  Traceback (most recent call last)",
      "\u001B[0;32m/usr/local/Caskroom/miniconda/base/envs/geobike/lib/python3.9/site-packages/pandas/_libs/index.pyx\u001B[0m in \u001B[0;36mpandas._libs.index.DatetimeEngine.get_loc\u001B[0;34m()\u001B[0m\n",
      "\u001B[0;32mpandas/_libs/hashtable_class_helper.pxi\u001B[0m in \u001B[0;36mpandas._libs.hashtable.Int64HashTable.get_item\u001B[0;34m()\u001B[0m\n",
      "\u001B[0;32mpandas/_libs/hashtable_class_helper.pxi\u001B[0m in \u001B[0;36mpandas._libs.hashtable.Int64HashTable.get_item\u001B[0;34m()\u001B[0m\n",
      "\u001B[0;31mKeyError\u001B[0m: 43200000000000",
      "\nDuring handling of the above exception, another exception occurred:\n",
      "\u001B[0;31mKeyError\u001B[0m                                  Traceback (most recent call last)",
      "\u001B[0;32m/usr/local/Caskroom/miniconda/base/envs/geobike/lib/python3.9/site-packages/pandas/core/indexes/base.py\u001B[0m in \u001B[0;36mget_loc\u001B[0;34m(self, key, method, tolerance)\u001B[0m\n\u001B[1;32m   3360\u001B[0m             \u001B[0;32mtry\u001B[0m\u001B[0;34m:\u001B[0m\u001B[0;34m\u001B[0m\u001B[0;34m\u001B[0m\u001B[0m\n\u001B[0;32m-> 3361\u001B[0;31m                 \u001B[0;32mreturn\u001B[0m \u001B[0mself\u001B[0m\u001B[0;34m.\u001B[0m\u001B[0m_engine\u001B[0m\u001B[0;34m.\u001B[0m\u001B[0mget_loc\u001B[0m\u001B[0;34m(\u001B[0m\u001B[0mcasted_key\u001B[0m\u001B[0;34m)\u001B[0m\u001B[0;34m\u001B[0m\u001B[0;34m\u001B[0m\u001B[0m\n\u001B[0m\u001B[1;32m   3362\u001B[0m             \u001B[0;32mexcept\u001B[0m \u001B[0mKeyError\u001B[0m \u001B[0;32mas\u001B[0m \u001B[0merr\u001B[0m\u001B[0;34m:\u001B[0m\u001B[0;34m\u001B[0m\u001B[0;34m\u001B[0m\u001B[0m\n",
      "\u001B[0;32m/usr/local/Caskroom/miniconda/base/envs/geobike/lib/python3.9/site-packages/pandas/_libs/index.pyx\u001B[0m in \u001B[0;36mpandas._libs.index.DatetimeEngine.get_loc\u001B[0;34m()\u001B[0m\n",
      "\u001B[0;32m/usr/local/Caskroom/miniconda/base/envs/geobike/lib/python3.9/site-packages/pandas/_libs/index.pyx\u001B[0m in \u001B[0;36mpandas._libs.index.DatetimeEngine.get_loc\u001B[0;34m()\u001B[0m\n",
      "\u001B[0;31mKeyError\u001B[0m: Timestamp('1970-01-01 12:00:00', freq='D')",
      "\nThe above exception was the direct cause of the following exception:\n",
      "\u001B[0;31mKeyError\u001B[0m                                  Traceback (most recent call last)",
      "\u001B[0;32m/usr/local/Caskroom/miniconda/base/envs/geobike/lib/python3.9/site-packages/pandas/core/indexes/datetimes.py\u001B[0m in \u001B[0;36mget_loc\u001B[0;34m(self, key, method, tolerance)\u001B[0m\n\u001B[1;32m    702\u001B[0m         \u001B[0;32mtry\u001B[0m\u001B[0;34m:\u001B[0m\u001B[0;34m\u001B[0m\u001B[0;34m\u001B[0m\u001B[0m\n\u001B[0;32m--> 703\u001B[0;31m             \u001B[0;32mreturn\u001B[0m \u001B[0mIndex\u001B[0m\u001B[0;34m.\u001B[0m\u001B[0mget_loc\u001B[0m\u001B[0;34m(\u001B[0m\u001B[0mself\u001B[0m\u001B[0;34m,\u001B[0m \u001B[0mkey\u001B[0m\u001B[0;34m,\u001B[0m \u001B[0mmethod\u001B[0m\u001B[0;34m,\u001B[0m \u001B[0mtolerance\u001B[0m\u001B[0;34m)\u001B[0m\u001B[0;34m\u001B[0m\u001B[0;34m\u001B[0m\u001B[0m\n\u001B[0m\u001B[1;32m    704\u001B[0m         \u001B[0;32mexcept\u001B[0m \u001B[0mKeyError\u001B[0m \u001B[0;32mas\u001B[0m \u001B[0merr\u001B[0m\u001B[0;34m:\u001B[0m\u001B[0;34m\u001B[0m\u001B[0;34m\u001B[0m\u001B[0m\n",
      "\u001B[0;32m/usr/local/Caskroom/miniconda/base/envs/geobike/lib/python3.9/site-packages/pandas/core/indexes/base.py\u001B[0m in \u001B[0;36mget_loc\u001B[0;34m(self, key, method, tolerance)\u001B[0m\n\u001B[1;32m   3362\u001B[0m             \u001B[0;32mexcept\u001B[0m \u001B[0mKeyError\u001B[0m \u001B[0;32mas\u001B[0m \u001B[0merr\u001B[0m\u001B[0;34m:\u001B[0m\u001B[0;34m\u001B[0m\u001B[0;34m\u001B[0m\u001B[0m\n\u001B[0;32m-> 3363\u001B[0;31m                 \u001B[0;32mraise\u001B[0m \u001B[0mKeyError\u001B[0m\u001B[0;34m(\u001B[0m\u001B[0mkey\u001B[0m\u001B[0;34m)\u001B[0m \u001B[0;32mfrom\u001B[0m \u001B[0merr\u001B[0m\u001B[0;34m\u001B[0m\u001B[0;34m\u001B[0m\u001B[0m\n\u001B[0m\u001B[1;32m   3364\u001B[0m \u001B[0;34m\u001B[0m\u001B[0m\n",
      "\u001B[0;31mKeyError\u001B[0m: Timestamp('1970-01-01 12:00:00', freq='D')",
      "\nThe above exception was the direct cause of the following exception:\n",
      "\u001B[0;31mKeyError\u001B[0m                                  Traceback (most recent call last)",
      "\u001B[0;32m/var/folders/5t/28jzvs016nq5vxslb670gs040000gn/T/ipykernel_4202/1670049443.py\u001B[0m in \u001B[0;36m<module>\u001B[0;34m\u001B[0m\n\u001B[1;32m     11\u001B[0m \u001B[0;32mfor\u001B[0m \u001B[0mind\u001B[0m \u001B[0;32min\u001B[0m \u001B[0mtqdm\u001B[0m\u001B[0;34m(\u001B[0m\u001B[0mtsdata\u001B[0m\u001B[0;34m.\u001B[0m\u001B[0mindex\u001B[0m\u001B[0;34m)\u001B[0m\u001B[0;34m:\u001B[0m\u001B[0;34m\u001B[0m\u001B[0;34m\u001B[0m\u001B[0m\n\u001B[1;32m     12\u001B[0m     \u001B[0mwint\u001B[0m \u001B[0;34m=\u001B[0m \u001B[0mind\u001B[0m\u001B[0;34m.\u001B[0m\u001B[0mreplace\u001B[0m\u001B[0;34m(\u001B[0m\u001B[0mhour\u001B[0m\u001B[0;34m=\u001B[0m\u001B[0;36m12\u001B[0m\u001B[0;34m,\u001B[0m\u001B[0mminute\u001B[0m\u001B[0;34m=\u001B[0m\u001B[0;36m0\u001B[0m\u001B[0;34m,\u001B[0m\u001B[0msecond\u001B[0m\u001B[0;34m=\u001B[0m\u001B[0;36m0\u001B[0m\u001B[0;34m)\u001B[0m\u001B[0;34m\u001B[0m\u001B[0;34m\u001B[0m\u001B[0m\n\u001B[0;32m---> 13\u001B[0;31m     \u001B[0mtsdata\u001B[0m\u001B[0;34m[\u001B[0m\u001B[0;34m'temp'\u001B[0m\u001B[0;34m]\u001B[0m\u001B[0;34m[\u001B[0m\u001B[0mind\u001B[0m\u001B[0;34m]\u001B[0m \u001B[0;34m=\u001B[0m \u001B[0mdfw\u001B[0m\u001B[0;34m[\u001B[0m\u001B[0;34m'temp'\u001B[0m\u001B[0;34m]\u001B[0m\u001B[0;34m[\u001B[0m\u001B[0mwint\u001B[0m\u001B[0;34m]\u001B[0m\u001B[0;34m.\u001B[0m\u001B[0mcopy\u001B[0m\u001B[0;34m(\u001B[0m\u001B[0;34m)\u001B[0m\u001B[0;34m\u001B[0m\u001B[0;34m\u001B[0m\u001B[0m\n\u001B[0m\u001B[1;32m     14\u001B[0m     \u001B[0mtsdata\u001B[0m\u001B[0;34m[\u001B[0m\u001B[0;34m'rain'\u001B[0m\u001B[0;34m]\u001B[0m\u001B[0;34m[\u001B[0m\u001B[0mind\u001B[0m\u001B[0;34m]\u001B[0m \u001B[0;34m=\u001B[0m \u001B[0mdfw\u001B[0m\u001B[0;34m[\u001B[0m\u001B[0;34m'rain_1h'\u001B[0m\u001B[0;34m]\u001B[0m\u001B[0;34m[\u001B[0m\u001B[0mwint\u001B[0m\u001B[0;34m]\u001B[0m\u001B[0;34m.\u001B[0m\u001B[0mcopy\u001B[0m\u001B[0;34m(\u001B[0m\u001B[0;34m)\u001B[0m\u001B[0;34m\u001B[0m\u001B[0;34m\u001B[0m\u001B[0m\n\u001B[1;32m     15\u001B[0m     \u001B[0mtsdata\u001B[0m\u001B[0;34m[\u001B[0m\u001B[0;34m'snow'\u001B[0m\u001B[0;34m]\u001B[0m\u001B[0;34m[\u001B[0m\u001B[0mind\u001B[0m\u001B[0;34m]\u001B[0m \u001B[0;34m=\u001B[0m \u001B[0mdfw\u001B[0m\u001B[0;34m[\u001B[0m\u001B[0;34m'snow_1h'\u001B[0m\u001B[0;34m]\u001B[0m\u001B[0;34m[\u001B[0m\u001B[0mwint\u001B[0m\u001B[0;34m]\u001B[0m\u001B[0;34m.\u001B[0m\u001B[0mcopy\u001B[0m\u001B[0;34m(\u001B[0m\u001B[0;34m)\u001B[0m\u001B[0;34m\u001B[0m\u001B[0;34m\u001B[0m\u001B[0m\n",
      "\u001B[0;32m/usr/local/Caskroom/miniconda/base/envs/geobike/lib/python3.9/site-packages/pandas/core/series.py\u001B[0m in \u001B[0;36m__getitem__\u001B[0;34m(self, key)\u001B[0m\n\u001B[1;32m    940\u001B[0m \u001B[0;34m\u001B[0m\u001B[0m\n\u001B[1;32m    941\u001B[0m         \u001B[0;32melif\u001B[0m \u001B[0mkey_is_scalar\u001B[0m\u001B[0;34m:\u001B[0m\u001B[0;34m\u001B[0m\u001B[0;34m\u001B[0m\u001B[0m\n\u001B[0;32m--> 942\u001B[0;31m             \u001B[0;32mreturn\u001B[0m \u001B[0mself\u001B[0m\u001B[0;34m.\u001B[0m\u001B[0m_get_value\u001B[0m\u001B[0;34m(\u001B[0m\u001B[0mkey\u001B[0m\u001B[0;34m)\u001B[0m\u001B[0;34m\u001B[0m\u001B[0;34m\u001B[0m\u001B[0m\n\u001B[0m\u001B[1;32m    943\u001B[0m \u001B[0;34m\u001B[0m\u001B[0m\n\u001B[1;32m    944\u001B[0m         \u001B[0;32mif\u001B[0m \u001B[0mis_hashable\u001B[0m\u001B[0;34m(\u001B[0m\u001B[0mkey\u001B[0m\u001B[0;34m)\u001B[0m\u001B[0;34m:\u001B[0m\u001B[0;34m\u001B[0m\u001B[0;34m\u001B[0m\u001B[0m\n",
      "\u001B[0;32m/usr/local/Caskroom/miniconda/base/envs/geobike/lib/python3.9/site-packages/pandas/core/series.py\u001B[0m in \u001B[0;36m_get_value\u001B[0;34m(self, label, takeable)\u001B[0m\n\u001B[1;32m   1049\u001B[0m \u001B[0;34m\u001B[0m\u001B[0m\n\u001B[1;32m   1050\u001B[0m         \u001B[0;31m# Similar to Index.get_value, but we do not fall back to positional\u001B[0m\u001B[0;34m\u001B[0m\u001B[0;34m\u001B[0m\u001B[0m\n\u001B[0;32m-> 1051\u001B[0;31m         \u001B[0mloc\u001B[0m \u001B[0;34m=\u001B[0m \u001B[0mself\u001B[0m\u001B[0;34m.\u001B[0m\u001B[0mindex\u001B[0m\u001B[0;34m.\u001B[0m\u001B[0mget_loc\u001B[0m\u001B[0;34m(\u001B[0m\u001B[0mlabel\u001B[0m\u001B[0;34m)\u001B[0m\u001B[0;34m\u001B[0m\u001B[0;34m\u001B[0m\u001B[0m\n\u001B[0m\u001B[1;32m   1052\u001B[0m         \u001B[0;32mreturn\u001B[0m \u001B[0mself\u001B[0m\u001B[0;34m.\u001B[0m\u001B[0mindex\u001B[0m\u001B[0;34m.\u001B[0m\u001B[0m_get_values_for_loc\u001B[0m\u001B[0;34m(\u001B[0m\u001B[0mself\u001B[0m\u001B[0;34m,\u001B[0m \u001B[0mloc\u001B[0m\u001B[0;34m,\u001B[0m \u001B[0mlabel\u001B[0m\u001B[0;34m)\u001B[0m\u001B[0;34m\u001B[0m\u001B[0;34m\u001B[0m\u001B[0m\n\u001B[1;32m   1053\u001B[0m \u001B[0;34m\u001B[0m\u001B[0m\n",
      "\u001B[0;32m/usr/local/Caskroom/miniconda/base/envs/geobike/lib/python3.9/site-packages/pandas/core/indexes/datetimes.py\u001B[0m in \u001B[0;36mget_loc\u001B[0;34m(self, key, method, tolerance)\u001B[0m\n\u001B[1;32m    703\u001B[0m             \u001B[0;32mreturn\u001B[0m \u001B[0mIndex\u001B[0m\u001B[0;34m.\u001B[0m\u001B[0mget_loc\u001B[0m\u001B[0;34m(\u001B[0m\u001B[0mself\u001B[0m\u001B[0;34m,\u001B[0m \u001B[0mkey\u001B[0m\u001B[0;34m,\u001B[0m \u001B[0mmethod\u001B[0m\u001B[0;34m,\u001B[0m \u001B[0mtolerance\u001B[0m\u001B[0;34m)\u001B[0m\u001B[0;34m\u001B[0m\u001B[0;34m\u001B[0m\u001B[0m\n\u001B[1;32m    704\u001B[0m         \u001B[0;32mexcept\u001B[0m \u001B[0mKeyError\u001B[0m \u001B[0;32mas\u001B[0m \u001B[0merr\u001B[0m\u001B[0;34m:\u001B[0m\u001B[0;34m\u001B[0m\u001B[0;34m\u001B[0m\u001B[0m\n\u001B[0;32m--> 705\u001B[0;31m             \u001B[0;32mraise\u001B[0m \u001B[0mKeyError\u001B[0m\u001B[0;34m(\u001B[0m\u001B[0morig_key\u001B[0m\u001B[0;34m)\u001B[0m \u001B[0;32mfrom\u001B[0m \u001B[0merr\u001B[0m\u001B[0;34m\u001B[0m\u001B[0;34m\u001B[0m\u001B[0m\n\u001B[0m\u001B[1;32m    706\u001B[0m \u001B[0;34m\u001B[0m\u001B[0m\n\u001B[1;32m    707\u001B[0m     \u001B[0;32mdef\u001B[0m \u001B[0m_maybe_cast_for_get_loc\u001B[0m\u001B[0;34m(\u001B[0m\u001B[0mself\u001B[0m\u001B[0;34m,\u001B[0m \u001B[0mkey\u001B[0m\u001B[0;34m)\u001B[0m \u001B[0;34m->\u001B[0m \u001B[0mTimestamp\u001B[0m\u001B[0;34m:\u001B[0m\u001B[0;34m\u001B[0m\u001B[0;34m\u001B[0m\u001B[0m\n",
      "\u001B[0;31mKeyError\u001B[0m: Timestamp('1970-01-01 12:00:00', freq='D')"
     ]
    }
   ],
   "source": [
    "dfw = pd.read_csv('/Users/jonweske/devment/BA_nextbike/data/weather_data.csv')\n",
    "dfw['datetime'] = pd.to_datetime(dfw['dt'], unit='s')\n",
    "dfw = dfw.set_index(['datetime'])\n",
    "dfw.head()\n",
    "\n",
    "tsdata['temp'] = np.nan\n",
    "tsdata['rain'] = np.nan\n",
    "tsdata['snow'] = np.nan\n",
    "\n",
    "\n",
    "for ind in tqdm(tsdata.index):\n",
    "    wint = ind.replace(hour=12,minute=0,second=0)\n",
    "    tsdata['temp'][ind] = dfw['temp'][wint].copy()\n",
    "    tsdata['rain'][ind] = dfw['rain_1h'][wint].copy()\n",
    "    tsdata['snow'][ind] = dfw['snow_1h'][wint].copy()"
   ]
  },
  {
   "cell_type": "code",
   "execution_count": 80,
   "id": "9cf5c9d3",
   "metadata": {
    "pycharm": {
     "name": "#%% md\n"
    }
   },
   "outputs": [
    {
     "data": {
      "text/html": [
       "<div>\n",
       "<style scoped>\n",
       "    .dataframe tbody tr th:only-of-type {\n",
       "        vertical-align: middle;\n",
       "    }\n",
       "\n",
       "    .dataframe tbody tr th {\n",
       "        vertical-align: top;\n",
       "    }\n",
       "\n",
       "    .dataframe thead th {\n",
       "        text-align: right;\n",
       "    }\n",
       "</style>\n",
       "<table border=\"1\" class=\"dataframe\">\n",
       "  <thead>\n",
       "    <tr style=\"text-align: right;\">\n",
       "      <th></th>\n",
       "      <th>idle_time</th>\n",
       "      <th>list</th>\n",
       "      <th>bike_count</th>\n",
       "      <th>temp</th>\n",
       "      <th>rain</th>\n",
       "      <th>snow</th>\n",
       "    </tr>\n",
       "    <tr>\n",
       "      <th>date</th>\n",
       "      <th></th>\n",
       "      <th></th>\n",
       "      <th></th>\n",
       "      <th></th>\n",
       "      <th></th>\n",
       "      <th></th>\n",
       "    </tr>\n",
       "  </thead>\n",
       "  <tbody>\n",
       "    <tr>\n",
       "      <th>2018-01-01</th>\n",
       "      <td>509.500000</td>\n",
       "      <td>NaN</td>\n",
       "      <td>2.0</td>\n",
       "      <td>8.67</td>\n",
       "      <td>NaN</td>\n",
       "      <td>NaN</td>\n",
       "    </tr>\n",
       "    <tr>\n",
       "      <th>2018-01-02</th>\n",
       "      <td>536.714286</td>\n",
       "      <td>NaN</td>\n",
       "      <td>7.0</td>\n",
       "      <td>5.11</td>\n",
       "      <td>NaN</td>\n",
       "      <td>NaN</td>\n",
       "    </tr>\n",
       "    <tr>\n",
       "      <th>2018-01-03</th>\n",
       "      <td>919.000000</td>\n",
       "      <td>NaN</td>\n",
       "      <td>9.0</td>\n",
       "      <td>6.11</td>\n",
       "      <td>NaN</td>\n",
       "      <td>NaN</td>\n",
       "    </tr>\n",
       "    <tr>\n",
       "      <th>2018-01-04</th>\n",
       "      <td>753.615385</td>\n",
       "      <td>NaN</td>\n",
       "      <td>13.0</td>\n",
       "      <td>8.11</td>\n",
       "      <td>NaN</td>\n",
       "      <td>NaN</td>\n",
       "    </tr>\n",
       "    <tr>\n",
       "      <th>2018-01-05</th>\n",
       "      <td>764.000000</td>\n",
       "      <td>NaN</td>\n",
       "      <td>15.0</td>\n",
       "      <td>10.11</td>\n",
       "      <td>NaN</td>\n",
       "      <td>NaN</td>\n",
       "    </tr>\n",
       "  </tbody>\n",
       "</table>\n",
       "</div>"
      ],
      "text/plain": [
       "             idle_time  list  bike_count   temp  rain  snow\n",
       "date                                                       \n",
       "2018-01-01  509.500000   NaN         2.0   8.67   NaN   NaN\n",
       "2018-01-02  536.714286   NaN         7.0   5.11   NaN   NaN\n",
       "2018-01-03  919.000000   NaN         9.0   6.11   NaN   NaN\n",
       "2018-01-04  753.615385   NaN        13.0   8.11   NaN   NaN\n",
       "2018-01-05  764.000000   NaN        15.0  10.11   NaN   NaN"
      ]
     },
     "execution_count": 80,
     "metadata": {},
     "output_type": "execute_result"
    }
   ],
   "source": [
    "#del tsdata['list']\n",
    "tsdata.head()"
   ]
  },
  {
   "cell_type": "code",
   "execution_count": 81,
   "id": "a34f8b1f",
   "metadata": {},
   "outputs": [],
   "source": [
    "import sklearn.metrics as metrics\n",
    "\n",
    "def regression_results(y_true, y_pred):\n",
    "    # Regression metrics\n",
    "    explained_variance=metrics.explained_variance_score(y_true, y_pred)\n",
    "    mean_absolute_error=metrics.mean_absolute_error(y_true, y_pred) \n",
    "    mse=metrics.mean_squared_error(y_true, y_pred) \n",
    "    mean_squared_log_error=metrics.mean_squared_log_error(y_true, y_pred)\n",
    "    median_absolute_error=metrics.median_absolute_error(y_true, y_pred)\n",
    "    r2=metrics.r2_score(y_true, y_pred)\n",
    "    print('explained_variance: ', round(explained_variance,4))    \n",
    "    print('mean_squared_log_error: ', round(mean_squared_log_error,4))\n",
    "    print('r2: ', round(r2,4))\n",
    "    print('MAE: ', round(mean_absolute_error,4))\n",
    "    print('MSE: ', round(mse,4))\n",
    "    print('RMSE: ', round(np.sqrt(mse),4))"
   ]
  },
  {
   "cell_type": "raw",
   "id": "13cb93c0",
   "metadata": {},
   "source": [
    "### Feature Engeniering\n",
    "# creating new dataframe from consumption column\n",
    "data_consumption = tsdata[['idle_time']]\n",
    "# inserting new column with yesterday's consumption values\n",
    "data_consumption.loc[:,'Yesterday'] = data_consumption.loc[:,'idle_time'].shift()\n",
    "# inserting another column with difference between yesterday and day before yesterday's consumption values.\n",
    "data_consumption.loc[:,'Yesterday_Diff'] = data_consumption.loc[:,'Yesterday'].diff()\n",
    "# new collum with last weeks\n",
    "data_consumption.loc[:,'Last_Week'] = data_consumption.loc[:,'idle_time'].shift(periods=7)\n",
    "data_consumption.loc[:,'Last_Week_Diff'] = data_consumption.loc[:,'Last_Week'].diff()\n",
    "\n",
    "data_consumption.loc[:,'temp'] = tsdata['temp']\n",
    "data_consumption.loc[:,'rain'] = tsdata['rain']\n",
    "data_consumption.loc[:,'snow'] = tsdata['snow']\n",
    "# dropping NAs\n",
    "data_consumption = data_consumption.dropna()"
   ]
  },
  {
   "cell_type": "code",
   "execution_count": 112,
   "id": "0f62ece9",
   "metadata": {},
   "outputs": [],
   "source": [
    "# creating new dataframe from idle_time column + bike_count\n",
    "data_consumption = tsdata[['idle_time']]\n",
    "data_consumption.loc[:,'bike_count'] = tsdata[['bike_count']]\n",
    "\n",
    "# inserting new column with yesterday last_week and last_year plus Diffs\n",
    "data_consumption.loc[:,'Yesterday'] = data_consumption.loc[:,'idle_time'].shift()\n",
    "data_consumption.loc[:,'Yesterday_Diff'] = data_consumption.loc[:,'Yesterday'].diff()\n",
    "\n",
    "\n",
    "\n",
    "# add weather data temp + rain + snow\n",
    "data_consumption.loc[:,'temp'] = tsdata[['temp']]\n",
    "data_consumption.loc[:,'rain'] = tsdata[['rain']]\n",
    "data_consumption.loc[:,'snow'] = tsdata[['snow']]\n",
    "\n",
    "# Nan s to 0 \n",
    "data_consumption = data_consumption.fillna(0)"
   ]
  },
  {
   "cell_type": "code",
   "execution_count": 113,
   "id": "ef3a5afe",
   "metadata": {},
   "outputs": [
    {
     "data": {
      "text/html": [
       "<div>\n",
       "<style scoped>\n",
       "    .dataframe tbody tr th:only-of-type {\n",
       "        vertical-align: middle;\n",
       "    }\n",
       "\n",
       "    .dataframe tbody tr th {\n",
       "        vertical-align: top;\n",
       "    }\n",
       "\n",
       "    .dataframe thead th {\n",
       "        text-align: right;\n",
       "    }\n",
       "</style>\n",
       "<table border=\"1\" class=\"dataframe\">\n",
       "  <thead>\n",
       "    <tr style=\"text-align: right;\">\n",
       "      <th></th>\n",
       "      <th>idle_time</th>\n",
       "      <th>bike_count</th>\n",
       "      <th>Yesterday</th>\n",
       "      <th>Yesterday_Diff</th>\n",
       "      <th>temp</th>\n",
       "      <th>rain</th>\n",
       "      <th>snow</th>\n",
       "    </tr>\n",
       "    <tr>\n",
       "      <th>date</th>\n",
       "      <th></th>\n",
       "      <th></th>\n",
       "      <th></th>\n",
       "      <th></th>\n",
       "      <th></th>\n",
       "      <th></th>\n",
       "      <th></th>\n",
       "    </tr>\n",
       "  </thead>\n",
       "  <tbody>\n",
       "    <tr>\n",
       "      <th>2021-09-21</th>\n",
       "      <td>79.357143</td>\n",
       "      <td>84.0</td>\n",
       "      <td>90.793103</td>\n",
       "      <td>-0.312957</td>\n",
       "      <td>16.03</td>\n",
       "      <td>0.0</td>\n",
       "      <td>0.0</td>\n",
       "    </tr>\n",
       "    <tr>\n",
       "      <th>2021-09-22</th>\n",
       "      <td>106.333333</td>\n",
       "      <td>63.0</td>\n",
       "      <td>79.357143</td>\n",
       "      <td>-11.435961</td>\n",
       "      <td>17.38</td>\n",
       "      <td>0.0</td>\n",
       "      <td>0.0</td>\n",
       "    </tr>\n",
       "    <tr>\n",
       "      <th>2021-09-23</th>\n",
       "      <td>76.300000</td>\n",
       "      <td>90.0</td>\n",
       "      <td>106.333333</td>\n",
       "      <td>26.976190</td>\n",
       "      <td>21.96</td>\n",
       "      <td>0.0</td>\n",
       "      <td>0.0</td>\n",
       "    </tr>\n",
       "    <tr>\n",
       "      <th>2021-09-24</th>\n",
       "      <td>96.343511</td>\n",
       "      <td>131.0</td>\n",
       "      <td>76.300000</td>\n",
       "      <td>-30.033333</td>\n",
       "      <td>17.75</td>\n",
       "      <td>0.0</td>\n",
       "      <td>0.0</td>\n",
       "    </tr>\n",
       "    <tr>\n",
       "      <th>2021-09-25</th>\n",
       "      <td>62.956989</td>\n",
       "      <td>93.0</td>\n",
       "      <td>96.343511</td>\n",
       "      <td>20.043511</td>\n",
       "      <td>21.81</td>\n",
       "      <td>0.0</td>\n",
       "      <td>0.0</td>\n",
       "    </tr>\n",
       "  </tbody>\n",
       "</table>\n",
       "</div>"
      ],
      "text/plain": [
       "             idle_time  bike_count   Yesterday  Yesterday_Diff   temp  rain  \\\n",
       "date                                                                          \n",
       "2021-09-21   79.357143        84.0   90.793103       -0.312957  16.03   0.0   \n",
       "2021-09-22  106.333333        63.0   79.357143      -11.435961  17.38   0.0   \n",
       "2021-09-23   76.300000        90.0  106.333333       26.976190  21.96   0.0   \n",
       "2021-09-24   96.343511       131.0   76.300000      -30.033333  17.75   0.0   \n",
       "2021-09-25   62.956989        93.0   96.343511       20.043511  21.81   0.0   \n",
       "\n",
       "            snow  \n",
       "date              \n",
       "2021-09-21   0.0  \n",
       "2021-09-22   0.0  \n",
       "2021-09-23   0.0  \n",
       "2021-09-24   0.0  \n",
       "2021-09-25   0.0  "
      ]
     },
     "execution_count": 113,
     "metadata": {},
     "output_type": "execute_result"
    }
   ],
   "source": [
    "data_consumption.tail()"
   ]
  },
  {
   "cell_type": "code",
   "execution_count": 114,
   "id": "9e115ac6",
   "metadata": {
    "pycharm": {
     "name": "#%% md\n"
    }
   },
   "outputs": [
    {
     "data": {
      "text/plain": [
       "25.4"
      ]
     },
     "execution_count": 114,
     "metadata": {},
     "output_type": "execute_result"
    }
   ],
   "source": [
    "data_consumption['rain'].max()"
   ]
  },
  {
   "cell_type": "code",
   "execution_count": 115,
   "id": "1d91cf2e",
   "metadata": {},
   "outputs": [
    {
     "name": "stderr",
     "output_type": "stream",
     "text": [
      "/var/folders/5t/28jzvs016nq5vxslb670gs040000gn/T/ipykernel_1268/390101157.py:5: FutureWarning: Indexing a DataFrame with a datetimelike index using a single string to slice the rows, like `frame[string]`, is deprecated and will be removed in a future version. Use `frame.loc[string]` instead.\n",
      "  X_test = data_consumption['2021'].drop(['idle_time'], axis = 1)\n"
     ]
    }
   ],
   "source": [
    "### Defining Sets\n",
    "X_train = data_consumption[:'2020'].drop(['idle_time'], axis = 1)\n",
    "y_train = data_consumption.loc[:'2020', 'idle_time']\n",
    "\n",
    "X_test = data_consumption['2021'].drop(['idle_time'], axis = 1)\n",
    "y_test = data_consumption.loc['2021', 'idle_time']"
   ]
  },
  {
   "cell_type": "code",
   "execution_count": 116,
   "id": "19eaed54",
   "metadata": {},
   "outputs": [
    {
     "name": "stdout",
     "output_type": "stream",
     "text": [
      "LR: -3.662576 (10.539858)\n",
      "NN: -0.352804 (1.123288)\n",
      "KNN: -0.315541 (0.753361)\n",
      "RF: -0.435234 (0.890698)\n",
      "SVR: -8.240171 (8.781809)\n"
     ]
    },
    {
     "data": {
      "image/png": "[encoded data removed]",
      "text/plain": [
       "<Figure size 432x288 with 1 Axes>"
      ]
     },
     "metadata": {
      "needs_background": "light"
     },
     "output_type": "display_data"
    }
   ],
   "source": [
    "from sklearn.model_selection import TimeSeriesSplit\n",
    "from sklearn.linear_model import LinearRegression\n",
    "from sklearn.neural_network import MLPRegressor\n",
    "from sklearn.neighbors import KNeighborsRegressor\n",
    "from sklearn.ensemble import RandomForestRegressor\n",
    "from sklearn.svm import SVR\n",
    "from sklearn.model_selection import cross_val_score\n",
    "\n",
    "import warnings\n",
    "from sklearn.exceptions import ConvergenceWarning\n",
    "\n",
    "\n",
    "# Spot Check Algorithms\n",
    "models = []\n",
    "models.append(('LR', LinearRegression()))\n",
    "models.append(('NN', MLPRegressor(solver = 'lbfgs')))  #neural network\n",
    "models.append(('KNN', KNeighborsRegressor())) \n",
    "models.append(('RF', RandomForestRegressor(n_estimators = 10))) # Ensemble method - collection of many decision trees\n",
    "models.append(('SVR', SVR(gamma='auto'))) # kernel = linear\n",
    "# Evaluate each model in turn\n",
    "results = []\n",
    "names = []\n",
    "for name, model in models:\n",
    "    # TimeSeries Cross validation\n",
    "    tscv = TimeSeriesSplit(n_splits=10)\n",
    "    \n",
    "    with warnings.catch_warnings():\n",
    "        warnings.simplefilter(\"ignore\", category=ConvergenceWarning)\n",
    "        cv_results = cross_val_score(model, X_train, y_train, cv=tscv, scoring='r2')\n",
    "        \n",
    "    results.append(cv_results)\n",
    "    names.append(name)\n",
    "    print('%s: %f (%f)' % (name, cv_results.mean(), cv_results.std()))\n",
    "    \n",
    "# Compare Algorithms\n",
    "plt.boxplot(results, labels=names)\n",
    "plt.title('Algorithm Comparison')\n",
    "plt.show()"
   ]
  },
  {
   "cell_type": "markdown",
   "id": "f856c9a6",
   "metadata": {},
   "source": [
    "# Testing GridSearching"
   ]
  },
  {
   "cell_type": "code",
   "execution_count": 117,
   "id": "cf616f2f",
   "metadata": {},
   "outputs": [],
   "source": [
    "from sklearn.metrics import make_scorer\n",
    "\n",
    "def rmse(actual, predict):\n",
    "    predict = np.array(predict)\n",
    "    actual = np.array(actual)\n",
    "    distance = predict - actual\n",
    "    square_distance = distance ** 2\n",
    "    mean_square_distance = square_distance.mean()\n",
    "    score = np.sqrt(mean_square_distance)\n",
    "    return score\n",
    "\n",
    "rmse_score = make_scorer(rmse, greater_is_better = False)"
   ]
  },
  {
   "cell_type": "code",
   "execution_count": 118,
   "id": "348b8ef0",
   "metadata": {},
   "outputs": [],
   "source": [
    "from sklearn.model_selection import GridSearchCV\n",
    "\n",
    "model = RandomForestRegressor()\n",
    "param_search = { \n",
    "    'n_estimators': [20, 50, 100],\n",
    "    'max_features': ['auto', 'sqrt', 'log2'],\n",
    "    'max_depth' : [i for i in range(5,15)]\n",
    "}\n",
    "tscv = TimeSeriesSplit(n_splits=10)\n",
    "gsearch = GridSearchCV(estimator=model, cv=tscv, param_grid=param_search, scoring = rmse_score)\n",
    "gsearch.fit(X_train, y_train)\n",
    "best_score = gsearch.best_score_\n",
    "best_model = gsearch.best_estimator_"
   ]
  },
  {
   "cell_type": "code",
   "execution_count": 119,
   "id": "826b362f",
   "metadata": {},
   "outputs": [
    {
     "name": "stdout",
     "output_type": "stream",
     "text": [
      "explained_variance:  0.7638\n",
      "mean_squared_log_error:  0.1916\n",
      "r2:  0.7601\n",
      "MAE:  73.3067\n",
      "MSE:  10898.3484\n",
      "RMSE:  104.3952\n"
     ]
    }
   ],
   "source": [
    "y_true = y_test.values\n",
    "y_pred = best_model.predict(X_test)\n",
    "\n",
    "regression_results(y_true, y_pred)"
   ]
  },
  {
   "cell_type": "markdown",
   "id": "db223fc4",
   "metadata": {},
   "source": [
    "# Testing"
   ]
  },
  {
   "cell_type": "code",
   "execution_count": 128,
   "id": "cc108608",
   "metadata": {},
   "outputs": [],
   "source": [
    "data_consumption_v2 = data_consumption.copy()\n",
    "\n",
    "data_consumption_v2.loc[:,'Last_Week'] = data_consumption_v2.loc[:,'idle_time'].shift(periods=7)\n",
    "data_consumption_v2.loc[:,'Last_Week_Diff'] = data_consumption_v2.loc[:,'Last_Week'].diff()\n",
    "\n",
    "data_consumption_v2.loc[:,'Last_Year'] = data_consumption_v2.loc[:,'idle_time'].shift(periods=365)\n",
    "data_consumption_v2.loc[:,'Last_Year_Diff'] = data_consumption_v2.loc[:,'Last_Year'].diff()\n",
    "data_consumption_v2 = data_consumption_v2.fillna(0)"
   ]
  },
  {
   "cell_type": "code",
   "execution_count": 129,
   "id": "20f225c7",
   "metadata": {},
   "outputs": [
    {
     "data": {
      "text/html": [
       "<div>\n",
       "<style scoped>\n",
       "    .dataframe tbody tr th:only-of-type {\n",
       "        vertical-align: middle;\n",
       "    }\n",
       "\n",
       "    .dataframe tbody tr th {\n",
       "        vertical-align: top;\n",
       "    }\n",
       "\n",
       "    .dataframe thead th {\n",
       "        text-align: right;\n",
       "    }\n",
       "</style>\n",
       "<table border=\"1\" class=\"dataframe\">\n",
       "  <thead>\n",
       "    <tr style=\"text-align: right;\">\n",
       "      <th></th>\n",
       "      <th>idle_time</th>\n",
       "      <th>bike_count</th>\n",
       "      <th>Yesterday</th>\n",
       "      <th>Yesterday_Diff</th>\n",
       "      <th>temp</th>\n",
       "      <th>rain</th>\n",
       "      <th>snow</th>\n",
       "      <th>Last_Week</th>\n",
       "      <th>Last_Week_Diff</th>\n",
       "      <th>Last_Year</th>\n",
       "      <th>Last_Year_Diff</th>\n",
       "    </tr>\n",
       "    <tr>\n",
       "      <th>date</th>\n",
       "      <th></th>\n",
       "      <th></th>\n",
       "      <th></th>\n",
       "      <th></th>\n",
       "      <th></th>\n",
       "      <th></th>\n",
       "      <th></th>\n",
       "      <th></th>\n",
       "      <th></th>\n",
       "      <th></th>\n",
       "      <th></th>\n",
       "    </tr>\n",
       "  </thead>\n",
       "  <tbody>\n",
       "    <tr>\n",
       "      <th>2021-09-21</th>\n",
       "      <td>79.357143</td>\n",
       "      <td>84.0</td>\n",
       "      <td>90.793103</td>\n",
       "      <td>-0.312957</td>\n",
       "      <td>16.03</td>\n",
       "      <td>0.0</td>\n",
       "      <td>0.0</td>\n",
       "      <td>69.884211</td>\n",
       "      <td>-34.541321</td>\n",
       "      <td>110.931677</td>\n",
       "      <td>25.651374</td>\n",
       "    </tr>\n",
       "    <tr>\n",
       "      <th>2021-09-22</th>\n",
       "      <td>106.333333</td>\n",
       "      <td>63.0</td>\n",
       "      <td>79.357143</td>\n",
       "      <td>-11.435961</td>\n",
       "      <td>17.38</td>\n",
       "      <td>0.0</td>\n",
       "      <td>0.0</td>\n",
       "      <td>172.236842</td>\n",
       "      <td>102.352632</td>\n",
       "      <td>98.740260</td>\n",
       "      <td>-12.191417</td>\n",
       "    </tr>\n",
       "    <tr>\n",
       "      <th>2021-09-23</th>\n",
       "      <td>76.300000</td>\n",
       "      <td>90.0</td>\n",
       "      <td>106.333333</td>\n",
       "      <td>26.976190</td>\n",
       "      <td>21.96</td>\n",
       "      <td>0.0</td>\n",
       "      <td>0.0</td>\n",
       "      <td>92.901099</td>\n",
       "      <td>-79.335743</td>\n",
       "      <td>111.183908</td>\n",
       "      <td>12.443648</td>\n",
       "    </tr>\n",
       "    <tr>\n",
       "      <th>2021-09-24</th>\n",
       "      <td>96.343511</td>\n",
       "      <td>131.0</td>\n",
       "      <td>76.300000</td>\n",
       "      <td>-30.033333</td>\n",
       "      <td>17.75</td>\n",
       "      <td>0.0</td>\n",
       "      <td>0.0</td>\n",
       "      <td>66.949367</td>\n",
       "      <td>-25.951732</td>\n",
       "      <td>117.342391</td>\n",
       "      <td>6.158483</td>\n",
       "    </tr>\n",
       "    <tr>\n",
       "      <th>2021-09-25</th>\n",
       "      <td>62.956989</td>\n",
       "      <td>93.0</td>\n",
       "      <td>96.343511</td>\n",
       "      <td>20.043511</td>\n",
       "      <td>21.81</td>\n",
       "      <td>0.0</td>\n",
       "      <td>0.0</td>\n",
       "      <td>89.529412</td>\n",
       "      <td>22.580045</td>\n",
       "      <td>151.321839</td>\n",
       "      <td>33.979448</td>\n",
       "    </tr>\n",
       "  </tbody>\n",
       "</table>\n",
       "</div>"
      ],
      "text/plain": [
       "             idle_time  bike_count   Yesterday  Yesterday_Diff   temp  rain  \\\n",
       "date                                                                          \n",
       "2021-09-21   79.357143        84.0   90.793103       -0.312957  16.03   0.0   \n",
       "2021-09-22  106.333333        63.0   79.357143      -11.435961  17.38   0.0   \n",
       "2021-09-23   76.300000        90.0  106.333333       26.976190  21.96   0.0   \n",
       "2021-09-24   96.343511       131.0   76.300000      -30.033333  17.75   0.0   \n",
       "2021-09-25   62.956989        93.0   96.343511       20.043511  21.81   0.0   \n",
       "\n",
       "            snow   Last_Week  Last_Week_Diff   Last_Year  Last_Year_Diff  \n",
       "date                                                                      \n",
       "2021-09-21   0.0   69.884211      -34.541321  110.931677       25.651374  \n",
       "2021-09-22   0.0  172.236842      102.352632   98.740260      -12.191417  \n",
       "2021-09-23   0.0   92.901099      -79.335743  111.183908       12.443648  \n",
       "2021-09-24   0.0   66.949367      -25.951732  117.342391        6.158483  \n",
       "2021-09-25   0.0   89.529412       22.580045  151.321839       33.979448  "
      ]
     },
     "execution_count": 129,
     "metadata": {},
     "output_type": "execute_result"
    }
   ],
   "source": [
    "data_consumption_v2.tail()"
   ]
  },
  {
   "cell_type": "code",
   "execution_count": 130,
   "id": "4917d259",
   "metadata": {},
   "outputs": [
    {
     "name": "stderr",
     "output_type": "stream",
     "text": [
      "/var/folders/5t/28jzvs016nq5vxslb670gs040000gn/T/ipykernel_1268/1832955299.py:3: FutureWarning: Indexing a DataFrame with a datetimelike index using a single string to slice the rows, like `frame[string]`, is deprecated and will be removed in a future version. Use `frame.loc[string]` instead.\n",
      "  X_test = data_consumption_v2['2021'].drop(['idle_time'], axis = 1)\n"
     ]
    }
   ],
   "source": [
    "X_train_2o = data_consumption_v2[:'2020'].drop(['idle_time'], axis = 1)\n",
    "y_train_2o = data_consumption_v2.loc[:'2020', 'idle_time']\n",
    "X_test = data_consumption_v2['2021'].drop(['idle_time'], axis = 1)\n",
    "y_test = data_consumption_v2.loc['2021', 'idle_time']"
   ]
  },
  {
   "cell_type": "code",
   "execution_count": 131,
   "id": "239ff69c",
   "metadata": {},
   "outputs": [
    {
     "name": "stdout",
     "output_type": "stream",
     "text": [
      "explained_variance:  0.7567\n",
      "mean_squared_log_error:  0.1808\n",
      "r2:  0.752\n",
      "MAE:  73.908\n",
      "MSE:  11267.0447\n",
      "RMSE:  106.1463\n"
     ]
    }
   ],
   "source": [
    "model = RandomForestRegressor()\n",
    "param_search = { \n",
    "    'n_estimators': [20, 50, 100],\n",
    "    'max_features': ['auto', 'sqrt', 'log2'],\n",
    "    'max_depth' : [i for i in range(5,15)]\n",
    "}\n",
    "tscv = TimeSeriesSplit(n_splits=10)\n",
    "gsearch = GridSearchCV(estimator=model, cv=tscv, param_grid=param_search, scoring = rmse_score)\n",
    "gsearch.fit(X_train_2o, y_train_2o)\n",
    "best_score = gsearch.best_score_\n",
    "best_model = gsearch.best_estimator_\n",
    "\n",
    "y_true = y_test.values\n",
    "y_pred = best_model.predict(X_test)\n",
    "regression_results(y_true, y_pred)"
   ]
  },
  {
   "cell_type": "markdown",
   "id": "63c50014",
   "metadata": {},
   "source": [
    "# variable importance plot"
   ]
  },
  {
   "cell_type": "code",
   "execution_count": 134,
   "id": "f30f6d09",
   "metadata": {},
   "outputs": [
    {
     "data": {
      "image/png": "[encoded data removed]",
      "text/plain": [
       "<Figure size 432x288 with 1 Axes>"
      ]
     },
     "metadata": {
      "needs_background": "light"
     },
     "output_type": "display_data"
    }
   ],
   "source": [
    "imp = best_model.feature_importances_\n",
    "features = X_train_2o.columns\n",
    "indices = np.argsort(imp)\n",
    "plt.title('Feature Importances')\n",
    "plt.barh(range(len(indices)), imp[indices], color='b', align='center')\n",
    "plt.yticks(range(len(indices)), [features[i] for i in indices])\n",
    "plt.xlabel('Relative Importance')\n",
    "plt.show()"
   ]
  },
  {
   "cell_type": "code",
   "execution_count": 135,
   "id": "b98f1620",
   "metadata": {},
   "outputs": [],
   "source": [
    "data_consumption_v2.to_csv('../data/ts_data_hex_881f1a8cb7fffff_3y.csv')"
   ]
  },
  {
   "cell_type": "code",
   "execution_count": 21,
   "id": "26ea299e",
   "metadata": {},
   "outputs": [],
   "source": [
    "def plottmp(x):\n",
    "    fig, ax1 = plt.subplots(figsize = (20,10))\n",
    "    \n",
    "    ax1.plot(x['idle_time'].rolling(window = 7, center = True).mean(), linewidth=2,color='red', label='Idle Time Mean')\n",
    "    ax1.set_xlabel('day')\n",
    "    ax1.set_ylabel('timestood (min)')\n",
    "    ax1.tick_params(axis ='y', labelcolor = 'red') \n",
    "    \n",
    "    ax2 = ax1.twinx()\n",
    "    ax2.plot(x['bike_count'].rolling(window = 7, center = True).mean(), linewidth=2, label='bike_count')\n",
    "    ax2.set_ylabel('bike_count')\n",
    "    ax2.tick_params(axis ='y', labelcolor = 'blue')\n",
    "    \n",
    "    plt.show()"
   ]
  },
  {
   "cell_type": "code",
   "execution_count": 22,
   "id": "22a4601c",
   "metadata": {},
   "outputs": [
    {
     "ename": "NameError",
     "evalue": "name 'data_consumption_v2' is not defined",
     "output_type": "error",
     "traceback": [
      "\u001B[0;31m---------------------------------------------------------------------------\u001B[0m",
      "\u001B[0;31mNameError\u001B[0m                                 Traceback (most recent call last)",
      "\u001B[0;32m/var/folders/5t/28jzvs016nq5vxslb670gs040000gn/T/ipykernel_4202/1808950965.py\u001B[0m in \u001B[0;36m<module>\u001B[0;34m\u001B[0m\n\u001B[0;32m----> 1\u001B[0;31m \u001B[0mplottmp\u001B[0m\u001B[0;34m(\u001B[0m\u001B[0mdata_consumption_v2\u001B[0m\u001B[0;34m)\u001B[0m\u001B[0;34m\u001B[0m\u001B[0;34m\u001B[0m\u001B[0m\n\u001B[0m",
      "\u001B[0;31mNameError\u001B[0m: name 'data_consumption_v2' is not defined"
     ]
    }
   ],
   "source": [
    "plottmp(data_consumption_v2)"
   ]
  },
  {
   "cell_type": "code",
   "execution_count": null,
   "id": "db1ab77b",
   "metadata": {},
   "outputs": [],
   "source": []
  }
 ],
 "metadata": {
  "kernelspec": {
   "display_name": "Python 3 (ipykernel)",
   "language": "python",
   "name": "python3"
  },
  "language_info": {
   "codemirror_mode": {
    "name": "ipython",
    "version": 3
   },
   "file_extension": ".py",
   "mimetype": "text/x-python",
   "name": "python",
   "nbconvert_exporter": "python",
   "pygments_lexer": "ipython3",
   "version": "3.9.7"
  }
 },
 "nbformat": 4,
 "nbformat_minor": 5
}