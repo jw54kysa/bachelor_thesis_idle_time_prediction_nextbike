{
 "cells": [
  {
   "cell_type": "code",
   "execution_count": 1,
   "metadata": {
    "collapsed": true
   },
   "outputs": [],
   "source": [
    "import pandas as pd\n",
    "\n",
    "df_points = pd.read_csv('../data/final_df_points_18_21_class.csv')"
   ]
  },
  {
   "cell_type": "code",
   "execution_count": 2,
   "outputs": [],
   "source": [
    "# add hex enc\n",
    "from sklearn import preprocessing\n",
    "label_encoder = preprocessing.LabelEncoder()\n",
    "df_points['hex_enc']= label_encoder.fit_transform(df_points['hex_id'])"
   ],
   "metadata": {
    "collapsed": false,
    "pycharm": {
     "name": "#%%\n"
    }
   }
  },
  {
   "cell_type": "code",
   "execution_count": 3,
   "outputs": [],
   "source": [
    "def on_station(row):\n",
    "    if row['end_station_number'] != 0:\n",
    "        return 1\n",
    "    else: return 0\n",
    "\n",
    "df_points['on_station'] = df_points.apply(on_station,axis=1)"
   ],
   "metadata": {
    "collapsed": false,
    "pycharm": {
     "name": "#%%\n"
    }
   }
  },
  {
   "cell_type": "code",
   "execution_count": 4,
   "outputs": [],
   "source": [
    "zone_encoder = preprocessing.LabelEncoder()\n",
    "df_points['zone_name_enc']= zone_encoder.fit_transform(df_points['zone_name'])"
   ],
   "metadata": {
    "collapsed": false,
    "pycharm": {
     "name": "#%%\n"
    }
   }
  },
  {
   "cell_type": "code",
   "execution_count": 5,
   "outputs": [
    {
     "data": {
      "text/plain": "         bike_id        lat        lng    dt_start      dt_end  \\\n0           3694  51.323619  12.335887  1514764029  1514764799   \n1           2508  51.323619  12.335887  1514764035  1514764799   \n2          41851  51.332415  12.395158  1514764638  1514764799   \n3           3694  51.323619  12.335887  1514764800  1514814103   \n4           2508  51.323619  12.335887  1514764800  1514851199   \n...          ...        ...        ...         ...         ...   \n2543825    72058  51.317569  12.382730  1640897593  1640904368   \n2543826    71949  51.334711  12.356763  1640897835  1640899343   \n2543827    97785  51.367276  12.369792  1640898086  1640900985   \n2543828    41738  51.366942  12.370322  1640900918  1640903516   \n2543829    72028  51.332844  12.404319  1640903200  1640905163   \n\n                  hex_id  hex_enc  in_zone                   zone_name  \\\n0        881f1a8d91fffff      324        1  Pinke Zone Leipzig West 1€   \n1        881f1a8d91fffff      324        1  Pinke Zone Leipzig West 1€   \n2        881f1a1659fffff      137        1   Pinke Zone Leipzig Ost 1€   \n3        881f1a8d91fffff      324        1  Pinke Zone Leipzig West 1€   \n4        881f1a8d91fffff      324        1  Pinke Zone Leipzig West 1€   \n...                  ...      ...      ...                         ...   \n2543825  881f1a1609fffff      102        1   Blaue Zone Leipzig Ost 0€   \n2543826  881f1a1649fffff      130        1   Pinke Zone Leipzig Ost 1€   \n2543827  881f1a8c8bfffff      265        1   Blaue Zone Leipzig Ost 0€   \n2543828  881f1a8c8bfffff      265        1   Pinke Zone Leipzig Ost 1€   \n2543829  881f1a165bfffff      138        1   Blaue Zone Leipzig Ost 0€   \n\n         zone_name_enc  ...  wind_speed  humidity  year  month  day  \\\n0                    4  ...        7.20      76.0  2017     12    6   \n1                    4  ...        7.20      76.0  2017     12    6   \n2                    3  ...        7.20      76.0  2017     12    6   \n3                    4  ...        9.30      76.0  2018      1    0   \n4                    4  ...        9.30      76.0  2018      1    0   \n...                ...  ...         ...       ...   ...    ...  ...   \n2543825              1  ...        8.94      83.0  2021     12    3   \n2543826              3  ...        8.94      83.0  2021     12    3   \n2543827              1  ...        8.05      84.0  2021     12    3   \n2543828              3  ...        8.05      84.0  2021     12    3   \n2543829              1  ...        8.05      81.0  2021     12    3   \n\n         start_min  over_night  idle_time_next_day  idle_time  idle_time_class  \n0             1427           1                 821         12                1  \n1             1427           1                1439         12                1  \n2             1437           1                1439          2                1  \n3                0           0                   0        821                4  \n4                0           1                 878       1439                4  \n...            ...         ...                 ...        ...              ...  \n2543825       1253           0                   0        112                2  \n2543826       1257           0                   0         25                1  \n2543827       1261           0                   0         48                1  \n2543828       1309           0                   0         43                1  \n2543829       1347           0                   0         32                1  \n\n[2543830 rows x 25 columns]",
      "text/html": "<div>\n<style scoped>\n    .dataframe tbody tr th:only-of-type {\n        vertical-align: middle;\n    }\n\n    .dataframe tbody tr th {\n        vertical-align: top;\n    }\n\n    .dataframe thead th {\n        text-align: right;\n    }\n</style>\n<table border=\"1\" class=\"dataframe\">\n  <thead>\n    <tr style=\"text-align: right;\">\n      <th></th>\n      <th>bike_id</th>\n      <th>lat</th>\n      <th>lng</th>\n      <th>dt_start</th>\n      <th>dt_end</th>\n      <th>hex_id</th>\n      <th>hex_enc</th>\n      <th>in_zone</th>\n      <th>zone_name</th>\n      <th>zone_name_enc</th>\n      <th>...</th>\n      <th>wind_speed</th>\n      <th>humidity</th>\n      <th>year</th>\n      <th>month</th>\n      <th>day</th>\n      <th>start_min</th>\n      <th>over_night</th>\n      <th>idle_time_next_day</th>\n      <th>idle_time</th>\n      <th>idle_time_class</th>\n    </tr>\n  </thead>\n  <tbody>\n    <tr>\n      <th>0</th>\n      <td>3694</td>\n      <td>51.323619</td>\n      <td>12.335887</td>\n      <td>1514764029</td>\n      <td>1514764799</td>\n      <td>881f1a8d91fffff</td>\n      <td>324</td>\n      <td>1</td>\n      <td>Pinke Zone Leipzig West 1€</td>\n      <td>4</td>\n      <td>...</td>\n      <td>7.20</td>\n      <td>76.0</td>\n      <td>2017</td>\n      <td>12</td>\n      <td>6</td>\n      <td>1427</td>\n      <td>1</td>\n      <td>821</td>\n      <td>12</td>\n      <td>1</td>\n    </tr>\n    <tr>\n      <th>1</th>\n      <td>2508</td>\n      <td>51.323619</td>\n      <td>12.335887</td>\n      <td>1514764035</td>\n      <td>1514764799</td>\n      <td>881f1a8d91fffff</td>\n      <td>324</td>\n      <td>1</td>\n      <td>Pinke Zone Leipzig West 1€</td>\n      <td>4</td>\n      <td>...</td>\n      <td>7.20</td>\n      <td>76.0</td>\n      <td>2017</td>\n      <td>12</td>\n      <td>6</td>\n      <td>1427</td>\n      <td>1</td>\n      <td>1439</td>\n      <td>12</td>\n      <td>1</td>\n    </tr>\n    <tr>\n      <th>2</th>\n      <td>41851</td>\n      <td>51.332415</td>\n      <td>12.395158</td>\n      <td>1514764638</td>\n      <td>1514764799</td>\n      <td>881f1a1659fffff</td>\n      <td>137</td>\n      <td>1</td>\n      <td>Pinke Zone Leipzig Ost 1€</td>\n      <td>3</td>\n      <td>...</td>\n      <td>7.20</td>\n      <td>76.0</td>\n      <td>2017</td>\n      <td>12</td>\n      <td>6</td>\n      <td>1437</td>\n      <td>1</td>\n      <td>1439</td>\n      <td>2</td>\n      <td>1</td>\n    </tr>\n    <tr>\n      <th>3</th>\n      <td>3694</td>\n      <td>51.323619</td>\n      <td>12.335887</td>\n      <td>1514764800</td>\n      <td>1514814103</td>\n      <td>881f1a8d91fffff</td>\n      <td>324</td>\n      <td>1</td>\n      <td>Pinke Zone Leipzig West 1€</td>\n      <td>4</td>\n      <td>...</td>\n      <td>9.30</td>\n      <td>76.0</td>\n      <td>2018</td>\n      <td>1</td>\n      <td>0</td>\n      <td>0</td>\n      <td>0</td>\n      <td>0</td>\n      <td>821</td>\n      <td>4</td>\n    </tr>\n    <tr>\n      <th>4</th>\n      <td>2508</td>\n      <td>51.323619</td>\n      <td>12.335887</td>\n      <td>1514764800</td>\n      <td>1514851199</td>\n      <td>881f1a8d91fffff</td>\n      <td>324</td>\n      <td>1</td>\n      <td>Pinke Zone Leipzig West 1€</td>\n      <td>4</td>\n      <td>...</td>\n      <td>9.30</td>\n      <td>76.0</td>\n      <td>2018</td>\n      <td>1</td>\n      <td>0</td>\n      <td>0</td>\n      <td>1</td>\n      <td>878</td>\n      <td>1439</td>\n      <td>4</td>\n    </tr>\n    <tr>\n      <th>...</th>\n      <td>...</td>\n      <td>...</td>\n      <td>...</td>\n      <td>...</td>\n      <td>...</td>\n      <td>...</td>\n      <td>...</td>\n      <td>...</td>\n      <td>...</td>\n      <td>...</td>\n      <td>...</td>\n      <td>...</td>\n      <td>...</td>\n      <td>...</td>\n      <td>...</td>\n      <td>...</td>\n      <td>...</td>\n      <td>...</td>\n      <td>...</td>\n      <td>...</td>\n      <td>...</td>\n    </tr>\n    <tr>\n      <th>2543825</th>\n      <td>72058</td>\n      <td>51.317569</td>\n      <td>12.382730</td>\n      <td>1640897593</td>\n      <td>1640904368</td>\n      <td>881f1a1609fffff</td>\n      <td>102</td>\n      <td>1</td>\n      <td>Blaue Zone Leipzig Ost 0€</td>\n      <td>1</td>\n      <td>...</td>\n      <td>8.94</td>\n      <td>83.0</td>\n      <td>2021</td>\n      <td>12</td>\n      <td>3</td>\n      <td>1253</td>\n      <td>0</td>\n      <td>0</td>\n      <td>112</td>\n      <td>2</td>\n    </tr>\n    <tr>\n      <th>2543826</th>\n      <td>71949</td>\n      <td>51.334711</td>\n      <td>12.356763</td>\n      <td>1640897835</td>\n      <td>1640899343</td>\n      <td>881f1a1649fffff</td>\n      <td>130</td>\n      <td>1</td>\n      <td>Pinke Zone Leipzig Ost 1€</td>\n      <td>3</td>\n      <td>...</td>\n      <td>8.94</td>\n      <td>83.0</td>\n      <td>2021</td>\n      <td>12</td>\n      <td>3</td>\n      <td>1257</td>\n      <td>0</td>\n      <td>0</td>\n      <td>25</td>\n      <td>1</td>\n    </tr>\n    <tr>\n      <th>2543827</th>\n      <td>97785</td>\n      <td>51.367276</td>\n      <td>12.369792</td>\n      <td>1640898086</td>\n      <td>1640900985</td>\n      <td>881f1a8c8bfffff</td>\n      <td>265</td>\n      <td>1</td>\n      <td>Blaue Zone Leipzig Ost 0€</td>\n      <td>1</td>\n      <td>...</td>\n      <td>8.05</td>\n      <td>84.0</td>\n      <td>2021</td>\n      <td>12</td>\n      <td>3</td>\n      <td>1261</td>\n      <td>0</td>\n      <td>0</td>\n      <td>48</td>\n      <td>1</td>\n    </tr>\n    <tr>\n      <th>2543828</th>\n      <td>41738</td>\n      <td>51.366942</td>\n      <td>12.370322</td>\n      <td>1640900918</td>\n      <td>1640903516</td>\n      <td>881f1a8c8bfffff</td>\n      <td>265</td>\n      <td>1</td>\n      <td>Pinke Zone Leipzig Ost 1€</td>\n      <td>3</td>\n      <td>...</td>\n      <td>8.05</td>\n      <td>84.0</td>\n      <td>2021</td>\n      <td>12</td>\n      <td>3</td>\n      <td>1309</td>\n      <td>0</td>\n      <td>0</td>\n      <td>43</td>\n      <td>1</td>\n    </tr>\n    <tr>\n      <th>2543829</th>\n      <td>72028</td>\n      <td>51.332844</td>\n      <td>12.404319</td>\n      <td>1640903200</td>\n      <td>1640905163</td>\n      <td>881f1a165bfffff</td>\n      <td>138</td>\n      <td>1</td>\n      <td>Blaue Zone Leipzig Ost 0€</td>\n      <td>1</td>\n      <td>...</td>\n      <td>8.05</td>\n      <td>81.0</td>\n      <td>2021</td>\n      <td>12</td>\n      <td>3</td>\n      <td>1347</td>\n      <td>0</td>\n      <td>0</td>\n      <td>32</td>\n      <td>1</td>\n    </tr>\n  </tbody>\n</table>\n<p>2543830 rows × 25 columns</p>\n</div>"
     },
     "execution_count": 5,
     "metadata": {},
     "output_type": "execute_result"
    }
   ],
   "source": [
    "df_points = df_points.reindex(columns=['bike_id', 'lat', 'lng', 'dt_start', 'dt_end', 'hex_id','hex_enc', 'in_zone', 'zone_name','zone_name_enc','end_station_number','on_station','temp', 'rain', 'snow', 'wind_speed', 'humidity', 'year','month', 'day', 'start_min', 'over_night', 'idle_time_next_day', 'idle_time', 'idle_time_class'])\n",
    "\n",
    "df_points = df_points.sort_values(by=['dt_start'])\n",
    "df_points"
   ],
   "metadata": {
    "collapsed": false,
    "pycharm": {
     "name": "#%%\n"
    }
   }
  },
  {
   "cell_type": "code",
   "execution_count": 6,
   "outputs": [],
   "source": [
    "df_points.to_csv('../data/final_df_points_18_21_class_new_features.csv', index=False)"
   ],
   "metadata": {
    "collapsed": false,
    "pycharm": {
     "name": "#%%\n"
    }
   }
  },
  {
   "cell_type": "code",
   "execution_count": 6,
   "outputs": [],
   "source": [],
   "metadata": {
    "collapsed": false,
    "pycharm": {
     "name": "#%%\n"
    }
   }
  },
  {
   "cell_type": "markdown",
   "source": [
    "# test"
   ],
   "metadata": {
    "collapsed": false,
    "pycharm": {
     "name": "#%% md\n"
    }
   }
  },
  {
   "cell_type": "code",
   "execution_count": 6,
   "outputs": [],
   "source": [],
   "metadata": {
    "collapsed": false,
    "pycharm": {
     "name": "#%%\n"
    }
   }
  },
  {
   "cell_type": "code",
   "execution_count": 6,
   "outputs": [],
   "source": [],
   "metadata": {
    "collapsed": false,
    "pycharm": {
     "name": "#%%\n"
    }
   }
  },
  {
   "cell_type": "code",
   "execution_count": 7,
   "outputs": [],
   "source": [
    "import pandas as pd\n",
    "from sklearn.metrics import accuracy_score, precision_score, recall_score\n",
    "from sklearn.ensemble import RandomForestClassifier\n",
    "from sklearn.model_selection import train_test_split\n",
    "import wandb\n",
    "\n",
    "idle_time_data = pd.read_csv('../data/final_df_points_18_21_class_new_features.csv')\n",
    "\n",
    "TargetVariable = ['idle_time_class']\n",
    "Predictors = ['bike_id', 'lat', 'lng', 'temp', 'rain', 'snow', 'wind_speed', 'humidity', 'dt_start',\n",
    "              'hex_enc', 'start_min', 'year', 'month', 'day', 'on_station', 'in_zone', 'zone_name_enc']\n",
    "\n",
    "X = idle_time_data[Predictors].values\n",
    "y = idle_time_data[TargetVariable].values\n",
    "\n",
    "X_train, X_test, y_train, y_test = train_test_split(X, y, train_size=0.9, shuffle=False)\n"
   ],
   "metadata": {
    "collapsed": false,
    "pycharm": {
     "name": "#%%\n"
    }
   }
  },
  {
   "cell_type": "code",
   "execution_count": 13,
   "outputs": [],
   "source": [
    "model = RandomForestClassifier()"
   ],
   "metadata": {
    "collapsed": false,
    "pycharm": {
     "name": "#%%\n"
    }
   }
  },
  {
   "cell_type": "code",
   "execution_count": 14,
   "outputs": [],
   "source": [
    "model.fit(X_train, y_train.ravel())\n",
    "y_pred = model.predict(X_test)"
   ],
   "metadata": {
    "collapsed": false,
    "pycharm": {
     "name": "#%%\n"
    }
   }
  },
  {
   "cell_type": "code",
   "execution_count": 22,
   "outputs": [],
   "source": [
    "from sklearn.metrics import f1_score\n",
    "\n",
    "\n",
    "def eval_classification(y_test,y_pred):\n",
    "    # Metrics\n",
    "    # Accuracy, precision, recall\n",
    "    acc = accuracy_score(y_test, y_pred.ravel())\n",
    "    macro_precision = precision_score(y_test.ravel(), y_pred.ravel(), average='macro', labels=[1,2,3,4])\n",
    "    micro_precision = precision_score(y_test.ravel(), y_pred.ravel(), average='micro', labels=[1,2,3,4])\n",
    "    macro_recall = recall_score(y_test.ravel(), y_pred.ravel(), average='macro', labels=[1,2,3,4])\n",
    "    micro_recall = recall_score(y_test.ravel(), y_pred.ravel(), average='micro', labels=[1,2,3,4])\n",
    "\n",
    "    macro_f1 = f1_score(y_test.ravel(), y_pred.ravel(), average='macro', labels=[1,2,3,4])\n",
    "    micro_f1 = f1_score(y_test.ravel(), y_pred.ravel(), average='micro', labels=[1,2,3,4])\n",
    "\n",
    "    print(acc)\n",
    "    print(macro_precision, micro_precision)\n",
    "    print(macro_recall,micro_recall)\n",
    "    print(macro_f1,micro_f1)"
   ],
   "metadata": {
    "collapsed": false,
    "pycharm": {
     "name": "#%%\n"
    }
   }
  },
  {
   "cell_type": "code",
   "execution_count": 24,
   "outputs": [
    {
     "name": "stdout",
     "output_type": "stream",
     "text": [
      "[[33858 20010  9030  3702]\n",
      " [21166 31043 11948  4297]\n",
      " [10758 13473 28085 10860]\n",
      " [ 3757  7131  9597 35668]]\n",
      "0.5057492049390093\n",
      "0.5132548667690033 0.5057492049390093\n",
      "0.510402563276704 0.5057492049390093\n",
      "0.5115194559053415 0.5057492049390093\n",
      "              precision    recall  f1-score   support\n",
      "\n",
      "           1       0.49      0.51      0.50     66600\n",
      "           2       0.43      0.45      0.44     68454\n",
      "           3       0.48      0.44      0.46     63176\n",
      "           4       0.65      0.64      0.64     56153\n",
      "\n",
      "    accuracy                           0.51    254383\n",
      "   macro avg       0.51      0.51      0.51    254383\n",
      "weighted avg       0.51      0.51      0.51    254383\n",
      "\n"
     ]
    }
   ],
   "source": [
    "from sklearn.metrics import confusion_matrix, classification_report\n",
    "\n",
    "print(confusion_matrix(y_test, y_pred))\n",
    "accuracy_score(y_test,y_pred)\n",
    "\n",
    "eval_classification(y_test,y_pred)\n",
    "\n",
    "print(classification_report(y_test,y_pred))"
   ],
   "metadata": {
    "collapsed": false,
    "pycharm": {
     "name": "#%%\n"
    }
   }
  },
  {
   "cell_type": "code",
   "execution_count": null,
   "outputs": [],
   "source": [],
   "metadata": {
    "collapsed": false,
    "pycharm": {
     "name": "#%%\n"
    }
   }
  }
 ],
 "metadata": {
  "kernelspec": {
   "display_name": "Python 3",
   "language": "python",
   "name": "python3"
  },
  "language_info": {
   "codemirror_mode": {
    "name": "ipython",
    "version": 2
   },
   "file_extension": ".py",
   "mimetype": "text/x-python",
   "name": "python",
   "nbconvert_exporter": "python",
   "pygments_lexer": "ipython2",
   "version": "2.7.6"
  }
 },
 "nbformat": 4,
 "nbformat_minor": 0
}