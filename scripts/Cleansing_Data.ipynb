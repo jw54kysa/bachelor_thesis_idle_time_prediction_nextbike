{
 "cells": [
  {
   "cell_type": "markdown",
   "id": "b3ed9e1a",
   "metadata": {},
   "source": [
    "# df_points with UNIX Timestamp #\n",
    "## Creates df_points.csv with all points and idletimes #\n",
    "## Checks the valid geo location\n",
    "## deletes the invalid points: \n",
    "\n",
    "2018 - invalides: 41743 from 139171 that is 29.994036113845556 %\n",
    "\n",
    "2019 - invalides: 52523 from 550887 that is 9.534260202183024 % - 05:40:19\n",
    "\n",
    "2020 - invalides: 24163 from 539064 that is 4.482399121440126 % - 05:40:06\n",
    "\n",
    "2021 - invalides: 21382 from 552253 that is 3.8717761605640897 % - 05:51:53\n",
    "\n",
    "### ca 1h for 1 year"
   ]
  },
  {
   "cell_type": "code",
   "execution_count": 1,
   "id": "a791a421",
   "metadata": {},
   "outputs": [],
   "source": [
    "def import_data(source):\n",
    "    return pd.read_csv(source)"
   ]
  },
  {
   "cell_type": "code",
   "execution_count": 2,
   "id": "82359632",
   "metadata": {},
   "outputs": [],
   "source": [
    "def dic_out_of_df(df01):\n",
    "    import pandas as pd\n",
    "    from tqdm import tqdm\n",
    "    # Dict out of DataFrames of Trips per Bike\n",
    "\n",
    "    # init DFs for every bike\n",
    "    myDFs = {}\n",
    "\n",
    "    for ind in tqdm(df01.index):\n",
    "        if df01['bike_id'][ind] not in myDFs:\n",
    "            myDFs[df01['bike_id'][ind]] = pd.DataFrame(\n",
    "                columns=['bike_id',\n",
    "                         'start_time',\n",
    "                         'end_time',\n",
    "                         'start_lat',\n",
    "                         'start_lng',\n",
    "                         'end_lat',\n",
    "                         'end_lng',\n",
    "                         'end_station_number'])\n",
    "    return myDFs"
   ]
  },
  {
   "cell_type": "code",
   "execution_count": 3,
   "id": "941271a6",
   "metadata": {},
   "outputs": [],
   "source": [
    "def add_rentals_to_df(df01,myDFs):\n",
    "    from tqdm import tqdm\n",
    "    # Add all rentals to their bike_id DF\n",
    "    for ind in tqdm(df01.index):\n",
    "        if df01['bike_id'][ind] in myDFs:\n",
    "            myDFs[df01['bike_id'][ind]].loc[df01.index[ind]] = df01.iloc[ind]\n",
    "    return myDFs"
   ]
  },
  {
   "cell_type": "code",
   "execution_count": 4,
   "id": "3502fb99",
   "metadata": {},
   "outputs": [],
   "source": [
    "def sort_dfs(myDFs):\n",
    "    # sort every DF\n",
    "    for df in myDFs.values():\n",
    "        df[['bike_id', 'start_time','end_time']] = df[['bike_id', 'start_time','end_time']].astype(int)\n",
    "        df[['start_lat','start_lng', 'end_lat', 'end_lng']] = df[['start_lat','start_lng', 'end_lat', 'end_lng']].astype(float)\n",
    "        df.sort_values(by=['start_time'], inplace=True)\n",
    "        df.reset_index(drop=True, inplace=True)\n",
    "    return myDFs"
   ]
  },
  {
   "cell_type": "code",
   "execution_count": 5,
   "outputs": [],
   "source": [
    "# returns distance in meter\n",
    "# source: https://www.it-swarm.com.de/de/python/wie-kann-ich-die-entfernung-zwischen-zwei-punkten-breitengrad-laengengrad-schnell-schaetzen/1072488907/\n",
    "def get_distance(Lat1, Long1, Lat2, Long2):\n",
    "    x = Lat2 - Lat1\n",
    "    y = (Long2 - Long1)*cos((Lat2 + Lat1)*0.00872664626)\n",
    "    return 111.138*sqrt(x*x+y*y)*1000"
   ],
   "metadata": {
    "collapsed": false,
    "pycharm": {
     "name": "#%%\n"
    }
   }
  },
  {
   "cell_type": "code",
   "execution_count": 6,
   "id": "2b82d201",
   "metadata": {},
   "outputs": [],
   "source": [
    "def create_df_points(myDFs,radius):\n",
    "    # DF of all points with stoodtime\n",
    "    in_val = 0\n",
    "    val = 0 \n",
    "    \n",
    "    df_points = pd.DataFrame(columns=['bike_id', 'lat', 'lng', 'idle_time', 'time_start', 'time_end', 'end_station_number'])\n",
    "    #df_points[['bike_id', 'idle_time', 'time_start', 'time_end']] = df_points[['bike_id', 'idle_time', 'time_start', 'time_end']].astype(int)\n",
    "    #df_points[['lng', 'lat']] = df_points[['lng', 'lat']].astype(float)\n",
    "    \n",
    "    for df in tqdm(myDFs.values()):\n",
    "        for ind in df.index[1:]:\n",
    "            #in SECOUNDS\n",
    "            _idle_time = (df['start_time'][ind] - df['end_time'][ind - 1]).astype(int)\n",
    "            distance = get_distance(df['end_lat'][ind - 1], df['end_lng'][ind - 1], df['start_lat'][ind], df['start_lng'][ind])\n",
    "            if distance > radius:\n",
    "                in_val +=1\n",
    "                continue\n",
    "            val +=1\n",
    "            dict = {'bike_id': df['bike_id'][ind], 'lng': df['start_lng'][ind], 'lat': df['start_lat'][ind],\n",
    "                    'idle_time': _idle_time, 'time_start': df['end_time'][ind - 1], 'time_end': df['start_time'][ind], 'end_station_number': df['end_station_number'][ind-1]}\n",
    "            df_points = df_points.append(dict, ignore_index=True)\n",
    "    print(f\"invalides: {in_val} from {val} that is {in_val/val * 100} %\")\n",
    "    return df_points"
   ]
  },
  {
   "cell_type": "code",
   "execution_count": 7,
   "id": "edc119ca",
   "metadata": {},
   "outputs": [],
   "source": [
    "def keplerMap(df_points):\n",
    "    heatmap = KeplerGl()\n",
    "    heatmap.add_data(data=df_points, name='points')\n",
    "    heatmap.save_to_html(file_name='heatmap_test.html')"
   ]
  },
  {
   "cell_type": "markdown",
   "id": "2b4cd011",
   "metadata": {},
   "source": [
    "# Main \n",
    "## Create map"
   ]
  },
  {
   "cell_type": "code",
   "execution_count": 8,
   "id": "2e341a0e",
   "metadata": {},
   "outputs": [
    {
     "name": "stderr",
     "output_type": "stream",
     "text": [
      "100%|██████████| 574838/574838 [00:05<00:00, 96933.88it/s] \n",
      "100%|██████████| 574838/574838 [13:18<00:00, 719.79it/s]\n"
     ]
    }
   ],
   "source": [
    "from keplergl import KeplerGl\n",
    "import pandas as pd\n",
    "pd.options.mode.chained_assignment = None\n",
    "import time\n",
    "\n",
    "ts1 = time.time()\n",
    "\n",
    "source = '../data/raw_lendings/raw_lendings_2021.csv'\n",
    "\n",
    "df = import_data(source)\n",
    "myDfs = dic_out_of_df(df)\n",
    "myDfs = add_rentals_to_df(df, myDfs)\n",
    "myDfs = sort_dfs(myDfs)\n"
   ]
  },
  {
   "cell_type": "markdown",
   "id": "16b3a096",
   "metadata": {},
   "source": [
    "# Create DF_points\n",
    "## without invalid points"
   ]
  },
  {
   "cell_type": "code",
   "execution_count": 9,
   "id": "9fae31aa",
   "metadata": {},
   "outputs": [
    {
     "name": "stderr",
     "output_type": "stream",
     "text": [
      "100%|██████████| 1203/1203 [50:44<00:00,  2.53s/it]"
     ]
    },
    {
     "name": "stdout",
     "output_type": "stream",
     "text": [
      "invalides: 21382 from 552253 that is 3.8717761605640897 %\n"
     ]
    },
    {
     "name": "stderr",
     "output_type": "stream",
     "text": [
      "\n"
     ]
    }
   ],
   "source": [
    "from math import cos, sqrt\n",
    "from tqdm import tqdm\n",
    "\n",
    "radius = 20\n",
    "df_points = create_df_points(myDfs,radius)"
   ]
  },
  {
   "cell_type": "code",
   "execution_count": 10,
   "outputs": [
    {
     "data": {
      "text/plain": "         bike_id        lat        lng  idle_time    time_start      time_end  \\\n552248  102511.0  51.346111  12.357207   121093.0  1.640614e+09  1.640735e+09   \n552249  102511.0  51.346120  12.357187    73570.0  1.640736e+09  1.640809e+09   \n552250  102511.0  51.355333  12.370821    29032.0  1.640810e+09  1.640839e+09   \n552251  102511.0  51.340578  12.366774    39283.0  1.640839e+09  1.640879e+09   \n552252  102511.0  51.337324  12.358628    22694.0  1.640879e+09  1.640902e+09   \n\n        end_station_number  \n552248                 NaN  \n552249                 NaN  \n552250                 NaN  \n552251                 NaN  \n552252                 NaN  ",
      "text/html": "<div>\n<style scoped>\n    .dataframe tbody tr th:only-of-type {\n        vertical-align: middle;\n    }\n\n    .dataframe tbody tr th {\n        vertical-align: top;\n    }\n\n    .dataframe thead th {\n        text-align: right;\n    }\n</style>\n<table border=\"1\" class=\"dataframe\">\n  <thead>\n    <tr style=\"text-align: right;\">\n      <th></th>\n      <th>bike_id</th>\n      <th>lat</th>\n      <th>lng</th>\n      <th>idle_time</th>\n      <th>time_start</th>\n      <th>time_end</th>\n      <th>end_station_number</th>\n    </tr>\n  </thead>\n  <tbody>\n    <tr>\n      <th>552248</th>\n      <td>102511.0</td>\n      <td>51.346111</td>\n      <td>12.357207</td>\n      <td>121093.0</td>\n      <td>1.640614e+09</td>\n      <td>1.640735e+09</td>\n      <td>NaN</td>\n    </tr>\n    <tr>\n      <th>552249</th>\n      <td>102511.0</td>\n      <td>51.346120</td>\n      <td>12.357187</td>\n      <td>73570.0</td>\n      <td>1.640736e+09</td>\n      <td>1.640809e+09</td>\n      <td>NaN</td>\n    </tr>\n    <tr>\n      <th>552250</th>\n      <td>102511.0</td>\n      <td>51.355333</td>\n      <td>12.370821</td>\n      <td>29032.0</td>\n      <td>1.640810e+09</td>\n      <td>1.640839e+09</td>\n      <td>NaN</td>\n    </tr>\n    <tr>\n      <th>552251</th>\n      <td>102511.0</td>\n      <td>51.340578</td>\n      <td>12.366774</td>\n      <td>39283.0</td>\n      <td>1.640839e+09</td>\n      <td>1.640879e+09</td>\n      <td>NaN</td>\n    </tr>\n    <tr>\n      <th>552252</th>\n      <td>102511.0</td>\n      <td>51.337324</td>\n      <td>12.358628</td>\n      <td>22694.0</td>\n      <td>1.640879e+09</td>\n      <td>1.640902e+09</td>\n      <td>NaN</td>\n    </tr>\n  </tbody>\n</table>\n</div>"
     },
     "execution_count": 10,
     "metadata": {},
     "output_type": "execute_result"
    }
   ],
   "source": [
    "df_points.tail()"
   ],
   "metadata": {
    "collapsed": false,
    "pycharm": {
     "name": "#%%\n"
    }
   }
  },
  {
   "cell_type": "markdown",
   "id": "50748b61",
   "metadata": {},
   "source": [
    "# Split Points at midnight\n",
    "\n",
    "## save feature idle_time_next_day"
   ]
  },
  {
   "cell_type": "code",
   "execution_count": 11,
   "id": "0a6fc960",
   "metadata": {},
   "outputs": [],
   "source": [
    "df_points['idle_time'] = pd.to_timedelta(df_points['idle_time'],unit='s')\n",
    "df_points['time_start'] = pd.to_datetime(df_points['time_start'],unit='s')\n",
    "df_points['time_end'] = pd.to_datetime(df_points['time_end'],unit='s')"
   ]
  },
  {
   "cell_type": "code",
   "execution_count": 12,
   "id": "8395e5e9",
   "metadata": {},
   "outputs": [
    {
     "name": "stderr",
     "output_type": "stream",
     "text": [
      "100%|██████████| 552253/552253 [1:57:07<00:00, 78.58it/s]  \n",
      "100%|██████████| 691473/691473 [25:14<00:00, 456.49it/s]  \n",
      "100%|██████████| 717034/717034 [12:10<00:00, 981.21it/s]  \n",
      "100%|██████████| 728352/728352 [06:49<00:00, 1776.80it/s] \n",
      "100%|██████████| 734491/734491 [04:31<00:00, 2705.80it/s] \n",
      "100%|██████████| 738304/738304 [03:11<00:00, 3851.35it/s] \n",
      "100%|██████████| 740834/740834 [02:24<00:00, 5126.75it/s] \n",
      "100%|██████████| 742600/742600 [01:57<00:00, 6346.33it/s] \n",
      "100%|██████████| 743897/743897 [01:37<00:00, 7608.06it/s] \n",
      "100%|██████████| 744886/744886 [01:22<00:00, 9000.66it/s] \n",
      "100%|██████████| 745651/745651 [01:15<00:00, 9859.18it/s] \n",
      "100%|██████████| 746245/746245 [01:04<00:00, 11591.44it/s]\n",
      "100%|██████████| 746714/746714 [00:57<00:00, 12877.76it/s]\n",
      "100%|██████████| 747080/747080 [00:54<00:00, 13656.01it/s]\n",
      "100%|██████████| 747387/747387 [00:50<00:00, 14766.50it/s]\n",
      "100%|██████████| 747639/747639 [00:48<00:00, 15386.11it/s]\n",
      "100%|██████████| 747842/747842 [00:45<00:00, 16328.66it/s]\n",
      "100%|██████████| 748015/748015 [00:44<00:00, 16961.78it/s]\n",
      "100%|██████████| 748159/748159 [00:41<00:00, 17813.39it/s]\n",
      "100%|██████████| 748273/748273 [00:41<00:00, 17841.51it/s]\n",
      "100%|██████████| 748372/748372 [00:39<00:00, 18866.31it/s]\n",
      "100%|██████████| 748446/748446 [00:39<00:00, 19057.47it/s]\n",
      "100%|██████████| 748509/748509 [00:38<00:00, 19282.12it/s]\n",
      "100%|██████████| 748567/748567 [00:38<00:00, 19567.84it/s]\n",
      "100%|██████████| 748616/748616 [00:37<00:00, 19902.49it/s]\n",
      "100%|██████████| 748659/748659 [00:37<00:00, 20014.67it/s]\n",
      "100%|██████████| 748696/748696 [00:37<00:00, 20063.72it/s]\n",
      "100%|██████████| 748732/748732 [00:37<00:00, 20031.87it/s]\n",
      "100%|██████████| 748767/748767 [00:37<00:00, 20174.96it/s]\n",
      "100%|██████████| 748799/748799 [00:37<00:00, 20039.52it/s]\n",
      "100%|██████████| 748831/748831 [00:36<00:00, 20269.24it/s]\n",
      "100%|██████████| 748862/748862 [00:37<00:00, 20089.35it/s]\n",
      "100%|██████████| 748893/748893 [00:36<00:00, 20300.57it/s]\n",
      "100%|██████████| 748920/748920 [00:36<00:00, 20296.29it/s]\n",
      "100%|██████████| 748947/748947 [00:38<00:00, 19599.12it/s]\n",
      "100%|██████████| 748971/748971 [00:39<00:00, 18798.04it/s]\n",
      "100%|██████████| 748993/748993 [00:39<00:00, 18884.68it/s]\n",
      "100%|██████████| 749014/749014 [00:40<00:00, 18684.71it/s]\n",
      "100%|██████████| 749034/749034 [00:43<00:00, 17153.05it/s]\n",
      "100%|██████████| 749054/749054 [00:30<00:00, 24165.73it/s]\n",
      "100%|██████████| 749072/749072 [00:40<00:00, 18310.54it/s]\n",
      "100%|██████████| 749089/749089 [00:40<00:00, 18719.66it/s]\n",
      "100%|██████████| 749106/749106 [00:40<00:00, 18506.98it/s]\n",
      "100%|██████████| 749122/749122 [00:40<00:00, 18484.59it/s]\n",
      "100%|██████████| 749138/749138 [00:39<00:00, 18821.62it/s]\n",
      "100%|██████████| 749154/749154 [00:40<00:00, 18374.21it/s]\n",
      "100%|██████████| 749169/749169 [00:39<00:00, 18918.50it/s]\n",
      "100%|██████████| 749181/749181 [00:39<00:00, 18831.88it/s]\n",
      "100%|██████████| 749192/749192 [00:39<00:00, 18965.64it/s]\n",
      "100%|██████████| 749202/749202 [00:38<00:00, 19251.06it/s]\n",
      "100%|██████████| 749210/749210 [00:38<00:00, 19232.77it/s]\n",
      "100%|██████████| 749217/749217 [00:38<00:00, 19415.51it/s]\n",
      "100%|██████████| 749224/749224 [00:38<00:00, 19495.22it/s]\n",
      "100%|██████████| 749230/749230 [00:39<00:00, 19112.14it/s]\n",
      "100%|██████████| 749236/749236 [00:38<00:00, 19441.02it/s]\n",
      "100%|██████████| 749242/749242 [00:38<00:00, 19615.96it/s]\n",
      "100%|██████████| 749248/749248 [00:38<00:00, 19658.62it/s]\n",
      "100%|██████████| 749254/749254 [00:38<00:00, 19672.84it/s]\n",
      "100%|██████████| 749259/749259 [00:38<00:00, 19620.96it/s]\n",
      "100%|██████████| 749264/749264 [00:37<00:00, 19768.29it/s]\n",
      "100%|██████████| 749269/749269 [00:38<00:00, 19462.75it/s]\n",
      "100%|██████████| 749274/749274 [00:38<00:00, 19462.90it/s]\n",
      "100%|██████████| 749278/749278 [00:37<00:00, 19977.54it/s]\n",
      "100%|██████████| 749281/749281 [00:37<00:00, 19792.77it/s]\n",
      "100%|██████████| 749284/749284 [00:37<00:00, 19790.71it/s]\n",
      "100%|██████████| 749287/749287 [00:38<00:00, 19573.46it/s]\n",
      "100%|██████████| 749290/749290 [00:38<00:00, 19663.36it/s]\n",
      "100%|██████████| 749293/749293 [00:37<00:00, 19896.48it/s]\n",
      "100%|██████████| 749295/749295 [00:37<00:00, 19800.17it/s]\n",
      "100%|██████████| 749297/749297 [00:37<00:00, 19769.86it/s]\n",
      "100%|██████████| 749299/749299 [00:37<00:00, 19970.10it/s]\n",
      "100%|██████████| 749301/749301 [00:38<00:00, 19569.09it/s]\n",
      "100%|██████████| 749303/749303 [00:37<00:00, 20079.65it/s]\n",
      "100%|██████████| 749305/749305 [00:37<00:00, 19879.25it/s]\n",
      "100%|██████████| 749307/749307 [00:38<00:00, 19580.77it/s]\n",
      "100%|██████████| 749309/749309 [00:37<00:00, 19783.49it/s]\n",
      "100%|██████████| 749311/749311 [00:37<00:00, 19860.66it/s]\n",
      "100%|██████████| 749313/749313 [00:37<00:00, 20002.27it/s]\n",
      "100%|██████████| 749315/749315 [00:36<00:00, 20252.12it/s]\n",
      "100%|██████████| 749316/749316 [00:37<00:00, 20065.34it/s]\n",
      "100%|██████████| 749317/749317 [00:37<00:00, 20060.07it/s]\n",
      "100%|██████████| 749318/749318 [00:37<00:00, 19987.11it/s]\n",
      "100%|██████████| 749319/749319 [00:36<00:00, 20289.17it/s]\n",
      "100%|██████████| 749320/749320 [00:37<00:00, 20173.59it/s]\n",
      "100%|██████████| 749321/749321 [00:37<00:00, 20077.32it/s]\n",
      "100%|██████████| 749322/749322 [00:37<00:00, 20116.44it/s]\n",
      "100%|██████████| 749323/749323 [00:36<00:00, 20258.73it/s]\n",
      "100%|██████████| 749324/749324 [00:37<00:00, 20216.49it/s]\n",
      "100%|██████████| 749325/749325 [00:36<00:00, 20274.57it/s]\n",
      "100%|██████████| 749326/749326 [00:37<00:00, 20236.88it/s]\n",
      "100%|██████████| 749327/749327 [00:37<00:00, 20173.73it/s]\n",
      "100%|██████████| 749328/749328 [00:37<00:00, 20224.35it/s]\n",
      "100%|██████████| 749329/749329 [00:37<00:00, 20199.82it/s]\n",
      "100%|██████████| 749330/749330 [00:37<00:00, 20106.17it/s]\n",
      "100%|██████████| 749331/749331 [00:36<00:00, 20453.59it/s]\n",
      "100%|██████████| 749332/749332 [00:36<00:00, 20335.94it/s]\n",
      "100%|██████████| 749333/749333 [00:36<00:00, 20291.84it/s]\n",
      "100%|██████████| 749334/749334 [00:36<00:00, 20361.53it/s]\n",
      "100%|██████████| 749335/749335 [00:36<00:00, 20528.53it/s]\n",
      "100%|██████████| 749336/749336 [00:36<00:00, 20578.22it/s]\n",
      "100%|██████████| 749337/749337 [00:36<00:00, 20586.82it/s]\n",
      "100%|██████████| 749338/749338 [00:36<00:00, 20370.06it/s]\n",
      "100%|██████████| 749339/749339 [00:36<00:00, 20456.02it/s]\n",
      "100%|██████████| 749340/749340 [00:36<00:00, 20591.08it/s]\n",
      "100%|██████████| 749341/749341 [00:36<00:00, 20690.47it/s]\n",
      "100%|██████████| 749342/749342 [00:36<00:00, 20442.23it/s]\n",
      "100%|██████████| 749343/749343 [00:36<00:00, 20444.87it/s]\n",
      "100%|██████████| 749344/749344 [00:36<00:00, 20381.93it/s]\n",
      "100%|██████████| 749345/749345 [00:36<00:00, 20488.17it/s]\n",
      "100%|██████████| 749346/749346 [00:36<00:00, 20522.65it/s]\n",
      "100%|██████████| 749347/749347 [00:36<00:00, 20513.59it/s]\n",
      "100%|██████████| 749348/749348 [00:35<00:00, 20829.50it/s]\n",
      "100%|██████████| 749349/749349 [00:36<00:00, 20758.80it/s]"
     ]
    },
    {
     "name": "stdout",
     "output_type": "stream",
     "text": [
      "113\n"
     ]
    },
    {
     "name": "stderr",
     "output_type": "stream",
     "text": [
      "\n"
     ]
    }
   ],
   "source": [
    "from tqdm import tqdm\n",
    "from datetime import timedelta\n",
    "import numpy as np\n",
    "\n",
    "changed = 1\n",
    "iterations = 0\n",
    "\n",
    "df_points['idle_time_next_day'] = np.nan\n",
    "df_points['over_night'] = 0\n",
    "\n",
    "while changed:\n",
    "    iterations += 1\n",
    "    changed = 0\n",
    "    for ind in tqdm(df_points.index):\n",
    "        ts = df_points['time_start'][ind]\n",
    "        te = df_points['time_end'][ind]\n",
    "        t0 = ts.replace(hour=23, minute=59, second=59)\n",
    "        \n",
    "        # is timestood greater than same date 23:59:59\n",
    "        #   -> over midnight\n",
    "        if ts + df_points['idle_time'][ind] > t0:\n",
    "            changed = 1\n",
    "            \n",
    "            underhang = t0 - ts\n",
    "            overhang = te - t0\n",
    "            \n",
    "            # fix current day\n",
    "            df_points['time_end'][ind] = ts.replace(hour=23, minute=59, second=59)\n",
    "            df_points['idle_time'][ind] = underhang\n",
    "            df_points['over_night'][ind] = 1\n",
    "            df_points['idle_time_next_day'][ind] = overhang\n",
    "            \n",
    "            # add new row for the next day\n",
    "            time_start = ts.replace(hour=0, minute=0, second=0)\n",
    "            time_start += timedelta(days=1)\n",
    "            flag = 0\n",
    "            #if time_start + overhang > time_start.replace(hour=23, minute=59, second=59):\n",
    "            #    flag = 1\n",
    "            \n",
    "            dict = {'bike_id': df_points['bike_id'][ind], 'lng': df_points['lng'][ind], 'lat': df_points['lat'][ind],\n",
    "                    'idle_time': overhang, 'time_start': time_start, 'time_end': te,'over_night': flag, 'idle_time_next_day': np.nan, 'end_station_number': df_points['end_station_number'][ind]}\n",
    "            df_points = df_points.append(dict, ignore_index=True)\n",
    "\n",
    "print(iterations)"
   ]
  },
  {
   "cell_type": "code",
   "execution_count": 13,
   "outputs": [
    {
     "data": {
      "text/plain": "        bike_id        lat        lng       idle_time          time_start  \\\n0       93487.0  51.326737  12.358117 0 days 00:33:09 2021-01-03 08:38:21   \n1       93487.0  51.318782  12.368816 0 days 14:41:06 2021-01-03 09:18:53   \n2       93487.0  51.328800  12.371326 0 days 09:53:19 2021-01-05 14:06:40   \n3       93487.0  51.329124  12.371294 0 days 10:33:40 2021-01-07 13:26:19   \n4       93487.0  51.335262  12.339411 0 days 01:11:45 2021-01-08 22:48:14   \n...         ...        ...        ...             ...                 ...   \n749344  97516.0  51.324809  12.336997 0 days 23:59:59 2021-10-09 00:00:00   \n749345  97516.0  51.324809  12.336997 0 days 23:59:59 2021-10-10 00:00:00   \n749346  97516.0  51.324809  12.336997 0 days 23:59:59 2021-10-11 00:00:00   \n749347  97516.0  51.324809  12.336997 0 days 23:59:59 2021-10-12 00:00:00   \n749348  97516.0  51.324809  12.336997 0 days 18:16:18 2021-10-13 00:00:00   \n\n                  time_end  end_station_number idle_time_next_day  over_night  \n0      2021-01-03 09:11:30              4034.0                NaN           0  \n1      2021-01-03 23:59:59                 NaN    1 days 14:02:38           1  \n2      2021-01-05 23:59:59                 NaN    0 days 20:03:08           1  \n3      2021-01-07 23:59:59                 NaN    0 days 11:46:52           1  \n4      2021-01-08 23:59:59                 NaN    0 days 20:59:28           1  \n...                    ...                 ...                ...         ...  \n749344 2021-10-09 23:59:59              4051.0    3 days 18:16:18           1  \n749345 2021-10-10 23:59:59              4051.0    2 days 18:16:18           1  \n749346 2021-10-11 23:59:59              4051.0    1 days 18:16:18           1  \n749347 2021-10-12 23:59:59              4051.0    0 days 18:16:18           1  \n749348 2021-10-13 18:16:17              4051.0                NaN           0  \n\n[749349 rows x 9 columns]",
      "text/html": "<div>\n<style scoped>\n    .dataframe tbody tr th:only-of-type {\n        vertical-align: middle;\n    }\n\n    .dataframe tbody tr th {\n        vertical-align: top;\n    }\n\n    .dataframe thead th {\n        text-align: right;\n    }\n</style>\n<table border=\"1\" class=\"dataframe\">\n  <thead>\n    <tr style=\"text-align: right;\">\n      <th></th>\n      <th>bike_id</th>\n      <th>lat</th>\n      <th>lng</th>\n      <th>idle_time</th>\n      <th>time_start</th>\n      <th>time_end</th>\n      <th>end_station_number</th>\n      <th>idle_time_next_day</th>\n      <th>over_night</th>\n    </tr>\n  </thead>\n  <tbody>\n    <tr>\n      <th>0</th>\n      <td>93487.0</td>\n      <td>51.326737</td>\n      <td>12.358117</td>\n      <td>0 days 00:33:09</td>\n      <td>2021-01-03 08:38:21</td>\n      <td>2021-01-03 09:11:30</td>\n      <td>4034.0</td>\n      <td>NaN</td>\n      <td>0</td>\n    </tr>\n    <tr>\n      <th>1</th>\n      <td>93487.0</td>\n      <td>51.318782</td>\n      <td>12.368816</td>\n      <td>0 days 14:41:06</td>\n      <td>2021-01-03 09:18:53</td>\n      <td>2021-01-03 23:59:59</td>\n      <td>NaN</td>\n      <td>1 days 14:02:38</td>\n      <td>1</td>\n    </tr>\n    <tr>\n      <th>2</th>\n      <td>93487.0</td>\n      <td>51.328800</td>\n      <td>12.371326</td>\n      <td>0 days 09:53:19</td>\n      <td>2021-01-05 14:06:40</td>\n      <td>2021-01-05 23:59:59</td>\n      <td>NaN</td>\n      <td>0 days 20:03:08</td>\n      <td>1</td>\n    </tr>\n    <tr>\n      <th>3</th>\n      <td>93487.0</td>\n      <td>51.329124</td>\n      <td>12.371294</td>\n      <td>0 days 10:33:40</td>\n      <td>2021-01-07 13:26:19</td>\n      <td>2021-01-07 23:59:59</td>\n      <td>NaN</td>\n      <td>0 days 11:46:52</td>\n      <td>1</td>\n    </tr>\n    <tr>\n      <th>4</th>\n      <td>93487.0</td>\n      <td>51.335262</td>\n      <td>12.339411</td>\n      <td>0 days 01:11:45</td>\n      <td>2021-01-08 22:48:14</td>\n      <td>2021-01-08 23:59:59</td>\n      <td>NaN</td>\n      <td>0 days 20:59:28</td>\n      <td>1</td>\n    </tr>\n    <tr>\n      <th>...</th>\n      <td>...</td>\n      <td>...</td>\n      <td>...</td>\n      <td>...</td>\n      <td>...</td>\n      <td>...</td>\n      <td>...</td>\n      <td>...</td>\n      <td>...</td>\n    </tr>\n    <tr>\n      <th>749344</th>\n      <td>97516.0</td>\n      <td>51.324809</td>\n      <td>12.336997</td>\n      <td>0 days 23:59:59</td>\n      <td>2021-10-09 00:00:00</td>\n      <td>2021-10-09 23:59:59</td>\n      <td>4051.0</td>\n      <td>3 days 18:16:18</td>\n      <td>1</td>\n    </tr>\n    <tr>\n      <th>749345</th>\n      <td>97516.0</td>\n      <td>51.324809</td>\n      <td>12.336997</td>\n      <td>0 days 23:59:59</td>\n      <td>2021-10-10 00:00:00</td>\n      <td>2021-10-10 23:59:59</td>\n      <td>4051.0</td>\n      <td>2 days 18:16:18</td>\n      <td>1</td>\n    </tr>\n    <tr>\n      <th>749346</th>\n      <td>97516.0</td>\n      <td>51.324809</td>\n      <td>12.336997</td>\n      <td>0 days 23:59:59</td>\n      <td>2021-10-11 00:00:00</td>\n      <td>2021-10-11 23:59:59</td>\n      <td>4051.0</td>\n      <td>1 days 18:16:18</td>\n      <td>1</td>\n    </tr>\n    <tr>\n      <th>749347</th>\n      <td>97516.0</td>\n      <td>51.324809</td>\n      <td>12.336997</td>\n      <td>0 days 23:59:59</td>\n      <td>2021-10-12 00:00:00</td>\n      <td>2021-10-12 23:59:59</td>\n      <td>4051.0</td>\n      <td>0 days 18:16:18</td>\n      <td>1</td>\n    </tr>\n    <tr>\n      <th>749348</th>\n      <td>97516.0</td>\n      <td>51.324809</td>\n      <td>12.336997</td>\n      <td>0 days 18:16:18</td>\n      <td>2021-10-13 00:00:00</td>\n      <td>2021-10-13 18:16:17</td>\n      <td>4051.0</td>\n      <td>NaN</td>\n      <td>0</td>\n    </tr>\n  </tbody>\n</table>\n<p>749349 rows × 9 columns</p>\n</div>"
     },
     "execution_count": 13,
     "metadata": {},
     "output_type": "execute_result"
    }
   ],
   "source": [
    "df_points"
   ],
   "metadata": {
    "collapsed": false,
    "pycharm": {
     "name": "#%%\n"
    }
   }
  },
  {
   "cell_type": "markdown",
   "source": [
    "idle time in min"
   ],
   "metadata": {
    "collapsed": false
   }
  },
  {
   "cell_type": "code",
   "execution_count": 14,
   "outputs": [],
   "source": [
    "def idle_time_to_min(row):\n",
    "    return row['idle_time'].seconds / 60\n",
    "\n",
    "df_points['idle_time'] = df_points.apply(idle_time_to_min, axis=1)"
   ],
   "metadata": {
    "collapsed": false,
    "pycharm": {
     "name": "#%%\n"
    }
   }
  },
  {
   "cell_type": "markdown",
   "source": [
    "add idle_time_next_day feature"
   ],
   "metadata": {
    "collapsed": false
   }
  },
  {
   "cell_type": "code",
   "execution_count": 15,
   "id": "5aee7e90",
   "metadata": {},
   "outputs": [],
   "source": [
    "df_points['idle_time_next_day'] = pd.to_timedelta(df_points['idle_time_next_day'])\n",
    "\n",
    "def idle_time_next_day_to_min(row):\n",
    "    if row['over_night'] == 1:\n",
    "        t = row['idle_time_next_day'].total_seconds() / 60\n",
    "        if t < 1439:\n",
    "            return t\n",
    "        else: return 1439\n",
    "    else:\n",
    "        return 0\n",
    "\n",
    "df_points['idle_time_next_day'] = df_points.apply(idle_time_next_day_to_min, axis=1)\n"
   ]
  },
  {
   "cell_type": "code",
   "execution_count": 16,
   "outputs": [
    {
     "data": {
      "text/plain": "        bike_id        lat        lng    idle_time          time_start  \\\n0       93487.0  51.326737  12.358117    33.150000 2021-01-03 08:38:21   \n1       93487.0  51.318782  12.368816   881.100000 2021-01-03 09:18:53   \n2       93487.0  51.328800  12.371326   593.316667 2021-01-05 14:06:40   \n3       93487.0  51.329124  12.371294   633.666667 2021-01-07 13:26:19   \n4       93487.0  51.335262  12.339411    71.750000 2021-01-08 22:48:14   \n...         ...        ...        ...          ...                 ...   \n749344  97516.0  51.324809  12.336997  1439.983333 2021-10-09 00:00:00   \n749345  97516.0  51.324809  12.336997  1439.983333 2021-10-10 00:00:00   \n749346  97516.0  51.324809  12.336997  1439.983333 2021-10-11 00:00:00   \n749347  97516.0  51.324809  12.336997  1439.983333 2021-10-12 00:00:00   \n749348  97516.0  51.324809  12.336997  1096.300000 2021-10-13 00:00:00   \n\n                  time_end  end_station_number  idle_time_next_day  over_night  \n0      2021-01-03 09:11:30              4034.0            0.000000           0  \n1      2021-01-03 23:59:59                 NaN         1439.000000           1  \n2      2021-01-05 23:59:59                 NaN         1203.133333           1  \n3      2021-01-07 23:59:59                 NaN          706.866667           1  \n4      2021-01-08 23:59:59                 NaN         1259.466667           1  \n...                    ...                 ...                 ...         ...  \n749344 2021-10-09 23:59:59              4051.0         1439.000000           1  \n749345 2021-10-10 23:59:59              4051.0         1439.000000           1  \n749346 2021-10-11 23:59:59              4051.0         1439.000000           1  \n749347 2021-10-12 23:59:59              4051.0         1096.300000           1  \n749348 2021-10-13 18:16:17              4051.0            0.000000           0  \n\n[749349 rows x 9 columns]",
      "text/html": "<div>\n<style scoped>\n    .dataframe tbody tr th:only-of-type {\n        vertical-align: middle;\n    }\n\n    .dataframe tbody tr th {\n        vertical-align: top;\n    }\n\n    .dataframe thead th {\n        text-align: right;\n    }\n</style>\n<table border=\"1\" class=\"dataframe\">\n  <thead>\n    <tr style=\"text-align: right;\">\n      <th></th>\n      <th>bike_id</th>\n      <th>lat</th>\n      <th>lng</th>\n      <th>idle_time</th>\n      <th>time_start</th>\n      <th>time_end</th>\n      <th>end_station_number</th>\n      <th>idle_time_next_day</th>\n      <th>over_night</th>\n    </tr>\n  </thead>\n  <tbody>\n    <tr>\n      <th>0</th>\n      <td>93487.0</td>\n      <td>51.326737</td>\n      <td>12.358117</td>\n      <td>33.150000</td>\n      <td>2021-01-03 08:38:21</td>\n      <td>2021-01-03 09:11:30</td>\n      <td>4034.0</td>\n      <td>0.000000</td>\n      <td>0</td>\n    </tr>\n    <tr>\n      <th>1</th>\n      <td>93487.0</td>\n      <td>51.318782</td>\n      <td>12.368816</td>\n      <td>881.100000</td>\n      <td>2021-01-03 09:18:53</td>\n      <td>2021-01-03 23:59:59</td>\n      <td>NaN</td>\n      <td>1439.000000</td>\n      <td>1</td>\n    </tr>\n    <tr>\n      <th>2</th>\n      <td>93487.0</td>\n      <td>51.328800</td>\n      <td>12.371326</td>\n      <td>593.316667</td>\n      <td>2021-01-05 14:06:40</td>\n      <td>2021-01-05 23:59:59</td>\n      <td>NaN</td>\n      <td>1203.133333</td>\n      <td>1</td>\n    </tr>\n    <tr>\n      <th>3</th>\n      <td>93487.0</td>\n      <td>51.329124</td>\n      <td>12.371294</td>\n      <td>633.666667</td>\n      <td>2021-01-07 13:26:19</td>\n      <td>2021-01-07 23:59:59</td>\n      <td>NaN</td>\n      <td>706.866667</td>\n      <td>1</td>\n    </tr>\n    <tr>\n      <th>4</th>\n      <td>93487.0</td>\n      <td>51.335262</td>\n      <td>12.339411</td>\n      <td>71.750000</td>\n      <td>2021-01-08 22:48:14</td>\n      <td>2021-01-08 23:59:59</td>\n      <td>NaN</td>\n      <td>1259.466667</td>\n      <td>1</td>\n    </tr>\n    <tr>\n      <th>...</th>\n      <td>...</td>\n      <td>...</td>\n      <td>...</td>\n      <td>...</td>\n      <td>...</td>\n      <td>...</td>\n      <td>...</td>\n      <td>...</td>\n      <td>...</td>\n    </tr>\n    <tr>\n      <th>749344</th>\n      <td>97516.0</td>\n      <td>51.324809</td>\n      <td>12.336997</td>\n      <td>1439.983333</td>\n      <td>2021-10-09 00:00:00</td>\n      <td>2021-10-09 23:59:59</td>\n      <td>4051.0</td>\n      <td>1439.000000</td>\n      <td>1</td>\n    </tr>\n    <tr>\n      <th>749345</th>\n      <td>97516.0</td>\n      <td>51.324809</td>\n      <td>12.336997</td>\n      <td>1439.983333</td>\n      <td>2021-10-10 00:00:00</td>\n      <td>2021-10-10 23:59:59</td>\n      <td>4051.0</td>\n      <td>1439.000000</td>\n      <td>1</td>\n    </tr>\n    <tr>\n      <th>749346</th>\n      <td>97516.0</td>\n      <td>51.324809</td>\n      <td>12.336997</td>\n      <td>1439.983333</td>\n      <td>2021-10-11 00:00:00</td>\n      <td>2021-10-11 23:59:59</td>\n      <td>4051.0</td>\n      <td>1439.000000</td>\n      <td>1</td>\n    </tr>\n    <tr>\n      <th>749347</th>\n      <td>97516.0</td>\n      <td>51.324809</td>\n      <td>12.336997</td>\n      <td>1439.983333</td>\n      <td>2021-10-12 00:00:00</td>\n      <td>2021-10-12 23:59:59</td>\n      <td>4051.0</td>\n      <td>1096.300000</td>\n      <td>1</td>\n    </tr>\n    <tr>\n      <th>749348</th>\n      <td>97516.0</td>\n      <td>51.324809</td>\n      <td>12.336997</td>\n      <td>1096.300000</td>\n      <td>2021-10-13 00:00:00</td>\n      <td>2021-10-13 18:16:17</td>\n      <td>4051.0</td>\n      <td>0.000000</td>\n      <td>0</td>\n    </tr>\n  </tbody>\n</table>\n<p>749349 rows × 9 columns</p>\n</div>"
     },
     "execution_count": 16,
     "metadata": {},
     "output_type": "execute_result"
    }
   ],
   "source": [
    "df_points"
   ],
   "metadata": {
    "collapsed": false,
    "pycharm": {
     "name": "#%%\n"
    }
   }
  },
  {
   "cell_type": "markdown",
   "source": [
    "change type to int"
   ],
   "metadata": {
    "collapsed": false
   }
  },
  {
   "cell_type": "code",
   "execution_count": 17,
   "id": "3bf78e2f",
   "metadata": {},
   "outputs": [
    {
     "data": {
      "text/plain": "        bike_id        lat        lng  idle_time          time_start  \\\n0       93487.0  51.326737  12.358117         33 2021-01-03 08:38:21   \n1       93487.0  51.318782  12.368816        881 2021-01-03 09:18:53   \n2       93487.0  51.328800  12.371326        593 2021-01-05 14:06:40   \n3       93487.0  51.329124  12.371294        633 2021-01-07 13:26:19   \n4       93487.0  51.335262  12.339411         71 2021-01-08 22:48:14   \n...         ...        ...        ...        ...                 ...   \n749344  97516.0  51.324809  12.336997       1439 2021-10-09 00:00:00   \n749345  97516.0  51.324809  12.336997       1439 2021-10-10 00:00:00   \n749346  97516.0  51.324809  12.336997       1439 2021-10-11 00:00:00   \n749347  97516.0  51.324809  12.336997       1439 2021-10-12 00:00:00   \n749348  97516.0  51.324809  12.336997       1096 2021-10-13 00:00:00   \n\n                  time_end  end_station_number  idle_time_next_day  over_night  \n0      2021-01-03 09:11:30              4034.0                   0           0  \n1      2021-01-03 23:59:59                 NaN                1439           1  \n2      2021-01-05 23:59:59                 NaN                1203           1  \n3      2021-01-07 23:59:59                 NaN                 706           1  \n4      2021-01-08 23:59:59                 NaN                1259           1  \n...                    ...                 ...                 ...         ...  \n749344 2021-10-09 23:59:59              4051.0                1439           1  \n749345 2021-10-10 23:59:59              4051.0                1439           1  \n749346 2021-10-11 23:59:59              4051.0                1439           1  \n749347 2021-10-12 23:59:59              4051.0                1096           1  \n749348 2021-10-13 18:16:17              4051.0                   0           0  \n\n[749349 rows x 9 columns]",
      "text/html": "<div>\n<style scoped>\n    .dataframe tbody tr th:only-of-type {\n        vertical-align: middle;\n    }\n\n    .dataframe tbody tr th {\n        vertical-align: top;\n    }\n\n    .dataframe thead th {\n        text-align: right;\n    }\n</style>\n<table border=\"1\" class=\"dataframe\">\n  <thead>\n    <tr style=\"text-align: right;\">\n      <th></th>\n      <th>bike_id</th>\n      <th>lat</th>\n      <th>lng</th>\n      <th>idle_time</th>\n      <th>time_start</th>\n      <th>time_end</th>\n      <th>end_station_number</th>\n      <th>idle_time_next_day</th>\n      <th>over_night</th>\n    </tr>\n  </thead>\n  <tbody>\n    <tr>\n      <th>0</th>\n      <td>93487.0</td>\n      <td>51.326737</td>\n      <td>12.358117</td>\n      <td>33</td>\n      <td>2021-01-03 08:38:21</td>\n      <td>2021-01-03 09:11:30</td>\n      <td>4034.0</td>\n      <td>0</td>\n      <td>0</td>\n    </tr>\n    <tr>\n      <th>1</th>\n      <td>93487.0</td>\n      <td>51.318782</td>\n      <td>12.368816</td>\n      <td>881</td>\n      <td>2021-01-03 09:18:53</td>\n      <td>2021-01-03 23:59:59</td>\n      <td>NaN</td>\n      <td>1439</td>\n      <td>1</td>\n    </tr>\n    <tr>\n      <th>2</th>\n      <td>93487.0</td>\n      <td>51.328800</td>\n      <td>12.371326</td>\n      <td>593</td>\n      <td>2021-01-05 14:06:40</td>\n      <td>2021-01-05 23:59:59</td>\n      <td>NaN</td>\n      <td>1203</td>\n      <td>1</td>\n    </tr>\n    <tr>\n      <th>3</th>\n      <td>93487.0</td>\n      <td>51.329124</td>\n      <td>12.371294</td>\n      <td>633</td>\n      <td>2021-01-07 13:26:19</td>\n      <td>2021-01-07 23:59:59</td>\n      <td>NaN</td>\n      <td>706</td>\n      <td>1</td>\n    </tr>\n    <tr>\n      <th>4</th>\n      <td>93487.0</td>\n      <td>51.335262</td>\n      <td>12.339411</td>\n      <td>71</td>\n      <td>2021-01-08 22:48:14</td>\n      <td>2021-01-08 23:59:59</td>\n      <td>NaN</td>\n      <td>1259</td>\n      <td>1</td>\n    </tr>\n    <tr>\n      <th>...</th>\n      <td>...</td>\n      <td>...</td>\n      <td>...</td>\n      <td>...</td>\n      <td>...</td>\n      <td>...</td>\n      <td>...</td>\n      <td>...</td>\n      <td>...</td>\n    </tr>\n    <tr>\n      <th>749344</th>\n      <td>97516.0</td>\n      <td>51.324809</td>\n      <td>12.336997</td>\n      <td>1439</td>\n      <td>2021-10-09 00:00:00</td>\n      <td>2021-10-09 23:59:59</td>\n      <td>4051.0</td>\n      <td>1439</td>\n      <td>1</td>\n    </tr>\n    <tr>\n      <th>749345</th>\n      <td>97516.0</td>\n      <td>51.324809</td>\n      <td>12.336997</td>\n      <td>1439</td>\n      <td>2021-10-10 00:00:00</td>\n      <td>2021-10-10 23:59:59</td>\n      <td>4051.0</td>\n      <td>1439</td>\n      <td>1</td>\n    </tr>\n    <tr>\n      <th>749346</th>\n      <td>97516.0</td>\n      <td>51.324809</td>\n      <td>12.336997</td>\n      <td>1439</td>\n      <td>2021-10-11 00:00:00</td>\n      <td>2021-10-11 23:59:59</td>\n      <td>4051.0</td>\n      <td>1439</td>\n      <td>1</td>\n    </tr>\n    <tr>\n      <th>749347</th>\n      <td>97516.0</td>\n      <td>51.324809</td>\n      <td>12.336997</td>\n      <td>1439</td>\n      <td>2021-10-12 00:00:00</td>\n      <td>2021-10-12 23:59:59</td>\n      <td>4051.0</td>\n      <td>1096</td>\n      <td>1</td>\n    </tr>\n    <tr>\n      <th>749348</th>\n      <td>97516.0</td>\n      <td>51.324809</td>\n      <td>12.336997</td>\n      <td>1096</td>\n      <td>2021-10-13 00:00:00</td>\n      <td>2021-10-13 18:16:17</td>\n      <td>4051.0</td>\n      <td>0</td>\n      <td>0</td>\n    </tr>\n  </tbody>\n</table>\n<p>749349 rows × 9 columns</p>\n</div>"
     },
     "execution_count": 17,
     "metadata": {},
     "output_type": "execute_result"
    }
   ],
   "source": [
    "df_points['idle_time'] = df_points['idle_time'].astype(int)\n",
    "df_points['idle_time_next_day'] = df_points['idle_time_next_day'].astype(int)\n",
    "df_points"
   ]
  },
  {
   "cell_type": "markdown",
   "id": "3a3c97d2",
   "metadata": {},
   "source": [
    "# Save V2 df_points split"
   ]
  },
  {
   "cell_type": "code",
   "execution_count": 18,
   "id": "8d901a75",
   "metadata": {},
   "outputs": [
    {
     "data": {
      "text/plain": "1439"
     },
     "execution_count": 18,
     "metadata": {},
     "output_type": "execute_result"
    }
   ],
   "source": [
    "df_points['idle_time'].max()"
   ]
  },
  {
   "cell_type": "code",
   "execution_count": 19,
   "id": "991143a4",
   "metadata": {},
   "outputs": [
    {
     "data": {
      "text/plain": "   bike_id        lat        lng  idle_time          time_start  \\\n0  93487.0  51.326737  12.358117         33 2021-01-03 08:38:21   \n1  93487.0  51.318782  12.368816        881 2021-01-03 09:18:53   \n2  93487.0  51.328800  12.371326        593 2021-01-05 14:06:40   \n3  93487.0  51.329124  12.371294        633 2021-01-07 13:26:19   \n4  93487.0  51.335262  12.339411         71 2021-01-08 22:48:14   \n\n             time_end  end_station_number  idle_time_next_day  over_night  \n0 2021-01-03 09:11:30              4034.0                   0           0  \n1 2021-01-03 23:59:59                 NaN                1439           1  \n2 2021-01-05 23:59:59                 NaN                1203           1  \n3 2021-01-07 23:59:59                 NaN                 706           1  \n4 2021-01-08 23:59:59                 NaN                1259           1  ",
      "text/html": "<div>\n<style scoped>\n    .dataframe tbody tr th:only-of-type {\n        vertical-align: middle;\n    }\n\n    .dataframe tbody tr th {\n        vertical-align: top;\n    }\n\n    .dataframe thead th {\n        text-align: right;\n    }\n</style>\n<table border=\"1\" class=\"dataframe\">\n  <thead>\n    <tr style=\"text-align: right;\">\n      <th></th>\n      <th>bike_id</th>\n      <th>lat</th>\n      <th>lng</th>\n      <th>idle_time</th>\n      <th>time_start</th>\n      <th>time_end</th>\n      <th>end_station_number</th>\n      <th>idle_time_next_day</th>\n      <th>over_night</th>\n    </tr>\n  </thead>\n  <tbody>\n    <tr>\n      <th>0</th>\n      <td>93487.0</td>\n      <td>51.326737</td>\n      <td>12.358117</td>\n      <td>33</td>\n      <td>2021-01-03 08:38:21</td>\n      <td>2021-01-03 09:11:30</td>\n      <td>4034.0</td>\n      <td>0</td>\n      <td>0</td>\n    </tr>\n    <tr>\n      <th>1</th>\n      <td>93487.0</td>\n      <td>51.318782</td>\n      <td>12.368816</td>\n      <td>881</td>\n      <td>2021-01-03 09:18:53</td>\n      <td>2021-01-03 23:59:59</td>\n      <td>NaN</td>\n      <td>1439</td>\n      <td>1</td>\n    </tr>\n    <tr>\n      <th>2</th>\n      <td>93487.0</td>\n      <td>51.328800</td>\n      <td>12.371326</td>\n      <td>593</td>\n      <td>2021-01-05 14:06:40</td>\n      <td>2021-01-05 23:59:59</td>\n      <td>NaN</td>\n      <td>1203</td>\n      <td>1</td>\n    </tr>\n    <tr>\n      <th>3</th>\n      <td>93487.0</td>\n      <td>51.329124</td>\n      <td>12.371294</td>\n      <td>633</td>\n      <td>2021-01-07 13:26:19</td>\n      <td>2021-01-07 23:59:59</td>\n      <td>NaN</td>\n      <td>706</td>\n      <td>1</td>\n    </tr>\n    <tr>\n      <th>4</th>\n      <td>93487.0</td>\n      <td>51.335262</td>\n      <td>12.339411</td>\n      <td>71</td>\n      <td>2021-01-08 22:48:14</td>\n      <td>2021-01-08 23:59:59</td>\n      <td>NaN</td>\n      <td>1259</td>\n      <td>1</td>\n    </tr>\n  </tbody>\n</table>\n</div>"
     },
     "execution_count": 19,
     "metadata": {},
     "output_type": "execute_result"
    }
   ],
   "source": [
    "df_points.head()"
   ]
  },
  {
   "cell_type": "markdown",
   "id": "8ac57725",
   "metadata": {},
   "source": [
    "## Add H3 Index"
   ]
  },
  {
   "cell_type": "code",
   "execution_count": 20,
   "id": "3d822988",
   "metadata": {},
   "outputs": [
    {
     "name": "stderr",
     "output_type": "stream",
     "text": [
      "100%|██████████| 749349/749349 [00:13<00:00, 56694.86it/s]\n"
     ]
    },
    {
     "data": {
      "text/plain": "   bike_id        lat        lng  idle_time          time_start  \\\n0  93487.0  51.326737  12.358117         33 2021-01-03 08:38:21   \n1  93487.0  51.318782  12.368816        881 2021-01-03 09:18:53   \n2  93487.0  51.328800  12.371326        593 2021-01-05 14:06:40   \n3  93487.0  51.329124  12.371294        633 2021-01-07 13:26:19   \n4  93487.0  51.335262  12.339411         71 2021-01-08 22:48:14   \n\n             time_end  end_station_number  idle_time_next_day  over_night  \\\n0 2021-01-03 09:11:30              4034.0                   0           0   \n1 2021-01-03 23:59:59                 NaN                1439           1   \n2 2021-01-05 23:59:59                 NaN                1203           1   \n3 2021-01-07 23:59:59                 NaN                 706           1   \n4 2021-01-08 23:59:59                 NaN                1259           1   \n\n            hex_id  \n0  881f1a164dfffff  \n1  881f1a1647fffff  \n2  881f1a164bfffff  \n3  881f1a164bfffff  \n4  881f1a8ca5fffff  ",
      "text/html": "<div>\n<style scoped>\n    .dataframe tbody tr th:only-of-type {\n        vertical-align: middle;\n    }\n\n    .dataframe tbody tr th {\n        vertical-align: top;\n    }\n\n    .dataframe thead th {\n        text-align: right;\n    }\n</style>\n<table border=\"1\" class=\"dataframe\">\n  <thead>\n    <tr style=\"text-align: right;\">\n      <th></th>\n      <th>bike_id</th>\n      <th>lat</th>\n      <th>lng</th>\n      <th>idle_time</th>\n      <th>time_start</th>\n      <th>time_end</th>\n      <th>end_station_number</th>\n      <th>idle_time_next_day</th>\n      <th>over_night</th>\n      <th>hex_id</th>\n    </tr>\n  </thead>\n  <tbody>\n    <tr>\n      <th>0</th>\n      <td>93487.0</td>\n      <td>51.326737</td>\n      <td>12.358117</td>\n      <td>33</td>\n      <td>2021-01-03 08:38:21</td>\n      <td>2021-01-03 09:11:30</td>\n      <td>4034.0</td>\n      <td>0</td>\n      <td>0</td>\n      <td>881f1a164dfffff</td>\n    </tr>\n    <tr>\n      <th>1</th>\n      <td>93487.0</td>\n      <td>51.318782</td>\n      <td>12.368816</td>\n      <td>881</td>\n      <td>2021-01-03 09:18:53</td>\n      <td>2021-01-03 23:59:59</td>\n      <td>NaN</td>\n      <td>1439</td>\n      <td>1</td>\n      <td>881f1a1647fffff</td>\n    </tr>\n    <tr>\n      <th>2</th>\n      <td>93487.0</td>\n      <td>51.328800</td>\n      <td>12.371326</td>\n      <td>593</td>\n      <td>2021-01-05 14:06:40</td>\n      <td>2021-01-05 23:59:59</td>\n      <td>NaN</td>\n      <td>1203</td>\n      <td>1</td>\n      <td>881f1a164bfffff</td>\n    </tr>\n    <tr>\n      <th>3</th>\n      <td>93487.0</td>\n      <td>51.329124</td>\n      <td>12.371294</td>\n      <td>633</td>\n      <td>2021-01-07 13:26:19</td>\n      <td>2021-01-07 23:59:59</td>\n      <td>NaN</td>\n      <td>706</td>\n      <td>1</td>\n      <td>881f1a164bfffff</td>\n    </tr>\n    <tr>\n      <th>4</th>\n      <td>93487.0</td>\n      <td>51.335262</td>\n      <td>12.339411</td>\n      <td>71</td>\n      <td>2021-01-08 22:48:14</td>\n      <td>2021-01-08 23:59:59</td>\n      <td>NaN</td>\n      <td>1259</td>\n      <td>1</td>\n      <td>881f1a8ca5fffff</td>\n    </tr>\n  </tbody>\n</table>\n</div>"
     },
     "execution_count": 20,
     "metadata": {},
     "output_type": "execute_result"
    }
   ],
   "source": [
    "import h3\n",
    "\n",
    "df_points['hex_id'] = 0\n",
    "\n",
    "for ind in tqdm(df_points.index):\n",
    "    df_points['hex_id'][ind] = h3.geo_to_h3(df_points['lat'][ind], df_points['lng'][ind], 8)\n",
    "df_points.head()"
   ]
  },
  {
   "cell_type": "markdown",
   "id": "83a28483",
   "metadata": {},
   "source": [
    "# Add weather Data"
   ]
  },
  {
   "cell_type": "code",
   "execution_count": 21,
   "outputs": [
    {
     "name": "stderr",
     "output_type": "stream",
     "text": [
      "100%|██████████| 749349/749349 [16:05<00:00, 776.04it/s]\n"
     ]
    },
    {
     "data": {
      "text/plain": "        bike_id        lat        lng  idle_time          time_start  \\\n0       93487.0  51.326737  12.358117         33 2021-01-03 08:38:21   \n1       93487.0  51.318782  12.368816        881 2021-01-03 09:18:53   \n2       93487.0  51.328800  12.371326        593 2021-01-05 14:06:40   \n3       93487.0  51.329124  12.371294        633 2021-01-07 13:26:19   \n4       93487.0  51.335262  12.339411         71 2021-01-08 22:48:14   \n...         ...        ...        ...        ...                 ...   \n749344  97516.0  51.324809  12.336997       1439 2021-10-09 00:00:00   \n749345  97516.0  51.324809  12.336997       1439 2021-10-10 00:00:00   \n749346  97516.0  51.324809  12.336997       1439 2021-10-11 00:00:00   \n749347  97516.0  51.324809  12.336997       1439 2021-10-12 00:00:00   \n749348  97516.0  51.324809  12.336997       1096 2021-10-13 00:00:00   \n\n                  time_end  end_station_number  idle_time_next_day  \\\n0      2021-01-03 09:11:30              4034.0                   0   \n1      2021-01-03 23:59:59                 NaN                1439   \n2      2021-01-05 23:59:59                 NaN                1203   \n3      2021-01-07 23:59:59                 NaN                 706   \n4      2021-01-08 23:59:59                 NaN                1259   \n...                    ...                 ...                 ...   \n749344 2021-10-09 23:59:59              4051.0                1439   \n749345 2021-10-10 23:59:59              4051.0                1439   \n749346 2021-10-11 23:59:59              4051.0                1439   \n749347 2021-10-12 23:59:59              4051.0                1096   \n749348 2021-10-13 18:16:17              4051.0                   0   \n\n        over_night           hex_id  temp  rain  snow  wind_speed  humidity  \n0                0  881f1a164dfffff  0.22   NaN  0.51        5.81      94.0  \n1                1  881f1a1647fffff  0.38  0.51   NaN        0.89      95.0  \n2                1  881f1a164bfffff  0.55   NaN  0.25        3.13      76.0  \n3                1  881f1a164bfffff  1.91   NaN   NaN        7.15      77.0  \n4                1  881f1a8ca5fffff  0.42   NaN  0.16        0.45      92.0  \n...            ...              ...   ...   ...   ...         ...       ...  \n749344           1  881f1a8d91fffff  5.64   NaN   NaN        2.68      86.0  \n749345           1  881f1a8d91fffff  4.00   NaN   NaN        0.45      79.0  \n749346           1  881f1a8d91fffff  4.59   NaN   NaN        2.24      86.0  \n749347           1  881f1a8d91fffff  8.17   NaN   NaN        4.47      92.0  \n749348           0  881f1a8d91fffff  6.03   NaN   NaN        3.09      91.0  \n\n[749349 rows x 15 columns]",
      "text/html": "<div>\n<style scoped>\n    .dataframe tbody tr th:only-of-type {\n        vertical-align: middle;\n    }\n\n    .dataframe tbody tr th {\n        vertical-align: top;\n    }\n\n    .dataframe thead th {\n        text-align: right;\n    }\n</style>\n<table border=\"1\" class=\"dataframe\">\n  <thead>\n    <tr style=\"text-align: right;\">\n      <th></th>\n      <th>bike_id</th>\n      <th>lat</th>\n      <th>lng</th>\n      <th>idle_time</th>\n      <th>time_start</th>\n      <th>time_end</th>\n      <th>end_station_number</th>\n      <th>idle_time_next_day</th>\n      <th>over_night</th>\n      <th>hex_id</th>\n      <th>temp</th>\n      <th>rain</th>\n      <th>snow</th>\n      <th>wind_speed</th>\n      <th>humidity</th>\n    </tr>\n  </thead>\n  <tbody>\n    <tr>\n      <th>0</th>\n      <td>93487.0</td>\n      <td>51.326737</td>\n      <td>12.358117</td>\n      <td>33</td>\n      <td>2021-01-03 08:38:21</td>\n      <td>2021-01-03 09:11:30</td>\n      <td>4034.0</td>\n      <td>0</td>\n      <td>0</td>\n      <td>881f1a164dfffff</td>\n      <td>0.22</td>\n      <td>NaN</td>\n      <td>0.51</td>\n      <td>5.81</td>\n      <td>94.0</td>\n    </tr>\n    <tr>\n      <th>1</th>\n      <td>93487.0</td>\n      <td>51.318782</td>\n      <td>12.368816</td>\n      <td>881</td>\n      <td>2021-01-03 09:18:53</td>\n      <td>2021-01-03 23:59:59</td>\n      <td>NaN</td>\n      <td>1439</td>\n      <td>1</td>\n      <td>881f1a1647fffff</td>\n      <td>0.38</td>\n      <td>0.51</td>\n      <td>NaN</td>\n      <td>0.89</td>\n      <td>95.0</td>\n    </tr>\n    <tr>\n      <th>2</th>\n      <td>93487.0</td>\n      <td>51.328800</td>\n      <td>12.371326</td>\n      <td>593</td>\n      <td>2021-01-05 14:06:40</td>\n      <td>2021-01-05 23:59:59</td>\n      <td>NaN</td>\n      <td>1203</td>\n      <td>1</td>\n      <td>881f1a164bfffff</td>\n      <td>0.55</td>\n      <td>NaN</td>\n      <td>0.25</td>\n      <td>3.13</td>\n      <td>76.0</td>\n    </tr>\n    <tr>\n      <th>3</th>\n      <td>93487.0</td>\n      <td>51.329124</td>\n      <td>12.371294</td>\n      <td>633</td>\n      <td>2021-01-07 13:26:19</td>\n      <td>2021-01-07 23:59:59</td>\n      <td>NaN</td>\n      <td>706</td>\n      <td>1</td>\n      <td>881f1a164bfffff</td>\n      <td>1.91</td>\n      <td>NaN</td>\n      <td>NaN</td>\n      <td>7.15</td>\n      <td>77.0</td>\n    </tr>\n    <tr>\n      <th>4</th>\n      <td>93487.0</td>\n      <td>51.335262</td>\n      <td>12.339411</td>\n      <td>71</td>\n      <td>2021-01-08 22:48:14</td>\n      <td>2021-01-08 23:59:59</td>\n      <td>NaN</td>\n      <td>1259</td>\n      <td>1</td>\n      <td>881f1a8ca5fffff</td>\n      <td>0.42</td>\n      <td>NaN</td>\n      <td>0.16</td>\n      <td>0.45</td>\n      <td>92.0</td>\n    </tr>\n    <tr>\n      <th>...</th>\n      <td>...</td>\n      <td>...</td>\n      <td>...</td>\n      <td>...</td>\n      <td>...</td>\n      <td>...</td>\n      <td>...</td>\n      <td>...</td>\n      <td>...</td>\n      <td>...</td>\n      <td>...</td>\n      <td>...</td>\n      <td>...</td>\n      <td>...</td>\n      <td>...</td>\n    </tr>\n    <tr>\n      <th>749344</th>\n      <td>97516.0</td>\n      <td>51.324809</td>\n      <td>12.336997</td>\n      <td>1439</td>\n      <td>2021-10-09 00:00:00</td>\n      <td>2021-10-09 23:59:59</td>\n      <td>4051.0</td>\n      <td>1439</td>\n      <td>1</td>\n      <td>881f1a8d91fffff</td>\n      <td>5.64</td>\n      <td>NaN</td>\n      <td>NaN</td>\n      <td>2.68</td>\n      <td>86.0</td>\n    </tr>\n    <tr>\n      <th>749345</th>\n      <td>97516.0</td>\n      <td>51.324809</td>\n      <td>12.336997</td>\n      <td>1439</td>\n      <td>2021-10-10 00:00:00</td>\n      <td>2021-10-10 23:59:59</td>\n      <td>4051.0</td>\n      <td>1439</td>\n      <td>1</td>\n      <td>881f1a8d91fffff</td>\n      <td>4.00</td>\n      <td>NaN</td>\n      <td>NaN</td>\n      <td>0.45</td>\n      <td>79.0</td>\n    </tr>\n    <tr>\n      <th>749346</th>\n      <td>97516.0</td>\n      <td>51.324809</td>\n      <td>12.336997</td>\n      <td>1439</td>\n      <td>2021-10-11 00:00:00</td>\n      <td>2021-10-11 23:59:59</td>\n      <td>4051.0</td>\n      <td>1439</td>\n      <td>1</td>\n      <td>881f1a8d91fffff</td>\n      <td>4.59</td>\n      <td>NaN</td>\n      <td>NaN</td>\n      <td>2.24</td>\n      <td>86.0</td>\n    </tr>\n    <tr>\n      <th>749347</th>\n      <td>97516.0</td>\n      <td>51.324809</td>\n      <td>12.336997</td>\n      <td>1439</td>\n      <td>2021-10-12 00:00:00</td>\n      <td>2021-10-12 23:59:59</td>\n      <td>4051.0</td>\n      <td>1096</td>\n      <td>1</td>\n      <td>881f1a8d91fffff</td>\n      <td>8.17</td>\n      <td>NaN</td>\n      <td>NaN</td>\n      <td>4.47</td>\n      <td>92.0</td>\n    </tr>\n    <tr>\n      <th>749348</th>\n      <td>97516.0</td>\n      <td>51.324809</td>\n      <td>12.336997</td>\n      <td>1096</td>\n      <td>2021-10-13 00:00:00</td>\n      <td>2021-10-13 18:16:17</td>\n      <td>4051.0</td>\n      <td>0</td>\n      <td>0</td>\n      <td>881f1a8d91fffff</td>\n      <td>6.03</td>\n      <td>NaN</td>\n      <td>NaN</td>\n      <td>3.09</td>\n      <td>91.0</td>\n    </tr>\n  </tbody>\n</table>\n<p>749349 rows × 15 columns</p>\n</div>"
     },
     "execution_count": 21,
     "metadata": {},
     "output_type": "execute_result"
    }
   ],
   "source": [
    "dfw = pd.read_csv('../data/weather_data.csv')\n",
    "dfw['datetime'] = pd.to_datetime(dfw['dt'], unit='s')\n",
    "dfw = dfw.set_index(['datetime'])\n",
    "dfw.head()\n",
    "\n",
    "df_points['temp'] = np.nan\n",
    "df_points['rain'] = np.nan\n",
    "df_points['snow'] = np.nan\n",
    "df_points['wind_speed'] = np.nan\n",
    "df_points['humidity'] = np.nan\n",
    "\n",
    "from tqdm import tqdm\n",
    "pd.options.mode.chained_assignment = None\n",
    "\n",
    "for ind in tqdm(df_points.index):\n",
    "    wint = df_points['time_start'][ind].replace(minute=0,second=0)\n",
    "    df_points['temp'][ind] = dfw['temp'][wint].copy()\n",
    "    df_points['rain'][ind] = dfw['rain_1h'][wint].copy()\n",
    "    df_points['snow'][ind] = dfw['snow_1h'][wint].copy()\n",
    "    df_points['wind_speed'][ind] = dfw['wind_speed'][wint].copy()\n",
    "    df_points['humidity'][ind] = dfw['humidity'][wint].copy()\n",
    "\n",
    "df_points"
   ],
   "metadata": {
    "collapsed": false,
    "pycharm": {
     "name": "#%%\n"
    }
   }
  },
  {
   "cell_type": "markdown",
   "source": [
    "# Fill NaNS"
   ],
   "metadata": {
    "collapsed": false
   }
  },
  {
   "cell_type": "code",
   "execution_count": 22,
   "outputs": [],
   "source": [
    "df_points['rain'] = df_points['rain'].fillna(0)\n",
    "df_points['snow'] = df_points['snow'].fillna(0)\n",
    "df_points['end_station_number'] = df_points['end_station_number'].fillna(0)\n",
    "\n",
    "df_points['wind_speed'] = df_points['wind_speed'].fillna(df_points['wind_speed'].mean())\n",
    "df_points['humidity'] = df_points['humidity'].fillna(df_points['humidity'].mean())\n",
    "df_points = df_points.sort_values(by=['time_start']).reset_index(drop=True)"
   ],
   "metadata": {
    "collapsed": false,
    "pycharm": {
     "name": "#%%\n"
    }
   }
  },
  {
   "cell_type": "markdown",
   "source": [
    "add unix timestamps"
   ],
   "metadata": {
    "collapsed": false
   }
  },
  {
   "cell_type": "code",
   "execution_count": 23,
   "outputs": [],
   "source": [
    "df_points['dt_start'] = pd.to_datetime(df_points['time_start']).map(pd.Timestamp.timestamp).astype(int)\n",
    "df_points['dt_end'] = pd.to_datetime(df_points['time_end']).map(pd.Timestamp.timestamp).astype(int)\n",
    "df_points['bike_id'] = df_points['bike_id'].astype(int)\n",
    "df_points['end_station_number'] = df_points['end_station_number'].astype(int)"
   ],
   "metadata": {
    "collapsed": false,
    "pycharm": {
     "name": "#%%\n"
    }
   }
  },
  {
   "cell_type": "code",
   "execution_count": 24,
   "outputs": [
    {
     "data": {
      "text/plain": "        bike_id        lat        lng  idle_time          time_start  \\\n0         72165  51.351547  12.382658         38 2020-12-31 23:21:34   \n1         75838  51.331022  12.316226         37 2020-12-31 23:22:04   \n2         74466  51.355200  12.370664         36 2020-12-31 23:23:09   \n3         73806  51.328693  12.346637         34 2020-12-31 23:25:41   \n4         75854  51.331707  12.371241         22 2020-12-31 23:37:01   \n...         ...        ...        ...        ...                 ...   \n749344    72058  51.317569  12.382730        112 2021-12-30 20:53:13   \n749345    71949  51.334711  12.356763         25 2021-12-30 20:57:15   \n749346    97785  51.367276  12.369792         48 2021-12-30 21:01:26   \n749347    41738  51.366942  12.370322         43 2021-12-30 21:48:38   \n749348    72028  51.332844  12.404319         32 2021-12-30 22:26:40   \n\n                  time_end  end_station_number  idle_time_next_day  \\\n0      2020-12-31 23:59:59                   0                1439   \n1      2020-12-31 23:59:59                   0                1439   \n2      2020-12-31 23:59:59                   0                  49   \n3      2020-12-31 23:59:59                   0                 852   \n4      2020-12-31 23:59:59                   0                 239   \n...                    ...                 ...                 ...   \n749344 2021-12-30 22:46:08                   0                   0   \n749345 2021-12-30 21:22:23                   0                   0   \n749346 2021-12-30 21:49:45                   0                   0   \n749347 2021-12-30 22:31:56                   0                   0   \n749348 2021-12-30 22:59:23                   0                   0   \n\n        over_night           hex_id   temp  rain  snow  wind_speed  humidity  \\\n0                1  881f1a8cb9fffff   2.72  0.00   0.0        4.02      72.0   \n1                1  881f1a8dd7fffff   2.72  0.00   0.0        4.02      72.0   \n2                1  881f1a8c87fffff   2.72  0.00   0.0        4.02      72.0   \n3                1  881f1a164dfffff   2.72  0.00   0.0        4.02      72.0   \n4                1  881f1a164bfffff   2.72  0.00   0.0        4.02      72.0   \n...            ...              ...    ...   ...   ...         ...       ...   \n749344           0  881f1a1609fffff  13.19  7.62   0.0        8.94      83.0   \n749345           0  881f1a1649fffff  13.19  7.62   0.0        8.94      83.0   \n749346           0  881f1a8c8bfffff  13.05  2.03   0.0        8.05      84.0   \n749347           0  881f1a8c8bfffff  13.05  2.03   0.0        8.05      84.0   \n749348           0  881f1a165bfffff  13.11  1.14   0.0        8.05      81.0   \n\n          dt_start      dt_end  \n0       1609456894  1609459199  \n1       1609456924  1609459199  \n2       1609456989  1609459199  \n3       1609457141  1609459199  \n4       1609457821  1609459199  \n...            ...         ...  \n749344  1640897593  1640904368  \n749345  1640897835  1640899343  \n749346  1640898086  1640900985  \n749347  1640900918  1640903516  \n749348  1640903200  1640905163  \n\n[749349 rows x 17 columns]",
      "text/html": "<div>\n<style scoped>\n    .dataframe tbody tr th:only-of-type {\n        vertical-align: middle;\n    }\n\n    .dataframe tbody tr th {\n        vertical-align: top;\n    }\n\n    .dataframe thead th {\n        text-align: right;\n    }\n</style>\n<table border=\"1\" class=\"dataframe\">\n  <thead>\n    <tr style=\"text-align: right;\">\n      <th></th>\n      <th>bike_id</th>\n      <th>lat</th>\n      <th>lng</th>\n      <th>idle_time</th>\n      <th>time_start</th>\n      <th>time_end</th>\n      <th>end_station_number</th>\n      <th>idle_time_next_day</th>\n      <th>over_night</th>\n      <th>hex_id</th>\n      <th>temp</th>\n      <th>rain</th>\n      <th>snow</th>\n      <th>wind_speed</th>\n      <th>humidity</th>\n      <th>dt_start</th>\n      <th>dt_end</th>\n    </tr>\n  </thead>\n  <tbody>\n    <tr>\n      <th>0</th>\n      <td>72165</td>\n      <td>51.351547</td>\n      <td>12.382658</td>\n      <td>38</td>\n      <td>2020-12-31 23:21:34</td>\n      <td>2020-12-31 23:59:59</td>\n      <td>0</td>\n      <td>1439</td>\n      <td>1</td>\n      <td>881f1a8cb9fffff</td>\n      <td>2.72</td>\n      <td>0.00</td>\n      <td>0.0</td>\n      <td>4.02</td>\n      <td>72.0</td>\n      <td>1609456894</td>\n      <td>1609459199</td>\n    </tr>\n    <tr>\n      <th>1</th>\n      <td>75838</td>\n      <td>51.331022</td>\n      <td>12.316226</td>\n      <td>37</td>\n      <td>2020-12-31 23:22:04</td>\n      <td>2020-12-31 23:59:59</td>\n      <td>0</td>\n      <td>1439</td>\n      <td>1</td>\n      <td>881f1a8dd7fffff</td>\n      <td>2.72</td>\n      <td>0.00</td>\n      <td>0.0</td>\n      <td>4.02</td>\n      <td>72.0</td>\n      <td>1609456924</td>\n      <td>1609459199</td>\n    </tr>\n    <tr>\n      <th>2</th>\n      <td>74466</td>\n      <td>51.355200</td>\n      <td>12.370664</td>\n      <td>36</td>\n      <td>2020-12-31 23:23:09</td>\n      <td>2020-12-31 23:59:59</td>\n      <td>0</td>\n      <td>49</td>\n      <td>1</td>\n      <td>881f1a8c87fffff</td>\n      <td>2.72</td>\n      <td>0.00</td>\n      <td>0.0</td>\n      <td>4.02</td>\n      <td>72.0</td>\n      <td>1609456989</td>\n      <td>1609459199</td>\n    </tr>\n    <tr>\n      <th>3</th>\n      <td>73806</td>\n      <td>51.328693</td>\n      <td>12.346637</td>\n      <td>34</td>\n      <td>2020-12-31 23:25:41</td>\n      <td>2020-12-31 23:59:59</td>\n      <td>0</td>\n      <td>852</td>\n      <td>1</td>\n      <td>881f1a164dfffff</td>\n      <td>2.72</td>\n      <td>0.00</td>\n      <td>0.0</td>\n      <td>4.02</td>\n      <td>72.0</td>\n      <td>1609457141</td>\n      <td>1609459199</td>\n    </tr>\n    <tr>\n      <th>4</th>\n      <td>75854</td>\n      <td>51.331707</td>\n      <td>12.371241</td>\n      <td>22</td>\n      <td>2020-12-31 23:37:01</td>\n      <td>2020-12-31 23:59:59</td>\n      <td>0</td>\n      <td>239</td>\n      <td>1</td>\n      <td>881f1a164bfffff</td>\n      <td>2.72</td>\n      <td>0.00</td>\n      <td>0.0</td>\n      <td>4.02</td>\n      <td>72.0</td>\n      <td>1609457821</td>\n      <td>1609459199</td>\n    </tr>\n    <tr>\n      <th>...</th>\n      <td>...</td>\n      <td>...</td>\n      <td>...</td>\n      <td>...</td>\n      <td>...</td>\n      <td>...</td>\n      <td>...</td>\n      <td>...</td>\n      <td>...</td>\n      <td>...</td>\n      <td>...</td>\n      <td>...</td>\n      <td>...</td>\n      <td>...</td>\n      <td>...</td>\n      <td>...</td>\n      <td>...</td>\n    </tr>\n    <tr>\n      <th>749344</th>\n      <td>72058</td>\n      <td>51.317569</td>\n      <td>12.382730</td>\n      <td>112</td>\n      <td>2021-12-30 20:53:13</td>\n      <td>2021-12-30 22:46:08</td>\n      <td>0</td>\n      <td>0</td>\n      <td>0</td>\n      <td>881f1a1609fffff</td>\n      <td>13.19</td>\n      <td>7.62</td>\n      <td>0.0</td>\n      <td>8.94</td>\n      <td>83.0</td>\n      <td>1640897593</td>\n      <td>1640904368</td>\n    </tr>\n    <tr>\n      <th>749345</th>\n      <td>71949</td>\n      <td>51.334711</td>\n      <td>12.356763</td>\n      <td>25</td>\n      <td>2021-12-30 20:57:15</td>\n      <td>2021-12-30 21:22:23</td>\n      <td>0</td>\n      <td>0</td>\n      <td>0</td>\n      <td>881f1a1649fffff</td>\n      <td>13.19</td>\n      <td>7.62</td>\n      <td>0.0</td>\n      <td>8.94</td>\n      <td>83.0</td>\n      <td>1640897835</td>\n      <td>1640899343</td>\n    </tr>\n    <tr>\n      <th>749346</th>\n      <td>97785</td>\n      <td>51.367276</td>\n      <td>12.369792</td>\n      <td>48</td>\n      <td>2021-12-30 21:01:26</td>\n      <td>2021-12-30 21:49:45</td>\n      <td>0</td>\n      <td>0</td>\n      <td>0</td>\n      <td>881f1a8c8bfffff</td>\n      <td>13.05</td>\n      <td>2.03</td>\n      <td>0.0</td>\n      <td>8.05</td>\n      <td>84.0</td>\n      <td>1640898086</td>\n      <td>1640900985</td>\n    </tr>\n    <tr>\n      <th>749347</th>\n      <td>41738</td>\n      <td>51.366942</td>\n      <td>12.370322</td>\n      <td>43</td>\n      <td>2021-12-30 21:48:38</td>\n      <td>2021-12-30 22:31:56</td>\n      <td>0</td>\n      <td>0</td>\n      <td>0</td>\n      <td>881f1a8c8bfffff</td>\n      <td>13.05</td>\n      <td>2.03</td>\n      <td>0.0</td>\n      <td>8.05</td>\n      <td>84.0</td>\n      <td>1640900918</td>\n      <td>1640903516</td>\n    </tr>\n    <tr>\n      <th>749348</th>\n      <td>72028</td>\n      <td>51.332844</td>\n      <td>12.404319</td>\n      <td>32</td>\n      <td>2021-12-30 22:26:40</td>\n      <td>2021-12-30 22:59:23</td>\n      <td>0</td>\n      <td>0</td>\n      <td>0</td>\n      <td>881f1a165bfffff</td>\n      <td>13.11</td>\n      <td>1.14</td>\n      <td>0.0</td>\n      <td>8.05</td>\n      <td>81.0</td>\n      <td>1640903200</td>\n      <td>1640905163</td>\n    </tr>\n  </tbody>\n</table>\n<p>749349 rows × 17 columns</p>\n</div>"
     },
     "execution_count": 24,
     "metadata": {},
     "output_type": "execute_result"
    }
   ],
   "source": [
    "df_points\n"
   ],
   "metadata": {
    "collapsed": false,
    "pycharm": {
     "name": "#%%\n"
    }
   }
  },
  {
   "cell_type": "markdown",
   "source": [
    "# Add start time Feature"
   ],
   "metadata": {
    "collapsed": false
   }
  },
  {
   "cell_type": "code",
   "execution_count": 25,
   "outputs": [],
   "source": [
    "def add_start_min_feature(row):\n",
    "    return ((row['dt_start'] % 86400) / 60).__round__(0)\n",
    "\n",
    "df_points['start_min'] = df_points.apply(add_start_min_feature,axis=1)\n",
    "df_points['start_min'] = df_points['start_min'].astype(int)"
   ],
   "metadata": {
    "collapsed": false,
    "pycharm": {
     "name": "#%%\n"
    }
   }
  },
  {
   "cell_type": "code",
   "execution_count": 26,
   "outputs": [
    {
     "data": {
      "text/plain": "        bike_id        lat        lng  idle_time          time_start  \\\n0         72165  51.351547  12.382658         38 2020-12-31 23:21:34   \n1         75838  51.331022  12.316226         37 2020-12-31 23:22:04   \n2         74466  51.355200  12.370664         36 2020-12-31 23:23:09   \n3         73806  51.328693  12.346637         34 2020-12-31 23:25:41   \n4         75854  51.331707  12.371241         22 2020-12-31 23:37:01   \n...         ...        ...        ...        ...                 ...   \n749344    72058  51.317569  12.382730        112 2021-12-30 20:53:13   \n749345    71949  51.334711  12.356763         25 2021-12-30 20:57:15   \n749346    97785  51.367276  12.369792         48 2021-12-30 21:01:26   \n749347    41738  51.366942  12.370322         43 2021-12-30 21:48:38   \n749348    72028  51.332844  12.404319         32 2021-12-30 22:26:40   \n\n                  time_end  end_station_number  idle_time_next_day  \\\n0      2020-12-31 23:59:59                   0                1439   \n1      2020-12-31 23:59:59                   0                1439   \n2      2020-12-31 23:59:59                   0                  49   \n3      2020-12-31 23:59:59                   0                 852   \n4      2020-12-31 23:59:59                   0                 239   \n...                    ...                 ...                 ...   \n749344 2021-12-30 22:46:08                   0                   0   \n749345 2021-12-30 21:22:23                   0                   0   \n749346 2021-12-30 21:49:45                   0                   0   \n749347 2021-12-30 22:31:56                   0                   0   \n749348 2021-12-30 22:59:23                   0                   0   \n\n        over_night           hex_id   temp  rain  snow  wind_speed  humidity  \\\n0                1  881f1a8cb9fffff   2.72  0.00   0.0        4.02      72.0   \n1                1  881f1a8dd7fffff   2.72  0.00   0.0        4.02      72.0   \n2                1  881f1a8c87fffff   2.72  0.00   0.0        4.02      72.0   \n3                1  881f1a164dfffff   2.72  0.00   0.0        4.02      72.0   \n4                1  881f1a164bfffff   2.72  0.00   0.0        4.02      72.0   \n...            ...              ...    ...   ...   ...         ...       ...   \n749344           0  881f1a1609fffff  13.19  7.62   0.0        8.94      83.0   \n749345           0  881f1a1649fffff  13.19  7.62   0.0        8.94      83.0   \n749346           0  881f1a8c8bfffff  13.05  2.03   0.0        8.05      84.0   \n749347           0  881f1a8c8bfffff  13.05  2.03   0.0        8.05      84.0   \n749348           0  881f1a165bfffff  13.11  1.14   0.0        8.05      81.0   \n\n          dt_start      dt_end  start_min  \n0       1609456894  1609459199       1402  \n1       1609456924  1609459199       1402  \n2       1609456989  1609459199       1403  \n3       1609457141  1609459199       1406  \n4       1609457821  1609459199       1417  \n...            ...         ...        ...  \n749344  1640897593  1640904368       1253  \n749345  1640897835  1640899343       1257  \n749346  1640898086  1640900985       1261  \n749347  1640900918  1640903516       1309  \n749348  1640903200  1640905163       1347  \n\n[749349 rows x 18 columns]",
      "text/html": "<div>\n<style scoped>\n    .dataframe tbody tr th:only-of-type {\n        vertical-align: middle;\n    }\n\n    .dataframe tbody tr th {\n        vertical-align: top;\n    }\n\n    .dataframe thead th {\n        text-align: right;\n    }\n</style>\n<table border=\"1\" class=\"dataframe\">\n  <thead>\n    <tr style=\"text-align: right;\">\n      <th></th>\n      <th>bike_id</th>\n      <th>lat</th>\n      <th>lng</th>\n      <th>idle_time</th>\n      <th>time_start</th>\n      <th>time_end</th>\n      <th>end_station_number</th>\n      <th>idle_time_next_day</th>\n      <th>over_night</th>\n      <th>hex_id</th>\n      <th>temp</th>\n      <th>rain</th>\n      <th>snow</th>\n      <th>wind_speed</th>\n      <th>humidity</th>\n      <th>dt_start</th>\n      <th>dt_end</th>\n      <th>start_min</th>\n    </tr>\n  </thead>\n  <tbody>\n    <tr>\n      <th>0</th>\n      <td>72165</td>\n      <td>51.351547</td>\n      <td>12.382658</td>\n      <td>38</td>\n      <td>2020-12-31 23:21:34</td>\n      <td>2020-12-31 23:59:59</td>\n      <td>0</td>\n      <td>1439</td>\n      <td>1</td>\n      <td>881f1a8cb9fffff</td>\n      <td>2.72</td>\n      <td>0.00</td>\n      <td>0.0</td>\n      <td>4.02</td>\n      <td>72.0</td>\n      <td>1609456894</td>\n      <td>1609459199</td>\n      <td>1402</td>\n    </tr>\n    <tr>\n      <th>1</th>\n      <td>75838</td>\n      <td>51.331022</td>\n      <td>12.316226</td>\n      <td>37</td>\n      <td>2020-12-31 23:22:04</td>\n      <td>2020-12-31 23:59:59</td>\n      <td>0</td>\n      <td>1439</td>\n      <td>1</td>\n      <td>881f1a8dd7fffff</td>\n      <td>2.72</td>\n      <td>0.00</td>\n      <td>0.0</td>\n      <td>4.02</td>\n      <td>72.0</td>\n      <td>1609456924</td>\n      <td>1609459199</td>\n      <td>1402</td>\n    </tr>\n    <tr>\n      <th>2</th>\n      <td>74466</td>\n      <td>51.355200</td>\n      <td>12.370664</td>\n      <td>36</td>\n      <td>2020-12-31 23:23:09</td>\n      <td>2020-12-31 23:59:59</td>\n      <td>0</td>\n      <td>49</td>\n      <td>1</td>\n      <td>881f1a8c87fffff</td>\n      <td>2.72</td>\n      <td>0.00</td>\n      <td>0.0</td>\n      <td>4.02</td>\n      <td>72.0</td>\n      <td>1609456989</td>\n      <td>1609459199</td>\n      <td>1403</td>\n    </tr>\n    <tr>\n      <th>3</th>\n      <td>73806</td>\n      <td>51.328693</td>\n      <td>12.346637</td>\n      <td>34</td>\n      <td>2020-12-31 23:25:41</td>\n      <td>2020-12-31 23:59:59</td>\n      <td>0</td>\n      <td>852</td>\n      <td>1</td>\n      <td>881f1a164dfffff</td>\n      <td>2.72</td>\n      <td>0.00</td>\n      <td>0.0</td>\n      <td>4.02</td>\n      <td>72.0</td>\n      <td>1609457141</td>\n      <td>1609459199</td>\n      <td>1406</td>\n    </tr>\n    <tr>\n      <th>4</th>\n      <td>75854</td>\n      <td>51.331707</td>\n      <td>12.371241</td>\n      <td>22</td>\n      <td>2020-12-31 23:37:01</td>\n      <td>2020-12-31 23:59:59</td>\n      <td>0</td>\n      <td>239</td>\n      <td>1</td>\n      <td>881f1a164bfffff</td>\n      <td>2.72</td>\n      <td>0.00</td>\n      <td>0.0</td>\n      <td>4.02</td>\n      <td>72.0</td>\n      <td>1609457821</td>\n      <td>1609459199</td>\n      <td>1417</td>\n    </tr>\n    <tr>\n      <th>...</th>\n      <td>...</td>\n      <td>...</td>\n      <td>...</td>\n      <td>...</td>\n      <td>...</td>\n      <td>...</td>\n      <td>...</td>\n      <td>...</td>\n      <td>...</td>\n      <td>...</td>\n      <td>...</td>\n      <td>...</td>\n      <td>...</td>\n      <td>...</td>\n      <td>...</td>\n      <td>...</td>\n      <td>...</td>\n      <td>...</td>\n    </tr>\n    <tr>\n      <th>749344</th>\n      <td>72058</td>\n      <td>51.317569</td>\n      <td>12.382730</td>\n      <td>112</td>\n      <td>2021-12-30 20:53:13</td>\n      <td>2021-12-30 22:46:08</td>\n      <td>0</td>\n      <td>0</td>\n      <td>0</td>\n      <td>881f1a1609fffff</td>\n      <td>13.19</td>\n      <td>7.62</td>\n      <td>0.0</td>\n      <td>8.94</td>\n      <td>83.0</td>\n      <td>1640897593</td>\n      <td>1640904368</td>\n      <td>1253</td>\n    </tr>\n    <tr>\n      <th>749345</th>\n      <td>71949</td>\n      <td>51.334711</td>\n      <td>12.356763</td>\n      <td>25</td>\n      <td>2021-12-30 20:57:15</td>\n      <td>2021-12-30 21:22:23</td>\n      <td>0</td>\n      <td>0</td>\n      <td>0</td>\n      <td>881f1a1649fffff</td>\n      <td>13.19</td>\n      <td>7.62</td>\n      <td>0.0</td>\n      <td>8.94</td>\n      <td>83.0</td>\n      <td>1640897835</td>\n      <td>1640899343</td>\n      <td>1257</td>\n    </tr>\n    <tr>\n      <th>749346</th>\n      <td>97785</td>\n      <td>51.367276</td>\n      <td>12.369792</td>\n      <td>48</td>\n      <td>2021-12-30 21:01:26</td>\n      <td>2021-12-30 21:49:45</td>\n      <td>0</td>\n      <td>0</td>\n      <td>0</td>\n      <td>881f1a8c8bfffff</td>\n      <td>13.05</td>\n      <td>2.03</td>\n      <td>0.0</td>\n      <td>8.05</td>\n      <td>84.0</td>\n      <td>1640898086</td>\n      <td>1640900985</td>\n      <td>1261</td>\n    </tr>\n    <tr>\n      <th>749347</th>\n      <td>41738</td>\n      <td>51.366942</td>\n      <td>12.370322</td>\n      <td>43</td>\n      <td>2021-12-30 21:48:38</td>\n      <td>2021-12-30 22:31:56</td>\n      <td>0</td>\n      <td>0</td>\n      <td>0</td>\n      <td>881f1a8c8bfffff</td>\n      <td>13.05</td>\n      <td>2.03</td>\n      <td>0.0</td>\n      <td>8.05</td>\n      <td>84.0</td>\n      <td>1640900918</td>\n      <td>1640903516</td>\n      <td>1309</td>\n    </tr>\n    <tr>\n      <th>749348</th>\n      <td>72028</td>\n      <td>51.332844</td>\n      <td>12.404319</td>\n      <td>32</td>\n      <td>2021-12-30 22:26:40</td>\n      <td>2021-12-30 22:59:23</td>\n      <td>0</td>\n      <td>0</td>\n      <td>0</td>\n      <td>881f1a165bfffff</td>\n      <td>13.11</td>\n      <td>1.14</td>\n      <td>0.0</td>\n      <td>8.05</td>\n      <td>81.0</td>\n      <td>1640903200</td>\n      <td>1640905163</td>\n      <td>1347</td>\n    </tr>\n  </tbody>\n</table>\n<p>749349 rows × 18 columns</p>\n</div>"
     },
     "execution_count": 26,
     "metadata": {},
     "output_type": "execute_result"
    }
   ],
   "source": [
    "df_points"
   ],
   "metadata": {
    "collapsed": false,
    "pycharm": {
     "name": "#%%\n"
    }
   }
  },
  {
   "cell_type": "markdown",
   "source": [
    "# Add day Feature"
   ],
   "metadata": {
    "collapsed": false,
    "pycharm": {
     "name": "#%% md\n"
    }
   }
  },
  {
   "cell_type": "code",
   "execution_count": 27,
   "outputs": [
    {
     "data": {
      "text/plain": "bike_id                        int64\nlat                          float64\nlng                          float64\nidle_time                      int64\ntime_start            datetime64[ns]\ntime_end              datetime64[ns]\nend_station_number             int64\nidle_time_next_day             int64\nover_night                     int64\nhex_id                        object\ntemp                         float64\nrain                         float64\nsnow                         float64\nwind_speed                   float64\nhumidity                     float64\ndt_start                       int64\ndt_end                         int64\nstart_min                      int64\ndtype: object"
     },
     "execution_count": 27,
     "metadata": {},
     "output_type": "execute_result"
    }
   ],
   "source": [
    "df_points.dtypes"
   ],
   "metadata": {
    "collapsed": false,
    "pycharm": {
     "name": "#%%\n"
    }
   }
  },
  {
   "cell_type": "code",
   "execution_count": 28,
   "outputs": [],
   "source": [
    "def add_day_feature(row):\n",
    "    return row['time_start'].dayofweek\n",
    "\n",
    "df_points['day'] = df_points.apply(add_day_feature,axis=1)"
   ],
   "metadata": {
    "collapsed": false,
    "pycharm": {
     "name": "#%%\n"
    }
   }
  },
  {
   "cell_type": "code",
   "execution_count": 29,
   "outputs": [
    {
     "data": {
      "text/plain": "        bike_id        lat        lng  idle_time          time_start  \\\n0         72165  51.351547  12.382658         38 2020-12-31 23:21:34   \n1         75838  51.331022  12.316226         37 2020-12-31 23:22:04   \n2         74466  51.355200  12.370664         36 2020-12-31 23:23:09   \n3         73806  51.328693  12.346637         34 2020-12-31 23:25:41   \n4         75854  51.331707  12.371241         22 2020-12-31 23:37:01   \n...         ...        ...        ...        ...                 ...   \n749344    72058  51.317569  12.382730        112 2021-12-30 20:53:13   \n749345    71949  51.334711  12.356763         25 2021-12-30 20:57:15   \n749346    97785  51.367276  12.369792         48 2021-12-30 21:01:26   \n749347    41738  51.366942  12.370322         43 2021-12-30 21:48:38   \n749348    72028  51.332844  12.404319         32 2021-12-30 22:26:40   \n\n                  time_end  end_station_number  idle_time_next_day  \\\n0      2020-12-31 23:59:59                   0                1439   \n1      2020-12-31 23:59:59                   0                1439   \n2      2020-12-31 23:59:59                   0                  49   \n3      2020-12-31 23:59:59                   0                 852   \n4      2020-12-31 23:59:59                   0                 239   \n...                    ...                 ...                 ...   \n749344 2021-12-30 22:46:08                   0                   0   \n749345 2021-12-30 21:22:23                   0                   0   \n749346 2021-12-30 21:49:45                   0                   0   \n749347 2021-12-30 22:31:56                   0                   0   \n749348 2021-12-30 22:59:23                   0                   0   \n\n        over_night           hex_id   temp  rain  snow  wind_speed  humidity  \\\n0                1  881f1a8cb9fffff   2.72  0.00   0.0        4.02      72.0   \n1                1  881f1a8dd7fffff   2.72  0.00   0.0        4.02      72.0   \n2                1  881f1a8c87fffff   2.72  0.00   0.0        4.02      72.0   \n3                1  881f1a164dfffff   2.72  0.00   0.0        4.02      72.0   \n4                1  881f1a164bfffff   2.72  0.00   0.0        4.02      72.0   \n...            ...              ...    ...   ...   ...         ...       ...   \n749344           0  881f1a1609fffff  13.19  7.62   0.0        8.94      83.0   \n749345           0  881f1a1649fffff  13.19  7.62   0.0        8.94      83.0   \n749346           0  881f1a8c8bfffff  13.05  2.03   0.0        8.05      84.0   \n749347           0  881f1a8c8bfffff  13.05  2.03   0.0        8.05      84.0   \n749348           0  881f1a165bfffff  13.11  1.14   0.0        8.05      81.0   \n\n          dt_start      dt_end  start_min  day  \n0       1609456894  1609459199       1402    3  \n1       1609456924  1609459199       1402    3  \n2       1609456989  1609459199       1403    3  \n3       1609457141  1609459199       1406    3  \n4       1609457821  1609459199       1417    3  \n...            ...         ...        ...  ...  \n749344  1640897593  1640904368       1253    3  \n749345  1640897835  1640899343       1257    3  \n749346  1640898086  1640900985       1261    3  \n749347  1640900918  1640903516       1309    3  \n749348  1640903200  1640905163       1347    3  \n\n[749349 rows x 19 columns]",
      "text/html": "<div>\n<style scoped>\n    .dataframe tbody tr th:only-of-type {\n        vertical-align: middle;\n    }\n\n    .dataframe tbody tr th {\n        vertical-align: top;\n    }\n\n    .dataframe thead th {\n        text-align: right;\n    }\n</style>\n<table border=\"1\" class=\"dataframe\">\n  <thead>\n    <tr style=\"text-align: right;\">\n      <th></th>\n      <th>bike_id</th>\n      <th>lat</th>\n      <th>lng</th>\n      <th>idle_time</th>\n      <th>time_start</th>\n      <th>time_end</th>\n      <th>end_station_number</th>\n      <th>idle_time_next_day</th>\n      <th>over_night</th>\n      <th>hex_id</th>\n      <th>temp</th>\n      <th>rain</th>\n      <th>snow</th>\n      <th>wind_speed</th>\n      <th>humidity</th>\n      <th>dt_start</th>\n      <th>dt_end</th>\n      <th>start_min</th>\n      <th>day</th>\n    </tr>\n  </thead>\n  <tbody>\n    <tr>\n      <th>0</th>\n      <td>72165</td>\n      <td>51.351547</td>\n      <td>12.382658</td>\n      <td>38</td>\n      <td>2020-12-31 23:21:34</td>\n      <td>2020-12-31 23:59:59</td>\n      <td>0</td>\n      <td>1439</td>\n      <td>1</td>\n      <td>881f1a8cb9fffff</td>\n      <td>2.72</td>\n      <td>0.00</td>\n      <td>0.0</td>\n      <td>4.02</td>\n      <td>72.0</td>\n      <td>1609456894</td>\n      <td>1609459199</td>\n      <td>1402</td>\n      <td>3</td>\n    </tr>\n    <tr>\n      <th>1</th>\n      <td>75838</td>\n      <td>51.331022</td>\n      <td>12.316226</td>\n      <td>37</td>\n      <td>2020-12-31 23:22:04</td>\n      <td>2020-12-31 23:59:59</td>\n      <td>0</td>\n      <td>1439</td>\n      <td>1</td>\n      <td>881f1a8dd7fffff</td>\n      <td>2.72</td>\n      <td>0.00</td>\n      <td>0.0</td>\n      <td>4.02</td>\n      <td>72.0</td>\n      <td>1609456924</td>\n      <td>1609459199</td>\n      <td>1402</td>\n      <td>3</td>\n    </tr>\n    <tr>\n      <th>2</th>\n      <td>74466</td>\n      <td>51.355200</td>\n      <td>12.370664</td>\n      <td>36</td>\n      <td>2020-12-31 23:23:09</td>\n      <td>2020-12-31 23:59:59</td>\n      <td>0</td>\n      <td>49</td>\n      <td>1</td>\n      <td>881f1a8c87fffff</td>\n      <td>2.72</td>\n      <td>0.00</td>\n      <td>0.0</td>\n      <td>4.02</td>\n      <td>72.0</td>\n      <td>1609456989</td>\n      <td>1609459199</td>\n      <td>1403</td>\n      <td>3</td>\n    </tr>\n    <tr>\n      <th>3</th>\n      <td>73806</td>\n      <td>51.328693</td>\n      <td>12.346637</td>\n      <td>34</td>\n      <td>2020-12-31 23:25:41</td>\n      <td>2020-12-31 23:59:59</td>\n      <td>0</td>\n      <td>852</td>\n      <td>1</td>\n      <td>881f1a164dfffff</td>\n      <td>2.72</td>\n      <td>0.00</td>\n      <td>0.0</td>\n      <td>4.02</td>\n      <td>72.0</td>\n      <td>1609457141</td>\n      <td>1609459199</td>\n      <td>1406</td>\n      <td>3</td>\n    </tr>\n    <tr>\n      <th>4</th>\n      <td>75854</td>\n      <td>51.331707</td>\n      <td>12.371241</td>\n      <td>22</td>\n      <td>2020-12-31 23:37:01</td>\n      <td>2020-12-31 23:59:59</td>\n      <td>0</td>\n      <td>239</td>\n      <td>1</td>\n      <td>881f1a164bfffff</td>\n      <td>2.72</td>\n      <td>0.00</td>\n      <td>0.0</td>\n      <td>4.02</td>\n      <td>72.0</td>\n      <td>1609457821</td>\n      <td>1609459199</td>\n      <td>1417</td>\n      <td>3</td>\n    </tr>\n    <tr>\n      <th>...</th>\n      <td>...</td>\n      <td>...</td>\n      <td>...</td>\n      <td>...</td>\n      <td>...</td>\n      <td>...</td>\n      <td>...</td>\n      <td>...</td>\n      <td>...</td>\n      <td>...</td>\n      <td>...</td>\n      <td>...</td>\n      <td>...</td>\n      <td>...</td>\n      <td>...</td>\n      <td>...</td>\n      <td>...</td>\n      <td>...</td>\n      <td>...</td>\n    </tr>\n    <tr>\n      <th>749344</th>\n      <td>72058</td>\n      <td>51.317569</td>\n      <td>12.382730</td>\n      <td>112</td>\n      <td>2021-12-30 20:53:13</td>\n      <td>2021-12-30 22:46:08</td>\n      <td>0</td>\n      <td>0</td>\n      <td>0</td>\n      <td>881f1a1609fffff</td>\n      <td>13.19</td>\n      <td>7.62</td>\n      <td>0.0</td>\n      <td>8.94</td>\n      <td>83.0</td>\n      <td>1640897593</td>\n      <td>1640904368</td>\n      <td>1253</td>\n      <td>3</td>\n    </tr>\n    <tr>\n      <th>749345</th>\n      <td>71949</td>\n      <td>51.334711</td>\n      <td>12.356763</td>\n      <td>25</td>\n      <td>2021-12-30 20:57:15</td>\n      <td>2021-12-30 21:22:23</td>\n      <td>0</td>\n      <td>0</td>\n      <td>0</td>\n      <td>881f1a1649fffff</td>\n      <td>13.19</td>\n      <td>7.62</td>\n      <td>0.0</td>\n      <td>8.94</td>\n      <td>83.0</td>\n      <td>1640897835</td>\n      <td>1640899343</td>\n      <td>1257</td>\n      <td>3</td>\n    </tr>\n    <tr>\n      <th>749346</th>\n      <td>97785</td>\n      <td>51.367276</td>\n      <td>12.369792</td>\n      <td>48</td>\n      <td>2021-12-30 21:01:26</td>\n      <td>2021-12-30 21:49:45</td>\n      <td>0</td>\n      <td>0</td>\n      <td>0</td>\n      <td>881f1a8c8bfffff</td>\n      <td>13.05</td>\n      <td>2.03</td>\n      <td>0.0</td>\n      <td>8.05</td>\n      <td>84.0</td>\n      <td>1640898086</td>\n      <td>1640900985</td>\n      <td>1261</td>\n      <td>3</td>\n    </tr>\n    <tr>\n      <th>749347</th>\n      <td>41738</td>\n      <td>51.366942</td>\n      <td>12.370322</td>\n      <td>43</td>\n      <td>2021-12-30 21:48:38</td>\n      <td>2021-12-30 22:31:56</td>\n      <td>0</td>\n      <td>0</td>\n      <td>0</td>\n      <td>881f1a8c8bfffff</td>\n      <td>13.05</td>\n      <td>2.03</td>\n      <td>0.0</td>\n      <td>8.05</td>\n      <td>84.0</td>\n      <td>1640900918</td>\n      <td>1640903516</td>\n      <td>1309</td>\n      <td>3</td>\n    </tr>\n    <tr>\n      <th>749348</th>\n      <td>72028</td>\n      <td>51.332844</td>\n      <td>12.404319</td>\n      <td>32</td>\n      <td>2021-12-30 22:26:40</td>\n      <td>2021-12-30 22:59:23</td>\n      <td>0</td>\n      <td>0</td>\n      <td>0</td>\n      <td>881f1a165bfffff</td>\n      <td>13.11</td>\n      <td>1.14</td>\n      <td>0.0</td>\n      <td>8.05</td>\n      <td>81.0</td>\n      <td>1640903200</td>\n      <td>1640905163</td>\n      <td>1347</td>\n      <td>3</td>\n    </tr>\n  </tbody>\n</table>\n<p>749349 rows × 19 columns</p>\n</div>"
     },
     "execution_count": 29,
     "metadata": {},
     "output_type": "execute_result"
    }
   ],
   "source": [
    "df_points"
   ],
   "metadata": {
    "collapsed": false,
    "pycharm": {
     "name": "#%%\n"
    }
   }
  },
  {
   "cell_type": "markdown",
   "source": [
    "# Add month feature"
   ],
   "metadata": {
    "collapsed": false
   }
  },
  {
   "cell_type": "code",
   "execution_count": 30,
   "outputs": [],
   "source": [
    "def add_month_feature(row):\n",
    "    return row['time_start'].strftime(\"%m\")\n",
    "\n",
    "df_points['month'] = df_points.apply(add_month_feature,axis=1)"
   ],
   "metadata": {
    "collapsed": false,
    "pycharm": {
     "name": "#%%\n"
    }
   }
  },
  {
   "cell_type": "code",
   "execution_count": 31,
   "outputs": [],
   "source": [
    "#del df_points['time_start']\n",
    "#del df_points['time_end']"
   ],
   "metadata": {
    "collapsed": false,
    "pycharm": {
     "name": "#%%\n"
    }
   }
  },
  {
   "cell_type": "markdown",
   "source": [
    "Encode Hex_id"
   ],
   "metadata": {
    "collapsed": false
   }
  },
  {
   "cell_type": "markdown",
   "source": [
    "from sklearn import preprocessing\n",
    "\n",
    "label_encoder = preprocessing.LabelEncoder()\n",
    "df_points['hex_enc']= label_encoder.fit_transform(df_points['hex_id'])"
   ],
   "metadata": {
    "collapsed": false,
    "pycharm": {
     "name": "#%% md\n"
    }
   }
  },
  {
   "cell_type": "markdown",
   "source": [
    "Sort DF"
   ],
   "metadata": {
    "collapsed": false
   }
  },
  {
   "cell_type": "code",
   "execution_count": 32,
   "outputs": [
    {
     "data": {
      "text/plain": "        bike_id        lat        lng  idle_time          time_start  \\\n0         72165  51.351547  12.382658         38 2020-12-31 23:21:34   \n1         75838  51.331022  12.316226         37 2020-12-31 23:22:04   \n2         74466  51.355200  12.370664         36 2020-12-31 23:23:09   \n3         73806  51.328693  12.346637         34 2020-12-31 23:25:41   \n4         75854  51.331707  12.371241         22 2020-12-31 23:37:01   \n...         ...        ...        ...        ...                 ...   \n749344    72058  51.317569  12.382730        112 2021-12-30 20:53:13   \n749345    71949  51.334711  12.356763         25 2021-12-30 20:57:15   \n749346    97785  51.367276  12.369792         48 2021-12-30 21:01:26   \n749347    41738  51.366942  12.370322         43 2021-12-30 21:48:38   \n749348    72028  51.332844  12.404319         32 2021-12-30 22:26:40   \n\n                  time_end  end_station_number  idle_time_next_day  \\\n0      2020-12-31 23:59:59                   0                1439   \n1      2020-12-31 23:59:59                   0                1439   \n2      2020-12-31 23:59:59                   0                  49   \n3      2020-12-31 23:59:59                   0                 852   \n4      2020-12-31 23:59:59                   0                 239   \n...                    ...                 ...                 ...   \n749344 2021-12-30 22:46:08                   0                   0   \n749345 2021-12-30 21:22:23                   0                   0   \n749346 2021-12-30 21:49:45                   0                   0   \n749347 2021-12-30 22:31:56                   0                   0   \n749348 2021-12-30 22:59:23                   0                   0   \n\n        over_night           hex_id   temp  rain  snow  wind_speed  humidity  \\\n0                1  881f1a8cb9fffff   2.72  0.00   0.0        4.02      72.0   \n1                1  881f1a8dd7fffff   2.72  0.00   0.0        4.02      72.0   \n2                1  881f1a8c87fffff   2.72  0.00   0.0        4.02      72.0   \n3                1  881f1a164dfffff   2.72  0.00   0.0        4.02      72.0   \n4                1  881f1a164bfffff   2.72  0.00   0.0        4.02      72.0   \n...            ...              ...    ...   ...   ...         ...       ...   \n749344           0  881f1a1609fffff  13.19  7.62   0.0        8.94      83.0   \n749345           0  881f1a1649fffff  13.19  7.62   0.0        8.94      83.0   \n749346           0  881f1a8c8bfffff  13.05  2.03   0.0        8.05      84.0   \n749347           0  881f1a8c8bfffff  13.05  2.03   0.0        8.05      84.0   \n749348           0  881f1a165bfffff  13.11  1.14   0.0        8.05      81.0   \n\n          dt_start      dt_end  start_min  day month  \n0       1609456894  1609459199       1402    3    12  \n1       1609456924  1609459199       1402    3    12  \n2       1609456989  1609459199       1403    3    12  \n3       1609457141  1609459199       1406    3    12  \n4       1609457821  1609459199       1417    3    12  \n...            ...         ...        ...  ...   ...  \n749344  1640897593  1640904368       1253    3    12  \n749345  1640897835  1640899343       1257    3    12  \n749346  1640898086  1640900985       1261    3    12  \n749347  1640900918  1640903516       1309    3    12  \n749348  1640903200  1640905163       1347    3    12  \n\n[749349 rows x 20 columns]",
      "text/html": "<div>\n<style scoped>\n    .dataframe tbody tr th:only-of-type {\n        vertical-align: middle;\n    }\n\n    .dataframe tbody tr th {\n        vertical-align: top;\n    }\n\n    .dataframe thead th {\n        text-align: right;\n    }\n</style>\n<table border=\"1\" class=\"dataframe\">\n  <thead>\n    <tr style=\"text-align: right;\">\n      <th></th>\n      <th>bike_id</th>\n      <th>lat</th>\n      <th>lng</th>\n      <th>idle_time</th>\n      <th>time_start</th>\n      <th>time_end</th>\n      <th>end_station_number</th>\n      <th>idle_time_next_day</th>\n      <th>over_night</th>\n      <th>hex_id</th>\n      <th>temp</th>\n      <th>rain</th>\n      <th>snow</th>\n      <th>wind_speed</th>\n      <th>humidity</th>\n      <th>dt_start</th>\n      <th>dt_end</th>\n      <th>start_min</th>\n      <th>day</th>\n      <th>month</th>\n    </tr>\n  </thead>\n  <tbody>\n    <tr>\n      <th>0</th>\n      <td>72165</td>\n      <td>51.351547</td>\n      <td>12.382658</td>\n      <td>38</td>\n      <td>2020-12-31 23:21:34</td>\n      <td>2020-12-31 23:59:59</td>\n      <td>0</td>\n      <td>1439</td>\n      <td>1</td>\n      <td>881f1a8cb9fffff</td>\n      <td>2.72</td>\n      <td>0.00</td>\n      <td>0.0</td>\n      <td>4.02</td>\n      <td>72.0</td>\n      <td>1609456894</td>\n      <td>1609459199</td>\n      <td>1402</td>\n      <td>3</td>\n      <td>12</td>\n    </tr>\n    <tr>\n      <th>1</th>\n      <td>75838</td>\n      <td>51.331022</td>\n      <td>12.316226</td>\n      <td>37</td>\n      <td>2020-12-31 23:22:04</td>\n      <td>2020-12-31 23:59:59</td>\n      <td>0</td>\n      <td>1439</td>\n      <td>1</td>\n      <td>881f1a8dd7fffff</td>\n      <td>2.72</td>\n      <td>0.00</td>\n      <td>0.0</td>\n      <td>4.02</td>\n      <td>72.0</td>\n      <td>1609456924</td>\n      <td>1609459199</td>\n      <td>1402</td>\n      <td>3</td>\n      <td>12</td>\n    </tr>\n    <tr>\n      <th>2</th>\n      <td>74466</td>\n      <td>51.355200</td>\n      <td>12.370664</td>\n      <td>36</td>\n      <td>2020-12-31 23:23:09</td>\n      <td>2020-12-31 23:59:59</td>\n      <td>0</td>\n      <td>49</td>\n      <td>1</td>\n      <td>881f1a8c87fffff</td>\n      <td>2.72</td>\n      <td>0.00</td>\n      <td>0.0</td>\n      <td>4.02</td>\n      <td>72.0</td>\n      <td>1609456989</td>\n      <td>1609459199</td>\n      <td>1403</td>\n      <td>3</td>\n      <td>12</td>\n    </tr>\n    <tr>\n      <th>3</th>\n      <td>73806</td>\n      <td>51.328693</td>\n      <td>12.346637</td>\n      <td>34</td>\n      <td>2020-12-31 23:25:41</td>\n      <td>2020-12-31 23:59:59</td>\n      <td>0</td>\n      <td>852</td>\n      <td>1</td>\n      <td>881f1a164dfffff</td>\n      <td>2.72</td>\n      <td>0.00</td>\n      <td>0.0</td>\n      <td>4.02</td>\n      <td>72.0</td>\n      <td>1609457141</td>\n      <td>1609459199</td>\n      <td>1406</td>\n      <td>3</td>\n      <td>12</td>\n    </tr>\n    <tr>\n      <th>4</th>\n      <td>75854</td>\n      <td>51.331707</td>\n      <td>12.371241</td>\n      <td>22</td>\n      <td>2020-12-31 23:37:01</td>\n      <td>2020-12-31 23:59:59</td>\n      <td>0</td>\n      <td>239</td>\n      <td>1</td>\n      <td>881f1a164bfffff</td>\n      <td>2.72</td>\n      <td>0.00</td>\n      <td>0.0</td>\n      <td>4.02</td>\n      <td>72.0</td>\n      <td>1609457821</td>\n      <td>1609459199</td>\n      <td>1417</td>\n      <td>3</td>\n      <td>12</td>\n    </tr>\n    <tr>\n      <th>...</th>\n      <td>...</td>\n      <td>...</td>\n      <td>...</td>\n      <td>...</td>\n      <td>...</td>\n      <td>...</td>\n      <td>...</td>\n      <td>...</td>\n      <td>...</td>\n      <td>...</td>\n      <td>...</td>\n      <td>...</td>\n      <td>...</td>\n      <td>...</td>\n      <td>...</td>\n      <td>...</td>\n      <td>...</td>\n      <td>...</td>\n      <td>...</td>\n      <td>...</td>\n    </tr>\n    <tr>\n      <th>749344</th>\n      <td>72058</td>\n      <td>51.317569</td>\n      <td>12.382730</td>\n      <td>112</td>\n      <td>2021-12-30 20:53:13</td>\n      <td>2021-12-30 22:46:08</td>\n      <td>0</td>\n      <td>0</td>\n      <td>0</td>\n      <td>881f1a1609fffff</td>\n      <td>13.19</td>\n      <td>7.62</td>\n      <td>0.0</td>\n      <td>8.94</td>\n      <td>83.0</td>\n      <td>1640897593</td>\n      <td>1640904368</td>\n      <td>1253</td>\n      <td>3</td>\n      <td>12</td>\n    </tr>\n    <tr>\n      <th>749345</th>\n      <td>71949</td>\n      <td>51.334711</td>\n      <td>12.356763</td>\n      <td>25</td>\n      <td>2021-12-30 20:57:15</td>\n      <td>2021-12-30 21:22:23</td>\n      <td>0</td>\n      <td>0</td>\n      <td>0</td>\n      <td>881f1a1649fffff</td>\n      <td>13.19</td>\n      <td>7.62</td>\n      <td>0.0</td>\n      <td>8.94</td>\n      <td>83.0</td>\n      <td>1640897835</td>\n      <td>1640899343</td>\n      <td>1257</td>\n      <td>3</td>\n      <td>12</td>\n    </tr>\n    <tr>\n      <th>749346</th>\n      <td>97785</td>\n      <td>51.367276</td>\n      <td>12.369792</td>\n      <td>48</td>\n      <td>2021-12-30 21:01:26</td>\n      <td>2021-12-30 21:49:45</td>\n      <td>0</td>\n      <td>0</td>\n      <td>0</td>\n      <td>881f1a8c8bfffff</td>\n      <td>13.05</td>\n      <td>2.03</td>\n      <td>0.0</td>\n      <td>8.05</td>\n      <td>84.0</td>\n      <td>1640898086</td>\n      <td>1640900985</td>\n      <td>1261</td>\n      <td>3</td>\n      <td>12</td>\n    </tr>\n    <tr>\n      <th>749347</th>\n      <td>41738</td>\n      <td>51.366942</td>\n      <td>12.370322</td>\n      <td>43</td>\n      <td>2021-12-30 21:48:38</td>\n      <td>2021-12-30 22:31:56</td>\n      <td>0</td>\n      <td>0</td>\n      <td>0</td>\n      <td>881f1a8c8bfffff</td>\n      <td>13.05</td>\n      <td>2.03</td>\n      <td>0.0</td>\n      <td>8.05</td>\n      <td>84.0</td>\n      <td>1640900918</td>\n      <td>1640903516</td>\n      <td>1309</td>\n      <td>3</td>\n      <td>12</td>\n    </tr>\n    <tr>\n      <th>749348</th>\n      <td>72028</td>\n      <td>51.332844</td>\n      <td>12.404319</td>\n      <td>32</td>\n      <td>2021-12-30 22:26:40</td>\n      <td>2021-12-30 22:59:23</td>\n      <td>0</td>\n      <td>0</td>\n      <td>0</td>\n      <td>881f1a165bfffff</td>\n      <td>13.11</td>\n      <td>1.14</td>\n      <td>0.0</td>\n      <td>8.05</td>\n      <td>81.0</td>\n      <td>1640903200</td>\n      <td>1640905163</td>\n      <td>1347</td>\n      <td>3</td>\n      <td>12</td>\n    </tr>\n  </tbody>\n</table>\n<p>749349 rows × 20 columns</p>\n</div>"
     },
     "execution_count": 32,
     "metadata": {},
     "output_type": "execute_result"
    }
   ],
   "source": [
    "df_points"
   ],
   "metadata": {
    "collapsed": false,
    "pycharm": {
     "name": "#%%\n"
    }
   }
  },
  {
   "cell_type": "markdown",
   "source": [
    "df_points = df_points.reindex(columns=['bike_id', 'lat', 'lng', 'dt_start', 'dt_end', 'hex_id', 'temp', 'rain', 'snow', 'wind_speed', 'humidity', 'month', 'day', 'start_min', 'over_night', 'idle_time_next_day', 'idle_time'])\n",
    "\n",
    "\n",
    "df_points.sort_values(by=['dt_start'])"
   ],
   "metadata": {
    "collapsed": false,
    "pycharm": {
     "name": "#%% md\n"
    }
   }
  },
  {
   "cell_type": "code",
   "execution_count": 33,
   "outputs": [
    {
     "data": {
      "text/plain": "        bike_id        lat        lng  idle_time          time_start  \\\n0         72165  51.351547  12.382658         38 2020-12-31 23:21:34   \n1         75838  51.331022  12.316226         37 2020-12-31 23:22:04   \n2         74466  51.355200  12.370664         36 2020-12-31 23:23:09   \n3         73806  51.328693  12.346637         34 2020-12-31 23:25:41   \n4         75854  51.331707  12.371241         22 2020-12-31 23:37:01   \n...         ...        ...        ...        ...                 ...   \n749344    72058  51.317569  12.382730        112 2021-12-30 20:53:13   \n749345    71949  51.334711  12.356763         25 2021-12-30 20:57:15   \n749346    97785  51.367276  12.369792         48 2021-12-30 21:01:26   \n749347    41738  51.366942  12.370322         43 2021-12-30 21:48:38   \n749348    72028  51.332844  12.404319         32 2021-12-30 22:26:40   \n\n                  time_end  end_station_number  idle_time_next_day  \\\n0      2020-12-31 23:59:59                   0                1439   \n1      2020-12-31 23:59:59                   0                1439   \n2      2020-12-31 23:59:59                   0                  49   \n3      2020-12-31 23:59:59                   0                 852   \n4      2020-12-31 23:59:59                   0                 239   \n...                    ...                 ...                 ...   \n749344 2021-12-30 22:46:08                   0                   0   \n749345 2021-12-30 21:22:23                   0                   0   \n749346 2021-12-30 21:49:45                   0                   0   \n749347 2021-12-30 22:31:56                   0                   0   \n749348 2021-12-30 22:59:23                   0                   0   \n\n        over_night           hex_id   temp  rain  snow  wind_speed  humidity  \\\n0                1  881f1a8cb9fffff   2.72  0.00   0.0        4.02      72.0   \n1                1  881f1a8dd7fffff   2.72  0.00   0.0        4.02      72.0   \n2                1  881f1a8c87fffff   2.72  0.00   0.0        4.02      72.0   \n3                1  881f1a164dfffff   2.72  0.00   0.0        4.02      72.0   \n4                1  881f1a164bfffff   2.72  0.00   0.0        4.02      72.0   \n...            ...              ...    ...   ...   ...         ...       ...   \n749344           0  881f1a1609fffff  13.19  7.62   0.0        8.94      83.0   \n749345           0  881f1a1649fffff  13.19  7.62   0.0        8.94      83.0   \n749346           0  881f1a8c8bfffff  13.05  2.03   0.0        8.05      84.0   \n749347           0  881f1a8c8bfffff  13.05  2.03   0.0        8.05      84.0   \n749348           0  881f1a165bfffff  13.11  1.14   0.0        8.05      81.0   \n\n          dt_start      dt_end  start_min  day month  \n0       1609456894  1609459199       1402    3    12  \n1       1609456924  1609459199       1402    3    12  \n2       1609456989  1609459199       1403    3    12  \n3       1609457141  1609459199       1406    3    12  \n4       1609457821  1609459199       1417    3    12  \n...            ...         ...        ...  ...   ...  \n749344  1640897593  1640904368       1253    3    12  \n749345  1640897835  1640899343       1257    3    12  \n749346  1640898086  1640900985       1261    3    12  \n749347  1640900918  1640903516       1309    3    12  \n749348  1640903200  1640905163       1347    3    12  \n\n[749349 rows x 20 columns]",
      "text/html": "<div>\n<style scoped>\n    .dataframe tbody tr th:only-of-type {\n        vertical-align: middle;\n    }\n\n    .dataframe tbody tr th {\n        vertical-align: top;\n    }\n\n    .dataframe thead th {\n        text-align: right;\n    }\n</style>\n<table border=\"1\" class=\"dataframe\">\n  <thead>\n    <tr style=\"text-align: right;\">\n      <th></th>\n      <th>bike_id</th>\n      <th>lat</th>\n      <th>lng</th>\n      <th>idle_time</th>\n      <th>time_start</th>\n      <th>time_end</th>\n      <th>end_station_number</th>\n      <th>idle_time_next_day</th>\n      <th>over_night</th>\n      <th>hex_id</th>\n      <th>temp</th>\n      <th>rain</th>\n      <th>snow</th>\n      <th>wind_speed</th>\n      <th>humidity</th>\n      <th>dt_start</th>\n      <th>dt_end</th>\n      <th>start_min</th>\n      <th>day</th>\n      <th>month</th>\n    </tr>\n  </thead>\n  <tbody>\n    <tr>\n      <th>0</th>\n      <td>72165</td>\n      <td>51.351547</td>\n      <td>12.382658</td>\n      <td>38</td>\n      <td>2020-12-31 23:21:34</td>\n      <td>2020-12-31 23:59:59</td>\n      <td>0</td>\n      <td>1439</td>\n      <td>1</td>\n      <td>881f1a8cb9fffff</td>\n      <td>2.72</td>\n      <td>0.00</td>\n      <td>0.0</td>\n      <td>4.02</td>\n      <td>72.0</td>\n      <td>1609456894</td>\n      <td>1609459199</td>\n      <td>1402</td>\n      <td>3</td>\n      <td>12</td>\n    </tr>\n    <tr>\n      <th>1</th>\n      <td>75838</td>\n      <td>51.331022</td>\n      <td>12.316226</td>\n      <td>37</td>\n      <td>2020-12-31 23:22:04</td>\n      <td>2020-12-31 23:59:59</td>\n      <td>0</td>\n      <td>1439</td>\n      <td>1</td>\n      <td>881f1a8dd7fffff</td>\n      <td>2.72</td>\n      <td>0.00</td>\n      <td>0.0</td>\n      <td>4.02</td>\n      <td>72.0</td>\n      <td>1609456924</td>\n      <td>1609459199</td>\n      <td>1402</td>\n      <td>3</td>\n      <td>12</td>\n    </tr>\n    <tr>\n      <th>2</th>\n      <td>74466</td>\n      <td>51.355200</td>\n      <td>12.370664</td>\n      <td>36</td>\n      <td>2020-12-31 23:23:09</td>\n      <td>2020-12-31 23:59:59</td>\n      <td>0</td>\n      <td>49</td>\n      <td>1</td>\n      <td>881f1a8c87fffff</td>\n      <td>2.72</td>\n      <td>0.00</td>\n      <td>0.0</td>\n      <td>4.02</td>\n      <td>72.0</td>\n      <td>1609456989</td>\n      <td>1609459199</td>\n      <td>1403</td>\n      <td>3</td>\n      <td>12</td>\n    </tr>\n    <tr>\n      <th>3</th>\n      <td>73806</td>\n      <td>51.328693</td>\n      <td>12.346637</td>\n      <td>34</td>\n      <td>2020-12-31 23:25:41</td>\n      <td>2020-12-31 23:59:59</td>\n      <td>0</td>\n      <td>852</td>\n      <td>1</td>\n      <td>881f1a164dfffff</td>\n      <td>2.72</td>\n      <td>0.00</td>\n      <td>0.0</td>\n      <td>4.02</td>\n      <td>72.0</td>\n      <td>1609457141</td>\n      <td>1609459199</td>\n      <td>1406</td>\n      <td>3</td>\n      <td>12</td>\n    </tr>\n    <tr>\n      <th>4</th>\n      <td>75854</td>\n      <td>51.331707</td>\n      <td>12.371241</td>\n      <td>22</td>\n      <td>2020-12-31 23:37:01</td>\n      <td>2020-12-31 23:59:59</td>\n      <td>0</td>\n      <td>239</td>\n      <td>1</td>\n      <td>881f1a164bfffff</td>\n      <td>2.72</td>\n      <td>0.00</td>\n      <td>0.0</td>\n      <td>4.02</td>\n      <td>72.0</td>\n      <td>1609457821</td>\n      <td>1609459199</td>\n      <td>1417</td>\n      <td>3</td>\n      <td>12</td>\n    </tr>\n    <tr>\n      <th>...</th>\n      <td>...</td>\n      <td>...</td>\n      <td>...</td>\n      <td>...</td>\n      <td>...</td>\n      <td>...</td>\n      <td>...</td>\n      <td>...</td>\n      <td>...</td>\n      <td>...</td>\n      <td>...</td>\n      <td>...</td>\n      <td>...</td>\n      <td>...</td>\n      <td>...</td>\n      <td>...</td>\n      <td>...</td>\n      <td>...</td>\n      <td>...</td>\n      <td>...</td>\n    </tr>\n    <tr>\n      <th>749344</th>\n      <td>72058</td>\n      <td>51.317569</td>\n      <td>12.382730</td>\n      <td>112</td>\n      <td>2021-12-30 20:53:13</td>\n      <td>2021-12-30 22:46:08</td>\n      <td>0</td>\n      <td>0</td>\n      <td>0</td>\n      <td>881f1a1609fffff</td>\n      <td>13.19</td>\n      <td>7.62</td>\n      <td>0.0</td>\n      <td>8.94</td>\n      <td>83.0</td>\n      <td>1640897593</td>\n      <td>1640904368</td>\n      <td>1253</td>\n      <td>3</td>\n      <td>12</td>\n    </tr>\n    <tr>\n      <th>749345</th>\n      <td>71949</td>\n      <td>51.334711</td>\n      <td>12.356763</td>\n      <td>25</td>\n      <td>2021-12-30 20:57:15</td>\n      <td>2021-12-30 21:22:23</td>\n      <td>0</td>\n      <td>0</td>\n      <td>0</td>\n      <td>881f1a1649fffff</td>\n      <td>13.19</td>\n      <td>7.62</td>\n      <td>0.0</td>\n      <td>8.94</td>\n      <td>83.0</td>\n      <td>1640897835</td>\n      <td>1640899343</td>\n      <td>1257</td>\n      <td>3</td>\n      <td>12</td>\n    </tr>\n    <tr>\n      <th>749346</th>\n      <td>97785</td>\n      <td>51.367276</td>\n      <td>12.369792</td>\n      <td>48</td>\n      <td>2021-12-30 21:01:26</td>\n      <td>2021-12-30 21:49:45</td>\n      <td>0</td>\n      <td>0</td>\n      <td>0</td>\n      <td>881f1a8c8bfffff</td>\n      <td>13.05</td>\n      <td>2.03</td>\n      <td>0.0</td>\n      <td>8.05</td>\n      <td>84.0</td>\n      <td>1640898086</td>\n      <td>1640900985</td>\n      <td>1261</td>\n      <td>3</td>\n      <td>12</td>\n    </tr>\n    <tr>\n      <th>749347</th>\n      <td>41738</td>\n      <td>51.366942</td>\n      <td>12.370322</td>\n      <td>43</td>\n      <td>2021-12-30 21:48:38</td>\n      <td>2021-12-30 22:31:56</td>\n      <td>0</td>\n      <td>0</td>\n      <td>0</td>\n      <td>881f1a8c8bfffff</td>\n      <td>13.05</td>\n      <td>2.03</td>\n      <td>0.0</td>\n      <td>8.05</td>\n      <td>84.0</td>\n      <td>1640900918</td>\n      <td>1640903516</td>\n      <td>1309</td>\n      <td>3</td>\n      <td>12</td>\n    </tr>\n    <tr>\n      <th>749348</th>\n      <td>72028</td>\n      <td>51.332844</td>\n      <td>12.404319</td>\n      <td>32</td>\n      <td>2021-12-30 22:26:40</td>\n      <td>2021-12-30 22:59:23</td>\n      <td>0</td>\n      <td>0</td>\n      <td>0</td>\n      <td>881f1a165bfffff</td>\n      <td>13.11</td>\n      <td>1.14</td>\n      <td>0.0</td>\n      <td>8.05</td>\n      <td>81.0</td>\n      <td>1640903200</td>\n      <td>1640905163</td>\n      <td>1347</td>\n      <td>3</td>\n      <td>12</td>\n    </tr>\n  </tbody>\n</table>\n<p>749349 rows × 20 columns</p>\n</div>"
     },
     "execution_count": 33,
     "metadata": {},
     "output_type": "execute_result"
    }
   ],
   "source": [
    "df_points"
   ],
   "metadata": {
    "collapsed": false,
    "pycharm": {
     "name": "#%%\n"
    }
   }
  },
  {
   "cell_type": "markdown",
   "source": [
    "# Save"
   ],
   "metadata": {
    "collapsed": false
   }
  },
  {
   "cell_type": "markdown",
   "id": "209f3e6e",
   "metadata": {
    "pycharm": {
     "name": "#%% md\n"
    }
   },
   "source": [
    "df_points.to_csv('../data/df_points/df_points_2018.csv', index=False)"
   ]
  },
  {
   "cell_type": "markdown",
   "source": [
    "import pandas as pd\n",
    "df = pd.read_csv('../data/df_points/final_df_points_18_21.csv')\n",
    "df = df.sort_values(by=['dt_start'])"
   ],
   "metadata": {
    "collapsed": false,
    "pycharm": {
     "name": "#%% md\n"
    }
   }
  },
  {
   "cell_type": "markdown",
   "source": [
    "# Add year Feature"
   ],
   "metadata": {
    "collapsed": false
   }
  },
  {
   "cell_type": "code",
   "execution_count": 34,
   "outputs": [],
   "source": [
    "def add_year_feature(row):\n",
    "    return row['time_start'].year\n",
    "\n",
    "df_points['year'] = df_points.apply(add_year_feature,axis=1)"
   ],
   "metadata": {
    "collapsed": false,
    "pycharm": {
     "name": "#%%\n"
    }
   }
  },
  {
   "cell_type": "markdown",
   "source": [
    "# Add In_zone Feature"
   ],
   "metadata": {
    "collapsed": false
   }
  },
  {
   "cell_type": "code",
   "execution_count": 35,
   "outputs": [],
   "source": [
    "import os\n",
    "import json\n",
    "from shapely.geometry import shape, Point\n",
    "\n",
    "flexzones_0 = []\n",
    "flexzones_1 = []\n",
    "\n",
    "def save_flexzones():\n",
    "    # Flexzone 0 Euro\n",
    "    directory_name_0 = f'../flexzones/0/'\n",
    "    for file_name in os.listdir(directory_name_0):\n",
    "        path = os.path.join(directory_name_0, file_name)\n",
    "        if os.path.isfile(path):\n",
    "           with open(path) as f:\n",
    "                js = json.load(f)\n",
    "                for feature in js['features']:\n",
    "                    flexzones_0.append(feature)\n",
    "    # Flexzone 1 Euro\n",
    "    directory_name_1 = f'../flexzones/1/'\n",
    "    for file_name in os.listdir(directory_name_1):\n",
    "        path = os.path.join(directory_name_1, file_name)\n",
    "        if os.path.isfile(path):\n",
    "           with open(path) as f:\n",
    "                js = json.load(f)\n",
    "                for feature in js['features']:\n",
    "                    flexzones_1.append(feature)\n",
    "\n",
    "\n",
    "def point_in_polygons(row):\n",
    "    y = row['lat']  # y = 51.331305\n",
    "    x = row['lng']  # x = 12.344334\n",
    "\n",
    "    # switch x and y-axis bc. scapely woks on x plane\n",
    "    point = Point(x,y)\n",
    "\n",
    "    for feature0 in flexzones_0:\n",
    "        polygon = shape(feature0['geometry'])\n",
    "        if polygon.contains(point):\n",
    "            return feature0['properties']['name']\n",
    "\n",
    "    for feature1 in flexzones_1:\n",
    "        polygon = shape(feature1['geometry'])\n",
    "        if polygon.contains(point):\n",
    "            return feature1['properties']['name']\n",
    "    else: return 0"
   ],
   "metadata": {
    "collapsed": false,
    "pycharm": {
     "name": "#%%\n"
    }
   }
  },
  {
   "cell_type": "code",
   "execution_count": 36,
   "outputs": [],
   "source": [
    "save_flexzones()"
   ],
   "metadata": {
    "collapsed": false,
    "pycharm": {
     "name": "#%%\n"
    }
   }
  },
  {
   "cell_type": "code",
   "execution_count": 37,
   "outputs": [],
   "source": [
    "df_points['zone_name'] = df_points.apply(point_in_polygons,axis=1)"
   ],
   "metadata": {
    "collapsed": false,
    "pycharm": {
     "name": "#%%\n"
    }
   }
  },
  {
   "cell_type": "code",
   "execution_count": 38,
   "outputs": [
    {
     "data": {
      "text/plain": "        bike_id        lat        lng  idle_time          time_start  \\\n0         72165  51.351547  12.382658         38 2020-12-31 23:21:34   \n1         75838  51.331022  12.316226         37 2020-12-31 23:22:04   \n2         74466  51.355200  12.370664         36 2020-12-31 23:23:09   \n3         73806  51.328693  12.346637         34 2020-12-31 23:25:41   \n4         75854  51.331707  12.371241         22 2020-12-31 23:37:01   \n...         ...        ...        ...        ...                 ...   \n749344    72058  51.317569  12.382730        112 2021-12-30 20:53:13   \n749345    71949  51.334711  12.356763         25 2021-12-30 20:57:15   \n749346    97785  51.367276  12.369792         48 2021-12-30 21:01:26   \n749347    41738  51.366942  12.370322         43 2021-12-30 21:48:38   \n749348    72028  51.332844  12.404319         32 2021-12-30 22:26:40   \n\n                  time_end  end_station_number  idle_time_next_day  \\\n0      2020-12-31 23:59:59                   0                1439   \n1      2020-12-31 23:59:59                   0                1439   \n2      2020-12-31 23:59:59                   0                  49   \n3      2020-12-31 23:59:59                   0                 852   \n4      2020-12-31 23:59:59                   0                 239   \n...                    ...                 ...                 ...   \n749344 2021-12-30 22:46:08                   0                   0   \n749345 2021-12-30 21:22:23                   0                   0   \n749346 2021-12-30 21:49:45                   0                   0   \n749347 2021-12-30 22:31:56                   0                   0   \n749348 2021-12-30 22:59:23                   0                   0   \n\n        over_night           hex_id  ...  snow  wind_speed  humidity  \\\n0                1  881f1a8cb9fffff  ...   0.0        4.02      72.0   \n1                1  881f1a8dd7fffff  ...   0.0        4.02      72.0   \n2                1  881f1a8c87fffff  ...   0.0        4.02      72.0   \n3                1  881f1a164dfffff  ...   0.0        4.02      72.0   \n4                1  881f1a164bfffff  ...   0.0        4.02      72.0   \n...            ...              ...  ...   ...         ...       ...   \n749344           0  881f1a1609fffff  ...   0.0        8.94      83.0   \n749345           0  881f1a1649fffff  ...   0.0        8.94      83.0   \n749346           0  881f1a8c8bfffff  ...   0.0        8.05      84.0   \n749347           0  881f1a8c8bfffff  ...   0.0        8.05      84.0   \n749348           0  881f1a165bfffff  ...   0.0        8.05      81.0   \n\n          dt_start      dt_end  start_min  day  month  year  \\\n0       1609456894  1609459199       1402    3     12  2020   \n1       1609456924  1609459199       1402    3     12  2020   \n2       1609456989  1609459199       1403    3     12  2020   \n3       1609457141  1609459199       1406    3     12  2020   \n4       1609457821  1609459199       1417    3     12  2020   \n...            ...         ...        ...  ...    ...   ...   \n749344  1640897593  1640904368       1253    3     12  2021   \n749345  1640897835  1640899343       1257    3     12  2021   \n749346  1640898086  1640900985       1261    3     12  2021   \n749347  1640900918  1640903516       1309    3     12  2021   \n749348  1640903200  1640905163       1347    3     12  2021   \n\n                         zone_name  \n0                                0  \n1       Pinke Zone Leipzig West 1€  \n2        Pinke Zone Leipzig Ost 1€  \n3                                0  \n4        Blaue Zone Leipzig Ost 0€  \n...                            ...  \n749344   Blaue Zone Leipzig Ost 0€  \n749345   Pinke Zone Leipzig Ost 1€  \n749346   Blaue Zone Leipzig Ost 0€  \n749347   Pinke Zone Leipzig Ost 1€  \n749348   Blaue Zone Leipzig Ost 0€  \n\n[749349 rows x 22 columns]",
      "text/html": "<div>\n<style scoped>\n    .dataframe tbody tr th:only-of-type {\n        vertical-align: middle;\n    }\n\n    .dataframe tbody tr th {\n        vertical-align: top;\n    }\n\n    .dataframe thead th {\n        text-align: right;\n    }\n</style>\n<table border=\"1\" class=\"dataframe\">\n  <thead>\n    <tr style=\"text-align: right;\">\n      <th></th>\n      <th>bike_id</th>\n      <th>lat</th>\n      <th>lng</th>\n      <th>idle_time</th>\n      <th>time_start</th>\n      <th>time_end</th>\n      <th>end_station_number</th>\n      <th>idle_time_next_day</th>\n      <th>over_night</th>\n      <th>hex_id</th>\n      <th>...</th>\n      <th>snow</th>\n      <th>wind_speed</th>\n      <th>humidity</th>\n      <th>dt_start</th>\n      <th>dt_end</th>\n      <th>start_min</th>\n      <th>day</th>\n      <th>month</th>\n      <th>year</th>\n      <th>zone_name</th>\n    </tr>\n  </thead>\n  <tbody>\n    <tr>\n      <th>0</th>\n      <td>72165</td>\n      <td>51.351547</td>\n      <td>12.382658</td>\n      <td>38</td>\n      <td>2020-12-31 23:21:34</td>\n      <td>2020-12-31 23:59:59</td>\n      <td>0</td>\n      <td>1439</td>\n      <td>1</td>\n      <td>881f1a8cb9fffff</td>\n      <td>...</td>\n      <td>0.0</td>\n      <td>4.02</td>\n      <td>72.0</td>\n      <td>1609456894</td>\n      <td>1609459199</td>\n      <td>1402</td>\n      <td>3</td>\n      <td>12</td>\n      <td>2020</td>\n      <td>0</td>\n    </tr>\n    <tr>\n      <th>1</th>\n      <td>75838</td>\n      <td>51.331022</td>\n      <td>12.316226</td>\n      <td>37</td>\n      <td>2020-12-31 23:22:04</td>\n      <td>2020-12-31 23:59:59</td>\n      <td>0</td>\n      <td>1439</td>\n      <td>1</td>\n      <td>881f1a8dd7fffff</td>\n      <td>...</td>\n      <td>0.0</td>\n      <td>4.02</td>\n      <td>72.0</td>\n      <td>1609456924</td>\n      <td>1609459199</td>\n      <td>1402</td>\n      <td>3</td>\n      <td>12</td>\n      <td>2020</td>\n      <td>Pinke Zone Leipzig West 1€</td>\n    </tr>\n    <tr>\n      <th>2</th>\n      <td>74466</td>\n      <td>51.355200</td>\n      <td>12.370664</td>\n      <td>36</td>\n      <td>2020-12-31 23:23:09</td>\n      <td>2020-12-31 23:59:59</td>\n      <td>0</td>\n      <td>49</td>\n      <td>1</td>\n      <td>881f1a8c87fffff</td>\n      <td>...</td>\n      <td>0.0</td>\n      <td>4.02</td>\n      <td>72.0</td>\n      <td>1609456989</td>\n      <td>1609459199</td>\n      <td>1403</td>\n      <td>3</td>\n      <td>12</td>\n      <td>2020</td>\n      <td>Pinke Zone Leipzig Ost 1€</td>\n    </tr>\n    <tr>\n      <th>3</th>\n      <td>73806</td>\n      <td>51.328693</td>\n      <td>12.346637</td>\n      <td>34</td>\n      <td>2020-12-31 23:25:41</td>\n      <td>2020-12-31 23:59:59</td>\n      <td>0</td>\n      <td>852</td>\n      <td>1</td>\n      <td>881f1a164dfffff</td>\n      <td>...</td>\n      <td>0.0</td>\n      <td>4.02</td>\n      <td>72.0</td>\n      <td>1609457141</td>\n      <td>1609459199</td>\n      <td>1406</td>\n      <td>3</td>\n      <td>12</td>\n      <td>2020</td>\n      <td>0</td>\n    </tr>\n    <tr>\n      <th>4</th>\n      <td>75854</td>\n      <td>51.331707</td>\n      <td>12.371241</td>\n      <td>22</td>\n      <td>2020-12-31 23:37:01</td>\n      <td>2020-12-31 23:59:59</td>\n      <td>0</td>\n      <td>239</td>\n      <td>1</td>\n      <td>881f1a164bfffff</td>\n      <td>...</td>\n      <td>0.0</td>\n      <td>4.02</td>\n      <td>72.0</td>\n      <td>1609457821</td>\n      <td>1609459199</td>\n      <td>1417</td>\n      <td>3</td>\n      <td>12</td>\n      <td>2020</td>\n      <td>Blaue Zone Leipzig Ost 0€</td>\n    </tr>\n    <tr>\n      <th>...</th>\n      <td>...</td>\n      <td>...</td>\n      <td>...</td>\n      <td>...</td>\n      <td>...</td>\n      <td>...</td>\n      <td>...</td>\n      <td>...</td>\n      <td>...</td>\n      <td>...</td>\n      <td>...</td>\n      <td>...</td>\n      <td>...</td>\n      <td>...</td>\n      <td>...</td>\n      <td>...</td>\n      <td>...</td>\n      <td>...</td>\n      <td>...</td>\n      <td>...</td>\n      <td>...</td>\n    </tr>\n    <tr>\n      <th>749344</th>\n      <td>72058</td>\n      <td>51.317569</td>\n      <td>12.382730</td>\n      <td>112</td>\n      <td>2021-12-30 20:53:13</td>\n      <td>2021-12-30 22:46:08</td>\n      <td>0</td>\n      <td>0</td>\n      <td>0</td>\n      <td>881f1a1609fffff</td>\n      <td>...</td>\n      <td>0.0</td>\n      <td>8.94</td>\n      <td>83.0</td>\n      <td>1640897593</td>\n      <td>1640904368</td>\n      <td>1253</td>\n      <td>3</td>\n      <td>12</td>\n      <td>2021</td>\n      <td>Blaue Zone Leipzig Ost 0€</td>\n    </tr>\n    <tr>\n      <th>749345</th>\n      <td>71949</td>\n      <td>51.334711</td>\n      <td>12.356763</td>\n      <td>25</td>\n      <td>2021-12-30 20:57:15</td>\n      <td>2021-12-30 21:22:23</td>\n      <td>0</td>\n      <td>0</td>\n      <td>0</td>\n      <td>881f1a1649fffff</td>\n      <td>...</td>\n      <td>0.0</td>\n      <td>8.94</td>\n      <td>83.0</td>\n      <td>1640897835</td>\n      <td>1640899343</td>\n      <td>1257</td>\n      <td>3</td>\n      <td>12</td>\n      <td>2021</td>\n      <td>Pinke Zone Leipzig Ost 1€</td>\n    </tr>\n    <tr>\n      <th>749346</th>\n      <td>97785</td>\n      <td>51.367276</td>\n      <td>12.369792</td>\n      <td>48</td>\n      <td>2021-12-30 21:01:26</td>\n      <td>2021-12-30 21:49:45</td>\n      <td>0</td>\n      <td>0</td>\n      <td>0</td>\n      <td>881f1a8c8bfffff</td>\n      <td>...</td>\n      <td>0.0</td>\n      <td>8.05</td>\n      <td>84.0</td>\n      <td>1640898086</td>\n      <td>1640900985</td>\n      <td>1261</td>\n      <td>3</td>\n      <td>12</td>\n      <td>2021</td>\n      <td>Blaue Zone Leipzig Ost 0€</td>\n    </tr>\n    <tr>\n      <th>749347</th>\n      <td>41738</td>\n      <td>51.366942</td>\n      <td>12.370322</td>\n      <td>43</td>\n      <td>2021-12-30 21:48:38</td>\n      <td>2021-12-30 22:31:56</td>\n      <td>0</td>\n      <td>0</td>\n      <td>0</td>\n      <td>881f1a8c8bfffff</td>\n      <td>...</td>\n      <td>0.0</td>\n      <td>8.05</td>\n      <td>84.0</td>\n      <td>1640900918</td>\n      <td>1640903516</td>\n      <td>1309</td>\n      <td>3</td>\n      <td>12</td>\n      <td>2021</td>\n      <td>Pinke Zone Leipzig Ost 1€</td>\n    </tr>\n    <tr>\n      <th>749348</th>\n      <td>72028</td>\n      <td>51.332844</td>\n      <td>12.404319</td>\n      <td>32</td>\n      <td>2021-12-30 22:26:40</td>\n      <td>2021-12-30 22:59:23</td>\n      <td>0</td>\n      <td>0</td>\n      <td>0</td>\n      <td>881f1a165bfffff</td>\n      <td>...</td>\n      <td>0.0</td>\n      <td>8.05</td>\n      <td>81.0</td>\n      <td>1640903200</td>\n      <td>1640905163</td>\n      <td>1347</td>\n      <td>3</td>\n      <td>12</td>\n      <td>2021</td>\n      <td>Blaue Zone Leipzig Ost 0€</td>\n    </tr>\n  </tbody>\n</table>\n<p>749349 rows × 22 columns</p>\n</div>"
     },
     "execution_count": 38,
     "metadata": {},
     "output_type": "execute_result"
    }
   ],
   "source": [
    "df_points"
   ],
   "metadata": {
    "collapsed": false,
    "pycharm": {
     "name": "#%%\n"
    }
   }
  },
  {
   "cell_type": "code",
   "execution_count": 39,
   "outputs": [],
   "source": [
    "def in_zone(row):\n",
    "    if row['zone_name'] != 0:\n",
    "        return 1\n",
    "    else: return 0\n",
    "\n",
    "df_points['in_zone'] = df_points.apply(in_zone,axis=1)"
   ],
   "metadata": {
    "collapsed": false,
    "pycharm": {
     "name": "#%%\n"
    }
   }
  },
  {
   "cell_type": "code",
   "execution_count": 40,
   "outputs": [
    {
     "data": {
      "text/plain": "        bike_id        lat        lng  idle_time          time_start  \\\n0         72165  51.351547  12.382658         38 2020-12-31 23:21:34   \n1         75838  51.331022  12.316226         37 2020-12-31 23:22:04   \n2         74466  51.355200  12.370664         36 2020-12-31 23:23:09   \n3         73806  51.328693  12.346637         34 2020-12-31 23:25:41   \n4         75854  51.331707  12.371241         22 2020-12-31 23:37:01   \n...         ...        ...        ...        ...                 ...   \n749344    72058  51.317569  12.382730        112 2021-12-30 20:53:13   \n749345    71949  51.334711  12.356763         25 2021-12-30 20:57:15   \n749346    97785  51.367276  12.369792         48 2021-12-30 21:01:26   \n749347    41738  51.366942  12.370322         43 2021-12-30 21:48:38   \n749348    72028  51.332844  12.404319         32 2021-12-30 22:26:40   \n\n                  time_end  end_station_number  idle_time_next_day  \\\n0      2020-12-31 23:59:59                   0                1439   \n1      2020-12-31 23:59:59                   0                1439   \n2      2020-12-31 23:59:59                   0                  49   \n3      2020-12-31 23:59:59                   0                 852   \n4      2020-12-31 23:59:59                   0                 239   \n...                    ...                 ...                 ...   \n749344 2021-12-30 22:46:08                   0                   0   \n749345 2021-12-30 21:22:23                   0                   0   \n749346 2021-12-30 21:49:45                   0                   0   \n749347 2021-12-30 22:31:56                   0                   0   \n749348 2021-12-30 22:59:23                   0                   0   \n\n        over_night           hex_id  ...  wind_speed  humidity    dt_start  \\\n0                1  881f1a8cb9fffff  ...        4.02      72.0  1609456894   \n1                1  881f1a8dd7fffff  ...        4.02      72.0  1609456924   \n2                1  881f1a8c87fffff  ...        4.02      72.0  1609456989   \n3                1  881f1a164dfffff  ...        4.02      72.0  1609457141   \n4                1  881f1a164bfffff  ...        4.02      72.0  1609457821   \n...            ...              ...  ...         ...       ...         ...   \n749344           0  881f1a1609fffff  ...        8.94      83.0  1640897593   \n749345           0  881f1a1649fffff  ...        8.94      83.0  1640897835   \n749346           0  881f1a8c8bfffff  ...        8.05      84.0  1640898086   \n749347           0  881f1a8c8bfffff  ...        8.05      84.0  1640900918   \n749348           0  881f1a165bfffff  ...        8.05      81.0  1640903200   \n\n            dt_end  start_min  day  month  year                   zone_name  \\\n0       1609459199       1402    3     12  2020                           0   \n1       1609459199       1402    3     12  2020  Pinke Zone Leipzig West 1€   \n2       1609459199       1403    3     12  2020   Pinke Zone Leipzig Ost 1€   \n3       1609459199       1406    3     12  2020                           0   \n4       1609459199       1417    3     12  2020   Blaue Zone Leipzig Ost 0€   \n...            ...        ...  ...    ...   ...                         ...   \n749344  1640904368       1253    3     12  2021   Blaue Zone Leipzig Ost 0€   \n749345  1640899343       1257    3     12  2021   Pinke Zone Leipzig Ost 1€   \n749346  1640900985       1261    3     12  2021   Blaue Zone Leipzig Ost 0€   \n749347  1640903516       1309    3     12  2021   Pinke Zone Leipzig Ost 1€   \n749348  1640905163       1347    3     12  2021   Blaue Zone Leipzig Ost 0€   \n\n       in_zone  \n0            0  \n1            1  \n2            1  \n3            0  \n4            1  \n...        ...  \n749344       1  \n749345       1  \n749346       1  \n749347       1  \n749348       1  \n\n[749349 rows x 23 columns]",
      "text/html": "<div>\n<style scoped>\n    .dataframe tbody tr th:only-of-type {\n        vertical-align: middle;\n    }\n\n    .dataframe tbody tr th {\n        vertical-align: top;\n    }\n\n    .dataframe thead th {\n        text-align: right;\n    }\n</style>\n<table border=\"1\" class=\"dataframe\">\n  <thead>\n    <tr style=\"text-align: right;\">\n      <th></th>\n      <th>bike_id</th>\n      <th>lat</th>\n      <th>lng</th>\n      <th>idle_time</th>\n      <th>time_start</th>\n      <th>time_end</th>\n      <th>end_station_number</th>\n      <th>idle_time_next_day</th>\n      <th>over_night</th>\n      <th>hex_id</th>\n      <th>...</th>\n      <th>wind_speed</th>\n      <th>humidity</th>\n      <th>dt_start</th>\n      <th>dt_end</th>\n      <th>start_min</th>\n      <th>day</th>\n      <th>month</th>\n      <th>year</th>\n      <th>zone_name</th>\n      <th>in_zone</th>\n    </tr>\n  </thead>\n  <tbody>\n    <tr>\n      <th>0</th>\n      <td>72165</td>\n      <td>51.351547</td>\n      <td>12.382658</td>\n      <td>38</td>\n      <td>2020-12-31 23:21:34</td>\n      <td>2020-12-31 23:59:59</td>\n      <td>0</td>\n      <td>1439</td>\n      <td>1</td>\n      <td>881f1a8cb9fffff</td>\n      <td>...</td>\n      <td>4.02</td>\n      <td>72.0</td>\n      <td>1609456894</td>\n      <td>1609459199</td>\n      <td>1402</td>\n      <td>3</td>\n      <td>12</td>\n      <td>2020</td>\n      <td>0</td>\n      <td>0</td>\n    </tr>\n    <tr>\n      <th>1</th>\n      <td>75838</td>\n      <td>51.331022</td>\n      <td>12.316226</td>\n      <td>37</td>\n      <td>2020-12-31 23:22:04</td>\n      <td>2020-12-31 23:59:59</td>\n      <td>0</td>\n      <td>1439</td>\n      <td>1</td>\n      <td>881f1a8dd7fffff</td>\n      <td>...</td>\n      <td>4.02</td>\n      <td>72.0</td>\n      <td>1609456924</td>\n      <td>1609459199</td>\n      <td>1402</td>\n      <td>3</td>\n      <td>12</td>\n      <td>2020</td>\n      <td>Pinke Zone Leipzig West 1€</td>\n      <td>1</td>\n    </tr>\n    <tr>\n      <th>2</th>\n      <td>74466</td>\n      <td>51.355200</td>\n      <td>12.370664</td>\n      <td>36</td>\n      <td>2020-12-31 23:23:09</td>\n      <td>2020-12-31 23:59:59</td>\n      <td>0</td>\n      <td>49</td>\n      <td>1</td>\n      <td>881f1a8c87fffff</td>\n      <td>...</td>\n      <td>4.02</td>\n      <td>72.0</td>\n      <td>1609456989</td>\n      <td>1609459199</td>\n      <td>1403</td>\n      <td>3</td>\n      <td>12</td>\n      <td>2020</td>\n      <td>Pinke Zone Leipzig Ost 1€</td>\n      <td>1</td>\n    </tr>\n    <tr>\n      <th>3</th>\n      <td>73806</td>\n      <td>51.328693</td>\n      <td>12.346637</td>\n      <td>34</td>\n      <td>2020-12-31 23:25:41</td>\n      <td>2020-12-31 23:59:59</td>\n      <td>0</td>\n      <td>852</td>\n      <td>1</td>\n      <td>881f1a164dfffff</td>\n      <td>...</td>\n      <td>4.02</td>\n      <td>72.0</td>\n      <td>1609457141</td>\n      <td>1609459199</td>\n      <td>1406</td>\n      <td>3</td>\n      <td>12</td>\n      <td>2020</td>\n      <td>0</td>\n      <td>0</td>\n    </tr>\n    <tr>\n      <th>4</th>\n      <td>75854</td>\n      <td>51.331707</td>\n      <td>12.371241</td>\n      <td>22</td>\n      <td>2020-12-31 23:37:01</td>\n      <td>2020-12-31 23:59:59</td>\n      <td>0</td>\n      <td>239</td>\n      <td>1</td>\n      <td>881f1a164bfffff</td>\n      <td>...</td>\n      <td>4.02</td>\n      <td>72.0</td>\n      <td>1609457821</td>\n      <td>1609459199</td>\n      <td>1417</td>\n      <td>3</td>\n      <td>12</td>\n      <td>2020</td>\n      <td>Blaue Zone Leipzig Ost 0€</td>\n      <td>1</td>\n    </tr>\n    <tr>\n      <th>...</th>\n      <td>...</td>\n      <td>...</td>\n      <td>...</td>\n      <td>...</td>\n      <td>...</td>\n      <td>...</td>\n      <td>...</td>\n      <td>...</td>\n      <td>...</td>\n      <td>...</td>\n      <td>...</td>\n      <td>...</td>\n      <td>...</td>\n      <td>...</td>\n      <td>...</td>\n      <td>...</td>\n      <td>...</td>\n      <td>...</td>\n      <td>...</td>\n      <td>...</td>\n      <td>...</td>\n    </tr>\n    <tr>\n      <th>749344</th>\n      <td>72058</td>\n      <td>51.317569</td>\n      <td>12.382730</td>\n      <td>112</td>\n      <td>2021-12-30 20:53:13</td>\n      <td>2021-12-30 22:46:08</td>\n      <td>0</td>\n      <td>0</td>\n      <td>0</td>\n      <td>881f1a1609fffff</td>\n      <td>...</td>\n      <td>8.94</td>\n      <td>83.0</td>\n      <td>1640897593</td>\n      <td>1640904368</td>\n      <td>1253</td>\n      <td>3</td>\n      <td>12</td>\n      <td>2021</td>\n      <td>Blaue Zone Leipzig Ost 0€</td>\n      <td>1</td>\n    </tr>\n    <tr>\n      <th>749345</th>\n      <td>71949</td>\n      <td>51.334711</td>\n      <td>12.356763</td>\n      <td>25</td>\n      <td>2021-12-30 20:57:15</td>\n      <td>2021-12-30 21:22:23</td>\n      <td>0</td>\n      <td>0</td>\n      <td>0</td>\n      <td>881f1a1649fffff</td>\n      <td>...</td>\n      <td>8.94</td>\n      <td>83.0</td>\n      <td>1640897835</td>\n      <td>1640899343</td>\n      <td>1257</td>\n      <td>3</td>\n      <td>12</td>\n      <td>2021</td>\n      <td>Pinke Zone Leipzig Ost 1€</td>\n      <td>1</td>\n    </tr>\n    <tr>\n      <th>749346</th>\n      <td>97785</td>\n      <td>51.367276</td>\n      <td>12.369792</td>\n      <td>48</td>\n      <td>2021-12-30 21:01:26</td>\n      <td>2021-12-30 21:49:45</td>\n      <td>0</td>\n      <td>0</td>\n      <td>0</td>\n      <td>881f1a8c8bfffff</td>\n      <td>...</td>\n      <td>8.05</td>\n      <td>84.0</td>\n      <td>1640898086</td>\n      <td>1640900985</td>\n      <td>1261</td>\n      <td>3</td>\n      <td>12</td>\n      <td>2021</td>\n      <td>Blaue Zone Leipzig Ost 0€</td>\n      <td>1</td>\n    </tr>\n    <tr>\n      <th>749347</th>\n      <td>41738</td>\n      <td>51.366942</td>\n      <td>12.370322</td>\n      <td>43</td>\n      <td>2021-12-30 21:48:38</td>\n      <td>2021-12-30 22:31:56</td>\n      <td>0</td>\n      <td>0</td>\n      <td>0</td>\n      <td>881f1a8c8bfffff</td>\n      <td>...</td>\n      <td>8.05</td>\n      <td>84.0</td>\n      <td>1640900918</td>\n      <td>1640903516</td>\n      <td>1309</td>\n      <td>3</td>\n      <td>12</td>\n      <td>2021</td>\n      <td>Pinke Zone Leipzig Ost 1€</td>\n      <td>1</td>\n    </tr>\n    <tr>\n      <th>749348</th>\n      <td>72028</td>\n      <td>51.332844</td>\n      <td>12.404319</td>\n      <td>32</td>\n      <td>2021-12-30 22:26:40</td>\n      <td>2021-12-30 22:59:23</td>\n      <td>0</td>\n      <td>0</td>\n      <td>0</td>\n      <td>881f1a165bfffff</td>\n      <td>...</td>\n      <td>8.05</td>\n      <td>81.0</td>\n      <td>1640903200</td>\n      <td>1640905163</td>\n      <td>1347</td>\n      <td>3</td>\n      <td>12</td>\n      <td>2021</td>\n      <td>Blaue Zone Leipzig Ost 0€</td>\n      <td>1</td>\n    </tr>\n  </tbody>\n</table>\n<p>749349 rows × 23 columns</p>\n</div>"
     },
     "execution_count": 40,
     "metadata": {},
     "output_type": "execute_result"
    }
   ],
   "source": [
    "df_points"
   ],
   "metadata": {
    "collapsed": false,
    "pycharm": {
     "name": "#%%\n"
    }
   }
  },
  {
   "cell_type": "code",
   "execution_count": 41,
   "outputs": [
    {
     "data": {
      "text/plain": "        bike_id        lat        lng    dt_start      dt_end  \\\n0         72165  51.351547  12.382658  1609456894  1609459199   \n1         75838  51.331022  12.316226  1609456924  1609459199   \n2         74466  51.355200  12.370664  1609456989  1609459199   \n3         73806  51.328693  12.346637  1609457141  1609459199   \n4         75854  51.331707  12.371241  1609457821  1609459199   \n...         ...        ...        ...         ...         ...   \n749344    72058  51.317569  12.382730  1640897593  1640904368   \n749345    71949  51.334711  12.356763  1640897835  1640899343   \n749346    97785  51.367276  12.369792  1640898086  1640900985   \n749347    41738  51.366942  12.370322  1640900918  1640903516   \n749348    72028  51.332844  12.404319  1640903200  1640905163   \n\n                 hex_id  in_zone                   zone_name  \\\n0       881f1a8cb9fffff        0                           0   \n1       881f1a8dd7fffff        1  Pinke Zone Leipzig West 1€   \n2       881f1a8c87fffff        1   Pinke Zone Leipzig Ost 1€   \n3       881f1a164dfffff        0                           0   \n4       881f1a164bfffff        1   Blaue Zone Leipzig Ost 0€   \n...                 ...      ...                         ...   \n749344  881f1a1609fffff        1   Blaue Zone Leipzig Ost 0€   \n749345  881f1a1649fffff        1   Pinke Zone Leipzig Ost 1€   \n749346  881f1a8c8bfffff        1   Blaue Zone Leipzig Ost 0€   \n749347  881f1a8c8bfffff        1   Pinke Zone Leipzig Ost 1€   \n749348  881f1a165bfffff        1   Blaue Zone Leipzig Ost 0€   \n\n        end_station_number   temp  ...  snow  wind_speed  humidity  year  \\\n0                        0   2.72  ...   0.0        4.02      72.0  2020   \n1                        0   2.72  ...   0.0        4.02      72.0  2020   \n2                        0   2.72  ...   0.0        4.02      72.0  2020   \n3                        0   2.72  ...   0.0        4.02      72.0  2020   \n4                        0   2.72  ...   0.0        4.02      72.0  2020   \n...                    ...    ...  ...   ...         ...       ...   ...   \n749344                   0  13.19  ...   0.0        8.94      83.0  2021   \n749345                   0  13.19  ...   0.0        8.94      83.0  2021   \n749346                   0  13.05  ...   0.0        8.05      84.0  2021   \n749347                   0  13.05  ...   0.0        8.05      84.0  2021   \n749348                   0  13.11  ...   0.0        8.05      81.0  2021   \n\n        month day  start_min  over_night  idle_time_next_day  idle_time  \n0          12   3       1402           1                1439         38  \n1          12   3       1402           1                1439         37  \n2          12   3       1403           1                  49         36  \n3          12   3       1406           1                 852         34  \n4          12   3       1417           1                 239         22  \n...       ...  ..        ...         ...                 ...        ...  \n749344     12   3       1253           0                   0        112  \n749345     12   3       1257           0                   0         25  \n749346     12   3       1261           0                   0         48  \n749347     12   3       1309           0                   0         43  \n749348     12   3       1347           0                   0         32  \n\n[749349 rows x 21 columns]",
      "text/html": "<div>\n<style scoped>\n    .dataframe tbody tr th:only-of-type {\n        vertical-align: middle;\n    }\n\n    .dataframe tbody tr th {\n        vertical-align: top;\n    }\n\n    .dataframe thead th {\n        text-align: right;\n    }\n</style>\n<table border=\"1\" class=\"dataframe\">\n  <thead>\n    <tr style=\"text-align: right;\">\n      <th></th>\n      <th>bike_id</th>\n      <th>lat</th>\n      <th>lng</th>\n      <th>dt_start</th>\n      <th>dt_end</th>\n      <th>hex_id</th>\n      <th>in_zone</th>\n      <th>zone_name</th>\n      <th>end_station_number</th>\n      <th>temp</th>\n      <th>...</th>\n      <th>snow</th>\n      <th>wind_speed</th>\n      <th>humidity</th>\n      <th>year</th>\n      <th>month</th>\n      <th>day</th>\n      <th>start_min</th>\n      <th>over_night</th>\n      <th>idle_time_next_day</th>\n      <th>idle_time</th>\n    </tr>\n  </thead>\n  <tbody>\n    <tr>\n      <th>0</th>\n      <td>72165</td>\n      <td>51.351547</td>\n      <td>12.382658</td>\n      <td>1609456894</td>\n      <td>1609459199</td>\n      <td>881f1a8cb9fffff</td>\n      <td>0</td>\n      <td>0</td>\n      <td>0</td>\n      <td>2.72</td>\n      <td>...</td>\n      <td>0.0</td>\n      <td>4.02</td>\n      <td>72.0</td>\n      <td>2020</td>\n      <td>12</td>\n      <td>3</td>\n      <td>1402</td>\n      <td>1</td>\n      <td>1439</td>\n      <td>38</td>\n    </tr>\n    <tr>\n      <th>1</th>\n      <td>75838</td>\n      <td>51.331022</td>\n      <td>12.316226</td>\n      <td>1609456924</td>\n      <td>1609459199</td>\n      <td>881f1a8dd7fffff</td>\n      <td>1</td>\n      <td>Pinke Zone Leipzig West 1€</td>\n      <td>0</td>\n      <td>2.72</td>\n      <td>...</td>\n      <td>0.0</td>\n      <td>4.02</td>\n      <td>72.0</td>\n      <td>2020</td>\n      <td>12</td>\n      <td>3</td>\n      <td>1402</td>\n      <td>1</td>\n      <td>1439</td>\n      <td>37</td>\n    </tr>\n    <tr>\n      <th>2</th>\n      <td>74466</td>\n      <td>51.355200</td>\n      <td>12.370664</td>\n      <td>1609456989</td>\n      <td>1609459199</td>\n      <td>881f1a8c87fffff</td>\n      <td>1</td>\n      <td>Pinke Zone Leipzig Ost 1€</td>\n      <td>0</td>\n      <td>2.72</td>\n      <td>...</td>\n      <td>0.0</td>\n      <td>4.02</td>\n      <td>72.0</td>\n      <td>2020</td>\n      <td>12</td>\n      <td>3</td>\n      <td>1403</td>\n      <td>1</td>\n      <td>49</td>\n      <td>36</td>\n    </tr>\n    <tr>\n      <th>3</th>\n      <td>73806</td>\n      <td>51.328693</td>\n      <td>12.346637</td>\n      <td>1609457141</td>\n      <td>1609459199</td>\n      <td>881f1a164dfffff</td>\n      <td>0</td>\n      <td>0</td>\n      <td>0</td>\n      <td>2.72</td>\n      <td>...</td>\n      <td>0.0</td>\n      <td>4.02</td>\n      <td>72.0</td>\n      <td>2020</td>\n      <td>12</td>\n      <td>3</td>\n      <td>1406</td>\n      <td>1</td>\n      <td>852</td>\n      <td>34</td>\n    </tr>\n    <tr>\n      <th>4</th>\n      <td>75854</td>\n      <td>51.331707</td>\n      <td>12.371241</td>\n      <td>1609457821</td>\n      <td>1609459199</td>\n      <td>881f1a164bfffff</td>\n      <td>1</td>\n      <td>Blaue Zone Leipzig Ost 0€</td>\n      <td>0</td>\n      <td>2.72</td>\n      <td>...</td>\n      <td>0.0</td>\n      <td>4.02</td>\n      <td>72.0</td>\n      <td>2020</td>\n      <td>12</td>\n      <td>3</td>\n      <td>1417</td>\n      <td>1</td>\n      <td>239</td>\n      <td>22</td>\n    </tr>\n    <tr>\n      <th>...</th>\n      <td>...</td>\n      <td>...</td>\n      <td>...</td>\n      <td>...</td>\n      <td>...</td>\n      <td>...</td>\n      <td>...</td>\n      <td>...</td>\n      <td>...</td>\n      <td>...</td>\n      <td>...</td>\n      <td>...</td>\n      <td>...</td>\n      <td>...</td>\n      <td>...</td>\n      <td>...</td>\n      <td>...</td>\n      <td>...</td>\n      <td>...</td>\n      <td>...</td>\n      <td>...</td>\n    </tr>\n    <tr>\n      <th>749344</th>\n      <td>72058</td>\n      <td>51.317569</td>\n      <td>12.382730</td>\n      <td>1640897593</td>\n      <td>1640904368</td>\n      <td>881f1a1609fffff</td>\n      <td>1</td>\n      <td>Blaue Zone Leipzig Ost 0€</td>\n      <td>0</td>\n      <td>13.19</td>\n      <td>...</td>\n      <td>0.0</td>\n      <td>8.94</td>\n      <td>83.0</td>\n      <td>2021</td>\n      <td>12</td>\n      <td>3</td>\n      <td>1253</td>\n      <td>0</td>\n      <td>0</td>\n      <td>112</td>\n    </tr>\n    <tr>\n      <th>749345</th>\n      <td>71949</td>\n      <td>51.334711</td>\n      <td>12.356763</td>\n      <td>1640897835</td>\n      <td>1640899343</td>\n      <td>881f1a1649fffff</td>\n      <td>1</td>\n      <td>Pinke Zone Leipzig Ost 1€</td>\n      <td>0</td>\n      <td>13.19</td>\n      <td>...</td>\n      <td>0.0</td>\n      <td>8.94</td>\n      <td>83.0</td>\n      <td>2021</td>\n      <td>12</td>\n      <td>3</td>\n      <td>1257</td>\n      <td>0</td>\n      <td>0</td>\n      <td>25</td>\n    </tr>\n    <tr>\n      <th>749346</th>\n      <td>97785</td>\n      <td>51.367276</td>\n      <td>12.369792</td>\n      <td>1640898086</td>\n      <td>1640900985</td>\n      <td>881f1a8c8bfffff</td>\n      <td>1</td>\n      <td>Blaue Zone Leipzig Ost 0€</td>\n      <td>0</td>\n      <td>13.05</td>\n      <td>...</td>\n      <td>0.0</td>\n      <td>8.05</td>\n      <td>84.0</td>\n      <td>2021</td>\n      <td>12</td>\n      <td>3</td>\n      <td>1261</td>\n      <td>0</td>\n      <td>0</td>\n      <td>48</td>\n    </tr>\n    <tr>\n      <th>749347</th>\n      <td>41738</td>\n      <td>51.366942</td>\n      <td>12.370322</td>\n      <td>1640900918</td>\n      <td>1640903516</td>\n      <td>881f1a8c8bfffff</td>\n      <td>1</td>\n      <td>Pinke Zone Leipzig Ost 1€</td>\n      <td>0</td>\n      <td>13.05</td>\n      <td>...</td>\n      <td>0.0</td>\n      <td>8.05</td>\n      <td>84.0</td>\n      <td>2021</td>\n      <td>12</td>\n      <td>3</td>\n      <td>1309</td>\n      <td>0</td>\n      <td>0</td>\n      <td>43</td>\n    </tr>\n    <tr>\n      <th>749348</th>\n      <td>72028</td>\n      <td>51.332844</td>\n      <td>12.404319</td>\n      <td>1640903200</td>\n      <td>1640905163</td>\n      <td>881f1a165bfffff</td>\n      <td>1</td>\n      <td>Blaue Zone Leipzig Ost 0€</td>\n      <td>0</td>\n      <td>13.11</td>\n      <td>...</td>\n      <td>0.0</td>\n      <td>8.05</td>\n      <td>81.0</td>\n      <td>2021</td>\n      <td>12</td>\n      <td>3</td>\n      <td>1347</td>\n      <td>0</td>\n      <td>0</td>\n      <td>32</td>\n    </tr>\n  </tbody>\n</table>\n<p>749349 rows × 21 columns</p>\n</div>"
     },
     "execution_count": 41,
     "metadata": {},
     "output_type": "execute_result"
    }
   ],
   "source": [
    "df_points = df_points.reindex(columns=['bike_id', 'lat', 'lng', 'dt_start', 'dt_end', 'hex_id', 'in_zone', 'zone_name','end_station_number','temp', 'rain', 'snow', 'wind_speed', 'humidity', 'year','month', 'day', 'start_min', 'over_night', 'idle_time_next_day', 'idle_time'])\n",
    "\n",
    "df_points = df_points.sort_values(by=['dt_start'])\n",
    "df_points"
   ],
   "metadata": {
    "collapsed": false,
    "pycharm": {
     "name": "#%%\n"
    }
   }
  },
  {
   "cell_type": "markdown",
   "source": [
    "# SAVE"
   ],
   "metadata": {
    "collapsed": false
   }
  },
  {
   "cell_type": "code",
   "execution_count": 42,
   "outputs": [
    {
     "name": "stdout",
     "output_type": "stream",
     "text": [
      "21113.20941901207\n",
      "05:51:53\n"
     ]
    }
   ],
   "source": [
    "dur = time.time() - ts1\n",
    "print(dur)\n",
    "ty_res = time.gmtime(dur)\n",
    "res = time.strftime(\"%H:%M:%S\",ty_res)\n",
    "print(res)"
   ],
   "metadata": {
    "collapsed": false,
    "pycharm": {
     "name": "#%%\n"
    }
   }
  },
  {
   "cell_type": "code",
   "execution_count": 43,
   "outputs": [],
   "source": [
    "df_points.to_csv('../data/df_points/df_points_2021.csv', index=False)"
   ],
   "metadata": {
    "collapsed": false,
    "pycharm": {
     "name": "#%%\n"
    }
   }
  },
  {
   "cell_type": "code",
   "execution_count": null,
   "outputs": [],
   "source": [],
   "metadata": {
    "collapsed": false,
    "pycharm": {
     "name": "#%%\n"
    }
   }
  }
 ],
 "metadata": {
  "kernelspec": {
   "display_name": "Python 3 (ipykernel)",
   "language": "python",
   "name": "python3"
  },
  "language_info": {
   "codemirror_mode": {
    "name": "ipython",
    "version": 3
   },
   "file_extension": ".py",
   "mimetype": "text/x-python",
   "name": "python",
   "nbconvert_exporter": "python",
   "pygments_lexer": "ipython3",
   "version": "3.9.7"
  }
 },
 "nbformat": 4,
 "nbformat_minor": 5
}