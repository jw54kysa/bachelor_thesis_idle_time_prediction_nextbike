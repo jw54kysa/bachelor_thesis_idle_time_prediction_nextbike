{
 "cells": [
  {
   "cell_type": "markdown",
   "id": "b3ed9e1a",
   "metadata": {},
   "source": [
    "# df_points with UNIX Timestamp #\n",
    "## Creates df_points.csv with all points and idletimes #\n",
    "## Checks the valid geo location\n",
    "## deletes the invalid points: \n",
    "\n",
    "2018 - invalides:   41743 from 139171 that is 29.994036113845556 %\n",
    "\n",
    "2019 - invalides:   52523 from 550887 that is 9.534260202183024 % - 05:40:19\n",
    "\n",
    "2020 - invalides:   24163 from 539064 that is 4.482399121440126 % - 05:40:06\n",
    "                    18086 from 662386 that is 2.7304321045432722 %\n",
    "\n",
    "2021 - invalides:   21382 from 552253 that is 3.8717761605640897 % - 05:51:53\n",
    "\n",
    "### ca 1h for 1 year"
   ]
  },
  {
   "cell_type": "code",
   "execution_count": 1,
   "id": "a791a421",
   "metadata": {},
   "outputs": [],
   "source": [
    "def import_data(source):\n",
    "    return pd.read_csv(source)"
   ]
  },
  {
   "cell_type": "code",
   "execution_count": 2,
   "id": "82359632",
   "metadata": {},
   "outputs": [],
   "source": [
    "def dic_out_of_df(df01):\n",
    "    import pandas as pd\n",
    "    from tqdm import tqdm\n",
    "    # Dict out of DataFrames of Trips per Bike\n",
    "\n",
    "    # init DFs for every bike\n",
    "    myDFs = {}\n",
    "\n",
    "    for ind in tqdm(df01.index):\n",
    "        if df01['bike_id'][ind] not in myDFs:\n",
    "            myDFs[df01['bike_id'][ind]] = pd.DataFrame(\n",
    "                columns=['bike_id',\n",
    "                         'start_time',\n",
    "                         'end_time',\n",
    "                         'start_lat',\n",
    "                         'start_lng',\n",
    "                         'end_lat',\n",
    "                         'end_lng',\n",
    "                         'end_station_number'])\n",
    "    return myDFs"
   ]
  },
  {
   "cell_type": "code",
   "execution_count": 3,
   "id": "941271a6",
   "metadata": {},
   "outputs": [],
   "source": [
    "def add_rentals_to_df(df01,myDFs):\n",
    "    from tqdm import tqdm\n",
    "    # Add all rentals to their bike_id DF\n",
    "    for ind in tqdm(df01.index):\n",
    "        if df01['bike_id'][ind] in myDFs:\n",
    "            myDFs[df01['bike_id'][ind]].loc[df01.index[ind]] = df01.iloc[ind]\n",
    "    return myDFs"
   ]
  },
  {
   "cell_type": "code",
   "execution_count": 4,
   "id": "3502fb99",
   "metadata": {},
   "outputs": [],
   "source": [
    "def sort_dfs(myDFs):\n",
    "    # sort every DF\n",
    "    for df in myDFs.values():\n",
    "        df[['bike_id', 'start_time','end_time']] = df[['bike_id', 'start_time','end_time']].astype(int)\n",
    "        df[['start_lat','start_lng', 'end_lat', 'end_lng']] = df[['start_lat','start_lng', 'end_lat', 'end_lng']].astype(float)\n",
    "        df.sort_values(by=['start_time'], inplace=True)\n",
    "        df.reset_index(drop=True, inplace=True)\n",
    "    return myDFs"
   ]
  },
  {
   "cell_type": "code",
   "execution_count": 5,
   "outputs": [],
   "source": [
    "# returns distance in meter\n",
    "# source: https://www.it-swarm.com.de/de/python/wie-kann-ich-die-entfernung-zwischen-zwei-punkten-breitengrad-laengengrad-schnell-schaetzen/1072488907/\n",
    "def get_distance(Lat1, Long1, Lat2, Long2):\n",
    "    x = Lat2 - Lat1\n",
    "    y = (Long2 - Long1)*cos((Lat2 + Lat1)*0.00872664626)\n",
    "    return 111.138*sqrt(x*x+y*y)*1000"
   ],
   "metadata": {
    "collapsed": false,
    "pycharm": {
     "name": "#%%\n"
    }
   }
  },
  {
   "cell_type": "code",
   "execution_count": 6,
   "id": "2b82d201",
   "metadata": {},
   "outputs": [],
   "source": [
    "def create_df_points(myDFs,radius):\n",
    "    # DF of all points with stoodtime\n",
    "    in_val = 0\n",
    "    val = 0 \n",
    "    \n",
    "    df_points = pd.DataFrame(columns=['bike_id', 'lat', 'lng', 'idle_time', 'time_start', 'time_end', 'end_station_number'])\n",
    "    #df_points[['bike_id', 'idle_time', 'time_start', 'time_end']] = df_points[['bike_id', 'idle_time', 'time_start', 'time_end']].astype(int)\n",
    "    #df_points[['lng', 'lat']] = df_points[['lng', 'lat']].astype(float)\n",
    "    \n",
    "    for df in tqdm(myDFs.values()):\n",
    "        for ind in df.index[1:]:\n",
    "            #in SECOUNDS\n",
    "            _idle_time = (df['start_time'][ind] - df['end_time'][ind - 1]).astype(int)\n",
    "            distance = get_distance(df['end_lat'][ind - 1], df['end_lng'][ind - 1], df['start_lat'][ind], df['start_lng'][ind])\n",
    "            if distance > radius:\n",
    "                in_val +=1\n",
    "                continue\n",
    "            val +=1\n",
    "            dict = {'bike_id': df['bike_id'][ind], 'lng': df['start_lng'][ind], 'lat': df['start_lat'][ind],\n",
    "                    'idle_time': _idle_time, 'time_start': df['end_time'][ind - 1], 'time_end': df['start_time'][ind], 'end_station_number': df['end_station_number'][ind-1]}\n",
    "            df_points = df_points.append(dict, ignore_index=True)\n",
    "    print(f\"invalides: {in_val} from {val} that is {in_val/val * 100} %\")\n",
    "    return df_points"
   ]
  },
  {
   "cell_type": "code",
   "execution_count": 7,
   "id": "edc119ca",
   "metadata": {},
   "outputs": [],
   "source": [
    "def keplerMap(df_points):\n",
    "    heatmap = KeplerGl()\n",
    "    heatmap.add_data(data=df_points, name='points')\n",
    "    heatmap.save_to_html(file_name='heatmap_test.html')"
   ]
  },
  {
   "cell_type": "markdown",
   "id": "2b4cd011",
   "metadata": {},
   "source": [
    "# Main \n",
    "## Create map"
   ]
  },
  {
   "cell_type": "code",
   "execution_count": 8,
   "outputs": [
    {
     "data": {
      "text/plain": "        bike_id  start_time    end_time  start_lat  start_lng    end_lat  \\\n681701    72175  1602481901  1602482574  51.322419  12.335329  51.339422   \n681702    93568  1577978192  1577978750  51.333676  12.373900  51.342431   \n681703    72079  1589732284  1589735621  51.338262  12.388078  51.358609   \n681704    71968  1598182493  1598182867  51.339439  12.395017  51.345320   \n681705    93446  1598542177  1598543426   0.000000   0.000000  51.330160   \n\n          end_lng  end_station_number  \n681701  12.354404                 NaN  \n681702  12.360998                 NaN  \n681703  12.359677                 NaN  \n681704  12.406171                 NaN  \n681705  12.405212                 NaN  ",
      "text/html": "<div>\n<style scoped>\n    .dataframe tbody tr th:only-of-type {\n        vertical-align: middle;\n    }\n\n    .dataframe tbody tr th {\n        vertical-align: top;\n    }\n\n    .dataframe thead th {\n        text-align: right;\n    }\n</style>\n<table border=\"1\" class=\"dataframe\">\n  <thead>\n    <tr style=\"text-align: right;\">\n      <th></th>\n      <th>bike_id</th>\n      <th>start_time</th>\n      <th>end_time</th>\n      <th>start_lat</th>\n      <th>start_lng</th>\n      <th>end_lat</th>\n      <th>end_lng</th>\n      <th>end_station_number</th>\n    </tr>\n  </thead>\n  <tbody>\n    <tr>\n      <th>681701</th>\n      <td>72175</td>\n      <td>1602481901</td>\n      <td>1602482574</td>\n      <td>51.322419</td>\n      <td>12.335329</td>\n      <td>51.339422</td>\n      <td>12.354404</td>\n      <td>NaN</td>\n    </tr>\n    <tr>\n      <th>681702</th>\n      <td>93568</td>\n      <td>1577978192</td>\n      <td>1577978750</td>\n      <td>51.333676</td>\n      <td>12.373900</td>\n      <td>51.342431</td>\n      <td>12.360998</td>\n      <td>NaN</td>\n    </tr>\n    <tr>\n      <th>681703</th>\n      <td>72079</td>\n      <td>1589732284</td>\n      <td>1589735621</td>\n      <td>51.338262</td>\n      <td>12.388078</td>\n      <td>51.358609</td>\n      <td>12.359677</td>\n      <td>NaN</td>\n    </tr>\n    <tr>\n      <th>681704</th>\n      <td>71968</td>\n      <td>1598182493</td>\n      <td>1598182867</td>\n      <td>51.339439</td>\n      <td>12.395017</td>\n      <td>51.345320</td>\n      <td>12.406171</td>\n      <td>NaN</td>\n    </tr>\n    <tr>\n      <th>681705</th>\n      <td>93446</td>\n      <td>1598542177</td>\n      <td>1598543426</td>\n      <td>0.000000</td>\n      <td>0.000000</td>\n      <td>51.330160</td>\n      <td>12.405212</td>\n      <td>NaN</td>\n    </tr>\n  </tbody>\n</table>\n</div>"
     },
     "execution_count": 8,
     "metadata": {},
     "output_type": "execute_result"
    }
   ],
   "source": [
    "from keplergl import KeplerGl\n",
    "import pandas as pd\n",
    "pd.options.mode.chained_assignment = None\n",
    "import time\n",
    "\n",
    "ts1 = time.time()\n",
    "\n",
    "source = '../data/raw_lendings/raw_lendings_2020.csv'\n",
    "\n",
    "df = import_data(source)\n",
    "df.tail()"
   ],
   "metadata": {
    "collapsed": false,
    "pycharm": {
     "name": "#%%\n"
    }
   }
  },
  {
   "cell_type": "code",
   "execution_count": 9,
   "id": "2e341a0e",
   "metadata": {},
   "outputs": [
    {
     "name": "stderr",
     "output_type": "stream",
     "text": [
      "100%|██████████| 681706/681706 [00:04<00:00, 148429.44it/s]\n",
      "100%|██████████| 681706/681706 [15:15<00:00, 744.59it/s]\n"
     ]
    }
   ],
   "source": [
    "myDfs = dic_out_of_df(df)\n",
    "myDfs = add_rentals_to_df(df, myDfs)\n",
    "myDfs = sort_dfs(myDfs)\n"
   ]
  },
  {
   "cell_type": "markdown",
   "id": "16b3a096",
   "metadata": {},
   "source": [
    "# Create DF_points\n",
    "## without invalid points"
   ]
  },
  {
   "cell_type": "code",
   "execution_count": 10,
   "id": "9fae31aa",
   "metadata": {},
   "outputs": [
    {
     "name": "stderr",
     "output_type": "stream",
     "text": [
      "100%|██████████| 1234/1234 [1:10:27<00:00,  3.43s/it]"
     ]
    },
    {
     "name": "stdout",
     "output_type": "stream",
     "text": [
      "invalides: 18086 from 662386 that is 2.7304321045432722 %\n"
     ]
    },
    {
     "name": "stderr",
     "output_type": "stream",
     "text": [
      "\n"
     ]
    }
   ],
   "source": [
    "from math import cos, sqrt\n",
    "from tqdm import tqdm\n",
    "\n",
    "radius = 20\n",
    "df_points = create_df_points(myDfs,radius)"
   ]
  },
  {
   "cell_type": "code",
   "execution_count": 11,
   "outputs": [
    {
     "data": {
      "text/plain": "        bike_id        lat        lng  idle_time    time_start      time_end  \\\n662381  89122.0  51.305600  12.369659     2460.0  1.608044e+09  1.608047e+09   \n662382  89122.0  51.306316  12.382508   179252.0  1.608047e+09  1.608226e+09   \n662383  89122.0  51.306662  12.380719    50284.0  1.608229e+09  1.608279e+09   \n662384  89122.0  51.306698  12.380143     1760.0  1.608280e+09  1.608281e+09   \n662385  89122.0  51.350196  12.308767   460964.0  1.608890e+09  1.609351e+09   \n\n        end_station_number  \n662381                 NaN  \n662382                 NaN  \n662383                 NaN  \n662384                 NaN  \n662385                 NaN  ",
      "text/html": "<div>\n<style scoped>\n    .dataframe tbody tr th:only-of-type {\n        vertical-align: middle;\n    }\n\n    .dataframe tbody tr th {\n        vertical-align: top;\n    }\n\n    .dataframe thead th {\n        text-align: right;\n    }\n</style>\n<table border=\"1\" class=\"dataframe\">\n  <thead>\n    <tr style=\"text-align: right;\">\n      <th></th>\n      <th>bike_id</th>\n      <th>lat</th>\n      <th>lng</th>\n      <th>idle_time</th>\n      <th>time_start</th>\n      <th>time_end</th>\n      <th>end_station_number</th>\n    </tr>\n  </thead>\n  <tbody>\n    <tr>\n      <th>662381</th>\n      <td>89122.0</td>\n      <td>51.305600</td>\n      <td>12.369659</td>\n      <td>2460.0</td>\n      <td>1.608044e+09</td>\n      <td>1.608047e+09</td>\n      <td>NaN</td>\n    </tr>\n    <tr>\n      <th>662382</th>\n      <td>89122.0</td>\n      <td>51.306316</td>\n      <td>12.382508</td>\n      <td>179252.0</td>\n      <td>1.608047e+09</td>\n      <td>1.608226e+09</td>\n      <td>NaN</td>\n    </tr>\n    <tr>\n      <th>662383</th>\n      <td>89122.0</td>\n      <td>51.306662</td>\n      <td>12.380719</td>\n      <td>50284.0</td>\n      <td>1.608229e+09</td>\n      <td>1.608279e+09</td>\n      <td>NaN</td>\n    </tr>\n    <tr>\n      <th>662384</th>\n      <td>89122.0</td>\n      <td>51.306698</td>\n      <td>12.380143</td>\n      <td>1760.0</td>\n      <td>1.608280e+09</td>\n      <td>1.608281e+09</td>\n      <td>NaN</td>\n    </tr>\n    <tr>\n      <th>662385</th>\n      <td>89122.0</td>\n      <td>51.350196</td>\n      <td>12.308767</td>\n      <td>460964.0</td>\n      <td>1.608890e+09</td>\n      <td>1.609351e+09</td>\n      <td>NaN</td>\n    </tr>\n  </tbody>\n</table>\n</div>"
     },
     "execution_count": 11,
     "metadata": {},
     "output_type": "execute_result"
    }
   ],
   "source": [
    "df_points.tail()"
   ],
   "metadata": {
    "collapsed": false,
    "pycharm": {
     "name": "#%%\n"
    }
   }
  },
  {
   "cell_type": "markdown",
   "id": "50748b61",
   "metadata": {},
   "source": [
    "# Split Points at midnight\n",
    "\n",
    "## save feature idle_time_next_day"
   ]
  },
  {
   "cell_type": "code",
   "execution_count": 12,
   "id": "0a6fc960",
   "metadata": {},
   "outputs": [],
   "source": [
    "df_points['idle_time'] = pd.to_timedelta(df_points['idle_time'],unit='s')\n",
    "df_points['time_start'] = pd.to_datetime(df_points['time_start'],unit='s')\n",
    "df_points['time_end'] = pd.to_datetime(df_points['time_end'],unit='s')"
   ]
  },
  {
   "cell_type": "code",
   "execution_count": 13,
   "id": "8395e5e9",
   "metadata": {},
   "outputs": [
    {
     "name": "stderr",
     "output_type": "stream",
     "text": [
      "100%|██████████| 662386/662386 [2:10:26<00:00, 84.63it/s]  \n",
      "100%|██████████| 828428/828428 [26:19<00:00, 524.46it/s]  \n",
      "100%|██████████| 855065/855065 [11:35<00:00, 1228.63it/s] \n",
      "100%|██████████| 866173/866173 [06:24<00:00, 2252.76it/s] \n",
      "100%|██████████| 872094/872094 [03:59<00:00, 3638.29it/s] \n",
      "100%|██████████| 875620/875620 [02:39<00:00, 5501.26it/s] \n",
      "100%|██████████| 877800/877800 [01:55<00:00, 7603.10it/s] \n",
      "100%|██████████| 879209/879209 [01:30<00:00, 9725.63it/s] \n",
      "100%|██████████| 880163/880163 [01:12<00:00, 12182.65it/s]\n",
      "100%|██████████| 880834/880834 [01:01<00:00, 14391.79it/s]\n",
      "100%|██████████| 881304/881304 [00:54<00:00, 16171.56it/s]\n",
      "100%|██████████| 881662/881662 [00:48<00:00, 18024.08it/s]\n",
      "100%|██████████| 881926/881926 [00:45<00:00, 19434.06it/s]\n",
      "100%|██████████| 882127/882127 [00:49<00:00, 17878.61it/s]\n",
      "100%|██████████| 882278/882278 [00:41<00:00, 21478.95it/s]\n",
      "100%|██████████| 882399/882399 [00:39<00:00, 22349.79it/s]\n",
      "100%|██████████| 882498/882498 [00:38<00:00, 23049.07it/s]\n",
      "100%|██████████| 882575/882575 [00:37<00:00, 23589.17it/s]\n",
      "100%|██████████| 882638/882638 [00:36<00:00, 24210.01it/s]\n",
      "100%|██████████| 882684/882684 [00:36<00:00, 24403.37it/s]\n",
      "100%|██████████| 882723/882723 [00:35<00:00, 24779.69it/s]\n",
      "100%|██████████| 882754/882754 [00:35<00:00, 25094.70it/s]\n",
      "100%|██████████| 882779/882779 [00:36<00:00, 24365.77it/s]\n",
      "100%|██████████| 882802/882802 [00:37<00:00, 23620.45it/s]\n",
      "100%|██████████| 882822/882822 [00:37<00:00, 23728.69it/s]\n",
      "100%|██████████| 882838/882838 [00:37<00:00, 23470.33it/s]\n",
      "100%|██████████| 882853/882853 [00:37<00:00, 23708.20it/s]\n",
      "100%|██████████| 882867/882867 [00:37<00:00, 23856.60it/s]\n",
      "100%|██████████| 882881/882881 [00:37<00:00, 23826.40it/s]\n",
      "100%|██████████| 882895/882895 [00:36<00:00, 23869.19it/s]\n",
      "100%|██████████| 882907/882907 [00:37<00:00, 23656.41it/s]\n",
      "100%|██████████| 882919/882919 [00:37<00:00, 23748.35it/s]\n",
      "100%|██████████| 882929/882929 [00:36<00:00, 23984.61it/s]\n",
      "100%|██████████| 882939/882939 [00:37<00:00, 23856.10it/s]\n",
      "100%|██████████| 882949/882949 [00:36<00:00, 23904.12it/s]\n",
      "100%|██████████| 882959/882959 [00:36<00:00, 23883.45it/s]\n",
      "100%|██████████| 882968/882968 [00:36<00:00, 23916.92it/s]\n",
      "100%|██████████| 882977/882977 [00:37<00:00, 23583.47it/s]\n",
      "100%|██████████| 882986/882986 [00:36<00:00, 23928.54it/s]\n",
      "100%|██████████| 882995/882995 [00:36<00:00, 24029.50it/s]\n",
      "100%|██████████| 883003/883003 [00:36<00:00, 24049.63it/s]\n",
      "100%|██████████| 883010/883010 [00:36<00:00, 23930.89it/s]\n",
      "100%|██████████| 883017/883017 [00:37<00:00, 23741.96it/s]\n",
      "100%|██████████| 883024/883024 [00:36<00:00, 23936.28it/s]\n",
      "100%|██████████| 883031/883031 [00:36<00:00, 24036.93it/s]\n",
      "100%|██████████| 883038/883038 [00:36<00:00, 23932.99it/s]\n",
      "100%|██████████| 883045/883045 [00:36<00:00, 23868.84it/s]\n",
      "100%|██████████| 883052/883052 [00:36<00:00, 23993.28it/s]\n",
      "100%|██████████| 883059/883059 [00:36<00:00, 24009.40it/s]\n",
      "100%|██████████| 883066/883066 [00:37<00:00, 23579.85it/s]\n",
      "100%|██████████| 883072/883072 [00:37<00:00, 23733.98it/s]\n",
      "100%|██████████| 883077/883077 [00:36<00:00, 23941.43it/s]\n",
      "100%|██████████| 883082/883082 [00:36<00:00, 23981.80it/s]\n",
      "100%|██████████| 883087/883087 [00:36<00:00, 23993.08it/s]\n",
      "100%|██████████| 883092/883092 [00:37<00:00, 23812.21it/s]\n",
      "100%|██████████| 883096/883096 [00:36<00:00, 24045.66it/s]\n",
      "100%|██████████| 883100/883100 [00:36<00:00, 23937.00it/s]\n",
      "100%|██████████| 883104/883104 [00:36<00:00, 24029.96it/s]\n",
      "100%|██████████| 883108/883108 [00:36<00:00, 24075.37it/s]\n",
      "100%|██████████| 883112/883112 [00:36<00:00, 24005.47it/s]\n",
      "100%|██████████| 883116/883116 [00:37<00:00, 23803.44it/s]\n",
      "100%|██████████| 883120/883120 [00:36<00:00, 24075.97it/s]\n",
      "100%|██████████| 883123/883123 [00:37<00:00, 23823.15it/s]\n",
      "100%|██████████| 883126/883126 [00:36<00:00, 24118.07it/s]\n",
      "100%|██████████| 883129/883129 [00:36<00:00, 24076.59it/s]\n",
      "100%|██████████| 883132/883132 [00:38<00:00, 23140.62it/s]\n",
      "100%|██████████| 883135/883135 [00:37<00:00, 23699.05it/s]\n",
      "100%|██████████| 883138/883138 [00:36<00:00, 23952.11it/s]\n",
      "100%|██████████| 883141/883141 [00:36<00:00, 24029.77it/s]\n",
      "100%|██████████| 883144/883144 [00:36<00:00, 24035.26it/s]\n",
      "100%|██████████| 883147/883147 [00:36<00:00, 23933.88it/s]\n",
      "100%|██████████| 883150/883150 [00:37<00:00, 23861.10it/s]\n",
      "100%|██████████| 883153/883153 [00:36<00:00, 23894.89it/s]\n",
      "100%|██████████| 883156/883156 [00:36<00:00, 23909.41it/s]\n",
      "100%|██████████| 883159/883159 [00:36<00:00, 24006.37it/s]\n",
      "100%|██████████| 883162/883162 [00:36<00:00, 24004.84it/s]\n",
      "100%|██████████| 883165/883165 [00:36<00:00, 24083.91it/s]\n",
      "100%|██████████| 883168/883168 [00:36<00:00, 24011.36it/s]\n",
      "100%|██████████| 883171/883171 [00:37<00:00, 23831.66it/s]\n",
      "100%|██████████| 883174/883174 [00:36<00:00, 23903.57it/s]\n",
      "100%|██████████| 883177/883177 [00:36<00:00, 23972.61it/s]\n",
      "100%|██████████| 883180/883180 [00:36<00:00, 24118.83it/s]\n",
      "100%|██████████| 883183/883183 [00:36<00:00, 24040.32it/s]\n",
      "100%|██████████| 883186/883186 [00:37<00:00, 23847.87it/s]\n",
      "100%|██████████| 883189/883189 [00:37<00:00, 23771.95it/s]\n",
      "100%|██████████| 883192/883192 [00:36<00:00, 23899.44it/s]\n",
      "100%|██████████| 883195/883195 [00:36<00:00, 24049.03it/s]\n",
      "100%|██████████| 883198/883198 [00:36<00:00, 23937.31it/s]\n",
      "100%|██████████| 883201/883201 [00:36<00:00, 23896.54it/s]\n",
      "100%|██████████| 883204/883204 [00:36<00:00, 24031.04it/s]\n",
      "100%|██████████| 883207/883207 [00:37<00:00, 23789.19it/s]\n",
      "100%|██████████| 883210/883210 [00:36<00:00, 24033.13it/s]\n",
      "100%|██████████| 883213/883213 [00:36<00:00, 24041.21it/s]\n",
      "100%|██████████| 883216/883216 [00:36<00:00, 23924.92it/s]\n",
      "100%|██████████| 883219/883219 [00:36<00:00, 24020.52it/s]\n",
      "100%|██████████| 883222/883222 [00:37<00:00, 23854.66it/s]\n",
      "100%|██████████| 883225/883225 [00:37<00:00, 23647.08it/s]\n",
      "100%|██████████| 883228/883228 [00:36<00:00, 23980.70it/s]\n",
      "100%|██████████| 883231/883231 [00:36<00:00, 23922.64it/s]\n",
      "100%|██████████| 883234/883234 [00:36<00:00, 24002.64it/s]\n",
      "100%|██████████| 883237/883237 [00:36<00:00, 23905.57it/s]\n",
      "100%|██████████| 883240/883240 [00:37<00:00, 23703.45it/s]\n",
      "100%|██████████| 883243/883243 [00:37<00:00, 23627.14it/s]\n",
      "100%|██████████| 883245/883245 [00:36<00:00, 23943.96it/s]\n",
      "100%|██████████| 883247/883247 [00:36<00:00, 23957.42it/s]\n",
      "100%|██████████| 883249/883249 [00:36<00:00, 23943.05it/s]\n",
      "100%|██████████| 883251/883251 [00:39<00:00, 22431.00it/s]\n",
      "100%|██████████| 883253/883253 [00:40<00:00, 21819.63it/s]\n",
      "100%|██████████| 883255/883255 [00:40<00:00, 21865.10it/s]\n",
      "100%|██████████| 883257/883257 [00:41<00:00, 21303.54it/s]\n",
      "100%|██████████| 883259/883259 [00:40<00:00, 21797.55it/s]\n",
      "100%|██████████| 883261/883261 [00:41<00:00, 21474.35it/s]\n",
      "100%|██████████| 883263/883263 [00:40<00:00, 21832.00it/s]\n",
      "100%|██████████| 883265/883265 [00:40<00:00, 21562.17it/s]\n",
      "100%|██████████| 883267/883267 [00:40<00:00, 21890.41it/s]\n",
      "100%|██████████| 883269/883269 [00:40<00:00, 21807.23it/s]\n",
      "100%|██████████| 883271/883271 [00:40<00:00, 21589.12it/s]\n",
      "100%|██████████| 883273/883273 [00:40<00:00, 21965.03it/s]\n",
      "100%|██████████| 883275/883275 [00:41<00:00, 21430.30it/s]\n",
      "100%|██████████| 883277/883277 [00:40<00:00, 21830.86it/s]\n",
      "100%|██████████| 883279/883279 [00:40<00:00, 21545.41it/s]\n",
      "100%|██████████| 883281/883281 [00:40<00:00, 21658.51it/s]\n",
      "100%|██████████| 883283/883283 [00:43<00:00, 20291.09it/s]\n",
      "100%|██████████| 883285/883285 [00:44<00:00, 19655.71it/s]\n",
      "100%|██████████| 883287/883287 [00:41<00:00, 21237.45it/s]\n",
      "100%|██████████| 883289/883289 [00:40<00:00, 21584.07it/s]\n",
      "100%|██████████| 883290/883290 [00:40<00:00, 21970.10it/s]\n",
      "100%|██████████| 883291/883291 [00:40<00:00, 21559.80it/s]\n",
      "100%|██████████| 883292/883292 [00:40<00:00, 21943.97it/s]\n",
      "100%|██████████| 883293/883293 [00:40<00:00, 21584.83it/s]\n",
      "100%|██████████| 883294/883294 [00:40<00:00, 21810.20it/s]\n",
      "100%|██████████| 883295/883295 [00:40<00:00, 21988.46it/s]\n",
      "100%|██████████| 883296/883296 [00:40<00:00, 21940.30it/s]\n",
      "100%|██████████| 883297/883297 [00:40<00:00, 21730.94it/s]\n",
      "100%|██████████| 883298/883298 [00:40<00:00, 21846.31it/s]\n",
      "100%|██████████| 883299/883299 [00:40<00:00, 21728.24it/s]\n",
      "100%|██████████| 883300/883300 [00:40<00:00, 21655.81it/s]\n",
      "100%|██████████| 883301/883301 [00:40<00:00, 21644.11it/s]\n",
      "100%|██████████| 883302/883302 [00:39<00:00, 22101.27it/s]\n",
      "100%|██████████| 883303/883303 [00:39<00:00, 22140.81it/s]\n",
      "100%|██████████| 883304/883304 [00:42<00:00, 20635.56it/s]\n",
      "100%|██████████| 883305/883305 [00:40<00:00, 21905.90it/s]\n",
      "100%|██████████| 883306/883306 [00:40<00:00, 21773.82it/s]\n",
      "100%|██████████| 883307/883307 [00:40<00:00, 21727.56it/s]\n",
      "100%|██████████| 883308/883308 [00:40<00:00, 21766.99it/s]\n",
      "100%|██████████| 883309/883309 [00:41<00:00, 21088.80it/s]\n",
      "100%|██████████| 883310/883310 [00:39<00:00, 22141.24it/s]\n",
      "100%|██████████| 883311/883311 [00:40<00:00, 21611.64it/s]\n",
      "100%|██████████| 883312/883312 [00:40<00:00, 21755.13it/s]\n",
      "100%|██████████| 883313/883313 [00:40<00:00, 22078.69it/s]\n",
      "100%|██████████| 883314/883314 [00:40<00:00, 21848.05it/s]\n",
      "100%|██████████| 883315/883315 [00:40<00:00, 21811.97it/s]\n",
      "100%|██████████| 883316/883316 [00:40<00:00, 21668.23it/s]\n",
      "100%|██████████| 883317/883317 [00:40<00:00, 22008.44it/s]\n",
      "100%|██████████| 883318/883318 [00:39<00:00, 22246.14it/s]\n",
      "100%|██████████| 883319/883319 [00:40<00:00, 21860.83it/s]\n",
      "100%|██████████| 883320/883320 [00:41<00:00, 21503.78it/s]\n",
      "100%|██████████| 883321/883321 [00:40<00:00, 21838.47it/s]"
     ]
    },
    {
     "name": "stdout",
     "output_type": "stream",
     "text": [
      "158\n"
     ]
    },
    {
     "name": "stderr",
     "output_type": "stream",
     "text": [
      "\n"
     ]
    }
   ],
   "source": [
    "from tqdm import tqdm\n",
    "from datetime import timedelta\n",
    "import numpy as np\n",
    "\n",
    "changed = 1\n",
    "iterations = 0\n",
    "\n",
    "df_points['idle_time_next_day'] = np.nan\n",
    "df_points['over_night'] = 0\n",
    "\n",
    "while changed:\n",
    "    iterations += 1\n",
    "    changed = 0\n",
    "    for ind in tqdm(df_points.index):\n",
    "        ts = df_points['time_start'][ind]\n",
    "        te = df_points['time_end'][ind]\n",
    "        t0 = ts.replace(hour=23, minute=59, second=59)\n",
    "        \n",
    "        # is timestood greater than same date 23:59:59\n",
    "        #   -> over midnight\n",
    "        if ts + df_points['idle_time'][ind] > t0:\n",
    "            changed = 1\n",
    "            \n",
    "            underhang = t0 - ts\n",
    "            overhang = te - t0\n",
    "            \n",
    "            # fix current day\n",
    "            df_points['time_end'][ind] = ts.replace(hour=23, minute=59, second=59)\n",
    "            df_points['idle_time'][ind] = underhang\n",
    "            df_points['over_night'][ind] = 1\n",
    "            df_points['idle_time_next_day'][ind] = overhang\n",
    "            \n",
    "            # add new row for the next day\n",
    "            time_start = ts.replace(hour=0, minute=0, second=0)\n",
    "            time_start += timedelta(days=1)\n",
    "            flag = 0\n",
    "            #if time_start + overhang > time_start.replace(hour=23, minute=59, second=59):\n",
    "            #    flag = 1\n",
    "            \n",
    "            dict = {'bike_id': df_points['bike_id'][ind], 'lng': df_points['lng'][ind], 'lat': df_points['lat'][ind],\n",
    "                    'idle_time': overhang, 'time_start': time_start, 'time_end': te,'over_night': flag, 'idle_time_next_day': np.nan, 'end_station_number': df_points['end_station_number'][ind]}\n",
    "            df_points = df_points.append(dict, ignore_index=True)\n",
    "\n",
    "print(iterations)"
   ]
  },
  {
   "cell_type": "code",
   "execution_count": 14,
   "outputs": [
    {
     "data": {
      "text/plain": "        bike_id        lat        lng       idle_time          time_start  \\\n0       71955.0  51.370693  12.376540 0 days 00:22:17 2020-01-04 11:22:58   \n1       71955.0  51.345639  12.379167 0 days 07:07:56 2020-01-04 12:01:02   \n2       71955.0  51.332422  12.339126 0 days 01:01:04 2020-01-04 19:25:48   \n3       71955.0  51.325316  12.373336 0 days 00:24:11 2020-01-04 20:39:30   \n4       71955.0  51.336462  12.374997 0 days 01:23:06 2020-01-04 21:09:39   \n...         ...        ...        ...             ...                 ...   \n883316  93544.0  51.321160  12.269497 0 days 23:59:59 2020-07-21 00:00:00   \n883317  93544.0  51.321160  12.269497 0 days 23:59:59 2020-07-22 00:00:00   \n883318  93544.0  51.321160  12.269497 0 days 23:59:59 2020-07-23 00:00:00   \n883319  93544.0  51.321160  12.269497 0 days 23:59:59 2020-07-24 00:00:00   \n883320  93544.0  51.321160  12.269497 0 days 22:41:48 2020-07-25 00:00:00   \n\n                  time_end  end_station_number idle_time_next_day  over_night  \n0      2020-01-04 11:45:15                 NaN                NaN           0  \n1      2020-01-04 19:08:58              4055.0                NaN           0  \n2      2020-01-04 20:26:52                 NaN                NaN           0  \n3      2020-01-04 21:03:41                 NaN                NaN           0  \n4      2020-01-04 22:32:45                 NaN                NaN           0  \n...                    ...                 ...                ...         ...  \n883316 2020-07-21 23:59:59                 NaN    3 days 22:41:48           1  \n883317 2020-07-22 23:59:59                 NaN    2 days 22:41:48           1  \n883318 2020-07-23 23:59:59                 NaN    1 days 22:41:48           1  \n883319 2020-07-24 23:59:59                 NaN    0 days 22:41:48           1  \n883320 2020-07-25 22:41:47                 NaN                NaN           0  \n\n[883321 rows x 9 columns]",
      "text/html": "<div>\n<style scoped>\n    .dataframe tbody tr th:only-of-type {\n        vertical-align: middle;\n    }\n\n    .dataframe tbody tr th {\n        vertical-align: top;\n    }\n\n    .dataframe thead th {\n        text-align: right;\n    }\n</style>\n<table border=\"1\" class=\"dataframe\">\n  <thead>\n    <tr style=\"text-align: right;\">\n      <th></th>\n      <th>bike_id</th>\n      <th>lat</th>\n      <th>lng</th>\n      <th>idle_time</th>\n      <th>time_start</th>\n      <th>time_end</th>\n      <th>end_station_number</th>\n      <th>idle_time_next_day</th>\n      <th>over_night</th>\n    </tr>\n  </thead>\n  <tbody>\n    <tr>\n      <th>0</th>\n      <td>71955.0</td>\n      <td>51.370693</td>\n      <td>12.376540</td>\n      <td>0 days 00:22:17</td>\n      <td>2020-01-04 11:22:58</td>\n      <td>2020-01-04 11:45:15</td>\n      <td>NaN</td>\n      <td>NaN</td>\n      <td>0</td>\n    </tr>\n    <tr>\n      <th>1</th>\n      <td>71955.0</td>\n      <td>51.345639</td>\n      <td>12.379167</td>\n      <td>0 days 07:07:56</td>\n      <td>2020-01-04 12:01:02</td>\n      <td>2020-01-04 19:08:58</td>\n      <td>4055.0</td>\n      <td>NaN</td>\n      <td>0</td>\n    </tr>\n    <tr>\n      <th>2</th>\n      <td>71955.0</td>\n      <td>51.332422</td>\n      <td>12.339126</td>\n      <td>0 days 01:01:04</td>\n      <td>2020-01-04 19:25:48</td>\n      <td>2020-01-04 20:26:52</td>\n      <td>NaN</td>\n      <td>NaN</td>\n      <td>0</td>\n    </tr>\n    <tr>\n      <th>3</th>\n      <td>71955.0</td>\n      <td>51.325316</td>\n      <td>12.373336</td>\n      <td>0 days 00:24:11</td>\n      <td>2020-01-04 20:39:30</td>\n      <td>2020-01-04 21:03:41</td>\n      <td>NaN</td>\n      <td>NaN</td>\n      <td>0</td>\n    </tr>\n    <tr>\n      <th>4</th>\n      <td>71955.0</td>\n      <td>51.336462</td>\n      <td>12.374997</td>\n      <td>0 days 01:23:06</td>\n      <td>2020-01-04 21:09:39</td>\n      <td>2020-01-04 22:32:45</td>\n      <td>NaN</td>\n      <td>NaN</td>\n      <td>0</td>\n    </tr>\n    <tr>\n      <th>...</th>\n      <td>...</td>\n      <td>...</td>\n      <td>...</td>\n      <td>...</td>\n      <td>...</td>\n      <td>...</td>\n      <td>...</td>\n      <td>...</td>\n      <td>...</td>\n    </tr>\n    <tr>\n      <th>883316</th>\n      <td>93544.0</td>\n      <td>51.321160</td>\n      <td>12.269497</td>\n      <td>0 days 23:59:59</td>\n      <td>2020-07-21 00:00:00</td>\n      <td>2020-07-21 23:59:59</td>\n      <td>NaN</td>\n      <td>3 days 22:41:48</td>\n      <td>1</td>\n    </tr>\n    <tr>\n      <th>883317</th>\n      <td>93544.0</td>\n      <td>51.321160</td>\n      <td>12.269497</td>\n      <td>0 days 23:59:59</td>\n      <td>2020-07-22 00:00:00</td>\n      <td>2020-07-22 23:59:59</td>\n      <td>NaN</td>\n      <td>2 days 22:41:48</td>\n      <td>1</td>\n    </tr>\n    <tr>\n      <th>883318</th>\n      <td>93544.0</td>\n      <td>51.321160</td>\n      <td>12.269497</td>\n      <td>0 days 23:59:59</td>\n      <td>2020-07-23 00:00:00</td>\n      <td>2020-07-23 23:59:59</td>\n      <td>NaN</td>\n      <td>1 days 22:41:48</td>\n      <td>1</td>\n    </tr>\n    <tr>\n      <th>883319</th>\n      <td>93544.0</td>\n      <td>51.321160</td>\n      <td>12.269497</td>\n      <td>0 days 23:59:59</td>\n      <td>2020-07-24 00:00:00</td>\n      <td>2020-07-24 23:59:59</td>\n      <td>NaN</td>\n      <td>0 days 22:41:48</td>\n      <td>1</td>\n    </tr>\n    <tr>\n      <th>883320</th>\n      <td>93544.0</td>\n      <td>51.321160</td>\n      <td>12.269497</td>\n      <td>0 days 22:41:48</td>\n      <td>2020-07-25 00:00:00</td>\n      <td>2020-07-25 22:41:47</td>\n      <td>NaN</td>\n      <td>NaN</td>\n      <td>0</td>\n    </tr>\n  </tbody>\n</table>\n<p>883321 rows × 9 columns</p>\n</div>"
     },
     "execution_count": 14,
     "metadata": {},
     "output_type": "execute_result"
    }
   ],
   "source": [
    "df_points"
   ],
   "metadata": {
    "collapsed": false,
    "pycharm": {
     "name": "#%%\n"
    }
   }
  },
  {
   "cell_type": "markdown",
   "source": [
    "idle time in min"
   ],
   "metadata": {
    "collapsed": false
   }
  },
  {
   "cell_type": "code",
   "execution_count": 15,
   "outputs": [],
   "source": [
    "def idle_time_to_min(row):\n",
    "    return row['idle_time'].seconds / 60\n",
    "\n",
    "df_points['idle_time'] = df_points.apply(idle_time_to_min, axis=1)"
   ],
   "metadata": {
    "collapsed": false,
    "pycharm": {
     "name": "#%%\n"
    }
   }
  },
  {
   "cell_type": "markdown",
   "source": [
    "add idle_time_next_day feature"
   ],
   "metadata": {
    "collapsed": false
   }
  },
  {
   "cell_type": "code",
   "execution_count": 16,
   "id": "5aee7e90",
   "metadata": {},
   "outputs": [],
   "source": [
    "df_points['idle_time_next_day'] = pd.to_timedelta(df_points['idle_time_next_day'])\n",
    "\n",
    "def idle_time_next_day_to_min(row):\n",
    "    if row['over_night'] == 1:\n",
    "        t = row['idle_time_next_day'].total_seconds() / 60\n",
    "        if t < 1439:\n",
    "            return t\n",
    "        else: return 1439\n",
    "    else:\n",
    "        return 0\n",
    "\n",
    "df_points['idle_time_next_day'] = df_points.apply(idle_time_next_day_to_min, axis=1)\n"
   ]
  },
  {
   "cell_type": "code",
   "execution_count": 17,
   "outputs": [
    {
     "data": {
      "text/plain": "        bike_id        lat        lng    idle_time          time_start  \\\n0       71955.0  51.370693  12.376540    22.283333 2020-01-04 11:22:58   \n1       71955.0  51.345639  12.379167   427.933333 2020-01-04 12:01:02   \n2       71955.0  51.332422  12.339126    61.066667 2020-01-04 19:25:48   \n3       71955.0  51.325316  12.373336    24.183333 2020-01-04 20:39:30   \n4       71955.0  51.336462  12.374997    83.100000 2020-01-04 21:09:39   \n...         ...        ...        ...          ...                 ...   \n883316  93544.0  51.321160  12.269497  1439.983333 2020-07-21 00:00:00   \n883317  93544.0  51.321160  12.269497  1439.983333 2020-07-22 00:00:00   \n883318  93544.0  51.321160  12.269497  1439.983333 2020-07-23 00:00:00   \n883319  93544.0  51.321160  12.269497  1439.983333 2020-07-24 00:00:00   \n883320  93544.0  51.321160  12.269497  1361.800000 2020-07-25 00:00:00   \n\n                  time_end  end_station_number  idle_time_next_day  over_night  \n0      2020-01-04 11:45:15                 NaN                 0.0           0  \n1      2020-01-04 19:08:58              4055.0                 0.0           0  \n2      2020-01-04 20:26:52                 NaN                 0.0           0  \n3      2020-01-04 21:03:41                 NaN                 0.0           0  \n4      2020-01-04 22:32:45                 NaN                 0.0           0  \n...                    ...                 ...                 ...         ...  \n883316 2020-07-21 23:59:59                 NaN              1439.0           1  \n883317 2020-07-22 23:59:59                 NaN              1439.0           1  \n883318 2020-07-23 23:59:59                 NaN              1439.0           1  \n883319 2020-07-24 23:59:59                 NaN              1361.8           1  \n883320 2020-07-25 22:41:47                 NaN                 0.0           0  \n\n[883321 rows x 9 columns]",
      "text/html": "<div>\n<style scoped>\n    .dataframe tbody tr th:only-of-type {\n        vertical-align: middle;\n    }\n\n    .dataframe tbody tr th {\n        vertical-align: top;\n    }\n\n    .dataframe thead th {\n        text-align: right;\n    }\n</style>\n<table border=\"1\" class=\"dataframe\">\n  <thead>\n    <tr style=\"text-align: right;\">\n      <th></th>\n      <th>bike_id</th>\n      <th>lat</th>\n      <th>lng</th>\n      <th>idle_time</th>\n      <th>time_start</th>\n      <th>time_end</th>\n      <th>end_station_number</th>\n      <th>idle_time_next_day</th>\n      <th>over_night</th>\n    </tr>\n  </thead>\n  <tbody>\n    <tr>\n      <th>0</th>\n      <td>71955.0</td>\n      <td>51.370693</td>\n      <td>12.376540</td>\n      <td>22.283333</td>\n      <td>2020-01-04 11:22:58</td>\n      <td>2020-01-04 11:45:15</td>\n      <td>NaN</td>\n      <td>0.0</td>\n      <td>0</td>\n    </tr>\n    <tr>\n      <th>1</th>\n      <td>71955.0</td>\n      <td>51.345639</td>\n      <td>12.379167</td>\n      <td>427.933333</td>\n      <td>2020-01-04 12:01:02</td>\n      <td>2020-01-04 19:08:58</td>\n      <td>4055.0</td>\n      <td>0.0</td>\n      <td>0</td>\n    </tr>\n    <tr>\n      <th>2</th>\n      <td>71955.0</td>\n      <td>51.332422</td>\n      <td>12.339126</td>\n      <td>61.066667</td>\n      <td>2020-01-04 19:25:48</td>\n      <td>2020-01-04 20:26:52</td>\n      <td>NaN</td>\n      <td>0.0</td>\n      <td>0</td>\n    </tr>\n    <tr>\n      <th>3</th>\n      <td>71955.0</td>\n      <td>51.325316</td>\n      <td>12.373336</td>\n      <td>24.183333</td>\n      <td>2020-01-04 20:39:30</td>\n      <td>2020-01-04 21:03:41</td>\n      <td>NaN</td>\n      <td>0.0</td>\n      <td>0</td>\n    </tr>\n    <tr>\n      <th>4</th>\n      <td>71955.0</td>\n      <td>51.336462</td>\n      <td>12.374997</td>\n      <td>83.100000</td>\n      <td>2020-01-04 21:09:39</td>\n      <td>2020-01-04 22:32:45</td>\n      <td>NaN</td>\n      <td>0.0</td>\n      <td>0</td>\n    </tr>\n    <tr>\n      <th>...</th>\n      <td>...</td>\n      <td>...</td>\n      <td>...</td>\n      <td>...</td>\n      <td>...</td>\n      <td>...</td>\n      <td>...</td>\n      <td>...</td>\n      <td>...</td>\n    </tr>\n    <tr>\n      <th>883316</th>\n      <td>93544.0</td>\n      <td>51.321160</td>\n      <td>12.269497</td>\n      <td>1439.983333</td>\n      <td>2020-07-21 00:00:00</td>\n      <td>2020-07-21 23:59:59</td>\n      <td>NaN</td>\n      <td>1439.0</td>\n      <td>1</td>\n    </tr>\n    <tr>\n      <th>883317</th>\n      <td>93544.0</td>\n      <td>51.321160</td>\n      <td>12.269497</td>\n      <td>1439.983333</td>\n      <td>2020-07-22 00:00:00</td>\n      <td>2020-07-22 23:59:59</td>\n      <td>NaN</td>\n      <td>1439.0</td>\n      <td>1</td>\n    </tr>\n    <tr>\n      <th>883318</th>\n      <td>93544.0</td>\n      <td>51.321160</td>\n      <td>12.269497</td>\n      <td>1439.983333</td>\n      <td>2020-07-23 00:00:00</td>\n      <td>2020-07-23 23:59:59</td>\n      <td>NaN</td>\n      <td>1439.0</td>\n      <td>1</td>\n    </tr>\n    <tr>\n      <th>883319</th>\n      <td>93544.0</td>\n      <td>51.321160</td>\n      <td>12.269497</td>\n      <td>1439.983333</td>\n      <td>2020-07-24 00:00:00</td>\n      <td>2020-07-24 23:59:59</td>\n      <td>NaN</td>\n      <td>1361.8</td>\n      <td>1</td>\n    </tr>\n    <tr>\n      <th>883320</th>\n      <td>93544.0</td>\n      <td>51.321160</td>\n      <td>12.269497</td>\n      <td>1361.800000</td>\n      <td>2020-07-25 00:00:00</td>\n      <td>2020-07-25 22:41:47</td>\n      <td>NaN</td>\n      <td>0.0</td>\n      <td>0</td>\n    </tr>\n  </tbody>\n</table>\n<p>883321 rows × 9 columns</p>\n</div>"
     },
     "execution_count": 17,
     "metadata": {},
     "output_type": "execute_result"
    }
   ],
   "source": [
    "df_points"
   ],
   "metadata": {
    "collapsed": false,
    "pycharm": {
     "name": "#%%\n"
    }
   }
  },
  {
   "cell_type": "markdown",
   "source": [
    "change type to int"
   ],
   "metadata": {
    "collapsed": false
   }
  },
  {
   "cell_type": "code",
   "execution_count": 18,
   "id": "3bf78e2f",
   "metadata": {},
   "outputs": [
    {
     "data": {
      "text/plain": "        bike_id        lat        lng  idle_time          time_start  \\\n0       71955.0  51.370693  12.376540         22 2020-01-04 11:22:58   \n1       71955.0  51.345639  12.379167        427 2020-01-04 12:01:02   \n2       71955.0  51.332422  12.339126         61 2020-01-04 19:25:48   \n3       71955.0  51.325316  12.373336         24 2020-01-04 20:39:30   \n4       71955.0  51.336462  12.374997         83 2020-01-04 21:09:39   \n...         ...        ...        ...        ...                 ...   \n883316  93544.0  51.321160  12.269497       1439 2020-07-21 00:00:00   \n883317  93544.0  51.321160  12.269497       1439 2020-07-22 00:00:00   \n883318  93544.0  51.321160  12.269497       1439 2020-07-23 00:00:00   \n883319  93544.0  51.321160  12.269497       1439 2020-07-24 00:00:00   \n883320  93544.0  51.321160  12.269497       1361 2020-07-25 00:00:00   \n\n                  time_end  end_station_number  idle_time_next_day  over_night  \n0      2020-01-04 11:45:15                 NaN                   0           0  \n1      2020-01-04 19:08:58              4055.0                   0           0  \n2      2020-01-04 20:26:52                 NaN                   0           0  \n3      2020-01-04 21:03:41                 NaN                   0           0  \n4      2020-01-04 22:32:45                 NaN                   0           0  \n...                    ...                 ...                 ...         ...  \n883316 2020-07-21 23:59:59                 NaN                1439           1  \n883317 2020-07-22 23:59:59                 NaN                1439           1  \n883318 2020-07-23 23:59:59                 NaN                1439           1  \n883319 2020-07-24 23:59:59                 NaN                1361           1  \n883320 2020-07-25 22:41:47                 NaN                   0           0  \n\n[883321 rows x 9 columns]",
      "text/html": "<div>\n<style scoped>\n    .dataframe tbody tr th:only-of-type {\n        vertical-align: middle;\n    }\n\n    .dataframe tbody tr th {\n        vertical-align: top;\n    }\n\n    .dataframe thead th {\n        text-align: right;\n    }\n</style>\n<table border=\"1\" class=\"dataframe\">\n  <thead>\n    <tr style=\"text-align: right;\">\n      <th></th>\n      <th>bike_id</th>\n      <th>lat</th>\n      <th>lng</th>\n      <th>idle_time</th>\n      <th>time_start</th>\n      <th>time_end</th>\n      <th>end_station_number</th>\n      <th>idle_time_next_day</th>\n      <th>over_night</th>\n    </tr>\n  </thead>\n  <tbody>\n    <tr>\n      <th>0</th>\n      <td>71955.0</td>\n      <td>51.370693</td>\n      <td>12.376540</td>\n      <td>22</td>\n      <td>2020-01-04 11:22:58</td>\n      <td>2020-01-04 11:45:15</td>\n      <td>NaN</td>\n      <td>0</td>\n      <td>0</td>\n    </tr>\n    <tr>\n      <th>1</th>\n      <td>71955.0</td>\n      <td>51.345639</td>\n      <td>12.379167</td>\n      <td>427</td>\n      <td>2020-01-04 12:01:02</td>\n      <td>2020-01-04 19:08:58</td>\n      <td>4055.0</td>\n      <td>0</td>\n      <td>0</td>\n    </tr>\n    <tr>\n      <th>2</th>\n      <td>71955.0</td>\n      <td>51.332422</td>\n      <td>12.339126</td>\n      <td>61</td>\n      <td>2020-01-04 19:25:48</td>\n      <td>2020-01-04 20:26:52</td>\n      <td>NaN</td>\n      <td>0</td>\n      <td>0</td>\n    </tr>\n    <tr>\n      <th>3</th>\n      <td>71955.0</td>\n      <td>51.325316</td>\n      <td>12.373336</td>\n      <td>24</td>\n      <td>2020-01-04 20:39:30</td>\n      <td>2020-01-04 21:03:41</td>\n      <td>NaN</td>\n      <td>0</td>\n      <td>0</td>\n    </tr>\n    <tr>\n      <th>4</th>\n      <td>71955.0</td>\n      <td>51.336462</td>\n      <td>12.374997</td>\n      <td>83</td>\n      <td>2020-01-04 21:09:39</td>\n      <td>2020-01-04 22:32:45</td>\n      <td>NaN</td>\n      <td>0</td>\n      <td>0</td>\n    </tr>\n    <tr>\n      <th>...</th>\n      <td>...</td>\n      <td>...</td>\n      <td>...</td>\n      <td>...</td>\n      <td>...</td>\n      <td>...</td>\n      <td>...</td>\n      <td>...</td>\n      <td>...</td>\n    </tr>\n    <tr>\n      <th>883316</th>\n      <td>93544.0</td>\n      <td>51.321160</td>\n      <td>12.269497</td>\n      <td>1439</td>\n      <td>2020-07-21 00:00:00</td>\n      <td>2020-07-21 23:59:59</td>\n      <td>NaN</td>\n      <td>1439</td>\n      <td>1</td>\n    </tr>\n    <tr>\n      <th>883317</th>\n      <td>93544.0</td>\n      <td>51.321160</td>\n      <td>12.269497</td>\n      <td>1439</td>\n      <td>2020-07-22 00:00:00</td>\n      <td>2020-07-22 23:59:59</td>\n      <td>NaN</td>\n      <td>1439</td>\n      <td>1</td>\n    </tr>\n    <tr>\n      <th>883318</th>\n      <td>93544.0</td>\n      <td>51.321160</td>\n      <td>12.269497</td>\n      <td>1439</td>\n      <td>2020-07-23 00:00:00</td>\n      <td>2020-07-23 23:59:59</td>\n      <td>NaN</td>\n      <td>1439</td>\n      <td>1</td>\n    </tr>\n    <tr>\n      <th>883319</th>\n      <td>93544.0</td>\n      <td>51.321160</td>\n      <td>12.269497</td>\n      <td>1439</td>\n      <td>2020-07-24 00:00:00</td>\n      <td>2020-07-24 23:59:59</td>\n      <td>NaN</td>\n      <td>1361</td>\n      <td>1</td>\n    </tr>\n    <tr>\n      <th>883320</th>\n      <td>93544.0</td>\n      <td>51.321160</td>\n      <td>12.269497</td>\n      <td>1361</td>\n      <td>2020-07-25 00:00:00</td>\n      <td>2020-07-25 22:41:47</td>\n      <td>NaN</td>\n      <td>0</td>\n      <td>0</td>\n    </tr>\n  </tbody>\n</table>\n<p>883321 rows × 9 columns</p>\n</div>"
     },
     "execution_count": 18,
     "metadata": {},
     "output_type": "execute_result"
    }
   ],
   "source": [
    "df_points['idle_time'] = df_points['idle_time'].astype(int)\n",
    "df_points['idle_time_next_day'] = df_points['idle_time_next_day'].astype(int)\n",
    "df_points"
   ]
  },
  {
   "cell_type": "markdown",
   "id": "3a3c97d2",
   "metadata": {},
   "source": [
    "# Save V2 df_points split"
   ]
  },
  {
   "cell_type": "code",
   "execution_count": 19,
   "id": "8d901a75",
   "metadata": {},
   "outputs": [
    {
     "data": {
      "text/plain": "1439"
     },
     "execution_count": 19,
     "metadata": {},
     "output_type": "execute_result"
    }
   ],
   "source": [
    "df_points['idle_time'].max()"
   ]
  },
  {
   "cell_type": "code",
   "execution_count": 20,
   "id": "991143a4",
   "metadata": {},
   "outputs": [
    {
     "data": {
      "text/plain": "   bike_id        lat        lng  idle_time          time_start  \\\n0  71955.0  51.370693  12.376540         22 2020-01-04 11:22:58   \n1  71955.0  51.345639  12.379167        427 2020-01-04 12:01:02   \n2  71955.0  51.332422  12.339126         61 2020-01-04 19:25:48   \n3  71955.0  51.325316  12.373336         24 2020-01-04 20:39:30   \n4  71955.0  51.336462  12.374997         83 2020-01-04 21:09:39   \n\n             time_end  end_station_number  idle_time_next_day  over_night  \n0 2020-01-04 11:45:15                 NaN                   0           0  \n1 2020-01-04 19:08:58              4055.0                   0           0  \n2 2020-01-04 20:26:52                 NaN                   0           0  \n3 2020-01-04 21:03:41                 NaN                   0           0  \n4 2020-01-04 22:32:45                 NaN                   0           0  ",
      "text/html": "<div>\n<style scoped>\n    .dataframe tbody tr th:only-of-type {\n        vertical-align: middle;\n    }\n\n    .dataframe tbody tr th {\n        vertical-align: top;\n    }\n\n    .dataframe thead th {\n        text-align: right;\n    }\n</style>\n<table border=\"1\" class=\"dataframe\">\n  <thead>\n    <tr style=\"text-align: right;\">\n      <th></th>\n      <th>bike_id</th>\n      <th>lat</th>\n      <th>lng</th>\n      <th>idle_time</th>\n      <th>time_start</th>\n      <th>time_end</th>\n      <th>end_station_number</th>\n      <th>idle_time_next_day</th>\n      <th>over_night</th>\n    </tr>\n  </thead>\n  <tbody>\n    <tr>\n      <th>0</th>\n      <td>71955.0</td>\n      <td>51.370693</td>\n      <td>12.376540</td>\n      <td>22</td>\n      <td>2020-01-04 11:22:58</td>\n      <td>2020-01-04 11:45:15</td>\n      <td>NaN</td>\n      <td>0</td>\n      <td>0</td>\n    </tr>\n    <tr>\n      <th>1</th>\n      <td>71955.0</td>\n      <td>51.345639</td>\n      <td>12.379167</td>\n      <td>427</td>\n      <td>2020-01-04 12:01:02</td>\n      <td>2020-01-04 19:08:58</td>\n      <td>4055.0</td>\n      <td>0</td>\n      <td>0</td>\n    </tr>\n    <tr>\n      <th>2</th>\n      <td>71955.0</td>\n      <td>51.332422</td>\n      <td>12.339126</td>\n      <td>61</td>\n      <td>2020-01-04 19:25:48</td>\n      <td>2020-01-04 20:26:52</td>\n      <td>NaN</td>\n      <td>0</td>\n      <td>0</td>\n    </tr>\n    <tr>\n      <th>3</th>\n      <td>71955.0</td>\n      <td>51.325316</td>\n      <td>12.373336</td>\n      <td>24</td>\n      <td>2020-01-04 20:39:30</td>\n      <td>2020-01-04 21:03:41</td>\n      <td>NaN</td>\n      <td>0</td>\n      <td>0</td>\n    </tr>\n    <tr>\n      <th>4</th>\n      <td>71955.0</td>\n      <td>51.336462</td>\n      <td>12.374997</td>\n      <td>83</td>\n      <td>2020-01-04 21:09:39</td>\n      <td>2020-01-04 22:32:45</td>\n      <td>NaN</td>\n      <td>0</td>\n      <td>0</td>\n    </tr>\n  </tbody>\n</table>\n</div>"
     },
     "execution_count": 20,
     "metadata": {},
     "output_type": "execute_result"
    }
   ],
   "source": [
    "df_points.head()"
   ]
  },
  {
   "cell_type": "markdown",
   "id": "8ac57725",
   "metadata": {},
   "source": [
    "## Add H3 Index"
   ]
  },
  {
   "cell_type": "code",
   "execution_count": 21,
   "id": "3d822988",
   "metadata": {},
   "outputs": [
    {
     "name": "stderr",
     "output_type": "stream",
     "text": [
      "100%|██████████| 883321/883321 [00:16<00:00, 52137.56it/s]\n"
     ]
    },
    {
     "data": {
      "text/plain": "   bike_id        lat        lng  idle_time          time_start  \\\n0  71955.0  51.370693  12.376540         22 2020-01-04 11:22:58   \n1  71955.0  51.345639  12.379167        427 2020-01-04 12:01:02   \n2  71955.0  51.332422  12.339126         61 2020-01-04 19:25:48   \n3  71955.0  51.325316  12.373336         24 2020-01-04 20:39:30   \n4  71955.0  51.336462  12.374997         83 2020-01-04 21:09:39   \n\n             time_end  end_station_number  idle_time_next_day  over_night  \\\n0 2020-01-04 11:45:15                 NaN                   0           0   \n1 2020-01-04 19:08:58              4055.0                   0           0   \n2 2020-01-04 20:26:52                 NaN                   0           0   \n3 2020-01-04 21:03:41                 NaN                   0           0   \n4 2020-01-04 22:32:45                 NaN                   0           0   \n\n            hex_id  \n0  881f1a8cd7fffff  \n1  881f1a8cb1fffff  \n2  881f1a8d9bfffff  \n3  881f1a1643fffff  \n4  881f1a8cb5fffff  ",
      "text/html": "<div>\n<style scoped>\n    .dataframe tbody tr th:only-of-type {\n        vertical-align: middle;\n    }\n\n    .dataframe tbody tr th {\n        vertical-align: top;\n    }\n\n    .dataframe thead th {\n        text-align: right;\n    }\n</style>\n<table border=\"1\" class=\"dataframe\">\n  <thead>\n    <tr style=\"text-align: right;\">\n      <th></th>\n      <th>bike_id</th>\n      <th>lat</th>\n      <th>lng</th>\n      <th>idle_time</th>\n      <th>time_start</th>\n      <th>time_end</th>\n      <th>end_station_number</th>\n      <th>idle_time_next_day</th>\n      <th>over_night</th>\n      <th>hex_id</th>\n    </tr>\n  </thead>\n  <tbody>\n    <tr>\n      <th>0</th>\n      <td>71955.0</td>\n      <td>51.370693</td>\n      <td>12.376540</td>\n      <td>22</td>\n      <td>2020-01-04 11:22:58</td>\n      <td>2020-01-04 11:45:15</td>\n      <td>NaN</td>\n      <td>0</td>\n      <td>0</td>\n      <td>881f1a8cd7fffff</td>\n    </tr>\n    <tr>\n      <th>1</th>\n      <td>71955.0</td>\n      <td>51.345639</td>\n      <td>12.379167</td>\n      <td>427</td>\n      <td>2020-01-04 12:01:02</td>\n      <td>2020-01-04 19:08:58</td>\n      <td>4055.0</td>\n      <td>0</td>\n      <td>0</td>\n      <td>881f1a8cb1fffff</td>\n    </tr>\n    <tr>\n      <th>2</th>\n      <td>71955.0</td>\n      <td>51.332422</td>\n      <td>12.339126</td>\n      <td>61</td>\n      <td>2020-01-04 19:25:48</td>\n      <td>2020-01-04 20:26:52</td>\n      <td>NaN</td>\n      <td>0</td>\n      <td>0</td>\n      <td>881f1a8d9bfffff</td>\n    </tr>\n    <tr>\n      <th>3</th>\n      <td>71955.0</td>\n      <td>51.325316</td>\n      <td>12.373336</td>\n      <td>24</td>\n      <td>2020-01-04 20:39:30</td>\n      <td>2020-01-04 21:03:41</td>\n      <td>NaN</td>\n      <td>0</td>\n      <td>0</td>\n      <td>881f1a1643fffff</td>\n    </tr>\n    <tr>\n      <th>4</th>\n      <td>71955.0</td>\n      <td>51.336462</td>\n      <td>12.374997</td>\n      <td>83</td>\n      <td>2020-01-04 21:09:39</td>\n      <td>2020-01-04 22:32:45</td>\n      <td>NaN</td>\n      <td>0</td>\n      <td>0</td>\n      <td>881f1a8cb5fffff</td>\n    </tr>\n  </tbody>\n</table>\n</div>"
     },
     "execution_count": 21,
     "metadata": {},
     "output_type": "execute_result"
    }
   ],
   "source": [
    "import h3\n",
    "\n",
    "df_points['hex_id'] = 0\n",
    "\n",
    "for ind in tqdm(df_points.index):\n",
    "    df_points['hex_id'][ind] = h3.geo_to_h3(df_points['lat'][ind], df_points['lng'][ind], 8)\n",
    "df_points.head()"
   ]
  },
  {
   "cell_type": "markdown",
   "id": "83a28483",
   "metadata": {},
   "source": [
    "# Add weather Data"
   ]
  },
  {
   "cell_type": "code",
   "execution_count": 22,
   "outputs": [
    {
     "name": "stderr",
     "output_type": "stream",
     "text": [
      "100%|██████████| 883321/883321 [20:04<00:00, 733.34it/s]\n"
     ]
    },
    {
     "data": {
      "text/plain": "        bike_id        lat        lng  idle_time          time_start  \\\n0       71955.0  51.370693  12.376540         22 2020-01-04 11:22:58   \n1       71955.0  51.345639  12.379167        427 2020-01-04 12:01:02   \n2       71955.0  51.332422  12.339126         61 2020-01-04 19:25:48   \n3       71955.0  51.325316  12.373336         24 2020-01-04 20:39:30   \n4       71955.0  51.336462  12.374997         83 2020-01-04 21:09:39   \n...         ...        ...        ...        ...                 ...   \n883316  93544.0  51.321160  12.269497       1439 2020-07-21 00:00:00   \n883317  93544.0  51.321160  12.269497       1439 2020-07-22 00:00:00   \n883318  93544.0  51.321160  12.269497       1439 2020-07-23 00:00:00   \n883319  93544.0  51.321160  12.269497       1439 2020-07-24 00:00:00   \n883320  93544.0  51.321160  12.269497       1361 2020-07-25 00:00:00   \n\n                  time_end  end_station_number  idle_time_next_day  \\\n0      2020-01-04 11:45:15                 NaN                   0   \n1      2020-01-04 19:08:58              4055.0                   0   \n2      2020-01-04 20:26:52                 NaN                   0   \n3      2020-01-04 21:03:41                 NaN                   0   \n4      2020-01-04 22:32:45                 NaN                   0   \n...                    ...                 ...                 ...   \n883316 2020-07-21 23:59:59                 NaN                1439   \n883317 2020-07-22 23:59:59                 NaN                1439   \n883318 2020-07-23 23:59:59                 NaN                1439   \n883319 2020-07-24 23:59:59                 NaN                1361   \n883320 2020-07-25 22:41:47                 NaN                   0   \n\n        over_night           hex_id   temp  rain  snow  wind_speed  humidity  \n0                0  881f1a8cd7fffff   4.88  0.11   NaN        0.89      76.0  \n1                0  881f1a8cb1fffff   5.39   NaN   NaN        0.89      75.0  \n2                0  881f1a8d9bfffff   3.07  0.27   NaN        8.94      88.0  \n3                0  881f1a1643fffff   2.98   NaN   NaN        7.15      87.0  \n4                0  881f1a8cb5fffff   2.85   NaN   NaN        8.94      86.0  \n...            ...              ...    ...   ...   ...         ...       ...  \n883316           1  881f1a8debfffff  15.89   NaN   NaN        2.24      72.0  \n883317           1  881f1a8debfffff  13.39   NaN   NaN        2.10      62.0  \n883318           1  881f1a8debfffff  15.08   NaN   NaN        0.89      67.0  \n883319           1  881f1a8debfffff  15.34   NaN   NaN        3.58      66.0  \n883320           0  881f1a8debfffff  16.47   NaN   NaN        1.34      77.0  \n\n[883321 rows x 15 columns]",
      "text/html": "<div>\n<style scoped>\n    .dataframe tbody tr th:only-of-type {\n        vertical-align: middle;\n    }\n\n    .dataframe tbody tr th {\n        vertical-align: top;\n    }\n\n    .dataframe thead th {\n        text-align: right;\n    }\n</style>\n<table border=\"1\" class=\"dataframe\">\n  <thead>\n    <tr style=\"text-align: right;\">\n      <th></th>\n      <th>bike_id</th>\n      <th>lat</th>\n      <th>lng</th>\n      <th>idle_time</th>\n      <th>time_start</th>\n      <th>time_end</th>\n      <th>end_station_number</th>\n      <th>idle_time_next_day</th>\n      <th>over_night</th>\n      <th>hex_id</th>\n      <th>temp</th>\n      <th>rain</th>\n      <th>snow</th>\n      <th>wind_speed</th>\n      <th>humidity</th>\n    </tr>\n  </thead>\n  <tbody>\n    <tr>\n      <th>0</th>\n      <td>71955.0</td>\n      <td>51.370693</td>\n      <td>12.376540</td>\n      <td>22</td>\n      <td>2020-01-04 11:22:58</td>\n      <td>2020-01-04 11:45:15</td>\n      <td>NaN</td>\n      <td>0</td>\n      <td>0</td>\n      <td>881f1a8cd7fffff</td>\n      <td>4.88</td>\n      <td>0.11</td>\n      <td>NaN</td>\n      <td>0.89</td>\n      <td>76.0</td>\n    </tr>\n    <tr>\n      <th>1</th>\n      <td>71955.0</td>\n      <td>51.345639</td>\n      <td>12.379167</td>\n      <td>427</td>\n      <td>2020-01-04 12:01:02</td>\n      <td>2020-01-04 19:08:58</td>\n      <td>4055.0</td>\n      <td>0</td>\n      <td>0</td>\n      <td>881f1a8cb1fffff</td>\n      <td>5.39</td>\n      <td>NaN</td>\n      <td>NaN</td>\n      <td>0.89</td>\n      <td>75.0</td>\n    </tr>\n    <tr>\n      <th>2</th>\n      <td>71955.0</td>\n      <td>51.332422</td>\n      <td>12.339126</td>\n      <td>61</td>\n      <td>2020-01-04 19:25:48</td>\n      <td>2020-01-04 20:26:52</td>\n      <td>NaN</td>\n      <td>0</td>\n      <td>0</td>\n      <td>881f1a8d9bfffff</td>\n      <td>3.07</td>\n      <td>0.27</td>\n      <td>NaN</td>\n      <td>8.94</td>\n      <td>88.0</td>\n    </tr>\n    <tr>\n      <th>3</th>\n      <td>71955.0</td>\n      <td>51.325316</td>\n      <td>12.373336</td>\n      <td>24</td>\n      <td>2020-01-04 20:39:30</td>\n      <td>2020-01-04 21:03:41</td>\n      <td>NaN</td>\n      <td>0</td>\n      <td>0</td>\n      <td>881f1a1643fffff</td>\n      <td>2.98</td>\n      <td>NaN</td>\n      <td>NaN</td>\n      <td>7.15</td>\n      <td>87.0</td>\n    </tr>\n    <tr>\n      <th>4</th>\n      <td>71955.0</td>\n      <td>51.336462</td>\n      <td>12.374997</td>\n      <td>83</td>\n      <td>2020-01-04 21:09:39</td>\n      <td>2020-01-04 22:32:45</td>\n      <td>NaN</td>\n      <td>0</td>\n      <td>0</td>\n      <td>881f1a8cb5fffff</td>\n      <td>2.85</td>\n      <td>NaN</td>\n      <td>NaN</td>\n      <td>8.94</td>\n      <td>86.0</td>\n    </tr>\n    <tr>\n      <th>...</th>\n      <td>...</td>\n      <td>...</td>\n      <td>...</td>\n      <td>...</td>\n      <td>...</td>\n      <td>...</td>\n      <td>...</td>\n      <td>...</td>\n      <td>...</td>\n      <td>...</td>\n      <td>...</td>\n      <td>...</td>\n      <td>...</td>\n      <td>...</td>\n      <td>...</td>\n    </tr>\n    <tr>\n      <th>883316</th>\n      <td>93544.0</td>\n      <td>51.321160</td>\n      <td>12.269497</td>\n      <td>1439</td>\n      <td>2020-07-21 00:00:00</td>\n      <td>2020-07-21 23:59:59</td>\n      <td>NaN</td>\n      <td>1439</td>\n      <td>1</td>\n      <td>881f1a8debfffff</td>\n      <td>15.89</td>\n      <td>NaN</td>\n      <td>NaN</td>\n      <td>2.24</td>\n      <td>72.0</td>\n    </tr>\n    <tr>\n      <th>883317</th>\n      <td>93544.0</td>\n      <td>51.321160</td>\n      <td>12.269497</td>\n      <td>1439</td>\n      <td>2020-07-22 00:00:00</td>\n      <td>2020-07-22 23:59:59</td>\n      <td>NaN</td>\n      <td>1439</td>\n      <td>1</td>\n      <td>881f1a8debfffff</td>\n      <td>13.39</td>\n      <td>NaN</td>\n      <td>NaN</td>\n      <td>2.10</td>\n      <td>62.0</td>\n    </tr>\n    <tr>\n      <th>883318</th>\n      <td>93544.0</td>\n      <td>51.321160</td>\n      <td>12.269497</td>\n      <td>1439</td>\n      <td>2020-07-23 00:00:00</td>\n      <td>2020-07-23 23:59:59</td>\n      <td>NaN</td>\n      <td>1439</td>\n      <td>1</td>\n      <td>881f1a8debfffff</td>\n      <td>15.08</td>\n      <td>NaN</td>\n      <td>NaN</td>\n      <td>0.89</td>\n      <td>67.0</td>\n    </tr>\n    <tr>\n      <th>883319</th>\n      <td>93544.0</td>\n      <td>51.321160</td>\n      <td>12.269497</td>\n      <td>1439</td>\n      <td>2020-07-24 00:00:00</td>\n      <td>2020-07-24 23:59:59</td>\n      <td>NaN</td>\n      <td>1361</td>\n      <td>1</td>\n      <td>881f1a8debfffff</td>\n      <td>15.34</td>\n      <td>NaN</td>\n      <td>NaN</td>\n      <td>3.58</td>\n      <td>66.0</td>\n    </tr>\n    <tr>\n      <th>883320</th>\n      <td>93544.0</td>\n      <td>51.321160</td>\n      <td>12.269497</td>\n      <td>1361</td>\n      <td>2020-07-25 00:00:00</td>\n      <td>2020-07-25 22:41:47</td>\n      <td>NaN</td>\n      <td>0</td>\n      <td>0</td>\n      <td>881f1a8debfffff</td>\n      <td>16.47</td>\n      <td>NaN</td>\n      <td>NaN</td>\n      <td>1.34</td>\n      <td>77.0</td>\n    </tr>\n  </tbody>\n</table>\n<p>883321 rows × 15 columns</p>\n</div>"
     },
     "execution_count": 22,
     "metadata": {},
     "output_type": "execute_result"
    }
   ],
   "source": [
    "dfw = pd.read_csv('../data/weather_data.csv')\n",
    "dfw['datetime'] = pd.to_datetime(dfw['dt'], unit='s')\n",
    "dfw = dfw.set_index(['datetime'])\n",
    "dfw.head()\n",
    "\n",
    "df_points['temp'] = np.nan\n",
    "df_points['rain'] = np.nan\n",
    "df_points['snow'] = np.nan\n",
    "df_points['wind_speed'] = np.nan\n",
    "df_points['humidity'] = np.nan\n",
    "\n",
    "from tqdm import tqdm\n",
    "pd.options.mode.chained_assignment = None\n",
    "\n",
    "for ind in tqdm(df_points.index):\n",
    "    wint = df_points['time_start'][ind].replace(minute=0,second=0)\n",
    "    df_points['temp'][ind] = dfw['temp'][wint].copy()\n",
    "    df_points['rain'][ind] = dfw['rain_1h'][wint].copy()\n",
    "    df_points['snow'][ind] = dfw['snow_1h'][wint].copy()\n",
    "    df_points['wind_speed'][ind] = dfw['wind_speed'][wint].copy()\n",
    "    df_points['humidity'][ind] = dfw['humidity'][wint].copy()\n",
    "\n",
    "df_points"
   ],
   "metadata": {
    "collapsed": false,
    "pycharm": {
     "name": "#%%\n"
    }
   }
  },
  {
   "cell_type": "markdown",
   "source": [
    "# Fill NaNS"
   ],
   "metadata": {
    "collapsed": false
   }
  },
  {
   "cell_type": "code",
   "execution_count": 23,
   "outputs": [],
   "source": [
    "df_points['rain'] = df_points['rain'].fillna(0)\n",
    "df_points['snow'] = df_points['snow'].fillna(0)\n",
    "df_points['end_station_number'] = df_points['end_station_number'].fillna(0)\n",
    "\n",
    "df_points['wind_speed'] = df_points['wind_speed'].fillna(df_points['wind_speed'].mean())\n",
    "df_points['humidity'] = df_points['humidity'].fillna(df_points['humidity'].mean())\n",
    "df_points = df_points.sort_values(by=['time_start']).reset_index(drop=True)"
   ],
   "metadata": {
    "collapsed": false,
    "pycharm": {
     "name": "#%%\n"
    }
   }
  },
  {
   "cell_type": "markdown",
   "source": [
    "add unix timestamps"
   ],
   "metadata": {
    "collapsed": false
   }
  },
  {
   "cell_type": "code",
   "execution_count": 24,
   "outputs": [],
   "source": [
    "df_points['dt_start'] = pd.to_datetime(df_points['time_start']).map(pd.Timestamp.timestamp).astype(int)\n",
    "df_points['dt_end'] = pd.to_datetime(df_points['time_end']).map(pd.Timestamp.timestamp).astype(int)\n",
    "df_points['bike_id'] = df_points['bike_id'].astype(int)\n",
    "df_points['end_station_number'] = df_points['end_station_number'].astype(int)"
   ],
   "metadata": {
    "collapsed": false,
    "pycharm": {
     "name": "#%%\n"
    }
   }
  },
  {
   "cell_type": "code",
   "execution_count": 25,
   "outputs": [
    {
     "data": {
      "text/plain": "        bike_id        lat        lng  idle_time          time_start  \\\n0         93513  51.317649  12.373610         50 2019-12-31 23:09:34   \n1         74459  51.320440  12.345386         27 2019-12-31 23:32:03   \n2         75845  51.320418  12.345038         27 2019-12-31 23:32:48   \n3        100227  51.339529  12.373269         16 2019-12-31 23:43:30   \n4         73838  51.344711  12.405900         16 2019-12-31 23:43:47   \n...         ...        ...        ...        ...                 ...   \n883316    71996  51.332053  12.403324        130 2020-12-30 20:41:15   \n883317    93372  51.320791  12.405072         52 2020-12-30 20:46:14   \n883318    41797  51.331062  12.390168         24 2020-12-30 20:48:59   \n883319    93645  51.340196  12.402059         88 2020-12-30 21:00:57   \n883320    93440  51.332973  12.404372         37 2020-12-30 22:16:40   \n\n                  time_end  end_station_number  idle_time_next_day  \\\n0      2019-12-31 23:59:59                   0                1439   \n1      2019-12-31 23:59:59                   0                  98   \n2      2019-12-31 23:59:59                   0                  99   \n3      2019-12-31 23:59:59                   0                 133   \n4      2019-12-31 23:59:59                   0                  25   \n...                    ...                 ...                 ...   \n883316 2020-12-30 22:51:54                   0                   0   \n883317 2020-12-30 21:38:59                   0                   0   \n883318 2020-12-30 21:13:09                   0                   0   \n883319 2020-12-30 22:29:07                   0                   0   \n883320 2020-12-30 22:54:28                   0                   0   \n\n        over_night           hex_id  temp  rain  snow  wind_speed  humidity  \\\n0                1  881f1a1647fffff  2.13   0.0   0.0        3.58      90.0   \n1                1  881f1a8d93fffff  2.13   0.0   0.0        3.58      90.0   \n2                1  881f1a8d93fffff  2.13   0.0   0.0        3.58      90.0   \n3                1  881f1a8cb5fffff  2.13   0.0   0.0        3.58      90.0   \n4                1  881f1ab965fffff  2.13   0.0   0.0        3.58      90.0   \n...            ...              ...   ...   ...   ...         ...       ...   \n883316           0  881f1a165bfffff  2.61   0.0   0.0        3.58      82.0   \n883317           0  881f1a1657fffff  2.61   0.0   0.0        3.58      82.0   \n883318           0  881f1a165dfffff  2.61   0.0   0.0        3.58      82.0   \n883319           0  881f1ab965fffff  2.76   0.0   0.0        4.47      82.0   \n883320           0  881f1a165bfffff  2.46   0.0   0.0        4.47      84.0   \n\n          dt_start      dt_end  \n0       1577833774  1577836799  \n1       1577835123  1577836799  \n2       1577835168  1577836799  \n3       1577835810  1577836799  \n4       1577835827  1577836799  \n...            ...         ...  \n883316  1609360875  1609368714  \n883317  1609361174  1609364339  \n883318  1609361339  1609362789  \n883319  1609362057  1609367347  \n883320  1609366600  1609368868  \n\n[883321 rows x 17 columns]",
      "text/html": "<div>\n<style scoped>\n    .dataframe tbody tr th:only-of-type {\n        vertical-align: middle;\n    }\n\n    .dataframe tbody tr th {\n        vertical-align: top;\n    }\n\n    .dataframe thead th {\n        text-align: right;\n    }\n</style>\n<table border=\"1\" class=\"dataframe\">\n  <thead>\n    <tr style=\"text-align: right;\">\n      <th></th>\n      <th>bike_id</th>\n      <th>lat</th>\n      <th>lng</th>\n      <th>idle_time</th>\n      <th>time_start</th>\n      <th>time_end</th>\n      <th>end_station_number</th>\n      <th>idle_time_next_day</th>\n      <th>over_night</th>\n      <th>hex_id</th>\n      <th>temp</th>\n      <th>rain</th>\n      <th>snow</th>\n      <th>wind_speed</th>\n      <th>humidity</th>\n      <th>dt_start</th>\n      <th>dt_end</th>\n    </tr>\n  </thead>\n  <tbody>\n    <tr>\n      <th>0</th>\n      <td>93513</td>\n      <td>51.317649</td>\n      <td>12.373610</td>\n      <td>50</td>\n      <td>2019-12-31 23:09:34</td>\n      <td>2019-12-31 23:59:59</td>\n      <td>0</td>\n      <td>1439</td>\n      <td>1</td>\n      <td>881f1a1647fffff</td>\n      <td>2.13</td>\n      <td>0.0</td>\n      <td>0.0</td>\n      <td>3.58</td>\n      <td>90.0</td>\n      <td>1577833774</td>\n      <td>1577836799</td>\n    </tr>\n    <tr>\n      <th>1</th>\n      <td>74459</td>\n      <td>51.320440</td>\n      <td>12.345386</td>\n      <td>27</td>\n      <td>2019-12-31 23:32:03</td>\n      <td>2019-12-31 23:59:59</td>\n      <td>0</td>\n      <td>98</td>\n      <td>1</td>\n      <td>881f1a8d93fffff</td>\n      <td>2.13</td>\n      <td>0.0</td>\n      <td>0.0</td>\n      <td>3.58</td>\n      <td>90.0</td>\n      <td>1577835123</td>\n      <td>1577836799</td>\n    </tr>\n    <tr>\n      <th>2</th>\n      <td>75845</td>\n      <td>51.320418</td>\n      <td>12.345038</td>\n      <td>27</td>\n      <td>2019-12-31 23:32:48</td>\n      <td>2019-12-31 23:59:59</td>\n      <td>0</td>\n      <td>99</td>\n      <td>1</td>\n      <td>881f1a8d93fffff</td>\n      <td>2.13</td>\n      <td>0.0</td>\n      <td>0.0</td>\n      <td>3.58</td>\n      <td>90.0</td>\n      <td>1577835168</td>\n      <td>1577836799</td>\n    </tr>\n    <tr>\n      <th>3</th>\n      <td>100227</td>\n      <td>51.339529</td>\n      <td>12.373269</td>\n      <td>16</td>\n      <td>2019-12-31 23:43:30</td>\n      <td>2019-12-31 23:59:59</td>\n      <td>0</td>\n      <td>133</td>\n      <td>1</td>\n      <td>881f1a8cb5fffff</td>\n      <td>2.13</td>\n      <td>0.0</td>\n      <td>0.0</td>\n      <td>3.58</td>\n      <td>90.0</td>\n      <td>1577835810</td>\n      <td>1577836799</td>\n    </tr>\n    <tr>\n      <th>4</th>\n      <td>73838</td>\n      <td>51.344711</td>\n      <td>12.405900</td>\n      <td>16</td>\n      <td>2019-12-31 23:43:47</td>\n      <td>2019-12-31 23:59:59</td>\n      <td>0</td>\n      <td>25</td>\n      <td>1</td>\n      <td>881f1ab965fffff</td>\n      <td>2.13</td>\n      <td>0.0</td>\n      <td>0.0</td>\n      <td>3.58</td>\n      <td>90.0</td>\n      <td>1577835827</td>\n      <td>1577836799</td>\n    </tr>\n    <tr>\n      <th>...</th>\n      <td>...</td>\n      <td>...</td>\n      <td>...</td>\n      <td>...</td>\n      <td>...</td>\n      <td>...</td>\n      <td>...</td>\n      <td>...</td>\n      <td>...</td>\n      <td>...</td>\n      <td>...</td>\n      <td>...</td>\n      <td>...</td>\n      <td>...</td>\n      <td>...</td>\n      <td>...</td>\n      <td>...</td>\n    </tr>\n    <tr>\n      <th>883316</th>\n      <td>71996</td>\n      <td>51.332053</td>\n      <td>12.403324</td>\n      <td>130</td>\n      <td>2020-12-30 20:41:15</td>\n      <td>2020-12-30 22:51:54</td>\n      <td>0</td>\n      <td>0</td>\n      <td>0</td>\n      <td>881f1a165bfffff</td>\n      <td>2.61</td>\n      <td>0.0</td>\n      <td>0.0</td>\n      <td>3.58</td>\n      <td>82.0</td>\n      <td>1609360875</td>\n      <td>1609368714</td>\n    </tr>\n    <tr>\n      <th>883317</th>\n      <td>93372</td>\n      <td>51.320791</td>\n      <td>12.405072</td>\n      <td>52</td>\n      <td>2020-12-30 20:46:14</td>\n      <td>2020-12-30 21:38:59</td>\n      <td>0</td>\n      <td>0</td>\n      <td>0</td>\n      <td>881f1a1657fffff</td>\n      <td>2.61</td>\n      <td>0.0</td>\n      <td>0.0</td>\n      <td>3.58</td>\n      <td>82.0</td>\n      <td>1609361174</td>\n      <td>1609364339</td>\n    </tr>\n    <tr>\n      <th>883318</th>\n      <td>41797</td>\n      <td>51.331062</td>\n      <td>12.390168</td>\n      <td>24</td>\n      <td>2020-12-30 20:48:59</td>\n      <td>2020-12-30 21:13:09</td>\n      <td>0</td>\n      <td>0</td>\n      <td>0</td>\n      <td>881f1a165dfffff</td>\n      <td>2.61</td>\n      <td>0.0</td>\n      <td>0.0</td>\n      <td>3.58</td>\n      <td>82.0</td>\n      <td>1609361339</td>\n      <td>1609362789</td>\n    </tr>\n    <tr>\n      <th>883319</th>\n      <td>93645</td>\n      <td>51.340196</td>\n      <td>12.402059</td>\n      <td>88</td>\n      <td>2020-12-30 21:00:57</td>\n      <td>2020-12-30 22:29:07</td>\n      <td>0</td>\n      <td>0</td>\n      <td>0</td>\n      <td>881f1ab965fffff</td>\n      <td>2.76</td>\n      <td>0.0</td>\n      <td>0.0</td>\n      <td>4.47</td>\n      <td>82.0</td>\n      <td>1609362057</td>\n      <td>1609367347</td>\n    </tr>\n    <tr>\n      <th>883320</th>\n      <td>93440</td>\n      <td>51.332973</td>\n      <td>12.404372</td>\n      <td>37</td>\n      <td>2020-12-30 22:16:40</td>\n      <td>2020-12-30 22:54:28</td>\n      <td>0</td>\n      <td>0</td>\n      <td>0</td>\n      <td>881f1a165bfffff</td>\n      <td>2.46</td>\n      <td>0.0</td>\n      <td>0.0</td>\n      <td>4.47</td>\n      <td>84.0</td>\n      <td>1609366600</td>\n      <td>1609368868</td>\n    </tr>\n  </tbody>\n</table>\n<p>883321 rows × 17 columns</p>\n</div>"
     },
     "execution_count": 25,
     "metadata": {},
     "output_type": "execute_result"
    }
   ],
   "source": [
    "df_points\n"
   ],
   "metadata": {
    "collapsed": false,
    "pycharm": {
     "name": "#%%\n"
    }
   }
  },
  {
   "cell_type": "markdown",
   "source": [
    "# Add start time Feature"
   ],
   "metadata": {
    "collapsed": false
   }
  },
  {
   "cell_type": "code",
   "execution_count": 26,
   "outputs": [],
   "source": [
    "def add_start_min_feature(row):\n",
    "    return ((row['dt_start'] % 86400) / 60).__round__(0)\n",
    "\n",
    "df_points['start_min'] = df_points.apply(add_start_min_feature,axis=1)\n",
    "df_points['start_min'] = df_points['start_min'].astype(int)"
   ],
   "metadata": {
    "collapsed": false,
    "pycharm": {
     "name": "#%%\n"
    }
   }
  },
  {
   "cell_type": "code",
   "execution_count": 27,
   "outputs": [
    {
     "data": {
      "text/plain": "        bike_id        lat        lng  idle_time          time_start  \\\n0         93513  51.317649  12.373610         50 2019-12-31 23:09:34   \n1         74459  51.320440  12.345386         27 2019-12-31 23:32:03   \n2         75845  51.320418  12.345038         27 2019-12-31 23:32:48   \n3        100227  51.339529  12.373269         16 2019-12-31 23:43:30   \n4         73838  51.344711  12.405900         16 2019-12-31 23:43:47   \n...         ...        ...        ...        ...                 ...   \n883316    71996  51.332053  12.403324        130 2020-12-30 20:41:15   \n883317    93372  51.320791  12.405072         52 2020-12-30 20:46:14   \n883318    41797  51.331062  12.390168         24 2020-12-30 20:48:59   \n883319    93645  51.340196  12.402059         88 2020-12-30 21:00:57   \n883320    93440  51.332973  12.404372         37 2020-12-30 22:16:40   \n\n                  time_end  end_station_number  idle_time_next_day  \\\n0      2019-12-31 23:59:59                   0                1439   \n1      2019-12-31 23:59:59                   0                  98   \n2      2019-12-31 23:59:59                   0                  99   \n3      2019-12-31 23:59:59                   0                 133   \n4      2019-12-31 23:59:59                   0                  25   \n...                    ...                 ...                 ...   \n883316 2020-12-30 22:51:54                   0                   0   \n883317 2020-12-30 21:38:59                   0                   0   \n883318 2020-12-30 21:13:09                   0                   0   \n883319 2020-12-30 22:29:07                   0                   0   \n883320 2020-12-30 22:54:28                   0                   0   \n\n        over_night           hex_id  temp  rain  snow  wind_speed  humidity  \\\n0                1  881f1a1647fffff  2.13   0.0   0.0        3.58      90.0   \n1                1  881f1a8d93fffff  2.13   0.0   0.0        3.58      90.0   \n2                1  881f1a8d93fffff  2.13   0.0   0.0        3.58      90.0   \n3                1  881f1a8cb5fffff  2.13   0.0   0.0        3.58      90.0   \n4                1  881f1ab965fffff  2.13   0.0   0.0        3.58      90.0   \n...            ...              ...   ...   ...   ...         ...       ...   \n883316           0  881f1a165bfffff  2.61   0.0   0.0        3.58      82.0   \n883317           0  881f1a1657fffff  2.61   0.0   0.0        3.58      82.0   \n883318           0  881f1a165dfffff  2.61   0.0   0.0        3.58      82.0   \n883319           0  881f1ab965fffff  2.76   0.0   0.0        4.47      82.0   \n883320           0  881f1a165bfffff  2.46   0.0   0.0        4.47      84.0   \n\n          dt_start      dt_end  start_min  \n0       1577833774  1577836799       1390  \n1       1577835123  1577836799       1412  \n2       1577835168  1577836799       1413  \n3       1577835810  1577836799       1424  \n4       1577835827  1577836799       1424  \n...            ...         ...        ...  \n883316  1609360875  1609368714       1241  \n883317  1609361174  1609364339       1246  \n883318  1609361339  1609362789       1249  \n883319  1609362057  1609367347       1261  \n883320  1609366600  1609368868       1337  \n\n[883321 rows x 18 columns]",
      "text/html": "<div>\n<style scoped>\n    .dataframe tbody tr th:only-of-type {\n        vertical-align: middle;\n    }\n\n    .dataframe tbody tr th {\n        vertical-align: top;\n    }\n\n    .dataframe thead th {\n        text-align: right;\n    }\n</style>\n<table border=\"1\" class=\"dataframe\">\n  <thead>\n    <tr style=\"text-align: right;\">\n      <th></th>\n      <th>bike_id</th>\n      <th>lat</th>\n      <th>lng</th>\n      <th>idle_time</th>\n      <th>time_start</th>\n      <th>time_end</th>\n      <th>end_station_number</th>\n      <th>idle_time_next_day</th>\n      <th>over_night</th>\n      <th>hex_id</th>\n      <th>temp</th>\n      <th>rain</th>\n      <th>snow</th>\n      <th>wind_speed</th>\n      <th>humidity</th>\n      <th>dt_start</th>\n      <th>dt_end</th>\n      <th>start_min</th>\n    </tr>\n  </thead>\n  <tbody>\n    <tr>\n      <th>0</th>\n      <td>93513</td>\n      <td>51.317649</td>\n      <td>12.373610</td>\n      <td>50</td>\n      <td>2019-12-31 23:09:34</td>\n      <td>2019-12-31 23:59:59</td>\n      <td>0</td>\n      <td>1439</td>\n      <td>1</td>\n      <td>881f1a1647fffff</td>\n      <td>2.13</td>\n      <td>0.0</td>\n      <td>0.0</td>\n      <td>3.58</td>\n      <td>90.0</td>\n      <td>1577833774</td>\n      <td>1577836799</td>\n      <td>1390</td>\n    </tr>\n    <tr>\n      <th>1</th>\n      <td>74459</td>\n      <td>51.320440</td>\n      <td>12.345386</td>\n      <td>27</td>\n      <td>2019-12-31 23:32:03</td>\n      <td>2019-12-31 23:59:59</td>\n      <td>0</td>\n      <td>98</td>\n      <td>1</td>\n      <td>881f1a8d93fffff</td>\n      <td>2.13</td>\n      <td>0.0</td>\n      <td>0.0</td>\n      <td>3.58</td>\n      <td>90.0</td>\n      <td>1577835123</td>\n      <td>1577836799</td>\n      <td>1412</td>\n    </tr>\n    <tr>\n      <th>2</th>\n      <td>75845</td>\n      <td>51.320418</td>\n      <td>12.345038</td>\n      <td>27</td>\n      <td>2019-12-31 23:32:48</td>\n      <td>2019-12-31 23:59:59</td>\n      <td>0</td>\n      <td>99</td>\n      <td>1</td>\n      <td>881f1a8d93fffff</td>\n      <td>2.13</td>\n      <td>0.0</td>\n      <td>0.0</td>\n      <td>3.58</td>\n      <td>90.0</td>\n      <td>1577835168</td>\n      <td>1577836799</td>\n      <td>1413</td>\n    </tr>\n    <tr>\n      <th>3</th>\n      <td>100227</td>\n      <td>51.339529</td>\n      <td>12.373269</td>\n      <td>16</td>\n      <td>2019-12-31 23:43:30</td>\n      <td>2019-12-31 23:59:59</td>\n      <td>0</td>\n      <td>133</td>\n      <td>1</td>\n      <td>881f1a8cb5fffff</td>\n      <td>2.13</td>\n      <td>0.0</td>\n      <td>0.0</td>\n      <td>3.58</td>\n      <td>90.0</td>\n      <td>1577835810</td>\n      <td>1577836799</td>\n      <td>1424</td>\n    </tr>\n    <tr>\n      <th>4</th>\n      <td>73838</td>\n      <td>51.344711</td>\n      <td>12.405900</td>\n      <td>16</td>\n      <td>2019-12-31 23:43:47</td>\n      <td>2019-12-31 23:59:59</td>\n      <td>0</td>\n      <td>25</td>\n      <td>1</td>\n      <td>881f1ab965fffff</td>\n      <td>2.13</td>\n      <td>0.0</td>\n      <td>0.0</td>\n      <td>3.58</td>\n      <td>90.0</td>\n      <td>1577835827</td>\n      <td>1577836799</td>\n      <td>1424</td>\n    </tr>\n    <tr>\n      <th>...</th>\n      <td>...</td>\n      <td>...</td>\n      <td>...</td>\n      <td>...</td>\n      <td>...</td>\n      <td>...</td>\n      <td>...</td>\n      <td>...</td>\n      <td>...</td>\n      <td>...</td>\n      <td>...</td>\n      <td>...</td>\n      <td>...</td>\n      <td>...</td>\n      <td>...</td>\n      <td>...</td>\n      <td>...</td>\n      <td>...</td>\n    </tr>\n    <tr>\n      <th>883316</th>\n      <td>71996</td>\n      <td>51.332053</td>\n      <td>12.403324</td>\n      <td>130</td>\n      <td>2020-12-30 20:41:15</td>\n      <td>2020-12-30 22:51:54</td>\n      <td>0</td>\n      <td>0</td>\n      <td>0</td>\n      <td>881f1a165bfffff</td>\n      <td>2.61</td>\n      <td>0.0</td>\n      <td>0.0</td>\n      <td>3.58</td>\n      <td>82.0</td>\n      <td>1609360875</td>\n      <td>1609368714</td>\n      <td>1241</td>\n    </tr>\n    <tr>\n      <th>883317</th>\n      <td>93372</td>\n      <td>51.320791</td>\n      <td>12.405072</td>\n      <td>52</td>\n      <td>2020-12-30 20:46:14</td>\n      <td>2020-12-30 21:38:59</td>\n      <td>0</td>\n      <td>0</td>\n      <td>0</td>\n      <td>881f1a1657fffff</td>\n      <td>2.61</td>\n      <td>0.0</td>\n      <td>0.0</td>\n      <td>3.58</td>\n      <td>82.0</td>\n      <td>1609361174</td>\n      <td>1609364339</td>\n      <td>1246</td>\n    </tr>\n    <tr>\n      <th>883318</th>\n      <td>41797</td>\n      <td>51.331062</td>\n      <td>12.390168</td>\n      <td>24</td>\n      <td>2020-12-30 20:48:59</td>\n      <td>2020-12-30 21:13:09</td>\n      <td>0</td>\n      <td>0</td>\n      <td>0</td>\n      <td>881f1a165dfffff</td>\n      <td>2.61</td>\n      <td>0.0</td>\n      <td>0.0</td>\n      <td>3.58</td>\n      <td>82.0</td>\n      <td>1609361339</td>\n      <td>1609362789</td>\n      <td>1249</td>\n    </tr>\n    <tr>\n      <th>883319</th>\n      <td>93645</td>\n      <td>51.340196</td>\n      <td>12.402059</td>\n      <td>88</td>\n      <td>2020-12-30 21:00:57</td>\n      <td>2020-12-30 22:29:07</td>\n      <td>0</td>\n      <td>0</td>\n      <td>0</td>\n      <td>881f1ab965fffff</td>\n      <td>2.76</td>\n      <td>0.0</td>\n      <td>0.0</td>\n      <td>4.47</td>\n      <td>82.0</td>\n      <td>1609362057</td>\n      <td>1609367347</td>\n      <td>1261</td>\n    </tr>\n    <tr>\n      <th>883320</th>\n      <td>93440</td>\n      <td>51.332973</td>\n      <td>12.404372</td>\n      <td>37</td>\n      <td>2020-12-30 22:16:40</td>\n      <td>2020-12-30 22:54:28</td>\n      <td>0</td>\n      <td>0</td>\n      <td>0</td>\n      <td>881f1a165bfffff</td>\n      <td>2.46</td>\n      <td>0.0</td>\n      <td>0.0</td>\n      <td>4.47</td>\n      <td>84.0</td>\n      <td>1609366600</td>\n      <td>1609368868</td>\n      <td>1337</td>\n    </tr>\n  </tbody>\n</table>\n<p>883321 rows × 18 columns</p>\n</div>"
     },
     "execution_count": 27,
     "metadata": {},
     "output_type": "execute_result"
    }
   ],
   "source": [
    "df_points"
   ],
   "metadata": {
    "collapsed": false,
    "pycharm": {
     "name": "#%%\n"
    }
   }
  },
  {
   "cell_type": "markdown",
   "source": [
    "# Add day Feature"
   ],
   "metadata": {
    "collapsed": false,
    "pycharm": {
     "name": "#%% md\n"
    }
   }
  },
  {
   "cell_type": "code",
   "execution_count": 28,
   "outputs": [
    {
     "data": {
      "text/plain": "bike_id                        int64\nlat                          float64\nlng                          float64\nidle_time                      int64\ntime_start            datetime64[ns]\ntime_end              datetime64[ns]\nend_station_number             int64\nidle_time_next_day             int64\nover_night                     int64\nhex_id                        object\ntemp                         float64\nrain                         float64\nsnow                         float64\nwind_speed                   float64\nhumidity                     float64\ndt_start                       int64\ndt_end                         int64\nstart_min                      int64\ndtype: object"
     },
     "execution_count": 28,
     "metadata": {},
     "output_type": "execute_result"
    }
   ],
   "source": [
    "df_points.dtypes"
   ],
   "metadata": {
    "collapsed": false,
    "pycharm": {
     "name": "#%%\n"
    }
   }
  },
  {
   "cell_type": "code",
   "execution_count": 29,
   "outputs": [],
   "source": [
    "def add_day_feature(row):\n",
    "    return row['time_start'].dayofweek\n",
    "\n",
    "df_points['day'] = df_points.apply(add_day_feature,axis=1)"
   ],
   "metadata": {
    "collapsed": false,
    "pycharm": {
     "name": "#%%\n"
    }
   }
  },
  {
   "cell_type": "code",
   "execution_count": 30,
   "outputs": [
    {
     "data": {
      "text/plain": "        bike_id        lat        lng  idle_time          time_start  \\\n0         93513  51.317649  12.373610         50 2019-12-31 23:09:34   \n1         74459  51.320440  12.345386         27 2019-12-31 23:32:03   \n2         75845  51.320418  12.345038         27 2019-12-31 23:32:48   \n3        100227  51.339529  12.373269         16 2019-12-31 23:43:30   \n4         73838  51.344711  12.405900         16 2019-12-31 23:43:47   \n...         ...        ...        ...        ...                 ...   \n883316    71996  51.332053  12.403324        130 2020-12-30 20:41:15   \n883317    93372  51.320791  12.405072         52 2020-12-30 20:46:14   \n883318    41797  51.331062  12.390168         24 2020-12-30 20:48:59   \n883319    93645  51.340196  12.402059         88 2020-12-30 21:00:57   \n883320    93440  51.332973  12.404372         37 2020-12-30 22:16:40   \n\n                  time_end  end_station_number  idle_time_next_day  \\\n0      2019-12-31 23:59:59                   0                1439   \n1      2019-12-31 23:59:59                   0                  98   \n2      2019-12-31 23:59:59                   0                  99   \n3      2019-12-31 23:59:59                   0                 133   \n4      2019-12-31 23:59:59                   0                  25   \n...                    ...                 ...                 ...   \n883316 2020-12-30 22:51:54                   0                   0   \n883317 2020-12-30 21:38:59                   0                   0   \n883318 2020-12-30 21:13:09                   0                   0   \n883319 2020-12-30 22:29:07                   0                   0   \n883320 2020-12-30 22:54:28                   0                   0   \n\n        over_night           hex_id  temp  rain  snow  wind_speed  humidity  \\\n0                1  881f1a1647fffff  2.13   0.0   0.0        3.58      90.0   \n1                1  881f1a8d93fffff  2.13   0.0   0.0        3.58      90.0   \n2                1  881f1a8d93fffff  2.13   0.0   0.0        3.58      90.0   \n3                1  881f1a8cb5fffff  2.13   0.0   0.0        3.58      90.0   \n4                1  881f1ab965fffff  2.13   0.0   0.0        3.58      90.0   \n...            ...              ...   ...   ...   ...         ...       ...   \n883316           0  881f1a165bfffff  2.61   0.0   0.0        3.58      82.0   \n883317           0  881f1a1657fffff  2.61   0.0   0.0        3.58      82.0   \n883318           0  881f1a165dfffff  2.61   0.0   0.0        3.58      82.0   \n883319           0  881f1ab965fffff  2.76   0.0   0.0        4.47      82.0   \n883320           0  881f1a165bfffff  2.46   0.0   0.0        4.47      84.0   \n\n          dt_start      dt_end  start_min  day  \n0       1577833774  1577836799       1390    1  \n1       1577835123  1577836799       1412    1  \n2       1577835168  1577836799       1413    1  \n3       1577835810  1577836799       1424    1  \n4       1577835827  1577836799       1424    1  \n...            ...         ...        ...  ...  \n883316  1609360875  1609368714       1241    2  \n883317  1609361174  1609364339       1246    2  \n883318  1609361339  1609362789       1249    2  \n883319  1609362057  1609367347       1261    2  \n883320  1609366600  1609368868       1337    2  \n\n[883321 rows x 19 columns]",
      "text/html": "<div>\n<style scoped>\n    .dataframe tbody tr th:only-of-type {\n        vertical-align: middle;\n    }\n\n    .dataframe tbody tr th {\n        vertical-align: top;\n    }\n\n    .dataframe thead th {\n        text-align: right;\n    }\n</style>\n<table border=\"1\" class=\"dataframe\">\n  <thead>\n    <tr style=\"text-align: right;\">\n      <th></th>\n      <th>bike_id</th>\n      <th>lat</th>\n      <th>lng</th>\n      <th>idle_time</th>\n      <th>time_start</th>\n      <th>time_end</th>\n      <th>end_station_number</th>\n      <th>idle_time_next_day</th>\n      <th>over_night</th>\n      <th>hex_id</th>\n      <th>temp</th>\n      <th>rain</th>\n      <th>snow</th>\n      <th>wind_speed</th>\n      <th>humidity</th>\n      <th>dt_start</th>\n      <th>dt_end</th>\n      <th>start_min</th>\n      <th>day</th>\n    </tr>\n  </thead>\n  <tbody>\n    <tr>\n      <th>0</th>\n      <td>93513</td>\n      <td>51.317649</td>\n      <td>12.373610</td>\n      <td>50</td>\n      <td>2019-12-31 23:09:34</td>\n      <td>2019-12-31 23:59:59</td>\n      <td>0</td>\n      <td>1439</td>\n      <td>1</td>\n      <td>881f1a1647fffff</td>\n      <td>2.13</td>\n      <td>0.0</td>\n      <td>0.0</td>\n      <td>3.58</td>\n      <td>90.0</td>\n      <td>1577833774</td>\n      <td>1577836799</td>\n      <td>1390</td>\n      <td>1</td>\n    </tr>\n    <tr>\n      <th>1</th>\n      <td>74459</td>\n      <td>51.320440</td>\n      <td>12.345386</td>\n      <td>27</td>\n      <td>2019-12-31 23:32:03</td>\n      <td>2019-12-31 23:59:59</td>\n      <td>0</td>\n      <td>98</td>\n      <td>1</td>\n      <td>881f1a8d93fffff</td>\n      <td>2.13</td>\n      <td>0.0</td>\n      <td>0.0</td>\n      <td>3.58</td>\n      <td>90.0</td>\n      <td>1577835123</td>\n      <td>1577836799</td>\n      <td>1412</td>\n      <td>1</td>\n    </tr>\n    <tr>\n      <th>2</th>\n      <td>75845</td>\n      <td>51.320418</td>\n      <td>12.345038</td>\n      <td>27</td>\n      <td>2019-12-31 23:32:48</td>\n      <td>2019-12-31 23:59:59</td>\n      <td>0</td>\n      <td>99</td>\n      <td>1</td>\n      <td>881f1a8d93fffff</td>\n      <td>2.13</td>\n      <td>0.0</td>\n      <td>0.0</td>\n      <td>3.58</td>\n      <td>90.0</td>\n      <td>1577835168</td>\n      <td>1577836799</td>\n      <td>1413</td>\n      <td>1</td>\n    </tr>\n    <tr>\n      <th>3</th>\n      <td>100227</td>\n      <td>51.339529</td>\n      <td>12.373269</td>\n      <td>16</td>\n      <td>2019-12-31 23:43:30</td>\n      <td>2019-12-31 23:59:59</td>\n      <td>0</td>\n      <td>133</td>\n      <td>1</td>\n      <td>881f1a8cb5fffff</td>\n      <td>2.13</td>\n      <td>0.0</td>\n      <td>0.0</td>\n      <td>3.58</td>\n      <td>90.0</td>\n      <td>1577835810</td>\n      <td>1577836799</td>\n      <td>1424</td>\n      <td>1</td>\n    </tr>\n    <tr>\n      <th>4</th>\n      <td>73838</td>\n      <td>51.344711</td>\n      <td>12.405900</td>\n      <td>16</td>\n      <td>2019-12-31 23:43:47</td>\n      <td>2019-12-31 23:59:59</td>\n      <td>0</td>\n      <td>25</td>\n      <td>1</td>\n      <td>881f1ab965fffff</td>\n      <td>2.13</td>\n      <td>0.0</td>\n      <td>0.0</td>\n      <td>3.58</td>\n      <td>90.0</td>\n      <td>1577835827</td>\n      <td>1577836799</td>\n      <td>1424</td>\n      <td>1</td>\n    </tr>\n    <tr>\n      <th>...</th>\n      <td>...</td>\n      <td>...</td>\n      <td>...</td>\n      <td>...</td>\n      <td>...</td>\n      <td>...</td>\n      <td>...</td>\n      <td>...</td>\n      <td>...</td>\n      <td>...</td>\n      <td>...</td>\n      <td>...</td>\n      <td>...</td>\n      <td>...</td>\n      <td>...</td>\n      <td>...</td>\n      <td>...</td>\n      <td>...</td>\n      <td>...</td>\n    </tr>\n    <tr>\n      <th>883316</th>\n      <td>71996</td>\n      <td>51.332053</td>\n      <td>12.403324</td>\n      <td>130</td>\n      <td>2020-12-30 20:41:15</td>\n      <td>2020-12-30 22:51:54</td>\n      <td>0</td>\n      <td>0</td>\n      <td>0</td>\n      <td>881f1a165bfffff</td>\n      <td>2.61</td>\n      <td>0.0</td>\n      <td>0.0</td>\n      <td>3.58</td>\n      <td>82.0</td>\n      <td>1609360875</td>\n      <td>1609368714</td>\n      <td>1241</td>\n      <td>2</td>\n    </tr>\n    <tr>\n      <th>883317</th>\n      <td>93372</td>\n      <td>51.320791</td>\n      <td>12.405072</td>\n      <td>52</td>\n      <td>2020-12-30 20:46:14</td>\n      <td>2020-12-30 21:38:59</td>\n      <td>0</td>\n      <td>0</td>\n      <td>0</td>\n      <td>881f1a1657fffff</td>\n      <td>2.61</td>\n      <td>0.0</td>\n      <td>0.0</td>\n      <td>3.58</td>\n      <td>82.0</td>\n      <td>1609361174</td>\n      <td>1609364339</td>\n      <td>1246</td>\n      <td>2</td>\n    </tr>\n    <tr>\n      <th>883318</th>\n      <td>41797</td>\n      <td>51.331062</td>\n      <td>12.390168</td>\n      <td>24</td>\n      <td>2020-12-30 20:48:59</td>\n      <td>2020-12-30 21:13:09</td>\n      <td>0</td>\n      <td>0</td>\n      <td>0</td>\n      <td>881f1a165dfffff</td>\n      <td>2.61</td>\n      <td>0.0</td>\n      <td>0.0</td>\n      <td>3.58</td>\n      <td>82.0</td>\n      <td>1609361339</td>\n      <td>1609362789</td>\n      <td>1249</td>\n      <td>2</td>\n    </tr>\n    <tr>\n      <th>883319</th>\n      <td>93645</td>\n      <td>51.340196</td>\n      <td>12.402059</td>\n      <td>88</td>\n      <td>2020-12-30 21:00:57</td>\n      <td>2020-12-30 22:29:07</td>\n      <td>0</td>\n      <td>0</td>\n      <td>0</td>\n      <td>881f1ab965fffff</td>\n      <td>2.76</td>\n      <td>0.0</td>\n      <td>0.0</td>\n      <td>4.47</td>\n      <td>82.0</td>\n      <td>1609362057</td>\n      <td>1609367347</td>\n      <td>1261</td>\n      <td>2</td>\n    </tr>\n    <tr>\n      <th>883320</th>\n      <td>93440</td>\n      <td>51.332973</td>\n      <td>12.404372</td>\n      <td>37</td>\n      <td>2020-12-30 22:16:40</td>\n      <td>2020-12-30 22:54:28</td>\n      <td>0</td>\n      <td>0</td>\n      <td>0</td>\n      <td>881f1a165bfffff</td>\n      <td>2.46</td>\n      <td>0.0</td>\n      <td>0.0</td>\n      <td>4.47</td>\n      <td>84.0</td>\n      <td>1609366600</td>\n      <td>1609368868</td>\n      <td>1337</td>\n      <td>2</td>\n    </tr>\n  </tbody>\n</table>\n<p>883321 rows × 19 columns</p>\n</div>"
     },
     "execution_count": 30,
     "metadata": {},
     "output_type": "execute_result"
    }
   ],
   "source": [
    "df_points"
   ],
   "metadata": {
    "collapsed": false,
    "pycharm": {
     "name": "#%%\n"
    }
   }
  },
  {
   "cell_type": "markdown",
   "source": [
    "# Add month feature"
   ],
   "metadata": {
    "collapsed": false
   }
  },
  {
   "cell_type": "code",
   "execution_count": 31,
   "outputs": [],
   "source": [
    "def add_month_feature(row):\n",
    "    return row['time_start'].strftime(\"%m\")\n",
    "\n",
    "df_points['month'] = df_points.apply(add_month_feature,axis=1)"
   ],
   "metadata": {
    "collapsed": false,
    "pycharm": {
     "name": "#%%\n"
    }
   }
  },
  {
   "cell_type": "code",
   "execution_count": 32,
   "outputs": [],
   "source": [
    "#del df_points['time_start']\n",
    "#del df_points['time_end']"
   ],
   "metadata": {
    "collapsed": false,
    "pycharm": {
     "name": "#%%\n"
    }
   }
  },
  {
   "cell_type": "markdown",
   "source": [
    "Encode Hex_id"
   ],
   "metadata": {
    "collapsed": false
   }
  },
  {
   "cell_type": "markdown",
   "source": [
    "from sklearn import preprocessing\n",
    "\n",
    "label_encoder = preprocessing.LabelEncoder()\n",
    "df_points['hex_enc']= label_encoder.fit_transform(df_points['hex_id'])"
   ],
   "metadata": {
    "collapsed": false,
    "pycharm": {
     "name": "#%% md\n"
    }
   }
  },
  {
   "cell_type": "markdown",
   "source": [
    "Sort DF"
   ],
   "metadata": {
    "collapsed": false
   }
  },
  {
   "cell_type": "code",
   "execution_count": 33,
   "outputs": [
    {
     "data": {
      "text/plain": "        bike_id        lat        lng  idle_time          time_start  \\\n0         93513  51.317649  12.373610         50 2019-12-31 23:09:34   \n1         74459  51.320440  12.345386         27 2019-12-31 23:32:03   \n2         75845  51.320418  12.345038         27 2019-12-31 23:32:48   \n3        100227  51.339529  12.373269         16 2019-12-31 23:43:30   \n4         73838  51.344711  12.405900         16 2019-12-31 23:43:47   \n...         ...        ...        ...        ...                 ...   \n883316    71996  51.332053  12.403324        130 2020-12-30 20:41:15   \n883317    93372  51.320791  12.405072         52 2020-12-30 20:46:14   \n883318    41797  51.331062  12.390168         24 2020-12-30 20:48:59   \n883319    93645  51.340196  12.402059         88 2020-12-30 21:00:57   \n883320    93440  51.332973  12.404372         37 2020-12-30 22:16:40   \n\n                  time_end  end_station_number  idle_time_next_day  \\\n0      2019-12-31 23:59:59                   0                1439   \n1      2019-12-31 23:59:59                   0                  98   \n2      2019-12-31 23:59:59                   0                  99   \n3      2019-12-31 23:59:59                   0                 133   \n4      2019-12-31 23:59:59                   0                  25   \n...                    ...                 ...                 ...   \n883316 2020-12-30 22:51:54                   0                   0   \n883317 2020-12-30 21:38:59                   0                   0   \n883318 2020-12-30 21:13:09                   0                   0   \n883319 2020-12-30 22:29:07                   0                   0   \n883320 2020-12-30 22:54:28                   0                   0   \n\n        over_night           hex_id  temp  rain  snow  wind_speed  humidity  \\\n0                1  881f1a1647fffff  2.13   0.0   0.0        3.58      90.0   \n1                1  881f1a8d93fffff  2.13   0.0   0.0        3.58      90.0   \n2                1  881f1a8d93fffff  2.13   0.0   0.0        3.58      90.0   \n3                1  881f1a8cb5fffff  2.13   0.0   0.0        3.58      90.0   \n4                1  881f1ab965fffff  2.13   0.0   0.0        3.58      90.0   \n...            ...              ...   ...   ...   ...         ...       ...   \n883316           0  881f1a165bfffff  2.61   0.0   0.0        3.58      82.0   \n883317           0  881f1a1657fffff  2.61   0.0   0.0        3.58      82.0   \n883318           0  881f1a165dfffff  2.61   0.0   0.0        3.58      82.0   \n883319           0  881f1ab965fffff  2.76   0.0   0.0        4.47      82.0   \n883320           0  881f1a165bfffff  2.46   0.0   0.0        4.47      84.0   \n\n          dt_start      dt_end  start_min  day month  \n0       1577833774  1577836799       1390    1    12  \n1       1577835123  1577836799       1412    1    12  \n2       1577835168  1577836799       1413    1    12  \n3       1577835810  1577836799       1424    1    12  \n4       1577835827  1577836799       1424    1    12  \n...            ...         ...        ...  ...   ...  \n883316  1609360875  1609368714       1241    2    12  \n883317  1609361174  1609364339       1246    2    12  \n883318  1609361339  1609362789       1249    2    12  \n883319  1609362057  1609367347       1261    2    12  \n883320  1609366600  1609368868       1337    2    12  \n\n[883321 rows x 20 columns]",
      "text/html": "<div>\n<style scoped>\n    .dataframe tbody tr th:only-of-type {\n        vertical-align: middle;\n    }\n\n    .dataframe tbody tr th {\n        vertical-align: top;\n    }\n\n    .dataframe thead th {\n        text-align: right;\n    }\n</style>\n<table border=\"1\" class=\"dataframe\">\n  <thead>\n    <tr style=\"text-align: right;\">\n      <th></th>\n      <th>bike_id</th>\n      <th>lat</th>\n      <th>lng</th>\n      <th>idle_time</th>\n      <th>time_start</th>\n      <th>time_end</th>\n      <th>end_station_number</th>\n      <th>idle_time_next_day</th>\n      <th>over_night</th>\n      <th>hex_id</th>\n      <th>temp</th>\n      <th>rain</th>\n      <th>snow</th>\n      <th>wind_speed</th>\n      <th>humidity</th>\n      <th>dt_start</th>\n      <th>dt_end</th>\n      <th>start_min</th>\n      <th>day</th>\n      <th>month</th>\n    </tr>\n  </thead>\n  <tbody>\n    <tr>\n      <th>0</th>\n      <td>93513</td>\n      <td>51.317649</td>\n      <td>12.373610</td>\n      <td>50</td>\n      <td>2019-12-31 23:09:34</td>\n      <td>2019-12-31 23:59:59</td>\n      <td>0</td>\n      <td>1439</td>\n      <td>1</td>\n      <td>881f1a1647fffff</td>\n      <td>2.13</td>\n      <td>0.0</td>\n      <td>0.0</td>\n      <td>3.58</td>\n      <td>90.0</td>\n      <td>1577833774</td>\n      <td>1577836799</td>\n      <td>1390</td>\n      <td>1</td>\n      <td>12</td>\n    </tr>\n    <tr>\n      <th>1</th>\n      <td>74459</td>\n      <td>51.320440</td>\n      <td>12.345386</td>\n      <td>27</td>\n      <td>2019-12-31 23:32:03</td>\n      <td>2019-12-31 23:59:59</td>\n      <td>0</td>\n      <td>98</td>\n      <td>1</td>\n      <td>881f1a8d93fffff</td>\n      <td>2.13</td>\n      <td>0.0</td>\n      <td>0.0</td>\n      <td>3.58</td>\n      <td>90.0</td>\n      <td>1577835123</td>\n      <td>1577836799</td>\n      <td>1412</td>\n      <td>1</td>\n      <td>12</td>\n    </tr>\n    <tr>\n      <th>2</th>\n      <td>75845</td>\n      <td>51.320418</td>\n      <td>12.345038</td>\n      <td>27</td>\n      <td>2019-12-31 23:32:48</td>\n      <td>2019-12-31 23:59:59</td>\n      <td>0</td>\n      <td>99</td>\n      <td>1</td>\n      <td>881f1a8d93fffff</td>\n      <td>2.13</td>\n      <td>0.0</td>\n      <td>0.0</td>\n      <td>3.58</td>\n      <td>90.0</td>\n      <td>1577835168</td>\n      <td>1577836799</td>\n      <td>1413</td>\n      <td>1</td>\n      <td>12</td>\n    </tr>\n    <tr>\n      <th>3</th>\n      <td>100227</td>\n      <td>51.339529</td>\n      <td>12.373269</td>\n      <td>16</td>\n      <td>2019-12-31 23:43:30</td>\n      <td>2019-12-31 23:59:59</td>\n      <td>0</td>\n      <td>133</td>\n      <td>1</td>\n      <td>881f1a8cb5fffff</td>\n      <td>2.13</td>\n      <td>0.0</td>\n      <td>0.0</td>\n      <td>3.58</td>\n      <td>90.0</td>\n      <td>1577835810</td>\n      <td>1577836799</td>\n      <td>1424</td>\n      <td>1</td>\n      <td>12</td>\n    </tr>\n    <tr>\n      <th>4</th>\n      <td>73838</td>\n      <td>51.344711</td>\n      <td>12.405900</td>\n      <td>16</td>\n      <td>2019-12-31 23:43:47</td>\n      <td>2019-12-31 23:59:59</td>\n      <td>0</td>\n      <td>25</td>\n      <td>1</td>\n      <td>881f1ab965fffff</td>\n      <td>2.13</td>\n      <td>0.0</td>\n      <td>0.0</td>\n      <td>3.58</td>\n      <td>90.0</td>\n      <td>1577835827</td>\n      <td>1577836799</td>\n      <td>1424</td>\n      <td>1</td>\n      <td>12</td>\n    </tr>\n    <tr>\n      <th>...</th>\n      <td>...</td>\n      <td>...</td>\n      <td>...</td>\n      <td>...</td>\n      <td>...</td>\n      <td>...</td>\n      <td>...</td>\n      <td>...</td>\n      <td>...</td>\n      <td>...</td>\n      <td>...</td>\n      <td>...</td>\n      <td>...</td>\n      <td>...</td>\n      <td>...</td>\n      <td>...</td>\n      <td>...</td>\n      <td>...</td>\n      <td>...</td>\n      <td>...</td>\n    </tr>\n    <tr>\n      <th>883316</th>\n      <td>71996</td>\n      <td>51.332053</td>\n      <td>12.403324</td>\n      <td>130</td>\n      <td>2020-12-30 20:41:15</td>\n      <td>2020-12-30 22:51:54</td>\n      <td>0</td>\n      <td>0</td>\n      <td>0</td>\n      <td>881f1a165bfffff</td>\n      <td>2.61</td>\n      <td>0.0</td>\n      <td>0.0</td>\n      <td>3.58</td>\n      <td>82.0</td>\n      <td>1609360875</td>\n      <td>1609368714</td>\n      <td>1241</td>\n      <td>2</td>\n      <td>12</td>\n    </tr>\n    <tr>\n      <th>883317</th>\n      <td>93372</td>\n      <td>51.320791</td>\n      <td>12.405072</td>\n      <td>52</td>\n      <td>2020-12-30 20:46:14</td>\n      <td>2020-12-30 21:38:59</td>\n      <td>0</td>\n      <td>0</td>\n      <td>0</td>\n      <td>881f1a1657fffff</td>\n      <td>2.61</td>\n      <td>0.0</td>\n      <td>0.0</td>\n      <td>3.58</td>\n      <td>82.0</td>\n      <td>1609361174</td>\n      <td>1609364339</td>\n      <td>1246</td>\n      <td>2</td>\n      <td>12</td>\n    </tr>\n    <tr>\n      <th>883318</th>\n      <td>41797</td>\n      <td>51.331062</td>\n      <td>12.390168</td>\n      <td>24</td>\n      <td>2020-12-30 20:48:59</td>\n      <td>2020-12-30 21:13:09</td>\n      <td>0</td>\n      <td>0</td>\n      <td>0</td>\n      <td>881f1a165dfffff</td>\n      <td>2.61</td>\n      <td>0.0</td>\n      <td>0.0</td>\n      <td>3.58</td>\n      <td>82.0</td>\n      <td>1609361339</td>\n      <td>1609362789</td>\n      <td>1249</td>\n      <td>2</td>\n      <td>12</td>\n    </tr>\n    <tr>\n      <th>883319</th>\n      <td>93645</td>\n      <td>51.340196</td>\n      <td>12.402059</td>\n      <td>88</td>\n      <td>2020-12-30 21:00:57</td>\n      <td>2020-12-30 22:29:07</td>\n      <td>0</td>\n      <td>0</td>\n      <td>0</td>\n      <td>881f1ab965fffff</td>\n      <td>2.76</td>\n      <td>0.0</td>\n      <td>0.0</td>\n      <td>4.47</td>\n      <td>82.0</td>\n      <td>1609362057</td>\n      <td>1609367347</td>\n      <td>1261</td>\n      <td>2</td>\n      <td>12</td>\n    </tr>\n    <tr>\n      <th>883320</th>\n      <td>93440</td>\n      <td>51.332973</td>\n      <td>12.404372</td>\n      <td>37</td>\n      <td>2020-12-30 22:16:40</td>\n      <td>2020-12-30 22:54:28</td>\n      <td>0</td>\n      <td>0</td>\n      <td>0</td>\n      <td>881f1a165bfffff</td>\n      <td>2.46</td>\n      <td>0.0</td>\n      <td>0.0</td>\n      <td>4.47</td>\n      <td>84.0</td>\n      <td>1609366600</td>\n      <td>1609368868</td>\n      <td>1337</td>\n      <td>2</td>\n      <td>12</td>\n    </tr>\n  </tbody>\n</table>\n<p>883321 rows × 20 columns</p>\n</div>"
     },
     "execution_count": 33,
     "metadata": {},
     "output_type": "execute_result"
    }
   ],
   "source": [
    "df_points"
   ],
   "metadata": {
    "collapsed": false,
    "pycharm": {
     "name": "#%%\n"
    }
   }
  },
  {
   "cell_type": "markdown",
   "source": [
    "df_points = df_points.reindex(columns=['bike_id', 'lat', 'lng', 'dt_start', 'dt_end', 'hex_id', 'temp', 'rain', 'snow', 'wind_speed', 'humidity', 'month', 'day', 'start_min', 'over_night', 'idle_time_next_day', 'idle_time'])\n",
    "\n",
    "\n",
    "df_points.sort_values(by=['dt_start'])"
   ],
   "metadata": {
    "collapsed": false,
    "pycharm": {
     "name": "#%% md\n"
    }
   }
  },
  {
   "cell_type": "code",
   "execution_count": 34,
   "outputs": [
    {
     "data": {
      "text/plain": "        bike_id        lat        lng  idle_time          time_start  \\\n0         93513  51.317649  12.373610         50 2019-12-31 23:09:34   \n1         74459  51.320440  12.345386         27 2019-12-31 23:32:03   \n2         75845  51.320418  12.345038         27 2019-12-31 23:32:48   \n3        100227  51.339529  12.373269         16 2019-12-31 23:43:30   \n4         73838  51.344711  12.405900         16 2019-12-31 23:43:47   \n...         ...        ...        ...        ...                 ...   \n883316    71996  51.332053  12.403324        130 2020-12-30 20:41:15   \n883317    93372  51.320791  12.405072         52 2020-12-30 20:46:14   \n883318    41797  51.331062  12.390168         24 2020-12-30 20:48:59   \n883319    93645  51.340196  12.402059         88 2020-12-30 21:00:57   \n883320    93440  51.332973  12.404372         37 2020-12-30 22:16:40   \n\n                  time_end  end_station_number  idle_time_next_day  \\\n0      2019-12-31 23:59:59                   0                1439   \n1      2019-12-31 23:59:59                   0                  98   \n2      2019-12-31 23:59:59                   0                  99   \n3      2019-12-31 23:59:59                   0                 133   \n4      2019-12-31 23:59:59                   0                  25   \n...                    ...                 ...                 ...   \n883316 2020-12-30 22:51:54                   0                   0   \n883317 2020-12-30 21:38:59                   0                   0   \n883318 2020-12-30 21:13:09                   0                   0   \n883319 2020-12-30 22:29:07                   0                   0   \n883320 2020-12-30 22:54:28                   0                   0   \n\n        over_night           hex_id  temp  rain  snow  wind_speed  humidity  \\\n0                1  881f1a1647fffff  2.13   0.0   0.0        3.58      90.0   \n1                1  881f1a8d93fffff  2.13   0.0   0.0        3.58      90.0   \n2                1  881f1a8d93fffff  2.13   0.0   0.0        3.58      90.0   \n3                1  881f1a8cb5fffff  2.13   0.0   0.0        3.58      90.0   \n4                1  881f1ab965fffff  2.13   0.0   0.0        3.58      90.0   \n...            ...              ...   ...   ...   ...         ...       ...   \n883316           0  881f1a165bfffff  2.61   0.0   0.0        3.58      82.0   \n883317           0  881f1a1657fffff  2.61   0.0   0.0        3.58      82.0   \n883318           0  881f1a165dfffff  2.61   0.0   0.0        3.58      82.0   \n883319           0  881f1ab965fffff  2.76   0.0   0.0        4.47      82.0   \n883320           0  881f1a165bfffff  2.46   0.0   0.0        4.47      84.0   \n\n          dt_start      dt_end  start_min  day month  \n0       1577833774  1577836799       1390    1    12  \n1       1577835123  1577836799       1412    1    12  \n2       1577835168  1577836799       1413    1    12  \n3       1577835810  1577836799       1424    1    12  \n4       1577835827  1577836799       1424    1    12  \n...            ...         ...        ...  ...   ...  \n883316  1609360875  1609368714       1241    2    12  \n883317  1609361174  1609364339       1246    2    12  \n883318  1609361339  1609362789       1249    2    12  \n883319  1609362057  1609367347       1261    2    12  \n883320  1609366600  1609368868       1337    2    12  \n\n[883321 rows x 20 columns]",
      "text/html": "<div>\n<style scoped>\n    .dataframe tbody tr th:only-of-type {\n        vertical-align: middle;\n    }\n\n    .dataframe tbody tr th {\n        vertical-align: top;\n    }\n\n    .dataframe thead th {\n        text-align: right;\n    }\n</style>\n<table border=\"1\" class=\"dataframe\">\n  <thead>\n    <tr style=\"text-align: right;\">\n      <th></th>\n      <th>bike_id</th>\n      <th>lat</th>\n      <th>lng</th>\n      <th>idle_time</th>\n      <th>time_start</th>\n      <th>time_end</th>\n      <th>end_station_number</th>\n      <th>idle_time_next_day</th>\n      <th>over_night</th>\n      <th>hex_id</th>\n      <th>temp</th>\n      <th>rain</th>\n      <th>snow</th>\n      <th>wind_speed</th>\n      <th>humidity</th>\n      <th>dt_start</th>\n      <th>dt_end</th>\n      <th>start_min</th>\n      <th>day</th>\n      <th>month</th>\n    </tr>\n  </thead>\n  <tbody>\n    <tr>\n      <th>0</th>\n      <td>93513</td>\n      <td>51.317649</td>\n      <td>12.373610</td>\n      <td>50</td>\n      <td>2019-12-31 23:09:34</td>\n      <td>2019-12-31 23:59:59</td>\n      <td>0</td>\n      <td>1439</td>\n      <td>1</td>\n      <td>881f1a1647fffff</td>\n      <td>2.13</td>\n      <td>0.0</td>\n      <td>0.0</td>\n      <td>3.58</td>\n      <td>90.0</td>\n      <td>1577833774</td>\n      <td>1577836799</td>\n      <td>1390</td>\n      <td>1</td>\n      <td>12</td>\n    </tr>\n    <tr>\n      <th>1</th>\n      <td>74459</td>\n      <td>51.320440</td>\n      <td>12.345386</td>\n      <td>27</td>\n      <td>2019-12-31 23:32:03</td>\n      <td>2019-12-31 23:59:59</td>\n      <td>0</td>\n      <td>98</td>\n      <td>1</td>\n      <td>881f1a8d93fffff</td>\n      <td>2.13</td>\n      <td>0.0</td>\n      <td>0.0</td>\n      <td>3.58</td>\n      <td>90.0</td>\n      <td>1577835123</td>\n      <td>1577836799</td>\n      <td>1412</td>\n      <td>1</td>\n      <td>12</td>\n    </tr>\n    <tr>\n      <th>2</th>\n      <td>75845</td>\n      <td>51.320418</td>\n      <td>12.345038</td>\n      <td>27</td>\n      <td>2019-12-31 23:32:48</td>\n      <td>2019-12-31 23:59:59</td>\n      <td>0</td>\n      <td>99</td>\n      <td>1</td>\n      <td>881f1a8d93fffff</td>\n      <td>2.13</td>\n      <td>0.0</td>\n      <td>0.0</td>\n      <td>3.58</td>\n      <td>90.0</td>\n      <td>1577835168</td>\n      <td>1577836799</td>\n      <td>1413</td>\n      <td>1</td>\n      <td>12</td>\n    </tr>\n    <tr>\n      <th>3</th>\n      <td>100227</td>\n      <td>51.339529</td>\n      <td>12.373269</td>\n      <td>16</td>\n      <td>2019-12-31 23:43:30</td>\n      <td>2019-12-31 23:59:59</td>\n      <td>0</td>\n      <td>133</td>\n      <td>1</td>\n      <td>881f1a8cb5fffff</td>\n      <td>2.13</td>\n      <td>0.0</td>\n      <td>0.0</td>\n      <td>3.58</td>\n      <td>90.0</td>\n      <td>1577835810</td>\n      <td>1577836799</td>\n      <td>1424</td>\n      <td>1</td>\n      <td>12</td>\n    </tr>\n    <tr>\n      <th>4</th>\n      <td>73838</td>\n      <td>51.344711</td>\n      <td>12.405900</td>\n      <td>16</td>\n      <td>2019-12-31 23:43:47</td>\n      <td>2019-12-31 23:59:59</td>\n      <td>0</td>\n      <td>25</td>\n      <td>1</td>\n      <td>881f1ab965fffff</td>\n      <td>2.13</td>\n      <td>0.0</td>\n      <td>0.0</td>\n      <td>3.58</td>\n      <td>90.0</td>\n      <td>1577835827</td>\n      <td>1577836799</td>\n      <td>1424</td>\n      <td>1</td>\n      <td>12</td>\n    </tr>\n    <tr>\n      <th>...</th>\n      <td>...</td>\n      <td>...</td>\n      <td>...</td>\n      <td>...</td>\n      <td>...</td>\n      <td>...</td>\n      <td>...</td>\n      <td>...</td>\n      <td>...</td>\n      <td>...</td>\n      <td>...</td>\n      <td>...</td>\n      <td>...</td>\n      <td>...</td>\n      <td>...</td>\n      <td>...</td>\n      <td>...</td>\n      <td>...</td>\n      <td>...</td>\n      <td>...</td>\n    </tr>\n    <tr>\n      <th>883316</th>\n      <td>71996</td>\n      <td>51.332053</td>\n      <td>12.403324</td>\n      <td>130</td>\n      <td>2020-12-30 20:41:15</td>\n      <td>2020-12-30 22:51:54</td>\n      <td>0</td>\n      <td>0</td>\n      <td>0</td>\n      <td>881f1a165bfffff</td>\n      <td>2.61</td>\n      <td>0.0</td>\n      <td>0.0</td>\n      <td>3.58</td>\n      <td>82.0</td>\n      <td>1609360875</td>\n      <td>1609368714</td>\n      <td>1241</td>\n      <td>2</td>\n      <td>12</td>\n    </tr>\n    <tr>\n      <th>883317</th>\n      <td>93372</td>\n      <td>51.320791</td>\n      <td>12.405072</td>\n      <td>52</td>\n      <td>2020-12-30 20:46:14</td>\n      <td>2020-12-30 21:38:59</td>\n      <td>0</td>\n      <td>0</td>\n      <td>0</td>\n      <td>881f1a1657fffff</td>\n      <td>2.61</td>\n      <td>0.0</td>\n      <td>0.0</td>\n      <td>3.58</td>\n      <td>82.0</td>\n      <td>1609361174</td>\n      <td>1609364339</td>\n      <td>1246</td>\n      <td>2</td>\n      <td>12</td>\n    </tr>\n    <tr>\n      <th>883318</th>\n      <td>41797</td>\n      <td>51.331062</td>\n      <td>12.390168</td>\n      <td>24</td>\n      <td>2020-12-30 20:48:59</td>\n      <td>2020-12-30 21:13:09</td>\n      <td>0</td>\n      <td>0</td>\n      <td>0</td>\n      <td>881f1a165dfffff</td>\n      <td>2.61</td>\n      <td>0.0</td>\n      <td>0.0</td>\n      <td>3.58</td>\n      <td>82.0</td>\n      <td>1609361339</td>\n      <td>1609362789</td>\n      <td>1249</td>\n      <td>2</td>\n      <td>12</td>\n    </tr>\n    <tr>\n      <th>883319</th>\n      <td>93645</td>\n      <td>51.340196</td>\n      <td>12.402059</td>\n      <td>88</td>\n      <td>2020-12-30 21:00:57</td>\n      <td>2020-12-30 22:29:07</td>\n      <td>0</td>\n      <td>0</td>\n      <td>0</td>\n      <td>881f1ab965fffff</td>\n      <td>2.76</td>\n      <td>0.0</td>\n      <td>0.0</td>\n      <td>4.47</td>\n      <td>82.0</td>\n      <td>1609362057</td>\n      <td>1609367347</td>\n      <td>1261</td>\n      <td>2</td>\n      <td>12</td>\n    </tr>\n    <tr>\n      <th>883320</th>\n      <td>93440</td>\n      <td>51.332973</td>\n      <td>12.404372</td>\n      <td>37</td>\n      <td>2020-12-30 22:16:40</td>\n      <td>2020-12-30 22:54:28</td>\n      <td>0</td>\n      <td>0</td>\n      <td>0</td>\n      <td>881f1a165bfffff</td>\n      <td>2.46</td>\n      <td>0.0</td>\n      <td>0.0</td>\n      <td>4.47</td>\n      <td>84.0</td>\n      <td>1609366600</td>\n      <td>1609368868</td>\n      <td>1337</td>\n      <td>2</td>\n      <td>12</td>\n    </tr>\n  </tbody>\n</table>\n<p>883321 rows × 20 columns</p>\n</div>"
     },
     "execution_count": 34,
     "metadata": {},
     "output_type": "execute_result"
    }
   ],
   "source": [
    "df_points"
   ],
   "metadata": {
    "collapsed": false,
    "pycharm": {
     "name": "#%%\n"
    }
   }
  },
  {
   "cell_type": "markdown",
   "source": [
    "# Save"
   ],
   "metadata": {
    "collapsed": false
   }
  },
  {
   "cell_type": "markdown",
   "id": "209f3e6e",
   "metadata": {
    "pycharm": {
     "name": "#%% md\n"
    }
   },
   "source": [
    "df_points.to_csv('../data/df_points/df_points_2018.csv', index=False)"
   ]
  },
  {
   "cell_type": "markdown",
   "source": [
    "import pandas as pd\n",
    "df = pd.read_csv('../data/df_points/final_df_points_18_21.csv')\n",
    "df = df.sort_values(by=['dt_start'])"
   ],
   "metadata": {
    "collapsed": false,
    "pycharm": {
     "name": "#%% md\n"
    }
   }
  },
  {
   "cell_type": "markdown",
   "source": [
    "# Add year Feature"
   ],
   "metadata": {
    "collapsed": false
   }
  },
  {
   "cell_type": "code",
   "execution_count": 35,
   "outputs": [],
   "source": [
    "def add_year_feature(row):\n",
    "    return row['time_start'].year\n",
    "\n",
    "df_points['year'] = df_points.apply(add_year_feature,axis=1)"
   ],
   "metadata": {
    "collapsed": false,
    "pycharm": {
     "name": "#%%\n"
    }
   }
  },
  {
   "cell_type": "markdown",
   "source": [
    "# Add In_zone Feature"
   ],
   "metadata": {
    "collapsed": false
   }
  },
  {
   "cell_type": "code",
   "execution_count": 36,
   "outputs": [],
   "source": [
    "import os\n",
    "import json\n",
    "from shapely.geometry import shape, Point\n",
    "\n",
    "flexzones_0 = []\n",
    "flexzones_1 = []\n",
    "\n",
    "def save_flexzones():\n",
    "    # Flexzone 0 Euro\n",
    "    directory_name_0 = f'../flexzones/0/'\n",
    "    for file_name in os.listdir(directory_name_0):\n",
    "        path = os.path.join(directory_name_0, file_name)\n",
    "        if os.path.isfile(path):\n",
    "           with open(path) as f:\n",
    "                js = json.load(f)\n",
    "                for feature in js['features']:\n",
    "                    flexzones_0.append(feature)\n",
    "    # Flexzone 1 Euro\n",
    "    directory_name_1 = f'../flexzones/1/'\n",
    "    for file_name in os.listdir(directory_name_1):\n",
    "        path = os.path.join(directory_name_1, file_name)\n",
    "        if os.path.isfile(path):\n",
    "           with open(path) as f:\n",
    "                js = json.load(f)\n",
    "                for feature in js['features']:\n",
    "                    flexzones_1.append(feature)\n",
    "\n",
    "\n",
    "def point_in_polygons(row):\n",
    "    y = row['lat']  # y = 51.331305\n",
    "    x = row['lng']  # x = 12.344334\n",
    "\n",
    "    # switch x and y-axis bc. scapely woks on x plane\n",
    "    point = Point(x,y)\n",
    "\n",
    "    for feature0 in flexzones_0:\n",
    "        polygon = shape(feature0['geometry'])\n",
    "        if polygon.contains(point):\n",
    "            return feature0['properties']['name']\n",
    "\n",
    "    for feature1 in flexzones_1:\n",
    "        polygon = shape(feature1['geometry'])\n",
    "        if polygon.contains(point):\n",
    "            return feature1['properties']['name']\n",
    "    else: return 0"
   ],
   "metadata": {
    "collapsed": false,
    "pycharm": {
     "name": "#%%\n"
    }
   }
  },
  {
   "cell_type": "code",
   "execution_count": 37,
   "outputs": [],
   "source": [
    "save_flexzones()"
   ],
   "metadata": {
    "collapsed": false,
    "pycharm": {
     "name": "#%%\n"
    }
   }
  },
  {
   "cell_type": "code",
   "execution_count": 38,
   "outputs": [],
   "source": [
    "df_points['zone_name'] = df_points.apply(point_in_polygons,axis=1)"
   ],
   "metadata": {
    "collapsed": false,
    "pycharm": {
     "name": "#%%\n"
    }
   }
  },
  {
   "cell_type": "code",
   "execution_count": 39,
   "outputs": [
    {
     "data": {
      "text/plain": "        bike_id        lat        lng  idle_time          time_start  \\\n0         93513  51.317649  12.373610         50 2019-12-31 23:09:34   \n1         74459  51.320440  12.345386         27 2019-12-31 23:32:03   \n2         75845  51.320418  12.345038         27 2019-12-31 23:32:48   \n3        100227  51.339529  12.373269         16 2019-12-31 23:43:30   \n4         73838  51.344711  12.405900         16 2019-12-31 23:43:47   \n...         ...        ...        ...        ...                 ...   \n883316    71996  51.332053  12.403324        130 2020-12-30 20:41:15   \n883317    93372  51.320791  12.405072         52 2020-12-30 20:46:14   \n883318    41797  51.331062  12.390168         24 2020-12-30 20:48:59   \n883319    93645  51.340196  12.402059         88 2020-12-30 21:00:57   \n883320    93440  51.332973  12.404372         37 2020-12-30 22:16:40   \n\n                  time_end  end_station_number  idle_time_next_day  \\\n0      2019-12-31 23:59:59                   0                1439   \n1      2019-12-31 23:59:59                   0                  98   \n2      2019-12-31 23:59:59                   0                  99   \n3      2019-12-31 23:59:59                   0                 133   \n4      2019-12-31 23:59:59                   0                  25   \n...                    ...                 ...                 ...   \n883316 2020-12-30 22:51:54                   0                   0   \n883317 2020-12-30 21:38:59                   0                   0   \n883318 2020-12-30 21:13:09                   0                   0   \n883319 2020-12-30 22:29:07                   0                   0   \n883320 2020-12-30 22:54:28                   0                   0   \n\n        over_night           hex_id  ...  snow  wind_speed  humidity  \\\n0                1  881f1a1647fffff  ...   0.0        3.58      90.0   \n1                1  881f1a8d93fffff  ...   0.0        3.58      90.0   \n2                1  881f1a8d93fffff  ...   0.0        3.58      90.0   \n3                1  881f1a8cb5fffff  ...   0.0        3.58      90.0   \n4                1  881f1ab965fffff  ...   0.0        3.58      90.0   \n...            ...              ...  ...   ...         ...       ...   \n883316           0  881f1a165bfffff  ...   0.0        3.58      82.0   \n883317           0  881f1a1657fffff  ...   0.0        3.58      82.0   \n883318           0  881f1a165dfffff  ...   0.0        3.58      82.0   \n883319           0  881f1ab965fffff  ...   0.0        4.47      82.0   \n883320           0  881f1a165bfffff  ...   0.0        4.47      84.0   \n\n          dt_start      dt_end  start_min  day  month  year  \\\n0       1577833774  1577836799       1390    1     12  2019   \n1       1577835123  1577836799       1412    1     12  2019   \n2       1577835168  1577836799       1413    1     12  2019   \n3       1577835810  1577836799       1424    1     12  2019   \n4       1577835827  1577836799       1424    1     12  2019   \n...            ...         ...        ...  ...    ...   ...   \n883316  1609360875  1609368714       1241    2     12  2020   \n883317  1609361174  1609364339       1246    2     12  2020   \n883318  1609361339  1609362789       1249    2     12  2020   \n883319  1609362057  1609367347       1261    2     12  2020   \n883320  1609366600  1609368868       1337    2     12  2020   \n\n                         zone_name  \n0        Pinke Zone Leipzig Ost 1€  \n1       Pinke Zone Leipzig West 1€  \n2       Pinke Zone Leipzig West 1€  \n3        Blaue Zone Leipzig Ost 0€  \n4                                0  \n...                            ...  \n883316   Pinke Zone Leipzig Ost 1€  \n883317                           0  \n883318   Blaue Zone Leipzig Ost 0€  \n883319                           0  \n883320                           0  \n\n[883321 rows x 22 columns]",
      "text/html": "<div>\n<style scoped>\n    .dataframe tbody tr th:only-of-type {\n        vertical-align: middle;\n    }\n\n    .dataframe tbody tr th {\n        vertical-align: top;\n    }\n\n    .dataframe thead th {\n        text-align: right;\n    }\n</style>\n<table border=\"1\" class=\"dataframe\">\n  <thead>\n    <tr style=\"text-align: right;\">\n      <th></th>\n      <th>bike_id</th>\n      <th>lat</th>\n      <th>lng</th>\n      <th>idle_time</th>\n      <th>time_start</th>\n      <th>time_end</th>\n      <th>end_station_number</th>\n      <th>idle_time_next_day</th>\n      <th>over_night</th>\n      <th>hex_id</th>\n      <th>...</th>\n      <th>snow</th>\n      <th>wind_speed</th>\n      <th>humidity</th>\n      <th>dt_start</th>\n      <th>dt_end</th>\n      <th>start_min</th>\n      <th>day</th>\n      <th>month</th>\n      <th>year</th>\n      <th>zone_name</th>\n    </tr>\n  </thead>\n  <tbody>\n    <tr>\n      <th>0</th>\n      <td>93513</td>\n      <td>51.317649</td>\n      <td>12.373610</td>\n      <td>50</td>\n      <td>2019-12-31 23:09:34</td>\n      <td>2019-12-31 23:59:59</td>\n      <td>0</td>\n      <td>1439</td>\n      <td>1</td>\n      <td>881f1a1647fffff</td>\n      <td>...</td>\n      <td>0.0</td>\n      <td>3.58</td>\n      <td>90.0</td>\n      <td>1577833774</td>\n      <td>1577836799</td>\n      <td>1390</td>\n      <td>1</td>\n      <td>12</td>\n      <td>2019</td>\n      <td>Pinke Zone Leipzig Ost 1€</td>\n    </tr>\n    <tr>\n      <th>1</th>\n      <td>74459</td>\n      <td>51.320440</td>\n      <td>12.345386</td>\n      <td>27</td>\n      <td>2019-12-31 23:32:03</td>\n      <td>2019-12-31 23:59:59</td>\n      <td>0</td>\n      <td>98</td>\n      <td>1</td>\n      <td>881f1a8d93fffff</td>\n      <td>...</td>\n      <td>0.0</td>\n      <td>3.58</td>\n      <td>90.0</td>\n      <td>1577835123</td>\n      <td>1577836799</td>\n      <td>1412</td>\n      <td>1</td>\n      <td>12</td>\n      <td>2019</td>\n      <td>Pinke Zone Leipzig West 1€</td>\n    </tr>\n    <tr>\n      <th>2</th>\n      <td>75845</td>\n      <td>51.320418</td>\n      <td>12.345038</td>\n      <td>27</td>\n      <td>2019-12-31 23:32:48</td>\n      <td>2019-12-31 23:59:59</td>\n      <td>0</td>\n      <td>99</td>\n      <td>1</td>\n      <td>881f1a8d93fffff</td>\n      <td>...</td>\n      <td>0.0</td>\n      <td>3.58</td>\n      <td>90.0</td>\n      <td>1577835168</td>\n      <td>1577836799</td>\n      <td>1413</td>\n      <td>1</td>\n      <td>12</td>\n      <td>2019</td>\n      <td>Pinke Zone Leipzig West 1€</td>\n    </tr>\n    <tr>\n      <th>3</th>\n      <td>100227</td>\n      <td>51.339529</td>\n      <td>12.373269</td>\n      <td>16</td>\n      <td>2019-12-31 23:43:30</td>\n      <td>2019-12-31 23:59:59</td>\n      <td>0</td>\n      <td>133</td>\n      <td>1</td>\n      <td>881f1a8cb5fffff</td>\n      <td>...</td>\n      <td>0.0</td>\n      <td>3.58</td>\n      <td>90.0</td>\n      <td>1577835810</td>\n      <td>1577836799</td>\n      <td>1424</td>\n      <td>1</td>\n      <td>12</td>\n      <td>2019</td>\n      <td>Blaue Zone Leipzig Ost 0€</td>\n    </tr>\n    <tr>\n      <th>4</th>\n      <td>73838</td>\n      <td>51.344711</td>\n      <td>12.405900</td>\n      <td>16</td>\n      <td>2019-12-31 23:43:47</td>\n      <td>2019-12-31 23:59:59</td>\n      <td>0</td>\n      <td>25</td>\n      <td>1</td>\n      <td>881f1ab965fffff</td>\n      <td>...</td>\n      <td>0.0</td>\n      <td>3.58</td>\n      <td>90.0</td>\n      <td>1577835827</td>\n      <td>1577836799</td>\n      <td>1424</td>\n      <td>1</td>\n      <td>12</td>\n      <td>2019</td>\n      <td>0</td>\n    </tr>\n    <tr>\n      <th>...</th>\n      <td>...</td>\n      <td>...</td>\n      <td>...</td>\n      <td>...</td>\n      <td>...</td>\n      <td>...</td>\n      <td>...</td>\n      <td>...</td>\n      <td>...</td>\n      <td>...</td>\n      <td>...</td>\n      <td>...</td>\n      <td>...</td>\n      <td>...</td>\n      <td>...</td>\n      <td>...</td>\n      <td>...</td>\n      <td>...</td>\n      <td>...</td>\n      <td>...</td>\n      <td>...</td>\n    </tr>\n    <tr>\n      <th>883316</th>\n      <td>71996</td>\n      <td>51.332053</td>\n      <td>12.403324</td>\n      <td>130</td>\n      <td>2020-12-30 20:41:15</td>\n      <td>2020-12-30 22:51:54</td>\n      <td>0</td>\n      <td>0</td>\n      <td>0</td>\n      <td>881f1a165bfffff</td>\n      <td>...</td>\n      <td>0.0</td>\n      <td>3.58</td>\n      <td>82.0</td>\n      <td>1609360875</td>\n      <td>1609368714</td>\n      <td>1241</td>\n      <td>2</td>\n      <td>12</td>\n      <td>2020</td>\n      <td>Pinke Zone Leipzig Ost 1€</td>\n    </tr>\n    <tr>\n      <th>883317</th>\n      <td>93372</td>\n      <td>51.320791</td>\n      <td>12.405072</td>\n      <td>52</td>\n      <td>2020-12-30 20:46:14</td>\n      <td>2020-12-30 21:38:59</td>\n      <td>0</td>\n      <td>0</td>\n      <td>0</td>\n      <td>881f1a1657fffff</td>\n      <td>...</td>\n      <td>0.0</td>\n      <td>3.58</td>\n      <td>82.0</td>\n      <td>1609361174</td>\n      <td>1609364339</td>\n      <td>1246</td>\n      <td>2</td>\n      <td>12</td>\n      <td>2020</td>\n      <td>0</td>\n    </tr>\n    <tr>\n      <th>883318</th>\n      <td>41797</td>\n      <td>51.331062</td>\n      <td>12.390168</td>\n      <td>24</td>\n      <td>2020-12-30 20:48:59</td>\n      <td>2020-12-30 21:13:09</td>\n      <td>0</td>\n      <td>0</td>\n      <td>0</td>\n      <td>881f1a165dfffff</td>\n      <td>...</td>\n      <td>0.0</td>\n      <td>3.58</td>\n      <td>82.0</td>\n      <td>1609361339</td>\n      <td>1609362789</td>\n      <td>1249</td>\n      <td>2</td>\n      <td>12</td>\n      <td>2020</td>\n      <td>Blaue Zone Leipzig Ost 0€</td>\n    </tr>\n    <tr>\n      <th>883319</th>\n      <td>93645</td>\n      <td>51.340196</td>\n      <td>12.402059</td>\n      <td>88</td>\n      <td>2020-12-30 21:00:57</td>\n      <td>2020-12-30 22:29:07</td>\n      <td>0</td>\n      <td>0</td>\n      <td>0</td>\n      <td>881f1ab965fffff</td>\n      <td>...</td>\n      <td>0.0</td>\n      <td>4.47</td>\n      <td>82.0</td>\n      <td>1609362057</td>\n      <td>1609367347</td>\n      <td>1261</td>\n      <td>2</td>\n      <td>12</td>\n      <td>2020</td>\n      <td>0</td>\n    </tr>\n    <tr>\n      <th>883320</th>\n      <td>93440</td>\n      <td>51.332973</td>\n      <td>12.404372</td>\n      <td>37</td>\n      <td>2020-12-30 22:16:40</td>\n      <td>2020-12-30 22:54:28</td>\n      <td>0</td>\n      <td>0</td>\n      <td>0</td>\n      <td>881f1a165bfffff</td>\n      <td>...</td>\n      <td>0.0</td>\n      <td>4.47</td>\n      <td>84.0</td>\n      <td>1609366600</td>\n      <td>1609368868</td>\n      <td>1337</td>\n      <td>2</td>\n      <td>12</td>\n      <td>2020</td>\n      <td>0</td>\n    </tr>\n  </tbody>\n</table>\n<p>883321 rows × 22 columns</p>\n</div>"
     },
     "execution_count": 39,
     "metadata": {},
     "output_type": "execute_result"
    }
   ],
   "source": [
    "df_points"
   ],
   "metadata": {
    "collapsed": false,
    "pycharm": {
     "name": "#%%\n"
    }
   }
  },
  {
   "cell_type": "code",
   "execution_count": 40,
   "outputs": [],
   "source": [
    "def in_zone(row):\n",
    "    if row['zone_name'] != 0:\n",
    "        return 1\n",
    "    else: return 0\n",
    "\n",
    "df_points['in_zone'] = df_points.apply(in_zone,axis=1)"
   ],
   "metadata": {
    "collapsed": false,
    "pycharm": {
     "name": "#%%\n"
    }
   }
  },
  {
   "cell_type": "code",
   "execution_count": null,
   "outputs": [],
   "source": [
    "# add hex enc\n",
    "from sklearn import preprocessing\n",
    "label_encoder = preprocessing.LabelEncoder()\n",
    "df_points['hex_enc'] = label_encoder.fit_transform(df_points['hex_id'])\n",
    "\n",
    "# add on_station\n",
    "def on_station(row):\n",
    "    if row['end_station_number'] != 0:\n",
    "        return 1\n",
    "    else:\n",
    "        return 0\n",
    "\n",
    "df_points['on_station'] = df_points.apply(on_station, axis=1)\n",
    "\n",
    "# add zone name_enc\n",
    "zone_encoder = preprocessing.LabelEncoder()\n",
    "df_points['zone_name_enc'] = zone_encoder.fit_transform(df_points['zone_name'])"
   ],
   "metadata": {
    "collapsed": false,
    "pycharm": {
     "name": "#%%\n"
    }
   }
  },
  {
   "cell_type": "code",
   "execution_count": 41,
   "outputs": [
    {
     "data": {
      "text/plain": "        bike_id        lat        lng  idle_time          time_start  \\\n0         93513  51.317649  12.373610         50 2019-12-31 23:09:34   \n1         74459  51.320440  12.345386         27 2019-12-31 23:32:03   \n2         75845  51.320418  12.345038         27 2019-12-31 23:32:48   \n3        100227  51.339529  12.373269         16 2019-12-31 23:43:30   \n4         73838  51.344711  12.405900         16 2019-12-31 23:43:47   \n...         ...        ...        ...        ...                 ...   \n883316    71996  51.332053  12.403324        130 2020-12-30 20:41:15   \n883317    93372  51.320791  12.405072         52 2020-12-30 20:46:14   \n883318    41797  51.331062  12.390168         24 2020-12-30 20:48:59   \n883319    93645  51.340196  12.402059         88 2020-12-30 21:00:57   \n883320    93440  51.332973  12.404372         37 2020-12-30 22:16:40   \n\n                  time_end  end_station_number  idle_time_next_day  \\\n0      2019-12-31 23:59:59                   0                1439   \n1      2019-12-31 23:59:59                   0                  98   \n2      2019-12-31 23:59:59                   0                  99   \n3      2019-12-31 23:59:59                   0                 133   \n4      2019-12-31 23:59:59                   0                  25   \n...                    ...                 ...                 ...   \n883316 2020-12-30 22:51:54                   0                   0   \n883317 2020-12-30 21:38:59                   0                   0   \n883318 2020-12-30 21:13:09                   0                   0   \n883319 2020-12-30 22:29:07                   0                   0   \n883320 2020-12-30 22:54:28                   0                   0   \n\n        over_night           hex_id  ...  wind_speed  humidity    dt_start  \\\n0                1  881f1a1647fffff  ...        3.58      90.0  1577833774   \n1                1  881f1a8d93fffff  ...        3.58      90.0  1577835123   \n2                1  881f1a8d93fffff  ...        3.58      90.0  1577835168   \n3                1  881f1a8cb5fffff  ...        3.58      90.0  1577835810   \n4                1  881f1ab965fffff  ...        3.58      90.0  1577835827   \n...            ...              ...  ...         ...       ...         ...   \n883316           0  881f1a165bfffff  ...        3.58      82.0  1609360875   \n883317           0  881f1a1657fffff  ...        3.58      82.0  1609361174   \n883318           0  881f1a165dfffff  ...        3.58      82.0  1609361339   \n883319           0  881f1ab965fffff  ...        4.47      82.0  1609362057   \n883320           0  881f1a165bfffff  ...        4.47      84.0  1609366600   \n\n            dt_end  start_min  day  month  year                   zone_name  \\\n0       1577836799       1390    1     12  2019   Pinke Zone Leipzig Ost 1€   \n1       1577836799       1412    1     12  2019  Pinke Zone Leipzig West 1€   \n2       1577836799       1413    1     12  2019  Pinke Zone Leipzig West 1€   \n3       1577836799       1424    1     12  2019   Blaue Zone Leipzig Ost 0€   \n4       1577836799       1424    1     12  2019                           0   \n...            ...        ...  ...    ...   ...                         ...   \n883316  1609368714       1241    2     12  2020   Pinke Zone Leipzig Ost 1€   \n883317  1609364339       1246    2     12  2020                           0   \n883318  1609362789       1249    2     12  2020   Blaue Zone Leipzig Ost 0€   \n883319  1609367347       1261    2     12  2020                           0   \n883320  1609368868       1337    2     12  2020                           0   \n\n       in_zone  \n0            1  \n1            1  \n2            1  \n3            1  \n4            0  \n...        ...  \n883316       1  \n883317       0  \n883318       1  \n883319       0  \n883320       0  \n\n[883321 rows x 23 columns]",
      "text/html": "<div>\n<style scoped>\n    .dataframe tbody tr th:only-of-type {\n        vertical-align: middle;\n    }\n\n    .dataframe tbody tr th {\n        vertical-align: top;\n    }\n\n    .dataframe thead th {\n        text-align: right;\n    }\n</style>\n<table border=\"1\" class=\"dataframe\">\n  <thead>\n    <tr style=\"text-align: right;\">\n      <th></th>\n      <th>bike_id</th>\n      <th>lat</th>\n      <th>lng</th>\n      <th>idle_time</th>\n      <th>time_start</th>\n      <th>time_end</th>\n      <th>end_station_number</th>\n      <th>idle_time_next_day</th>\n      <th>over_night</th>\n      <th>hex_id</th>\n      <th>...</th>\n      <th>wind_speed</th>\n      <th>humidity</th>\n      <th>dt_start</th>\n      <th>dt_end</th>\n      <th>start_min</th>\n      <th>day</th>\n      <th>month</th>\n      <th>year</th>\n      <th>zone_name</th>\n      <th>in_zone</th>\n    </tr>\n  </thead>\n  <tbody>\n    <tr>\n      <th>0</th>\n      <td>93513</td>\n      <td>51.317649</td>\n      <td>12.373610</td>\n      <td>50</td>\n      <td>2019-12-31 23:09:34</td>\n      <td>2019-12-31 23:59:59</td>\n      <td>0</td>\n      <td>1439</td>\n      <td>1</td>\n      <td>881f1a1647fffff</td>\n      <td>...</td>\n      <td>3.58</td>\n      <td>90.0</td>\n      <td>1577833774</td>\n      <td>1577836799</td>\n      <td>1390</td>\n      <td>1</td>\n      <td>12</td>\n      <td>2019</td>\n      <td>Pinke Zone Leipzig Ost 1€</td>\n      <td>1</td>\n    </tr>\n    <tr>\n      <th>1</th>\n      <td>74459</td>\n      <td>51.320440</td>\n      <td>12.345386</td>\n      <td>27</td>\n      <td>2019-12-31 23:32:03</td>\n      <td>2019-12-31 23:59:59</td>\n      <td>0</td>\n      <td>98</td>\n      <td>1</td>\n      <td>881f1a8d93fffff</td>\n      <td>...</td>\n      <td>3.58</td>\n      <td>90.0</td>\n      <td>1577835123</td>\n      <td>1577836799</td>\n      <td>1412</td>\n      <td>1</td>\n      <td>12</td>\n      <td>2019</td>\n      <td>Pinke Zone Leipzig West 1€</td>\n      <td>1</td>\n    </tr>\n    <tr>\n      <th>2</th>\n      <td>75845</td>\n      <td>51.320418</td>\n      <td>12.345038</td>\n      <td>27</td>\n      <td>2019-12-31 23:32:48</td>\n      <td>2019-12-31 23:59:59</td>\n      <td>0</td>\n      <td>99</td>\n      <td>1</td>\n      <td>881f1a8d93fffff</td>\n      <td>...</td>\n      <td>3.58</td>\n      <td>90.0</td>\n      <td>1577835168</td>\n      <td>1577836799</td>\n      <td>1413</td>\n      <td>1</td>\n      <td>12</td>\n      <td>2019</td>\n      <td>Pinke Zone Leipzig West 1€</td>\n      <td>1</td>\n    </tr>\n    <tr>\n      <th>3</th>\n      <td>100227</td>\n      <td>51.339529</td>\n      <td>12.373269</td>\n      <td>16</td>\n      <td>2019-12-31 23:43:30</td>\n      <td>2019-12-31 23:59:59</td>\n      <td>0</td>\n      <td>133</td>\n      <td>1</td>\n      <td>881f1a8cb5fffff</td>\n      <td>...</td>\n      <td>3.58</td>\n      <td>90.0</td>\n      <td>1577835810</td>\n      <td>1577836799</td>\n      <td>1424</td>\n      <td>1</td>\n      <td>12</td>\n      <td>2019</td>\n      <td>Blaue Zone Leipzig Ost 0€</td>\n      <td>1</td>\n    </tr>\n    <tr>\n      <th>4</th>\n      <td>73838</td>\n      <td>51.344711</td>\n      <td>12.405900</td>\n      <td>16</td>\n      <td>2019-12-31 23:43:47</td>\n      <td>2019-12-31 23:59:59</td>\n      <td>0</td>\n      <td>25</td>\n      <td>1</td>\n      <td>881f1ab965fffff</td>\n      <td>...</td>\n      <td>3.58</td>\n      <td>90.0</td>\n      <td>1577835827</td>\n      <td>1577836799</td>\n      <td>1424</td>\n      <td>1</td>\n      <td>12</td>\n      <td>2019</td>\n      <td>0</td>\n      <td>0</td>\n    </tr>\n    <tr>\n      <th>...</th>\n      <td>...</td>\n      <td>...</td>\n      <td>...</td>\n      <td>...</td>\n      <td>...</td>\n      <td>...</td>\n      <td>...</td>\n      <td>...</td>\n      <td>...</td>\n      <td>...</td>\n      <td>...</td>\n      <td>...</td>\n      <td>...</td>\n      <td>...</td>\n      <td>...</td>\n      <td>...</td>\n      <td>...</td>\n      <td>...</td>\n      <td>...</td>\n      <td>...</td>\n      <td>...</td>\n    </tr>\n    <tr>\n      <th>883316</th>\n      <td>71996</td>\n      <td>51.332053</td>\n      <td>12.403324</td>\n      <td>130</td>\n      <td>2020-12-30 20:41:15</td>\n      <td>2020-12-30 22:51:54</td>\n      <td>0</td>\n      <td>0</td>\n      <td>0</td>\n      <td>881f1a165bfffff</td>\n      <td>...</td>\n      <td>3.58</td>\n      <td>82.0</td>\n      <td>1609360875</td>\n      <td>1609368714</td>\n      <td>1241</td>\n      <td>2</td>\n      <td>12</td>\n      <td>2020</td>\n      <td>Pinke Zone Leipzig Ost 1€</td>\n      <td>1</td>\n    </tr>\n    <tr>\n      <th>883317</th>\n      <td>93372</td>\n      <td>51.320791</td>\n      <td>12.405072</td>\n      <td>52</td>\n      <td>2020-12-30 20:46:14</td>\n      <td>2020-12-30 21:38:59</td>\n      <td>0</td>\n      <td>0</td>\n      <td>0</td>\n      <td>881f1a1657fffff</td>\n      <td>...</td>\n      <td>3.58</td>\n      <td>82.0</td>\n      <td>1609361174</td>\n      <td>1609364339</td>\n      <td>1246</td>\n      <td>2</td>\n      <td>12</td>\n      <td>2020</td>\n      <td>0</td>\n      <td>0</td>\n    </tr>\n    <tr>\n      <th>883318</th>\n      <td>41797</td>\n      <td>51.331062</td>\n      <td>12.390168</td>\n      <td>24</td>\n      <td>2020-12-30 20:48:59</td>\n      <td>2020-12-30 21:13:09</td>\n      <td>0</td>\n      <td>0</td>\n      <td>0</td>\n      <td>881f1a165dfffff</td>\n      <td>...</td>\n      <td>3.58</td>\n      <td>82.0</td>\n      <td>1609361339</td>\n      <td>1609362789</td>\n      <td>1249</td>\n      <td>2</td>\n      <td>12</td>\n      <td>2020</td>\n      <td>Blaue Zone Leipzig Ost 0€</td>\n      <td>1</td>\n    </tr>\n    <tr>\n      <th>883319</th>\n      <td>93645</td>\n      <td>51.340196</td>\n      <td>12.402059</td>\n      <td>88</td>\n      <td>2020-12-30 21:00:57</td>\n      <td>2020-12-30 22:29:07</td>\n      <td>0</td>\n      <td>0</td>\n      <td>0</td>\n      <td>881f1ab965fffff</td>\n      <td>...</td>\n      <td>4.47</td>\n      <td>82.0</td>\n      <td>1609362057</td>\n      <td>1609367347</td>\n      <td>1261</td>\n      <td>2</td>\n      <td>12</td>\n      <td>2020</td>\n      <td>0</td>\n      <td>0</td>\n    </tr>\n    <tr>\n      <th>883320</th>\n      <td>93440</td>\n      <td>51.332973</td>\n      <td>12.404372</td>\n      <td>37</td>\n      <td>2020-12-30 22:16:40</td>\n      <td>2020-12-30 22:54:28</td>\n      <td>0</td>\n      <td>0</td>\n      <td>0</td>\n      <td>881f1a165bfffff</td>\n      <td>...</td>\n      <td>4.47</td>\n      <td>84.0</td>\n      <td>1609366600</td>\n      <td>1609368868</td>\n      <td>1337</td>\n      <td>2</td>\n      <td>12</td>\n      <td>2020</td>\n      <td>0</td>\n      <td>0</td>\n    </tr>\n  </tbody>\n</table>\n<p>883321 rows × 23 columns</p>\n</div>"
     },
     "execution_count": 41,
     "metadata": {},
     "output_type": "execute_result"
    }
   ],
   "source": [
    "df_points"
   ],
   "metadata": {
    "collapsed": false,
    "pycharm": {
     "name": "#%%\n"
    }
   }
  },
  {
   "cell_type": "code",
   "execution_count": 42,
   "outputs": [
    {
     "data": {
      "text/plain": "        bike_id        lat        lng    dt_start      dt_end  \\\n0         93513  51.317649  12.373610  1577833774  1577836799   \n1         74459  51.320440  12.345386  1577835123  1577836799   \n2         75845  51.320418  12.345038  1577835168  1577836799   \n3        100227  51.339529  12.373269  1577835810  1577836799   \n4         73838  51.344711  12.405900  1577835827  1577836799   \n...         ...        ...        ...         ...         ...   \n883316    71996  51.332053  12.403324  1609360875  1609368714   \n883317    93372  51.320791  12.405072  1609361174  1609364339   \n883318    41797  51.331062  12.390168  1609361339  1609362789   \n883319    93645  51.340196  12.402059  1609362057  1609367347   \n883320    93440  51.332973  12.404372  1609366600  1609368868   \n\n                 hex_id  in_zone                   zone_name  \\\n0       881f1a1647fffff        1   Pinke Zone Leipzig Ost 1€   \n1       881f1a8d93fffff        1  Pinke Zone Leipzig West 1€   \n2       881f1a8d93fffff        1  Pinke Zone Leipzig West 1€   \n3       881f1a8cb5fffff        1   Blaue Zone Leipzig Ost 0€   \n4       881f1ab965fffff        0                           0   \n...                 ...      ...                         ...   \n883316  881f1a165bfffff        1   Pinke Zone Leipzig Ost 1€   \n883317  881f1a1657fffff        0                           0   \n883318  881f1a165dfffff        1   Blaue Zone Leipzig Ost 0€   \n883319  881f1ab965fffff        0                           0   \n883320  881f1a165bfffff        0                           0   \n\n        end_station_number  temp  ...  snow  wind_speed  humidity  year  \\\n0                        0  2.13  ...   0.0        3.58      90.0  2019   \n1                        0  2.13  ...   0.0        3.58      90.0  2019   \n2                        0  2.13  ...   0.0        3.58      90.0  2019   \n3                        0  2.13  ...   0.0        3.58      90.0  2019   \n4                        0  2.13  ...   0.0        3.58      90.0  2019   \n...                    ...   ...  ...   ...         ...       ...   ...   \n883316                   0  2.61  ...   0.0        3.58      82.0  2020   \n883317                   0  2.61  ...   0.0        3.58      82.0  2020   \n883318                   0  2.61  ...   0.0        3.58      82.0  2020   \n883319                   0  2.76  ...   0.0        4.47      82.0  2020   \n883320                   0  2.46  ...   0.0        4.47      84.0  2020   \n\n        month day  start_min  over_night  idle_time_next_day  idle_time  \n0          12   1       1390           1                1439         50  \n1          12   1       1412           1                  98         27  \n2          12   1       1413           1                  99         27  \n3          12   1       1424           1                 133         16  \n4          12   1       1424           1                  25         16  \n...       ...  ..        ...         ...                 ...        ...  \n883316     12   2       1241           0                   0        130  \n883317     12   2       1246           0                   0         52  \n883318     12   2       1249           0                   0         24  \n883319     12   2       1261           0                   0         88  \n883320     12   2       1337           0                   0         37  \n\n[883321 rows x 21 columns]",
      "text/html": "<div>\n<style scoped>\n    .dataframe tbody tr th:only-of-type {\n        vertical-align: middle;\n    }\n\n    .dataframe tbody tr th {\n        vertical-align: top;\n    }\n\n    .dataframe thead th {\n        text-align: right;\n    }\n</style>\n<table border=\"1\" class=\"dataframe\">\n  <thead>\n    <tr style=\"text-align: right;\">\n      <th></th>\n      <th>bike_id</th>\n      <th>lat</th>\n      <th>lng</th>\n      <th>dt_start</th>\n      <th>dt_end</th>\n      <th>hex_id</th>\n      <th>in_zone</th>\n      <th>zone_name</th>\n      <th>end_station_number</th>\n      <th>temp</th>\n      <th>...</th>\n      <th>snow</th>\n      <th>wind_speed</th>\n      <th>humidity</th>\n      <th>year</th>\n      <th>month</th>\n      <th>day</th>\n      <th>start_min</th>\n      <th>over_night</th>\n      <th>idle_time_next_day</th>\n      <th>idle_time</th>\n    </tr>\n  </thead>\n  <tbody>\n    <tr>\n      <th>0</th>\n      <td>93513</td>\n      <td>51.317649</td>\n      <td>12.373610</td>\n      <td>1577833774</td>\n      <td>1577836799</td>\n      <td>881f1a1647fffff</td>\n      <td>1</td>\n      <td>Pinke Zone Leipzig Ost 1€</td>\n      <td>0</td>\n      <td>2.13</td>\n      <td>...</td>\n      <td>0.0</td>\n      <td>3.58</td>\n      <td>90.0</td>\n      <td>2019</td>\n      <td>12</td>\n      <td>1</td>\n      <td>1390</td>\n      <td>1</td>\n      <td>1439</td>\n      <td>50</td>\n    </tr>\n    <tr>\n      <th>1</th>\n      <td>74459</td>\n      <td>51.320440</td>\n      <td>12.345386</td>\n      <td>1577835123</td>\n      <td>1577836799</td>\n      <td>881f1a8d93fffff</td>\n      <td>1</td>\n      <td>Pinke Zone Leipzig West 1€</td>\n      <td>0</td>\n      <td>2.13</td>\n      <td>...</td>\n      <td>0.0</td>\n      <td>3.58</td>\n      <td>90.0</td>\n      <td>2019</td>\n      <td>12</td>\n      <td>1</td>\n      <td>1412</td>\n      <td>1</td>\n      <td>98</td>\n      <td>27</td>\n    </tr>\n    <tr>\n      <th>2</th>\n      <td>75845</td>\n      <td>51.320418</td>\n      <td>12.345038</td>\n      <td>1577835168</td>\n      <td>1577836799</td>\n      <td>881f1a8d93fffff</td>\n      <td>1</td>\n      <td>Pinke Zone Leipzig West 1€</td>\n      <td>0</td>\n      <td>2.13</td>\n      <td>...</td>\n      <td>0.0</td>\n      <td>3.58</td>\n      <td>90.0</td>\n      <td>2019</td>\n      <td>12</td>\n      <td>1</td>\n      <td>1413</td>\n      <td>1</td>\n      <td>99</td>\n      <td>27</td>\n    </tr>\n    <tr>\n      <th>3</th>\n      <td>100227</td>\n      <td>51.339529</td>\n      <td>12.373269</td>\n      <td>1577835810</td>\n      <td>1577836799</td>\n      <td>881f1a8cb5fffff</td>\n      <td>1</td>\n      <td>Blaue Zone Leipzig Ost 0€</td>\n      <td>0</td>\n      <td>2.13</td>\n      <td>...</td>\n      <td>0.0</td>\n      <td>3.58</td>\n      <td>90.0</td>\n      <td>2019</td>\n      <td>12</td>\n      <td>1</td>\n      <td>1424</td>\n      <td>1</td>\n      <td>133</td>\n      <td>16</td>\n    </tr>\n    <tr>\n      <th>4</th>\n      <td>73838</td>\n      <td>51.344711</td>\n      <td>12.405900</td>\n      <td>1577835827</td>\n      <td>1577836799</td>\n      <td>881f1ab965fffff</td>\n      <td>0</td>\n      <td>0</td>\n      <td>0</td>\n      <td>2.13</td>\n      <td>...</td>\n      <td>0.0</td>\n      <td>3.58</td>\n      <td>90.0</td>\n      <td>2019</td>\n      <td>12</td>\n      <td>1</td>\n      <td>1424</td>\n      <td>1</td>\n      <td>25</td>\n      <td>16</td>\n    </tr>\n    <tr>\n      <th>...</th>\n      <td>...</td>\n      <td>...</td>\n      <td>...</td>\n      <td>...</td>\n      <td>...</td>\n      <td>...</td>\n      <td>...</td>\n      <td>...</td>\n      <td>...</td>\n      <td>...</td>\n      <td>...</td>\n      <td>...</td>\n      <td>...</td>\n      <td>...</td>\n      <td>...</td>\n      <td>...</td>\n      <td>...</td>\n      <td>...</td>\n      <td>...</td>\n      <td>...</td>\n      <td>...</td>\n    </tr>\n    <tr>\n      <th>883316</th>\n      <td>71996</td>\n      <td>51.332053</td>\n      <td>12.403324</td>\n      <td>1609360875</td>\n      <td>1609368714</td>\n      <td>881f1a165bfffff</td>\n      <td>1</td>\n      <td>Pinke Zone Leipzig Ost 1€</td>\n      <td>0</td>\n      <td>2.61</td>\n      <td>...</td>\n      <td>0.0</td>\n      <td>3.58</td>\n      <td>82.0</td>\n      <td>2020</td>\n      <td>12</td>\n      <td>2</td>\n      <td>1241</td>\n      <td>0</td>\n      <td>0</td>\n      <td>130</td>\n    </tr>\n    <tr>\n      <th>883317</th>\n      <td>93372</td>\n      <td>51.320791</td>\n      <td>12.405072</td>\n      <td>1609361174</td>\n      <td>1609364339</td>\n      <td>881f1a1657fffff</td>\n      <td>0</td>\n      <td>0</td>\n      <td>0</td>\n      <td>2.61</td>\n      <td>...</td>\n      <td>0.0</td>\n      <td>3.58</td>\n      <td>82.0</td>\n      <td>2020</td>\n      <td>12</td>\n      <td>2</td>\n      <td>1246</td>\n      <td>0</td>\n      <td>0</td>\n      <td>52</td>\n    </tr>\n    <tr>\n      <th>883318</th>\n      <td>41797</td>\n      <td>51.331062</td>\n      <td>12.390168</td>\n      <td>1609361339</td>\n      <td>1609362789</td>\n      <td>881f1a165dfffff</td>\n      <td>1</td>\n      <td>Blaue Zone Leipzig Ost 0€</td>\n      <td>0</td>\n      <td>2.61</td>\n      <td>...</td>\n      <td>0.0</td>\n      <td>3.58</td>\n      <td>82.0</td>\n      <td>2020</td>\n      <td>12</td>\n      <td>2</td>\n      <td>1249</td>\n      <td>0</td>\n      <td>0</td>\n      <td>24</td>\n    </tr>\n    <tr>\n      <th>883319</th>\n      <td>93645</td>\n      <td>51.340196</td>\n      <td>12.402059</td>\n      <td>1609362057</td>\n      <td>1609367347</td>\n      <td>881f1ab965fffff</td>\n      <td>0</td>\n      <td>0</td>\n      <td>0</td>\n      <td>2.76</td>\n      <td>...</td>\n      <td>0.0</td>\n      <td>4.47</td>\n      <td>82.0</td>\n      <td>2020</td>\n      <td>12</td>\n      <td>2</td>\n      <td>1261</td>\n      <td>0</td>\n      <td>0</td>\n      <td>88</td>\n    </tr>\n    <tr>\n      <th>883320</th>\n      <td>93440</td>\n      <td>51.332973</td>\n      <td>12.404372</td>\n      <td>1609366600</td>\n      <td>1609368868</td>\n      <td>881f1a165bfffff</td>\n      <td>0</td>\n      <td>0</td>\n      <td>0</td>\n      <td>2.46</td>\n      <td>...</td>\n      <td>0.0</td>\n      <td>4.47</td>\n      <td>84.0</td>\n      <td>2020</td>\n      <td>12</td>\n      <td>2</td>\n      <td>1337</td>\n      <td>0</td>\n      <td>0</td>\n      <td>37</td>\n    </tr>\n  </tbody>\n</table>\n<p>883321 rows × 21 columns</p>\n</div>"
     },
     "execution_count": 42,
     "metadata": {},
     "output_type": "execute_result"
    }
   ],
   "source": [
    "df_points = df_points.reindex(columns=['bike_id', 'lat', 'lng', 'dt_start', 'dt_end', 'hex_id','hex_enc', 'in_zone', 'zone_name','zone_name_enc','end_station_number','on_station','temp', 'rain', 'snow', 'wind_speed', 'humidity', 'year','month', 'day', 'start_min', 'over_night', 'idle_time_next_day', 'idle_time'])\n",
    "\n",
    "df_points = df_points.sort_values(by=['dt_start'])\n",
    "df_points"
   ],
   "metadata": {
    "collapsed": false,
    "pycharm": {
     "name": "#%%\n"
    }
   }
  },
  {
   "cell_type": "markdown",
   "source": [
    "# SAVE"
   ],
   "metadata": {
    "collapsed": false
   }
  },
  {
   "cell_type": "code",
   "execution_count": 43,
   "outputs": [
    {
     "name": "stdout",
     "output_type": "stream",
     "text": [
      "25273.7381439209\n",
      "07:01:13\n"
     ]
    }
   ],
   "source": [
    "dur = time.time() - ts1\n",
    "print(dur)\n",
    "ty_res = time.gmtime(dur)\n",
    "res = time.strftime(\"%H:%M:%S\",ty_res)\n",
    "print(res)"
   ],
   "metadata": {
    "collapsed": false,
    "pycharm": {
     "name": "#%%\n"
    }
   }
  },
  {
   "cell_type": "code",
   "execution_count": 44,
   "outputs": [],
   "source": [
    "df_points.to_csv('../data/df_points/df_points_2020_v2.csv', index=False)"
   ],
   "metadata": {
    "collapsed": false,
    "pycharm": {
     "name": "#%%\n"
    }
   }
  },
  {
   "cell_type": "code",
   "execution_count": 44,
   "outputs": [],
   "source": [],
   "metadata": {
    "collapsed": false,
    "pycharm": {
     "name": "#%%\n"
    }
   }
  }
 ],
 "metadata": {
  "kernelspec": {
   "display_name": "Python 3 (ipykernel)",
   "language": "python",
   "name": "python3"
  },
  "language_info": {
   "codemirror_mode": {
    "name": "ipython",
    "version": 3
   },
   "file_extension": ".py",
   "mimetype": "text/x-python",
   "name": "python",
   "nbconvert_exporter": "python",
   "pygments_lexer": "ipython3",
   "version": "3.9.7"
  }
 },
 "nbformat": 4,
 "nbformat_minor": 5
}