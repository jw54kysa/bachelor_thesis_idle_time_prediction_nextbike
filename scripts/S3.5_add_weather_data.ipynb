{
 "cells": [
  {
   "cell_type": "code",
   "execution_count": 30,
   "id": "d0955657",
   "metadata": {},
   "outputs": [
    {
     "data": {
      "text/plain": "   bike_id        lat        lng  timestood          time_start  \\\n0   3694.0  51.323619  12.335887         12 2017-12-31 23:47:09   \n1   3694.0  51.343813  12.381495        608 2018-01-01 13:51:06   \n2   3694.0  51.343076  12.365177         35 2018-01-02 14:55:53   \n3   3694.0  51.332874  12.373261         66 2018-01-02 22:53:45   \n4   3694.0  51.297564  12.293015        424 2018-01-03 16:55:03   \n\n             time_end           hex_id  \n0 2017-12-31 23:59:59  881f1a8d91fffff  \n1 2018-01-01 23:59:59  881f1a8cb1fffff  \n2 2018-01-02 15:31:44  881f1a8cbdfffff  \n3 2018-01-02 23:59:59  881f1a164bfffff  \n4 2018-01-03 23:59:59  881f1a8da3fffff  ",
      "text/html": "<div>\n<style scoped>\n    .dataframe tbody tr th:only-of-type {\n        vertical-align: middle;\n    }\n\n    .dataframe tbody tr th {\n        vertical-align: top;\n    }\n\n    .dataframe thead th {\n        text-align: right;\n    }\n</style>\n<table border=\"1\" class=\"dataframe\">\n  <thead>\n    <tr style=\"text-align: right;\">\n      <th></th>\n      <th>bike_id</th>\n      <th>lat</th>\n      <th>lng</th>\n      <th>timestood</th>\n      <th>time_start</th>\n      <th>time_end</th>\n      <th>hex_id</th>\n    </tr>\n  </thead>\n  <tbody>\n    <tr>\n      <th>0</th>\n      <td>3694.0</td>\n      <td>51.323619</td>\n      <td>12.335887</td>\n      <td>12</td>\n      <td>2017-12-31 23:47:09</td>\n      <td>2017-12-31 23:59:59</td>\n      <td>881f1a8d91fffff</td>\n    </tr>\n    <tr>\n      <th>1</th>\n      <td>3694.0</td>\n      <td>51.343813</td>\n      <td>12.381495</td>\n      <td>608</td>\n      <td>2018-01-01 13:51:06</td>\n      <td>2018-01-01 23:59:59</td>\n      <td>881f1a8cb1fffff</td>\n    </tr>\n    <tr>\n      <th>2</th>\n      <td>3694.0</td>\n      <td>51.343076</td>\n      <td>12.365177</td>\n      <td>35</td>\n      <td>2018-01-02 14:55:53</td>\n      <td>2018-01-02 15:31:44</td>\n      <td>881f1a8cbdfffff</td>\n    </tr>\n    <tr>\n      <th>3</th>\n      <td>3694.0</td>\n      <td>51.332874</td>\n      <td>12.373261</td>\n      <td>66</td>\n      <td>2018-01-02 22:53:45</td>\n      <td>2018-01-02 23:59:59</td>\n      <td>881f1a164bfffff</td>\n    </tr>\n    <tr>\n      <th>4</th>\n      <td>3694.0</td>\n      <td>51.297564</td>\n      <td>12.293015</td>\n      <td>424</td>\n      <td>2018-01-03 16:55:03</td>\n      <td>2018-01-03 23:59:59</td>\n      <td>881f1a8da3fffff</td>\n    </tr>\n  </tbody>\n</table>\n</div>"
     },
     "execution_count": 30,
     "metadata": {},
     "output_type": "execute_result"
    }
   ],
   "source": [
    "import pandas as pd\n",
    "import numpy as np\n",
    "\n",
    "df = pd.read_csv('../data/final_df_points_18-19-20-21_v1_h8.csv')\n",
    "df['time_start'] = pd.to_datetime(df['time_start'])\n",
    "df['time_end'] = pd.to_datetime(df['time_end'])\n",
    "#del df['Unnamed: 0']\n",
    "#df = df.truncate(after=10000)\n",
    "df.head()"
   ]
  },
  {
   "cell_type": "code",
   "execution_count": 31,
   "id": "0767987f",
   "metadata": {},
   "outputs": [
    {
     "data": {
      "text/plain": "   bike_id        lat        lng  timestood          time_start  \\\n0   3694.0  51.323619  12.335887         12 2017-12-31 23:47:09   \n1   3694.0  51.343813  12.381495        608 2018-01-01 13:51:06   \n2   3694.0  51.343076  12.365177         35 2018-01-02 14:55:53   \n3   3694.0  51.332874  12.373261         66 2018-01-02 22:53:45   \n4   3694.0  51.297564  12.293015        424 2018-01-03 16:55:03   \n\n             time_end           hex_id  temp  rain  snow  \n0 2017-12-31 23:59:59  881f1a8d91fffff   NaN   NaN   NaN  \n1 2018-01-01 23:59:59  881f1a8cb1fffff   NaN   NaN   NaN  \n2 2018-01-02 15:31:44  881f1a8cbdfffff   NaN   NaN   NaN  \n3 2018-01-02 23:59:59  881f1a164bfffff   NaN   NaN   NaN  \n4 2018-01-03 23:59:59  881f1a8da3fffff   NaN   NaN   NaN  ",
      "text/html": "<div>\n<style scoped>\n    .dataframe tbody tr th:only-of-type {\n        vertical-align: middle;\n    }\n\n    .dataframe tbody tr th {\n        vertical-align: top;\n    }\n\n    .dataframe thead th {\n        text-align: right;\n    }\n</style>\n<table border=\"1\" class=\"dataframe\">\n  <thead>\n    <tr style=\"text-align: right;\">\n      <th></th>\n      <th>bike_id</th>\n      <th>lat</th>\n      <th>lng</th>\n      <th>timestood</th>\n      <th>time_start</th>\n      <th>time_end</th>\n      <th>hex_id</th>\n      <th>temp</th>\n      <th>rain</th>\n      <th>snow</th>\n    </tr>\n  </thead>\n  <tbody>\n    <tr>\n      <th>0</th>\n      <td>3694.0</td>\n      <td>51.323619</td>\n      <td>12.335887</td>\n      <td>12</td>\n      <td>2017-12-31 23:47:09</td>\n      <td>2017-12-31 23:59:59</td>\n      <td>881f1a8d91fffff</td>\n      <td>NaN</td>\n      <td>NaN</td>\n      <td>NaN</td>\n    </tr>\n    <tr>\n      <th>1</th>\n      <td>3694.0</td>\n      <td>51.343813</td>\n      <td>12.381495</td>\n      <td>608</td>\n      <td>2018-01-01 13:51:06</td>\n      <td>2018-01-01 23:59:59</td>\n      <td>881f1a8cb1fffff</td>\n      <td>NaN</td>\n      <td>NaN</td>\n      <td>NaN</td>\n    </tr>\n    <tr>\n      <th>2</th>\n      <td>3694.0</td>\n      <td>51.343076</td>\n      <td>12.365177</td>\n      <td>35</td>\n      <td>2018-01-02 14:55:53</td>\n      <td>2018-01-02 15:31:44</td>\n      <td>881f1a8cbdfffff</td>\n      <td>NaN</td>\n      <td>NaN</td>\n      <td>NaN</td>\n    </tr>\n    <tr>\n      <th>3</th>\n      <td>3694.0</td>\n      <td>51.332874</td>\n      <td>12.373261</td>\n      <td>66</td>\n      <td>2018-01-02 22:53:45</td>\n      <td>2018-01-02 23:59:59</td>\n      <td>881f1a164bfffff</td>\n      <td>NaN</td>\n      <td>NaN</td>\n      <td>NaN</td>\n    </tr>\n    <tr>\n      <th>4</th>\n      <td>3694.0</td>\n      <td>51.297564</td>\n      <td>12.293015</td>\n      <td>424</td>\n      <td>2018-01-03 16:55:03</td>\n      <td>2018-01-03 23:59:59</td>\n      <td>881f1a8da3fffff</td>\n      <td>NaN</td>\n      <td>NaN</td>\n      <td>NaN</td>\n    </tr>\n  </tbody>\n</table>\n</div>"
     },
     "execution_count": 31,
     "metadata": {},
     "output_type": "execute_result"
    }
   ],
   "source": [
    "df['temp'] = np.nan\n",
    "df['rain'] = np.nan\n",
    "df['snow'] = np.nan\n",
    "df.head()"
   ]
  },
  {
   "cell_type": "code",
   "execution_count": 32,
   "id": "629de71f",
   "metadata": {},
   "outputs": [
    {
     "data": {
      "text/plain": "                             dt                         dt_iso  timezone  \\\ndatetime                                                                   \n2017-01-01 00:00:00  1483228800  2017-01-01 00:00:00 +0000 UTC      3600   \n2017-01-01 01:00:00  1483232400  2017-01-01 01:00:00 +0000 UTC      3600   \n2017-01-01 02:00:00  1483236000  2017-01-01 02:00:00 +0000 UTC      3600   \n2017-01-01 03:00:00  1483239600  2017-01-01 03:00:00 +0000 UTC      3600   \n2017-01-01 04:00:00  1483243200  2017-01-01 04:00:00 +0000 UTC      3600   \n\n                    city_name        lat        lon  temp  temp_min  temp_max  \\\ndatetime                                                                        \n2017-01-01 00:00:00   Leipzig  51.339695  12.373075 -1.23     -1.47     -0.84   \n2017-01-01 01:00:00   Leipzig  51.339695  12.373075 -1.59     -1.94     -1.41   \n2017-01-01 02:00:00   Leipzig  51.339695  12.373075 -1.68     -1.94     -1.49   \n2017-01-01 03:00:00   Leipzig  51.339695  12.373075 -1.84     -2.10     -1.60   \n2017-01-01 04:00:00   Leipzig  51.339695  12.373075 -2.07     -2.94     -1.65   \n\n                     humidity  wind_speed  wind_deg  wind_gust  rain_1h  \\\ndatetime                                                                  \n2017-01-01 00:00:00        74         6.2       200        NaN      NaN   \n2017-01-01 01:00:00        73         7.2       210        NaN      NaN   \n2017-01-01 02:00:00        73         6.7       220        NaN      NaN   \n2017-01-01 03:00:00        68         6.2       210        NaN      NaN   \n2017-01-01 04:00:00        73         4.1       190        NaN      NaN   \n\n                     rain_3h  snow_1h  snow_3h  \ndatetime                                        \n2017-01-01 00:00:00      NaN      NaN      NaN  \n2017-01-01 01:00:00      NaN      NaN      NaN  \n2017-01-01 02:00:00      NaN      NaN      NaN  \n2017-01-01 03:00:00      NaN      NaN      NaN  \n2017-01-01 04:00:00      NaN      NaN      NaN  ",
      "text/html": "<div>\n<style scoped>\n    .dataframe tbody tr th:only-of-type {\n        vertical-align: middle;\n    }\n\n    .dataframe tbody tr th {\n        vertical-align: top;\n    }\n\n    .dataframe thead th {\n        text-align: right;\n    }\n</style>\n<table border=\"1\" class=\"dataframe\">\n  <thead>\n    <tr style=\"text-align: right;\">\n      <th></th>\n      <th>dt</th>\n      <th>dt_iso</th>\n      <th>timezone</th>\n      <th>city_name</th>\n      <th>lat</th>\n      <th>lon</th>\n      <th>temp</th>\n      <th>temp_min</th>\n      <th>temp_max</th>\n      <th>humidity</th>\n      <th>wind_speed</th>\n      <th>wind_deg</th>\n      <th>wind_gust</th>\n      <th>rain_1h</th>\n      <th>rain_3h</th>\n      <th>snow_1h</th>\n      <th>snow_3h</th>\n    </tr>\n    <tr>\n      <th>datetime</th>\n      <th></th>\n      <th></th>\n      <th></th>\n      <th></th>\n      <th></th>\n      <th></th>\n      <th></th>\n      <th></th>\n      <th></th>\n      <th></th>\n      <th></th>\n      <th></th>\n      <th></th>\n      <th></th>\n      <th></th>\n      <th></th>\n      <th></th>\n    </tr>\n  </thead>\n  <tbody>\n    <tr>\n      <th>2017-01-01 00:00:00</th>\n      <td>1483228800</td>\n      <td>2017-01-01 00:00:00 +0000 UTC</td>\n      <td>3600</td>\n      <td>Leipzig</td>\n      <td>51.339695</td>\n      <td>12.373075</td>\n      <td>-1.23</td>\n      <td>-1.47</td>\n      <td>-0.84</td>\n      <td>74</td>\n      <td>6.2</td>\n      <td>200</td>\n      <td>NaN</td>\n      <td>NaN</td>\n      <td>NaN</td>\n      <td>NaN</td>\n      <td>NaN</td>\n    </tr>\n    <tr>\n      <th>2017-01-01 01:00:00</th>\n      <td>1483232400</td>\n      <td>2017-01-01 01:00:00 +0000 UTC</td>\n      <td>3600</td>\n      <td>Leipzig</td>\n      <td>51.339695</td>\n      <td>12.373075</td>\n      <td>-1.59</td>\n      <td>-1.94</td>\n      <td>-1.41</td>\n      <td>73</td>\n      <td>7.2</td>\n      <td>210</td>\n      <td>NaN</td>\n      <td>NaN</td>\n      <td>NaN</td>\n      <td>NaN</td>\n      <td>NaN</td>\n    </tr>\n    <tr>\n      <th>2017-01-01 02:00:00</th>\n      <td>1483236000</td>\n      <td>2017-01-01 02:00:00 +0000 UTC</td>\n      <td>3600</td>\n      <td>Leipzig</td>\n      <td>51.339695</td>\n      <td>12.373075</td>\n      <td>-1.68</td>\n      <td>-1.94</td>\n      <td>-1.49</td>\n      <td>73</td>\n      <td>6.7</td>\n      <td>220</td>\n      <td>NaN</td>\n      <td>NaN</td>\n      <td>NaN</td>\n      <td>NaN</td>\n      <td>NaN</td>\n    </tr>\n    <tr>\n      <th>2017-01-01 03:00:00</th>\n      <td>1483239600</td>\n      <td>2017-01-01 03:00:00 +0000 UTC</td>\n      <td>3600</td>\n      <td>Leipzig</td>\n      <td>51.339695</td>\n      <td>12.373075</td>\n      <td>-1.84</td>\n      <td>-2.10</td>\n      <td>-1.60</td>\n      <td>68</td>\n      <td>6.2</td>\n      <td>210</td>\n      <td>NaN</td>\n      <td>NaN</td>\n      <td>NaN</td>\n      <td>NaN</td>\n      <td>NaN</td>\n    </tr>\n    <tr>\n      <th>2017-01-01 04:00:00</th>\n      <td>1483243200</td>\n      <td>2017-01-01 04:00:00 +0000 UTC</td>\n      <td>3600</td>\n      <td>Leipzig</td>\n      <td>51.339695</td>\n      <td>12.373075</td>\n      <td>-2.07</td>\n      <td>-2.94</td>\n      <td>-1.65</td>\n      <td>73</td>\n      <td>4.1</td>\n      <td>190</td>\n      <td>NaN</td>\n      <td>NaN</td>\n      <td>NaN</td>\n      <td>NaN</td>\n      <td>NaN</td>\n    </tr>\n  </tbody>\n</table>\n</div>"
     },
     "execution_count": 32,
     "metadata": {},
     "output_type": "execute_result"
    }
   ],
   "source": [
    "dfw = pd.read_csv('/Users/jonweske/devment/BA_nextbike/data/weather_data.csv')\n",
    "dfw['datetime'] = pd.to_datetime(dfw['dt'], unit='s')\n",
    "dfw = dfw.set_index(['datetime'])\n",
    "dfw.head()"
   ]
  },
  {
   "cell_type": "code",
   "execution_count": 33,
   "id": "e0d04857",
   "metadata": {},
   "outputs": [
    {
     "name": "stderr",
     "output_type": "stream",
     "text": [
      "  1%|          | 26445/2435439 [00:27<41:32, 966.55it/s] \n"
     ]
    },
    {
     "ename": "KeyboardInterrupt",
     "evalue": "",
     "output_type": "error",
     "traceback": [
      "\u001B[0;31m---------------------------------------------------------------------------\u001B[0m",
      "\u001B[0;31mKeyboardInterrupt\u001B[0m                         Traceback (most recent call last)",
      "\u001B[0;32m/var/folders/5t/28jzvs016nq5vxslb670gs040000gn/T/ipykernel_10558/3874044509.py\u001B[0m in \u001B[0;36m<module>\u001B[0;34m\u001B[0m\n\u001B[1;32m      8\u001B[0m     \u001B[0mwint\u001B[0m \u001B[0;34m=\u001B[0m \u001B[0mdf\u001B[0m\u001B[0;34m[\u001B[0m\u001B[0;34m'time_start'\u001B[0m\u001B[0;34m]\u001B[0m\u001B[0;34m[\u001B[0m\u001B[0mind\u001B[0m\u001B[0;34m]\u001B[0m\u001B[0;34m.\u001B[0m\u001B[0mreplace\u001B[0m\u001B[0;34m(\u001B[0m\u001B[0mminute\u001B[0m\u001B[0;34m=\u001B[0m\u001B[0;36m0\u001B[0m\u001B[0;34m,\u001B[0m\u001B[0msecond\u001B[0m\u001B[0;34m=\u001B[0m\u001B[0;36m0\u001B[0m\u001B[0;34m)\u001B[0m\u001B[0;34m\u001B[0m\u001B[0;34m\u001B[0m\u001B[0m\n\u001B[1;32m      9\u001B[0m     \u001B[0mdf\u001B[0m\u001B[0;34m[\u001B[0m\u001B[0;34m'temp'\u001B[0m\u001B[0;34m]\u001B[0m\u001B[0;34m[\u001B[0m\u001B[0mind\u001B[0m\u001B[0;34m]\u001B[0m \u001B[0;34m=\u001B[0m \u001B[0mdfw\u001B[0m\u001B[0;34m[\u001B[0m\u001B[0;34m'temp'\u001B[0m\u001B[0;34m]\u001B[0m\u001B[0;34m[\u001B[0m\u001B[0mwint\u001B[0m\u001B[0;34m]\u001B[0m\u001B[0;34m.\u001B[0m\u001B[0mcopy\u001B[0m\u001B[0;34m(\u001B[0m\u001B[0;34m)\u001B[0m\u001B[0;34m\u001B[0m\u001B[0;34m\u001B[0m\u001B[0m\n\u001B[0;32m---> 10\u001B[0;31m     \u001B[0mdf\u001B[0m\u001B[0;34m[\u001B[0m\u001B[0;34m'rain'\u001B[0m\u001B[0;34m]\u001B[0m\u001B[0;34m[\u001B[0m\u001B[0mind\u001B[0m\u001B[0;34m]\u001B[0m \u001B[0;34m=\u001B[0m \u001B[0mdfw\u001B[0m\u001B[0;34m[\u001B[0m\u001B[0;34m'rain_1h'\u001B[0m\u001B[0;34m]\u001B[0m\u001B[0;34m[\u001B[0m\u001B[0mwint\u001B[0m\u001B[0;34m]\u001B[0m\u001B[0;34m.\u001B[0m\u001B[0mcopy\u001B[0m\u001B[0;34m(\u001B[0m\u001B[0;34m)\u001B[0m\u001B[0;34m\u001B[0m\u001B[0;34m\u001B[0m\u001B[0m\n\u001B[0m\u001B[1;32m     11\u001B[0m     \u001B[0mdf\u001B[0m\u001B[0;34m[\u001B[0m\u001B[0;34m'snow'\u001B[0m\u001B[0;34m]\u001B[0m\u001B[0;34m[\u001B[0m\u001B[0mind\u001B[0m\u001B[0;34m]\u001B[0m \u001B[0;34m=\u001B[0m \u001B[0mdfw\u001B[0m\u001B[0;34m[\u001B[0m\u001B[0;34m'snow_1h'\u001B[0m\u001B[0;34m]\u001B[0m\u001B[0;34m[\u001B[0m\u001B[0mwint\u001B[0m\u001B[0;34m]\u001B[0m\u001B[0;34m.\u001B[0m\u001B[0mcopy\u001B[0m\u001B[0;34m(\u001B[0m\u001B[0;34m)\u001B[0m\u001B[0;34m\u001B[0m\u001B[0;34m\u001B[0m\u001B[0m\n\u001B[1;32m     12\u001B[0m \u001B[0;34m\u001B[0m\u001B[0m\n",
      "\u001B[0;32m/usr/local/Caskroom/miniconda/base/envs/geobike/lib/python3.9/site-packages/pandas/core/series.py\u001B[0m in \u001B[0;36m__setitem__\u001B[0;34m(self, key, value)\u001B[0m\n\u001B[1;32m   1054\u001B[0m     \u001B[0;32mdef\u001B[0m \u001B[0m__setitem__\u001B[0m\u001B[0;34m(\u001B[0m\u001B[0mself\u001B[0m\u001B[0;34m,\u001B[0m \u001B[0mkey\u001B[0m\u001B[0;34m,\u001B[0m \u001B[0mvalue\u001B[0m\u001B[0;34m)\u001B[0m \u001B[0;34m->\u001B[0m \u001B[0;32mNone\u001B[0m\u001B[0;34m:\u001B[0m\u001B[0;34m\u001B[0m\u001B[0;34m\u001B[0m\u001B[0m\n\u001B[1;32m   1055\u001B[0m         \u001B[0mkey\u001B[0m \u001B[0;34m=\u001B[0m \u001B[0mcom\u001B[0m\u001B[0;34m.\u001B[0m\u001B[0mapply_if_callable\u001B[0m\u001B[0;34m(\u001B[0m\u001B[0mkey\u001B[0m\u001B[0;34m,\u001B[0m \u001B[0mself\u001B[0m\u001B[0;34m)\u001B[0m\u001B[0;34m\u001B[0m\u001B[0;34m\u001B[0m\u001B[0m\n\u001B[0;32m-> 1056\u001B[0;31m         \u001B[0mcacher_needs_updating\u001B[0m \u001B[0;34m=\u001B[0m \u001B[0mself\u001B[0m\u001B[0;34m.\u001B[0m\u001B[0m_check_is_chained_assignment_possible\u001B[0m\u001B[0;34m(\u001B[0m\u001B[0;34m)\u001B[0m\u001B[0;34m\u001B[0m\u001B[0;34m\u001B[0m\u001B[0m\n\u001B[0m\u001B[1;32m   1057\u001B[0m \u001B[0;34m\u001B[0m\u001B[0m\n\u001B[1;32m   1058\u001B[0m         \u001B[0;32mif\u001B[0m \u001B[0mkey\u001B[0m \u001B[0;32mis\u001B[0m \u001B[0mEllipsis\u001B[0m\u001B[0;34m:\u001B[0m\u001B[0;34m\u001B[0m\u001B[0;34m\u001B[0m\u001B[0m\n",
      "\u001B[0;32m/usr/local/Caskroom/miniconda/base/envs/geobike/lib/python3.9/site-packages/pandas/core/series.py\u001B[0m in \u001B[0;36m_check_is_chained_assignment_possible\u001B[0;34m(self)\u001B[0m\n\u001B[1;32m   1209\u001B[0m         \u001B[0;32mif\u001B[0m \u001B[0mself\u001B[0m\u001B[0;34m.\u001B[0m\u001B[0m_is_view\u001B[0m \u001B[0;32mand\u001B[0m \u001B[0mself\u001B[0m\u001B[0;34m.\u001B[0m\u001B[0m_is_cached\u001B[0m\u001B[0;34m:\u001B[0m\u001B[0;34m\u001B[0m\u001B[0;34m\u001B[0m\u001B[0m\n\u001B[1;32m   1210\u001B[0m             \u001B[0mref\u001B[0m \u001B[0;34m=\u001B[0m \u001B[0mself\u001B[0m\u001B[0;34m.\u001B[0m\u001B[0m_get_cacher\u001B[0m\u001B[0;34m(\u001B[0m\u001B[0;34m)\u001B[0m\u001B[0;34m\u001B[0m\u001B[0;34m\u001B[0m\u001B[0m\n\u001B[0;32m-> 1211\u001B[0;31m             \u001B[0;32mif\u001B[0m \u001B[0mref\u001B[0m \u001B[0;32mis\u001B[0m \u001B[0;32mnot\u001B[0m \u001B[0;32mNone\u001B[0m \u001B[0;32mand\u001B[0m \u001B[0mref\u001B[0m\u001B[0;34m.\u001B[0m\u001B[0m_is_mixed_type\u001B[0m\u001B[0;34m:\u001B[0m\u001B[0;34m\u001B[0m\u001B[0;34m\u001B[0m\u001B[0m\n\u001B[0m\u001B[1;32m   1212\u001B[0m                 \u001B[0mself\u001B[0m\u001B[0;34m.\u001B[0m\u001B[0m_check_setitem_copy\u001B[0m\u001B[0;34m(\u001B[0m\u001B[0mstacklevel\u001B[0m\u001B[0;34m=\u001B[0m\u001B[0;36m4\u001B[0m\u001B[0;34m,\u001B[0m \u001B[0mt\u001B[0m\u001B[0;34m=\u001B[0m\u001B[0;34m\"referent\"\u001B[0m\u001B[0;34m,\u001B[0m \u001B[0mforce\u001B[0m\u001B[0;34m=\u001B[0m\u001B[0;32mTrue\u001B[0m\u001B[0;34m)\u001B[0m\u001B[0;34m\u001B[0m\u001B[0;34m\u001B[0m\u001B[0m\n\u001B[1;32m   1213\u001B[0m             \u001B[0;32mreturn\u001B[0m \u001B[0;32mTrue\u001B[0m\u001B[0;34m\u001B[0m\u001B[0;34m\u001B[0m\u001B[0m\n",
      "\u001B[0;32m/usr/local/Caskroom/miniconda/base/envs/geobike/lib/python3.9/site-packages/pandas/core/generic.py\u001B[0m in \u001B[0;36m_is_mixed_type\u001B[0;34m(self)\u001B[0m\n\u001B[1;32m   5590\u001B[0m             \u001B[0;32mreturn\u001B[0m \u001B[0;32mTrue\u001B[0m\u001B[0;34m\u001B[0m\u001B[0;34m\u001B[0m\u001B[0m\n\u001B[1;32m   5591\u001B[0m \u001B[0;34m\u001B[0m\u001B[0m\n\u001B[0;32m-> 5592\u001B[0;31m         \u001B[0;32mreturn\u001B[0m \u001B[0mself\u001B[0m\u001B[0;34m.\u001B[0m\u001B[0mdtypes\u001B[0m\u001B[0;34m.\u001B[0m\u001B[0mnunique\u001B[0m\u001B[0;34m(\u001B[0m\u001B[0;34m)\u001B[0m \u001B[0;34m>\u001B[0m \u001B[0;36m1\u001B[0m\u001B[0;34m\u001B[0m\u001B[0;34m\u001B[0m\u001B[0m\n\u001B[0m\u001B[1;32m   5593\u001B[0m \u001B[0;34m\u001B[0m\u001B[0m\n\u001B[1;32m   5594\u001B[0m     \u001B[0;34m@\u001B[0m\u001B[0mfinal\u001B[0m\u001B[0;34m\u001B[0m\u001B[0;34m\u001B[0m\u001B[0m\n",
      "\u001B[0;32m/usr/local/Caskroom/miniconda/base/envs/geobike/lib/python3.9/site-packages/pandas/core/base.py\u001B[0m in \u001B[0;36mnunique\u001B[0;34m(self, dropna)\u001B[0m\n\u001B[1;32m   1017\u001B[0m         \u001B[0muniqs\u001B[0m \u001B[0;34m=\u001B[0m \u001B[0mself\u001B[0m\u001B[0;34m.\u001B[0m\u001B[0munique\u001B[0m\u001B[0;34m(\u001B[0m\u001B[0;34m)\u001B[0m\u001B[0;34m\u001B[0m\u001B[0;34m\u001B[0m\u001B[0m\n\u001B[1;32m   1018\u001B[0m         \u001B[0;32mif\u001B[0m \u001B[0mdropna\u001B[0m\u001B[0;34m:\u001B[0m\u001B[0;34m\u001B[0m\u001B[0;34m\u001B[0m\u001B[0m\n\u001B[0;32m-> 1019\u001B[0;31m             \u001B[0muniqs\u001B[0m \u001B[0;34m=\u001B[0m \u001B[0mremove_na_arraylike\u001B[0m\u001B[0;34m(\u001B[0m\u001B[0muniqs\u001B[0m\u001B[0;34m)\u001B[0m\u001B[0;34m\u001B[0m\u001B[0;34m\u001B[0m\u001B[0m\n\u001B[0m\u001B[1;32m   1020\u001B[0m         \u001B[0;32mreturn\u001B[0m \u001B[0mlen\u001B[0m\u001B[0;34m(\u001B[0m\u001B[0muniqs\u001B[0m\u001B[0;34m)\u001B[0m\u001B[0;34m\u001B[0m\u001B[0;34m\u001B[0m\u001B[0m\n\u001B[1;32m   1021\u001B[0m \u001B[0;34m\u001B[0m\u001B[0m\n",
      "\u001B[0;32m/usr/local/Caskroom/miniconda/base/envs/geobike/lib/python3.9/site-packages/pandas/core/dtypes/missing.py\u001B[0m in \u001B[0;36mremove_na_arraylike\u001B[0;34m(arr)\u001B[0m\n\u001B[1;32m    601\u001B[0m         \u001B[0;32mreturn\u001B[0m \u001B[0marr\u001B[0m\u001B[0;34m[\u001B[0m\u001B[0mnotna\u001B[0m\u001B[0;34m(\u001B[0m\u001B[0marr\u001B[0m\u001B[0;34m)\u001B[0m\u001B[0;34m]\u001B[0m\u001B[0;34m\u001B[0m\u001B[0;34m\u001B[0m\u001B[0m\n\u001B[1;32m    602\u001B[0m     \u001B[0;32melse\u001B[0m\u001B[0;34m:\u001B[0m\u001B[0;34m\u001B[0m\u001B[0;34m\u001B[0m\u001B[0m\n\u001B[0;32m--> 603\u001B[0;31m         \u001B[0;32mreturn\u001B[0m \u001B[0marr\u001B[0m\u001B[0;34m[\u001B[0m\u001B[0mnotna\u001B[0m\u001B[0;34m(\u001B[0m\u001B[0mnp\u001B[0m\u001B[0;34m.\u001B[0m\u001B[0masarray\u001B[0m\u001B[0;34m(\u001B[0m\u001B[0marr\u001B[0m\u001B[0;34m)\u001B[0m\u001B[0;34m)\u001B[0m\u001B[0;34m]\u001B[0m\u001B[0;34m\u001B[0m\u001B[0;34m\u001B[0m\u001B[0m\n\u001B[0m\u001B[1;32m    604\u001B[0m \u001B[0;34m\u001B[0m\u001B[0m\n\u001B[1;32m    605\u001B[0m \u001B[0;34m\u001B[0m\u001B[0m\n",
      "\u001B[0;32m/usr/local/Caskroom/miniconda/base/envs/geobike/lib/python3.9/site-packages/pandas/core/dtypes/missing.py\u001B[0m in \u001B[0;36mnotna\u001B[0;34m(obj)\u001B[0m\n\u001B[1;32m    353\u001B[0m     \u001B[0mName\u001B[0m\u001B[0;34m:\u001B[0m \u001B[0;36m1\u001B[0m\u001B[0;34m,\u001B[0m \u001B[0mdtype\u001B[0m\u001B[0;34m:\u001B[0m \u001B[0mbool\u001B[0m\u001B[0;34m\u001B[0m\u001B[0;34m\u001B[0m\u001B[0m\n\u001B[1;32m    354\u001B[0m     \"\"\"\n\u001B[0;32m--> 355\u001B[0;31m     \u001B[0mres\u001B[0m \u001B[0;34m=\u001B[0m \u001B[0misna\u001B[0m\u001B[0;34m(\u001B[0m\u001B[0mobj\u001B[0m\u001B[0;34m)\u001B[0m\u001B[0;34m\u001B[0m\u001B[0;34m\u001B[0m\u001B[0m\n\u001B[0m\u001B[1;32m    356\u001B[0m     \u001B[0;32mif\u001B[0m \u001B[0mis_scalar\u001B[0m\u001B[0;34m(\u001B[0m\u001B[0mres\u001B[0m\u001B[0;34m)\u001B[0m\u001B[0;34m:\u001B[0m\u001B[0;34m\u001B[0m\u001B[0;34m\u001B[0m\u001B[0m\n\u001B[1;32m    357\u001B[0m         \u001B[0;32mreturn\u001B[0m \u001B[0;32mnot\u001B[0m \u001B[0mres\u001B[0m\u001B[0;34m\u001B[0m\u001B[0;34m\u001B[0m\u001B[0m\n",
      "\u001B[0;32m/usr/local/Caskroom/miniconda/base/envs/geobike/lib/python3.9/site-packages/pandas/core/dtypes/missing.py\u001B[0m in \u001B[0;36misna\u001B[0;34m(obj)\u001B[0m\n\u001B[1;32m    136\u001B[0m     \u001B[0mName\u001B[0m\u001B[0;34m:\u001B[0m \u001B[0;36m1\u001B[0m\u001B[0;34m,\u001B[0m \u001B[0mdtype\u001B[0m\u001B[0;34m:\u001B[0m \u001B[0mbool\u001B[0m\u001B[0;34m\u001B[0m\u001B[0;34m\u001B[0m\u001B[0m\n\u001B[1;32m    137\u001B[0m     \"\"\"\n\u001B[0;32m--> 138\u001B[0;31m     \u001B[0;32mreturn\u001B[0m \u001B[0m_isna\u001B[0m\u001B[0;34m(\u001B[0m\u001B[0mobj\u001B[0m\u001B[0;34m)\u001B[0m\u001B[0;34m\u001B[0m\u001B[0;34m\u001B[0m\u001B[0m\n\u001B[0m\u001B[1;32m    139\u001B[0m \u001B[0;34m\u001B[0m\u001B[0m\n\u001B[1;32m    140\u001B[0m \u001B[0;34m\u001B[0m\u001B[0m\n",
      "\u001B[0;32m/usr/local/Caskroom/miniconda/base/envs/geobike/lib/python3.9/site-packages/pandas/core/dtypes/missing.py\u001B[0m in \u001B[0;36m_isna\u001B[0;34m(obj, inf_as_na)\u001B[0m\n\u001B[1;32m    169\u001B[0m         \u001B[0;32mreturn\u001B[0m \u001B[0;32mFalse\u001B[0m\u001B[0;34m\u001B[0m\u001B[0;34m\u001B[0m\u001B[0m\n\u001B[1;32m    170\u001B[0m     \u001B[0;32melif\u001B[0m \u001B[0misinstance\u001B[0m\u001B[0;34m(\u001B[0m\u001B[0mobj\u001B[0m\u001B[0;34m,\u001B[0m \u001B[0;34m(\u001B[0m\u001B[0mnp\u001B[0m\u001B[0;34m.\u001B[0m\u001B[0mndarray\u001B[0m\u001B[0;34m,\u001B[0m \u001B[0mABCExtensionArray\u001B[0m\u001B[0;34m)\u001B[0m\u001B[0;34m)\u001B[0m\u001B[0;34m:\u001B[0m\u001B[0;34m\u001B[0m\u001B[0;34m\u001B[0m\u001B[0m\n\u001B[0;32m--> 171\u001B[0;31m         \u001B[0;32mreturn\u001B[0m \u001B[0m_isna_array\u001B[0m\u001B[0;34m(\u001B[0m\u001B[0mobj\u001B[0m\u001B[0;34m,\u001B[0m \u001B[0minf_as_na\u001B[0m\u001B[0;34m=\u001B[0m\u001B[0minf_as_na\u001B[0m\u001B[0;34m)\u001B[0m\u001B[0;34m\u001B[0m\u001B[0;34m\u001B[0m\u001B[0m\n\u001B[0m\u001B[1;32m    172\u001B[0m     \u001B[0;32melif\u001B[0m \u001B[0misinstance\u001B[0m\u001B[0;34m(\u001B[0m\u001B[0mobj\u001B[0m\u001B[0;34m,\u001B[0m \u001B[0;34m(\u001B[0m\u001B[0mABCSeries\u001B[0m\u001B[0;34m,\u001B[0m \u001B[0mABCIndex\u001B[0m\u001B[0;34m)\u001B[0m\u001B[0;34m)\u001B[0m\u001B[0;34m:\u001B[0m\u001B[0;34m\u001B[0m\u001B[0;34m\u001B[0m\u001B[0m\n\u001B[1;32m    173\u001B[0m         \u001B[0mresult\u001B[0m \u001B[0;34m=\u001B[0m \u001B[0m_isna_array\u001B[0m\u001B[0;34m(\u001B[0m\u001B[0mobj\u001B[0m\u001B[0;34m.\u001B[0m\u001B[0m_values\u001B[0m\u001B[0;34m,\u001B[0m \u001B[0minf_as_na\u001B[0m\u001B[0;34m=\u001B[0m\u001B[0minf_as_na\u001B[0m\u001B[0;34m)\u001B[0m\u001B[0;34m\u001B[0m\u001B[0;34m\u001B[0m\u001B[0m\n",
      "\u001B[0;32m/usr/local/Caskroom/miniconda/base/envs/geobike/lib/python3.9/site-packages/pandas/core/dtypes/missing.py\u001B[0m in \u001B[0;36m_isna_array\u001B[0;34m(values, inf_as_na)\u001B[0m\n\u001B[1;32m    244\u001B[0m             \u001B[0mresult\u001B[0m \u001B[0;34m=\u001B[0m \u001B[0mvalues\u001B[0m\u001B[0;34m.\u001B[0m\u001B[0misna\u001B[0m\u001B[0;34m(\u001B[0m\u001B[0;34m)\u001B[0m\u001B[0;34m\u001B[0m\u001B[0;34m\u001B[0m\u001B[0m\n\u001B[1;32m    245\u001B[0m     \u001B[0;32melif\u001B[0m \u001B[0mis_string_dtype\u001B[0m\u001B[0;34m(\u001B[0m\u001B[0mdtype\u001B[0m\u001B[0;34m)\u001B[0m\u001B[0;34m:\u001B[0m\u001B[0;34m\u001B[0m\u001B[0;34m\u001B[0m\u001B[0m\n\u001B[0;32m--> 246\u001B[0;31m         \u001B[0mresult\u001B[0m \u001B[0;34m=\u001B[0m \u001B[0m_isna_string_dtype\u001B[0m\u001B[0;34m(\u001B[0m\u001B[0mvalues\u001B[0m\u001B[0;34m,\u001B[0m \u001B[0minf_as_na\u001B[0m\u001B[0;34m=\u001B[0m\u001B[0minf_as_na\u001B[0m\u001B[0;34m)\u001B[0m\u001B[0;34m\u001B[0m\u001B[0;34m\u001B[0m\u001B[0m\n\u001B[0m\u001B[1;32m    247\u001B[0m     \u001B[0;32melif\u001B[0m \u001B[0mneeds_i8_conversion\u001B[0m\u001B[0;34m(\u001B[0m\u001B[0mdtype\u001B[0m\u001B[0;34m)\u001B[0m\u001B[0;34m:\u001B[0m\u001B[0;34m\u001B[0m\u001B[0;34m\u001B[0m\u001B[0m\n\u001B[1;32m    248\u001B[0m         \u001B[0;31m# this is the NaT pattern\u001B[0m\u001B[0;34m\u001B[0m\u001B[0;34m\u001B[0m\u001B[0m\n",
      "\u001B[0;32m/usr/local/Caskroom/miniconda/base/envs/geobike/lib/python3.9/site-packages/pandas/core/dtypes/missing.py\u001B[0m in \u001B[0;36m_isna_string_dtype\u001B[0;34m(values, inf_as_na)\u001B[0m\n\u001B[1;32m    271\u001B[0m             \u001B[0mvec\u001B[0m \u001B[0;34m=\u001B[0m \u001B[0mlibmissing\u001B[0m\u001B[0;34m.\u001B[0m\u001B[0misnaobj\u001B[0m\u001B[0;34m(\u001B[0m\u001B[0mvalues\u001B[0m\u001B[0;34m.\u001B[0m\u001B[0mravel\u001B[0m\u001B[0;34m(\u001B[0m\u001B[0;34m)\u001B[0m\u001B[0;34m)\u001B[0m\u001B[0;34m\u001B[0m\u001B[0;34m\u001B[0m\u001B[0m\n\u001B[1;32m    272\u001B[0m \u001B[0;34m\u001B[0m\u001B[0m\n\u001B[0;32m--> 273\u001B[0;31m         \u001B[0mresult\u001B[0m\u001B[0;34m[\u001B[0m\u001B[0;34m...\u001B[0m\u001B[0;34m]\u001B[0m \u001B[0;34m=\u001B[0m \u001B[0mvec\u001B[0m\u001B[0;34m.\u001B[0m\u001B[0mreshape\u001B[0m\u001B[0;34m(\u001B[0m\u001B[0mshape\u001B[0m\u001B[0;34m)\u001B[0m\u001B[0;34m\u001B[0m\u001B[0;34m\u001B[0m\u001B[0m\n\u001B[0m\u001B[1;32m    274\u001B[0m \u001B[0;34m\u001B[0m\u001B[0m\n\u001B[1;32m    275\u001B[0m     \u001B[0;32mreturn\u001B[0m \u001B[0mresult\u001B[0m\u001B[0;34m\u001B[0m\u001B[0;34m\u001B[0m\u001B[0m\n",
      "\u001B[0;31mKeyboardInterrupt\u001B[0m: "
     ]
    }
   ],
   "source": [
    "## copy temp / rain / snow to every row\n",
    "## by last hourly data\n",
    "\n",
    "from tqdm import tqdm\n",
    "pd.options.mode.chained_assignment = None\n",
    "\n",
    "for ind in tqdm(df.index):\n",
    "    wint = df['time_start'][ind].replace(minute=0,second=0)\n",
    "    df['temp'][ind] = dfw['temp'][wint].copy()\n",
    "    df['rain'][ind] = dfw['rain_1h'][wint].copy()\n",
    "    df['snow'][ind] = dfw['snow_1h'][wint].copy()\n",
    "\n",
    "df.head()"
   ]
  },
  {
   "cell_type": "code",
   "execution_count": 27,
   "id": "e301feb0",
   "metadata": {},
   "outputs": [
    {
     "data": {
      "text/plain": "   bike_id        lat        lng  timestood          time_start  \\\n0     3694  51.323619  12.335887         12 2017-12-31 23:47:09   \n1     3694  51.343813  12.381495        608 2018-01-01 13:51:06   \n2     3694  51.343076  12.365177         35 2018-01-02 14:55:53   \n3     3694  51.332874  12.373261         66 2018-01-02 22:53:45   \n4     3694  51.297564  12.293015        424 2018-01-03 16:55:03   \n\n             time_end           hex_id   temp  rain  snow    dt_start  \\\n0 2017-12-31 23:59:59  881f1a8d91fffff  10.80   NaN   NaN  1514764029   \n1 2018-01-01 23:59:59  881f1a8cb1fffff   8.52   NaN   NaN  1514814666   \n2 2018-01-02 15:31:44  881f1a8cbdfffff   6.11   NaN   NaN  1514904953   \n3 2018-01-02 23:59:59  881f1a164bfffff   2.96   NaN   NaN  1514933625   \n4 2018-01-03 23:59:59  881f1a8da3fffff   7.11  0.14   NaN  1514998503   \n\n       dt_end  \n0  1514764799  \n1  1514851199  \n2  1514907104  \n3  1514937599  \n4  1515023999  ",
      "text/html": "<div>\n<style scoped>\n    .dataframe tbody tr th:only-of-type {\n        vertical-align: middle;\n    }\n\n    .dataframe tbody tr th {\n        vertical-align: top;\n    }\n\n    .dataframe thead th {\n        text-align: right;\n    }\n</style>\n<table border=\"1\" class=\"dataframe\">\n  <thead>\n    <tr style=\"text-align: right;\">\n      <th></th>\n      <th>bike_id</th>\n      <th>lat</th>\n      <th>lng</th>\n      <th>timestood</th>\n      <th>time_start</th>\n      <th>time_end</th>\n      <th>hex_id</th>\n      <th>temp</th>\n      <th>rain</th>\n      <th>snow</th>\n      <th>dt_start</th>\n      <th>dt_end</th>\n    </tr>\n  </thead>\n  <tbody>\n    <tr>\n      <th>0</th>\n      <td>3694</td>\n      <td>51.323619</td>\n      <td>12.335887</td>\n      <td>12</td>\n      <td>2017-12-31 23:47:09</td>\n      <td>2017-12-31 23:59:59</td>\n      <td>881f1a8d91fffff</td>\n      <td>10.80</td>\n      <td>NaN</td>\n      <td>NaN</td>\n      <td>1514764029</td>\n      <td>1514764799</td>\n    </tr>\n    <tr>\n      <th>1</th>\n      <td>3694</td>\n      <td>51.343813</td>\n      <td>12.381495</td>\n      <td>608</td>\n      <td>2018-01-01 13:51:06</td>\n      <td>2018-01-01 23:59:59</td>\n      <td>881f1a8cb1fffff</td>\n      <td>8.52</td>\n      <td>NaN</td>\n      <td>NaN</td>\n      <td>1514814666</td>\n      <td>1514851199</td>\n    </tr>\n    <tr>\n      <th>2</th>\n      <td>3694</td>\n      <td>51.343076</td>\n      <td>12.365177</td>\n      <td>35</td>\n      <td>2018-01-02 14:55:53</td>\n      <td>2018-01-02 15:31:44</td>\n      <td>881f1a8cbdfffff</td>\n      <td>6.11</td>\n      <td>NaN</td>\n      <td>NaN</td>\n      <td>1514904953</td>\n      <td>1514907104</td>\n    </tr>\n    <tr>\n      <th>3</th>\n      <td>3694</td>\n      <td>51.332874</td>\n      <td>12.373261</td>\n      <td>66</td>\n      <td>2018-01-02 22:53:45</td>\n      <td>2018-01-02 23:59:59</td>\n      <td>881f1a164bfffff</td>\n      <td>2.96</td>\n      <td>NaN</td>\n      <td>NaN</td>\n      <td>1514933625</td>\n      <td>1514937599</td>\n    </tr>\n    <tr>\n      <th>4</th>\n      <td>3694</td>\n      <td>51.297564</td>\n      <td>12.293015</td>\n      <td>424</td>\n      <td>2018-01-03 16:55:03</td>\n      <td>2018-01-03 23:59:59</td>\n      <td>881f1a8da3fffff</td>\n      <td>7.11</td>\n      <td>0.14</td>\n      <td>NaN</td>\n      <td>1514998503</td>\n      <td>1515023999</td>\n    </tr>\n  </tbody>\n</table>\n</div>"
     },
     "execution_count": 27,
     "metadata": {},
     "output_type": "execute_result"
    }
   ],
   "source": [
    "import datetime\n",
    "import time\n",
    "\n",
    "#df['dt_start'] = pd.to_datetime(df['time_start']).astype(int) / 10**9\n",
    "#df['dt_end'] = pd.to_datetime(df['time_end']).astype(int) / 10**9\n",
    "\n",
    "df['dt_start'] = pd.to_datetime(df['time_start']).map(pd.Timestamp.timestamp).astype(int)\n",
    "df['dt_end'] = pd.to_datetime(df['time_end']).map(pd.Timestamp.timestamp).astype(int)\n",
    "df['bike_id'] = df['bike_id'].astype(int)\n",
    "\n",
    "df.head()"
   ]
  },
  {
   "cell_type": "code",
   "execution_count": 29,
   "outputs": [],
   "source": [
    "df.to_csv('../data/df_points_18-19-20-21_v1_weather_final.csv', index=False)"
   ],
   "metadata": {
    "collapsed": false,
    "pycharm": {
     "name": "#%%\n"
    }
   }
  },
  {
   "cell_type": "code",
   "execution_count": null,
   "outputs": [],
   "source": [],
   "metadata": {
    "collapsed": false,
    "pycharm": {
     "name": "#%%\n"
    }
   }
  }
 ],
 "metadata": {
  "kernelspec": {
   "display_name": "Python 3 (ipykernel)",
   "language": "python",
   "name": "python3"
  },
  "language_info": {
   "codemirror_mode": {
    "name": "ipython",
    "version": 3
   },
   "file_extension": ".py",
   "mimetype": "text/x-python",
   "name": "python",
   "nbconvert_exporter": "python",
   "pygments_lexer": "ipython3",
   "version": "3.9.7"
  }
 },
 "nbformat": 4,
 "nbformat_minor": 5
}