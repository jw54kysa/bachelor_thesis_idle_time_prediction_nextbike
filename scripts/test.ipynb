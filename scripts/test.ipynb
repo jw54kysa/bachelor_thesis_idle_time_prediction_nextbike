{
 "cells": [
  {
   "cell_type": "code",
   "execution_count": 5,
   "outputs": [],
   "source": [
    "import pandas as pd\n",
    "from sklearn.preprocessing import StandardScaler\n",
    "from sklearn.metrics import zero_one_loss, accuracy_score, precision_score, recall_score, f1_score\n",
    "from sklearn.neural_network import MLPClassifier\n",
    "from sklearn.model_selection import train_test_split\n",
    "import wandb\n",
    "import random\n",
    "\n",
    "idle_time_data = pd.read_csv('../data/final_df_points_18_21_class.csv')\n",
    "\n",
    "TargetVariable = ['idle_time_class']\n",
    "Predictors = ['bike_id', 'lat', 'lng', 'temp', 'rain', 'snow', 'wind_speed', 'humidity', 'dt_start',\n",
    "              'hex_enc', 'start_min', 'year', 'month', 'day', 'on_station', 'in_zone', 'zone_name_enc']\n",
    "\n",
    "X = idle_time_data[Predictors].values\n",
    "y = idle_time_data[TargetVariable].values\n",
    "\n",
    "PredictorScaler = StandardScaler()\n",
    "PredictorScalerFit = PredictorScaler.fit(X)\n",
    "X = PredictorScalerFit.transform(X)\n",
    "\n",
    "X_train, X_test, y_train, y_test = train_test_split(X, y, train_size=0.9, shuffle=False)\n",
    "\n",
    "sweep_configuration = {\n",
    "    \"project\": \"MLP-Classification\",\n",
    "    \"name\": \"MLPC-sweep-new-data\",\n",
    "    \"metric\": {\"name\": \"accuracy\", \"goal\": \"maximize\"},\n",
    "    \"method\": \"random\",\n",
    "    \"parameters\": {\n",
    "        \"activation\": {\n",
    "            \"values\": ['identity', 'logistic', 'tanh', 'relu']\n",
    "        },\n",
    "        \"solver\": {\n",
    "            \"values\": ['lbfgs', 'sgd', 'adam']\n",
    "        },\n",
    "        \"alpha\": {\n",
    "            \"values\": [0.0001, 0.0005, 0.001, 0.005, 0.01, 0.05]\n",
    "        },\n",
    "        \"learning_rate\": {\n",
    "            \"values\": ['constant', 'invscaling', 'adaptive']\n",
    "        },\n",
    "        \"momentum\": {\n",
    "            \"values\": [0.9, 0.8, 0.7, 0.6, 0.5]\n",
    "        }\n",
    "    }\n",
    "}\n",
    "\n",
    "def eval_classification(y_test,y_pred,labels):\n",
    "    # Metrics\n",
    "    acc = accuracy_score(y_test, y_pred.ravel())\n",
    "    macro_precision = precision_score(y_test.ravel(), y_pred.ravel(), average='macro', labels=labels)\n",
    "    macro_recall = recall_score(y_test.ravel(), y_pred.ravel(), average='macro', labels=labels)\n",
    "\n",
    "    macro_f1 = f1_score(y_test.ravel(), y_pred.ravel(), average='macro', labels=labels)\n",
    "\n",
    "    print('acc: ',acc)\n",
    "    #print(macro_precision)\n",
    "    #print(macro_recall)\n",
    "    #print(macro_f1)\n",
    "\n",
    "    return acc, macro_precision, macro_recall, macro_f1\n",
    "\n",
    "def my_train_func():\n",
    "    wandb.init()\n",
    "\n",
    "    hls = [(16, 32, 16), (32, 64, 32), (64, 128, 64), (128, 64, 128), (128,128,128) , (16,32,64,128), (32,64,128,64), (64,128,128,64)]\n",
    "\n",
    "    _hidden_layer_sizes = random.choice(hls)\n",
    "    print('hls: ',_hidden_layer_sizes)\n",
    "    _activation = wandb.config.activation\n",
    "    _solver = wandb.config.solver\n",
    "    _alpha = wandb.config.alpha\n",
    "    _learning_rate = wandb.config.learning_rate\n",
    "    _momentum = wandb.config.momentum\n",
    "\n",
    "    wandb.config.hidden_layer_sizes = _hidden_layer_sizes\n",
    "\n",
    "    model = MLPClassifier(hidden_layer_sizes=_hidden_layer_sizes,\n",
    "                         activation=_activation,\n",
    "                         solver=_solver,\n",
    "                         alpha=_alpha,\n",
    "                         learning_rate=_learning_rate,\n",
    "                         momentum=_momentum,\n",
    "                         early_stopping=True)\n",
    "\n",
    "    model.fit(X_train, y_train.ravel())\n",
    "    y_pred = model.predict(X_test)\n",
    "\n",
    "    acc, macro_precision, macro_recall, macro_f1 = eval_classification(y_test,y_pred,[1,2,3,4])\n",
    "\n",
    "    wandb.log({\"accuracy\": acc})\n",
    "    wandb.log({\"conf_matrix\": wandb.plot.confusion_matrix(y_true=y_test.ravel(), preds=y_pred.ravel())})\n",
    "    wandb.log({\"macro_precision\": macro_precision})\n",
    "    wandb.log({\"macro_recall\": macro_recall})\n",
    "    wandb.log({\"macro_f1\": macro_f1})\n"
   ],
   "metadata": {
    "collapsed": false,
    "pycharm": {
     "name": "#%%\n"
    }
   }
  },
  {
   "cell_type": "code",
   "execution_count": null,
   "outputs": [],
   "source": [
    "import os\n",
    "os.environ[\"WANDB_SILENT\"] = \"true\"\n",
    "\n",
    "# INIT SWEEP\n",
    "sweep_id_rfc = wandb.sweep(sweep_configuration, project=\"MLP-Classification\")\n",
    "# RUN SWEEP\n",
    "wandb.agent(sweep_id_rfc, function=my_train_func)"
   ],
   "metadata": {
    "collapsed": false,
    "pycharm": {
     "name": "#%%\n",
     "is_executing": true
    }
   }
  },
  {
   "cell_type": "code",
   "execution_count": null,
   "outputs": [],
   "source": [],
   "metadata": {
    "collapsed": false,
    "pycharm": {
     "name": "#%%\n"
    }
   }
  }
 ],
 "metadata": {
  "kernelspec": {
   "display_name": "Python 3",
   "language": "python",
   "name": "python3"
  },
  "language_info": {
   "codemirror_mode": {
    "name": "ipython",
    "version": 2
   },
   "file_extension": ".py",
   "mimetype": "text/x-python",
   "name": "python",
   "nbconvert_exporter": "python",
   "pygments_lexer": "ipython2",
   "version": "2.7.6"
  }
 },
 "nbformat": 4,
 "nbformat_minor": 0
}