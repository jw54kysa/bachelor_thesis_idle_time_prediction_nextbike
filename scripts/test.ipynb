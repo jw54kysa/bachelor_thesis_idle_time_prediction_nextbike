{
 "cells": [
  {
   "cell_type": "code",
   "execution_count": 5,
   "outputs": [
    {
     "data": {
      "text/plain": "   X   start_lng  start_lat     end_lng    end_lat\n0  A -122.422449  37.769729 -122.429596  37.767726\n1  B -122.429596  37.767726 -122.436909  37.757346\n2  C -122.436909  37.757346 -122.432505  37.757018\n3  D -122.432505  37.757018 -122.423749  37.763298\n4  E -122.423749  37.763298 -122.428622  37.763461",
      "text/html": "<div>\n<style scoped>\n    .dataframe tbody tr th:only-of-type {\n        vertical-align: middle;\n    }\n\n    .dataframe tbody tr th {\n        vertical-align: top;\n    }\n\n    .dataframe thead th {\n        text-align: right;\n    }\n</style>\n<table border=\"1\" class=\"dataframe\">\n  <thead>\n    <tr style=\"text-align: right;\">\n      <th></th>\n      <th>X</th>\n      <th>start_lng</th>\n      <th>start_lat</th>\n      <th>end_lng</th>\n      <th>end_lat</th>\n    </tr>\n  </thead>\n  <tbody>\n    <tr>\n      <th>0</th>\n      <td>A</td>\n      <td>-122.422449</td>\n      <td>37.769729</td>\n      <td>-122.429596</td>\n      <td>37.767726</td>\n    </tr>\n    <tr>\n      <th>1</th>\n      <td>B</td>\n      <td>-122.429596</td>\n      <td>37.767726</td>\n      <td>-122.436909</td>\n      <td>37.757346</td>\n    </tr>\n    <tr>\n      <th>2</th>\n      <td>C</td>\n      <td>-122.436909</td>\n      <td>37.757346</td>\n      <td>-122.432505</td>\n      <td>37.757018</td>\n    </tr>\n    <tr>\n      <th>3</th>\n      <td>D</td>\n      <td>-122.432505</td>\n      <td>37.757018</td>\n      <td>-122.423749</td>\n      <td>37.763298</td>\n    </tr>\n    <tr>\n      <th>4</th>\n      <td>E</td>\n      <td>-122.423749</td>\n      <td>37.763298</td>\n      <td>-122.428622</td>\n      <td>37.763461</td>\n    </tr>\n  </tbody>\n</table>\n</div>"
     },
     "execution_count": 5,
     "metadata": {},
     "output_type": "execute_result"
    }
   ],
   "source": [
    "import pandas as pd\n",
    "df = pd.read_csv('../data/tripmap_ex.csv')\n",
    "df.head()"
   ],
   "metadata": {
    "collapsed": false,
    "pycharm": {
     "name": "#%%\n"
    }
   }
  },
  {
   "cell_type": "code",
   "execution_count": 8,
   "outputs": [
    {
     "name": "stderr",
     "output_type": "stream",
     "text": [
      "/var/folders/5t/28jzvs016nq5vxslb670gs040000gn/T/ipykernel_4184/3813553967.py:6: SettingWithCopyWarning: \n",
      "A value is trying to be set on a copy of a slice from a DataFrame\n",
      "\n",
      "See the caveats in the documentation: https://pandas.pydata.org/pandas-docs/stable/user_guide/indexing.html#returning-a-view-versus-a-copy\n",
      "  df['hex_id'][ind] = h3.geo_to_h3( df['start_lat'][ind], df['start_lat'][ind], 8)\n",
      "/usr/local/Caskroom/miniconda/base/envs/geobike/lib/python3.9/site-packages/pandas/core/indexing.py:1732: SettingWithCopyWarning: \n",
      "A value is trying to be set on a copy of a slice from a DataFrame\n",
      "\n",
      "See the caveats in the documentation: https://pandas.pydata.org/pandas-docs/stable/user_guide/indexing.html#returning-a-view-versus-a-copy\n",
      "  self._setitem_single_block(indexer, value, name)\n"
     ]
    },
    {
     "data": {
      "text/plain": "   X   start_lng  start_lat     end_lng    end_lat           hex_id\n0  A -122.422449  37.769729 -122.429596  37.767726  882dad71bdfffff\n1  B -122.429596  37.767726 -122.436909  37.757346  882dad71bdfffff\n2  C -122.436909  37.757346 -122.432505  37.757018  882dad71a1fffff\n3  D -122.432505  37.757018 -122.423749  37.763298  882dad71a1fffff\n4  E -122.423749  37.763298 -122.428622  37.763461  882dad71abfffff",
      "text/html": "<div>\n<style scoped>\n    .dataframe tbody tr th:only-of-type {\n        vertical-align: middle;\n    }\n\n    .dataframe tbody tr th {\n        vertical-align: top;\n    }\n\n    .dataframe thead th {\n        text-align: right;\n    }\n</style>\n<table border=\"1\" class=\"dataframe\">\n  <thead>\n    <tr style=\"text-align: right;\">\n      <th></th>\n      <th>X</th>\n      <th>start_lng</th>\n      <th>start_lat</th>\n      <th>end_lng</th>\n      <th>end_lat</th>\n      <th>hex_id</th>\n    </tr>\n  </thead>\n  <tbody>\n    <tr>\n      <th>0</th>\n      <td>A</td>\n      <td>-122.422449</td>\n      <td>37.769729</td>\n      <td>-122.429596</td>\n      <td>37.767726</td>\n      <td>882dad71bdfffff</td>\n    </tr>\n    <tr>\n      <th>1</th>\n      <td>B</td>\n      <td>-122.429596</td>\n      <td>37.767726</td>\n      <td>-122.436909</td>\n      <td>37.757346</td>\n      <td>882dad71bdfffff</td>\n    </tr>\n    <tr>\n      <th>2</th>\n      <td>C</td>\n      <td>-122.436909</td>\n      <td>37.757346</td>\n      <td>-122.432505</td>\n      <td>37.757018</td>\n      <td>882dad71a1fffff</td>\n    </tr>\n    <tr>\n      <th>3</th>\n      <td>D</td>\n      <td>-122.432505</td>\n      <td>37.757018</td>\n      <td>-122.423749</td>\n      <td>37.763298</td>\n      <td>882dad71a1fffff</td>\n    </tr>\n    <tr>\n      <th>4</th>\n      <td>E</td>\n      <td>-122.423749</td>\n      <td>37.763298</td>\n      <td>-122.428622</td>\n      <td>37.763461</td>\n      <td>882dad71abfffff</td>\n    </tr>\n  </tbody>\n</table>\n</div>"
     },
     "execution_count": 8,
     "metadata": {},
     "output_type": "execute_result"
    }
   ],
   "source": [
    "import h3\n",
    "\n",
    "df['hex_id'] = 0\n",
    "\n",
    "for ind in df.index:\n",
    "    df['hex_id'][ind] = h3.geo_to_h3( df['start_lat'][ind], df['start_lat'][ind], 8)\n",
    "df.head()"
   ],
   "metadata": {
    "collapsed": false,
    "pycharm": {
     "name": "#%%\n"
    }
   }
  },
  {
   "cell_type": "code",
   "execution_count": 9,
   "outputs": [],
   "source": [
    "df.to_csv('tripmap_ex_h3.csv')"
   ],
   "metadata": {
    "collapsed": false,
    "pycharm": {
     "name": "#%%\n"
    }
   }
  },
  {
   "cell_type": "code",
   "execution_count": null,
   "outputs": [],
   "source": [],
   "metadata": {
    "collapsed": false,
    "pycharm": {
     "name": "#%%\n"
    }
   }
  }
 ],
 "metadata": {
  "kernelspec": {
   "display_name": "Python 3",
   "language": "python",
   "name": "python3"
  },
  "language_info": {
   "codemirror_mode": {
    "name": "ipython",
    "version": 2
   },
   "file_extension": ".py",
   "mimetype": "text/x-python",
   "name": "python",
   "nbconvert_exporter": "python",
   "pygments_lexer": "ipython2",
   "version": "2.7.6"
  }
 },
 "nbformat": 4,
 "nbformat_minor": 0
}