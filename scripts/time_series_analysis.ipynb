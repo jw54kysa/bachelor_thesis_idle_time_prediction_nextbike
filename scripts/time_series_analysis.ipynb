{
 "cells": [
  {
   "cell_type": "code",
   "execution_count": 22,
   "metadata": {
    "collapsed": true
   },
   "outputs": [],
   "source": [
    "import pandas as pd\n",
    "import numpy as np\n",
    "import statistics\n",
    "import matplotlib.pyplot as plt\n",
    "from tqdm import tqdm\n",
    "\n",
    "\n",
    "#hex_ids = ['8a1f1a8d9d97fff',\n",
    "#           '8a1f1a8cb4cffff',\n",
    "#           '8a1f1a8cb4dffff',\n",
    "#           '8a1f1a8cb71ffff',\n",
    "#           '881f1a8cb7fffff',\n",
    "#           '881f1a164bfffff',\n",
    "#           '881f1a8cbdfffff'\n",
    "#           ]\n",
    "\n",
    "#hex_id = hex_ids[6]\n",
    "\n",
    "days=1460 # (4 years = 1460 days)\n",
    "year=2018 # start of time series data\n",
    "\n",
    "data_columns = ['idle_time','bike_count']"
   ]
  },
  {
   "cell_type": "code",
   "execution_count": 23,
   "outputs": [
    {
     "data": {
      "text/plain": "array(['881f1a8d91fffff', '881f1a1659fffff', '881f1a8c83fffff',\n       '881f1a160dfffff', '881f1a8ddbfffff', '881f1a1655fffff',\n       '881f1a1657fffff', '881f1a8d93fffff', '881f1a1643fffff',\n       '881f1a8d9dfffff', '881f1a8d9bfffff', '881f1ab965fffff',\n       '881f1a164bfffff', '881f1a8ca3fffff', '881f1a8d99fffff',\n       '881f1ab96dfffff', '881f1a164dfffff', '881f1a8cb3fffff',\n       '881f1a1649fffff', '881f1a8cb1fffff', '881f1a8cabfffff',\n       '881f1a1715fffff', '881f1ab961fffff', '881f1a8cb7fffff',\n       '881f1a8ca5fffff', '881f1a8cb5fffff', '881f1aa113fffff',\n       '881f1a8cb9fffff', '881f1a8da3fffff', '881f1a8cbdfffff',\n       '881f1a85adfffff', '881f1a1647fffff', '881f1ab963fffff',\n       '881f1a1609fffff', '881f1a16c5fffff', '881f1a165dfffff',\n       '881f1ab947fffff', '881f1a16e9fffff', '881f1a1605fffff',\n       '881f1a165bfffff', '881f1a8c95fffff', '881f1abb69fffff',\n       '881f1a8dd3fffff', '881f1a1653fffff', '881f1a8c27fffff',\n       '881f1a8c9dfffff', '881f1a8d8dfffff', '881f1ab96bfffff',\n       '881f1ab90dfffff', '881f1a8d95fffff', '881f1a8d8bfffff',\n       '881f1a16ebfffff', '881f1a1611fffff', '881f1a8c81fffff',\n       '881f1a1641fffff', '881f1a160bfffff', '881f1a8ca7fffff',\n       '881f1a8cbbfffff', '881f1ab969fffff', '881f1a8cc7fffff',\n       '881f1a8cadfffff', '881f1d489dfffff', '881f1a1601fffff',\n       '881f1a8c87fffff', '881f1a171bfffff', '881f1a1635fffff',\n       '881f1abb27fffff', '881f1a1629fffff', '881f1a8dd7fffff',\n       '881f1a8c8dfffff', '881f1a1663fffff', '881f1a1651fffff',\n       '881f1a8d85fffff', '881f1a8c17fffff', '881f1ab92dfffff',\n       '881f1a1603fffff', '881f1ab943fffff', '881f1a8e37fffff',\n       '8819646d19fffff', '881f1a1645fffff', '881f1a8cd7fffff',\n       '88194e6d5bfffff', '881f1a8c91fffff', '881f1a8dbbfffff',\n       '881f1a8d97fffff', '881f1a8c89fffff', '881f1a8de1fffff',\n       '881f1a161dfffff', '881f1a1619fffff', '881f1a1719fffff',\n       '881f1a1669fffff', '881f1ab95bfffff', '881f1a8de5fffff',\n       '881f1a1617fffff', '881f1a1607fffff', '881f1a8c8bfffff',\n       '881f1a8e2dfffff', '881f1a385bfffff', '881f1a1753fffff',\n       '881f1a1443fffff', '881f1ab903fffff', '881f1a0451fffff',\n       '881f18b2edfffff', '881f1a8c37fffff', '881f1abb31fffff',\n       '881f1ab90bfffff', '881f1a8cedfffff', '881f1a8ce7fffff',\n       '881f1a1757fffff', '881f1a8c85fffff', '881f1a144bfffff',\n       '881f1d48d3fffff', '881f1a8c61fffff', '881f1a166bfffff',\n       '881f1a8db3fffff', '881f1a1615fffff', '881f1ab83bfffff',\n       '881f1d4d49fffff', '881f1d488bfffff', '881f1a8dddfffff',\n       '881f1a8c97fffff', '881f1a1621fffff', '881f1a1739fffff',\n       '881f1a8c33fffff', '881f1a1407fffff', '881f1a1627fffff',\n       '881f1ab949fffff', '881f1a1711fffff', '881f1abb63fffff',\n       '881f1a8ca1fffff', '881f1a1733fffff', '881f1a1465fffff',\n       '881f1a166dfffff', '881f1a162dfffff', '881f1a8cdbfffff',\n       '881f1a170bfffff', '881f1a1449fffff', '881f1a12dbfffff',\n       '881f1a1751fffff', '881f1a8de9fffff', '881f1a1467fffff',\n       '881f1a8ce9fffff', '881f1a1463fffff', '881f1a8dedfffff',\n       '881f1a8c93fffff', '881f1a04d7fffff', '881f1a04c7fffff',\n       '881f1a3325fffff', '881f1b548bfffff', '881f1b5489fffff',\n       '881f1b54b9fffff', '881f1a8c3bfffff', '881f1a8c99fffff',\n       '881f1ab91dfffff', '881f1a8db9fffff', '881f1a8dd9fffff',\n       '881f1a8eddfffff', '881f1a8cebfffff', '881f1a8dbdfffff',\n       '881f1a8d83fffff', '881f1a8d87fffff', '881f1a151dfffff',\n       '881f1a140bfffff', '881f1abb61fffff', '88754e6499fffff',\n       '881f1ab911fffff', '881f1ab905fffff', '881f1ab929fffff',\n       '881f1a12cbfffff', '881f1a143bfffff', '881f1a1707fffff',\n       '881f1a1415fffff', '881f1a1623fffff', '881f1a8d37fffff',\n       '881f1a8dd5fffff', '8809aa60c5fffff', '881f1a12d9fffff',\n       '881f1a8d81fffff', '881f1a173dfffff', '881f1a1731fffff',\n       '881f1a161bfffff', '881f1a8de3fffff', '881f1a1431fffff',\n       '881f1ab915fffff', '881f1a1639fffff', '881f1a8dd1fffff',\n       '881f1ab967fffff', '881f1a8dc3fffff', '881f1b4669fffff',\n       '881f1ab9a7fffff', '881f1a98c9fffff', '881f1a8cd3fffff',\n       '881f1e2595fffff', '881f1a144dfffff', '881f1a1723fffff',\n       '881f1a8cd5fffff', '881f1a8ca9fffff', '881f1a1637fffff',\n       '881f1a141dfffff', '881f1a12d3fffff', '881f1a8537fffff',\n       '881f1a8ce5fffff', '881f1ab94dfffff', '881f1a8cc5fffff',\n       '881f1a1445fffff', '881f1a8531fffff', '881f1a15b3fffff',\n       '881f1a1701fffff', '881f1a1455fffff', '881f1a162bfffff',\n       '881f1a1631fffff', '881f1ab955fffff', '881f1a8d33fffff',\n       '881f1a163dfffff', '881f1a8c31fffff', '881f1a1665fffff',\n       '881f1a1763fffff', '881f1a8c01fffff', '881f1a15d1fffff',\n       '881f1a8cddfffff', '881f1a173bfffff', '881f1a8c13fffff',\n       '881f1a1661fffff', '881f1a12d1fffff', '881f1a8dc5fffff',\n       '881f1a1417fffff', '881f1a1713fffff', '881f1a175dfffff',\n       '881f1a14ebfffff', '881f1abb1dfffff', '881f1a8dc1fffff',\n       '881f1a1625fffff', '881f1a175bfffff', '881f1ab925fffff',\n       '881f1a146bfffff', '881f1a8ea3fffff', '881f1a1703fffff',\n       '881f1a14e3fffff', '881f1ab95dfffff', '881f1a1551fffff',\n       '881f1a1441fffff', '881f1a12d7fffff', '881f1a8ccbfffff',\n       '881f1a1667fffff', '881f1a8c11fffff', '881f1a8ea5fffff',\n       '881f1ab945fffff', '881f1a1457fffff', '881f1abb35fffff',\n       '881f1a8cd1fffff', '881f1a1599fffff', '881f1849e3fffff',\n       '881f1abb2dfffff', '881f1ab901fffff', '881f1a8c9bfffff',\n       '881f1a1743fffff', '881f1a163bfffff', '881f1abb25fffff',\n       '881f1a8c55fffff', '881f1ab861fffff', '881f1ab923fffff',\n       '881f1a1755fffff', '881f1a8c1bfffff', '881f1a8c2bfffff',\n       '881f1a16e5fffff', '881f1a8ce3fffff', '881f1a1409fffff',\n       '881f1a8db7fffff', '881fad3135fffff', '881f1a8ebbfffff',\n       '881f802683fffff', '881f1a8dcdfffff', '881f137423fffff',\n       '881f137429fffff', '881f1abb21fffff', '881f1abb6bfffff',\n       '881f1a8cd9fffff', '881f1a8c3dfffff', '881f1a98dbfffff',\n       '881f1a8c43fffff', '881f1a1759fffff', '881f1a8ea7fffff',\n       '881f1a8c35fffff', '881f1a8da9fffff', '881f1a16c1fffff',\n       '881f1a8c1dfffff', '881f1a8debfffff', '881f1ab907fffff',\n       '881f1abb67fffff', '881fad2497fffff', '881f1a514dfffff',\n       '881fad2493fffff', '881fad2495fffff', '881fad2491fffff',\n       '881f1a1453fffff', '881f1ab941fffff', '881f1a8ea1fffff',\n       '881f1ab951fffff', '881f1ab939fffff', '881f1ab92bfffff',\n       '881f1a8eb7fffff', '881f1a8cc3fffff', '881f1abb23fffff',\n       '881f1a8cc1fffff', '881f1a0561fffff', '881f1a8ce1fffff',\n       '881f1abb65fffff', '881f1a889bfffff', '881f1a1459fffff',\n       '881f1a1717fffff', '881f1a871bfffff', '881f1a8c41fffff',\n       '881f1a8f19fffff', '881f18411dfffff', '881f1a8d43fffff',\n       '881f1a1695fffff', '881f1a1737fffff', '881f1aab59fffff',\n       '881f1a8dadfffff', '881f1a10e7fffff', '881f1ab829fffff',\n       '881f1ac0d5fffff', '881f1a8757fffff', '881f1ab959fffff',\n       '881f1a12d5fffff', '881f1a12ddfffff', '881f1e79a7fffff',\n       '881f1ab921fffff', '881f1a8c0bfffff', '881f1a9ab1fffff',\n       '881f1aa947fffff', '881f1a16d9fffff', '881f1a853bfffff',\n       '881f1a94c1fffff', '881f1ab927fffff', '881f1a84a5fffff',\n       '881f1a8ec1fffff', '881f1a155bfffff', '881f1a15d3fffff',\n       '881f1a10bbfffff', '881f1a1543fffff', '881f1a8c21fffff',\n       '881f1abb05fffff', '881f1abb15fffff', '881f1a8eb3fffff',\n       '881f1a8de7fffff', '881f1a145bfffff', '881f1a16a1fffff',\n       '881f1a8dc7fffff', '881f1a8711fffff', '881f1abb01fffff',\n       '881f1a85e7fffff', '881f1a16cdfffff', '881f1a16adfffff',\n       '881f1a14e9fffff', '881f1a8d89fffff', '881f1a8c39fffff',\n       '881f1a16c9fffff', '881f1a8db1fffff', '881f1a8533fffff',\n       '881f1a8f3dfffff', '881f1a8dc9fffff', '881f1a15abfffff',\n       '881f1e2a95fffff', '881f1a0315fffff', '881f1a8eedfffff',\n       '881f1a8d17fffff', '881f1ab93bfffff', '881f1a8c23fffff',\n       '881f1a1469fffff', '881f1a8e87fffff', '881f1abb2bfffff',\n       '881f1a8f53fffff', '881f1a1439fffff', '881f1a16e1fffff',\n       '881f1abb55fffff', '881f1a8c07fffff', '881f1a8e25fffff',\n       '881f1a1729fffff', '881f1a1709fffff', '881f1a8d11fffff',\n       '881f1ab933fffff', '881f1a16c7fffff', '881f1abb6dfffff',\n       '881f1a8c09fffff', '881f1ab9b3fffff', '881f1a8ccdfffff',\n       '881f1a1741fffff', '881f1a00edfffff', '881f1a89d9fffff',\n       '881f1a8c57fffff', '881f1ab909fffff', '881f1abb0bfffff',\n       '881f1abb07fffff', '881f1a8c03fffff', '881f1a6251fffff',\n       '881f1a170dfffff', '881f1a004bfffff', '881f1ace5dfffff',\n       '881f1ac0b3fffff', '881f1a1613fffff', '881f1a1559fffff',\n       '881f1ace61fffff', '881f1acf4bfffff', '881f1acf6bfffff',\n       '881f1ace57fffff', '881f1a8d4bfffff', '881f1a8a87fffff',\n       '881f1a8e21fffff', '881f1a8c19fffff', '881f1a8e3bfffff',\n       '881f1a98adfffff', '881f1abb09fffff', '881f1ab957fffff',\n       '881f1ab917fffff', '881f1abb37fffff', '881f1ab935fffff',\n       '881f1ab9edfffff', '881f1a1769fffff', '881f1a1401fffff',\n       '881f1a1421fffff', '881f1a16edfffff', '881f1a8ee1fffff',\n       '881f1a8c25fffff', '881f1a8e33fffff', '881f1a9ab5fffff',\n       '881f1a16b5fffff', '881f1a1447fffff', '881f1a8867fffff',\n       '881f1a8db5fffff', '881f1a8da5fffff', '881f1a8f03fffff',\n       '881f1a1403fffff', '881f1a8535fffff', '881f1a16a3fffff',\n       '881f1a8c15fffff', '881f1a12bdfffff', '881f1a8a85fffff',\n       '881f1a1503fffff', '881f1abb29fffff', '881f1a8ec9fffff',\n       '881f1a8c53fffff', '881f1ab82dfffff', '881f1a30e5fffff',\n       '881f1aab49fffff', '881f1a1505fffff', '881f184909fffff',\n       '881f1a1689fffff', '881f1a98cbfffff', '881f1a151bfffff',\n       '881f1abb3dfffff', '881f1a8eb5fffff', '881f1a15d9fffff',\n       '881f1a14a9fffff', '881f1a1747fffff', '881f1a8eb9fffff',\n       '881f18b213fffff', '881f1d4d07fffff', '881f1ab94bfffff',\n       '881f1d4d61fffff', '881f1a1461fffff', '881f1ab805fffff',\n       '881f1d4d01fffff', '881f1a1705fffff', '881f1a145dfffff',\n       '881f1ab86dfffff', '881f1ab9bbfffff', '881f1a1761fffff',\n       '881f1abb57fffff', '881f1a8d45fffff', '881f1aab1bfffff',\n       '881f1abb0dfffff', '881f1a1405fffff', '881f1a172dfffff',\n       '881f1a12c3fffff', '881f1ab93dfffff', '881f1b54bbfffff',\n       '881f1b54b1fffff', '881f1b4659fffff', '881f1ab931fffff',\n       '881f1b464bfffff', '881f1a8dabfffff', '881f1ab989fffff',\n       '881f1abb45fffff', '881f1ab9c5fffff', '881f1a8c4dfffff',\n       '881f1ac639fffff', '881f1a10d1fffff', '881e3464bbfffff',\n       '881f1a1545fffff', '881f1a8e97fffff', '881f1a15cbfffff',\n       '881f1a154bfffff', '881f1a8e13fffff', '881f1a15e5fffff',\n       '881f1a16e3fffff', '881f1a1633fffff', '881f1a8dcbfffff',\n       '881f1ab9c9fffff', '881f1a16abfffff', '881f1a16a9fffff',\n       '881f1a16cbfffff', '881f1abb11fffff', '881f1a8ee9fffff',\n       '881f1a16e7fffff', '881f1a15e1fffff', '881f1a1131fffff',\n       '881f1ab867fffff', '881f1ab807fffff', '881f1a8f1bfffff',\n       '881f1bc149fffff', '881f1a9abdfffff', '881f1a9aa9fffff',\n       '881f1a9005fffff', '881f1a8c6bfffff', '881f1a10e9fffff',\n       '881f1ab9c7fffff', '881f1a8da7fffff', '881f1aba89fffff',\n       '881f1a101bfffff', '881f1aa8cdfffff', '881fa52b5dfffff',\n       '881f1a1299fffff', '881fa52b0bfffff', '881f1ab9e5fffff',\n       '881fa52b55fffff', '881f1a8cc9fffff', '881fa52b01fffff',\n       '881fa52b07fffff', '881f1a8eebfffff', '881f1a8c0dfffff',\n       '881f1a1721fffff', '881f1aaa57fffff', '881f1aaa0bfffff',\n       '881f1a9b29fffff', '881f1a15c3fffff', '881f1a158bfffff',\n       '881f18424dfffff', '881f1a1437fffff', '881f1a15ddfffff',\n       '881fa1818bfffff', '881f1aa321fffff', '881f1aa921fffff',\n       '881f1a8d5dfffff', '881f1e6eb3fffff', '881f1a1293fffff',\n       '881f1ab9ddfffff', '881f1a106dfffff', '881f1a85c7fffff',\n       '881fad3105fffff', '8818222e53fffff', '881f1a9aabfffff',\n       '881f1a9aa3fffff', '881f1a8f51fffff', '881f1ab9d5fffff',\n       '881f1a98ddfffff'], dtype=object)"
     },
     "execution_count": 23,
     "metadata": {},
     "output_type": "execute_result"
    }
   ],
   "source": [
    "hex_ids = pd.read_csv('../data/final_df_points_18_21.csv').hex_id.unique()\n",
    "hex_ids"
   ],
   "metadata": {
    "collapsed": false,
    "pycharm": {
     "name": "#%%\n"
    }
   }
  },
  {
   "cell_type": "code",
   "execution_count": 24,
   "outputs": [
    {
     "data": {
      "text/plain": "         bike_id        lat        lng    dt_start      dt_end  \\\n0           3694  51.323619  12.335887  1514764029  1514764799   \n1           2508  51.323619  12.335887  1514764035  1514764799   \n2          41851  51.332415  12.395158  1514764638  1514764799   \n3           3694  51.323619  12.335887  1514764800  1514814103   \n4           2508  51.323619  12.335887  1514764800  1514851199   \n...          ...        ...        ...         ...         ...   \n2543825    72058  51.317569  12.382730  1640897593  1640904368   \n2543826    71949  51.334711  12.356763  1640897835  1640899343   \n2543827    97785  51.367276  12.369792  1640898086  1640900985   \n2543828    41738  51.366942  12.370322  1640900918  1640903516   \n2543829    72028  51.332844  12.404319  1640903200  1640905163   \n\n                  hex_id  in_zone                   zone_name  \\\n0        881f1a8d91fffff        1  Pinke Zone Leipzig West 1€   \n1        881f1a8d91fffff        1  Pinke Zone Leipzig West 1€   \n2        881f1a1659fffff        1   Pinke Zone Leipzig Ost 1€   \n3        881f1a8d91fffff        1  Pinke Zone Leipzig West 1€   \n4        881f1a8d91fffff        1  Pinke Zone Leipzig West 1€   \n...                  ...      ...                         ...   \n2543825  881f1a1609fffff        1   Blaue Zone Leipzig Ost 0€   \n2543826  881f1a1649fffff        1   Pinke Zone Leipzig Ost 1€   \n2543827  881f1a8c8bfffff        1   Blaue Zone Leipzig Ost 0€   \n2543828  881f1a8c8bfffff        1   Pinke Zone Leipzig Ost 1€   \n2543829  881f1a165bfffff        1   Blaue Zone Leipzig Ost 0€   \n\n         end_station_number   temp  ...  wind_speed  humidity  year  month  \\\n0                      4094  10.80  ...        7.20      76.0  2017     12   \n1                      4094  10.80  ...        7.20      76.0  2017     12   \n2                         0  10.80  ...        7.20      76.0  2017     12   \n3                      4094  10.86  ...        9.30      76.0  2018      1   \n4                      4094  10.86  ...        9.30      76.0  2018      1   \n...                     ...    ...  ...         ...       ...   ...    ...   \n2543825                   0  13.19  ...        8.94      83.0  2021     12   \n2543826                   0  13.19  ...        8.94      83.0  2021     12   \n2543827                   0  13.05  ...        8.05      84.0  2021     12   \n2543828                   0  13.05  ...        8.05      84.0  2021     12   \n2543829                   0  13.11  ...        8.05      81.0  2021     12   \n\n         day  start_min  over_night  idle_time_next_day  idle_time  \\\n0          6       1427           1                 821         12   \n1          6       1427           1                1439         12   \n2          6       1437           1                1439          2   \n3          0          0           0                   0        821   \n4          0          0           1                 878       1439   \n...      ...        ...         ...                 ...        ...   \n2543825    3       1253           0                   0        112   \n2543826    3       1257           0                   0         25   \n2543827    3       1261           0                   0         48   \n2543828    3       1309           0                   0         43   \n2543829    3       1347           0                   0         32   \n\n                 time_start  \n0       2017-12-31 23:47:09  \n1       2017-12-31 23:47:15  \n2       2017-12-31 23:57:18  \n3       2018-01-01 00:00:00  \n4       2018-01-01 00:00:00  \n...                     ...  \n2543825 2021-12-30 20:53:13  \n2543826 2021-12-30 20:57:15  \n2543827 2021-12-30 21:01:26  \n2543828 2021-12-30 21:48:38  \n2543829 2021-12-30 22:26:40  \n\n[2543830 rows x 22 columns]",
      "text/html": "<div>\n<style scoped>\n    .dataframe tbody tr th:only-of-type {\n        vertical-align: middle;\n    }\n\n    .dataframe tbody tr th {\n        vertical-align: top;\n    }\n\n    .dataframe thead th {\n        text-align: right;\n    }\n</style>\n<table border=\"1\" class=\"dataframe\">\n  <thead>\n    <tr style=\"text-align: right;\">\n      <th></th>\n      <th>bike_id</th>\n      <th>lat</th>\n      <th>lng</th>\n      <th>dt_start</th>\n      <th>dt_end</th>\n      <th>hex_id</th>\n      <th>in_zone</th>\n      <th>zone_name</th>\n      <th>end_station_number</th>\n      <th>temp</th>\n      <th>...</th>\n      <th>wind_speed</th>\n      <th>humidity</th>\n      <th>year</th>\n      <th>month</th>\n      <th>day</th>\n      <th>start_min</th>\n      <th>over_night</th>\n      <th>idle_time_next_day</th>\n      <th>idle_time</th>\n      <th>time_start</th>\n    </tr>\n  </thead>\n  <tbody>\n    <tr>\n      <th>0</th>\n      <td>3694</td>\n      <td>51.323619</td>\n      <td>12.335887</td>\n      <td>1514764029</td>\n      <td>1514764799</td>\n      <td>881f1a8d91fffff</td>\n      <td>1</td>\n      <td>Pinke Zone Leipzig West 1€</td>\n      <td>4094</td>\n      <td>10.80</td>\n      <td>...</td>\n      <td>7.20</td>\n      <td>76.0</td>\n      <td>2017</td>\n      <td>12</td>\n      <td>6</td>\n      <td>1427</td>\n      <td>1</td>\n      <td>821</td>\n      <td>12</td>\n      <td>2017-12-31 23:47:09</td>\n    </tr>\n    <tr>\n      <th>1</th>\n      <td>2508</td>\n      <td>51.323619</td>\n      <td>12.335887</td>\n      <td>1514764035</td>\n      <td>1514764799</td>\n      <td>881f1a8d91fffff</td>\n      <td>1</td>\n      <td>Pinke Zone Leipzig West 1€</td>\n      <td>4094</td>\n      <td>10.80</td>\n      <td>...</td>\n      <td>7.20</td>\n      <td>76.0</td>\n      <td>2017</td>\n      <td>12</td>\n      <td>6</td>\n      <td>1427</td>\n      <td>1</td>\n      <td>1439</td>\n      <td>12</td>\n      <td>2017-12-31 23:47:15</td>\n    </tr>\n    <tr>\n      <th>2</th>\n      <td>41851</td>\n      <td>51.332415</td>\n      <td>12.395158</td>\n      <td>1514764638</td>\n      <td>1514764799</td>\n      <td>881f1a1659fffff</td>\n      <td>1</td>\n      <td>Pinke Zone Leipzig Ost 1€</td>\n      <td>0</td>\n      <td>10.80</td>\n      <td>...</td>\n      <td>7.20</td>\n      <td>76.0</td>\n      <td>2017</td>\n      <td>12</td>\n      <td>6</td>\n      <td>1437</td>\n      <td>1</td>\n      <td>1439</td>\n      <td>2</td>\n      <td>2017-12-31 23:57:18</td>\n    </tr>\n    <tr>\n      <th>3</th>\n      <td>3694</td>\n      <td>51.323619</td>\n      <td>12.335887</td>\n      <td>1514764800</td>\n      <td>1514814103</td>\n      <td>881f1a8d91fffff</td>\n      <td>1</td>\n      <td>Pinke Zone Leipzig West 1€</td>\n      <td>4094</td>\n      <td>10.86</td>\n      <td>...</td>\n      <td>9.30</td>\n      <td>76.0</td>\n      <td>2018</td>\n      <td>1</td>\n      <td>0</td>\n      <td>0</td>\n      <td>0</td>\n      <td>0</td>\n      <td>821</td>\n      <td>2018-01-01 00:00:00</td>\n    </tr>\n    <tr>\n      <th>4</th>\n      <td>2508</td>\n      <td>51.323619</td>\n      <td>12.335887</td>\n      <td>1514764800</td>\n      <td>1514851199</td>\n      <td>881f1a8d91fffff</td>\n      <td>1</td>\n      <td>Pinke Zone Leipzig West 1€</td>\n      <td>4094</td>\n      <td>10.86</td>\n      <td>...</td>\n      <td>9.30</td>\n      <td>76.0</td>\n      <td>2018</td>\n      <td>1</td>\n      <td>0</td>\n      <td>0</td>\n      <td>1</td>\n      <td>878</td>\n      <td>1439</td>\n      <td>2018-01-01 00:00:00</td>\n    </tr>\n    <tr>\n      <th>...</th>\n      <td>...</td>\n      <td>...</td>\n      <td>...</td>\n      <td>...</td>\n      <td>...</td>\n      <td>...</td>\n      <td>...</td>\n      <td>...</td>\n      <td>...</td>\n      <td>...</td>\n      <td>...</td>\n      <td>...</td>\n      <td>...</td>\n      <td>...</td>\n      <td>...</td>\n      <td>...</td>\n      <td>...</td>\n      <td>...</td>\n      <td>...</td>\n      <td>...</td>\n      <td>...</td>\n    </tr>\n    <tr>\n      <th>2543825</th>\n      <td>72058</td>\n      <td>51.317569</td>\n      <td>12.382730</td>\n      <td>1640897593</td>\n      <td>1640904368</td>\n      <td>881f1a1609fffff</td>\n      <td>1</td>\n      <td>Blaue Zone Leipzig Ost 0€</td>\n      <td>0</td>\n      <td>13.19</td>\n      <td>...</td>\n      <td>8.94</td>\n      <td>83.0</td>\n      <td>2021</td>\n      <td>12</td>\n      <td>3</td>\n      <td>1253</td>\n      <td>0</td>\n      <td>0</td>\n      <td>112</td>\n      <td>2021-12-30 20:53:13</td>\n    </tr>\n    <tr>\n      <th>2543826</th>\n      <td>71949</td>\n      <td>51.334711</td>\n      <td>12.356763</td>\n      <td>1640897835</td>\n      <td>1640899343</td>\n      <td>881f1a1649fffff</td>\n      <td>1</td>\n      <td>Pinke Zone Leipzig Ost 1€</td>\n      <td>0</td>\n      <td>13.19</td>\n      <td>...</td>\n      <td>8.94</td>\n      <td>83.0</td>\n      <td>2021</td>\n      <td>12</td>\n      <td>3</td>\n      <td>1257</td>\n      <td>0</td>\n      <td>0</td>\n      <td>25</td>\n      <td>2021-12-30 20:57:15</td>\n    </tr>\n    <tr>\n      <th>2543827</th>\n      <td>97785</td>\n      <td>51.367276</td>\n      <td>12.369792</td>\n      <td>1640898086</td>\n      <td>1640900985</td>\n      <td>881f1a8c8bfffff</td>\n      <td>1</td>\n      <td>Blaue Zone Leipzig Ost 0€</td>\n      <td>0</td>\n      <td>13.05</td>\n      <td>...</td>\n      <td>8.05</td>\n      <td>84.0</td>\n      <td>2021</td>\n      <td>12</td>\n      <td>3</td>\n      <td>1261</td>\n      <td>0</td>\n      <td>0</td>\n      <td>48</td>\n      <td>2021-12-30 21:01:26</td>\n    </tr>\n    <tr>\n      <th>2543828</th>\n      <td>41738</td>\n      <td>51.366942</td>\n      <td>12.370322</td>\n      <td>1640900918</td>\n      <td>1640903516</td>\n      <td>881f1a8c8bfffff</td>\n      <td>1</td>\n      <td>Pinke Zone Leipzig Ost 1€</td>\n      <td>0</td>\n      <td>13.05</td>\n      <td>...</td>\n      <td>8.05</td>\n      <td>84.0</td>\n      <td>2021</td>\n      <td>12</td>\n      <td>3</td>\n      <td>1309</td>\n      <td>0</td>\n      <td>0</td>\n      <td>43</td>\n      <td>2021-12-30 21:48:38</td>\n    </tr>\n    <tr>\n      <th>2543829</th>\n      <td>72028</td>\n      <td>51.332844</td>\n      <td>12.404319</td>\n      <td>1640903200</td>\n      <td>1640905163</td>\n      <td>881f1a165bfffff</td>\n      <td>1</td>\n      <td>Blaue Zone Leipzig Ost 0€</td>\n      <td>0</td>\n      <td>13.11</td>\n      <td>...</td>\n      <td>8.05</td>\n      <td>81.0</td>\n      <td>2021</td>\n      <td>12</td>\n      <td>3</td>\n      <td>1347</td>\n      <td>0</td>\n      <td>0</td>\n      <td>32</td>\n      <td>2021-12-30 22:26:40</td>\n    </tr>\n  </tbody>\n</table>\n<p>2543830 rows × 22 columns</p>\n</div>"
     },
     "execution_count": 24,
     "metadata": {},
     "output_type": "execute_result"
    }
   ],
   "source": [
    "df = pd.read_csv('../data/final_df_points_18_21.csv')\n",
    "df['time_start'] = pd.to_datetime(df['dt_start'],unit='s')\n",
    "df"
   ],
   "metadata": {
    "collapsed": false,
    "pycharm": {
     "name": "#%%\n"
    }
   }
  },
  {
   "cell_type": "code",
   "execution_count": 25,
   "outputs": [
    {
     "data": {
      "text/plain": "            idle_time  list  bike_count\ndate                                   \n2018-01-01        NaN   NaN         NaN\n2018-01-02        NaN   NaN         NaN\n2018-01-03        NaN   NaN         NaN\n2018-01-04        NaN   NaN         NaN\n2018-01-05        NaN   NaN         NaN",
      "text/html": "<div>\n<style scoped>\n    .dataframe tbody tr th:only-of-type {\n        vertical-align: middle;\n    }\n\n    .dataframe tbody tr th {\n        vertical-align: top;\n    }\n\n    .dataframe thead th {\n        text-align: right;\n    }\n</style>\n<table border=\"1\" class=\"dataframe\">\n  <thead>\n    <tr style=\"text-align: right;\">\n      <th></th>\n      <th>idle_time</th>\n      <th>list</th>\n      <th>bike_count</th>\n    </tr>\n    <tr>\n      <th>date</th>\n      <th></th>\n      <th></th>\n      <th></th>\n    </tr>\n  </thead>\n  <tbody>\n    <tr>\n      <th>2018-01-01</th>\n      <td>NaN</td>\n      <td>NaN</td>\n      <td>NaN</td>\n    </tr>\n    <tr>\n      <th>2018-01-02</th>\n      <td>NaN</td>\n      <td>NaN</td>\n      <td>NaN</td>\n    </tr>\n    <tr>\n      <th>2018-01-03</th>\n      <td>NaN</td>\n      <td>NaN</td>\n      <td>NaN</td>\n    </tr>\n    <tr>\n      <th>2018-01-04</th>\n      <td>NaN</td>\n      <td>NaN</td>\n      <td>NaN</td>\n    </tr>\n    <tr>\n      <th>2018-01-05</th>\n      <td>NaN</td>\n      <td>NaN</td>\n      <td>NaN</td>\n    </tr>\n  </tbody>\n</table>\n</div>"
     },
     "execution_count": 25,
     "metadata": {},
     "output_type": "execute_result"
    }
   ],
   "source": [
    "# DEFINE TIME SERIES RANGE\n",
    "# sets the data as index of time series (ts) data\n",
    "\n",
    "rng = pd.date_range(f'{year}-01-01', periods=days, freq='D')\n",
    "tsdata = pd.DataFrame({ 'date': rng, 'idle_time' : np.nan, 'list': np.nan, 'bike_count': np.nan})\n",
    "tsdata = tsdata.set_index('date')\n",
    "tsdata.head()"
   ],
   "metadata": {
    "collapsed": false,
    "pycharm": {
     "name": "#%%\n"
    }
   }
  },
  {
   "cell_type": "code",
   "execution_count": 26,
   "outputs": [],
   "source": [
    "# GET ALL RENTALS FORM HEX_ID\n",
    "def get_all_rentals(hex_id):\n",
    "    onedfhexid = pd.DataFrame(columns=df.columns)\n",
    "    for ind in (df.index):\n",
    "        if df['hex_id'][ind] == hex_id:\n",
    "            onedfhexid.loc[df.index[ind]] = df.iloc[ind]\n",
    "            #onedfhexid.append(df[ind], ignore_index = True)\n",
    "    return onedfhexid.reset_index(drop=True)"
   ],
   "metadata": {
    "collapsed": false,
    "pycharm": {
     "name": "#%%\n"
    }
   }
  },
  {
   "cell_type": "code",
   "execution_count": 27,
   "outputs": [],
   "source": [
    "def add_rows_to_days(onedfhexid):\n",
    "    # ADD ROWS TO DAYS\n",
    "    # compute idle time mean for one day over all rentals at that day\n",
    "\n",
    "    # iteriere über alle Tage\n",
    "    for date in (tsdata.index):\n",
    "        list = []\n",
    "        # Adde alle Rows in die List wenn Tag = Tag\n",
    "        for ind in onedfhexid.index:\n",
    "            if date.date() == onedfhexid['time_start'][ind].date():\n",
    "                list.append(onedfhexid['idle_time'][ind])\n",
    "        #print(len(list))\n",
    "        # Setze Mittelwert für Tage\n",
    "        if len(list) == 0:\n",
    "            tsdata['bike_count'][date] = 1\n",
    "            continue\n",
    "        else:\n",
    "            tsdata['bike_count'][date] = len(list)\n",
    "            tsdata['idle_time'][date] = statistics.mean(list)\n",
    "    return tsdata"
   ],
   "metadata": {
    "collapsed": false,
    "pycharm": {
     "name": "#%%\n"
    }
   }
  },
  {
   "cell_type": "code",
   "execution_count": 28,
   "outputs": [],
   "source": [
    "# FILL MISSING DATA\n",
    "def fill_missing_data(tsdata):\n",
    "    tsdata = tsdata.asfreq('D')\n",
    "    tsdata = tsdata.ffill()\n",
    "    return tsdata"
   ],
   "metadata": {
    "collapsed": false,
    "pycharm": {
     "name": "#%%\n"
    }
   }
  },
  {
   "cell_type": "code",
   "execution_count": 29,
   "outputs": [],
   "source": [
    "# TOTAL BIKE COUNT\n",
    "def total_bike_count(tsdata):\n",
    "    total_bike_count = int(tsdata['bike_count'].sum())\n",
    "    return total_bike_count"
   ],
   "metadata": {
    "collapsed": false,
    "pycharm": {
     "name": "#%%\n"
    }
   }
  },
  {
   "cell_type": "code",
   "execution_count": 30,
   "outputs": [],
   "source": [
    "# CREATE ROLLING WINDOW WITH MEAN\n",
    "def roling_mean(tsdata):\n",
    "    data_7d_rol = tsdata[data_columns].rolling(window = 7, center = True).mean()\n",
    "    data_2m_rol = tsdata[data_columns].rolling(window = 60, center = True).mean()\n",
    "    return data_7d_rol, data_2m_rol"
   ],
   "metadata": {
    "collapsed": false,
    "pycharm": {
     "name": "#%%\n"
    }
   }
  },
  {
   "cell_type": "code",
   "execution_count": 31,
   "outputs": [],
   "source": [
    "# CREATE ROLLING WEIGHTED MEAN\n",
    "def rolling_weightet_mean(tsdata):\n",
    "    x = []\n",
    "    rng2 = pd.date_range(f'{year}-01-01', periods=days, freq='D')\n",
    "    data_7d_rol2 = pd.DataFrame({ 'date': rng2, 'idle_time' : np.nan})\n",
    "    data_7d_rol2 = data_7d_rol2.set_index('date')\n",
    "\n",
    "    for window in tsdata.rolling(window = 7 , center = True):\n",
    "        #print(window)\n",
    "        x.append(np.average(window['idle_time'], weights = window['bike_count']))\n",
    "    data_7d_rol2['idle_time'] = x\n",
    "    return data_7d_rol2"
   ],
   "metadata": {
    "collapsed": false,
    "pycharm": {
     "name": "#%%\n"
    }
   }
  },
  {
   "cell_type": "code",
   "execution_count": 32,
   "outputs": [],
   "source": [
    "import pickle\n",
    "\n",
    "def plot_details(tsdata,data_7d_rol,data_2m_rol,data_7d_mean2,hex_id,total_bike_count):\n",
    "\n",
    "    fig, ax = plt.subplots(figsize = (30,10))\n",
    "\n",
    "    # plotting daily data\n",
    "    ax.plot(tsdata['idle_time'], marker='.', markersize=2, color='0.6',linestyle='None', label='Daily')\n",
    "    # plotting 7-day rolling data\n",
    "    ax.plot(data_7d_rol['idle_time'],color = 'blue', linewidth=2, label='7-d Rolling Mean')\n",
    "    ax.plot(data_7d_mean2['idle_time'],color = 'green', linewidth=2, label='7-d Rolling Mean')\n",
    "    # plotting 2-Month rolling data -trend-\n",
    "    ax.plot(data_2m_rol['idle_time'], color='0.2', linewidth=3, label='Trend (2M)')\n",
    "    ax.legend()\n",
    "    ax.set_xlabel('time')\n",
    "    ax.set_ylabel('idle_time (min)')\n",
    "    ax.set_title(f'Trends in idel time of bikes in hex: {hex_id} with a total of {total_bike_count} rentals')\n",
    "\n",
    "    ax2 = ax.twinx()\n",
    "    ax2.plot(data_7d_rol['bike_count'],linewidth=1, color='0.5',label='Bike Count 7-d RM')\n",
    "    ax2.set_xlabel('day')\n",
    "    ax2.set_ylabel('bikes in hex per day')\n",
    "    ax2.legend()\n",
    "\n",
    "    ## SAVE\n",
    "\n",
    "    #create a file\n",
    "    picklefile = open(f'../data/time_series_data/tsdata_{hex_id}', 'wb')\n",
    "    #pickle the dataframe\n",
    "    pickle.dump(tsdata, picklefile)\n",
    "    #close file\n",
    "    picklefile.close()\n",
    "\n",
    "    plt.savefig(f'../results/newtsdata/tsdata_{hex_id}.png', format='png')\n",
    "    #plt.show()"
   ],
   "metadata": {
    "collapsed": false,
    "pycharm": {
     "name": "#%%\n"
    }
   }
  },
  {
   "cell_type": "code",
   "execution_count": null,
   "outputs": [],
   "source": [
    "i = 0\n",
    "total = len(hex_ids)\n",
    "\n",
    "for _hex_id in hex_ids:\n",
    "    _onedfhexid = get_all_rentals(_hex_id)\n",
    "    _tsdata = add_rows_to_days(_onedfhexid)\n",
    "    _tsdata = fill_missing_data(_tsdata)\n",
    "\n",
    "    _tbc = total_bike_count(_tsdata)\n",
    "\n",
    "    _data_7d_rol, _data_2m_rol = roling_mean(_tsdata)\n",
    "    _data_7d_rol2 = rolling_weightet_mean(_tsdata)\n",
    "\n",
    "    plot_details(_tsdata,_data_7d_rol,_data_2m_rol,_data_7d_rol2,_hex_id,_tbc)\n",
    "\n",
    "    i+=1\n",
    "    print(f'{i} from {total}', end='\\r')"
   ],
   "metadata": {
    "collapsed": false,
    "pycharm": {
     "name": "#%%\n",
     "is_executing": true
    }
   }
  },
  {
   "cell_type": "code",
   "execution_count": null,
   "outputs": [],
   "source": [],
   "metadata": {
    "collapsed": false,
    "pycharm": {
     "name": "#%%\n",
     "is_executing": true
    }
   }
  }
 ],
 "metadata": {
  "kernelspec": {
   "display_name": "Python 3",
   "language": "python",
   "name": "python3"
  },
  "language_info": {
   "codemirror_mode": {
    "name": "ipython",
    "version": 2
   },
   "file_extension": ".py",
   "mimetype": "text/x-python",
   "name": "python",
   "nbconvert_exporter": "python",
   "pygments_lexer": "ipython2",
   "version": "2.7.6"
  }
 },
 "nbformat": 4,
 "nbformat_minor": 0
}