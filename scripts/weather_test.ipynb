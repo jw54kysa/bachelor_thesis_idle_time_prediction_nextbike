{
 "cells": [
  {
   "cell_type": "code",
   "execution_count": 1,
   "id": "2c370451",
   "metadata": {},
   "outputs": [],
   "source": [
    "import requests"
   ]
  },
  {
   "cell_type": "code",
   "execution_count": 2,
   "id": "fc9d3795",
   "metadata": {},
   "outputs": [],
   "source": [
    "api_key = '2b500cc140a4028666069451f0fabc8b'\n",
    "city = 'Leipzig,DE'\n",
    "lat = '51.34'\n",
    "lon = '12.37'\n",
    "\n",
    "start = '1609455601'\n",
    "end = '1609974001'\n",
    "cnt = ''\n",
    "\n",
    "def get(api_key):\n",
    "    url = f\"http://history.openweathermap.org/data/2.5/history/city?lat={lat}&lon={lon}&type=hour&start={start}&appid={api_key}\"\n",
    "    response = requests.get(url).json()\n",
    "    \n",
    "    print(response)\n"
   ]
  },
  {
   "cell_type": "code",
   "execution_count": 3,
   "id": "301d1697",
   "metadata": {},
   "outputs": [
    {
     "name": "stdout",
     "output_type": "stream",
     "text": [
      "{'cod': 401, 'message': 'Invalid API key. Please see http://openweathermap.org/faq#error401 for more info.'}\n"
     ]
    }
   ],
   "source": [
    "get(api_key)"
   ]
  },
  {
   "cell_type": "code",
   "execution_count": null,
   "id": "d0272358",
   "metadata": {},
   "outputs": [],
   "source": []
  }
 ],
 "metadata": {
  "kernelspec": {
   "display_name": "Python 3 (ipykernel)",
   "language": "python",
   "name": "python3"
  },
  "language_info": {
   "codemirror_mode": {
    "name": "ipython",
    "version": 3
   },
   "file_extension": ".py",
   "mimetype": "text/x-python",
   "name": "python",
   "nbconvert_exporter": "python",
   "pygments_lexer": "ipython3",
   "version": "3.9.7"
  }
 },
 "nbformat": 4,
 "nbformat_minor": 5
}
