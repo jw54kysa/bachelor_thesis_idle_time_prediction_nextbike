{
 "cells": [
  {
   "cell_type": "markdown",
   "id": "b3ed9e1a",
   "metadata": {
    "pycharm": {
     "name": "#%% md\n"
    }
   },
   "source": [
    "# df_points with UNIX Timestamp #\n",
    "## Creates df_points.csv with all points and idletimes #\n",
    "## Checks the valid geo location\n",
    "## deletes the invalid points: \n",
    "\n",
    "2018 - invalides:   41743 from 139171 that is 29.994036113845556 %\n",
    "\n",
    "2019 - invalides:   52523 from 550887 that is 9.534260202183024 % - 05:40:19\n",
    "\n",
    "2020 - invalides:   18086 from 662386 that is 2.7304321045432722 %- 05:40:06\n",
    "\n",
    "2021 - invalides:   21382 from 552253 that is 3.8717761605640897 % - 05:51:53\n",
    "\n",
    "### ca 1h for 1 year"
   ]
  },
  {
   "cell_type": "code",
   "execution_count": 11,
   "id": "a791a421",
   "metadata": {
    "pycharm": {
     "name": "#%%\n"
    }
   },
   "outputs": [],
   "source": [
    "def import_data(source):\n",
    "    return pd.read_csv(source)"
   ]
  },
  {
   "cell_type": "code",
   "execution_count": 12,
   "id": "82359632",
   "metadata": {
    "pycharm": {
     "name": "#%%\n"
    }
   },
   "outputs": [],
   "source": [
    "def dic_out_of_df(df01):\n",
    "    import pandas as pd\n",
    "    from tqdm import tqdm\n",
    "    # Dict out of DataFrames of Trips per Bike\n",
    "\n",
    "    # init DFs for every bike\n",
    "    myDFs = {}\n",
    "\n",
    "    for ind in tqdm(df01.index):\n",
    "        if df01['bike_id'][ind] not in myDFs:\n",
    "            myDFs[df01['bike_id'][ind]] = pd.DataFrame(\n",
    "                columns=['bike_id',\n",
    "                         'start_time',\n",
    "                         'end_time',\n",
    "                         'start_lat',\n",
    "                         'start_lng',\n",
    "                         'end_lat',\n",
    "                         'end_lng',\n",
    "                         'end_station_number'])\n",
    "    return myDFs"
   ]
  },
  {
   "cell_type": "code",
   "execution_count": 12,
   "outputs": [],
   "source": [],
   "metadata": {
    "collapsed": false,
    "pycharm": {
     "name": "#%%\n"
    }
   }
  },
  {
   "cell_type": "code",
   "execution_count": 13,
   "id": "941271a6",
   "metadata": {
    "pycharm": {
     "name": "#%%\n"
    }
   },
   "outputs": [],
   "source": [
    "def add_rentals_to_df(df01,myDFs):\n",
    "    from tqdm import tqdm\n",
    "    # Add all rentals to their bike_id DF\n",
    "    for ind in tqdm(df01.index):\n",
    "        if df01['bike_id'][ind] in myDFs:\n",
    "            myDFs[df01['bike_id'][ind]].loc[df01.index[ind]] = df01.iloc[ind]\n",
    "    return myDFs"
   ]
  },
  {
   "cell_type": "code",
   "execution_count": 14,
   "id": "3502fb99",
   "metadata": {
    "pycharm": {
     "name": "#%%\n"
    }
   },
   "outputs": [],
   "source": [
    "def sort_dfs(myDFs):\n",
    "    # sort every DF\n",
    "    for df in myDFs.values():\n",
    "        df[['bike_id', 'start_time','end_time']] = df[['bike_id', 'start_time','end_time']].astype(int)\n",
    "        df[['start_lat','start_lng', 'end_lat', 'end_lng']] = df[['start_lat','start_lng', 'end_lat', 'end_lng']].astype(float)\n",
    "        df.sort_values(by=['start_time'], inplace=True)\n",
    "        df.reset_index(drop=True, inplace=True)\n",
    "    return myDFs"
   ]
  },
  {
   "cell_type": "code",
   "execution_count": 15,
   "outputs": [],
   "source": [
    "# returns distance in meter\n",
    "\n",
    "from math import radians, cos, sin, asin, sqrt\n",
    "def haversine_distance(lat1, lon1, lat2, lon2):\n",
    "    # convert decimal degrees to radians\n",
    "    lon1, lat1, lon2, lat2 = map(radians, [lon1, lat1, lon2, lat2])\n",
    "    # haversine formula\n",
    "    dlon = lon2 - lon1\n",
    "    dlat = lat2 - lat1\n",
    "    a = sin(dlat/2)**2 + cos(lat1) * cos(lat2) * sin(dlon/2)**2\n",
    "    c = 2 * asin(sqrt(a))\n",
    "    # Radius of earth in kilometers is 6371\n",
    "    km = 6371 * c\n",
    "    return km * 1000"
   ],
   "metadata": {
    "collapsed": false,
    "pycharm": {
     "name": "#%%\n"
    }
   }
  },
  {
   "cell_type": "code",
   "execution_count": 16,
   "id": "2b82d201",
   "metadata": {
    "pycharm": {
     "name": "#%%\n"
    }
   },
   "outputs": [],
   "source": [
    "def create_df_points(myDFs, radius):\n",
    "    # DF of all points with idle_time\n",
    "    in_val = 0\n",
    "    val = 0\n",
    "    errors = []\n",
    "    \n",
    "    df_points = pd.DataFrame(columns=['bike_id', 'lat', 'lng', 'idle_time', 'time_start', 'time_end', 'station_number'])\n",
    "    \n",
    "    for df in tqdm(myDFs.values()):\n",
    "        for ind in df.index[1:]:\n",
    "            # comp idle_time in SECONDS\n",
    "            _idle_time = (df['start_time'][ind] - df['end_time'][ind - 1]).astype(int)\n",
    "\n",
    "            # check if lng lat == 0.0  ->  false data\n",
    "            if df['end_lat'][ind - 1] == 0.0 or df['end_lng'][ind - 1] == 0:\n",
    "                in_val += 1\n",
    "                continue\n",
    "\n",
    "            # compute distance of start and end point and check if it is > than tolerance\n",
    "            distance = haversine_distance(df['end_lat'][ind - 1], df['end_lng'][ind - 1], df['start_lat'][ind], df['start_lng'][ind])\n",
    "            if distance > radius:\n",
    "                errors.append(distance)\n",
    "                in_val +=1\n",
    "                continue\n",
    "            val +=1\n",
    "            # add new df_point entry to df\n",
    "            dict = {'bike_id': df['bike_id'][ind], 'lng': df['start_lng'][ind], 'lat': df['start_lat'][ind],\n",
    "                    'idle_time': _idle_time, 'time_start': df['end_time'][ind - 1], 'time_end': df['start_time'][ind], 'station_number': df['end_station_number'][ind-1]}\n",
    "            df_points = df_points.append(dict, ignore_index=True)\n",
    "\n",
    "    print(f\"invalids: {in_val} from {val} that is {in_val/val * 100} %\")\n",
    "    print(errors)\n",
    "    return df_points"
   ]
  },
  {
   "cell_type": "markdown",
   "id": "2b4cd011",
   "metadata": {
    "pycharm": {
     "name": "#%% md\n"
    }
   },
   "source": [
    "# Main \n",
    "## Create map"
   ]
  },
  {
   "cell_type": "code",
   "execution_count": 18,
   "outputs": [
    {
     "data": {
      "text/plain": "         bike_id  start_time    end_time  start_lat  start_lng    end_lat  \\\n2043433    71933  1640904867  1640905631  51.320938  12.373708  51.331796   \n2043434    72257  1640904911  1640905492  51.339089  12.326971  51.330502   \n2043435    93600  1640904922  1640906099  51.337080  12.332663  51.342862   \n2043436   100236  1640905127  1640906811  51.332933  12.404402  51.305751   \n2043437    72028  1640905163  1640906794  51.332844  12.404319  51.305720   \n\n           end_lng  end_station_number  \n2043433  12.405827                 NaN  \n2043434  12.315658                 NaN  \n2043435  12.395077                 NaN  \n2043436  12.373562                 NaN  \n2043437  12.373641                 NaN  ",
      "text/html": "<div>\n<style scoped>\n    .dataframe tbody tr th:only-of-type {\n        vertical-align: middle;\n    }\n\n    .dataframe tbody tr th {\n        vertical-align: top;\n    }\n\n    .dataframe thead th {\n        text-align: right;\n    }\n</style>\n<table border=\"1\" class=\"dataframe\">\n  <thead>\n    <tr style=\"text-align: right;\">\n      <th></th>\n      <th>bike_id</th>\n      <th>start_time</th>\n      <th>end_time</th>\n      <th>start_lat</th>\n      <th>start_lng</th>\n      <th>end_lat</th>\n      <th>end_lng</th>\n      <th>end_station_number</th>\n    </tr>\n  </thead>\n  <tbody>\n    <tr>\n      <th>2043433</th>\n      <td>71933</td>\n      <td>1640904867</td>\n      <td>1640905631</td>\n      <td>51.320938</td>\n      <td>12.373708</td>\n      <td>51.331796</td>\n      <td>12.405827</td>\n      <td>NaN</td>\n    </tr>\n    <tr>\n      <th>2043434</th>\n      <td>72257</td>\n      <td>1640904911</td>\n      <td>1640905492</td>\n      <td>51.339089</td>\n      <td>12.326971</td>\n      <td>51.330502</td>\n      <td>12.315658</td>\n      <td>NaN</td>\n    </tr>\n    <tr>\n      <th>2043435</th>\n      <td>93600</td>\n      <td>1640904922</td>\n      <td>1640906099</td>\n      <td>51.337080</td>\n      <td>12.332663</td>\n      <td>51.342862</td>\n      <td>12.395077</td>\n      <td>NaN</td>\n    </tr>\n    <tr>\n      <th>2043436</th>\n      <td>100236</td>\n      <td>1640905127</td>\n      <td>1640906811</td>\n      <td>51.332933</td>\n      <td>12.404402</td>\n      <td>51.305751</td>\n      <td>12.373562</td>\n      <td>NaN</td>\n    </tr>\n    <tr>\n      <th>2043437</th>\n      <td>72028</td>\n      <td>1640905163</td>\n      <td>1640906794</td>\n      <td>51.332844</td>\n      <td>12.404319</td>\n      <td>51.305720</td>\n      <td>12.373641</td>\n      <td>NaN</td>\n    </tr>\n  </tbody>\n</table>\n</div>"
     },
     "execution_count": 18,
     "metadata": {},
     "output_type": "execute_result"
    }
   ],
   "source": [
    "from keplergl import KeplerGl\n",
    "import pandas as pd\n",
    "pd.options.mode.chained_assignment = None\n",
    "import time\n",
    "\n",
    "ts1 = time.time()\n",
    "\n",
    "source = '../../data/raw_lendings/all_raw_lendings.csv'\n",
    "\n",
    "df = import_data(source)\n",
    "df.tail()"
   ],
   "metadata": {
    "collapsed": false,
    "pycharm": {
     "name": "#%%\n"
    }
   }
  },
  {
   "cell_type": "code",
   "execution_count": 19,
   "id": "2e341a0e",
   "metadata": {
    "pycharm": {
     "name": "#%%\n"
    }
   },
   "outputs": [
    {
     "name": "stderr",
     "output_type": "stream",
     "text": [
      "100%|██████████| 2043438/2043438 [00:12<00:00, 163807.49it/s]\n",
      "100%|██████████| 2043438/2043438 [46:13<00:00, 736.68it/s] \n"
     ]
    }
   ],
   "source": [
    "myDfs = dic_out_of_df(df)\n",
    "myDfs = add_rentals_to_df(df, myDfs)\n",
    "myDfs = sort_dfs(myDfs)"
   ]
  },
  {
   "cell_type": "markdown",
   "id": "16b3a096",
   "metadata": {
    "pycharm": {
     "name": "#%% md\n"
    }
   },
   "source": [
    "# Create DF_points\n",
    "## without invalid points"
   ]
  },
  {
   "cell_type": "code",
   "execution_count": null,
   "id": "9fae31aa",
   "metadata": {
    "pycharm": {
     "name": "#%%\n",
     "is_executing": true
    }
   },
   "outputs": [],
   "source": [
    "from math import cos, sqrt\n",
    "from tqdm import tqdm\n",
    "\n",
    "# Toleranz von 20 m\n",
    "radius = 20\n",
    "df_points = create_df_points(myDfs,radius)\n",
    "df_points.tail()"
   ]
  },
  {
   "cell_type": "markdown",
   "id": "50748b61",
   "metadata": {
    "pycharm": {
     "name": "#%% md\n"
    }
   },
   "source": [
    "# Split Points at midnight\n",
    "\n",
    "## save feature idle_time_next_day"
   ]
  },
  {
   "cell_type": "code",
   "execution_count": 22,
   "id": "0a6fc960",
   "metadata": {
    "pycharm": {
     "name": "#%%\n"
    }
   },
   "outputs": [],
   "source": [
    "df_points['idle_time'] = pd.to_timedelta(df_points['idle_time'],unit='s')\n",
    "df_points['time_start'] = pd.to_datetime(df_points['time_start'],unit='s')\n",
    "df_points['time_end'] = pd.to_datetime(df_points['time_end'],unit='s')"
   ]
  },
  {
   "cell_type": "code",
   "execution_count": null,
   "id": "8395e5e9",
   "metadata": {
    "pycharm": {
     "name": "#%%\n",
     "is_executing": true
    }
   },
   "outputs": [],
   "source": [
    "from tqdm import tqdm\n",
    "from datetime import timedelta\n",
    "import numpy as np\n",
    "\n",
    "changed = 1\n",
    "iterations = 0\n",
    "\n",
    "df_points['idle_time_next_day'] = np.nan\n",
    "df_points['over_night'] = 0\n",
    "\n",
    "while changed:\n",
    "    iterations += 1\n",
    "    changed = 0\n",
    "    for ind in tqdm(df_points.index):\n",
    "        ts = df_points['time_start'][ind]\n",
    "        te = df_points['time_end'][ind]\n",
    "        t0 = ts.replace(hour=23, minute=59, second=59)\n",
    "        \n",
    "        # is timestood greater than same date 23:59:59\n",
    "        #   -> over midnight\n",
    "        if ts + df_points['idle_time'][ind] > t0:\n",
    "            changed = 1\n",
    "            \n",
    "            underhang = t0 - ts\n",
    "            overhang = te - t0\n",
    "            \n",
    "            # fix current day\n",
    "            df_points['time_end'][ind] = ts.replace(hour=23, minute=59, second=59)\n",
    "            df_points['idle_time'][ind] = underhang\n",
    "            df_points['over_night'][ind] = 1\n",
    "            df_points['idle_time_next_day'][ind] = overhang\n",
    "            \n",
    "            # add new row for the next day\n",
    "            time_start = ts.replace(hour=0, minute=0, second=0)\n",
    "            time_start += timedelta(days=1)\n",
    "            flag = 0\n",
    "            #if time_start + overhang > time_start.replace(hour=23, minute=59, second=59):\n",
    "            #    flag = 1\n",
    "            \n",
    "            dict = {'bike_id': df_points['bike_id'][ind], 'lng': df_points['lng'][ind], 'lat': df_points['lat'][ind],\n",
    "                    'idle_time': overhang, 'time_start': time_start, 'time_end': te,'over_night': flag, 'idle_time_next_day': np.nan, 'station_number': df_points['station_number'][ind]}\n",
    "            df_points = df_points.append(dict, ignore_index=True)\n",
    "\n",
    "print(iterations)"
   ]
  },
  {
   "cell_type": "code",
   "execution_count": null,
   "outputs": [],
   "source": [
    "df_points.head()"
   ],
   "metadata": {
    "collapsed": false,
    "pycharm": {
     "name": "#%%\n"
    }
   }
  },
  {
   "cell_type": "markdown",
   "source": [
    "### idle time in min"
   ],
   "metadata": {
    "collapsed": false,
    "pycharm": {
     "name": "#%% md\n"
    }
   }
  },
  {
   "cell_type": "code",
   "execution_count": null,
   "outputs": [],
   "source": [
    "def idle_time_to_min(row):\n",
    "    return row['idle_time'].seconds / 60\n",
    "\n",
    "df_points['idle_time'] = df_points.apply(idle_time_to_min, axis=1)"
   ],
   "metadata": {
    "collapsed": false,
    "pycharm": {
     "name": "#%%\n"
    }
   }
  },
  {
   "cell_type": "markdown",
   "source": [
    "### add idle_time_next_day feature"
   ],
   "metadata": {
    "collapsed": false,
    "pycharm": {
     "name": "#%% md\n"
    }
   }
  },
  {
   "cell_type": "code",
   "execution_count": null,
   "id": "5aee7e90",
   "metadata": {
    "pycharm": {
     "name": "#%%\n"
    }
   },
   "outputs": [],
   "source": [
    "df_points['idle_time_next_day'] = pd.to_timedelta(df_points['idle_time_next_day'])\n",
    "\n",
    "def idle_time_next_day_to_min(row):\n",
    "    if row['over_night'] == 1:\n",
    "        t = row['idle_time_next_day'].total_seconds() / 60\n",
    "        if t < 1439:\n",
    "            return t\n",
    "        else: return 1439\n",
    "    else:\n",
    "        return 0\n",
    "\n",
    "df_points['idle_time_next_day'] = df_points.apply(idle_time_next_day_to_min, axis=1)\n",
    "df_points.head()"
   ]
  },
  {
   "cell_type": "markdown",
   "source": [
    "### change type to int"
   ],
   "metadata": {
    "collapsed": false,
    "pycharm": {
     "name": "#%% md\n"
    }
   }
  },
  {
   "cell_type": "code",
   "execution_count": null,
   "id": "3bf78e2f",
   "metadata": {
    "pycharm": {
     "name": "#%%\n"
    }
   },
   "outputs": [],
   "source": [
    "df_points['idle_time'] = df_points['idle_time'].astype(int)\n",
    "df_points['idle_time_next_day'] = df_points['idle_time_next_day'].astype(int)\n",
    "df_points"
   ]
  },
  {
   "cell_type": "code",
   "execution_count": null,
   "id": "8d901a75",
   "metadata": {
    "pycharm": {
     "name": "#%%\n"
    }
   },
   "outputs": [],
   "source": [
    "# Check max idle time\n",
    "df_points['idle_time'].max()"
   ]
  },
  {
   "cell_type": "markdown",
   "id": "8ac57725",
   "metadata": {
    "pycharm": {
     "name": "#%% md\n"
    }
   },
   "source": [
    "### Add H3 Index"
   ]
  },
  {
   "cell_type": "code",
   "execution_count": null,
   "id": "3d822988",
   "metadata": {
    "pycharm": {
     "name": "#%%\n"
    }
   },
   "outputs": [],
   "source": [
    "import h3\n",
    "\n",
    "df_points['hex_id'] = 0\n",
    "\n",
    "for ind in tqdm(df_points.index):\n",
    "    df_points['hex_id'][ind] = h3.geo_to_h3(df_points['lat'][ind], df_points['lng'][ind], 8)\n",
    "df_points.head()"
   ]
  },
  {
   "cell_type": "markdown",
   "id": "83a28483",
   "metadata": {
    "pycharm": {
     "name": "#%% md\n"
    }
   },
   "source": [
    "### Add weather Data"
   ]
  },
  {
   "cell_type": "code",
   "execution_count": null,
   "outputs": [],
   "source": [
    "dfw = pd.read_csv('../data/weather_data.csv')\n",
    "dfw['datetime'] = pd.to_datetime(dfw['dt'], unit='s')\n",
    "dfw = dfw.set_index(['datetime'])\n",
    "dfw.head()\n",
    "\n",
    "df_points['temp'] = np.nan\n",
    "df_points['rain'] = np.nan\n",
    "df_points['snow'] = np.nan\n",
    "df_points['wind_speed'] = np.nan\n",
    "df_points['humidity'] = np.nan\n",
    "\n",
    "from tqdm import tqdm\n",
    "pd.options.mode.chained_assignment = None\n",
    "\n",
    "for ind in tqdm(df_points.index):\n",
    "    wint = df_points['time_start'][ind].replace(minute=0,second=0)\n",
    "    df_points['temp'][ind] = dfw['temp'][wint].copy()\n",
    "    df_points['rain'][ind] = dfw['rain_1h'][wint].copy()\n",
    "    df_points['snow'][ind] = dfw['snow_1h'][wint].copy()\n",
    "    df_points['wind_speed'][ind] = dfw['wind_speed'][wint].copy()\n",
    "    df_points['humidity'][ind] = dfw['humidity'][wint].copy()\n",
    "\n",
    "df_points"
   ],
   "metadata": {
    "collapsed": false,
    "pycharm": {
     "name": "#%%\n"
    }
   }
  },
  {
   "cell_type": "markdown",
   "source": [
    "### Fill NaNS weather"
   ],
   "metadata": {
    "collapsed": false,
    "pycharm": {
     "name": "#%% md\n"
    }
   }
  },
  {
   "cell_type": "code",
   "execution_count": null,
   "outputs": [],
   "source": [
    "df_points['rain'] = df_points['rain'].fillna(0)\n",
    "df_points['snow'] = df_points['snow'].fillna(0)\n",
    "df_points['station_number'] = df_points['station_number'].fillna(0)\n",
    "\n",
    "df_points['wind_speed'] = df_points['wind_speed'].fillna(df_points['wind_speed'].mean())\n",
    "df_points['humidity'] = df_points['humidity'].fillna(df_points['humidity'].mean())\n",
    "df_points = df_points.sort_values(by=['time_start']).reset_index(drop=True)"
   ],
   "metadata": {
    "collapsed": false,
    "pycharm": {
     "name": "#%%\n"
    }
   }
  },
  {
   "cell_type": "markdown",
   "source": [
    "### add unix timestamps"
   ],
   "metadata": {
    "collapsed": false,
    "pycharm": {
     "name": "#%% md\n"
    }
   }
  },
  {
   "cell_type": "code",
   "execution_count": null,
   "outputs": [],
   "source": [
    "df_points['dt_start'] = pd.to_datetime(df_points['time_start']).map(pd.Timestamp.timestamp).astype(int)\n",
    "df_points['dt_end'] = pd.to_datetime(df_points['time_end']).map(pd.Timestamp.timestamp).astype(int)\n",
    "df_points['bike_id'] = df_points['bike_id'].astype(int)\n",
    "df_points['station_number'] = df_points['station_number'].astype(int)"
   ],
   "metadata": {
    "collapsed": false,
    "pycharm": {
     "name": "#%%\n"
    }
   }
  },
  {
   "cell_type": "code",
   "execution_count": null,
   "outputs": [],
   "source": [
    "df_points.head()"
   ],
   "metadata": {
    "collapsed": false,
    "pycharm": {
     "name": "#%%\n"
    }
   }
  },
  {
   "cell_type": "markdown",
   "source": [
    "### Add start time Feature"
   ],
   "metadata": {
    "collapsed": false,
    "pycharm": {
     "name": "#%% md\n"
    }
   }
  },
  {
   "cell_type": "code",
   "execution_count": null,
   "outputs": [],
   "source": [
    "def add_start_min_feature(row):\n",
    "    return ((row['dt_start'] % 86400) / 60).__round__(0)\n",
    "\n",
    "df_points['start_min'] = df_points.apply(add_start_min_feature,axis=1)\n",
    "df_points['start_min'] = df_points['start_min'].astype(int)\n",
    "df_points.head()"
   ],
   "metadata": {
    "collapsed": false,
    "pycharm": {
     "name": "#%%\n"
    }
   }
  },
  {
   "cell_type": "markdown",
   "source": [
    "### Add day Feature"
   ],
   "metadata": {
    "collapsed": false,
    "pycharm": {
     "name": "#%% md\n"
    }
   }
  },
  {
   "cell_type": "code",
   "execution_count": null,
   "outputs": [],
   "source": [
    "def add_day_feature(row):\n",
    "    return row['time_start'].dayofweek\n",
    "\n",
    "df_points['day'] = df_points.apply(add_day_feature,axis=1)\n",
    "df_points.head()"
   ],
   "metadata": {
    "collapsed": false,
    "pycharm": {
     "name": "#%%\n"
    }
   }
  },
  {
   "cell_type": "markdown",
   "source": [
    "### Add month feature"
   ],
   "metadata": {
    "collapsed": false,
    "pycharm": {
     "name": "#%% md\n"
    }
   }
  },
  {
   "cell_type": "code",
   "execution_count": null,
   "outputs": [],
   "source": [
    "def add_month_feature(row):\n",
    "    return row['time_start'].strftime(\"%m\")\n",
    "\n",
    "df_points['month'] = df_points.apply(add_month_feature,axis=1)"
   ],
   "metadata": {
    "collapsed": false,
    "pycharm": {
     "name": "#%%\n"
    }
   }
  },
  {
   "cell_type": "markdown",
   "source": [
    "### Encode Hex_id"
   ],
   "metadata": {
    "collapsed": false,
    "pycharm": {
     "name": "#%% md\n"
    }
   }
  },
  {
   "cell_type": "code",
   "source": [
    "from sklearn import preprocessing\n",
    "\n",
    "label_encoder = preprocessing.LabelEncoder()\n",
    "df_points['hex_enc']= label_encoder.fit_transform(df_points['hex_id'])"
   ],
   "metadata": {
    "collapsed": false,
    "pycharm": {
     "name": "#%%\n"
    }
   },
   "execution_count": null,
   "outputs": []
  },
  {
   "cell_type": "markdown",
   "source": [
    "### Add year Feature"
   ],
   "metadata": {
    "collapsed": false,
    "pycharm": {
     "name": "#%% md\n"
    }
   }
  },
  {
   "cell_type": "code",
   "execution_count": null,
   "outputs": [],
   "source": [
    "def add_year_feature(row):\n",
    "    return row['time_start'].year\n",
    "\n",
    "df_points['year'] = df_points.apply(add_year_feature,axis=1)"
   ],
   "metadata": {
    "collapsed": false,
    "pycharm": {
     "name": "#%%\n"
    }
   }
  },
  {
   "cell_type": "markdown",
   "source": [
    "### Add Zone Name Feature"
   ],
   "metadata": {
    "collapsed": false,
    "pycharm": {
     "name": "#%% md\n"
    }
   }
  },
  {
   "cell_type": "code",
   "execution_count": null,
   "outputs": [],
   "source": [
    "import os\n",
    "import json\n",
    "from shapely.geometry import shape, Point\n",
    "\n",
    "flexzones_0 = []\n",
    "flexzones_1 = []\n",
    "\n",
    "def save_flexzones():\n",
    "    # Flexzone 0 Euro\n",
    "    directory_name_0 = f'../flexzones/0/'\n",
    "    for file_name in os.listdir(directory_name_0):\n",
    "        path = os.path.join(directory_name_0, file_name)\n",
    "        if os.path.isfile(path):\n",
    "           with open(path) as f:\n",
    "                js = json.load(f)\n",
    "                for feature in js['features']:\n",
    "                    flexzones_0.append(feature)\n",
    "    # Flexzone 1 Euro\n",
    "    directory_name_1 = f'../flexzones/1/'\n",
    "    for file_name in os.listdir(directory_name_1):\n",
    "        path = os.path.join(directory_name_1, file_name)\n",
    "        if os.path.isfile(path):\n",
    "           with open(path) as f:\n",
    "                js = json.load(f)\n",
    "                for feature in js['features']:\n",
    "                    flexzones_1.append(feature)\n",
    "\n",
    "\n",
    "def point_in_polygons(row):\n",
    "    y = row['lat']  # y = 51.331305\n",
    "    x = row['lng']  # x = 12.344334\n",
    "\n",
    "    # switch x and y-axis bc. scapely woks on x plane\n",
    "    point = Point(x,y)\n",
    "\n",
    "    for feature0 in flexzones_0:\n",
    "        polygon = shape(feature0['geometry'])\n",
    "        if polygon.contains(point):\n",
    "            return feature0['properties']['name']\n",
    "\n",
    "    for feature1 in flexzones_1:\n",
    "        polygon = shape(feature1['geometry'])\n",
    "        if polygon.contains(point):\n",
    "            return feature1['properties']['name']\n",
    "    else: return 0"
   ],
   "metadata": {
    "collapsed": false,
    "pycharm": {
     "name": "#%%\n"
    }
   }
  },
  {
   "cell_type": "code",
   "execution_count": null,
   "outputs": [],
   "source": [
    "save_flexzones()\n",
    "df_points['zone_name'] = df_points.apply(point_in_polygons,axis=1)"
   ],
   "metadata": {
    "collapsed": false,
    "pycharm": {
     "name": "#%%\n"
    }
   }
  },
  {
   "cell_type": "code",
   "execution_count": null,
   "outputs": [],
   "source": [
    "# add zone name_enc\n",
    "zone_encoder = preprocessing.LabelEncoder()\n",
    "df_points['zone_name_enc'] = zone_encoder.fit_transform(df_points['zone_name'])"
   ],
   "metadata": {
    "collapsed": false,
    "pycharm": {
     "name": "#%%\n"
    }
   }
  },
  {
   "cell_type": "code",
   "execution_count": null,
   "outputs": [],
   "source": [
    "df_points.head()"
   ],
   "metadata": {
    "collapsed": false,
    "pycharm": {
     "name": "#%%\n"
    }
   }
  },
  {
   "cell_type": "markdown",
   "source": [
    "### Add in_zone Feature"
   ],
   "metadata": {
    "collapsed": false,
    "pycharm": {
     "name": "#%% md\n"
    }
   }
  },
  {
   "cell_type": "code",
   "execution_count": null,
   "outputs": [],
   "source": [
    "def in_zone(row):\n",
    "    if row['zone_name'] != 0:\n",
    "        return 1\n",
    "    else: return 0\n",
    "\n",
    "df_points['in_zone'] = df_points.apply(in_zone,axis=1)"
   ],
   "metadata": {
    "collapsed": false,
    "pycharm": {
     "name": "#%%\n"
    }
   }
  },
  {
   "cell_type": "markdown",
   "source": [
    "### Add on Station Feature"
   ],
   "metadata": {
    "collapsed": false,
    "pycharm": {
     "name": "#%% md\n"
    }
   }
  },
  {
   "cell_type": "code",
   "execution_count": null,
   "outputs": [],
   "source": [
    "# add on_station\n",
    "def on_station(row):\n",
    "    if row['station_number'] != 0:\n",
    "        return 1\n",
    "    else:\n",
    "        return 0\n",
    "\n",
    "df_points['on_station'] = df_points.apply(on_station, axis=1)"
   ],
   "metadata": {
    "collapsed": false,
    "pycharm": {
     "name": "#%%\n"
    }
   }
  },
  {
   "cell_type": "code",
   "execution_count": null,
   "outputs": [],
   "source": [
    "df_points.head()"
   ],
   "metadata": {
    "collapsed": false,
    "pycharm": {
     "name": "#%%\n"
    }
   }
  },
  {
   "cell_type": "code",
   "execution_count": null,
   "outputs": [],
   "source": [
    "df_points = df_points.reindex(columns=['bike_id', 'lat', 'lng', 'dt_start', 'dt_end', 'hex_id','hex_enc', 'in_zone', 'zone_name','zone_name_enc','station_number','on_station','temp', 'rain', 'snow', 'wind_speed', 'humidity', 'year','month', 'day', 'start_min', 'over_night', 'idle_time_next_day', 'idle_time'])\n",
    "\n",
    "df_points = df_points.sort_values(by=['dt_start'])\n",
    "df_points.head()"
   ],
   "metadata": {
    "collapsed": false,
    "pycharm": {
     "name": "#%%\n"
    }
   }
  },
  {
   "cell_type": "markdown",
   "source": [
    "# SAVE"
   ],
   "metadata": {
    "collapsed": false,
    "pycharm": {
     "name": "#%% md\n"
    }
   }
  },
  {
   "cell_type": "code",
   "execution_count": null,
   "outputs": [],
   "source": [
    "dur = time.time() - ts1\n",
    "print(dur)\n",
    "ty_res = time.gmtime(dur)\n",
    "res = time.strftime(\"%H:%M:%S\",ty_res)\n",
    "print(res)"
   ],
   "metadata": {
    "collapsed": false,
    "pycharm": {
     "name": "#%%\n"
    }
   }
  },
  {
   "cell_type": "code",
   "execution_count": null,
   "outputs": [],
   "source": [
    "df_points.to_csv('../../data/df_points/df_points_2020.csv', index=False)"
   ],
   "metadata": {
    "collapsed": false,
    "pycharm": {
     "name": "#%%\n"
    }
   }
  },
  {
   "cell_type": "code",
   "execution_count": null,
   "outputs": [],
   "source": [],
   "metadata": {
    "collapsed": false,
    "pycharm": {
     "name": "#%%\n"
    }
   }
  }
 ],
 "metadata": {
  "kernelspec": {
   "display_name": "Python 3 (ipykernel)",
   "language": "python",
   "name": "python3"
  },
  "language_info": {
   "codemirror_mode": {
    "name": "ipython",
    "version": 3
   },
   "file_extension": ".py",
   "mimetype": "text/x-python",
   "name": "python",
   "nbconvert_exporter": "python",
   "pygments_lexer": "ipython3",
   "version": "3.9.7"
  }
 },
 "nbformat": 4,
 "nbformat_minor": 5
}