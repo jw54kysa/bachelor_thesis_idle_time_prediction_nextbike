{
 "cells": [
  {
   "cell_type": "markdown",
   "source": [
    "### Random Forest Classifier WandB Sweep"
   ],
   "metadata": {
    "collapsed": false,
    "pycharm": {
     "name": "#%% md\n"
    }
   }
  },
  {
   "cell_type": "code",
   "execution_count": 1,
   "metadata": {
    "collapsed": true
   },
   "outputs": [],
   "source": [
    "import pandas as pd"
   ]
  },
  {
   "cell_type": "code",
   "execution_count": 2,
   "outputs": [],
   "source": [
    "idle_time_data = pd.read_csv('../data/df_points/df_points_18_21_class.csv')"
   ],
   "metadata": {
    "collapsed": false,
    "pycharm": {
     "name": "#%%\n"
    }
   }
  },
  {
   "cell_type": "code",
   "execution_count": 3,
   "outputs": [],
   "source": [
    "from sklearn.preprocessing import StandardScaler\n",
    "\n",
    "TargetVariable = ['idle_time_class']\n",
    "Predictors = ['bike_id', 'lat', 'lng', 'temp', 'rain', 'snow', 'dt_start', 'hex_enc', 'start_min', 'month', 'day']\n",
    "\n",
    "X = idle_time_data[Predictors].values\n",
    "y = idle_time_data[TargetVariable].values\n",
    "\n",
    "PredictorScaler=StandardScaler()\n",
    "PredictorScalerFit=PredictorScaler.fit(X)\n",
    "X=PredictorScalerFit.transform(X)\n",
    "\n",
    "from sklearn.model_selection import train_test_split\n",
    "X_train, X_test, y_train, y_test = train_test_split(X, y, train_size=0.9, shuffle=False)\n",
    "# , random_state=42"
   ],
   "metadata": {
    "collapsed": false,
    "pycharm": {
     "name": "#%%\n"
    }
   }
  },
  {
   "cell_type": "markdown",
   "source": [
    "#### ggf irgendwann ts_cv zur cross validation\n",
    "\n",
    "from sklearn.model_selection import TimeSeriesSplit\n",
    "\n",
    "ts_cv = TimeSeriesSplit(n_splits=4,max_train_size=10000)\n",
    "\n",
    "all_splits = list(ts_cv.split(X_train, y_train))\n",
    "train_0, test_0 = all_splits[0]"
   ],
   "metadata": {
    "collapsed": false,
    "pycharm": {
     "name": "#%% md\n"
    }
   }
  },
  {
   "cell_type": "code",
   "execution_count": 4,
   "outputs": [
    {
     "name": "stdout",
     "output_type": "stream",
     "text": [
      "Create sweep with ID: 7aukrm52\n",
      "Sweep URL: https://wandb.ai/jonathanweske/RandomForestClass/sweeps/7aukrm52\n"
     ]
    },
    {
     "name": "stderr",
     "output_type": "stream",
     "text": [
      "\u001B[34m\u001B[1mwandb\u001B[0m: Agent Starting Run: 7tirjsst with config:\n",
      "\u001B[34m\u001B[1mwandb\u001B[0m: \tbootstrap: True\n",
      "\u001B[34m\u001B[1mwandb\u001B[0m: \tcriterion: entropy\n",
      "\u001B[34m\u001B[1mwandb\u001B[0m: \tmax_depth: 100\n",
      "\u001B[34m\u001B[1mwandb\u001B[0m: \tmax_features: log2\n",
      "\u001B[34m\u001B[1mwandb\u001B[0m: \tmin_samples_leaf: 25\n",
      "\u001B[34m\u001B[1mwandb\u001B[0m: \tmin_samples_split: 5\n",
      "\u001B[34m\u001B[1mwandb\u001B[0m: \tn_estimators: 256\n",
      "\u001B[34m\u001B[1mwandb\u001B[0m: Currently logged in as: \u001B[33mjonathanweske\u001B[0m (use `wandb login --relogin` to force relogin)\n"
     ]
    },
    {
     "data": {
      "text/plain": "<IPython.core.display.HTML object>",
      "text/html": "Tracking run with wandb version 0.12.11"
     },
     "metadata": {},
     "output_type": "display_data"
    },
    {
     "data": {
      "text/plain": "<IPython.core.display.HTML object>",
      "text/html": "Run data is saved locally in <code>/Users/jonweske/devment/BA_nextbike/scripts/wandb/run-20220402_001113-7tirjsst</code>"
     },
     "metadata": {},
     "output_type": "display_data"
    },
    {
     "data": {
      "text/plain": "<IPython.core.display.HTML object>",
      "text/html": "Syncing run <strong><a href=\"https://wandb.ai/jonathanweske/RandomForestClass/runs/7tirjsst\" target=\"_blank\">autumn-sweep-1</a></strong> to <a href=\"https://wandb.ai/jonathanweske/RandomForestClass\" target=\"_blank\">Weights & Biases</a> (<a href=\"https://wandb.me/run\" target=\"_blank\">docs</a>)<br/>Sweep page:  <a href=\"https://wandb.ai/jonathanweske/RandomForestClass/sweeps/7aukrm52\" target=\"_blank\">https://wandb.ai/jonathanweske/RandomForestClass/sweeps/7aukrm52</a>"
     },
     "metadata": {},
     "output_type": "display_data"
    },
    {
     "name": "stdout",
     "output_type": "stream",
     "text": [
      "\n"
     ]
    },
    {
     "data": {
      "text/plain": "<IPython.core.display.HTML object>",
      "text/html": "Waiting for W&B process to finish... <strong style=\"color:green\">(success).</strong>"
     },
     "metadata": {},
     "output_type": "display_data"
    },
    {
     "data": {
      "text/plain": "VBox(children=(Label(value='0.003 MB of 0.004 MB uploaded (0.000 MB deduped)\\r'), FloatProgress(value=0.897954…",
      "application/vnd.jupyter.widget-view+json": {
       "version_major": 2,
       "version_minor": 0,
       "model_id": "f4542fc10f1b4566891db6a979dcfd57"
      }
     },
     "metadata": {},
     "output_type": "display_data"
    },
    {
     "data": {
      "text/plain": "<IPython.core.display.HTML object>",
      "text/html": "<style>\n    table.wandb td:nth-child(1) { padding: 0 10px; text-align: right }\n    .wandb-row { display: flex; flex-direction: row; flex-wrap: wrap; width: 100% }\n    .wandb-col { display: flex; flex-direction: column; flex-basis: 100%; flex: 1; padding: 10px; }\n    </style>\n<div class=\"wandb-row\"><div class=\"wandb-col\"><h3>Run history:</h3><br/><table class=\"wandb\"><tr><td>accuracy</td><td>▁</td></tr><tr><td>loss</td><td>▁</td></tr></table><br/></div><div class=\"wandb-col\"><h3>Run summary:</h3><br/><table class=\"wandb\"><tr><td>accuracy</td><td>0.42449</td></tr><tr><td>loss</td><td>0.57551</td></tr></table><br/></div></div>"
     },
     "metadata": {},
     "output_type": "display_data"
    },
    {
     "data": {
      "text/plain": "<IPython.core.display.HTML object>",
      "text/html": "Synced <strong style=\"color:#cdcd00\">autumn-sweep-1</strong>: <a href=\"https://wandb.ai/jonathanweske/RandomForestClass/runs/7tirjsst\" target=\"_blank\">https://wandb.ai/jonathanweske/RandomForestClass/runs/7tirjsst</a><br/>Synced 5 W&B file(s), 3 media file(s), 2 artifact file(s) and 0 other file(s)"
     },
     "metadata": {},
     "output_type": "display_data"
    },
    {
     "data": {
      "text/plain": "<IPython.core.display.HTML object>",
      "text/html": "Find logs at: <code>./wandb/run-20220402_001113-7tirjsst/logs</code>"
     },
     "metadata": {},
     "output_type": "display_data"
    },
    {
     "name": "stderr",
     "output_type": "stream",
     "text": [
      "\u001B[34m\u001B[1mwandb\u001B[0m: Sweep Agent: Waiting for job.\n",
      "\u001B[34m\u001B[1mwandb\u001B[0m: Job received.\n",
      "\u001B[34m\u001B[1mwandb\u001B[0m: Agent Starting Run: d93o6tx6 with config:\n",
      "\u001B[34m\u001B[1mwandb\u001B[0m: \tbootstrap: False\n",
      "\u001B[34m\u001B[1mwandb\u001B[0m: \tcriterion: gini\n",
      "\u001B[34m\u001B[1mwandb\u001B[0m: \tmax_depth: 60\n",
      "\u001B[34m\u001B[1mwandb\u001B[0m: \tmax_features: auto\n",
      "\u001B[34m\u001B[1mwandb\u001B[0m: \tmin_samples_leaf: 6\n",
      "\u001B[34m\u001B[1mwandb\u001B[0m: \tmin_samples_split: 9\n",
      "\u001B[34m\u001B[1mwandb\u001B[0m: \tn_estimators: 256\n"
     ]
    },
    {
     "data": {
      "text/plain": "<IPython.core.display.HTML object>",
      "text/html": "Tracking run with wandb version 0.12.11"
     },
     "metadata": {},
     "output_type": "display_data"
    },
    {
     "data": {
      "text/plain": "<IPython.core.display.HTML object>",
      "text/html": "Run data is saved locally in <code>/Users/jonweske/devment/BA_nextbike/scripts/wandb/run-20220402_010322-d93o6tx6</code>"
     },
     "metadata": {},
     "output_type": "display_data"
    },
    {
     "data": {
      "text/plain": "<IPython.core.display.HTML object>",
      "text/html": "Syncing run <strong><a href=\"https://wandb.ai/jonathanweske/RandomForestClass/runs/d93o6tx6\" target=\"_blank\">dulcet-sweep-2</a></strong> to <a href=\"https://wandb.ai/jonathanweske/RandomForestClass\" target=\"_blank\">Weights & Biases</a> (<a href=\"https://wandb.me/run\" target=\"_blank\">docs</a>)<br/>Sweep page:  <a href=\"https://wandb.ai/jonathanweske/RandomForestClass/sweeps/7aukrm52\" target=\"_blank\">https://wandb.ai/jonathanweske/RandomForestClass/sweeps/7aukrm52</a>"
     },
     "metadata": {},
     "output_type": "display_data"
    },
    {
     "name": "stdout",
     "output_type": "stream",
     "text": [
      "\n"
     ]
    },
    {
     "data": {
      "text/plain": "<IPython.core.display.HTML object>",
      "text/html": "Waiting for W&B process to finish... <strong style=\"color:green\">(success).</strong>"
     },
     "metadata": {},
     "output_type": "display_data"
    },
    {
     "data": {
      "text/plain": "VBox(children=(Label(value='0.004 MB of 0.004 MB uploaded (0.000 MB deduped)\\r'), FloatProgress(value=1.0, max…",
      "application/vnd.jupyter.widget-view+json": {
       "version_major": 2,
       "version_minor": 0,
       "model_id": "37649f28c0b94185b9227ea646c8a76f"
      }
     },
     "metadata": {},
     "output_type": "display_data"
    },
    {
     "data": {
      "text/plain": "<IPython.core.display.HTML object>",
      "text/html": "<style>\n    table.wandb td:nth-child(1) { padding: 0 10px; text-align: right }\n    .wandb-row { display: flex; flex-direction: row; flex-wrap: wrap; width: 100% }\n    .wandb-col { display: flex; flex-direction: column; flex-basis: 100%; flex: 1; padding: 10px; }\n    </style>\n<div class=\"wandb-row\"><div class=\"wandb-col\"><h3>Run history:</h3><br/><table class=\"wandb\"><tr><td>accuracy</td><td>▁</td></tr><tr><td>loss</td><td>▁</td></tr></table><br/></div><div class=\"wandb-col\"><h3>Run summary:</h3><br/><table class=\"wandb\"><tr><td>accuracy</td><td>0.41085</td></tr><tr><td>loss</td><td>0.58915</td></tr></table><br/></div></div>"
     },
     "metadata": {},
     "output_type": "display_data"
    },
    {
     "data": {
      "text/plain": "<IPython.core.display.HTML object>",
      "text/html": "Synced <strong style=\"color:#cdcd00\">dulcet-sweep-2</strong>: <a href=\"https://wandb.ai/jonathanweske/RandomForestClass/runs/d93o6tx6\" target=\"_blank\">https://wandb.ai/jonathanweske/RandomForestClass/runs/d93o6tx6</a><br/>Synced 5 W&B file(s), 3 media file(s), 2 artifact file(s) and 0 other file(s)"
     },
     "metadata": {},
     "output_type": "display_data"
    },
    {
     "data": {
      "text/plain": "<IPython.core.display.HTML object>",
      "text/html": "Find logs at: <code>./wandb/run-20220402_010322-d93o6tx6/logs</code>"
     },
     "metadata": {},
     "output_type": "display_data"
    },
    {
     "name": "stderr",
     "output_type": "stream",
     "text": [
      "\u001B[34m\u001B[1mwandb\u001B[0m: Agent Starting Run: 4se9qin0 with config:\n",
      "\u001B[34m\u001B[1mwandb\u001B[0m: \tbootstrap: False\n",
      "\u001B[34m\u001B[1mwandb\u001B[0m: \tcriterion: gini\n",
      "\u001B[34m\u001B[1mwandb\u001B[0m: \tmax_depth: 4\n",
      "\u001B[34m\u001B[1mwandb\u001B[0m: \tmax_features: log2\n",
      "\u001B[34m\u001B[1mwandb\u001B[0m: \tmin_samples_leaf: 14\n",
      "\u001B[34m\u001B[1mwandb\u001B[0m: \tmin_samples_split: 10\n",
      "\u001B[34m\u001B[1mwandb\u001B[0m: \tn_estimators: 128\n"
     ]
    },
    {
     "data": {
      "text/plain": "<IPython.core.display.HTML object>",
      "text/html": "Tracking run with wandb version 0.12.11"
     },
     "metadata": {},
     "output_type": "display_data"
    },
    {
     "data": {
      "text/plain": "<IPython.core.display.HTML object>",
      "text/html": "Run data is saved locally in <code>/Users/jonweske/devment/BA_nextbike/scripts/wandb/run-20220402_021143-4se9qin0</code>"
     },
     "metadata": {},
     "output_type": "display_data"
    },
    {
     "data": {
      "text/plain": "<IPython.core.display.HTML object>",
      "text/html": "Syncing run <strong><a href=\"https://wandb.ai/jonathanweske/RandomForestClass/runs/4se9qin0\" target=\"_blank\">upbeat-sweep-3</a></strong> to <a href=\"https://wandb.ai/jonathanweske/RandomForestClass\" target=\"_blank\">Weights & Biases</a> (<a href=\"https://wandb.me/run\" target=\"_blank\">docs</a>)<br/>Sweep page:  <a href=\"https://wandb.ai/jonathanweske/RandomForestClass/sweeps/7aukrm52\" target=\"_blank\">https://wandb.ai/jonathanweske/RandomForestClass/sweeps/7aukrm52</a>"
     },
     "metadata": {},
     "output_type": "display_data"
    },
    {
     "name": "stdout",
     "output_type": "stream",
     "text": [
      "\n"
     ]
    },
    {
     "data": {
      "text/plain": "<IPython.core.display.HTML object>",
      "text/html": "Waiting for W&B process to finish... <strong style=\"color:green\">(success).</strong>"
     },
     "metadata": {},
     "output_type": "display_data"
    },
    {
     "data": {
      "text/plain": "VBox(children=(Label(value='0.003 MB of 0.004 MB uploaded (0.000 MB deduped)\\r'), FloatProgress(value=0.897322…",
      "application/vnd.jupyter.widget-view+json": {
       "version_major": 2,
       "version_minor": 0,
       "model_id": "9a52c9112cd04a0e832dfbf15e0520f3"
      }
     },
     "metadata": {},
     "output_type": "display_data"
    },
    {
     "data": {
      "text/plain": "<IPython.core.display.HTML object>",
      "text/html": "<style>\n    table.wandb td:nth-child(1) { padding: 0 10px; text-align: right }\n    .wandb-row { display: flex; flex-direction: row; flex-wrap: wrap; width: 100% }\n    .wandb-col { display: flex; flex-direction: column; flex-basis: 100%; flex: 1; padding: 10px; }\n    </style>\n<div class=\"wandb-row\"><div class=\"wandb-col\"><h3>Run history:</h3><br/><table class=\"wandb\"><tr><td>accuracy</td><td>▁</td></tr><tr><td>loss</td><td>▁</td></tr></table><br/></div><div class=\"wandb-col\"><h3>Run summary:</h3><br/><table class=\"wandb\"><tr><td>accuracy</td><td>0.51071</td></tr><tr><td>loss</td><td>0.48929</td></tr></table><br/></div></div>"
     },
     "metadata": {},
     "output_type": "display_data"
    },
    {
     "data": {
      "text/plain": "<IPython.core.display.HTML object>",
      "text/html": "Synced <strong style=\"color:#cdcd00\">upbeat-sweep-3</strong>: <a href=\"https://wandb.ai/jonathanweske/RandomForestClass/runs/4se9qin0\" target=\"_blank\">https://wandb.ai/jonathanweske/RandomForestClass/runs/4se9qin0</a><br/>Synced 5 W&B file(s), 3 media file(s), 2 artifact file(s) and 0 other file(s)"
     },
     "metadata": {},
     "output_type": "display_data"
    },
    {
     "data": {
      "text/plain": "<IPython.core.display.HTML object>",
      "text/html": "Find logs at: <code>./wandb/run-20220402_021143-4se9qin0/logs</code>"
     },
     "metadata": {},
     "output_type": "display_data"
    },
    {
     "name": "stderr",
     "output_type": "stream",
     "text": [
      "\u001B[34m\u001B[1mwandb\u001B[0m: Agent Starting Run: 6dzyh0l2 with config:\n",
      "\u001B[34m\u001B[1mwandb\u001B[0m: \tbootstrap: False\n",
      "\u001B[34m\u001B[1mwandb\u001B[0m: \tcriterion: entropy\n",
      "\u001B[34m\u001B[1mwandb\u001B[0m: \tmax_depth: 120\n",
      "\u001B[34m\u001B[1mwandb\u001B[0m: \tmax_features: auto\n",
      "\u001B[34m\u001B[1mwandb\u001B[0m: \tmin_samples_leaf: 1\n",
      "\u001B[34m\u001B[1mwandb\u001B[0m: \tmin_samples_split: 11\n",
      "\u001B[34m\u001B[1mwandb\u001B[0m: \tn_estimators: 128\n"
     ]
    },
    {
     "data": {
      "text/plain": "<IPython.core.display.HTML object>",
      "text/html": "Tracking run with wandb version 0.12.11"
     },
     "metadata": {},
     "output_type": "display_data"
    },
    {
     "data": {
      "text/plain": "<IPython.core.display.HTML object>",
      "text/html": "Run data is saved locally in <code>/Users/jonweske/devment/BA_nextbike/scripts/wandb/run-20220402_022040-6dzyh0l2</code>"
     },
     "metadata": {},
     "output_type": "display_data"
    },
    {
     "data": {
      "text/plain": "<IPython.core.display.HTML object>",
      "text/html": "Syncing run <strong><a href=\"https://wandb.ai/jonathanweske/RandomForestClass/runs/6dzyh0l2\" target=\"_blank\">bumbling-sweep-4</a></strong> to <a href=\"https://wandb.ai/jonathanweske/RandomForestClass\" target=\"_blank\">Weights & Biases</a> (<a href=\"https://wandb.me/run\" target=\"_blank\">docs</a>)<br/>Sweep page:  <a href=\"https://wandb.ai/jonathanweske/RandomForestClass/sweeps/7aukrm52\" target=\"_blank\">https://wandb.ai/jonathanweske/RandomForestClass/sweeps/7aukrm52</a>"
     },
     "metadata": {},
     "output_type": "display_data"
    },
    {
     "name": "stdout",
     "output_type": "stream",
     "text": [
      "\n"
     ]
    },
    {
     "data": {
      "text/plain": "<IPython.core.display.HTML object>",
      "text/html": "Waiting for W&B process to finish... <strong style=\"color:green\">(success).</strong>"
     },
     "metadata": {},
     "output_type": "display_data"
    },
    {
     "data": {
      "text/plain": "VBox(children=(Label(value='0.004 MB of 0.004 MB uploaded (0.000 MB deduped)\\r'), FloatProgress(value=1.0, max…",
      "application/vnd.jupyter.widget-view+json": {
       "version_major": 2,
       "version_minor": 0,
       "model_id": "e59cbdcdd6114347b7c1466b23cc8445"
      }
     },
     "metadata": {},
     "output_type": "display_data"
    },
    {
     "data": {
      "text/plain": "<IPython.core.display.HTML object>",
      "text/html": "<style>\n    table.wandb td:nth-child(1) { padding: 0 10px; text-align: right }\n    .wandb-row { display: flex; flex-direction: row; flex-wrap: wrap; width: 100% }\n    .wandb-col { display: flex; flex-direction: column; flex-basis: 100%; flex: 1; padding: 10px; }\n    </style>\n<div class=\"wandb-row\"><div class=\"wandb-col\"><h3>Run history:</h3><br/><table class=\"wandb\"><tr><td>accuracy</td><td>▁</td></tr><tr><td>loss</td><td>▁</td></tr></table><br/></div><div class=\"wandb-col\"><h3>Run summary:</h3><br/><table class=\"wandb\"><tr><td>accuracy</td><td>0.41107</td></tr><tr><td>loss</td><td>0.58893</td></tr></table><br/></div></div>"
     },
     "metadata": {},
     "output_type": "display_data"
    },
    {
     "data": {
      "text/plain": "<IPython.core.display.HTML object>",
      "text/html": "Synced <strong style=\"color:#cdcd00\">bumbling-sweep-4</strong>: <a href=\"https://wandb.ai/jonathanweske/RandomForestClass/runs/6dzyh0l2\" target=\"_blank\">https://wandb.ai/jonathanweske/RandomForestClass/runs/6dzyh0l2</a><br/>Synced 5 W&B file(s), 3 media file(s), 2 artifact file(s) and 0 other file(s)"
     },
     "metadata": {},
     "output_type": "display_data"
    },
    {
     "data": {
      "text/plain": "<IPython.core.display.HTML object>",
      "text/html": "Find logs at: <code>./wandb/run-20220402_022040-6dzyh0l2/logs</code>"
     },
     "metadata": {},
     "output_type": "display_data"
    },
    {
     "name": "stderr",
     "output_type": "stream",
     "text": [
      "\u001B[34m\u001B[1mwandb\u001B[0m: Agent Starting Run: i8f96khh with config:\n",
      "\u001B[34m\u001B[1mwandb\u001B[0m: \tbootstrap: False\n",
      "\u001B[34m\u001B[1mwandb\u001B[0m: \tcriterion: entropy\n",
      "\u001B[34m\u001B[1mwandb\u001B[0m: \tmax_depth: 100\n",
      "\u001B[34m\u001B[1mwandb\u001B[0m: \tmax_features: sqrt\n",
      "\u001B[34m\u001B[1mwandb\u001B[0m: \tmin_samples_leaf: 16\n",
      "\u001B[34m\u001B[1mwandb\u001B[0m: \tmin_samples_split: 30\n",
      "\u001B[34m\u001B[1mwandb\u001B[0m: \tn_estimators: 64\n"
     ]
    },
    {
     "data": {
      "text/plain": "<IPython.core.display.HTML object>",
      "text/html": "Tracking run with wandb version 0.12.11"
     },
     "metadata": {},
     "output_type": "display_data"
    },
    {
     "data": {
      "text/plain": "<IPython.core.display.HTML object>",
      "text/html": "Run data is saved locally in <code>/Users/jonweske/devment/BA_nextbike/scripts/wandb/run-20220402_030023-i8f96khh</code>"
     },
     "metadata": {},
     "output_type": "display_data"
    },
    {
     "data": {
      "text/plain": "<IPython.core.display.HTML object>",
      "text/html": "Syncing run <strong><a href=\"https://wandb.ai/jonathanweske/RandomForestClass/runs/i8f96khh\" target=\"_blank\">worthy-sweep-5</a></strong> to <a href=\"https://wandb.ai/jonathanweske/RandomForestClass\" target=\"_blank\">Weights & Biases</a> (<a href=\"https://wandb.me/run\" target=\"_blank\">docs</a>)<br/>Sweep page:  <a href=\"https://wandb.ai/jonathanweske/RandomForestClass/sweeps/7aukrm52\" target=\"_blank\">https://wandb.ai/jonathanweske/RandomForestClass/sweeps/7aukrm52</a>"
     },
     "metadata": {},
     "output_type": "display_data"
    },
    {
     "name": "stdout",
     "output_type": "stream",
     "text": [
      "\n"
     ]
    },
    {
     "data": {
      "text/plain": "<IPython.core.display.HTML object>",
      "text/html": "Waiting for W&B process to finish... <strong style=\"color:green\">(success).</strong>"
     },
     "metadata": {},
     "output_type": "display_data"
    },
    {
     "data": {
      "text/plain": "VBox(children=(Label(value='0.003 MB of 0.004 MB uploaded (0.000 MB deduped)\\r'), FloatProgress(value=0.898296…",
      "application/vnd.jupyter.widget-view+json": {
       "version_major": 2,
       "version_minor": 0,
       "model_id": "a249c09f7f984f79a21927cf3cb3dcbb"
      }
     },
     "metadata": {},
     "output_type": "display_data"
    },
    {
     "data": {
      "text/plain": "<IPython.core.display.HTML object>",
      "text/html": "<style>\n    table.wandb td:nth-child(1) { padding: 0 10px; text-align: right }\n    .wandb-row { display: flex; flex-direction: row; flex-wrap: wrap; width: 100% }\n    .wandb-col { display: flex; flex-direction: column; flex-basis: 100%; flex: 1; padding: 10px; }\n    </style>\n<div class=\"wandb-row\"><div class=\"wandb-col\"><h3>Run history:</h3><br/><table class=\"wandb\"><tr><td>accuracy</td><td>▁</td></tr><tr><td>loss</td><td>▁</td></tr></table><br/></div><div class=\"wandb-col\"><h3>Run summary:</h3><br/><table class=\"wandb\"><tr><td>accuracy</td><td>0.41784</td></tr><tr><td>loss</td><td>0.58216</td></tr></table><br/></div></div>"
     },
     "metadata": {},
     "output_type": "display_data"
    },
    {
     "data": {
      "text/plain": "<IPython.core.display.HTML object>",
      "text/html": "Synced <strong style=\"color:#cdcd00\">worthy-sweep-5</strong>: <a href=\"https://wandb.ai/jonathanweske/RandomForestClass/runs/i8f96khh\" target=\"_blank\">https://wandb.ai/jonathanweske/RandomForestClass/runs/i8f96khh</a><br/>Synced 5 W&B file(s), 3 media file(s), 2 artifact file(s) and 0 other file(s)"
     },
     "metadata": {},
     "output_type": "display_data"
    },
    {
     "data": {
      "text/plain": "<IPython.core.display.HTML object>",
      "text/html": "Find logs at: <code>./wandb/run-20220402_030023-i8f96khh/logs</code>"
     },
     "metadata": {},
     "output_type": "display_data"
    },
    {
     "name": "stderr",
     "output_type": "stream",
     "text": [
      "\u001B[34m\u001B[1mwandb\u001B[0m: Agent Starting Run: u9lu792p with config:\n",
      "\u001B[34m\u001B[1mwandb\u001B[0m: \tbootstrap: True\n",
      "\u001B[34m\u001B[1mwandb\u001B[0m: \tcriterion: gini\n",
      "\u001B[34m\u001B[1mwandb\u001B[0m: \tmax_depth: 180\n",
      "\u001B[34m\u001B[1mwandb\u001B[0m: \tmax_features: log2\n",
      "\u001B[34m\u001B[1mwandb\u001B[0m: \tmin_samples_leaf: 2\n",
      "\u001B[34m\u001B[1mwandb\u001B[0m: \tmin_samples_split: 8\n",
      "\u001B[34m\u001B[1mwandb\u001B[0m: \tn_estimators: 64\n"
     ]
    },
    {
     "data": {
      "text/plain": "<IPython.core.display.HTML object>",
      "text/html": "Tracking run with wandb version 0.12.11"
     },
     "metadata": {},
     "output_type": "display_data"
    },
    {
     "data": {
      "text/plain": "<IPython.core.display.HTML object>",
      "text/html": "Run data is saved locally in <code>/Users/jonweske/devment/BA_nextbike/scripts/wandb/run-20220402_031748-u9lu792p</code>"
     },
     "metadata": {},
     "output_type": "display_data"
    },
    {
     "data": {
      "text/plain": "<IPython.core.display.HTML object>",
      "text/html": "Syncing run <strong><a href=\"https://wandb.ai/jonathanweske/RandomForestClass/runs/u9lu792p\" target=\"_blank\">ethereal-sweep-6</a></strong> to <a href=\"https://wandb.ai/jonathanweske/RandomForestClass\" target=\"_blank\">Weights & Biases</a> (<a href=\"https://wandb.me/run\" target=\"_blank\">docs</a>)<br/>Sweep page:  <a href=\"https://wandb.ai/jonathanweske/RandomForestClass/sweeps/7aukrm52\" target=\"_blank\">https://wandb.ai/jonathanweske/RandomForestClass/sweeps/7aukrm52</a>"
     },
     "metadata": {},
     "output_type": "display_data"
    },
    {
     "name": "stdout",
     "output_type": "stream",
     "text": [
      "\n"
     ]
    },
    {
     "data": {
      "text/plain": "<IPython.core.display.HTML object>",
      "text/html": "Waiting for W&B process to finish... <strong style=\"color:green\">(success).</strong>"
     },
     "metadata": {},
     "output_type": "display_data"
    },
    {
     "data": {
      "text/plain": "VBox(children=(Label(value='0.003 MB of 0.004 MB uploaded (0.000 MB deduped)\\r'), FloatProgress(value=0.897783…",
      "application/vnd.jupyter.widget-view+json": {
       "version_major": 2,
       "version_minor": 0,
       "model_id": "5f7eb95b49064f8ab9fe48aca801f60c"
      }
     },
     "metadata": {},
     "output_type": "display_data"
    },
    {
     "data": {
      "text/plain": "<IPython.core.display.HTML object>",
      "text/html": "<style>\n    table.wandb td:nth-child(1) { padding: 0 10px; text-align: right }\n    .wandb-row { display: flex; flex-direction: row; flex-wrap: wrap; width: 100% }\n    .wandb-col { display: flex; flex-direction: column; flex-basis: 100%; flex: 1; padding: 10px; }\n    </style>\n<div class=\"wandb-row\"><div class=\"wandb-col\"><h3>Run history:</h3><br/><table class=\"wandb\"><tr><td>accuracy</td><td>▁</td></tr><tr><td>loss</td><td>▁</td></tr></table><br/></div><div class=\"wandb-col\"><h3>Run summary:</h3><br/><table class=\"wandb\"><tr><td>accuracy</td><td>0.41558</td></tr><tr><td>loss</td><td>0.58442</td></tr></table><br/></div></div>"
     },
     "metadata": {},
     "output_type": "display_data"
    },
    {
     "data": {
      "text/plain": "<IPython.core.display.HTML object>",
      "text/html": "Synced <strong style=\"color:#cdcd00\">ethereal-sweep-6</strong>: <a href=\"https://wandb.ai/jonathanweske/RandomForestClass/runs/u9lu792p\" target=\"_blank\">https://wandb.ai/jonathanweske/RandomForestClass/runs/u9lu792p</a><br/>Synced 5 W&B file(s), 3 media file(s), 2 artifact file(s) and 0 other file(s)"
     },
     "metadata": {},
     "output_type": "display_data"
    },
    {
     "data": {
      "text/plain": "<IPython.core.display.HTML object>",
      "text/html": "Find logs at: <code>./wandb/run-20220402_031748-u9lu792p/logs</code>"
     },
     "metadata": {},
     "output_type": "display_data"
    },
    {
     "name": "stderr",
     "output_type": "stream",
     "text": [
      "\u001B[34m\u001B[1mwandb\u001B[0m: Agent Starting Run: yxg4sbb2 with config:\n",
      "\u001B[34m\u001B[1mwandb\u001B[0m: \tbootstrap: False\n",
      "\u001B[34m\u001B[1mwandb\u001B[0m: \tcriterion: gini\n",
      "\u001B[34m\u001B[1mwandb\u001B[0m: \tmax_depth: 60\n",
      "\u001B[34m\u001B[1mwandb\u001B[0m: \tmax_features: sqrt\n",
      "\u001B[34m\u001B[1mwandb\u001B[0m: \tmin_samples_leaf: 30\n",
      "\u001B[34m\u001B[1mwandb\u001B[0m: \tmin_samples_split: 2\n",
      "\u001B[34m\u001B[1mwandb\u001B[0m: \tn_estimators: 8\n"
     ]
    },
    {
     "data": {
      "text/plain": "<IPython.core.display.HTML object>",
      "text/html": "Tracking run with wandb version 0.12.11"
     },
     "metadata": {},
     "output_type": "display_data"
    },
    {
     "data": {
      "text/plain": "<IPython.core.display.HTML object>",
      "text/html": "Run data is saved locally in <code>/Users/jonweske/devment/BA_nextbike/scripts/wandb/run-20220402_033124-yxg4sbb2</code>"
     },
     "metadata": {},
     "output_type": "display_data"
    },
    {
     "data": {
      "text/plain": "<IPython.core.display.HTML object>",
      "text/html": "Syncing run <strong><a href=\"https://wandb.ai/jonathanweske/RandomForestClass/runs/yxg4sbb2\" target=\"_blank\">lunar-sweep-7</a></strong> to <a href=\"https://wandb.ai/jonathanweske/RandomForestClass\" target=\"_blank\">Weights & Biases</a> (<a href=\"https://wandb.me/run\" target=\"_blank\">docs</a>)<br/>Sweep page:  <a href=\"https://wandb.ai/jonathanweske/RandomForestClass/sweeps/7aukrm52\" target=\"_blank\">https://wandb.ai/jonathanweske/RandomForestClass/sweeps/7aukrm52</a>"
     },
     "metadata": {},
     "output_type": "display_data"
    },
    {
     "name": "stdout",
     "output_type": "stream",
     "text": [
      "\n"
     ]
    },
    {
     "data": {
      "text/plain": "<IPython.core.display.HTML object>",
      "text/html": "Waiting for W&B process to finish... <strong style=\"color:green\">(success).</strong>"
     },
     "metadata": {},
     "output_type": "display_data"
    },
    {
     "data": {
      "text/plain": "VBox(children=(Label(value='0.003 MB of 0.004 MB uploaded (0.000 MB deduped)\\r'), FloatProgress(value=0.897954…",
      "application/vnd.jupyter.widget-view+json": {
       "version_major": 2,
       "version_minor": 0,
       "model_id": "7e4c32d0394642a5aa3938ca5312a095"
      }
     },
     "metadata": {},
     "output_type": "display_data"
    },
    {
     "data": {
      "text/plain": "<IPython.core.display.HTML object>",
      "text/html": "<style>\n    table.wandb td:nth-child(1) { padding: 0 10px; text-align: right }\n    .wandb-row { display: flex; flex-direction: row; flex-wrap: wrap; width: 100% }\n    .wandb-col { display: flex; flex-direction: column; flex-basis: 100%; flex: 1; padding: 10px; }\n    </style>\n<div class=\"wandb-row\"><div class=\"wandb-col\"><h3>Run history:</h3><br/><table class=\"wandb\"><tr><td>accuracy</td><td>▁</td></tr><tr><td>loss</td><td>▁</td></tr></table><br/></div><div class=\"wandb-col\"><h3>Run summary:</h3><br/><table class=\"wandb\"><tr><td>accuracy</td><td>0.42728</td></tr><tr><td>loss</td><td>0.57272</td></tr></table><br/></div></div>"
     },
     "metadata": {},
     "output_type": "display_data"
    },
    {
     "data": {
      "text/plain": "<IPython.core.display.HTML object>",
      "text/html": "Synced <strong style=\"color:#cdcd00\">lunar-sweep-7</strong>: <a href=\"https://wandb.ai/jonathanweske/RandomForestClass/runs/yxg4sbb2\" target=\"_blank\">https://wandb.ai/jonathanweske/RandomForestClass/runs/yxg4sbb2</a><br/>Synced 5 W&B file(s), 3 media file(s), 2 artifact file(s) and 0 other file(s)"
     },
     "metadata": {},
     "output_type": "display_data"
    },
    {
     "data": {
      "text/plain": "<IPython.core.display.HTML object>",
      "text/html": "Find logs at: <code>./wandb/run-20220402_033124-yxg4sbb2/logs</code>"
     },
     "metadata": {},
     "output_type": "display_data"
    },
    {
     "name": "stderr",
     "output_type": "stream",
     "text": [
      "\u001B[34m\u001B[1mwandb\u001B[0m: Agent Starting Run: trnbti9z with config:\n",
      "\u001B[34m\u001B[1mwandb\u001B[0m: \tbootstrap: True\n",
      "\u001B[34m\u001B[1mwandb\u001B[0m: \tcriterion: gini\n",
      "\u001B[34m\u001B[1mwandb\u001B[0m: \tmax_depth: 180\n",
      "\u001B[34m\u001B[1mwandb\u001B[0m: \tmax_features: log2\n",
      "\u001B[34m\u001B[1mwandb\u001B[0m: \tmin_samples_leaf: 10\n",
      "\u001B[34m\u001B[1mwandb\u001B[0m: \tmin_samples_split: 6\n",
      "\u001B[34m\u001B[1mwandb\u001B[0m: \tn_estimators: 8\n"
     ]
    },
    {
     "data": {
      "text/plain": "<IPython.core.display.HTML object>",
      "text/html": "Tracking run with wandb version 0.12.11"
     },
     "metadata": {},
     "output_type": "display_data"
    },
    {
     "data": {
      "text/plain": "<IPython.core.display.HTML object>",
      "text/html": "Run data is saved locally in <code>/Users/jonweske/devment/BA_nextbike/scripts/wandb/run-20220402_033348-trnbti9z</code>"
     },
     "metadata": {},
     "output_type": "display_data"
    },
    {
     "data": {
      "text/plain": "<IPython.core.display.HTML object>",
      "text/html": "Syncing run <strong><a href=\"https://wandb.ai/jonathanweske/RandomForestClass/runs/trnbti9z\" target=\"_blank\">iconic-sweep-8</a></strong> to <a href=\"https://wandb.ai/jonathanweske/RandomForestClass\" target=\"_blank\">Weights & Biases</a> (<a href=\"https://wandb.me/run\" target=\"_blank\">docs</a>)<br/>Sweep page:  <a href=\"https://wandb.ai/jonathanweske/RandomForestClass/sweeps/7aukrm52\" target=\"_blank\">https://wandb.ai/jonathanweske/RandomForestClass/sweeps/7aukrm52</a>"
     },
     "metadata": {},
     "output_type": "display_data"
    },
    {
     "name": "stdout",
     "output_type": "stream",
     "text": [
      "\n"
     ]
    },
    {
     "data": {
      "text/plain": "<IPython.core.display.HTML object>",
      "text/html": "Waiting for W&B process to finish... <strong style=\"color:green\">(success).</strong>"
     },
     "metadata": {},
     "output_type": "display_data"
    },
    {
     "data": {
      "text/plain": "VBox(children=(Label(value='0.003 MB of 0.004 MB uploaded (0.000 MB deduped)\\r'), FloatProgress(value=0.898296…",
      "application/vnd.jupyter.widget-view+json": {
       "version_major": 2,
       "version_minor": 0,
       "model_id": "74b891eba311461eb516bb097d4e4897"
      }
     },
     "metadata": {},
     "output_type": "display_data"
    },
    {
     "data": {
      "text/plain": "<IPython.core.display.HTML object>",
      "text/html": "<style>\n    table.wandb td:nth-child(1) { padding: 0 10px; text-align: right }\n    .wandb-row { display: flex; flex-direction: row; flex-wrap: wrap; width: 100% }\n    .wandb-col { display: flex; flex-direction: column; flex-basis: 100%; flex: 1; padding: 10px; }\n    </style>\n<div class=\"wandb-row\"><div class=\"wandb-col\"><h3>Run history:</h3><br/><table class=\"wandb\"><tr><td>accuracy</td><td>▁</td></tr><tr><td>loss</td><td>▁</td></tr></table><br/></div><div class=\"wandb-col\"><h3>Run summary:</h3><br/><table class=\"wandb\"><tr><td>accuracy</td><td>0.43329</td></tr><tr><td>loss</td><td>0.56671</td></tr></table><br/></div></div>"
     },
     "metadata": {},
     "output_type": "display_data"
    },
    {
     "data": {
      "text/plain": "<IPython.core.display.HTML object>",
      "text/html": "Synced <strong style=\"color:#cdcd00\">iconic-sweep-8</strong>: <a href=\"https://wandb.ai/jonathanweske/RandomForestClass/runs/trnbti9z\" target=\"_blank\">https://wandb.ai/jonathanweske/RandomForestClass/runs/trnbti9z</a><br/>Synced 5 W&B file(s), 3 media file(s), 2 artifact file(s) and 0 other file(s)"
     },
     "metadata": {},
     "output_type": "display_data"
    },
    {
     "data": {
      "text/plain": "<IPython.core.display.HTML object>",
      "text/html": "Find logs at: <code>./wandb/run-20220402_033348-trnbti9z/logs</code>"
     },
     "metadata": {},
     "output_type": "display_data"
    },
    {
     "name": "stderr",
     "output_type": "stream",
     "text": [
      "\u001B[34m\u001B[1mwandb\u001B[0m: Sweep Agent: Waiting for job.\n",
      "\u001B[34m\u001B[1mwandb\u001B[0m: Job received.\n",
      "\u001B[34m\u001B[1mwandb\u001B[0m: Agent Starting Run: pj6k7g3r with config:\n",
      "\u001B[34m\u001B[1mwandb\u001B[0m: \tbootstrap: True\n",
      "\u001B[34m\u001B[1mwandb\u001B[0m: \tcriterion: entropy\n",
      "\u001B[34m\u001B[1mwandb\u001B[0m: \tmax_depth: 4\n",
      "\u001B[34m\u001B[1mwandb\u001B[0m: \tmax_features: auto\n",
      "\u001B[34m\u001B[1mwandb\u001B[0m: \tmin_samples_leaf: 1\n",
      "\u001B[34m\u001B[1mwandb\u001B[0m: \tmin_samples_split: 11\n",
      "\u001B[34m\u001B[1mwandb\u001B[0m: \tn_estimators: 16\n"
     ]
    },
    {
     "data": {
      "text/plain": "<IPython.core.display.HTML object>",
      "text/html": "Tracking run with wandb version 0.12.11"
     },
     "metadata": {},
     "output_type": "display_data"
    },
    {
     "data": {
      "text/plain": "<IPython.core.display.HTML object>",
      "text/html": "Run data is saved locally in <code>/Users/jonweske/devment/BA_nextbike/scripts/wandb/run-20220402_033557-pj6k7g3r</code>"
     },
     "metadata": {},
     "output_type": "display_data"
    },
    {
     "data": {
      "text/plain": "<IPython.core.display.HTML object>",
      "text/html": "Syncing run <strong><a href=\"https://wandb.ai/jonathanweske/RandomForestClass/runs/pj6k7g3r\" target=\"_blank\">vocal-sweep-9</a></strong> to <a href=\"https://wandb.ai/jonathanweske/RandomForestClass\" target=\"_blank\">Weights & Biases</a> (<a href=\"https://wandb.me/run\" target=\"_blank\">docs</a>)<br/>Sweep page:  <a href=\"https://wandb.ai/jonathanweske/RandomForestClass/sweeps/7aukrm52\" target=\"_blank\">https://wandb.ai/jonathanweske/RandomForestClass/sweeps/7aukrm52</a>"
     },
     "metadata": {},
     "output_type": "display_data"
    },
    {
     "name": "stdout",
     "output_type": "stream",
     "text": [
      "\n"
     ]
    },
    {
     "data": {
      "text/plain": "<IPython.core.display.HTML object>",
      "text/html": "Waiting for W&B process to finish... <strong style=\"color:green\">(success).</strong>"
     },
     "metadata": {},
     "output_type": "display_data"
    },
    {
     "data": {
      "text/plain": "VBox(children=(Label(value='0.003 MB of 0.004 MB uploaded (0.000 MB deduped)\\r'), FloatProgress(value=0.897152…",
      "application/vnd.jupyter.widget-view+json": {
       "version_major": 2,
       "version_minor": 0,
       "model_id": "f7e1a42776264d0dae9214b3c0142317"
      }
     },
     "metadata": {},
     "output_type": "display_data"
    },
    {
     "data": {
      "text/plain": "<IPython.core.display.HTML object>",
      "text/html": "<style>\n    table.wandb td:nth-child(1) { padding: 0 10px; text-align: right }\n    .wandb-row { display: flex; flex-direction: row; flex-wrap: wrap; width: 100% }\n    .wandb-col { display: flex; flex-direction: column; flex-basis: 100%; flex: 1; padding: 10px; }\n    </style>\n<div class=\"wandb-row\"><div class=\"wandb-col\"><h3>Run history:</h3><br/><table class=\"wandb\"><tr><td>accuracy</td><td>▁</td></tr><tr><td>loss</td><td>▁</td></tr></table><br/></div><div class=\"wandb-col\"><h3>Run summary:</h3><br/><table class=\"wandb\"><tr><td>accuracy</td><td>0.52524</td></tr><tr><td>loss</td><td>0.47476</td></tr></table><br/></div></div>"
     },
     "metadata": {},
     "output_type": "display_data"
    },
    {
     "data": {
      "text/plain": "<IPython.core.display.HTML object>",
      "text/html": "Synced <strong style=\"color:#cdcd00\">vocal-sweep-9</strong>: <a href=\"https://wandb.ai/jonathanweske/RandomForestClass/runs/pj6k7g3r\" target=\"_blank\">https://wandb.ai/jonathanweske/RandomForestClass/runs/pj6k7g3r</a><br/>Synced 5 W&B file(s), 3 media file(s), 2 artifact file(s) and 0 other file(s)"
     },
     "metadata": {},
     "output_type": "display_data"
    },
    {
     "data": {
      "text/plain": "<IPython.core.display.HTML object>",
      "text/html": "Find logs at: <code>./wandb/run-20220402_033557-pj6k7g3r/logs</code>"
     },
     "metadata": {},
     "output_type": "display_data"
    },
    {
     "name": "stderr",
     "output_type": "stream",
     "text": [
      "\u001B[34m\u001B[1mwandb\u001B[0m: Agent Starting Run: dxk2vcv5 with config:\n",
      "\u001B[34m\u001B[1mwandb\u001B[0m: \tbootstrap: False\n",
      "\u001B[34m\u001B[1mwandb\u001B[0m: \tcriterion: entropy\n",
      "\u001B[34m\u001B[1mwandb\u001B[0m: \tmax_depth: 50\n",
      "\u001B[34m\u001B[1mwandb\u001B[0m: \tmax_features: auto\n",
      "\u001B[34m\u001B[1mwandb\u001B[0m: \tmin_samples_leaf: 25\n",
      "\u001B[34m\u001B[1mwandb\u001B[0m: \tmin_samples_split: 4\n",
      "\u001B[34m\u001B[1mwandb\u001B[0m: \tn_estimators: 128\n"
     ]
    },
    {
     "data": {
      "text/plain": "<IPython.core.display.HTML object>",
      "text/html": "Tracking run with wandb version 0.12.11"
     },
     "metadata": {},
     "output_type": "display_data"
    },
    {
     "data": {
      "text/plain": "<IPython.core.display.HTML object>",
      "text/html": "Run data is saved locally in <code>/Users/jonweske/devment/BA_nextbike/scripts/wandb/run-20220402_033723-dxk2vcv5</code>"
     },
     "metadata": {},
     "output_type": "display_data"
    },
    {
     "data": {
      "text/plain": "<IPython.core.display.HTML object>",
      "text/html": "Syncing run <strong><a href=\"https://wandb.ai/jonathanweske/RandomForestClass/runs/dxk2vcv5\" target=\"_blank\">spring-sweep-10</a></strong> to <a href=\"https://wandb.ai/jonathanweske/RandomForestClass\" target=\"_blank\">Weights & Biases</a> (<a href=\"https://wandb.me/run\" target=\"_blank\">docs</a>)<br/>Sweep page:  <a href=\"https://wandb.ai/jonathanweske/RandomForestClass/sweeps/7aukrm52\" target=\"_blank\">https://wandb.ai/jonathanweske/RandomForestClass/sweeps/7aukrm52</a>"
     },
     "metadata": {},
     "output_type": "display_data"
    },
    {
     "name": "stdout",
     "output_type": "stream",
     "text": [
      "\n"
     ]
    },
    {
     "data": {
      "text/plain": "<IPython.core.display.HTML object>",
      "text/html": "Waiting for W&B process to finish... <strong style=\"color:green\">(success).</strong>"
     },
     "metadata": {},
     "output_type": "display_data"
    },
    {
     "data": {
      "text/plain": "VBox(children=(Label(value='0.003 MB of 0.004 MB uploaded (0.000 MB deduped)\\r'), FloatProgress(value=0.898125…",
      "application/vnd.jupyter.widget-view+json": {
       "version_major": 2,
       "version_minor": 0,
       "model_id": "1ec0af5b213740a584e92ef6885b6f75"
      }
     },
     "metadata": {},
     "output_type": "display_data"
    },
    {
     "data": {
      "text/plain": "<IPython.core.display.HTML object>",
      "text/html": "<style>\n    table.wandb td:nth-child(1) { padding: 0 10px; text-align: right }\n    .wandb-row { display: flex; flex-direction: row; flex-wrap: wrap; width: 100% }\n    .wandb-col { display: flex; flex-direction: column; flex-basis: 100%; flex: 1; padding: 10px; }\n    </style>\n<div class=\"wandb-row\"><div class=\"wandb-col\"><h3>Run history:</h3><br/><table class=\"wandb\"><tr><td>accuracy</td><td>▁</td></tr><tr><td>loss</td><td>▁</td></tr></table><br/></div><div class=\"wandb-col\"><h3>Run summary:</h3><br/><table class=\"wandb\"><tr><td>accuracy</td><td>0.42047</td></tr><tr><td>loss</td><td>0.57953</td></tr></table><br/></div></div>"
     },
     "metadata": {},
     "output_type": "display_data"
    },
    {
     "data": {
      "text/plain": "<IPython.core.display.HTML object>",
      "text/html": "Synced <strong style=\"color:#cdcd00\">spring-sweep-10</strong>: <a href=\"https://wandb.ai/jonathanweske/RandomForestClass/runs/dxk2vcv5\" target=\"_blank\">https://wandb.ai/jonathanweske/RandomForestClass/runs/dxk2vcv5</a><br/>Synced 5 W&B file(s), 3 media file(s), 2 artifact file(s) and 0 other file(s)"
     },
     "metadata": {},
     "output_type": "display_data"
    },
    {
     "data": {
      "text/plain": "<IPython.core.display.HTML object>",
      "text/html": "Find logs at: <code>./wandb/run-20220402_033723-dxk2vcv5/logs</code>"
     },
     "metadata": {},
     "output_type": "display_data"
    },
    {
     "name": "stderr",
     "output_type": "stream",
     "text": [
      "\u001B[34m\u001B[1mwandb\u001B[0m: Agent Starting Run: m7n66xh2 with config:\n",
      "\u001B[34m\u001B[1mwandb\u001B[0m: \tbootstrap: False\n",
      "\u001B[34m\u001B[1mwandb\u001B[0m: \tcriterion: gini\n",
      "\u001B[34m\u001B[1mwandb\u001B[0m: \tmax_depth: 90\n",
      "\u001B[34m\u001B[1mwandb\u001B[0m: \tmax_features: auto\n",
      "\u001B[34m\u001B[1mwandb\u001B[0m: \tmin_samples_leaf: 16\n",
      "\u001B[34m\u001B[1mwandb\u001B[0m: \tmin_samples_split: 11\n",
      "\u001B[34m\u001B[1mwandb\u001B[0m: \tn_estimators: 8\n"
     ]
    },
    {
     "data": {
      "text/plain": "<IPython.core.display.HTML object>",
      "text/html": "Tracking run with wandb version 0.12.11"
     },
     "metadata": {},
     "output_type": "display_data"
    },
    {
     "data": {
      "text/plain": "<IPython.core.display.HTML object>",
      "text/html": "Run data is saved locally in <code>/Users/jonweske/devment/BA_nextbike/scripts/wandb/run-20220402_041057-m7n66xh2</code>"
     },
     "metadata": {},
     "output_type": "display_data"
    },
    {
     "data": {
      "text/plain": "<IPython.core.display.HTML object>",
      "text/html": "Syncing run <strong><a href=\"https://wandb.ai/jonathanweske/RandomForestClass/runs/m7n66xh2\" target=\"_blank\">glamorous-sweep-11</a></strong> to <a href=\"https://wandb.ai/jonathanweske/RandomForestClass\" target=\"_blank\">Weights & Biases</a> (<a href=\"https://wandb.me/run\" target=\"_blank\">docs</a>)<br/>Sweep page:  <a href=\"https://wandb.ai/jonathanweske/RandomForestClass/sweeps/7aukrm52\" target=\"_blank\">https://wandb.ai/jonathanweske/RandomForestClass/sweeps/7aukrm52</a>"
     },
     "metadata": {},
     "output_type": "display_data"
    },
    {
     "name": "stdout",
     "output_type": "stream",
     "text": [
      "\n"
     ]
    },
    {
     "data": {
      "text/plain": "<IPython.core.display.HTML object>",
      "text/html": "Waiting for W&B process to finish... <strong style=\"color:green\">(success).</strong>"
     },
     "metadata": {},
     "output_type": "display_data"
    },
    {
     "data": {
      "text/plain": "VBox(children=(Label(value='0.003 MB of 0.004 MB uploaded (0.000 MB deduped)\\r'), FloatProgress(value=0.898468…",
      "application/vnd.jupyter.widget-view+json": {
       "version_major": 2,
       "version_minor": 0,
       "model_id": "cc03d12237c1428daefd2b64b92918bd"
      }
     },
     "metadata": {},
     "output_type": "display_data"
    },
    {
     "data": {
      "text/plain": "<IPython.core.display.HTML object>",
      "text/html": "<style>\n    table.wandb td:nth-child(1) { padding: 0 10px; text-align: right }\n    .wandb-row { display: flex; flex-direction: row; flex-wrap: wrap; width: 100% }\n    .wandb-col { display: flex; flex-direction: column; flex-basis: 100%; flex: 1; padding: 10px; }\n    </style>\n<div class=\"wandb-row\"><div class=\"wandb-col\"><h3>Run history:</h3><br/><table class=\"wandb\"><tr><td>accuracy</td><td>▁</td></tr><tr><td>loss</td><td>▁</td></tr></table><br/></div><div class=\"wandb-col\"><h3>Run summary:</h3><br/><table class=\"wandb\"><tr><td>accuracy</td><td>0.42639</td></tr><tr><td>loss</td><td>0.57361</td></tr></table><br/></div></div>"
     },
     "metadata": {},
     "output_type": "display_data"
    },
    {
     "data": {
      "text/plain": "<IPython.core.display.HTML object>",
      "text/html": "Synced <strong style=\"color:#cdcd00\">glamorous-sweep-11</strong>: <a href=\"https://wandb.ai/jonathanweske/RandomForestClass/runs/m7n66xh2\" target=\"_blank\">https://wandb.ai/jonathanweske/RandomForestClass/runs/m7n66xh2</a><br/>Synced 5 W&B file(s), 3 media file(s), 2 artifact file(s) and 0 other file(s)"
     },
     "metadata": {},
     "output_type": "display_data"
    },
    {
     "data": {
      "text/plain": "<IPython.core.display.HTML object>",
      "text/html": "Find logs at: <code>./wandb/run-20220402_041057-m7n66xh2/logs</code>"
     },
     "metadata": {},
     "output_type": "display_data"
    },
    {
     "name": "stderr",
     "output_type": "stream",
     "text": [
      "\u001B[34m\u001B[1mwandb\u001B[0m: Agent Starting Run: iu6osvca with config:\n",
      "\u001B[34m\u001B[1mwandb\u001B[0m: \tbootstrap: True\n",
      "\u001B[34m\u001B[1mwandb\u001B[0m: \tcriterion: entropy\n",
      "\u001B[34m\u001B[1mwandb\u001B[0m: \tmax_depth: 50\n",
      "\u001B[34m\u001B[1mwandb\u001B[0m: \tmax_features: log2\n",
      "\u001B[34m\u001B[1mwandb\u001B[0m: \tmin_samples_leaf: 30\n",
      "\u001B[34m\u001B[1mwandb\u001B[0m: \tmin_samples_split: 5\n",
      "\u001B[34m\u001B[1mwandb\u001B[0m: \tn_estimators: 256\n"
     ]
    },
    {
     "data": {
      "text/plain": "<IPython.core.display.HTML object>",
      "text/html": "Tracking run with wandb version 0.12.11"
     },
     "metadata": {},
     "output_type": "display_data"
    },
    {
     "data": {
      "text/plain": "<IPython.core.display.HTML object>",
      "text/html": "Run data is saved locally in <code>/Users/jonweske/devment/BA_nextbike/scripts/wandb/run-20220402_041327-iu6osvca</code>"
     },
     "metadata": {},
     "output_type": "display_data"
    },
    {
     "data": {
      "text/plain": "<IPython.core.display.HTML object>",
      "text/html": "Syncing run <strong><a href=\"https://wandb.ai/jonathanweske/RandomForestClass/runs/iu6osvca\" target=\"_blank\">smooth-sweep-12</a></strong> to <a href=\"https://wandb.ai/jonathanweske/RandomForestClass\" target=\"_blank\">Weights & Biases</a> (<a href=\"https://wandb.me/run\" target=\"_blank\">docs</a>)<br/>Sweep page:  <a href=\"https://wandb.ai/jonathanweske/RandomForestClass/sweeps/7aukrm52\" target=\"_blank\">https://wandb.ai/jonathanweske/RandomForestClass/sweeps/7aukrm52</a>"
     },
     "metadata": {},
     "output_type": "display_data"
    },
    {
     "name": "stdout",
     "output_type": "stream",
     "text": [
      "\n"
     ]
    },
    {
     "data": {
      "text/plain": "<IPython.core.display.HTML object>",
      "text/html": "Waiting for W&B process to finish... <strong style=\"color:green\">(success).</strong>"
     },
     "metadata": {},
     "output_type": "display_data"
    },
    {
     "data": {
      "text/plain": "VBox(children=(Label(value='0.003 MB of 0.004 MB uploaded (0.000 MB deduped)\\r'), FloatProgress(value=0.898296…",
      "application/vnd.jupyter.widget-view+json": {
       "version_major": 2,
       "version_minor": 0,
       "model_id": "07a0692c10c84d659efb96adbd15c432"
      }
     },
     "metadata": {},
     "output_type": "display_data"
    },
    {
     "data": {
      "text/plain": "<IPython.core.display.HTML object>",
      "text/html": "<style>\n    table.wandb td:nth-child(1) { padding: 0 10px; text-align: right }\n    .wandb-row { display: flex; flex-direction: row; flex-wrap: wrap; width: 100% }\n    .wandb-col { display: flex; flex-direction: column; flex-basis: 100%; flex: 1; padding: 10px; }\n    </style>\n<div class=\"wandb-row\"><div class=\"wandb-col\"><h3>Run history:</h3><br/><table class=\"wandb\"><tr><td>accuracy</td><td>▁</td></tr><tr><td>loss</td><td>▁</td></tr></table><br/></div><div class=\"wandb-col\"><h3>Run summary:</h3><br/><table class=\"wandb\"><tr><td>accuracy</td><td>0.42618</td></tr><tr><td>loss</td><td>0.57382</td></tr></table><br/></div></div>"
     },
     "metadata": {},
     "output_type": "display_data"
    },
    {
     "data": {
      "text/plain": "<IPython.core.display.HTML object>",
      "text/html": "Synced <strong style=\"color:#cdcd00\">smooth-sweep-12</strong>: <a href=\"https://wandb.ai/jonathanweske/RandomForestClass/runs/iu6osvca\" target=\"_blank\">https://wandb.ai/jonathanweske/RandomForestClass/runs/iu6osvca</a><br/>Synced 5 W&B file(s), 3 media file(s), 2 artifact file(s) and 0 other file(s)"
     },
     "metadata": {},
     "output_type": "display_data"
    },
    {
     "data": {
      "text/plain": "<IPython.core.display.HTML object>",
      "text/html": "Find logs at: <code>./wandb/run-20220402_041327-iu6osvca/logs</code>"
     },
     "metadata": {},
     "output_type": "display_data"
    },
    {
     "name": "stderr",
     "output_type": "stream",
     "text": [
      "\u001B[34m\u001B[1mwandb\u001B[0m: Agent Starting Run: uno41jal with config:\n",
      "\u001B[34m\u001B[1mwandb\u001B[0m: \tbootstrap: False\n",
      "\u001B[34m\u001B[1mwandb\u001B[0m: \tcriterion: gini\n",
      "\u001B[34m\u001B[1mwandb\u001B[0m: \tmax_depth: 8\n",
      "\u001B[34m\u001B[1mwandb\u001B[0m: \tmax_features: log2\n",
      "\u001B[34m\u001B[1mwandb\u001B[0m: \tmin_samples_leaf: 10\n",
      "\u001B[34m\u001B[1mwandb\u001B[0m: \tmin_samples_split: 13\n",
      "\u001B[34m\u001B[1mwandb\u001B[0m: \tn_estimators: 32\n"
     ]
    },
    {
     "data": {
      "text/plain": "<IPython.core.display.HTML object>",
      "text/html": "Tracking run with wandb version 0.12.11"
     },
     "metadata": {},
     "output_type": "display_data"
    },
    {
     "data": {
      "text/plain": "<IPython.core.display.HTML object>",
      "text/html": "Run data is saved locally in <code>/Users/jonweske/devment/BA_nextbike/scripts/wandb/run-20220402_050344-uno41jal</code>"
     },
     "metadata": {},
     "output_type": "display_data"
    },
    {
     "data": {
      "text/plain": "<IPython.core.display.HTML object>",
      "text/html": "Syncing run <strong><a href=\"https://wandb.ai/jonathanweske/RandomForestClass/runs/uno41jal\" target=\"_blank\">young-sweep-13</a></strong> to <a href=\"https://wandb.ai/jonathanweske/RandomForestClass\" target=\"_blank\">Weights & Biases</a> (<a href=\"https://wandb.me/run\" target=\"_blank\">docs</a>)<br/>Sweep page:  <a href=\"https://wandb.ai/jonathanweske/RandomForestClass/sweeps/7aukrm52\" target=\"_blank\">https://wandb.ai/jonathanweske/RandomForestClass/sweeps/7aukrm52</a>"
     },
     "metadata": {},
     "output_type": "display_data"
    },
    {
     "name": "stdout",
     "output_type": "stream",
     "text": [
      "\n"
     ]
    },
    {
     "data": {
      "text/plain": "<IPython.core.display.HTML object>",
      "text/html": "Waiting for W&B process to finish... <strong style=\"color:green\">(success).</strong>"
     },
     "metadata": {},
     "output_type": "display_data"
    },
    {
     "data": {
      "text/plain": "VBox(children=(Label(value='0.003 MB of 0.004 MB uploaded (0.000 MB deduped)\\r'), FloatProgress(value=0.897542…",
      "application/vnd.jupyter.widget-view+json": {
       "version_major": 2,
       "version_minor": 0,
       "model_id": "cd68dc534b1042bd98e68a05cb006a69"
      }
     },
     "metadata": {},
     "output_type": "display_data"
    },
    {
     "data": {
      "text/plain": "<IPython.core.display.HTML object>",
      "text/html": "<style>\n    table.wandb td:nth-child(1) { padding: 0 10px; text-align: right }\n    .wandb-row { display: flex; flex-direction: row; flex-wrap: wrap; width: 100% }\n    .wandb-col { display: flex; flex-direction: column; flex-basis: 100%; flex: 1; padding: 10px; }\n    </style>\n<div class=\"wandb-row\"><div class=\"wandb-col\"><h3>Run history:</h3><br/><table class=\"wandb\"><tr><td>accuracy</td><td>▁</td></tr><tr><td>loss</td><td>▁</td></tr></table><br/></div><div class=\"wandb-col\"><h3>Run summary:</h3><br/><table class=\"wandb\"><tr><td>accuracy</td><td>0.47891</td></tr><tr><td>loss</td><td>0.52109</td></tr></table><br/></div></div>"
     },
     "metadata": {},
     "output_type": "display_data"
    },
    {
     "data": {
      "text/plain": "<IPython.core.display.HTML object>",
      "text/html": "Synced <strong style=\"color:#cdcd00\">young-sweep-13</strong>: <a href=\"https://wandb.ai/jonathanweske/RandomForestClass/runs/uno41jal\" target=\"_blank\">https://wandb.ai/jonathanweske/RandomForestClass/runs/uno41jal</a><br/>Synced 5 W&B file(s), 3 media file(s), 2 artifact file(s) and 0 other file(s)"
     },
     "metadata": {},
     "output_type": "display_data"
    },
    {
     "data": {
      "text/plain": "<IPython.core.display.HTML object>",
      "text/html": "Find logs at: <code>./wandb/run-20220402_050344-uno41jal/logs</code>"
     },
     "metadata": {},
     "output_type": "display_data"
    },
    {
     "name": "stderr",
     "output_type": "stream",
     "text": [
      "\u001B[34m\u001B[1mwandb\u001B[0m: Agent Starting Run: ewp4vlwz with config:\n",
      "\u001B[34m\u001B[1mwandb\u001B[0m: \tbootstrap: False\n",
      "\u001B[34m\u001B[1mwandb\u001B[0m: \tcriterion: gini\n",
      "\u001B[34m\u001B[1mwandb\u001B[0m: \tmax_depth: 160\n",
      "\u001B[34m\u001B[1mwandb\u001B[0m: \tmax_features: auto\n",
      "\u001B[34m\u001B[1mwandb\u001B[0m: \tmin_samples_leaf: 8\n",
      "\u001B[34m\u001B[1mwandb\u001B[0m: \tmin_samples_split: 4\n",
      "\u001B[34m\u001B[1mwandb\u001B[0m: \tn_estimators: 128\n"
     ]
    },
    {
     "data": {
      "text/plain": "<IPython.core.display.HTML object>",
      "text/html": "Tracking run with wandb version 0.12.11"
     },
     "metadata": {},
     "output_type": "display_data"
    },
    {
     "data": {
      "text/plain": "<IPython.core.display.HTML object>",
      "text/html": "Run data is saved locally in <code>/Users/jonweske/devment/BA_nextbike/scripts/wandb/run-20220402_050815-ewp4vlwz</code>"
     },
     "metadata": {},
     "output_type": "display_data"
    },
    {
     "data": {
      "text/plain": "<IPython.core.display.HTML object>",
      "text/html": "Syncing run <strong><a href=\"https://wandb.ai/jonathanweske/RandomForestClass/runs/ewp4vlwz\" target=\"_blank\">northern-sweep-14</a></strong> to <a href=\"https://wandb.ai/jonathanweske/RandomForestClass\" target=\"_blank\">Weights & Biases</a> (<a href=\"https://wandb.me/run\" target=\"_blank\">docs</a>)<br/>Sweep page:  <a href=\"https://wandb.ai/jonathanweske/RandomForestClass/sweeps/7aukrm52\" target=\"_blank\">https://wandb.ai/jonathanweske/RandomForestClass/sweeps/7aukrm52</a>"
     },
     "metadata": {},
     "output_type": "display_data"
    },
    {
     "name": "stdout",
     "output_type": "stream",
     "text": [
      "\n"
     ]
    },
    {
     "data": {
      "text/plain": "<IPython.core.display.HTML object>",
      "text/html": "Waiting for W&B process to finish... <strong style=\"color:green\">(success).</strong>"
     },
     "metadata": {},
     "output_type": "display_data"
    },
    {
     "data": {
      "text/plain": "VBox(children=(Label(value='0.003 MB of 0.004 MB uploaded (0.000 MB deduped)\\r'), FloatProgress(value=0.898296…",
      "application/vnd.jupyter.widget-view+json": {
       "version_major": 2,
       "version_minor": 0,
       "model_id": "69bafe9b29654b18842358a2f6da6dbd"
      }
     },
     "metadata": {},
     "output_type": "display_data"
    },
    {
     "data": {
      "text/plain": "<IPython.core.display.HTML object>",
      "text/html": "<style>\n    table.wandb td:nth-child(1) { padding: 0 10px; text-align: right }\n    .wandb-row { display: flex; flex-direction: row; flex-wrap: wrap; width: 100% }\n    .wandb-col { display: flex; flex-direction: column; flex-basis: 100%; flex: 1; padding: 10px; }\n    </style>\n<div class=\"wandb-row\"><div class=\"wandb-col\"><h3>Run history:</h3><br/><table class=\"wandb\"><tr><td>accuracy</td><td>▁</td></tr><tr><td>loss</td><td>▁</td></tr></table><br/></div><div class=\"wandb-col\"><h3>Run summary:</h3><br/><table class=\"wandb\"><tr><td>accuracy</td><td>0.4124</td></tr><tr><td>loss</td><td>0.5876</td></tr></table><br/></div></div>"
     },
     "metadata": {},
     "output_type": "display_data"
    },
    {
     "data": {
      "text/plain": "<IPython.core.display.HTML object>",
      "text/html": "Synced <strong style=\"color:#cdcd00\">northern-sweep-14</strong>: <a href=\"https://wandb.ai/jonathanweske/RandomForestClass/runs/ewp4vlwz\" target=\"_blank\">https://wandb.ai/jonathanweske/RandomForestClass/runs/ewp4vlwz</a><br/>Synced 5 W&B file(s), 3 media file(s), 2 artifact file(s) and 0 other file(s)"
     },
     "metadata": {},
     "output_type": "display_data"
    },
    {
     "data": {
      "text/plain": "<IPython.core.display.HTML object>",
      "text/html": "Find logs at: <code>./wandb/run-20220402_050815-ewp4vlwz/logs</code>"
     },
     "metadata": {},
     "output_type": "display_data"
    },
    {
     "name": "stderr",
     "output_type": "stream",
     "text": [
      "\u001B[34m\u001B[1mwandb\u001B[0m: Agent Starting Run: pdtzrdkd with config:\n",
      "\u001B[34m\u001B[1mwandb\u001B[0m: \tbootstrap: True\n",
      "\u001B[34m\u001B[1mwandb\u001B[0m: \tcriterion: entropy\n",
      "\u001B[34m\u001B[1mwandb\u001B[0m: \tmax_depth: 9\n",
      "\u001B[34m\u001B[1mwandb\u001B[0m: \tmax_features: sqrt\n",
      "\u001B[34m\u001B[1mwandb\u001B[0m: \tmin_samples_leaf: 25\n",
      "\u001B[34m\u001B[1mwandb\u001B[0m: \tmin_samples_split: 7\n",
      "\u001B[34m\u001B[1mwandb\u001B[0m: \tn_estimators: 8\n"
     ]
    },
    {
     "data": {
      "text/plain": "<IPython.core.display.HTML object>",
      "text/html": "Tracking run with wandb version 0.12.11"
     },
     "metadata": {},
     "output_type": "display_data"
    },
    {
     "data": {
      "text/plain": "<IPython.core.display.HTML object>",
      "text/html": "Run data is saved locally in <code>/Users/jonweske/devment/BA_nextbike/scripts/wandb/run-20220402_054125-pdtzrdkd</code>"
     },
     "metadata": {},
     "output_type": "display_data"
    },
    {
     "data": {
      "text/plain": "<IPython.core.display.HTML object>",
      "text/html": "Syncing run <strong><a href=\"https://wandb.ai/jonathanweske/RandomForestClass/runs/pdtzrdkd\" target=\"_blank\">sunny-sweep-15</a></strong> to <a href=\"https://wandb.ai/jonathanweske/RandomForestClass\" target=\"_blank\">Weights & Biases</a> (<a href=\"https://wandb.me/run\" target=\"_blank\">docs</a>)<br/>Sweep page:  <a href=\"https://wandb.ai/jonathanweske/RandomForestClass/sweeps/7aukrm52\" target=\"_blank\">https://wandb.ai/jonathanweske/RandomForestClass/sweeps/7aukrm52</a>"
     },
     "metadata": {},
     "output_type": "display_data"
    },
    {
     "name": "stdout",
     "output_type": "stream",
     "text": [
      "\n"
     ]
    },
    {
     "data": {
      "text/plain": "<IPython.core.display.HTML object>",
      "text/html": "Waiting for W&B process to finish... <strong style=\"color:green\">(success).</strong>"
     },
     "metadata": {},
     "output_type": "display_data"
    },
    {
     "data": {
      "text/plain": "VBox(children=(Label(value='0.003 MB of 0.004 MB uploaded (0.000 MB deduped)\\r'), FloatProgress(value=0.897322…",
      "application/vnd.jupyter.widget-view+json": {
       "version_major": 2,
       "version_minor": 0,
       "model_id": "59f2c32199d642d1af115659cdc33631"
      }
     },
     "metadata": {},
     "output_type": "display_data"
    },
    {
     "data": {
      "text/plain": "<IPython.core.display.HTML object>",
      "text/html": "<style>\n    table.wandb td:nth-child(1) { padding: 0 10px; text-align: right }\n    .wandb-row { display: flex; flex-direction: row; flex-wrap: wrap; width: 100% }\n    .wandb-col { display: flex; flex-direction: column; flex-basis: 100%; flex: 1; padding: 10px; }\n    </style>\n<div class=\"wandb-row\"><div class=\"wandb-col\"><h3>Run history:</h3><br/><table class=\"wandb\"><tr><td>accuracy</td><td>▁</td></tr><tr><td>loss</td><td>▁</td></tr></table><br/></div><div class=\"wandb-col\"><h3>Run summary:</h3><br/><table class=\"wandb\"><tr><td>accuracy</td><td>0.47262</td></tr><tr><td>loss</td><td>0.52738</td></tr></table><br/></div></div>"
     },
     "metadata": {},
     "output_type": "display_data"
    },
    {
     "data": {
      "text/plain": "<IPython.core.display.HTML object>",
      "text/html": "Synced <strong style=\"color:#cdcd00\">sunny-sweep-15</strong>: <a href=\"https://wandb.ai/jonathanweske/RandomForestClass/runs/pdtzrdkd\" target=\"_blank\">https://wandb.ai/jonathanweske/RandomForestClass/runs/pdtzrdkd</a><br/>Synced 5 W&B file(s), 3 media file(s), 2 artifact file(s) and 0 other file(s)"
     },
     "metadata": {},
     "output_type": "display_data"
    },
    {
     "data": {
      "text/plain": "<IPython.core.display.HTML object>",
      "text/html": "Find logs at: <code>./wandb/run-20220402_054125-pdtzrdkd/logs</code>"
     },
     "metadata": {},
     "output_type": "display_data"
    },
    {
     "name": "stderr",
     "output_type": "stream",
     "text": [
      "\u001B[34m\u001B[1mwandb\u001B[0m: Agent Starting Run: umm9dhyt with config:\n",
      "\u001B[34m\u001B[1mwandb\u001B[0m: \tbootstrap: True\n",
      "\u001B[34m\u001B[1mwandb\u001B[0m: \tcriterion: entropy\n",
      "\u001B[34m\u001B[1mwandb\u001B[0m: \tmax_depth: 70\n",
      "\u001B[34m\u001B[1mwandb\u001B[0m: \tmax_features: sqrt\n",
      "\u001B[34m\u001B[1mwandb\u001B[0m: \tmin_samples_leaf: 18\n",
      "\u001B[34m\u001B[1mwandb\u001B[0m: \tmin_samples_split: 3\n",
      "\u001B[34m\u001B[1mwandb\u001B[0m: \tn_estimators: 16\n"
     ]
    },
    {
     "data": {
      "text/plain": "<IPython.core.display.HTML object>",
      "text/html": "Tracking run with wandb version 0.12.11"
     },
     "metadata": {},
     "output_type": "display_data"
    },
    {
     "data": {
      "text/plain": "<IPython.core.display.HTML object>",
      "text/html": "Run data is saved locally in <code>/Users/jonweske/devment/BA_nextbike/scripts/wandb/run-20220402_054253-umm9dhyt</code>"
     },
     "metadata": {},
     "output_type": "display_data"
    },
    {
     "data": {
      "text/plain": "<IPython.core.display.HTML object>",
      "text/html": "Syncing run <strong><a href=\"https://wandb.ai/jonathanweske/RandomForestClass/runs/umm9dhyt\" target=\"_blank\">giddy-sweep-16</a></strong> to <a href=\"https://wandb.ai/jonathanweske/RandomForestClass\" target=\"_blank\">Weights & Biases</a> (<a href=\"https://wandb.me/run\" target=\"_blank\">docs</a>)<br/>Sweep page:  <a href=\"https://wandb.ai/jonathanweske/RandomForestClass/sweeps/7aukrm52\" target=\"_blank\">https://wandb.ai/jonathanweske/RandomForestClass/sweeps/7aukrm52</a>"
     },
     "metadata": {},
     "output_type": "display_data"
    },
    {
     "name": "stdout",
     "output_type": "stream",
     "text": [
      "\n"
     ]
    },
    {
     "data": {
      "text/plain": "<IPython.core.display.HTML object>",
      "text/html": "Waiting for W&B process to finish... <strong style=\"color:green\">(success).</strong>"
     },
     "metadata": {},
     "output_type": "display_data"
    },
    {
     "data": {
      "text/plain": "VBox(children=(Label(value='0.003 MB of 0.004 MB uploaded (0.000 MB deduped)\\r'), FloatProgress(value=0.754563…",
      "application/vnd.jupyter.widget-view+json": {
       "version_major": 2,
       "version_minor": 0,
       "model_id": "8ef8ebb2e90443c4af5d1a63d601a8dd"
      }
     },
     "metadata": {},
     "output_type": "display_data"
    },
    {
     "data": {
      "text/plain": "<IPython.core.display.HTML object>",
      "text/html": "<style>\n    table.wandb td:nth-child(1) { padding: 0 10px; text-align: right }\n    .wandb-row { display: flex; flex-direction: row; flex-wrap: wrap; width: 100% }\n    .wandb-col { display: flex; flex-direction: column; flex-basis: 100%; flex: 1; padding: 10px; }\n    </style>\n<div class=\"wandb-row\"><div class=\"wandb-col\"><h3>Run history:</h3><br/><table class=\"wandb\"><tr><td>accuracy</td><td>▁</td></tr><tr><td>loss</td><td>▁</td></tr></table><br/></div><div class=\"wandb-col\"><h3>Run summary:</h3><br/><table class=\"wandb\"><tr><td>accuracy</td><td>0.42793</td></tr><tr><td>loss</td><td>0.57207</td></tr></table><br/></div></div>"
     },
     "metadata": {},
     "output_type": "display_data"
    },
    {
     "data": {
      "text/plain": "<IPython.core.display.HTML object>",
      "text/html": "Synced <strong style=\"color:#cdcd00\">giddy-sweep-16</strong>: <a href=\"https://wandb.ai/jonathanweske/RandomForestClass/runs/umm9dhyt\" target=\"_blank\">https://wandb.ai/jonathanweske/RandomForestClass/runs/umm9dhyt</a><br/>Synced 5 W&B file(s), 3 media file(s), 2 artifact file(s) and 0 other file(s)"
     },
     "metadata": {},
     "output_type": "display_data"
    },
    {
     "data": {
      "text/plain": "<IPython.core.display.HTML object>",
      "text/html": "Find logs at: <code>./wandb/run-20220402_054253-umm9dhyt/logs</code>"
     },
     "metadata": {},
     "output_type": "display_data"
    },
    {
     "name": "stderr",
     "output_type": "stream",
     "text": [
      "\u001B[34m\u001B[1mwandb\u001B[0m: Agent Starting Run: l4f9bjn4 with config:\n",
      "\u001B[34m\u001B[1mwandb\u001B[0m: \tbootstrap: True\n",
      "\u001B[34m\u001B[1mwandb\u001B[0m: \tcriterion: gini\n",
      "\u001B[34m\u001B[1mwandb\u001B[0m: \tmax_depth: 2\n",
      "\u001B[34m\u001B[1mwandb\u001B[0m: \tmax_features: log2\n",
      "\u001B[34m\u001B[1mwandb\u001B[0m: \tmin_samples_leaf: 14\n",
      "\u001B[34m\u001B[1mwandb\u001B[0m: \tmin_samples_split: 20\n",
      "\u001B[34m\u001B[1mwandb\u001B[0m: \tn_estimators: 16\n"
     ]
    },
    {
     "data": {
      "text/plain": "<IPython.core.display.HTML object>",
      "text/html": "Tracking run with wandb version 0.12.11"
     },
     "metadata": {},
     "output_type": "display_data"
    },
    {
     "data": {
      "text/plain": "<IPython.core.display.HTML object>",
      "text/html": "Run data is saved locally in <code>/Users/jonweske/devment/BA_nextbike/scripts/wandb/run-20220402_054638-l4f9bjn4</code>"
     },
     "metadata": {},
     "output_type": "display_data"
    },
    {
     "data": {
      "text/plain": "<IPython.core.display.HTML object>",
      "text/html": "Syncing run <strong><a href=\"https://wandb.ai/jonathanweske/RandomForestClass/runs/l4f9bjn4\" target=\"_blank\">valiant-sweep-17</a></strong> to <a href=\"https://wandb.ai/jonathanweske/RandomForestClass\" target=\"_blank\">Weights & Biases</a> (<a href=\"https://wandb.me/run\" target=\"_blank\">docs</a>)<br/>Sweep page:  <a href=\"https://wandb.ai/jonathanweske/RandomForestClass/sweeps/7aukrm52\" target=\"_blank\">https://wandb.ai/jonathanweske/RandomForestClass/sweeps/7aukrm52</a>"
     },
     "metadata": {},
     "output_type": "display_data"
    },
    {
     "name": "stdout",
     "output_type": "stream",
     "text": [
      "\n"
     ]
    },
    {
     "data": {
      "text/plain": "<IPython.core.display.HTML object>",
      "text/html": "Waiting for W&B process to finish... <strong style=\"color:green\">(success).</strong>"
     },
     "metadata": {},
     "output_type": "display_data"
    },
    {
     "data": {
      "text/plain": "VBox(children=(Label(value='0.003 MB of 0.004 MB uploaded (0.000 MB deduped)\\r'), FloatProgress(value=0.910389…",
      "application/vnd.jupyter.widget-view+json": {
       "version_major": 2,
       "version_minor": 0,
       "model_id": "5cabf05463544c638006891b6e1e5194"
      }
     },
     "metadata": {},
     "output_type": "display_data"
    },
    {
     "data": {
      "text/plain": "<IPython.core.display.HTML object>",
      "text/html": "<style>\n    table.wandb td:nth-child(1) { padding: 0 10px; text-align: right }\n    .wandb-row { display: flex; flex-direction: row; flex-wrap: wrap; width: 100% }\n    .wandb-col { display: flex; flex-direction: column; flex-basis: 100%; flex: 1; padding: 10px; }\n    </style>\n<div class=\"wandb-row\"><div class=\"wandb-col\"><h3>Run history:</h3><br/><table class=\"wandb\"><tr><td>accuracy</td><td>▁</td></tr><tr><td>loss</td><td>▁</td></tr></table><br/></div><div class=\"wandb-col\"><h3>Run summary:</h3><br/><table class=\"wandb\"><tr><td>accuracy</td><td>0.55239</td></tr><tr><td>loss</td><td>0.44761</td></tr></table><br/></div></div>"
     },
     "metadata": {},
     "output_type": "display_data"
    },
    {
     "data": {
      "text/plain": "<IPython.core.display.HTML object>",
      "text/html": "Synced <strong style=\"color:#cdcd00\">valiant-sweep-17</strong>: <a href=\"https://wandb.ai/jonathanweske/RandomForestClass/runs/l4f9bjn4\" target=\"_blank\">https://wandb.ai/jonathanweske/RandomForestClass/runs/l4f9bjn4</a><br/>Synced 5 W&B file(s), 3 media file(s), 2 artifact file(s) and 0 other file(s)"
     },
     "metadata": {},
     "output_type": "display_data"
    },
    {
     "data": {
      "text/plain": "<IPython.core.display.HTML object>",
      "text/html": "Find logs at: <code>./wandb/run-20220402_054638-l4f9bjn4/logs</code>"
     },
     "metadata": {},
     "output_type": "display_data"
    },
    {
     "name": "stderr",
     "output_type": "stream",
     "text": [
      "\u001B[34m\u001B[1mwandb\u001B[0m: Agent Starting Run: k5m9zmg0 with config:\n",
      "\u001B[34m\u001B[1mwandb\u001B[0m: \tbootstrap: True\n",
      "\u001B[34m\u001B[1mwandb\u001B[0m: \tcriterion: gini\n",
      "\u001B[34m\u001B[1mwandb\u001B[0m: \tmax_depth: 80\n",
      "\u001B[34m\u001B[1mwandb\u001B[0m: \tmax_features: log2\n",
      "\u001B[34m\u001B[1mwandb\u001B[0m: \tmin_samples_leaf: 25\n",
      "\u001B[34m\u001B[1mwandb\u001B[0m: \tmin_samples_split: 18\n",
      "\u001B[34m\u001B[1mwandb\u001B[0m: \tn_estimators: 256\n"
     ]
    },
    {
     "data": {
      "text/plain": "<IPython.core.display.HTML object>",
      "text/html": "Tracking run with wandb version 0.12.11"
     },
     "metadata": {},
     "output_type": "display_data"
    },
    {
     "data": {
      "text/plain": "<IPython.core.display.HTML object>",
      "text/html": "Run data is saved locally in <code>/Users/jonweske/devment/BA_nextbike/scripts/wandb/run-20220402_054739-k5m9zmg0</code>"
     },
     "metadata": {},
     "output_type": "display_data"
    },
    {
     "data": {
      "text/plain": "<IPython.core.display.HTML object>",
      "text/html": "Syncing run <strong><a href=\"https://wandb.ai/jonathanweske/RandomForestClass/runs/k5m9zmg0\" target=\"_blank\">rich-sweep-18</a></strong> to <a href=\"https://wandb.ai/jonathanweske/RandomForestClass\" target=\"_blank\">Weights & Biases</a> (<a href=\"https://wandb.me/run\" target=\"_blank\">docs</a>)<br/>Sweep page:  <a href=\"https://wandb.ai/jonathanweske/RandomForestClass/sweeps/7aukrm52\" target=\"_blank\">https://wandb.ai/jonathanweske/RandomForestClass/sweeps/7aukrm52</a>"
     },
     "metadata": {},
     "output_type": "display_data"
    },
    {
     "name": "stdout",
     "output_type": "stream",
     "text": [
      "\n"
     ]
    },
    {
     "data": {
      "text/plain": "<IPython.core.display.HTML object>",
      "text/html": "Waiting for W&B process to finish... <strong style=\"color:green\">(success).</strong>"
     },
     "metadata": {},
     "output_type": "display_data"
    },
    {
     "data": {
      "text/plain": "VBox(children=(Label(value='0.003 MB of 0.004 MB uploaded (0.000 MB deduped)\\r'), FloatProgress(value=0.898125…",
      "application/vnd.jupyter.widget-view+json": {
       "version_major": 2,
       "version_minor": 0,
       "model_id": "f3412957483b441f8a108845b08b7ce5"
      }
     },
     "metadata": {},
     "output_type": "display_data"
    },
    {
     "data": {
      "text/plain": "<IPython.core.display.HTML object>",
      "text/html": "<style>\n    table.wandb td:nth-child(1) { padding: 0 10px; text-align: right }\n    .wandb-row { display: flex; flex-direction: row; flex-wrap: wrap; width: 100% }\n    .wandb-col { display: flex; flex-direction: column; flex-basis: 100%; flex: 1; padding: 10px; }\n    </style>\n<div class=\"wandb-row\"><div class=\"wandb-col\"><h3>Run history:</h3><br/><table class=\"wandb\"><tr><td>accuracy</td><td>▁</td></tr><tr><td>loss</td><td>▁</td></tr></table><br/></div><div class=\"wandb-col\"><h3>Run summary:</h3><br/><table class=\"wandb\"><tr><td>accuracy</td><td>0.42393</td></tr><tr><td>loss</td><td>0.57607</td></tr></table><br/></div></div>"
     },
     "metadata": {},
     "output_type": "display_data"
    },
    {
     "data": {
      "text/plain": "<IPython.core.display.HTML object>",
      "text/html": "Synced <strong style=\"color:#cdcd00\">rich-sweep-18</strong>: <a href=\"https://wandb.ai/jonathanweske/RandomForestClass/runs/k5m9zmg0\" target=\"_blank\">https://wandb.ai/jonathanweske/RandomForestClass/runs/k5m9zmg0</a><br/>Synced 5 W&B file(s), 3 media file(s), 2 artifact file(s) and 0 other file(s)"
     },
     "metadata": {},
     "output_type": "display_data"
    },
    {
     "data": {
      "text/plain": "<IPython.core.display.HTML object>",
      "text/html": "Find logs at: <code>./wandb/run-20220402_054739-k5m9zmg0/logs</code>"
     },
     "metadata": {},
     "output_type": "display_data"
    },
    {
     "name": "stderr",
     "output_type": "stream",
     "text": [
      "\u001B[34m\u001B[1mwandb\u001B[0m: Sweep Agent: Waiting for job.\n",
      "\u001B[34m\u001B[1mwandb\u001B[0m: Job received.\n",
      "\u001B[34m\u001B[1mwandb\u001B[0m: Agent Starting Run: pe2vrhzc with config:\n",
      "\u001B[34m\u001B[1mwandb\u001B[0m: \tbootstrap: False\n",
      "\u001B[34m\u001B[1mwandb\u001B[0m: \tcriterion: gini\n",
      "\u001B[34m\u001B[1mwandb\u001B[0m: \tmax_depth: None\n",
      "\u001B[34m\u001B[1mwandb\u001B[0m: \tmax_features: sqrt\n",
      "\u001B[34m\u001B[1mwandb\u001B[0m: \tmin_samples_leaf: 6\n",
      "\u001B[34m\u001B[1mwandb\u001B[0m: \tmin_samples_split: 7\n",
      "\u001B[34m\u001B[1mwandb\u001B[0m: \tn_estimators: 256\n"
     ]
    },
    {
     "data": {
      "text/plain": "<IPython.core.display.HTML object>",
      "text/html": "Tracking run with wandb version 0.12.11"
     },
     "metadata": {},
     "output_type": "display_data"
    },
    {
     "data": {
      "text/plain": "<IPython.core.display.HTML object>",
      "text/html": "Run data is saved locally in <code>/Users/jonweske/devment/BA_nextbike/scripts/wandb/run-20220402_063634-pe2vrhzc</code>"
     },
     "metadata": {},
     "output_type": "display_data"
    },
    {
     "data": {
      "text/plain": "<IPython.core.display.HTML object>",
      "text/html": "Syncing run <strong><a href=\"https://wandb.ai/jonathanweske/RandomForestClass/runs/pe2vrhzc\" target=\"_blank\">efficient-sweep-19</a></strong> to <a href=\"https://wandb.ai/jonathanweske/RandomForestClass\" target=\"_blank\">Weights & Biases</a> (<a href=\"https://wandb.me/run\" target=\"_blank\">docs</a>)<br/>Sweep page:  <a href=\"https://wandb.ai/jonathanweske/RandomForestClass/sweeps/7aukrm52\" target=\"_blank\">https://wandb.ai/jonathanweske/RandomForestClass/sweeps/7aukrm52</a>"
     },
     "metadata": {},
     "output_type": "display_data"
    },
    {
     "name": "stdout",
     "output_type": "stream",
     "text": [
      "\n"
     ]
    },
    {
     "data": {
      "text/plain": "<IPython.core.display.HTML object>",
      "text/html": "Waiting for W&B process to finish... <strong style=\"color:green\">(success).</strong>"
     },
     "metadata": {},
     "output_type": "display_data"
    },
    {
     "data": {
      "text/plain": "VBox(children=(Label(value='0.004 MB of 0.004 MB uploaded (0.000 MB deduped)\\r'), FloatProgress(value=1.0, max…",
      "application/vnd.jupyter.widget-view+json": {
       "version_major": 2,
       "version_minor": 0,
       "model_id": "442e01b7dfd743f78a33f1ad57ef88a6"
      }
     },
     "metadata": {},
     "output_type": "display_data"
    },
    {
     "data": {
      "text/plain": "<IPython.core.display.HTML object>",
      "text/html": "<style>\n    table.wandb td:nth-child(1) { padding: 0 10px; text-align: right }\n    .wandb-row { display: flex; flex-direction: row; flex-wrap: wrap; width: 100% }\n    .wandb-col { display: flex; flex-direction: column; flex-basis: 100%; flex: 1; padding: 10px; }\n    </style>\n<div class=\"wandb-row\"><div class=\"wandb-col\"><h3>Run history:</h3><br/><table class=\"wandb\"><tr><td>accuracy</td><td>▁</td></tr><tr><td>loss</td><td>▁</td></tr></table><br/></div><div class=\"wandb-col\"><h3>Run summary:</h3><br/><table class=\"wandb\"><tr><td>accuracy</td><td>0.41096</td></tr><tr><td>loss</td><td>0.58904</td></tr></table><br/></div></div>"
     },
     "metadata": {},
     "output_type": "display_data"
    },
    {
     "data": {
      "text/plain": "<IPython.core.display.HTML object>",
      "text/html": "Synced <strong style=\"color:#cdcd00\">efficient-sweep-19</strong>: <a href=\"https://wandb.ai/jonathanweske/RandomForestClass/runs/pe2vrhzc\" target=\"_blank\">https://wandb.ai/jonathanweske/RandomForestClass/runs/pe2vrhzc</a><br/>Synced 5 W&B file(s), 3 media file(s), 2 artifact file(s) and 0 other file(s)"
     },
     "metadata": {},
     "output_type": "display_data"
    },
    {
     "data": {
      "text/plain": "<IPython.core.display.HTML object>",
      "text/html": "Find logs at: <code>./wandb/run-20220402_063634-pe2vrhzc/logs</code>"
     },
     "metadata": {},
     "output_type": "display_data"
    },
    {
     "name": "stderr",
     "output_type": "stream",
     "text": [
      "\u001B[34m\u001B[1mwandb\u001B[0m: Agent Starting Run: 0c2ks51x with config:\n",
      "\u001B[34m\u001B[1mwandb\u001B[0m: \tbootstrap: True\n",
      "\u001B[34m\u001B[1mwandb\u001B[0m: \tcriterion: entropy\n",
      "\u001B[34m\u001B[1mwandb\u001B[0m: \tmax_depth: 10\n",
      "\u001B[34m\u001B[1mwandb\u001B[0m: \tmax_features: log2\n",
      "\u001B[34m\u001B[1mwandb\u001B[0m: \tmin_samples_leaf: 14\n",
      "\u001B[34m\u001B[1mwandb\u001B[0m: \tmin_samples_split: 9\n",
      "\u001B[34m\u001B[1mwandb\u001B[0m: \tn_estimators: 128\n"
     ]
    },
    {
     "data": {
      "text/plain": "<IPython.core.display.HTML object>",
      "text/html": "Tracking run with wandb version 0.12.11"
     },
     "metadata": {},
     "output_type": "display_data"
    },
    {
     "data": {
      "text/plain": "<IPython.core.display.HTML object>",
      "text/html": "Run data is saved locally in <code>/Users/jonweske/devment/BA_nextbike/scripts/wandb/run-20220402_074425-0c2ks51x</code>"
     },
     "metadata": {},
     "output_type": "display_data"
    },
    {
     "data": {
      "text/plain": "<IPython.core.display.HTML object>",
      "text/html": "Syncing run <strong><a href=\"https://wandb.ai/jonathanweske/RandomForestClass/runs/0c2ks51x\" target=\"_blank\">driven-sweep-20</a></strong> to <a href=\"https://wandb.ai/jonathanweske/RandomForestClass\" target=\"_blank\">Weights & Biases</a> (<a href=\"https://wandb.me/run\" target=\"_blank\">docs</a>)<br/>Sweep page:  <a href=\"https://wandb.ai/jonathanweske/RandomForestClass/sweeps/7aukrm52\" target=\"_blank\">https://wandb.ai/jonathanweske/RandomForestClass/sweeps/7aukrm52</a>"
     },
     "metadata": {},
     "output_type": "display_data"
    },
    {
     "name": "stdout",
     "output_type": "stream",
     "text": [
      "\n"
     ]
    },
    {
     "data": {
      "text/plain": "<IPython.core.display.HTML object>",
      "text/html": "Waiting for W&B process to finish... <strong style=\"color:green\">(success).</strong>"
     },
     "metadata": {},
     "output_type": "display_data"
    },
    {
     "data": {
      "text/plain": "VBox(children=(Label(value='0.003 MB of 0.004 MB uploaded (0.000 MB deduped)\\r'), FloatProgress(value=0.897662…",
      "application/vnd.jupyter.widget-view+json": {
       "version_major": 2,
       "version_minor": 0,
       "model_id": "448cf364156f4c3b95fb1c4a1cad9fd2"
      }
     },
     "metadata": {},
     "output_type": "display_data"
    },
    {
     "data": {
      "text/plain": "<IPython.core.display.HTML object>",
      "text/html": "<style>\n    table.wandb td:nth-child(1) { padding: 0 10px; text-align: right }\n    .wandb-row { display: flex; flex-direction: row; flex-wrap: wrap; width: 100% }\n    .wandb-col { display: flex; flex-direction: column; flex-basis: 100%; flex: 1; padding: 10px; }\n    </style>\n<div class=\"wandb-row\"><div class=\"wandb-col\"><h3>Run history:</h3><br/><table class=\"wandb\"><tr><td>accuracy</td><td>▁</td></tr><tr><td>loss</td><td>▁</td></tr></table><br/></div><div class=\"wandb-col\"><h3>Run summary:</h3><br/><table class=\"wandb\"><tr><td>accuracy</td><td>0.46581</td></tr><tr><td>loss</td><td>0.53419</td></tr></table><br/></div></div>"
     },
     "metadata": {},
     "output_type": "display_data"
    },
    {
     "data": {
      "text/plain": "<IPython.core.display.HTML object>",
      "text/html": "Synced <strong style=\"color:#cdcd00\">driven-sweep-20</strong>: <a href=\"https://wandb.ai/jonathanweske/RandomForestClass/runs/0c2ks51x\" target=\"_blank\">https://wandb.ai/jonathanweske/RandomForestClass/runs/0c2ks51x</a><br/>Synced 5 W&B file(s), 3 media file(s), 2 artifact file(s) and 0 other file(s)"
     },
     "metadata": {},
     "output_type": "display_data"
    },
    {
     "data": {
      "text/plain": "<IPython.core.display.HTML object>",
      "text/html": "Find logs at: <code>./wandb/run-20220402_074425-0c2ks51x/logs</code>"
     },
     "metadata": {},
     "output_type": "display_data"
    },
    {
     "name": "stderr",
     "output_type": "stream",
     "text": [
      "\u001B[34m\u001B[1mwandb\u001B[0m: Agent Starting Run: 47nsppg5 with config:\n",
      "\u001B[34m\u001B[1mwandb\u001B[0m: \tbootstrap: False\n",
      "\u001B[34m\u001B[1mwandb\u001B[0m: \tcriterion: entropy\n",
      "\u001B[34m\u001B[1mwandb\u001B[0m: \tmax_depth: 2\n",
      "\u001B[34m\u001B[1mwandb\u001B[0m: \tmax_features: auto\n",
      "\u001B[34m\u001B[1mwandb\u001B[0m: \tmin_samples_leaf: 14\n",
      "\u001B[34m\u001B[1mwandb\u001B[0m: \tmin_samples_split: 5\n",
      "\u001B[34m\u001B[1mwandb\u001B[0m: \tn_estimators: 64\n"
     ]
    },
    {
     "data": {
      "text/plain": "<IPython.core.display.HTML object>",
      "text/html": "Tracking run with wandb version 0.12.11"
     },
     "metadata": {},
     "output_type": "display_data"
    },
    {
     "data": {
      "text/plain": "<IPython.core.display.HTML object>",
      "text/html": "Run data is saved locally in <code>/Users/jonweske/devment/BA_nextbike/scripts/wandb/run-20220402_080135-47nsppg5</code>"
     },
     "metadata": {},
     "output_type": "display_data"
    },
    {
     "data": {
      "text/plain": "<IPython.core.display.HTML object>",
      "text/html": "Syncing run <strong><a href=\"https://wandb.ai/jonathanweske/RandomForestClass/runs/47nsppg5\" target=\"_blank\">gallant-sweep-21</a></strong> to <a href=\"https://wandb.ai/jonathanweske/RandomForestClass\" target=\"_blank\">Weights & Biases</a> (<a href=\"https://wandb.me/run\" target=\"_blank\">docs</a>)<br/>Sweep page:  <a href=\"https://wandb.ai/jonathanweske/RandomForestClass/sweeps/7aukrm52\" target=\"_blank\">https://wandb.ai/jonathanweske/RandomForestClass/sweeps/7aukrm52</a>"
     },
     "metadata": {},
     "output_type": "display_data"
    },
    {
     "name": "stdout",
     "output_type": "stream",
     "text": [
      "\n"
     ]
    },
    {
     "data": {
      "text/plain": "<IPython.core.display.HTML object>",
      "text/html": "Waiting for W&B process to finish... <strong style=\"color:green\">(success).</strong>"
     },
     "metadata": {},
     "output_type": "display_data"
    },
    {
     "data": {
      "text/plain": "VBox(children=(Label(value='0.003 MB of 0.004 MB uploaded (0.000 MB deduped)\\r'), FloatProgress(value=0.903608…",
      "application/vnd.jupyter.widget-view+json": {
       "version_major": 2,
       "version_minor": 0,
       "model_id": "b0a1fb721782482989ce1ef5d88948f4"
      }
     },
     "metadata": {},
     "output_type": "display_data"
    },
    {
     "data": {
      "text/plain": "<IPython.core.display.HTML object>",
      "text/html": "<style>\n    table.wandb td:nth-child(1) { padding: 0 10px; text-align: right }\n    .wandb-row { display: flex; flex-direction: row; flex-wrap: wrap; width: 100% }\n    .wandb-col { display: flex; flex-direction: column; flex-basis: 100%; flex: 1; padding: 10px; }\n    </style>\n<div class=\"wandb-row\"><div class=\"wandb-col\"><h3>Run history:</h3><br/><table class=\"wandb\"><tr><td>accuracy</td><td>▁</td></tr><tr><td>loss</td><td>▁</td></tr></table><br/></div><div class=\"wandb-col\"><h3>Run summary:</h3><br/><table class=\"wandb\"><tr><td>accuracy</td><td>0.55376</td></tr><tr><td>loss</td><td>0.44624</td></tr></table><br/></div></div>"
     },
     "metadata": {},
     "output_type": "display_data"
    },
    {
     "data": {
      "text/plain": "<IPython.core.display.HTML object>",
      "text/html": "Synced <strong style=\"color:#cdcd00\">gallant-sweep-21</strong>: <a href=\"https://wandb.ai/jonathanweske/RandomForestClass/runs/47nsppg5\" target=\"_blank\">https://wandb.ai/jonathanweske/RandomForestClass/runs/47nsppg5</a><br/>Synced 5 W&B file(s), 3 media file(s), 2 artifact file(s) and 0 other file(s)"
     },
     "metadata": {},
     "output_type": "display_data"
    },
    {
     "data": {
      "text/plain": "<IPython.core.display.HTML object>",
      "text/html": "Find logs at: <code>./wandb/run-20220402_080135-47nsppg5/logs</code>"
     },
     "metadata": {},
     "output_type": "display_data"
    },
    {
     "name": "stderr",
     "output_type": "stream",
     "text": [
      "\u001B[34m\u001B[1mwandb\u001B[0m: Agent Starting Run: votifsvz with config:\n",
      "\u001B[34m\u001B[1mwandb\u001B[0m: \tbootstrap: False\n",
      "\u001B[34m\u001B[1mwandb\u001B[0m: \tcriterion: gini\n",
      "\u001B[34m\u001B[1mwandb\u001B[0m: \tmax_depth: 7\n",
      "\u001B[34m\u001B[1mwandb\u001B[0m: \tmax_features: sqrt\n",
      "\u001B[34m\u001B[1mwandb\u001B[0m: \tmin_samples_leaf: 18\n",
      "\u001B[34m\u001B[1mwandb\u001B[0m: \tmin_samples_split: 20\n",
      "\u001B[34m\u001B[1mwandb\u001B[0m: \tn_estimators: 64\n"
     ]
    },
    {
     "data": {
      "text/plain": "<IPython.core.display.HTML object>",
      "text/html": "Tracking run with wandb version 0.12.11"
     },
     "metadata": {},
     "output_type": "display_data"
    },
    {
     "data": {
      "text/plain": "<IPython.core.display.HTML object>",
      "text/html": "Run data is saved locally in <code>/Users/jonweske/devment/BA_nextbike/scripts/wandb/run-20220402_080416-votifsvz</code>"
     },
     "metadata": {},
     "output_type": "display_data"
    },
    {
     "data": {
      "text/plain": "<IPython.core.display.HTML object>",
      "text/html": "Syncing run <strong><a href=\"https://wandb.ai/jonathanweske/RandomForestClass/runs/votifsvz\" target=\"_blank\">celestial-sweep-22</a></strong> to <a href=\"https://wandb.ai/jonathanweske/RandomForestClass\" target=\"_blank\">Weights & Biases</a> (<a href=\"https://wandb.me/run\" target=\"_blank\">docs</a>)<br/>Sweep page:  <a href=\"https://wandb.ai/jonathanweske/RandomForestClass/sweeps/7aukrm52\" target=\"_blank\">https://wandb.ai/jonathanweske/RandomForestClass/sweeps/7aukrm52</a>"
     },
     "metadata": {},
     "output_type": "display_data"
    },
    {
     "name": "stdout",
     "output_type": "stream",
     "text": [
      "\n"
     ]
    },
    {
     "data": {
      "text/plain": "<IPython.core.display.HTML object>",
      "text/html": "Waiting for W&B process to finish... <strong style=\"color:green\">(success).</strong>"
     },
     "metadata": {},
     "output_type": "display_data"
    },
    {
     "data": {
      "text/plain": "VBox(children=(Label(value='0.003 MB of 0.004 MB uploaded (0.000 MB deduped)\\r'), FloatProgress(value=0.897542…",
      "application/vnd.jupyter.widget-view+json": {
       "version_major": 2,
       "version_minor": 0,
       "model_id": "abc650f35d054478ad6d71f0f82f93a9"
      }
     },
     "metadata": {},
     "output_type": "display_data"
    },
    {
     "data": {
      "text/plain": "<IPython.core.display.HTML object>",
      "text/html": "<style>\n    table.wandb td:nth-child(1) { padding: 0 10px; text-align: right }\n    .wandb-row { display: flex; flex-direction: row; flex-wrap: wrap; width: 100% }\n    .wandb-col { display: flex; flex-direction: column; flex-basis: 100%; flex: 1; padding: 10px; }\n    </style>\n<div class=\"wandb-row\"><div class=\"wandb-col\"><h3>Run history:</h3><br/><table class=\"wandb\"><tr><td>accuracy</td><td>▁</td></tr><tr><td>loss</td><td>▁</td></tr></table><br/></div><div class=\"wandb-col\"><h3>Run summary:</h3><br/><table class=\"wandb\"><tr><td>accuracy</td><td>0.48658</td></tr><tr><td>loss</td><td>0.51342</td></tr></table><br/></div></div>"
     },
     "metadata": {},
     "output_type": "display_data"
    },
    {
     "data": {
      "text/plain": "<IPython.core.display.HTML object>",
      "text/html": "Synced <strong style=\"color:#cdcd00\">celestial-sweep-22</strong>: <a href=\"https://wandb.ai/jonathanweske/RandomForestClass/runs/votifsvz\" target=\"_blank\">https://wandb.ai/jonathanweske/RandomForestClass/runs/votifsvz</a><br/>Synced 5 W&B file(s), 3 media file(s), 2 artifact file(s) and 0 other file(s)"
     },
     "metadata": {},
     "output_type": "display_data"
    },
    {
     "data": {
      "text/plain": "<IPython.core.display.HTML object>",
      "text/html": "Find logs at: <code>./wandb/run-20220402_080416-votifsvz/logs</code>"
     },
     "metadata": {},
     "output_type": "display_data"
    },
    {
     "name": "stderr",
     "output_type": "stream",
     "text": [
      "\u001B[34m\u001B[1mwandb\u001B[0m: Sweep Agent: Waiting for job.\n",
      "\u001B[34m\u001B[1mwandb\u001B[0m: Job received.\n",
      "\u001B[34m\u001B[1mwandb\u001B[0m: Agent Starting Run: 53e9x23o with config:\n",
      "\u001B[34m\u001B[1mwandb\u001B[0m: \tbootstrap: False\n",
      "\u001B[34m\u001B[1mwandb\u001B[0m: \tcriterion: entropy\n",
      "\u001B[34m\u001B[1mwandb\u001B[0m: \tmax_depth: 7\n",
      "\u001B[34m\u001B[1mwandb\u001B[0m: \tmax_features: log2\n",
      "\u001B[34m\u001B[1mwandb\u001B[0m: \tmin_samples_leaf: 25\n",
      "\u001B[34m\u001B[1mwandb\u001B[0m: \tmin_samples_split: 25\n",
      "\u001B[34m\u001B[1mwandb\u001B[0m: \tn_estimators: 256\n"
     ]
    },
    {
     "data": {
      "text/plain": "<IPython.core.display.HTML object>",
      "text/html": "Tracking run with wandb version 0.12.11"
     },
     "metadata": {},
     "output_type": "display_data"
    },
    {
     "data": {
      "text/plain": "<IPython.core.display.HTML object>",
      "text/html": "Run data is saved locally in <code>/Users/jonweske/devment/BA_nextbike/scripts/wandb/run-20220402_081210-53e9x23o</code>"
     },
     "metadata": {},
     "output_type": "display_data"
    },
    {
     "data": {
      "text/plain": "<IPython.core.display.HTML object>",
      "text/html": "Syncing run <strong><a href=\"https://wandb.ai/jonathanweske/RandomForestClass/runs/53e9x23o\" target=\"_blank\">absurd-sweep-23</a></strong> to <a href=\"https://wandb.ai/jonathanweske/RandomForestClass\" target=\"_blank\">Weights & Biases</a> (<a href=\"https://wandb.me/run\" target=\"_blank\">docs</a>)<br/>Sweep page:  <a href=\"https://wandb.ai/jonathanweske/RandomForestClass/sweeps/7aukrm52\" target=\"_blank\">https://wandb.ai/jonathanweske/RandomForestClass/sweeps/7aukrm52</a>"
     },
     "metadata": {},
     "output_type": "display_data"
    },
    {
     "name": "stdout",
     "output_type": "stream",
     "text": [
      "\n"
     ]
    },
    {
     "data": {
      "text/plain": "<IPython.core.display.HTML object>",
      "text/html": "Waiting for W&B process to finish... <strong style=\"color:green\">(success).</strong>"
     },
     "metadata": {},
     "output_type": "display_data"
    },
    {
     "data": {
      "text/plain": "VBox(children=(Label(value='0.003 MB of 0.004 MB uploaded (0.000 MB deduped)\\r'), FloatProgress(value=0.897612…",
      "application/vnd.jupyter.widget-view+json": {
       "version_major": 2,
       "version_minor": 0,
       "model_id": "9662aa2277304d669ad11964798420d2"
      }
     },
     "metadata": {},
     "output_type": "display_data"
    },
    {
     "data": {
      "text/plain": "<IPython.core.display.HTML object>",
      "text/html": "<style>\n    table.wandb td:nth-child(1) { padding: 0 10px; text-align: right }\n    .wandb-row { display: flex; flex-direction: row; flex-wrap: wrap; width: 100% }\n    .wandb-col { display: flex; flex-direction: column; flex-basis: 100%; flex: 1; padding: 10px; }\n    </style>\n<div class=\"wandb-row\"><div class=\"wandb-col\"><h3>Run history:</h3><br/><table class=\"wandb\"><tr><td>accuracy</td><td>▁</td></tr><tr><td>loss</td><td>▁</td></tr></table><br/></div><div class=\"wandb-col\"><h3>Run summary:</h3><br/><table class=\"wandb\"><tr><td>accuracy</td><td>0.48337</td></tr><tr><td>loss</td><td>0.51663</td></tr></table><br/></div></div>"
     },
     "metadata": {},
     "output_type": "display_data"
    },
    {
     "data": {
      "text/plain": "<IPython.core.display.HTML object>",
      "text/html": "Synced <strong style=\"color:#cdcd00\">absurd-sweep-23</strong>: <a href=\"https://wandb.ai/jonathanweske/RandomForestClass/runs/53e9x23o\" target=\"_blank\">https://wandb.ai/jonathanweske/RandomForestClass/runs/53e9x23o</a><br/>Synced 5 W&B file(s), 3 media file(s), 2 artifact file(s) and 0 other file(s)"
     },
     "metadata": {},
     "output_type": "display_data"
    },
    {
     "data": {
      "text/plain": "<IPython.core.display.HTML object>",
      "text/html": "Find logs at: <code>./wandb/run-20220402_081210-53e9x23o/logs</code>"
     },
     "metadata": {},
     "output_type": "display_data"
    },
    {
     "name": "stderr",
     "output_type": "stream",
     "text": [
      "\u001B[34m\u001B[1mwandb\u001B[0m: Agent Starting Run: q4duqr85 with config:\n",
      "\u001B[34m\u001B[1mwandb\u001B[0m: \tbootstrap: False\n",
      "\u001B[34m\u001B[1mwandb\u001B[0m: \tcriterion: gini\n",
      "\u001B[34m\u001B[1mwandb\u001B[0m: \tmax_depth: 2\n",
      "\u001B[34m\u001B[1mwandb\u001B[0m: \tmax_features: log2\n",
      "\u001B[34m\u001B[1mwandb\u001B[0m: \tmin_samples_leaf: 3\n",
      "\u001B[34m\u001B[1mwandb\u001B[0m: \tmin_samples_split: 10\n",
      "\u001B[34m\u001B[1mwandb\u001B[0m: \tn_estimators: 64\n"
     ]
    },
    {
     "data": {
      "text/plain": "<IPython.core.display.HTML object>",
      "text/html": "Tracking run with wandb version 0.12.11"
     },
     "metadata": {},
     "output_type": "display_data"
    },
    {
     "data": {
      "text/plain": "<IPython.core.display.HTML object>",
      "text/html": "Run data is saved locally in <code>/Users/jonweske/devment/BA_nextbike/scripts/wandb/run-20220402_084347-q4duqr85</code>"
     },
     "metadata": {},
     "output_type": "display_data"
    },
    {
     "data": {
      "text/plain": "<IPython.core.display.HTML object>",
      "text/html": "Syncing run <strong><a href=\"https://wandb.ai/jonathanweske/RandomForestClass/runs/q4duqr85\" target=\"_blank\">peachy-sweep-24</a></strong> to <a href=\"https://wandb.ai/jonathanweske/RandomForestClass\" target=\"_blank\">Weights & Biases</a> (<a href=\"https://wandb.me/run\" target=\"_blank\">docs</a>)<br/>Sweep page:  <a href=\"https://wandb.ai/jonathanweske/RandomForestClass/sweeps/7aukrm52\" target=\"_blank\">https://wandb.ai/jonathanweske/RandomForestClass/sweeps/7aukrm52</a>"
     },
     "metadata": {},
     "output_type": "display_data"
    },
    {
     "name": "stdout",
     "output_type": "stream",
     "text": [
      "\n"
     ]
    },
    {
     "data": {
      "text/plain": "<IPython.core.display.HTML object>",
      "text/html": "Waiting for W&B process to finish... <strong style=\"color:green\">(success).</strong>"
     },
     "metadata": {},
     "output_type": "display_data"
    },
    {
     "data": {
      "text/plain": "VBox(children=(Label(value='0.003 MB of 0.004 MB uploaded (0.000 MB deduped)\\r'), FloatProgress(value=0.903559…",
      "application/vnd.jupyter.widget-view+json": {
       "version_major": 2,
       "version_minor": 0,
       "model_id": "ea6bfa7e8e71495c9c1c7b484a10e6b4"
      }
     },
     "metadata": {},
     "output_type": "display_data"
    },
    {
     "data": {
      "text/plain": "<IPython.core.display.HTML object>",
      "text/html": "<style>\n    table.wandb td:nth-child(1) { padding: 0 10px; text-align: right }\n    .wandb-row { display: flex; flex-direction: row; flex-wrap: wrap; width: 100% }\n    .wandb-col { display: flex; flex-direction: column; flex-basis: 100%; flex: 1; padding: 10px; }\n    </style>\n<div class=\"wandb-row\"><div class=\"wandb-col\"><h3>Run history:</h3><br/><table class=\"wandb\"><tr><td>accuracy</td><td>▁</td></tr><tr><td>loss</td><td>▁</td></tr></table><br/></div><div class=\"wandb-col\"><h3>Run summary:</h3><br/><table class=\"wandb\"><tr><td>accuracy</td><td>0.54595</td></tr><tr><td>loss</td><td>0.45405</td></tr></table><br/></div></div>"
     },
     "metadata": {},
     "output_type": "display_data"
    },
    {
     "data": {
      "text/plain": "<IPython.core.display.HTML object>",
      "text/html": "Synced <strong style=\"color:#cdcd00\">peachy-sweep-24</strong>: <a href=\"https://wandb.ai/jonathanweske/RandomForestClass/runs/q4duqr85\" target=\"_blank\">https://wandb.ai/jonathanweske/RandomForestClass/runs/q4duqr85</a><br/>Synced 5 W&B file(s), 3 media file(s), 2 artifact file(s) and 0 other file(s)"
     },
     "metadata": {},
     "output_type": "display_data"
    },
    {
     "data": {
      "text/plain": "<IPython.core.display.HTML object>",
      "text/html": "Find logs at: <code>./wandb/run-20220402_084347-q4duqr85/logs</code>"
     },
     "metadata": {},
     "output_type": "display_data"
    },
    {
     "name": "stderr",
     "output_type": "stream",
     "text": [
      "\u001B[34m\u001B[1mwandb\u001B[0m: Sweep Agent: Waiting for job.\n",
      "\u001B[34m\u001B[1mwandb\u001B[0m: Job received.\n",
      "\u001B[34m\u001B[1mwandb\u001B[0m: Agent Starting Run: qvfsz5u1 with config:\n",
      "\u001B[34m\u001B[1mwandb\u001B[0m: \tbootstrap: True\n",
      "\u001B[34m\u001B[1mwandb\u001B[0m: \tcriterion: entropy\n",
      "\u001B[34m\u001B[1mwandb\u001B[0m: \tmax_depth: 90\n",
      "\u001B[34m\u001B[1mwandb\u001B[0m: \tmax_features: auto\n",
      "\u001B[34m\u001B[1mwandb\u001B[0m: \tmin_samples_leaf: 10\n",
      "\u001B[34m\u001B[1mwandb\u001B[0m: \tmin_samples_split: 8\n",
      "\u001B[34m\u001B[1mwandb\u001B[0m: \tn_estimators: 256\n"
     ]
    },
    {
     "data": {
      "text/plain": "<IPython.core.display.HTML object>",
      "text/html": "Tracking run with wandb version 0.12.11"
     },
     "metadata": {},
     "output_type": "display_data"
    },
    {
     "data": {
      "text/plain": "<IPython.core.display.HTML object>",
      "text/html": "Run data is saved locally in <code>/Users/jonweske/devment/BA_nextbike/scripts/wandb/run-20220402_084635-qvfsz5u1</code>"
     },
     "metadata": {},
     "output_type": "display_data"
    },
    {
     "data": {
      "text/plain": "<IPython.core.display.HTML object>",
      "text/html": "Syncing run <strong><a href=\"https://wandb.ai/jonathanweske/RandomForestClass/runs/qvfsz5u1\" target=\"_blank\">rich-sweep-25</a></strong> to <a href=\"https://wandb.ai/jonathanweske/RandomForestClass\" target=\"_blank\">Weights & Biases</a> (<a href=\"https://wandb.me/run\" target=\"_blank\">docs</a>)<br/>Sweep page:  <a href=\"https://wandb.ai/jonathanweske/RandomForestClass/sweeps/7aukrm52\" target=\"_blank\">https://wandb.ai/jonathanweske/RandomForestClass/sweeps/7aukrm52</a>"
     },
     "metadata": {},
     "output_type": "display_data"
    },
    {
     "name": "stderr",
     "output_type": "stream",
     "text": [
      "\u001B[34m\u001B[1mwandb\u001B[0m: Ctrl + C detected. Stopping sweep.\n"
     ]
    }
   ],
   "source": [
    "from sklearn.metrics import zero_one_loss, accuracy_score\n",
    "from sklearn.model_selection import cross_validate, cross_val_score, GridSearchCV\n",
    "from sklearn.ensemble import RandomForestClassifier\n",
    "import wandb\n",
    "import wandb\n",
    "\n",
    "sweep_configuration_rfc = {\n",
    "    \"project\": \"RandomForestClass\",\n",
    "    \"name\": \"my-awesome-sweep\",\n",
    "    \"metric\": {\"name\": \"accuracy\", \"goal\": \"maximize\"},\n",
    "    \"method\": \"random\",\n",
    "    \"parameters\": {\n",
    "        \"n_estimators\": {\n",
    "            \"values\": [8, 16, 32, 64, 128, 256]\n",
    "        },\n",
    "        \"criterion\": {\n",
    "            \"values\": ['entropy','gini']\n",
    "        },\n",
    "        \"max_depth\": {\n",
    "            \"values\": [2, 3, 4, 5, 6, 7, 8, 9, 10, 20, 30, 40, 50, 60, 70, 80, 90, 100, 120, 140, 160, 180, 200, None]\n",
    "        },\n",
    "        \"bootstrap\": {\n",
    "            \"values\": [True, False]\n",
    "        },\n",
    "        \"max_features\": {\n",
    "            \"values\": ['auto', 'sqrt', 'log2']\n",
    "        },\n",
    "        \"min_samples_leaf\": {\n",
    "            \"values\": [1, 2, 3, 4, 5, 6, 7, 8, 9, 10, 12, 14, 16, 18, 20, 25, 30]\n",
    "        },\n",
    "        \"min_samples_split\": {\n",
    "            \"values\": [2, 3, 4, 5, 6, 7, 8, 9, 10, 11, 13, 15, 18, 20, 25, 30]\n",
    "        }\n",
    "    }\n",
    "}\n",
    "\n",
    "def my_train_func():\n",
    "    wandb.init()\n",
    "\n",
    "    _n_estimators = wandb.config.n_estimators\n",
    "    _criterion = wandb.config.criterion\n",
    "    _max_depth = wandb.config.max_depth\n",
    "    _bootstrap = wandb.config.bootstrap\n",
    "    _max_features = wandb.config.max_features\n",
    "    _min_samples_leaf = wandb.config.min_samples_leaf\n",
    "    _min_samples_split = wandb.config.min_samples_split\n",
    "\n",
    "    model = RandomForestClassifier(n_estimators=_n_estimators,\n",
    "                                   criterion=_criterion,\n",
    "                                   max_depth=_max_depth,\n",
    "                                   bootstrap=_bootstrap,\n",
    "                                   max_features=_max_features,\n",
    "                                   min_samples_leaf=_min_samples_leaf,\n",
    "                                   min_samples_split=_min_samples_split)\n",
    "\n",
    "    model.fit(X_train,y_train.ravel())\n",
    "    y_pred = model.predict(X_test)\n",
    "\n",
    "    acc = zero_one_loss(y_test.ravel(), y_pred.ravel())\n",
    "    loss = accuracy_score(y_test.ravel(), y_pred.ravel())\n",
    "\n",
    "    wandb.sklearn.plot_feature_importances(model, Predictors)\n",
    "\n",
    "    wandb.log({\"accuracy\": acc})\n",
    "    wandb.log({\"conf_matrix\": wandb.plot.confusion_matrix(y_true=y_test.ravel(), preds=y_pred.ravel())})\n",
    "    wandb.log({\"feature_imp\": wandb.sklearn.plot_feature_importances(model, Predictors)})\n",
    "    wandb.log({\"loss\": loss})\n",
    "\n",
    "\n",
    "# INIT SWEEP\n",
    "sweep_id_rfc = wandb.sweep(sweep_configuration_rfc, project=\"RandomForestClass\")\n",
    "# RUN SWEEP\n",
    "wandb.agent(sweep_id_rfc, function=my_train_func)\n"
   ],
   "metadata": {
    "collapsed": false,
    "pycharm": {
     "name": "#%%\n"
    }
   }
  },
  {
   "cell_type": "code",
   "execution_count": 7,
   "outputs": [
    {
     "data": {
      "text/plain": "array([4, 2, 2, ..., 2, 1, 4])"
     },
     "execution_count": 7,
     "metadata": {},
     "output_type": "execute_result"
    }
   ],
   "source": [],
   "metadata": {
    "collapsed": false,
    "pycharm": {
     "name": "#%%\n"
    }
   }
  },
  {
   "cell_type": "markdown",
   "source": [
    "#### CV cross_validate()\n",
    "Mean Absolute Error:     0.672 +/- 0.019\n",
    "Root Mean Squared Error: 1.057 +/- 0.016\n",
    "\n",
    "#### cross_val_score\n",
    "[0.49957698 0.53019349 0.54551058 0.49902538]\n",
    "Accuracy of Model with Cross Validation is: 51.85766080195356"
   ],
   "metadata": {
    "collapsed": false
   }
  },
  {
   "cell_type": "code",
   "execution_count": null,
   "outputs": [],
   "source": [],
   "metadata": {
    "collapsed": false,
    "pycharm": {
     "name": "#%%\n"
    }
   }
  }
 ],
 "metadata": {
  "kernelspec": {
   "display_name": "Python 3",
   "language": "python",
   "name": "python3"
  },
  "language_info": {
   "codemirror_mode": {
    "name": "ipython",
    "version": 2
   },
   "file_extension": ".py",
   "mimetype": "text/x-python",
   "name": "python",
   "nbconvert_exporter": "python",
   "pygments_lexer": "ipython2",
   "version": "2.7.6"
  }
 },
 "nbformat": 4,
 "nbformat_minor": 0
}