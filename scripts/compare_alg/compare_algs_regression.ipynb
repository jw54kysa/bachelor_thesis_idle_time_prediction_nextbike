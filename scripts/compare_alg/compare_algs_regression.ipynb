{
 "cells": [
  {
   "cell_type": "code",
   "execution_count": 1,
   "outputs": [],
   "source": [
    "import pandas as pd\n",
    "from sklearn.preprocessing import StandardScaler\n",
    "from sklearn.metrics import r2_score, mean_squared_error, mean_absolute_error\n",
    "from sklearn.model_selection import train_test_split\n",
    "import wandb"
   ],
   "metadata": {
    "collapsed": false,
    "pycharm": {
     "name": "#%%\n"
    }
   }
  },
  {
   "cell_type": "code",
   "execution_count": 2,
   "outputs": [],
   "source": [
    "idle_time_data = pd.read_csv('../../data/final_df_points_18_21_class.csv')\n",
    "\n",
    "TargetVariable = ['idle_time']\n",
    "Predictors = ['bike_id', 'lat', 'lng', 'temp', 'rain', 'snow', 'wind_speed', 'humidity', 'dt_start',\n",
    "              'hex_enc', 'start_min', 'year', 'month', 'day', 'on_station', 'in_zone', 'zone_name_enc']\n",
    "\n",
    "X = idle_time_data[Predictors].values\n",
    "y = idle_time_data[TargetVariable].values\n",
    "\n",
    "PredictorScaler = StandardScaler()\n",
    "PredictorScalerFit = PredictorScaler.fit(X)\n",
    "X = PredictorScalerFit.transform(X)\n",
    "\n",
    "#TargetScaler = StandardScaler()\n",
    "#TargetScalerFit = TargetScaler.fit(y)\n",
    "#y = TargetScalerFit.transform(y)\n",
    "\n",
    "X_train, X_test, y_train, y_test = train_test_split(X, y, train_size=0.9, shuffle=False)"
   ],
   "metadata": {
    "collapsed": false,
    "pycharm": {
     "name": "#%%\n"
    }
   }
  },
  {
   "cell_type": "code",
   "execution_count": 3,
   "outputs": [
    {
     "name": "stdout",
     "output_type": "stream",
     "text": [
      "(2289447, 17)\n",
      "(2289447, 1)\n",
      "(254383, 17)\n",
      "(254383, 1)\n"
     ]
    }
   ],
   "source": [
    "print(X_train.shape)\n",
    "print(y_train.shape)\n",
    "print(X_test.shape)\n",
    "print(y_test.shape)"
   ],
   "metadata": {
    "collapsed": false,
    "pycharm": {
     "name": "#%%\n"
    }
   }
  },
  {
   "cell_type": "code",
   "execution_count": null,
   "outputs": [],
   "source": [
    "from numpy import sqrt\n",
    "\n",
    "\n",
    "def eval_regression(y_test,y_pred):\n",
    "    # Metrics\n",
    "    # r2, mae, mse, rmse\n",
    "    r2 = r2_score(y_test, y_pred.ravel())\n",
    "    mae = mean_absolute_error(y_test, y_pred.ravel())\n",
    "    mse = mean_squared_error(y_test, y_pred.ravel())\n",
    "    rmse = sqrt(mse)\n",
    "\n",
    "    print('r2: %f' % r2)\n",
    "    #print('mae: %f' % mae)\n",
    "    #print('mse: %f' % mse)\n",
    "    #print('rmse: %f' % rmse)\n",
    "\n",
    "    return r2, mse, rmse, mae"
   ],
   "metadata": {
    "collapsed": false,
    "pycharm": {
     "name": "#%%\n"
    }
   }
  },
  {
   "cell_type": "code",
   "execution_count": null,
   "outputs": [],
   "source": [
    "from sklearn.tree import DecisionTreeRegressor\n",
    "from matplotlib import pyplot as plt\n",
    "from sklearn.linear_model import LinearRegression, SGDRegressor\n",
    "from sklearn.neural_network import MLPRegressor\n",
    "from sklearn.neighbors import KNeighborsRegressor\n",
    "from sklearn.ensemble import RandomForestRegressor, GradientBoostingRegressor\n",
    "from sklearn.svm import SVR\n",
    "\n",
    "import os\n",
    "\n",
    "# Spot Check Algorithms\n",
    "models = []\n",
    "models.append(('LR', LinearRegression()))\n",
    "models.append(('DT', DecisionTreeRegressor()))\n",
    "models.append(('RF', RandomForestRegressor(n_estimators = 100)))\n",
    "models.append(('GTB', GradientBoostingRegressor()))\n",
    "\n",
    "models.append(('MLP', MLPRegressor(hidden_layer_sizes=(128,64))))\n",
    "models.append(('SGD', SGDRegressor()))\n",
    "models.append(('SVR', SVR()))\n",
    "models.append(('KNN', KNeighborsRegressor()))\n",
    "\n",
    "# Evaluate each model in turn\n",
    "results = []\n",
    "names = []\n",
    "for name, model in models:\n",
    "    os.environ[\"WANDB_SILENT\"] = \"true\"\n",
    "    run = wandb.init(reinit=True,project='Compare-Algorithms')\n",
    "\n",
    "    model.fit(X_train, y_train.ravel())\n",
    "    y_pred = model.predict(X_test)\n",
    "\n",
    "    print(name)\n",
    "    r2, mse, rmse, mae =eval_regression(y_test, y_pred)\n",
    "    wandb.log({\"R2_Score\": r2, \"MSE\": mse, \"RMSE\": rmse, \"MAE\" : mae, \"Modell\": name})\n",
    "\n",
    "    run.finish()\n",
    "\n",
    "# Compare Algorithms\n",
    "plt.boxplot(results, labels=names)\n",
    "plt.title('Algorithm Comparison Regression')\n",
    "plt.show()"
   ],
   "metadata": {
    "collapsed": false,
    "pycharm": {
     "name": "#%%\n",
     "is_executing": true
    }
   }
  },
  {
   "cell_type": "code",
   "execution_count": 4,
   "outputs": [],
   "source": [],
   "metadata": {
    "collapsed": false,
    "pycharm": {
     "name": "#%%\n"
    }
   }
  }
 ],
 "metadata": {
  "kernelspec": {
   "display_name": "Python 3",
   "language": "python",
   "name": "python3"
  },
  "language_info": {
   "codemirror_mode": {
    "name": "ipython",
    "version": 2
   },
   "file_extension": ".py",
   "mimetype": "text/x-python",
   "name": "python",
   "nbconvert_exporter": "python",
   "pygments_lexer": "ipython2",
   "version": "2.7.6"
  }
 },
 "nbformat": 4,
 "nbformat_minor": 0
}