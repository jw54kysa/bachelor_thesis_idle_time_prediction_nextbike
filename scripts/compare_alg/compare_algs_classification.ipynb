{
 "cells": [
  {
   "cell_type": "code",
   "execution_count": 1,
   "outputs": [],
   "source": [
    "import pandas as pd\n",
    "from sklearn.preprocessing import StandardScaler\n",
    "from sklearn.metrics import r2_score, mean_squared_error, mean_absolute_error\n",
    "from sklearn.model_selection import train_test_split\n",
    "import wandb"
   ],
   "metadata": {
    "collapsed": false,
    "pycharm": {
     "name": "#%%\n"
    }
   }
  },
  {
   "cell_type": "code",
   "execution_count": 2,
   "outputs": [],
   "source": [
    "idle_time_data = pd.read_csv('../../data/final_df_points_18_21_class.csv')\n",
    "\n",
    "TargetVariable = ['idle_time_class']\n",
    "Predictors = ['bike_id', 'lat', 'lng', 'temp', 'rain', 'snow', 'wind_speed', 'humidity', 'dt_start',\n",
    "              'hex_enc', 'start_min', 'year', 'month', 'day', 'on_station', 'in_zone', 'zone_name_enc']\n",
    "\n",
    "X = idle_time_data[Predictors].values\n",
    "y = idle_time_data[TargetVariable].values\n",
    "\n",
    "PredictorScaler = StandardScaler()\n",
    "PredictorScalerFit = PredictorScaler.fit(X)\n",
    "X = PredictorScalerFit.transform(X)\n",
    "\n",
    "#TargetScaler = StandardScaler()\n",
    "#TargetScalerFit = TargetScaler.fit(y)\n",
    "#y = TargetScalerFit.transform(y)\n",
    "\n",
    "X_train, X_test, y_train, y_test = train_test_split(X, y, train_size=0.9, shuffle=False)"
   ],
   "metadata": {
    "collapsed": false,
    "pycharm": {
     "name": "#%%\n"
    }
   }
  },
  {
   "cell_type": "code",
   "execution_count": 3,
   "outputs": [
    {
     "name": "stdout",
     "output_type": "stream",
     "text": [
      "X_train:  (2289447, 17)\n",
      "y_train:  (2289447, 1)\n",
      "X_test:  (254383, 17)\n",
      "y_test:  (254383, 1)\n"
     ]
    }
   ],
   "source": [
    "print('X_train: ',X_train.shape)\n",
    "print('y_train: ',y_train.shape)\n",
    "print('X_test: ',X_test.shape)\n",
    "print('y_test: ',y_test.shape)"
   ],
   "metadata": {
    "collapsed": false,
    "pycharm": {
     "name": "#%%\n"
    }
   }
  },
  {
   "cell_type": "code",
   "execution_count": 6,
   "outputs": [],
   "source": [
    "from sklearn.metrics import accuracy_score, precision_score, recall_score, f1_score\n",
    "\n",
    "\n",
    "def eval_classification(y_test,y_pred,labels):\n",
    "    # Metrics\n",
    "    acc = accuracy_score(y_test, y_pred.ravel())\n",
    "    macro_precision = precision_score(y_test.ravel(), y_pred.ravel(), average='macro', labels=labels)\n",
    "    macro_recall = recall_score(y_test.ravel(), y_pred.ravel(), average='macro', labels=labels)\n",
    "\n",
    "    macro_f1 = f1_score(y_test.ravel(), y_pred.ravel(), average='macro', labels=labels)\n",
    "\n",
    "    print('accuracy: %f' % acc)\n",
    "    print('macro_precision: %f' % macro_precision)\n",
    "    print('macro_recall: %f' % macro_recall)\n",
    "    print('macro_f1: %f' % macro_f1)\n",
    "\n",
    "    return acc, macro_precision, macro_recall, macro_f1"
   ],
   "metadata": {
    "collapsed": false,
    "pycharm": {
     "name": "#%%\n"
    }
   }
  },
  {
   "cell_type": "code",
   "execution_count": null,
   "outputs": [],
   "source": [
    "from sklearn.svm import SVC\n",
    "from sklearn.neural_network import MLPClassifier\n",
    "from sklearn.ensemble import GradientBoostingClassifier\n",
    "from sklearn.tree import DecisionTreeClassifier\n",
    "from sklearn.neighbors import KNeighborsClassifier\n",
    "from sklearn.linear_model import SGDClassifier\n",
    "\n",
    "# Spot Check Algorithms\n",
    "models = []\n",
    "models.append(('SDG', SGDClassifier()))\n",
    "models.append(('GB', GradientBoostingClassifier()))\n",
    "models.append(('KN', KNeighborsClassifier()))\n",
    "models.append(('DT', DecisionTreeClassifier()))\n",
    "models.append(('MLP', MLPClassifier()))\n",
    "models.append(('SVC', SVC(decision_function_shape='ovo')))\n",
    "\n",
    "results = []\n",
    "names = []\n",
    "for name, model in models:\n",
    "\n",
    "    run = wandb.init(reinit=True,project='Compare-Algorithms-Classification')\n",
    "\n",
    "    model.fit(X_train, y_train.ravel())\n",
    "    y_pred = model.predict(X_test)\n",
    "\n",
    "    acc, macro_precision, macro_recall, macro_f1 = eval_classification(y_test, y_pred)\n",
    "\n",
    "    wandb.log({\"accuracy\": acc})\n",
    "    wandb.log({\"macro_precision\": macro_precision})\n",
    "    wandb.log({\"macro_recall\": macro_recall})\n",
    "    wandb.log({\"macro_f1\": macro_f1})\n",
    "\n",
    "    run.finish()\n"
   ],
   "metadata": {
    "collapsed": false,
    "pycharm": {
     "name": "#%%\n"
    }
   }
  }
 ],
 "metadata": {
  "kernelspec": {
   "display_name": "Python 3",
   "language": "python",
   "name": "python3"
  },
  "language_info": {
   "codemirror_mode": {
    "name": "ipython",
    "version": 2
   },
   "file_extension": ".py",
   "mimetype": "text/x-python",
   "name": "python",
   "nbconvert_exporter": "python",
   "pygments_lexer": "ipython2",
   "version": "2.7.6"
  }
 },
 "nbformat": 4,
 "nbformat_minor": 0
}