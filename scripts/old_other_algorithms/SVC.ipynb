{
 "cells": [
  {
   "cell_type": "code",
   "execution_count": 1,
   "metadata": {},
   "outputs": [],
   "source": [
    "from sklearn.preprocessing import StandardScaler\n",
    "import pandas as pd\n",
    "\n",
    "idle_time_data = pd.read_csv('../data/df_points/df_points_18_21_class.csv')\n",
    "TargetVariable = ['idle_time_class']\n",
    "Predictors = ['bike_id', 'lat', 'lng', 'temp', 'rain', 'snow', 'dt_start', 'hex_enc', 'start_min', 'month', 'day']\n",
    "\n",
    "X = idle_time_data[Predictors].values\n",
    "y = idle_time_data[TargetVariable].values\n",
    "\n",
    "PredictorScaler=StandardScaler()\n",
    "PredictorScalerFit=PredictorScaler.fit(X)\n",
    "X=PredictorScalerFit.transform(X)\n",
    "\n",
    "from sklearn.model_selection import train_test_split\n",
    "\n",
    "X_train, X_test, y_train, y_test = train_test_split(X, y, train_size=0.9,)\n",
    "# , random_state=42"
   ]
  },
  {
   "cell_type": "code",
   "execution_count": 2,
   "metadata": {},
   "outputs": [],
   "source": [
    "from sklearn.model_selection import TimeSeriesSplit\n",
    "\n",
    "ts_cv = TimeSeriesSplit(n_splits=4,max_train_size=10000)"
   ]
  },
  {
   "cell_type": "code",
   "execution_count": null,
   "metadata": {
    "pycharm": {
     "name": "#%%\n",
     "is_executing": true
    }
   },
   "outputs": [],
   "source": [
    "from sklearn.multiclass import OneVsRestClassifier\n",
    "from sklearn.metrics import zero_one_loss, accuracy_score, roc_auc_score, f1_score\n",
    "from sklearn.model_selection import cross_validate, cross_val_score, GridSearchCV\n",
    "from sklearn.svm import SVC\n",
    "from time import perf_counter\n",
    "import wandb\n",
    "\n",
    "sweep_configuration_rfc = {\n",
    "    \"project\": \"SVC\",\n",
    "    \"name\": \"SVC-sweep-CV\",\n",
    "    \"metric\": {\"name\": \"accuracy\", \"goal\": \"maximize\"},\n",
    "    \"method\": \"random\",\n",
    "    \"parameters\": {\n",
    "        \"C\": {\n",
    "            \"values\": [0.6, 0.8, 1.0, 1.2, 1.4]\n",
    "        },\n",
    "        \"kernel\": {\n",
    "            \"values\": ['linear','poly','rbf','sigmoid','precomputed']\n",
    "        },\n",
    "        \"degree\": {\n",
    "            \"values\": [2,3,4,5]\n",
    "        },\n",
    "        \"gamma\": {\n",
    "            \"values\": ['scale', 'auto']\n",
    "        },\n",
    "        \"decision_function_shape\": {\n",
    "            \"values\": ['ovr']\n",
    "        }\n",
    "    }\n",
    "}\n",
    "\n",
    "def my_train_func():\n",
    "    t1_start = perf_counter()\n",
    "    wandb.init()\n",
    "\n",
    "    _C = wandb.config.C\n",
    "    _kernel = wandb.config.kernel\n",
    "    _degree = wandb.config.degree\n",
    "    _gamma = wandb.config.gamma\n",
    "    _decision_function_shape=wandb.config.decision_function_shape\n",
    "\n",
    "    model = SVC(C=_C,\n",
    "                kernel=_kernel,\n",
    "                degree=_degree,\n",
    "                gamma=_gamma,\n",
    "                decision_function_shape=_decision_function_shape,\n",
    "                shrinking=True,\n",
    "                verbose=True\n",
    "                )\n",
    "\n",
    "    clsf = OneVsRestClassifier(model)\n",
    "    cv_res = cross_val_score(clsf,X_train,y_train,cv = ts_cv, scoring='accuracy')\n",
    "    wandb.log({\"cv_res\": cv_res})\n",
    "\n",
    "    t1_stop = perf_counter()\n",
    "    wandb.log({\"process_time\": t1_stop-t1_start})\n",
    "\n",
    "# INIT SWEEP\n",
    "sweep_id_svc = wandb.sweep(sweep_configuration_rfc, project=\"SVC\")\n",
    "# RUN SWEEP\n",
    "wandb.agent(sweep_id_svc, function=my_train_func)"
   ]
  },
  {
   "cell_type": "code",
   "execution_count": null,
   "metadata": {
    "pycharm": {
     "is_executing": true
    }
   },
   "outputs": [],
   "source": [
    "wandb.finish()"
   ]
  },
  {
   "cell_type": "markdown",
   "metadata": {
    "pycharm": {
     "name": "#%%\n"
    }
   },
   "source": [
    "from sklearn.multiclass import OneVsRestClassifier\n",
    "from sklearn.metrics import zero_one_loss, accuracy_score, roc_auc_score, f1_score\n",
    "from sklearn.model_selection import cross_validate, cross_val_score, GridSearchCV\n",
    "from sklearn.svm import SVC\n",
    "from time import perf_counter\n",
    "\n",
    "t1_start = perf_counter()\n",
    "\n",
    "model = SVC(verbose=True,decision_function_shape='ovr')\n",
    "\n",
    "clsf = OneVsRestClassifier(model)\n",
    "print('train...')\n",
    "clsf.fit(X_train[:100000],y_train[:100000].ravel())\n",
    "print('predicting...')\n",
    "y_pred = clsf.predict(X_test[:100000])\n",
    "\n",
    "acc = accuracy_score(y_test[:100000].ravel(), y_pred[:100000].ravel())\n",
    "\n",
    "print('acc: ',acc)\n",
    "\n",
    "t1_stop = perf_counter()\n",
    "print('program time: ',t1_stop-t1_start)"
   ]
  },
  {
   "cell_type": "code",
   "execution_count": null,
   "metadata": {},
   "outputs": [],
   "source": []
  }
 ],
 "metadata": {
  "kernelspec": {
   "display_name": "Python 3 (ipykernel)",
   "language": "python",
   "name": "python3"
  },
  "language_info": {
   "codemirror_mode": {
    "name": "ipython",
    "version": 3
   },
   "file_extension": ".py",
   "mimetype": "text/x-python",
   "name": "python",
   "nbconvert_exporter": "python",
   "pygments_lexer": "ipython3",
   "version": "3.9.7"
  }
 },
 "nbformat": 4,
 "nbformat_minor": 1
}