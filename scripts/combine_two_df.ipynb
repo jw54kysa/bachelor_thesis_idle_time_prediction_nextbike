{
 "cells": [
  {
   "cell_type": "markdown",
   "source": [
    "# Combine all df_points to one df\n",
    "2018-2021: 2.547.157 rows"
   ],
   "metadata": {
    "collapsed": false
   }
  },
  {
   "cell_type": "code",
   "execution_count": 1,
   "id": "7c0ed7fd",
   "metadata": {},
   "outputs": [],
   "source": [
    "import pandas as pd"
   ]
  },
  {
   "cell_type": "code",
   "execution_count": 3,
   "outputs": [
    {
     "data": {
      "text/plain": "array([ 0.1       ,  0.31622777,  1.        ,  3.16227766, 10.        ])"
     },
     "execution_count": 3,
     "metadata": {},
     "output_type": "execute_result"
    }
   ],
   "source": [
    "import numpy as np\n",
    "alphas = np.logspace(-1, 1, 5)\n",
    "alphas"
   ],
   "metadata": {
    "collapsed": false,
    "pycharm": {
     "name": "#%%\n"
    }
   }
  },
  {
   "cell_type": "code",
   "execution_count": 2,
   "id": "06baff0c",
   "metadata": {},
   "outputs": [],
   "source": [
    "dfa = pd.read_csv('../data/df_points/df_points_2018.csv')\n",
    "dfb = pd.read_csv('../data/df_points/df_points_2019.csv')\n",
    "dfc = pd.read_csv('../data/df_points/df_points_2020.csv')\n",
    "dfd = pd.read_csv('../data/df_points/df_points_2021.csv')"
   ]
  },
  {
   "cell_type": "code",
   "execution_count": 3,
   "id": "95c2e623",
   "metadata": {},
   "outputs": [],
   "source": [
    "combined = pd.concat([dfa, dfb, dfc, dfd], ignore_index=True)"
   ]
  },
  {
   "cell_type": "code",
   "execution_count": 4,
   "id": "6a74f795",
   "metadata": {},
   "outputs": [
    {
     "data": {
      "text/plain": "         bike_id        lat        lng    dt_start      dt_end  \\\n2547153    97516  51.324615  12.336922  1633737600  1633823999   \n2547154    97516  51.324615  12.336922  1633824000  1633910399   \n2547155    97516  51.324615  12.336922  1633910400  1633996799   \n2547156    97516  51.324615  12.336922  1633996800  1634083199   \n2547157    97516  51.324615  12.336922  1634083200  1634148977   \n\n                  hex_id  hex_enc  temp  rain  snow  month  day  start_min  \\\n2547153  881f1a8d91fffff      226  5.64   0.0   0.0     10    5          0   \n2547154  881f1a8d91fffff      226  4.00   0.0   0.0     10    6          0   \n2547155  881f1a8d91fffff      226  4.59   0.0   0.0     10    0          0   \n2547156  881f1a8d91fffff      226  8.17   0.0   0.0     10    1          0   \n2547157  881f1a8d91fffff      226  6.03   0.0   0.0     10    2          0   \n\n         over_night  idle_time_next_day  idle_time  \n2547153           1                1439       1439  \n2547154           1                1439       1439  \n2547155           1                1439       1439  \n2547156           1                1096       1439  \n2547157           0                   0       1096  ",
      "text/html": "<div>\n<style scoped>\n    .dataframe tbody tr th:only-of-type {\n        vertical-align: middle;\n    }\n\n    .dataframe tbody tr th {\n        vertical-align: top;\n    }\n\n    .dataframe thead th {\n        text-align: right;\n    }\n</style>\n<table border=\"1\" class=\"dataframe\">\n  <thead>\n    <tr style=\"text-align: right;\">\n      <th></th>\n      <th>bike_id</th>\n      <th>lat</th>\n      <th>lng</th>\n      <th>dt_start</th>\n      <th>dt_end</th>\n      <th>hex_id</th>\n      <th>hex_enc</th>\n      <th>temp</th>\n      <th>rain</th>\n      <th>snow</th>\n      <th>month</th>\n      <th>day</th>\n      <th>start_min</th>\n      <th>over_night</th>\n      <th>idle_time_next_day</th>\n      <th>idle_time</th>\n    </tr>\n  </thead>\n  <tbody>\n    <tr>\n      <th>2547153</th>\n      <td>97516</td>\n      <td>51.324615</td>\n      <td>12.336922</td>\n      <td>1633737600</td>\n      <td>1633823999</td>\n      <td>881f1a8d91fffff</td>\n      <td>226</td>\n      <td>5.64</td>\n      <td>0.0</td>\n      <td>0.0</td>\n      <td>10</td>\n      <td>5</td>\n      <td>0</td>\n      <td>1</td>\n      <td>1439</td>\n      <td>1439</td>\n    </tr>\n    <tr>\n      <th>2547154</th>\n      <td>97516</td>\n      <td>51.324615</td>\n      <td>12.336922</td>\n      <td>1633824000</td>\n      <td>1633910399</td>\n      <td>881f1a8d91fffff</td>\n      <td>226</td>\n      <td>4.00</td>\n      <td>0.0</td>\n      <td>0.0</td>\n      <td>10</td>\n      <td>6</td>\n      <td>0</td>\n      <td>1</td>\n      <td>1439</td>\n      <td>1439</td>\n    </tr>\n    <tr>\n      <th>2547155</th>\n      <td>97516</td>\n      <td>51.324615</td>\n      <td>12.336922</td>\n      <td>1633910400</td>\n      <td>1633996799</td>\n      <td>881f1a8d91fffff</td>\n      <td>226</td>\n      <td>4.59</td>\n      <td>0.0</td>\n      <td>0.0</td>\n      <td>10</td>\n      <td>0</td>\n      <td>0</td>\n      <td>1</td>\n      <td>1439</td>\n      <td>1439</td>\n    </tr>\n    <tr>\n      <th>2547156</th>\n      <td>97516</td>\n      <td>51.324615</td>\n      <td>12.336922</td>\n      <td>1633996800</td>\n      <td>1634083199</td>\n      <td>881f1a8d91fffff</td>\n      <td>226</td>\n      <td>8.17</td>\n      <td>0.0</td>\n      <td>0.0</td>\n      <td>10</td>\n      <td>1</td>\n      <td>0</td>\n      <td>1</td>\n      <td>1096</td>\n      <td>1439</td>\n    </tr>\n    <tr>\n      <th>2547157</th>\n      <td>97516</td>\n      <td>51.324615</td>\n      <td>12.336922</td>\n      <td>1634083200</td>\n      <td>1634148977</td>\n      <td>881f1a8d91fffff</td>\n      <td>226</td>\n      <td>6.03</td>\n      <td>0.0</td>\n      <td>0.0</td>\n      <td>10</td>\n      <td>2</td>\n      <td>0</td>\n      <td>0</td>\n      <td>0</td>\n      <td>1096</td>\n    </tr>\n  </tbody>\n</table>\n</div>"
     },
     "execution_count": 4,
     "metadata": {},
     "output_type": "execute_result"
    }
   ],
   "source": [
    "combined.tail()"
   ]
  },
  {
   "cell_type": "code",
   "execution_count": 5,
   "id": "9071190b",
   "metadata": {
    "pycharm": {
     "name": "#%%\n"
    }
   },
   "outputs": [],
   "source": [
    "combined.to_csv('../data/final_df_points_18_21.csv', index=False)"
   ]
  }
 ],
 "metadata": {
  "kernelspec": {
   "display_name": "Python 3 (ipykernel)",
   "language": "python",
   "name": "python3"
  },
  "language_info": {
   "codemirror_mode": {
    "name": "ipython",
    "version": 3
   },
   "file_extension": ".py",
   "mimetype": "text/x-python",
   "name": "python",
   "nbconvert_exporter": "python",
   "pygments_lexer": "ipython3",
   "version": "3.9.7"
  }
 },
 "nbformat": 4,
 "nbformat_minor": 5
}