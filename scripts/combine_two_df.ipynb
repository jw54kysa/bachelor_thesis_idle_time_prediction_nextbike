{
 "cells": [
  {
   "cell_type": "markdown",
   "source": [
    "# Combine all df_points to one df\n",
    "old :2018-2021: 2.547.157 rows\n",
    "\n",
    "final: 18-21: 2.375.902 rows"
   ],
   "metadata": {
    "collapsed": false
   }
  },
  {
   "cell_type": "code",
   "execution_count": 1,
   "id": "7c0ed7fd",
   "metadata": {},
   "outputs": [],
   "source": [
    "import pandas as pd"
   ]
  },
  {
   "cell_type": "code",
   "execution_count": 2,
   "id": "06baff0c",
   "metadata": {},
   "outputs": [],
   "source": [
    "dfa = pd.read_csv('../data/df_points_nosplit/df_points_2018.csv')\n",
    "dfb = pd.read_csv('../data/df_points_nosplit/df_points_2019.csv')\n",
    "dfc = pd.read_csv('../data/df_points_nosplit/df_points_2020.csv')\n",
    "dfd = pd.read_csv('../data/df_points_nosplit/df_points_2021.csv')"
   ]
  },
  {
   "cell_type": "code",
   "execution_count": 3,
   "id": "95c2e623",
   "metadata": {},
   "outputs": [],
   "source": [
    "combined = pd.concat([dfa, dfb, dfc, dfd], ignore_index=True)"
   ]
  },
  {
   "cell_type": "code",
   "execution_count": 4,
   "id": "6a74f795",
   "metadata": {},
   "outputs": [
    {
     "data": {
      "text/plain": "         bike_id        lat        lng    dt_start  dt_end           hex_id  \\\n1781370    72058  51.317569  12.382730  1640897593       1  881f1a1609fffff   \n1781371    71949  51.334711  12.356763  1640897835       1  881f1a1649fffff   \n1781372    97785  51.367276  12.369792  1640898086       1  881f1a8c8bfffff   \n1781373    41738  51.366942  12.370322  1640900918       1  881f1a8c8bfffff   \n1781374    72028  51.332844  12.404319  1640903200       1  881f1a165bfffff   \n\n         in_zone                  zone_name  end_station_number   temp  rain  \\\n1781370        1  Blaue Zone Leipzig Ost 0€                   0  13.19  7.62   \n1781371        1  Pinke Zone Leipzig Ost 1€                   0  13.19  7.62   \n1781372        1  Blaue Zone Leipzig Ost 0€                   0  13.05  2.03   \n1781373        1  Pinke Zone Leipzig Ost 1€                   0  13.05  2.03   \n1781374        1  Blaue Zone Leipzig Ost 0€                   0  13.11  1.14   \n\n         snow  wind_speed  humidity  year  month  day  start_min  idle_time  \\\n1781370   0.0        8.94      83.0  2021     12    3       1253        112   \n1781371   0.0        8.94      83.0  2021     12    3       1257         25   \n1781372   0.0        8.05      84.0  2021     12    3       1261         48   \n1781373   0.0        8.05      84.0  2021     12    3       1309         43   \n1781374   0.0        8.05      81.0  2021     12    3       1347         32   \n\n         idle_time_class  \n1781370                2  \n1781371                1  \n1781372                2  \n1781373                2  \n1781374                1  ",
      "text/html": "<div>\n<style scoped>\n    .dataframe tbody tr th:only-of-type {\n        vertical-align: middle;\n    }\n\n    .dataframe tbody tr th {\n        vertical-align: top;\n    }\n\n    .dataframe thead th {\n        text-align: right;\n    }\n</style>\n<table border=\"1\" class=\"dataframe\">\n  <thead>\n    <tr style=\"text-align: right;\">\n      <th></th>\n      <th>bike_id</th>\n      <th>lat</th>\n      <th>lng</th>\n      <th>dt_start</th>\n      <th>dt_end</th>\n      <th>hex_id</th>\n      <th>in_zone</th>\n      <th>zone_name</th>\n      <th>end_station_number</th>\n      <th>temp</th>\n      <th>rain</th>\n      <th>snow</th>\n      <th>wind_speed</th>\n      <th>humidity</th>\n      <th>year</th>\n      <th>month</th>\n      <th>day</th>\n      <th>start_min</th>\n      <th>idle_time</th>\n      <th>idle_time_class</th>\n    </tr>\n  </thead>\n  <tbody>\n    <tr>\n      <th>1781370</th>\n      <td>72058</td>\n      <td>51.317569</td>\n      <td>12.382730</td>\n      <td>1640897593</td>\n      <td>1</td>\n      <td>881f1a1609fffff</td>\n      <td>1</td>\n      <td>Blaue Zone Leipzig Ost 0€</td>\n      <td>0</td>\n      <td>13.19</td>\n      <td>7.62</td>\n      <td>0.0</td>\n      <td>8.94</td>\n      <td>83.0</td>\n      <td>2021</td>\n      <td>12</td>\n      <td>3</td>\n      <td>1253</td>\n      <td>112</td>\n      <td>2</td>\n    </tr>\n    <tr>\n      <th>1781371</th>\n      <td>71949</td>\n      <td>51.334711</td>\n      <td>12.356763</td>\n      <td>1640897835</td>\n      <td>1</td>\n      <td>881f1a1649fffff</td>\n      <td>1</td>\n      <td>Pinke Zone Leipzig Ost 1€</td>\n      <td>0</td>\n      <td>13.19</td>\n      <td>7.62</td>\n      <td>0.0</td>\n      <td>8.94</td>\n      <td>83.0</td>\n      <td>2021</td>\n      <td>12</td>\n      <td>3</td>\n      <td>1257</td>\n      <td>25</td>\n      <td>1</td>\n    </tr>\n    <tr>\n      <th>1781372</th>\n      <td>97785</td>\n      <td>51.367276</td>\n      <td>12.369792</td>\n      <td>1640898086</td>\n      <td>1</td>\n      <td>881f1a8c8bfffff</td>\n      <td>1</td>\n      <td>Blaue Zone Leipzig Ost 0€</td>\n      <td>0</td>\n      <td>13.05</td>\n      <td>2.03</td>\n      <td>0.0</td>\n      <td>8.05</td>\n      <td>84.0</td>\n      <td>2021</td>\n      <td>12</td>\n      <td>3</td>\n      <td>1261</td>\n      <td>48</td>\n      <td>2</td>\n    </tr>\n    <tr>\n      <th>1781373</th>\n      <td>41738</td>\n      <td>51.366942</td>\n      <td>12.370322</td>\n      <td>1640900918</td>\n      <td>1</td>\n      <td>881f1a8c8bfffff</td>\n      <td>1</td>\n      <td>Pinke Zone Leipzig Ost 1€</td>\n      <td>0</td>\n      <td>13.05</td>\n      <td>2.03</td>\n      <td>0.0</td>\n      <td>8.05</td>\n      <td>84.0</td>\n      <td>2021</td>\n      <td>12</td>\n      <td>3</td>\n      <td>1309</td>\n      <td>43</td>\n      <td>2</td>\n    </tr>\n    <tr>\n      <th>1781374</th>\n      <td>72028</td>\n      <td>51.332844</td>\n      <td>12.404319</td>\n      <td>1640903200</td>\n      <td>1</td>\n      <td>881f1a165bfffff</td>\n      <td>1</td>\n      <td>Blaue Zone Leipzig Ost 0€</td>\n      <td>0</td>\n      <td>13.11</td>\n      <td>1.14</td>\n      <td>0.0</td>\n      <td>8.05</td>\n      <td>81.0</td>\n      <td>2021</td>\n      <td>12</td>\n      <td>3</td>\n      <td>1347</td>\n      <td>32</td>\n      <td>1</td>\n    </tr>\n  </tbody>\n</table>\n</div>"
     },
     "execution_count": 4,
     "metadata": {},
     "output_type": "execute_result"
    }
   ],
   "source": [
    "combined.tail()"
   ]
  },
  {
   "cell_type": "code",
   "execution_count": 5,
   "outputs": [],
   "source": [
    "c = combined.sort_values(by=['dt_start'])"
   ],
   "metadata": {
    "collapsed": false,
    "pycharm": {
     "name": "#%%\n"
    }
   }
  },
  {
   "cell_type": "code",
   "execution_count": 6,
   "id": "9071190b",
   "metadata": {
    "pycharm": {
     "name": "#%%\n"
    }
   },
   "outputs": [],
   "source": [
    "c.to_csv('../data/final_nosplit_df_points_18_21.csv', index=False)"
   ]
  },
  {
   "cell_type": "markdown",
   "source": [
    "# analyse nosplit ds"
   ],
   "metadata": {
    "collapsed": false,
    "pycharm": {
     "name": "#%% md\n"
    }
   }
  },
  {
   "cell_type": "code",
   "execution_count": 7,
   "outputs": [
    {
     "data": {
      "text/plain": "<AxesSubplot:>"
     },
     "execution_count": 7,
     "metadata": {},
     "output_type": "execute_result"
    },
    {
     "data": {
      "text/plain": "<Figure size 432x288 with 1 Axes>",
      "image/png": "[encoded data removed]"
     },
     "metadata": {
      "needs_background": "light"
     },
     "output_type": "display_data"
    }
   ],
   "source": [
    "dfbox = pd.DataFrame(c['idle_time'])\n",
    "dfbox.boxplot()"
   ],
   "metadata": {
    "collapsed": false,
    "pycharm": {
     "name": "#%%\n"
    }
   }
  },
  {
   "cell_type": "code",
   "execution_count": 8,
   "outputs": [
    {
     "data": {
      "text/plain": "      idle_time\n0.25       41.0\n0.50      132.0\n0.75      476.0\n1.00   301651.0",
      "text/html": "<div>\n<style scoped>\n    .dataframe tbody tr th:only-of-type {\n        vertical-align: middle;\n    }\n\n    .dataframe tbody tr th {\n        vertical-align: top;\n    }\n\n    .dataframe thead th {\n        text-align: right;\n    }\n</style>\n<table border=\"1\" class=\"dataframe\">\n  <thead>\n    <tr style=\"text-align: right;\">\n      <th></th>\n      <th>idle_time</th>\n    </tr>\n  </thead>\n  <tbody>\n    <tr>\n      <th>0.25</th>\n      <td>41.0</td>\n    </tr>\n    <tr>\n      <th>0.50</th>\n      <td>132.0</td>\n    </tr>\n    <tr>\n      <th>0.75</th>\n      <td>476.0</td>\n    </tr>\n    <tr>\n      <th>1.00</th>\n      <td>301651.0</td>\n    </tr>\n  </tbody>\n</table>\n</div>"
     },
     "execution_count": 8,
     "metadata": {},
     "output_type": "execute_result"
    }
   ],
   "source": [
    "dfbox.quantile([0.25,0.5,0.75,1])"
   ],
   "metadata": {
    "collapsed": false,
    "pycharm": {
     "name": "#%%\n"
    }
   }
  },
  {
   "cell_type": "code",
   "execution_count": 9,
   "outputs": [],
   "source": [
    "def f(row):\n",
    "    if row['idle_time'] < 42:\n",
    "        val = 1\n",
    "    elif row['idle_time'] < 132:\n",
    "        val = 2\n",
    "    elif row['idle_time'] < 476:\n",
    "        val = 3\n",
    "    else:\n",
    "        val = 4\n",
    "    return val\n",
    "\n",
    "c['idle_time_class'] = c.apply(f, axis=1)"
   ],
   "metadata": {
    "collapsed": false,
    "pycharm": {
     "name": "#%%\n"
    }
   }
  },
  {
   "cell_type": "code",
   "execution_count": 10,
   "outputs": [
    {
     "data": {
      "text/plain": "<Figure size 1080x360 with 1 Axes>",
      "image/png": "[encoded data removed]"
     },
     "metadata": {
      "needs_background": "light"
     },
     "output_type": "display_data"
    }
   ],
   "source": [
    "times = ['<30min', '<1h', '<2h', '<3h', '<6h', '<12h', '<1d', '<2d', '<1w', '>1w']\n",
    "numbers = [0, 0, 0, 0, 0, 0, 0, 0, 0, 0]\n",
    "\n",
    "for ind in c.index:\n",
    "    idle = c['idle_time'][ind]\n",
    "    if (idle < 30):\n",
    "        numbers[0] += 1\n",
    "        continue\n",
    "    elif (idle < 60):\n",
    "        numbers[1] += 1\n",
    "        continue\n",
    "    elif (idle < 120):\n",
    "        numbers[2] += 1\n",
    "        continue\n",
    "    elif (idle < 180):\n",
    "        numbers[3] += 1\n",
    "        continue\n",
    "    elif (idle < 360):\n",
    "        numbers[4] += 1\n",
    "        continue\n",
    "    elif (idle < 720):\n",
    "        numbers[5] += 1\n",
    "        continue\n",
    "    elif (idle < 1440):\n",
    "        numbers[6] += 1\n",
    "        continue\n",
    "    elif (idle < 2880):\n",
    "        numbers[7] += 1\n",
    "        continue\n",
    "    elif (idle < 10080):\n",
    "        numbers[8] += 1\n",
    "        continue\n",
    "    else:\n",
    "        numbers[9] += 1\n",
    "        continue\n",
    "\n",
    "import matplotlib.pyplot as plt\n",
    "\n",
    "fig = plt.figure(figsize=(15, 5))\n",
    "plt.bar(times, numbers, width=0.4)\n",
    "\n",
    "plt.show()"
   ],
   "metadata": {
    "collapsed": false,
    "pycharm": {
     "name": "#%%\n"
    }
   }
  },
  {
   "cell_type": "code",
   "execution_count": null,
   "outputs": [],
   "source": [],
   "metadata": {
    "collapsed": false,
    "pycharm": {
     "name": "#%%\n"
    }
   }
  }
 ],
 "metadata": {
  "kernelspec": {
   "display_name": "Python 3 (ipykernel)",
   "language": "python",
   "name": "python3"
  },
  "language_info": {
   "codemirror_mode": {
    "name": "ipython",
    "version": 3
   },
   "file_extension": ".py",
   "mimetype": "text/x-python",
   "name": "python",
   "nbconvert_exporter": "python",
   "pygments_lexer": "ipython3",
   "version": "3.9.7"
  }
 },
 "nbformat": 4,
 "nbformat_minor": 5
}