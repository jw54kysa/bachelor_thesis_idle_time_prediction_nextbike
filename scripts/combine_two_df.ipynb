{
 "cells": [
  {
   "cell_type": "markdown",
   "source": [
    "# Combine all df_points to one df\n",
    "old :2018-2021: 2.547.157 rows\n",
    "\n",
    "final: 18-21: 2.375.902 rows"
   ],
   "metadata": {
    "collapsed": false
   }
  },
  {
   "cell_type": "code",
   "execution_count": 1,
   "id": "7c0ed7fd",
   "metadata": {},
   "outputs": [],
   "source": [
    "import pandas as pd"
   ]
  },
  {
   "cell_type": "code",
   "execution_count": 2,
   "outputs": [
    {
     "data": {
      "text/plain": "array([ 0.1       ,  0.31622777,  1.        ,  3.16227766, 10.        ])"
     },
     "execution_count": 2,
     "metadata": {},
     "output_type": "execute_result"
    }
   ],
   "source": [
    "import numpy as np\n",
    "alphas = np.logspace(-1, 1, 5)\n",
    "alphas"
   ],
   "metadata": {
    "collapsed": false,
    "pycharm": {
     "name": "#%%\n"
    }
   }
  },
  {
   "cell_type": "code",
   "execution_count": 3,
   "id": "06baff0c",
   "metadata": {},
   "outputs": [],
   "source": [
    "dfa = pd.read_csv('../data/df_points/df_points_2018.csv')\n",
    "dfb = pd.read_csv('../data/df_points/df_points_2019.csv')\n",
    "dfc = pd.read_csv('../data/df_points/df_points_2020.csv')\n",
    "dfd = pd.read_csv('../data/df_points/df_points_2021.csv')"
   ]
  },
  {
   "cell_type": "code",
   "execution_count": 4,
   "id": "95c2e623",
   "metadata": {},
   "outputs": [],
   "source": [
    "combined = pd.concat([dfa, dfb, dfc, dfd], ignore_index=True)"
   ]
  },
  {
   "cell_type": "code",
   "execution_count": 5,
   "id": "6a74f795",
   "metadata": {},
   "outputs": [
    {
     "data": {
      "text/plain": "         bike_id        lat        lng    dt_start      dt_end  \\\n2375898    72058  51.317569  12.382730  1640897593  1640904368   \n2375899    71949  51.334711  12.356763  1640897835  1640899343   \n2375900    97785  51.367276  12.369792  1640898086  1640900985   \n2375901    41738  51.366942  12.370322  1640900918  1640903516   \n2375902    72028  51.332844  12.404319  1640903200  1640905163   \n\n                  hex_id  in_zone                  zone_name  \\\n2375898  881f1a1609fffff        1  Blaue Zone Leipzig Ost 0€   \n2375899  881f1a1649fffff        1  Pinke Zone Leipzig Ost 1€   \n2375900  881f1a8c8bfffff        1  Blaue Zone Leipzig Ost 0€   \n2375901  881f1a8c8bfffff        1  Pinke Zone Leipzig Ost 1€   \n2375902  881f1a165bfffff        1  Blaue Zone Leipzig Ost 0€   \n\n         end_station_number   temp  ...  snow  wind_speed  humidity  year  \\\n2375898                   0  13.19  ...   0.0        8.94      83.0  2021   \n2375899                   0  13.19  ...   0.0        8.94      83.0  2021   \n2375900                   0  13.05  ...   0.0        8.05      84.0  2021   \n2375901                   0  13.05  ...   0.0        8.05      84.0  2021   \n2375902                   0  13.11  ...   0.0        8.05      81.0  2021   \n\n         month  day  start_min  over_night  idle_time_next_day  idle_time  \n2375898     12    3       1253           0                   0        112  \n2375899     12    3       1257           0                   0         25  \n2375900     12    3       1261           0                   0         48  \n2375901     12    3       1309           0                   0         43  \n2375902     12    3       1347           0                   0         32  \n\n[5 rows x 21 columns]",
      "text/html": "<div>\n<style scoped>\n    .dataframe tbody tr th:only-of-type {\n        vertical-align: middle;\n    }\n\n    .dataframe tbody tr th {\n        vertical-align: top;\n    }\n\n    .dataframe thead th {\n        text-align: right;\n    }\n</style>\n<table border=\"1\" class=\"dataframe\">\n  <thead>\n    <tr style=\"text-align: right;\">\n      <th></th>\n      <th>bike_id</th>\n      <th>lat</th>\n      <th>lng</th>\n      <th>dt_start</th>\n      <th>dt_end</th>\n      <th>hex_id</th>\n      <th>in_zone</th>\n      <th>zone_name</th>\n      <th>end_station_number</th>\n      <th>temp</th>\n      <th>...</th>\n      <th>snow</th>\n      <th>wind_speed</th>\n      <th>humidity</th>\n      <th>year</th>\n      <th>month</th>\n      <th>day</th>\n      <th>start_min</th>\n      <th>over_night</th>\n      <th>idle_time_next_day</th>\n      <th>idle_time</th>\n    </tr>\n  </thead>\n  <tbody>\n    <tr>\n      <th>2375898</th>\n      <td>72058</td>\n      <td>51.317569</td>\n      <td>12.382730</td>\n      <td>1640897593</td>\n      <td>1640904368</td>\n      <td>881f1a1609fffff</td>\n      <td>1</td>\n      <td>Blaue Zone Leipzig Ost 0€</td>\n      <td>0</td>\n      <td>13.19</td>\n      <td>...</td>\n      <td>0.0</td>\n      <td>8.94</td>\n      <td>83.0</td>\n      <td>2021</td>\n      <td>12</td>\n      <td>3</td>\n      <td>1253</td>\n      <td>0</td>\n      <td>0</td>\n      <td>112</td>\n    </tr>\n    <tr>\n      <th>2375899</th>\n      <td>71949</td>\n      <td>51.334711</td>\n      <td>12.356763</td>\n      <td>1640897835</td>\n      <td>1640899343</td>\n      <td>881f1a1649fffff</td>\n      <td>1</td>\n      <td>Pinke Zone Leipzig Ost 1€</td>\n      <td>0</td>\n      <td>13.19</td>\n      <td>...</td>\n      <td>0.0</td>\n      <td>8.94</td>\n      <td>83.0</td>\n      <td>2021</td>\n      <td>12</td>\n      <td>3</td>\n      <td>1257</td>\n      <td>0</td>\n      <td>0</td>\n      <td>25</td>\n    </tr>\n    <tr>\n      <th>2375900</th>\n      <td>97785</td>\n      <td>51.367276</td>\n      <td>12.369792</td>\n      <td>1640898086</td>\n      <td>1640900985</td>\n      <td>881f1a8c8bfffff</td>\n      <td>1</td>\n      <td>Blaue Zone Leipzig Ost 0€</td>\n      <td>0</td>\n      <td>13.05</td>\n      <td>...</td>\n      <td>0.0</td>\n      <td>8.05</td>\n      <td>84.0</td>\n      <td>2021</td>\n      <td>12</td>\n      <td>3</td>\n      <td>1261</td>\n      <td>0</td>\n      <td>0</td>\n      <td>48</td>\n    </tr>\n    <tr>\n      <th>2375901</th>\n      <td>41738</td>\n      <td>51.366942</td>\n      <td>12.370322</td>\n      <td>1640900918</td>\n      <td>1640903516</td>\n      <td>881f1a8c8bfffff</td>\n      <td>1</td>\n      <td>Pinke Zone Leipzig Ost 1€</td>\n      <td>0</td>\n      <td>13.05</td>\n      <td>...</td>\n      <td>0.0</td>\n      <td>8.05</td>\n      <td>84.0</td>\n      <td>2021</td>\n      <td>12</td>\n      <td>3</td>\n      <td>1309</td>\n      <td>0</td>\n      <td>0</td>\n      <td>43</td>\n    </tr>\n    <tr>\n      <th>2375902</th>\n      <td>72028</td>\n      <td>51.332844</td>\n      <td>12.404319</td>\n      <td>1640903200</td>\n      <td>1640905163</td>\n      <td>881f1a165bfffff</td>\n      <td>1</td>\n      <td>Blaue Zone Leipzig Ost 0€</td>\n      <td>0</td>\n      <td>13.11</td>\n      <td>...</td>\n      <td>0.0</td>\n      <td>8.05</td>\n      <td>81.0</td>\n      <td>2021</td>\n      <td>12</td>\n      <td>3</td>\n      <td>1347</td>\n      <td>0</td>\n      <td>0</td>\n      <td>32</td>\n    </tr>\n  </tbody>\n</table>\n<p>5 rows × 21 columns</p>\n</div>"
     },
     "execution_count": 5,
     "metadata": {},
     "output_type": "execute_result"
    }
   ],
   "source": [
    "combined.tail()"
   ]
  },
  {
   "cell_type": "code",
   "execution_count": 6,
   "outputs": [],
   "source": [
    "c = combined.sort_values(by=['dt_start'])"
   ],
   "metadata": {
    "collapsed": false,
    "pycharm": {
     "name": "#%%\n"
    }
   }
  },
  {
   "cell_type": "code",
   "execution_count": 7,
   "id": "9071190b",
   "metadata": {
    "pycharm": {
     "name": "#%%\n"
    }
   },
   "outputs": [],
   "source": [
    "c.to_csv('../data/final_df_points_18_21.csv', index=False)"
   ]
  },
  {
   "cell_type": "code",
   "execution_count": null,
   "outputs": [],
   "source": [],
   "metadata": {
    "collapsed": false,
    "pycharm": {
     "name": "#%%\n"
    }
   }
  }
 ],
 "metadata": {
  "kernelspec": {
   "display_name": "Python 3 (ipykernel)",
   "language": "python",
   "name": "python3"
  },
  "language_info": {
   "codemirror_mode": {
    "name": "ipython",
    "version": 3
   },
   "file_extension": ".py",
   "mimetype": "text/x-python",
   "name": "python",
   "nbconvert_exporter": "python",
   "pygments_lexer": "ipython3",
   "version": "3.9.7"
  }
 },
 "nbformat": 4,
 "nbformat_minor": 5
}