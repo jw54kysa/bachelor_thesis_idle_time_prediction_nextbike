{
 "cells": [
  {
   "cell_type": "markdown",
   "source": [
    "# Start Pred"
   ],
   "metadata": {
    "collapsed": false,
    "pycharm": {
     "name": "#%% md\n"
    }
   }
  },
  {
   "cell_type": "code",
   "execution_count": 1,
   "outputs": [],
   "source": [
    "import pandas as pd\n",
    "import numpy as np\n",
    "import statistics\n",
    "import matplotlib.pyplot as plt\n",
    "from tqdm import tqdm\n",
    "import pickle\n",
    "\n",
    "\n",
    "#picklefile = open(f'../../data/time_series_data/ts_data_881f1a8cb7fffff_AugustusPlatz.csv', 'rb')\n",
    "#pickle the dataframe\n",
    "#tsdata = pickle.load(picklefile)\n",
    "#close file\n",
    "#picklefile.close()\n",
    "\n",
    "tsdata = pd.read_csv('../../data/time_series_data/ts_data_881f1a8cb7fffff_AugustusPlatz.csv')\n",
    "tsdata['date'] = pd.to_datetime(tsdata['date'])\n",
    "tsdata = tsdata.set_index(['date'])"
   ],
   "metadata": {
    "collapsed": false,
    "pycharm": {
     "name": "#%%\n"
    }
   }
  },
  {
   "cell_type": "code",
   "execution_count": 2,
   "outputs": [
    {
     "name": "stderr",
     "output_type": "stream",
     "text": [
      "100%|██████████| 1460/1460 [00:01<00:00, 1168.88it/s]\n"
     ]
    }
   ],
   "source": [
    "# ADD Weather Features\n",
    "\n",
    "dfw = pd.read_csv('/Users/jonweske/devment/BA_nextbike/data/weather_data.csv')\n",
    "dfw['datetime'] = pd.to_datetime(dfw['dt'], unit='s')\n",
    "dfw = dfw.set_index(['datetime'])\n",
    "dfw.head()\n",
    "\n",
    "tsdata['temp'] = np.nan\n",
    "tsdata['rain'] = np.nan\n",
    "tsdata['snow'] = np.nan\n",
    "\n",
    "for ind in tqdm(tsdata.index):\n",
    "    wint = ind.replace(hour=12, minute=0, second=0)\n",
    "    tsdata['temp'][ind] = dfw['temp'][wint].copy()\n",
    "    tsdata['rain'][ind] = dfw['rain_1h'][wint].copy()\n",
    "    tsdata['snow'][ind] = dfw['snow_1h'][wint].copy()\n",
    "\n",
    "# Feature Engeniering\n",
    "# inserting new column with yesterday last_week and last_year plus Diffs\n",
    "tsdata['Yesterday'] = tsdata['idle_time'].shift()\n",
    "tsdata['Yesterday_Diff'] = tsdata['Yesterday'].diff()\n",
    "\n",
    "tsdata['Last_Week'] = tsdata['idle_time'].shift(periods=7)\n",
    "tsdata['Last_Week_Diff'] = tsdata['Last_Week'].diff()\n",
    "\n",
    "tsdata['Last_Year'] = tsdata['idle_time'].shift(periods=365)\n",
    "tsdata['Last_Year_Diff'] = tsdata['Last_Year'].diff()\n",
    "\n",
    "# Nan s to 0\n",
    "tsdata = tsdata.fillna(0)"
   ],
   "metadata": {
    "collapsed": false,
    "pycharm": {
     "name": "#%%\n"
    }
   }
  },
  {
   "cell_type": "code",
   "execution_count": 3,
   "outputs": [],
   "source": [
    "#export = tsdata.reindex(columns=['idle_time','Yesterday','Yesterday_Diff','Last_Week','Last_Week_Diff','Last_Year','Last_Year_Diff','bike_count','temp','rain','snow'])\n",
    "#export.to_csv('../../data/tsdata-export.csv')"
   ],
   "metadata": {
    "collapsed": false,
    "pycharm": {
     "name": "#%%\n"
    }
   }
  },
  {
   "cell_type": "code",
   "execution_count": 4,
   "outputs": [
    {
     "name": "stdout",
     "output_type": "stream",
     "text": [
      "(1095, 10)\n",
      "(1095, 1)\n",
      "(365, 10)\n",
      "(365, 1)\n"
     ]
    }
   ],
   "source": [
    "# Split Dataset\n",
    "\n",
    "from sklearn.model_selection import train_test_split\n",
    "\n",
    "TargetVariable = ['idle_time']\n",
    "Predictors = ['bike_count', 'temp', 'rain', 'snow', 'Yesterday', 'Yesterday_Diff', 'Last_Week', 'Last_Week_Diff', 'Last_Year', 'Last_Year_Diff']\n",
    "X = tsdata[Predictors]\n",
    "y = tsdata[TargetVariable]\n",
    "\n",
    "# no shuffle because\n",
    "X_train, X_test, y_train, y_test = train_test_split(X, y, test_size=0.25, shuffle=False)\n",
    "\n",
    "# Quick sanity check with the shapes of Training and testing datasets\n",
    "print(X_train.shape)\n",
    "print(y_train.shape)\n",
    "print(X_test.shape)\n",
    "print(y_test.shape)"
   ],
   "metadata": {
    "collapsed": false,
    "pycharm": {
     "name": "#%%\n"
    }
   }
  },
  {
   "cell_type": "code",
   "execution_count": 5,
   "outputs": [],
   "source": [
    "import sklearn.metrics as metrics\n",
    "\n",
    "def regression_results(y_true, y_pred):\n",
    "    #explained_variance=metrics.explained_variance_score(y_true, y_pred)\n",
    "    mae=metrics.mean_absolute_error(y_true, y_pred)\n",
    "    mse=metrics.mean_squared_error(y_true, y_pred)\n",
    "    r2=metrics.r2_score(y_true, y_pred)\n",
    "    #print('explained_variance: ', round(explained_variance,4))\n",
    "    print('r2: ', round(r2,4))\n",
    "    print('MAE: ', round(mae,4))\n",
    "    print('MSE: ', round(mse,4))\n",
    "    return r2, mae, mse"
   ],
   "metadata": {
    "collapsed": false,
    "pycharm": {
     "name": "#%%\n"
    }
   }
  },
  {
   "cell_type": "code",
   "execution_count": 6,
   "outputs": [],
   "source": [
    "# fit, predict and display model#\n",
    "\n",
    "def start_model(_model,_X_train,_y_train,_X_test,_y_test):\n",
    "    # fit given model\n",
    "    model.fit(_X_train.values,_y_train.values.ravel())\n",
    "\n",
    "    #give Predicted y Dates as index\n",
    "    _y_pred = pd.DataFrame({'date': _X_test.index, 'idle_time': model.predict(_X_test.values)})\n",
    "    _y_pred = _y_pred.set_index('date')\n",
    "\n",
    "    #print Regression Results\n",
    "    print(_model)\n",
    "    print(regression_results(_y_test.values,_y_pred.values))\n",
    "\n",
    "    # plot predicted and real y\n",
    "    plt.subplots(figsize = (12,4))\n",
    "    # plot Training Data ?\n",
    "    #plt.plot(_y_train, color='0.2')\n",
    "\n",
    "    plt.plot(_y_pred, color='blue', label='predicted')\n",
    "    plt.plot(_y_test, color='green', label='real')\n",
    "    plt.legend()\n",
    "    plt.show()"
   ],
   "metadata": {
    "collapsed": false,
    "pycharm": {
     "name": "#%%\n"
    }
   }
  },
  {
   "cell_type": "code",
   "execution_count": 7,
   "outputs": [],
   "source": [
    "sweep_configuration_rfr = {\n",
    "    \"project\": \"TimeSeries_RandomForestRegression\",\n",
    "    \"name\": \"my-awesome-sweep\",\n",
    "    \"metric\": {\"name\": \"r2_score\", \"goal\": \"maximize\"},\n",
    "    \"method\": \"random\",\n",
    "    \"parameters\": {\n",
    "        \"n_estimators\": {\n",
    "            \"values\": [8, 16, 32, 64, 128, 256, 512]\n",
    "        },\n",
    "        \"criterion\": {\n",
    "            \"values\": ['squared_error', 'absolute_error', 'poisson']\n",
    "        },\n",
    "        \"max_depth\": {\n",
    "            \"values\": [2, 3, 4, 5, 6, 7, 8, 9, 10, 20, 30, 40, 50, 60, 70, 80, 90, 100, 120, 140, 160, 180, 200, None]\n",
    "        },\n",
    "        \"bootstrap\": {\n",
    "            \"values\": [True, False]\n",
    "        },\n",
    "        \"max_features\": {\n",
    "            \"values\": ['auto', 'sqrt', 'log2']\n",
    "        },\n",
    "        \"min_samples_leaf\": {\n",
    "            \"values\": [1, 2, 3, 4, 5, 6, 7, 8, 9, 10, 11, 13, 15, 18, 20, 25, 30]\n",
    "        },\n",
    "        \"min_samples_split\": {\n",
    "            \"values\": [2, 3, 4, 5, 6, 7, 8, 9, 10, 11, 13, 15, 18, 20, 25, 30]\n",
    "        }\n",
    "    }\n",
    "}"
   ],
   "metadata": {
    "collapsed": false,
    "pycharm": {
     "name": "#%%\n"
    }
   }
  },
  {
   "cell_type": "markdown",
   "source": [
    "# Start Time Series Prediction Sweep of Random Forest Regressor"
   ],
   "metadata": {
    "collapsed": false,
    "pycharm": {
     "name": "#%% md\n"
    }
   }
  },
  {
   "cell_type": "code",
   "execution_count": 9,
   "outputs": [
    {
     "data": {
      "text/plain": "VBox(children=(Label(value='0.000 MB of 0.000 MB uploaded (0.000 MB deduped)\\r'), FloatProgress(value=1.0, max…",
      "application/vnd.jupyter.widget-view+json": {
       "version_major": 2,
       "version_minor": 0,
       "model_id": "128077923b8e4809964abbe5a38eb3bd"
      }
     },
     "metadata": {},
     "output_type": "display_data"
    },
    {
     "data": {
      "text/plain": "<IPython.core.display.HTML object>",
      "text/html": "<style>\n    table.wandb td:nth-child(1) { padding: 0 10px; text-align: right }\n    .wandb-row { display: flex; flex-direction: row; flex-wrap: wrap; width: 100% }\n    .wandb-col { display: flex; flex-direction: column; flex-basis: 100%; flex: 1; padding: 10px; }\n    </style>\n<div class=\"wandb-row\"><div class=\"wandb-col\"><h3>Run history:</h3><br/><table class=\"wandb\"><tr><td>MAE</td><td>▁</td></tr><tr><td>MSE</td><td>▁</td></tr><tr><td>r2_score</td><td>▁</td></tr></table><br/></div><div class=\"wandb-col\"><h3>Run summary:</h3><br/><table class=\"wandb\"><tr><td>MAE</td><td>131.00615</td></tr><tr><td>MSE</td><td>26457.20864</td></tr><tr><td>r2_score</td><td>0.35783</td></tr></table><br/></div></div>"
     },
     "metadata": {},
     "output_type": "display_data"
    },
    {
     "data": {
      "text/plain": "<IPython.core.display.HTML object>",
      "text/html": "Synced <strong style=\"color:#cdcd00\">skilled-sweep-301</strong>: <a href=\"https://wandb.ai/jonathanweske/TimeSeries_RandomForestRegression/runs/h4f27qdm\" target=\"_blank\">https://wandb.ai/jonathanweske/TimeSeries_RandomForestRegression/runs/h4f27qdm</a><br/>Synced 6 W&B file(s), 0 media file(s), 0 artifact file(s) and 0 other file(s)"
     },
     "metadata": {},
     "output_type": "display_data"
    },
    {
     "data": {
      "text/plain": "<IPython.core.display.HTML object>",
      "text/html": "Find logs at: <code>./wandb/run-20220615_191350-h4f27qdm/logs</code>"
     },
     "metadata": {},
     "output_type": "display_data"
    },
    {
     "name": "stderr",
     "output_type": "stream",
     "text": [
      "\u001B[34m\u001B[1mwandb\u001B[0m: Ctrl + C detected. Stopping sweep.\n"
     ]
    }
   ],
   "source": [
    "import wandb\n",
    "from sklearn.ensemble import RandomForestRegressor\n",
    "\n",
    "def my_train_func():\n",
    "    wandb.init()\n",
    "\n",
    "    _n_estimators = wandb.config.n_estimators\n",
    "    _criterion = wandb.config.criterion\n",
    "    _max_depth = wandb.config.max_depth\n",
    "    _bootstrap = wandb.config.bootstrap\n",
    "    _max_features = wandb.config.max_features\n",
    "    _min_samples_leaf = wandb.config.min_samples_leaf\n",
    "    _min_samples_split = wandb.config.min_samples_split\n",
    "\n",
    "    model = RandomForestRegressor(n_estimators=_n_estimators,\n",
    "                                  criterion=_criterion,\n",
    "                                  max_depth=_max_depth,\n",
    "                                  bootstrap=_bootstrap,\n",
    "                                  max_features=_max_features,\n",
    "                                  min_samples_leaf=_min_samples_leaf,\n",
    "                                  min_samples_split=_min_samples_split,\n",
    "                                  n_jobs=2)\n",
    "\n",
    "    model.fit(X_train, y_train.values.ravel())\n",
    "    y_pred = model.predict(X_test)\n",
    "\n",
    "    r2, mae, mse =regression_results(y_test, y_pred)\n",
    "\n",
    "    wandb.log({\"r2_score\": r2, \"MAE\": mae, \"MSE\": mse})\n",
    "\n",
    "# INIT SWEEP\n",
    "sweep_id_rfc = wandb.sweep(sweep_configuration_rfr, project=\"TimeSeries_RandomForestRegression\")\n",
    "# RUN SWEEP\n",
    "wandb.agent(sweep_id_rfc, function=my_train_func)\n"
   ],
   "metadata": {
    "collapsed": false,
    "pycharm": {
     "name": "#%%\n"
    }
   }
  },
  {
   "cell_type": "markdown",
   "source": [],
   "metadata": {
    "collapsed": false,
    "pycharm": {
     "name": "#%% md\n"
    }
   }
  },
  {
   "cell_type": "markdown",
   "source": [
    "# Old Main"
   ],
   "metadata": {
    "collapsed": false,
    "pycharm": {
     "name": "#%% md\n"
    }
   }
  },
  {
   "cell_type": "code",
   "execution_count": 78,
   "outputs": [
    {
     "name": "stdout",
     "output_type": "stream",
     "text": [
      "RandomForestRegressor(criterion='poisson', max_depth=90, max_features='log2',\n",
      "                      min_samples_leaf=20, min_samples_split=9,\n",
      "                      n_estimators=256, n_jobs=2)\n",
      "r2:  0.7095\n",
      "MAE:  75.8695\n",
      "MSE:  11966.729\n",
      "(0.7095426274349788, 75.8694870938668, 11966.728996942173)\n"
     ]
    },
    {
     "data": {
      "text/plain": "<Figure size 864x288 with 1 Axes>",
      "image/png": "[encoded data removed]"
     },
     "metadata": {
      "needs_background": "light"
     },
     "output_type": "display_data"
    }
   ],
   "source": [
    "from sklearn.svm import SVR\n",
    "from sklearn.linear_model import LinearRegression\n",
    "from sklearn.neighbors import KNeighborsRegressor\n",
    "from sklearn.ensemble import RandomForestRegressor, GradientBoostingRegressor\n",
    "from sklearn.neural_network import MLPRegressor\n",
    "\n",
    "rfr = RandomForestRegressor()\n",
    "svr = SVR()\n",
    "lr = LinearRegression()\n",
    "knn = KNeighborsRegressor()\n",
    "gpr = GradientBoostingRegressor()\n",
    "mlpr = MLPRegressor()\n",
    "\n",
    "models = [rfr,svr,lr,knn,gpr,mlpr]\n",
    "\n",
    "_n_estimators = 256\n",
    "_criterion = 'poisson'\n",
    "_max_depth = 90\n",
    "_bootstrap = True\n",
    "_max_features = 'log2'\n",
    "_min_samples_leaf = 20\n",
    "_min_samples_split = 9\n",
    "\n",
    "model = RandomForestRegressor(n_estimators=_n_estimators,\n",
    "                                  criterion=_criterion,\n",
    "                                  max_depth=_max_depth,\n",
    "                                  bootstrap=_bootstrap,\n",
    "                                  max_features=_max_features,\n",
    "                                  min_samples_leaf=_min_samples_leaf,\n",
    "                                  min_samples_split=_min_samples_split,\n",
    "                                  n_jobs=2)\n",
    "\n",
    "start_model(model,X_train,y_train,X_test,y_test)"
   ],
   "metadata": {
    "collapsed": false,
    "pycharm": {
     "name": "#%%\n"
    }
   }
  },
  {
   "cell_type": "code",
   "execution_count": 69,
   "outputs": [
    {
     "data": {
      "text/plain": "                importance\nYesterday         0.439498\nLast_Week         0.236472\nbike_count        0.119101\ntemp              0.083341\nYesterday_Diff    0.049136\nLast_Year         0.042522\nLast_Week_Diff    0.025702\nrain              0.003766\nLast_Year_Diff    0.000462\nsnow              0.000000",
      "text/html": "<div>\n<style scoped>\n    .dataframe tbody tr th:only-of-type {\n        vertical-align: middle;\n    }\n\n    .dataframe tbody tr th {\n        vertical-align: top;\n    }\n\n    .dataframe thead th {\n        text-align: right;\n    }\n</style>\n<table border=\"1\" class=\"dataframe\">\n  <thead>\n    <tr style=\"text-align: right;\">\n      <th></th>\n      <th>importance</th>\n    </tr>\n  </thead>\n  <tbody>\n    <tr>\n      <th>Yesterday</th>\n      <td>0.439498</td>\n    </tr>\n    <tr>\n      <th>Last_Week</th>\n      <td>0.236472</td>\n    </tr>\n    <tr>\n      <th>bike_count</th>\n      <td>0.119101</td>\n    </tr>\n    <tr>\n      <th>temp</th>\n      <td>0.083341</td>\n    </tr>\n    <tr>\n      <th>Yesterday_Diff</th>\n      <td>0.049136</td>\n    </tr>\n    <tr>\n      <th>Last_Year</th>\n      <td>0.042522</td>\n    </tr>\n    <tr>\n      <th>Last_Week_Diff</th>\n      <td>0.025702</td>\n    </tr>\n    <tr>\n      <th>rain</th>\n      <td>0.003766</td>\n    </tr>\n    <tr>\n      <th>Last_Year_Diff</th>\n      <td>0.000462</td>\n    </tr>\n    <tr>\n      <th>snow</th>\n      <td>0.000000</td>\n    </tr>\n  </tbody>\n</table>\n</div>"
     },
     "execution_count": 69,
     "metadata": {},
     "output_type": "execute_result"
    }
   ],
   "source": [
    "feature_importances = pd.DataFrame(model.feature_importances_, index =X_test.columns,  columns=['importance']).sort_values('importance', ascending=False)\n",
    "feature_importances"
   ],
   "metadata": {
    "collapsed": false,
    "pycharm": {
     "name": "#%%\n"
    }
   }
  },
  {
   "cell_type": "markdown",
   "source": [
    "model = RandomForestRegressor(n_estimators=16,\n",
    "                              criterion='absolute_error',\n",
    "                              max_depth=120,\n",
    "                              bootstrap=False,\n",
    "                              max_features='log2',\n",
    "                              min_samples_leaf=6,\n",
    "                              min_samples_split=30,\n",
    "                              n_jobs=2)"
   ],
   "metadata": {
    "collapsed": false,
    "pycharm": {
     "name": "#%% md\n"
    }
   }
  }
 ],
 "metadata": {
  "kernelspec": {
   "display_name": "Python 3",
   "language": "python",
   "name": "python3"
  },
  "language_info": {
   "codemirror_mode": {
    "name": "ipython",
    "version": 2
   },
   "file_extension": ".py",
   "mimetype": "text/x-python",
   "name": "python",
   "nbconvert_exporter": "python",
   "pygments_lexer": "ipython2",
   "version": "2.7.6"
  }
 },
 "nbformat": 4,
 "nbformat_minor": 0
}