{
 "cells": [
  {
   "cell_type": "markdown",
   "source": [
    "# Start Pred"
   ],
   "metadata": {
    "collapsed": false,
    "pycharm": {
     "name": "#%% md\n"
    }
   }
  },
  {
   "cell_type": "code",
   "execution_count": 1,
   "outputs": [],
   "source": [
    "import pandas as pd\n",
    "import numpy as np\n",
    "import matplotlib.pyplot as plt\n",
    "from tqdm import tqdm\n",
    "\n",
    "\n",
    "tsdata = pd.read_csv('../../data/time_series_data/ts_data_881f1a8cb7fffff_AugustusPlatz.csv')\n",
    "tsdata['date'] = pd.to_datetime(tsdata['date'])\n",
    "tsdata = tsdata.set_index(['date'])"
   ],
   "metadata": {
    "collapsed": false,
    "pycharm": {
     "name": "#%%\n"
    }
   }
  },
  {
   "cell_type": "code",
   "execution_count": 2,
   "outputs": [
    {
     "name": "stderr",
     "output_type": "stream",
     "text": [
      "100%|██████████| 1460/1460 [00:01<00:00, 838.40it/s]\n"
     ]
    }
   ],
   "source": [
    "# ADD Weather Features\n",
    "\n",
    "dfw = pd.read_csv('/Users/jonweske/devment/BA_nextbike/data/weather_data.csv')\n",
    "dfw['datetime'] = pd.to_datetime(dfw['dt'], unit='s')\n",
    "dfw = dfw.set_index(['datetime'])\n",
    "dfw.head()\n",
    "\n",
    "tsdata['temp'] = np.nan\n",
    "tsdata['rain'] = np.nan\n",
    "tsdata['snow'] = np.nan\n",
    "\n",
    "for ind in tqdm(tsdata.index):\n",
    "    wint = ind.replace(hour=12, minute=0, second=0)\n",
    "    tsdata['temp'][ind] = dfw['temp'][wint].copy()\n",
    "    tsdata['rain'][ind] = dfw['rain_1h'][wint].copy()\n",
    "    tsdata['snow'][ind] = dfw['snow_1h'][wint].copy()\n",
    "\n",
    "# Feature Engeniering\n",
    "# inserting new column with yesterday last_week and last_year plus Diffs\n",
    "tsdata['Yesterday'] = tsdata['idle_time'].shift()\n",
    "tsdata['Yesterday_Diff'] = tsdata['Yesterday'].diff()\n",
    "\n",
    "tsdata['Last_Week'] = tsdata['idle_time'].shift(periods=7)\n",
    "tsdata['Last_Week_Diff'] = tsdata['Last_Week'].diff()\n",
    "\n",
    "tsdata['Last_Year'] = tsdata['idle_time'].shift(periods=365)\n",
    "tsdata['Last_Year_Diff'] = tsdata['Last_Year'].diff()\n",
    "\n",
    "# Nan s to 0\n",
    "tsdata = tsdata.fillna(0)"
   ],
   "metadata": {
    "collapsed": false,
    "pycharm": {
     "name": "#%%\n"
    }
   }
  },
  {
   "cell_type": "code",
   "execution_count": 4,
   "outputs": [
    {
     "name": "stdout",
     "output_type": "stream",
     "text": [
      "(1095, 10)\n",
      "(1095, 1)\n",
      "(365, 10)\n",
      "(365, 1)\n"
     ]
    }
   ],
   "source": [
    "# Split Dataset\n",
    "\n",
    "from sklearn.model_selection import train_test_split\n",
    "\n",
    "TargetVariable = ['idle_time']\n",
    "Predictors = ['bike_count', 'temp', 'rain', 'snow', 'Yesterday', 'Yesterday_Diff', 'Last_Week', 'Last_Week_Diff', 'Last_Year', 'Last_Year_Diff']\n",
    "X = tsdata[Predictors]\n",
    "y = tsdata[TargetVariable]\n",
    "\n",
    "# no shuffle because\n",
    "X_train, X_test, y_train, y_test = train_test_split(X, y, test_size=0.1, shuffle=False)\n",
    "\n",
    "# Quick sanity check with the shapes of Training and testing datasets\n",
    "print(X_train.shape)\n",
    "print(y_train.shape)\n",
    "print(X_test.shape)\n",
    "print(y_test.shape)"
   ],
   "metadata": {
    "collapsed": false,
    "pycharm": {
     "name": "#%%\n"
    }
   }
  },
  {
   "cell_type": "code",
   "execution_count": 5,
   "outputs": [],
   "source": [
    "import sklearn.metrics as metrics\n",
    "\n",
    "def regression_results(y_true, y_pred):\n",
    "    #explained_variance=metrics.explained_variance_score(y_true, y_pred)\n",
    "    mae=metrics.mean_absolute_error(y_true, y_pred)\n",
    "    mse=metrics.mean_squared_error(y_true, y_pred)\n",
    "    r2=metrics.r2_score(y_true, y_pred)\n",
    "    #print('explained_variance: ', round(explained_variance,4))\n",
    "    print('r2: ', round(r2,4))\n",
    "    print('MAE: ', round(mae,4))\n",
    "    print('MSE: ', round(mse,4))\n",
    "    return r2, mae, mse"
   ],
   "metadata": {
    "collapsed": false,
    "pycharm": {
     "name": "#%%\n"
    }
   }
  },
  {
   "cell_type": "code",
   "execution_count": 11,
   "outputs": [],
   "source": [
    "# fit, predict and display model#\n",
    "\n",
    "def start_model(_model,_X_train,_y_train,_X_test,_y_test):\n",
    "    # fit given model\n",
    "    model.fit(_X_train.values,_y_train.values.ravel())\n",
    "\n",
    "    #give Predicted y Dates as index\n",
    "    _y_pred = pd.DataFrame({'date': _X_test.index, 'idle_time': model.predict(_X_test.values)})\n",
    "    _y_pred = _y_pred.set_index('date')\n",
    "\n",
    "    #print Regression Results\n",
    "    print(_model)\n",
    "    print(regression_results(_y_test.values,_y_pred.values))\n",
    "\n",
    "    # plot predicted and real y\n",
    "    plt.subplots(figsize = (15,5))\n",
    "    # plot Training Data ?\n",
    "    #plt.plot(_y_train, color='0.2')\n",
    "\n",
    "    plt.plot(_y_pred, color='blue', label='Vorhergesagt')\n",
    "    plt.plot(_y_test, color='green', label='Tatsächlich')\n",
    "    plt.legend()\n",
    "    plt.show()"
   ],
   "metadata": {
    "collapsed": false,
    "pycharm": {
     "name": "#%%\n"
    }
   }
  },
  {
   "cell_type": "code",
   "execution_count": 7,
   "outputs": [],
   "source": [
    "sweep_configuration_rfr = {\n",
    "    \"project\": \"TimeSeries_RandomForestRegression\",\n",
    "    \"name\": \"my-awesome-sweep\",\n",
    "    \"metric\": {\"name\": \"r2_score\", \"goal\": \"maximize\"},\n",
    "    \"method\": \"random\",\n",
    "    \"parameters\": {\n",
    "        \"n_estimators\": {\n",
    "            \"values\": [8, 16, 32, 64, 128, 256, 512]\n",
    "        },\n",
    "        \"criterion\": {\n",
    "            \"values\": ['squared_error', 'absolute_error', 'poisson']\n",
    "        },\n",
    "        \"max_depth\": {\n",
    "            \"values\": [2, 3, 4, 5, 6, 7, 8, 9, 10, 20, 30, 40, 50, 60, 70, 80, 90, 100, 120, 140, 160, 180, 200, None]\n",
    "        },\n",
    "        \"bootstrap\": {\n",
    "            \"values\": [True, False]\n",
    "        },\n",
    "        \"max_features\": {\n",
    "            \"values\": ['auto', 'sqrt', 'log2']\n",
    "        },\n",
    "        \"min_samples_leaf\": {\n",
    "            \"values\": [1, 2, 3, 4, 5, 6, 7, 8, 9, 10, 11, 13, 15, 18, 20, 25, 30]\n",
    "        },\n",
    "        \"min_samples_split\": {\n",
    "            \"values\": [2, 3, 4, 5, 6, 7, 8, 9, 10, 11, 13, 15, 18, 20, 25, 30]\n",
    "        }\n",
    "    }\n",
    "}"
   ],
   "metadata": {
    "collapsed": false,
    "pycharm": {
     "name": "#%%\n"
    }
   }
  },
  {
   "cell_type": "markdown",
   "source": [
    "### Start Time Series Prediction Sweep of Random Forest Regressor"
   ],
   "metadata": {
    "collapsed": false,
    "pycharm": {
     "name": "#%% md\n"
    }
   }
  },
  {
   "cell_type": "code",
   "execution_count": null,
   "outputs": [],
   "source": [
    "import wandb\n",
    "from sklearn.ensemble import RandomForestRegressor\n",
    "\n",
    "def my_train_func():\n",
    "    wandb.init()\n",
    "\n",
    "    _n_estimators = wandb.config.n_estimators\n",
    "    _criterion = wandb.config.criterion\n",
    "    _max_depth = wandb.config.max_depth\n",
    "    _bootstrap = wandb.config.bootstrap\n",
    "    _max_features = wandb.config.max_features\n",
    "    _min_samples_leaf = wandb.config.min_samples_leaf\n",
    "    _min_samples_split = wandb.config.min_samples_split\n",
    "\n",
    "    model = RandomForestRegressor(n_estimators=_n_estimators,\n",
    "                                  criterion=_criterion,\n",
    "                                  max_depth=_max_depth,\n",
    "                                  bootstrap=_bootstrap,\n",
    "                                  max_features=_max_features,\n",
    "                                  min_samples_leaf=_min_samples_leaf,\n",
    "                                  min_samples_split=_min_samples_split,\n",
    "                                  n_jobs=2)\n",
    "\n",
    "    model.fit(X_train, y_train.values.ravel())\n",
    "    y_pred = model.predict(X_test)\n",
    "\n",
    "    r2, mae, mse =regression_results(y_test, y_pred)\n",
    "\n",
    "    wandb.log({\"r2_score\": r2, \"MAE\": mae, \"MSE\": mse})\n",
    "\n",
    "# INIT SWEEP\n",
    "sweep_id_rfc = wandb.sweep(sweep_configuration_rfr, project=\"TimeSeries_RandomForestRegression\")\n",
    "# RUN SWEEP\n",
    "wandb.agent(sweep_id_rfc, function=my_train_func)\n"
   ],
   "metadata": {
    "collapsed": false,
    "pycharm": {
     "name": "#%%\n",
     "is_executing": true
    }
   }
  }
 ],
 "metadata": {
  "kernelspec": {
   "display_name": "Python 3",
   "language": "python",
   "name": "python3"
  },
  "language_info": {
   "codemirror_mode": {
    "name": "ipython",
    "version": 2
   },
   "file_extension": ".py",
   "mimetype": "text/x-python",
   "name": "python",
   "nbconvert_exporter": "python",
   "pygments_lexer": "ipython2",
   "version": "2.7.6"
  }
 },
 "nbformat": 4,
 "nbformat_minor": 0
}