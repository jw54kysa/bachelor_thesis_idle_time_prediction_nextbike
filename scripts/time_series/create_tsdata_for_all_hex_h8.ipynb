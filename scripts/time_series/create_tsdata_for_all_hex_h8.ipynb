{
 "cells": [
  {
   "cell_type": "code",
   "execution_count": 12,
   "id": "01b26676",
   "metadata": {},
   "outputs": [],
   "source": [
    "def importdata():\n",
    "    df = pd.read_csv('../data/df_points_2019_2020_h8.csv')\n",
    "    df = df[['bike_id','lat','lng','timestood','time_start','time_end','flag','hex_id']]\n",
    "    \n",
    "    df['time_start'] = pd.to_datetime(df['time_start'])\n",
    "    \n",
    "    return df"
   ]
  },
  {
   "cell_type": "code",
   "execution_count": 13,
   "id": "e6560592",
   "metadata": {},
   "outputs": [],
   "source": [
    "def create_onedf_hexid(df,hex_id):\n",
    "    onedfhexid = pd.DataFrame(columns= ['bike_id','lat','lng','timestood','time_start','time_end','flag','hex_id'])\n",
    "    for ind in df.index:\n",
    "        if df['hex_id'][ind] == hex_id:\n",
    "            onedfhexid.loc[df.index[ind]] = df.iloc[ind]\n",
    "            #onedfhexid.append(df[ind], ignore_index = True)\n",
    "    return onedfhexid.reset_index(drop=True)"
   ]
  },
  {
   "cell_type": "code",
   "execution_count": 14,
   "id": "e99c1f77",
   "metadata": {},
   "outputs": [],
   "source": [
    "def create_tsdata(_year,_days):\n",
    "    rng = pd.date_range(f'{_year}-01-01', periods=_days, freq='D')\n",
    "    tsdata = pd.DataFrame({ 'date': rng, 'idle_time' : np.nan, 'list': np.nan, 'bike_count': np.nan}) \n",
    "    return tsdata.set_index('date')"
   ]
  },
  {
   "cell_type": "code",
   "execution_count": 15,
   "id": "04ef7983",
   "metadata": {},
   "outputs": [],
   "source": [
    "def add_rows_to_days(tsdata,onedfhexid):\n",
    "    # iteriere über alle Tage\n",
    "    for date in tsdata.index:\n",
    "        list = []\n",
    "        # Adde alle Rows in die List wenn Tag = Tag\n",
    "        for ind in onedfhexid.index:\n",
    "            if date.date() == onedfhexid['time_start'][ind].date():\n",
    "                list.append(onedfhexid['timestood'][ind])\n",
    "        #print(len(list))        \n",
    "        # Setze Mittelwert für Tage\n",
    "        if len(list) == 0:\n",
    "            tsdata['bike_count'][date] = 1\n",
    "            continue\n",
    "        else:\n",
    "            tsdata['bike_count'][date] = len(list)\n",
    "            tsdata['idle_time'][date] = statistics.mean(list)\n",
    "    return tsdata"
   ]
  },
  {
   "cell_type": "code",
   "execution_count": 16,
   "id": "64eec561",
   "metadata": {},
   "outputs": [],
   "source": [
    "def get_rows_one_day(day,onedfhexid):\n",
    "    list=[]\n",
    "    for ind in onedfhexid.index:\n",
    "        if day == onedfhexid['time_start'][ind].date():\n",
    "            list.append(onedfhexid['timestood'][ind])\n",
    "    print(list)\n",
    "    print(statistics.mean(list))"
   ]
  },
  {
   "cell_type": "code",
   "execution_count": 17,
   "id": "3b468636",
   "metadata": {},
   "outputs": [],
   "source": [
    "def roling_weighted_mean(tsdata,_year,_days):\n",
    "    x = []\n",
    "    rng2 = pd.date_range(f'{_year}-01-01', periods=_days, freq='D')\n",
    "    data_mean2 = pd.DataFrame({ 'date': rng2, 'idle_time' : np.nan})\n",
    "    data_mean2 = data_mean2.set_index('date')\n",
    "    \n",
    "    for window in tsdata.rolling(window = 7 , center = True):\n",
    "        #print(window)\n",
    "        x.append(np.average(window['idle_time'], weights = window['bike_count']))\n",
    "    \n",
    "    data_mean2['idle_time'] = x\n",
    "    return data_mean2"
   ]
  },
  {
   "cell_type": "code",
   "execution_count": 18,
   "id": "dc7a87be",
   "metadata": {},
   "outputs": [],
   "source": [
    "def plot(x):\n",
    "    fig, ax1 = plt.subplots(figsize = (20,10))\n",
    "    \n",
    "    ax1.plot(x['idle_time'], linewidth=2,color='red', label='Idle Time Mean')\n",
    "    ax1.set_xlabel('day')\n",
    "    ax1.set_ylabel('timestood (min)')\n",
    "    ax1.tick_params(axis ='y', labelcolor = 'red') \n",
    "    \n",
    "    ax2 = ax1.twinx()\n",
    "    ax2.plot(x['bike_count'], linewidth=2, label='bike_count')\n",
    "    ax2.set_ylabel('bike_count')\n",
    "    ax2.tick_params(axis ='y', labelcolor = 'blue')\n",
    "    \n",
    "    plt.show()"
   ]
  },
  {
   "cell_type": "code",
   "execution_count": 19,
   "id": "50d92a87",
   "metadata": {},
   "outputs": [],
   "source": [
    "def plot_details(tsdata,data_7d_rol,data_2m_rol,data_7d_mean2,hex_id,total_bike_count):\n",
    "    fig, ax = plt.subplots(figsize = (20,10))\n",
    "    \n",
    "    # plotting daily data\n",
    "    ax.plot(tsdata['idle_time'], marker='.', markersize=2, color='0.6',linestyle='None', label='Daily')\n",
    "    # plotting 7-day rolling data\n",
    "    ax.plot(data_7d_rol['idle_time'],color = 'blue', linewidth=2, label='7-d Rolling Mean')\n",
    "    ax.plot(data_7d_mean2['idle_time'],color = 'green', linewidth=2, label='7-d Rolling Mean')\n",
    "    # plotting 2-Month rolling data -trend-\n",
    "    ax.plot(data_2m_rol['idle_time'], color='0.2', linewidth=3, label='Trend (2M)')\n",
    "    ax.legend()\n",
    "    ax.set_xlabel('day')\n",
    "    ax.set_ylabel('timestood (min)')\n",
    "    ax.set_title(f'Trends in idel time of bikes in hex: {hex_id} with a total of {total_bike_count} rentals')\n",
    "    \n",
    "    ax2 = ax.twinx()\n",
    "    ax2.plot(data_7d_rol['bike_count'],linewidth=1, color='0.5',label='Bike Count 7-d RM')\n",
    "    ax2.set_xlabel('day')\n",
    "    ax2.set_ylabel('bikes in hex per day')\n",
    "    ax2.legend()\n",
    "    \n",
    "    plt.show()"
   ]
  },
  {
   "cell_type": "code",
   "execution_count": 20,
   "id": "3aa5aba5",
   "metadata": {},
   "outputs": [],
   "source": [
    "def fix_missing_values(tsdata):\n",
    "    data_freq = tsdata.asfreq('D')\n",
    "    data_freq = data_freq.ffill()\n",
    "    return data_freq"
   ]
  },
  {
   "cell_type": "markdown",
   "id": "42f1f959",
   "metadata": {},
   "source": [
    "# Main"
   ]
  },
  {
   "cell_type": "code",
   "execution_count": 21,
   "id": "67d54181",
   "metadata": {},
   "outputs": [
    {
     "name": "stderr",
     "output_type": "stream",
     "text": [
      "  0%|                                                              | 0/451 [00:04<?, ?it/s]\n"
     ]
    },
    {
     "ename": "KeyboardInterrupt",
     "evalue": "",
     "output_type": "error",
     "traceback": [
      "\u001b[0;31m---------------------------------------------------------------------------\u001b[0m",
      "\u001b[0;31mKeyboardInterrupt\u001b[0m                         Traceback (most recent call last)",
      "\u001b[0;32m/var/folders/5t/28jzvs016nq5vxslb670gs040000gn/T/ipykernel_2172/2860849293.py\u001b[0m in \u001b[0;36m<module>\u001b[0;34m\u001b[0m\n\u001b[1;32m     32\u001b[0m \u001b[0;34m\u001b[0m\u001b[0m\n\u001b[1;32m     33\u001b[0m \u001b[0;32mfor\u001b[0m \u001b[0mhex_id\u001b[0m \u001b[0;32min\u001b[0m \u001b[0mtqdm\u001b[0m\u001b[0;34m(\u001b[0m\u001b[0mlisthex\u001b[0m\u001b[0;34m)\u001b[0m\u001b[0;34m:\u001b[0m\u001b[0;34m\u001b[0m\u001b[0;34m\u001b[0m\u001b[0m\n\u001b[0;32m---> 34\u001b[0;31m     \u001b[0monedfhexid\u001b[0m \u001b[0;34m=\u001b[0m \u001b[0mcreate_onedf_hexid\u001b[0m\u001b[0;34m(\u001b[0m\u001b[0mdf\u001b[0m\u001b[0;34m,\u001b[0m\u001b[0mhex_id\u001b[0m\u001b[0;34m)\u001b[0m\u001b[0;34m\u001b[0m\u001b[0;34m\u001b[0m\u001b[0m\n\u001b[0m\u001b[1;32m     35\u001b[0m     \u001b[0mtsdata\u001b[0m \u001b[0;34m=\u001b[0m \u001b[0mcreate_tsdata\u001b[0m\u001b[0;34m(\u001b[0m\u001b[0myear\u001b[0m\u001b[0;34m,\u001b[0m\u001b[0mdays\u001b[0m\u001b[0;34m)\u001b[0m\u001b[0;34m\u001b[0m\u001b[0;34m\u001b[0m\u001b[0m\n\u001b[1;32m     36\u001b[0m     \u001b[0mtsdata\u001b[0m \u001b[0;34m=\u001b[0m \u001b[0madd_rows_to_days\u001b[0m\u001b[0;34m(\u001b[0m\u001b[0mtsdata\u001b[0m\u001b[0;34m,\u001b[0m\u001b[0monedfhexid\u001b[0m\u001b[0;34m)\u001b[0m\u001b[0;34m\u001b[0m\u001b[0;34m\u001b[0m\u001b[0m\n",
      "\u001b[0;32m/var/folders/5t/28jzvs016nq5vxslb670gs040000gn/T/ipykernel_2172/1164578979.py\u001b[0m in \u001b[0;36mcreate_onedf_hexid\u001b[0;34m(df, hex_id)\u001b[0m\n\u001b[1;32m      3\u001b[0m     \u001b[0;32mfor\u001b[0m \u001b[0mind\u001b[0m \u001b[0;32min\u001b[0m \u001b[0mdf\u001b[0m\u001b[0;34m.\u001b[0m\u001b[0mindex\u001b[0m\u001b[0;34m:\u001b[0m\u001b[0;34m\u001b[0m\u001b[0;34m\u001b[0m\u001b[0m\n\u001b[1;32m      4\u001b[0m         \u001b[0;32mif\u001b[0m \u001b[0mdf\u001b[0m\u001b[0;34m[\u001b[0m\u001b[0;34m'hex_id'\u001b[0m\u001b[0;34m]\u001b[0m\u001b[0;34m[\u001b[0m\u001b[0mind\u001b[0m\u001b[0;34m]\u001b[0m \u001b[0;34m==\u001b[0m \u001b[0mhex_id\u001b[0m\u001b[0;34m:\u001b[0m\u001b[0;34m\u001b[0m\u001b[0;34m\u001b[0m\u001b[0m\n\u001b[0;32m----> 5\u001b[0;31m             \u001b[0monedfhexid\u001b[0m\u001b[0;34m.\u001b[0m\u001b[0mloc\u001b[0m\u001b[0;34m[\u001b[0m\u001b[0mdf\u001b[0m\u001b[0;34m.\u001b[0m\u001b[0mindex\u001b[0m\u001b[0;34m[\u001b[0m\u001b[0mind\u001b[0m\u001b[0;34m]\u001b[0m\u001b[0;34m]\u001b[0m \u001b[0;34m=\u001b[0m \u001b[0mdf\u001b[0m\u001b[0;34m.\u001b[0m\u001b[0miloc\u001b[0m\u001b[0;34m[\u001b[0m\u001b[0mind\u001b[0m\u001b[0;34m]\u001b[0m\u001b[0;34m\u001b[0m\u001b[0;34m\u001b[0m\u001b[0m\n\u001b[0m\u001b[1;32m      6\u001b[0m             \u001b[0;31m#onedfhexid.append(df[ind], ignore_index = True)\u001b[0m\u001b[0;34m\u001b[0m\u001b[0;34m\u001b[0m\u001b[0m\n\u001b[1;32m      7\u001b[0m     \u001b[0;32mreturn\u001b[0m \u001b[0monedfhexid\u001b[0m\u001b[0;34m.\u001b[0m\u001b[0mreset_index\u001b[0m\u001b[0;34m(\u001b[0m\u001b[0mdrop\u001b[0m\u001b[0;34m=\u001b[0m\u001b[0;32mTrue\u001b[0m\u001b[0;34m)\u001b[0m\u001b[0;34m\u001b[0m\u001b[0;34m\u001b[0m\u001b[0m\n",
      "\u001b[0;32m/usr/local/Caskroom/miniconda/base/envs/geobike/lib/python3.9/site-packages/pandas/core/indexing.py\u001b[0m in \u001b[0;36m__getitem__\u001b[0;34m(self, key)\u001b[0m\n\u001b[1;32m    929\u001b[0m \u001b[0;34m\u001b[0m\u001b[0m\n\u001b[1;32m    930\u001b[0m             \u001b[0mmaybe_callable\u001b[0m \u001b[0;34m=\u001b[0m \u001b[0mcom\u001b[0m\u001b[0;34m.\u001b[0m\u001b[0mapply_if_callable\u001b[0m\u001b[0;34m(\u001b[0m\u001b[0mkey\u001b[0m\u001b[0;34m,\u001b[0m \u001b[0mself\u001b[0m\u001b[0;34m.\u001b[0m\u001b[0mobj\u001b[0m\u001b[0;34m)\u001b[0m\u001b[0;34m\u001b[0m\u001b[0;34m\u001b[0m\u001b[0m\n\u001b[0;32m--> 931\u001b[0;31m             \u001b[0;32mreturn\u001b[0m \u001b[0mself\u001b[0m\u001b[0;34m.\u001b[0m\u001b[0m_getitem_axis\u001b[0m\u001b[0;34m(\u001b[0m\u001b[0mmaybe_callable\u001b[0m\u001b[0;34m,\u001b[0m \u001b[0maxis\u001b[0m\u001b[0;34m=\u001b[0m\u001b[0maxis\u001b[0m\u001b[0;34m)\u001b[0m\u001b[0;34m\u001b[0m\u001b[0;34m\u001b[0m\u001b[0m\n\u001b[0m\u001b[1;32m    932\u001b[0m \u001b[0;34m\u001b[0m\u001b[0m\n\u001b[1;32m    933\u001b[0m     \u001b[0;32mdef\u001b[0m \u001b[0m_is_scalar_access\u001b[0m\u001b[0;34m(\u001b[0m\u001b[0mself\u001b[0m\u001b[0;34m,\u001b[0m \u001b[0mkey\u001b[0m\u001b[0;34m:\u001b[0m \u001b[0mtuple\u001b[0m\u001b[0;34m)\u001b[0m\u001b[0;34m:\u001b[0m\u001b[0;34m\u001b[0m\u001b[0;34m\u001b[0m\u001b[0m\n",
      "\u001b[0;32m/usr/local/Caskroom/miniconda/base/envs/geobike/lib/python3.9/site-packages/pandas/core/indexing.py\u001b[0m in \u001b[0;36m_getitem_axis\u001b[0;34m(self, key, axis)\u001b[0m\n\u001b[1;32m   1566\u001b[0m             \u001b[0mself\u001b[0m\u001b[0;34m.\u001b[0m\u001b[0m_validate_integer\u001b[0m\u001b[0;34m(\u001b[0m\u001b[0mkey\u001b[0m\u001b[0;34m,\u001b[0m \u001b[0maxis\u001b[0m\u001b[0;34m)\u001b[0m\u001b[0;34m\u001b[0m\u001b[0;34m\u001b[0m\u001b[0m\n\u001b[1;32m   1567\u001b[0m \u001b[0;34m\u001b[0m\u001b[0m\n\u001b[0;32m-> 1568\u001b[0;31m             \u001b[0;32mreturn\u001b[0m \u001b[0mself\u001b[0m\u001b[0;34m.\u001b[0m\u001b[0mobj\u001b[0m\u001b[0;34m.\u001b[0m\u001b[0m_ixs\u001b[0m\u001b[0;34m(\u001b[0m\u001b[0mkey\u001b[0m\u001b[0;34m,\u001b[0m \u001b[0maxis\u001b[0m\u001b[0;34m=\u001b[0m\u001b[0maxis\u001b[0m\u001b[0;34m)\u001b[0m\u001b[0;34m\u001b[0m\u001b[0;34m\u001b[0m\u001b[0m\n\u001b[0m\u001b[1;32m   1569\u001b[0m \u001b[0;34m\u001b[0m\u001b[0m\n\u001b[1;32m   1570\u001b[0m     \u001b[0;32mdef\u001b[0m \u001b[0m_get_slice_axis\u001b[0m\u001b[0;34m(\u001b[0m\u001b[0mself\u001b[0m\u001b[0;34m,\u001b[0m \u001b[0mslice_obj\u001b[0m\u001b[0;34m:\u001b[0m \u001b[0mslice\u001b[0m\u001b[0;34m,\u001b[0m \u001b[0maxis\u001b[0m\u001b[0;34m:\u001b[0m \u001b[0mint\u001b[0m\u001b[0;34m)\u001b[0m\u001b[0;34m:\u001b[0m\u001b[0;34m\u001b[0m\u001b[0;34m\u001b[0m\u001b[0m\n",
      "\u001b[0;32m/usr/local/Caskroom/miniconda/base/envs/geobike/lib/python3.9/site-packages/pandas/core/frame.py\u001b[0m in \u001b[0;36m_ixs\u001b[0;34m(self, i, axis)\u001b[0m\n\u001b[1;32m   3381\u001b[0m             \u001b[0;31m# if we are a copy, mark as such\u001b[0m\u001b[0;34m\u001b[0m\u001b[0;34m\u001b[0m\u001b[0m\n\u001b[1;32m   3382\u001b[0m             \u001b[0mcopy\u001b[0m \u001b[0;34m=\u001b[0m \u001b[0misinstance\u001b[0m\u001b[0;34m(\u001b[0m\u001b[0mnew_values\u001b[0m\u001b[0;34m,\u001b[0m \u001b[0mnp\u001b[0m\u001b[0;34m.\u001b[0m\u001b[0mndarray\u001b[0m\u001b[0;34m)\u001b[0m \u001b[0;32mand\u001b[0m \u001b[0mnew_values\u001b[0m\u001b[0;34m.\u001b[0m\u001b[0mbase\u001b[0m \u001b[0;32mis\u001b[0m \u001b[0;32mNone\u001b[0m\u001b[0;34m\u001b[0m\u001b[0;34m\u001b[0m\u001b[0m\n\u001b[0;32m-> 3383\u001b[0;31m             result = self._constructor_sliced(\n\u001b[0m\u001b[1;32m   3384\u001b[0m                 \u001b[0mnew_values\u001b[0m\u001b[0;34m,\u001b[0m\u001b[0;34m\u001b[0m\u001b[0;34m\u001b[0m\u001b[0m\n\u001b[1;32m   3385\u001b[0m                 \u001b[0mindex\u001b[0m\u001b[0;34m=\u001b[0m\u001b[0mself\u001b[0m\u001b[0;34m.\u001b[0m\u001b[0mcolumns\u001b[0m\u001b[0;34m,\u001b[0m\u001b[0;34m\u001b[0m\u001b[0;34m\u001b[0m\u001b[0m\n",
      "\u001b[0;32m/usr/local/Caskroom/miniconda/base/envs/geobike/lib/python3.9/site-packages/pandas/core/series.py\u001b[0m in \u001b[0;36m__init__\u001b[0;34m(self, data, index, dtype, name, copy, fastpath)\u001b[0m\n\u001b[1;32m    439\u001b[0m                 \u001b[0mdata\u001b[0m \u001b[0;34m=\u001b[0m \u001b[0msanitize_array\u001b[0m\u001b[0;34m(\u001b[0m\u001b[0mdata\u001b[0m\u001b[0;34m,\u001b[0m \u001b[0mindex\u001b[0m\u001b[0;34m,\u001b[0m \u001b[0mdtype\u001b[0m\u001b[0;34m,\u001b[0m \u001b[0mcopy\u001b[0m\u001b[0;34m)\u001b[0m\u001b[0;34m\u001b[0m\u001b[0;34m\u001b[0m\u001b[0m\n\u001b[1;32m    440\u001b[0m \u001b[0;34m\u001b[0m\u001b[0m\n\u001b[0;32m--> 441\u001b[0;31m                 \u001b[0mmanager\u001b[0m \u001b[0;34m=\u001b[0m \u001b[0mget_option\u001b[0m\u001b[0;34m(\u001b[0m\u001b[0;34m\"mode.data_manager\"\u001b[0m\u001b[0;34m)\u001b[0m\u001b[0;34m\u001b[0m\u001b[0;34m\u001b[0m\u001b[0m\n\u001b[0m\u001b[1;32m    442\u001b[0m                 \u001b[0;32mif\u001b[0m \u001b[0mmanager\u001b[0m \u001b[0;34m==\u001b[0m \u001b[0;34m\"block\"\u001b[0m\u001b[0;34m:\u001b[0m\u001b[0;34m\u001b[0m\u001b[0;34m\u001b[0m\u001b[0m\n\u001b[1;32m    443\u001b[0m                     \u001b[0mdata\u001b[0m \u001b[0;34m=\u001b[0m \u001b[0mSingleBlockManager\u001b[0m\u001b[0;34m.\u001b[0m\u001b[0mfrom_array\u001b[0m\u001b[0;34m(\u001b[0m\u001b[0mdata\u001b[0m\u001b[0;34m,\u001b[0m \u001b[0mindex\u001b[0m\u001b[0;34m)\u001b[0m\u001b[0;34m\u001b[0m\u001b[0;34m\u001b[0m\u001b[0m\n",
      "\u001b[0;32m/usr/local/Caskroom/miniconda/base/envs/geobike/lib/python3.9/site-packages/pandas/_config/config.py\u001b[0m in \u001b[0;36m__call__\u001b[0;34m(self, *args, **kwds)\u001b[0m\n\u001b[1;32m    240\u001b[0m         \u001b[0mself\u001b[0m\u001b[0;34m.\u001b[0m\u001b[0m__func__\u001b[0m \u001b[0;34m=\u001b[0m \u001b[0mfunc\u001b[0m\u001b[0;34m\u001b[0m\u001b[0;34m\u001b[0m\u001b[0m\n\u001b[1;32m    241\u001b[0m \u001b[0;34m\u001b[0m\u001b[0m\n\u001b[0;32m--> 242\u001b[0;31m     \u001b[0;32mdef\u001b[0m \u001b[0m__call__\u001b[0m\u001b[0;34m(\u001b[0m\u001b[0mself\u001b[0m\u001b[0;34m,\u001b[0m \u001b[0;34m*\u001b[0m\u001b[0margs\u001b[0m\u001b[0;34m,\u001b[0m \u001b[0;34m**\u001b[0m\u001b[0mkwds\u001b[0m\u001b[0;34m)\u001b[0m\u001b[0;34m:\u001b[0m\u001b[0;34m\u001b[0m\u001b[0;34m\u001b[0m\u001b[0m\n\u001b[0m\u001b[1;32m    243\u001b[0m         \u001b[0;32mreturn\u001b[0m \u001b[0mself\u001b[0m\u001b[0;34m.\u001b[0m\u001b[0m__func__\u001b[0m\u001b[0;34m(\u001b[0m\u001b[0;34m*\u001b[0m\u001b[0margs\u001b[0m\u001b[0;34m,\u001b[0m \u001b[0;34m**\u001b[0m\u001b[0mkwds\u001b[0m\u001b[0;34m)\u001b[0m\u001b[0;34m\u001b[0m\u001b[0;34m\u001b[0m\u001b[0m\n\u001b[1;32m    244\u001b[0m \u001b[0;34m\u001b[0m\u001b[0m\n",
      "\u001b[0;31mKeyboardInterrupt\u001b[0m: "
     ]
    }
   ],
   "source": [
    "import pandas as pd\n",
    "pd.options.mode.chained_assignment = None\n",
    "from tqdm import tqdm\n",
    "from datetime import timedelta, datetime, date\n",
    "pd.set_option('display.max_rows', None)\n",
    "import weightedstats\n",
    "\n",
    "import numpy as np\n",
    "import statistics\n",
    "import matplotlib.pyplot as plt\n",
    "import pickle\n",
    "\n",
    "### Define the HEX_id\n",
    "\n",
    "#hex_id = '8a1f1a8d9d97fff'\n",
    "#hex_id = '8a1f1a8cb4cffff'\n",
    "#hex_id = '8a1f1a8cb4dffff'\n",
    "#hex_id = '8a1f1a8cb71ffff'\n",
    "#hex_id = '881f1a8cb7fffff'\n",
    "\n",
    "days=730\n",
    "year=2019\n",
    "columns_for_tsdata = ['idle_time','bike_count']\n",
    "\n",
    "df = importdata()\n",
    "\n",
    "listhex = {}\n",
    "for ind in df.index:\n",
    "    if df['hex_id'][ind] not in listhex:\n",
    "        listhex[df['hex_id'][ind]] = 0\n",
    "        \n",
    "\n",
    "for hex_id in tqdm(listhex):\n",
    "    onedfhexid = create_onedf_hexid(df,hex_id)\n",
    "    tsdata = create_tsdata(year,days)\n",
    "    tsdata = add_rows_to_days(tsdata,onedfhexid)\n",
    "    tsdata = fix_missing_values(tsdata)\n",
    "    listhex[hex_id] = tsdata\n",
    "    \n",
    "    \n",
    "f = open(\"../data/tsdata_2019_2020_h8.pkl\",\"wb\")\n",
    "pickle.dump(dict,f)\n",
    "f.close()"
   ]
  },
  {
   "cell_type": "code",
   "execution_count": null,
   "id": "245f0d04",
   "metadata": {},
   "outputs": [],
   "source": [
    "total_bike_count = int(tsdata['bike_count'].sum())\n",
    "\n",
    "data_7d_rol = tsdata[columns_for_tsdata].rolling(window = 7, center = True).mean()\n",
    "data_2m_rol = tsdata[columns_for_tsdata].rolling(window = 60, center = True).mean()\n",
    "data_7d_mean2 = roling_weighted_mean(tsdata,year,days)\n",
    "\n",
    "\n",
    "plot_details(tsdata,data_7d_rol,data_2m_rol,data_7d_mean2,hex_id,total_bike_count)"
   ]
  },
  {
   "cell_type": "code",
   "execution_count": null,
   "id": "712dcf4a",
   "metadata": {},
   "outputs": [],
   "source": []
  }
 ],
 "metadata": {
  "kernelspec": {
   "display_name": "Python 3 (ipykernel)",
   "language": "python",
   "name": "python3"
  },
  "language_info": {
   "codemirror_mode": {
    "name": "ipython",
    "version": 3
   },
   "file_extension": ".py",
   "mimetype": "text/x-python",
   "name": "python",
   "nbconvert_exporter": "python",
   "pygments_lexer": "ipython3",
   "version": "3.9.7"
  }
 },
 "nbformat": 4,
 "nbformat_minor": 5
}
