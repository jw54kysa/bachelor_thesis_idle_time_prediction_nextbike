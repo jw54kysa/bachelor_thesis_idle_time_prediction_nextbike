{
 "cells": [
  {
   "cell_type": "code",
   "execution_count": 12,
   "metadata": {
    "collapsed": true
   },
   "outputs": [],
   "source": [
    "import pandas as pd\n",
    "from sklearn.model_selection import train_test_split, TimeSeriesSplit\n",
    "\n",
    "idle_time_data = pd.read_csv('../data/df_points/df_points_18_21_class.csv')\n",
    "from sklearn.preprocessing import StandardScaler\n",
    "\n",
    "TargetVariable = ['idle_time']\n",
    "Predictors = ['bike_id', 'lat', 'lng', 'temp', 'rain', 'snow', 'dt_start', 'hex_enc', 'start_min', 'month', 'day']\n",
    "\n",
    "X = idle_time_data[Predictors].values\n",
    "y = idle_time_data[TargetVariable].values\n",
    "\n",
    "## Scale Data\n",
    "PredictorScaler = StandardScaler()\n",
    "PredictorScalerFit = PredictorScaler.fit(X)\n",
    "X = PredictorScalerFit.transform(X)\n",
    "\n",
    "TargetScaler = StandardScaler()\n",
    "TargetScalerFit = TargetScaler.fit(y)\n",
    "y = TargetScalerFit.transform(y)\n",
    "\n",
    "X_train, X_test, y_train, y_test = train_test_split(X, y, train_size=0.8, shuffle=False)\n",
    "# , random_state=42"
   ]
  },
  {
   "cell_type": "code",
   "execution_count": 14,
   "outputs": [
    {
     "name": "stdout",
     "output_type": "stream",
     "text": [
      "Create sweep with ID: 9u00t99n\n",
      "Sweep URL: https://wandb.ai/jonathanweske/RandomForestRegressor/sweeps/9u00t99n\n"
     ]
    },
    {
     "name": "stderr",
     "output_type": "stream",
     "text": [
      "\u001B[34m\u001B[1mwandb\u001B[0m: Agent Starting Run: ufd751tj with config:\n",
      "\u001B[34m\u001B[1mwandb\u001B[0m: \tbootstrap: False\n",
      "\u001B[34m\u001B[1mwandb\u001B[0m: \tcriterion: squared_error\n",
      "\u001B[34m\u001B[1mwandb\u001B[0m: \tmax_depth: None\n",
      "\u001B[34m\u001B[1mwandb\u001B[0m: \tmax_features: auto\n",
      "\u001B[34m\u001B[1mwandb\u001B[0m: \tmin_samples_leaf: 50\n",
      "\u001B[34m\u001B[1mwandb\u001B[0m: \tmin_samples_split: 5\n",
      "\u001B[34m\u001B[1mwandb\u001B[0m: \tn_estimators: 50\n"
     ]
    },
    {
     "data": {
      "text/plain": "<IPython.core.display.HTML object>",
      "text/html": "Tracking run with wandb version 0.12.11"
     },
     "metadata": {},
     "output_type": "display_data"
    },
    {
     "data": {
      "text/plain": "<IPython.core.display.HTML object>",
      "text/html": "Run data is saved locally in <code>/Users/jonweske/devment/BA_nextbike/scripts/wandb/run-20220402_094008-ufd751tj</code>"
     },
     "metadata": {},
     "output_type": "display_data"
    },
    {
     "data": {
      "text/plain": "<IPython.core.display.HTML object>",
      "text/html": "Syncing run <strong><a href=\"https://wandb.ai/jonathanweske/RandomForestRegressor/runs/ufd751tj\" target=\"_blank\">daily-sweep-1</a></strong> to <a href=\"https://wandb.ai/jonathanweske/RandomForestRegressor\" target=\"_blank\">Weights & Biases</a> (<a href=\"https://wandb.me/run\" target=\"_blank\">docs</a>)<br/>Sweep page:  <a href=\"https://wandb.ai/jonathanweske/RandomForestRegressor/sweeps/9u00t99n\" target=\"_blank\">https://wandb.ai/jonathanweske/RandomForestRegressor/sweeps/9u00t99n</a>"
     },
     "metadata": {},
     "output_type": "display_data"
    },
    {
     "name": "stdout",
     "output_type": "stream",
     "text": [
      "\n"
     ]
    },
    {
     "data": {
      "text/plain": "<IPython.core.display.HTML object>",
      "text/html": "Waiting for W&B process to finish... <strong style=\"color:red\">(failed 1).</strong> Press Control-C to abort syncing."
     },
     "metadata": {},
     "output_type": "display_data"
    },
    {
     "data": {
      "text/plain": "VBox(children=(Label(value='0.001 MB of 0.001 MB uploaded (0.000 MB deduped)\\r'), FloatProgress(value=1.0, max…",
      "application/vnd.jupyter.widget-view+json": {
       "version_major": 2,
       "version_minor": 0,
       "model_id": "416e6c47b42d48b6a911559ee28f63e2"
      }
     },
     "metadata": {},
     "output_type": "display_data"
    },
    {
     "data": {
      "text/plain": "<IPython.core.display.HTML object>",
      "text/html": "Synced <strong style=\"color:#cdcd00\">daily-sweep-1</strong>: <a href=\"https://wandb.ai/jonathanweske/RandomForestRegressor/runs/ufd751tj\" target=\"_blank\">https://wandb.ai/jonathanweske/RandomForestRegressor/runs/ufd751tj</a><br/>Synced 5 W&B file(s), 0 media file(s), 0 artifact file(s) and 0 other file(s)"
     },
     "metadata": {},
     "output_type": "display_data"
    },
    {
     "data": {
      "text/plain": "<IPython.core.display.HTML object>",
      "text/html": "Find logs at: <code>./wandb/run-20220402_094008-ufd751tj/logs</code>"
     },
     "metadata": {},
     "output_type": "display_data"
    },
    {
     "name": "stderr",
     "output_type": "stream",
     "text": [
      "Run ufd751tj errored: AttributeError(\"module 'sklearn.metrics' has no attribute 'rmse'\")\n",
      "\u001B[34m\u001B[1mwandb\u001B[0m: \u001B[32m\u001B[41mERROR\u001B[0m Run ufd751tj errored: AttributeError(\"module 'sklearn.metrics' has no attribute 'rmse'\")\n",
      "\u001B[34m\u001B[1mwandb\u001B[0m: Sweep Agent: Waiting for job.\n",
      "\u001B[34m\u001B[1mwandb\u001B[0m: Job received.\n",
      "\u001B[34m\u001B[1mwandb\u001B[0m: Agent Starting Run: 81cypbcw with config:\n",
      "\u001B[34m\u001B[1mwandb\u001B[0m: \tbootstrap: True\n",
      "\u001B[34m\u001B[1mwandb\u001B[0m: \tcriterion: absolute_error\n",
      "\u001B[34m\u001B[1mwandb\u001B[0m: \tmax_depth: None\n",
      "\u001B[34m\u001B[1mwandb\u001B[0m: \tmax_features: log2\n",
      "\u001B[34m\u001B[1mwandb\u001B[0m: \tmin_samples_leaf: 1\n",
      "\u001B[34m\u001B[1mwandb\u001B[0m: \tmin_samples_split: 10\n",
      "\u001B[34m\u001B[1mwandb\u001B[0m: \tn_estimators: 700\n"
     ]
    },
    {
     "data": {
      "text/plain": "<IPython.core.display.HTML object>",
      "text/html": "Tracking run with wandb version 0.12.11"
     },
     "metadata": {},
     "output_type": "display_data"
    },
    {
     "data": {
      "text/plain": "<IPython.core.display.HTML object>",
      "text/html": "Run data is saved locally in <code>/Users/jonweske/devment/BA_nextbike/scripts/wandb/run-20220402_095800-81cypbcw</code>"
     },
     "metadata": {},
     "output_type": "display_data"
    },
    {
     "data": {
      "text/plain": "<IPython.core.display.HTML object>",
      "text/html": "Syncing run <strong><a href=\"https://wandb.ai/jonathanweske/RandomForestRegressor/runs/81cypbcw\" target=\"_blank\">splendid-sweep-2</a></strong> to <a href=\"https://wandb.ai/jonathanweske/RandomForestRegressor\" target=\"_blank\">Weights & Biases</a> (<a href=\"https://wandb.me/run\" target=\"_blank\">docs</a>)<br/>Sweep page:  <a href=\"https://wandb.ai/jonathanweske/RandomForestRegressor/sweeps/9u00t99n\" target=\"_blank\">https://wandb.ai/jonathanweske/RandomForestRegressor/sweeps/9u00t99n</a>"
     },
     "metadata": {},
     "output_type": "display_data"
    },
    {
     "name": "stderr",
     "output_type": "stream",
     "text": [
      "\u001B[34m\u001B[1mwandb\u001B[0m: Ctrl + C detected. Stopping sweep.\n"
     ]
    }
   ],
   "source": [
    "from sklearn import metrics\n",
    "import numpy as np\n",
    "from sklearn.metrics import zero_one_loss, accuracy_score\n",
    "from sklearn.model_selection import cross_validate, cross_val_score, GridSearchCV\n",
    "from sklearn.ensemble import RandomForestClassifier, RandomForestRegressor\n",
    "import wandb\n",
    "import wandb\n",
    "\n",
    "sweep_configuration_rfr = {\n",
    "    \"project\": \"RandomForestRegressor\",\n",
    "    \"name\": \"my-awesome-sweep\",\n",
    "    \"metric\": {\"name\": \"accuracy\", \"goal\": \"maximize\"},\n",
    "    \"method\": \"random\",\n",
    "    \"parameters\": {\n",
    "        \"n_estimators\": {\n",
    "            \"values\": [int(x) for x in np.linspace(start = 50, stop = 2000, num = 10)]\n",
    "        },\n",
    "        \"criterion\": {\n",
    "            \"values\": ['squared_error','absolute_error','poisson']\n",
    "        },\n",
    "        \"max_depth\": {\n",
    "            \"values\": [5,10,20,30,40,50,60,70,80,90,100,None]\n",
    "        },\n",
    "        \"bootstrap\": {\n",
    "            \"values\": [True, False]\n",
    "        },\n",
    "        \"max_features\": {\n",
    "            \"values\": ['auto', 'sqrt', 'log2']\n",
    "        },\n",
    "        \"min_samples_leaf\": {\n",
    "            \"values\": [1, 2, 4, 10, 20, 50, 100, 200, 1000]\n",
    "        },\n",
    "        \"min_samples_split\": {\n",
    "            \"values\": [2, 5, 10, 100, 200]\n",
    "        }\n",
    "    }\n",
    "}\n",
    "\n",
    "def my_train_func():\n",
    "    wandb.init()\n",
    "\n",
    "    _n_estimators = wandb.config.n_estimators\n",
    "    _criterion = wandb.config.criterion\n",
    "    _max_depth = wandb.config.max_depth\n",
    "    _bootstrap = wandb.config.bootstrap\n",
    "    _max_features = wandb.config.max_features\n",
    "    _min_samples_leaf = wandb.config.min_samples_leaf\n",
    "    _min_samples_split = wandb.config.min_samples_split\n",
    "\n",
    "    model = RandomForestRegressor(n_estimators=_n_estimators,\n",
    "                                   criterion=_criterion,\n",
    "                                   max_depth=_max_depth,\n",
    "                                   bootstrap=_bootstrap,\n",
    "                                   max_features=_max_features,\n",
    "                                   min_samples_leaf=_min_samples_leaf,\n",
    "                                   min_samples_split=_min_samples_split)\n",
    "\n",
    "    model.fit(X_train,y_train.ravel())\n",
    "    y_pred = model.predict(X_test)\n",
    "\n",
    "    score_training = model.score(X_train, y_train.ravel())\n",
    "    score_validation = model.score(X_test, y_test.ravel())\n",
    "    rmse = metrics.mean_squared_error(y_test.ravel(),y_pred.ravel())\n",
    "    acc = zero_one_loss(y_test.ravel(), y_pred.ravel())\n",
    "    loss = accuracy_score(y_test.ravel(), y_pred.ravel())\n",
    "\n",
    "    #wandb.sklearn.plot_feature_importances(model, Predictors)\n",
    "\n",
    "    wandb.log({\"accuracy\": acc})\n",
    "    wandb.log({\"conf_matrix\": wandb.plot.confusion_matrix(y_true=y_test.ravel(), preds=y_pred.ravel())})\n",
    "    wandb.log({\"feature_imp\": wandb.sklearn.plot_feature_importances(model, Predictors)})\n",
    "    wandb.log({\"loss\": loss})\n",
    "    wandb.log({\"score_training\": score_training, \"score_validation\":score_validation, \"rmse\":rmse})\n",
    "\n",
    "\n",
    "# INIT SWEEP\n",
    "sweep_id_rfc = wandb.sweep(sweep_configuration_rfr, project=\"RandomForestRegressor\")\n",
    "# RUN SWEEP\n",
    "wandb.agent(sweep_id_rfc, function=my_train_func)\n"
   ],
   "metadata": {
    "collapsed": false,
    "pycharm": {
     "name": "#%%\n"
    }
   }
  },
  {
   "cell_type": "code",
   "execution_count": 9,
   "outputs": [],
   "source": [],
   "metadata": {
    "collapsed": false,
    "pycharm": {
     "name": "#%%\n"
    }
   }
  },
  {
   "cell_type": "code",
   "execution_count": null,
   "outputs": [],
   "source": [],
   "metadata": {
    "collapsed": false,
    "pycharm": {
     "name": "#%%\n"
    }
   }
  }
 ],
 "metadata": {
  "kernelspec": {
   "display_name": "Python 3",
   "language": "python",
   "name": "python3"
  },
  "language_info": {
   "codemirror_mode": {
    "name": "ipython",
    "version": 2
   },
   "file_extension": ".py",
   "mimetype": "text/x-python",
   "name": "python",
   "nbconvert_exporter": "python",
   "pygments_lexer": "ipython2",
   "version": "2.7.6"
  }
 },
 "nbformat": 4,
 "nbformat_minor": 0
}