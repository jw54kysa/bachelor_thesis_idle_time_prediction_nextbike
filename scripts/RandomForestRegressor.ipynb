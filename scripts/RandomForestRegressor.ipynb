{
 "cells": [
  {
   "cell_type": "code",
   "execution_count": 1,
   "metadata": {},
   "outputs": [],
   "source": [
    "import pandas as pd\n",
    "from sklearn.model_selection import train_test_split, TimeSeriesSplit\n",
    "\n",
    "idle_time_data = pd.read_csv('../data/df_points/df_points_18_21_class.csv')\n",
    "from sklearn.preprocessing import StandardScaler\n",
    "\n",
    "TargetVariable = ['idle_time']\n",
    "Predictors = ['bike_id', 'lat', 'lng', 'temp', 'rain', 'snow', 'dt_start', 'hex_enc', 'start_min', 'month', 'day']\n",
    "\n",
    "X = idle_time_data[Predictors].values\n",
    "y = idle_time_data[TargetVariable].values\n",
    "\n",
    "## Scale Data\n",
    "PredictorScaler = StandardScaler()\n",
    "PredictorScalerFit = PredictorScaler.fit(X)\n",
    "X = PredictorScalerFit.transform(X)\n",
    "\n",
    "TargetScaler = StandardScaler()\n",
    "TargetScalerFit = TargetScaler.fit(y)\n",
    "y = TargetScalerFit.transform(y)\n",
    "\n",
    "X_train, X_test, y_train, y_test = train_test_split(X, y, train_size=0.8, shuffle=False)\n",
    "# , random_state=42"
   ]
  },
  {
   "cell_type": "code",
   "execution_count": null,
   "outputs": [],
   "source": [
    "from sklearn.ensemble import RandomForestRegressor\n",
    "from sklearn.metrics import zero_one_loss, accuracy_score\n",
    "\n",
    "model=RandomForestRegressor()\n",
    "print(model)\n",
    "model.fit(X_train,y_train.ravel())\n",
    "score_training = model.score(X_train, y_train.ravel())\n",
    "score_validation = model.score(X_test, y_test.ravel())\n",
    "print(score_validation)\n",
    "print(score_training)\n",
    "\n",
    "y_pred = model.predict(X_test)"
   ],
   "metadata": {
    "collapsed": false,
    "pycharm": {
     "name": "#%%\n",
     "is_executing": true
    }
   }
  },
  {
   "cell_type": "markdown",
   "source": [],
   "metadata": {
    "collapsed": false
   }
  },
  {
   "cell_type": "code",
   "execution_count": 6,
   "outputs": [
    {
     "data": {
      "text/plain": "0.5206879544940034"
     },
     "execution_count": 6,
     "metadata": {},
     "output_type": "execute_result"
    }
   ],
   "source": [
    "from sklearn.metrics import mean_squared_error\n",
    "acc = mean_squared_error(y_test.ravel(), y_pred.ravel())\n",
    "acc"
   ],
   "metadata": {
    "collapsed": false,
    "pycharm": {
     "name": "#%%\n"
    }
   }
  },
  {
   "cell_type": "code",
   "execution_count": null,
   "metadata": {
    "pycharm": {
     "name": "#%%\n",
     "is_executing": true
    }
   },
   "outputs": [
    {
     "name": "stdout",
     "output_type": "stream",
     "text": [
      "Create sweep with ID: y2i1kdi2\n",
      "Sweep URL: https://wandb.ai/jonathanweske/RandomForestRegressor/sweeps/y2i1kdi2\n"
     ]
    },
    {
     "name": "stderr",
     "output_type": "stream",
     "text": [
      "\u001B[34m\u001B[1mwandb\u001B[0m: Agent Starting Run: 9lbtdfcn with config:\n",
      "\u001B[34m\u001B[1mwandb\u001B[0m: \tbootstrap: True\n",
      "\u001B[34m\u001B[1mwandb\u001B[0m: \tcriterion: absolute_error\n",
      "\u001B[34m\u001B[1mwandb\u001B[0m: \tmax_depth: 20\n",
      "\u001B[34m\u001B[1mwandb\u001B[0m: \tmax_features: sqrt\n",
      "\u001B[34m\u001B[1mwandb\u001B[0m: \tmin_samples_leaf: 20\n",
      "\u001B[34m\u001B[1mwandb\u001B[0m: \tmin_samples_split: 100\n",
      "\u001B[34m\u001B[1mwandb\u001B[0m: \tn_estimators: 140\n",
      "\u001B[34m\u001B[1mwandb\u001B[0m: Currently logged in as: \u001B[33mjonathanweske\u001B[0m (use `wandb login --relogin` to force relogin)\n"
     ]
    },
    {
     "data": {
      "text/plain": "<IPython.core.display.HTML object>",
      "text/html": "Tracking run with wandb version 0.12.11"
     },
     "metadata": {},
     "output_type": "display_data"
    },
    {
     "data": {
      "text/plain": "<IPython.core.display.HTML object>",
      "text/html": "Run data is saved locally in <code>/Users/jonweske/devment/BA_nextbike/scripts/wandb/run-20220404_193339-9lbtdfcn</code>"
     },
     "metadata": {},
     "output_type": "display_data"
    },
    {
     "data": {
      "text/plain": "<IPython.core.display.HTML object>",
      "text/html": "Syncing run <strong><a href=\"https://wandb.ai/jonathanweske/RandomForestRegressor/runs/9lbtdfcn\" target=\"_blank\">playful-sweep-1</a></strong> to <a href=\"https://wandb.ai/jonathanweske/RandomForestRegressor\" target=\"_blank\">Weights & Biases</a> (<a href=\"https://wandb.me/run\" target=\"_blank\">docs</a>)<br/>Sweep page:  <a href=\"https://wandb.ai/jonathanweske/RandomForestRegressor/sweeps/y2i1kdi2\" target=\"_blank\">https://wandb.ai/jonathanweske/RandomForestRegressor/sweeps/y2i1kdi2</a>"
     },
     "metadata": {},
     "output_type": "display_data"
    },
    {
     "name": "stderr",
     "output_type": "stream",
     "text": [
      "[Parallel(n_jobs=1)]: Using backend SequentialBackend with 1 concurrent workers.\n"
     ]
    }
   ],
   "source": [
    "from sklearn import metrics\n",
    "import numpy as np\n",
    "from sklearn.metrics import zero_one_loss, accuracy_score\n",
    "from sklearn.model_selection import cross_validate, cross_val_score, GridSearchCV\n",
    "from sklearn.ensemble import RandomForestClassifier, RandomForestRegressor\n",
    "import wandb\n",
    "import wandb\n",
    "\n",
    "sweep_configuration_rfr = {\n",
    "    \"project\": \"RandomForestRegressor\",\n",
    "    \"name\": \"RFR-sweep-inorder-split-scaled\",\n",
    "    \"metric\": {\"name\": \"accuracy\", \"goal\": \"maximize\"},\n",
    "    \"method\": \"random\",\n",
    "    \"parameters\": {\n",
    "        \"n_estimators\": {\n",
    "            \"values\": [int(x) for x in np.linspace(start = 20, stop = 200, num = 10)]\n",
    "        },\n",
    "        \"criterion\": {\n",
    "            \"values\": ['squared_error','absolute_error']\n",
    "        },\n",
    "        \"max_depth\": {\n",
    "            \"values\": [5,10,20,30,40,50,60,70,80,90,100,None]\n",
    "        },\n",
    "        \"bootstrap\": {\n",
    "            \"values\": [True, False]\n",
    "        },\n",
    "        \"max_features\": {\n",
    "            \"values\": ['auto', 'sqrt', 'log2']\n",
    "        },\n",
    "        \"min_samples_leaf\": {\n",
    "            \"values\": [1, 2, 4, 10, 20, 50, 100, 200, 1000]\n",
    "        },\n",
    "        \"min_samples_split\": {\n",
    "            \"values\": [2, 5, 10, 100, 200]\n",
    "        }\n",
    "    }\n",
    "}\n",
    "\n",
    "#[int(x) for x in np.linspace(start = 20, stop = 200, num = 10)]\n",
    "#[5,10,20,30,40,50,60,70,80,90,100,None]\n",
    "\n",
    "def my_train_func():\n",
    "    wandb.init()\n",
    "\n",
    "    _n_estimators = wandb.config.n_estimators\n",
    "    _criterion = wandb.config.criterion\n",
    "    _max_depth = wandb.config.max_depth\n",
    "    _bootstrap = wandb.config.bootstrap\n",
    "    _max_features = wandb.config.max_features\n",
    "    _min_samples_leaf = wandb.config.min_samples_leaf\n",
    "    _min_samples_split = wandb.config.min_samples_split\n",
    "\n",
    "    model = RandomForestRegressor(n_estimators=_n_estimators,\n",
    "                                   criterion=_criterion,\n",
    "                                   max_depth=_max_depth,\n",
    "                                   bootstrap=_bootstrap,\n",
    "                                   max_features=_max_features,\n",
    "                                   min_samples_leaf=_min_samples_leaf,\n",
    "                                   min_samples_split=_min_samples_split,verbose=True)\n",
    "\n",
    "    # fit and predict\n",
    "    model.fit(X_train,y_train.ravel())\n",
    "    y_pred = model.predict(X_test)\n",
    "\n",
    "    score_training = model.score(X_train, y_train.ravel())\n",
    "    score_validation = model.score(X_test, y_test.ravel())\n",
    "    mse = metrics.mean_squared_error(y_test.ravel(),y_pred.ravel())\n",
    "\n",
    "    wandb.log({\"mse\":mse})\n",
    "    wandb.log({\"score_training\": score_training, \"score_validation\": score_validation})\n",
    "\n",
    "\n",
    "# INIT SWEEP\n",
    "sweep_id_rfc = wandb.sweep(sweep_configuration_rfr, project=\"RandomForestRegressor\")\n",
    "# RUN SWEEP\n",
    "wandb.agent(sweep_id_rfc, function=my_train_func)\n"
   ]
  },
  {
   "cell_type": "code",
   "execution_count": null,
   "outputs": [
    {
     "name": "stderr",
     "output_type": "stream",
     "text": [
      "[Parallel(n_jobs=1)]: Using backend SequentialBackend with 1 concurrent workers.\n"
     ]
    }
   ],
   "source": [
    "model = RandomForestRegressor(verbose=True)\n",
    "model.fit(X_train,y_train.ravel())\n",
    "y_pred = model.predict(X_test)\n",
    "\n",
    "score_training = model.score(X_train, y_train.ravel())\n",
    "score_validation = model.score(X_test, y_test.ravel())\n",
    "rmse = metrics.mean_squared_error(y_test.ravel(),y_pred.ravel())\n",
    "acc = zero_one_loss(y_test.ravel(), y_pred.ravel())\n",
    "loss = accuracy_score(y_test.ravel(), y_pred.ravel())\n",
    "\n",
    "print(score_training)\n",
    "print(score_validation)\n",
    "print(rmse)\n",
    "print(acc)\n",
    "print(loss)"
   ],
   "metadata": {
    "collapsed": false,
    "pycharm": {
     "name": "#%%\n",
     "is_executing": true
    }
   }
  },
  {
   "cell_type": "code",
   "execution_count": 9,
   "metadata": {
    "pycharm": {
     "name": "#%%\n"
    }
   },
   "outputs": [],
   "source": []
  },
  {
   "cell_type": "code",
   "execution_count": null,
   "metadata": {
    "pycharm": {
     "name": "#%%\n"
    }
   },
   "outputs": [],
   "source": []
  }
 ],
 "metadata": {
  "kernelspec": {
   "display_name": "Python 3 (ipykernel)",
   "language": "python",
   "name": "python3"
  },
  "language_info": {
   "codemirror_mode": {
    "name": "ipython",
    "version": 3
   },
   "file_extension": ".py",
   "mimetype": "text/x-python",
   "name": "python",
   "nbconvert_exporter": "python",
   "pygments_lexer": "ipython3",
   "version": "3.9.7"
  }
 },
 "nbformat": 4,
 "nbformat_minor": 1
}