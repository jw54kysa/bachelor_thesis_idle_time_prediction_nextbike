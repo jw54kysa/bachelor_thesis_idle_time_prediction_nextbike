{
 "cells": [
  {
   "cell_type": "code",
   "execution_count": 1,
   "metadata": {
    "pycharm": {
     "name": "#%%\n"
    }
   },
   "outputs": [],
   "source": [
    "import pandas as pd\n",
    "from sklearn.model_selection import train_test_split\n",
    "from sklearn import metrics\n",
    "import numpy as np\n",
    "from sklearn.metrics import zero_one_loss, accuracy_score\n",
    "from sklearn.ensemble import RandomForestClassifier, RandomForestRegressor\n",
    "import wandb\n",
    "\n",
    "idle_time_data = pd.read_csv('../data/final_df_points_18_21_class.csv')\n",
    "\n",
    "TargetVariable = ['idle_time']\n",
    "Predictors = ['bike_id', 'lat', 'lng', 'temp', 'rain', 'snow', 'wind_speed', 'humidity', 'dt_start'\n",
    "    , 'hex_enc', 'start_min', 'year', 'month', 'day', 'on_station', 'in_zone', 'zone_name_enc']\n",
    "\n",
    "X = idle_time_data[Predictors].values\n",
    "y = idle_time_data[TargetVariable].values\n",
    "\n",
    "X_train, X_test, y_train, y_test = train_test_split(X, y, train_size=0.8, shuffle=False)"
   ]
  },
  {
   "cell_type": "code",
   "execution_count": 2,
   "outputs": [],
   "source": [
    "sweep_configuration_rfr = {\n",
    "    \"project\": \"RandomForestRegressor\",\n",
    "    \"name\": \"my-awesome-sweep\",\n",
    "    \"metric\": {\"name\": \"accuracy\", \"goal\": \"maximize\"},\n",
    "    \"method\": \"random\",\n",
    "    \"parameters\": {\n",
    "        \"n_estimators\": {\n",
    "            \"values\": [8, 16, 32, 64, 128, 256, 512]\n",
    "        },\n",
    "        \"criterion\": {\n",
    "            \"values\": ['squared_error', 'absolute_error', 'poisson']\n",
    "        },\n",
    "        \"max_depth\": {\n",
    "            \"values\": [2, 3, 4, 5, 6, 7, 8, 9, 10, 20, 30, 40, 50, 60, 70, 80, 90, 100, 120, 140, 160, 180, 200, None]\n",
    "        },\n",
    "        \"bootstrap\": {\n",
    "            \"values\": [True, False]\n",
    "        },\n",
    "        \"max_features\": {\n",
    "            \"values\": ['auto', 'sqrt', 'log2']\n",
    "        },\n",
    "        \"min_samples_leaf\": {\n",
    "            \"values\": [1, 2, 3, 4, 5, 6, 7, 8, 9, 10, 11, 13, 15, 18, 20, 25, 30]\n",
    "        },\n",
    "        \"min_samples_split\": {\n",
    "            \"values\": [2, 3, 4, 5, 6, 7, 8, 9, 10, 11, 13, 15, 18, 20, 25, 30]\n",
    "        }\n",
    "    }\n",
    "}"
   ],
   "metadata": {
    "collapsed": false,
    "pycharm": {
     "name": "#%%\n"
    }
   }
  },
  {
   "cell_type": "code",
   "execution_count": 3,
   "outputs": [],
   "source": [
    "def my_train_func():\n",
    "    wandb.init()\n",
    "\n",
    "    _n_estimators = wandb.config.n_estimators\n",
    "    _criterion = wandb.config.criterion\n",
    "    _max_depth = wandb.config.max_depth\n",
    "    _bootstrap = wandb.config.bootstrap\n",
    "    _max_features = wandb.config.max_features\n",
    "    _min_samples_leaf = wandb.config.min_samples_leaf\n",
    "    _min_samples_split = wandb.config.min_samples_split\n",
    "\n",
    "    model = RandomForestRegressor(n_estimators=_n_estimators,\n",
    "                                  criterion=_criterion,\n",
    "                                  max_depth=_max_depth,\n",
    "                                  bootstrap=_bootstrap,\n",
    "                                  max_features=_max_features,\n",
    "                                  min_samples_leaf=_min_samples_leaf,\n",
    "                                  min_samples_split=_min_samples_split,\n",
    "                                  n_jobs=-1)\n",
    "\n",
    "    model.fit(X_train, y_train.ravel())\n",
    "    y_pred = model.predict(X_test)\n",
    "\n",
    "    score_training = model.score(X_train, y_train.ravel())\n",
    "    score_validation = model.score(X_test, y_test.ravel())\n",
    "    rmse = metrics.mean_squared_error(y_test.ravel(), y_pred.ravel())\n",
    "\n",
    "    wandb.log({\"score_training\": score_training, \"score_validation\": score_validation, \"rmse\": rmse})"
   ],
   "metadata": {
    "collapsed": false,
    "pycharm": {
     "name": "#%%\n"
    }
   }
  },
  {
   "cell_type": "code",
   "execution_count": 4,
   "outputs": [
    {
     "name": "stdout",
     "output_type": "stream",
     "text": [
      "Create sweep with ID: ojmoz3d0\n",
      "Sweep URL: https://wandb.ai/jonathanweske/RandomForestRegressor/sweeps/ojmoz3d0\n"
     ]
    },
    {
     "name": "stderr",
     "output_type": "stream",
     "text": [
      "\u001B[34m\u001B[1mwandb\u001B[0m: Agent Starting Run: yp0c855k with config:\n",
      "\u001B[34m\u001B[1mwandb\u001B[0m: \tbootstrap: True\n",
      "\u001B[34m\u001B[1mwandb\u001B[0m: \tcriterion: squared_error\n",
      "\u001B[34m\u001B[1mwandb\u001B[0m: \tmax_depth: 120\n",
      "\u001B[34m\u001B[1mwandb\u001B[0m: \tmax_features: auto\n",
      "\u001B[34m\u001B[1mwandb\u001B[0m: \tmin_samples_leaf: 18\n",
      "\u001B[34m\u001B[1mwandb\u001B[0m: \tmin_samples_split: 11\n",
      "\u001B[34m\u001B[1mwandb\u001B[0m: \tn_estimators: 512\n",
      "\u001B[34m\u001B[1mwandb\u001B[0m: Currently logged in as: \u001B[33mjonathanweske\u001B[0m (use `wandb login --relogin` to force relogin)\n"
     ]
    },
    {
     "data": {
      "text/plain": "<IPython.core.display.HTML object>",
      "text/html": "wandb version 0.12.14 is available!  To upgrade, please run:\n $ pip install wandb --upgrade"
     },
     "metadata": {},
     "output_type": "display_data"
    },
    {
     "data": {
      "text/plain": "<IPython.core.display.HTML object>",
      "text/html": "Tracking run with wandb version 0.12.11"
     },
     "metadata": {},
     "output_type": "display_data"
    },
    {
     "data": {
      "text/plain": "<IPython.core.display.HTML object>",
      "text/html": "Run data is saved locally in <code>/Users/jonweske/devment/BA_nextbike/scripts/wandb/run-20220411_223417-yp0c855k</code>"
     },
     "metadata": {},
     "output_type": "display_data"
    },
    {
     "data": {
      "text/plain": "<IPython.core.display.HTML object>",
      "text/html": "Syncing run <strong><a href=\"https://wandb.ai/jonathanweske/RandomForestRegressor/runs/yp0c855k\" target=\"_blank\">leafy-sweep-1</a></strong> to <a href=\"https://wandb.ai/jonathanweske/RandomForestRegressor\" target=\"_blank\">Weights & Biases</a> (<a href=\"https://wandb.me/run\" target=\"_blank\">docs</a>)<br/>Sweep page:  <a href=\"https://wandb.ai/jonathanweske/RandomForestRegressor/sweeps/ojmoz3d0\" target=\"_blank\">https://wandb.ai/jonathanweske/RandomForestRegressor/sweeps/ojmoz3d0</a>"
     },
     "metadata": {},
     "output_type": "display_data"
    },
    {
     "name": "stdout",
     "output_type": "stream",
     "text": [
      "\n"
     ]
    },
    {
     "data": {
      "text/plain": "<IPython.core.display.HTML object>",
      "text/html": "Waiting for W&B process to finish... <strong style=\"color:red\">(failed 1).</strong> Press Control-C to abort syncing."
     },
     "metadata": {},
     "output_type": "display_data"
    },
    {
     "data": {
      "text/plain": "VBox(children=(Label(value='0.001 MB of 0.001 MB uploaded (0.000 MB deduped)\\r'), FloatProgress(value=1.0, max…",
      "application/vnd.jupyter.widget-view+json": {
       "version_major": 2,
       "version_minor": 0,
       "model_id": "4890a29b428e415aaf02853e035ad52e"
      }
     },
     "metadata": {},
     "output_type": "display_data"
    },
    {
     "data": {
      "text/plain": "<IPython.core.display.HTML object>",
      "text/html": "Synced <strong style=\"color:#cdcd00\">leafy-sweep-1</strong>: <a href=\"https://wandb.ai/jonathanweske/RandomForestRegressor/runs/yp0c855k\" target=\"_blank\">https://wandb.ai/jonathanweske/RandomForestRegressor/runs/yp0c855k</a><br/>Synced 5 W&B file(s), 0 media file(s), 0 artifact file(s) and 0 other file(s)"
     },
     "metadata": {},
     "output_type": "display_data"
    },
    {
     "data": {
      "text/plain": "<IPython.core.display.HTML object>",
      "text/html": "Find logs at: <code>./wandb/run-20220411_223417-yp0c855k/logs</code>"
     },
     "metadata": {},
     "output_type": "display_data"
    },
    {
     "name": "stderr",
     "output_type": "stream",
     "text": [
      "Run yp0c855k errored: ValueError(\"Classification metrics can't handle a mix of multiclass and continuous targets\")\n",
      "\u001B[34m\u001B[1mwandb\u001B[0m: \u001B[32m\u001B[41mERROR\u001B[0m Run yp0c855k errored: ValueError(\"Classification metrics can't handle a mix of multiclass and continuous targets\")\n",
      "\u001B[34m\u001B[1mwandb\u001B[0m: Agent Starting Run: 4nsdwa0j with config:\n",
      "\u001B[34m\u001B[1mwandb\u001B[0m: \tbootstrap: True\n",
      "\u001B[34m\u001B[1mwandb\u001B[0m: \tcriterion: poisson\n",
      "\u001B[34m\u001B[1mwandb\u001B[0m: \tmax_depth: 5\n",
      "\u001B[34m\u001B[1mwandb\u001B[0m: \tmax_features: auto\n",
      "\u001B[34m\u001B[1mwandb\u001B[0m: \tmin_samples_leaf: 5\n",
      "\u001B[34m\u001B[1mwandb\u001B[0m: \tmin_samples_split: 30\n",
      "\u001B[34m\u001B[1mwandb\u001B[0m: \tn_estimators: 512\n"
     ]
    },
    {
     "data": {
      "text/plain": "<IPython.core.display.HTML object>",
      "text/html": "wandb version 0.12.14 is available!  To upgrade, please run:\n $ pip install wandb --upgrade"
     },
     "metadata": {},
     "output_type": "display_data"
    },
    {
     "data": {
      "text/plain": "<IPython.core.display.HTML object>",
      "text/html": "Tracking run with wandb version 0.12.11"
     },
     "metadata": {},
     "output_type": "display_data"
    },
    {
     "data": {
      "text/plain": "<IPython.core.display.HTML object>",
      "text/html": "Run data is saved locally in <code>/Users/jonweske/devment/BA_nextbike/scripts/wandb/run-20220411_233251-4nsdwa0j</code>"
     },
     "metadata": {},
     "output_type": "display_data"
    },
    {
     "data": {
      "text/plain": "<IPython.core.display.HTML object>",
      "text/html": "Syncing run <strong><a href=\"https://wandb.ai/jonathanweske/RandomForestRegressor/runs/4nsdwa0j\" target=\"_blank\">lucky-sweep-2</a></strong> to <a href=\"https://wandb.ai/jonathanweske/RandomForestRegressor\" target=\"_blank\">Weights & Biases</a> (<a href=\"https://wandb.me/run\" target=\"_blank\">docs</a>)<br/>Sweep page:  <a href=\"https://wandb.ai/jonathanweske/RandomForestRegressor/sweeps/ojmoz3d0\" target=\"_blank\">https://wandb.ai/jonathanweske/RandomForestRegressor/sweeps/ojmoz3d0</a>"
     },
     "metadata": {},
     "output_type": "display_data"
    },
    {
     "name": "stdout",
     "output_type": "stream",
     "text": [
      "\n"
     ]
    },
    {
     "data": {
      "text/plain": "<IPython.core.display.HTML object>",
      "text/html": "Waiting for W&B process to finish... <strong style=\"color:red\">(failed 1).</strong> Press Control-C to abort syncing."
     },
     "metadata": {},
     "output_type": "display_data"
    },
    {
     "data": {
      "text/plain": "VBox(children=(Label(value='0.001 MB of 0.001 MB uploaded (0.000 MB deduped)\\r'), FloatProgress(value=1.0, max…",
      "application/vnd.jupyter.widget-view+json": {
       "version_major": 2,
       "version_minor": 0,
       "model_id": "b5c928b9d1734d0aaf7d8c9a881343a1"
      }
     },
     "metadata": {},
     "output_type": "display_data"
    },
    {
     "data": {
      "text/plain": "<IPython.core.display.HTML object>",
      "text/html": "Synced <strong style=\"color:#cdcd00\">lucky-sweep-2</strong>: <a href=\"https://wandb.ai/jonathanweske/RandomForestRegressor/runs/4nsdwa0j\" target=\"_blank\">https://wandb.ai/jonathanweske/RandomForestRegressor/runs/4nsdwa0j</a><br/>Synced 5 W&B file(s), 0 media file(s), 0 artifact file(s) and 0 other file(s)"
     },
     "metadata": {},
     "output_type": "display_data"
    },
    {
     "data": {
      "text/plain": "<IPython.core.display.HTML object>",
      "text/html": "Find logs at: <code>./wandb/run-20220411_233251-4nsdwa0j/logs</code>"
     },
     "metadata": {},
     "output_type": "display_data"
    },
    {
     "name": "stderr",
     "output_type": "stream",
     "text": [
      "Run 4nsdwa0j errored: ValueError(\"Classification metrics can't handle a mix of multiclass and continuous targets\")\n",
      "\u001B[34m\u001B[1mwandb\u001B[0m: \u001B[32m\u001B[41mERROR\u001B[0m Run 4nsdwa0j errored: ValueError(\"Classification metrics can't handle a mix of multiclass and continuous targets\")\n",
      "\u001B[34m\u001B[1mwandb\u001B[0m: Agent Starting Run: sizmy7qo with config:\n",
      "\u001B[34m\u001B[1mwandb\u001B[0m: \tbootstrap: False\n",
      "\u001B[34m\u001B[1mwandb\u001B[0m: \tcriterion: poisson\n",
      "\u001B[34m\u001B[1mwandb\u001B[0m: \tmax_depth: 7\n",
      "\u001B[34m\u001B[1mwandb\u001B[0m: \tmax_features: auto\n",
      "\u001B[34m\u001B[1mwandb\u001B[0m: \tmin_samples_leaf: 11\n",
      "\u001B[34m\u001B[1mwandb\u001B[0m: \tmin_samples_split: 18\n",
      "\u001B[34m\u001B[1mwandb\u001B[0m: \tn_estimators: 8\n"
     ]
    },
    {
     "data": {
      "text/plain": "<IPython.core.display.HTML object>",
      "text/html": "wandb version 0.12.14 is available!  To upgrade, please run:\n $ pip install wandb --upgrade"
     },
     "metadata": {},
     "output_type": "display_data"
    },
    {
     "data": {
      "text/plain": "<IPython.core.display.HTML object>",
      "text/html": "Tracking run with wandb version 0.12.11"
     },
     "metadata": {},
     "output_type": "display_data"
    },
    {
     "data": {
      "text/plain": "<IPython.core.display.HTML object>",
      "text/html": "Run data is saved locally in <code>/Users/jonweske/devment/BA_nextbike/scripts/wandb/run-20220411_235135-sizmy7qo</code>"
     },
     "metadata": {},
     "output_type": "display_data"
    },
    {
     "data": {
      "text/plain": "<IPython.core.display.HTML object>",
      "text/html": "Syncing run <strong><a href=\"https://wandb.ai/jonathanweske/RandomForestRegressor/runs/sizmy7qo\" target=\"_blank\">winter-sweep-3</a></strong> to <a href=\"https://wandb.ai/jonathanweske/RandomForestRegressor\" target=\"_blank\">Weights & Biases</a> (<a href=\"https://wandb.me/run\" target=\"_blank\">docs</a>)<br/>Sweep page:  <a href=\"https://wandb.ai/jonathanweske/RandomForestRegressor/sweeps/ojmoz3d0\" target=\"_blank\">https://wandb.ai/jonathanweske/RandomForestRegressor/sweeps/ojmoz3d0</a>"
     },
     "metadata": {},
     "output_type": "display_data"
    },
    {
     "name": "stdout",
     "output_type": "stream",
     "text": [
      "\n"
     ]
    },
    {
     "data": {
      "text/plain": "<IPython.core.display.HTML object>",
      "text/html": "Waiting for W&B process to finish... <strong style=\"color:red\">(failed 1).</strong> Press Control-C to abort syncing."
     },
     "metadata": {},
     "output_type": "display_data"
    },
    {
     "data": {
      "text/plain": "VBox(children=(Label(value='0.001 MB of 0.001 MB uploaded (0.000 MB deduped)\\r'), FloatProgress(value=1.0, max…",
      "application/vnd.jupyter.widget-view+json": {
       "version_major": 2,
       "version_minor": 0,
       "model_id": "78bfcce6dd8242d8ba8cbce3881964c4"
      }
     },
     "metadata": {},
     "output_type": "display_data"
    },
    {
     "data": {
      "text/plain": "<IPython.core.display.HTML object>",
      "text/html": "Synced <strong style=\"color:#cdcd00\">winter-sweep-3</strong>: <a href=\"https://wandb.ai/jonathanweske/RandomForestRegressor/runs/sizmy7qo\" target=\"_blank\">https://wandb.ai/jonathanweske/RandomForestRegressor/runs/sizmy7qo</a><br/>Synced 5 W&B file(s), 0 media file(s), 0 artifact file(s) and 0 other file(s)"
     },
     "metadata": {},
     "output_type": "display_data"
    },
    {
     "data": {
      "text/plain": "<IPython.core.display.HTML object>",
      "text/html": "Find logs at: <code>./wandb/run-20220411_235135-sizmy7qo/logs</code>"
     },
     "metadata": {},
     "output_type": "display_data"
    },
    {
     "name": "stderr",
     "output_type": "stream",
     "text": [
      "Run sizmy7qo errored: ValueError(\"Classification metrics can't handle a mix of multiclass and continuous targets\")\n",
      "\u001B[34m\u001B[1mwandb\u001B[0m: \u001B[32m\u001B[41mERROR\u001B[0m Run sizmy7qo errored: ValueError(\"Classification metrics can't handle a mix of multiclass and continuous targets\")\n",
      "\u001B[34m\u001B[1mwandb\u001B[0m: Agent Starting Run: v8h72z6z with config:\n",
      "\u001B[34m\u001B[1mwandb\u001B[0m: \tbootstrap: True\n",
      "\u001B[34m\u001B[1mwandb\u001B[0m: \tcriterion: poisson\n",
      "\u001B[34m\u001B[1mwandb\u001B[0m: \tmax_depth: 3\n",
      "\u001B[34m\u001B[1mwandb\u001B[0m: \tmax_features: log2\n",
      "\u001B[34m\u001B[1mwandb\u001B[0m: \tmin_samples_leaf: 10\n",
      "\u001B[34m\u001B[1mwandb\u001B[0m: \tmin_samples_split: 11\n",
      "\u001B[34m\u001B[1mwandb\u001B[0m: \tn_estimators: 256\n"
     ]
    },
    {
     "data": {
      "text/plain": "<IPython.core.display.HTML object>",
      "text/html": "wandb version 0.12.14 is available!  To upgrade, please run:\n $ pip install wandb --upgrade"
     },
     "metadata": {},
     "output_type": "display_data"
    },
    {
     "data": {
      "text/plain": "<IPython.core.display.HTML object>",
      "text/html": "Tracking run with wandb version 0.12.11"
     },
     "metadata": {},
     "output_type": "display_data"
    },
    {
     "data": {
      "text/plain": "<IPython.core.display.HTML object>",
      "text/html": "Run data is saved locally in <code>/Users/jonweske/devment/BA_nextbike/scripts/wandb/run-20220411_235232-v8h72z6z</code>"
     },
     "metadata": {},
     "output_type": "display_data"
    },
    {
     "data": {
      "text/plain": "<IPython.core.display.HTML object>",
      "text/html": "Syncing run <strong><a href=\"https://wandb.ai/jonathanweske/RandomForestRegressor/runs/v8h72z6z\" target=\"_blank\">eager-sweep-4</a></strong> to <a href=\"https://wandb.ai/jonathanweske/RandomForestRegressor\" target=\"_blank\">Weights & Biases</a> (<a href=\"https://wandb.me/run\" target=\"_blank\">docs</a>)<br/>Sweep page:  <a href=\"https://wandb.ai/jonathanweske/RandomForestRegressor/sweeps/ojmoz3d0\" target=\"_blank\">https://wandb.ai/jonathanweske/RandomForestRegressor/sweeps/ojmoz3d0</a>"
     },
     "metadata": {},
     "output_type": "display_data"
    },
    {
     "name": "stdout",
     "output_type": "stream",
     "text": [
      "\n"
     ]
    },
    {
     "data": {
      "text/plain": "<IPython.core.display.HTML object>",
      "text/html": "Waiting for W&B process to finish... <strong style=\"color:red\">(failed 1).</strong> Press Control-C to abort syncing."
     },
     "metadata": {},
     "output_type": "display_data"
    },
    {
     "data": {
      "text/plain": "VBox(children=(Label(value='0.001 MB of 0.001 MB uploaded (0.000 MB deduped)\\r'), FloatProgress(value=1.0, max…",
      "application/vnd.jupyter.widget-view+json": {
       "version_major": 2,
       "version_minor": 0,
       "model_id": "305512394ee447c8a5297395912bedea"
      }
     },
     "metadata": {},
     "output_type": "display_data"
    },
    {
     "data": {
      "text/plain": "<IPython.core.display.HTML object>",
      "text/html": "Synced <strong style=\"color:#cdcd00\">eager-sweep-4</strong>: <a href=\"https://wandb.ai/jonathanweske/RandomForestRegressor/runs/v8h72z6z\" target=\"_blank\">https://wandb.ai/jonathanweske/RandomForestRegressor/runs/v8h72z6z</a><br/>Synced 5 W&B file(s), 0 media file(s), 0 artifact file(s) and 0 other file(s)"
     },
     "metadata": {},
     "output_type": "display_data"
    },
    {
     "data": {
      "text/plain": "<IPython.core.display.HTML object>",
      "text/html": "Find logs at: <code>./wandb/run-20220411_235232-v8h72z6z/logs</code>"
     },
     "metadata": {},
     "output_type": "display_data"
    },
    {
     "name": "stderr",
     "output_type": "stream",
     "text": [
      "Run v8h72z6z errored: ValueError(\"Classification metrics can't handle a mix of multiclass and continuous targets\")\n",
      "\u001B[34m\u001B[1mwandb\u001B[0m: \u001B[32m\u001B[41mERROR\u001B[0m Run v8h72z6z errored: ValueError(\"Classification metrics can't handle a mix of multiclass and continuous targets\")\n",
      "\u001B[34m\u001B[1mwandb\u001B[0m: Sweep Agent: Waiting for job.\n",
      "\u001B[34m\u001B[1mwandb\u001B[0m: Job received.\n",
      "\u001B[34m\u001B[1mwandb\u001B[0m: Agent Starting Run: 2ubjpwoa with config:\n",
      "\u001B[34m\u001B[1mwandb\u001B[0m: \tbootstrap: False\n",
      "\u001B[34m\u001B[1mwandb\u001B[0m: \tcriterion: squared_error\n",
      "\u001B[34m\u001B[1mwandb\u001B[0m: \tmax_depth: 20\n",
      "\u001B[34m\u001B[1mwandb\u001B[0m: \tmax_features: log2\n",
      "\u001B[34m\u001B[1mwandb\u001B[0m: \tmin_samples_leaf: 2\n",
      "\u001B[34m\u001B[1mwandb\u001B[0m: \tmin_samples_split: 20\n",
      "\u001B[34m\u001B[1mwandb\u001B[0m: \tn_estimators: 128\n"
     ]
    },
    {
     "data": {
      "text/plain": "<IPython.core.display.HTML object>",
      "text/html": "wandb version 0.12.14 is available!  To upgrade, please run:\n $ pip install wandb --upgrade"
     },
     "metadata": {},
     "output_type": "display_data"
    },
    {
     "data": {
      "text/plain": "<IPython.core.display.HTML object>",
      "text/html": "Tracking run with wandb version 0.12.11"
     },
     "metadata": {},
     "output_type": "display_data"
    },
    {
     "data": {
      "text/plain": "<IPython.core.display.HTML object>",
      "text/html": "Run data is saved locally in <code>/Users/jonweske/devment/BA_nextbike/scripts/wandb/run-20220411_235450-2ubjpwoa</code>"
     },
     "metadata": {},
     "output_type": "display_data"
    },
    {
     "data": {
      "text/plain": "<IPython.core.display.HTML object>",
      "text/html": "Syncing run <strong><a href=\"https://wandb.ai/jonathanweske/RandomForestRegressor/runs/2ubjpwoa\" target=\"_blank\">silvery-sweep-5</a></strong> to <a href=\"https://wandb.ai/jonathanweske/RandomForestRegressor\" target=\"_blank\">Weights & Biases</a> (<a href=\"https://wandb.me/run\" target=\"_blank\">docs</a>)<br/>Sweep page:  <a href=\"https://wandb.ai/jonathanweske/RandomForestRegressor/sweeps/ojmoz3d0\" target=\"_blank\">https://wandb.ai/jonathanweske/RandomForestRegressor/sweeps/ojmoz3d0</a>"
     },
     "metadata": {},
     "output_type": "display_data"
    },
    {
     "name": "stdout",
     "output_type": "stream",
     "text": [
      "\n"
     ]
    },
    {
     "data": {
      "text/plain": "<IPython.core.display.HTML object>",
      "text/html": "Waiting for W&B process to finish... <strong style=\"color:red\">(failed 1).</strong> Press Control-C to abort syncing."
     },
     "metadata": {},
     "output_type": "display_data"
    },
    {
     "data": {
      "text/plain": "VBox(children=(Label(value='0.001 MB of 0.001 MB uploaded (0.000 MB deduped)\\r'), FloatProgress(value=1.0, max…",
      "application/vnd.jupyter.widget-view+json": {
       "version_major": 2,
       "version_minor": 0,
       "model_id": "155f03aa402148f88782eebeec96ca87"
      }
     },
     "metadata": {},
     "output_type": "display_data"
    },
    {
     "data": {
      "text/plain": "<IPython.core.display.HTML object>",
      "text/html": "Synced <strong style=\"color:#cdcd00\">silvery-sweep-5</strong>: <a href=\"https://wandb.ai/jonathanweske/RandomForestRegressor/runs/2ubjpwoa\" target=\"_blank\">https://wandb.ai/jonathanweske/RandomForestRegressor/runs/2ubjpwoa</a><br/>Synced 5 W&B file(s), 0 media file(s), 0 artifact file(s) and 0 other file(s)"
     },
     "metadata": {},
     "output_type": "display_data"
    },
    {
     "data": {
      "text/plain": "<IPython.core.display.HTML object>",
      "text/html": "Find logs at: <code>./wandb/run-20220411_235450-2ubjpwoa/logs</code>"
     },
     "metadata": {},
     "output_type": "display_data"
    },
    {
     "name": "stderr",
     "output_type": "stream",
     "text": [
      "Run 2ubjpwoa errored: ValueError(\"Classification metrics can't handle a mix of multiclass and continuous targets\")\n",
      "\u001B[34m\u001B[1mwandb\u001B[0m: \u001B[32m\u001B[41mERROR\u001B[0m Run 2ubjpwoa errored: ValueError(\"Classification metrics can't handle a mix of multiclass and continuous targets\")\n",
      "\u001B[34m\u001B[1mwandb\u001B[0m: Agent Starting Run: gtkja29h with config:\n",
      "\u001B[34m\u001B[1mwandb\u001B[0m: \tbootstrap: False\n",
      "\u001B[34m\u001B[1mwandb\u001B[0m: \tcriterion: squared_error\n",
      "\u001B[34m\u001B[1mwandb\u001B[0m: \tmax_depth: None\n",
      "\u001B[34m\u001B[1mwandb\u001B[0m: \tmax_features: auto\n",
      "\u001B[34m\u001B[1mwandb\u001B[0m: \tmin_samples_leaf: 8\n",
      "\u001B[34m\u001B[1mwandb\u001B[0m: \tmin_samples_split: 30\n",
      "\u001B[34m\u001B[1mwandb\u001B[0m: \tn_estimators: 64\n"
     ]
    },
    {
     "data": {
      "text/plain": "<IPython.core.display.HTML object>",
      "text/html": "wandb version 0.12.14 is available!  To upgrade, please run:\n $ pip install wandb --upgrade"
     },
     "metadata": {},
     "output_type": "display_data"
    },
    {
     "data": {
      "text/plain": "<IPython.core.display.HTML object>",
      "text/html": "Tracking run with wandb version 0.12.11"
     },
     "metadata": {},
     "output_type": "display_data"
    },
    {
     "data": {
      "text/plain": "<IPython.core.display.HTML object>",
      "text/html": "Run data is saved locally in <code>/Users/jonweske/devment/BA_nextbike/scripts/wandb/run-20220412_000000-gtkja29h</code>"
     },
     "metadata": {},
     "output_type": "display_data"
    },
    {
     "data": {
      "text/plain": "<IPython.core.display.HTML object>",
      "text/html": "Syncing run <strong><a href=\"https://wandb.ai/jonathanweske/RandomForestRegressor/runs/gtkja29h\" target=\"_blank\">driven-sweep-6</a></strong> to <a href=\"https://wandb.ai/jonathanweske/RandomForestRegressor\" target=\"_blank\">Weights & Biases</a> (<a href=\"https://wandb.me/run\" target=\"_blank\">docs</a>)<br/>Sweep page:  <a href=\"https://wandb.ai/jonathanweske/RandomForestRegressor/sweeps/ojmoz3d0\" target=\"_blank\">https://wandb.ai/jonathanweske/RandomForestRegressor/sweeps/ojmoz3d0</a>"
     },
     "metadata": {},
     "output_type": "display_data"
    },
    {
     "name": "stdout",
     "output_type": "stream",
     "text": [
      "\n"
     ]
    },
    {
     "data": {
      "text/plain": "<IPython.core.display.HTML object>",
      "text/html": "Waiting for W&B process to finish... <strong style=\"color:red\">(failed 1).</strong> Press Control-C to abort syncing."
     },
     "metadata": {},
     "output_type": "display_data"
    },
    {
     "data": {
      "text/plain": "VBox(children=(Label(value='0.001 MB of 0.001 MB uploaded (0.000 MB deduped)\\r'), FloatProgress(value=1.0, max…",
      "application/vnd.jupyter.widget-view+json": {
       "version_major": 2,
       "version_minor": 0,
       "model_id": "8cbc89b39dbd48d58e783d8e4fc6cd0e"
      }
     },
     "metadata": {},
     "output_type": "display_data"
    },
    {
     "data": {
      "text/plain": "<IPython.core.display.HTML object>",
      "text/html": "Synced <strong style=\"color:#cdcd00\">driven-sweep-6</strong>: <a href=\"https://wandb.ai/jonathanweske/RandomForestRegressor/runs/gtkja29h\" target=\"_blank\">https://wandb.ai/jonathanweske/RandomForestRegressor/runs/gtkja29h</a><br/>Synced 5 W&B file(s), 0 media file(s), 0 artifact file(s) and 0 other file(s)"
     },
     "metadata": {},
     "output_type": "display_data"
    },
    {
     "data": {
      "text/plain": "<IPython.core.display.HTML object>",
      "text/html": "Find logs at: <code>./wandb/run-20220412_000000-gtkja29h/logs</code>"
     },
     "metadata": {},
     "output_type": "display_data"
    },
    {
     "name": "stderr",
     "output_type": "stream",
     "text": [
      "Run gtkja29h errored: ValueError(\"Classification metrics can't handle a mix of multiclass and continuous targets\")\n",
      "\u001B[34m\u001B[1mwandb\u001B[0m: \u001B[32m\u001B[41mERROR\u001B[0m Run gtkja29h errored: ValueError(\"Classification metrics can't handle a mix of multiclass and continuous targets\")\n",
      "Detected 5 failed runs in a row at start, killing sweep.\n",
      "\u001B[34m\u001B[1mwandb\u001B[0m: \u001B[32m\u001B[41mERROR\u001B[0m Detected 5 failed runs in a row at start, killing sweep.\n",
      "\u001B[34m\u001B[1mwandb\u001B[0m: To change this value set WANDB_AGENT_MAX_INITIAL_FAILURES=val\n"
     ]
    }
   ],
   "source": [
    "# INIT SWEEP\n",
    "sweep_id_rfc = wandb.sweep(sweep_configuration_rfr, project=\"RandomForestRegressor\")\n",
    "# RUN SWEEP\n",
    "wandb.agent(sweep_id_rfc, function=my_train_func)"
   ],
   "metadata": {
    "collapsed": false,
    "pycharm": {
     "name": "#%%\n"
    }
   }
  },
  {
   "cell_type": "code",
   "execution_count": null,
   "outputs": [],
   "source": [],
   "metadata": {
    "collapsed": false,
    "pycharm": {
     "name": "#%%\n"
    }
   }
  }
 ],
 "metadata": {
  "kernelspec": {
   "display_name": "Python 3 (ipykernel)",
   "language": "python",
   "name": "python3"
  },
  "language_info": {
   "codemirror_mode": {
    "name": "ipython",
    "version": 3
   },
   "file_extension": ".py",
   "mimetype": "text/x-python",
   "name": "python",
   "nbconvert_exporter": "python",
   "pygments_lexer": "ipython3",
   "version": "3.9.7"
  }
 },
 "nbformat": 4,
 "nbformat_minor": 1
}