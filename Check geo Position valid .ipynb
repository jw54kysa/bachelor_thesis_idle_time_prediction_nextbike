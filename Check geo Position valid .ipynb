{
 "cells": [
  {
   "cell_type": "markdown",
   "id": "06baac0b",
   "metadata": {},
   "source": [
    "# Check if Geo Position is valid\n",
    "## out of MyDfs Map \n",
    "### compare endpoint with next startpoint "
   ]
  },
  {
   "cell_type": "code",
   "execution_count": 17,
   "id": "2bc3e11b",
   "metadata": {},
   "outputs": [],
   "source": [
    "def importMyDFsDic():\n",
    "    with open('saved_myDfs.pkl', 'rb') as f:\n",
    "        myDfs = pickle.load(f)\n",
    "    return myDfs"
   ]
  },
  {
   "cell_type": "code",
   "execution_count": 18,
   "id": "26eda675",
   "metadata": {},
   "outputs": [],
   "source": [
    "def diff(Elat, Elng, Slat, Slng):\n",
    "    xdiff = abs(round(Elat,5)-round(Slat,5)) * 100000\n",
    "    ydiff = abs(round(Elng,5)-round(Slng,5)) * 100000\n",
    "    #print(f\"{xdiff} und {ydiff}\")\n",
    "    return xdiff,ydiff"
   ]
  },
  {
   "cell_type": "code",
   "execution_count": 32,
   "id": "5513cf30",
   "metadata": {},
   "outputs": [],
   "source": [
    "def checktime(myDfs):\n",
    "    for df in tqdm(myDfs.values()):\n",
    "        for ind in df.index[1:]:\n",
    "            x = df['start_time'][ind] - df['end_time'][ind-1]\n",
    "            if x <= 0:\n",
    "                print(\"false\" + str(x))\n",
    "                print(df.loc[[ind]])"
   ]
  },
  {
   "cell_type": "code",
   "execution_count": 33,
   "id": "cacecbc8",
   "metadata": {},
   "outputs": [],
   "source": [
    "def checkgeo(myDfs,radius):\n",
    "    inval = 0\n",
    "    val = 0 \n",
    "    \n",
    "    for df in tqdm(myDfs.values()):\n",
    "        for ind in df.index[1:]:\n",
    "            xdiff, ydiff = diff(df['end_lat'][ind-1], df['end_lng'][ind-1], df['start_lat'][ind], df['start_lng'][ind])\n",
    "            if xdiff > radius or ydiff > radius:\n",
    "                inval +=1\n",
    "            val +=1\n",
    "    print(f\"invalides: {inval} from {val} thats {inval/val * 100} %\")"
   ]
  },
  {
   "cell_type": "code",
   "execution_count": 35,
   "id": "2a922153",
   "metadata": {},
   "outputs": [
    {
     "name": "stderr",
     "output_type": "stream",
     "text": [
      "100%|█████████████████████████████████████████████████████████████████████████████████████████████████████████████████████████████████████████████████████████████████████████████████████████████████████| 1210/1210 [00:21<00:00, 55.04it/s]\n"
     ]
    },
    {
     "name": "stdout",
     "output_type": "stream",
     "text": [
      "invalides: 62459 from 603388 thats 10.351382526666091 %\n"
     ]
    },
    {
     "name": "stderr",
     "output_type": "stream",
     "text": [
      "100%|█████████████████████████████████████████████████████████████████████████████████████████████████████████████████████████████████████████████████████████████████████████████████████████████████████| 1210/1210 [00:21<00:00, 55.74it/s]\n"
     ]
    },
    {
     "name": "stdout",
     "output_type": "stream",
     "text": [
      "invalides: 52489 from 603388 thats 8.699046053285779 %\n"
     ]
    },
    {
     "name": "stderr",
     "output_type": "stream",
     "text": [
      "100%|█████████████████████████████████████████████████████████████████████████████████████████████████████████████████████████████████████████████████████████████████████████████████████████████████████| 1210/1210 [00:21<00:00, 55.89it/s]"
     ]
    },
    {
     "name": "stdout",
     "output_type": "stream",
     "text": [
      "invalides: 45048 from 603388 thats 7.465842873905348 %\n"
     ]
    },
    {
     "name": "stderr",
     "output_type": "stream",
     "text": [
      "\n"
     ]
    }
   ],
   "source": [
    "from keplergl import KeplerGl\n",
    "import pandas as pd\n",
    "pd.options.mode.chained_assignment = None\n",
    "from tqdm import tqdm\n",
    "import pickle\n",
    "\n",
    "\n",
    "myDfs = importMyDFsDic()\n",
    "\n",
    "#checktime(myDfs)\n",
    "\n",
    "# check geo location is valid ?\n",
    "# get perfect radius\n",
    "checkgeo(myDfs,10)\n",
    "checkgeo(myDfs,20)\n",
    "checkgeo(myDfs,30)\n",
    "\n"
   ]
  },
  {
   "cell_type": "code",
   "execution_count": null,
   "id": "87fe2a4c",
   "metadata": {},
   "outputs": [],
   "source": []
  },
  {
   "cell_type": "code",
   "execution_count": null,
   "id": "aebedb85",
   "metadata": {},
   "outputs": [],
   "source": []
  }
 ],
 "metadata": {
  "kernelspec": {
   "display_name": "Python 3 (ipykernel)",
   "language": "python",
   "name": "python3"
  },
  "language_info": {
   "codemirror_mode": {
    "name": "ipython",
    "version": 3
   },
   "file_extension": ".py",
   "mimetype": "text/x-python",
   "name": "python",
   "nbconvert_exporter": "python",
   "pygments_lexer": "ipython3",
   "version": "3.9.7"
  }
 },
 "nbformat": 4,
 "nbformat_minor": 5
}
