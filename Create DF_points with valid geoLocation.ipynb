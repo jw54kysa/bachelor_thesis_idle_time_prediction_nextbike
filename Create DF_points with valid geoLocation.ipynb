{
 "cells": [
  {
   "cell_type": "markdown",
   "id": "14319a45",
   "metadata": {},
   "source": [
    "# Create df_points with valid geo Location\n",
    "## from myDfs File"
   ]
  },
  {
   "cell_type": "code",
   "execution_count": 1,
   "id": "3dc7e583",
   "metadata": {},
   "outputs": [],
   "source": [
    "def importMyDFsDic():\n",
    "    with open('saved_myDfs.pkl', 'rb') as f:\n",
    "        myDfs = pickle.load(f)\n",
    "    return myDfs"
   ]
  },
  {
   "cell_type": "code",
   "execution_count": 2,
   "id": "0f06972e",
   "metadata": {},
   "outputs": [],
   "source": [
    "def diff(Elat, Elng, Slat, Slng):\n",
    "    xdiff = abs(round(Elat,8)-round(Slat,8)) * 100000\n",
    "    ydiff = abs(round(Elng,8)-round(Slng,8)) * 100000\n",
    "    #print(f\"{xdiff} und {ydiff}\")\n",
    "    return xdiff,ydiff"
   ]
  },
  {
   "cell_type": "code",
   "execution_count": 3,
   "id": "92159b5e",
   "metadata": {},
   "outputs": [],
   "source": [
    "def dfPoints(myDFs,radius):\n",
    "    # DF of all points with stoodtime\n",
    "    inval = 0\n",
    "    val = 0 \n",
    "    \n",
    "    df_points = pd.DataFrame(columns=['bike_id', 'lat', 'lng', 'timestood', 'time_start', 'time_end'])\n",
    "    df_points[['bike_id', 'timestood', 'time_start', 'time_end']] = df_points[['bike_id', 'timestood', 'time_start', 'time_end']].astype(int)\n",
    "    df_points[['lng', 'lat']] = df_points[['lng', 'lat']].astype(float)\n",
    "    \n",
    "    for df in tqdm(myDFs.values()):\n",
    "        for ind in df.index[1:]:\n",
    "            #in SECOUNDS\n",
    "            timestood = (df['start_time'][ind] - df['end_time'][ind - 1]).astype(int)\n",
    "            xdiff, ydiff = diff(df['end_lat'][ind-1], df['end_lng'][ind-1], df['start_lat'][ind], df['start_lng'][ind])\n",
    "            if xdiff > radius or ydiff > radius:\n",
    "                inval +=1\n",
    "                continue\n",
    "            val +=1\n",
    "            dict = {'bike_id': df['bike_id'][ind], 'lng': df['start_lng'][ind], 'lat': df['start_lat'][ind],\n",
    "                    'timestood': timestood, 'time_start': df['end_time'][ind - 1], 'time_end': df['start_time'][ind]}\n",
    "            df_points = df_points.append(dict, ignore_index=True)\n",
    "    print(f\"invalides: {inval} from {val} thats {inval/val * 100} %\")\n",
    "    return df_points"
   ]
  },
  {
   "cell_type": "code",
   "execution_count": null,
   "id": "08d4bd67",
   "metadata": {},
   "outputs": [],
   "source": []
  },
  {
   "cell_type": "markdown",
   "id": "d34291e8",
   "metadata": {},
   "source": [
    "# Main"
   ]
  },
  {
   "cell_type": "code",
   "execution_count": null,
   "id": "372487c7",
   "metadata": {},
   "outputs": [],
   "source": [
    "df_points = dfPoints(myDfs,20)"
   ]
  }
 ],
 "metadata": {
  "kernelspec": {
   "display_name": "Python 3 (ipykernel)",
   "language": "python",
   "name": "python3"
  },
  "language_info": {
   "codemirror_mode": {
    "name": "ipython",
    "version": 3
   },
   "file_extension": ".py",
   "mimetype": "text/x-python",
   "name": "python",
   "nbconvert_exporter": "python",
   "pygments_lexer": "ipython3",
   "version": "3.9.7"
  }
 },
 "nbformat": 4,
 "nbformat_minor": 5
}
